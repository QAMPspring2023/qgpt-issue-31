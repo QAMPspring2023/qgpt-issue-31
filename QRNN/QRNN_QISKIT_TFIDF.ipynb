{
 "cells": [
  {
   "cell_type": "code",
   "execution_count": 1,
   "metadata": {
    "colab": {
     "base_uri": "https://localhost:8080/"
    },
    "id": "JR7DHQg4yCjB",
    "outputId": "c51fa300-b91d-4442-d6c0-461fcf87fa8e",
    "scrolled": true,
    "tags": []
   },
   "outputs": [
    {
     "name": "stdout",
     "output_type": "stream",
     "text": [
      "Requirement already satisfied: qiskit in /opt/conda/lib/python3.10/site-packages (0.43.3)\n",
      "Requirement already satisfied: qiskit-terra==0.24.2 in /opt/conda/lib/python3.10/site-packages (from qiskit) (0.24.2)\n",
      "Requirement already satisfied: qiskit-aer==0.12.2 in /opt/conda/lib/python3.10/site-packages (from qiskit) (0.12.2)\n",
      "Requirement already satisfied: qiskit-ibmq-provider==0.20.2 in /opt/conda/lib/python3.10/site-packages (from qiskit) (0.20.2)\n",
      "Requirement already satisfied: numpy>=1.16.3 in /opt/conda/lib/python3.10/site-packages (from qiskit-aer==0.12.2->qiskit) (1.23.5)\n",
      "Requirement already satisfied: scipy>=1.0 in /opt/conda/lib/python3.10/site-packages (from qiskit-aer==0.12.2->qiskit) (1.9.3)\n",
      "Requirement already satisfied: requests>=2.19 in /opt/conda/lib/python3.10/site-packages (from qiskit-ibmq-provider==0.20.2->qiskit) (2.28.1)\n",
      "Requirement already satisfied: websockets>=10.0 in /opt/conda/lib/python3.10/site-packages (from qiskit-ibmq-provider==0.20.2->qiskit) (10.4)\n",
      "Requirement already satisfied: python-dateutil>=2.8.0 in /opt/conda/lib/python3.10/site-packages (from qiskit-ibmq-provider==0.20.2->qiskit) (2.8.2)\n",
      "Requirement already satisfied: websocket-client>=1.5.1 in /opt/conda/lib/python3.10/site-packages (from qiskit-ibmq-provider==0.20.2->qiskit) (1.5.3)\n",
      "Requirement already satisfied: requests-ntlm<=1.1.0 in /opt/conda/lib/python3.10/site-packages (from qiskit-ibmq-provider==0.20.2->qiskit) (1.1.0)\n",
      "Requirement already satisfied: urllib3>=1.21.1 in /opt/conda/lib/python3.10/site-packages (from qiskit-ibmq-provider==0.20.2->qiskit) (1.26.13)\n",
      "Requirement already satisfied: stevedore>=3.0.0 in /opt/conda/lib/python3.10/site-packages (from qiskit-terra==0.24.2->qiskit) (4.1.1)\n",
      "Requirement already satisfied: ply>=3.10 in /opt/conda/lib/python3.10/site-packages (from qiskit-terra==0.24.2->qiskit) (3.11)\n",
      "Requirement already satisfied: sympy>=1.3 in /opt/conda/lib/python3.10/site-packages (from qiskit-terra==0.24.2->qiskit) (1.11.1)\n",
      "Requirement already satisfied: rustworkx>=0.12.0 in /opt/conda/lib/python3.10/site-packages (from qiskit-terra==0.24.2->qiskit) (0.12.1)\n",
      "Requirement already satisfied: psutil>=5 in /opt/conda/lib/python3.10/site-packages (from qiskit-terra==0.24.2->qiskit) (5.9.4)\n",
      "Requirement already satisfied: dill>=0.3 in /opt/conda/lib/python3.10/site-packages (from qiskit-terra==0.24.2->qiskit) (0.3.7)\n",
      "Requirement already satisfied: symengine<0.10,>=0.9 in /opt/conda/lib/python3.10/site-packages (from qiskit-terra==0.24.2->qiskit) (0.9.2)\n",
      "Requirement already satisfied: six>=1.5 in /opt/conda/lib/python3.10/site-packages (from python-dateutil>=2.8.0->qiskit-ibmq-provider==0.20.2->qiskit) (1.16.0)\n",
      "Requirement already satisfied: idna<4,>=2.5 in /opt/conda/lib/python3.10/site-packages (from requests>=2.19->qiskit-ibmq-provider==0.20.2->qiskit) (3.4)\n",
      "Requirement already satisfied: charset-normalizer<3,>=2 in /opt/conda/lib/python3.10/site-packages (from requests>=2.19->qiskit-ibmq-provider==0.20.2->qiskit) (2.1.1)\n",
      "Requirement already satisfied: certifi>=2017.4.17 in /opt/conda/lib/python3.10/site-packages (from requests>=2.19->qiskit-ibmq-provider==0.20.2->qiskit) (2022.9.24)\n",
      "Requirement already satisfied: cryptography>=1.3 in /opt/conda/lib/python3.10/site-packages (from requests-ntlm<=1.1.0->qiskit-ibmq-provider==0.20.2->qiskit) (38.0.4)\n",
      "Requirement already satisfied: ntlm-auth>=1.0.2 in /opt/conda/lib/python3.10/site-packages (from requests-ntlm<=1.1.0->qiskit-ibmq-provider==0.20.2->qiskit) (1.5.0)\n",
      "Requirement already satisfied: pbr!=2.1.0,>=2.0.0 in /opt/conda/lib/python3.10/site-packages (from stevedore>=3.0.0->qiskit-terra==0.24.2->qiskit) (5.11.1)\n",
      "Requirement already satisfied: mpmath>=0.19 in /opt/conda/lib/python3.10/site-packages (from sympy>=1.3->qiskit-terra==0.24.2->qiskit) (1.2.1)\n",
      "Requirement already satisfied: cffi>=1.12 in /opt/conda/lib/python3.10/site-packages (from cryptography>=1.3->requests-ntlm<=1.1.0->qiskit-ibmq-provider==0.20.2->qiskit) (1.15.1)\n",
      "Requirement already satisfied: pycparser in /opt/conda/lib/python3.10/site-packages (from cffi>=1.12->cryptography>=1.3->requests-ntlm<=1.1.0->qiskit-ibmq-provider==0.20.2->qiskit) (2.21)\n",
      "\n",
      "\u001b[1m[\u001b[0m\u001b[34;49mnotice\u001b[0m\u001b[1;39;49m]\u001b[0m\u001b[39;49m A new release of pip available: \u001b[0m\u001b[31;49m23.1.1\u001b[0m\u001b[39;49m -> \u001b[0m\u001b[32;49m23.2.1\u001b[0m\n",
      "\u001b[1m[\u001b[0m\u001b[34;49mnotice\u001b[0m\u001b[1;39;49m]\u001b[0m\u001b[39;49m To update, run: \u001b[0m\u001b[32;49mpip install --upgrade pip\u001b[0m\n",
      "Requirement already satisfied: pylatexenc in /opt/conda/lib/python3.10/site-packages (2.10)\n",
      "\n",
      "\u001b[1m[\u001b[0m\u001b[34;49mnotice\u001b[0m\u001b[1;39;49m]\u001b[0m\u001b[39;49m A new release of pip available: \u001b[0m\u001b[31;49m23.1.1\u001b[0m\u001b[39;49m -> \u001b[0m\u001b[32;49m23.2.1\u001b[0m\n",
      "\u001b[1m[\u001b[0m\u001b[34;49mnotice\u001b[0m\u001b[1;39;49m]\u001b[0m\u001b[39;49m To update, run: \u001b[0m\u001b[32;49mpip install --upgrade pip\u001b[0m\n",
      "Collecting qiskit.ignis\n",
      "  Using cached qiskit_ignis-0.7.1-py3-none-any.whl (198 kB)\n",
      "Requirement already satisfied: numpy>=1.13 in /opt/conda/lib/python3.10/site-packages (from qiskit.ignis) (1.23.5)\n",
      "Requirement already satisfied: retworkx>=0.8.0 in /opt/conda/lib/python3.10/site-packages (from qiskit.ignis) (0.12.1)\n",
      "Requirement already satisfied: scipy!=0.19.1,>=0.19 in /opt/conda/lib/python3.10/site-packages (from qiskit.ignis) (1.9.3)\n",
      "Requirement already satisfied: qiskit-terra>=0.15.1 in /opt/conda/lib/python3.10/site-packages (from qiskit.ignis) (0.24.2)\n",
      "Requirement already satisfied: setuptools>=40.1.0 in /opt/conda/lib/python3.10/site-packages (from qiskit.ignis) (67.7.2)\n",
      "Requirement already satisfied: rustworkx>=0.12.0 in /opt/conda/lib/python3.10/site-packages (from qiskit-terra>=0.15.1->qiskit.ignis) (0.12.1)\n",
      "Requirement already satisfied: dill>=0.3 in /opt/conda/lib/python3.10/site-packages (from qiskit-terra>=0.15.1->qiskit.ignis) (0.3.7)\n",
      "Requirement already satisfied: psutil>=5 in /opt/conda/lib/python3.10/site-packages (from qiskit-terra>=0.15.1->qiskit.ignis) (5.9.4)\n",
      "Requirement already satisfied: ply>=3.10 in /opt/conda/lib/python3.10/site-packages (from qiskit-terra>=0.15.1->qiskit.ignis) (3.11)\n",
      "Requirement already satisfied: sympy>=1.3 in /opt/conda/lib/python3.10/site-packages (from qiskit-terra>=0.15.1->qiskit.ignis) (1.11.1)\n",
      "Requirement already satisfied: python-dateutil>=2.8.0 in /opt/conda/lib/python3.10/site-packages (from qiskit-terra>=0.15.1->qiskit.ignis) (2.8.2)\n",
      "Requirement already satisfied: stevedore>=3.0.0 in /opt/conda/lib/python3.10/site-packages (from qiskit-terra>=0.15.1->qiskit.ignis) (4.1.1)\n",
      "Requirement already satisfied: symengine<0.10,>=0.9 in /opt/conda/lib/python3.10/site-packages (from qiskit-terra>=0.15.1->qiskit.ignis) (0.9.2)\n",
      "Requirement already satisfied: six>=1.5 in /opt/conda/lib/python3.10/site-packages (from python-dateutil>=2.8.0->qiskit-terra>=0.15.1->qiskit.ignis) (1.16.0)\n",
      "Requirement already satisfied: pbr!=2.1.0,>=2.0.0 in /opt/conda/lib/python3.10/site-packages (from stevedore>=3.0.0->qiskit-terra>=0.15.1->qiskit.ignis) (5.11.1)\n",
      "Requirement already satisfied: mpmath>=0.19 in /opt/conda/lib/python3.10/site-packages (from sympy>=1.3->qiskit-terra>=0.15.1->qiskit.ignis) (1.2.1)\n",
      "Installing collected packages: qiskit.ignis\n",
      "Successfully installed qiskit.ignis-0.7.1\n",
      "\n",
      "\u001b[1m[\u001b[0m\u001b[34;49mnotice\u001b[0m\u001b[1;39;49m]\u001b[0m\u001b[39;49m A new release of pip available: \u001b[0m\u001b[31;49m23.1.1\u001b[0m\u001b[39;49m -> \u001b[0m\u001b[32;49m23.2.1\u001b[0m\n",
      "\u001b[1m[\u001b[0m\u001b[34;49mnotice\u001b[0m\u001b[1;39;49m]\u001b[0m\u001b[39;49m To update, run: \u001b[0m\u001b[32;49mpip install --upgrade pip\u001b[0m\n",
      "Requirement already satisfied: qiskit_machine_learning in /opt/conda/lib/python3.10/site-packages (0.6.1)\n",
      "Requirement already satisfied: numpy>=1.17 in /opt/conda/lib/python3.10/site-packages (from qiskit_machine_learning) (1.23.5)\n",
      "Requirement already satisfied: qiskit-terra>=0.22.2 in /opt/conda/lib/python3.10/site-packages (from qiskit_machine_learning) (0.24.2)\n",
      "Requirement already satisfied: fastdtw in /opt/conda/lib/python3.10/site-packages (from qiskit_machine_learning) (0.3.4)\n",
      "Requirement already satisfied: setuptools>=40.1.0 in /opt/conda/lib/python3.10/site-packages (from qiskit_machine_learning) (67.7.2)\n",
      "Requirement already satisfied: dill>=0.3.4 in /opt/conda/lib/python3.10/site-packages (from qiskit_machine_learning) (0.3.7)\n",
      "Requirement already satisfied: scipy>=1.4 in /opt/conda/lib/python3.10/site-packages (from qiskit_machine_learning) (1.9.3)\n",
      "Requirement already satisfied: psutil>=5 in /opt/conda/lib/python3.10/site-packages (from qiskit_machine_learning) (5.9.4)\n",
      "Requirement already satisfied: scikit-learn>=0.20.0 in /opt/conda/lib/python3.10/site-packages (from qiskit_machine_learning) (1.2.2)\n",
      "Requirement already satisfied: symengine<0.10,>=0.9 in /opt/conda/lib/python3.10/site-packages (from qiskit-terra>=0.22.2->qiskit_machine_learning) (0.9.2)\n",
      "Requirement already satisfied: ply>=3.10 in /opt/conda/lib/python3.10/site-packages (from qiskit-terra>=0.22.2->qiskit_machine_learning) (3.11)\n",
      "Requirement already satisfied: sympy>=1.3 in /opt/conda/lib/python3.10/site-packages (from qiskit-terra>=0.22.2->qiskit_machine_learning) (1.11.1)\n",
      "Requirement already satisfied: stevedore>=3.0.0 in /opt/conda/lib/python3.10/site-packages (from qiskit-terra>=0.22.2->qiskit_machine_learning) (4.1.1)\n",
      "Requirement already satisfied: python-dateutil>=2.8.0 in /opt/conda/lib/python3.10/site-packages (from qiskit-terra>=0.22.2->qiskit_machine_learning) (2.8.2)\n",
      "Requirement already satisfied: rustworkx>=0.12.0 in /opt/conda/lib/python3.10/site-packages (from qiskit-terra>=0.22.2->qiskit_machine_learning) (0.12.1)\n",
      "Requirement already satisfied: joblib>=1.1.1 in /opt/conda/lib/python3.10/site-packages (from scikit-learn>=0.20.0->qiskit_machine_learning) (1.2.0)\n",
      "Requirement already satisfied: threadpoolctl>=2.0.0 in /opt/conda/lib/python3.10/site-packages (from scikit-learn>=0.20.0->qiskit_machine_learning) (3.1.0)\n",
      "Requirement already satisfied: six>=1.5 in /opt/conda/lib/python3.10/site-packages (from python-dateutil>=2.8.0->qiskit-terra>=0.22.2->qiskit_machine_learning) (1.16.0)\n",
      "Requirement already satisfied: pbr!=2.1.0,>=2.0.0 in /opt/conda/lib/python3.10/site-packages (from stevedore>=3.0.0->qiskit-terra>=0.22.2->qiskit_machine_learning) (5.11.1)\n",
      "Requirement already satisfied: mpmath>=0.19 in /opt/conda/lib/python3.10/site-packages (from sympy>=1.3->qiskit-terra>=0.22.2->qiskit_machine_learning) (1.2.1)\n",
      "\n",
      "\u001b[1m[\u001b[0m\u001b[34;49mnotice\u001b[0m\u001b[1;39;49m]\u001b[0m\u001b[39;49m A new release of pip available: \u001b[0m\u001b[31;49m23.1.1\u001b[0m\u001b[39;49m -> \u001b[0m\u001b[32;49m23.2.1\u001b[0m\n",
      "\u001b[1m[\u001b[0m\u001b[34;49mnotice\u001b[0m\u001b[1;39;49m]\u001b[0m\u001b[39;49m To update, run: \u001b[0m\u001b[32;49mpip install --upgrade pip\u001b[0m\n",
      "Requirement already satisfied: transformers in /opt/conda/lib/python3.10/site-packages (4.31.0)\n",
      "Requirement already satisfied: pyyaml>=5.1 in /opt/conda/lib/python3.10/site-packages (from transformers) (6.0)\n",
      "Requirement already satisfied: huggingface-hub<1.0,>=0.14.1 in /opt/conda/lib/python3.10/site-packages (from transformers) (0.16.4)\n",
      "Requirement already satisfied: numpy>=1.17 in /opt/conda/lib/python3.10/site-packages (from transformers) (1.23.5)\n",
      "Requirement already satisfied: filelock in /opt/conda/lib/python3.10/site-packages (from transformers) (3.12.0)\n",
      "Requirement already satisfied: requests in /opt/conda/lib/python3.10/site-packages (from transformers) (2.28.1)\n",
      "Requirement already satisfied: regex!=2019.12.17 in /opt/conda/lib/python3.10/site-packages (from transformers) (2023.8.8)\n",
      "Requirement already satisfied: tokenizers!=0.11.3,<0.14,>=0.11.1 in /opt/conda/lib/python3.10/site-packages (from transformers) (0.13.3)\n",
      "Requirement already satisfied: tqdm>=4.27 in /opt/conda/lib/python3.10/site-packages (from transformers) (4.65.0)\n",
      "Requirement already satisfied: safetensors>=0.3.1 in /opt/conda/lib/python3.10/site-packages (from transformers) (0.3.2)\n",
      "Requirement already satisfied: packaging>=20.0 in /opt/conda/lib/python3.10/site-packages (from transformers) (21.3)\n",
      "Requirement already satisfied: typing-extensions>=3.7.4.3 in /opt/conda/lib/python3.10/site-packages (from huggingface-hub<1.0,>=0.14.1->transformers) (4.5.0)\n",
      "Requirement already satisfied: fsspec in /opt/conda/lib/python3.10/site-packages (from huggingface-hub<1.0,>=0.14.1->transformers) (2023.4.0)\n",
      "Requirement already satisfied: pyparsing!=3.0.5,>=2.0.2 in /opt/conda/lib/python3.10/site-packages (from packaging>=20.0->transformers) (3.0.9)\n",
      "Requirement already satisfied: urllib3<1.27,>=1.21.1 in /opt/conda/lib/python3.10/site-packages (from requests->transformers) (1.26.13)\n",
      "Requirement already satisfied: certifi>=2017.4.17 in /opt/conda/lib/python3.10/site-packages (from requests->transformers) (2022.9.24)\n",
      "Requirement already satisfied: charset-normalizer<3,>=2 in /opt/conda/lib/python3.10/site-packages (from requests->transformers) (2.1.1)\n",
      "Requirement already satisfied: idna<4,>=2.5 in /opt/conda/lib/python3.10/site-packages (from requests->transformers) (3.4)\n",
      "\n",
      "\u001b[1m[\u001b[0m\u001b[34;49mnotice\u001b[0m\u001b[1;39;49m]\u001b[0m\u001b[39;49m A new release of pip available: \u001b[0m\u001b[31;49m23.1.1\u001b[0m\u001b[39;49m -> \u001b[0m\u001b[32;49m23.2.1\u001b[0m\n",
      "\u001b[1m[\u001b[0m\u001b[34;49mnotice\u001b[0m\u001b[1;39;49m]\u001b[0m\u001b[39;49m To update, run: \u001b[0m\u001b[32;49mpip install --upgrade pip\u001b[0m\n",
      "Requirement already satisfied: scikit-learn in /opt/conda/lib/python3.10/site-packages (1.2.2)\n",
      "Requirement already satisfied: threadpoolctl>=2.0.0 in /opt/conda/lib/python3.10/site-packages (from scikit-learn) (3.1.0)\n",
      "Requirement already satisfied: scipy>=1.3.2 in /opt/conda/lib/python3.10/site-packages (from scikit-learn) (1.9.3)\n",
      "Requirement already satisfied: joblib>=1.1.1 in /opt/conda/lib/python3.10/site-packages (from scikit-learn) (1.2.0)\n",
      "Requirement already satisfied: numpy>=1.17.3 in /opt/conda/lib/python3.10/site-packages (from scikit-learn) (1.23.5)\n",
      "\n",
      "\u001b[1m[\u001b[0m\u001b[34;49mnotice\u001b[0m\u001b[1;39;49m]\u001b[0m\u001b[39;49m A new release of pip available: \u001b[0m\u001b[31;49m23.1.1\u001b[0m\u001b[39;49m -> \u001b[0m\u001b[32;49m23.2.1\u001b[0m\n",
      "\u001b[1m[\u001b[0m\u001b[34;49mnotice\u001b[0m\u001b[1;39;49m]\u001b[0m\u001b[39;49m To update, run: \u001b[0m\u001b[32;49mpip install --upgrade pip\u001b[0m\n",
      "Requirement already satisfied: tensorflow in /opt/conda/lib/python3.10/site-packages (2.13.0)\n",
      "Requirement already satisfied: libclang>=13.0.0 in /opt/conda/lib/python3.10/site-packages (from tensorflow) (16.0.6)\n",
      "Requirement already satisfied: keras<2.14,>=2.13.1 in /opt/conda/lib/python3.10/site-packages (from tensorflow) (2.13.1)\n",
      "Requirement already satisfied: setuptools in /opt/conda/lib/python3.10/site-packages (from tensorflow) (67.7.2)\n",
      "Requirement already satisfied: protobuf!=4.21.0,!=4.21.1,!=4.21.2,!=4.21.3,!=4.21.4,!=4.21.5,<5.0.0dev,>=3.20.3 in /opt/conda/lib/python3.10/site-packages (from tensorflow) (3.20.3)\n",
      "Requirement already satisfied: astunparse>=1.6.0 in /opt/conda/lib/python3.10/site-packages (from tensorflow) (1.6.3)\n",
      "Requirement already satisfied: tensorflow-estimator<2.14,>=2.13.0 in /opt/conda/lib/python3.10/site-packages (from tensorflow) (2.13.0)\n",
      "Requirement already satisfied: packaging in /opt/conda/lib/python3.10/site-packages (from tensorflow) (21.3)\n",
      "Requirement already satisfied: termcolor>=1.1.0 in /opt/conda/lib/python3.10/site-packages (from tensorflow) (2.3.0)\n",
      "Requirement already satisfied: absl-py>=1.0.0 in /opt/conda/lib/python3.10/site-packages (from tensorflow) (1.4.0)\n",
      "Requirement already satisfied: google-pasta>=0.1.1 in /opt/conda/lib/python3.10/site-packages (from tensorflow) (0.2.0)\n",
      "Requirement already satisfied: wrapt>=1.11.0 in /opt/conda/lib/python3.10/site-packages (from tensorflow) (1.15.0)\n",
      "Requirement already satisfied: tensorflow-io-gcs-filesystem>=0.23.1 in /opt/conda/lib/python3.10/site-packages (from tensorflow) (0.33.0)\n",
      "Requirement already satisfied: flatbuffers>=23.1.21 in /opt/conda/lib/python3.10/site-packages (from tensorflow) (23.5.26)\n",
      "Requirement already satisfied: grpcio<2.0,>=1.24.3 in /opt/conda/lib/python3.10/site-packages (from tensorflow) (1.57.0)\n",
      "Requirement already satisfied: numpy<=1.24.3,>=1.22 in /opt/conda/lib/python3.10/site-packages (from tensorflow) (1.23.5)\n",
      "Requirement already satisfied: h5py>=2.9.0 in /opt/conda/lib/python3.10/site-packages (from tensorflow) (3.7.0)\n",
      "Requirement already satisfied: typing-extensions<4.6.0,>=3.6.6 in /opt/conda/lib/python3.10/site-packages (from tensorflow) (4.5.0)\n",
      "Requirement already satisfied: tensorboard<2.14,>=2.13 in /opt/conda/lib/python3.10/site-packages (from tensorflow) (2.13.0)\n",
      "Requirement already satisfied: opt-einsum>=2.3.2 in /opt/conda/lib/python3.10/site-packages (from tensorflow) (3.3.0)\n",
      "Requirement already satisfied: six>=1.12.0 in /opt/conda/lib/python3.10/site-packages (from tensorflow) (1.16.0)\n",
      "Requirement already satisfied: gast<=0.4.0,>=0.2.1 in /opt/conda/lib/python3.10/site-packages (from tensorflow) (0.4.0)\n",
      "Requirement already satisfied: wheel<1.0,>=0.23.0 in /opt/conda/lib/python3.10/site-packages (from astunparse>=1.6.0->tensorflow) (0.38.4)\n",
      "Requirement already satisfied: tensorboard-data-server<0.8.0,>=0.7.0 in /opt/conda/lib/python3.10/site-packages (from tensorboard<2.14,>=2.13->tensorflow) (0.7.1)\n",
      "Requirement already satisfied: google-auth<3,>=1.6.3 in /opt/conda/lib/python3.10/site-packages (from tensorboard<2.14,>=2.13->tensorflow) (2.22.0)\n",
      "Requirement already satisfied: werkzeug>=1.0.1 in /opt/conda/lib/python3.10/site-packages (from tensorboard<2.14,>=2.13->tensorflow) (2.3.6)\n",
      "Requirement already satisfied: google-auth-oauthlib<1.1,>=0.5 in /opt/conda/lib/python3.10/site-packages (from tensorboard<2.14,>=2.13->tensorflow) (1.0.0)\n",
      "Requirement already satisfied: requests<3,>=2.21.0 in /opt/conda/lib/python3.10/site-packages (from tensorboard<2.14,>=2.13->tensorflow) (2.28.1)\n",
      "Requirement already satisfied: markdown>=2.6.8 in /opt/conda/lib/python3.10/site-packages (from tensorboard<2.14,>=2.13->tensorflow) (3.4.4)\n",
      "Requirement already satisfied: pyparsing!=3.0.5,>=2.0.2 in /opt/conda/lib/python3.10/site-packages (from packaging->tensorflow) (3.0.9)\n",
      "Requirement already satisfied: cachetools<6.0,>=2.0.0 in /opt/conda/lib/python3.10/site-packages (from google-auth<3,>=1.6.3->tensorboard<2.14,>=2.13->tensorflow) (5.3.1)\n",
      "Requirement already satisfied: pyasn1-modules>=0.2.1 in /opt/conda/lib/python3.10/site-packages (from google-auth<3,>=1.6.3->tensorboard<2.14,>=2.13->tensorflow) (0.3.0)\n",
      "Requirement already satisfied: rsa<5,>=3.1.4 in /opt/conda/lib/python3.10/site-packages (from google-auth<3,>=1.6.3->tensorboard<2.14,>=2.13->tensorflow) (4.9)\n",
      "Requirement already satisfied: urllib3<2.0 in /opt/conda/lib/python3.10/site-packages (from google-auth<3,>=1.6.3->tensorboard<2.14,>=2.13->tensorflow) (1.26.13)\n",
      "Requirement already satisfied: requests-oauthlib>=0.7.0 in /opt/conda/lib/python3.10/site-packages (from google-auth-oauthlib<1.1,>=0.5->tensorboard<2.14,>=2.13->tensorflow) (1.3.1)\n",
      "Requirement already satisfied: certifi>=2017.4.17 in /opt/conda/lib/python3.10/site-packages (from requests<3,>=2.21.0->tensorboard<2.14,>=2.13->tensorflow) (2022.9.24)\n",
      "Requirement already satisfied: idna<4,>=2.5 in /opt/conda/lib/python3.10/site-packages (from requests<3,>=2.21.0->tensorboard<2.14,>=2.13->tensorflow) (3.4)\n",
      "Requirement already satisfied: charset-normalizer<3,>=2 in /opt/conda/lib/python3.10/site-packages (from requests<3,>=2.21.0->tensorboard<2.14,>=2.13->tensorflow) (2.1.1)\n",
      "Requirement already satisfied: MarkupSafe>=2.1.1 in /opt/conda/lib/python3.10/site-packages (from werkzeug>=1.0.1->tensorboard<2.14,>=2.13->tensorflow) (2.1.2)\n",
      "Requirement already satisfied: pyasn1<0.6.0,>=0.4.6 in /opt/conda/lib/python3.10/site-packages (from pyasn1-modules>=0.2.1->google-auth<3,>=1.6.3->tensorboard<2.14,>=2.13->tensorflow) (0.5.0)\n",
      "Requirement already satisfied: oauthlib>=3.0.0 in /opt/conda/lib/python3.10/site-packages (from requests-oauthlib>=0.7.0->google-auth-oauthlib<1.1,>=0.5->tensorboard<2.14,>=2.13->tensorflow) (3.2.2)\n",
      "\n",
      "\u001b[1m[\u001b[0m\u001b[34;49mnotice\u001b[0m\u001b[1;39;49m]\u001b[0m\u001b[39;49m A new release of pip available: \u001b[0m\u001b[31;49m23.1.1\u001b[0m\u001b[39;49m -> \u001b[0m\u001b[32;49m23.2.1\u001b[0m\n",
      "\u001b[1m[\u001b[0m\u001b[34;49mnotice\u001b[0m\u001b[1;39;49m]\u001b[0m\u001b[39;49m To update, run: \u001b[0m\u001b[32;49mpip install --upgrade pip\u001b[0m\n",
      "Requirement already satisfied: tensorflow-datasets in /opt/conda/lib/python3.10/site-packages (4.9.2)\n",
      "Requirement already satisfied: tqdm in /opt/conda/lib/python3.10/site-packages (from tensorflow-datasets) (4.65.0)\n",
      "Requirement already satisfied: numpy in /opt/conda/lib/python3.10/site-packages (from tensorflow-datasets) (1.23.5)\n",
      "Requirement already satisfied: promise in /opt/conda/lib/python3.10/site-packages (from tensorflow-datasets) (2.3)\n",
      "Requirement already satisfied: absl-py in /opt/conda/lib/python3.10/site-packages (from tensorflow-datasets) (1.4.0)\n",
      "Requirement already satisfied: array-record in /opt/conda/lib/python3.10/site-packages (from tensorflow-datasets) (0.4.1)\n",
      "Requirement already satisfied: wrapt in /opt/conda/lib/python3.10/site-packages (from tensorflow-datasets) (1.15.0)\n",
      "Requirement already satisfied: toml in /opt/conda/lib/python3.10/site-packages (from tensorflow-datasets) (0.10.2)\n",
      "Requirement already satisfied: protobuf>=3.20 in /opt/conda/lib/python3.10/site-packages (from tensorflow-datasets) (3.20.3)\n",
      "Requirement already satisfied: dm-tree in /opt/conda/lib/python3.10/site-packages (from tensorflow-datasets) (0.1.8)\n",
      "Requirement already satisfied: requests>=2.19.0 in /opt/conda/lib/python3.10/site-packages (from tensorflow-datasets) (2.28.1)\n",
      "Requirement already satisfied: etils[enp,epath]>=0.9.0 in /opt/conda/lib/python3.10/site-packages (from tensorflow-datasets) (1.4.1)\n",
      "Requirement already satisfied: termcolor in /opt/conda/lib/python3.10/site-packages (from tensorflow-datasets) (2.3.0)\n",
      "Requirement already satisfied: tensorflow-metadata in /opt/conda/lib/python3.10/site-packages (from tensorflow-datasets) (1.14.0)\n",
      "Requirement already satisfied: click in /opt/conda/lib/python3.10/site-packages (from tensorflow-datasets) (8.1.3)\n",
      "Requirement already satisfied: psutil in /opt/conda/lib/python3.10/site-packages (from tensorflow-datasets) (5.9.4)\n",
      "Requirement already satisfied: importlib_resources in /opt/conda/lib/python3.10/site-packages (from etils[enp,epath]>=0.9.0->tensorflow-datasets) (5.12.0)\n",
      "Requirement already satisfied: zipp in /opt/conda/lib/python3.10/site-packages (from etils[enp,epath]>=0.9.0->tensorflow-datasets) (3.15.0)\n",
      "Requirement already satisfied: typing_extensions in /opt/conda/lib/python3.10/site-packages (from etils[enp,epath]>=0.9.0->tensorflow-datasets) (4.5.0)\n",
      "Requirement already satisfied: idna<4,>=2.5 in /opt/conda/lib/python3.10/site-packages (from requests>=2.19.0->tensorflow-datasets) (3.4)\n",
      "Requirement already satisfied: charset-normalizer<3,>=2 in /opt/conda/lib/python3.10/site-packages (from requests>=2.19.0->tensorflow-datasets) (2.1.1)\n",
      "Requirement already satisfied: urllib3<1.27,>=1.21.1 in /opt/conda/lib/python3.10/site-packages (from requests>=2.19.0->tensorflow-datasets) (1.26.13)\n",
      "Requirement already satisfied: certifi>=2017.4.17 in /opt/conda/lib/python3.10/site-packages (from requests>=2.19.0->tensorflow-datasets) (2022.9.24)\n",
      "Requirement already satisfied: six in /opt/conda/lib/python3.10/site-packages (from promise->tensorflow-datasets) (1.16.0)\n",
      "Requirement already satisfied: googleapis-common-protos<2,>=1.52.0 in /opt/conda/lib/python3.10/site-packages (from tensorflow-metadata->tensorflow-datasets) (1.60.0)\n",
      "\n",
      "\u001b[1m[\u001b[0m\u001b[34;49mnotice\u001b[0m\u001b[1;39;49m]\u001b[0m\u001b[39;49m A new release of pip available: \u001b[0m\u001b[31;49m23.1.1\u001b[0m\u001b[39;49m -> \u001b[0m\u001b[32;49m23.2.1\u001b[0m\n",
      "\u001b[1m[\u001b[0m\u001b[34;49mnotice\u001b[0m\u001b[1;39;49m]\u001b[0m\u001b[39;49m To update, run: \u001b[0m\u001b[32;49mpip install --upgrade pip\u001b[0m\n"
     ]
    }
   ],
   "source": [
    "!pip install qiskit\n",
    "!pip install pylatexenc\n",
    "!pip install qiskit.ignis\n",
    "!pip install qiskit_machine_learning\n",
    "!pip install transformers   \n",
    "!pip install scikit-learn\n",
    "!pip install tensorflow\n",
    "!pip install tensorflow-datasets"
   ]
  },
  {
   "cell_type": "code",
   "execution_count": 2,
   "metadata": {
    "id": "ZVOr3qrBxLf_",
    "tags": []
   },
   "outputs": [
    {
     "name": "stderr",
     "output_type": "stream",
     "text": [
      "2023-08-13 12:03:47.107454: I tensorflow/core/platform/cpu_feature_guard.cc:182] This TensorFlow binary is optimized to use available CPU instructions in performance-critical operations.\n",
      "To enable the following instructions: AVX2 FMA, in other operations, rebuild TensorFlow with the appropriate compiler flags.\n",
      "2023-08-13 12:03:48.225579: W tensorflow/compiler/tf2tensorrt/utils/py_utils.cc:38] TF-TRT Warning: Could not find TensorRT\n"
     ]
    }
   ],
   "source": [
    "from qiskit import *\n",
    "# Qiskit module\n",
    "from qiskit import QuantumCircuit\n",
    "import qiskit.circuit.library as circuit_library\n",
    "import qiskit.quantum_info as qi\n",
    "#from qiskit import execute\n",
    "from qiskit.utils import algorithm_globals\n",
    "from qiskit.circuit.library import EfficientSU2\n",
    "from qiskit_machine_learning.neural_networks import SamplerQNN, EstimatorQNN\n",
    "from qiskit_machine_learning.connectors import TorchConnector\n",
    "from qiskit.primitives import BackendEstimator\n",
    "from qiskit import Aer\n",
    "\n",
    "import torch\n",
    "from qiskit.circuit import ParameterVector\n",
    "\n",
    "from torch import Tensor\n",
    "import torch.nn as nn\n",
    "import numpy as np\n",
    "from qiskit.quantum_info import SparsePauliOp\n",
    "\n",
    "from tqdm.notebook import tqdm\n",
    "\n",
    "from transformers import AutoTokenizer\n",
    "\n",
    "from tensorflow import compat\n",
    "import tensorflow_datasets as tfds\n",
    "import scipy\n"
   ]
  },
  {
   "cell_type": "code",
   "execution_count": 3,
   "metadata": {
    "id": "0SoOFZLi6hS_",
    "tags": []
   },
   "outputs": [],
   "source": [
    "from pathlib import Path\n",
    "import pandas as pd\n",
    "from joblib import load, dump\n",
    "from sklearn.model_selection import train_test_split\n",
    "\n",
    "from torch.utils.data import DataLoader, Dataset\n",
    "import torch.utils.data as data_utils\n",
    "\n",
    "from collections import Counter"
   ]
  },
  {
   "cell_type": "markdown",
   "metadata": {
    "id": "6HltJ0LUTguJ",
    "tags": []
   },
   "source": [
    "# Model"
   ]
  },
  {
   "cell_type": "code",
   "execution_count": 4,
   "metadata": {
    "id": "698TlmaywBez",
    "tags": []
   },
   "outputs": [],
   "source": [
    "import random\n",
    "class QRNN_qiskit(torch.nn.Module):\n",
    "    def __init__(self,S,q_n_h,q_n_d,D,voc_size=20):\n",
    "        \"\"\"\n",
    "        # input: input data\n",
    "        # weight: trainable parameter\n",
    "        # q_n_h: # of of qubits for encodong input\n",
    "        # q_n_d: # of of qubits for memerizing history\n",
    "        # d: embedding dimension which is equal to q_n_h*(Denc+2)\n",
    "        # Denc: the # number of layers for encoding\n",
    "        # D: the # of layers of variational layers\n",
    "        \"\"\"\n",
    "        super().__init__()\n",
    "        self.voc_size=voc_size\n",
    "        self.seq_num=S\n",
    "        self.num_q=q_n_h+q_n_d\n",
    "        self.q_n_d=q_n_d\n",
    "        self.q_n_h=q_n_h\n",
    "        self.D=D\n",
    "        self.init_params=torch.nn.Parameter((np.pi/4) * (2 * torch.randn(self.num_q*(2*self.D+3)*self.seq_num) - 1))\n",
    "        self.params_input=ParameterVector('IN',q_n_h*self.seq_num)\n",
    "        self.params_trained_vars=ParameterVector('Vars',self.num_q*(2*self.D+3)*self.seq_num)\n",
    "        #self.Denc=Denc\n",
    "        self.d=q_n_h\n",
    "        self.params_num_per_lyr=self.num_q*(2*self.D+3)\n",
    "        #print(self.params_num_per_lyr)\n",
    "        self.bit_string_Z=SparsePauliOp.from_list([('I'*(self.num_q-1)+'Z', 1)])\n",
    "\n",
    "        Rqnn=EstimatorQNN(circuit=self.QRNN_cir(),observables=[self.bit_string_Z], input_params=self.params_input, weight_params=self.params_trained_vars)\n",
    "        self.QRNN_models=TorchConnector(Rqnn, initial_weights=self.init_params)\n",
    "\n",
    "    def QRNN_cir(self):\n",
    "\n",
    "        qc=QuantumCircuit(self.num_q)\n",
    "        for sq in range(self.seq_num):\n",
    "            start=sq*self.d\n",
    "            end=(sq+1)*self.d\n",
    "            self.Feature_map(qc,self.params_input[start:end])\n",
    "            start=sq*self.params_num_per_lyr\n",
    "            end=(sq+1)*self.params_num_per_lyr\n",
    "            self.ansatz(qc,self.params_trained_vars[start:end])\n",
    "            #qc.reset(range(self.q_n_d,self.num_q))\n",
    "\n",
    "        return qc\n",
    "\n",
    "    def Feature_map(self,qc,params):\n",
    "        indx=0\n",
    "        for j in range(self.q_n_h):\n",
    "            qc.ry(params[indx],j+self.q_n_d)\n",
    "            #qc.ry(params[indx+1],j+self.q_n_d)\n",
    "            #indx+=2\n",
    "        #for i in range(self.Denc):\n",
    "            #for j in range(self.num_q):\n",
    "            #    qc.cx(j,(j+1)%self.num_q)\n",
    "\n",
    "            #for j in range(self.q_n_h):\n",
    "                #qc.rx(params[indx],j)\n",
    "            #    qc.ry(params[indx],j+self.q_n_d)\n",
    "            #    indx+=1\n",
    "\n",
    "\n",
    "    def ansatz(self,qc,params):\n",
    "        indx=0\n",
    "        for j in range(self.num_q):\n",
    "            qc.rx(params[indx],j)\n",
    "            qc.rz(params[indx+1],j)\n",
    "            qc.rx(params[indx+2],j)\n",
    "            indx+=3\n",
    "\n",
    "        for i in range(self.D):\n",
    "            for j in range(self.num_q):\n",
    "                qc.rzz(params[indx],j,(j+1)%self.num_q)\n",
    "                indx+=1\n",
    "\n",
    "            for j in range(self.num_q):\n",
    "                #qc.rx(params[indx],j)\n",
    "                qc.rx(params[indx],j)\n",
    "                indx+=1\n",
    "\n",
    "    def forward(self,input):\n",
    "        input=input#(np.pi/2)*input#/self.voc_size\n",
    "\n",
    "        x=self.QRNN_models(input)\n",
    "        return torch.sigmoid(x)\n"
   ]
  },
  {
   "cell_type": "markdown",
   "metadata": {
    "jp-MarkdownHeadingCollapsed": true,
    "tags": []
   },
   "source": [
    "# MC RP DATASET"
   ]
  },
  {
   "cell_type": "code",
   "execution_count": 5,
   "metadata": {
    "colab": {
     "base_uri": "https://localhost:8080/"
    },
    "id": "rmznXR_o6aFS",
    "outputId": "a69ba5d5-d73d-4cf5-819d-88897569848b",
    "tags": []
   },
   "outputs": [
    {
     "name": "stdout",
     "output_type": "stream",
     "text": [
      "fatal: destination path 'qnlp_lorenz_etal_2021_resources' already exists and is not an empty directory.\n",
      "mv: cannot stat 'qnlp_lorenz_etal_2021_resources/datasets': No such file or directory\n"
     ]
    }
   ],
   "source": [
    "!git clone https://github.com/CQCL/qnlp_lorenz_etal_2021_resources\n",
    "!mv qnlp_lorenz_etal_2021_resources/datasets mc_rp_dataset"
   ]
  },
  {
   "cell_type": "code",
   "execution_count": 6,
   "metadata": {
    "id": "I1k8KP0O6bnd",
    "tags": []
   },
   "outputs": [],
   "source": [
    "mc_rp_sets_path = Path(\"mc_rp_dataset\")\n",
    "mc_rp_sets = list(mc_rp_sets_path.glob(\"*.txt\"))\n",
    "mc_datasets, rp_datasets = list(filter(lambda x: x.name.startswith(\"mc\"), mc_rp_sets)), list(filter(lambda x: x.name.startswith(\"rp\"), mc_rp_sets))"
   ]
  },
  {
   "cell_type": "code",
   "execution_count": 7,
   "metadata": {
    "id": "_SHuqnx_TaMG",
    "tags": []
   },
   "outputs": [],
   "source": [
    "def read_process_mcrp(datapaths: dict):\n",
    "  def rm(text):\n",
    "    return \" \".join(list(map(lambda x: x[:x.find('_')], text.split())))\n",
    "  retval = {}\n",
    "  for datapath in datapaths:\n",
    "    if \"rp\" in str(datapath):\n",
    "      sel = 2\n",
    "    else:\n",
    "      sel = 3\n",
    "    df = pd.DataFrame(list(map(lambda x: [int(x[0]), x[sel:]], datapath.read_text().split(\"\\n\"))), columns=['label', 'text'])\n",
    "    df['text'] = df['text'].apply(rm)\n",
    "    retval[datapath.name.split(\".\")[0]] = df\n",
    "  return retval\n",
    "\n",
    "mc_data, rp_data = read_process_mcrp(mc_datasets), read_process_mcrp(rp_datasets)\n",
    "MRP_BATCH_SIZE = 30"
   ]
  },
  {
   "cell_type": "code",
   "execution_count": 38,
   "metadata": {
    "id": "1UIH1Od36mYF",
    "tags": []
   },
   "outputs": [],
   "source": [
    "def data_frame_simple_txt2vec(data,keystr,shape,min_length=4,w_dict=None):\n",
    "    txt_lst=[]\n",
    "    max_len=0\n",
    "    for txt in data[keystr].text:\n",
    "        txtsplit=txt.split()\n",
    "        txt_lst=txt_lst+txtsplit\n",
    "        if max_len< len(txtsplit):\n",
    "            max_len=len(txtsplit)\n",
    "    w_set=set(txt_lst)\n",
    "\n",
    "    comm_lst=Counter(txt_lst).most_common()\n",
    "\n",
    "    if w_dict==None:\n",
    "        w_dict={}\n",
    "        ind=len(comm_lst)\n",
    "        for elem in comm_lst:\n",
    "            w_dict[elem[0]]=ind\n",
    "            ind-=1\n",
    "    #w_dict={}\n",
    "    #ind=1\n",
    "    #for elem in w_set:\n",
    "    #    w_dict[elem]=ind\n",
    "    #    ind+=1\n",
    "\n",
    "    if max_len%2 !=0:\n",
    "        max_len+=1\n",
    "    if max_len<min_length:\n",
    "        max_len=min_length\n",
    "\n",
    "    label_list=[]\n",
    "    Txt_list=[]\n",
    "    for i, txt in enumerate(data[keystr].text):\n",
    "        w_list=[]\n",
    "        for word in data[keystr].text[i].split():\n",
    "            if word in w_dict:\n",
    "                w_list.append(w_dict[word])\n",
    "            else:\n",
    "                w_list.append(len(w_dict.keys())+1)\n",
    "        if len(w_list) < max_len:\n",
    "            w_list=w_list+(max_len-len(w_list))*[0]\n",
    "        #print(torch.tensor(w_list))\n",
    "        label_list.append(torch.tensor(data[keystr].label[i]))\n",
    "        Txt_list.append(torch.tensor(w_list).reshape(shape)*np.pi/len(comm_lst)/2)\n",
    "    label_tensor=torch.tensor(label_list)\n",
    "    txt_tensor=torch.stack(Txt_list)\n",
    "\n",
    "    return data_utils.TensorDataset(txt_tensor,label_tensor),w_dict"
   ]
  },
  {
   "cell_type": "markdown",
   "metadata": {
    "tags": []
   },
   "source": [
    "## MC Task"
   ]
  },
  {
   "cell_type": "code",
   "execution_count": 39,
   "metadata": {
    "id": "FK6YSAr_6wiA",
    "tags": []
   },
   "outputs": [],
   "source": [
    "shape=(4)\n",
    "\n",
    "mc_df_train,train_dict=data_frame_simple_txt2vec(mc_data,'mc_train_data',shape)\n",
    "mc_df_test,_=data_frame_simple_txt2vec(mc_data,'mc_test_data',shape,w_dict=train_dict)\n",
    "\n",
    "mc_trainloader = DataLoader(mc_df_train, shuffle=True, batch_size=30)\n",
    "mc_testloader = DataLoader(mc_df_test, shuffle=True, batch_size=30)"
   ]
  },
  {
   "cell_type": "code",
   "execution_count": 40,
   "metadata": {
    "id": "ivig6keChfN9",
    "tags": []
   },
   "outputs": [],
   "source": [
    "def binary_accuracy(preds, y):\n",
    "    \"\"\"\n",
    "    Returns accuracy per batch, i.e. if you get 8/10 right, this returns 0.8, NOT 8\n",
    "    \"\"\"\n",
    "\n",
    "    #round predictions to the closest integer\n",
    "    rounded_preds = (torch.round(torch.sign(preds-0.5))+1)//2\n",
    "    correct = (rounded_preds == y).float() #convert into float for division\n",
    "    acc = correct.sum() / len(correct)\n",
    "    return acc"
   ]
  },
  {
   "cell_type": "code",
   "execution_count": 41,
   "metadata": {
    "id": "k3yLEdEfrx4k",
    "tags": []
   },
   "outputs": [
    {
     "name": "stderr",
     "output_type": "stream",
     "text": [
      "/opt/conda/lib/python3.10/site-packages/qiskit_machine_learning/connectors/torch_connector.py:312: UserWarning: To copy construct from a tensor, it is recommended to use sourceTensor.clone().detach() or sourceTensor.clone().detach().requires_grad_(True), rather than torch.tensor(sourceTensor).\n",
      "  self._weights.data = torch.tensor(initial_weights, dtype=torch.float)\n"
     ]
    }
   ],
   "source": [
    "model = QRNN_qiskit(4,1,2,1)"
   ]
  },
  {
   "cell_type": "code",
   "execution_count": 42,
   "metadata": {
    "colab": {
     "base_uri": "https://localhost:8080/"
    },
    "id": "KnAE4Pf00TWK",
    "outputId": "ed06f3ae-7c5c-4345-f735-1cc605ff36c4",
    "tags": []
   },
   "outputs": [
    {
     "name": "stdout",
     "output_type": "stream",
     "text": [
      "120\n"
     ]
    }
   ],
   "source": [
    "trainable_params = sum(p.numel() for p in model.parameters() if p.requires_grad)\n",
    "print(trainable_params)"
   ]
  },
  {
   "cell_type": "code",
   "execution_count": 43,
   "metadata": {
    "colab": {
     "base_uri": "https://localhost:8080/"
    },
    "id": "-ZzMfXH-xfoi",
    "outputId": "90d7a47a-a1ac-4b1c-b985-775f8b842151",
    "scrolled": true,
    "tags": []
   },
   "outputs": [
    {
     "data": {
      "application/vnd.jupyter.widget-view+json": {
       "model_id": "085943a046a94dcab7c18e38d2e2766e",
       "version_major": 2,
       "version_minor": 0
      },
      "text/plain": [
       "  0%|          | 0/3 [00:00<?, ?it/s]"
      ]
     },
     "metadata": {},
     "output_type": "display_data"
    },
    {
     "data": {
      "application/vnd.jupyter.widget-view+json": {
       "model_id": "f5116225651140048dcd32cc6f43853a",
       "version_major": 2,
       "version_minor": 0
      },
      "text/plain": [
       "  0%|          | 0/3 [00:00<?, ?it/s]"
      ]
     },
     "metadata": {},
     "output_type": "display_data"
    },
    {
     "name": "stdout",
     "output_type": "stream",
     "text": [
      "Epoch 0 Training Accuracy: tensor(0.5667)\n",
      "Testing Accuracy: tensor(0.5000)\n"
     ]
    }
   ],
   "source": [
    "n_epochs=300\n",
    "optimizer = torch.optim.Adam(lr=0.005, params=model.parameters())\n",
    "criterion = nn.BCELoss()\n",
    "#criterion = torch.nn.CrossEntropyLoss()\n",
    "pbar = tqdm(total=len(mc_trainloader), leave=True)\n",
    "if torch.cuda.is_available():\n",
    "    devname = \"cuda\"\n",
    "else:\n",
    "    devname = \"cpu\"\n",
    "device = torch.device(devname)\n",
    "model.train()\n",
    "model.to(device)\n",
    "pbar = tqdm(total=len(mc_trainloader), leave=True)\n",
    "file_name=\"QRNN_model_12111_mc\"\n",
    "max_val=0\n",
    "for epoch in range(n_epochs):\n",
    "    acc=0\n",
    "    for batch, (feature, label) in enumerate(mc_trainloader):\n",
    "        optimizer.zero_grad()\n",
    "        feature, label = feature.to(device), label.to(device)\n",
    "        preds = model(feature.float()).squeeze(1)\n",
    "        loss = criterion(preds.flatten(), label.float())\n",
    "        preds = preds.ravel()\n",
    "        label = label.ravel()\n",
    "        acc += binary_accuracy(preds, label)\n",
    "\n",
    "        loss.backward()\n",
    "        optimizer.step()\n",
    "        pbar.update()\n",
    "        pbar.desc = f\"Epoch: {epoch} | Batch: {batch} | Loss {loss.cpu().detach()}\"\n",
    "        pbar.refresh()\n",
    "    acc=acc/(batch+1)\n",
    "    print('Epoch',epoch,'Training Accuracy:', acc)\n",
    "    feature, label=next(iter(mc_testloader))\n",
    "    preds = model(feature.float().squeeze(1)).squeeze(1)\n",
    "    loss = criterion(preds.flatten(), label.float())\n",
    "    preds = preds.ravel()\n",
    "    label = label.ravel()\n",
    "    acc1 = binary_accuracy(preds, label)\n",
    "    print('Testing Accuracy:', acc1)\n",
    "    if max_val< (acc1+acc):\n",
    "        max_val=acc1+acc\n",
    "        torch.save(model.state_dict(),file_name)\n",
    "pbar.close()"
   ]
  },
  {
   "cell_type": "code",
   "execution_count": 14,
   "metadata": {
    "colab": {
     "base_uri": "https://localhost:8080/"
    },
    "id": "MOVnH8BQDIFh",
    "outputId": "d578cffd-0207-4e2c-9f7e-c4d9eceb4d29"
   },
   "outputs": [
    {
     "data": {
      "text/plain": [
       "QRNN_qiskit(\n",
       "  (QRNN_models): TorchConnector()\n",
       ")"
      ]
     },
     "execution_count": 14,
     "metadata": {},
     "output_type": "execute_result"
    }
   ],
   "source": [
    "model.load_state_dict(torch.load(file_name))\n",
    "model.eval()"
   ]
  },
  {
   "cell_type": "code",
   "execution_count": 15,
   "metadata": {
    "colab": {
     "base_uri": "https://localhost:8080/"
    },
    "id": "DsCVeF18zFgz",
    "outputId": "5055e18a-da65-4bcd-bb53-2b99b1d300ba"
   },
   "outputs": [
    {
     "name": "stderr",
     "output_type": "stream",
     "text": [
      "/tmp/ipykernel_81/4241768363.py:19: UserWarning: Creating a tensor from a list of numpy.ndarrays is extremely slow. Please consider converting the list to a single numpy.ndarray with numpy.array() before converting to a tensor. (Triggered internally at ../torch/csrc/utils/tensor_new.cpp:245.)\n",
      "  preds = torch.tensor(preds).ravel()\n"
     ]
    },
    {
     "name": "stdout",
     "output_type": "stream",
     "text": [
      "Test Accuracy: 0.7333333 $\\pm$ 5.9604645e-08\n"
     ]
    }
   ],
   "source": [
    "acc=[]\n",
    "for i in range(100):\n",
    "    preds = []\n",
    "    labels = []\n",
    "    #pbar = tqdm(total=len(mc_testloader), leave=True)\n",
    "    device = torch.device(\"cuda\" if torch.cuda.is_available() else \"cpu\")\n",
    "    model.eval()\n",
    "    model.to(device)\n",
    "    for batch, (feature, label) in enumerate(mc_testloader):\n",
    "      feature, label = feature.to(device), label.to(device)\n",
    "      with torch.no_grad():\n",
    "        predictions = model(feature.float())\n",
    "        preds.append(predictions.cpu().numpy())\n",
    "        labels.append(label.cpu().numpy())\n",
    "      #pbar.update()\n",
    "      #pbar.desc = f\"Batch: {batch}\"\n",
    "      #pbar.refresh()\n",
    "    #pbar.close()\n",
    "    preds = torch.tensor(preds).ravel()\n",
    "    # preds = np.array([1 if pred>=0.5 else 0 for pred in preds])\n",
    "    labels = torch.tensor(labels).ravel()\n",
    "    #acc = (preds == labels).sum() / len(preds)\n",
    "    acc.append(binary_accuracy(preds, labels))\n",
    "print(\"Test Accuracy:\",np.mean(acc),r\"$\\pm$\",np.std(acc))"
   ]
  },
  {
   "cell_type": "code",
   "execution_count": 16,
   "metadata": {
    "colab": {
     "base_uri": "https://localhost:8080/"
    },
    "id": "sI3XQ7qAMQXp",
    "outputId": "a86514bb-f367-4477-966b-238dfe33c3e3"
   },
   "outputs": [
    {
     "name": "stdout",
     "output_type": "stream",
     "text": [
      "Test Accuracy: 0.82857156 $\\pm$ 1.1920929e-07\n"
     ]
    }
   ],
   "source": [
    "acc=[]\n",
    "for i in range(100):\n",
    "    preds = []\n",
    "    labels = []\n",
    "    #pbar = tqdm(total=len(mc_trainloader), leave=True)\n",
    "    device = torch.device(\"cuda\" if torch.cuda.is_available() else \"cpu\")\n",
    "    model.eval()\n",
    "    model.to(device)\n",
    "    for batch, (feature, label) in enumerate(mc_trainloader):\n",
    "      feature, label = feature.to(device), label.to(device)\n",
    "      with torch.no_grad():\n",
    "        predictions = model(feature.float())\n",
    "        preds=preds+list(predictions.cpu().numpy())\n",
    "        labels=labels+list(label.cpu().numpy())\n",
    "      #pbar.update()\n",
    "      #pbar.desc = f\"Batch: {batch}\"\n",
    "      #pbar.refresh()\n",
    "    #pbar.close()\n",
    "    preds = torch.tensor(preds).ravel()\n",
    "    # preds = np.array([1 if pred>=0.5 else 0 for pred in preds])\n",
    "    labels = torch.tensor(labels).ravel()\n",
    "    #acc = (preds == labels).sum() / len(preds)\n",
    "    acc.append(binary_accuracy(preds, labels))\n",
    "print(\"Test Accuracy:\",np.mean(acc),r\"$\\pm$\",np.std(acc))"
   ]
  },
  {
   "cell_type": "markdown",
   "metadata": {
    "id": "AyJ9t5anmyi3",
    "tags": []
   },
   "source": [
    "## RP task"
   ]
  },
  {
   "cell_type": "code",
   "execution_count": 17,
   "metadata": {
    "id": "e4VY6a3A6XVR"
   },
   "outputs": [],
   "source": [
    "shape=(4)\n",
    "\n",
    "rp_df_train,train_dict=data_frame_simple_txt2vec(rp_data,'rp_train_data',shape)\n",
    "rp_df_test,_=data_frame_simple_txt2vec(rp_data,'rp_test_data',shape,w_dict=train_dict)\n",
    "\n",
    "rp_trainloader = DataLoader(rp_df_train, shuffle=True, batch_size=30)\n",
    "rp_testloader = DataLoader(rp_df_test, shuffle=True, batch_size=31)"
   ]
  },
  {
   "cell_type": "code",
   "execution_count": 18,
   "metadata": {
    "colab": {
     "base_uri": "https://localhost:8080/"
    },
    "id": "B60Io41hmSFT",
    "outputId": "fd6a5dbc-61e6-4d3d-8013-7d8288262199"
   },
   "outputs": [],
   "source": [
    "model_2 = QRNN_qiskit(4,1,1,2)"
   ]
  },
  {
   "cell_type": "code",
   "execution_count": 19,
   "metadata": {
    "colab": {
     "base_uri": "https://localhost:8080/"
    },
    "id": "KOK9EJ6um_QO",
    "outputId": "5a04607f-c9b9-4933-a237-c42bba8eef84"
   },
   "outputs": [
    {
     "name": "stdout",
     "output_type": "stream",
     "text": [
      "112\n"
     ]
    }
   ],
   "source": [
    "trainable_params = sum(p.numel() for p in model_2.parameters() if p.requires_grad)\n",
    "print(trainable_params)"
   ]
  },
  {
   "cell_type": "code",
   "execution_count": 20,
   "metadata": {
    "colab": {
     "base_uri": "https://localhost:8080/"
    },
    "id": "sCwmUSW6nDA7",
    "outputId": "445a34cc-6b4a-4595-f6ce-77d531739eaa",
    "scrolled": true,
    "tags": []
   },
   "outputs": [
    {
     "name": "stderr",
     "output_type": "stream",
     "text": [
      "  0%|          | 0/3 [00:00<?, ?it/s]\n",
      "  0%|          | 0/3 [00:00<?, ?it/s]\u001b[A\n",
      "\n",
      " 33%|███▎      | 1/3 [00:28<00:56, 28.15s/it]\u001b[A\n",
      "Epoch: 0 | Batch: 0 | Loss 0.6613126397132874:  33%|███▎      | 1/3 [00:28<00:56, 28.15s/it]\u001b[A\n",
      "Epoch: 0 | Batch: 0 | Loss 0.6613126397132874:  67%|██████▋   | 2/3 [00:56<00:28, 28.05s/it]\u001b[A\n",
      "Epoch: 0 | Batch: 1 | Loss 0.7023037075996399:  67%|██████▋   | 2/3 [00:56<00:28, 28.05s/it]\u001b[A\n",
      "Epoch: 0 | Batch: 1 | Loss 0.7023037075996399: 100%|██████████| 3/3 [01:08<00:00, 20.87s/it]\u001b[A\n",
      "Epoch: 0 | Batch: 2 | Loss 0.7017501592636108: 100%|██████████| 3/3 [01:08<00:00, 20.87s/it]\u001b[A"
     ]
    },
    {
     "name": "stdout",
     "output_type": "stream",
     "text": [
      "Epoch 0 Training Accuracy: tensor(0.6127)\n",
      "Testing Accuracy: tensor(0.4839)\n"
     ]
    },
    {
     "name": "stderr",
     "output_type": "stream",
     "text": [
      "\n",
      "Epoch: 0 | Batch: 2 | Loss 0.7017501592636108: 4it [01:37, 23.92s/it]                       \u001b[A\n",
      "Epoch: 1 | Batch: 0 | Loss 0.6458523869514465: 4it [01:37, 23.92s/it]\u001b[A\n",
      "Epoch: 1 | Batch: 0 | Loss 0.6458523869514465: 5it [02:04, 25.11s/it]\u001b[A\n",
      "Epoch: 1 | Batch: 1 | Loss 0.6902463436126709: 5it [02:04, 25.11s/it]\u001b[A\n",
      "Epoch: 1 | Batch: 1 | Loss 0.6902463436126709: 6it [02:16, 20.70s/it]\u001b[A\n",
      "Epoch: 1 | Batch: 2 | Loss 0.7244406938552856: 6it [02:16, 20.70s/it]\u001b[A"
     ]
    },
    {
     "name": "stdout",
     "output_type": "stream",
     "text": [
      "Epoch 1 Training Accuracy: tensor(0.6000)\n",
      "Testing Accuracy: tensor(0.5161)\n"
     ]
    },
    {
     "name": "stderr",
     "output_type": "stream",
     "text": [
      "\n",
      "Epoch: 1 | Batch: 2 | Loss 0.7244406938552856: 7it [02:45, 23.46s/it]\u001b[A\n",
      "Epoch: 2 | Batch: 0 | Loss 0.6893482804298401: 7it [02:45, 23.46s/it]\u001b[A\n",
      "Epoch: 2 | Batch: 0 | Loss 0.6893482804298401: 8it [03:16, 25.86s/it]\u001b[A\n",
      "Epoch: 2 | Batch: 1 | Loss 0.6629086136817932: 8it [03:16, 25.86s/it]\u001b[A\n",
      "Epoch: 2 | Batch: 1 | Loss 0.6629086136817932: 9it [03:33, 23.18s/it]\u001b[A\n",
      "Epoch: 2 | Batch: 2 | Loss 0.6620684862136841: 9it [03:33, 23.18s/it]\u001b[A"
     ]
    },
    {
     "name": "stdout",
     "output_type": "stream",
     "text": [
      "Epoch 2 Training Accuracy: tensor(0.6254)\n",
      "Testing Accuracy: tensor(0.5806)\n"
     ]
    },
    {
     "name": "stderr",
     "output_type": "stream",
     "text": [
      "\n",
      "Epoch: 2 | Batch: 2 | Loss 0.6620684862136841: 10it [04:04, 25.40s/it]\u001b[A\n",
      "Epoch: 3 | Batch: 0 | Loss 0.6024271249771118: 10it [04:04, 25.40s/it]\u001b[A\n",
      "Epoch: 3 | Batch: 0 | Loss 0.6024271249771118: 11it [04:31, 26.01s/it]\u001b[A\n",
      "Epoch: 3 | Batch: 1 | Loss 0.8013916015625: 11it [04:31, 26.01s/it]   \u001b[A\n",
      "Epoch: 3 | Batch: 1 | Loss 0.8013916015625: 12it [04:44, 22.03s/it]\u001b[A\n",
      "Epoch: 3 | Batch: 2 | Loss 0.5466693639755249: 12it [04:44, 22.03s/it]\u001b[A"
     ]
    },
    {
     "name": "stdout",
     "output_type": "stream",
     "text": [
      "Epoch 3 Training Accuracy: tensor(0.6635)\n",
      "Testing Accuracy: tensor(0.6129)\n"
     ]
    },
    {
     "name": "stderr",
     "output_type": "stream",
     "text": [
      "\n",
      "Epoch: 3 | Batch: 2 | Loss 0.5466693639755249: 13it [05:12, 23.83s/it]\u001b[A\n",
      "Epoch: 4 | Batch: 0 | Loss 0.6988161206245422: 13it [05:12, 23.83s/it]\u001b[A\n",
      "Epoch: 4 | Batch: 0 | Loss 0.6988161206245422: 14it [05:39, 24.78s/it]\u001b[A\n",
      "Epoch: 4 | Batch: 1 | Loss 0.6641255617141724: 14it [05:39, 24.78s/it]\u001b[A\n",
      "Epoch: 4 | Batch: 1 | Loss 0.6641255617141724: 15it [05:57, 22.60s/it]\u001b[A\n",
      "Epoch: 4 | Batch: 2 | Loss 0.6156975626945496: 15it [05:57, 22.60s/it]\u001b[A"
     ]
    },
    {
     "name": "stdout",
     "output_type": "stream",
     "text": [
      "Epoch 4 Training Accuracy: tensor(0.6381)\n",
      "Testing Accuracy: tensor(0.6129)\n"
     ]
    },
    {
     "name": "stderr",
     "output_type": "stream",
     "text": [
      "\n",
      "Epoch: 4 | Batch: 2 | Loss 0.6156975626945496: 16it [06:43, 29.74s/it]\u001b[A\n",
      "Epoch: 5 | Batch: 0 | Loss 0.6994572281837463: 16it [06:43, 29.74s/it]\u001b[A\n",
      "Epoch: 5 | Batch: 0 | Loss 0.6994572281837463: 17it [07:32, 35.43s/it]\u001b[A\n",
      "Epoch: 5 | Batch: 1 | Loss 0.6823718547821045: 17it [07:32, 35.43s/it]\u001b[A\n",
      "Epoch: 5 | Batch: 1 | Loss 0.6823718547821045: 18it [07:45, 28.83s/it]\u001b[A\n",
      "Epoch: 5 | Batch: 2 | Loss 0.5680803656578064: 18it [07:45, 28.83s/it]\u001b[A"
     ]
    },
    {
     "name": "stdout",
     "output_type": "stream",
     "text": [
      "Epoch 5 Training Accuracy: tensor(0.6508)\n",
      "Testing Accuracy: tensor(0.6129)\n"
     ]
    },
    {
     "name": "stderr",
     "output_type": "stream",
     "text": [
      "\n",
      "Epoch: 5 | Batch: 2 | Loss 0.5680803656578064: 19it [08:14, 28.84s/it]\u001b[A\n",
      "Epoch: 6 | Batch: 0 | Loss 0.664336085319519: 19it [08:14, 28.84s/it] \u001b[A\n",
      "Epoch: 6 | Batch: 0 | Loss 0.664336085319519: 20it [08:42, 28.65s/it]\u001b[A\n",
      "Epoch: 6 | Batch: 1 | Loss 0.656471312046051: 20it [08:42, 28.65s/it]\u001b[A\n",
      "Epoch: 6 | Batch: 1 | Loss 0.656471312046051: 21it [08:55, 23.90s/it]\u001b[A\n",
      "Epoch: 6 | Batch: 2 | Loss 0.6962170600891113: 21it [08:55, 23.90s/it]\u001b[A"
     ]
    },
    {
     "name": "stdout",
     "output_type": "stream",
     "text": [
      "Epoch 6 Training Accuracy: tensor(0.6127)\n",
      "Testing Accuracy: tensor(0.6129)\n"
     ]
    },
    {
     "name": "stderr",
     "output_type": "stream",
     "text": [
      "\n",
      "Epoch: 6 | Batch: 2 | Loss 0.6962170600891113: 22it [09:24, 25.44s/it]\u001b[A\n",
      "Epoch: 7 | Batch: 0 | Loss 0.6550514698028564: 22it [09:24, 25.44s/it]\u001b[A\n",
      "Epoch: 7 | Batch: 0 | Loss 0.6550514698028564: 23it [09:52, 26.21s/it]\u001b[A\n",
      "Epoch: 7 | Batch: 1 | Loss 0.6564028859138489: 23it [09:52, 26.21s/it]\u001b[A\n",
      "Epoch: 7 | Batch: 1 | Loss 0.6564028859138489: 24it [10:04, 22.05s/it]\u001b[A\n",
      "Epoch: 7 | Batch: 2 | Loss 0.7097439169883728: 24it [10:04, 22.05s/it]\u001b[A"
     ]
    },
    {
     "name": "stdout",
     "output_type": "stream",
     "text": [
      "Epoch 7 Training Accuracy: tensor(0.6127)\n",
      "Testing Accuracy: tensor(0.6129)\n"
     ]
    },
    {
     "name": "stderr",
     "output_type": "stream",
     "text": [
      "\n",
      "Epoch: 7 | Batch: 2 | Loss 0.7097439169883728: 25it [10:32, 23.77s/it]\u001b[A\n",
      "Epoch: 8 | Batch: 0 | Loss 0.7040866613388062: 25it [10:32, 23.77s/it]\u001b[A\n",
      "Epoch: 8 | Batch: 0 | Loss 0.7040866613388062: 26it [11:06, 26.83s/it]\u001b[A\n",
      "Epoch: 8 | Batch: 1 | Loss 0.6542724370956421: 26it [11:06, 26.83s/it]\u001b[A\n",
      "Epoch: 8 | Batch: 1 | Loss 0.6542724370956421: 27it [11:19, 22.78s/it]\u001b[A\n",
      "Epoch: 8 | Batch: 2 | Loss 0.6035535931587219: 27it [11:19, 22.78s/it]\u001b[A"
     ]
    },
    {
     "name": "stdout",
     "output_type": "stream",
     "text": [
      "Epoch 8 Training Accuracy: tensor(0.6381)\n",
      "Testing Accuracy: tensor(0.6129)\n"
     ]
    },
    {
     "name": "stderr",
     "output_type": "stream",
     "text": [
      "\n",
      "Epoch: 8 | Batch: 2 | Loss 0.6035535931587219: 28it [11:47, 24.22s/it]\u001b[A\n",
      "Epoch: 9 | Batch: 0 | Loss 0.6560665369033813: 28it [11:47, 24.22s/it]\u001b[A\n",
      "Epoch: 9 | Batch: 0 | Loss 0.6560665369033813: 29it [12:14, 25.05s/it]\u001b[A\n",
      "Epoch: 9 | Batch: 1 | Loss 0.6538764834403992: 29it [12:14, 25.05s/it]\u001b[A\n",
      "Epoch: 9 | Batch: 1 | Loss 0.6538764834403992: 30it [12:27, 21.46s/it]\u001b[A\n",
      "Epoch: 9 | Batch: 2 | Loss 0.6995434761047363: 30it [12:27, 21.46s/it]\u001b[A"
     ]
    },
    {
     "name": "stdout",
     "output_type": "stream",
     "text": [
      "Epoch 9 Training Accuracy: tensor(0.6127)\n",
      "Testing Accuracy: tensor(0.6129)\n"
     ]
    },
    {
     "name": "stderr",
     "output_type": "stream",
     "text": [
      "\n",
      "Epoch: 9 | Batch: 2 | Loss 0.6995434761047363: 31it [12:56, 23.88s/it]\u001b[A\n",
      "Epoch: 10 | Batch: 0 | Loss 0.6598743796348572: 31it [12:56, 23.88s/it]\u001b[A\n",
      "Epoch: 10 | Batch: 0 | Loss 0.6598743796348572: 32it [13:22, 24.43s/it]\u001b[A\n",
      "Epoch: 10 | Batch: 1 | Loss 0.6698583364486694: 32it [13:22, 24.43s/it]\u001b[A\n",
      "Epoch: 10 | Batch: 1 | Loss 0.6698583364486694: 33it [13:40, 22.57s/it]\u001b[A\n",
      "Epoch: 10 | Batch: 2 | Loss 0.6483229398727417: 33it [13:40, 22.57s/it]\u001b[A"
     ]
    },
    {
     "name": "stdout",
     "output_type": "stream",
     "text": [
      "Epoch 10 Training Accuracy: tensor(0.6254)\n",
      "Testing Accuracy: tensor(0.6129)\n"
     ]
    },
    {
     "name": "stderr",
     "output_type": "stream",
     "text": [
      "\n",
      "Epoch: 10 | Batch: 2 | Loss 0.6483229398727417: 34it [14:08, 23.98s/it]\u001b[A\n",
      "Epoch: 11 | Batch: 0 | Loss 0.6352556943893433: 34it [14:08, 23.98s/it]\u001b[A\n",
      "Epoch: 11 | Batch: 0 | Loss 0.6352556943893433: 35it [14:37, 25.43s/it]\u001b[A\n",
      "Epoch: 11 | Batch: 1 | Loss 0.6681859493255615: 35it [14:37, 25.43s/it]\u001b[A\n",
      "Epoch: 11 | Batch: 1 | Loss 0.6681859493255615: 36it [14:52, 22.43s/it]\u001b[A\n",
      "Epoch: 11 | Batch: 2 | Loss 0.694245457649231: 36it [14:52, 22.43s/it] \u001b[A"
     ]
    },
    {
     "name": "stdout",
     "output_type": "stream",
     "text": [
      "Epoch 11 Training Accuracy: tensor(0.6127)\n",
      "Testing Accuracy: tensor(0.6129)\n"
     ]
    },
    {
     "name": "stderr",
     "output_type": "stream",
     "text": [
      "\n",
      "Epoch: 11 | Batch: 2 | Loss 0.694245457649231: 37it [15:29, 26.82s/it]\u001b[A\n",
      "Epoch: 12 | Batch: 0 | Loss 0.6294270753860474: 37it [15:29, 26.82s/it]\u001b[A\n",
      "Epoch: 12 | Batch: 0 | Loss 0.6294270753860474: 38it [15:58, 27.33s/it]\u001b[A\n",
      "Epoch: 12 | Batch: 1 | Loss 0.6947957277297974: 38it [15:58, 27.33s/it]\u001b[A\n",
      "Epoch: 12 | Batch: 1 | Loss 0.6947957277297974: 39it [16:11, 23.04s/it]\u001b[A\n",
      "Epoch: 12 | Batch: 2 | Loss 0.6398478746414185: 39it [16:11, 23.04s/it]\u001b[A"
     ]
    },
    {
     "name": "stdout",
     "output_type": "stream",
     "text": [
      "Epoch 12 Training Accuracy: tensor(0.6254)\n",
      "Testing Accuracy: tensor(0.6129)\n"
     ]
    },
    {
     "name": "stderr",
     "output_type": "stream",
     "text": [
      "\n",
      "Epoch: 12 | Batch: 2 | Loss 0.6398478746414185: 40it [16:38, 24.37s/it]\u001b[A\n",
      "Epoch: 13 | Batch: 0 | Loss 0.668300211429596: 40it [16:38, 24.37s/it] \u001b[A\n",
      "Epoch: 13 | Batch: 0 | Loss 0.668300211429596: 41it [17:06, 25.50s/it]\u001b[A\n",
      "Epoch: 13 | Batch: 1 | Loss 0.6493157148361206: 41it [17:06, 25.50s/it]\u001b[A\n",
      "Epoch: 13 | Batch: 1 | Loss 0.6493157148361206: 42it [17:19, 21.77s/it]\u001b[A\n",
      "Epoch: 13 | Batch: 2 | Loss 0.6433241963386536: 42it [17:19, 21.77s/it]\u001b[A"
     ]
    },
    {
     "name": "stdout",
     "output_type": "stream",
     "text": [
      "Epoch 13 Training Accuracy: tensor(0.6254)\n",
      "Testing Accuracy: tensor(0.6129)\n"
     ]
    },
    {
     "name": "stderr",
     "output_type": "stream",
     "text": [
      "\n",
      "Epoch: 13 | Batch: 2 | Loss 0.6433241963386536: 43it [17:47, 23.67s/it]\u001b[A\n",
      "Epoch: 14 | Batch: 0 | Loss 0.645719587802887: 43it [17:47, 23.67s/it] \u001b[A\n",
      "Epoch: 14 | Batch: 0 | Loss 0.645719587802887: 44it [18:14, 24.53s/it]\u001b[A\n",
      "Epoch: 14 | Batch: 1 | Loss 0.6483142971992493: 44it [18:14, 24.53s/it]\u001b[A\n",
      "Epoch: 14 | Batch: 1 | Loss 0.6483142971992493: 45it [18:28, 21.50s/it]\u001b[A\n",
      "Epoch: 14 | Batch: 2 | Loss 0.6824191212654114: 45it [18:28, 21.50s/it]\u001b[A"
     ]
    },
    {
     "name": "stdout",
     "output_type": "stream",
     "text": [
      "Epoch 14 Training Accuracy: tensor(0.6127)\n",
      "Testing Accuracy: tensor(0.6129)\n"
     ]
    },
    {
     "name": "stderr",
     "output_type": "stream",
     "text": [
      "\n",
      "Epoch: 14 | Batch: 2 | Loss 0.6824191212654114: 46it [19:08, 27.04s/it]\u001b[A\n",
      "Epoch: 15 | Batch: 0 | Loss 0.593453586101532: 46it [19:08, 27.04s/it] \u001b[A\n",
      "Epoch: 15 | Batch: 0 | Loss 0.593453586101532: 47it [19:57, 33.45s/it]\u001b[A\n",
      "Epoch: 15 | Batch: 1 | Loss 0.7026687860488892: 47it [19:57, 33.45s/it]\u001b[A\n",
      "Epoch: 15 | Batch: 1 | Loss 0.7026687860488892: 48it [20:14, 28.64s/it]\u001b[A\n",
      "Epoch: 15 | Batch: 2 | Loss 0.6665390729904175: 48it [20:14, 28.64s/it]\u001b[A"
     ]
    },
    {
     "name": "stdout",
     "output_type": "stream",
     "text": [
      "Epoch 15 Training Accuracy: tensor(0.6127)\n",
      "Testing Accuracy: tensor(0.6129)\n"
     ]
    },
    {
     "name": "stderr",
     "output_type": "stream",
     "text": [
      "\n",
      "Epoch: 15 | Batch: 2 | Loss 0.6665390729904175: 49it [21:01, 34.07s/it]\u001b[A\n",
      "Epoch: 16 | Batch: 0 | Loss 0.6711699962615967: 49it [21:01, 34.07s/it]\u001b[A\n",
      "Epoch: 16 | Batch: 0 | Loss 0.6711699962615967: 50it [21:30, 32.46s/it]\u001b[A\n",
      "Epoch: 16 | Batch: 1 | Loss 0.667550265789032: 50it [21:30, 32.46s/it] \u001b[A\n",
      "Epoch: 16 | Batch: 1 | Loss 0.667550265789032: 51it [21:42, 26.53s/it]\u001b[A\n",
      "Epoch: 16 | Batch: 2 | Loss 0.5662743449211121: 51it [21:42, 26.53s/it]\u001b[A"
     ]
    },
    {
     "name": "stdout",
     "output_type": "stream",
     "text": [
      "Epoch 16 Training Accuracy: tensor(0.6508)\n",
      "Testing Accuracy: tensor(0.6129)\n"
     ]
    },
    {
     "name": "stderr",
     "output_type": "stream",
     "text": [
      "\n",
      "Epoch: 16 | Batch: 2 | Loss 0.5662743449211121: 52it [22:13, 27.90s/it]\u001b[A\n",
      "Epoch: 17 | Batch: 0 | Loss 0.6866611838340759: 52it [22:13, 27.90s/it]\u001b[A\n",
      "Epoch: 17 | Batch: 0 | Loss 0.6866611838340759: 53it [22:43, 28.53s/it]\u001b[A\n",
      "Epoch: 17 | Batch: 1 | Loss 0.6498140692710876: 53it [22:43, 28.53s/it]\u001b[A\n",
      "Epoch: 17 | Batch: 1 | Loss 0.6498140692710876: 54it [22:58, 24.51s/it]\u001b[A\n",
      "Epoch: 17 | Batch: 2 | Loss 0.5603911876678467: 54it [22:58, 24.51s/it]\u001b[A"
     ]
    },
    {
     "name": "stdout",
     "output_type": "stream",
     "text": [
      "Epoch 17 Training Accuracy: tensor(0.6508)\n",
      "Testing Accuracy: tensor(0.6129)\n"
     ]
    },
    {
     "name": "stderr",
     "output_type": "stream",
     "text": [
      "\n",
      "Epoch: 17 | Batch: 2 | Loss 0.5603911876678467: 55it [23:27, 25.85s/it]\u001b[A\n",
      "Epoch: 18 | Batch: 0 | Loss 0.7068086266517639: 55it [23:27, 25.85s/it]\u001b[A\n",
      "Epoch: 18 | Batch: 0 | Loss 0.7068086266517639: 56it [23:53, 25.90s/it]\u001b[A\n",
      "Epoch: 18 | Batch: 1 | Loss 0.6298673152923584: 56it [23:53, 25.90s/it]\u001b[A\n",
      "Epoch: 18 | Batch: 1 | Loss 0.6298673152923584: 57it [24:05, 21.64s/it]\u001b[A\n",
      "Epoch: 18 | Batch: 2 | Loss 0.5466049313545227: 57it [24:05, 21.64s/it]\u001b[A"
     ]
    },
    {
     "name": "stdout",
     "output_type": "stream",
     "text": [
      "Epoch 18 Training Accuracy: tensor(0.6635)\n",
      "Testing Accuracy: tensor(0.6129)\n"
     ]
    },
    {
     "name": "stderr",
     "output_type": "stream",
     "text": [
      "\n",
      "Epoch: 18 | Batch: 2 | Loss 0.5466049313545227: 58it [24:33, 23.61s/it]\u001b[A\n",
      "Epoch: 19 | Batch: 0 | Loss 0.67048579454422: 58it [24:33, 23.61s/it]  \u001b[A\n",
      "Epoch: 19 | Batch: 0 | Loss 0.67048579454422: 59it [25:01, 24.73s/it]\u001b[A\n",
      "Epoch: 19 | Batch: 1 | Loss 0.6676149964332581: 59it [25:01, 24.73s/it]\u001b[A\n",
      "Epoch: 19 | Batch: 1 | Loss 0.6676149964332581: 60it [25:14, 21.25s/it]\u001b[A\n",
      "Epoch: 19 | Batch: 2 | Loss 0.5293594598770142: 60it [25:14, 21.25s/it]\u001b[A"
     ]
    },
    {
     "name": "stdout",
     "output_type": "stream",
     "text": [
      "Epoch 19 Training Accuracy: tensor(0.6635)\n",
      "Testing Accuracy: tensor(0.6129)\n"
     ]
    },
    {
     "name": "stderr",
     "output_type": "stream",
     "text": [
      "\n",
      "Epoch: 19 | Batch: 2 | Loss 0.5293594598770142: 61it [25:44, 23.81s/it]\u001b[A\n",
      "Epoch: 20 | Batch: 0 | Loss 0.6129240393638611: 61it [25:44, 23.81s/it]\u001b[A\n",
      "Epoch: 20 | Batch: 0 | Loss 0.6129240393638611: 62it [26:10, 24.57s/it]\u001b[A\n",
      "Epoch: 20 | Batch: 1 | Loss 0.6897843480110168: 62it [26:10, 24.57s/it]\u001b[A\n",
      "Epoch: 20 | Batch: 1 | Loss 0.6897843480110168: 63it [26:23, 21.09s/it]\u001b[A\n",
      "Epoch: 20 | Batch: 2 | Loss 0.6005019545555115: 63it [26:23, 21.09s/it]\u001b[A"
     ]
    },
    {
     "name": "stdout",
     "output_type": "stream",
     "text": [
      "Epoch 20 Training Accuracy: tensor(0.6381)\n",
      "Testing Accuracy: tensor(0.6129)\n"
     ]
    },
    {
     "name": "stderr",
     "output_type": "stream",
     "text": [
      "\n",
      "Epoch: 20 | Batch: 2 | Loss 0.6005019545555115: 64it [26:50, 22.75s/it]\u001b[A\n",
      "Epoch: 21 | Batch: 0 | Loss 0.601716160774231: 64it [26:50, 22.75s/it] \u001b[A\n",
      "Epoch: 21 | Batch: 0 | Loss 0.601716160774231: 65it [27:16, 23.84s/it]\u001b[A\n",
      "Epoch: 21 | Batch: 1 | Loss 0.6699743866920471: 65it [27:16, 23.84s/it]\u001b[A\n",
      "Epoch: 21 | Batch: 1 | Loss 0.6699743866920471: 66it [27:28, 20.44s/it]\u001b[A\n",
      "Epoch: 21 | Batch: 2 | Loss 0.6662444472312927: 66it [27:28, 20.44s/it]\u001b[A"
     ]
    },
    {
     "name": "stdout",
     "output_type": "stream",
     "text": [
      "Epoch 21 Training Accuracy: tensor(0.6127)\n",
      "Testing Accuracy: tensor(0.6129)\n"
     ]
    },
    {
     "name": "stderr",
     "output_type": "stream",
     "text": [
      "\n",
      "Epoch: 21 | Batch: 2 | Loss 0.6662444472312927: 67it [28:02, 24.46s/it]\u001b[A\n",
      "Epoch: 22 | Batch: 0 | Loss 0.6434007287025452: 67it [28:02, 24.46s/it]\u001b[A\n",
      "Epoch: 22 | Batch: 0 | Loss 0.6434007287025452: 68it [28:29, 25.18s/it]\u001b[A\n",
      "Epoch: 22 | Batch: 1 | Loss 0.6404732465744019: 68it [28:29, 25.18s/it]\u001b[A\n",
      "Epoch: 22 | Batch: 1 | Loss 0.6404732465744019: 69it [28:44, 22.02s/it]\u001b[A\n",
      "Epoch: 22 | Batch: 2 | Loss 0.6305200457572937: 69it [28:44, 22.02s/it]\u001b[A"
     ]
    },
    {
     "name": "stdout",
     "output_type": "stream",
     "text": [
      "Epoch 22 Training Accuracy: tensor(0.6254)\n",
      "Testing Accuracy: tensor(0.6129)\n"
     ]
    },
    {
     "name": "stderr",
     "output_type": "stream",
     "text": [
      "\n",
      "Epoch: 22 | Batch: 2 | Loss 0.6305200457572937: 70it [29:13, 24.07s/it]\u001b[A\n",
      "Epoch: 23 | Batch: 0 | Loss 0.6564017534255981: 70it [29:13, 24.07s/it]\u001b[A\n",
      "Epoch: 23 | Batch: 0 | Loss 0.6564017534255981: 71it [29:41, 25.40s/it]\u001b[A\n",
      "Epoch: 23 | Batch: 1 | Loss 0.6095532178878784: 71it [29:41, 25.40s/it]\u001b[A\n",
      "Epoch: 23 | Batch: 1 | Loss 0.6095532178878784: 72it [29:54, 21.73s/it]\u001b[A\n",
      "Epoch: 23 | Batch: 2 | Loss 0.6605923771858215: 72it [29:54, 21.73s/it]\u001b[A"
     ]
    },
    {
     "name": "stdout",
     "output_type": "stream",
     "text": [
      "Epoch 23 Training Accuracy: tensor(0.6254)\n",
      "Testing Accuracy: tensor(0.6129)\n"
     ]
    },
    {
     "name": "stderr",
     "output_type": "stream",
     "text": [
      "\n",
      "Epoch: 23 | Batch: 2 | Loss 0.6605923771858215: 73it [30:23, 23.68s/it]\u001b[A\n",
      "Epoch: 24 | Batch: 0 | Loss 0.7352299094200134: 73it [30:23, 23.68s/it]\u001b[A\n",
      "Epoch: 24 | Batch: 0 | Loss 0.7352299094200134: 74it [30:49, 24.58s/it]\u001b[A\n",
      "Epoch: 24 | Batch: 1 | Loss 0.5647952556610107: 74it [30:49, 24.58s/it]\u001b[A\n",
      "Epoch: 24 | Batch: 1 | Loss 0.5647952556610107: 75it [31:03, 21.33s/it]\u001b[A\n",
      "Epoch: 24 | Batch: 2 | Loss 0.5775772929191589: 75it [31:03, 21.33s/it]\u001b[A"
     ]
    },
    {
     "name": "stdout",
     "output_type": "stream",
     "text": [
      "Epoch 24 Training Accuracy: tensor(0.6381)\n",
      "Testing Accuracy: tensor(0.6129)\n"
     ]
    },
    {
     "name": "stderr",
     "output_type": "stream",
     "text": [
      "\n",
      "Epoch: 24 | Batch: 2 | Loss 0.5775772929191589: 76it [31:31, 23.19s/it]\u001b[A\n",
      "Epoch: 25 | Batch: 0 | Loss 0.6386614441871643: 76it [31:31, 23.19s/it]\u001b[A\n",
      "Epoch: 25 | Batch: 0 | Loss 0.6386614441871643: 77it [31:58, 24.39s/it]\u001b[A\n",
      "Epoch: 25 | Batch: 1 | Loss 0.6158375144004822: 77it [31:58, 24.39s/it]\u001b[A\n",
      "Epoch: 25 | Batch: 1 | Loss 0.6158375144004822: 78it [32:15, 22.24s/it]\u001b[A\n",
      "Epoch: 25 | Batch: 2 | Loss 0.6578925848007202: 78it [32:15, 22.24s/it]\u001b[A"
     ]
    },
    {
     "name": "stdout",
     "output_type": "stream",
     "text": [
      "Epoch 25 Training Accuracy: tensor(0.6127)\n",
      "Testing Accuracy: tensor(0.6129)\n"
     ]
    },
    {
     "name": "stderr",
     "output_type": "stream",
     "text": [
      "\n",
      "Epoch: 25 | Batch: 2 | Loss 0.6578925848007202: 79it [32:43, 24.07s/it]\u001b[A\n",
      "Epoch: 26 | Batch: 0 | Loss 0.605978786945343: 79it [32:43, 24.07s/it] \u001b[A\n",
      "Epoch: 26 | Batch: 0 | Loss 0.605978786945343: 80it [33:11, 25.31s/it]\u001b[A\n",
      "Epoch: 26 | Batch: 1 | Loss 0.6170176863670349: 80it [33:11, 25.31s/it]\u001b[A\n",
      "Epoch: 26 | Batch: 1 | Loss 0.6170176863670349: 81it [33:24, 21.41s/it]\u001b[A\n",
      "Epoch: 26 | Batch: 2 | Loss 0.7154979109764099: 81it [33:24, 21.41s/it]\u001b[A"
     ]
    },
    {
     "name": "stdout",
     "output_type": "stream",
     "text": [
      "Epoch 26 Training Accuracy: tensor(0.6000)\n",
      "Testing Accuracy: tensor(0.6129)\n"
     ]
    },
    {
     "name": "stderr",
     "output_type": "stream",
     "text": [
      "\n",
      "Epoch: 26 | Batch: 2 | Loss 0.7154979109764099: 82it [33:55, 24.46s/it]\u001b[A\n",
      "Epoch: 27 | Batch: 0 | Loss 0.5999649167060852: 82it [33:55, 24.46s/it]\u001b[A\n",
      "Epoch: 27 | Batch: 0 | Loss 0.5999649167060852: 83it [34:26, 26.36s/it]\u001b[A\n",
      "Epoch: 27 | Batch: 1 | Loss 0.6586428880691528: 83it [34:26, 26.36s/it]\u001b[A\n",
      "Epoch: 27 | Batch: 1 | Loss 0.6586428880691528: 84it [34:39, 22.45s/it]\u001b[A\n",
      "Epoch: 27 | Batch: 2 | Loss 0.6281252503395081: 84it [34:40, 22.45s/it]\u001b[A"
     ]
    },
    {
     "name": "stdout",
     "output_type": "stream",
     "text": [
      "Epoch 27 Training Accuracy: tensor(0.6254)\n",
      "Testing Accuracy: tensor(0.6129)\n"
     ]
    },
    {
     "name": "stderr",
     "output_type": "stream",
     "text": [
      "\n",
      "Epoch: 27 | Batch: 2 | Loss 0.6281252503395081: 85it [35:07, 23.85s/it]\u001b[A\n",
      "Epoch: 28 | Batch: 0 | Loss 0.6130061745643616: 85it [35:07, 23.85s/it]\u001b[A\n",
      "Epoch: 28 | Batch: 0 | Loss 0.6130061745643616: 86it [35:34, 25.07s/it]\u001b[A\n",
      "Epoch: 28 | Batch: 1 | Loss 0.6378093957901001: 86it [35:34, 25.07s/it]\u001b[A\n",
      "Epoch: 28 | Batch: 1 | Loss 0.6378093957901001: 87it [35:50, 22.11s/it]\u001b[A\n",
      "Epoch: 28 | Batch: 2 | Loss 0.6412953734397888: 87it [35:50, 22.11s/it]\u001b[A"
     ]
    },
    {
     "name": "stdout",
     "output_type": "stream",
     "text": [
      "Epoch 28 Training Accuracy: tensor(0.6492)\n",
      "Testing Accuracy: tensor(0.6129)\n"
     ]
    },
    {
     "name": "stderr",
     "output_type": "stream",
     "text": [
      "\n",
      "Epoch: 28 | Batch: 2 | Loss 0.6412953734397888: 88it [36:20, 24.63s/it]\u001b[A\n",
      "Epoch: 29 | Batch: 0 | Loss 0.6590326428413391: 88it [36:20, 24.63s/it]\u001b[A\n",
      "Epoch: 29 | Batch: 0 | Loss 0.6590326428413391: 89it [36:49, 25.96s/it]\u001b[A\n",
      "Epoch: 29 | Batch: 1 | Loss 0.6123549342155457: 89it [36:49, 25.96s/it]\u001b[A\n",
      "Epoch: 29 | Batch: 1 | Loss 0.6123549342155457: 90it [37:06, 23.24s/it]\u001b[A\n",
      "Epoch: 29 | Batch: 2 | Loss 0.5878924131393433: 90it [37:06, 23.24s/it]\u001b[A"
     ]
    },
    {
     "name": "stdout",
     "output_type": "stream",
     "text": [
      "Epoch 29 Training Accuracy: tensor(0.6714)\n",
      "Testing Accuracy: tensor(0.6129)\n"
     ]
    },
    {
     "name": "stderr",
     "output_type": "stream",
     "text": [
      "\n",
      "Epoch: 29 | Batch: 2 | Loss 0.5878924131393433: 91it [37:51, 29.58s/it]\u001b[A\n",
      "Epoch: 30 | Batch: 0 | Loss 0.6281537413597107: 91it [37:51, 29.58s/it]\u001b[A\n",
      "Epoch: 30 | Batch: 0 | Loss 0.6281537413597107: 92it [38:23, 30.47s/it]\u001b[A\n",
      "Epoch: 30 | Batch: 1 | Loss 0.6343525648117065: 92it [38:23, 30.47s/it]\u001b[A\n",
      "Epoch: 30 | Batch: 1 | Loss 0.6343525648117065: 93it [38:38, 25.90s/it]\u001b[A\n",
      "Epoch: 30 | Batch: 2 | Loss 0.5976943373680115: 93it [38:38, 25.90s/it]\u001b[A"
     ]
    },
    {
     "name": "stdout",
     "output_type": "stream",
     "text": [
      "Epoch 30 Training Accuracy: tensor(0.6714)\n",
      "Testing Accuracy: tensor(0.6129)\n"
     ]
    },
    {
     "name": "stderr",
     "output_type": "stream",
     "text": [
      "\n",
      "Epoch: 30 | Batch: 2 | Loss 0.5976943373680115: 94it [39:08, 27.07s/it]\u001b[A\n",
      "Epoch: 31 | Batch: 0 | Loss 0.5582433938980103: 94it [39:08, 27.07s/it]\u001b[A\n",
      "Epoch: 31 | Batch: 0 | Loss 0.5582433938980103: 95it [39:37, 27.63s/it]\u001b[A\n",
      "Epoch: 31 | Batch: 1 | Loss 0.7052693963050842: 95it [39:37, 27.63s/it]\u001b[A\n",
      "Epoch: 31 | Batch: 1 | Loss 0.7052693963050842: 96it [39:51, 23.66s/it]\u001b[A\n",
      "Epoch: 31 | Batch: 2 | Loss 0.5892425179481506: 96it [39:51, 23.66s/it]\u001b[A"
     ]
    },
    {
     "name": "stdout",
     "output_type": "stream",
     "text": [
      "Epoch 31 Training Accuracy: tensor(0.6714)\n",
      "Testing Accuracy: tensor(0.6129)\n"
     ]
    },
    {
     "name": "stderr",
     "output_type": "stream",
     "text": [
      "\n",
      "Epoch: 31 | Batch: 2 | Loss 0.5892425179481506: 97it [40:22, 25.60s/it]\u001b[A\n",
      "Epoch: 32 | Batch: 0 | Loss 0.5956041216850281: 97it [40:22, 25.60s/it]\u001b[A\n",
      "Epoch: 32 | Batch: 0 | Loss 0.5956041216850281: 98it [40:49, 26.25s/it]\u001b[A\n",
      "Epoch: 32 | Batch: 1 | Loss 0.5925739407539368: 98it [40:49, 26.25s/it]\u001b[A\n",
      "Epoch: 32 | Batch: 1 | Loss 0.5925739407539368: 99it [41:03, 22.58s/it]\u001b[A\n",
      "Epoch: 32 | Batch: 2 | Loss 0.7454431653022766: 99it [41:03, 22.58s/it]\u001b[A"
     ]
    },
    {
     "name": "stdout",
     "output_type": "stream",
     "text": [
      "Epoch 32 Training Accuracy: tensor(0.6206)\n",
      "Testing Accuracy: tensor(0.6129)\n"
     ]
    },
    {
     "name": "stderr",
     "output_type": "stream",
     "text": [
      "\n",
      "Epoch: 32 | Batch: 2 | Loss 0.7454431653022766: 100it [41:33, 24.74s/it]\u001b[A\n",
      "Epoch: 33 | Batch: 0 | Loss 0.5592710375785828: 100it [41:33, 24.74s/it]\u001b[A\n",
      "Epoch: 33 | Batch: 0 | Loss 0.5592710375785828: 101it [42:03, 26.39s/it]\u001b[A\n",
      "Epoch: 33 | Batch: 1 | Loss 0.6558516025543213: 101it [42:03, 26.39s/it]\u001b[A\n",
      "Epoch: 33 | Batch: 1 | Loss 0.6558516025543213: 102it [42:16, 22.36s/it]\u001b[A\n",
      "Epoch: 33 | Batch: 2 | Loss 0.6785245537757874: 102it [42:16, 22.36s/it]\u001b[A"
     ]
    },
    {
     "name": "stdout",
     "output_type": "stream",
     "text": [
      "Epoch 33 Training Accuracy: tensor(0.6460)\n",
      "Testing Accuracy: tensor(0.6129)\n"
     ]
    },
    {
     "name": "stderr",
     "output_type": "stream",
     "text": [
      "\n",
      "Epoch: 33 | Batch: 2 | Loss 0.6785245537757874: 103it [42:54, 27.10s/it]\u001b[A\n",
      "Epoch: 34 | Batch: 0 | Loss 0.626297116279602: 103it [42:54, 27.10s/it] \u001b[A\n",
      "Epoch: 34 | Batch: 0 | Loss 0.626297116279602: 104it [43:24, 27.69s/it]\u001b[A\n",
      "Epoch: 34 | Batch: 1 | Loss 0.6074919104576111: 104it [43:24, 27.69s/it]\u001b[A\n",
      "Epoch: 34 | Batch: 1 | Loss 0.6074919104576111: 105it [43:37, 23.47s/it]\u001b[A\n",
      "Epoch: 34 | Batch: 2 | Loss 0.6300560832023621: 105it [43:37, 23.47s/it]\u001b[A"
     ]
    },
    {
     "name": "stdout",
     "output_type": "stream",
     "text": [
      "Epoch 34 Training Accuracy: tensor(0.6587)\n",
      "Testing Accuracy: tensor(0.6129)\n"
     ]
    },
    {
     "name": "stderr",
     "output_type": "stream",
     "text": [
      "\n",
      "Epoch: 34 | Batch: 2 | Loss 0.6300560832023621: 106it [44:06, 25.05s/it]\u001b[A\n",
      "Epoch: 35 | Batch: 0 | Loss 0.6730278730392456: 106it [44:06, 25.05s/it]\u001b[A\n",
      "Epoch: 35 | Batch: 0 | Loss 0.6730278730392456: 107it [44:35, 26.36s/it]\u001b[A\n",
      "Epoch: 35 | Batch: 1 | Loss 0.6218289136886597: 107it [44:35, 26.36s/it]\u001b[A\n",
      "Epoch: 35 | Batch: 1 | Loss 0.6218289136886597: 108it [44:49, 22.68s/it]\u001b[A\n",
      "Epoch: 35 | Batch: 2 | Loss 0.4999900460243225: 108it [44:49, 22.68s/it]\u001b[A"
     ]
    },
    {
     "name": "stdout",
     "output_type": "stream",
     "text": [
      "Epoch 35 Training Accuracy: tensor(0.7317)\n",
      "Testing Accuracy: tensor(0.6129)\n"
     ]
    },
    {
     "name": "stderr",
     "output_type": "stream",
     "text": [
      "\n",
      "Epoch: 35 | Batch: 2 | Loss 0.4999900460243225: 109it [45:18, 24.59s/it]\u001b[A\n",
      "Epoch: 36 | Batch: 0 | Loss 0.609196126461029: 109it [45:18, 24.59s/it] \u001b[A\n",
      "Epoch: 36 | Batch: 0 | Loss 0.609196126461029: 110it [45:50, 26.60s/it]\u001b[A\n",
      "Epoch: 36 | Batch: 1 | Loss 0.6179143786430359: 110it [45:50, 26.60s/it]\u001b[A\n",
      "Epoch: 36 | Batch: 1 | Loss 0.6179143786430359: 111it [46:04, 22.83s/it]\u001b[A\n",
      "Epoch: 36 | Batch: 2 | Loss 0.6334311366081238: 111it [46:04, 22.83s/it]\u001b[A"
     ]
    },
    {
     "name": "stdout",
     "output_type": "stream",
     "text": [
      "Epoch 36 Training Accuracy: tensor(0.7159)\n",
      "Testing Accuracy: tensor(0.6129)\n"
     ]
    },
    {
     "name": "stderr",
     "output_type": "stream",
     "text": [
      "\n",
      "Epoch: 36 | Batch: 2 | Loss 0.6334311366081238: 112it [46:32, 24.45s/it]\u001b[A\n",
      "Epoch: 37 | Batch: 0 | Loss 0.6601619124412537: 112it [46:32, 24.45s/it]\u001b[A\n",
      "Epoch: 37 | Batch: 0 | Loss 0.6601619124412537: 113it [47:00, 25.41s/it]\u001b[A\n",
      "Epoch: 37 | Batch: 1 | Loss 0.5512336492538452: 113it [47:00, 25.41s/it]\u001b[A\n",
      "Epoch: 37 | Batch: 1 | Loss 0.5512336492538452: 114it [47:12, 21.51s/it]\u001b[A\n",
      "Epoch: 37 | Batch: 2 | Loss 0.659829318523407: 114it [47:12, 21.51s/it] \u001b[A"
     ]
    },
    {
     "name": "stdout",
     "output_type": "stream",
     "text": [
      "Epoch 37 Training Accuracy: tensor(0.7159)\n",
      "Testing Accuracy: tensor(0.6129)\n"
     ]
    },
    {
     "name": "stderr",
     "output_type": "stream",
     "text": [
      "\n",
      "Epoch: 37 | Batch: 2 | Loss 0.659829318523407: 115it [47:40, 23.35s/it]\u001b[A\n",
      "Epoch: 38 | Batch: 0 | Loss 0.6040235161781311: 115it [47:40, 23.35s/it]\u001b[A\n",
      "Epoch: 38 | Batch: 0 | Loss 0.6040235161781311: 116it [48:07, 24.62s/it]\u001b[A\n",
      "Epoch: 38 | Batch: 1 | Loss 0.6440403461456299: 116it [48:07, 24.62s/it]\u001b[A\n",
      "Epoch: 38 | Batch: 1 | Loss 0.6440403461456299: 117it [48:20, 21.05s/it]\u001b[A\n",
      "Epoch: 38 | Batch: 2 | Loss 0.5759015679359436: 117it [48:20, 21.05s/it]\u001b[A"
     ]
    },
    {
     "name": "stdout",
     "output_type": "stream",
     "text": [
      "Epoch 38 Training Accuracy: tensor(0.7159)\n",
      "Testing Accuracy: tensor(0.6129)\n"
     ]
    },
    {
     "name": "stderr",
     "output_type": "stream",
     "text": [
      "\n",
      "Epoch: 38 | Batch: 2 | Loss 0.5759015679359436: 118it [48:48, 23.00s/it]\u001b[A\n",
      "Epoch: 39 | Batch: 0 | Loss 0.6020628213882446: 118it [48:48, 23.00s/it]\u001b[A\n",
      "Epoch: 39 | Batch: 0 | Loss 0.6020628213882446: 119it [49:15, 24.43s/it]\u001b[A\n",
      "Epoch: 39 | Batch: 1 | Loss 0.5873286128044128: 119it [49:15, 24.43s/it]\u001b[A\n",
      "Epoch: 39 | Batch: 1 | Loss 0.5873286128044128: 120it [49:29, 21.23s/it]\u001b[A\n",
      "Epoch: 39 | Batch: 2 | Loss 0.6969767808914185: 120it [49:29, 21.23s/it]\u001b[A"
     ]
    },
    {
     "name": "stdout",
     "output_type": "stream",
     "text": [
      "Epoch 39 Training Accuracy: tensor(0.7032)\n",
      "Testing Accuracy: tensor(0.6129)\n"
     ]
    },
    {
     "name": "stderr",
     "output_type": "stream",
     "text": [
      "\n",
      "Epoch: 39 | Batch: 2 | Loss 0.6969767808914185: 121it [49:57, 23.17s/it]\u001b[A\n",
      "Epoch: 40 | Batch: 0 | Loss 0.614905595779419: 121it [49:57, 23.17s/it] \u001b[A\n",
      "Epoch: 40 | Batch: 0 | Loss 0.614905595779419: 122it [50:25, 24.56s/it]\u001b[A\n",
      "Epoch: 40 | Batch: 1 | Loss 0.6499292850494385: 122it [50:25, 24.56s/it]\u001b[A\n",
      "Epoch: 40 | Batch: 1 | Loss 0.6499292850494385: 123it [50:38, 21.11s/it]\u001b[A\n",
      "Epoch: 40 | Batch: 2 | Loss 0.5302067995071411: 123it [50:38, 21.11s/it]\u001b[A"
     ]
    },
    {
     "name": "stdout",
     "output_type": "stream",
     "text": [
      "Epoch 40 Training Accuracy: tensor(0.7524)\n",
      "Testing Accuracy: tensor(0.6129)\n"
     ]
    },
    {
     "name": "stderr",
     "output_type": "stream",
     "text": [
      "\n",
      "Epoch: 40 | Batch: 2 | Loss 0.5302067995071411: 124it [51:05, 22.95s/it]\u001b[A\n",
      "Epoch: 41 | Batch: 0 | Loss 0.5729500651359558: 124it [51:05, 22.95s/it]\u001b[A\n",
      "Epoch: 41 | Batch: 0 | Loss 0.5729500651359558: 125it [51:33, 24.37s/it]\u001b[A\n",
      "Epoch: 41 | Batch: 1 | Loss 0.6736193299293518: 125it [51:33, 24.37s/it]\u001b[A\n",
      "Epoch: 41 | Batch: 1 | Loss 0.6736193299293518: 126it [51:46, 21.03s/it]\u001b[A\n",
      "Epoch: 41 | Batch: 2 | Loss 0.5657194256782532: 126it [51:46, 21.03s/it]\u001b[A"
     ]
    },
    {
     "name": "stdout",
     "output_type": "stream",
     "text": [
      "Epoch 41 Training Accuracy: tensor(0.7635)\n",
      "Testing Accuracy: tensor(0.6129)\n"
     ]
    },
    {
     "name": "stderr",
     "output_type": "stream",
     "text": [
      "\n",
      "Epoch: 41 | Batch: 2 | Loss 0.5657194256782532: 127it [52:15, 23.40s/it]\u001b[A\n",
      "Epoch: 42 | Batch: 0 | Loss 0.5967233180999756: 127it [52:15, 23.40s/it]\u001b[A\n",
      "Epoch: 42 | Batch: 0 | Loss 0.5967233180999756: 128it [52:42, 24.60s/it]\u001b[A\n",
      "Epoch: 42 | Batch: 1 | Loss 0.5900374054908752: 128it [52:42, 24.60s/it]\u001b[A\n",
      "Epoch: 42 | Batch: 1 | Loss 0.5900374054908752: 129it [52:56, 21.30s/it]\u001b[A\n",
      "Epoch: 42 | Batch: 2 | Loss 0.6890602111816406: 129it [52:56, 21.30s/it]\u001b[A"
     ]
    },
    {
     "name": "stdout",
     "output_type": "stream",
     "text": [
      "Epoch 42 Training Accuracy: tensor(0.6778)\n",
      "Testing Accuracy: tensor(0.6129)\n"
     ]
    },
    {
     "name": "stderr",
     "output_type": "stream",
     "text": [
      "\n",
      "Epoch: 42 | Batch: 2 | Loss 0.6890602111816406: 130it [53:24, 23.40s/it]\u001b[A\n",
      "Epoch: 43 | Batch: 0 | Loss 0.6512612700462341: 130it [53:24, 23.40s/it]\u001b[A\n",
      "Epoch: 43 | Batch: 0 | Loss 0.6512612700462341: 131it [53:52, 24.81s/it]\u001b[A\n",
      "Epoch: 43 | Batch: 1 | Loss 0.6012008190155029: 131it [53:52, 24.81s/it]\u001b[A\n",
      "Epoch: 43 | Batch: 1 | Loss 0.6012008190155029: 132it [54:05, 21.17s/it]\u001b[A\n",
      "Epoch: 43 | Batch: 2 | Loss 0.5443673729896545: 132it [54:05, 21.17s/it]\u001b[A"
     ]
    },
    {
     "name": "stdout",
     "output_type": "stream",
     "text": [
      "Epoch 43 Training Accuracy: tensor(0.7524)\n",
      "Testing Accuracy: tensor(0.6129)\n"
     ]
    },
    {
     "name": "stderr",
     "output_type": "stream",
     "text": [
      "\n",
      "Epoch: 43 | Batch: 2 | Loss 0.5443673729896545: 133it [54:32, 23.09s/it]\u001b[A\n",
      "Epoch: 44 | Batch: 0 | Loss 0.6297463178634644: 133it [54:32, 23.09s/it]\u001b[A\n",
      "Epoch: 44 | Batch: 0 | Loss 0.6297463178634644: 134it [55:00, 24.49s/it]\u001b[A\n",
      "Epoch: 44 | Batch: 1 | Loss 0.5692647099494934: 134it [55:00, 24.49s/it]\u001b[A\n",
      "Epoch: 44 | Batch: 1 | Loss 0.5692647099494934: 135it [55:14, 21.27s/it]\u001b[A\n",
      "Epoch: 44 | Batch: 2 | Loss 0.6534485220909119: 135it [55:14, 21.27s/it]\u001b[A"
     ]
    },
    {
     "name": "stdout",
     "output_type": "stream",
     "text": [
      "Epoch 44 Training Accuracy: tensor(0.7254)\n",
      "Testing Accuracy: tensor(0.6129)\n"
     ]
    },
    {
     "name": "stderr",
     "output_type": "stream",
     "text": [
      "\n",
      "Epoch: 44 | Batch: 2 | Loss 0.6534485220909119: 136it [55:41, 23.14s/it]\u001b[A\n",
      "Epoch: 45 | Batch: 0 | Loss 0.6502367854118347: 136it [55:41, 23.14s/it]\u001b[A\n",
      "Epoch: 45 | Batch: 0 | Loss 0.6502367854118347: 137it [56:09, 24.42s/it]\u001b[A\n",
      "Epoch: 45 | Batch: 1 | Loss 0.5865944027900696: 137it [56:09, 24.42s/it]\u001b[A\n",
      "Epoch: 45 | Batch: 1 | Loss 0.5865944027900696: 138it [56:21, 20.80s/it]\u001b[A\n",
      "Epoch: 45 | Batch: 2 | Loss 0.5692833065986633: 138it [56:21, 20.80s/it]\u001b[A"
     ]
    },
    {
     "name": "stdout",
     "output_type": "stream",
     "text": [
      "Epoch 45 Training Accuracy: tensor(0.7508)\n",
      "Testing Accuracy: tensor(0.6129)\n"
     ]
    },
    {
     "name": "stderr",
     "output_type": "stream",
     "text": [
      "\n",
      "Epoch: 45 | Batch: 2 | Loss 0.5692833065986633: 139it [56:49, 22.82s/it]\u001b[A\n",
      "Epoch: 46 | Batch: 0 | Loss 0.6534196138381958: 139it [56:49, 22.82s/it]\u001b[A\n",
      "Epoch: 46 | Batch: 0 | Loss 0.6534196138381958: 140it [57:16, 24.16s/it]\u001b[A\n",
      "Epoch: 46 | Batch: 1 | Loss 0.5419378876686096: 140it [57:16, 24.16s/it]\u001b[A\n",
      "Epoch: 46 | Batch: 1 | Loss 0.5419378876686096: 141it [57:29, 20.78s/it]\u001b[A\n",
      "Epoch: 46 | Batch: 2 | Loss 0.6539698839187622: 141it [57:29, 20.78s/it]\u001b[A"
     ]
    },
    {
     "name": "stdout",
     "output_type": "stream",
     "text": [
      "Epoch 46 Training Accuracy: tensor(0.7381)\n",
      "Testing Accuracy: tensor(0.6129)\n"
     ]
    },
    {
     "name": "stderr",
     "output_type": "stream",
     "text": [
      "\n",
      "Epoch: 46 | Batch: 2 | Loss 0.6539698839187622: 142it [57:56, 22.68s/it]\u001b[A\n",
      "Epoch: 47 | Batch: 0 | Loss 0.5922868847846985: 142it [57:56, 22.68s/it]\u001b[A\n",
      "Epoch: 47 | Batch: 0 | Loss 0.5922868847846985: 143it [58:23, 24.05s/it]\u001b[A\n",
      "Epoch: 47 | Batch: 1 | Loss 0.6739731431007385: 143it [58:23, 24.05s/it]\u001b[A\n",
      "Epoch: 47 | Batch: 1 | Loss 0.6739731431007385: 144it [58:37, 20.87s/it]\u001b[A\n",
      "Epoch: 47 | Batch: 2 | Loss 0.4981277883052826: 144it [58:37, 20.87s/it]\u001b[A"
     ]
    },
    {
     "name": "stdout",
     "output_type": "stream",
     "text": [
      "Epoch 47 Training Accuracy: tensor(0.7635)\n",
      "Testing Accuracy: tensor(0.6129)\n"
     ]
    },
    {
     "name": "stderr",
     "output_type": "stream",
     "text": [
      "\n",
      "Epoch: 47 | Batch: 2 | Loss 0.4981277883052826: 145it [59:05, 23.09s/it]\u001b[A\n",
      "Epoch: 48 | Batch: 0 | Loss 0.5919472575187683: 145it [59:05, 23.09s/it]\u001b[A\n",
      "Epoch: 48 | Batch: 0 | Loss 0.5919472575187683: 146it [59:34, 24.73s/it]\u001b[A\n",
      "Epoch: 48 | Batch: 1 | Loss 0.6117656826972961: 146it [59:34, 24.73s/it]\u001b[A\n",
      "Epoch: 48 | Batch: 1 | Loss 0.6117656826972961: 147it [59:46, 21.20s/it]\u001b[A\n",
      "Epoch: 48 | Batch: 2 | Loss 0.6278408169746399: 147it [59:46, 21.20s/it]\u001b[A"
     ]
    },
    {
     "name": "stdout",
     "output_type": "stream",
     "text": [
      "Epoch 48 Training Accuracy: tensor(0.7381)\n",
      "Testing Accuracy: tensor(0.6129)\n"
     ]
    },
    {
     "name": "stderr",
     "output_type": "stream",
     "text": [
      "\n",
      "Epoch: 48 | Batch: 2 | Loss 0.6278408169746399: 148it [1:00:13, 22.79s/it]\u001b[A\n",
      "Epoch: 49 | Batch: 0 | Loss 0.5957120060920715: 148it [1:00:13, 22.79s/it]\u001b[A\n",
      "Epoch: 49 | Batch: 0 | Loss 0.5957120060920715: 149it [1:00:41, 24.36s/it]\u001b[A\n",
      "Epoch: 49 | Batch: 1 | Loss 0.6491173505783081: 149it [1:00:41, 24.36s/it]\u001b[A\n",
      "Epoch: 49 | Batch: 1 | Loss 0.6491173505783081: 150it [1:00:54, 20.98s/it]\u001b[A\n",
      "Epoch: 49 | Batch: 2 | Loss 0.5371275544166565: 150it [1:00:54, 20.98s/it]\u001b[A"
     ]
    },
    {
     "name": "stdout",
     "output_type": "stream",
     "text": [
      "Epoch 49 Training Accuracy: tensor(0.7619)\n",
      "Testing Accuracy: tensor(0.6129)\n"
     ]
    },
    {
     "name": "stderr",
     "output_type": "stream",
     "text": [
      "\n",
      "Epoch: 49 | Batch: 2 | Loss 0.5371275544166565: 151it [1:01:23, 23.24s/it]\u001b[A\n",
      "Epoch: 50 | Batch: 0 | Loss 0.609880805015564: 151it [1:01:23, 23.24s/it] \u001b[A\n",
      "Epoch: 50 | Batch: 0 | Loss 0.609880805015564: 152it [1:01:51, 24.64s/it]\u001b[A\n",
      "Epoch: 50 | Batch: 1 | Loss 0.6261815428733826: 152it [1:01:51, 24.64s/it]\u001b[A\n",
      "Epoch: 50 | Batch: 1 | Loss 0.6261815428733826: 153it [1:02:02, 20.84s/it]\u001b[A\n",
      "Epoch: 50 | Batch: 2 | Loss 0.5516117811203003: 153it [1:02:02, 20.84s/it]\u001b[A"
     ]
    },
    {
     "name": "stdout",
     "output_type": "stream",
     "text": [
      "Epoch 50 Training Accuracy: tensor(0.7746)\n",
      "Testing Accuracy: tensor(0.6129)\n"
     ]
    },
    {
     "name": "stderr",
     "output_type": "stream",
     "text": [
      "\n",
      "Epoch: 50 | Batch: 2 | Loss 0.5516117811203003: 154it [1:02:29, 22.66s/it]\u001b[A\n",
      "Epoch: 51 | Batch: 0 | Loss 0.5594229102134705: 154it [1:02:29, 22.66s/it]\u001b[A\n",
      "Epoch: 51 | Batch: 0 | Loss 0.5594229102134705: 155it [1:02:55, 23.67s/it]\u001b[A\n",
      "Epoch: 51 | Batch: 1 | Loss 0.6674142479896545: 155it [1:02:55, 23.67s/it]\u001b[A\n",
      "Epoch: 51 | Batch: 1 | Loss 0.6674142479896545: 156it [1:03:07, 20.17s/it]\u001b[A\n",
      "Epoch: 51 | Batch: 2 | Loss 0.5685645937919617: 156it [1:03:07, 20.17s/it]\u001b[A"
     ]
    },
    {
     "name": "stdout",
     "output_type": "stream",
     "text": [
      "Epoch 51 Training Accuracy: tensor(0.7619)\n",
      "Testing Accuracy: tensor(0.6129)\n"
     ]
    },
    {
     "name": "stderr",
     "output_type": "stream",
     "text": [
      "\n",
      "Epoch: 51 | Batch: 2 | Loss 0.5685645937919617: 157it [1:03:34, 22.05s/it]\u001b[A\n",
      "Epoch: 52 | Batch: 0 | Loss 0.5928369164466858: 157it [1:03:34, 22.05s/it]\u001b[A\n",
      "Epoch: 52 | Batch: 0 | Loss 0.5928369164466858: 158it [1:04:00, 23.42s/it]\u001b[A\n",
      "Epoch: 52 | Batch: 1 | Loss 0.6819140315055847: 158it [1:04:00, 23.42s/it]\u001b[A\n",
      "Epoch: 52 | Batch: 1 | Loss 0.6819140315055847: 159it [1:04:13, 20.04s/it]\u001b[A\n",
      "Epoch: 52 | Batch: 2 | Loss 0.4641275703907013: 159it [1:04:13, 20.04s/it]\u001b[A"
     ]
    },
    {
     "name": "stdout",
     "output_type": "stream",
     "text": [
      "Epoch 52 Training Accuracy: tensor(0.7873)\n",
      "Testing Accuracy: tensor(0.6129)\n"
     ]
    },
    {
     "name": "stderr",
     "output_type": "stream",
     "text": [
      "\n",
      "Epoch: 52 | Batch: 2 | Loss 0.4641275703907013: 160it [1:04:38, 21.78s/it]\u001b[A\n",
      "Epoch: 53 | Batch: 0 | Loss 0.6889216899871826: 160it [1:04:38, 21.78s/it]\u001b[A\n",
      "Epoch: 53 | Batch: 0 | Loss 0.6889216899871826: 161it [1:05:04, 23.02s/it]\u001b[A\n",
      "Epoch: 53 | Batch: 1 | Loss 0.5479732155799866: 161it [1:05:04, 23.02s/it]\u001b[A\n",
      "Epoch: 53 | Batch: 1 | Loss 0.5479732155799866: 162it [1:05:17, 19.90s/it]\u001b[A\n",
      "Epoch: 53 | Batch: 2 | Loss 0.5397585034370422: 162it [1:05:17, 19.90s/it]\u001b[A"
     ]
    },
    {
     "name": "stdout",
     "output_type": "stream",
     "text": [
      "Epoch 53 Training Accuracy: tensor(0.7746)\n",
      "Testing Accuracy: tensor(0.6129)\n"
     ]
    },
    {
     "name": "stderr",
     "output_type": "stream",
     "text": [
      "\n",
      "Epoch: 53 | Batch: 2 | Loss 0.5397585034370422: 163it [1:05:44, 22.02s/it]\u001b[A\n",
      "Epoch: 54 | Batch: 0 | Loss 0.599532961845398: 163it [1:05:44, 22.02s/it] \u001b[A\n",
      "Epoch: 54 | Batch: 0 | Loss 0.599532961845398: 164it [1:06:11, 23.47s/it]\u001b[A\n",
      "Epoch: 54 | Batch: 1 | Loss 0.5981946587562561: 164it [1:06:11, 23.47s/it]\u001b[A\n",
      "Epoch: 54 | Batch: 1 | Loss 0.5981946587562561: 165it [1:06:24, 20.23s/it]\u001b[A\n",
      "Epoch: 54 | Batch: 2 | Loss 0.6254451870918274: 165it [1:06:24, 20.23s/it]\u001b[A"
     ]
    },
    {
     "name": "stdout",
     "output_type": "stream",
     "text": [
      "Epoch 54 Training Accuracy: tensor(0.7381)\n",
      "Testing Accuracy: tensor(0.6129)\n"
     ]
    },
    {
     "name": "stderr",
     "output_type": "stream",
     "text": [
      "\n",
      "Epoch: 54 | Batch: 2 | Loss 0.6254451870918274: 166it [1:06:50, 21.97s/it]\u001b[A\n",
      "Epoch: 55 | Batch: 0 | Loss 0.6115105748176575: 166it [1:06:50, 21.97s/it]\u001b[A\n",
      "Epoch: 55 | Batch: 0 | Loss 0.6115105748176575: 167it [1:07:17, 23.51s/it]\u001b[A\n",
      "Epoch: 55 | Batch: 1 | Loss 0.5479126572608948: 167it [1:07:17, 23.51s/it]\u001b[A\n",
      "Epoch: 55 | Batch: 1 | Loss 0.5479126572608948: 168it [1:07:29, 20.19s/it]\u001b[A\n",
      "Epoch: 55 | Batch: 2 | Loss 0.7074431777000427: 168it [1:07:29, 20.19s/it]\u001b[A"
     ]
    },
    {
     "name": "stdout",
     "output_type": "stream",
     "text": [
      "Epoch 55 Training Accuracy: tensor(0.7127)\n",
      "Testing Accuracy: tensor(0.6129)\n"
     ]
    },
    {
     "name": "stderr",
     "output_type": "stream",
     "text": [
      "\n",
      "Epoch: 55 | Batch: 2 | Loss 0.7074431777000427: 169it [1:07:56, 22.21s/it]\u001b[A\n",
      "Epoch: 56 | Batch: 0 | Loss 0.6376523375511169: 169it [1:07:56, 22.21s/it]\u001b[A\n",
      "Epoch: 56 | Batch: 0 | Loss 0.6376523375511169: 170it [1:08:23, 23.55s/it]\u001b[A\n",
      "Epoch: 56 | Batch: 1 | Loss 0.583234429359436: 170it [1:08:23, 23.55s/it] \u001b[A\n",
      "Epoch: 56 | Batch: 1 | Loss 0.583234429359436: 171it [1:08:35, 20.17s/it]\u001b[A\n",
      "Epoch: 56 | Batch: 2 | Loss 0.574402391910553: 171it [1:08:35, 20.17s/it]\u001b[A"
     ]
    },
    {
     "name": "stdout",
     "output_type": "stream",
     "text": [
      "Epoch 56 Training Accuracy: tensor(0.7508)\n",
      "Testing Accuracy: tensor(0.6129)\n"
     ]
    },
    {
     "name": "stderr",
     "output_type": "stream",
     "text": [
      "\n",
      "Epoch: 56 | Batch: 2 | Loss 0.574402391910553: 172it [1:09:02, 22.25s/it]\u001b[A\n",
      "Epoch: 57 | Batch: 0 | Loss 0.5802524089813232: 172it [1:09:02, 22.25s/it]\u001b[A\n",
      "Epoch: 57 | Batch: 0 | Loss 0.5802524089813232: 173it [1:09:29, 23.64s/it]\u001b[A\n",
      "Epoch: 57 | Batch: 1 | Loss 0.6858838796615601: 173it [1:09:29, 23.64s/it]\u001b[A\n",
      "Epoch: 57 | Batch: 1 | Loss 0.6858838796615601: 174it [1:09:41, 20.27s/it]\u001b[A\n",
      "Epoch: 57 | Batch: 2 | Loss 0.47084441781044006: 174it [1:09:41, 20.27s/it]\u001b[A"
     ]
    },
    {
     "name": "stdout",
     "output_type": "stream",
     "text": [
      "Epoch 57 Training Accuracy: tensor(0.8000)\n",
      "Testing Accuracy: tensor(0.6129)\n"
     ]
    },
    {
     "name": "stderr",
     "output_type": "stream",
     "text": [
      "\n",
      "Epoch: 57 | Batch: 2 | Loss 0.47084441781044006: 175it [1:10:09, 22.58s/it]\u001b[A\n",
      "Epoch: 58 | Batch: 0 | Loss 0.7086648344993591: 175it [1:10:09, 22.58s/it] \u001b[A\n",
      "Epoch: 58 | Batch: 0 | Loss 0.7086648344993591: 176it [1:10:36, 23.93s/it]\u001b[A\n",
      "Epoch: 58 | Batch: 1 | Loss 0.5324938297271729: 176it [1:10:36, 23.93s/it]\u001b[A\n",
      "Epoch: 58 | Batch: 1 | Loss 0.5324938297271729: 177it [1:10:48, 20.35s/it]\u001b[A\n",
      "Epoch: 58 | Batch: 2 | Loss 0.521095871925354: 177it [1:10:48, 20.35s/it] \u001b[A"
     ]
    },
    {
     "name": "stdout",
     "output_type": "stream",
     "text": [
      "Epoch 58 Training Accuracy: tensor(0.7746)\n",
      "Testing Accuracy: tensor(0.6129)\n"
     ]
    },
    {
     "name": "stderr",
     "output_type": "stream",
     "text": [
      "\n",
      "Epoch: 58 | Batch: 2 | Loss 0.521095871925354: 178it [1:11:15, 22.26s/it]\u001b[A\n",
      "Epoch: 59 | Batch: 0 | Loss 0.5556524395942688: 178it [1:11:15, 22.26s/it]\u001b[A\n",
      "Epoch: 59 | Batch: 0 | Loss 0.5556524395942688: 179it [1:11:42, 23.63s/it]\u001b[A\n",
      "Epoch: 59 | Batch: 1 | Loss 0.5903765559196472: 179it [1:11:42, 23.63s/it]\u001b[A\n",
      "Epoch: 59 | Batch: 1 | Loss 0.5903765559196472: 180it [1:11:55, 20.46s/it]\u001b[A\n",
      "Epoch: 59 | Batch: 2 | Loss 0.7250396013259888: 180it [1:11:55, 20.46s/it]\u001b[A"
     ]
    },
    {
     "name": "stdout",
     "output_type": "stream",
     "text": [
      "Epoch 59 Training Accuracy: tensor(0.7365)\n",
      "Testing Accuracy: tensor(0.6129)\n"
     ]
    },
    {
     "name": "stderr",
     "output_type": "stream",
     "text": [
      "\n",
      "Epoch: 59 | Batch: 2 | Loss 0.7250396013259888: 181it [1:12:22, 22.32s/it]\u001b[A\n",
      "Epoch: 60 | Batch: 0 | Loss 0.5847881436347961: 181it [1:12:22, 22.32s/it]\u001b[A\n",
      "Epoch: 60 | Batch: 0 | Loss 0.5847881436347961: 182it [1:12:48, 23.55s/it]\u001b[A\n",
      "Epoch: 60 | Batch: 1 | Loss 0.5977737307548523: 182it [1:12:48, 23.55s/it]\u001b[A\n",
      "Epoch: 60 | Batch: 1 | Loss 0.5977737307548523: 183it [1:13:01, 20.28s/it]\u001b[A\n",
      "Epoch: 60 | Batch: 2 | Loss 0.6430295705795288: 183it [1:13:01, 20.28s/it]\u001b[A"
     ]
    },
    {
     "name": "stdout",
     "output_type": "stream",
     "text": [
      "Epoch 60 Training Accuracy: tensor(0.7492)\n",
      "Testing Accuracy: tensor(0.6129)\n"
     ]
    },
    {
     "name": "stderr",
     "output_type": "stream",
     "text": [
      "\n",
      "Epoch: 60 | Batch: 2 | Loss 0.6430295705795288: 184it [1:13:27, 21.95s/it]\u001b[A\n",
      "Epoch: 61 | Batch: 0 | Loss 0.6320253610610962: 184it [1:13:27, 21.95s/it]\u001b[A\n",
      "Epoch: 61 | Batch: 0 | Loss 0.6320253610610962: 185it [1:13:53, 23.26s/it]\u001b[A\n",
      "Epoch: 61 | Batch: 1 | Loss 0.5730635523796082: 185it [1:13:53, 23.26s/it]\u001b[A\n",
      "Epoch: 61 | Batch: 1 | Loss 0.5730635523796082: 186it [1:14:06, 20.11s/it]\u001b[A\n",
      "Epoch: 61 | Batch: 2 | Loss 0.5926027297973633: 186it [1:14:06, 20.11s/it]\u001b[A"
     ]
    },
    {
     "name": "stdout",
     "output_type": "stream",
     "text": [
      "Epoch 61 Training Accuracy: tensor(0.7492)\n",
      "Testing Accuracy: tensor(0.6129)\n"
     ]
    },
    {
     "name": "stderr",
     "output_type": "stream",
     "text": [
      "\n",
      "Epoch: 61 | Batch: 2 | Loss 0.5926027297973633: 187it [1:14:32, 22.05s/it]\u001b[A\n",
      "Epoch: 62 | Batch: 0 | Loss 0.6296526789665222: 187it [1:14:32, 22.05s/it]\u001b[A\n",
      "Epoch: 62 | Batch: 0 | Loss 0.6296526789665222: 188it [1:15:00, 23.66s/it]\u001b[A\n",
      "Epoch: 62 | Batch: 1 | Loss 0.5631870031356812: 188it [1:15:00, 23.66s/it]\u001b[A\n",
      "Epoch: 62 | Batch: 1 | Loss 0.5631870031356812: 189it [1:15:12, 20.21s/it]\u001b[A\n",
      "Epoch: 62 | Batch: 2 | Loss 0.6165071725845337: 189it [1:15:12, 20.21s/it]\u001b[A"
     ]
    },
    {
     "name": "stdout",
     "output_type": "stream",
     "text": [
      "Epoch 62 Training Accuracy: tensor(0.7746)\n",
      "Testing Accuracy: tensor(0.6129)\n"
     ]
    },
    {
     "name": "stderr",
     "output_type": "stream",
     "text": [
      "\n",
      "Epoch: 62 | Batch: 2 | Loss 0.6165071725845337: 190it [1:15:38, 22.10s/it]\u001b[A\n",
      "Epoch: 63 | Batch: 0 | Loss 0.5374535918235779: 190it [1:15:38, 22.10s/it]\u001b[A\n",
      "Epoch: 63 | Batch: 0 | Loss 0.5374535918235779: 191it [1:16:04, 23.23s/it]\u001b[A\n",
      "Epoch: 63 | Batch: 1 | Loss 0.6480771899223328: 191it [1:16:04, 23.23s/it]\u001b[A\n",
      "Epoch: 63 | Batch: 1 | Loss 0.6480771899223328: 192it [1:16:16, 19.82s/it]\u001b[A\n",
      "Epoch: 63 | Batch: 2 | Loss 0.6306033730506897: 192it [1:16:16, 19.82s/it]\u001b[A"
     ]
    },
    {
     "name": "stdout",
     "output_type": "stream",
     "text": [
      "Epoch 63 Training Accuracy: tensor(0.7619)\n",
      "Testing Accuracy: tensor(0.6129)\n"
     ]
    },
    {
     "name": "stderr",
     "output_type": "stream",
     "text": [
      "\n",
      "Epoch: 63 | Batch: 2 | Loss 0.6306033730506897: 193it [1:16:43, 21.89s/it]\u001b[A\n",
      "Epoch: 64 | Batch: 0 | Loss 0.5886319279670715: 193it [1:16:43, 21.89s/it]\u001b[A\n",
      "Epoch: 64 | Batch: 0 | Loss 0.5886319279670715: 194it [1:17:09, 23.33s/it]\u001b[A\n",
      "Epoch: 64 | Batch: 1 | Loss 0.6281204223632812: 194it [1:17:09, 23.33s/it]\u001b[A\n",
      "Epoch: 64 | Batch: 1 | Loss 0.6281204223632812: 195it [1:17:22, 20.03s/it]\u001b[A\n",
      "Epoch: 64 | Batch: 2 | Loss 0.5589810013771057: 195it [1:17:22, 20.03s/it]\u001b[A"
     ]
    },
    {
     "name": "stdout",
     "output_type": "stream",
     "text": [
      "Epoch 64 Training Accuracy: tensor(0.7746)\n",
      "Testing Accuracy: tensor(0.6129)\n"
     ]
    },
    {
     "name": "stderr",
     "output_type": "stream",
     "text": [
      "\n",
      "Epoch: 64 | Batch: 2 | Loss 0.5589810013771057: 196it [1:17:48, 21.97s/it]\u001b[A\n",
      "Epoch: 65 | Batch: 0 | Loss 0.5922521352767944: 196it [1:17:48, 21.97s/it]\u001b[A\n",
      "Epoch: 65 | Batch: 0 | Loss 0.5922521352767944: 197it [1:18:15, 23.36s/it]\u001b[A\n",
      "Epoch: 65 | Batch: 1 | Loss 0.581024706363678: 197it [1:18:15, 23.36s/it] \u001b[A\n",
      "Epoch: 65 | Batch: 1 | Loss 0.581024706363678: 198it [1:18:28, 20.20s/it]\u001b[A\n",
      "Epoch: 65 | Batch: 2 | Loss 0.6511274576187134: 198it [1:18:28, 20.20s/it]\u001b[A"
     ]
    },
    {
     "name": "stdout",
     "output_type": "stream",
     "text": [
      "Epoch 65 Training Accuracy: tensor(0.7365)\n",
      "Testing Accuracy: tensor(0.6129)\n"
     ]
    },
    {
     "name": "stderr",
     "output_type": "stream",
     "text": [
      "\n",
      "Epoch: 65 | Batch: 2 | Loss 0.6511274576187134: 199it [1:18:54, 22.08s/it]\u001b[A\n",
      "Epoch: 66 | Batch: 0 | Loss 0.6055659651756287: 199it [1:18:54, 22.08s/it]\u001b[A\n",
      "Epoch: 66 | Batch: 0 | Loss 0.6055659651756287: 200it [1:19:21, 23.41s/it]\u001b[A\n",
      "Epoch: 66 | Batch: 1 | Loss 0.5959609746932983: 200it [1:19:21, 23.41s/it]\u001b[A\n",
      "Epoch: 66 | Batch: 1 | Loss 0.5959609746932983: 201it [1:19:34, 20.37s/it]\u001b[A\n",
      "Epoch: 66 | Batch: 2 | Loss 0.5922266244888306: 201it [1:19:34, 20.37s/it]\u001b[A"
     ]
    },
    {
     "name": "stdout",
     "output_type": "stream",
     "text": [
      "Epoch 66 Training Accuracy: tensor(0.7381)\n",
      "Testing Accuracy: tensor(0.6129)\n"
     ]
    },
    {
     "name": "stderr",
     "output_type": "stream",
     "text": [
      "\n",
      "Epoch: 66 | Batch: 2 | Loss 0.5922266244888306: 202it [1:20:00, 22.16s/it]\u001b[A\n",
      "Epoch: 67 | Batch: 0 | Loss 0.5301376581192017: 202it [1:20:00, 22.16s/it]\u001b[A\n",
      "Epoch: 67 | Batch: 0 | Loss 0.5301376581192017: 203it [1:20:27, 23.37s/it]\u001b[A\n",
      "Epoch: 67 | Batch: 1 | Loss 0.6418074369430542: 203it [1:20:27, 23.37s/it]\u001b[A\n",
      "Epoch: 67 | Batch: 1 | Loss 0.6418074369430542: 204it [1:20:39, 20.23s/it]\u001b[A\n",
      "Epoch: 67 | Batch: 2 | Loss 0.6583109498023987: 204it [1:20:39, 20.23s/it]\u001b[A"
     ]
    },
    {
     "name": "stdout",
     "output_type": "stream",
     "text": [
      "Epoch 67 Training Accuracy: tensor(0.7127)\n",
      "Testing Accuracy: tensor(0.6129)\n"
     ]
    },
    {
     "name": "stderr",
     "output_type": "stream",
     "text": [
      "\n",
      "Epoch: 67 | Batch: 2 | Loss 0.6583109498023987: 205it [1:21:06, 22.24s/it]\u001b[A\n",
      "Epoch: 68 | Batch: 0 | Loss 0.5899330377578735: 205it [1:21:06, 22.24s/it]\u001b[A\n",
      "Epoch: 68 | Batch: 0 | Loss 0.5899330377578735: 206it [1:21:33, 23.62s/it]\u001b[A\n",
      "Epoch: 68 | Batch: 1 | Loss 0.5992929935455322: 206it [1:21:33, 23.62s/it]\u001b[A\n",
      "Epoch: 68 | Batch: 1 | Loss 0.5992929935455322: 207it [1:21:46, 20.37s/it]\u001b[A\n",
      "Epoch: 68 | Batch: 2 | Loss 0.6158043742179871: 207it [1:21:46, 20.37s/it]\u001b[A"
     ]
    },
    {
     "name": "stdout",
     "output_type": "stream",
     "text": [
      "Epoch 68 Training Accuracy: tensor(0.7381)\n",
      "Testing Accuracy: tensor(0.6129)\n"
     ]
    },
    {
     "name": "stderr",
     "output_type": "stream",
     "text": [
      "\n",
      "Epoch: 68 | Batch: 2 | Loss 0.6158043742179871: 208it [1:22:13, 22.29s/it]\u001b[A\n",
      "Epoch: 69 | Batch: 0 | Loss 0.6417953968048096: 208it [1:22:13, 22.29s/it]\u001b[A\n",
      "Epoch: 69 | Batch: 0 | Loss 0.6417953968048096: 209it [1:22:38, 23.33s/it]\u001b[A\n",
      "Epoch: 69 | Batch: 1 | Loss 0.5579188466072083: 209it [1:22:38, 23.33s/it]\u001b[A\n",
      "Epoch: 69 | Batch: 1 | Loss 0.5579188466072083: 210it [1:22:50, 19.79s/it]\u001b[A\n",
      "Epoch: 69 | Batch: 2 | Loss 0.5862430930137634: 210it [1:22:50, 19.79s/it]\u001b[A"
     ]
    },
    {
     "name": "stdout",
     "output_type": "stream",
     "text": [
      "Epoch 69 Training Accuracy: tensor(0.7492)\n",
      "Testing Accuracy: tensor(0.6129)\n"
     ]
    },
    {
     "name": "stderr",
     "output_type": "stream",
     "text": [
      "\n",
      "Epoch: 69 | Batch: 2 | Loss 0.5862430930137634: 211it [1:23:16, 21.79s/it]\u001b[A\n",
      "Epoch: 70 | Batch: 0 | Loss 0.6095770001411438: 211it [1:23:16, 21.79s/it]\u001b[A\n",
      "Epoch: 70 | Batch: 0 | Loss 0.6095770001411438: 212it [1:23:43, 23.32s/it]\u001b[A\n",
      "Epoch: 70 | Batch: 1 | Loss 0.593682587146759: 212it [1:23:43, 23.32s/it] \u001b[A\n",
      "Epoch: 70 | Batch: 1 | Loss 0.593682587146759: 213it [1:23:56, 20.03s/it]\u001b[A\n",
      "Epoch: 70 | Batch: 2 | Loss 0.5797556638717651: 213it [1:23:56, 20.03s/it]\u001b[A"
     ]
    },
    {
     "name": "stdout",
     "output_type": "stream",
     "text": [
      "Epoch 70 Training Accuracy: tensor(0.7619)\n",
      "Testing Accuracy: tensor(0.6129)\n"
     ]
    },
    {
     "name": "stderr",
     "output_type": "stream",
     "text": [
      "\n",
      "Epoch: 70 | Batch: 2 | Loss 0.5797556638717651: 214it [1:24:23, 22.15s/it]\u001b[A\n",
      "Epoch: 71 | Batch: 0 | Loss 0.6386706233024597: 214it [1:24:23, 22.15s/it]\u001b[A\n",
      "Epoch: 71 | Batch: 0 | Loss 0.6386706233024597: 215it [1:24:50, 23.52s/it]\u001b[A\n",
      "Epoch: 71 | Batch: 1 | Loss 0.558788001537323: 215it [1:24:50, 23.52s/it] \u001b[A\n",
      "Epoch: 71 | Batch: 1 | Loss 0.558788001537323: 216it [1:25:02, 20.20s/it]\u001b[A\n",
      "Epoch: 71 | Batch: 2 | Loss 0.5903413891792297: 216it [1:25:02, 20.20s/it]\u001b[A"
     ]
    },
    {
     "name": "stdout",
     "output_type": "stream",
     "text": [
      "Epoch 71 Training Accuracy: tensor(0.7381)\n",
      "Testing Accuracy: tensor(0.6129)\n"
     ]
    },
    {
     "name": "stderr",
     "output_type": "stream",
     "text": [
      "\n",
      "Epoch: 71 | Batch: 2 | Loss 0.5903413891792297: 217it [1:25:29, 22.15s/it]\u001b[A\n",
      "Epoch: 72 | Batch: 0 | Loss 0.5885853171348572: 217it [1:25:29, 22.15s/it]\u001b[A\n",
      "Epoch: 72 | Batch: 0 | Loss 0.5885853171348572: 218it [1:25:55, 23.27s/it]\u001b[A\n",
      "Epoch: 72 | Batch: 1 | Loss 0.5686949491500854: 218it [1:25:55, 23.27s/it]\u001b[A\n",
      "Epoch: 72 | Batch: 1 | Loss 0.5686949491500854: 219it [1:26:07, 20.09s/it]\u001b[A\n",
      "Epoch: 72 | Batch: 2 | Loss 0.6767967939376831: 219it [1:26:07, 20.09s/it]\u001b[A"
     ]
    },
    {
     "name": "stdout",
     "output_type": "stream",
     "text": [
      "Epoch 72 Training Accuracy: tensor(0.7143)\n",
      "Testing Accuracy: tensor(0.6129)\n"
     ]
    },
    {
     "name": "stderr",
     "output_type": "stream",
     "text": [
      "\n",
      "Epoch: 72 | Batch: 2 | Loss 0.6767967939376831: 220it [1:26:33, 21.87s/it]\u001b[A\n",
      "Epoch: 73 | Batch: 0 | Loss 0.6342000365257263: 220it [1:26:33, 21.87s/it]\u001b[A\n",
      "Epoch: 73 | Batch: 0 | Loss 0.6342000365257263: 221it [1:27:00, 23.21s/it]\u001b[A\n",
      "Epoch: 73 | Batch: 1 | Loss 0.6133829951286316: 221it [1:27:00, 23.21s/it]\u001b[A\n",
      "Epoch: 73 | Batch: 1 | Loss 0.6133829951286316: 222it [1:27:12, 19.91s/it]\u001b[A\n",
      "Epoch: 73 | Batch: 2 | Loss 0.48367834091186523: 222it [1:27:12, 19.91s/it]\u001b[A"
     ]
    },
    {
     "name": "stdout",
     "output_type": "stream",
     "text": [
      "Epoch 73 Training Accuracy: tensor(0.7651)\n",
      "Testing Accuracy: tensor(0.6129)\n"
     ]
    },
    {
     "name": "stderr",
     "output_type": "stream",
     "text": [
      "\n",
      "Epoch: 73 | Batch: 2 | Loss 0.48367834091186523: 223it [1:27:38, 21.84s/it]\u001b[A\n",
      "Epoch: 74 | Batch: 0 | Loss 0.5920858979225159: 223it [1:27:38, 21.84s/it] \u001b[A\n",
      "Epoch: 74 | Batch: 0 | Loss 0.5920858979225159: 224it [1:28:04, 23.03s/it]\u001b[A\n",
      "Epoch: 74 | Batch: 1 | Loss 0.5751121044158936: 224it [1:28:04, 23.03s/it]\u001b[A\n",
      "Epoch: 74 | Batch: 1 | Loss 0.5751121044158936: 225it [1:28:16, 19.75s/it]\u001b[A\n",
      "Epoch: 74 | Batch: 2 | Loss 0.65128093957901: 225it [1:28:16, 19.75s/it]  \u001b[A"
     ]
    },
    {
     "name": "stdout",
     "output_type": "stream",
     "text": [
      "Epoch 74 Training Accuracy: tensor(0.7270)\n",
      "Testing Accuracy: tensor(0.6129)\n"
     ]
    },
    {
     "name": "stderr",
     "output_type": "stream",
     "text": [
      "\n",
      "Epoch: 74 | Batch: 2 | Loss 0.65128093957901: 226it [1:28:42, 21.65s/it]\u001b[A\n",
      "Epoch: 75 | Batch: 0 | Loss 0.6722796559333801: 226it [1:28:42, 21.65s/it]\u001b[A\n",
      "Epoch: 75 | Batch: 0 | Loss 0.6722796559333801: 227it [1:29:08, 22.88s/it]\u001b[A\n",
      "Epoch: 75 | Batch: 1 | Loss 0.5769935250282288: 227it [1:29:08, 22.88s/it]\u001b[A\n",
      "Epoch: 75 | Batch: 1 | Loss 0.5769935250282288: 228it [1:29:20, 19.67s/it]\u001b[A\n",
      "Epoch: 75 | Batch: 2 | Loss 0.47080808877944946: 228it [1:29:20, 19.67s/it]\u001b[A"
     ]
    },
    {
     "name": "stdout",
     "output_type": "stream",
     "text": [
      "Epoch 75 Training Accuracy: tensor(0.8000)\n",
      "Testing Accuracy: tensor(0.6129)\n"
     ]
    },
    {
     "name": "stderr",
     "output_type": "stream",
     "text": [
      "\n",
      "Epoch: 75 | Batch: 2 | Loss 0.47080808877944946: 229it [1:29:47, 21.77s/it]\u001b[A\n",
      "Epoch: 76 | Batch: 0 | Loss 0.5909512042999268: 229it [1:29:47, 21.77s/it] \u001b[A\n",
      "Epoch: 76 | Batch: 0 | Loss 0.5909512042999268: 230it [1:30:13, 23.11s/it]\u001b[A\n",
      "Epoch: 76 | Batch: 1 | Loss 0.6119909882545471: 230it [1:30:13, 23.11s/it]\u001b[A\n",
      "Epoch: 76 | Batch: 1 | Loss 0.6119909882545471: 231it [1:30:25, 19.93s/it]\u001b[A\n",
      "Epoch: 76 | Batch: 2 | Loss 0.5736227631568909: 231it [1:30:25, 19.93s/it]\u001b[A"
     ]
    },
    {
     "name": "stdout",
     "output_type": "stream",
     "text": [
      "Epoch 76 Training Accuracy: tensor(0.7381)\n",
      "Testing Accuracy: tensor(0.6129)\n"
     ]
    },
    {
     "name": "stderr",
     "output_type": "stream",
     "text": [
      "\n",
      "Epoch: 76 | Batch: 2 | Loss 0.5736227631568909: 232it [1:30:53, 22.10s/it]\u001b[A\n",
      "Epoch: 77 | Batch: 0 | Loss 0.5872618556022644: 232it [1:30:53, 22.10s/it]\u001b[A\n",
      "Epoch: 77 | Batch: 0 | Loss 0.5872618556022644: 233it [1:31:19, 23.34s/it]\u001b[A\n",
      "Epoch: 77 | Batch: 1 | Loss 0.6008709073066711: 233it [1:31:19, 23.34s/it]\u001b[A\n",
      "Epoch: 77 | Batch: 1 | Loss 0.6008709073066711: 234it [1:31:31, 19.99s/it]\u001b[A\n",
      "Epoch: 77 | Batch: 2 | Loss 0.601291298866272: 234it [1:31:31, 19.99s/it] \u001b[A"
     ]
    },
    {
     "name": "stdout",
     "output_type": "stream",
     "text": [
      "Epoch 77 Training Accuracy: tensor(0.7381)\n",
      "Testing Accuracy: tensor(0.6129)\n"
     ]
    },
    {
     "name": "stderr",
     "output_type": "stream",
     "text": [
      "\n",
      "Epoch: 77 | Batch: 2 | Loss 0.601291298866272: 235it [1:31:58, 22.06s/it]\u001b[A\n",
      "Epoch: 78 | Batch: 0 | Loss 0.6492375731468201: 235it [1:31:58, 22.06s/it]\u001b[A\n",
      "Epoch: 78 | Batch: 0 | Loss 0.6492375731468201: 236it [1:32:25, 23.50s/it]\u001b[A\n",
      "Epoch: 78 | Batch: 1 | Loss 0.5683405995368958: 236it [1:32:25, 23.50s/it]\u001b[A\n",
      "Epoch: 78 | Batch: 1 | Loss 0.5683405995368958: 237it [1:32:37, 20.21s/it]\u001b[A\n",
      "Epoch: 78 | Batch: 2 | Loss 0.5382066369056702: 237it [1:32:37, 20.21s/it]\u001b[A"
     ]
    },
    {
     "name": "stdout",
     "output_type": "stream",
     "text": [
      "Epoch 78 Training Accuracy: tensor(0.7746)\n",
      "Testing Accuracy: tensor(0.6129)\n"
     ]
    },
    {
     "name": "stderr",
     "output_type": "stream",
     "text": [
      "\n",
      "Epoch: 78 | Batch: 2 | Loss 0.5382066369056702: 238it [1:33:05, 22.49s/it]\u001b[A\n",
      "Epoch: 79 | Batch: 0 | Loss 0.6086937785148621: 238it [1:33:05, 22.49s/it]\u001b[A\n",
      "Epoch: 79 | Batch: 0 | Loss 0.6086937785148621: 239it [1:33:32, 23.67s/it]\u001b[A\n",
      "Epoch: 79 | Batch: 1 | Loss 0.6343279480934143: 239it [1:33:32, 23.67s/it]\u001b[A\n",
      "Epoch: 79 | Batch: 1 | Loss 0.6343279480934143: 240it [1:33:44, 20.22s/it]\u001b[A\n",
      "Epoch: 79 | Batch: 2 | Loss 0.47942081093788147: 240it [1:33:44, 20.22s/it]\u001b[A"
     ]
    },
    {
     "name": "stdout",
     "output_type": "stream",
     "text": [
      "Epoch 79 Training Accuracy: tensor(0.7873)\n",
      "Testing Accuracy: tensor(0.6129)\n"
     ]
    },
    {
     "name": "stderr",
     "output_type": "stream",
     "text": [
      "\n",
      "Epoch: 79 | Batch: 2 | Loss 0.47942081093788147: 241it [1:34:10, 22.14s/it]\u001b[A\n",
      "Epoch: 80 | Batch: 0 | Loss 0.5320897698402405: 241it [1:34:10, 22.14s/it] \u001b[A\n",
      "Epoch: 80 | Batch: 0 | Loss 0.5320897698402405: 242it [1:34:36, 23.22s/it]\u001b[A\n",
      "Epoch: 80 | Batch: 1 | Loss 0.6681459546089172: 242it [1:34:36, 23.22s/it]\u001b[A\n",
      "Epoch: 80 | Batch: 1 | Loss 0.6681459546089172: 243it [1:34:48, 19.83s/it]\u001b[A\n",
      "Epoch: 80 | Batch: 2 | Loss 0.572327733039856: 243it [1:34:48, 19.83s/it] \u001b[A"
     ]
    },
    {
     "name": "stdout",
     "output_type": "stream",
     "text": [
      "Epoch 80 Training Accuracy: tensor(0.7619)\n",
      "Testing Accuracy: tensor(0.6129)\n"
     ]
    },
    {
     "name": "stderr",
     "output_type": "stream",
     "text": [
      "\n",
      "Epoch: 80 | Batch: 2 | Loss 0.572327733039856: 244it [1:35:14, 21.80s/it]\u001b[A\n",
      "Epoch: 81 | Batch: 0 | Loss 0.540073037147522: 244it [1:35:14, 21.80s/it]\u001b[A\n",
      "Epoch: 81 | Batch: 0 | Loss 0.540073037147522: 245it [1:35:41, 23.11s/it]\u001b[A\n",
      "Epoch: 81 | Batch: 1 | Loss 0.6225723624229431: 245it [1:35:41, 23.11s/it]\u001b[A\n",
      "Epoch: 81 | Batch: 1 | Loss 0.6225723624229431: 246it [1:35:53, 20.01s/it]\u001b[A\n",
      "Epoch: 81 | Batch: 2 | Loss 0.6489436030387878: 246it [1:35:53, 20.01s/it]\u001b[A"
     ]
    },
    {
     "name": "stdout",
     "output_type": "stream",
     "text": [
      "Epoch 81 Training Accuracy: tensor(0.7365)\n",
      "Testing Accuracy: tensor(0.6129)\n"
     ]
    },
    {
     "name": "stderr",
     "output_type": "stream",
     "text": [
      "\n",
      "Epoch: 81 | Batch: 2 | Loss 0.6489436030387878: 247it [1:36:20, 22.03s/it]\u001b[A\n",
      "Epoch: 82 | Batch: 0 | Loss 0.5952581167221069: 247it [1:36:20, 22.03s/it]\u001b[A\n",
      "Epoch: 82 | Batch: 0 | Loss 0.5952581167221069: 248it [1:36:47, 23.37s/it]\u001b[A\n",
      "Epoch: 82 | Batch: 1 | Loss 0.5071660876274109: 248it [1:36:47, 23.37s/it]\u001b[A\n",
      "Epoch: 82 | Batch: 1 | Loss 0.5071660876274109: 249it [1:36:59, 20.11s/it]\u001b[A\n",
      "Epoch: 82 | Batch: 2 | Loss 0.7774492502212524: 249it [1:36:59, 20.11s/it]\u001b[A"
     ]
    },
    {
     "name": "stdout",
     "output_type": "stream",
     "text": [
      "Epoch 82 Training Accuracy: tensor(0.7238)\n",
      "Testing Accuracy: tensor(0.6129)\n"
     ]
    },
    {
     "name": "stderr",
     "output_type": "stream",
     "text": [
      "\n",
      "Epoch: 82 | Batch: 2 | Loss 0.7774492502212524: 250it [1:37:27, 22.30s/it]\u001b[A\n",
      "Epoch: 83 | Batch: 0 | Loss 0.5816861391067505: 250it [1:37:27, 22.30s/it]\u001b[A\n",
      "Epoch: 83 | Batch: 0 | Loss 0.5816861391067505: 251it [1:37:53, 23.40s/it]\u001b[A\n",
      "Epoch: 83 | Batch: 1 | Loss 0.6208850145339966: 251it [1:37:53, 23.40s/it]\u001b[A\n",
      "Epoch: 83 | Batch: 1 | Loss 0.6208850145339966: 252it [1:38:05, 20.18s/it]\u001b[A\n",
      "Epoch: 83 | Batch: 2 | Loss 0.5612428784370422: 252it [1:38:05, 20.18s/it]\u001b[A"
     ]
    },
    {
     "name": "stdout",
     "output_type": "stream",
     "text": [
      "Epoch 83 Training Accuracy: tensor(0.7619)\n",
      "Testing Accuracy: tensor(0.6129)\n"
     ]
    },
    {
     "name": "stderr",
     "output_type": "stream",
     "text": [
      "\n",
      "Epoch: 83 | Batch: 2 | Loss 0.5612428784370422: 253it [1:38:32, 22.05s/it]\u001b[A\n",
      "Epoch: 84 | Batch: 0 | Loss 0.5995733737945557: 253it [1:38:32, 22.05s/it]\u001b[A\n",
      "Epoch: 84 | Batch: 0 | Loss 0.5995733737945557: 254it [1:38:58, 23.36s/it]\u001b[A\n",
      "Epoch: 84 | Batch: 1 | Loss 0.6365357637405396: 254it [1:38:58, 23.36s/it]\u001b[A\n",
      "Epoch: 84 | Batch: 1 | Loss 0.6365357637405396: 255it [1:39:11, 20.15s/it]\u001b[A\n",
      "Epoch: 84 | Batch: 2 | Loss 0.4883344769477844: 255it [1:39:11, 20.15s/it]\u001b[A"
     ]
    },
    {
     "name": "stdout",
     "output_type": "stream",
     "text": [
      "Epoch 84 Training Accuracy: tensor(0.7762)\n",
      "Testing Accuracy: tensor(0.6129)\n"
     ]
    },
    {
     "name": "stderr",
     "output_type": "stream",
     "text": [
      "\n",
      "Epoch: 84 | Batch: 2 | Loss 0.4883344769477844: 256it [1:39:38, 22.24s/it]\u001b[A\n",
      "Epoch: 85 | Batch: 0 | Loss 0.6211835145950317: 256it [1:39:38, 22.24s/it]\u001b[A\n",
      "Epoch: 85 | Batch: 0 | Loss 0.6211835145950317: 257it [1:40:06, 23.94s/it]\u001b[A\n",
      "Epoch: 85 | Batch: 1 | Loss 0.5861348509788513: 257it [1:40:06, 23.94s/it]\u001b[A\n",
      "Epoch: 85 | Batch: 1 | Loss 0.5861348509788513: 258it [1:40:19, 20.63s/it]\u001b[A\n",
      "Epoch: 85 | Batch: 2 | Loss 0.5474139451980591: 258it [1:40:19, 20.63s/it]\u001b[A"
     ]
    },
    {
     "name": "stdout",
     "output_type": "stream",
     "text": [
      "Epoch 85 Training Accuracy: tensor(0.7619)\n",
      "Testing Accuracy: tensor(0.6129)\n"
     ]
    },
    {
     "name": "stderr",
     "output_type": "stream",
     "text": [
      "\n",
      "Epoch: 85 | Batch: 2 | Loss 0.5474139451980591: 259it [1:40:46, 22.63s/it]\u001b[A\n",
      "Epoch: 86 | Batch: 0 | Loss 0.5423122644424438: 259it [1:40:46, 22.63s/it]\u001b[A\n",
      "Epoch: 86 | Batch: 0 | Loss 0.5423122644424438: 260it [1:41:14, 24.40s/it]\u001b[A\n",
      "Epoch: 86 | Batch: 1 | Loss 0.5916487574577332: 260it [1:41:14, 24.40s/it]\u001b[A\n",
      "Epoch: 86 | Batch: 1 | Loss 0.5916487574577332: 261it [1:41:27, 20.86s/it]\u001b[A\n",
      "Epoch: 86 | Batch: 2 | Loss 0.7058826684951782: 261it [1:41:27, 20.86s/it]\u001b[A"
     ]
    },
    {
     "name": "stdout",
     "output_type": "stream",
     "text": [
      "Epoch 86 Training Accuracy: tensor(0.7365)\n",
      "Testing Accuracy: tensor(0.6129)\n"
     ]
    },
    {
     "name": "stderr",
     "output_type": "stream",
     "text": [
      "\n",
      "Epoch: 86 | Batch: 2 | Loss 0.7058826684951782: 262it [1:41:55, 22.91s/it]\u001b[A\n",
      "Epoch: 87 | Batch: 0 | Loss 0.600590169429779: 262it [1:41:55, 22.91s/it] \u001b[A\n",
      "Epoch: 87 | Batch: 0 | Loss 0.600590169429779: 263it [1:42:22, 24.12s/it]\u001b[A\n",
      "Epoch: 87 | Batch: 1 | Loss 0.5384247899055481: 263it [1:42:22, 24.12s/it]\u001b[A\n",
      "Epoch: 87 | Batch: 1 | Loss 0.5384247899055481: 264it [1:42:35, 20.87s/it]\u001b[A\n",
      "Epoch: 87 | Batch: 2 | Loss 0.6947905421257019: 264it [1:42:35, 20.87s/it]\u001b[A"
     ]
    },
    {
     "name": "stdout",
     "output_type": "stream",
     "text": [
      "Epoch 87 Training Accuracy: tensor(0.7254)\n",
      "Testing Accuracy: tensor(0.6129)\n"
     ]
    },
    {
     "name": "stderr",
     "output_type": "stream",
     "text": [
      "\n",
      "Epoch: 87 | Batch: 2 | Loss 0.6947905421257019: 265it [1:43:01, 22.54s/it]\u001b[A\n",
      "Epoch: 88 | Batch: 0 | Loss 0.6027974486351013: 265it [1:43:01, 22.54s/it]\u001b[A\n",
      "Epoch: 88 | Batch: 0 | Loss 0.6027974486351013: 266it [1:43:30, 24.43s/it]\u001b[A\n",
      "Epoch: 88 | Batch: 1 | Loss 0.6020579934120178: 266it [1:43:30, 24.43s/it]\u001b[A\n",
      "Epoch: 88 | Batch: 1 | Loss 0.6020579934120178: 267it [1:43:43, 20.88s/it]\u001b[A\n",
      "Epoch: 88 | Batch: 2 | Loss 0.5486921072006226: 267it [1:43:43, 20.88s/it]\u001b[A"
     ]
    },
    {
     "name": "stdout",
     "output_type": "stream",
     "text": [
      "Epoch 88 Training Accuracy: tensor(0.7746)\n",
      "Testing Accuracy: tensor(0.6129)\n"
     ]
    },
    {
     "name": "stderr",
     "output_type": "stream",
     "text": [
      "\n",
      "Epoch: 88 | Batch: 2 | Loss 0.5486921072006226: 268it [1:44:11, 22.93s/it]\u001b[A\n",
      "Epoch: 89 | Batch: 0 | Loss 0.5851489901542664: 268it [1:44:11, 22.93s/it]\u001b[A\n",
      "Epoch: 89 | Batch: 0 | Loss 0.5851489901542664: 269it [1:44:39, 24.61s/it]\u001b[A\n",
      "Epoch: 89 | Batch: 1 | Loss 0.5634991526603699: 269it [1:44:39, 24.61s/it]\u001b[A\n",
      "Epoch: 89 | Batch: 1 | Loss 0.5634991526603699: 270it [1:44:52, 21.03s/it]\u001b[A\n",
      "Epoch: 89 | Batch: 2 | Loss 0.6700404286384583: 270it [1:44:52, 21.03s/it]\u001b[A"
     ]
    },
    {
     "name": "stdout",
     "output_type": "stream",
     "text": [
      "Epoch 89 Training Accuracy: tensor(0.7492)\n",
      "Testing Accuracy: tensor(0.6129)\n"
     ]
    },
    {
     "name": "stderr",
     "output_type": "stream",
     "text": [
      "\n",
      "Epoch: 89 | Batch: 2 | Loss 0.6700404286384583: 271it [1:45:20, 23.33s/it]\u001b[A\n",
      "Epoch: 90 | Batch: 0 | Loss 0.639327347278595: 271it [1:45:20, 23.33s/it] \u001b[A\n",
      "Epoch: 90 | Batch: 0 | Loss 0.639327347278595: 272it [1:45:48, 24.73s/it]\u001b[A\n",
      "Epoch: 90 | Batch: 1 | Loss 0.5327147245407104: 272it [1:45:48, 24.73s/it]\u001b[A\n",
      "Epoch: 90 | Batch: 1 | Loss 0.5327147245407104: 273it [1:46:02, 21.48s/it]\u001b[A\n",
      "Epoch: 90 | Batch: 2 | Loss 0.6190953850746155: 273it [1:46:02, 21.48s/it]\u001b[A"
     ]
    },
    {
     "name": "stdout",
     "output_type": "stream",
     "text": [
      "Epoch 90 Training Accuracy: tensor(0.7381)\n",
      "Testing Accuracy: tensor(0.6129)\n"
     ]
    },
    {
     "name": "stderr",
     "output_type": "stream",
     "text": [
      "\n",
      "Epoch: 90 | Batch: 2 | Loss 0.6190953850746155: 274it [1:46:30, 23.33s/it]\u001b[A\n",
      "Epoch: 91 | Batch: 0 | Loss 0.5863242745399475: 274it [1:46:30, 23.33s/it]\u001b[A\n",
      "Epoch: 91 | Batch: 0 | Loss 0.5863242745399475: 275it [1:46:58, 24.85s/it]\u001b[A\n",
      "Epoch: 91 | Batch: 1 | Loss 0.6118966341018677: 275it [1:46:58, 24.85s/it]\u001b[A\n",
      "Epoch: 91 | Batch: 1 | Loss 0.6118966341018677: 276it [1:47:11, 21.24s/it]\u001b[A\n",
      "Epoch: 91 | Batch: 2 | Loss 0.5627073049545288: 276it [1:47:11, 21.24s/it]\u001b[A"
     ]
    },
    {
     "name": "stdout",
     "output_type": "stream",
     "text": [
      "Epoch 91 Training Accuracy: tensor(0.7508)\n",
      "Testing Accuracy: tensor(0.6129)\n"
     ]
    },
    {
     "name": "stderr",
     "output_type": "stream",
     "text": [
      "\n",
      "Epoch: 91 | Batch: 2 | Loss 0.5627073049545288: 277it [1:47:39, 23.15s/it]\u001b[A\n",
      "Epoch: 92 | Batch: 0 | Loss 0.5731272101402283: 277it [1:47:39, 23.15s/it]\u001b[A\n",
      "Epoch: 92 | Batch: 0 | Loss 0.5731272101402283: 278it [1:48:07, 24.52s/it]\u001b[A\n",
      "Epoch: 92 | Batch: 1 | Loss 0.6576541662216187: 278it [1:48:07, 24.52s/it]\u001b[A\n",
      "Epoch: 92 | Batch: 1 | Loss 0.6576541662216187: 279it [1:48:19, 21.01s/it]\u001b[A\n",
      "Epoch: 92 | Batch: 2 | Loss 0.49534687399864197: 279it [1:48:19, 21.01s/it]\u001b[A"
     ]
    },
    {
     "name": "stdout",
     "output_type": "stream",
     "text": [
      "Epoch 92 Training Accuracy: tensor(0.7762)\n",
      "Testing Accuracy: tensor(0.6129)\n"
     ]
    },
    {
     "name": "stderr",
     "output_type": "stream",
     "text": [
      "\n",
      "Epoch: 92 | Batch: 2 | Loss 0.49534687399864197: 280it [1:48:49, 23.72s/it]\u001b[A\n",
      "Epoch: 93 | Batch: 0 | Loss 0.5894543528556824: 280it [1:48:49, 23.72s/it] \u001b[A\n",
      "Epoch: 93 | Batch: 0 | Loss 0.5894543528556824: 281it [1:49:17, 24.87s/it]\u001b[A\n",
      "Epoch: 93 | Batch: 1 | Loss 0.5817248225212097: 281it [1:49:17, 24.87s/it]\u001b[A\n",
      "Epoch: 93 | Batch: 1 | Loss 0.5817248225212097: 282it [1:49:30, 21.21s/it]\u001b[A\n",
      "Epoch: 93 | Batch: 2 | Loss 0.6166360974311829: 282it [1:49:30, 21.21s/it]\u001b[A"
     ]
    },
    {
     "name": "stdout",
     "output_type": "stream",
     "text": [
      "Epoch 93 Training Accuracy: tensor(0.7619)\n",
      "Testing Accuracy: tensor(0.6129)\n"
     ]
    },
    {
     "name": "stderr",
     "output_type": "stream",
     "text": [
      "\n",
      "Epoch: 93 | Batch: 2 | Loss 0.6166360974311829: 283it [1:49:58, 23.30s/it]\u001b[A\n",
      "Epoch: 94 | Batch: 0 | Loss 0.58186936378479: 283it [1:49:58, 23.30s/it]  \u001b[A\n",
      "Epoch: 94 | Batch: 0 | Loss 0.58186936378479: 284it [1:50:25, 24.55s/it]\u001b[A\n",
      "Epoch: 94 | Batch: 1 | Loss 0.6025499701499939: 284it [1:50:25, 24.55s/it]\u001b[A\n",
      "Epoch: 94 | Batch: 1 | Loss 0.6025499701499939: 285it [1:50:37, 20.82s/it]\u001b[A\n",
      "Epoch: 94 | Batch: 2 | Loss 0.5870100855827332: 285it [1:50:37, 20.82s/it]\u001b[A"
     ]
    },
    {
     "name": "stdout",
     "output_type": "stream",
     "text": [
      "Epoch 94 Training Accuracy: tensor(0.7603)\n",
      "Testing Accuracy: tensor(0.6129)\n"
     ]
    },
    {
     "name": "stderr",
     "output_type": "stream",
     "text": [
      "\n",
      "Epoch: 94 | Batch: 2 | Loss 0.5870100855827332: 286it [1:51:05, 22.92s/it]\u001b[A\n",
      "Epoch: 95 | Batch: 0 | Loss 0.4997428357601166: 286it [1:51:05, 22.92s/it]\u001b[A\n",
      "Epoch: 95 | Batch: 0 | Loss 0.4997428357601166: 287it [1:51:33, 24.49s/it]\u001b[A\n",
      "Epoch: 95 | Batch: 1 | Loss 0.7148422002792358: 287it [1:51:33, 24.49s/it]\u001b[A\n",
      "Epoch: 95 | Batch: 1 | Loss 0.7148422002792358: 288it [1:51:46, 21.05s/it]\u001b[A\n",
      "Epoch: 95 | Batch: 2 | Loss 0.5235026478767395: 288it [1:51:46, 21.05s/it]\u001b[A"
     ]
    },
    {
     "name": "stdout",
     "output_type": "stream",
     "text": [
      "Epoch 95 Training Accuracy: tensor(0.7984)\n",
      "Testing Accuracy: tensor(0.6129)\n"
     ]
    },
    {
     "name": "stderr",
     "output_type": "stream",
     "text": [
      "\n",
      "Epoch: 95 | Batch: 2 | Loss 0.5235026478767395: 289it [1:52:14, 23.10s/it]\u001b[A\n",
      "Epoch: 96 | Batch: 0 | Loss 0.5976036190986633: 289it [1:52:14, 23.10s/it]\u001b[A\n",
      "Epoch: 96 | Batch: 0 | Loss 0.5976036190986633: 290it [1:52:42, 24.55s/it]\u001b[A\n",
      "Epoch: 96 | Batch: 1 | Loss 0.5180209279060364: 290it [1:52:42, 24.55s/it]\u001b[A\n",
      "Epoch: 96 | Batch: 1 | Loss 0.5180209279060364: 291it [1:52:56, 21.22s/it]\u001b[A\n",
      "Epoch: 96 | Batch: 2 | Loss 0.7324758172035217: 291it [1:52:56, 21.22s/it]\u001b[A"
     ]
    },
    {
     "name": "stdout",
     "output_type": "stream",
     "text": [
      "Epoch 96 Training Accuracy: tensor(0.7238)\n",
      "Testing Accuracy: tensor(0.6129)\n"
     ]
    },
    {
     "name": "stderr",
     "output_type": "stream",
     "text": [
      "\n",
      "Epoch: 96 | Batch: 2 | Loss 0.7324758172035217: 292it [1:53:23, 23.07s/it]\u001b[A\n",
      "Epoch: 97 | Batch: 0 | Loss 0.6456482410430908: 292it [1:53:23, 23.07s/it]\u001b[A\n",
      "Epoch: 97 | Batch: 0 | Loss 0.6456482410430908: 293it [1:53:51, 24.68s/it]\u001b[A\n",
      "Epoch: 97 | Batch: 1 | Loss 0.5211424827575684: 293it [1:53:51, 24.68s/it]\u001b[A\n",
      "Epoch: 97 | Batch: 1 | Loss 0.5211424827575684: 294it [1:54:04, 21.02s/it]\u001b[A\n",
      "Epoch: 97 | Batch: 2 | Loss 0.6228655576705933: 294it [1:54:04, 21.02s/it]\u001b[A"
     ]
    },
    {
     "name": "stdout",
     "output_type": "stream",
     "text": [
      "Epoch 97 Training Accuracy: tensor(0.7254)\n",
      "Testing Accuracy: tensor(0.6129)\n"
     ]
    },
    {
     "name": "stderr",
     "output_type": "stream",
     "text": [
      "\n",
      "Epoch: 97 | Batch: 2 | Loss 0.6228655576705933: 295it [1:54:32, 23.19s/it]\u001b[A\n",
      "Epoch: 98 | Batch: 0 | Loss 0.6115660071372986: 295it [1:54:32, 23.19s/it]\u001b[A\n",
      "Epoch: 98 | Batch: 0 | Loss 0.6115660071372986: 296it [1:55:00, 24.46s/it]\u001b[A\n",
      "Epoch: 98 | Batch: 1 | Loss 0.6089763641357422: 296it [1:55:00, 24.46s/it]\u001b[A\n",
      "Epoch: 98 | Batch: 1 | Loss 0.6089763641357422: 297it [1:55:12, 20.93s/it]\u001b[A\n",
      "Epoch: 98 | Batch: 2 | Loss 0.5090239644050598: 297it [1:55:12, 20.93s/it]\u001b[A"
     ]
    },
    {
     "name": "stdout",
     "output_type": "stream",
     "text": [
      "Epoch 98 Training Accuracy: tensor(0.7762)\n",
      "Testing Accuracy: tensor(0.6129)\n"
     ]
    },
    {
     "name": "stderr",
     "output_type": "stream",
     "text": [
      "\n",
      "Epoch: 98 | Batch: 2 | Loss 0.5090239644050598: 298it [1:55:40, 23.03s/it]\u001b[A\n",
      "Epoch: 99 | Batch: 0 | Loss 0.5537693500518799: 298it [1:55:40, 23.03s/it]\u001b[A\n",
      "Epoch: 99 | Batch: 0 | Loss 0.5537693500518799: 299it [1:56:08, 24.37s/it]\u001b[A\n",
      "Epoch: 99 | Batch: 1 | Loss 0.6697273254394531: 299it [1:56:08, 24.37s/it]\u001b[A\n",
      "Epoch: 99 | Batch: 1 | Loss 0.6697273254394531: 300it [1:56:20, 20.83s/it]\u001b[A\n",
      "Epoch: 99 | Batch: 2 | Loss 0.5006572604179382: 300it [1:56:20, 20.83s/it]\u001b[A"
     ]
    },
    {
     "name": "stdout",
     "output_type": "stream",
     "text": [
      "Epoch 99 Training Accuracy: tensor(0.7762)\n",
      "Testing Accuracy: tensor(0.5484)\n"
     ]
    },
    {
     "name": "stderr",
     "output_type": "stream",
     "text": [
      "\n",
      "Epoch: 99 | Batch: 2 | Loss 0.5006572604179382: 301it [1:56:48, 22.89s/it]\u001b[A\n",
      "Epoch: 100 | Batch: 0 | Loss 0.6413591504096985: 301it [1:56:48, 22.89s/it]\u001b[A\n",
      "Epoch: 100 | Batch: 0 | Loss 0.6413591504096985: 302it [1:57:16, 24.33s/it]\u001b[A\n",
      "Epoch: 100 | Batch: 1 | Loss 0.5617220401763916: 302it [1:57:16, 24.33s/it]\u001b[A\n",
      "Epoch: 100 | Batch: 1 | Loss 0.5617220401763916: 303it [1:57:29, 20.94s/it]\u001b[A\n",
      "Epoch: 100 | Batch: 2 | Loss 0.5451707243919373: 303it [1:57:29, 20.94s/it]\u001b[A"
     ]
    },
    {
     "name": "stdout",
     "output_type": "stream",
     "text": [
      "Epoch 100 Training Accuracy: tensor(0.7635)\n",
      "Testing Accuracy: tensor(0.5484)\n"
     ]
    },
    {
     "name": "stderr",
     "output_type": "stream",
     "text": [
      "\n",
      "Epoch: 100 | Batch: 2 | Loss 0.5451707243919373: 304it [1:57:57, 23.10s/it]\u001b[A\n",
      "Epoch: 101 | Batch: 0 | Loss 0.6689650416374207: 304it [1:57:57, 23.10s/it]\u001b[A\n",
      "Epoch: 101 | Batch: 0 | Loss 0.6689650416374207: 305it [1:58:24, 24.41s/it]\u001b[A\n",
      "Epoch: 101 | Batch: 1 | Loss 0.530486524105072: 305it [1:58:24, 24.41s/it] \u001b[A\n",
      "Epoch: 101 | Batch: 1 | Loss 0.530486524105072: 306it [1:58:38, 21.15s/it]\u001b[A\n",
      "Epoch: 101 | Batch: 2 | Loss 0.5519574880599976: 306it [1:58:38, 21.15s/it]\u001b[A"
     ]
    },
    {
     "name": "stdout",
     "output_type": "stream",
     "text": [
      "Epoch 101 Training Accuracy: tensor(0.7508)\n",
      "Testing Accuracy: tensor(0.5484)\n"
     ]
    },
    {
     "name": "stderr",
     "output_type": "stream",
     "text": [
      "\n",
      "Epoch: 101 | Batch: 2 | Loss 0.5519574880599976: 307it [1:59:05, 23.00s/it]\u001b[A\n",
      "Epoch: 102 | Batch: 0 | Loss 0.6008701324462891: 307it [1:59:05, 23.00s/it]\u001b[A\n",
      "Epoch: 102 | Batch: 0 | Loss 0.6008701324462891: 308it [1:59:32, 24.13s/it]\u001b[A\n",
      "Epoch: 102 | Batch: 1 | Loss 0.6257389783859253: 308it [1:59:32, 24.13s/it]\u001b[A\n",
      "Epoch: 102 | Batch: 1 | Loss 0.6257389783859253: 309it [1:59:46, 21.02s/it]\u001b[A\n",
      "Epoch: 102 | Batch: 2 | Loss 0.49472877383232117: 309it [1:59:46, 21.02s/it]\u001b[A"
     ]
    },
    {
     "name": "stdout",
     "output_type": "stream",
     "text": [
      "Epoch 102 Training Accuracy: tensor(0.7635)\n",
      "Testing Accuracy: tensor(0.5484)\n"
     ]
    },
    {
     "name": "stderr",
     "output_type": "stream",
     "text": [
      "\n",
      "Epoch: 102 | Batch: 2 | Loss 0.49472877383232117: 310it [2:00:14, 23.10s/it]\u001b[A\n",
      "Epoch: 103 | Batch: 0 | Loss 0.5781152844429016: 310it [2:00:14, 23.10s/it] \u001b[A\n",
      "Epoch: 103 | Batch: 0 | Loss 0.5781152844429016: 311it [2:00:40, 24.18s/it]\u001b[A\n",
      "Epoch: 103 | Batch: 1 | Loss 0.5815533995628357: 311it [2:00:40, 24.18s/it]\u001b[A\n",
      "Epoch: 103 | Batch: 1 | Loss 0.5815533995628357: 312it [2:00:54, 20.90s/it]\u001b[A\n",
      "Epoch: 103 | Batch: 2 | Loss 0.6357158422470093: 312it [2:00:54, 20.90s/it]\u001b[A"
     ]
    },
    {
     "name": "stdout",
     "output_type": "stream",
     "text": [
      "Epoch 103 Training Accuracy: tensor(0.7254)\n",
      "Testing Accuracy: tensor(0.5484)\n"
     ]
    },
    {
     "name": "stderr",
     "output_type": "stream",
     "text": [
      "\n",
      "Epoch: 103 | Batch: 2 | Loss 0.6357158422470093: 313it [2:01:21, 22.96s/it]\u001b[A\n",
      "Epoch: 104 | Batch: 0 | Loss 0.5992029309272766: 313it [2:01:21, 22.96s/it]\u001b[A\n",
      "Epoch: 104 | Batch: 0 | Loss 0.5992029309272766: 314it [2:01:49, 24.36s/it]\u001b[A\n",
      "Epoch: 104 | Batch: 1 | Loss 0.5712434649467468: 314it [2:01:49, 24.36s/it]\u001b[A\n",
      "Epoch: 104 | Batch: 1 | Loss 0.5712434649467468: 315it [2:02:02, 20.83s/it]\u001b[A\n",
      "Epoch: 104 | Batch: 2 | Loss 0.6112686395645142: 315it [2:02:02, 20.83s/it]\u001b[A"
     ]
    },
    {
     "name": "stdout",
     "output_type": "stream",
     "text": [
      "Epoch 104 Training Accuracy: tensor(0.7381)\n",
      "Testing Accuracy: tensor(0.6129)\n"
     ]
    },
    {
     "name": "stderr",
     "output_type": "stream",
     "text": [
      "\n",
      "Epoch: 104 | Batch: 2 | Loss 0.6112686395645142: 316it [2:02:29, 22.76s/it]\u001b[A\n",
      "Epoch: 105 | Batch: 0 | Loss 0.582642138004303: 316it [2:02:29, 22.76s/it] \u001b[A\n",
      "Epoch: 105 | Batch: 0 | Loss 0.582642138004303: 317it [2:02:57, 24.37s/it]\u001b[A\n",
      "Epoch: 105 | Batch: 1 | Loss 0.5775941014289856: 317it [2:02:57, 24.37s/it]\u001b[A\n",
      "Epoch: 105 | Batch: 1 | Loss 0.5775941014289856: 318it [2:03:09, 20.76s/it]\u001b[A\n",
      "Epoch: 105 | Batch: 2 | Loss 0.6288627982139587: 318it [2:03:09, 20.76s/it]\u001b[A"
     ]
    },
    {
     "name": "stdout",
     "output_type": "stream",
     "text": [
      "Epoch 105 Training Accuracy: tensor(0.7492)\n",
      "Testing Accuracy: tensor(0.6129)\n"
     ]
    },
    {
     "name": "stderr",
     "output_type": "stream",
     "text": [
      "\n",
      "Epoch: 105 | Batch: 2 | Loss 0.6288627982139587: 319it [2:03:36, 22.67s/it]\u001b[A\n",
      "Epoch: 106 | Batch: 0 | Loss 0.5435114502906799: 319it [2:03:36, 22.67s/it]\u001b[A\n",
      "Epoch: 106 | Batch: 0 | Loss 0.5435114502906799: 320it [2:04:04, 24.28s/it]\u001b[A\n",
      "Epoch: 106 | Batch: 1 | Loss 0.6703734993934631: 320it [2:04:04, 24.28s/it]\u001b[A\n",
      "Epoch: 106 | Batch: 1 | Loss 0.6703734993934631: 321it [2:04:17, 20.82s/it]\u001b[A\n",
      "Epoch: 106 | Batch: 2 | Loss 0.5120267271995544: 321it [2:04:17, 20.82s/it]\u001b[A"
     ]
    },
    {
     "name": "stdout",
     "output_type": "stream",
     "text": [
      "Epoch 106 Training Accuracy: tensor(0.7984)\n",
      "Testing Accuracy: tensor(0.6129)\n"
     ]
    },
    {
     "name": "stderr",
     "output_type": "stream",
     "text": [
      "\n",
      "Epoch: 106 | Batch: 2 | Loss 0.5120267271995544: 322it [2:04:45, 22.77s/it]\u001b[A\n",
      "Epoch: 107 | Batch: 0 | Loss 0.6774972081184387: 322it [2:04:45, 22.77s/it]\u001b[A\n",
      "Epoch: 107 | Batch: 0 | Loss 0.6774972081184387: 323it [2:05:11, 23.82s/it]\u001b[A\n",
      "Epoch: 107 | Batch: 1 | Loss 0.5740253329277039: 323it [2:05:11, 23.82s/it]\u001b[A\n",
      "Epoch: 107 | Batch: 1 | Loss 0.5740253329277039: 324it [2:05:24, 20.54s/it]\u001b[A\n",
      "Epoch: 107 | Batch: 2 | Loss 0.4429067075252533: 324it [2:05:24, 20.54s/it]\u001b[A"
     ]
    },
    {
     "name": "stdout",
     "output_type": "stream",
     "text": [
      "Epoch 107 Training Accuracy: tensor(0.7889)\n",
      "Testing Accuracy: tensor(0.6129)\n"
     ]
    },
    {
     "name": "stderr",
     "output_type": "stream",
     "text": [
      "\n",
      "Epoch: 107 | Batch: 2 | Loss 0.4429067075252533: 325it [2:05:51, 22.49s/it]\u001b[A\n",
      "Epoch: 108 | Batch: 0 | Loss 0.573159396648407: 325it [2:05:51, 22.49s/it] \u001b[A\n",
      "Epoch: 108 | Batch: 0 | Loss 0.573159396648407: 326it [2:06:19, 24.13s/it]\u001b[A\n",
      "Epoch: 108 | Batch: 1 | Loss 0.599575400352478: 326it [2:06:19, 24.13s/it]\u001b[A\n",
      "Epoch: 108 | Batch: 1 | Loss 0.599575400352478: 327it [2:06:31, 20.59s/it]\u001b[A\n",
      "Epoch: 108 | Batch: 2 | Loss 0.5999923348426819: 327it [2:06:31, 20.59s/it]\u001b[A"
     ]
    },
    {
     "name": "stdout",
     "output_type": "stream",
     "text": [
      "Epoch 108 Training Accuracy: tensor(0.7492)\n",
      "Testing Accuracy: tensor(0.6129)\n"
     ]
    },
    {
     "name": "stderr",
     "output_type": "stream",
     "text": [
      "\n",
      "Epoch: 108 | Batch: 2 | Loss 0.5999923348426819: 328it [2:06:59, 22.77s/it]\u001b[A\n",
      "Epoch: 109 | Batch: 0 | Loss 0.5760337710380554: 328it [2:06:59, 22.77s/it]\u001b[A\n",
      "Epoch: 109 | Batch: 0 | Loss 0.5760337710380554: 329it [2:07:27, 24.31s/it]\u001b[A\n",
      "Epoch: 109 | Batch: 1 | Loss 0.5528286099433899: 329it [2:07:27, 24.31s/it]\u001b[A\n",
      "Epoch: 109 | Batch: 1 | Loss 0.5528286099433899: 330it [2:07:40, 20.90s/it]\u001b[A\n",
      "Epoch: 109 | Batch: 2 | Loss 0.6968269348144531: 330it [2:07:40, 20.90s/it]\u001b[A"
     ]
    },
    {
     "name": "stdout",
     "output_type": "stream",
     "text": [
      "Epoch 109 Training Accuracy: tensor(0.7365)\n",
      "Testing Accuracy: tensor(0.6129)\n"
     ]
    },
    {
     "name": "stderr",
     "output_type": "stream",
     "text": [
      "\n",
      "Epoch: 109 | Batch: 2 | Loss 0.6968269348144531: 331it [2:08:08, 23.00s/it]\u001b[A\n",
      "Epoch: 110 | Batch: 0 | Loss 0.5606823563575745: 331it [2:08:08, 23.00s/it]\u001b[A\n",
      "Epoch: 110 | Batch: 0 | Loss 0.5606823563575745: 332it [2:08:35, 24.29s/it]\u001b[A\n",
      "Epoch: 110 | Batch: 1 | Loss 0.5707395076751709: 332it [2:08:35, 24.29s/it]\u001b[A\n",
      "Epoch: 110 | Batch: 1 | Loss 0.5707395076751709: 333it [2:08:48, 20.94s/it]\u001b[A\n",
      "Epoch: 110 | Batch: 2 | Loss 0.6885408163070679: 333it [2:08:48, 20.94s/it]\u001b[A"
     ]
    },
    {
     "name": "stdout",
     "output_type": "stream",
     "text": [
      "Epoch 110 Training Accuracy: tensor(0.7349)\n",
      "Testing Accuracy: tensor(0.6129)\n"
     ]
    },
    {
     "name": "stderr",
     "output_type": "stream",
     "text": [
      "\n",
      "Epoch: 110 | Batch: 2 | Loss 0.6885408163070679: 334it [2:09:17, 23.21s/it]\u001b[A\n",
      "Epoch: 111 | Batch: 0 | Loss 0.6365265250205994: 334it [2:09:17, 23.21s/it]\u001b[A\n",
      "Epoch: 111 | Batch: 0 | Loss 0.6365265250205994: 335it [2:09:44, 24.63s/it]\u001b[A\n",
      "Epoch: 111 | Batch: 1 | Loss 0.5746477842330933: 335it [2:09:44, 24.63s/it]\u001b[A\n",
      "Epoch: 111 | Batch: 1 | Loss 0.5746477842330933: 336it [2:09:58, 21.19s/it]\u001b[A\n",
      "Epoch: 111 | Batch: 2 | Loss 0.5165820717811584: 336it [2:09:58, 21.19s/it]\u001b[A"
     ]
    },
    {
     "name": "stdout",
     "output_type": "stream",
     "text": [
      "Epoch 111 Training Accuracy: tensor(0.7857)\n",
      "Testing Accuracy: tensor(0.6452)\n"
     ]
    },
    {
     "name": "stderr",
     "output_type": "stream",
     "text": [
      "\n",
      "Epoch: 111 | Batch: 2 | Loss 0.5165820717811584: 337it [2:10:25, 23.17s/it]\u001b[A\n",
      "Epoch: 112 | Batch: 0 | Loss 0.6368919610977173: 337it [2:10:25, 23.17s/it]\u001b[A\n",
      "Epoch: 112 | Batch: 0 | Loss 0.6368919610977173: 338it [2:10:54, 24.91s/it]\u001b[A\n",
      "Epoch: 112 | Batch: 1 | Loss 0.5531852841377258: 338it [2:10:54, 24.91s/it]\u001b[A\n",
      "Epoch: 112 | Batch: 1 | Loss 0.5531852841377258: 339it [2:11:07, 21.35s/it]\u001b[A\n",
      "Epoch: 112 | Batch: 2 | Loss 0.5593916177749634: 339it [2:11:08, 21.35s/it]\u001b[A"
     ]
    },
    {
     "name": "stdout",
     "output_type": "stream",
     "text": [
      "Epoch 112 Training Accuracy: tensor(0.7603)\n",
      "Testing Accuracy: tensor(0.5484)\n"
     ]
    },
    {
     "name": "stderr",
     "output_type": "stream",
     "text": [
      "\n",
      "Epoch: 112 | Batch: 2 | Loss 0.5593916177749634: 340it [2:11:35, 23.16s/it]\u001b[A\n",
      "Epoch: 113 | Batch: 0 | Loss 0.5826728940010071: 340it [2:11:35, 23.16s/it]\u001b[A\n",
      "Epoch: 113 | Batch: 0 | Loss 0.5826728940010071: 341it [2:12:02, 24.41s/it]\u001b[A\n",
      "Epoch: 113 | Batch: 1 | Loss 0.5866670608520508: 341it [2:12:02, 24.41s/it]\u001b[A\n",
      "Epoch: 113 | Batch: 1 | Loss 0.5866670608520508: 342it [2:12:15, 21.00s/it]\u001b[A\n",
      "Epoch: 113 | Batch: 2 | Loss 0.6039672493934631: 342it [2:12:15, 21.00s/it]\u001b[A"
     ]
    },
    {
     "name": "stdout",
     "output_type": "stream",
     "text": [
      "Epoch 113 Training Accuracy: tensor(0.7603)\n",
      "Testing Accuracy: tensor(0.5806)\n"
     ]
    },
    {
     "name": "stderr",
     "output_type": "stream",
     "text": [
      "\n",
      "Epoch: 113 | Batch: 2 | Loss 0.6039672493934631: 343it [2:12:43, 23.10s/it]\u001b[A\n",
      "Epoch: 114 | Batch: 0 | Loss 0.5546407103538513: 343it [2:12:43, 23.10s/it]\u001b[A\n",
      "Epoch: 114 | Batch: 0 | Loss 0.5546407103538513: 344it [2:13:10, 24.24s/it]\u001b[A\n",
      "Epoch: 114 | Batch: 1 | Loss 0.6423246264457703: 344it [2:13:10, 24.24s/it]\u001b[A\n",
      "Epoch: 114 | Batch: 1 | Loss 0.6423246264457703: 345it [2:13:23, 20.88s/it]\u001b[A\n",
      "Epoch: 114 | Batch: 2 | Loss 0.5429298281669617: 345it [2:13:23, 20.88s/it]\u001b[A"
     ]
    },
    {
     "name": "stdout",
     "output_type": "stream",
     "text": [
      "Epoch 114 Training Accuracy: tensor(0.7746)\n",
      "Testing Accuracy: tensor(0.6129)\n"
     ]
    },
    {
     "name": "stderr",
     "output_type": "stream",
     "text": [
      "\n",
      "Epoch: 114 | Batch: 2 | Loss 0.5429298281669617: 346it [2:13:53, 23.45s/it]\u001b[A\n",
      "Epoch: 115 | Batch: 0 | Loss 0.6232388019561768: 346it [2:13:53, 23.45s/it]\u001b[A\n",
      "Epoch: 115 | Batch: 0 | Loss 0.6232388019561768: 347it [2:14:20, 24.60s/it]\u001b[A\n",
      "Epoch: 115 | Batch: 1 | Loss 0.5494745373725891: 347it [2:14:20, 24.60s/it]\u001b[A\n",
      "Epoch: 115 | Batch: 1 | Loss 0.5494745373725891: 348it [2:14:33, 21.10s/it]\u001b[A\n",
      "Epoch: 115 | Batch: 2 | Loss 0.5937029719352722: 348it [2:14:33, 21.10s/it]\u001b[A"
     ]
    },
    {
     "name": "stdout",
     "output_type": "stream",
     "text": [
      "Epoch 115 Training Accuracy: tensor(0.7619)\n",
      "Testing Accuracy: tensor(0.6129)\n"
     ]
    },
    {
     "name": "stderr",
     "output_type": "stream",
     "text": [
      "\n",
      "Epoch: 115 | Batch: 2 | Loss 0.5937029719352722: 349it [2:15:01, 23.19s/it]\u001b[A\n",
      "Epoch: 116 | Batch: 0 | Loss 0.6123951077461243: 349it [2:15:01, 23.19s/it]\u001b[A\n",
      "Epoch: 116 | Batch: 0 | Loss 0.6123951077461243: 350it [2:15:28, 24.30s/it]\u001b[A\n",
      "Epoch: 116 | Batch: 1 | Loss 0.5581408739089966: 350it [2:15:28, 24.30s/it]\u001b[A\n",
      "Epoch: 116 | Batch: 1 | Loss 0.5581408739089966: 351it [2:15:41, 21.01s/it]\u001b[A\n",
      "Epoch: 116 | Batch: 2 | Loss 0.5992754697799683: 351it [2:15:41, 21.01s/it]\u001b[A"
     ]
    },
    {
     "name": "stdout",
     "output_type": "stream",
     "text": [
      "Epoch 116 Training Accuracy: tensor(0.7619)\n",
      "Testing Accuracy: tensor(0.6129)\n"
     ]
    },
    {
     "name": "stderr",
     "output_type": "stream",
     "text": [
      "\n",
      "Epoch: 116 | Batch: 2 | Loss 0.5992754697799683: 352it [2:16:10, 23.35s/it]\u001b[A\n",
      "Epoch: 117 | Batch: 0 | Loss 0.5479374527931213: 352it [2:16:10, 23.35s/it]\u001b[A\n",
      "Epoch: 117 | Batch: 0 | Loss 0.5479374527931213: 353it [2:16:36, 24.17s/it]\u001b[A\n",
      "Epoch: 117 | Batch: 1 | Loss 0.6294519901275635: 353it [2:16:36, 24.17s/it]\u001b[A\n",
      "Epoch: 117 | Batch: 1 | Loss 0.6294519901275635: 354it [2:16:48, 20.64s/it]\u001b[A\n",
      "Epoch: 117 | Batch: 2 | Loss 0.583082377910614: 354it [2:16:48, 20.64s/it] \u001b[A"
     ]
    },
    {
     "name": "stdout",
     "output_type": "stream",
     "text": [
      "Epoch 117 Training Accuracy: tensor(0.7381)\n",
      "Testing Accuracy: tensor(0.6129)\n"
     ]
    },
    {
     "name": "stderr",
     "output_type": "stream",
     "text": [
      "\n",
      "Epoch: 117 | Batch: 2 | Loss 0.583082377910614: 355it [2:17:15, 22.54s/it]\u001b[A\n",
      "Epoch: 118 | Batch: 0 | Loss 0.556319534778595: 355it [2:17:15, 22.54s/it]\u001b[A\n",
      "Epoch: 118 | Batch: 0 | Loss 0.556319534778595: 356it [2:17:43, 24.05s/it]\u001b[A\n",
      "Epoch: 118 | Batch: 1 | Loss 0.6012550592422485: 356it [2:17:43, 24.05s/it]\u001b[A\n",
      "Epoch: 118 | Batch: 1 | Loss 0.6012550592422485: 357it [2:17:56, 20.89s/it]\u001b[A\n",
      "Epoch: 118 | Batch: 2 | Loss 0.6234771609306335: 357it [2:17:56, 20.89s/it]\u001b[A"
     ]
    },
    {
     "name": "stdout",
     "output_type": "stream",
     "text": [
      "Epoch 118 Training Accuracy: tensor(0.7619)\n",
      "Testing Accuracy: tensor(0.6452)\n"
     ]
    },
    {
     "name": "stderr",
     "output_type": "stream",
     "text": [
      "\n",
      "Epoch: 118 | Batch: 2 | Loss 0.6234771609306335: 358it [2:18:24, 22.92s/it]\u001b[A\n",
      "Epoch: 119 | Batch: 0 | Loss 0.4922114610671997: 358it [2:18:24, 22.92s/it]\u001b[A\n",
      "Epoch: 119 | Batch: 0 | Loss 0.4922114610671997: 359it [2:18:51, 23.99s/it]\u001b[A\n",
      "Epoch: 119 | Batch: 1 | Loss 0.6677509546279907: 359it [2:18:51, 23.99s/it]\u001b[A\n",
      "Epoch: 119 | Batch: 1 | Loss 0.6677509546279907: 360it [2:19:04, 20.66s/it]\u001b[A\n",
      "Epoch: 119 | Batch: 2 | Loss 0.6237905621528625: 360it [2:19:04, 20.66s/it]\u001b[A"
     ]
    },
    {
     "name": "stdout",
     "output_type": "stream",
     "text": [
      "Epoch 119 Training Accuracy: tensor(0.7365)\n",
      "Testing Accuracy: tensor(0.5484)\n"
     ]
    },
    {
     "name": "stderr",
     "output_type": "stream",
     "text": [
      "\n",
      "Epoch: 119 | Batch: 2 | Loss 0.6237905621528625: 361it [2:19:32, 22.87s/it]\u001b[A\n",
      "Epoch: 120 | Batch: 0 | Loss 0.6743642091751099: 361it [2:19:32, 22.87s/it]\u001b[A\n",
      "Epoch: 120 | Batch: 0 | Loss 0.6743642091751099: 362it [2:20:00, 24.40s/it]\u001b[A\n",
      "Epoch: 120 | Batch: 1 | Loss 0.5364169478416443: 362it [2:20:00, 24.40s/it]\u001b[A\n",
      "Epoch: 120 | Batch: 1 | Loss 0.5364169478416443: 363it [2:20:13, 21.06s/it]\u001b[A\n",
      "Epoch: 120 | Batch: 2 | Loss 0.5098872184753418: 363it [2:20:13, 21.06s/it]\u001b[A"
     ]
    },
    {
     "name": "stdout",
     "output_type": "stream",
     "text": [
      "Epoch 120 Training Accuracy: tensor(0.7619)\n",
      "Testing Accuracy: tensor(0.5484)\n"
     ]
    },
    {
     "name": "stderr",
     "output_type": "stream",
     "text": [
      "\n",
      "Epoch: 120 | Batch: 2 | Loss 0.5098872184753418: 364it [2:20:40, 23.00s/it]\u001b[A\n",
      "Epoch: 121 | Batch: 0 | Loss 0.5740155577659607: 364it [2:20:40, 23.00s/it]\u001b[A\n",
      "Epoch: 121 | Batch: 0 | Loss 0.5740155577659607: 365it [2:21:08, 24.34s/it]\u001b[A\n",
      "Epoch: 121 | Batch: 1 | Loss 0.6184364557266235: 365it [2:21:08, 24.34s/it]\u001b[A\n",
      "Epoch: 121 | Batch: 1 | Loss 0.6184364557266235: 366it [2:21:21, 21.05s/it]\u001b[A\n",
      "Epoch: 121 | Batch: 2 | Loss 0.5469678044319153: 366it [2:21:21, 21.05s/it]\u001b[A"
     ]
    },
    {
     "name": "stdout",
     "output_type": "stream",
     "text": [
      "Epoch 121 Training Accuracy: tensor(0.7619)\n",
      "Testing Accuracy: tensor(0.5484)\n"
     ]
    },
    {
     "name": "stderr",
     "output_type": "stream",
     "text": [
      "\n",
      "Epoch: 121 | Batch: 2 | Loss 0.5469678044319153: 367it [2:21:49, 23.22s/it]\u001b[A\n",
      "Epoch: 122 | Batch: 0 | Loss 0.5233829021453857: 367it [2:21:49, 23.22s/it]\u001b[A\n",
      "Epoch: 122 | Batch: 0 | Loss 0.5233829021453857: 368it [2:22:16, 24.25s/it]\u001b[A\n",
      "Epoch: 122 | Batch: 1 | Loss 0.626702606678009: 368it [2:22:16, 24.25s/it] \u001b[A\n",
      "Epoch: 122 | Batch: 1 | Loss 0.626702606678009: 369it [2:22:29, 20.80s/it]\u001b[A\n",
      "Epoch: 122 | Batch: 2 | Loss 0.641211986541748: 369it [2:22:29, 20.80s/it]\u001b[A"
     ]
    },
    {
     "name": "stdout",
     "output_type": "stream",
     "text": [
      "Epoch 122 Training Accuracy: tensor(0.7492)\n",
      "Testing Accuracy: tensor(0.5806)\n"
     ]
    },
    {
     "name": "stderr",
     "output_type": "stream",
     "text": [
      "\n",
      "Epoch: 122 | Batch: 2 | Loss 0.641211986541748: 370it [2:22:56, 22.84s/it]\u001b[A\n",
      "Epoch: 123 | Batch: 0 | Loss 0.5843298435211182: 370it [2:22:56, 22.84s/it]\u001b[A\n",
      "Epoch: 123 | Batch: 0 | Loss 0.5843298435211182: 371it [2:23:24, 24.26s/it]\u001b[A\n",
      "Epoch: 123 | Batch: 1 | Loss 0.561080276966095: 371it [2:23:24, 24.26s/it] \u001b[A\n",
      "Epoch: 123 | Batch: 1 | Loss 0.561080276966095: 372it [2:23:37, 20.80s/it]\u001b[A\n",
      "Epoch: 123 | Batch: 2 | Loss 0.6466253399848938: 372it [2:23:37, 20.80s/it]\u001b[A"
     ]
    },
    {
     "name": "stdout",
     "output_type": "stream",
     "text": [
      "Epoch 123 Training Accuracy: tensor(0.7238)\n",
      "Testing Accuracy: tensor(0.5806)\n"
     ]
    },
    {
     "name": "stderr",
     "output_type": "stream",
     "text": [
      "\n",
      "Epoch: 123 | Batch: 2 | Loss 0.6466253399848938: 373it [2:24:05, 22.90s/it]\u001b[A\n",
      "Epoch: 124 | Batch: 0 | Loss 0.5549034476280212: 373it [2:24:05, 22.90s/it]\u001b[A\n",
      "Epoch: 124 | Batch: 0 | Loss 0.5549034476280212: 374it [2:24:31, 23.95s/it]\u001b[A\n",
      "Epoch: 124 | Batch: 1 | Loss 0.636501669883728: 374it [2:24:31, 23.95s/it] \u001b[A\n",
      "Epoch: 124 | Batch: 1 | Loss 0.636501669883728: 375it [2:24:44, 20.68s/it]\u001b[A\n",
      "Epoch: 124 | Batch: 2 | Loss 0.5486916899681091: 375it [2:24:44, 20.68s/it]\u001b[A"
     ]
    },
    {
     "name": "stdout",
     "output_type": "stream",
     "text": [
      "Epoch 124 Training Accuracy: tensor(0.7619)\n",
      "Testing Accuracy: tensor(0.5484)\n"
     ]
    },
    {
     "name": "stderr",
     "output_type": "stream",
     "text": [
      "\n",
      "Epoch: 124 | Batch: 2 | Loss 0.5486916899681091: 376it [2:25:12, 22.74s/it]\u001b[A\n",
      "Epoch: 125 | Batch: 0 | Loss 0.5294945240020752: 376it [2:25:12, 22.74s/it]\u001b[A\n",
      "Epoch: 125 | Batch: 0 | Loss 0.5294945240020752: 377it [2:25:41, 24.84s/it]\u001b[A\n",
      "Epoch: 125 | Batch: 1 | Loss 0.5965550541877747: 377it [2:25:41, 24.84s/it]\u001b[A\n",
      "Epoch: 125 | Batch: 1 | Loss 0.5965550541877747: 378it [2:25:55, 21.41s/it]\u001b[A\n",
      "Epoch: 125 | Batch: 2 | Loss 0.6899570226669312: 378it [2:25:55, 21.41s/it]\u001b[A"
     ]
    },
    {
     "name": "stdout",
     "output_type": "stream",
     "text": [
      "Epoch 125 Training Accuracy: tensor(0.7365)\n",
      "Testing Accuracy: tensor(0.5806)\n"
     ]
    },
    {
     "name": "stderr",
     "output_type": "stream",
     "text": [
      "\n",
      "Epoch: 125 | Batch: 2 | Loss 0.6899570226669312: 379it [2:26:24, 23.65s/it]\u001b[A\n",
      "Epoch: 126 | Batch: 0 | Loss 0.5782456994056702: 379it [2:26:24, 23.65s/it]\u001b[A\n",
      "Epoch: 126 | Batch: 0 | Loss 0.5782456994056702: 380it [2:26:52, 24.97s/it]\u001b[A\n",
      "Epoch: 126 | Batch: 1 | Loss 0.5734997987747192: 380it [2:26:52, 24.97s/it]\u001b[A\n",
      "Epoch: 126 | Batch: 1 | Loss 0.5734997987747192: 381it [2:27:05, 21.51s/it]\u001b[A\n",
      "Epoch: 126 | Batch: 2 | Loss 0.6318761706352234: 381it [2:27:05, 21.51s/it]\u001b[A"
     ]
    },
    {
     "name": "stdout",
     "output_type": "stream",
     "text": [
      "Epoch 126 Training Accuracy: tensor(0.7492)\n",
      "Testing Accuracy: tensor(0.5806)\n"
     ]
    },
    {
     "name": "stderr",
     "output_type": "stream",
     "text": [
      "\n",
      "Epoch: 126 | Batch: 2 | Loss 0.6318761706352234: 382it [2:27:33, 23.37s/it]\u001b[A\n",
      "Epoch: 127 | Batch: 0 | Loss 0.5824507474899292: 382it [2:27:33, 23.37s/it]\u001b[A\n",
      "Epoch: 127 | Batch: 0 | Loss 0.5824507474899292: 383it [2:28:01, 24.93s/it]\u001b[A\n",
      "Epoch: 127 | Batch: 1 | Loss 0.6140580773353577: 383it [2:28:01, 24.93s/it]\u001b[A\n",
      "Epoch: 127 | Batch: 1 | Loss 0.6140580773353577: 384it [2:28:15, 21.67s/it]\u001b[A\n",
      "Epoch: 127 | Batch: 2 | Loss 0.5343331098556519: 384it [2:28:15, 21.67s/it]\u001b[A"
     ]
    },
    {
     "name": "stdout",
     "output_type": "stream",
     "text": [
      "Epoch 127 Training Accuracy: tensor(0.7746)\n",
      "Testing Accuracy: tensor(0.5806)\n"
     ]
    },
    {
     "name": "stderr",
     "output_type": "stream",
     "text": [
      "\n",
      "Epoch: 127 | Batch: 2 | Loss 0.5343331098556519: 385it [2:28:42, 23.21s/it]\u001b[A\n",
      "Epoch: 128 | Batch: 0 | Loss 0.580120325088501: 385it [2:28:42, 23.21s/it] \u001b[A\n",
      "Epoch: 128 | Batch: 0 | Loss 0.580120325088501: 386it [2:29:10, 24.52s/it]\u001b[A\n",
      "Epoch: 128 | Batch: 1 | Loss 0.6115042567253113: 386it [2:29:10, 24.52s/it]\u001b[A\n",
      "Epoch: 128 | Batch: 1 | Loss 0.6115042567253113: 387it [2:29:22, 20.98s/it]\u001b[A\n",
      "Epoch: 128 | Batch: 2 | Loss 0.5438311100006104: 387it [2:29:22, 20.98s/it]\u001b[A"
     ]
    },
    {
     "name": "stdout",
     "output_type": "stream",
     "text": [
      "Epoch 128 Training Accuracy: tensor(0.7619)\n",
      "Testing Accuracy: tensor(0.5806)\n"
     ]
    },
    {
     "name": "stderr",
     "output_type": "stream",
     "text": [
      "\n",
      "Epoch: 128 | Batch: 2 | Loss 0.5438311100006104: 388it [2:29:50, 23.06s/it]\u001b[A\n",
      "Epoch: 129 | Batch: 0 | Loss 0.505252480506897: 388it [2:29:50, 23.06s/it] \u001b[A\n",
      "Epoch: 129 | Batch: 0 | Loss 0.505252480506897: 389it [2:30:19, 24.64s/it]\u001b[A\n",
      "Epoch: 129 | Batch: 1 | Loss 0.677013099193573: 389it [2:30:19, 24.64s/it]\u001b[A\n",
      "Epoch: 129 | Batch: 1 | Loss 0.677013099193573: 390it [2:30:32, 21.14s/it]\u001b[A\n",
      "Epoch: 129 | Batch: 2 | Loss 0.5642178654670715: 390it [2:30:32, 21.14s/it]\u001b[A"
     ]
    },
    {
     "name": "stdout",
     "output_type": "stream",
     "text": [
      "Epoch 129 Training Accuracy: tensor(0.7508)\n",
      "Testing Accuracy: tensor(0.5161)\n"
     ]
    },
    {
     "name": "stderr",
     "output_type": "stream",
     "text": [
      "\n",
      "Epoch: 129 | Batch: 2 | Loss 0.5642178654670715: 391it [2:31:00, 23.20s/it]\u001b[A\n",
      "Epoch: 130 | Batch: 0 | Loss 0.55050128698349: 391it [2:31:00, 23.20s/it]  \u001b[A\n",
      "Epoch: 130 | Batch: 0 | Loss 0.55050128698349: 392it [2:31:27, 24.40s/it]\u001b[A\n",
      "Epoch: 130 | Batch: 1 | Loss 0.5910272002220154: 392it [2:31:27, 24.40s/it]\u001b[A\n",
      "Epoch: 130 | Batch: 1 | Loss 0.5910272002220154: 393it [2:31:39, 20.82s/it]\u001b[A\n",
      "Epoch: 130 | Batch: 2 | Loss 0.6501865983009338: 393it [2:31:39, 20.82s/it]\u001b[A"
     ]
    },
    {
     "name": "stdout",
     "output_type": "stream",
     "text": [
      "Epoch 130 Training Accuracy: tensor(0.7381)\n",
      "Testing Accuracy: tensor(0.5161)\n"
     ]
    },
    {
     "name": "stderr",
     "output_type": "stream",
     "text": [
      "\n",
      "Epoch: 130 | Batch: 2 | Loss 0.6501865983009338: 394it [2:32:07, 22.92s/it]\u001b[A\n",
      "Epoch: 131 | Batch: 0 | Loss 0.6310228705406189: 394it [2:32:07, 22.92s/it]\u001b[A\n",
      "Epoch: 131 | Batch: 0 | Loss 0.6310228705406189: 395it [2:32:34, 24.04s/it]\u001b[A\n",
      "Epoch: 131 | Batch: 1 | Loss 0.5491510629653931: 395it [2:32:34, 24.04s/it]\u001b[A\n",
      "Epoch: 131 | Batch: 1 | Loss 0.5491510629653931: 396it [2:32:47, 20.89s/it]\u001b[A\n",
      "Epoch: 131 | Batch: 2 | Loss 0.5664790272712708: 396it [2:32:47, 20.89s/it]\u001b[A"
     ]
    },
    {
     "name": "stdout",
     "output_type": "stream",
     "text": [
      "Epoch 131 Training Accuracy: tensor(0.7508)\n",
      "Testing Accuracy: tensor(0.5806)\n"
     ]
    },
    {
     "name": "stderr",
     "output_type": "stream",
     "text": [
      "\n",
      "Epoch: 131 | Batch: 2 | Loss 0.5664790272712708: 397it [2:33:15, 22.93s/it]\u001b[A\n",
      "Epoch: 132 | Batch: 0 | Loss 0.665386974811554: 397it [2:33:15, 22.93s/it] \u001b[A\n",
      "Epoch: 132 | Batch: 0 | Loss 0.665386974811554: 398it [2:33:42, 24.22s/it]\u001b[A\n",
      "Epoch: 132 | Batch: 1 | Loss 0.5545169115066528: 398it [2:33:42, 24.22s/it]\u001b[A\n",
      "Epoch: 132 | Batch: 1 | Loss 0.5545169115066528: 399it [2:33:56, 21.01s/it]\u001b[A\n",
      "Epoch: 132 | Batch: 2 | Loss 0.4845889210700989: 399it [2:33:56, 21.01s/it]\u001b[A"
     ]
    },
    {
     "name": "stdout",
     "output_type": "stream",
     "text": [
      "Epoch 132 Training Accuracy: tensor(0.7508)\n",
      "Testing Accuracy: tensor(0.5806)\n"
     ]
    },
    {
     "name": "stderr",
     "output_type": "stream",
     "text": [
      "\n",
      "Epoch: 132 | Batch: 2 | Loss 0.4845889210700989: 400it [2:34:24, 23.08s/it]\u001b[A\n",
      "Epoch: 133 | Batch: 0 | Loss 0.6059854626655579: 400it [2:34:24, 23.08s/it]\u001b[A\n",
      "Epoch: 133 | Batch: 0 | Loss 0.6059854626655579: 401it [2:34:52, 24.77s/it]\u001b[A\n",
      "Epoch: 133 | Batch: 1 | Loss 0.6136413812637329: 401it [2:34:52, 24.77s/it]\u001b[A\n",
      "Epoch: 133 | Batch: 1 | Loss 0.6136413812637329: 402it [2:35:05, 21.14s/it]\u001b[A\n",
      "Epoch: 133 | Batch: 2 | Loss 0.4810337722301483: 402it [2:35:05, 21.14s/it]\u001b[A"
     ]
    },
    {
     "name": "stdout",
     "output_type": "stream",
     "text": [
      "Epoch 133 Training Accuracy: tensor(0.7873)\n",
      "Testing Accuracy: tensor(0.5806)\n"
     ]
    },
    {
     "name": "stderr",
     "output_type": "stream",
     "text": [
      "\n",
      "Epoch: 133 | Batch: 2 | Loss 0.4810337722301483: 403it [2:35:31, 22.70s/it]\u001b[A\n",
      "Epoch: 134 | Batch: 0 | Loss 0.6181832551956177: 403it [2:35:31, 22.70s/it]\u001b[A\n",
      "Epoch: 134 | Batch: 0 | Loss 0.6181832551956177: 404it [2:35:58, 23.91s/it]\u001b[A\n",
      "Epoch: 134 | Batch: 1 | Loss 0.5845707654953003: 404it [2:35:58, 23.91s/it]\u001b[A\n",
      "Epoch: 134 | Batch: 1 | Loss 0.5845707654953003: 405it [2:36:11, 20.49s/it]\u001b[A\n",
      "Epoch: 134 | Batch: 2 | Loss 0.515533983707428: 405it [2:36:11, 20.49s/it] \u001b[A"
     ]
    },
    {
     "name": "stdout",
     "output_type": "stream",
     "text": [
      "Epoch 134 Training Accuracy: tensor(0.7746)\n",
      "Testing Accuracy: tensor(0.5806)\n"
     ]
    },
    {
     "name": "stderr",
     "output_type": "stream",
     "text": [
      "\n",
      "Epoch: 134 | Batch: 2 | Loss 0.515533983707428: 406it [2:36:39, 22.83s/it]\u001b[A\n",
      "Epoch: 135 | Batch: 0 | Loss 0.6058761477470398: 406it [2:36:39, 22.83s/it]\u001b[A\n",
      "Epoch: 135 | Batch: 0 | Loss 0.6058761477470398: 407it [2:37:05, 23.85s/it]\u001b[A\n",
      "Epoch: 135 | Batch: 1 | Loss 0.6164356470108032: 407it [2:37:05, 23.85s/it]\u001b[A\n",
      "Epoch: 135 | Batch: 1 | Loss 0.6164356470108032: 408it [2:37:19, 20.71s/it]\u001b[A\n",
      "Epoch: 135 | Batch: 2 | Loss 0.4727461338043213: 408it [2:37:19, 20.71s/it]\u001b[A"
     ]
    },
    {
     "name": "stdout",
     "output_type": "stream",
     "text": [
      "Epoch 135 Training Accuracy: tensor(0.7762)\n",
      "Testing Accuracy: tensor(0.5161)\n"
     ]
    },
    {
     "name": "stderr",
     "output_type": "stream",
     "text": [
      "\n",
      "Epoch: 135 | Batch: 2 | Loss 0.4727461338043213: 409it [2:37:46, 22.75s/it]\u001b[A\n",
      "Epoch: 136 | Batch: 0 | Loss 0.5909252762794495: 409it [2:37:46, 22.75s/it]\u001b[A\n",
      "Epoch: 136 | Batch: 0 | Loss 0.5909252762794495: 410it [2:38:13, 24.02s/it]\u001b[A\n",
      "Epoch: 136 | Batch: 1 | Loss 0.6045590043067932: 410it [2:38:13, 24.02s/it]\u001b[A\n",
      "Epoch: 136 | Batch: 1 | Loss 0.6045590043067932: 411it [2:38:26, 20.60s/it]\u001b[A\n",
      "Epoch: 136 | Batch: 2 | Loss 0.5321308970451355: 411it [2:38:26, 20.60s/it]\u001b[A"
     ]
    },
    {
     "name": "stdout",
     "output_type": "stream",
     "text": [
      "Epoch 136 Training Accuracy: tensor(0.7508)\n",
      "Testing Accuracy: tensor(0.5161)\n"
     ]
    },
    {
     "name": "stderr",
     "output_type": "stream",
     "text": [
      "\n",
      "Epoch: 136 | Batch: 2 | Loss 0.5321308970451355: 412it [2:38:54, 22.92s/it]\u001b[A\n",
      "Epoch: 137 | Batch: 0 | Loss 0.5505445003509521: 412it [2:38:54, 22.92s/it]\u001b[A\n",
      "Epoch: 137 | Batch: 0 | Loss 0.5505445003509521: 413it [2:39:20, 23.92s/it]\u001b[A\n",
      "Epoch: 137 | Batch: 1 | Loss 0.6014279723167419: 413it [2:39:20, 23.92s/it]\u001b[A\n",
      "Epoch: 137 | Batch: 1 | Loss 0.6014279723167419: 414it [2:39:32, 20.37s/it]\u001b[A\n",
      "Epoch: 137 | Batch: 2 | Loss 0.6271631121635437: 414it [2:39:32, 20.37s/it]\u001b[A"
     ]
    },
    {
     "name": "stdout",
     "output_type": "stream",
     "text": [
      "Epoch 137 Training Accuracy: tensor(0.7619)\n",
      "Testing Accuracy: tensor(0.4839)\n"
     ]
    },
    {
     "name": "stderr",
     "output_type": "stream",
     "text": [
      "\n",
      "Epoch: 137 | Batch: 2 | Loss 0.6271631121635437: 415it [2:40:00, 22.44s/it]\u001b[A\n",
      "Epoch: 138 | Batch: 0 | Loss 0.5980376601219177: 415it [2:40:00, 22.44s/it]\u001b[A\n",
      "Epoch: 138 | Batch: 0 | Loss 0.5980376601219177: 416it [2:40:26, 23.67s/it]\u001b[A\n",
      "Epoch: 138 | Batch: 1 | Loss 0.5981365442276001: 416it [2:40:26, 23.67s/it]\u001b[A\n",
      "Epoch: 138 | Batch: 1 | Loss 0.5981365442276001: 417it [2:40:38, 20.15s/it]\u001b[A\n",
      "Epoch: 138 | Batch: 2 | Loss 0.5310366749763489: 417it [2:40:38, 20.15s/it]\u001b[A"
     ]
    },
    {
     "name": "stdout",
     "output_type": "stream",
     "text": [
      "Epoch 138 Training Accuracy: tensor(0.7619)\n",
      "Testing Accuracy: tensor(0.4839)\n"
     ]
    },
    {
     "name": "stderr",
     "output_type": "stream",
     "text": [
      "\n",
      "Epoch: 138 | Batch: 2 | Loss 0.5310366749763489: 418it [2:41:05, 22.08s/it]\u001b[A\n",
      "Epoch: 139 | Batch: 0 | Loss 0.5618045926094055: 418it [2:41:05, 22.08s/it]\u001b[A\n",
      "Epoch: 139 | Batch: 0 | Loss 0.5618045926094055: 419it [2:41:32, 23.51s/it]\u001b[A\n",
      "Epoch: 139 | Batch: 1 | Loss 0.6058005690574646: 419it [2:41:32, 23.51s/it]\u001b[A\n",
      "Epoch: 139 | Batch: 1 | Loss 0.6058005690574646: 420it [2:41:43, 20.03s/it]\u001b[A\n",
      "Epoch: 139 | Batch: 2 | Loss 0.5901771783828735: 420it [2:41:43, 20.03s/it]\u001b[A"
     ]
    },
    {
     "name": "stdout",
     "output_type": "stream",
     "text": [
      "Epoch 139 Training Accuracy: tensor(0.7492)\n",
      "Testing Accuracy: tensor(0.5161)\n"
     ]
    },
    {
     "name": "stderr",
     "output_type": "stream",
     "text": [
      "\n",
      "Epoch: 139 | Batch: 2 | Loss 0.5901771783828735: 421it [2:42:11, 22.26s/it]\u001b[A\n",
      "Epoch: 140 | Batch: 0 | Loss 0.6545956134796143: 421it [2:42:11, 22.26s/it]\u001b[A\n",
      "Epoch: 140 | Batch: 0 | Loss 0.6545956134796143: 422it [2:42:37, 23.47s/it]\u001b[A\n",
      "Epoch: 140 | Batch: 1 | Loss 0.5192227959632874: 422it [2:42:37, 23.47s/it]\u001b[A\n",
      "Epoch: 140 | Batch: 1 | Loss 0.5192227959632874: 423it [2:42:50, 20.17s/it]\u001b[A\n",
      "Epoch: 140 | Batch: 2 | Loss 0.5751360058784485: 423it [2:42:50, 20.17s/it]\u001b[A"
     ]
    },
    {
     "name": "stdout",
     "output_type": "stream",
     "text": [
      "Epoch 140 Training Accuracy: tensor(0.7254)\n",
      "Testing Accuracy: tensor(0.5161)\n"
     ]
    },
    {
     "name": "stderr",
     "output_type": "stream",
     "text": [
      "\n",
      "Epoch: 140 | Batch: 2 | Loss 0.5751360058784485: 424it [2:43:16, 21.98s/it]\u001b[A\n",
      "Epoch: 141 | Batch: 0 | Loss 0.6242119669914246: 424it [2:43:16, 21.98s/it]\u001b[A\n",
      "Epoch: 141 | Batch: 0 | Loss 0.6242119669914246: 425it [2:43:43, 23.57s/it]\u001b[A\n",
      "Epoch: 141 | Batch: 1 | Loss 0.5201097130775452: 425it [2:43:43, 23.57s/it]\u001b[A\n",
      "Epoch: 141 | Batch: 1 | Loss 0.5201097130775452: 426it [2:43:55, 20.15s/it]\u001b[A\n",
      "Epoch: 141 | Batch: 2 | Loss 0.63921058177948: 426it [2:43:55, 20.15s/it]  \u001b[A"
     ]
    },
    {
     "name": "stdout",
     "output_type": "stream",
     "text": [
      "Epoch 141 Training Accuracy: tensor(0.7127)\n",
      "Testing Accuracy: tensor(0.5806)\n"
     ]
    },
    {
     "name": "stderr",
     "output_type": "stream",
     "text": [
      "\n",
      "Epoch: 141 | Batch: 2 | Loss 0.63921058177948: 427it [2:44:22, 22.10s/it]\u001b[A\n",
      "Epoch: 142 | Batch: 0 | Loss 0.5450458526611328: 427it [2:44:22, 22.10s/it]\u001b[A\n",
      "Epoch: 142 | Batch: 0 | Loss 0.5450458526611328: 428it [2:44:49, 23.50s/it]\u001b[A\n",
      "Epoch: 142 | Batch: 1 | Loss 0.588340163230896: 428it [2:44:49, 23.50s/it] \u001b[A\n",
      "Epoch: 142 | Batch: 1 | Loss 0.588340163230896: 429it [2:45:01, 20.18s/it]\u001b[A\n",
      "Epoch: 142 | Batch: 2 | Loss 0.6596067547798157: 429it [2:45:01, 20.18s/it]\u001b[A"
     ]
    },
    {
     "name": "stdout",
     "output_type": "stream",
     "text": [
      "Epoch 142 Training Accuracy: tensor(0.7476)\n",
      "Testing Accuracy: tensor(0.6452)\n"
     ]
    },
    {
     "name": "stderr",
     "output_type": "stream",
     "text": [
      "\n",
      "Epoch: 142 | Batch: 2 | Loss 0.6596067547798157: 430it [2:45:28, 22.09s/it]\u001b[A\n",
      "Epoch: 143 | Batch: 0 | Loss 0.6085426211357117: 430it [2:45:28, 22.09s/it]\u001b[A\n",
      "Epoch: 143 | Batch: 0 | Loss 0.6085426211357117: 431it [2:45:54, 23.42s/it]\u001b[A\n",
      "Epoch: 143 | Batch: 1 | Loss 0.5299311876296997: 431it [2:45:54, 23.42s/it]\u001b[A\n",
      "Epoch: 143 | Batch: 1 | Loss 0.5299311876296997: 432it [2:46:07, 20.18s/it]\u001b[A\n",
      "Epoch: 143 | Batch: 2 | Loss 0.6500484347343445: 432it [2:46:07, 20.18s/it]\u001b[A"
     ]
    },
    {
     "name": "stdout",
     "output_type": "stream",
     "text": [
      "Epoch 143 Training Accuracy: tensor(0.7238)\n",
      "Testing Accuracy: tensor(0.6129)\n"
     ]
    },
    {
     "name": "stderr",
     "output_type": "stream",
     "text": [
      "\n",
      "Epoch: 143 | Batch: 2 | Loss 0.6500484347343445: 433it [2:46:34, 22.12s/it]\u001b[A\n",
      "Epoch: 144 | Batch: 0 | Loss 0.6573387980461121: 433it [2:46:34, 22.12s/it]\u001b[A\n",
      "Epoch: 144 | Batch: 0 | Loss 0.6573387980461121: 434it [2:47:00, 23.43s/it]\u001b[A\n",
      "Epoch: 144 | Batch: 1 | Loss 0.5563818216323853: 434it [2:47:00, 23.43s/it]\u001b[A\n",
      "Epoch: 144 | Batch: 1 | Loss 0.5563818216323853: 435it [2:47:13, 20.16s/it]\u001b[A\n",
      "Epoch: 144 | Batch: 2 | Loss 0.4940388798713684: 435it [2:47:13, 20.16s/it]\u001b[A"
     ]
    },
    {
     "name": "stdout",
     "output_type": "stream",
     "text": [
      "Epoch 144 Training Accuracy: tensor(0.7984)\n",
      "Testing Accuracy: tensor(0.6129)\n"
     ]
    },
    {
     "name": "stderr",
     "output_type": "stream",
     "text": [
      "\n",
      "Epoch: 144 | Batch: 2 | Loss 0.4940388798713684: 436it [2:47:39, 22.18s/it]\u001b[A\n",
      "Epoch: 145 | Batch: 0 | Loss 0.5931299924850464: 436it [2:47:39, 22.18s/it]\u001b[A\n",
      "Epoch: 145 | Batch: 0 | Loss 0.5931299924850464: 437it [2:48:06, 23.49s/it]\u001b[A\n",
      "Epoch: 145 | Batch: 1 | Loss 0.5841540098190308: 437it [2:48:06, 23.49s/it]\u001b[A\n",
      "Epoch: 145 | Batch: 1 | Loss 0.5841540098190308: 438it [2:48:18, 19.98s/it]\u001b[A\n",
      "Epoch: 145 | Batch: 2 | Loss 0.5696094632148743: 438it [2:48:18, 19.98s/it]\u001b[A"
     ]
    },
    {
     "name": "stdout",
     "output_type": "stream",
     "text": [
      "Epoch 145 Training Accuracy: tensor(0.7730)\n",
      "Testing Accuracy: tensor(0.6129)\n"
     ]
    },
    {
     "name": "stderr",
     "output_type": "stream",
     "text": [
      "\n",
      "Epoch: 145 | Batch: 2 | Loss 0.5696094632148743: 439it [2:48:45, 22.06s/it]\u001b[A\n",
      "Epoch: 146 | Batch: 0 | Loss 0.5745412707328796: 439it [2:48:45, 22.06s/it]\u001b[A\n",
      "Epoch: 146 | Batch: 0 | Loss 0.5745412707328796: 440it [2:49:11, 23.29s/it]\u001b[A\n",
      "Epoch: 146 | Batch: 1 | Loss 0.6150684356689453: 440it [2:49:11, 23.29s/it]\u001b[A\n",
      "Epoch: 146 | Batch: 1 | Loss 0.6150684356689453: 441it [2:49:23, 19.94s/it]\u001b[A\n",
      "Epoch: 146 | Batch: 2 | Loss 0.54059237241745: 441it [2:49:23, 19.94s/it]  \u001b[A"
     ]
    },
    {
     "name": "stdout",
     "output_type": "stream",
     "text": [
      "Epoch 146 Training Accuracy: tensor(0.7619)\n",
      "Testing Accuracy: tensor(0.5161)\n"
     ]
    },
    {
     "name": "stderr",
     "output_type": "stream",
     "text": [
      "\n",
      "Epoch: 146 | Batch: 2 | Loss 0.54059237241745: 442it [2:49:50, 21.99s/it]\u001b[A\n",
      "Epoch: 147 | Batch: 0 | Loss 0.5978175401687622: 442it [2:49:50, 21.99s/it]\u001b[A\n",
      "Epoch: 147 | Batch: 0 | Loss 0.5978175401687622: 443it [2:50:16, 23.19s/it]\u001b[A\n",
      "Epoch: 147 | Batch: 1 | Loss 0.5479573607444763: 443it [2:50:16, 23.19s/it]\u001b[A\n",
      "Epoch: 147 | Batch: 1 | Loss 0.5479573607444763: 444it [2:50:29, 20.07s/it]\u001b[A\n",
      "Epoch: 147 | Batch: 2 | Loss 0.6302191615104675: 444it [2:50:29, 20.07s/it]\u001b[A"
     ]
    },
    {
     "name": "stdout",
     "output_type": "stream",
     "text": [
      "Epoch 147 Training Accuracy: tensor(0.7365)\n",
      "Testing Accuracy: tensor(0.5161)\n"
     ]
    },
    {
     "name": "stderr",
     "output_type": "stream",
     "text": [
      "\n",
      "Epoch: 147 | Batch: 2 | Loss 0.6302191615104675: 445it [2:50:55, 22.14s/it]\u001b[A\n",
      "Epoch: 148 | Batch: 0 | Loss 0.6586848497390747: 445it [2:50:55, 22.14s/it]\u001b[A\n",
      "Epoch: 148 | Batch: 0 | Loss 0.6586848497390747: 446it [2:51:22, 23.41s/it]\u001b[A\n",
      "Epoch: 148 | Batch: 1 | Loss 0.5027268528938293: 446it [2:51:22, 23.41s/it]\u001b[A\n",
      "Epoch: 148 | Batch: 1 | Loss 0.5027268528938293: 447it [2:51:34, 20.17s/it]\u001b[A\n",
      "Epoch: 148 | Batch: 2 | Loss 0.5973685383796692: 447it [2:51:34, 20.17s/it]\u001b[A"
     ]
    },
    {
     "name": "stdout",
     "output_type": "stream",
     "text": [
      "Epoch 148 Training Accuracy: tensor(0.7381)\n",
      "Testing Accuracy: tensor(0.4839)\n"
     ]
    },
    {
     "name": "stderr",
     "output_type": "stream",
     "text": [
      "\n",
      "Epoch: 148 | Batch: 2 | Loss 0.5973685383796692: 448it [2:52:02, 22.28s/it]\u001b[A\n",
      "Epoch: 149 | Batch: 0 | Loss 0.5946254134178162: 448it [2:52:02, 22.28s/it]\u001b[A\n",
      "Epoch: 149 | Batch: 0 | Loss 0.5946254134178162: 449it [2:52:28, 23.50s/it]\u001b[A\n",
      "Epoch: 149 | Batch: 1 | Loss 0.5630351901054382: 449it [2:52:28, 23.50s/it]\u001b[A\n",
      "Epoch: 149 | Batch: 1 | Loss 0.5630351901054382: 450it [2:52:41, 20.27s/it]\u001b[A\n",
      "Epoch: 149 | Batch: 2 | Loss 0.6055211424827576: 450it [2:52:41, 20.27s/it]\u001b[A"
     ]
    },
    {
     "name": "stdout",
     "output_type": "stream",
     "text": [
      "Epoch 149 Training Accuracy: tensor(0.7381)\n",
      "Testing Accuracy: tensor(0.4839)\n"
     ]
    },
    {
     "name": "stderr",
     "output_type": "stream",
     "text": [
      "\n",
      "Epoch: 149 | Batch: 2 | Loss 0.6055211424827576: 451it [2:53:07, 22.17s/it]\u001b[A\n",
      "Epoch: 150 | Batch: 0 | Loss 0.6125413179397583: 451it [2:53:07, 22.17s/it]\u001b[A\n",
      "Epoch: 150 | Batch: 0 | Loss 0.6125413179397583: 452it [2:53:34, 23.61s/it]\u001b[A\n",
      "Epoch: 150 | Batch: 1 | Loss 0.5919473171234131: 452it [2:53:34, 23.61s/it]\u001b[A\n",
      "Epoch: 150 | Batch: 1 | Loss 0.5919473171234131: 453it [2:53:47, 20.30s/it]\u001b[A\n",
      "Epoch: 150 | Batch: 2 | Loss 0.5053181052207947: 453it [2:53:47, 20.30s/it]\u001b[A"
     ]
    },
    {
     "name": "stdout",
     "output_type": "stream",
     "text": [
      "Epoch 150 Training Accuracy: tensor(0.7508)\n",
      "Testing Accuracy: tensor(0.4839)\n"
     ]
    },
    {
     "name": "stderr",
     "output_type": "stream",
     "text": [
      "\n",
      "Epoch: 150 | Batch: 2 | Loss 0.5053181052207947: 454it [2:54:13, 22.14s/it]\u001b[A\n",
      "Epoch: 151 | Batch: 0 | Loss 0.5582285523414612: 454it [2:54:13, 22.14s/it]\u001b[A\n",
      "Epoch: 151 | Batch: 0 | Loss 0.5582285523414612: 455it [2:54:40, 23.47s/it]\u001b[A\n",
      "Epoch: 151 | Batch: 1 | Loss 0.6316522359848022: 455it [2:54:40, 23.47s/it]\u001b[A\n",
      "Epoch: 151 | Batch: 1 | Loss 0.6316522359848022: 456it [2:54:53, 20.22s/it]\u001b[A\n",
      "Epoch: 151 | Batch: 2 | Loss 0.5371327996253967: 456it [2:54:53, 20.22s/it]\u001b[A"
     ]
    },
    {
     "name": "stdout",
     "output_type": "stream",
     "text": [
      "Epoch 151 Training Accuracy: tensor(0.7635)\n",
      "Testing Accuracy: tensor(0.4839)\n"
     ]
    },
    {
     "name": "stderr",
     "output_type": "stream",
     "text": [
      "\n",
      "Epoch: 151 | Batch: 2 | Loss 0.5371327996253967: 457it [2:55:19, 21.98s/it]\u001b[A\n",
      "Epoch: 152 | Batch: 0 | Loss 0.6187030673027039: 457it [2:55:19, 21.98s/it]\u001b[A\n",
      "Epoch: 152 | Batch: 0 | Loss 0.6187030673027039: 458it [2:55:46, 23.48s/it]\u001b[A\n",
      "Epoch: 152 | Batch: 1 | Loss 0.5272384881973267: 458it [2:55:46, 23.48s/it]\u001b[A\n",
      "Epoch: 152 | Batch: 1 | Loss 0.5272384881973267: 459it [2:55:58, 20.26s/it]\u001b[A\n",
      "Epoch: 152 | Batch: 2 | Loss 0.631247341632843: 459it [2:55:58, 20.26s/it] \u001b[A"
     ]
    },
    {
     "name": "stdout",
     "output_type": "stream",
     "text": [
      "Epoch 152 Training Accuracy: tensor(0.7381)\n",
      "Testing Accuracy: tensor(0.4839)\n"
     ]
    },
    {
     "name": "stderr",
     "output_type": "stream",
     "text": [
      "\n",
      "Epoch: 152 | Batch: 2 | Loss 0.631247341632843: 460it [2:56:25, 22.17s/it]\u001b[A\n",
      "Epoch: 153 | Batch: 0 | Loss 0.5827076435089111: 460it [2:56:25, 22.17s/it]\u001b[A\n",
      "Epoch: 153 | Batch: 0 | Loss 0.5827076435089111: 461it [2:56:51, 23.34s/it]\u001b[A\n",
      "Epoch: 153 | Batch: 1 | Loss 0.6024896502494812: 461it [2:56:51, 23.34s/it]\u001b[A\n",
      "Epoch: 153 | Batch: 1 | Loss 0.6024896502494812: 462it [2:57:04, 20.09s/it]\u001b[A\n",
      "Epoch: 153 | Batch: 2 | Loss 0.5450606942176819: 462it [2:57:04, 20.09s/it]\u001b[A"
     ]
    },
    {
     "name": "stdout",
     "output_type": "stream",
     "text": [
      "Epoch 153 Training Accuracy: tensor(0.7508)\n",
      "Testing Accuracy: tensor(0.4839)\n"
     ]
    },
    {
     "name": "stderr",
     "output_type": "stream",
     "text": [
      "\n",
      "Epoch: 153 | Batch: 2 | Loss 0.5450606942176819: 463it [2:57:29, 21.76s/it]\u001b[A\n",
      "Epoch: 154 | Batch: 0 | Loss 0.629128634929657: 463it [2:57:29, 21.76s/it] \u001b[A\n",
      "Epoch: 154 | Batch: 0 | Loss 0.629128634929657: 464it [2:57:56, 23.17s/it]\u001b[A\n",
      "Epoch: 154 | Batch: 1 | Loss 0.58140629529953: 464it [2:57:56, 23.17s/it] \u001b[A\n",
      "Epoch: 154 | Batch: 1 | Loss 0.58140629529953: 465it [2:58:08, 20.00s/it]\u001b[A\n",
      "Epoch: 154 | Batch: 2 | Loss 0.4901365339756012: 465it [2:58:08, 20.00s/it]\u001b[A"
     ]
    },
    {
     "name": "stdout",
     "output_type": "stream",
     "text": [
      "Epoch 154 Training Accuracy: tensor(0.7635)\n",
      "Testing Accuracy: tensor(0.4839)\n"
     ]
    },
    {
     "name": "stderr",
     "output_type": "stream",
     "text": [
      "\n",
      "Epoch: 154 | Batch: 2 | Loss 0.4901365339756012: 466it [2:58:34, 21.60s/it]\u001b[A\n",
      "Epoch: 155 | Batch: 0 | Loss 0.6678010821342468: 466it [2:58:34, 21.60s/it]\u001b[A\n",
      "Epoch: 155 | Batch: 0 | Loss 0.6678010821342468: 467it [2:59:00, 23.08s/it]\u001b[A\n",
      "Epoch: 155 | Batch: 1 | Loss 0.532812774181366: 467it [2:59:00, 23.08s/it] \u001b[A\n",
      "Epoch: 155 | Batch: 1 | Loss 0.532812774181366: 468it [2:59:12, 19.85s/it]\u001b[A\n",
      "Epoch: 155 | Batch: 2 | Loss 0.5101956129074097: 468it [2:59:12, 19.85s/it]\u001b[A"
     ]
    },
    {
     "name": "stdout",
     "output_type": "stream",
     "text": [
      "Epoch 155 Training Accuracy: tensor(0.7762)\n",
      "Testing Accuracy: tensor(0.4839)\n"
     ]
    },
    {
     "name": "stderr",
     "output_type": "stream",
     "text": [
      "\n",
      "Epoch: 155 | Batch: 2 | Loss 0.5101956129074097: 469it [2:59:39, 21.77s/it]\u001b[A\n",
      "Epoch: 156 | Batch: 0 | Loss 0.5155699253082275: 469it [2:59:39, 21.77s/it]\u001b[A\n",
      "Epoch: 156 | Batch: 0 | Loss 0.5155699253082275: 470it [3:00:04, 22.94s/it]\u001b[A\n",
      "Epoch: 156 | Batch: 1 | Loss 0.6231920719146729: 470it [3:00:04, 22.94s/it]\u001b[A\n",
      "Epoch: 156 | Batch: 1 | Loss 0.6231920719146729: 471it [3:00:17, 19.84s/it]\u001b[A\n",
      "Epoch: 156 | Batch: 2 | Loss 0.6462740302085876: 471it [3:00:17, 19.84s/it]\u001b[A"
     ]
    },
    {
     "name": "stdout",
     "output_type": "stream",
     "text": [
      "Epoch 156 Training Accuracy: tensor(0.7254)\n",
      "Testing Accuracy: tensor(0.5161)\n"
     ]
    },
    {
     "name": "stderr",
     "output_type": "stream",
     "text": [
      "\n",
      "Epoch: 156 | Batch: 2 | Loss 0.6462740302085876: 472it [3:00:44, 22.02s/it]\u001b[A\n",
      "Epoch: 157 | Batch: 0 | Loss 0.574804961681366: 472it [3:00:44, 22.02s/it] \u001b[A\n",
      "Epoch: 157 | Batch: 0 | Loss 0.574804961681366: 473it [3:01:11, 23.44s/it]\u001b[A\n",
      "Epoch: 157 | Batch: 1 | Loss 0.6149013638496399: 473it [3:01:11, 23.44s/it]\u001b[A\n",
      "Epoch: 157 | Batch: 1 | Loss 0.6149013638496399: 474it [3:01:24, 20.30s/it]\u001b[A\n",
      "Epoch: 157 | Batch: 2 | Loss 0.5348687171936035: 474it [3:01:24, 20.30s/it]\u001b[A"
     ]
    },
    {
     "name": "stdout",
     "output_type": "stream",
     "text": [
      "Epoch 157 Training Accuracy: tensor(0.7508)\n",
      "Testing Accuracy: tensor(0.5161)\n"
     ]
    },
    {
     "name": "stderr",
     "output_type": "stream",
     "text": [
      "\n",
      "Epoch: 157 | Batch: 2 | Loss 0.5348687171936035: 475it [3:01:50, 21.97s/it]\u001b[A\n",
      "Epoch: 158 | Batch: 0 | Loss 0.49260446429252625: 475it [3:01:50, 21.97s/it]\u001b[A\n",
      "Epoch: 158 | Batch: 0 | Loss 0.49260446429252625: 476it [3:02:15, 23.04s/it]\u001b[A\n",
      "Epoch: 158 | Batch: 1 | Loss 0.6122626662254333: 476it [3:02:15, 23.04s/it] \u001b[A\n",
      "Epoch: 158 | Batch: 1 | Loss 0.6122626662254333: 477it [3:02:28, 19.83s/it]\u001b[A\n",
      "Epoch: 158 | Batch: 2 | Loss 0.7155352830886841: 477it [3:02:28, 19.83s/it]\u001b[A"
     ]
    },
    {
     "name": "stdout",
     "output_type": "stream",
     "text": [
      "Epoch 158 Training Accuracy: tensor(0.7254)\n",
      "Testing Accuracy: tensor(0.4839)\n"
     ]
    },
    {
     "name": "stderr",
     "output_type": "stream",
     "text": [
      "\n",
      "Epoch: 158 | Batch: 2 | Loss 0.7155352830886841: 478it [3:02:54, 21.83s/it]\u001b[A\n",
      "Epoch: 159 | Batch: 0 | Loss 0.6063047647476196: 478it [3:02:54, 21.83s/it]\u001b[A\n",
      "Epoch: 159 | Batch: 0 | Loss 0.6063047647476196: 479it [3:03:21, 23.24s/it]\u001b[A\n",
      "Epoch: 159 | Batch: 1 | Loss 0.5258188843727112: 479it [3:03:21, 23.24s/it]\u001b[A\n",
      "Epoch: 159 | Batch: 1 | Loss 0.5258188843727112: 480it [3:03:33, 19.86s/it]\u001b[A\n",
      "Epoch: 159 | Batch: 2 | Loss 0.6554194688796997: 480it [3:03:33, 19.86s/it]\u001b[A"
     ]
    },
    {
     "name": "stdout",
     "output_type": "stream",
     "text": [
      "Epoch 159 Training Accuracy: tensor(0.7254)\n",
      "Testing Accuracy: tensor(0.4839)\n"
     ]
    },
    {
     "name": "stderr",
     "output_type": "stream",
     "text": [
      "\n",
      "Epoch: 159 | Batch: 2 | Loss 0.6554194688796997: 481it [3:03:59, 21.91s/it]\u001b[A\n",
      "Epoch: 160 | Batch: 0 | Loss 0.5618031620979309: 481it [3:03:59, 21.91s/it]\u001b[A\n",
      "Epoch: 160 | Batch: 0 | Loss 0.5618031620979309: 482it [3:04:26, 23.44s/it]\u001b[A\n",
      "Epoch: 160 | Batch: 1 | Loss 0.6437130570411682: 482it [3:04:26, 23.44s/it]\u001b[A\n",
      "Epoch: 160 | Batch: 1 | Loss 0.6437130570411682: 483it [3:04:38, 20.03s/it]\u001b[A\n",
      "Epoch: 160 | Batch: 2 | Loss 0.4969850182533264: 483it [3:04:38, 20.03s/it]\u001b[A"
     ]
    },
    {
     "name": "stdout",
     "output_type": "stream",
     "text": [
      "Epoch 160 Training Accuracy: tensor(0.7746)\n",
      "Testing Accuracy: tensor(0.5161)\n"
     ]
    },
    {
     "name": "stderr",
     "output_type": "stream",
     "text": [
      "\n",
      "Epoch: 160 | Batch: 2 | Loss 0.4969850182533264: 484it [3:05:05, 22.07s/it]\u001b[A\n",
      "Epoch: 161 | Batch: 0 | Loss 0.7183441519737244: 484it [3:05:05, 22.07s/it]\u001b[A\n",
      "Epoch: 161 | Batch: 0 | Loss 0.7183441519737244: 485it [3:05:31, 23.11s/it]\u001b[A\n",
      "Epoch: 161 | Batch: 1 | Loss 0.4910801649093628: 485it [3:05:31, 23.11s/it]\u001b[A\n",
      "Epoch: 161 | Batch: 1 | Loss 0.4910801649093628: 486it [3:05:43, 19.95s/it]\u001b[A\n",
      "Epoch: 161 | Batch: 2 | Loss 0.4951460361480713: 486it [3:05:43, 19.95s/it]\u001b[A"
     ]
    },
    {
     "name": "stdout",
     "output_type": "stream",
     "text": [
      "Epoch 161 Training Accuracy: tensor(0.7635)\n",
      "Testing Accuracy: tensor(0.5484)\n"
     ]
    },
    {
     "name": "stderr",
     "output_type": "stream",
     "text": [
      "\n",
      "Epoch: 161 | Batch: 2 | Loss 0.4951460361480713: 487it [3:06:10, 21.90s/it]\u001b[A\n",
      "Epoch: 162 | Batch: 0 | Loss 0.593290388584137: 487it [3:06:10, 21.90s/it] \u001b[A\n",
      "Epoch: 162 | Batch: 0 | Loss 0.593290388584137: 488it [3:06:37, 23.37s/it]\u001b[A\n",
      "Epoch: 162 | Batch: 1 | Loss 0.5469534397125244: 488it [3:06:37, 23.37s/it]\u001b[A\n",
      "Epoch: 162 | Batch: 1 | Loss 0.5469534397125244: 489it [3:06:48, 19.84s/it]\u001b[A\n",
      "Epoch: 162 | Batch: 2 | Loss 0.6388388872146606: 489it [3:06:48, 19.84s/it]\u001b[A"
     ]
    },
    {
     "name": "stdout",
     "output_type": "stream",
     "text": [
      "Epoch 162 Training Accuracy: tensor(0.7381)\n",
      "Testing Accuracy: tensor(0.5161)\n"
     ]
    },
    {
     "name": "stderr",
     "output_type": "stream",
     "text": [
      "\n",
      "Epoch: 162 | Batch: 2 | Loss 0.6388388872146606: 490it [3:07:15, 22.00s/it]\u001b[A\n",
      "Epoch: 163 | Batch: 0 | Loss 0.5432805418968201: 490it [3:07:15, 22.00s/it]\u001b[A\n",
      "Epoch: 163 | Batch: 0 | Loss 0.5432805418968201: 491it [3:07:41, 23.16s/it]\u001b[A\n",
      "Epoch: 163 | Batch: 1 | Loss 0.633119523525238: 491it [3:07:41, 23.16s/it] \u001b[A\n",
      "Epoch: 163 | Batch: 1 | Loss 0.633119523525238: 492it [3:07:53, 19.65s/it]\u001b[A\n",
      "Epoch: 163 | Batch: 2 | Loss 0.5643764138221741: 492it [3:07:53, 19.65s/it]\u001b[A"
     ]
    },
    {
     "name": "stdout",
     "output_type": "stream",
     "text": [
      "Epoch 163 Training Accuracy: tensor(0.7381)\n",
      "Testing Accuracy: tensor(0.4839)\n"
     ]
    },
    {
     "name": "stderr",
     "output_type": "stream",
     "text": [
      "\n",
      "Epoch: 163 | Batch: 2 | Loss 0.5643764138221741: 493it [3:08:19, 21.78s/it]\u001b[A\n",
      "Epoch: 164 | Batch: 0 | Loss 0.6287268996238708: 493it [3:08:19, 21.78s/it]\u001b[A\n",
      "Epoch: 164 | Batch: 0 | Loss 0.6287268996238708: 494it [3:08:45, 22.96s/it]\u001b[A\n",
      "Epoch: 164 | Batch: 1 | Loss 0.5080584287643433: 494it [3:08:45, 22.96s/it]\u001b[A\n",
      "Epoch: 164 | Batch: 1 | Loss 0.5080584287643433: 495it [3:08:58, 19.84s/it]\u001b[A\n",
      "Epoch: 164 | Batch: 2 | Loss 0.6432079076766968: 495it [3:08:58, 19.84s/it]\u001b[A"
     ]
    },
    {
     "name": "stdout",
     "output_type": "stream",
     "text": [
      "Epoch 164 Training Accuracy: tensor(0.7492)\n",
      "Testing Accuracy: tensor(0.4839)\n"
     ]
    },
    {
     "name": "stderr",
     "output_type": "stream",
     "text": [
      "\n",
      "Epoch: 164 | Batch: 2 | Loss 0.6432079076766968: 496it [3:09:25, 21.98s/it]\u001b[A\n",
      "Epoch: 165 | Batch: 0 | Loss 0.5463762879371643: 496it [3:09:25, 21.98s/it]\u001b[A\n",
      "Epoch: 165 | Batch: 0 | Loss 0.5463762879371643: 497it [3:09:52, 23.49s/it]\u001b[A\n",
      "Epoch: 165 | Batch: 1 | Loss 0.5753123760223389: 497it [3:09:52, 23.49s/it]\u001b[A\n",
      "Epoch: 165 | Batch: 1 | Loss 0.5753123760223389: 498it [3:10:04, 20.08s/it]\u001b[A\n",
      "Epoch: 165 | Batch: 2 | Loss 0.6762380599975586: 498it [3:10:04, 20.08s/it]\u001b[A"
     ]
    },
    {
     "name": "stdout",
     "output_type": "stream",
     "text": [
      "Epoch 165 Training Accuracy: tensor(0.7238)\n",
      "Testing Accuracy: tensor(0.4839)\n"
     ]
    },
    {
     "name": "stderr",
     "output_type": "stream",
     "text": [
      "\n",
      "Epoch: 165 | Batch: 2 | Loss 0.6762380599975586: 499it [3:10:30, 21.98s/it]\u001b[A\n",
      "Epoch: 166 | Batch: 0 | Loss 0.6130905747413635: 499it [3:10:30, 21.98s/it]\u001b[A\n",
      "Epoch: 166 | Batch: 0 | Loss 0.6130905747413635: 500it [3:10:57, 23.35s/it]\u001b[A\n",
      "Epoch: 166 | Batch: 1 | Loss 0.5089564919471741: 500it [3:10:57, 23.35s/it]\u001b[A\n",
      "Epoch: 166 | Batch: 1 | Loss 0.5089564919471741: 501it [3:11:09, 20.06s/it]\u001b[A\n",
      "Epoch: 166 | Batch: 2 | Loss 0.6741039156913757: 501it [3:11:09, 20.06s/it]\u001b[A"
     ]
    },
    {
     "name": "stdout",
     "output_type": "stream",
     "text": [
      "Epoch 166 Training Accuracy: tensor(0.7365)\n",
      "Testing Accuracy: tensor(0.4839)\n"
     ]
    },
    {
     "name": "stderr",
     "output_type": "stream",
     "text": [
      "\n",
      "Epoch: 166 | Batch: 2 | Loss 0.6741039156913757: 502it [3:11:36, 22.21s/it]\u001b[A\n",
      "Epoch: 167 | Batch: 0 | Loss 0.5662460327148438: 502it [3:11:36, 22.21s/it]\u001b[A\n",
      "Epoch: 167 | Batch: 0 | Loss 0.5662460327148438: 503it [3:12:03, 23.57s/it]\u001b[A\n",
      "Epoch: 167 | Batch: 1 | Loss 0.6459900736808777: 503it [3:12:03, 23.57s/it]\u001b[A\n",
      "Epoch: 167 | Batch: 1 | Loss 0.6459900736808777: 504it [3:12:16, 20.30s/it]\u001b[A\n",
      "Epoch: 167 | Batch: 2 | Loss 0.4809153378009796: 504it [3:12:16, 20.30s/it]\u001b[A"
     ]
    },
    {
     "name": "stdout",
     "output_type": "stream",
     "text": [
      "Epoch 167 Training Accuracy: tensor(0.7873)\n",
      "Testing Accuracy: tensor(0.4839)\n"
     ]
    },
    {
     "name": "stderr",
     "output_type": "stream",
     "text": [
      "\n",
      "Epoch: 167 | Batch: 2 | Loss 0.4809153378009796: 505it [3:12:42, 22.26s/it]\u001b[A\n",
      "Epoch: 168 | Batch: 0 | Loss 0.6185656785964966: 505it [3:12:42, 22.26s/it]\u001b[A\n",
      "Epoch: 168 | Batch: 0 | Loss 0.6185656785964966: 506it [3:13:08, 23.34s/it]\u001b[A\n",
      "Epoch: 168 | Batch: 1 | Loss 0.5766351819038391: 506it [3:13:08, 23.34s/it]\u001b[A\n",
      "Epoch: 168 | Batch: 1 | Loss 0.5766351819038391: 507it [3:13:21, 20.07s/it]\u001b[A\n",
      "Epoch: 168 | Batch: 2 | Loss 0.5173183083534241: 507it [3:13:21, 20.07s/it]\u001b[A"
     ]
    },
    {
     "name": "stdout",
     "output_type": "stream",
     "text": [
      "Epoch 168 Training Accuracy: tensor(0.7619)\n",
      "Testing Accuracy: tensor(0.4839)\n"
     ]
    },
    {
     "name": "stderr",
     "output_type": "stream",
     "text": [
      "\n",
      "Epoch: 168 | Batch: 2 | Loss 0.5173183083534241: 508it [3:13:47, 21.96s/it]\u001b[A\n",
      "Epoch: 169 | Batch: 0 | Loss 0.5817539691925049: 508it [3:13:47, 21.96s/it]\u001b[A\n",
      "Epoch: 169 | Batch: 0 | Loss 0.5817539691925049: 509it [3:14:13, 23.22s/it]\u001b[A\n",
      "Epoch: 169 | Batch: 1 | Loss 0.5966513752937317: 509it [3:14:13, 23.22s/it]\u001b[A\n",
      "Epoch: 169 | Batch: 1 | Loss 0.5966513752937317: 510it [3:14:26, 19.95s/it]\u001b[A\n",
      "Epoch: 169 | Batch: 2 | Loss 0.5527055859565735: 510it [3:14:26, 19.95s/it]\u001b[A"
     ]
    },
    {
     "name": "stdout",
     "output_type": "stream",
     "text": [
      "Epoch 169 Training Accuracy: tensor(0.7746)\n",
      "Testing Accuracy: tensor(0.4839)\n"
     ]
    },
    {
     "name": "stderr",
     "output_type": "stream",
     "text": [
      "\n",
      "Epoch: 169 | Batch: 2 | Loss 0.5527055859565735: 511it [3:14:51, 21.69s/it]\u001b[A\n",
      "Epoch: 170 | Batch: 0 | Loss 0.5407665371894836: 511it [3:14:51, 21.69s/it]\u001b[A\n",
      "Epoch: 170 | Batch: 0 | Loss 0.5407665371894836: 512it [3:15:19, 23.32s/it]\u001b[A\n",
      "Epoch: 170 | Batch: 1 | Loss 0.6251736879348755: 512it [3:15:19, 23.32s/it]\u001b[A\n",
      "Epoch: 170 | Batch: 1 | Loss 0.6251736879348755: 513it [3:15:30, 19.89s/it]\u001b[A\n",
      "Epoch: 170 | Batch: 2 | Loss 0.579657256603241: 513it [3:15:30, 19.89s/it] \u001b[A"
     ]
    },
    {
     "name": "stdout",
     "output_type": "stream",
     "text": [
      "Epoch 170 Training Accuracy: tensor(0.7492)\n",
      "Testing Accuracy: tensor(0.4839)\n"
     ]
    },
    {
     "name": "stderr",
     "output_type": "stream",
     "text": [
      "\n",
      "Epoch: 170 | Batch: 2 | Loss 0.579657256603241: 514it [3:15:57, 21.84s/it]\u001b[A\n",
      "Epoch: 171 | Batch: 0 | Loss 0.5909222364425659: 514it [3:15:57, 21.84s/it]\u001b[A\n",
      "Epoch: 171 | Batch: 0 | Loss 0.5909222364425659: 515it [3:16:23, 23.06s/it]\u001b[A\n",
      "Epoch: 171 | Batch: 1 | Loss 0.5920870900154114: 515it [3:16:23, 23.06s/it]\u001b[A\n",
      "Epoch: 171 | Batch: 1 | Loss 0.5920870900154114: 516it [3:16:35, 19.94s/it]\u001b[A\n",
      "Epoch: 171 | Batch: 2 | Loss 0.5442025661468506: 516it [3:16:35, 19.94s/it]\u001b[A"
     ]
    },
    {
     "name": "stdout",
     "output_type": "stream",
     "text": [
      "Epoch 171 Training Accuracy: tensor(0.7635)\n",
      "Testing Accuracy: tensor(0.4839)\n"
     ]
    },
    {
     "name": "stderr",
     "output_type": "stream",
     "text": [
      "\n",
      "Epoch: 171 | Batch: 2 | Loss 0.5442025661468506: 517it [3:17:03, 22.16s/it]\u001b[A\n",
      "Epoch: 172 | Batch: 0 | Loss 0.5821008682250977: 517it [3:17:03, 22.16s/it]\u001b[A\n",
      "Epoch: 172 | Batch: 0 | Loss 0.5821008682250977: 518it [3:17:29, 23.43s/it]\u001b[A\n",
      "Epoch: 172 | Batch: 1 | Loss 0.5582424998283386: 518it [3:17:29, 23.43s/it]\u001b[A\n",
      "Epoch: 172 | Batch: 1 | Loss 0.5582424998283386: 519it [3:17:42, 20.25s/it]\u001b[A\n",
      "Epoch: 172 | Batch: 2 | Loss 0.6335501074790955: 519it [3:17:42, 20.25s/it]\u001b[A"
     ]
    },
    {
     "name": "stdout",
     "output_type": "stream",
     "text": [
      "Epoch 172 Training Accuracy: tensor(0.7508)\n",
      "Testing Accuracy: tensor(0.4839)\n"
     ]
    },
    {
     "name": "stderr",
     "output_type": "stream",
     "text": [
      "\n",
      "Epoch: 172 | Batch: 2 | Loss 0.6335501074790955: 520it [3:18:09, 22.35s/it]\u001b[A\n",
      "Epoch: 173 | Batch: 0 | Loss 0.5318658351898193: 520it [3:18:09, 22.35s/it]\u001b[A\n",
      "Epoch: 173 | Batch: 0 | Loss 0.5318658351898193: 521it [3:18:36, 23.75s/it]\u001b[A\n",
      "Epoch: 173 | Batch: 1 | Loss 0.627546489238739: 521it [3:18:36, 23.75s/it] \u001b[A\n",
      "Epoch: 173 | Batch: 1 | Loss 0.627546489238739: 522it [3:18:49, 20.57s/it]\u001b[A\n",
      "Epoch: 173 | Batch: 2 | Loss 0.59776771068573: 522it [3:18:49, 20.57s/it] \u001b[A"
     ]
    },
    {
     "name": "stdout",
     "output_type": "stream",
     "text": [
      "Epoch 173 Training Accuracy: tensor(0.7619)\n",
      "Testing Accuracy: tensor(0.5161)\n"
     ]
    },
    {
     "name": "stderr",
     "output_type": "stream",
     "text": [
      "\n",
      "Epoch: 173 | Batch: 2 | Loss 0.59776771068573: 523it [3:19:18, 22.88s/it]\u001b[A\n",
      "Epoch: 174 | Batch: 0 | Loss 0.6309219002723694: 523it [3:19:18, 22.88s/it]\u001b[A\n",
      "Epoch: 174 | Batch: 0 | Loss 0.6309219002723694: 524it [3:19:45, 24.12s/it]\u001b[A\n",
      "Epoch: 174 | Batch: 1 | Loss 0.4772396981716156: 524it [3:19:45, 24.12s/it]\u001b[A\n",
      "Epoch: 174 | Batch: 1 | Loss 0.4772396981716156: 525it [3:19:57, 20.51s/it]\u001b[A\n",
      "Epoch: 174 | Batch: 2 | Loss 0.7017810940742493: 525it [3:19:57, 20.51s/it]\u001b[A"
     ]
    },
    {
     "name": "stdout",
     "output_type": "stream",
     "text": [
      "Epoch 174 Training Accuracy: tensor(0.7238)\n",
      "Testing Accuracy: tensor(0.5484)\n"
     ]
    },
    {
     "name": "stderr",
     "output_type": "stream",
     "text": [
      "\n",
      "Epoch: 174 | Batch: 2 | Loss 0.7017810940742493: 526it [3:20:23, 22.39s/it]\u001b[A\n",
      "Epoch: 175 | Batch: 0 | Loss 0.6334112882614136: 526it [3:20:23, 22.39s/it]\u001b[A\n",
      "Epoch: 175 | Batch: 0 | Loss 0.6334112882614136: 527it [3:20:50, 23.59s/it]\u001b[A\n",
      "Epoch: 175 | Batch: 1 | Loss 0.49850934743881226: 527it [3:20:50, 23.59s/it]\u001b[A\n",
      "Epoch: 175 | Batch: 1 | Loss 0.49850934743881226: 528it [3:21:02, 20.08s/it]\u001b[A\n",
      "Epoch: 175 | Batch: 2 | Loss 0.6509484052658081: 528it [3:21:02, 20.08s/it] \u001b[A"
     ]
    },
    {
     "name": "stdout",
     "output_type": "stream",
     "text": [
      "Epoch 175 Training Accuracy: tensor(0.7365)\n",
      "Testing Accuracy: tensor(0.5484)\n"
     ]
    },
    {
     "name": "stderr",
     "output_type": "stream",
     "text": [
      "\n",
      "Epoch: 175 | Batch: 2 | Loss 0.6509484052658081: 529it [3:21:29, 22.34s/it]\u001b[A\n",
      "Epoch: 176 | Batch: 0 | Loss 0.6003716588020325: 529it [3:21:29, 22.34s/it]\u001b[A\n",
      "Epoch: 176 | Batch: 0 | Loss 0.6003716588020325: 530it [3:21:56, 23.68s/it]\u001b[A\n",
      "Epoch: 176 | Batch: 1 | Loss 0.5539910793304443: 530it [3:21:56, 23.68s/it]\u001b[A\n",
      "Epoch: 176 | Batch: 1 | Loss 0.5539910793304443: 531it [3:22:08, 20.24s/it]\u001b[A\n",
      "Epoch: 176 | Batch: 2 | Loss 0.6028141379356384: 531it [3:22:08, 20.24s/it]\u001b[A"
     ]
    },
    {
     "name": "stdout",
     "output_type": "stream",
     "text": [
      "Epoch 176 Training Accuracy: tensor(0.7619)\n",
      "Testing Accuracy: tensor(0.5161)\n"
     ]
    },
    {
     "name": "stderr",
     "output_type": "stream",
     "text": [
      "\n",
      "Epoch: 176 | Batch: 2 | Loss 0.6028141379356384: 532it [3:22:35, 22.29s/it]\u001b[A\n",
      "Epoch: 177 | Batch: 0 | Loss 0.5623343586921692: 532it [3:22:35, 22.29s/it]\u001b[A\n",
      "Epoch: 177 | Batch: 0 | Loss 0.5623343586921692: 533it [3:23:02, 23.63s/it]\u001b[A\n",
      "Epoch: 177 | Batch: 1 | Loss 0.6494258642196655: 533it [3:23:02, 23.63s/it]\u001b[A\n",
      "Epoch: 177 | Batch: 1 | Loss 0.6494258642196655: 534it [3:23:14, 20.13s/it]\u001b[A\n",
      "Epoch: 177 | Batch: 2 | Loss 0.4799734652042389: 534it [3:23:14, 20.13s/it]\u001b[A"
     ]
    },
    {
     "name": "stdout",
     "output_type": "stream",
     "text": [
      "Epoch 177 Training Accuracy: tensor(0.7746)\n",
      "Testing Accuracy: tensor(0.5484)\n"
     ]
    },
    {
     "name": "stderr",
     "output_type": "stream",
     "text": [
      "\n",
      "Epoch: 177 | Batch: 2 | Loss 0.4799734652042389: 535it [3:23:40, 21.96s/it]\u001b[A\n",
      "Epoch: 178 | Batch: 0 | Loss 0.5530121326446533: 535it [3:23:40, 21.96s/it]\u001b[A\n",
      "Epoch: 178 | Batch: 0 | Loss 0.5530121326446533: 536it [3:24:06, 23.18s/it]\u001b[A\n",
      "Epoch: 178 | Batch: 1 | Loss 0.5701334476470947: 536it [3:24:06, 23.18s/it]\u001b[A\n",
      "Epoch: 178 | Batch: 1 | Loss 0.5701334476470947: 537it [3:24:19, 19.94s/it]\u001b[A\n",
      "Epoch: 178 | Batch: 2 | Loss 0.6688591241836548: 537it [3:24:19, 19.94s/it]\u001b[A"
     ]
    },
    {
     "name": "stdout",
     "output_type": "stream",
     "text": [
      "Epoch 178 Training Accuracy: tensor(0.7492)\n",
      "Testing Accuracy: tensor(0.5484)\n"
     ]
    },
    {
     "name": "stderr",
     "output_type": "stream",
     "text": [
      "\n",
      "Epoch: 178 | Batch: 2 | Loss 0.6688591241836548: 538it [3:24:45, 21.88s/it]\u001b[A\n",
      "Epoch: 179 | Batch: 0 | Loss 0.5231491327285767: 538it [3:24:45, 21.88s/it]\u001b[A\n",
      "Epoch: 179 | Batch: 0 | Loss 0.5231491327285767: 539it [3:25:12, 23.37s/it]\u001b[A\n",
      "Epoch: 179 | Batch: 1 | Loss 0.6478456258773804: 539it [3:25:12, 23.37s/it]\u001b[A\n",
      "Epoch: 179 | Batch: 1 | Loss 0.6478456258773804: 540it [3:25:24, 20.00s/it]\u001b[A\n",
      "Epoch: 179 | Batch: 2 | Loss 0.567664384841919: 540it [3:25:24, 20.00s/it] \u001b[A"
     ]
    },
    {
     "name": "stdout",
     "output_type": "stream",
     "text": [
      "Epoch 179 Training Accuracy: tensor(0.7492)\n",
      "Testing Accuracy: tensor(0.5484)\n"
     ]
    },
    {
     "name": "stderr",
     "output_type": "stream",
     "text": [
      "\n",
      "Epoch: 179 | Batch: 2 | Loss 0.567664384841919: 541it [3:25:51, 21.91s/it]\u001b[A\n",
      "Epoch: 180 | Batch: 0 | Loss 0.5434299111366272: 541it [3:25:51, 21.91s/it]\u001b[A\n",
      "Epoch: 180 | Batch: 0 | Loss 0.5434299111366272: 542it [3:26:17, 23.36s/it]\u001b[A\n",
      "Epoch: 180 | Batch: 1 | Loss 0.653322160243988: 542it [3:26:17, 23.36s/it] \u001b[A\n",
      "Epoch: 180 | Batch: 1 | Loss 0.653322160243988: 543it [3:26:29, 19.96s/it]\u001b[A\n",
      "Epoch: 180 | Batch: 2 | Loss 0.5103853344917297: 543it [3:26:29, 19.96s/it]\u001b[A"
     ]
    },
    {
     "name": "stdout",
     "output_type": "stream",
     "text": [
      "Epoch 180 Training Accuracy: tensor(0.7746)\n",
      "Testing Accuracy: tensor(0.5484)\n"
     ]
    },
    {
     "name": "stderr",
     "output_type": "stream",
     "text": [
      "\n",
      "Epoch: 180 | Batch: 2 | Loss 0.5103853344917297: 544it [3:26:56, 22.02s/it]\u001b[A\n",
      "Epoch: 181 | Batch: 0 | Loss 0.6224099397659302: 544it [3:26:56, 22.02s/it]\u001b[A\n",
      "Epoch: 181 | Batch: 0 | Loss 0.6224099397659302: 545it [3:27:21, 22.97s/it]\u001b[A\n",
      "Epoch: 181 | Batch: 1 | Loss 0.5954027771949768: 545it [3:27:21, 22.97s/it]\u001b[A\n",
      "Epoch: 181 | Batch: 1 | Loss 0.5954027771949768: 546it [3:27:34, 19.92s/it]\u001b[A\n",
      "Epoch: 181 | Batch: 2 | Loss 0.46578431129455566: 546it [3:27:34, 19.92s/it]\u001b[A"
     ]
    },
    {
     "name": "stdout",
     "output_type": "stream",
     "text": [
      "Epoch 181 Training Accuracy: tensor(0.7873)\n",
      "Testing Accuracy: tensor(0.5161)\n"
     ]
    },
    {
     "name": "stderr",
     "output_type": "stream",
     "text": [
      "\n",
      "Epoch: 181 | Batch: 2 | Loss 0.46578431129455566: 547it [3:28:01, 21.94s/it]\u001b[A\n",
      "Epoch: 182 | Batch: 0 | Loss 0.5870484709739685: 547it [3:28:01, 21.94s/it] \u001b[A\n",
      "Epoch: 182 | Batch: 0 | Loss 0.5870484709739685: 548it [3:28:27, 23.35s/it]\u001b[A\n",
      "Epoch: 182 | Batch: 1 | Loss 0.5772421360015869: 548it [3:28:27, 23.35s/it]\u001b[A\n",
      "Epoch: 182 | Batch: 1 | Loss 0.5772421360015869: 549it [3:28:39, 19.91s/it]\u001b[A\n",
      "Epoch: 182 | Batch: 2 | Loss 0.5791383981704712: 549it [3:28:39, 19.91s/it]\u001b[A"
     ]
    },
    {
     "name": "stdout",
     "output_type": "stream",
     "text": [
      "Epoch 182 Training Accuracy: tensor(0.7746)\n",
      "Testing Accuracy: tensor(0.5484)\n"
     ]
    },
    {
     "name": "stderr",
     "output_type": "stream",
     "text": [
      "\n",
      "Epoch: 182 | Batch: 2 | Loss 0.5791383981704712: 550it [3:29:07, 22.22s/it]\u001b[A\n",
      "Epoch: 183 | Batch: 0 | Loss 0.6035398244857788: 550it [3:29:07, 22.22s/it]\u001b[A\n",
      "Epoch: 183 | Batch: 0 | Loss 0.6035398244857788: 551it [3:29:34, 23.62s/it]\u001b[A\n",
      "Epoch: 183 | Batch: 1 | Loss 0.5429900288581848: 551it [3:29:34, 23.62s/it]\u001b[A\n",
      "Epoch: 183 | Batch: 1 | Loss 0.5429900288581848: 552it [3:29:46, 20.28s/it]\u001b[A\n",
      "Epoch: 183 | Batch: 2 | Loss 0.6172042489051819: 552it [3:29:46, 20.28s/it]\u001b[A"
     ]
    },
    {
     "name": "stdout",
     "output_type": "stream",
     "text": [
      "Epoch 183 Training Accuracy: tensor(0.7492)\n",
      "Testing Accuracy: tensor(0.5484)\n"
     ]
    },
    {
     "name": "stderr",
     "output_type": "stream",
     "text": [
      "\n",
      "Epoch: 183 | Batch: 2 | Loss 0.6172042489051819: 553it [3:30:14, 22.39s/it]\u001b[A\n",
      "Epoch: 184 | Batch: 0 | Loss 0.5441564917564392: 553it [3:30:14, 22.39s/it]\u001b[A\n",
      "Epoch: 184 | Batch: 0 | Loss 0.5441564917564392: 554it [3:30:40, 23.50s/it]\u001b[A\n",
      "Epoch: 184 | Batch: 1 | Loss 0.5624440312385559: 554it [3:30:40, 23.50s/it]\u001b[A\n",
      "Epoch: 184 | Batch: 1 | Loss 0.5624440312385559: 555it [3:30:53, 20.32s/it]\u001b[A\n",
      "Epoch: 184 | Batch: 2 | Loss 0.7036717534065247: 555it [3:30:53, 20.32s/it]\u001b[A"
     ]
    },
    {
     "name": "stdout",
     "output_type": "stream",
     "text": [
      "Epoch 184 Training Accuracy: tensor(0.7365)\n",
      "Testing Accuracy: tensor(0.5161)\n"
     ]
    },
    {
     "name": "stderr",
     "output_type": "stream",
     "text": [
      "\n",
      "Epoch: 184 | Batch: 2 | Loss 0.7036717534065247: 556it [3:31:19, 22.03s/it]\u001b[A\n",
      "Epoch: 185 | Batch: 0 | Loss 0.5039422512054443: 556it [3:31:19, 22.03s/it]\u001b[A\n",
      "Epoch: 185 | Batch: 0 | Loss 0.5039422512054443: 557it [3:31:45, 23.32s/it]\u001b[A\n",
      "Epoch: 185 | Batch: 1 | Loss 0.6387971639633179: 557it [3:31:45, 23.32s/it]\u001b[A\n",
      "Epoch: 185 | Batch: 1 | Loss 0.6387971639633179: 558it [3:31:58, 20.19s/it]\u001b[A\n",
      "Epoch: 185 | Batch: 2 | Loss 0.6249933838844299: 558it [3:31:58, 20.19s/it]\u001b[A"
     ]
    },
    {
     "name": "stdout",
     "output_type": "stream",
     "text": [
      "Epoch 185 Training Accuracy: tensor(0.7492)\n",
      "Testing Accuracy: tensor(0.5484)\n"
     ]
    },
    {
     "name": "stderr",
     "output_type": "stream",
     "text": [
      "\n",
      "Epoch: 185 | Batch: 2 | Loss 0.6249933838844299: 559it [3:32:24, 22.02s/it]\u001b[A\n",
      "Epoch: 186 | Batch: 0 | Loss 0.6008491516113281: 559it [3:32:24, 22.02s/it]\u001b[A\n",
      "Epoch: 186 | Batch: 0 | Loss 0.6008491516113281: 560it [3:32:51, 23.32s/it]\u001b[A\n",
      "Epoch: 186 | Batch: 1 | Loss 0.5629705190658569: 560it [3:32:51, 23.32s/it]\u001b[A\n",
      "Epoch: 186 | Batch: 1 | Loss 0.5629705190658569: 561it [3:33:03, 20.06s/it]\u001b[A\n",
      "Epoch: 186 | Batch: 2 | Loss 0.5793072581291199: 561it [3:33:03, 20.06s/it]\u001b[A"
     ]
    },
    {
     "name": "stdout",
     "output_type": "stream",
     "text": [
      "Epoch 186 Training Accuracy: tensor(0.7492)\n",
      "Testing Accuracy: tensor(0.5161)\n"
     ]
    },
    {
     "name": "stderr",
     "output_type": "stream",
     "text": [
      "\n",
      "Epoch: 186 | Batch: 2 | Loss 0.5793072581291199: 562it [3:33:30, 22.04s/it]\u001b[A\n",
      "Epoch: 187 | Batch: 0 | Loss 0.6674988865852356: 562it [3:33:30, 22.04s/it]\u001b[A\n",
      "Epoch: 187 | Batch: 0 | Loss 0.6674988865852356: 563it [3:33:57, 23.56s/it]\u001b[A\n",
      "Epoch: 187 | Batch: 1 | Loss 0.514781653881073: 563it [3:33:57, 23.56s/it] \u001b[A\n",
      "Epoch: 187 | Batch: 1 | Loss 0.514781653881073: 564it [3:34:10, 20.36s/it]\u001b[A\n",
      "Epoch: 187 | Batch: 2 | Loss 0.5443900227546692: 564it [3:34:10, 20.36s/it]\u001b[A"
     ]
    },
    {
     "name": "stdout",
     "output_type": "stream",
     "text": [
      "Epoch 187 Training Accuracy: tensor(0.7619)\n",
      "Testing Accuracy: tensor(0.4839)\n"
     ]
    },
    {
     "name": "stderr",
     "output_type": "stream",
     "text": [
      "\n",
      "Epoch: 187 | Batch: 2 | Loss 0.5443900227546692: 565it [3:34:36, 22.14s/it]\u001b[A\n",
      "Epoch: 188 | Batch: 0 | Loss 0.5965662598609924: 565it [3:34:36, 22.14s/it]\u001b[A\n",
      "Epoch: 188 | Batch: 0 | Loss 0.5965662598609924: 566it [3:35:02, 23.23s/it]\u001b[A\n",
      "Epoch: 188 | Batch: 1 | Loss 0.5720903277397156: 566it [3:35:02, 23.23s/it]\u001b[A\n",
      "Epoch: 188 | Batch: 1 | Loss 0.5720903277397156: 567it [3:35:14, 19.93s/it]\u001b[A\n",
      "Epoch: 188 | Batch: 2 | Loss 0.5679895877838135: 567it [3:35:14, 19.93s/it]\u001b[A"
     ]
    },
    {
     "name": "stdout",
     "output_type": "stream",
     "text": [
      "Epoch 188 Training Accuracy: tensor(0.7619)\n",
      "Testing Accuracy: tensor(0.5161)\n"
     ]
    },
    {
     "name": "stderr",
     "output_type": "stream",
     "text": [
      "\n",
      "Epoch: 188 | Batch: 2 | Loss 0.5679895877838135: 568it [3:35:40, 21.68s/it]\u001b[A\n",
      "Epoch: 189 | Batch: 0 | Loss 0.5999696254730225: 568it [3:35:40, 21.68s/it]\u001b[A\n",
      "Epoch: 189 | Batch: 0 | Loss 0.5999696254730225: 569it [3:36:06, 23.07s/it]\u001b[A\n",
      "Epoch: 189 | Batch: 1 | Loss 0.5254096388816833: 569it [3:36:06, 23.07s/it]\u001b[A\n",
      "Epoch: 189 | Batch: 1 | Loss 0.5254096388816833: 570it [3:36:18, 19.73s/it]\u001b[A\n",
      "Epoch: 189 | Batch: 2 | Loss 0.6605758666992188: 570it [3:36:18, 19.73s/it]\u001b[A"
     ]
    },
    {
     "name": "stdout",
     "output_type": "stream",
     "text": [
      "Epoch 189 Training Accuracy: tensor(0.7238)\n",
      "Testing Accuracy: tensor(0.5161)\n"
     ]
    },
    {
     "name": "stderr",
     "output_type": "stream",
     "text": [
      "\n",
      "Epoch: 189 | Batch: 2 | Loss 0.6605758666992188: 571it [3:36:45, 21.95s/it]\u001b[A\n",
      "Epoch: 190 | Batch: 0 | Loss 0.6437186598777771: 571it [3:36:45, 21.95s/it]\u001b[A\n",
      "Epoch: 190 | Batch: 0 | Loss 0.6437186598777771: 572it [3:37:11, 23.25s/it]\u001b[A\n",
      "Epoch: 190 | Batch: 1 | Loss 0.5509961843490601: 572it [3:37:11, 23.25s/it]\u001b[A\n",
      "Epoch: 190 | Batch: 1 | Loss 0.5509961843490601: 573it [3:37:24, 20.06s/it]\u001b[A\n",
      "Epoch: 190 | Batch: 2 | Loss 0.5176528692245483: 573it [3:37:24, 20.06s/it]\u001b[A"
     ]
    },
    {
     "name": "stdout",
     "output_type": "stream",
     "text": [
      "Epoch 190 Training Accuracy: tensor(0.7873)\n",
      "Testing Accuracy: tensor(0.5161)\n"
     ]
    },
    {
     "name": "stderr",
     "output_type": "stream",
     "text": [
      "\n",
      "Epoch: 190 | Batch: 2 | Loss 0.5176528692245483: 574it [3:37:51, 22.10s/it]\u001b[A\n",
      "Epoch: 191 | Batch: 0 | Loss 0.5688514113426208: 574it [3:37:51, 22.10s/it]\u001b[A\n",
      "Epoch: 191 | Batch: 0 | Loss 0.5688514113426208: 575it [3:38:17, 23.46s/it]\u001b[A\n",
      "Epoch: 191 | Batch: 1 | Loss 0.6097047924995422: 575it [3:38:17, 23.46s/it]\u001b[A\n",
      "Epoch: 191 | Batch: 1 | Loss 0.6097047924995422: 576it [3:38:29, 19.98s/it]\u001b[A\n",
      "Epoch: 191 | Batch: 2 | Loss 0.543517529964447: 576it [3:38:29, 19.98s/it] \u001b[A"
     ]
    },
    {
     "name": "stdout",
     "output_type": "stream",
     "text": [
      "Epoch 191 Training Accuracy: tensor(0.7619)\n",
      "Testing Accuracy: tensor(0.5161)\n"
     ]
    },
    {
     "name": "stderr",
     "output_type": "stream",
     "text": [
      "\n",
      "Epoch: 191 | Batch: 2 | Loss 0.543517529964447: 577it [3:38:57, 22.16s/it]\u001b[A\n",
      "Epoch: 192 | Batch: 0 | Loss 0.607086718082428: 577it [3:38:57, 22.16s/it]\u001b[A\n",
      "Epoch: 192 | Batch: 0 | Loss 0.607086718082428: 578it [3:39:23, 23.31s/it]\u001b[A\n",
      "Epoch: 192 | Batch: 1 | Loss 0.5658725500106812: 578it [3:39:23, 23.31s/it]\u001b[A\n",
      "Epoch: 192 | Batch: 1 | Loss 0.5658725500106812: 579it [3:39:35, 20.11s/it]\u001b[A\n",
      "Epoch: 192 | Batch: 2 | Loss 0.5594534277915955: 579it [3:39:35, 20.11s/it]\u001b[A"
     ]
    },
    {
     "name": "stdout",
     "output_type": "stream",
     "text": [
      "Epoch 192 Training Accuracy: tensor(0.7619)\n",
      "Testing Accuracy: tensor(0.5161)\n"
     ]
    },
    {
     "name": "stderr",
     "output_type": "stream",
     "text": [
      "\n",
      "Epoch: 192 | Batch: 2 | Loss 0.5594534277915955: 580it [3:40:03, 22.30s/it]\u001b[A\n",
      "Epoch: 193 | Batch: 0 | Loss 0.5973882675170898: 580it [3:40:03, 22.30s/it]\u001b[A\n",
      "Epoch: 193 | Batch: 0 | Loss 0.5973882675170898: 581it [3:40:30, 23.85s/it]\u001b[A\n",
      "Epoch: 193 | Batch: 1 | Loss 0.5471181273460388: 581it [3:40:30, 23.85s/it]\u001b[A\n",
      "Epoch: 193 | Batch: 1 | Loss 0.5471181273460388: 582it [3:40:42, 20.39s/it]\u001b[A\n",
      "Epoch: 193 | Batch: 2 | Loss 0.6282147765159607: 582it [3:40:42, 20.39s/it]\u001b[A"
     ]
    },
    {
     "name": "stdout",
     "output_type": "stream",
     "text": [
      "Epoch 193 Training Accuracy: tensor(0.7365)\n",
      "Testing Accuracy: tensor(0.5484)\n"
     ]
    },
    {
     "name": "stderr",
     "output_type": "stream",
     "text": [
      "\n",
      "Epoch: 193 | Batch: 2 | Loss 0.6282147765159607: 583it [3:41:09, 22.13s/it]\u001b[A\n",
      "Epoch: 194 | Batch: 0 | Loss 0.5700294971466064: 583it [3:41:09, 22.13s/it]\u001b[A\n",
      "Epoch: 194 | Batch: 0 | Loss 0.5700294971466064: 584it [3:41:35, 23.52s/it]\u001b[A\n",
      "Epoch: 194 | Batch: 1 | Loss 0.621313214302063: 584it [3:41:35, 23.52s/it] \u001b[A\n",
      "Epoch: 194 | Batch: 1 | Loss 0.621313214302063: 585it [3:41:48, 20.24s/it]\u001b[A\n",
      "Epoch: 194 | Batch: 2 | Loss 0.5242353081703186: 585it [3:41:48, 20.24s/it]\u001b[A"
     ]
    },
    {
     "name": "stdout",
     "output_type": "stream",
     "text": [
      "Epoch 194 Training Accuracy: tensor(0.7746)\n",
      "Testing Accuracy: tensor(0.5161)\n"
     ]
    },
    {
     "name": "stderr",
     "output_type": "stream",
     "text": [
      "\n",
      "Epoch: 194 | Batch: 2 | Loss 0.5242353081703186: 586it [3:42:15, 22.37s/it]\u001b[A\n",
      "Epoch: 195 | Batch: 0 | Loss 0.6688809990882874: 586it [3:42:15, 22.37s/it]\u001b[A\n",
      "Epoch: 195 | Batch: 0 | Loss 0.6688809990882874: 587it [3:42:41, 23.45s/it]\u001b[A\n",
      "Epoch: 195 | Batch: 1 | Loss 0.5466135144233704: 587it [3:42:41, 23.45s/it]\u001b[A\n",
      "Epoch: 195 | Batch: 1 | Loss 0.5466135144233704: 588it [3:42:53, 20.09s/it]\u001b[A\n",
      "Epoch: 195 | Batch: 2 | Loss 0.46965447068214417: 588it [3:42:53, 20.09s/it]\u001b[A"
     ]
    },
    {
     "name": "stdout",
     "output_type": "stream",
     "text": [
      "Epoch 195 Training Accuracy: tensor(0.7746)\n",
      "Testing Accuracy: tensor(0.5161)\n"
     ]
    },
    {
     "name": "stderr",
     "output_type": "stream",
     "text": [
      "\n",
      "Epoch: 195 | Batch: 2 | Loss 0.46965447068214417: 589it [3:43:22, 22.49s/it]\u001b[A\n",
      "Epoch: 196 | Batch: 0 | Loss 0.5832317471504211: 589it [3:43:22, 22.49s/it] \u001b[A\n",
      "Epoch: 196 | Batch: 0 | Loss 0.5832317471504211: 590it [3:43:48, 23.72s/it]\u001b[A\n",
      "Epoch: 196 | Batch: 1 | Loss 0.5476883053779602: 590it [3:43:48, 23.72s/it]\u001b[A\n",
      "Epoch: 196 | Batch: 1 | Loss 0.5476883053779602: 591it [3:44:00, 20.29s/it]\u001b[A\n",
      "Epoch: 196 | Batch: 2 | Loss 0.6481519341468811: 591it [3:44:00, 20.29s/it]\u001b[A"
     ]
    },
    {
     "name": "stdout",
     "output_type": "stream",
     "text": [
      "Epoch 196 Training Accuracy: tensor(0.7365)\n",
      "Testing Accuracy: tensor(0.5484)\n"
     ]
    },
    {
     "name": "stderr",
     "output_type": "stream",
     "text": [
      "\n",
      "Epoch: 196 | Batch: 2 | Loss 0.6481519341468811: 592it [3:44:26, 22.01s/it]\u001b[A\n",
      "Epoch: 197 | Batch: 0 | Loss 0.5526462197303772: 592it [3:44:26, 22.01s/it]\u001b[A\n",
      "Epoch: 197 | Batch: 0 | Loss 0.5526462197303772: 593it [3:44:53, 23.48s/it]\u001b[A\n",
      "Epoch: 197 | Batch: 1 | Loss 0.6107215881347656: 593it [3:44:53, 23.48s/it]\u001b[A\n",
      "Epoch: 197 | Batch: 1 | Loss 0.6107215881347656: 594it [3:45:06, 20.20s/it]\u001b[A\n",
      "Epoch: 197 | Batch: 2 | Loss 0.5781840682029724: 594it [3:45:06, 20.20s/it]\u001b[A"
     ]
    },
    {
     "name": "stdout",
     "output_type": "stream",
     "text": [
      "Epoch 197 Training Accuracy: tensor(0.7619)\n",
      "Testing Accuracy: tensor(0.4839)\n"
     ]
    },
    {
     "name": "stderr",
     "output_type": "stream",
     "text": [
      "\n",
      "Epoch: 197 | Batch: 2 | Loss 0.5781840682029724: 595it [3:45:32, 22.02s/it]\u001b[A\n",
      "Epoch: 198 | Batch: 0 | Loss 0.6179607510566711: 595it [3:45:32, 22.02s/it]\u001b[A\n",
      "Epoch: 198 | Batch: 0 | Loss 0.6179607510566711: 596it [3:45:59, 23.31s/it]\u001b[A\n",
      "Epoch: 198 | Batch: 1 | Loss 0.5899711847305298: 596it [3:45:59, 23.31s/it]\u001b[A\n",
      "Epoch: 198 | Batch: 1 | Loss 0.5899711847305298: 597it [3:46:11, 20.09s/it]\u001b[A\n",
      "Epoch: 198 | Batch: 2 | Loss 0.4857589304447174: 597it [3:46:11, 20.09s/it]\u001b[A"
     ]
    },
    {
     "name": "stdout",
     "output_type": "stream",
     "text": [
      "Epoch 198 Training Accuracy: tensor(0.7857)\n",
      "Testing Accuracy: tensor(0.4839)\n"
     ]
    },
    {
     "name": "stderr",
     "output_type": "stream",
     "text": [
      "\n",
      "Epoch: 198 | Batch: 2 | Loss 0.4857589304447174: 598it [3:46:37, 21.96s/it]\u001b[A\n",
      "Epoch: 199 | Batch: 0 | Loss 0.5734153985977173: 598it [3:46:37, 21.96s/it]\u001b[A\n",
      "Epoch: 199 | Batch: 0 | Loss 0.5734153985977173: 599it [3:47:04, 23.49s/it]\u001b[A\n",
      "Epoch: 199 | Batch: 1 | Loss 0.5545053482055664: 599it [3:47:04, 23.49s/it]\u001b[A\n",
      "Epoch: 199 | Batch: 1 | Loss 0.5545053482055664: 600it [3:47:16, 20.04s/it]\u001b[A\n",
      "Epoch: 199 | Batch: 2 | Loss 0.655547022819519: 600it [3:47:16, 20.04s/it] \u001b[A"
     ]
    },
    {
     "name": "stdout",
     "output_type": "stream",
     "text": [
      "Epoch 199 Training Accuracy: tensor(0.7603)\n",
      "Testing Accuracy: tensor(0.4839)\n"
     ]
    },
    {
     "name": "stderr",
     "output_type": "stream",
     "text": [
      "\n",
      "Epoch: 199 | Batch: 2 | Loss 0.655547022819519: 601it [3:47:43, 21.93s/it]\u001b[A\n",
      "Epoch: 200 | Batch: 0 | Loss 0.5763708353042603: 601it [3:47:43, 21.93s/it]\u001b[A\n",
      "Epoch: 200 | Batch: 0 | Loss 0.5763708353042603: 602it [3:48:08, 23.06s/it]\u001b[A\n",
      "Epoch: 200 | Batch: 1 | Loss 0.6183576583862305: 602it [3:48:08, 23.06s/it]\u001b[A\n",
      "Epoch: 200 | Batch: 1 | Loss 0.6183576583862305: 603it [3:48:21, 20.00s/it]\u001b[A\n",
      "Epoch: 200 | Batch: 2 | Loss 0.5112432241439819: 603it [3:48:21, 20.00s/it]\u001b[A"
     ]
    },
    {
     "name": "stdout",
     "output_type": "stream",
     "text": [
      "Epoch 200 Training Accuracy: tensor(0.7619)\n",
      "Testing Accuracy: tensor(0.4839)\n"
     ]
    },
    {
     "name": "stderr",
     "output_type": "stream",
     "text": [
      "\n",
      "Epoch: 200 | Batch: 2 | Loss 0.5112432241439819: 604it [3:48:48, 21.90s/it]\u001b[A\n",
      "Epoch: 201 | Batch: 0 | Loss 0.5814599394798279: 604it [3:48:48, 21.90s/it]\u001b[A\n",
      "Epoch: 201 | Batch: 0 | Loss 0.5814599394798279: 605it [3:49:15, 23.45s/it]\u001b[A\n",
      "Epoch: 201 | Batch: 1 | Loss 0.5601568818092346: 605it [3:49:15, 23.45s/it]\u001b[A\n",
      "Epoch: 201 | Batch: 1 | Loss 0.5601568818092346: 606it [3:49:27, 20.12s/it]\u001b[A\n",
      "Epoch: 201 | Batch: 2 | Loss 0.6242856383323669: 606it [3:49:27, 20.12s/it]\u001b[A"
     ]
    },
    {
     "name": "stdout",
     "output_type": "stream",
     "text": [
      "Epoch 201 Training Accuracy: tensor(0.7492)\n",
      "Testing Accuracy: tensor(0.5161)\n"
     ]
    },
    {
     "name": "stderr",
     "output_type": "stream",
     "text": [
      "\n",
      "Epoch: 201 | Batch: 2 | Loss 0.6242856383323669: 607it [3:49:53, 21.90s/it]\u001b[A\n",
      "Epoch: 202 | Batch: 0 | Loss 0.604038655757904: 607it [3:49:53, 21.90s/it] \u001b[A\n",
      "Epoch: 202 | Batch: 0 | Loss 0.604038655757904: 608it [3:50:20, 23.39s/it]\u001b[A\n",
      "Epoch: 202 | Batch: 1 | Loss 0.5176588296890259: 608it [3:50:20, 23.39s/it]\u001b[A\n",
      "Epoch: 202 | Batch: 1 | Loss 0.5176588296890259: 609it [3:50:32, 20.08s/it]\u001b[A\n",
      "Epoch: 202 | Batch: 2 | Loss 0.6657900214195251: 609it [3:50:32, 20.08s/it]\u001b[A"
     ]
    },
    {
     "name": "stdout",
     "output_type": "stream",
     "text": [
      "Epoch 202 Training Accuracy: tensor(0.7603)\n",
      "Testing Accuracy: tensor(0.5484)\n"
     ]
    },
    {
     "name": "stderr",
     "output_type": "stream",
     "text": [
      "\n",
      "Epoch: 202 | Batch: 2 | Loss 0.6657900214195251: 610it [3:50:59, 21.94s/it]\u001b[A\n",
      "Epoch: 203 | Batch: 0 | Loss 0.5968741774559021: 610it [3:50:59, 21.94s/it]\u001b[A\n",
      "Epoch: 203 | Batch: 0 | Loss 0.5968741774559021: 611it [3:51:26, 23.44s/it]\u001b[A\n",
      "Epoch: 203 | Batch: 1 | Loss 0.5729785561561584: 611it [3:51:26, 23.44s/it]\u001b[A\n",
      "Epoch: 203 | Batch: 1 | Loss 0.5729785561561584: 612it [3:51:38, 19.98s/it]\u001b[A\n",
      "Epoch: 203 | Batch: 2 | Loss 0.5633951425552368: 612it [3:51:38, 19.98s/it]\u001b[A"
     ]
    },
    {
     "name": "stdout",
     "output_type": "stream",
     "text": [
      "Epoch 203 Training Accuracy: tensor(0.7746)\n",
      "Testing Accuracy: tensor(0.5484)\n"
     ]
    },
    {
     "name": "stderr",
     "output_type": "stream",
     "text": [
      "\n",
      "Epoch: 203 | Batch: 2 | Loss 0.5633951425552368: 613it [3:52:04, 21.92s/it]\u001b[A\n",
      "Epoch: 204 | Batch: 0 | Loss 0.6517239212989807: 613it [3:52:04, 21.92s/it]\u001b[A\n",
      "Epoch: 204 | Batch: 0 | Loss 0.6517239212989807: 614it [3:52:30, 23.07s/it]\u001b[A\n",
      "Epoch: 204 | Batch: 1 | Loss 0.5393332242965698: 614it [3:52:30, 23.07s/it]\u001b[A\n",
      "Epoch: 204 | Batch: 1 | Loss 0.5393332242965698: 615it [3:52:42, 19.96s/it]\u001b[A\n",
      "Epoch: 204 | Batch: 2 | Loss 0.5177513957023621: 615it [3:52:42, 19.96s/it]\u001b[A"
     ]
    },
    {
     "name": "stdout",
     "output_type": "stream",
     "text": [
      "Epoch 204 Training Accuracy: tensor(0.7746)\n",
      "Testing Accuracy: tensor(0.5484)\n"
     ]
    },
    {
     "name": "stderr",
     "output_type": "stream",
     "text": [
      "\n",
      "Epoch: 204 | Batch: 2 | Loss 0.5177513957023621: 616it [3:53:10, 22.14s/it]\u001b[A\n",
      "Epoch: 205 | Batch: 0 | Loss 0.611929714679718: 616it [3:53:10, 22.14s/it] \u001b[A\n",
      "Epoch: 205 | Batch: 0 | Loss 0.611929714679718: 617it [3:53:36, 23.35s/it]\u001b[A\n",
      "Epoch: 205 | Batch: 1 | Loss 0.5899401307106018: 617it [3:53:36, 23.35s/it]\u001b[A\n",
      "Epoch: 205 | Batch: 1 | Loss 0.5899401307106018: 618it [3:53:49, 20.21s/it]\u001b[A\n",
      "Epoch: 205 | Batch: 2 | Loss 0.4931271970272064: 618it [3:53:49, 20.21s/it]\u001b[A"
     ]
    },
    {
     "name": "stdout",
     "output_type": "stream",
     "text": [
      "Epoch 205 Training Accuracy: tensor(0.7746)\n",
      "Testing Accuracy: tensor(0.5161)\n"
     ]
    },
    {
     "name": "stderr",
     "output_type": "stream",
     "text": [
      "\n",
      "Epoch: 205 | Batch: 2 | Loss 0.4931271970272064: 619it [3:54:15, 21.97s/it]\u001b[A\n",
      "Epoch: 206 | Batch: 0 | Loss 0.5849462747573853: 619it [3:54:15, 21.97s/it]\u001b[A\n",
      "Epoch: 206 | Batch: 0 | Loss 0.5849462747573853: 620it [3:54:41, 23.24s/it]\u001b[A\n",
      "Epoch: 206 | Batch: 1 | Loss 0.6026071906089783: 620it [3:54:41, 23.24s/it]\u001b[A\n",
      "Epoch: 206 | Batch: 1 | Loss 0.6026071906089783: 621it [3:54:53, 19.99s/it]\u001b[A\n",
      "Epoch: 206 | Batch: 2 | Loss 0.5242113471031189: 621it [3:54:53, 19.99s/it]\u001b[A"
     ]
    },
    {
     "name": "stdout",
     "output_type": "stream",
     "text": [
      "Epoch 206 Training Accuracy: tensor(0.7746)\n",
      "Testing Accuracy: tensor(0.5161)\n"
     ]
    },
    {
     "name": "stderr",
     "output_type": "stream",
     "text": [
      "\n",
      "Epoch: 206 | Batch: 2 | Loss 0.5242113471031189: 622it [3:55:20, 22.00s/it]\u001b[A\n",
      "Epoch: 207 | Batch: 0 | Loss 0.4825960099697113: 622it [3:55:20, 22.00s/it]\u001b[A\n",
      "Epoch: 207 | Batch: 0 | Loss 0.4825960099697113: 623it [3:55:47, 23.42s/it]\u001b[A\n",
      "Epoch: 207 | Batch: 1 | Loss 0.6068304777145386: 623it [3:55:47, 23.42s/it]\u001b[A\n",
      "Epoch: 207 | Batch: 1 | Loss 0.6068304777145386: 624it [3:55:59, 20.11s/it]\u001b[A\n",
      "Epoch: 207 | Batch: 2 | Loss 0.7354767918586731: 624it [3:55:59, 20.11s/it]\u001b[A"
     ]
    },
    {
     "name": "stdout",
     "output_type": "stream",
     "text": [
      "Epoch 207 Training Accuracy: tensor(0.7111)\n",
      "Testing Accuracy: tensor(0.5161)\n"
     ]
    },
    {
     "name": "stderr",
     "output_type": "stream",
     "text": [
      "\n",
      "Epoch: 207 | Batch: 2 | Loss 0.7354767918586731: 625it [3:56:26, 21.98s/it]\u001b[A\n",
      "Epoch: 208 | Batch: 0 | Loss 0.5582823157310486: 625it [3:56:26, 21.98s/it]\u001b[A\n",
      "Epoch: 208 | Batch: 0 | Loss 0.5582823157310486: 626it [3:56:52, 23.34s/it]\u001b[A\n",
      "Epoch: 208 | Batch: 1 | Loss 0.5988404750823975: 626it [3:56:52, 23.34s/it]\u001b[A\n",
      "Epoch: 208 | Batch: 1 | Loss 0.5988404750823975: 627it [3:57:05, 20.22s/it]\u001b[A\n",
      "Epoch: 208 | Batch: 2 | Loss 0.5896537899971008: 627it [3:57:05, 20.22s/it]\u001b[A"
     ]
    },
    {
     "name": "stdout",
     "output_type": "stream",
     "text": [
      "Epoch 208 Training Accuracy: tensor(0.7365)\n",
      "Testing Accuracy: tensor(0.5484)\n"
     ]
    },
    {
     "name": "stderr",
     "output_type": "stream",
     "text": [
      "\n",
      "Epoch: 208 | Batch: 2 | Loss 0.5896537899971008: 628it [3:57:31, 21.98s/it]\u001b[A\n",
      "Epoch: 209 | Batch: 0 | Loss 0.5780542492866516: 628it [3:57:31, 21.98s/it]\u001b[A\n",
      "Epoch: 209 | Batch: 0 | Loss 0.5780542492866516: 629it [3:57:57, 23.08s/it]\u001b[A\n",
      "Epoch: 209 | Batch: 1 | Loss 0.6140004396438599: 629it [3:57:57, 23.08s/it]\u001b[A\n",
      "Epoch: 209 | Batch: 1 | Loss 0.6140004396438599: 630it [3:58:09, 19.93s/it]\u001b[A\n",
      "Epoch: 209 | Batch: 2 | Loss 0.5152845978736877: 630it [3:58:09, 19.93s/it]\u001b[A"
     ]
    },
    {
     "name": "stdout",
     "output_type": "stream",
     "text": [
      "Epoch 209 Training Accuracy: tensor(0.7873)\n",
      "Testing Accuracy: tensor(0.5484)\n"
     ]
    },
    {
     "name": "stderr",
     "output_type": "stream",
     "text": [
      "\n",
      "Epoch: 209 | Batch: 2 | Loss 0.5152845978736877: 631it [3:58:35, 21.79s/it]\u001b[A\n",
      "Epoch: 210 | Batch: 0 | Loss 0.561724841594696: 631it [3:58:35, 21.79s/it] \u001b[A\n",
      "Epoch: 210 | Batch: 0 | Loss 0.561724841594696: 632it [3:59:02, 23.13s/it]\u001b[A\n",
      "Epoch: 210 | Batch: 1 | Loss 0.6390096545219421: 632it [3:59:02, 23.13s/it]\u001b[A\n",
      "Epoch: 210 | Batch: 1 | Loss 0.6390096545219421: 633it [3:59:13, 19.67s/it]\u001b[A\n",
      "Epoch: 210 | Batch: 2 | Loss 0.4954172670841217: 633it [3:59:13, 19.67s/it]\u001b[A"
     ]
    },
    {
     "name": "stdout",
     "output_type": "stream",
     "text": [
      "Epoch 210 Training Accuracy: tensor(0.7746)\n",
      "Testing Accuracy: tensor(0.5484)\n"
     ]
    },
    {
     "name": "stderr",
     "output_type": "stream",
     "text": [
      "\n",
      "Epoch: 210 | Batch: 2 | Loss 0.4954172670841217: 634it [3:59:39, 21.58s/it]\u001b[A\n",
      "Epoch: 211 | Batch: 0 | Loss 0.5843328833580017: 634it [3:59:39, 21.58s/it]\u001b[A\n",
      "Epoch: 211 | Batch: 0 | Loss 0.5843328833580017: 635it [4:00:05, 22.89s/it]\u001b[A\n",
      "Epoch: 211 | Batch: 1 | Loss 0.619912326335907: 635it [4:00:05, 22.89s/it] \u001b[A\n",
      "Epoch: 211 | Batch: 1 | Loss 0.619912326335907: 636it [4:00:18, 19.71s/it]\u001b[A\n",
      "Epoch: 211 | Batch: 2 | Loss 0.4867790639400482: 636it [4:00:18, 19.71s/it]\u001b[A"
     ]
    },
    {
     "name": "stdout",
     "output_type": "stream",
     "text": [
      "Epoch 211 Training Accuracy: tensor(0.7746)\n",
      "Testing Accuracy: tensor(0.5484)\n"
     ]
    },
    {
     "name": "stderr",
     "output_type": "stream",
     "text": [
      "\n",
      "Epoch: 211 | Batch: 2 | Loss 0.4867790639400482: 637it [4:00:44, 21.86s/it]\u001b[A\n",
      "Epoch: 212 | Batch: 0 | Loss 0.5842835307121277: 637it [4:00:44, 21.86s/it]\u001b[A\n",
      "Epoch: 212 | Batch: 0 | Loss 0.5842835307121277: 638it [4:01:11, 23.12s/it]\u001b[A\n",
      "Epoch: 212 | Batch: 1 | Loss 0.6283851861953735: 638it [4:01:11, 23.12s/it]\u001b[A\n",
      "Epoch: 212 | Batch: 1 | Loss 0.6283851861953735: 639it [4:01:23, 20.06s/it]\u001b[A\n",
      "Epoch: 212 | Batch: 2 | Loss 0.4733237326145172: 639it [4:01:23, 20.06s/it]\u001b[A"
     ]
    },
    {
     "name": "stdout",
     "output_type": "stream",
     "text": [
      "Epoch 212 Training Accuracy: tensor(0.7857)\n",
      "Testing Accuracy: tensor(0.5161)\n"
     ]
    },
    {
     "name": "stderr",
     "output_type": "stream",
     "text": [
      "\n",
      "Epoch: 212 | Batch: 2 | Loss 0.4733237326145172: 640it [4:01:50, 21.97s/it]\u001b[A\n",
      "Epoch: 213 | Batch: 0 | Loss 0.5473784804344177: 640it [4:01:50, 21.97s/it]\u001b[A\n",
      "Epoch: 213 | Batch: 0 | Loss 0.5473784804344177: 641it [4:02:16, 23.30s/it]\u001b[A\n",
      "Epoch: 213 | Batch: 1 | Loss 0.6240219473838806: 641it [4:02:16, 23.30s/it]\u001b[A\n",
      "Epoch: 213 | Batch: 1 | Loss 0.6240219473838806: 642it [4:02:28, 19.91s/it]\u001b[A\n",
      "Epoch: 213 | Batch: 2 | Loss 0.5578036904335022: 642it [4:02:28, 19.91s/it]\u001b[A"
     ]
    },
    {
     "name": "stdout",
     "output_type": "stream",
     "text": [
      "Epoch 213 Training Accuracy: tensor(0.7730)\n",
      "Testing Accuracy: tensor(0.5484)\n"
     ]
    },
    {
     "name": "stderr",
     "output_type": "stream",
     "text": [
      "\n",
      "Epoch: 213 | Batch: 2 | Loss 0.5578036904335022: 643it [4:02:55, 22.09s/it]\u001b[A\n",
      "Epoch: 214 | Batch: 0 | Loss 0.5646962523460388: 643it [4:02:55, 22.09s/it]\u001b[A\n",
      "Epoch: 214 | Batch: 0 | Loss 0.5646962523460388: 644it [4:03:23, 23.76s/it]\u001b[A\n",
      "Epoch: 214 | Batch: 1 | Loss 0.5766430497169495: 644it [4:03:23, 23.76s/it]\u001b[A\n",
      "Epoch: 214 | Batch: 1 | Loss 0.5766430497169495: 645it [4:03:36, 20.50s/it]\u001b[A\n",
      "Epoch: 214 | Batch: 2 | Loss 0.6237226128578186: 645it [4:03:36, 20.50s/it]\u001b[A"
     ]
    },
    {
     "name": "stdout",
     "output_type": "stream",
     "text": [
      "Epoch 214 Training Accuracy: tensor(0.7492)\n",
      "Testing Accuracy: tensor(0.5161)\n"
     ]
    },
    {
     "name": "stderr",
     "output_type": "stream",
     "text": [
      "\n",
      "Epoch: 214 | Batch: 2 | Loss 0.6237226128578186: 646it [4:04:03, 22.46s/it]\u001b[A\n",
      "Epoch: 215 | Batch: 0 | Loss 0.6282883882522583: 646it [4:04:03, 22.46s/it]\u001b[A\n",
      "Epoch: 215 | Batch: 0 | Loss 0.6282883882522583: 647it [4:04:29, 23.59s/it]\u001b[A\n",
      "Epoch: 215 | Batch: 1 | Loss 0.5437166690826416: 647it [4:04:29, 23.59s/it]\u001b[A\n",
      "Epoch: 215 | Batch: 1 | Loss 0.5437166690826416: 648it [4:04:42, 20.24s/it]\u001b[A\n",
      "Epoch: 215 | Batch: 2 | Loss 0.5570959448814392: 648it [4:04:42, 20.24s/it]\u001b[A"
     ]
    },
    {
     "name": "stdout",
     "output_type": "stream",
     "text": [
      "Epoch 215 Training Accuracy: tensor(0.7746)\n",
      "Testing Accuracy: tensor(0.5161)\n"
     ]
    },
    {
     "name": "stderr",
     "output_type": "stream",
     "text": [
      "\n",
      "Epoch: 215 | Batch: 2 | Loss 0.5570959448814392: 649it [4:05:09, 22.27s/it]\u001b[A\n",
      "Epoch: 216 | Batch: 0 | Loss 0.5177742838859558: 649it [4:05:09, 22.27s/it]\u001b[A\n",
      "Epoch: 216 | Batch: 0 | Loss 0.5177742838859558: 650it [4:05:35, 23.37s/it]\u001b[A\n",
      "Epoch: 216 | Batch: 1 | Loss 0.6481395363807678: 650it [4:05:35, 23.37s/it]\u001b[A\n",
      "Epoch: 216 | Batch: 1 | Loss 0.6481395363807678: 651it [4:05:47, 20.02s/it]\u001b[A\n",
      "Epoch: 216 | Batch: 2 | Loss 0.5712464451789856: 651it [4:05:47, 20.02s/it]\u001b[A"
     ]
    },
    {
     "name": "stdout",
     "output_type": "stream",
     "text": [
      "Epoch 216 Training Accuracy: tensor(0.7619)\n",
      "Testing Accuracy: tensor(0.5161)\n"
     ]
    },
    {
     "name": "stderr",
     "output_type": "stream",
     "text": [
      "\n",
      "Epoch: 216 | Batch: 2 | Loss 0.5712464451789856: 652it [4:06:14, 22.14s/it]\u001b[A\n",
      "Epoch: 217 | Batch: 0 | Loss 0.6538565158843994: 652it [4:06:14, 22.14s/it]\u001b[A\n",
      "Epoch: 217 | Batch: 0 | Loss 0.6538565158843994: 653it [4:06:40, 23.32s/it]\u001b[A\n",
      "Epoch: 217 | Batch: 1 | Loss 0.5154898166656494: 653it [4:06:40, 23.32s/it]\u001b[A\n",
      "Epoch: 217 | Batch: 1 | Loss 0.5154898166656494: 654it [4:06:53, 20.21s/it]\u001b[A\n",
      "Epoch: 217 | Batch: 2 | Loss 0.5643373727798462: 654it [4:06:53, 20.21s/it]\u001b[A"
     ]
    },
    {
     "name": "stdout",
     "output_type": "stream",
     "text": [
      "Epoch 217 Training Accuracy: tensor(0.7619)\n",
      "Testing Accuracy: tensor(0.5161)\n"
     ]
    },
    {
     "name": "stderr",
     "output_type": "stream",
     "text": [
      "\n",
      "Epoch: 217 | Batch: 2 | Loss 0.5643373727798462: 655it [4:07:20, 22.18s/it]\u001b[A\n",
      "Epoch: 218 | Batch: 0 | Loss 0.5645713210105896: 655it [4:07:20, 22.18s/it]\u001b[A\n",
      "Epoch: 218 | Batch: 0 | Loss 0.5645713210105896: 656it [4:07:47, 23.65s/it]\u001b[A\n",
      "Epoch: 218 | Batch: 1 | Loss 0.5839405655860901: 656it [4:07:47, 23.65s/it]\u001b[A\n",
      "Epoch: 218 | Batch: 1 | Loss 0.5839405655860901: 657it [4:07:59, 20.34s/it]\u001b[A\n",
      "Epoch: 218 | Batch: 2 | Loss 0.6091234087944031: 657it [4:07:59, 20.34s/it]\u001b[A"
     ]
    },
    {
     "name": "stdout",
     "output_type": "stream",
     "text": [
      "Epoch 218 Training Accuracy: tensor(0.7492)\n",
      "Testing Accuracy: tensor(0.5161)\n"
     ]
    },
    {
     "name": "stderr",
     "output_type": "stream",
     "text": [
      "\n",
      "Epoch: 218 | Batch: 2 | Loss 0.6091234087944031: 658it [4:08:25, 22.00s/it]\u001b[A\n",
      "Epoch: 219 | Batch: 0 | Loss 0.5512378215789795: 658it [4:08:25, 22.00s/it]\u001b[A\n",
      "Epoch: 219 | Batch: 0 | Loss 0.5512378215789795: 659it [4:08:52, 23.34s/it]\u001b[A\n",
      "Epoch: 219 | Batch: 1 | Loss 0.6012347340583801: 659it [4:08:52, 23.34s/it]\u001b[A\n",
      "Epoch: 219 | Batch: 1 | Loss 0.6012347340583801: 660it [4:09:04, 20.03s/it]\u001b[A\n",
      "Epoch: 219 | Batch: 2 | Loss 0.5999249219894409: 660it [4:09:04, 20.03s/it]\u001b[A"
     ]
    },
    {
     "name": "stdout",
     "output_type": "stream",
     "text": [
      "Epoch 219 Training Accuracy: tensor(0.7492)\n",
      "Testing Accuracy: tensor(0.5161)\n"
     ]
    },
    {
     "name": "stderr",
     "output_type": "stream",
     "text": [
      "\n",
      "Epoch: 219 | Batch: 2 | Loss 0.5999249219894409: 661it [4:09:31, 21.96s/it]\u001b[A\n",
      "Epoch: 220 | Batch: 0 | Loss 0.6093075275421143: 661it [4:09:31, 21.96s/it]\u001b[A\n",
      "Epoch: 220 | Batch: 0 | Loss 0.6093075275421143: 662it [4:09:56, 23.12s/it]\u001b[A\n",
      "Epoch: 220 | Batch: 1 | Loss 0.5464969277381897: 662it [4:09:56, 23.12s/it]\u001b[A\n",
      "Epoch: 220 | Batch: 1 | Loss 0.5464969277381897: 663it [4:10:09, 19.84s/it]\u001b[A\n",
      "Epoch: 220 | Batch: 2 | Loss 0.5920951962471008: 663it [4:10:09, 19.84s/it]\u001b[A"
     ]
    },
    {
     "name": "stdout",
     "output_type": "stream",
     "text": [
      "Epoch 220 Training Accuracy: tensor(0.7492)\n",
      "Testing Accuracy: tensor(0.4839)\n"
     ]
    },
    {
     "name": "stderr",
     "output_type": "stream",
     "text": [
      "\n",
      "Epoch: 220 | Batch: 2 | Loss 0.5920951962471008: 664it [4:10:36, 22.13s/it]\u001b[A\n",
      "Epoch: 221 | Batch: 0 | Loss 0.5645437240600586: 664it [4:10:36, 22.13s/it]\u001b[A\n",
      "Epoch: 221 | Batch: 0 | Loss 0.5645437240600586: 665it [4:11:02, 23.39s/it]\u001b[A\n",
      "Epoch: 221 | Batch: 1 | Loss 0.5806779265403748: 665it [4:11:02, 23.39s/it]\u001b[A\n",
      "Epoch: 221 | Batch: 1 | Loss 0.5806779265403748: 666it [4:11:16, 20.47s/it]\u001b[A\n",
      "Epoch: 221 | Batch: 2 | Loss 0.6138993501663208: 666it [4:11:16, 20.47s/it]\u001b[A"
     ]
    },
    {
     "name": "stdout",
     "output_type": "stream",
     "text": [
      "Epoch 221 Training Accuracy: tensor(0.7492)\n",
      "Testing Accuracy: tensor(0.4839)\n"
     ]
    },
    {
     "name": "stderr",
     "output_type": "stream",
     "text": [
      "\n",
      "Epoch: 221 | Batch: 2 | Loss 0.6138993501663208: 667it [4:11:42, 22.25s/it]\u001b[A\n",
      "Epoch: 222 | Batch: 0 | Loss 0.6637294888496399: 667it [4:11:42, 22.25s/it]\u001b[A\n",
      "Epoch: 222 | Batch: 0 | Loss 0.6637294888496399: 668it [4:12:09, 23.40s/it]\u001b[A\n",
      "Epoch: 222 | Batch: 1 | Loss 0.5446305871009827: 668it [4:12:09, 23.40s/it]\u001b[A\n",
      "Epoch: 222 | Batch: 1 | Loss 0.5446305871009827: 669it [4:12:21, 20.09s/it]\u001b[A\n",
      "Epoch: 222 | Batch: 2 | Loss 0.47821635007858276: 669it [4:12:21, 20.09s/it]\u001b[A"
     ]
    },
    {
     "name": "stdout",
     "output_type": "stream",
     "text": [
      "Epoch 222 Training Accuracy: tensor(0.7746)\n",
      "Testing Accuracy: tensor(0.5161)\n"
     ]
    },
    {
     "name": "stderr",
     "output_type": "stream",
     "text": [
      "\n",
      "Epoch: 222 | Batch: 2 | Loss 0.47821635007858276: 670it [4:12:47, 22.02s/it]\u001b[A\n",
      "Epoch: 223 | Batch: 0 | Loss 0.564089834690094: 670it [4:12:47, 22.02s/it]  \u001b[A\n",
      "Epoch: 223 | Batch: 0 | Loss 0.564089834690094: 671it [4:13:14, 23.28s/it]\u001b[A\n",
      "Epoch: 223 | Batch: 1 | Loss 0.5870946645736694: 671it [4:13:14, 23.28s/it]\u001b[A\n",
      "Epoch: 223 | Batch: 1 | Loss 0.5870946645736694: 672it [4:13:26, 19.95s/it]\u001b[A\n",
      "Epoch: 223 | Batch: 2 | Loss 0.5993629097938538: 672it [4:13:26, 19.95s/it]\u001b[A"
     ]
    },
    {
     "name": "stdout",
     "output_type": "stream",
     "text": [
      "Epoch 223 Training Accuracy: tensor(0.7492)\n",
      "Testing Accuracy: tensor(0.5484)\n"
     ]
    },
    {
     "name": "stderr",
     "output_type": "stream",
     "text": [
      "\n",
      "Epoch: 223 | Batch: 2 | Loss 0.5993629097938538: 673it [4:13:53, 21.98s/it]\u001b[A\n",
      "Epoch: 224 | Batch: 0 | Loss 0.6565749645233154: 673it [4:13:53, 21.98s/it]\u001b[A\n",
      "Epoch: 224 | Batch: 0 | Loss 0.6565749645233154: 674it [4:14:19, 23.32s/it]\u001b[A\n",
      "Epoch: 224 | Batch: 1 | Loss 0.5593492984771729: 674it [4:14:19, 23.32s/it]\u001b[A\n",
      "Epoch: 224 | Batch: 1 | Loss 0.5593492984771729: 675it [4:14:32, 20.14s/it]\u001b[A\n",
      "Epoch: 224 | Batch: 2 | Loss 0.4615499973297119: 675it [4:14:32, 20.14s/it]\u001b[A"
     ]
    },
    {
     "name": "stdout",
     "output_type": "stream",
     "text": [
      "Epoch 224 Training Accuracy: tensor(0.7984)\n",
      "Testing Accuracy: tensor(0.5484)\n"
     ]
    },
    {
     "name": "stderr",
     "output_type": "stream",
     "text": [
      "\n",
      "Epoch: 224 | Batch: 2 | Loss 0.4615499973297119: 676it [4:14:58, 21.98s/it]\u001b[A\n",
      "Epoch: 225 | Batch: 0 | Loss 0.5340073108673096: 676it [4:14:58, 21.98s/it]\u001b[A\n",
      "Epoch: 225 | Batch: 0 | Loss 0.5340073108673096: 677it [4:15:24, 23.18s/it]\u001b[A\n",
      "Epoch: 225 | Batch: 1 | Loss 0.6204127669334412: 677it [4:15:24, 23.18s/it]\u001b[A\n",
      "Epoch: 225 | Batch: 1 | Loss 0.6204127669334412: 678it [4:15:37, 20.04s/it]\u001b[A\n",
      "Epoch: 225 | Batch: 2 | Loss 0.5942617058753967: 678it [4:15:37, 20.04s/it]\u001b[A"
     ]
    },
    {
     "name": "stdout",
     "output_type": "stream",
     "text": [
      "Epoch 225 Training Accuracy: tensor(0.7857)\n",
      "Testing Accuracy: tensor(0.5484)\n"
     ]
    },
    {
     "name": "stderr",
     "output_type": "stream",
     "text": [
      "\n",
      "Epoch: 225 | Batch: 2 | Loss 0.5942617058753967: 679it [4:16:03, 21.93s/it]\u001b[A\n",
      "Epoch: 226 | Batch: 0 | Loss 0.6024101376533508: 679it [4:16:03, 21.93s/it]\u001b[A\n",
      "Epoch: 226 | Batch: 0 | Loss 0.6024101376533508: 680it [4:16:29, 23.14s/it]\u001b[A\n",
      "Epoch: 226 | Batch: 1 | Loss 0.5617678165435791: 680it [4:16:29, 23.14s/it]\u001b[A\n",
      "Epoch: 226 | Batch: 1 | Loss 0.5617678165435791: 681it [4:16:42, 19.97s/it]\u001b[A\n",
      "Epoch: 226 | Batch: 2 | Loss 0.5708121061325073: 681it [4:16:42, 19.97s/it]\u001b[A"
     ]
    },
    {
     "name": "stdout",
     "output_type": "stream",
     "text": [
      "Epoch 226 Training Accuracy: tensor(0.7857)\n",
      "Testing Accuracy: tensor(0.5161)\n"
     ]
    },
    {
     "name": "stderr",
     "output_type": "stream",
     "text": [
      "\n",
      "Epoch: 226 | Batch: 2 | Loss 0.5708121061325073: 682it [4:17:09, 22.13s/it]\u001b[A\n",
      "Epoch: 227 | Batch: 0 | Loss 0.6174594163894653: 682it [4:17:09, 22.13s/it]\u001b[A\n",
      "Epoch: 227 | Batch: 0 | Loss 0.6174594163894653: 683it [4:17:35, 23.41s/it]\u001b[A\n",
      "Epoch: 227 | Batch: 1 | Loss 0.5215528607368469: 683it [4:17:35, 23.41s/it]\u001b[A\n",
      "Epoch: 227 | Batch: 1 | Loss 0.5215528607368469: 684it [4:17:48, 20.15s/it]\u001b[A\n",
      "Epoch: 227 | Batch: 2 | Loss 0.625420868396759: 684it [4:17:48, 20.15s/it] \u001b[A"
     ]
    },
    {
     "name": "stdout",
     "output_type": "stream",
     "text": [
      "Epoch 227 Training Accuracy: tensor(0.7730)\n",
      "Testing Accuracy: tensor(0.5161)\n"
     ]
    },
    {
     "name": "stderr",
     "output_type": "stream",
     "text": [
      "\n",
      "Epoch: 227 | Batch: 2 | Loss 0.625420868396759: 685it [4:18:15, 22.42s/it]\u001b[A\n",
      "Epoch: 228 | Batch: 0 | Loss 0.608616054058075: 685it [4:18:15, 22.42s/it]\u001b[A\n",
      "Epoch: 228 | Batch: 0 | Loss 0.608616054058075: 686it [4:18:42, 23.55s/it]\u001b[A\n",
      "Epoch: 228 | Batch: 1 | Loss 0.5612340569496155: 686it [4:18:42, 23.55s/it]\u001b[A\n",
      "Epoch: 228 | Batch: 1 | Loss 0.5612340569496155: 687it [4:18:55, 20.42s/it]\u001b[A\n",
      "Epoch: 228 | Batch: 2 | Loss 0.5620765686035156: 687it [4:18:55, 20.42s/it]\u001b[A"
     ]
    },
    {
     "name": "stdout",
     "output_type": "stream",
     "text": [
      "Epoch 228 Training Accuracy: tensor(0.7619)\n",
      "Testing Accuracy: tensor(0.5161)\n"
     ]
    },
    {
     "name": "stderr",
     "output_type": "stream",
     "text": [
      "\n",
      "Epoch: 228 | Batch: 2 | Loss 0.5620765686035156: 688it [4:19:21, 22.25s/it]\u001b[A\n",
      "Epoch: 229 | Batch: 0 | Loss 0.590836763381958: 688it [4:19:21, 22.25s/it] \u001b[A\n",
      "Epoch: 229 | Batch: 0 | Loss 0.590836763381958: 689it [4:19:47, 23.33s/it]\u001b[A\n",
      "Epoch: 229 | Batch: 1 | Loss 0.5923894047737122: 689it [4:19:47, 23.33s/it]\u001b[A\n",
      "Epoch: 229 | Batch: 1 | Loss 0.5923894047737122: 690it [4:19:59, 19.79s/it]\u001b[A\n",
      "Epoch: 229 | Batch: 2 | Loss 0.5337250828742981: 690it [4:19:59, 19.79s/it]\u001b[A"
     ]
    },
    {
     "name": "stdout",
     "output_type": "stream",
     "text": [
      "Epoch 229 Training Accuracy: tensor(0.7619)\n",
      "Testing Accuracy: tensor(0.5161)\n"
     ]
    },
    {
     "name": "stderr",
     "output_type": "stream",
     "text": [
      "\n",
      "Epoch: 229 | Batch: 2 | Loss 0.5337250828742981: 691it [4:20:25, 21.88s/it]\u001b[A\n",
      "Epoch: 230 | Batch: 0 | Loss 0.5612069964408875: 691it [4:20:25, 21.88s/it]\u001b[A\n",
      "Epoch: 230 | Batch: 0 | Loss 0.5612069964408875: 692it [4:20:51, 23.15s/it]\u001b[A\n",
      "Epoch: 230 | Batch: 1 | Loss 0.628403902053833: 692it [4:20:51, 23.15s/it] \u001b[A\n",
      "Epoch: 230 | Batch: 1 | Loss 0.628403902053833: 693it [4:21:04, 19.83s/it]\u001b[A\n",
      "Epoch: 230 | Batch: 2 | Loss 0.517802894115448: 693it [4:21:04, 19.83s/it]\u001b[A"
     ]
    },
    {
     "name": "stdout",
     "output_type": "stream",
     "text": [
      "Epoch 230 Training Accuracy: tensor(0.7746)\n",
      "Testing Accuracy: tensor(0.5161)\n"
     ]
    },
    {
     "name": "stderr",
     "output_type": "stream",
     "text": [
      "\n",
      "Epoch: 230 | Batch: 2 | Loss 0.517802894115448: 694it [4:21:30, 21.92s/it]\u001b[A\n",
      "Epoch: 231 | Batch: 0 | Loss 0.576221227645874: 694it [4:21:30, 21.92s/it]\u001b[A\n",
      "Epoch: 231 | Batch: 0 | Loss 0.576221227645874: 695it [4:21:57, 23.40s/it]\u001b[A\n",
      "Epoch: 231 | Batch: 1 | Loss 0.5800008177757263: 695it [4:21:57, 23.40s/it]\u001b[A\n",
      "Epoch: 231 | Batch: 1 | Loss 0.5800008177757263: 696it [4:22:09, 20.06s/it]\u001b[A\n",
      "Epoch: 231 | Batch: 2 | Loss 0.590092122554779: 696it [4:22:09, 20.06s/it] \u001b[A"
     ]
    },
    {
     "name": "stdout",
     "output_type": "stream",
     "text": [
      "Epoch 231 Training Accuracy: tensor(0.7603)\n",
      "Testing Accuracy: tensor(0.5161)\n"
     ]
    },
    {
     "name": "stderr",
     "output_type": "stream",
     "text": [
      "\n",
      "Epoch: 231 | Batch: 2 | Loss 0.590092122554779: 697it [4:22:36, 22.10s/it]\u001b[A\n",
      "Epoch: 232 | Batch: 0 | Loss 0.5735340714454651: 697it [4:22:36, 22.10s/it]\u001b[A\n",
      "Epoch: 232 | Batch: 0 | Loss 0.5735340714454651: 698it [4:23:04, 23.68s/it]\u001b[A\n",
      "Epoch: 232 | Batch: 1 | Loss 0.5844889283180237: 698it [4:23:04, 23.68s/it]\u001b[A\n",
      "Epoch: 232 | Batch: 1 | Loss 0.5844889283180237: 699it [4:23:16, 20.28s/it]\u001b[A\n",
      "Epoch: 232 | Batch: 2 | Loss 0.5842081904411316: 699it [4:23:16, 20.28s/it]\u001b[A"
     ]
    },
    {
     "name": "stdout",
     "output_type": "stream",
     "text": [
      "Epoch 232 Training Accuracy: tensor(0.7730)\n",
      "Testing Accuracy: tensor(0.5161)\n"
     ]
    },
    {
     "name": "stderr",
     "output_type": "stream",
     "text": [
      "\n",
      "Epoch: 232 | Batch: 2 | Loss 0.5842081904411316: 700it [4:23:42, 22.03s/it]\u001b[A\n",
      "Epoch: 233 | Batch: 0 | Loss 0.6104235053062439: 700it [4:23:42, 22.03s/it]\u001b[A\n",
      "Epoch: 233 | Batch: 0 | Loss 0.6104235053062439: 701it [4:24:09, 23.47s/it]\u001b[A\n",
      "Epoch: 233 | Batch: 1 | Loss 0.5257999897003174: 701it [4:24:09, 23.47s/it]\u001b[A\n",
      "Epoch: 233 | Batch: 1 | Loss 0.5257999897003174: 702it [4:24:22, 20.24s/it]\u001b[A\n",
      "Epoch: 233 | Batch: 2 | Loss 0.6309857964515686: 702it [4:24:22, 20.24s/it]\u001b[A"
     ]
    },
    {
     "name": "stdout",
     "output_type": "stream",
     "text": [
      "Epoch 233 Training Accuracy: tensor(0.7603)\n",
      "Testing Accuracy: tensor(0.5161)\n"
     ]
    },
    {
     "name": "stderr",
     "output_type": "stream",
     "text": [
      "\n",
      "Epoch: 233 | Batch: 2 | Loss 0.6309857964515686: 703it [4:24:49, 22.23s/it]\u001b[A\n",
      "Epoch: 234 | Batch: 0 | Loss 0.5481576323509216: 703it [4:24:49, 22.23s/it]\u001b[A\n",
      "Epoch: 234 | Batch: 0 | Loss 0.5481576323509216: 704it [4:25:14, 23.27s/it]\u001b[A\n",
      "Epoch: 234 | Batch: 1 | Loss 0.5946452021598816: 704it [4:25:14, 23.27s/it]\u001b[A\n",
      "Epoch: 234 | Batch: 1 | Loss 0.5946452021598816: 705it [4:25:27, 20.17s/it]\u001b[A\n",
      "Epoch: 234 | Batch: 2 | Loss 0.6167630553245544: 705it [4:25:27, 20.17s/it]\u001b[A"
     ]
    },
    {
     "name": "stdout",
     "output_type": "stream",
     "text": [
      "Epoch 234 Training Accuracy: tensor(0.7603)\n",
      "Testing Accuracy: tensor(0.5161)\n"
     ]
    },
    {
     "name": "stderr",
     "output_type": "stream",
     "text": [
      "\n",
      "Epoch: 234 | Batch: 2 | Loss 0.6167630553245544: 706it [4:25:53, 21.95s/it]\u001b[A\n",
      "Epoch: 235 | Batch: 0 | Loss 0.6293706297874451: 706it [4:25:53, 21.95s/it]\u001b[A\n",
      "Epoch: 235 | Batch: 0 | Loss 0.6293706297874451: 707it [4:26:20, 23.28s/it]\u001b[A\n",
      "Epoch: 235 | Batch: 1 | Loss 0.5399453043937683: 707it [4:26:20, 23.28s/it]\u001b[A\n",
      "Epoch: 235 | Batch: 1 | Loss 0.5399453043937683: 708it [4:26:31, 19.83s/it]\u001b[A\n",
      "Epoch: 235 | Batch: 2 | Loss 0.5628109574317932: 708it [4:26:31, 19.83s/it]\u001b[A"
     ]
    },
    {
     "name": "stdout",
     "output_type": "stream",
     "text": [
      "Epoch 235 Training Accuracy: tensor(0.7857)\n",
      "Testing Accuracy: tensor(0.5161)\n"
     ]
    },
    {
     "name": "stderr",
     "output_type": "stream",
     "text": [
      "\n",
      "Epoch: 235 | Batch: 2 | Loss 0.5628109574317932: 709it [4:26:58, 21.95s/it]\u001b[A\n",
      "Epoch: 236 | Batch: 0 | Loss 0.6051765084266663: 709it [4:26:58, 21.95s/it]\u001b[A\n",
      "Epoch: 236 | Batch: 0 | Loss 0.6051765084266663: 710it [4:27:25, 23.30s/it]\u001b[A\n",
      "Epoch: 236 | Batch: 1 | Loss 0.5637379884719849: 710it [4:27:25, 23.30s/it]\u001b[A\n",
      "Epoch: 236 | Batch: 1 | Loss 0.5637379884719849: 711it [4:27:37, 20.02s/it]\u001b[A\n",
      "Epoch: 236 | Batch: 2 | Loss 0.5623360276222229: 711it [4:27:37, 20.02s/it]\u001b[A"
     ]
    },
    {
     "name": "stdout",
     "output_type": "stream",
     "text": [
      "Epoch 236 Training Accuracy: tensor(0.7730)\n",
      "Testing Accuracy: tensor(0.5161)\n"
     ]
    },
    {
     "name": "stderr",
     "output_type": "stream",
     "text": [
      "\n",
      "Epoch: 236 | Batch: 2 | Loss 0.5623360276222229: 712it [4:28:04, 22.21s/it]\u001b[A\n",
      "Epoch: 237 | Batch: 0 | Loss 0.5306136012077332: 712it [4:28:04, 22.21s/it]\u001b[A\n",
      "Epoch: 237 | Batch: 0 | Loss 0.5306136012077332: 713it [4:28:32, 23.79s/it]\u001b[A\n",
      "Epoch: 237 | Batch: 1 | Loss 0.6001153588294983: 713it [4:28:32, 23.79s/it]\u001b[A\n",
      "Epoch: 237 | Batch: 1 | Loss 0.6001153588294983: 714it [4:28:45, 20.61s/it]\u001b[A\n",
      "Epoch: 237 | Batch: 2 | Loss 0.6416682600975037: 714it [4:28:45, 20.61s/it]\u001b[A"
     ]
    },
    {
     "name": "stdout",
     "output_type": "stream",
     "text": [
      "Epoch 237 Training Accuracy: tensor(0.7603)\n",
      "Testing Accuracy: tensor(0.5161)\n"
     ]
    },
    {
     "name": "stderr",
     "output_type": "stream",
     "text": [
      "\n",
      "Epoch: 237 | Batch: 2 | Loss 0.6416682600975037: 715it [4:29:13, 22.67s/it]\u001b[A\n",
      "Epoch: 238 | Batch: 0 | Loss 0.6281483173370361: 715it [4:29:13, 22.67s/it]\u001b[A\n",
      "Epoch: 238 | Batch: 0 | Loss 0.6281483173370361: 716it [4:29:40, 24.10s/it]\u001b[A\n",
      "Epoch: 238 | Batch: 1 | Loss 0.5482315421104431: 716it [4:29:40, 24.10s/it]\u001b[A\n",
      "Epoch: 238 | Batch: 1 | Loss 0.5482315421104431: 717it [4:29:53, 20.67s/it]\u001b[A\n",
      "Epoch: 238 | Batch: 2 | Loss 0.5435914397239685: 717it [4:29:53, 20.67s/it]\u001b[A"
     ]
    },
    {
     "name": "stdout",
     "output_type": "stream",
     "text": [
      "Epoch 238 Training Accuracy: tensor(0.7857)\n",
      "Testing Accuracy: tensor(0.5161)\n"
     ]
    },
    {
     "name": "stderr",
     "output_type": "stream",
     "text": [
      "\n",
      "Epoch: 238 | Batch: 2 | Loss 0.5435914397239685: 718it [4:30:20, 22.79s/it]\u001b[A\n",
      "Epoch: 239 | Batch: 0 | Loss 0.5917544960975647: 718it [4:30:20, 22.79s/it]\u001b[A\n",
      "Epoch: 239 | Batch: 0 | Loss 0.5917544960975647: 719it [4:30:48, 24.11s/it]\u001b[A\n",
      "Epoch: 239 | Batch: 1 | Loss 0.5668983459472656: 719it [4:30:48, 24.11s/it]\u001b[A\n",
      "Epoch: 239 | Batch: 1 | Loss 0.5668983459472656: 720it [4:31:01, 20.85s/it]\u001b[A\n",
      "Epoch: 239 | Batch: 2 | Loss 0.5840243697166443: 720it [4:31:01, 20.85s/it]\u001b[A"
     ]
    },
    {
     "name": "stdout",
     "output_type": "stream",
     "text": [
      "Epoch 239 Training Accuracy: tensor(0.7492)\n",
      "Testing Accuracy: tensor(0.4839)\n"
     ]
    },
    {
     "name": "stderr",
     "output_type": "stream",
     "text": [
      "\n",
      "Epoch: 239 | Batch: 2 | Loss 0.5840243697166443: 721it [4:31:28, 22.79s/it]\u001b[A\n",
      "Epoch: 240 | Batch: 0 | Loss 0.5930973291397095: 721it [4:31:28, 22.79s/it]\u001b[A\n",
      "Epoch: 240 | Batch: 0 | Loss 0.5930973291397095: 722it [4:31:56, 24.15s/it]\u001b[A\n",
      "Epoch: 240 | Batch: 1 | Loss 0.5637131333351135: 722it [4:31:56, 24.15s/it]\u001b[A\n",
      "Epoch: 240 | Batch: 1 | Loss 0.5637131333351135: 723it [4:32:08, 20.61s/it]\u001b[A\n",
      "Epoch: 240 | Batch: 2 | Loss 0.5851704478263855: 723it [4:32:08, 20.61s/it]\u001b[A"
     ]
    },
    {
     "name": "stdout",
     "output_type": "stream",
     "text": [
      "Epoch 240 Training Accuracy: tensor(0.7619)\n",
      "Testing Accuracy: tensor(0.4839)\n"
     ]
    },
    {
     "name": "stderr",
     "output_type": "stream",
     "text": [
      "\n",
      "Epoch: 240 | Batch: 2 | Loss 0.5851704478263855: 724it [4:32:36, 22.87s/it]\u001b[A\n",
      "Epoch: 241 | Batch: 0 | Loss 0.6140249371528625: 724it [4:32:36, 22.87s/it]\u001b[A\n",
      "Epoch: 241 | Batch: 0 | Loss 0.6140249371528625: 725it [4:33:02, 23.90s/it]\u001b[A\n",
      "Epoch: 241 | Batch: 1 | Loss 0.5671802163124084: 725it [4:33:02, 23.90s/it]\u001b[A\n",
      "Epoch: 241 | Batch: 1 | Loss 0.5671802163124084: 726it [4:33:15, 20.67s/it]\u001b[A\n",
      "Epoch: 241 | Batch: 2 | Loss 0.534821093082428: 726it [4:33:15, 20.67s/it] \u001b[A"
     ]
    },
    {
     "name": "stdout",
     "output_type": "stream",
     "text": [
      "Epoch 241 Training Accuracy: tensor(0.7857)\n",
      "Testing Accuracy: tensor(0.5161)\n"
     ]
    },
    {
     "name": "stderr",
     "output_type": "stream",
     "text": [
      "\n",
      "Epoch: 241 | Batch: 2 | Loss 0.534821093082428: 727it [4:33:43, 22.67s/it]\u001b[A\n",
      "Epoch: 242 | Batch: 0 | Loss 0.5799083709716797: 727it [4:33:43, 22.67s/it]\u001b[A\n",
      "Epoch: 242 | Batch: 0 | Loss 0.5799083709716797: 728it [4:34:11, 24.18s/it]\u001b[A\n",
      "Epoch: 242 | Batch: 1 | Loss 0.6007731556892395: 728it [4:34:11, 24.18s/it]\u001b[A\n",
      "Epoch: 242 | Batch: 1 | Loss 0.6007731556892395: 729it [4:34:23, 20.75s/it]\u001b[A\n",
      "Epoch: 242 | Batch: 2 | Loss 0.533399760723114: 729it [4:34:23, 20.75s/it] \u001b[A"
     ]
    },
    {
     "name": "stdout",
     "output_type": "stream",
     "text": [
      "Epoch 242 Training Accuracy: tensor(0.7984)\n",
      "Testing Accuracy: tensor(0.4839)\n"
     ]
    },
    {
     "name": "stderr",
     "output_type": "stream",
     "text": [
      "\n",
      "Epoch: 242 | Batch: 2 | Loss 0.533399760723114: 730it [4:34:51, 22.99s/it]\u001b[A\n",
      "Epoch: 243 | Batch: 0 | Loss 0.5400009751319885: 730it [4:34:51, 22.99s/it]\u001b[A\n",
      "Epoch: 243 | Batch: 0 | Loss 0.5400009751319885: 731it [4:35:19, 24.22s/it]\u001b[A\n",
      "Epoch: 243 | Batch: 1 | Loss 0.5816915035247803: 731it [4:35:19, 24.22s/it]\u001b[A\n",
      "Epoch: 243 | Batch: 1 | Loss 0.5816915035247803: 732it [4:35:32, 20.89s/it]\u001b[A\n",
      "Epoch: 243 | Batch: 2 | Loss 0.6626879572868347: 732it [4:35:32, 20.89s/it]\u001b[A"
     ]
    },
    {
     "name": "stdout",
     "output_type": "stream",
     "text": [
      "Epoch 243 Training Accuracy: tensor(0.7476)\n",
      "Testing Accuracy: tensor(0.5161)\n"
     ]
    },
    {
     "name": "stderr",
     "output_type": "stream",
     "text": [
      "\n",
      "Epoch: 243 | Batch: 2 | Loss 0.6626879572868347: 733it [4:36:00, 23.06s/it]\u001b[A\n",
      "Epoch: 244 | Batch: 0 | Loss 0.5763179063796997: 733it [4:36:00, 23.06s/it]\u001b[A\n",
      "Epoch: 244 | Batch: 0 | Loss 0.5763179063796997: 734it [4:36:28, 24.52s/it]\u001b[A\n",
      "Epoch: 244 | Batch: 1 | Loss 0.5759851932525635: 734it [4:36:28, 24.52s/it]\u001b[A\n",
      "Epoch: 244 | Batch: 1 | Loss 0.5759851932525635: 735it [4:36:41, 21.18s/it]\u001b[A\n",
      "Epoch: 244 | Batch: 2 | Loss 0.5952096581459045: 735it [4:36:41, 21.18s/it]\u001b[A"
     ]
    },
    {
     "name": "stdout",
     "output_type": "stream",
     "text": [
      "Epoch 244 Training Accuracy: tensor(0.7492)\n",
      "Testing Accuracy: tensor(0.5161)\n"
     ]
    },
    {
     "name": "stderr",
     "output_type": "stream",
     "text": [
      "\n",
      "Epoch: 244 | Batch: 2 | Loss 0.5952096581459045: 736it [4:37:08, 22.82s/it]\u001b[A\n",
      "Epoch: 245 | Batch: 0 | Loss 0.6117072701454163: 736it [4:37:08, 22.82s/it]\u001b[A\n",
      "Epoch: 245 | Batch: 0 | Loss 0.6117072701454163: 737it [4:37:34, 23.94s/it]\u001b[A\n",
      "Epoch: 245 | Batch: 1 | Loss 0.5867491364479065: 737it [4:37:34, 23.94s/it]\u001b[A\n",
      "Epoch: 245 | Batch: 1 | Loss 0.5867491364479065: 738it [4:37:48, 20.90s/it]\u001b[A\n",
      "Epoch: 245 | Batch: 2 | Loss 0.4969508945941925: 738it [4:37:48, 20.90s/it]\u001b[A"
     ]
    },
    {
     "name": "stdout",
     "output_type": "stream",
     "text": [
      "Epoch 245 Training Accuracy: tensor(0.7746)\n",
      "Testing Accuracy: tensor(0.5161)\n"
     ]
    },
    {
     "name": "stderr",
     "output_type": "stream",
     "text": [
      "\n",
      "Epoch: 245 | Batch: 2 | Loss 0.4969508945941925: 739it [4:38:16, 23.04s/it]\u001b[A\n",
      "Epoch: 246 | Batch: 0 | Loss 0.6199070811271667: 739it [4:38:16, 23.04s/it]\u001b[A\n",
      "Epoch: 246 | Batch: 0 | Loss 0.6199070811271667: 740it [4:38:44, 24.33s/it]\u001b[A\n",
      "Epoch: 246 | Batch: 1 | Loss 0.5843976140022278: 740it [4:38:44, 24.33s/it]\u001b[A\n",
      "Epoch: 246 | Batch: 1 | Loss 0.5843976140022278: 741it [4:38:57, 20.96s/it]\u001b[A\n",
      "Epoch: 246 | Batch: 2 | Loss 0.4832910895347595: 741it [4:38:57, 20.96s/it]\u001b[A"
     ]
    },
    {
     "name": "stdout",
     "output_type": "stream",
     "text": [
      "Epoch 246 Training Accuracy: tensor(0.7873)\n",
      "Testing Accuracy: tensor(0.5161)\n"
     ]
    },
    {
     "name": "stderr",
     "output_type": "stream",
     "text": [
      "\n",
      "Epoch: 246 | Batch: 2 | Loss 0.4832910895347595: 742it [4:39:24, 23.03s/it]\u001b[A\n",
      "Epoch: 247 | Batch: 0 | Loss 0.5749978423118591: 742it [4:39:24, 23.03s/it]\u001b[A\n",
      "Epoch: 247 | Batch: 0 | Loss 0.5749978423118591: 743it [4:39:51, 24.22s/it]\u001b[A\n",
      "Epoch: 247 | Batch: 1 | Loss 0.5923262238502502: 743it [4:39:51, 24.22s/it]\u001b[A\n",
      "Epoch: 247 | Batch: 1 | Loss 0.5923262238502502: 744it [4:40:04, 20.63s/it]\u001b[A\n",
      "Epoch: 247 | Batch: 2 | Loss 0.5663620233535767: 744it [4:40:04, 20.63s/it]\u001b[A"
     ]
    },
    {
     "name": "stdout",
     "output_type": "stream",
     "text": [
      "Epoch 247 Training Accuracy: tensor(0.7619)\n",
      "Testing Accuracy: tensor(0.5161)\n"
     ]
    },
    {
     "name": "stderr",
     "output_type": "stream",
     "text": [
      "\n",
      "Epoch: 247 | Batch: 2 | Loss 0.5663620233535767: 745it [4:40:33, 23.23s/it]\u001b[A\n",
      "Epoch: 248 | Batch: 0 | Loss 0.6130387187004089: 745it [4:40:33, 23.23s/it]\u001b[A\n",
      "Epoch: 248 | Batch: 0 | Loss 0.6130387187004089: 746it [4:41:01, 24.55s/it]\u001b[A\n",
      "Epoch: 248 | Batch: 1 | Loss 0.5658882260322571: 746it [4:41:01, 24.55s/it]\u001b[A\n",
      "Epoch: 248 | Batch: 1 | Loss 0.5658882260322571: 747it [4:41:14, 21.08s/it]\u001b[A\n",
      "Epoch: 248 | Batch: 2 | Loss 0.5390382409095764: 747it [4:41:14, 21.08s/it]\u001b[A"
     ]
    },
    {
     "name": "stdout",
     "output_type": "stream",
     "text": [
      "Epoch 248 Training Accuracy: tensor(0.7873)\n",
      "Testing Accuracy: tensor(0.5161)\n"
     ]
    },
    {
     "name": "stderr",
     "output_type": "stream",
     "text": [
      "\n",
      "Epoch: 248 | Batch: 2 | Loss 0.5390382409095764: 748it [4:41:41, 23.10s/it]\u001b[A\n",
      "Epoch: 249 | Batch: 0 | Loss 0.5385772585868835: 748it [4:41:41, 23.10s/it]\u001b[A\n",
      "Epoch: 249 | Batch: 0 | Loss 0.5385772585868835: 749it [4:42:09, 24.39s/it]\u001b[A\n",
      "Epoch: 249 | Batch: 1 | Loss 0.5644288659095764: 749it [4:42:09, 24.39s/it]\u001b[A\n",
      "Epoch: 249 | Batch: 1 | Loss 0.5644288659095764: 750it [4:42:21, 20.85s/it]\u001b[A\n",
      "Epoch: 249 | Batch: 2 | Loss 0.7002368569374084: 750it [4:42:21, 20.85s/it]\u001b[A"
     ]
    },
    {
     "name": "stdout",
     "output_type": "stream",
     "text": [
      "Epoch 249 Training Accuracy: tensor(0.7365)\n",
      "Testing Accuracy: tensor(0.5161)\n"
     ]
    },
    {
     "name": "stderr",
     "output_type": "stream",
     "text": [
      "\n",
      "Epoch: 249 | Batch: 2 | Loss 0.7002368569374084: 751it [4:42:50, 23.08s/it]\u001b[A\n",
      "Epoch: 250 | Batch: 0 | Loss 0.5497435927391052: 751it [4:42:50, 23.08s/it]\u001b[A\n",
      "Epoch: 250 | Batch: 0 | Loss 0.5497435927391052: 752it [4:43:17, 24.24s/it]\u001b[A\n",
      "Epoch: 250 | Batch: 1 | Loss 0.6193946003913879: 752it [4:43:17, 24.24s/it]\u001b[A\n",
      "Epoch: 250 | Batch: 1 | Loss 0.6193946003913879: 753it [4:43:30, 21.10s/it]\u001b[A\n",
      "Epoch: 250 | Batch: 2 | Loss 0.5587514042854309: 753it [4:43:30, 21.10s/it]\u001b[A"
     ]
    },
    {
     "name": "stdout",
     "output_type": "stream",
     "text": [
      "Epoch 250 Training Accuracy: tensor(0.7619)\n",
      "Testing Accuracy: tensor(0.5161)\n"
     ]
    },
    {
     "name": "stderr",
     "output_type": "stream",
     "text": [
      "\n",
      "Epoch: 250 | Batch: 2 | Loss 0.5587514042854309: 754it [4:43:58, 23.09s/it]\u001b[A\n",
      "Epoch: 251 | Batch: 0 | Loss 0.5609613656997681: 754it [4:43:58, 23.09s/it]\u001b[A\n",
      "Epoch: 251 | Batch: 0 | Loss 0.5609613656997681: 755it [4:44:26, 24.43s/it]\u001b[A\n",
      "Epoch: 251 | Batch: 1 | Loss 0.6038435101509094: 755it [4:44:26, 24.43s/it]\u001b[A\n",
      "Epoch: 251 | Batch: 1 | Loss 0.6038435101509094: 756it [4:44:38, 20.86s/it]\u001b[A\n",
      "Epoch: 251 | Batch: 2 | Loss 0.5699824690818787: 756it [4:44:38, 20.86s/it]\u001b[A"
     ]
    },
    {
     "name": "stdout",
     "output_type": "stream",
     "text": [
      "Epoch 251 Training Accuracy: tensor(0.7603)\n",
      "Testing Accuracy: tensor(0.4839)\n"
     ]
    },
    {
     "name": "stderr",
     "output_type": "stream",
     "text": [
      "\n",
      "Epoch: 251 | Batch: 2 | Loss 0.5699824690818787: 757it [4:45:06, 22.99s/it]\u001b[A\n",
      "Epoch: 252 | Batch: 0 | Loss 0.5700386762619019: 757it [4:45:06, 22.99s/it]\u001b[A\n",
      "Epoch: 252 | Batch: 0 | Loss 0.5700386762619019: 758it [4:45:33, 24.21s/it]\u001b[A\n",
      "Epoch: 252 | Batch: 1 | Loss 0.5310483574867249: 758it [4:45:33, 24.21s/it]\u001b[A\n",
      "Epoch: 252 | Batch: 1 | Loss 0.5310483574867249: 759it [4:45:46, 20.72s/it]\u001b[A\n",
      "Epoch: 252 | Batch: 2 | Loss 0.7046200037002563: 759it [4:45:46, 20.72s/it]\u001b[A"
     ]
    },
    {
     "name": "stdout",
     "output_type": "stream",
     "text": [
      "Epoch 252 Training Accuracy: tensor(0.7222)\n",
      "Testing Accuracy: tensor(0.5161)\n"
     ]
    },
    {
     "name": "stderr",
     "output_type": "stream",
     "text": [
      "\n",
      "Epoch: 252 | Batch: 2 | Loss 0.7046200037002563: 760it [4:46:14, 23.07s/it]\u001b[A\n",
      "Epoch: 253 | Batch: 0 | Loss 0.636317789554596: 760it [4:46:14, 23.07s/it] \u001b[A\n",
      "Epoch: 253 | Batch: 0 | Loss 0.636317789554596: 761it [4:46:41, 24.18s/it]\u001b[A\n",
      "Epoch: 253 | Batch: 1 | Loss 0.5713487863540649: 761it [4:46:41, 24.18s/it]\u001b[A\n",
      "Epoch: 253 | Batch: 1 | Loss 0.5713487863540649: 762it [4:46:54, 20.87s/it]\u001b[A\n",
      "Epoch: 253 | Batch: 2 | Loss 0.4763724207878113: 762it [4:46:54, 20.87s/it]\u001b[A"
     ]
    },
    {
     "name": "stdout",
     "output_type": "stream",
     "text": [
      "Epoch 253 Training Accuracy: tensor(0.7984)\n",
      "Testing Accuracy: tensor(0.5161)\n"
     ]
    },
    {
     "name": "stderr",
     "output_type": "stream",
     "text": [
      "\n",
      "Epoch: 253 | Batch: 2 | Loss 0.4763724207878113: 763it [4:47:23, 23.15s/it]\u001b[A\n",
      "Epoch: 254 | Batch: 0 | Loss 0.6412458419799805: 763it [4:47:23, 23.15s/it]\u001b[A\n",
      "Epoch: 254 | Batch: 0 | Loss 0.6412458419799805: 764it [4:47:51, 24.54s/it]\u001b[A\n",
      "Epoch: 254 | Batch: 1 | Loss 0.5322780609130859: 764it [4:47:51, 24.54s/it]\u001b[A\n",
      "Epoch: 254 | Batch: 1 | Loss 0.5322780609130859: 765it [4:48:03, 20.79s/it]\u001b[A\n",
      "Epoch: 254 | Batch: 2 | Loss 0.5487434267997742: 765it [4:48:03, 20.79s/it]\u001b[A"
     ]
    },
    {
     "name": "stdout",
     "output_type": "stream",
     "text": [
      "Epoch 254 Training Accuracy: tensor(0.7730)\n",
      "Testing Accuracy: tensor(0.5161)\n"
     ]
    },
    {
     "name": "stderr",
     "output_type": "stream",
     "text": [
      "\n",
      "Epoch: 254 | Batch: 2 | Loss 0.5487434267997742: 766it [4:48:30, 22.91s/it]\u001b[A\n",
      "Epoch: 255 | Batch: 0 | Loss 0.5958919525146484: 766it [4:48:30, 22.91s/it]\u001b[A\n",
      "Epoch: 255 | Batch: 0 | Loss 0.5958919525146484: 767it [4:48:57, 24.01s/it]\u001b[A\n",
      "Epoch: 255 | Batch: 1 | Loss 0.5463794469833374: 767it [4:48:57, 24.01s/it]\u001b[A\n",
      "Epoch: 255 | Batch: 1 | Loss 0.5463794469833374: 768it [4:49:09, 20.50s/it]\u001b[A\n",
      "Epoch: 255 | Batch: 2 | Loss 0.6163076162338257: 768it [4:49:09, 20.50s/it]\u001b[A"
     ]
    },
    {
     "name": "stdout",
     "output_type": "stream",
     "text": [
      "Epoch 255 Training Accuracy: tensor(0.7603)\n",
      "Testing Accuracy: tensor(0.5161)\n"
     ]
    },
    {
     "name": "stderr",
     "output_type": "stream",
     "text": [
      "\n",
      "Epoch: 255 | Batch: 2 | Loss 0.6163076162338257: 769it [4:49:37, 22.61s/it]\u001b[A\n",
      "Epoch: 256 | Batch: 0 | Loss 0.5693209171295166: 769it [4:49:37, 22.61s/it]\u001b[A\n",
      "Epoch: 256 | Batch: 0 | Loss 0.5693209171295166: 770it [4:50:04, 24.11s/it]\u001b[A\n",
      "Epoch: 256 | Batch: 1 | Loss 0.5625171065330505: 770it [4:50:04, 24.11s/it]\u001b[A\n",
      "Epoch: 256 | Batch: 1 | Loss 0.5625171065330505: 771it [4:50:18, 20.82s/it]\u001b[A\n",
      "Epoch: 256 | Batch: 2 | Loss 0.6383295059204102: 771it [4:50:18, 20.82s/it]\u001b[A"
     ]
    },
    {
     "name": "stdout",
     "output_type": "stream",
     "text": [
      "Epoch 256 Training Accuracy: tensor(0.7603)\n",
      "Testing Accuracy: tensor(0.5161)\n"
     ]
    },
    {
     "name": "stderr",
     "output_type": "stream",
     "text": [
      "\n",
      "Epoch: 256 | Batch: 2 | Loss 0.6383295059204102: 772it [4:50:44, 22.60s/it]\u001b[A\n",
      "Epoch: 257 | Batch: 0 | Loss 0.5833175778388977: 772it [4:50:44, 22.60s/it]\u001b[A\n",
      "Epoch: 257 | Batch: 0 | Loss 0.5833175778388977: 773it [4:51:12, 24.09s/it]\u001b[A\n",
      "Epoch: 257 | Batch: 1 | Loss 0.590900182723999: 773it [4:51:12, 24.09s/it] \u001b[A\n",
      "Epoch: 257 | Batch: 1 | Loss 0.590900182723999: 774it [4:51:25, 20.89s/it]\u001b[A\n",
      "Epoch: 257 | Batch: 2 | Loss 0.5469570159912109: 774it [4:51:25, 20.89s/it]\u001b[A"
     ]
    },
    {
     "name": "stdout",
     "output_type": "stream",
     "text": [
      "Epoch 257 Training Accuracy: tensor(0.7857)\n",
      "Testing Accuracy: tensor(0.5161)\n"
     ]
    },
    {
     "name": "stderr",
     "output_type": "stream",
     "text": [
      "\n",
      "Epoch: 257 | Batch: 2 | Loss 0.5469570159912109: 775it [4:51:54, 23.26s/it]\u001b[A\n",
      "Epoch: 258 | Batch: 0 | Loss 0.5952602624893188: 775it [4:51:54, 23.26s/it]\u001b[A\n",
      "Epoch: 258 | Batch: 0 | Loss 0.5952602624893188: 776it [4:52:22, 24.71s/it]\u001b[A\n",
      "Epoch: 258 | Batch: 1 | Loss 0.5903560519218445: 776it [4:52:22, 24.71s/it]\u001b[A\n",
      "Epoch: 258 | Batch: 1 | Loss 0.5903560519218445: 777it [4:52:34, 20.98s/it]\u001b[A\n",
      "Epoch: 258 | Batch: 2 | Loss 0.5226619243621826: 777it [4:52:34, 20.98s/it]\u001b[A"
     ]
    },
    {
     "name": "stdout",
     "output_type": "stream",
     "text": [
      "Epoch 258 Training Accuracy: tensor(0.7730)\n",
      "Testing Accuracy: tensor(0.5161)\n"
     ]
    },
    {
     "name": "stderr",
     "output_type": "stream",
     "text": [
      "\n",
      "Epoch: 258 | Batch: 2 | Loss 0.5226619243621826: 778it [4:53:02, 23.04s/it]\u001b[A\n",
      "Epoch: 259 | Batch: 0 | Loss 0.5540035963058472: 778it [4:53:02, 23.04s/it]\u001b[A\n",
      "Epoch: 259 | Batch: 0 | Loss 0.5540035963058472: 779it [4:53:29, 24.17s/it]\u001b[A\n",
      "Epoch: 259 | Batch: 1 | Loss 0.6633930206298828: 779it [4:53:29, 24.17s/it]\u001b[A\n",
      "Epoch: 259 | Batch: 1 | Loss 0.6633930206298828: 780it [4:53:42, 20.82s/it]\u001b[A\n",
      "Epoch: 259 | Batch: 2 | Loss 0.45508888363838196: 780it [4:53:42, 20.82s/it]\u001b[A"
     ]
    },
    {
     "name": "stdout",
     "output_type": "stream",
     "text": [
      "Epoch 259 Training Accuracy: tensor(0.7984)\n",
      "Testing Accuracy: tensor(0.5161)\n"
     ]
    },
    {
     "name": "stderr",
     "output_type": "stream",
     "text": [
      "\n",
      "Epoch: 259 | Batch: 2 | Loss 0.45508888363838196: 781it [4:54:10, 22.85s/it]\u001b[A\n",
      "Epoch: 260 | Batch: 0 | Loss 0.5380162000656128: 781it [4:54:10, 22.85s/it] \u001b[A\n",
      "Epoch: 260 | Batch: 0 | Loss 0.5380162000656128: 782it [4:54:37, 24.16s/it]\u001b[A\n",
      "Epoch: 260 | Batch: 1 | Loss 0.6199171543121338: 782it [4:54:37, 24.16s/it]\u001b[A\n",
      "Epoch: 260 | Batch: 1 | Loss 0.6199171543121338: 783it [4:54:50, 20.79s/it]\u001b[A\n",
      "Epoch: 260 | Batch: 2 | Loss 0.5813111662864685: 783it [4:54:50, 20.79s/it]\u001b[A"
     ]
    },
    {
     "name": "stdout",
     "output_type": "stream",
     "text": [
      "Epoch 260 Training Accuracy: tensor(0.7730)\n",
      "Testing Accuracy: tensor(0.5161)\n"
     ]
    },
    {
     "name": "stderr",
     "output_type": "stream",
     "text": [
      "\n",
      "Epoch: 260 | Batch: 2 | Loss 0.5813111662864685: 784it [4:55:17, 22.82s/it]\u001b[A\n",
      "Epoch: 261 | Batch: 0 | Loss 0.5660991668701172: 784it [4:55:17, 22.82s/it]\u001b[A\n",
      "Epoch: 261 | Batch: 0 | Loss 0.5660991668701172: 785it [4:55:46, 24.48s/it]\u001b[A\n",
      "Epoch: 261 | Batch: 1 | Loss 0.5480455160140991: 785it [4:55:46, 24.48s/it]\u001b[A\n",
      "Epoch: 261 | Batch: 1 | Loss 0.5480455160140991: 786it [4:55:58, 20.86s/it]\u001b[A\n",
      "Epoch: 261 | Batch: 2 | Loss 0.6772416830062866: 786it [4:55:58, 20.86s/it]\u001b[A"
     ]
    },
    {
     "name": "stdout",
     "output_type": "stream",
     "text": [
      "Epoch 261 Training Accuracy: tensor(0.7476)\n",
      "Testing Accuracy: tensor(0.5161)\n"
     ]
    },
    {
     "name": "stderr",
     "output_type": "stream",
     "text": [
      "\n",
      "Epoch: 261 | Batch: 2 | Loss 0.6772416830062866: 787it [4:56:26, 22.91s/it]\u001b[A\n",
      "Epoch: 262 | Batch: 0 | Loss 0.5461937785148621: 787it [4:56:26, 22.91s/it]\u001b[A\n",
      "Epoch: 262 | Batch: 0 | Loss 0.5461937785148621: 788it [4:56:56, 24.97s/it]\u001b[A\n",
      "Epoch: 262 | Batch: 1 | Loss 0.6242125630378723: 788it [4:56:56, 24.97s/it]\u001b[A\n",
      "Epoch: 262 | Batch: 1 | Loss 0.6242125630378723: 789it [4:57:12, 22.39s/it]\u001b[A\n",
      "Epoch: 262 | Batch: 2 | Loss 0.5538854598999023: 789it [4:57:12, 22.39s/it]\u001b[A"
     ]
    },
    {
     "name": "stdout",
     "output_type": "stream",
     "text": [
      "Epoch 262 Training Accuracy: tensor(0.7730)\n",
      "Testing Accuracy: tensor(0.5161)\n"
     ]
    },
    {
     "name": "stderr",
     "output_type": "stream",
     "text": [
      "\n",
      "Epoch: 262 | Batch: 2 | Loss 0.5538854598999023: 790it [4:57:41, 24.39s/it]\u001b[A\n",
      "Epoch: 263 | Batch: 0 | Loss 0.5543363690376282: 790it [4:57:41, 24.39s/it]\u001b[A\n",
      "Epoch: 263 | Batch: 0 | Loss 0.5543363690376282: 791it [4:58:07, 24.97s/it]\u001b[A\n",
      "Epoch: 263 | Batch: 1 | Loss 0.6205980777740479: 791it [4:58:07, 24.97s/it]\u001b[A\n",
      "Epoch: 263 | Batch: 1 | Loss 0.6205980777740479: 792it [4:58:20, 21.39s/it]\u001b[A\n",
      "Epoch: 263 | Batch: 2 | Loss 0.5458604097366333: 792it [4:58:20, 21.39s/it]\u001b[A"
     ]
    },
    {
     "name": "stdout",
     "output_type": "stream",
     "text": [
      "Epoch 263 Training Accuracy: tensor(0.7730)\n",
      "Testing Accuracy: tensor(0.5161)\n"
     ]
    },
    {
     "name": "stderr",
     "output_type": "stream",
     "text": [
      "\n",
      "Epoch: 263 | Batch: 2 | Loss 0.5458604097366333: 793it [4:58:48, 23.22s/it]\u001b[A\n",
      "Epoch: 264 | Batch: 0 | Loss 0.6514717936515808: 793it [4:58:48, 23.22s/it]\u001b[A\n",
      "Epoch: 264 | Batch: 0 | Loss 0.6514717936515808: 794it [4:59:17, 24.97s/it]\u001b[A\n",
      "Epoch: 264 | Batch: 1 | Loss 0.508895993232727: 794it [4:59:17, 24.97s/it] \u001b[A\n",
      "Epoch: 264 | Batch: 1 | Loss 0.508895993232727: 795it [4:59:31, 21.55s/it]\u001b[A\n",
      "Epoch: 264 | Batch: 2 | Loss 0.5786541700363159: 795it [4:59:31, 21.55s/it]\u001b[A"
     ]
    },
    {
     "name": "stdout",
     "output_type": "stream",
     "text": [
      "Epoch 264 Training Accuracy: tensor(0.7619)\n",
      "Testing Accuracy: tensor(0.5161)\n"
     ]
    },
    {
     "name": "stderr",
     "output_type": "stream",
     "text": [
      "\n",
      "Epoch: 264 | Batch: 2 | Loss 0.5786541700363159: 796it [5:00:01, 24.11s/it]\u001b[A\n",
      "Epoch: 265 | Batch: 0 | Loss 0.5888446569442749: 796it [5:00:01, 24.11s/it]\u001b[A\n",
      "Epoch: 265 | Batch: 0 | Loss 0.5888446569442749: 797it [5:00:28, 25.00s/it]\u001b[A\n",
      "Epoch: 265 | Batch: 1 | Loss 0.5713133215904236: 797it [5:00:28, 25.00s/it]\u001b[A\n",
      "Epoch: 265 | Batch: 1 | Loss 0.5713133215904236: 798it [5:00:40, 21.27s/it]\u001b[A\n",
      "Epoch: 265 | Batch: 2 | Loss 0.5796979665756226: 798it [5:00:40, 21.27s/it]\u001b[A"
     ]
    },
    {
     "name": "stdout",
     "output_type": "stream",
     "text": [
      "Epoch 265 Training Accuracy: tensor(0.7746)\n",
      "Testing Accuracy: tensor(0.5161)\n"
     ]
    },
    {
     "name": "stderr",
     "output_type": "stream",
     "text": [
      "\n",
      "Epoch: 265 | Batch: 2 | Loss 0.5796979665756226: 799it [5:01:08, 23.06s/it]\u001b[A\n",
      "Epoch: 266 | Batch: 0 | Loss 0.5443281531333923: 799it [5:01:08, 23.06s/it]\u001b[A\n",
      "Epoch: 266 | Batch: 0 | Loss 0.5443281531333923: 800it [5:01:35, 24.39s/it]\u001b[A\n",
      "Epoch: 266 | Batch: 1 | Loss 0.6031315922737122: 800it [5:01:35, 24.39s/it]\u001b[A\n",
      "Epoch: 266 | Batch: 1 | Loss 0.6031315922737122: 801it [5:01:48, 20.83s/it]\u001b[A\n",
      "Epoch: 266 | Batch: 2 | Loss 0.6059758067131042: 801it [5:01:48, 20.83s/it]\u001b[A"
     ]
    },
    {
     "name": "stdout",
     "output_type": "stream",
     "text": [
      "Epoch 266 Training Accuracy: tensor(0.7365)\n",
      "Testing Accuracy: tensor(0.5161)\n"
     ]
    },
    {
     "name": "stderr",
     "output_type": "stream",
     "text": [
      "\n",
      "Epoch: 266 | Batch: 2 | Loss 0.6059758067131042: 802it [5:02:15, 22.86s/it]\u001b[A\n",
      "Epoch: 267 | Batch: 0 | Loss 0.6126555800437927: 802it [5:02:15, 22.86s/it]\u001b[A\n",
      "Epoch: 267 | Batch: 0 | Loss 0.6126555800437927: 803it [5:02:42, 24.01s/it]\u001b[A\n",
      "Epoch: 267 | Batch: 1 | Loss 0.5469558835029602: 803it [5:02:42, 24.01s/it]\u001b[A\n",
      "Epoch: 267 | Batch: 1 | Loss 0.5469558835029602: 804it [5:02:54, 20.39s/it]\u001b[A\n",
      "Epoch: 267 | Batch: 2 | Loss 0.5785584449768066: 804it [5:02:54, 20.39s/it]\u001b[A"
     ]
    },
    {
     "name": "stdout",
     "output_type": "stream",
     "text": [
      "Epoch 267 Training Accuracy: tensor(0.7730)\n",
      "Testing Accuracy: tensor(0.5161)\n"
     ]
    },
    {
     "name": "stderr",
     "output_type": "stream",
     "text": [
      "\n",
      "Epoch: 267 | Batch: 2 | Loss 0.5785584449768066: 805it [5:03:21, 22.50s/it]\u001b[A\n",
      "Epoch: 268 | Batch: 0 | Loss 0.6169325709342957: 805it [5:03:21, 22.50s/it]\u001b[A\n",
      "Epoch: 268 | Batch: 0 | Loss 0.6169325709342957: 806it [5:03:48, 23.90s/it]\u001b[A\n",
      "Epoch: 268 | Batch: 1 | Loss 0.5572664141654968: 806it [5:03:48, 23.90s/it]\u001b[A\n",
      "Epoch: 268 | Batch: 1 | Loss 0.5572664141654968: 807it [5:04:00, 20.19s/it]\u001b[A\n",
      "Epoch: 268 | Batch: 2 | Loss 0.5463634729385376: 807it [5:04:00, 20.19s/it]\u001b[A"
     ]
    },
    {
     "name": "stdout",
     "output_type": "stream",
     "text": [
      "Epoch 268 Training Accuracy: tensor(0.7857)\n",
      "Testing Accuracy: tensor(0.5161)\n"
     ]
    },
    {
     "name": "stderr",
     "output_type": "stream",
     "text": [
      "\n",
      "Epoch: 268 | Batch: 2 | Loss 0.5463634729385376: 808it [5:04:26, 21.81s/it]\u001b[A\n",
      "Epoch: 269 | Batch: 0 | Loss 0.5341341495513916: 808it [5:04:26, 21.81s/it]\u001b[A\n",
      "Epoch: 269 | Batch: 0 | Loss 0.5341341495513916: 809it [5:04:52, 23.15s/it]\u001b[A\n",
      "Epoch: 269 | Batch: 1 | Loss 0.5985521078109741: 809it [5:04:52, 23.15s/it]\u001b[A\n",
      "Epoch: 269 | Batch: 1 | Loss 0.5985521078109741: 810it [5:05:04, 19.90s/it]\u001b[A\n",
      "Epoch: 269 | Batch: 2 | Loss 0.6346545815467834: 810it [5:05:04, 19.90s/it]\u001b[A"
     ]
    },
    {
     "name": "stdout",
     "output_type": "stream",
     "text": [
      "Epoch 269 Training Accuracy: tensor(0.7603)\n",
      "Testing Accuracy: tensor(0.5161)\n"
     ]
    },
    {
     "name": "stderr",
     "output_type": "stream",
     "text": [
      "\n",
      "Epoch: 269 | Batch: 2 | Loss 0.6346545815467834: 811it [5:05:31, 21.97s/it]\u001b[A\n",
      "Epoch: 270 | Batch: 0 | Loss 0.6267938017845154: 811it [5:05:31, 21.97s/it]\u001b[A\n",
      "Epoch: 270 | Batch: 0 | Loss 0.6267938017845154: 812it [5:05:57, 23.34s/it]\u001b[A\n",
      "Epoch: 270 | Batch: 1 | Loss 0.5911747217178345: 812it [5:05:57, 23.34s/it]\u001b[A\n",
      "Epoch: 270 | Batch: 1 | Loss 0.5911747217178345: 813it [5:06:10, 20.07s/it]\u001b[A\n",
      "Epoch: 270 | Batch: 2 | Loss 0.4523412585258484: 813it [5:06:10, 20.07s/it]\u001b[A"
     ]
    },
    {
     "name": "stdout",
     "output_type": "stream",
     "text": [
      "Epoch 270 Training Accuracy: tensor(0.7857)\n",
      "Testing Accuracy: tensor(0.5161)\n"
     ]
    },
    {
     "name": "stderr",
     "output_type": "stream",
     "text": [
      "\n",
      "Epoch: 270 | Batch: 2 | Loss 0.4523412585258484: 814it [5:06:37, 22.16s/it]\u001b[A\n",
      "Epoch: 271 | Batch: 0 | Loss 0.5815973281860352: 814it [5:06:37, 22.16s/it]\u001b[A\n",
      "Epoch: 271 | Batch: 0 | Loss 0.5815973281860352: 815it [5:07:04, 23.52s/it]\u001b[A\n",
      "Epoch: 271 | Batch: 1 | Loss 0.6028584837913513: 815it [5:07:04, 23.52s/it]\u001b[A\n",
      "Epoch: 271 | Batch: 1 | Loss 0.6028584837913513: 816it [5:07:17, 20.38s/it]\u001b[A\n",
      "Epoch: 271 | Batch: 2 | Loss 0.5229052901268005: 816it [5:07:17, 20.38s/it]\u001b[A"
     ]
    },
    {
     "name": "stdout",
     "output_type": "stream",
     "text": [
      "Epoch 271 Training Accuracy: tensor(0.7857)\n",
      "Testing Accuracy: tensor(0.4839)\n"
     ]
    },
    {
     "name": "stderr",
     "output_type": "stream",
     "text": [
      "\n",
      "Epoch: 271 | Batch: 2 | Loss 0.5229052901268005: 817it [5:07:43, 22.11s/it]\u001b[A\n",
      "Epoch: 272 | Batch: 0 | Loss 0.5769267678260803: 817it [5:07:43, 22.11s/it]\u001b[A\n",
      "Epoch: 272 | Batch: 0 | Loss 0.5769267678260803: 818it [5:08:09, 23.30s/it]\u001b[A\n",
      "Epoch: 272 | Batch: 1 | Loss 0.613234281539917: 818it [5:08:09, 23.30s/it] \u001b[A\n",
      "Epoch: 272 | Batch: 1 | Loss 0.613234281539917: 819it [5:08:21, 19.87s/it]\u001b[A\n",
      "Epoch: 272 | Batch: 2 | Loss 0.5115625858306885: 819it [5:08:21, 19.87s/it]\u001b[A"
     ]
    },
    {
     "name": "stdout",
     "output_type": "stream",
     "text": [
      "Epoch 272 Training Accuracy: tensor(0.7984)\n",
      "Testing Accuracy: tensor(0.4516)\n"
     ]
    },
    {
     "name": "stderr",
     "output_type": "stream",
     "text": [
      "\n",
      "Epoch: 272 | Batch: 2 | Loss 0.5115625858306885: 820it [5:08:48, 21.99s/it]\u001b[A\n",
      "Epoch: 273 | Batch: 0 | Loss 0.5718158483505249: 820it [5:08:48, 21.99s/it]\u001b[A\n",
      "Epoch: 273 | Batch: 0 | Loss 0.5718158483505249: 821it [5:09:15, 23.72s/it]\u001b[A\n",
      "Epoch: 273 | Batch: 1 | Loss 0.6578733325004578: 821it [5:09:15, 23.72s/it]\u001b[A\n",
      "Epoch: 273 | Batch: 1 | Loss 0.6578733325004578: 822it [5:09:28, 20.27s/it]\u001b[A\n",
      "Epoch: 273 | Batch: 2 | Loss 0.4289153218269348: 822it [5:09:28, 20.27s/it]\u001b[A"
     ]
    },
    {
     "name": "stdout",
     "output_type": "stream",
     "text": [
      "Epoch 273 Training Accuracy: tensor(0.7873)\n",
      "Testing Accuracy: tensor(0.4516)\n"
     ]
    },
    {
     "name": "stderr",
     "output_type": "stream",
     "text": [
      "\n",
      "Epoch: 273 | Batch: 2 | Loss 0.4289153218269348: 823it [5:09:54, 22.03s/it]\u001b[A\n",
      "Epoch: 274 | Batch: 0 | Loss 0.514773428440094: 823it [5:09:54, 22.03s/it] \u001b[A\n",
      "Epoch: 274 | Batch: 0 | Loss 0.514773428440094: 824it [5:10:20, 23.33s/it]\u001b[A\n",
      "Epoch: 274 | Batch: 1 | Loss 0.6536279320716858: 824it [5:10:20, 23.33s/it]\u001b[A\n",
      "Epoch: 274 | Batch: 1 | Loss 0.6536279320716858: 825it [5:10:32, 20.01s/it]\u001b[A\n",
      "Epoch: 274 | Batch: 2 | Loss 0.5612005591392517: 825it [5:10:32, 20.01s/it]\u001b[A"
     ]
    },
    {
     "name": "stdout",
     "output_type": "stream",
     "text": [
      "Epoch 274 Training Accuracy: tensor(0.7492)\n",
      "Testing Accuracy: tensor(0.4516)\n"
     ]
    },
    {
     "name": "stderr",
     "output_type": "stream",
     "text": [
      "\n",
      "Epoch: 274 | Batch: 2 | Loss 0.5612005591392517: 826it [5:10:59, 21.96s/it]\u001b[A\n",
      "Epoch: 275 | Batch: 0 | Loss 0.5855864882469177: 826it [5:10:59, 21.96s/it]\u001b[A\n",
      "Epoch: 275 | Batch: 0 | Loss 0.5855864882469177: 827it [5:11:25, 23.06s/it]\u001b[A\n",
      "Epoch: 275 | Batch: 1 | Loss 0.5847234129905701: 827it [5:11:25, 23.06s/it]\u001b[A\n",
      "Epoch: 275 | Batch: 1 | Loss 0.5847234129905701: 828it [5:11:37, 19.96s/it]\u001b[A\n",
      "Epoch: 275 | Batch: 2 | Loss 0.558010995388031: 828it [5:11:37, 19.96s/it] \u001b[A"
     ]
    },
    {
     "name": "stdout",
     "output_type": "stream",
     "text": [
      "Epoch 275 Training Accuracy: tensor(0.7746)\n",
      "Testing Accuracy: tensor(0.4516)\n"
     ]
    },
    {
     "name": "stderr",
     "output_type": "stream",
     "text": [
      "\n",
      "Epoch: 275 | Batch: 2 | Loss 0.558010995388031: 829it [5:12:04, 21.96s/it]\u001b[A\n",
      "Epoch: 276 | Batch: 0 | Loss 0.6161566376686096: 829it [5:12:04, 21.96s/it]\u001b[A\n",
      "Epoch: 276 | Batch: 0 | Loss 0.6161566376686096: 830it [5:12:31, 23.50s/it]\u001b[A\n",
      "Epoch: 276 | Batch: 1 | Loss 0.5278880000114441: 830it [5:12:31, 23.50s/it]\u001b[A\n",
      "Epoch: 276 | Batch: 1 | Loss 0.5278880000114441: 831it [5:12:43, 20.09s/it]\u001b[A\n",
      "Epoch: 276 | Batch: 2 | Loss 0.6140097975730896: 831it [5:12:43, 20.09s/it]\u001b[A"
     ]
    },
    {
     "name": "stdout",
     "output_type": "stream",
     "text": [
      "Epoch 276 Training Accuracy: tensor(0.7492)\n",
      "Testing Accuracy: tensor(0.4516)\n"
     ]
    },
    {
     "name": "stderr",
     "output_type": "stream",
     "text": [
      "\n",
      "Epoch: 276 | Batch: 2 | Loss 0.6140097975730896: 832it [5:13:11, 22.37s/it]\u001b[A\n",
      "Epoch: 277 | Batch: 0 | Loss 0.5437248945236206: 832it [5:13:11, 22.37s/it]\u001b[A\n",
      "Epoch: 277 | Batch: 0 | Loss 0.5437248945236206: 833it [5:13:37, 23.53s/it]\u001b[A\n",
      "Epoch: 277 | Batch: 1 | Loss 0.5806544423103333: 833it [5:13:37, 23.53s/it]\u001b[A\n",
      "Epoch: 277 | Batch: 1 | Loss 0.5806544423103333: 834it [5:13:50, 20.28s/it]\u001b[A\n",
      "Epoch: 277 | Batch: 2 | Loss 0.656481921672821: 834it [5:13:50, 20.28s/it] \u001b[A"
     ]
    },
    {
     "name": "stdout",
     "output_type": "stream",
     "text": [
      "Epoch 277 Training Accuracy: tensor(0.7365)\n",
      "Testing Accuracy: tensor(0.4516)\n"
     ]
    },
    {
     "name": "stderr",
     "output_type": "stream",
     "text": [
      "\n",
      "Epoch: 277 | Batch: 2 | Loss 0.656481921672821: 835it [5:14:17, 22.45s/it]\u001b[A\n",
      "Epoch: 278 | Batch: 0 | Loss 0.5959780216217041: 835it [5:14:17, 22.45s/it]\u001b[A\n",
      "Epoch: 278 | Batch: 0 | Loss 0.5959780216217041: 836it [5:14:44, 23.74s/it]\u001b[A\n",
      "Epoch: 278 | Batch: 1 | Loss 0.5720785856246948: 836it [5:14:44, 23.74s/it]\u001b[A\n",
      "Epoch: 278 | Batch: 1 | Loss 0.5720785856246948: 837it [5:14:57, 20.47s/it]\u001b[A\n",
      "Epoch: 278 | Batch: 2 | Loss 0.562163770198822: 837it [5:14:57, 20.47s/it] \u001b[A"
     ]
    },
    {
     "name": "stdout",
     "output_type": "stream",
     "text": [
      "Epoch 278 Training Accuracy: tensor(0.7492)\n",
      "Testing Accuracy: tensor(0.4516)\n"
     ]
    },
    {
     "name": "stderr",
     "output_type": "stream",
     "text": [
      "\n",
      "Epoch: 278 | Batch: 2 | Loss 0.562163770198822: 838it [5:15:24, 22.54s/it]\u001b[A\n",
      "Epoch: 279 | Batch: 0 | Loss 0.5701920986175537: 838it [5:15:24, 22.54s/it]\u001b[A\n",
      "Epoch: 279 | Batch: 0 | Loss 0.5701920986175537: 839it [5:15:51, 23.69s/it]\u001b[A\n",
      "Epoch: 279 | Batch: 1 | Loss 0.5533128380775452: 839it [5:15:51, 23.69s/it]\u001b[A\n",
      "Epoch: 279 | Batch: 1 | Loss 0.5533128380775452: 840it [5:16:04, 20.45s/it]\u001b[A\n",
      "Epoch: 279 | Batch: 2 | Loss 0.6548951268196106: 840it [5:16:04, 20.45s/it]\u001b[A"
     ]
    },
    {
     "name": "stdout",
     "output_type": "stream",
     "text": [
      "Epoch 279 Training Accuracy: tensor(0.7365)\n",
      "Testing Accuracy: tensor(0.4516)\n"
     ]
    },
    {
     "name": "stderr",
     "output_type": "stream",
     "text": [
      "\n",
      "Epoch: 279 | Batch: 2 | Loss 0.6548951268196106: 841it [5:16:31, 22.52s/it]\u001b[A\n",
      "Epoch: 280 | Batch: 0 | Loss 0.5826259255409241: 841it [5:16:31, 22.52s/it]\u001b[A\n",
      "Epoch: 280 | Batch: 0 | Loss 0.5826259255409241: 842it [5:16:58, 23.85s/it]\u001b[A\n",
      "Epoch: 280 | Batch: 1 | Loss 0.581043004989624: 842it [5:16:58, 23.85s/it] \u001b[A\n",
      "Epoch: 280 | Batch: 1 | Loss 0.581043004989624: 843it [5:17:10, 20.38s/it]\u001b[A\n",
      "Epoch: 280 | Batch: 2 | Loss 0.5667789578437805: 843it [5:17:10, 20.38s/it]\u001b[A"
     ]
    },
    {
     "name": "stdout",
     "output_type": "stream",
     "text": [
      "Epoch 280 Training Accuracy: tensor(0.7603)\n",
      "Testing Accuracy: tensor(0.4839)\n"
     ]
    },
    {
     "name": "stderr",
     "output_type": "stream",
     "text": [
      "\n",
      "Epoch: 280 | Batch: 2 | Loss 0.5667789578437805: 844it [5:17:37, 22.34s/it]\u001b[A\n",
      "Epoch: 281 | Batch: 0 | Loss 0.5921370387077332: 844it [5:17:37, 22.34s/it]\u001b[A\n",
      "Epoch: 281 | Batch: 0 | Loss 0.5921370387077332: 845it [5:18:03, 23.58s/it]\u001b[A\n",
      "Epoch: 281 | Batch: 1 | Loss 0.5922061800956726: 845it [5:18:04, 23.58s/it]\u001b[A\n",
      "Epoch: 281 | Batch: 1 | Loss 0.5922061800956726: 846it [5:18:16, 20.26s/it]\u001b[A\n",
      "Epoch: 281 | Batch: 2 | Loss 0.5216274857521057: 846it [5:18:16, 20.26s/it]\u001b[A"
     ]
    },
    {
     "name": "stdout",
     "output_type": "stream",
     "text": [
      "Epoch 281 Training Accuracy: tensor(0.7730)\n",
      "Testing Accuracy: tensor(0.5161)\n"
     ]
    },
    {
     "name": "stderr",
     "output_type": "stream",
     "text": [
      "\n",
      "Epoch: 281 | Batch: 2 | Loss 0.5216274857521057: 847it [5:18:42, 22.06s/it]\u001b[A\n",
      "Epoch: 282 | Batch: 0 | Loss 0.5916345119476318: 847it [5:18:42, 22.06s/it]\u001b[A\n",
      "Epoch: 282 | Batch: 0 | Loss 0.5916345119476318: 848it [5:19:09, 23.45s/it]\u001b[A\n",
      "Epoch: 282 | Batch: 1 | Loss 0.5581334829330444: 848it [5:19:09, 23.45s/it]\u001b[A\n",
      "Epoch: 282 | Batch: 1 | Loss 0.5581334829330444: 849it [5:19:23, 20.48s/it]\u001b[A\n",
      "Epoch: 282 | Batch: 2 | Loss 0.5998188853263855: 849it [5:19:23, 20.48s/it]\u001b[A"
     ]
    },
    {
     "name": "stdout",
     "output_type": "stream",
     "text": [
      "Epoch 282 Training Accuracy: tensor(0.7603)\n",
      "Testing Accuracy: tensor(0.5161)\n"
     ]
    },
    {
     "name": "stderr",
     "output_type": "stream",
     "text": [
      "\n",
      "Epoch: 282 | Batch: 2 | Loss 0.5998188853263855: 850it [5:19:50, 22.56s/it]\u001b[A\n",
      "Epoch: 283 | Batch: 0 | Loss 0.6040266752243042: 850it [5:19:50, 22.56s/it]\u001b[A\n",
      "Epoch: 283 | Batch: 0 | Loss 0.6040266752243042: 851it [5:20:17, 23.79s/it]\u001b[A\n",
      "Epoch: 283 | Batch: 1 | Loss 0.5545334219932556: 851it [5:20:17, 23.79s/it]\u001b[A\n",
      "Epoch: 283 | Batch: 1 | Loss 0.5545334219932556: 852it [5:20:29, 20.36s/it]\u001b[A\n",
      "Epoch: 283 | Batch: 2 | Loss 0.5811036229133606: 852it [5:20:29, 20.36s/it]\u001b[A"
     ]
    },
    {
     "name": "stdout",
     "output_type": "stream",
     "text": [
      "Epoch 283 Training Accuracy: tensor(0.7381)\n",
      "Testing Accuracy: tensor(0.4839)\n"
     ]
    },
    {
     "name": "stderr",
     "output_type": "stream",
     "text": [
      "\n",
      "Epoch: 283 | Batch: 2 | Loss 0.5811036229133606: 853it [5:20:56, 22.33s/it]\u001b[A\n",
      "Epoch: 284 | Batch: 0 | Loss 0.601758599281311: 853it [5:20:56, 22.33s/it] \u001b[A\n",
      "Epoch: 284 | Batch: 0 | Loss 0.601758599281311: 854it [5:21:22, 23.38s/it]\u001b[A\n",
      "Epoch: 284 | Batch: 1 | Loss 0.5841144919395447: 854it [5:21:22, 23.38s/it]\u001b[A\n",
      "Epoch: 284 | Batch: 1 | Loss 0.5841144919395447: 855it [5:21:34, 20.04s/it]\u001b[A\n",
      "Epoch: 284 | Batch: 2 | Loss 0.5228011012077332: 855it [5:21:34, 20.04s/it]\u001b[A"
     ]
    },
    {
     "name": "stdout",
     "output_type": "stream",
     "text": [
      "Epoch 284 Training Accuracy: tensor(0.7508)\n",
      "Testing Accuracy: tensor(0.5161)\n"
     ]
    },
    {
     "name": "stderr",
     "output_type": "stream",
     "text": [
      "\n",
      "Epoch: 284 | Batch: 2 | Loss 0.5228011012077332: 856it [5:22:00, 21.99s/it]\u001b[A\n",
      "Epoch: 285 | Batch: 0 | Loss 0.5156458616256714: 856it [5:22:00, 21.99s/it]\u001b[A\n",
      "Epoch: 285 | Batch: 0 | Loss 0.5156458616256714: 857it [5:22:28, 23.52s/it]\u001b[A\n",
      "Epoch: 285 | Batch: 1 | Loss 0.5935533046722412: 857it [5:22:28, 23.52s/it]\u001b[A\n",
      "Epoch: 285 | Batch: 1 | Loss 0.5935533046722412: 858it [5:22:40, 20.14s/it]\u001b[A\n",
      "Epoch: 285 | Batch: 2 | Loss 0.6879653334617615: 858it [5:22:40, 20.14s/it]\u001b[A"
     ]
    },
    {
     "name": "stdout",
     "output_type": "stream",
     "text": [
      "Epoch 285 Training Accuracy: tensor(0.7127)\n",
      "Testing Accuracy: tensor(0.5161)\n"
     ]
    },
    {
     "name": "stderr",
     "output_type": "stream",
     "text": [
      "\n",
      "Epoch: 285 | Batch: 2 | Loss 0.6879653334617615: 859it [5:23:07, 22.34s/it]\u001b[A\n",
      "Epoch: 286 | Batch: 0 | Loss 0.6225842833518982: 859it [5:23:07, 22.34s/it]\u001b[A\n",
      "Epoch: 286 | Batch: 0 | Loss 0.6225842833518982: 860it [5:23:35, 23.98s/it]\u001b[A\n",
      "Epoch: 286 | Batch: 1 | Loss 0.5501328706741333: 860it [5:23:35, 23.98s/it]\u001b[A\n",
      "Epoch: 286 | Batch: 1 | Loss 0.5501328706741333: 861it [5:23:48, 20.50s/it]\u001b[A\n",
      "Epoch: 286 | Batch: 2 | Loss 0.5491178035736084: 861it [5:23:48, 20.50s/it]\u001b[A"
     ]
    },
    {
     "name": "stdout",
     "output_type": "stream",
     "text": [
      "Epoch 286 Training Accuracy: tensor(0.7857)\n",
      "Testing Accuracy: tensor(0.5161)\n"
     ]
    },
    {
     "name": "stderr",
     "output_type": "stream",
     "text": [
      "\n",
      "Epoch: 286 | Batch: 2 | Loss 0.5491178035736084: 862it [5:24:16, 22.81s/it]\u001b[A\n",
      "Epoch: 287 | Batch: 0 | Loss 0.5684698224067688: 862it [5:24:16, 22.81s/it]\u001b[A\n",
      "Epoch: 287 | Batch: 0 | Loss 0.5684698224067688: 863it [5:24:44, 24.37s/it]\u001b[A\n",
      "Epoch: 287 | Batch: 1 | Loss 0.6218054890632629: 863it [5:24:44, 24.37s/it]\u001b[A\n",
      "Epoch: 287 | Batch: 1 | Loss 0.6218054890632629: 864it [5:24:56, 20.83s/it]\u001b[A\n",
      "Epoch: 287 | Batch: 2 | Loss 0.5100613832473755: 864it [5:24:56, 20.83s/it]\u001b[A"
     ]
    },
    {
     "name": "stdout",
     "output_type": "stream",
     "text": [
      "Epoch 287 Training Accuracy: tensor(0.7984)\n",
      "Testing Accuracy: tensor(0.4839)\n"
     ]
    },
    {
     "name": "stderr",
     "output_type": "stream",
     "text": [
      "\n",
      "Epoch: 287 | Batch: 2 | Loss 0.5100613832473755: 865it [5:25:24, 22.88s/it]\u001b[A\n",
      "Epoch: 288 | Batch: 0 | Loss 0.5380898714065552: 865it [5:25:24, 22.88s/it]\u001b[A\n",
      "Epoch: 288 | Batch: 0 | Loss 0.5380898714065552: 866it [5:25:50, 23.89s/it]\u001b[A\n",
      "Epoch: 288 | Batch: 1 | Loss 0.5716829299926758: 866it [5:25:50, 23.89s/it]\u001b[A\n",
      "Epoch: 288 | Batch: 1 | Loss 0.5716829299926758: 867it [5:26:03, 20.43s/it]\u001b[A\n",
      "Epoch: 288 | Batch: 2 | Loss 0.6864984631538391: 867it [5:26:03, 20.43s/it]\u001b[A"
     ]
    },
    {
     "name": "stdout",
     "output_type": "stream",
     "text": [
      "Epoch 288 Training Accuracy: tensor(0.7476)\n",
      "Testing Accuracy: tensor(0.4516)\n"
     ]
    },
    {
     "name": "stderr",
     "output_type": "stream",
     "text": [
      "\n",
      "Epoch: 288 | Batch: 2 | Loss 0.6864984631538391: 868it [5:26:29, 22.38s/it]\u001b[A\n",
      "Epoch: 289 | Batch: 0 | Loss 0.5460981726646423: 868it [5:26:29, 22.38s/it]\u001b[A\n",
      "Epoch: 289 | Batch: 0 | Loss 0.5460981726646423: 869it [5:26:56, 23.49s/it]\u001b[A\n",
      "Epoch: 289 | Batch: 1 | Loss 0.637513279914856: 869it [5:26:56, 23.49s/it] \u001b[A\n",
      "Epoch: 289 | Batch: 1 | Loss 0.637513279914856: 870it [5:27:08, 20.06s/it]\u001b[A\n",
      "Epoch: 289 | Batch: 2 | Loss 0.5248803496360779: 870it [5:27:08, 20.06s/it]\u001b[A"
     ]
    },
    {
     "name": "stdout",
     "output_type": "stream",
     "text": [
      "Epoch 289 Training Accuracy: tensor(0.7730)\n",
      "Testing Accuracy: tensor(0.5161)\n"
     ]
    },
    {
     "name": "stderr",
     "output_type": "stream",
     "text": [
      "\n",
      "Epoch: 289 | Batch: 2 | Loss 0.5248803496360779: 871it [5:27:34, 21.99s/it]\u001b[A\n",
      "Epoch: 290 | Batch: 0 | Loss 0.5606300830841064: 871it [5:27:34, 21.99s/it]\u001b[A\n",
      "Epoch: 290 | Batch: 0 | Loss 0.5606300830841064: 872it [5:28:00, 23.28s/it]\u001b[A\n",
      "Epoch: 290 | Batch: 1 | Loss 0.5739246606826782: 872it [5:28:00, 23.28s/it]\u001b[A\n",
      "Epoch: 290 | Batch: 1 | Loss 0.5739246606826782: 873it [5:28:12, 19.86s/it]\u001b[A\n",
      "Epoch: 290 | Batch: 2 | Loss 0.630302906036377: 873it [5:28:12, 19.86s/it] \u001b[A"
     ]
    },
    {
     "name": "stdout",
     "output_type": "stream",
     "text": [
      "Epoch 290 Training Accuracy: tensor(0.7603)\n",
      "Testing Accuracy: tensor(0.5161)\n"
     ]
    },
    {
     "name": "stderr",
     "output_type": "stream",
     "text": [
      "\n",
      "Epoch: 290 | Batch: 2 | Loss 0.630302906036377: 874it [5:28:39, 21.90s/it]\u001b[A\n",
      "Epoch: 291 | Batch: 0 | Loss 0.5784175992012024: 874it [5:28:39, 21.90s/it]\u001b[A\n",
      "Epoch: 291 | Batch: 0 | Loss 0.5784175992012024: 875it [5:29:05, 23.21s/it]\u001b[A\n",
      "Epoch: 291 | Batch: 1 | Loss 0.5950508117675781: 875it [5:29:05, 23.21s/it]\u001b[A\n",
      "Epoch: 291 | Batch: 1 | Loss 0.5950508117675781: 876it [5:29:17, 19.90s/it]\u001b[A\n",
      "Epoch: 291 | Batch: 2 | Loss 0.5454158186912537: 876it [5:29:17, 19.90s/it]\u001b[A"
     ]
    },
    {
     "name": "stdout",
     "output_type": "stream",
     "text": [
      "Epoch 291 Training Accuracy: tensor(0.7730)\n",
      "Testing Accuracy: tensor(0.4839)\n"
     ]
    },
    {
     "name": "stderr",
     "output_type": "stream",
     "text": [
      "\n",
      "Epoch: 291 | Batch: 2 | Loss 0.5454158186912537: 877it [5:29:45, 22.22s/it]\u001b[A\n",
      "Epoch: 292 | Batch: 0 | Loss 0.5336253046989441: 877it [5:29:45, 22.22s/it]\u001b[A\n",
      "Epoch: 292 | Batch: 0 | Loss 0.5336253046989441: 878it [5:30:12, 23.65s/it]\u001b[A\n",
      "Epoch: 292 | Batch: 1 | Loss 0.6286837458610535: 878it [5:30:12, 23.65s/it]\u001b[A\n",
      "Epoch: 292 | Batch: 1 | Loss 0.6286837458610535: 879it [5:30:25, 20.32s/it]\u001b[A\n",
      "Epoch: 292 | Batch: 2 | Loss 0.571686327457428: 879it [5:30:25, 20.32s/it] \u001b[A"
     ]
    },
    {
     "name": "stdout",
     "output_type": "stream",
     "text": [
      "Epoch 292 Training Accuracy: tensor(0.7492)\n",
      "Testing Accuracy: tensor(0.5161)\n"
     ]
    },
    {
     "name": "stderr",
     "output_type": "stream",
     "text": [
      "\n",
      "Epoch: 292 | Batch: 2 | Loss 0.571686327457428: 880it [5:30:51, 22.21s/it]\u001b[A\n",
      "Epoch: 293 | Batch: 0 | Loss 0.6213136911392212: 880it [5:30:51, 22.21s/it]\u001b[A\n",
      "Epoch: 293 | Batch: 0 | Loss 0.6213136911392212: 881it [5:31:18, 23.63s/it]\u001b[A\n",
      "Epoch: 293 | Batch: 1 | Loss 0.5973870158195496: 881it [5:31:18, 23.63s/it]\u001b[A\n",
      "Epoch: 293 | Batch: 1 | Loss 0.5973870158195496: 882it [5:31:30, 20.15s/it]\u001b[A\n",
      "Epoch: 293 | Batch: 2 | Loss 0.4550740718841553: 882it [5:31:30, 20.15s/it]\u001b[A"
     ]
    },
    {
     "name": "stdout",
     "output_type": "stream",
     "text": [
      "Epoch 293 Training Accuracy: tensor(0.7873)\n",
      "Testing Accuracy: tensor(0.5161)\n"
     ]
    },
    {
     "name": "stderr",
     "output_type": "stream",
     "text": [
      "\n",
      "Epoch: 293 | Batch: 2 | Loss 0.4550740718841553: 883it [5:31:57, 22.22s/it]\u001b[A\n",
      "Epoch: 294 | Batch: 0 | Loss 0.5390585660934448: 883it [5:31:57, 22.22s/it]\u001b[A\n",
      "Epoch: 294 | Batch: 0 | Loss 0.5390585660934448: 884it [5:32:24, 23.53s/it]\u001b[A\n",
      "Epoch: 294 | Batch: 1 | Loss 0.6368970274925232: 884it [5:32:24, 23.53s/it]\u001b[A\n",
      "Epoch: 294 | Batch: 1 | Loss 0.6368970274925232: 885it [5:32:36, 20.10s/it]\u001b[A\n",
      "Epoch: 294 | Batch: 2 | Loss 0.5460191369056702: 885it [5:32:36, 20.10s/it]\u001b[A"
     ]
    },
    {
     "name": "stdout",
     "output_type": "stream",
     "text": [
      "Epoch 294 Training Accuracy: tensor(0.7730)\n",
      "Testing Accuracy: tensor(0.4839)\n"
     ]
    },
    {
     "name": "stderr",
     "output_type": "stream",
     "text": [
      "\n",
      "Epoch: 294 | Batch: 2 | Loss 0.5460191369056702: 886it [5:33:03, 22.11s/it]\u001b[A\n",
      "Epoch: 295 | Batch: 0 | Loss 0.6249894499778748: 886it [5:33:03, 22.11s/it]\u001b[A\n",
      "Epoch: 295 | Batch: 0 | Loss 0.6249894499778748: 887it [5:33:29, 23.50s/it]\u001b[A\n",
      "Epoch: 295 | Batch: 1 | Loss 0.5424738526344299: 887it [5:33:29, 23.50s/it]\u001b[A\n",
      "Epoch: 295 | Batch: 1 | Loss 0.5424738526344299: 888it [5:33:41, 19.99s/it]\u001b[A\n",
      "Epoch: 295 | Batch: 2 | Loss 0.5578521490097046: 888it [5:33:41, 19.99s/it]\u001b[A"
     ]
    },
    {
     "name": "stdout",
     "output_type": "stream",
     "text": [
      "Epoch 295 Training Accuracy: tensor(0.7730)\n",
      "Testing Accuracy: tensor(0.4839)\n"
     ]
    },
    {
     "name": "stderr",
     "output_type": "stream",
     "text": [
      "\n",
      "Epoch: 295 | Batch: 2 | Loss 0.5578521490097046: 889it [5:34:08, 22.04s/it]\u001b[A\n",
      "Epoch: 296 | Batch: 0 | Loss 0.5828651189804077: 889it [5:34:08, 22.04s/it]\u001b[A\n",
      "Epoch: 296 | Batch: 0 | Loss 0.5828651189804077: 890it [5:34:34, 23.34s/it]\u001b[A\n",
      "Epoch: 296 | Batch: 1 | Loss 0.6093753576278687: 890it [5:34:34, 23.34s/it]\u001b[A\n",
      "Epoch: 296 | Batch: 1 | Loss 0.6093753576278687: 891it [5:34:46, 19.89s/it]\u001b[A\n",
      "Epoch: 296 | Batch: 2 | Loss 0.5054653882980347: 891it [5:34:46, 19.89s/it]\u001b[A"
     ]
    },
    {
     "name": "stdout",
     "output_type": "stream",
     "text": [
      "Epoch 296 Training Accuracy: tensor(0.7857)\n",
      "Testing Accuracy: tensor(0.4516)\n"
     ]
    },
    {
     "name": "stderr",
     "output_type": "stream",
     "text": [
      "\n",
      "Epoch: 296 | Batch: 2 | Loss 0.5054653882980347: 892it [5:35:13, 21.83s/it]\u001b[A\n",
      "Epoch: 297 | Batch: 0 | Loss 0.5487783551216125: 892it [5:35:13, 21.83s/it]\u001b[A\n",
      "Epoch: 297 | Batch: 0 | Loss 0.5487783551216125: 893it [5:35:39, 23.16s/it]\u001b[A\n",
      "Epoch: 297 | Batch: 1 | Loss 0.6008480787277222: 893it [5:35:39, 23.16s/it]\u001b[A\n",
      "Epoch: 297 | Batch: 1 | Loss 0.6008480787277222: 894it [5:35:51, 19.81s/it]\u001b[A\n",
      "Epoch: 297 | Batch: 2 | Loss 0.597957193851471: 894it [5:35:51, 19.81s/it] \u001b[A"
     ]
    },
    {
     "name": "stdout",
     "output_type": "stream",
     "text": [
      "Epoch 297 Training Accuracy: tensor(0.7619)\n",
      "Testing Accuracy: tensor(0.4516)\n"
     ]
    },
    {
     "name": "stderr",
     "output_type": "stream",
     "text": [
      "\n",
      "Epoch: 297 | Batch: 2 | Loss 0.597957193851471: 895it [5:36:17, 21.86s/it]\u001b[A\n",
      "Epoch: 298 | Batch: 0 | Loss 0.596200168132782: 895it [5:36:17, 21.86s/it]\u001b[A\n",
      "Epoch: 298 | Batch: 0 | Loss 0.596200168132782: 896it [5:36:43, 22.99s/it]\u001b[A\n",
      "Epoch: 298 | Batch: 1 | Loss 0.5712554454803467: 896it [5:36:43, 22.99s/it]\u001b[A\n",
      "Epoch: 298 | Batch: 1 | Loss 0.5712554454803467: 897it [5:36:55, 19.80s/it]\u001b[A\n",
      "Epoch: 298 | Batch: 2 | Loss 0.5614914894104004: 897it [5:36:55, 19.80s/it]\u001b[A"
     ]
    },
    {
     "name": "stdout",
     "output_type": "stream",
     "text": [
      "Epoch 298 Training Accuracy: tensor(0.7619)\n",
      "Testing Accuracy: tensor(0.4516)\n"
     ]
    },
    {
     "name": "stderr",
     "output_type": "stream",
     "text": [
      "\n",
      "Epoch: 298 | Batch: 2 | Loss 0.5614914894104004: 898it [5:37:22, 21.97s/it]\u001b[A\n",
      "Epoch: 299 | Batch: 0 | Loss 0.5858045220375061: 898it [5:37:22, 21.97s/it]\u001b[A\n",
      "Epoch: 299 | Batch: 0 | Loss 0.5858045220375061: 899it [5:37:50, 23.53s/it]\u001b[A\n",
      "Epoch: 299 | Batch: 1 | Loss 0.6391947269439697: 899it [5:37:50, 23.53s/it]\u001b[A\n",
      "Epoch: 299 | Batch: 1 | Loss 0.6391947269439697: 900it [5:38:03, 20.34s/it]\u001b[A\n",
      "Epoch: 299 | Batch: 2 | Loss 0.43938326835632324: 900it [5:38:03, 20.34s/it]\u001b[A"
     ]
    },
    {
     "name": "stdout",
     "output_type": "stream",
     "text": [
      "Epoch 299 Training Accuracy: tensor(0.7746)\n"
     ]
    },
    {
     "name": "stderr",
     "output_type": "stream",
     "text": [
      "Epoch: 299 | Batch: 2 | Loss 0.43938326835632324: 900it [5:38:03, 22.54s/it]"
     ]
    },
    {
     "name": "stdout",
     "output_type": "stream",
     "text": [
      "Testing Accuracy: tensor(0.4516)\n"
     ]
    },
    {
     "name": "stderr",
     "output_type": "stream",
     "text": [
      "\n"
     ]
    }
   ],
   "source": [
    "n_epochs=300\n",
    "optimizer = torch.optim.Adam(lr=0.005, params=model_2.parameters())\n",
    "criterion = nn.BCELoss()\n",
    "#criterion = torch.nn.CrossEntropyLoss()\n",
    "\n",
    "pbar = tqdm(total=len(rp_trainloader), leave=True)\n",
    "if torch.cuda.is_available():\n",
    "    devname = \"cuda\"\n",
    "else:\n",
    "    devname = \"cpu\"\n",
    "device = torch.device(devname)\n",
    "model_2.train()\n",
    "model_2.to(device)\n",
    "pbar = tqdm(total=len(rp_trainloader), leave=True)\n",
    "\n",
    "file_name=\"QRNN_model_12113_rp\"\n",
    "max_val=0\n",
    "for epoch in range(n_epochs):\n",
    "    acc=0\n",
    "    for batch, (feature, label) in enumerate(rp_trainloader):\n",
    "        optimizer.zero_grad()\n",
    "        feature, label = feature.to(device), label.to(device)\n",
    "        preds = model_2(feature).squeeze(1)\n",
    "        loss = criterion(preds, label.float())\n",
    "        preds = preds.ravel()\n",
    "        label = label.ravel()\n",
    "        acc += binary_accuracy(preds, label)\n",
    "\n",
    "        loss.backward()\n",
    "        optimizer.step()\n",
    "        pbar.update()\n",
    "        pbar.desc = f\"Epoch: {epoch} | Batch: {batch} | Loss {loss.cpu().detach()}\"\n",
    "        pbar.refresh()\n",
    "    acc=acc/(batch+1)\n",
    "    print('Epoch',epoch,'Training Accuracy:', acc)\n",
    "    feature, label=next(iter(rp_testloader))\n",
    "    preds = model_2(feature).squeeze(1)\n",
    "    loss = criterion(preds, label.float())\n",
    "    preds = preds.ravel()\n",
    "    label = label.ravel()\n",
    "    acc1 = binary_accuracy(preds, label)\n",
    "    print('Testing Accuracy:', acc1)\n",
    "    if max_val< (acc1+acc):\n",
    "        max_val=acc1+acc\n",
    "        torch.save(model_2.state_dict(),file_name)\n",
    "pbar.close()"
   ]
  },
  {
   "cell_type": "code",
   "execution_count": 21,
   "metadata": {
    "colab": {
     "base_uri": "https://localhost:8080/"
    },
    "id": "q1PGwotUnK9n",
    "outputId": "37ffd666-39d3-44ca-a207-2ec6091f569b"
   },
   "outputs": [
    {
     "data": {
      "text/plain": [
       "QRNN_qiskit(\n",
       "  (QRNN_models): TorchConnector()\n",
       ")"
      ]
     },
     "execution_count": 21,
     "metadata": {},
     "output_type": "execute_result"
    }
   ],
   "source": [
    "model_2.load_state_dict(torch.load(file_name))\n",
    "model_2.eval()"
   ]
  },
  {
   "cell_type": "code",
   "execution_count": 22,
   "metadata": {
    "colab": {
     "base_uri": "https://localhost:8080/"
    },
    "id": "wI3LtDh4SPUY",
    "outputId": "fdc1e4f6-6855-403c-91f6-66036b63c733"
   },
   "outputs": [
    {
     "name": "stdout",
     "output_type": "stream",
     "text": [
      "Test Accuracy: 0.6451612 $\\pm$ 5.9604645e-08\n"
     ]
    }
   ],
   "source": [
    "acc=[]\n",
    "for i in range(100):\n",
    "    preds = []\n",
    "    labels = []\n",
    "    #pbar = tqdm(total=len(mc_testloader), leave=True)\n",
    "    device = torch.device(\"cuda\" if torch.cuda.is_available() else \"cpu\")\n",
    "    model_2.eval()\n",
    "    model_2.to(device)\n",
    "    for batch, (feature, label) in enumerate(rp_testloader):\n",
    "      feature, label = feature.to(device), label.to(device)\n",
    "      with torch.no_grad():\n",
    "        predictions = model_2(feature.float())\n",
    "        preds.append(predictions.cpu().numpy())\n",
    "        labels.append(label.cpu().numpy())\n",
    "      #pbar.update()\n",
    "      #pbar.desc = f\"Batch: {batch}\"\n",
    "      #pbar.refresh()\n",
    "    #pbar.close()\n",
    "    preds = torch.tensor(preds).ravel()\n",
    "    # preds = np.array([1 if pred>=0.5 else 0 for pred in preds])\n",
    "    labels = torch.tensor(labels).ravel()\n",
    "    #acc = (preds == labels).sum() / len(preds)\n",
    "    acc.append(binary_accuracy(preds, labels))\n",
    "print(\"Test Accuracy:\",np.mean(acc),r\"$\\pm$\",np.std(acc))"
   ]
  },
  {
   "cell_type": "code",
   "execution_count": 23,
   "metadata": {
    "colab": {
     "base_uri": "https://localhost:8080/"
    },
    "id": "EubUCWCGSfLV",
    "outputId": "adeb0f39-ce9f-4e4f-fad7-8657eb582063"
   },
   "outputs": [
    {
     "name": "stdout",
     "output_type": "stream",
     "text": [
      "Test Accuracy: 0.7702703 with standard error: 0.0\n"
     ]
    }
   ],
   "source": [
    "acc=[]\n",
    "for i in range(100):\n",
    "    preds = []\n",
    "    labels = []\n",
    "    #pbar = tqdm(total=len(rp_trainloader), leave=True)\n",
    "    device = torch.device(\"cuda\" if torch.cuda.is_available() else \"cpu\")\n",
    "    model_2.eval()\n",
    "    model_2.to(device)\n",
    "    for batch, (feature, label) in enumerate(rp_trainloader):\n",
    "        feature, label = feature.to(device), label.to(device)\n",
    "        with torch.no_grad():\n",
    "            predictions = model_2(feature)\n",
    "            preds=preds+list(predictions.cpu().numpy())\n",
    "            labels=labels+list(label.cpu().numpy())\n",
    "      #pbar.update()\n",
    "      #pbar.desc = f\"Batch: {batch}\"\n",
    "      #pbar.refresh()\n",
    "    #pbar.close()\n",
    "    preds = torch.tensor(preds).ravel()\n",
    "    # preds = np.array([1 if pred>=0.5 else 0 for pred in preds])\n",
    "    labels = torch.tensor(labels).ravel()\n",
    "    #acc = (preds == labels).sum() / len(preds)\n",
    "    acc.append(binary_accuracy(preds, labels))\n",
    "print(\"Test Accuracy:\",np.mean(acc),\"with standard error:\",np.std(acc))"
   ]
  },
  {
   "cell_type": "markdown",
   "metadata": {
    "jp-MarkdownHeadingCollapsed": true,
    "tags": []
   },
   "source": [
    "# Simple TF-IDF vectorization"
   ]
  },
  {
   "cell_type": "code",
   "execution_count": 8,
   "metadata": {
    "tags": []
   },
   "outputs": [],
   "source": [
    "from sklearn.feature_extraction.text import TfidfVectorizer\n",
    "from torch.utils.data import DataLoader, Dataset\n",
    "from tensorflow import compat\n",
    "from sklearn.decomposition import PCA"
   ]
  },
  {
   "cell_type": "code",
   "execution_count": 9,
   "metadata": {
    "tags": []
   },
   "outputs": [],
   "source": [
    "# Custom PyTorch Dataset for data loading preprocessed text\n",
    "# Input data must be a DataFrame in a particular format. For text one column must be text and other must be label\n",
    "\n",
    "class txt2vecset(Dataset):\n",
    "    def __init__(self, data_df, max_seq_length=50, vectorizer=None, pca=None):\n",
    "        self.df = data_df\n",
    "        self.max_seq_length = max_seq_length\n",
    "        self.pca = pca\n",
    "        if vectorizer is None:\n",
    "            self.vectorizer = TfidfVectorizer().fit(self.df['text'])\n",
    "        else:\n",
    "            self.vectorizer = vectorizer\n",
    "        self._df2vec()\n",
    "\n",
    "    def _df2vec(self):\n",
    "        self.X = self.vectorizer.transform(self.df[\"text\"]).toarray()\n",
    "        if self.pca is None:\n",
    "            self.pca = PCA(self.max_seq_length).fit(self.X)\n",
    "        self.X = self.pca.transform(self.X)\n",
    "\n",
    "    def __len__(self):\n",
    "        return self.df.shape[0]\n",
    "\n",
    "    def __getitem__(self, idx):\n",
    "        data = self.df.iloc[idx]\n",
    "        label = data['label']\n",
    "        feature = self.X[idx, :]\n",
    "        feature, label = torch.acos(torch.tensor(feature)), torch.tensor(label)\n",
    "        return feature.squeeze(), label.squeeze()\n",
    "    \n",
    "    def retattrs(self):\n",
    "        return self.vectorizer, self.pca"
   ]
  },
  {
   "cell_type": "markdown",
   "metadata": {
    "jp-MarkdownHeadingCollapsed": true,
    "tags": []
   },
   "source": [
    "# Model trainer/tester and other helpers"
   ]
  },
  {
   "cell_type": "code",
   "execution_count": 10,
   "metadata": {
    "tags": []
   },
   "outputs": [],
   "source": [
    "def binary_accuracy(preds, y):\n",
    "    \"\"\"\n",
    "    Returns accuracy per batch, i.e. if you get 8/10 right, this returns 0.8, NOT 8\n",
    "    \"\"\"\n",
    "\n",
    "    #round predictions to the closest integer\n",
    "    rounded_preds = (torch.round(torch.sign(preds-0.5))+1)//2\n",
    "    correct = (rounded_preds == y).float() #convert into float for division\n",
    "    acc = correct.sum() / len(correct)\n",
    "    return acc\n",
    "\n",
    "def model_trainer(model, n_epochs, trainloader):\n",
    "    optimizer = torch.optim.Adam(lr=0.005, params=model.parameters())\n",
    "    criterion = nn.BCELoss()\n",
    "    #criterion = torch.nn.CrossEntropyLoss()\n",
    "    pbar = tqdm(total=len(trainloader), leave=True)\n",
    "    if torch.cuda.is_available():\n",
    "        devname = \"cuda\"\n",
    "    else:\n",
    "        devname = \"cpu\"\n",
    "    device = torch.device(devname)\n",
    "    model.train()\n",
    "    model.to(device)\n",
    "    max_val=0\n",
    "    losslst = []\n",
    "    for epoch in range(n_epochs):\n",
    "        acc=0\n",
    "        pbar = tqdm(total=len(trainloader), leave=True)\n",
    "        for batch, (feature, label) in enumerate(trainloader):\n",
    "            optimizer.zero_grad()\n",
    "            feature, label = feature.to(device), label.to(device)\n",
    "            preds = model(feature.float())\n",
    "            loss = criterion(preds.flatten(), label.float())\n",
    "            preds = preds.ravel()\n",
    "            label = label.ravel()\n",
    "            acc += binary_accuracy(preds, label)\n",
    "\n",
    "            loss.backward()\n",
    "            optimizer.step()\n",
    "            pbar.update()\n",
    "            pbar.desc = f\"Epoch: {epoch} | Batch: {batch} | Loss {loss.cpu().detach()}\"\n",
    "            pbar.refresh()\n",
    "            losslst.append(loss.cpu().detach())\n",
    "        acc=acc/(batch+1)\n",
    "        print('Epoch',epoch,'Training Accuracy:', acc)\n",
    "        pbar.close()\n",
    "    return model, losslst\n",
    "\n",
    "# def model_tester(model, testloader):\n",
    "#     acc=[]\n",
    "#     for i in range(100):\n",
    "#         preds = []\n",
    "#         labels = []\n",
    "#         pbar = tqdm(total=len(testloader), leave=True)\n",
    "#         device = torch.device(\"cuda\" if torch.cuda.is_available() else \"cpu\")\n",
    "#         model.eval()\n",
    "#         model.to(device)\n",
    "#         for batch, (feature, label) in enumerate(testloader):\n",
    "#             feature, label = feature.to(device), label.to(device)\n",
    "#             with torch.no_grad():\n",
    "#                 predictions = model(feature.float())\n",
    "#                 preds.append(predictions.cpu().numpy())\n",
    "#                 labels.append(label.cpu().numpy())\n",
    "#             pbar.update()\n",
    "#             pbar.desc = f\"Batch: {batch} | Run: {i}\"\n",
    "#             pbar.refresh()\n",
    "#         pbar.close()\n",
    "#         preds = torch.tensor(preds).ravel()\n",
    "#         # preds = np.array([1 if pred>=0.5 else 0 for pred in preds])\n",
    "#         labels = torch.tensor(labels).ravel()\n",
    "#         #acc = (preds == labels).sum() / len(preds)\n",
    "#         acc.append(binary_accuracy(preds, labels))\n",
    "#     print(\"Test Accuracy:\",np.mean(acc),r\"$\\pm$\",np.std(acc))\n",
    "#     return preds, acc, labels\n",
    "\n",
    "def model_tester(model, testloader):\n",
    "    preds = []\n",
    "    labels = []\n",
    "    pbar = tqdm(total=len(testloader), leave=True)\n",
    "    device = torch.device(\"cuda\" if torch.cuda.is_available() else \"cpu\")\n",
    "    model.eval()\n",
    "    model.to(device)\n",
    "    for batch, (feature, label) in enumerate(testloader):\n",
    "        feature, label = feature.to(device), label.to(device)\n",
    "        with torch.no_grad():\n",
    "            predictions = model(feature.float())\n",
    "            preds.append(predictions.cpu())\n",
    "            labels.append(label.cpu())\n",
    "        pbar.update()\n",
    "        pbar.desc = f\"Batch: {batch}\"\n",
    "        pbar.refresh()\n",
    "    pbar.close()\n",
    "    preds = torch.cat(preds)\n",
    "    labels = torch.cat(labels)\n",
    "    rounded_preds = ((torch.round(torch.sign(preds-0.5))+1)//2) #.numpy()\n",
    "    acc = torch.abs(rounded_preds - labels).mean()\n",
    "    return rounded_preds, acc, labels"
   ]
  },
  {
   "cell_type": "markdown",
   "metadata": {
    "tags": []
   },
   "source": [
    "## MC RP with TF-IDF"
   ]
  },
  {
   "cell_type": "code",
   "execution_count": 11,
   "metadata": {
    "colab": {
     "base_uri": "https://localhost:8080/"
    },
    "id": "w-DUQNiQ9Eys",
    "outputId": "394d0549-3839-461b-9910-2859d9f18854",
    "tags": []
   },
   "outputs": [
    {
     "name": "stdout",
     "output_type": "stream",
     "text": [
      "fatal: destination path 'qnlp_lorenz_etal_2021_resources' already exists and is not an empty directory.\n",
      "mv: cannot stat 'qnlp_lorenz_etal_2021_resources/datasets': No such file or directory\n"
     ]
    }
   ],
   "source": [
    "!git clone https://github.com/CQCL/qnlp_lorenz_etal_2021_resources\n",
    "!mv qnlp_lorenz_etal_2021_resources/datasets mc_rp_dataset"
   ]
  },
  {
   "cell_type": "code",
   "execution_count": 12,
   "metadata": {
    "id": "UaCsVIVZ9j8m",
    "tags": []
   },
   "outputs": [],
   "source": [
    "mc_rp_sets_path = Path(\"mc_rp_dataset\")\n",
    "mc_rp_sets = list(mc_rp_sets_path.glob(\"*.txt\"))\n",
    "mc_datasets, rp_datasets = list(filter(lambda x: x.name.startswith(\"mc\"), mc_rp_sets)), list(filter(lambda x: x.name.startswith(\"rp\"), mc_rp_sets))"
   ]
  },
  {
   "cell_type": "code",
   "execution_count": 13,
   "metadata": {
    "id": "7XqBoPxt7LxE",
    "tags": []
   },
   "outputs": [],
   "source": [
    "def read_process_mcrp(datapaths: dict):\n",
    "  def rm(text):\n",
    "    return \" \".join(list(map(lambda x: x[:x.find('_')], text.split())))\n",
    "  retval = {}\n",
    "  for datapath in datapaths:\n",
    "    if \"rp\" in str(datapath):\n",
    "      sel = 2\n",
    "    else:\n",
    "      sel = 3\n",
    "    df = pd.DataFrame(list(map(lambda x: [int(x[0]), x[sel:]], datapath.read_text().split(\"\\n\"))), columns=['label', 'text'])\n",
    "    df['text'] = df['text'].apply(rm)\n",
    "    retval[datapath.name.split(\".\")[0]] = df\n",
    "  return retval\n",
    "\n",
    "def ttsplit(data: pd.DataFrame, test_size=0.2):\n",
    "    train_data, test_data = train_test_split(data, test_size=test_size, stratify=data['label'], random_state=42)\n",
    "    train_data, test_data = train_data.reset_index().drop(columns=['index']), test_data.reset_index().drop(columns=['index'])\n",
    "    # train_data = pd.DataFrame({'text': X_train, 'labels': y_train})\n",
    "    # test_data = pd.DataFrame({'text': X_test, 'labels': y_test})\n",
    "    return train_data, test_data\n",
    "\n",
    "mc_data, rp_data = read_process_mcrp(mc_datasets), read_process_mcrp(rp_datasets)\n",
    "\n",
    "# # Train test splitting\n",
    "mc_train = mc_data['mc_train_data']\n",
    "mc_test = mc_data['mc_test_data']\n",
    "\n",
    "rp_train = rp_data['rp_train_data']\n",
    "rp_test = rp_data['rp_test_data']\n",
    "\n",
    "# mc_train, mc_test = ttsplit(mc_data, 0.2)\n",
    "# rp_train, rp_test = ttsplit(rp_data, 0.2)\n",
    "\n",
    "MAX_SEQ_LEN = 4\n",
    "BATCH_SIZE = 50\n",
    "NUM_EPOCHS = 200\n",
    "\n",
    "# TF-IDF vectorization and dataset creation\n",
    "mc_trainset = txt2vecset(mc_train, MAX_SEQ_LEN)\n",
    "rp_trainset = txt2vecset(rp_train, MAX_SEQ_LEN)\n",
    "\n",
    "mc_testset = txt2vecset(mc_test, MAX_SEQ_LEN, *mc_trainset.retattrs())\n",
    "rp_testset = txt2vecset(rp_test, MAX_SEQ_LEN, *rp_trainset.retattrs())"
   ]
  },
  {
   "cell_type": "code",
   "execution_count": 14,
   "metadata": {
    "tags": []
   },
   "outputs": [],
   "source": [
    "# MC RP DataLoaders\n",
    "mc_trainloader = DataLoader(mc_trainset, shuffle=True, batch_size=BATCH_SIZE)\n",
    "mc_testloader = DataLoader(mc_testset, shuffle=True, batch_size=BATCH_SIZE)\n",
    "\n",
    "rp_trainloader = DataLoader(rp_trainset, shuffle=True, batch_size=BATCH_SIZE)\n",
    "rp_testloader = DataLoader(rp_testset, shuffle=True, batch_size=BATCH_SIZE)"
   ]
  },
  {
   "cell_type": "code",
   "execution_count": 15,
   "metadata": {
    "scrolled": true,
    "tags": []
   },
   "outputs": [
    {
     "name": "stdout",
     "output_type": "stream",
     "text": [
      "Traceback \u001b[1;36m(most recent call last)\u001b[0m:\n",
      "\u001b[1;36m  Cell \u001b[1;32mIn[15], line 2\u001b[1;36m\n",
      "\u001b[1;33m    qrnn_mc_model = qrnn(MAX_SEQ_LEN,1,2,1)\u001b[1;36m\n",
      "\u001b[1;31mNameError\u001b[0m\u001b[1;31m:\u001b[0m name 'qrnn' is not defined\n",
      "\n",
      "Use %tb to get the full traceback.\n"
     ]
    },
    {
     "data": {
      "text/html": [
       "\n",
       "<style>\n",
       ".button {\n",
       "  border: none;\n",
       "  color: white;\n",
       "  padding: 4px 8px;\n",
       "  text-align: center;\n",
       "  text-decoration: none;\n",
       "  display: inline-block;\n",
       "  font-size: 12px;\n",
       "  margin: 4px 2px;\n",
       "  transition-duration: 0.2s;\n",
       "  cursor: pointer;\n",
       "}\n",
       ".iqx-button {\n",
       "  background-color: #0f62fe; \n",
       "  color: white; \n",
       "}\n",
       ".iqx-button:hover {\n",
       "  background-color: #0043ce;\n",
       "  color: white;\n",
       "}\n",
       "</style>\n",
       "<a href=\"https://stackoverflow.com/search?q=NameError: name 'qrnn' is not defined\" target='_blank'><button class='button iqx-button'>Search for solution online</button></a>\n"
      ],
      "text/plain": [
       "<IPython.core.display.HTML object>"
      ]
     },
     "metadata": {},
     "output_type": "display_data"
    }
   ],
   "source": [
    "# mc training\n",
    "qrnn_mc_model = qrnn(MAX_SEQ_LEN,1,2,1)\n",
    "mc_qrnn_trained, mc_train_loss = model_trainer(qrnn_mc_model, NUM_EPOCHS, mc_trainloader)\n",
    "torch.save(mc_qrnn_trained, \"mc_qrnn.pt\")\n",
    "dump(mc_train_loss, \"mc_train_loss.joblib\")\n",
    "\n",
    "# loss_plotter(mc_train_loss, NUM_EPOCHS, save=True, save_name=\"mc_data\")\n",
    "\n",
    "\n",
    "# mc testing\n",
    "mc_preds, mc_acc, mc_labels = model_tester(mc_qrnn_trained, mc_testloader)\n",
    "mc_train_preds, mc_train_acc, mc_train_labels = model_tester(mc_qrnn_trained, mc_trainloader)\n",
    "\n",
    "print(f\"mc accuracy test: {mc_acc}\")\n",
    "print(f\"mc accuracy train: {mc_train_acc}\")\n",
    "\n",
    "dump(mc_preds, \"mc_preds.joblib\")\n",
    "dump(mc_labels, \"mc_labels.joblib\")\n",
    "dump(mc_train_preds, \"mc_train_preds.joblib\")\n",
    "dump(mc_train_labels, \"mc_train_labels.joblib\")"
   ]
  },
  {
   "cell_type": "code",
   "execution_count": null,
   "metadata": {
    "tags": []
   },
   "outputs": [],
   "source": [
    "# rp training\n",
    "qrnn_rp_model = qrnn(MAX_SEQ_LEN,1,2,1)\n",
    "rp_qrnn_trained, rp_train_loss = model_trainer(qrnn_rp_model, NUM_EPOCHS, rp_trainloader)\n",
    "torch.save(rp_qrnn_trained, \"rp_qrnn.pt\")\n",
    "dump(rp_train_loss, \"rp_train_loss.joblib\")\n",
    "\n",
    "# loss_plotter(rp_train_loss, NUM_EPOCHS, save=True, save_name=\"rp_data\")\n",
    "\n",
    "\n",
    "# rp testing\n",
    "rp_preds, rp_acc, rp_labels = model_tester(rp_qrnn_trained, rp_testloader)\n",
    "rp_train_preds, rp_train_acc, rp_train_labels = model_tester(rp_qrnn_trained, rp_trainloader)\n",
    "\n",
    "print(f\"rp accuracy test: {rp_acc}\")\n",
    "print(f\"rp accuracy train: {rp_train_acc}\")\n",
    "\n",
    "dump(rp_preds, \"rp_preds.joblib\")\n",
    "dump(rp_labels, \"rp_labels.joblib\")\n",
    "dump(rp_train_preds, \"rp_train_preds.joblib\")\n",
    "dump(rp_train_labels, \"rp_train_labels.joblib\")"
   ]
  },
  {
   "cell_type": "markdown",
   "metadata": {
    "jp-MarkdownHeadingCollapsed": true,
    "tags": []
   },
   "source": [
    "# Sentiment Labelled Sentences datasets:\n",
    "- Amazon\n",
    "- Yelp\n",
    "- IMDb"
   ]
  },
  {
   "cell_type": "code",
   "execution_count": null,
   "metadata": {
    "tags": []
   },
   "outputs": [],
   "source": [
    "!wget https://archive.ics.uci.edu/static/public/331/sentiment+labelled+sentences.zip\n",
    "!unzip -o sentiment+labelled+sentences.zip\n",
    "!rm \"sentiment labelled sentences/readme.txt\""
   ]
  },
  {
   "cell_type": "code",
   "execution_count": null,
   "metadata": {
    "tags": []
   },
   "outputs": [],
   "source": [
    "# Separating Amazon, IMDb, Yelp dataset paths\n",
    "datasets_path = Path(\"sentiment labelled sentences\")\n",
    "datasets = list(datasets_path.glob(\"*.txt\"))\n",
    "\n",
    "# Reading all data and creating data loaders from our data loading strategy\n",
    "def read_process(datapaths: list):\n",
    "  retval = {}\n",
    "  for datapath in datapaths:\n",
    "    df = pd.DataFrame(list(map(lambda x: x.split(\"\\t\"), datapath.read_text().split(\"\\n\"))), columns=['text', 'label']).dropna()\n",
    "    df['label'] = df['label'].apply(lambda  x: int(x))\n",
    "    retval[datapath.name.split(\".\")[0]] = df\n",
    "  return retval\n",
    "\n",
    "def ttsplit(data: pd.DataFrame, test_size=0.2):\n",
    "    train_data, test_data = train_test_split(data, test_size=test_size, stratify=data['label'], random_state=42)\n",
    "    train_data, test_data = train_data.reset_index().drop(columns=['index']), test_data.reset_index().drop(columns=['index'])\n",
    "    # train_data = pd.DataFrame({'text': X_train, 'labels': y_train})\n",
    "    # test_data = pd.DataFrame({'text': X_test, 'labels': y_test})\n",
    "    return train_data, test_data\n",
    "\n",
    "datadict = read_process(datasets)\n",
    "amazon_data = datadict['amazon_cells_labelled']\n",
    "imdb_data = datadict['imdb_labelled']\n",
    "yelp_data = datadict['yelp_labelled']\n",
    "\n",
    "amazon_train, amazon_test = ttsplit(amazon_data, 0.2)\n",
    "imdb_train, imdb_test = ttsplit(imdb_data, 0.2)\n",
    "yelp_train, yelp_test = ttsplit(yelp_data, 0.2)\n",
    "\n",
    "\n",
    "MAX_SEQ_LEN = 10\n",
    "BATCH_SIZE = 25\n",
    "NUM_EPOCHS = 200\n",
    "\n",
    "# TF-IDF vectorization and dataset creation\n",
    "amazon_trainset = txt2vecset(amazon_train, MAX_SEQ_LEN)\n",
    "imdb_trainset = txt2vecset(imdb_train, MAX_SEQ_LEN)\n",
    "yelp_trainset = txt2vecset(yelp_train, MAX_SEQ_LEN)\n",
    "\n",
    "amazon_testset = txt2vecset(amazon_test, MAX_SEQ_LEN, *amazon_trainset.retattrs())\n",
    "imdb_testset = txt2vecset(imdb_test, MAX_SEQ_LEN, *imdb_trainset.retattrs())\n",
    "yelp_testset = txt2vecset(yelp_test, MAX_SEQ_LEN, *yelp_trainset.retattrs())"
   ]
  },
  {
   "cell_type": "code",
   "execution_count": null,
   "metadata": {
    "tags": []
   },
   "outputs": [],
   "source": [
    "# Amazon dataloaders\n",
    "amazon_trainloader = DataLoader(amazon_trainset, shuffle=True, batch_size=BATCH_SIZE)\n",
    "amazon_testloader = DataLoader(amazon_testset, shuffle=True, batch_size=BATCH_SIZE)"
   ]
  },
  {
   "cell_type": "code",
   "execution_count": null,
   "metadata": {
    "tags": []
   },
   "outputs": [],
   "source": [
    "# Yelp dataloader\n",
    "yelp_trainloader = DataLoader(yelp_trainset, shuffle=True, batch_size=BATCH_SIZE)\n",
    "yelp_testloader = DataLoader(yelp_testset, shuffle=True, batch_size=BATCH_SIZE)"
   ]
  },
  {
   "cell_type": "code",
   "execution_count": null,
   "metadata": {
    "tags": []
   },
   "outputs": [],
   "source": [
    "# imdb dataloaders\n",
    "imdb_trainloader = DataLoader(imdb_trainset, shuffle=True, batch_size=BATCH_SIZE)\n",
    "imdb_testloader = DataLoader(imdb_testset, shuffle=True, batch_size=BATCH_SIZE)"
   ]
  },
  {
   "cell_type": "code",
   "execution_count": null,
   "metadata": {
    "tags": []
   },
   "outputs": [],
   "source": [
    "# Amazon training\n",
    "qrnn_amazon_model = QRNN_qiskit(MAX_SEQ_LEN,1,2,1)\n",
    "amazon_qrnn_trained, amazon_train_loss = model_trainer(qrnn_amazon_model, NUM_EPOCHS, amazon_trainloader)\n",
    "torch.save(amazon_qrnn_trained, \"amazon_qrnn.pt\")\n",
    "dump(amazon_train_loss, \"amazon_train_loss.joblib\")\n",
    "\n",
    "# loss_plotter(amazon_train_loss, NUM_EPOCHS, save=True, save_name=\"amazon_data\")\n",
    "\n",
    "\n",
    "# Amazon testing\n",
    "amazon_preds, amazon_acc, amazon_labels = model_tester(amazon_qrnn_trained, amazon_testloader)\n",
    "amazon_train_preds, amazon_train_acc, amazon_train_labels = model_tester(amazon_qrnn_trained, amazon_trainloader)\n",
    "\n",
    "print(f\"amazon accuracy test: {amazon_acc}\")\n",
    "print(f\"amazon accuracy train: {amazon_train_acc}\")\n",
    "\n",
    "dump(amazon_preds, \"amazon_preds.joblib\")\n",
    "dump(amazon_labels, \"amazon_labels.joblib\")\n",
    "dump(amazon_train_preds, \"amazon_train_preds.joblib\")\n",
    "dump(amazon_train_labels, \"amazon_train_labels.joblib\")"
   ]
  },
  {
   "cell_type": "code",
   "execution_count": null,
   "metadata": {},
   "outputs": [],
   "source": [
    "# IMDb training\n",
    "qrnn_imdb_model = QRNN_qiskit(MAX_SEQ_LEN,1,2,1)\n",
    "imdb_qrnn_trained, imdb_train_loss = model_trainer(qrnn_imdb_model, NUM_EPOCHS, imdb_trainloader)\n",
    "torch.save(imdb_qrnn_trained, \"imdb_qrnn_s.pt\")\n",
    "dump(imdb_train_loss, \"imdb_train_loss.joblib\")\n",
    "# loss_plotter(imdb_train_loss, NUM_EPOCHS, save=True, save_name=\"imdb_data\")\n",
    "\n",
    "\n",
    "# IMDb testing\n",
    "imdb_preds, imdb_acc, imdb_labels = model_tester(imdb_qrnn_trained, imdb_testloader)\n",
    "imdb_train_preds, imdb_train_acc, imdb_train_labels = model_tester(imdb_qrnn_trained, imdb_trainloader)\n",
    "\n",
    "print(f\"imdb accuracy test: {imdb_acc}\")\n",
    "print(f\"imdb accuracy train: {imdb_train_acc}\")\n",
    "\n",
    "dump(imdb_preds, \"imdb_preds.joblib\")\n",
    "dump(imdb_labels, \"imdb_labels.joblib\")\n",
    "dump(imdb_train_preds, \"imdb_train_preds.joblib\")\n",
    "dump(imdb_train_labels, \"imdb_train_labels.joblib\")"
   ]
  },
  {
   "cell_type": "code",
   "execution_count": null,
   "metadata": {
    "tags": []
   },
   "outputs": [],
   "source": [
    "# yelp training\n",
    "qrnn_yelp_model = QRNN_qiskit(MAX_SEQ_LEN,1,2,1)\n",
    "yelp_qrnn_trained, yelp_train_loss = model_trainer(qrnn_yelp_model, NUM_EPOCHS, yelp_trainloader)\n",
    "torch.save(yelp_qrnn_trained, \"yelp_qrnn.pt\")\n",
    "dump(yelp_train_loss, \"yelp_train_loss.joblib\")\n",
    "# loss_plotter(yelp_train_loss, NUM_EPOCHS, save=True, save_name=\"yelp_data\")\n",
    "\n",
    "\n",
    "# Yelp testing\n",
    "yelp_preds, yelp_acc, yelp_labels = model_tester(yelp_qrnn_trained, yelp_testloader)\n",
    "yelp_train_preds, yelp_train_acc, yelp_train_labels = model_tester(yelp_qrnn_trained, yelp_trainloader)\n",
    "\n",
    "print(f\"yelp accuracy test: {yelp_acc}\")\n",
    "print(f\"yelp accuracy train: {yelp_train_acc}\")\n",
    "\n",
    "dump(yelp_preds, \"yelp_preds.joblib\")\n",
    "dump(yelp_labels, \"yelp_labels.joblib\")\n",
    "dump(yelp_train_preds, \"yelp_train_preds.joblib\")\n",
    "dump(yelp_train_labels, \"yelp_train_labels.joblib\")"
   ]
  }
 ],
 "metadata": {
  "colab": {
   "provenance": []
  },
  "gpuClass": "standard",
  "kernelspec": {
   "display_name": "Python 3 (ipykernel)",
   "language": "python",
   "name": "python3"
  },
  "language_info": {
   "codemirror_mode": {
    "name": "ipython",
    "version": 3
   },
   "file_extension": ".py",
   "mimetype": "text/x-python",
   "name": "python",
   "nbconvert_exporter": "python",
   "pygments_lexer": "ipython3",
   "version": "3.10.8"
  },
  "widgets": {
   "application/vnd.jupyter.widget-state+json": {
    "state": {},
    "version_major": 2,
    "version_minor": 0
   }
  }
 },
 "nbformat": 4,
 "nbformat_minor": 4
}
