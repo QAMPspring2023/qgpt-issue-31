{
 "cells": [
  {
   "cell_type": "code",
   "execution_count": 1,
   "metadata": {
    "colab": {
     "base_uri": "https://localhost:8080/"
    },
    "id": "vQIoYKJ56ux4",
    "outputId": "242a5a20-f4bd-44aa-b9b3-de781b9b8339",
    "scrolled": true,
    "tags": []
   },
   "outputs": [
    {
     "name": "stdout",
     "output_type": "stream",
     "text": [
      "Collecting pennylane\n",
      "  Using cached PennyLane-0.31.1-py3-none-any.whl (1.5 MB)\n",
      "Requirement already satisfied: appdirs in /opt/conda/lib/python3.10/site-packages (from pennylane) (1.4.4)\n",
      "Collecting pennylane-lightning>=0.31\n",
      "  Using cached PennyLane_Lightning-0.31.0-cp310-cp310-manylinux_2_17_x86_64.manylinux2014_x86_64.whl (16.6 MB)\n",
      "Collecting semantic-version>=2.7\n",
      "  Using cached semantic_version-2.10.0-py2.py3-none-any.whl (15 kB)\n",
      "Requirement already satisfied: numpy<1.24 in /opt/conda/lib/python3.10/site-packages (from pennylane) (1.23.5)\n",
      "Collecting toml\n",
      "  Using cached toml-0.10.2-py2.py3-none-any.whl (16 kB)\n",
      "Collecting cachetools\n",
      "  Using cached cachetools-5.3.1-py3-none-any.whl (9.3 kB)\n",
      "Requirement already satisfied: networkx in /opt/conda/lib/python3.10/site-packages (from pennylane) (2.8.8)\n",
      "Requirement already satisfied: requests in /opt/conda/lib/python3.10/site-packages (from pennylane) (2.28.1)\n",
      "Requirement already satisfied: rustworkx in /opt/conda/lib/python3.10/site-packages (from pennylane) (0.12.1)\n",
      "Requirement already satisfied: typing-extensions in /opt/conda/lib/python3.10/site-packages (from pennylane) (4.5.0)\n",
      "Collecting autograd<=1.5\n",
      "  Using cached autograd-1.5-py3-none-any.whl (48 kB)\n",
      "Collecting autoray<=0.6.3,>=0.3.1\n",
      "  Using cached autoray-0.6.3-py3-none-any.whl (48 kB)\n",
      "Requirement already satisfied: scipy in /opt/conda/lib/python3.10/site-packages (from pennylane) (1.9.3)\n",
      "Requirement already satisfied: future>=0.15.2 in /opt/conda/lib/python3.10/site-packages (from autograd<=1.5->pennylane) (0.18.3)\n",
      "Requirement already satisfied: certifi>=2017.4.17 in /opt/conda/lib/python3.10/site-packages (from requests->pennylane) (2022.9.24)\n",
      "Requirement already satisfied: urllib3<1.27,>=1.21.1 in /opt/conda/lib/python3.10/site-packages (from requests->pennylane) (1.26.13)\n",
      "Requirement already satisfied: idna<4,>=2.5 in /opt/conda/lib/python3.10/site-packages (from requests->pennylane) (3.4)\n",
      "Requirement already satisfied: charset-normalizer<3,>=2 in /opt/conda/lib/python3.10/site-packages (from requests->pennylane) (2.1.1)\n",
      "Installing collected packages: toml, semantic-version, cachetools, autoray, autograd, pennylane-lightning, pennylane\n",
      "Successfully installed autograd-1.5 autoray-0.6.3 cachetools-5.3.1 pennylane-0.31.1 pennylane-lightning-0.31.0 semantic-version-2.10.0 toml-0.10.2\n",
      "\n",
      "\u001b[1m[\u001b[0m\u001b[34;49mnotice\u001b[0m\u001b[1;39;49m]\u001b[0m\u001b[39;49m A new release of pip available: \u001b[0m\u001b[31;49m23.1.1\u001b[0m\u001b[39;49m -> \u001b[0m\u001b[32;49m23.2.1\u001b[0m\n",
      "\u001b[1m[\u001b[0m\u001b[34;49mnotice\u001b[0m\u001b[1;39;49m]\u001b[0m\u001b[39;49m To update, run: \u001b[0m\u001b[32;49mpip install --upgrade pip\u001b[0m\n",
      "Collecting transformers\n",
      "  Using cached transformers-4.31.0-py3-none-any.whl (7.4 MB)\n",
      "Requirement already satisfied: numpy>=1.17 in /opt/conda/lib/python3.10/site-packages (from transformers) (1.23.5)\n",
      "Collecting huggingface-hub<1.0,>=0.14.1\n",
      "  Using cached huggingface_hub-0.16.4-py3-none-any.whl (268 kB)\n",
      "Requirement already satisfied: packaging>=20.0 in /opt/conda/lib/python3.10/site-packages (from transformers) (21.3)\n",
      "Collecting regex!=2019.12.17\n",
      "  Using cached regex-2023.8.8-cp310-cp310-manylinux_2_17_x86_64.manylinux2014_x86_64.whl (771 kB)\n",
      "Requirement already satisfied: filelock in /opt/conda/lib/python3.10/site-packages (from transformers) (3.12.0)\n",
      "Requirement already satisfied: pyyaml>=5.1 in /opt/conda/lib/python3.10/site-packages (from transformers) (6.0)\n",
      "Requirement already satisfied: requests in /opt/conda/lib/python3.10/site-packages (from transformers) (2.28.1)\n",
      "Collecting safetensors>=0.3.1\n",
      "  Using cached safetensors-0.3.2-cp310-cp310-manylinux_2_17_x86_64.manylinux2014_x86_64.whl (1.3 MB)\n",
      "Collecting tokenizers!=0.11.3,<0.14,>=0.11.1\n",
      "  Using cached tokenizers-0.13.3-cp310-cp310-manylinux_2_17_x86_64.manylinux2014_x86_64.whl (7.8 MB)\n",
      "Requirement already satisfied: tqdm>=4.27 in /opt/conda/lib/python3.10/site-packages (from transformers) (4.65.0)\n",
      "Requirement already satisfied: fsspec in /opt/conda/lib/python3.10/site-packages (from huggingface-hub<1.0,>=0.14.1->transformers) (2023.4.0)\n",
      "Requirement already satisfied: typing-extensions>=3.7.4.3 in /opt/conda/lib/python3.10/site-packages (from huggingface-hub<1.0,>=0.14.1->transformers) (4.5.0)\n",
      "Requirement already satisfied: pyparsing!=3.0.5,>=2.0.2 in /opt/conda/lib/python3.10/site-packages (from packaging>=20.0->transformers) (3.0.9)\n",
      "Requirement already satisfied: urllib3<1.27,>=1.21.1 in /opt/conda/lib/python3.10/site-packages (from requests->transformers) (1.26.13)\n",
      "Requirement already satisfied: certifi>=2017.4.17 in /opt/conda/lib/python3.10/site-packages (from requests->transformers) (2022.9.24)\n",
      "Requirement already satisfied: charset-normalizer<3,>=2 in /opt/conda/lib/python3.10/site-packages (from requests->transformers) (2.1.1)\n",
      "Requirement already satisfied: idna<4,>=2.5 in /opt/conda/lib/python3.10/site-packages (from requests->transformers) (3.4)\n",
      "Installing collected packages: tokenizers, safetensors, regex, huggingface-hub, transformers\n",
      "Successfully installed huggingface-hub-0.16.4 regex-2023.8.8 safetensors-0.3.2 tokenizers-0.13.3 transformers-4.31.0\n",
      "\n",
      "\u001b[1m[\u001b[0m\u001b[34;49mnotice\u001b[0m\u001b[1;39;49m]\u001b[0m\u001b[39;49m A new release of pip available: \u001b[0m\u001b[31;49m23.1.1\u001b[0m\u001b[39;49m -> \u001b[0m\u001b[32;49m23.2.1\u001b[0m\n",
      "\u001b[1m[\u001b[0m\u001b[34;49mnotice\u001b[0m\u001b[1;39;49m]\u001b[0m\u001b[39;49m To update, run: \u001b[0m\u001b[32;49mpip install --upgrade pip\u001b[0m\n",
      "Requirement already satisfied: scikit-learn in /opt/conda/lib/python3.10/site-packages (1.2.2)\n",
      "Requirement already satisfied: joblib>=1.1.1 in /opt/conda/lib/python3.10/site-packages (from scikit-learn) (1.2.0)\n",
      "Requirement already satisfied: threadpoolctl>=2.0.0 in /opt/conda/lib/python3.10/site-packages (from scikit-learn) (3.1.0)\n",
      "Requirement already satisfied: scipy>=1.3.2 in /opt/conda/lib/python3.10/site-packages (from scikit-learn) (1.9.3)\n",
      "Requirement already satisfied: numpy>=1.17.3 in /opt/conda/lib/python3.10/site-packages (from scikit-learn) (1.23.5)\n",
      "\n",
      "\u001b[1m[\u001b[0m\u001b[34;49mnotice\u001b[0m\u001b[1;39;49m]\u001b[0m\u001b[39;49m A new release of pip available: \u001b[0m\u001b[31;49m23.1.1\u001b[0m\u001b[39;49m -> \u001b[0m\u001b[32;49m23.2.1\u001b[0m\n",
      "\u001b[1m[\u001b[0m\u001b[34;49mnotice\u001b[0m\u001b[1;39;49m]\u001b[0m\u001b[39;49m To update, run: \u001b[0m\u001b[32;49mpip install --upgrade pip\u001b[0m\n",
      "Collecting tensorflow\n",
      "  Using cached tensorflow-2.13.0-cp310-cp310-manylinux_2_17_x86_64.manylinux2014_x86_64.whl (524.1 MB)\n",
      "Requirement already satisfied: h5py>=2.9.0 in /opt/conda/lib/python3.10/site-packages (from tensorflow) (3.7.0)\n",
      "Requirement already satisfied: numpy<=1.24.3,>=1.22 in /opt/conda/lib/python3.10/site-packages (from tensorflow) (1.23.5)\n",
      "Requirement already satisfied: protobuf!=4.21.0,!=4.21.1,!=4.21.2,!=4.21.3,!=4.21.4,!=4.21.5,<5.0.0dev,>=3.20.3 in /opt/conda/lib/python3.10/site-packages (from tensorflow) (4.21.10)\n",
      "Collecting opt-einsum>=2.3.2\n",
      "  Using cached opt_einsum-3.3.0-py3-none-any.whl (65 kB)\n",
      "Collecting keras<2.14,>=2.13.1\n",
      "  Using cached keras-2.13.1-py3-none-any.whl (1.7 MB)\n",
      "Requirement already satisfied: typing-extensions<4.6.0,>=3.6.6 in /opt/conda/lib/python3.10/site-packages (from tensorflow) (4.5.0)\n",
      "Collecting google-pasta>=0.1.1\n",
      "  Using cached google_pasta-0.2.0-py3-none-any.whl (57 kB)\n",
      "Requirement already satisfied: setuptools in /opt/conda/lib/python3.10/site-packages (from tensorflow) (67.7.2)\n",
      "Collecting termcolor>=1.1.0\n",
      "  Using cached termcolor-2.3.0-py3-none-any.whl (6.9 kB)\n",
      "Collecting astunparse>=1.6.0\n",
      "  Using cached astunparse-1.6.3-py2.py3-none-any.whl (12 kB)\n",
      "Collecting flatbuffers>=23.1.21\n",
      "  Using cached flatbuffers-23.5.26-py2.py3-none-any.whl (26 kB)\n",
      "Collecting tensorflow-io-gcs-filesystem>=0.23.1\n",
      "  Using cached tensorflow_io_gcs_filesystem-0.33.0-cp310-cp310-manylinux_2_12_x86_64.manylinux2010_x86_64.whl (2.4 MB)\n",
      "Collecting wrapt>=1.11.0\n",
      "  Using cached wrapt-1.15.0-cp310-cp310-manylinux_2_5_x86_64.manylinux1_x86_64.manylinux_2_17_x86_64.manylinux2014_x86_64.whl (78 kB)\n",
      "Collecting tensorflow-estimator<2.14,>=2.13.0\n",
      "  Using cached tensorflow_estimator-2.13.0-py2.py3-none-any.whl (440 kB)\n",
      "Collecting gast<=0.4.0,>=0.2.1\n",
      "  Using cached gast-0.4.0-py3-none-any.whl (9.8 kB)\n",
      "Requirement already satisfied: six>=1.12.0 in /opt/conda/lib/python3.10/site-packages (from tensorflow) (1.16.0)\n",
      "Collecting grpcio<2.0,>=1.24.3\n",
      "  Using cached grpcio-1.57.0-cp310-cp310-manylinux_2_17_x86_64.manylinux2014_x86_64.whl (5.3 MB)\n",
      "Requirement already satisfied: packaging in /opt/conda/lib/python3.10/site-packages (from tensorflow) (21.3)\n",
      "Collecting tensorboard<2.14,>=2.13\n",
      "  Using cached tensorboard-2.13.0-py3-none-any.whl (5.6 MB)\n",
      "Collecting libclang>=13.0.0\n",
      "  Using cached libclang-16.0.6-py2.py3-none-manylinux2010_x86_64.whl (22.9 MB)\n",
      "Collecting absl-py>=1.0.0\n",
      "  Using cached absl_py-1.4.0-py3-none-any.whl (126 kB)\n",
      "Requirement already satisfied: wheel<1.0,>=0.23.0 in /opt/conda/lib/python3.10/site-packages (from astunparse>=1.6.0->tensorflow) (0.38.4)\n",
      "Collecting google-auth<3,>=1.6.3\n",
      "  Using cached google_auth-2.22.0-py2.py3-none-any.whl (181 kB)\n",
      "Collecting werkzeug>=1.0.1\n",
      "  Using cached Werkzeug-2.3.6-py3-none-any.whl (242 kB)\n",
      "Collecting google-auth-oauthlib<1.1,>=0.5\n",
      "  Using cached google_auth_oauthlib-1.0.0-py2.py3-none-any.whl (18 kB)\n",
      "Collecting tensorboard-data-server<0.8.0,>=0.7.0\n",
      "  Using cached tensorboard_data_server-0.7.1-py3-none-manylinux2014_x86_64.whl (6.6 MB)\n",
      "Requirement already satisfied: requests<3,>=2.21.0 in /opt/conda/lib/python3.10/site-packages (from tensorboard<2.14,>=2.13->tensorflow) (2.28.1)\n",
      "Collecting markdown>=2.6.8\n",
      "  Using cached Markdown-3.4.4-py3-none-any.whl (94 kB)\n",
      "Requirement already satisfied: pyparsing!=3.0.5,>=2.0.2 in /opt/conda/lib/python3.10/site-packages (from packaging->tensorflow) (3.0.9)\n",
      "Collecting rsa<5,>=3.1.4\n",
      "  Using cached rsa-4.9-py3-none-any.whl (34 kB)\n",
      "Requirement already satisfied: cachetools<6.0,>=2.0.0 in /opt/conda/lib/python3.10/site-packages (from google-auth<3,>=1.6.3->tensorboard<2.14,>=2.13->tensorflow) (5.3.1)\n",
      "Collecting pyasn1-modules>=0.2.1\n",
      "  Using cached pyasn1_modules-0.3.0-py2.py3-none-any.whl (181 kB)\n",
      "Requirement already satisfied: urllib3<2.0 in /opt/conda/lib/python3.10/site-packages (from google-auth<3,>=1.6.3->tensorboard<2.14,>=2.13->tensorflow) (1.26.13)\n",
      "Collecting requests-oauthlib>=0.7.0\n",
      "  Using cached requests_oauthlib-1.3.1-py2.py3-none-any.whl (23 kB)\n",
      "Requirement already satisfied: idna<4,>=2.5 in /opt/conda/lib/python3.10/site-packages (from requests<3,>=2.21.0->tensorboard<2.14,>=2.13->tensorflow) (3.4)\n",
      "Requirement already satisfied: charset-normalizer<3,>=2 in /opt/conda/lib/python3.10/site-packages (from requests<3,>=2.21.0->tensorboard<2.14,>=2.13->tensorflow) (2.1.1)\n",
      "Requirement already satisfied: certifi>=2017.4.17 in /opt/conda/lib/python3.10/site-packages (from requests<3,>=2.21.0->tensorboard<2.14,>=2.13->tensorflow) (2022.9.24)\n",
      "Requirement already satisfied: MarkupSafe>=2.1.1 in /opt/conda/lib/python3.10/site-packages (from werkzeug>=1.0.1->tensorboard<2.14,>=2.13->tensorflow) (2.1.2)\n",
      "Collecting pyasn1<0.6.0,>=0.4.6\n",
      "  Using cached pyasn1-0.5.0-py2.py3-none-any.whl (83 kB)\n",
      "Requirement already satisfied: oauthlib>=3.0.0 in /opt/conda/lib/python3.10/site-packages (from requests-oauthlib>=0.7.0->google-auth-oauthlib<1.1,>=0.5->tensorboard<2.14,>=2.13->tensorflow) (3.2.2)\n",
      "Installing collected packages: libclang, flatbuffers, wrapt, werkzeug, termcolor, tensorflow-io-gcs-filesystem, tensorflow-estimator, tensorboard-data-server, pyasn1, opt-einsum, markdown, keras, grpcio, google-pasta, gast, astunparse, absl-py, rsa, requests-oauthlib, pyasn1-modules, google-auth, google-auth-oauthlib, tensorboard, tensorflow\n",
      "Successfully installed absl-py-1.4.0 astunparse-1.6.3 flatbuffers-23.5.26 gast-0.4.0 google-auth-2.22.0 google-auth-oauthlib-1.0.0 google-pasta-0.2.0 grpcio-1.57.0 keras-2.13.1 libclang-16.0.6 markdown-3.4.4 opt-einsum-3.3.0 pyasn1-0.5.0 pyasn1-modules-0.3.0 requests-oauthlib-1.3.1 rsa-4.9 tensorboard-2.13.0 tensorboard-data-server-0.7.1 tensorflow-2.13.0 tensorflow-estimator-2.13.0 tensorflow-io-gcs-filesystem-0.33.0 termcolor-2.3.0 werkzeug-2.3.6 wrapt-1.15.0\n",
      "\n",
      "\u001b[1m[\u001b[0m\u001b[34;49mnotice\u001b[0m\u001b[1;39;49m]\u001b[0m\u001b[39;49m A new release of pip available: \u001b[0m\u001b[31;49m23.1.1\u001b[0m\u001b[39;49m -> \u001b[0m\u001b[32;49m23.2.1\u001b[0m\n",
      "\u001b[1m[\u001b[0m\u001b[34;49mnotice\u001b[0m\u001b[1;39;49m]\u001b[0m\u001b[39;49m To update, run: \u001b[0m\u001b[32;49mpip install --upgrade pip\u001b[0m\n",
      "Collecting tensorflow-datasets\n",
      "  Using cached tensorflow_datasets-4.9.2-py3-none-any.whl (5.4 MB)\n",
      "Collecting etils[enp,epath]>=0.9.0\n",
      "  Using cached etils-1.4.1-py3-none-any.whl (135 kB)\n",
      "Requirement already satisfied: click in /opt/conda/lib/python3.10/site-packages (from tensorflow-datasets) (8.1.3)\n",
      "Requirement already satisfied: psutil in /opt/conda/lib/python3.10/site-packages (from tensorflow-datasets) (5.9.4)\n",
      "Collecting array-record\n",
      "  Using cached array_record-0.4.1-py310-none-any.whl (3.0 MB)\n",
      "Requirement already satisfied: requests>=2.19.0 in /opt/conda/lib/python3.10/site-packages (from tensorflow-datasets) (2.28.1)\n",
      "Requirement already satisfied: absl-py in /opt/conda/lib/python3.10/site-packages (from tensorflow-datasets) (1.4.0)\n",
      "Requirement already satisfied: toml in /opt/conda/lib/python3.10/site-packages (from tensorflow-datasets) (0.10.2)\n",
      "Collecting dm-tree\n",
      "  Using cached dm_tree-0.1.8-cp310-cp310-manylinux_2_17_x86_64.manylinux2014_x86_64.whl (152 kB)\n",
      "Collecting tensorflow-metadata\n",
      "  Using cached tensorflow_metadata-1.14.0-py3-none-any.whl (28 kB)\n",
      "Requirement already satisfied: numpy in /opt/conda/lib/python3.10/site-packages (from tensorflow-datasets) (1.23.5)\n",
      "Requirement already satisfied: protobuf>=3.20 in /opt/conda/lib/python3.10/site-packages (from tensorflow-datasets) (4.21.10)\n",
      "Requirement already satisfied: termcolor in /opt/conda/lib/python3.10/site-packages (from tensorflow-datasets) (2.3.0)\n",
      "Collecting promise\n",
      "  Using cached promise-2.3-py3-none-any.whl\n",
      "Requirement already satisfied: wrapt in /opt/conda/lib/python3.10/site-packages (from tensorflow-datasets) (1.15.0)\n",
      "Requirement already satisfied: tqdm in /opt/conda/lib/python3.10/site-packages (from tensorflow-datasets) (4.65.0)\n",
      "Requirement already satisfied: zipp in /opt/conda/lib/python3.10/site-packages (from etils[enp,epath]>=0.9.0->tensorflow-datasets) (3.15.0)\n",
      "Requirement already satisfied: importlib_resources in /opt/conda/lib/python3.10/site-packages (from etils[enp,epath]>=0.9.0->tensorflow-datasets) (5.12.0)\n",
      "Requirement already satisfied: typing_extensions in /opt/conda/lib/python3.10/site-packages (from etils[enp,epath]>=0.9.0->tensorflow-datasets) (4.5.0)\n",
      "Requirement already satisfied: charset-normalizer<3,>=2 in /opt/conda/lib/python3.10/site-packages (from requests>=2.19.0->tensorflow-datasets) (2.1.1)\n",
      "Requirement already satisfied: idna<4,>=2.5 in /opt/conda/lib/python3.10/site-packages (from requests>=2.19.0->tensorflow-datasets) (3.4)\n",
      "Requirement already satisfied: urllib3<1.27,>=1.21.1 in /opt/conda/lib/python3.10/site-packages (from requests>=2.19.0->tensorflow-datasets) (1.26.13)\n",
      "Requirement already satisfied: certifi>=2017.4.17 in /opt/conda/lib/python3.10/site-packages (from requests>=2.19.0->tensorflow-datasets) (2022.9.24)\n",
      "Requirement already satisfied: six in /opt/conda/lib/python3.10/site-packages (from promise->tensorflow-datasets) (1.16.0)\n",
      "Collecting googleapis-common-protos<2,>=1.52.0\n",
      "  Using cached googleapis_common_protos-1.60.0-py2.py3-none-any.whl (227 kB)\n",
      "Collecting protobuf>=3.20\n",
      "  Using cached protobuf-3.20.3-cp310-cp310-manylinux_2_12_x86_64.manylinux2010_x86_64.whl (1.1 MB)\n",
      "Installing collected packages: dm-tree, protobuf, promise, etils, googleapis-common-protos, tensorflow-metadata, array-record, tensorflow-datasets\n",
      "  Attempting uninstall: protobuf\n",
      "    Found existing installation: protobuf 4.21.10\n",
      "    Uninstalling protobuf-4.21.10:\n",
      "      Successfully uninstalled protobuf-4.21.10\n",
      "Successfully installed array-record-0.4.1 dm-tree-0.1.8 etils-1.4.1 googleapis-common-protos-1.60.0 promise-2.3 protobuf-3.20.3 tensorflow-datasets-4.9.2 tensorflow-metadata-1.14.0\n",
      "\n",
      "\u001b[1m[\u001b[0m\u001b[34;49mnotice\u001b[0m\u001b[1;39;49m]\u001b[0m\u001b[39;49m A new release of pip available: \u001b[0m\u001b[31;49m23.1.1\u001b[0m\u001b[39;49m -> \u001b[0m\u001b[32;49m23.2.1\u001b[0m\n",
      "\u001b[1m[\u001b[0m\u001b[34;49mnotice\u001b[0m\u001b[1;39;49m]\u001b[0m\u001b[39;49m To update, run: \u001b[0m\u001b[32;49mpip install --upgrade pip\u001b[0m\n"
     ]
    }
   ],
   "source": [
    "!pip install pennylane\n",
    "!pip install transformers\n",
    "!pip install scikit-learn\n",
    "!pip install tensorflow\n",
    "!pip install tensorflow-datasets"
   ]
  },
  {
   "cell_type": "code",
   "execution_count": 2,
   "metadata": {
    "id": "ywONg92Q6ngm",
    "tags": []
   },
   "outputs": [
    {
     "name": "stderr",
     "output_type": "stream",
     "text": [
      "2023-08-13 11:08:47.913781: I tensorflow/core/platform/cpu_feature_guard.cc:182] This TensorFlow binary is optimized to use available CPU instructions in performance-critical operations.\n",
      "To enable the following instructions: AVX2 FMA, in other operations, rebuild TensorFlow with the appropriate compiler flags.\n",
      "2023-08-13 11:08:49.212587: W tensorflow/compiler/tf2tensorrt/utils/py_utils.cc:38] TF-TRT Warning: Could not find TensorRT\n"
     ]
    }
   ],
   "source": [
    "import pennylane as qml\n",
    "import torch\n",
    "from torch import Tensor\n",
    "import numpy as np\n",
    "import torch.nn as nn\n",
    "\n",
    "from tqdm.notebook import tqdm\n",
    "\n",
    "from transformers import AutoTokenizer\n",
    "\n",
    "from torch.utils.data import DataLoader, Dataset\n",
    "from tensorflow import compat\n",
    "import tensorflow_datasets as tfds\n",
    "import scipy\n",
    "\n",
    "from pathlib import Path\n",
    "import pandas as pd\n",
    "from joblib import load, dump\n",
    "from sklearn.model_selection import train_test_split\n",
    "\n",
    "from torch.utils.data import DataLoader, Dataset\n",
    "import torch.utils.data as data_utils\n",
    "\n",
    "from collections import Counter"
   ]
  },
  {
   "cell_type": "markdown",
   "metadata": {
    "jp-MarkdownHeadingCollapsed": true,
    "tags": []
   },
   "source": [
    "# Model"
   ]
  },
  {
   "cell_type": "code",
   "execution_count": 3,
   "metadata": {
    "id": "3imeigZlDNO3",
    "tags": []
   },
   "outputs": [],
   "source": [
    "import functools\n",
    "import inspect\n",
    "import math\n",
    "from collections.abc import Iterable\n",
    "from typing import Callable, Dict, Union, Any\n",
    "\n",
    "from pennylane.qnode import QNode\n",
    "\n",
    "try:\n",
    "    import torch\n",
    "    from torch.nn import Module\n",
    "\n",
    "    TORCH_IMPORTED = True\n",
    "except ImportError:\n",
    "    # The following allows this module to be imported even if PyTorch is not installed. Users\n",
    "    # will instead see an ImportError when instantiating the TorchLayer.\n",
    "    from unittest.mock import Mock\n",
    "\n",
    "    Module = Mock\n",
    "    TORCH_IMPORTED = False\n",
    "\n",
    "\n",
    "class TorchLayer(Module):\n",
    "    def __init__(self,qnode,weights):\n",
    "        if not TORCH_IMPORTED:\n",
    "            raise ImportError(\n",
    "                \"TorchLayer requires PyTorch. PyTorch can be installed using:\\n\"\n",
    "                \"pip install torch\\nAlternatively, \"\n",
    "                \"visit https://pytorch.org/get-started/locally/ for detailed \"\n",
    "                \"instructions.\"\n",
    "            )\n",
    "        super().__init__()\n",
    "\n",
    "        #weight_shapes = {\n",
    "        #    weight: (tuple(size) if isinstance(size, Iterable) else () if size == 1 else (size,))\n",
    "        #    for weight, size in weight_shapes.items()\n",
    "        #}\n",
    "\n",
    "        # validate the QNode signature, and convert to a Torch QNode.\n",
    "        # TODO: update the docstring regarding changes to restrictions when tape mode is default.\n",
    "        #self._signature_validation(qnode, weight_shapes)\n",
    "        self.qnode = qnode\n",
    "        self.qnode.interface = \"torch\"\n",
    "\n",
    "        self.qnode_weights = weights\n",
    "\n",
    "    def forward(self, inputs):  # pylint: disable=arguments-differ\n",
    "        \"\"\"Evaluates a forward pass through the QNode based upon input data and the initialized\n",
    "        weights.\n",
    "\n",
    "        Args:\n",
    "            inputs (tensor): data to be processed\n",
    "\n",
    "        Returns:\n",
    "            tensor: output data\n",
    "        \"\"\"\n",
    "\n",
    "        if len(inputs.shape) > 1:\n",
    "            # If the input size is not 1-dimensional, unstack the input along its first dimension,\n",
    "            # recursively call the forward pass on each of the yielded tensors, and then stack the\n",
    "            # outputs back into the correct shape\n",
    "            reconstructor = [self.forward(x) for x in torch.unbind(inputs)]\n",
    "            return torch.stack(reconstructor)\n",
    "\n",
    "        # If the input is 1-dimensional, calculate the forward pass as usual\n",
    "        return self._evaluate_qnode(inputs)\n",
    "\n",
    "\n",
    "    def _evaluate_qnode(self, x):\n",
    "        \"\"\"Evaluates the QNode for a single input datapoint.\n",
    "\n",
    "        Args:\n",
    "            x (tensor): the datapoint\n",
    "\n",
    "        Returns:\n",
    "            tensor: output datapoint\n",
    "        \"\"\"\n",
    "        kwargs = {\n",
    "            **{self.input_arg: x},\n",
    "            **{arg: weight.to(x) for arg, weight in self.qnode_weights.items()},\n",
    "        }\n",
    "        res = self.qnode(**kwargs)\n",
    "\n",
    "        if isinstance(res, torch.Tensor):\n",
    "            return res.type(x.dtype)\n",
    "\n",
    "        return torch.hstack(res).type(x.dtype)\n",
    "\n",
    "    def __str__(self):\n",
    "        detail = \"<Quantum Torch Layer: func={}>\"\n",
    "        return detail.format(self.qnode.func.__name__)\n",
    "\n",
    "    __repr__ = __str__\n",
    "    _input_arg = \"inputs\"\n",
    "\n",
    "    @property\n",
    "    def input_arg(self):\n",
    "        \"\"\"Name of the argument to be used as the input to the Torch layer. Set to ``\"inputs\"``.\"\"\"\n",
    "        return self._input_arg"
   ]
  },
  {
   "cell_type": "code",
   "execution_count": 4,
   "metadata": {
    "id": "Bgv6jKSGI5ZU",
    "tags": []
   },
   "outputs": [],
   "source": [
    "class qrnn(torch.nn.Module):\n",
    "\n",
    "    def __init__(self,S,q_n_h,q_n_d,D,voc_size=20):\n",
    "        \"\"\"\n",
    "        # input: input data\n",
    "        # weight: trainable parameter\n",
    "        # q_n_h: # of of qubits for encodong input\n",
    "        # q_n_d: # of of qubits for memerizing history\n",
    "        # d: embedding dimension which is equal to q_n_h*(Denc+2)\n",
    "        # Denc: the # number of layers for encoding\n",
    "        # D: the # of layers of variational layers\n",
    "        \"\"\"\n",
    "        super().__init__()\n",
    "        self.voc_size=voc_size\n",
    "        self.seq_num=S\n",
    "        self.num_q=q_n_h+q_n_d\n",
    "        self.q_n_d=q_n_d\n",
    "        self.q_n_h=q_n_h\n",
    "        self.init_params=torch.nn.Parameter((np.pi/4) * (2 * torch.randn(self.num_q*(3*D+2)*self.seq_num) - 1))\n",
    "\n",
    "        self.D=D\n",
    "        self.d=q_n_h\n",
    "        self.params_num_per_lyr=self.num_q*(3*D+2)\n",
    "\n",
    "        self.dev = qml.device(\"default.qubit\", wires=self.num_q)\n",
    "        self.qnod=qml.QNode(self.circuit, self.dev, interface=\"torch\")\n",
    "        self.weight = {\"weights\": self.init_params}\n",
    "        self.QRNN = TorchLayer(self.qnod, self.weight)\n",
    "\n",
    "    def circuit(self,inputs,weights):\n",
    "\n",
    "        for sq in range(self.seq_num):\n",
    "            start=sq*self.d\n",
    "            end=(sq+1)*self.d\n",
    "            self.Feature_map(inputs[start:end])\n",
    "            start=sq*self.params_num_per_lyr\n",
    "            end=(sq+1)*self.params_num_per_lyr\n",
    "            self.ansatz(self.init_params[start:end])\n",
    "\n",
    "        return qml.expval(qml.PauliZ(0))\n",
    "\n",
    "    def ansatz(self,weights):\n",
    "        indx=0\n",
    "        for j in range(self.num_q):\n",
    "            qml.RX(weights[indx],wires=j)\n",
    "            qml.RZ(weights[indx+1],wires=j)\n",
    "            qml.RX(weights[indx+2],wires=j)\n",
    "            indx+=2\n",
    "        for i in range(self.D):\n",
    "            for j in range(self.num_q):\n",
    "                qml.IsingZZ(weights[indx],wires=[j,(j+1)%self.num_q])\n",
    "                #qml.CNOT(wires=[j,(j+1)%self.num_q])\n",
    "                #qml.RZ(weights[indx],wires=(j+1)%self.num_q)\n",
    "                #qml.CNOT(wires=[j,(j+1)%self.num_q])\n",
    "                indx+=1\n",
    "            for j in range(self.num_q):\n",
    "                #qml.RX(weights[indx],wires=j)\n",
    "                qml.RY(weights[indx],wires=j)\n",
    "                indx+=1\n",
    "\n",
    "    def Feature_map(self, input):\n",
    "        indx=0\n",
    "        for j in range(self.q_n_h):\n",
    "            qml.RY(input[indx],j+self.q_n_d)\n",
    "\n",
    "    def forward(self, x):\n",
    "\n",
    "        x=self.QRNN(x)\n",
    "        return torch.sigmoid(x)"
   ]
  },
  {
   "cell_type": "markdown",
   "metadata": {
    "jp-MarkdownHeadingCollapsed": true,
    "tags": []
   },
   "source": [
    "# MC RP DATASET"
   ]
  },
  {
   "cell_type": "code",
   "execution_count": 3,
   "metadata": {
    "colab": {
     "base_uri": "https://localhost:8080/"
    },
    "id": "w-DUQNiQ9Eys",
    "outputId": "394d0549-3839-461b-9910-2859d9f18854"
   },
   "outputs": [
    {
     "name": "stdout",
     "output_type": "stream",
     "text": [
      "fatal: destination path 'qnlp_lorenz_etal_2021_resources' already exists and is not an empty directory.\n",
      "mv: cannot stat 'qnlp_lorenz_etal_2021_resources/datasets': No such file or directory\n"
     ]
    }
   ],
   "source": [
    "!git clone https://github.com/CQCL/qnlp_lorenz_etal_2021_resources\n",
    "!mv qnlp_lorenz_etal_2021_resources/datasets mc_rp_dataset"
   ]
  },
  {
   "cell_type": "code",
   "execution_count": 4,
   "metadata": {
    "id": "UaCsVIVZ9j8m"
   },
   "outputs": [],
   "source": [
    "mc_rp_sets_path = Path(\"mc_rp_dataset\")\n",
    "mc_rp_sets = list(mc_rp_sets_path.glob(\"*.txt\"))\n",
    "mc_datasets, rp_datasets = list(filter(lambda x: x.name.startswith(\"mc\"), mc_rp_sets)), list(filter(lambda x: x.name.startswith(\"rp\"), mc_rp_sets))"
   ]
  },
  {
   "cell_type": "code",
   "execution_count": 5,
   "metadata": {
    "id": "7XqBoPxt7LxE"
   },
   "outputs": [],
   "source": [
    "def read_process_mcrp(datapaths: dict):\n",
    "  def rm(text):\n",
    "    return \" \".join(list(map(lambda x: x[:x.find('_')], text.split())))\n",
    "  retval = {}\n",
    "  for datapath in datapaths:\n",
    "    if \"rp\" in str(datapath):\n",
    "      sel = 2\n",
    "    else:\n",
    "      sel = 3\n",
    "    df = pd.DataFrame(list(map(lambda x: [int(x[0]), x[sel:]], datapath.read_text().split(\"\\n\"))), columns=['label', 'text'])\n",
    "    df['text'] = df['text'].apply(rm)\n",
    "    retval[datapath.name.split(\".\")[0]] = df\n",
    "  return retval\n",
    "\n",
    "mc_data, rp_data = read_process_mcrp(mc_datasets), read_process_mcrp(rp_datasets)\n",
    "MRP_BATCH_SIZE = 30"
   ]
  },
  {
   "cell_type": "code",
   "execution_count": 6,
   "metadata": {
    "id": "e_n7IZrRQXpK"
   },
   "outputs": [],
   "source": [
    "def data_frame_simple_txt2vec(data,keystr,shape,min_length=4,w_dict=None):\n",
    "    txt_lst=[]\n",
    "    max_len=0\n",
    "    for txt in data[keystr].text:\n",
    "        txtsplit=txt.split()\n",
    "        txt_lst=txt_lst+txtsplit\n",
    "        if max_len< len(txtsplit):\n",
    "            max_len=len(txtsplit)\n",
    "    w_set=set(txt_lst)\n",
    "\n",
    "    comm_lst=Counter(txt_lst).most_common()\n",
    "\n",
    "    if w_dict==None:\n",
    "        w_dict={}\n",
    "        ind=len(comm_lst)\n",
    "        for elem in comm_lst:\n",
    "            w_dict[elem[0]]=ind\n",
    "            ind-=1\n",
    "    #w_dict={}\n",
    "    #ind=1\n",
    "    #for elem in w_set:\n",
    "    #    w_dict[elem]=ind\n",
    "    #    ind+=1\n",
    "\n",
    "    if max_len%2 !=0:\n",
    "        max_len+=1\n",
    "    if max_len<min_length:\n",
    "        max_len=min_length\n",
    "\n",
    "    label_list=[]\n",
    "    Txt_list=[]\n",
    "    for i, txt in enumerate(data[keystr].text):\n",
    "        w_list=[]\n",
    "        for word in data[keystr].text[i].split():\n",
    "            if word in w_dict:\n",
    "                w_list.append(w_dict[word])\n",
    "            else:\n",
    "                w_list.append(len(w_dict.keys())+1)\n",
    "        if len(w_list) < max_len:\n",
    "            w_list=w_list+(max_len-len(w_list))*[0]\n",
    "        #print(torch.tensor(w_list))\n",
    "        label_list.append(torch.tensor(data[keystr].label[i]))\n",
    "        Txt_list.append(torch.tensor(w_list).reshape(shape)*np.pi/len(comm_lst)/2)\n",
    "    label_tensor=torch.tensor(label_list)\n",
    "    txt_tensor=torch.stack(Txt_list)\n",
    "\n",
    "    return data_utils.TensorDataset(txt_tensor,label_tensor),w_dict"
   ]
  },
  {
   "cell_type": "markdown",
   "metadata": {},
   "source": [
    "## MC Task"
   ]
  },
  {
   "cell_type": "code",
   "execution_count": 7,
   "metadata": {
    "id": "WjI7xwY79Zs3"
   },
   "outputs": [],
   "source": [
    "shape=(4)\n",
    "\n",
    "mc_df_train,train_dict=data_frame_simple_txt2vec(mc_data,'mc_train_data',shape)\n",
    "mc_df_test,_=data_frame_simple_txt2vec(mc_data,'mc_test_data',shape,w_dict=train_dict)\n",
    "\n",
    "mc_trainloader = DataLoader(mc_df_train, shuffle=True, batch_size=30)\n",
    "mc_testloader = DataLoader(mc_df_test, shuffle=True, batch_size=30)"
   ]
  },
  {
   "cell_type": "code",
   "execution_count": 10,
   "metadata": {
    "id": "b8aFCz6hvkho"
   },
   "outputs": [],
   "source": [
    "def binary_accuracy(preds, y):\n",
    "    \"\"\"\n",
    "    Returns accuracy per batch, i.e. if you get 8/10 right, this returns 0.8, NOT 8\n",
    "    \"\"\"\n",
    "\n",
    "    #round predictions to the closest integer\n",
    "    rounded_preds = (torch.round(torch.sign(preds-0.5))+1)//2\n",
    "    correct = (rounded_preds == y).float() #convert into float for division\n",
    "    acc = correct.sum() / len(correct)\n",
    "    return acc"
   ]
  },
  {
   "cell_type": "code",
   "execution_count": 11,
   "metadata": {
    "id": "jx_7fQx-qAII"
   },
   "outputs": [],
   "source": [
    "model = qrnn(4,1,3,2)"
   ]
  },
  {
   "cell_type": "code",
   "execution_count": 12,
   "metadata": {
    "colab": {
     "base_uri": "https://localhost:8080/"
    },
    "id": "XR-31ahW93fb",
    "outputId": "ca04bf2d-f92e-4782-cc7e-7c3f000d05af"
   },
   "outputs": [
    {
     "name": "stdout",
     "output_type": "stream",
     "text": [
      "128\n"
     ]
    }
   ],
   "source": [
    "trainable_params = sum(p.numel() for p in model.parameters() if p.requires_grad)\n",
    "print(trainable_params)"
   ]
  },
  {
   "cell_type": "code",
   "execution_count": 13,
   "metadata": {
    "colab": {
     "base_uri": "https://localhost:8080/"
    },
    "id": "DZOU5OOyad8l",
    "outputId": "3f2f3a9f-5a4d-4f1d-fda8-17dfd42d2b6e",
    "scrolled": true,
    "tags": []
   },
   "outputs": [
    {
     "name": "stdout",
     "output_type": "stream",
     "text": [
      "Epoch: 0 | Batch: 0 | Loss 0.6494042277336121\n",
      "Epoch: 0 | Batch: 1 | Loss 0.6984403729438782\n",
      "Epoch: 0 | Batch: 2 | Loss 0.7219951748847961\n",
      "Epoch 0 Training Accuracy: tensor(0.5222)\n",
      "Testing Accuracy: tensor(0.5000)\n",
      "Epoch: 1 | Batch: 0 | Loss 0.6711748838424683\n",
      "Epoch: 1 | Batch: 1 | Loss 0.6526397466659546\n",
      "Epoch: 1 | Batch: 2 | Loss 0.6134403347969055\n",
      "Epoch 1 Training Accuracy: tensor(0.5889)\n",
      "Testing Accuracy: tensor(0.5000)\n",
      "Epoch: 2 | Batch: 0 | Loss 0.6534045934677124\n",
      "Epoch: 2 | Batch: 1 | Loss 0.6310886144638062\n",
      "Epoch: 2 | Batch: 2 | Loss 0.5810405015945435\n",
      "Epoch 2 Training Accuracy: tensor(0.6333)\n",
      "Testing Accuracy: tensor(0.6333)\n",
      "Epoch: 3 | Batch: 0 | Loss 0.6330143809318542\n",
      "Epoch: 3 | Batch: 1 | Loss 0.601358950138092\n",
      "Epoch: 3 | Batch: 2 | Loss 0.6109526753425598\n",
      "Epoch 3 Training Accuracy: tensor(0.7778)\n",
      "Testing Accuracy: tensor(0.7000)\n",
      "Epoch: 4 | Batch: 0 | Loss 0.6434726119041443\n",
      "Epoch: 4 | Batch: 1 | Loss 0.5826245546340942\n",
      "Epoch: 4 | Batch: 2 | Loss 0.5399240255355835\n",
      "Epoch 4 Training Accuracy: tensor(0.8778)\n",
      "Testing Accuracy: tensor(0.6667)\n",
      "Epoch: 5 | Batch: 0 | Loss 0.5918280482292175\n",
      "Epoch: 5 | Batch: 1 | Loss 0.6125984191894531\n",
      "Epoch: 5 | Batch: 2 | Loss 0.5215402841567993\n",
      "Epoch 5 Training Accuracy: tensor(0.8667)\n",
      "Testing Accuracy: tensor(0.6667)\n",
      "Epoch: 6 | Batch: 0 | Loss 0.6067029237747192\n",
      "Epoch: 6 | Batch: 1 | Loss 0.5318429470062256\n",
      "Epoch: 6 | Batch: 2 | Loss 0.6521061658859253\n",
      "Epoch 6 Training Accuracy: tensor(0.8222)\n",
      "Testing Accuracy: tensor(0.7333)\n",
      "Epoch: 7 | Batch: 0 | Loss 0.583890974521637\n",
      "Epoch: 7 | Batch: 1 | Loss 0.5485265851020813\n",
      "Epoch: 7 | Batch: 2 | Loss 0.6029657125473022\n",
      "Epoch 7 Training Accuracy: tensor(0.8556)\n",
      "Testing Accuracy: tensor(0.6667)\n",
      "Epoch: 8 | Batch: 0 | Loss 0.5799450278282166\n",
      "Epoch: 8 | Batch: 1 | Loss 0.5234906673431396\n",
      "Epoch: 8 | Batch: 2 | Loss 0.6347771286964417\n",
      "Epoch 8 Training Accuracy: tensor(0.8444)\n",
      "Testing Accuracy: tensor(0.6667)\n",
      "Epoch: 9 | Batch: 0 | Loss 0.553411066532135\n",
      "Epoch: 9 | Batch: 1 | Loss 0.5677488446235657\n",
      "Epoch: 9 | Batch: 2 | Loss 0.5572959184646606\n",
      "Epoch 9 Training Accuracy: tensor(0.9222)\n",
      "Testing Accuracy: tensor(0.6667)\n",
      "Epoch: 10 | Batch: 0 | Loss 0.5807639956474304\n",
      "Epoch: 10 | Batch: 1 | Loss 0.5044685006141663\n",
      "Epoch: 10 | Batch: 2 | Loss 0.6214724779129028\n",
      "Epoch 10 Training Accuracy: tensor(0.8111)\n",
      "Testing Accuracy: tensor(0.6667)\n",
      "Epoch: 11 | Batch: 0 | Loss 0.5468724370002747\n",
      "Epoch: 11 | Batch: 1 | Loss 0.5331543684005737\n",
      "Epoch: 11 | Batch: 2 | Loss 0.6082732677459717\n",
      "Epoch 11 Training Accuracy: tensor(0.8444)\n",
      "Testing Accuracy: tensor(0.6667)\n",
      "Epoch: 12 | Batch: 0 | Loss 0.5524566769599915\n",
      "Epoch: 12 | Batch: 1 | Loss 0.543300986289978\n",
      "Epoch: 12 | Batch: 2 | Loss 0.5254710912704468\n",
      "Epoch 12 Training Accuracy: tensor(0.9222)\n",
      "Testing Accuracy: tensor(0.6667)\n",
      "Epoch: 13 | Batch: 0 | Loss 0.5580680966377258\n",
      "Epoch: 13 | Batch: 1 | Loss 0.5356346964836121\n",
      "Epoch: 13 | Batch: 2 | Loss 0.5084546804428101\n",
      "Epoch 13 Training Accuracy: tensor(0.9222)\n",
      "Testing Accuracy: tensor(0.6667)\n",
      "Epoch: 14 | Batch: 0 | Loss 0.5660082697868347\n",
      "Epoch: 14 | Batch: 1 | Loss 0.5317049622535706\n",
      "Epoch: 14 | Batch: 2 | Loss 0.4754105508327484\n",
      "Epoch 14 Training Accuracy: tensor(0.9000)\n",
      "Testing Accuracy: tensor(0.6667)\n",
      "Epoch: 15 | Batch: 0 | Loss 0.5585504174232483\n",
      "Epoch: 15 | Batch: 1 | Loss 0.5261372327804565\n",
      "Epoch: 15 | Batch: 2 | Loss 0.49722951650619507\n",
      "Epoch 15 Training Accuracy: tensor(0.9222)\n",
      "Testing Accuracy: tensor(0.6667)\n",
      "Epoch: 16 | Batch: 0 | Loss 0.5159148573875427\n",
      "Epoch: 16 | Batch: 1 | Loss 0.5663964152336121\n",
      "Epoch: 16 | Batch: 2 | Loss 0.487382709980011\n",
      "Epoch 16 Training Accuracy: tensor(0.9222)\n",
      "Testing Accuracy: tensor(0.6667)\n",
      "Epoch: 17 | Batch: 0 | Loss 0.5432096123695374\n",
      "Epoch: 17 | Batch: 1 | Loss 0.49319496750831604\n",
      "Epoch: 17 | Batch: 2 | Loss 0.6212880611419678\n",
      "Epoch 17 Training Accuracy: tensor(0.8111)\n",
      "Testing Accuracy: tensor(0.6667)\n",
      "Epoch: 18 | Batch: 0 | Loss 0.5256194472312927\n",
      "Epoch: 18 | Batch: 1 | Loss 0.5463398694992065\n",
      "Epoch: 18 | Batch: 2 | Loss 0.4924575686454773\n",
      "Epoch 18 Training Accuracy: tensor(0.9111)\n",
      "Testing Accuracy: tensor(0.6667)\n",
      "Epoch: 19 | Batch: 0 | Loss 0.5371845364570618\n",
      "Epoch: 19 | Batch: 1 | Loss 0.5113306045532227\n",
      "Epoch: 19 | Batch: 2 | Loss 0.5525192618370056\n",
      "Epoch 19 Training Accuracy: tensor(0.9000)\n",
      "Testing Accuracy: tensor(0.6667)\n",
      "Epoch: 20 | Batch: 0 | Loss 0.536164402961731\n",
      "Epoch: 20 | Batch: 1 | Loss 0.5281825661659241\n",
      "Epoch: 20 | Batch: 2 | Loss 0.5012895464897156\n",
      "Epoch 20 Training Accuracy: tensor(0.8778)\n",
      "Testing Accuracy: tensor(0.7333)\n",
      "Epoch: 21 | Batch: 0 | Loss 0.5277279019355774\n",
      "Epoch: 21 | Batch: 1 | Loss 0.5323034524917603\n",
      "Epoch: 21 | Batch: 2 | Loss 0.5226074457168579\n",
      "Epoch 21 Training Accuracy: tensor(0.8222)\n",
      "Testing Accuracy: tensor(0.7333)\n",
      "Epoch: 22 | Batch: 0 | Loss 0.5627354979515076\n",
      "Epoch: 22 | Batch: 1 | Loss 0.5075004696846008\n",
      "Epoch: 22 | Batch: 2 | Loss 0.4809834063053131\n",
      "Epoch 22 Training Accuracy: tensor(0.8667)\n",
      "Testing Accuracy: tensor(0.7000)\n",
      "Epoch: 23 | Batch: 0 | Loss 0.49746233224868774\n",
      "Epoch: 23 | Batch: 1 | Loss 0.5438050031661987\n",
      "Epoch: 23 | Batch: 2 | Loss 0.54978346824646\n",
      "Epoch 23 Training Accuracy: tensor(0.8333)\n",
      "Testing Accuracy: tensor(0.6667)\n",
      "Epoch: 24 | Batch: 0 | Loss 0.528617799282074\n",
      "Epoch: 24 | Batch: 1 | Loss 0.4978501498699188\n",
      "Epoch: 24 | Batch: 2 | Loss 0.5838392376899719\n",
      "Epoch 24 Training Accuracy: tensor(0.8444)\n",
      "Testing Accuracy: tensor(0.6667)\n",
      "Epoch: 25 | Batch: 0 | Loss 0.5192365646362305\n",
      "Epoch: 25 | Batch: 1 | Loss 0.5334644317626953\n",
      "Epoch: 25 | Batch: 2 | Loss 0.4970417618751526\n",
      "Epoch 25 Training Accuracy: tensor(0.9111)\n",
      "Testing Accuracy: tensor(0.6667)\n",
      "Epoch: 26 | Batch: 0 | Loss 0.5517591834068298\n",
      "Epoch: 26 | Batch: 1 | Loss 0.48896685242652893\n",
      "Epoch: 26 | Batch: 2 | Loss 0.5320301055908203\n",
      "Epoch 26 Training Accuracy: tensor(0.8556)\n",
      "Testing Accuracy: tensor(0.6667)\n",
      "Epoch: 27 | Batch: 0 | Loss 0.5018950700759888\n",
      "Epoch: 27 | Batch: 1 | Loss 0.5556326508522034\n",
      "Epoch: 27 | Batch: 2 | Loss 0.4714464545249939\n",
      "Epoch 27 Training Accuracy: tensor(0.9000)\n",
      "Testing Accuracy: tensor(0.6667)\n",
      "Epoch: 28 | Batch: 0 | Loss 0.484272837638855\n",
      "Epoch: 28 | Batch: 1 | Loss 0.5453815460205078\n",
      "Epoch: 28 | Batch: 2 | Loss 0.5473049879074097\n",
      "Epoch 28 Training Accuracy: tensor(0.8889)\n",
      "Testing Accuracy: tensor(0.6667)\n",
      "Epoch: 29 | Batch: 0 | Loss 0.5506733655929565\n",
      "Epoch: 29 | Batch: 1 | Loss 0.49924391508102417\n",
      "Epoch: 29 | Batch: 2 | Loss 0.4892188012599945\n",
      "Epoch 29 Training Accuracy: tensor(0.9111)\n",
      "Testing Accuracy: tensor(0.6667)\n",
      "Epoch: 30 | Batch: 0 | Loss 0.471466600894928\n",
      "Epoch: 30 | Batch: 1 | Loss 0.5630382299423218\n",
      "Epoch: 30 | Batch: 2 | Loss 0.5301605463027954\n",
      "Epoch 30 Training Accuracy: tensor(0.8667)\n",
      "Testing Accuracy: tensor(0.6667)\n",
      "Epoch: 31 | Batch: 0 | Loss 0.5446039438247681\n",
      "Epoch: 31 | Batch: 1 | Loss 0.5119593739509583\n",
      "Epoch: 31 | Batch: 2 | Loss 0.45584791898727417\n",
      "Epoch 31 Training Accuracy: tensor(0.9111)\n",
      "Testing Accuracy: tensor(0.6667)\n",
      "Epoch: 32 | Batch: 0 | Loss 0.49339160323143005\n",
      "Epoch: 32 | Batch: 1 | Loss 0.5321869254112244\n",
      "Epoch: 32 | Batch: 2 | Loss 0.544297456741333\n",
      "Epoch 32 Training Accuracy: tensor(0.8444)\n",
      "Testing Accuracy: tensor(0.6667)\n",
      "Epoch: 33 | Batch: 0 | Loss 0.5337625741958618\n",
      "Epoch: 33 | Batch: 1 | Loss 0.4986822009086609\n",
      "Epoch: 33 | Batch: 2 | Loss 0.5194881558418274\n",
      "Epoch 33 Training Accuracy: tensor(0.8444)\n",
      "Testing Accuracy: tensor(0.7333)\n",
      "Epoch: 34 | Batch: 0 | Loss 0.48579591512680054\n",
      "Epoch: 34 | Batch: 1 | Loss 0.5183500647544861\n",
      "Epoch: 34 | Batch: 2 | Loss 0.6131772994995117\n",
      "Epoch 34 Training Accuracy: tensor(0.8000)\n",
      "Testing Accuracy: tensor(0.7333)\n",
      "Epoch: 35 | Batch: 0 | Loss 0.5088159441947937\n",
      "Epoch: 35 | Batch: 1 | Loss 0.5136944055557251\n",
      "Epoch: 35 | Batch: 2 | Loss 0.5588560104370117\n",
      "Epoch 35 Training Accuracy: tensor(0.8000)\n",
      "Testing Accuracy: tensor(0.7333)\n",
      "Epoch: 36 | Batch: 0 | Loss 0.49113526940345764\n",
      "Epoch: 36 | Batch: 1 | Loss 0.5437759160995483\n",
      "Epoch: 36 | Batch: 2 | Loss 0.5105928182601929\n",
      "Epoch 36 Training Accuracy: tensor(0.8222)\n",
      "Testing Accuracy: tensor(0.7000)\n",
      "Epoch: 37 | Batch: 0 | Loss 0.5252029299736023\n",
      "Epoch: 37 | Batch: 1 | Loss 0.5356292724609375\n",
      "Epoch: 37 | Batch: 2 | Loss 0.4223100543022156\n",
      "Epoch 37 Training Accuracy: tensor(0.8667)\n",
      "Testing Accuracy: tensor(0.6667)\n",
      "Epoch: 38 | Batch: 0 | Loss 0.5412772297859192\n",
      "Epoch: 38 | Batch: 1 | Loss 0.4973878264427185\n",
      "Epoch: 38 | Batch: 2 | Loss 0.488411009311676\n",
      "Epoch 38 Training Accuracy: tensor(0.8778)\n",
      "Testing Accuracy: tensor(0.6667)\n",
      "Epoch: 39 | Batch: 0 | Loss 0.49682146310806274\n",
      "Epoch: 39 | Batch: 1 | Loss 0.5170490741729736\n",
      "Epoch: 39 | Batch: 2 | Loss 0.5553895235061646\n",
      "Epoch 39 Training Accuracy: tensor(0.9000)\n",
      "Testing Accuracy: tensor(0.6667)\n",
      "Epoch: 40 | Batch: 0 | Loss 0.5325419306755066\n",
      "Epoch: 40 | Batch: 1 | Loss 0.45657163858413696\n",
      "Epoch: 40 | Batch: 2 | Loss 0.6316210031509399\n",
      "Epoch 40 Training Accuracy: tensor(0.8444)\n",
      "Testing Accuracy: tensor(0.6667)\n",
      "Epoch: 41 | Batch: 0 | Loss 0.5216752886772156\n",
      "Epoch: 41 | Batch: 1 | Loss 0.5278992056846619\n",
      "Epoch: 41 | Batch: 2 | Loss 0.4398898482322693\n",
      "Epoch 41 Training Accuracy: tensor(0.9111)\n",
      "Testing Accuracy: tensor(0.6667)\n",
      "Epoch: 42 | Batch: 0 | Loss 0.5504785776138306\n",
      "Epoch: 42 | Batch: 1 | Loss 0.4817143976688385\n",
      "Epoch: 42 | Batch: 2 | Loss 0.48646897077560425\n",
      "Epoch 42 Training Accuracy: tensor(0.8889)\n",
      "Testing Accuracy: tensor(0.7000)\n",
      "Epoch: 43 | Batch: 0 | Loss 0.5296295881271362\n",
      "Epoch: 43 | Batch: 1 | Loss 0.5079125761985779\n",
      "Epoch: 43 | Batch: 2 | Loss 0.47757044434547424\n",
      "Epoch 43 Training Accuracy: tensor(0.8222)\n",
      "Testing Accuracy: tensor(0.7333)\n",
      "Epoch: 44 | Batch: 0 | Loss 0.4834526777267456\n",
      "Epoch: 44 | Batch: 1 | Loss 0.5367734432220459\n",
      "Epoch: 44 | Batch: 2 | Loss 0.5327689051628113\n",
      "Epoch 44 Training Accuracy: tensor(0.8222)\n",
      "Testing Accuracy: tensor(0.7333)\n",
      "Epoch: 45 | Batch: 0 | Loss 0.5119546055793762\n",
      "Epoch: 45 | Batch: 1 | Loss 0.5143325924873352\n",
      "Epoch: 45 | Batch: 2 | Loss 0.503645122051239\n",
      "Epoch 45 Training Accuracy: tensor(0.8556)\n",
      "Testing Accuracy: tensor(0.6667)\n",
      "Epoch: 46 | Batch: 0 | Loss 0.4751938283443451\n",
      "Epoch: 46 | Batch: 1 | Loss 0.5587056279182434\n",
      "Epoch: 46 | Batch: 2 | Loss 0.4791727662086487\n",
      "Epoch 46 Training Accuracy: tensor(0.8778)\n",
      "Testing Accuracy: tensor(0.6667)\n",
      "Epoch: 47 | Batch: 0 | Loss 0.5292111039161682\n",
      "Epoch: 47 | Batch: 1 | Loss 0.49338996410369873\n",
      "Epoch: 47 | Batch: 2 | Loss 0.5097564458847046\n",
      "Epoch 47 Training Accuracy: tensor(0.8889)\n",
      "Testing Accuracy: tensor(0.6667)\n",
      "Epoch: 48 | Batch: 0 | Loss 0.558573305606842\n",
      "Epoch: 48 | Batch: 1 | Loss 0.4722919762134552\n",
      "Epoch: 48 | Batch: 2 | Loss 0.4805363118648529\n",
      "Epoch 48 Training Accuracy: tensor(0.9111)\n",
      "Testing Accuracy: tensor(0.6667)\n",
      "Epoch: 49 | Batch: 0 | Loss 0.5436322093009949\n",
      "Epoch: 49 | Batch: 1 | Loss 0.5123342275619507\n",
      "Epoch: 49 | Batch: 2 | Loss 0.39820539951324463\n",
      "Epoch 49 Training Accuracy: tensor(0.9222)\n",
      "Testing Accuracy: tensor(0.6667)\n",
      "Epoch: 50 | Batch: 0 | Loss 0.5333625674247742\n",
      "Epoch: 50 | Batch: 1 | Loss 0.49960359930992126\n",
      "Epoch: 50 | Batch: 2 | Loss 0.4662376940250397\n",
      "Epoch 50 Training Accuracy: tensor(0.8889)\n",
      "Testing Accuracy: tensor(0.6667)\n",
      "Epoch: 51 | Batch: 0 | Loss 0.5297898650169373\n",
      "Epoch: 51 | Batch: 1 | Loss 0.5264118313789368\n",
      "Epoch: 51 | Batch: 2 | Loss 0.3969018757343292\n",
      "Epoch 51 Training Accuracy: tensor(0.8778)\n",
      "Testing Accuracy: tensor(0.6667)\n",
      "Epoch: 52 | Batch: 0 | Loss 0.5324429273605347\n",
      "Epoch: 52 | Batch: 1 | Loss 0.48466935753822327\n",
      "Epoch: 52 | Batch: 2 | Loss 0.5079351663589478\n",
      "Epoch 52 Training Accuracy: tensor(0.8444)\n",
      "Testing Accuracy: tensor(0.6667)\n",
      "Epoch: 53 | Batch: 0 | Loss 0.43808606266975403\n",
      "Epoch: 53 | Batch: 1 | Loss 0.561905562877655\n",
      "Epoch: 53 | Batch: 2 | Loss 0.5569471716880798\n",
      "Epoch 53 Training Accuracy: tensor(0.9000)\n",
      "Testing Accuracy: tensor(0.6667)\n",
      "Epoch: 54 | Batch: 0 | Loss 0.46033191680908203\n",
      "Epoch: 54 | Batch: 1 | Loss 0.5801779627799988\n",
      "Epoch: 54 | Batch: 2 | Loss 0.4517471194267273\n",
      "Epoch 54 Training Accuracy: tensor(0.8778)\n",
      "Testing Accuracy: tensor(0.6667)\n",
      "Epoch: 55 | Batch: 0 | Loss 0.4692862331867218\n",
      "Epoch: 55 | Batch: 1 | Loss 0.5698155164718628\n",
      "Epoch: 55 | Batch: 2 | Loss 0.4545983374118805\n",
      "Epoch 55 Training Accuracy: tensor(0.9333)\n",
      "Testing Accuracy: tensor(0.6667)\n",
      "Epoch: 56 | Batch: 0 | Loss 0.4770497679710388\n",
      "Epoch: 56 | Batch: 1 | Loss 0.5070518255233765\n",
      "Epoch: 56 | Batch: 2 | Loss 0.614952564239502\n",
      "Epoch 56 Training Accuracy: tensor(0.8222)\n",
      "Testing Accuracy: tensor(0.6667)\n",
      "Epoch: 57 | Batch: 0 | Loss 0.4828367233276367\n",
      "Epoch: 57 | Batch: 1 | Loss 0.524060070514679\n",
      "Epoch: 57 | Batch: 2 | Loss 0.527282178401947\n",
      "Epoch 57 Training Accuracy: tensor(0.8667)\n",
      "Testing Accuracy: tensor(0.6667)\n",
      "Epoch: 58 | Batch: 0 | Loss 0.4760313332080841\n",
      "Epoch: 58 | Batch: 1 | Loss 0.5397197008132935\n",
      "Epoch: 58 | Batch: 2 | Loss 0.505704939365387\n",
      "Epoch 58 Training Accuracy: tensor(0.8889)\n",
      "Testing Accuracy: tensor(0.6667)\n",
      "Epoch: 59 | Batch: 0 | Loss 0.49360179901123047\n",
      "Epoch: 59 | Batch: 1 | Loss 0.5173192024230957\n",
      "Epoch: 59 | Batch: 2 | Loss 0.5140589475631714\n",
      "Epoch 59 Training Accuracy: tensor(0.8889)\n",
      "Testing Accuracy: tensor(0.6667)\n",
      "Epoch: 60 | Batch: 0 | Loss 0.5161837935447693\n",
      "Epoch: 60 | Batch: 1 | Loss 0.5184836983680725\n",
      "Epoch: 60 | Batch: 2 | Loss 0.43779152631759644\n",
      "Epoch 60 Training Accuracy: tensor(0.8889)\n",
      "Testing Accuracy: tensor(0.6667)\n",
      "Epoch: 61 | Batch: 0 | Loss 0.4629300832748413\n",
      "Epoch: 61 | Batch: 1 | Loss 0.5359064936637878\n",
      "Epoch: 61 | Batch: 2 | Loss 0.545809805393219\n",
      "Epoch 61 Training Accuracy: tensor(0.8000)\n",
      "Testing Accuracy: tensor(0.7333)\n",
      "Epoch: 62 | Batch: 0 | Loss 0.4932560920715332\n",
      "Epoch: 62 | Batch: 1 | Loss 0.5243189334869385\n",
      "Epoch: 62 | Batch: 2 | Loss 0.501627504825592\n",
      "Epoch 62 Training Accuracy: tensor(0.8111)\n",
      "Testing Accuracy: tensor(0.7333)\n",
      "Epoch: 63 | Batch: 0 | Loss 0.47457367181777954\n",
      "Epoch: 63 | Batch: 1 | Loss 0.5083202719688416\n",
      "Epoch: 63 | Batch: 2 | Loss 0.6192115545272827\n",
      "Epoch 63 Training Accuracy: tensor(0.7556)\n",
      "Testing Accuracy: tensor(0.7333)\n",
      "Epoch: 64 | Batch: 0 | Loss 0.5351174473762512\n",
      "Epoch: 64 | Batch: 1 | Loss 0.4706318974494934\n",
      "Epoch: 64 | Batch: 2 | Loss 0.5404715538024902\n",
      "Epoch 64 Training Accuracy: tensor(0.8111)\n",
      "Testing Accuracy: tensor(0.6667)\n",
      "Epoch: 65 | Batch: 0 | Loss 0.5129554867744446\n",
      "Epoch: 65 | Batch: 1 | Loss 0.5042868852615356\n",
      "Epoch: 65 | Batch: 2 | Loss 0.4914611279964447\n",
      "Epoch 65 Training Accuracy: tensor(0.8667)\n",
      "Testing Accuracy: tensor(0.6667)\n",
      "Epoch: 66 | Batch: 0 | Loss 0.5008412599563599\n",
      "Epoch: 66 | Batch: 1 | Loss 0.5417117476463318\n",
      "Epoch: 66 | Batch: 2 | Loss 0.40862736105918884\n",
      "Epoch 66 Training Accuracy: tensor(0.9000)\n",
      "Testing Accuracy: tensor(0.6667)\n",
      "Epoch: 67 | Batch: 0 | Loss 0.4428173899650574\n",
      "Epoch: 67 | Batch: 1 | Loss 0.5424886345863342\n",
      "Epoch: 67 | Batch: 2 | Loss 0.5866608619689941\n",
      "Epoch 67 Training Accuracy: tensor(0.8556)\n",
      "Testing Accuracy: tensor(0.6667)\n",
      "Epoch: 68 | Batch: 0 | Loss 0.4927377998828888\n",
      "Epoch: 68 | Batch: 1 | Loss 0.5311903357505798\n",
      "Epoch: 68 | Batch: 2 | Loss 0.4604368805885315\n",
      "Epoch 68 Training Accuracy: tensor(0.9111)\n",
      "Testing Accuracy: tensor(0.6667)\n",
      "Epoch: 69 | Batch: 0 | Loss 0.46822434663772583\n",
      "Epoch: 69 | Batch: 1 | Loss 0.5188428163528442\n",
      "Epoch: 69 | Batch: 2 | Loss 0.5690590739250183\n",
      "Epoch 69 Training Accuracy: tensor(0.8111)\n",
      "Testing Accuracy: tensor(0.6667)\n",
      "Epoch: 70 | Batch: 0 | Loss 0.5009551644325256\n",
      "Epoch: 70 | Batch: 1 | Loss 0.5013943314552307\n",
      "Epoch: 70 | Batch: 2 | Loss 0.5220091342926025\n",
      "Epoch 70 Training Accuracy: tensor(0.8333)\n",
      "Testing Accuracy: tensor(0.6667)\n",
      "Epoch: 71 | Batch: 0 | Loss 0.4675603210926056\n",
      "Epoch: 71 | Batch: 1 | Loss 0.5496822595596313\n",
      "Epoch: 71 | Batch: 2 | Loss 0.4753727316856384\n",
      "Epoch 71 Training Accuracy: tensor(0.8333)\n",
      "Testing Accuracy: tensor(0.6667)\n",
      "Epoch: 72 | Batch: 0 | Loss 0.5629035830497742\n",
      "Epoch: 72 | Batch: 1 | Loss 0.4452623426914215\n",
      "Epoch: 72 | Batch: 2 | Loss 0.501042366027832\n",
      "Epoch 72 Training Accuracy: tensor(0.8333)\n",
      "Testing Accuracy: tensor(0.6667)\n",
      "Epoch: 73 | Batch: 0 | Loss 0.4927961230278015\n",
      "Epoch: 73 | Batch: 1 | Loss 0.5109344124794006\n",
      "Epoch: 73 | Batch: 2 | Loss 0.519189715385437\n",
      "Epoch 73 Training Accuracy: tensor(0.8111)\n",
      "Testing Accuracy: tensor(0.6667)\n",
      "Epoch: 74 | Batch: 0 | Loss 0.507803201675415\n",
      "Epoch: 74 | Batch: 1 | Loss 0.5110427141189575\n",
      "Epoch: 74 | Batch: 2 | Loss 0.4653392434120178\n",
      "Epoch 74 Training Accuracy: tensor(0.8556)\n",
      "Testing Accuracy: tensor(0.6667)\n",
      "Epoch: 75 | Batch: 0 | Loss 0.5247592926025391\n",
      "Epoch: 75 | Batch: 1 | Loss 0.4937402009963989\n",
      "Epoch: 75 | Batch: 2 | Loss 0.4688332974910736\n",
      "Epoch 75 Training Accuracy: tensor(0.8889)\n",
      "Testing Accuracy: tensor(0.6667)\n",
      "Epoch: 76 | Batch: 0 | Loss 0.458505779504776\n",
      "Epoch: 76 | Batch: 1 | Loss 0.5436270236968994\n",
      "Epoch: 76 | Batch: 2 | Loss 0.5161374807357788\n",
      "Epoch 76 Training Accuracy: tensor(0.8556)\n",
      "Testing Accuracy: tensor(0.6667)\n",
      "Epoch: 77 | Batch: 0 | Loss 0.47610118985176086\n",
      "Epoch: 77 | Batch: 1 | Loss 0.5116901993751526\n",
      "Epoch: 77 | Batch: 2 | Loss 0.5604996085166931\n",
      "Epoch 77 Training Accuracy: tensor(0.8222)\n",
      "Testing Accuracy: tensor(0.6667)\n",
      "Epoch: 78 | Batch: 0 | Loss 0.48917534947395325\n",
      "Epoch: 78 | Batch: 1 | Loss 0.4860401153564453\n",
      "Epoch: 78 | Batch: 2 | Loss 0.5995869636535645\n",
      "Epoch 78 Training Accuracy: tensor(0.7778)\n",
      "Testing Accuracy: tensor(0.6667)\n",
      "Epoch: 79 | Batch: 0 | Loss 0.5131812691688538\n",
      "Epoch: 79 | Batch: 1 | Loss 0.49182042479515076\n",
      "Epoch: 79 | Batch: 2 | Loss 0.5070263147354126\n",
      "Epoch 79 Training Accuracy: tensor(0.8444)\n",
      "Testing Accuracy: tensor(0.6667)\n",
      "Epoch: 80 | Batch: 0 | Loss 0.5066586136817932\n",
      "Epoch: 80 | Batch: 1 | Loss 0.5083045363426208\n",
      "Epoch: 80 | Batch: 2 | Loss 0.4758928716182709\n",
      "Epoch 80 Training Accuracy: tensor(0.8222)\n",
      "Testing Accuracy: tensor(0.6667)\n",
      "Epoch: 81 | Batch: 0 | Loss 0.5200777649879456\n",
      "Epoch: 81 | Batch: 1 | Loss 0.49720680713653564\n",
      "Epoch: 81 | Batch: 2 | Loss 0.4648619592189789\n",
      "Epoch 81 Training Accuracy: tensor(0.8667)\n",
      "Testing Accuracy: tensor(0.6667)\n",
      "Epoch: 82 | Batch: 0 | Loss 0.4852711856365204\n",
      "Epoch: 82 | Batch: 1 | Loss 0.4752715826034546\n",
      "Epoch: 82 | Batch: 2 | Loss 0.6342011094093323\n",
      "Epoch 82 Training Accuracy: tensor(0.8333)\n",
      "Testing Accuracy: tensor(0.6667)\n",
      "Epoch: 83 | Batch: 0 | Loss 0.4951832890510559\n",
      "Epoch: 83 | Batch: 1 | Loss 0.4933110773563385\n",
      "Epoch: 83 | Batch: 2 | Loss 0.5515417456626892\n",
      "Epoch 83 Training Accuracy: tensor(0.8000)\n",
      "Testing Accuracy: tensor(0.6667)\n",
      "Epoch: 84 | Batch: 0 | Loss 0.4992202818393707\n",
      "Epoch: 84 | Batch: 1 | Loss 0.5118992328643799\n",
      "Epoch: 84 | Batch: 2 | Loss 0.4794592261314392\n",
      "Epoch 84 Training Accuracy: tensor(0.8778)\n",
      "Testing Accuracy: tensor(0.6667)\n",
      "Epoch: 85 | Batch: 0 | Loss 0.49717092514038086\n",
      "Epoch: 85 | Batch: 1 | Loss 0.5053091049194336\n",
      "Epoch: 85 | Batch: 2 | Loss 0.5060603618621826\n",
      "Epoch 85 Training Accuracy: tensor(0.8444)\n",
      "Testing Accuracy: tensor(0.6667)\n",
      "Epoch: 86 | Batch: 0 | Loss 0.49432483315467834\n",
      "Epoch: 86 | Batch: 1 | Loss 0.5109083652496338\n",
      "Epoch: 86 | Batch: 2 | Loss 0.4992240071296692\n",
      "Epoch 86 Training Accuracy: tensor(0.8667)\n",
      "Testing Accuracy: tensor(0.6667)\n",
      "Epoch: 87 | Batch: 0 | Loss 0.47810739278793335\n",
      "Epoch: 87 | Batch: 1 | Loss 0.5142740607261658\n",
      "Epoch: 87 | Batch: 2 | Loss 0.5299225449562073\n",
      "Epoch 87 Training Accuracy: tensor(0.8333)\n",
      "Testing Accuracy: tensor(0.6667)\n",
      "Epoch: 88 | Batch: 0 | Loss 0.4942176938056946\n",
      "Epoch: 88 | Batch: 1 | Loss 0.5020806789398193\n",
      "Epoch: 88 | Batch: 2 | Loss 0.5276392698287964\n",
      "Epoch 88 Training Accuracy: tensor(0.8000)\n",
      "Testing Accuracy: tensor(0.6667)\n",
      "Epoch: 89 | Batch: 0 | Loss 0.5036916136741638\n",
      "Epoch: 89 | Batch: 1 | Loss 0.488598495721817\n",
      "Epoch: 89 | Batch: 2 | Loss 0.5351852774620056\n",
      "Epoch 89 Training Accuracy: tensor(0.8222)\n",
      "Testing Accuracy: tensor(0.6667)\n",
      "Epoch: 90 | Batch: 0 | Loss 0.5039354562759399\n",
      "Epoch: 90 | Batch: 1 | Loss 0.5170743465423584\n",
      "Epoch: 90 | Batch: 2 | Loss 0.4450611174106598\n",
      "Epoch 90 Training Accuracy: tensor(0.8444)\n",
      "Testing Accuracy: tensor(0.6667)\n",
      "Epoch: 91 | Batch: 0 | Loss 0.5120300054550171\n",
      "Epoch: 91 | Batch: 1 | Loss 0.4881478250026703\n",
      "Epoch: 91 | Batch: 2 | Loss 0.5055484771728516\n",
      "Epoch 91 Training Accuracy: tensor(0.8222)\n",
      "Testing Accuracy: tensor(0.6667)\n",
      "Epoch: 92 | Batch: 0 | Loss 0.46537426114082336\n",
      "Epoch: 92 | Batch: 1 | Loss 0.5522764325141907\n",
      "Epoch: 92 | Batch: 2 | Loss 0.45153674483299255\n",
      "Epoch 92 Training Accuracy: tensor(0.8889)\n",
      "Testing Accuracy: tensor(0.6667)\n",
      "Epoch: 93 | Batch: 0 | Loss 0.45579856634140015\n",
      "Epoch: 93 | Batch: 1 | Loss 0.544948399066925\n",
      "Epoch: 93 | Batch: 2 | Loss 0.5070384740829468\n",
      "Epoch 93 Training Accuracy: tensor(0.9000)\n",
      "Testing Accuracy: tensor(0.6667)\n",
      "Epoch: 94 | Batch: 0 | Loss 0.4668044447898865\n",
      "Epoch: 94 | Batch: 1 | Loss 0.5278838276863098\n",
      "Epoch: 94 | Batch: 2 | Loss 0.5264025926589966\n",
      "Epoch 94 Training Accuracy: tensor(0.8889)\n",
      "Testing Accuracy: tensor(0.6667)\n",
      "Epoch: 95 | Batch: 0 | Loss 0.4899129867553711\n",
      "Epoch: 95 | Batch: 1 | Loss 0.5224013924598694\n",
      "Epoch: 95 | Batch: 2 | Loss 0.47113722562789917\n",
      "Epoch 95 Training Accuracy: tensor(0.8667)\n",
      "Testing Accuracy: tensor(0.6667)\n",
      "Epoch: 96 | Batch: 0 | Loss 0.5121261477470398\n",
      "Epoch: 96 | Batch: 1 | Loss 0.4637804329395294\n",
      "Epoch: 96 | Batch: 2 | Loss 0.5721872448921204\n",
      "Epoch 96 Training Accuracy: tensor(0.8222)\n",
      "Testing Accuracy: tensor(0.6667)\n",
      "Epoch: 97 | Batch: 0 | Loss 0.5226643681526184\n",
      "Epoch: 97 | Batch: 1 | Loss 0.4635555148124695\n",
      "Epoch: 97 | Batch: 2 | Loss 0.5478899478912354\n",
      "Epoch 97 Training Accuracy: tensor(0.8000)\n",
      "Testing Accuracy: tensor(0.7333)\n",
      "Epoch: 98 | Batch: 0 | Loss 0.4969247877597809\n",
      "Epoch: 98 | Batch: 1 | Loss 0.5125890970230103\n",
      "Epoch: 98 | Batch: 2 | Loss 0.48642706871032715\n",
      "Epoch 98 Training Accuracy: tensor(0.8444)\n",
      "Testing Accuracy: tensor(0.7333)\n",
      "Epoch: 99 | Batch: 0 | Loss 0.4872666001319885\n",
      "Epoch: 99 | Batch: 1 | Loss 0.5264896750450134\n",
      "Epoch: 99 | Batch: 2 | Loss 0.4771859049797058\n",
      "Epoch 99 Training Accuracy: tensor(0.8333)\n",
      "Testing Accuracy: tensor(0.7000)\n",
      "Epoch: 100 | Batch: 0 | Loss 0.45353785157203674\n",
      "Epoch: 100 | Batch: 1 | Loss 0.5480960011482239\n",
      "Epoch: 100 | Batch: 2 | Loss 0.5073254704475403\n",
      "Epoch 100 Training Accuracy: tensor(0.8000)\n",
      "Testing Accuracy: tensor(0.6667)\n",
      "Epoch: 101 | Batch: 0 | Loss 0.5005417466163635\n",
      "Epoch: 101 | Batch: 1 | Loss 0.500111997127533\n",
      "Epoch: 101 | Batch: 2 | Loss 0.5046957731246948\n",
      "Epoch 101 Training Accuracy: tensor(0.8444)\n",
      "Testing Accuracy: tensor(0.6667)\n",
      "Epoch: 102 | Batch: 0 | Loss 0.5367202162742615\n",
      "Epoch: 102 | Batch: 1 | Loss 0.46787145733833313\n",
      "Epoch: 102 | Batch: 2 | Loss 0.48682326078414917\n",
      "Epoch 102 Training Accuracy: tensor(0.8444)\n",
      "Testing Accuracy: tensor(0.6667)\n",
      "Epoch: 103 | Batch: 0 | Loss 0.5172027945518494\n",
      "Epoch: 103 | Batch: 1 | Loss 0.4662442207336426\n",
      "Epoch: 103 | Batch: 2 | Loss 0.5499905347824097\n",
      "Epoch 103 Training Accuracy: tensor(0.8000)\n",
      "Testing Accuracy: tensor(0.6667)\n",
      "Epoch: 104 | Batch: 0 | Loss 0.4818081557750702\n",
      "Epoch: 104 | Batch: 1 | Loss 0.5311322808265686\n",
      "Epoch: 104 | Batch: 2 | Loss 0.4658726751804352\n",
      "Epoch 104 Training Accuracy: tensor(0.8444)\n",
      "Testing Accuracy: tensor(0.6667)\n",
      "Epoch: 105 | Batch: 0 | Loss 0.5184422731399536\n",
      "Epoch: 105 | Batch: 1 | Loss 0.46802446246147156\n",
      "Epoch: 105 | Batch: 2 | Loss 0.5352771282196045\n",
      "Epoch 105 Training Accuracy: tensor(0.8444)\n",
      "Testing Accuracy: tensor(0.6667)\n",
      "Epoch: 106 | Batch: 0 | Loss 0.5131959915161133\n",
      "Epoch: 106 | Batch: 1 | Loss 0.5023863911628723\n",
      "Epoch: 106 | Batch: 2 | Loss 0.4492228627204895\n",
      "Epoch 106 Training Accuracy: tensor(0.8667)\n",
      "Testing Accuracy: tensor(0.6667)\n",
      "Epoch: 107 | Batch: 0 | Loss 0.46243199706077576\n",
      "Epoch: 107 | Batch: 1 | Loss 0.5152588486671448\n",
      "Epoch: 107 | Batch: 2 | Loss 0.5750088691711426\n",
      "Epoch 107 Training Accuracy: tensor(0.8556)\n",
      "Testing Accuracy: tensor(0.6667)\n",
      "Epoch: 108 | Batch: 0 | Loss 0.4851294159889221\n",
      "Epoch: 108 | Batch: 1 | Loss 0.5272048115730286\n",
      "Epoch: 108 | Batch: 2 | Loss 0.4720325469970703\n",
      "Epoch 108 Training Accuracy: tensor(0.8444)\n",
      "Testing Accuracy: tensor(0.6667)\n",
      "Epoch: 109 | Batch: 0 | Loss 0.4761894643306732\n",
      "Epoch: 109 | Batch: 1 | Loss 0.5243703126907349\n",
      "Epoch: 109 | Batch: 2 | Loss 0.4942026138305664\n",
      "Epoch 109 Training Accuracy: tensor(0.8444)\n",
      "Testing Accuracy: tensor(0.7000)\n",
      "Epoch: 110 | Batch: 0 | Loss 0.5156609416007996\n",
      "Epoch: 110 | Batch: 1 | Loss 0.5142024755477905\n",
      "Epoch: 110 | Batch: 2 | Loss 0.42551273107528687\n",
      "Epoch 110 Training Accuracy: tensor(0.8667)\n",
      "Testing Accuracy: tensor(0.7000)\n",
      "Epoch: 111 | Batch: 0 | Loss 0.5000501871109009\n",
      "Epoch: 111 | Batch: 1 | Loss 0.5260481238365173\n",
      "Epoch: 111 | Batch: 2 | Loss 0.4249419569969177\n",
      "Epoch 111 Training Accuracy: tensor(0.8667)\n",
      "Testing Accuracy: tensor(0.6667)\n",
      "Epoch: 112 | Batch: 0 | Loss 0.4946194589138031\n",
      "Epoch: 112 | Batch: 1 | Loss 0.521831750869751\n",
      "Epoch: 112 | Batch: 2 | Loss 0.4472633898258209\n",
      "Epoch 112 Training Accuracy: tensor(0.8444)\n",
      "Testing Accuracy: tensor(0.6667)\n",
      "Epoch: 113 | Batch: 0 | Loss 0.4821625053882599\n",
      "Epoch: 113 | Batch: 1 | Loss 0.5186859965324402\n",
      "Epoch: 113 | Batch: 2 | Loss 0.4898730218410492\n",
      "Epoch 113 Training Accuracy: tensor(0.8222)\n",
      "Testing Accuracy: tensor(0.6667)\n",
      "Epoch: 114 | Batch: 0 | Loss 0.45854049921035767\n",
      "Epoch: 114 | Batch: 1 | Loss 0.5542177557945251\n",
      "Epoch: 114 | Batch: 2 | Loss 0.4529544413089752\n",
      "Epoch 114 Training Accuracy: tensor(0.8556)\n",
      "Testing Accuracy: tensor(0.6667)\n",
      "Epoch: 115 | Batch: 0 | Loss 0.4912533164024353\n",
      "Epoch: 115 | Batch: 1 | Loss 0.5156236290931702\n",
      "Epoch: 115 | Batch: 2 | Loss 0.47128409147262573\n",
      "Epoch 115 Training Accuracy: tensor(0.8667)\n",
      "Testing Accuracy: tensor(0.6667)\n",
      "Epoch: 116 | Batch: 0 | Loss 0.519671618938446\n",
      "Epoch: 116 | Batch: 1 | Loss 0.4804789423942566\n",
      "Epoch: 116 | Batch: 2 | Loss 0.4937450885772705\n",
      "Epoch 116 Training Accuracy: tensor(0.8667)\n",
      "Testing Accuracy: tensor(0.6667)\n",
      "Epoch: 117 | Batch: 0 | Loss 0.48552045226097107\n",
      "Epoch: 117 | Batch: 1 | Loss 0.4969359040260315\n",
      "Epoch: 117 | Batch: 2 | Loss 0.5548869371414185\n",
      "Epoch 117 Training Accuracy: tensor(0.8444)\n",
      "Testing Accuracy: tensor(0.6667)\n",
      "Epoch: 118 | Batch: 0 | Loss 0.557547926902771\n",
      "Epoch: 118 | Batch: 1 | Loss 0.46380290389060974\n",
      "Epoch: 118 | Batch: 2 | Loss 0.4294240474700928\n",
      "Epoch 118 Training Accuracy: tensor(0.8778)\n",
      "Testing Accuracy: tensor(0.6667)\n",
      "Epoch: 119 | Batch: 0 | Loss 0.4772337079048157\n",
      "Epoch: 119 | Batch: 1 | Loss 0.5197629928588867\n",
      "Epoch: 119 | Batch: 2 | Loss 0.4994982182979584\n",
      "Epoch 119 Training Accuracy: tensor(0.8778)\n",
      "Testing Accuracy: tensor(0.6667)\n",
      "Epoch: 120 | Batch: 0 | Loss 0.5044922232627869\n",
      "Epoch: 120 | Batch: 1 | Loss 0.48678725957870483\n",
      "Epoch: 120 | Batch: 2 | Loss 0.5137391090393066\n",
      "Epoch 120 Training Accuracy: tensor(0.8556)\n",
      "Testing Accuracy: tensor(0.6667)\n",
      "Epoch: 121 | Batch: 0 | Loss 0.5009552240371704\n",
      "Epoch: 121 | Batch: 1 | Loss 0.5255722403526306\n",
      "Epoch: 121 | Batch: 2 | Loss 0.40888985991477966\n",
      "Epoch 121 Training Accuracy: tensor(0.8778)\n",
      "Testing Accuracy: tensor(0.6667)\n",
      "Epoch: 122 | Batch: 0 | Loss 0.49515169858932495\n",
      "Epoch: 122 | Batch: 1 | Loss 0.4625042676925659\n",
      "Epoch: 122 | Batch: 2 | Loss 0.6151319146156311\n",
      "Epoch 122 Training Accuracy: tensor(0.8556)\n",
      "Testing Accuracy: tensor(0.6667)\n",
      "Epoch: 123 | Batch: 0 | Loss 0.5274577736854553\n",
      "Epoch: 123 | Batch: 1 | Loss 0.48363298177719116\n",
      "Epoch: 123 | Batch: 2 | Loss 0.4525914192199707\n",
      "Epoch 123 Training Accuracy: tensor(0.8778)\n",
      "Testing Accuracy: tensor(0.6667)\n",
      "Epoch: 124 | Batch: 0 | Loss 0.522098958492279\n",
      "Epoch: 124 | Batch: 1 | Loss 0.4899388551712036\n",
      "Epoch: 124 | Batch: 2 | Loss 0.44930511713027954\n",
      "Epoch 124 Training Accuracy: tensor(0.8444)\n",
      "Testing Accuracy: tensor(0.6667)\n",
      "Epoch: 125 | Batch: 0 | Loss 0.456539124250412\n",
      "Epoch: 125 | Batch: 1 | Loss 0.5338269472122192\n",
      "Epoch: 125 | Batch: 2 | Loss 0.5165460705757141\n",
      "Epoch 125 Training Accuracy: tensor(0.8444)\n",
      "Testing Accuracy: tensor(0.6667)\n",
      "Epoch: 126 | Batch: 0 | Loss 0.5051711201667786\n",
      "Epoch: 126 | Batch: 1 | Loss 0.4896443486213684\n",
      "Epoch: 126 | Batch: 2 | Loss 0.5066468119621277\n",
      "Epoch 126 Training Accuracy: tensor(0.8222)\n",
      "Testing Accuracy: tensor(0.6667)\n",
      "Epoch: 127 | Batch: 0 | Loss 0.46313151717185974\n",
      "Epoch: 127 | Batch: 1 | Loss 0.5408438444137573\n",
      "Epoch: 127 | Batch: 2 | Loss 0.47704076766967773\n",
      "Epoch 127 Training Accuracy: tensor(0.8222)\n",
      "Testing Accuracy: tensor(0.6667)\n",
      "Epoch: 128 | Batch: 0 | Loss 0.5216667056083679\n",
      "Epoch: 128 | Batch: 1 | Loss 0.47597700357437134\n",
      "Epoch: 128 | Batch: 2 | Loss 0.4903441369533539\n",
      "Epoch 128 Training Accuracy: tensor(0.8556)\n",
      "Testing Accuracy: tensor(0.6667)\n",
      "Epoch: 129 | Batch: 0 | Loss 0.4652612507343292\n",
      "Epoch: 129 | Batch: 1 | Loss 0.49436086416244507\n",
      "Epoch: 129 | Batch: 2 | Loss 0.6096053123474121\n",
      "Epoch 129 Training Accuracy: tensor(0.8222)\n",
      "Testing Accuracy: tensor(0.6667)\n",
      "Epoch: 130 | Batch: 0 | Loss 0.5491992235183716\n",
      "Epoch: 130 | Batch: 1 | Loss 0.465059369802475\n",
      "Epoch: 130 | Batch: 2 | Loss 0.4518306851387024\n",
      "Epoch 130 Training Accuracy: tensor(0.9000)\n",
      "Testing Accuracy: tensor(0.6667)\n",
      "Epoch: 131 | Batch: 0 | Loss 0.4595021903514862\n",
      "Epoch: 131 | Batch: 1 | Loss 0.5382453799247742\n",
      "Epoch: 131 | Batch: 2 | Loss 0.5043818950653076\n",
      "Epoch 131 Training Accuracy: tensor(0.8333)\n",
      "Testing Accuracy: tensor(0.6667)\n",
      "Epoch: 132 | Batch: 0 | Loss 0.4848209619522095\n",
      "Epoch: 132 | Batch: 1 | Loss 0.5291644334793091\n",
      "Epoch: 132 | Batch: 2 | Loss 0.44551533460617065\n",
      "Epoch 132 Training Accuracy: tensor(0.8444)\n",
      "Testing Accuracy: tensor(0.6667)\n",
      "Epoch: 133 | Batch: 0 | Loss 0.5363646149635315\n",
      "Epoch: 133 | Batch: 1 | Loss 0.49496468901634216\n",
      "Epoch: 133 | Batch: 2 | Loss 0.3938322961330414\n",
      "Epoch 133 Training Accuracy: tensor(0.9111)\n",
      "Testing Accuracy: tensor(0.6667)\n",
      "Epoch: 134 | Batch: 0 | Loss 0.44653797149658203\n",
      "Epoch: 134 | Batch: 1 | Loss 0.5176378488540649\n",
      "Epoch: 134 | Batch: 2 | Loss 0.5944728851318359\n",
      "Epoch 134 Training Accuracy: tensor(0.8222)\n",
      "Testing Accuracy: tensor(0.6667)\n",
      "Epoch: 135 | Batch: 0 | Loss 0.4772260785102844\n",
      "Epoch: 135 | Batch: 1 | Loss 0.49194929003715515\n",
      "Epoch: 135 | Batch: 2 | Loss 0.5799993872642517\n",
      "Epoch 135 Training Accuracy: tensor(0.8222)\n",
      "Testing Accuracy: tensor(0.6667)\n",
      "Epoch: 136 | Batch: 0 | Loss 0.47904711961746216\n",
      "Epoch: 136 | Batch: 1 | Loss 0.5064665675163269\n",
      "Epoch: 136 | Batch: 2 | Loss 0.525122880935669\n",
      "Epoch 136 Training Accuracy: tensor(0.8444)\n",
      "Testing Accuracy: tensor(0.6667)\n",
      "Epoch: 137 | Batch: 0 | Loss 0.46197324991226196\n",
      "Epoch: 137 | Batch: 1 | Loss 0.523849606513977\n",
      "Epoch: 137 | Batch: 2 | Loss 0.5311260223388672\n",
      "Epoch 137 Training Accuracy: tensor(0.8000)\n",
      "Testing Accuracy: tensor(0.6667)\n",
      "Epoch: 138 | Batch: 0 | Loss 0.47866541147232056\n",
      "Epoch: 138 | Batch: 1 | Loss 0.5210834741592407\n",
      "Epoch: 138 | Batch: 2 | Loss 0.48536163568496704\n",
      "Epoch 138 Training Accuracy: tensor(0.8222)\n",
      "Testing Accuracy: tensor(0.6667)\n",
      "Epoch: 139 | Batch: 0 | Loss 0.528632402420044\n",
      "Epoch: 139 | Batch: 1 | Loss 0.5100077986717224\n",
      "Epoch: 139 | Batch: 2 | Loss 0.36805301904678345\n",
      "Epoch 139 Training Accuracy: tensor(0.8667)\n",
      "Testing Accuracy: tensor(0.6667)\n",
      "Epoch: 140 | Batch: 0 | Loss 0.5272478461265564\n",
      "Epoch: 140 | Batch: 1 | Loss 0.4649773836135864\n",
      "Epoch: 140 | Batch: 2 | Loss 0.5023265480995178\n",
      "Epoch 140 Training Accuracy: tensor(0.8778)\n",
      "Testing Accuracy: tensor(0.6667)\n",
      "Epoch: 141 | Batch: 0 | Loss 0.5192930102348328\n",
      "Epoch: 141 | Batch: 1 | Loss 0.4785648286342621\n",
      "Epoch: 141 | Batch: 2 | Loss 0.48604241013526917\n",
      "Epoch 141 Training Accuracy: tensor(0.8778)\n",
      "Testing Accuracy: tensor(0.6667)\n",
      "Epoch: 142 | Batch: 0 | Loss 0.4686267077922821\n",
      "Epoch: 142 | Batch: 1 | Loss 0.5212889313697815\n",
      "Epoch: 142 | Batch: 2 | Loss 0.5113140940666199\n",
      "Epoch 142 Training Accuracy: tensor(0.8444)\n",
      "Testing Accuracy: tensor(0.6667)\n",
      "Epoch: 143 | Batch: 0 | Loss 0.49982503056526184\n",
      "Epoch: 143 | Batch: 1 | Loss 0.48128798604011536\n",
      "Epoch: 143 | Batch: 2 | Loss 0.5387786626815796\n",
      "Epoch 143 Training Accuracy: tensor(0.8444)\n",
      "Testing Accuracy: tensor(0.6667)\n",
      "Epoch: 144 | Batch: 0 | Loss 0.47529324889183044\n",
      "Epoch: 144 | Batch: 1 | Loss 0.5159199237823486\n",
      "Epoch: 144 | Batch: 2 | Loss 0.504926323890686\n",
      "Epoch 144 Training Accuracy: tensor(0.9000)\n",
      "Testing Accuracy: tensor(0.6667)\n",
      "Epoch: 145 | Batch: 0 | Loss 0.5458886027336121\n",
      "Epoch: 145 | Batch: 1 | Loss 0.4704339802265167\n",
      "Epoch: 145 | Batch: 2 | Loss 0.43172550201416016\n",
      "Epoch 145 Training Accuracy: tensor(0.8778)\n",
      "Testing Accuracy: tensor(0.6667)\n",
      "Epoch: 146 | Batch: 0 | Loss 0.5357593894004822\n",
      "Epoch: 146 | Batch: 1 | Loss 0.4781780540943146\n",
      "Epoch: 146 | Batch: 2 | Loss 0.4348990023136139\n",
      "Epoch 146 Training Accuracy: tensor(0.8889)\n",
      "Testing Accuracy: tensor(0.6667)\n",
      "Epoch: 147 | Batch: 0 | Loss 0.537712037563324\n",
      "Epoch: 147 | Batch: 1 | Loss 0.4820871949195862\n",
      "Epoch: 147 | Batch: 2 | Loss 0.4174566864967346\n",
      "Epoch 147 Training Accuracy: tensor(0.9000)\n",
      "Testing Accuracy: tensor(0.6667)\n",
      "Epoch: 148 | Batch: 0 | Loss 0.501372218132019\n",
      "Epoch: 148 | Batch: 1 | Loss 0.5074333548545837\n",
      "Epoch: 148 | Batch: 2 | Loss 0.45037245750427246\n",
      "Epoch 148 Training Accuracy: tensor(0.8778)\n",
      "Testing Accuracy: tensor(0.6667)\n",
      "Epoch: 149 | Batch: 0 | Loss 0.5557013750076294\n",
      "Epoch: 149 | Batch: 1 | Loss 0.4490002989768982\n",
      "Epoch: 149 | Batch: 2 | Loss 0.4642609655857086\n",
      "Epoch 149 Training Accuracy: tensor(0.8667)\n",
      "Testing Accuracy: tensor(0.6667)\n",
      "Epoch: 150 | Batch: 0 | Loss 0.5401484966278076\n",
      "Epoch: 150 | Batch: 1 | Loss 0.4722762703895569\n",
      "Epoch: 150 | Batch: 2 | Loss 0.43927040696144104\n",
      "Epoch 150 Training Accuracy: tensor(0.8889)\n",
      "Testing Accuracy: tensor(0.6667)\n",
      "Epoch: 151 | Batch: 0 | Loss 0.47365856170654297\n",
      "Epoch: 151 | Batch: 1 | Loss 0.5061938762664795\n",
      "Epoch: 151 | Batch: 2 | Loss 0.5391443371772766\n",
      "Epoch 151 Training Accuracy: tensor(0.8222)\n",
      "Testing Accuracy: tensor(0.6667)\n",
      "Epoch: 152 | Batch: 0 | Loss 0.5092572569847107\n",
      "Epoch: 152 | Batch: 1 | Loss 0.49645599722862244\n",
      "Epoch: 152 | Batch: 2 | Loss 0.46146923303604126\n",
      "Epoch 152 Training Accuracy: tensor(0.8667)\n",
      "Testing Accuracy: tensor(0.6667)\n",
      "Epoch: 153 | Batch: 0 | Loss 0.49223291873931885\n",
      "Epoch: 153 | Batch: 1 | Loss 0.4721888303756714\n",
      "Epoch: 153 | Batch: 2 | Loss 0.5847684741020203\n",
      "Epoch 153 Training Accuracy: tensor(0.8444)\n",
      "Testing Accuracy: tensor(0.6667)\n",
      "Epoch: 154 | Batch: 0 | Loss 0.4924303889274597\n",
      "Epoch: 154 | Batch: 1 | Loss 0.4780009686946869\n",
      "Epoch: 154 | Batch: 2 | Loss 0.5681279301643372\n",
      "Epoch 154 Training Accuracy: tensor(0.8444)\n",
      "Testing Accuracy: tensor(0.6667)\n",
      "Epoch: 155 | Batch: 0 | Loss 0.5322948694229126\n",
      "Epoch: 155 | Batch: 1 | Loss 0.46987229585647583\n",
      "Epoch: 155 | Batch: 2 | Loss 0.47375622391700745\n",
      "Epoch 155 Training Accuracy: tensor(0.8667)\n",
      "Testing Accuracy: tensor(0.6667)\n",
      "Epoch: 156 | Batch: 0 | Loss 0.5285220742225647\n",
      "Epoch: 156 | Batch: 1 | Loss 0.4839615523815155\n",
      "Epoch: 156 | Batch: 2 | Loss 0.4465581774711609\n",
      "Epoch 156 Training Accuracy: tensor(0.8778)\n",
      "Testing Accuracy: tensor(0.6667)\n",
      "Epoch: 157 | Batch: 0 | Loss 0.5414100289344788\n",
      "Epoch: 157 | Batch: 1 | Loss 0.4698244333267212\n",
      "Epoch: 157 | Batch: 2 | Loss 0.4516725540161133\n",
      "Epoch 157 Training Accuracy: tensor(0.8778)\n",
      "Testing Accuracy: tensor(0.6667)\n",
      "Epoch: 158 | Batch: 0 | Loss 0.5120983123779297\n",
      "Epoch: 158 | Batch: 1 | Loss 0.4656459093093872\n",
      "Epoch: 158 | Batch: 2 | Loss 0.5437429547309875\n",
      "Epoch 158 Training Accuracy: tensor(0.8000)\n",
      "Testing Accuracy: tensor(0.6667)\n",
      "Epoch: 159 | Batch: 0 | Loss 0.48642751574516296\n",
      "Epoch: 159 | Batch: 1 | Loss 0.49901682138442993\n",
      "Epoch: 159 | Batch: 2 | Loss 0.5204088091850281\n",
      "Epoch 159 Training Accuracy: tensor(0.8000)\n",
      "Testing Accuracy: tensor(0.6667)\n",
      "Epoch: 160 | Batch: 0 | Loss 0.4617370367050171\n",
      "Epoch: 160 | Batch: 1 | Loss 0.5330150723457336\n",
      "Epoch: 160 | Batch: 2 | Loss 0.48675328493118286\n",
      "Epoch 160 Training Accuracy: tensor(0.8556)\n",
      "Testing Accuracy: tensor(0.6667)\n",
      "Epoch: 161 | Batch: 0 | Loss 0.4816807806491852\n",
      "Epoch: 161 | Batch: 1 | Loss 0.5291497111320496\n",
      "Epoch: 161 | Batch: 2 | Loss 0.47836631536483765\n",
      "Epoch 161 Training Accuracy: tensor(0.8444)\n",
      "Testing Accuracy: tensor(0.7000)\n",
      "Epoch: 162 | Batch: 0 | Loss 0.46181535720825195\n",
      "Epoch: 162 | Batch: 1 | Loss 0.5125198364257812\n",
      "Epoch: 162 | Batch: 2 | Loss 0.566162645816803\n",
      "Epoch 162 Training Accuracy: tensor(0.8111)\n",
      "Testing Accuracy: tensor(0.7000)\n",
      "Epoch: 163 | Batch: 0 | Loss 0.5442172288894653\n",
      "Epoch: 163 | Batch: 1 | Loss 0.47337302565574646\n",
      "Epoch: 163 | Batch: 2 | Loss 0.4351091980934143\n",
      "Epoch 163 Training Accuracy: tensor(0.9000)\n",
      "Testing Accuracy: tensor(0.6667)\n",
      "Epoch: 164 | Batch: 0 | Loss 0.512423574924469\n",
      "Epoch: 164 | Batch: 1 | Loss 0.49587592482566833\n",
      "Epoch: 164 | Batch: 2 | Loss 0.4582985043525696\n",
      "Epoch 164 Training Accuracy: tensor(0.8444)\n",
      "Testing Accuracy: tensor(0.6667)\n",
      "Epoch: 165 | Batch: 0 | Loss 0.5039008259773254\n",
      "Epoch: 165 | Batch: 1 | Loss 0.4429577589035034\n",
      "Epoch: 165 | Batch: 2 | Loss 0.6341532468795776\n",
      "Epoch 165 Training Accuracy: tensor(0.8000)\n",
      "Testing Accuracy: tensor(0.6667)\n",
      "Epoch: 166 | Batch: 0 | Loss 0.5077171921730042\n",
      "Epoch: 166 | Batch: 1 | Loss 0.4931047856807709\n",
      "Epoch: 166 | Batch: 2 | Loss 0.4757465422153473\n",
      "Epoch 166 Training Accuracy: tensor(0.8444)\n",
      "Testing Accuracy: tensor(0.6667)\n",
      "Epoch: 167 | Batch: 0 | Loss 0.4809267818927765\n",
      "Epoch: 167 | Batch: 1 | Loss 0.4853317141532898\n",
      "Epoch: 167 | Batch: 2 | Loss 0.5823059678077698\n",
      "Epoch 167 Training Accuracy: tensor(0.8000)\n",
      "Testing Accuracy: tensor(0.7000)\n",
      "Epoch: 168 | Batch: 0 | Loss 0.47008851170539856\n",
      "Epoch: 168 | Batch: 1 | Loss 0.5363628268241882\n",
      "Epoch: 168 | Batch: 2 | Loss 0.46164965629577637\n",
      "Epoch 168 Training Accuracy: tensor(0.8444)\n",
      "Testing Accuracy: tensor(0.7000)\n",
      "Epoch: 169 | Batch: 0 | Loss 0.515583872795105\n",
      "Epoch: 169 | Batch: 1 | Loss 0.5070196986198425\n",
      "Epoch: 169 | Batch: 2 | Loss 0.4165708124637604\n",
      "Epoch 169 Training Accuracy: tensor(0.8667)\n",
      "Testing Accuracy: tensor(0.6667)\n",
      "Epoch: 170 | Batch: 0 | Loss 0.5312596559524536\n",
      "Epoch: 170 | Batch: 1 | Loss 0.45099708437919617\n",
      "Epoch: 170 | Batch: 2 | Loss 0.5357670187950134\n",
      "Epoch 170 Training Accuracy: tensor(0.8222)\n",
      "Testing Accuracy: tensor(0.6667)\n",
      "Epoch: 171 | Batch: 0 | Loss 0.5095621943473816\n",
      "Epoch: 171 | Batch: 1 | Loss 0.5021727085113525\n",
      "Epoch: 171 | Batch: 2 | Loss 0.43903079628944397\n",
      "Epoch 171 Training Accuracy: tensor(0.8444)\n",
      "Testing Accuracy: tensor(0.7000)\n",
      "Epoch: 172 | Batch: 0 | Loss 0.5070357322692871\n",
      "Epoch: 172 | Batch: 1 | Loss 0.49625033140182495\n",
      "Epoch: 172 | Batch: 2 | Loss 0.4691706597805023\n",
      "Epoch 172 Training Accuracy: tensor(0.8222)\n",
      "Testing Accuracy: tensor(0.7000)\n",
      "Epoch: 173 | Batch: 0 | Loss 0.4829542338848114\n",
      "Epoch: 173 | Batch: 1 | Loss 0.5157309174537659\n",
      "Epoch: 173 | Batch: 2 | Loss 0.48447972536087036\n",
      "Epoch 173 Training Accuracy: tensor(0.8444)\n",
      "Testing Accuracy: tensor(0.7000)\n",
      "Epoch: 174 | Batch: 0 | Loss 0.5227422714233398\n",
      "Epoch: 174 | Batch: 1 | Loss 0.4664650559425354\n",
      "Epoch: 174 | Batch: 2 | Loss 0.5093244910240173\n",
      "Epoch 174 Training Accuracy: tensor(0.8444)\n",
      "Testing Accuracy: tensor(0.6667)\n",
      "Epoch: 175 | Batch: 0 | Loss 0.5099777579307556\n",
      "Epoch: 175 | Batch: 1 | Loss 0.5068800449371338\n",
      "Epoch: 175 | Batch: 2 | Loss 0.42044979333877563\n",
      "Epoch 175 Training Accuracy: tensor(0.8667)\n",
      "Testing Accuracy: tensor(0.6667)\n",
      "Epoch: 176 | Batch: 0 | Loss 0.5095808506011963\n",
      "Epoch: 176 | Batch: 1 | Loss 0.48658254742622375\n",
      "Epoch: 176 | Batch: 2 | Loss 0.4829072058200836\n",
      "Epoch 176 Training Accuracy: tensor(0.8556)\n",
      "Testing Accuracy: tensor(0.6667)\n",
      "Epoch: 177 | Batch: 0 | Loss 0.48025378584861755\n",
      "Epoch: 177 | Batch: 1 | Loss 0.4873313307762146\n",
      "Epoch: 177 | Batch: 2 | Loss 0.5708182454109192\n",
      "Epoch 177 Training Accuracy: tensor(0.8444)\n",
      "Testing Accuracy: tensor(0.7000)\n",
      "Epoch: 178 | Batch: 0 | Loss 0.46462777256965637\n",
      "Epoch: 178 | Batch: 1 | Loss 0.49644479155540466\n",
      "Epoch: 178 | Batch: 2 | Loss 0.5961579084396362\n",
      "Epoch 178 Training Accuracy: tensor(0.8333)\n",
      "Testing Accuracy: tensor(0.7000)\n",
      "Epoch: 179 | Batch: 0 | Loss 0.5130282640457153\n",
      "Epoch: 179 | Batch: 1 | Loss 0.4491652846336365\n",
      "Epoch: 179 | Batch: 2 | Loss 0.5925790071487427\n",
      "Epoch 179 Training Accuracy: tensor(0.8222)\n",
      "Testing Accuracy: tensor(0.6667)\n",
      "Epoch: 180 | Batch: 0 | Loss 0.4863468408584595\n",
      "Epoch: 180 | Batch: 1 | Loss 0.48094382882118225\n",
      "Epoch: 180 | Batch: 2 | Loss 0.5752209424972534\n",
      "Epoch 180 Training Accuracy: tensor(0.8222)\n",
      "Testing Accuracy: tensor(0.6667)\n",
      "Epoch: 181 | Batch: 0 | Loss 0.49559107422828674\n",
      "Epoch: 181 | Batch: 1 | Loss 0.5117684006690979\n",
      "Epoch: 181 | Batch: 2 | Loss 0.4628252387046814\n",
      "Epoch 181 Training Accuracy: tensor(0.8444)\n",
      "Testing Accuracy: tensor(0.7000)\n",
      "Epoch: 182 | Batch: 0 | Loss 0.4684251546859741\n",
      "Epoch: 182 | Batch: 1 | Loss 0.5369614362716675\n",
      "Epoch: 182 | Batch: 2 | Loss 0.46066951751708984\n",
      "Epoch 182 Training Accuracy: tensor(0.8444)\n",
      "Testing Accuracy: tensor(0.7000)\n",
      "Epoch: 183 | Batch: 0 | Loss 0.4890151619911194\n",
      "Epoch: 183 | Batch: 1 | Loss 0.4892413318157196\n",
      "Epoch: 183 | Batch: 2 | Loss 0.5388736128807068\n",
      "Epoch 183 Training Accuracy: tensor(0.8000)\n",
      "Testing Accuracy: tensor(0.6667)\n",
      "Epoch: 184 | Batch: 0 | Loss 0.4748392403125763\n",
      "Epoch: 184 | Batch: 1 | Loss 0.5217894315719604\n",
      "Epoch: 184 | Batch: 2 | Loss 0.4846108555793762\n",
      "Epoch 184 Training Accuracy: tensor(0.8556)\n",
      "Testing Accuracy: tensor(0.6667)\n",
      "Epoch: 185 | Batch: 0 | Loss 0.5266131162643433\n",
      "Epoch: 185 | Batch: 1 | Loss 0.4560813903808594\n",
      "Epoch: 185 | Batch: 2 | Loss 0.524988055229187\n",
      "Epoch 185 Training Accuracy: tensor(0.8556)\n",
      "Testing Accuracy: tensor(0.6667)\n",
      "Epoch: 186 | Batch: 0 | Loss 0.5161188840866089\n",
      "Epoch: 186 | Batch: 1 | Loss 0.4714970886707306\n",
      "Epoch: 186 | Batch: 2 | Loss 0.5104701519012451\n",
      "Epoch 186 Training Accuracy: tensor(0.8444)\n",
      "Testing Accuracy: tensor(0.7000)\n",
      "Epoch: 187 | Batch: 0 | Loss 0.48530617356300354\n",
      "Epoch: 187 | Batch: 1 | Loss 0.5093391537666321\n",
      "Epoch: 187 | Batch: 2 | Loss 0.4910160005092621\n",
      "Epoch 187 Training Accuracy: tensor(0.8889)\n",
      "Testing Accuracy: tensor(0.6667)\n",
      "Epoch: 188 | Batch: 0 | Loss 0.5383042693138123\n",
      "Epoch: 188 | Batch: 1 | Loss 0.45729491114616394\n",
      "Epoch: 188 | Batch: 2 | Loss 0.4803343415260315\n",
      "Epoch 188 Training Accuracy: tensor(0.8333)\n",
      "Testing Accuracy: tensor(0.6667)\n",
      "Epoch: 189 | Batch: 0 | Loss 0.44990023970603943\n",
      "Epoch: 189 | Batch: 1 | Loss 0.5226803421974182\n",
      "Epoch: 189 | Batch: 2 | Loss 0.5493506193161011\n",
      "Epoch 189 Training Accuracy: tensor(0.8111)\n",
      "Testing Accuracy: tensor(0.7000)\n",
      "Epoch: 190 | Batch: 0 | Loss 0.4934791922569275\n",
      "Epoch: 190 | Batch: 1 | Loss 0.48570409417152405\n",
      "Epoch: 190 | Batch: 2 | Loss 0.5338279604911804\n",
      "Epoch 190 Training Accuracy: tensor(0.8000)\n",
      "Testing Accuracy: tensor(0.7000)\n",
      "Epoch: 191 | Batch: 0 | Loss 0.48376256227493286\n",
      "Epoch: 191 | Batch: 1 | Loss 0.5256813168525696\n",
      "Epoch: 191 | Batch: 2 | Loss 0.4493646025657654\n",
      "Epoch 191 Training Accuracy: tensor(0.8444)\n",
      "Testing Accuracy: tensor(0.7000)\n",
      "Epoch: 192 | Batch: 0 | Loss 0.48250192403793335\n",
      "Epoch: 192 | Batch: 1 | Loss 0.4835886061191559\n",
      "Epoch: 192 | Batch: 2 | Loss 0.5789369344711304\n",
      "Epoch 192 Training Accuracy: tensor(0.8000)\n",
      "Testing Accuracy: tensor(0.7000)\n",
      "Epoch: 193 | Batch: 0 | Loss 0.46745434403419495\n",
      "Epoch: 193 | Batch: 1 | Loss 0.5153709053993225\n",
      "Epoch: 193 | Batch: 2 | Loss 0.5268922448158264\n",
      "Epoch 193 Training Accuracy: tensor(0.8444)\n",
      "Testing Accuracy: tensor(0.7000)\n",
      "Epoch: 194 | Batch: 0 | Loss 0.48288074135780334\n",
      "Epoch: 194 | Batch: 1 | Loss 0.5141489505767822\n",
      "Epoch: 194 | Batch: 2 | Loss 0.48576411604881287\n",
      "Epoch 194 Training Accuracy: tensor(0.8222)\n",
      "Testing Accuracy: tensor(0.6667)\n",
      "Epoch: 195 | Batch: 0 | Loss 0.4695812463760376\n",
      "Epoch: 195 | Batch: 1 | Loss 0.4983524978160858\n",
      "Epoch: 195 | Batch: 2 | Loss 0.5644570589065552\n",
      "Epoch 195 Training Accuracy: tensor(0.8333)\n",
      "Testing Accuracy: tensor(0.6667)\n",
      "Epoch: 196 | Batch: 0 | Loss 0.538192093372345\n",
      "Epoch: 196 | Batch: 1 | Loss 0.4732414484024048\n",
      "Epoch: 196 | Batch: 2 | Loss 0.4384572505950928\n",
      "Epoch 196 Training Accuracy: tensor(0.8556)\n",
      "Testing Accuracy: tensor(0.7000)\n",
      "Epoch: 197 | Batch: 0 | Loss 0.465361624956131\n",
      "Epoch: 197 | Batch: 1 | Loss 0.5383550524711609\n",
      "Epoch: 197 | Batch: 2 | Loss 0.45699232816696167\n",
      "Epoch 197 Training Accuracy: tensor(0.8444)\n",
      "Testing Accuracy: tensor(0.6667)\n",
      "Epoch: 198 | Batch: 0 | Loss 0.503014862537384\n",
      "Epoch: 198 | Batch: 1 | Loss 0.4825139045715332\n",
      "Epoch: 198 | Batch: 2 | Loss 0.5066549181938171\n",
      "Epoch 198 Training Accuracy: tensor(0.8444)\n",
      "Testing Accuracy: tensor(0.6667)\n",
      "Epoch: 199 | Batch: 0 | Loss 0.48134708404541016\n",
      "Epoch: 199 | Batch: 1 | Loss 0.5136454105377197\n",
      "Epoch: 199 | Batch: 2 | Loss 0.4944590628147125\n",
      "Epoch 199 Training Accuracy: tensor(0.8667)\n",
      "Testing Accuracy: tensor(0.7000)\n",
      "Epoch: 200 | Batch: 0 | Loss 0.4947695732116699\n",
      "Epoch: 200 | Batch: 1 | Loss 0.5034659504890442\n",
      "Epoch: 200 | Batch: 2 | Loss 0.47354212403297424\n",
      "Epoch 200 Training Accuracy: tensor(0.8556)\n",
      "Testing Accuracy: tensor(0.6667)\n",
      "Epoch: 201 | Batch: 0 | Loss 0.5249580144882202\n",
      "Epoch: 201 | Batch: 1 | Loss 0.4764971435070038\n",
      "Epoch: 201 | Batch: 2 | Loss 0.46161383390426636\n",
      "Epoch 201 Training Accuracy: tensor(0.8556)\n",
      "Testing Accuracy: tensor(0.6667)\n",
      "Epoch: 202 | Batch: 0 | Loss 0.48357343673706055\n",
      "Epoch: 202 | Batch: 1 | Loss 0.4943457543849945\n",
      "Epoch: 202 | Batch: 2 | Loss 0.5321459770202637\n",
      "Epoch 202 Training Accuracy: tensor(0.8333)\n",
      "Testing Accuracy: tensor(0.7000)\n",
      "Epoch: 203 | Batch: 0 | Loss 0.5233915448188782\n",
      "Epoch: 203 | Batch: 1 | Loss 0.488473117351532\n",
      "Epoch: 203 | Batch: 2 | Loss 0.4443172514438629\n",
      "Epoch 203 Training Accuracy: tensor(0.8444)\n",
      "Testing Accuracy: tensor(0.7000)\n",
      "Epoch: 204 | Batch: 0 | Loss 0.48803117871284485\n",
      "Epoch: 204 | Batch: 1 | Loss 0.5135229229927063\n",
      "Epoch: 204 | Batch: 2 | Loss 0.4739401340484619\n",
      "Epoch 204 Training Accuracy: tensor(0.8222)\n",
      "Testing Accuracy: tensor(0.7000)\n",
      "Epoch: 205 | Batch: 0 | Loss 0.47697919607162476\n",
      "Epoch: 205 | Batch: 1 | Loss 0.5289856195449829\n",
      "Epoch: 205 | Batch: 2 | Loss 0.44692033529281616\n",
      "Epoch 205 Training Accuracy: tensor(0.8222)\n",
      "Testing Accuracy: tensor(0.6667)\n",
      "Epoch: 206 | Batch: 0 | Loss 0.49724647402763367\n",
      "Epoch: 206 | Batch: 1 | Loss 0.4711155891418457\n",
      "Epoch: 206 | Batch: 2 | Loss 0.5681213736534119\n",
      "Epoch 206 Training Accuracy: tensor(0.8667)\n",
      "Testing Accuracy: tensor(0.7000)\n",
      "Epoch: 207 | Batch: 0 | Loss 0.4699441194534302\n",
      "Epoch: 207 | Batch: 1 | Loss 0.5106183290481567\n",
      "Epoch: 207 | Batch: 2 | Loss 0.5398745536804199\n",
      "Epoch 207 Training Accuracy: tensor(0.8111)\n",
      "Testing Accuracy: tensor(0.7000)\n",
      "Epoch: 208 | Batch: 0 | Loss 0.5184969305992126\n",
      "Epoch: 208 | Batch: 1 | Loss 0.4559621512889862\n",
      "Epoch: 208 | Batch: 2 | Loss 0.5547105073928833\n",
      "Epoch 208 Training Accuracy: tensor(0.8333)\n",
      "Testing Accuracy: tensor(0.7000)\n",
      "Epoch: 209 | Batch: 0 | Loss 0.4997456669807434\n",
      "Epoch: 209 | Batch: 1 | Loss 0.48609215021133423\n",
      "Epoch: 209 | Batch: 2 | Loss 0.5123752951622009\n",
      "Epoch 209 Training Accuracy: tensor(0.8667)\n",
      "Testing Accuracy: tensor(0.6667)\n",
      "Epoch: 210 | Batch: 0 | Loss 0.5245206952095032\n",
      "Epoch: 210 | Batch: 1 | Loss 0.4515063166618347\n",
      "Epoch: 210 | Batch: 2 | Loss 0.5393561124801636\n",
      "Epoch 210 Training Accuracy: tensor(0.8333)\n",
      "Testing Accuracy: tensor(0.6667)\n",
      "Epoch: 211 | Batch: 0 | Loss 0.5023611187934875\n",
      "Epoch: 211 | Batch: 1 | Loss 0.49970945715904236\n",
      "Epoch: 211 | Batch: 2 | Loss 0.4651213586330414\n",
      "Epoch 211 Training Accuracy: tensor(0.8556)\n",
      "Testing Accuracy: tensor(0.7000)\n",
      "Epoch: 212 | Batch: 0 | Loss 0.5335431694984436\n",
      "Epoch: 212 | Batch: 1 | Loss 0.46339279413223267\n",
      "Epoch: 212 | Batch: 2 | Loss 0.47712746262550354\n",
      "Epoch 212 Training Accuracy: tensor(0.8222)\n",
      "Testing Accuracy: tensor(0.7000)\n",
      "Epoch: 213 | Batch: 0 | Loss 0.47502806782722473\n",
      "Epoch: 213 | Batch: 1 | Loss 0.5326846837997437\n",
      "Epoch: 213 | Batch: 2 | Loss 0.44516968727111816\n",
      "Epoch 213 Training Accuracy: tensor(0.8444)\n",
      "Testing Accuracy: tensor(0.6667)\n",
      "Epoch: 214 | Batch: 0 | Loss 0.5175389647483826\n",
      "Epoch: 214 | Batch: 1 | Loss 0.4861551821231842\n",
      "Epoch: 214 | Batch: 2 | Loss 0.45624127984046936\n",
      "Epoch 214 Training Accuracy: tensor(0.8778)\n",
      "Testing Accuracy: tensor(0.6667)\n",
      "Epoch: 215 | Batch: 0 | Loss 0.489750474691391\n",
      "Epoch: 215 | Batch: 1 | Loss 0.5067819356918335\n",
      "Epoch: 215 | Batch: 2 | Loss 0.4799014627933502\n",
      "Epoch 215 Training Accuracy: tensor(0.8556)\n",
      "Testing Accuracy: tensor(0.6667)\n",
      "Epoch: 216 | Batch: 0 | Loss 0.49140042066574097\n",
      "Epoch: 216 | Batch: 1 | Loss 0.49966996908187866\n",
      "Epoch: 216 | Batch: 2 | Loss 0.4940662384033203\n",
      "Epoch 216 Training Accuracy: tensor(0.8556)\n",
      "Testing Accuracy: tensor(0.6667)\n",
      "Epoch: 217 | Batch: 0 | Loss 0.4997890293598175\n",
      "Epoch: 217 | Batch: 1 | Loss 0.46526801586151123\n",
      "Epoch: 217 | Batch: 2 | Loss 0.5730056166648865\n",
      "Epoch 217 Training Accuracy: tensor(0.8111)\n",
      "Testing Accuracy: tensor(0.6667)\n",
      "Epoch: 218 | Batch: 0 | Loss 0.5018205642700195\n",
      "Epoch: 218 | Batch: 1 | Loss 0.5067126750946045\n",
      "Epoch: 218 | Batch: 2 | Loss 0.44472819566726685\n",
      "Epoch 218 Training Accuracy: tensor(0.8778)\n",
      "Testing Accuracy: tensor(0.6667)\n",
      "Epoch: 219 | Batch: 0 | Loss 0.4901023209095001\n",
      "Epoch: 219 | Batch: 1 | Loss 0.47433531284332275\n",
      "Epoch: 219 | Batch: 2 | Loss 0.5721300840377808\n",
      "Epoch 219 Training Accuracy: tensor(0.8667)\n",
      "Testing Accuracy: tensor(0.6667)\n",
      "Epoch: 220 | Batch: 0 | Loss 0.5109806060791016\n",
      "Epoch: 220 | Batch: 1 | Loss 0.47943034768104553\n",
      "Epoch: 220 | Batch: 2 | Loss 0.49021196365356445\n",
      "Epoch 220 Training Accuracy: tensor(0.8556)\n",
      "Testing Accuracy: tensor(0.6667)\n",
      "Epoch: 221 | Batch: 0 | Loss 0.48258504271507263\n",
      "Epoch: 221 | Batch: 1 | Loss 0.508100688457489\n",
      "Epoch: 221 | Batch: 2 | Loss 0.4883270263671875\n",
      "Epoch 221 Training Accuracy: tensor(0.8556)\n",
      "Testing Accuracy: tensor(0.7000)\n",
      "Epoch: 222 | Batch: 0 | Loss 0.45778170228004456\n",
      "Epoch: 222 | Batch: 1 | Loss 0.5206578969955444\n",
      "Epoch: 222 | Batch: 2 | Loss 0.5385470986366272\n",
      "Epoch 222 Training Accuracy: tensor(0.8000)\n",
      "Testing Accuracy: tensor(0.7000)\n",
      "Epoch: 223 | Batch: 0 | Loss 0.4572446644306183\n",
      "Epoch: 223 | Batch: 1 | Loss 0.526877760887146\n",
      "Epoch: 223 | Batch: 2 | Loss 0.5225719213485718\n",
      "Epoch 223 Training Accuracy: tensor(0.8222)\n",
      "Testing Accuracy: tensor(0.7000)\n",
      "Epoch: 224 | Batch: 0 | Loss 0.4707096815109253\n",
      "Epoch: 224 | Batch: 1 | Loss 0.49250760674476624\n",
      "Epoch: 224 | Batch: 2 | Loss 0.5768976211547852\n",
      "Epoch 224 Training Accuracy: tensor(0.8333)\n",
      "Testing Accuracy: tensor(0.6667)\n",
      "Epoch: 225 | Batch: 0 | Loss 0.5266630053520203\n",
      "Epoch: 225 | Batch: 1 | Loss 0.4944347143173218\n",
      "Epoch: 225 | Batch: 2 | Loss 0.400714635848999\n",
      "Epoch 225 Training Accuracy: tensor(0.8778)\n",
      "Testing Accuracy: tensor(0.7000)\n",
      "Epoch: 226 | Batch: 0 | Loss 0.47342243790626526\n",
      "Epoch: 226 | Batch: 1 | Loss 0.5335903763771057\n",
      "Epoch: 226 | Batch: 2 | Loss 0.44806089997291565\n",
      "Epoch 226 Training Accuracy: tensor(0.8444)\n",
      "Testing Accuracy: tensor(0.7000)\n",
      "Epoch: 227 | Batch: 0 | Loss 0.4990752041339874\n",
      "Epoch: 227 | Batch: 1 | Loss 0.4728706479072571\n",
      "Epoch: 227 | Batch: 2 | Loss 0.5613512992858887\n",
      "Epoch 227 Training Accuracy: tensor(0.8333)\n",
      "Testing Accuracy: tensor(0.7000)\n",
      "Epoch: 228 | Batch: 0 | Loss 0.44534146785736084\n",
      "Epoch: 228 | Batch: 1 | Loss 0.5245132446289062\n",
      "Epoch: 228 | Batch: 2 | Loss 0.5617337822914124\n",
      "Epoch 228 Training Accuracy: tensor(0.8333)\n",
      "Testing Accuracy: tensor(0.6667)\n",
      "Epoch: 229 | Batch: 0 | Loss 0.48580262064933777\n",
      "Epoch: 229 | Batch: 1 | Loss 0.4665643572807312\n",
      "Epoch: 229 | Batch: 2 | Loss 0.6038600206375122\n",
      "Epoch 229 Training Accuracy: tensor(0.8111)\n",
      "Testing Accuracy: tensor(0.6667)\n",
      "Epoch: 230 | Batch: 0 | Loss 0.49909335374832153\n",
      "Epoch: 230 | Batch: 1 | Loss 0.494178831577301\n",
      "Epoch: 230 | Batch: 2 | Loss 0.4969491958618164\n",
      "Epoch 230 Training Accuracy: tensor(0.8556)\n",
      "Testing Accuracy: tensor(0.7000)\n",
      "Epoch: 231 | Batch: 0 | Loss 0.4797438681125641\n",
      "Epoch: 231 | Batch: 1 | Loss 0.4867458939552307\n",
      "Epoch: 231 | Batch: 2 | Loss 0.5692728757858276\n",
      "Epoch 231 Training Accuracy: tensor(0.8000)\n",
      "Testing Accuracy: tensor(0.6667)\n",
      "Epoch: 232 | Batch: 0 | Loss 0.5004778504371643\n",
      "Epoch: 232 | Batch: 1 | Loss 0.49740415811538696\n",
      "Epoch: 232 | Batch: 2 | Loss 0.47202616930007935\n",
      "Epoch 232 Training Accuracy: tensor(0.8556)\n",
      "Testing Accuracy: tensor(0.6667)\n",
      "Epoch: 233 | Batch: 0 | Loss 0.48851558566093445\n",
      "Epoch: 233 | Batch: 1 | Loss 0.507496178150177\n",
      "Epoch: 233 | Batch: 2 | Loss 0.4755991995334625\n",
      "Epoch 233 Training Accuracy: tensor(0.8667)\n",
      "Testing Accuracy: tensor(0.6667)\n",
      "Epoch: 234 | Batch: 0 | Loss 0.48271021246910095\n",
      "Epoch: 234 | Batch: 1 | Loss 0.5212703347206116\n",
      "Epoch: 234 | Batch: 2 | Loss 0.4485887885093689\n",
      "Epoch 234 Training Accuracy: tensor(0.8667)\n",
      "Testing Accuracy: tensor(0.7000)\n",
      "Epoch: 235 | Batch: 0 | Loss 0.5448226928710938\n",
      "Epoch: 235 | Batch: 1 | Loss 0.4853300452232361\n",
      "Epoch: 235 | Batch: 2 | Loss 0.3801324665546417\n",
      "Epoch 235 Training Accuracy: tensor(0.8889)\n",
      "Testing Accuracy: tensor(0.7000)\n",
      "Epoch: 236 | Batch: 0 | Loss 0.5066393613815308\n",
      "Epoch: 236 | Batch: 1 | Loss 0.4777643084526062\n",
      "Epoch: 236 | Batch: 2 | Loss 0.5172470808029175\n",
      "Epoch 236 Training Accuracy: tensor(0.8111)\n",
      "Testing Accuracy: tensor(0.7000)\n",
      "Epoch: 237 | Batch: 0 | Loss 0.5033443570137024\n",
      "Epoch: 237 | Batch: 1 | Loss 0.5003993511199951\n",
      "Epoch: 237 | Batch: 2 | Loss 0.45361703634262085\n",
      "Epoch 237 Training Accuracy: tensor(0.8333)\n",
      "Testing Accuracy: tensor(0.6667)\n",
      "Epoch: 238 | Batch: 0 | Loss 0.558313250541687\n",
      "Epoch: 238 | Batch: 1 | Loss 0.450216680765152\n",
      "Epoch: 238 | Batch: 2 | Loss 0.4377099573612213\n",
      "Epoch 238 Training Accuracy: tensor(0.8778)\n",
      "Testing Accuracy: tensor(0.7000)\n",
      "Epoch: 239 | Batch: 0 | Loss 0.514858067035675\n",
      "Epoch: 239 | Batch: 1 | Loss 0.43034759163856506\n",
      "Epoch: 239 | Batch: 2 | Loss 0.6300564408302307\n",
      "Epoch 239 Training Accuracy: tensor(0.7889)\n",
      "Testing Accuracy: tensor(0.7000)\n",
      "Epoch: 240 | Batch: 0 | Loss 0.4653445780277252\n",
      "Epoch: 240 | Batch: 1 | Loss 0.5235190987586975\n",
      "Epoch: 240 | Batch: 2 | Loss 0.498970091342926\n",
      "Epoch 240 Training Accuracy: tensor(0.8556)\n",
      "Testing Accuracy: tensor(0.6667)\n",
      "Epoch: 241 | Batch: 0 | Loss 0.49679917097091675\n",
      "Epoch: 241 | Batch: 1 | Loss 0.4850327670574188\n",
      "Epoch: 241 | Batch: 2 | Loss 0.5144561529159546\n",
      "Epoch 241 Training Accuracy: tensor(0.8778)\n",
      "Testing Accuracy: tensor(0.6667)\n",
      "Epoch: 242 | Batch: 0 | Loss 0.478087455034256\n",
      "Epoch: 242 | Batch: 1 | Loss 0.503961443901062\n",
      "Epoch: 242 | Batch: 2 | Loss 0.5178827047348022\n",
      "Epoch 242 Training Accuracy: tensor(0.8333)\n",
      "Testing Accuracy: tensor(0.7000)\n",
      "Epoch: 243 | Batch: 0 | Loss 0.53337162733078\n",
      "Epoch: 243 | Batch: 1 | Loss 0.465406209230423\n",
      "Epoch: 243 | Batch: 2 | Loss 0.47249507904052734\n",
      "Epoch 243 Training Accuracy: tensor(0.8778)\n",
      "Testing Accuracy: tensor(0.6667)\n",
      "Epoch: 244 | Batch: 0 | Loss 0.53568434715271\n",
      "Epoch: 244 | Batch: 1 | Loss 0.47300320863723755\n",
      "Epoch: 244 | Batch: 2 | Loss 0.43656349182128906\n",
      "Epoch 244 Training Accuracy: tensor(0.8556)\n",
      "Testing Accuracy: tensor(0.7000)\n",
      "Epoch: 245 | Batch: 0 | Loss 0.4735814332962036\n",
      "Epoch: 245 | Batch: 1 | Loss 0.5156193971633911\n",
      "Epoch: 245 | Batch: 2 | Loss 0.49388590455055237\n",
      "Epoch 245 Training Accuracy: tensor(0.8333)\n",
      "Testing Accuracy: tensor(0.6667)\n",
      "Epoch: 246 | Batch: 0 | Loss 0.4765162765979767\n",
      "Epoch: 246 | Batch: 1 | Loss 0.5022628903388977\n",
      "Epoch: 246 | Batch: 2 | Loss 0.5257574319839478\n",
      "Epoch 246 Training Accuracy: tensor(0.8222)\n",
      "Testing Accuracy: tensor(0.7000)\n",
      "Epoch: 247 | Batch: 0 | Loss 0.5159612894058228\n",
      "Epoch: 247 | Batch: 1 | Loss 0.48389217257499695\n",
      "Epoch: 247 | Batch: 2 | Loss 0.46329599618911743\n",
      "Epoch 247 Training Accuracy: tensor(0.8556)\n",
      "Testing Accuracy: tensor(0.7000)\n",
      "Epoch: 248 | Batch: 0 | Loss 0.494140088558197\n",
      "Epoch: 248 | Batch: 1 | Loss 0.46678340435028076\n",
      "Epoch: 248 | Batch: 2 | Loss 0.5785108804702759\n",
      "Epoch 248 Training Accuracy: tensor(0.8000)\n",
      "Testing Accuracy: tensor(0.7000)\n",
      "Epoch: 249 | Batch: 0 | Loss 0.4932330548763275\n",
      "Epoch: 249 | Batch: 1 | Loss 0.4842676818370819\n",
      "Epoch: 249 | Batch: 2 | Loss 0.542846143245697\n",
      "Epoch 249 Training Accuracy: tensor(0.8111)\n",
      "Testing Accuracy: tensor(0.7000)\n",
      "Epoch: 250 | Batch: 0 | Loss 0.5192970633506775\n",
      "Epoch: 250 | Batch: 1 | Loss 0.4823383390903473\n",
      "Epoch: 250 | Batch: 2 | Loss 0.46415799856185913\n",
      "Epoch 250 Training Accuracy: tensor(0.8556)\n",
      "Testing Accuracy: tensor(0.7000)\n",
      "Epoch: 251 | Batch: 0 | Loss 0.506407618522644\n",
      "Epoch: 251 | Batch: 1 | Loss 0.4901149868965149\n",
      "Epoch: 251 | Batch: 2 | Loss 0.4696388244628906\n",
      "Epoch 251 Training Accuracy: tensor(0.8778)\n",
      "Testing Accuracy: tensor(0.6667)\n",
      "Epoch: 252 | Batch: 0 | Loss 0.49058717489242554\n",
      "Epoch: 252 | Batch: 1 | Loss 0.5094963312149048\n",
      "Epoch: 252 | Batch: 2 | Loss 0.4688390791416168\n",
      "Epoch 252 Training Accuracy: tensor(0.8333)\n",
      "Testing Accuracy: tensor(0.6667)\n",
      "Epoch: 253 | Batch: 0 | Loss 0.4606572985649109\n",
      "Epoch: 253 | Batch: 1 | Loss 0.5499545335769653\n",
      "Epoch: 253 | Batch: 2 | Loss 0.43363839387893677\n",
      "Epoch 253 Training Accuracy: tensor(0.8778)\n",
      "Testing Accuracy: tensor(0.6667)\n",
      "Epoch: 254 | Batch: 0 | Loss 0.47735464572906494\n",
      "Epoch: 254 | Batch: 1 | Loss 0.4880715310573578\n",
      "Epoch: 254 | Batch: 2 | Loss 0.5633715391159058\n",
      "Epoch 254 Training Accuracy: tensor(0.8222)\n",
      "Testing Accuracy: tensor(0.6667)\n",
      "Epoch: 255 | Batch: 0 | Loss 0.4872792959213257\n",
      "Epoch: 255 | Batch: 1 | Loss 0.5160273313522339\n",
      "Epoch: 255 | Batch: 2 | Loss 0.45152321457862854\n",
      "Epoch 255 Training Accuracy: tensor(0.8667)\n",
      "Testing Accuracy: tensor(0.6667)\n",
      "Epoch: 256 | Batch: 0 | Loss 0.5201694965362549\n",
      "Epoch: 256 | Batch: 1 | Loss 0.4744238555431366\n",
      "Epoch: 256 | Batch: 2 | Loss 0.4743269979953766\n",
      "Epoch 256 Training Accuracy: tensor(0.8444)\n",
      "Testing Accuracy: tensor(0.6667)\n",
      "Epoch: 257 | Batch: 0 | Loss 0.5405833125114441\n",
      "Epoch: 257 | Batch: 1 | Loss 0.47137901186943054\n",
      "Epoch: 257 | Batch: 2 | Loss 0.4270800054073334\n",
      "Epoch 257 Training Accuracy: tensor(0.8778)\n",
      "Testing Accuracy: tensor(0.6667)\n",
      "Epoch: 258 | Batch: 0 | Loss 0.4862463176250458\n",
      "Epoch: 258 | Batch: 1 | Loss 0.47333845496177673\n",
      "Epoch: 258 | Batch: 2 | Loss 0.5800362825393677\n",
      "Epoch 258 Training Accuracy: tensor(0.8444)\n",
      "Testing Accuracy: tensor(0.6667)\n",
      "Epoch: 259 | Batch: 0 | Loss 0.5487629771232605\n",
      "Epoch: 259 | Batch: 1 | Loss 0.46484488248825073\n",
      "Epoch: 259 | Batch: 2 | Loss 0.419055312871933\n",
      "Epoch 259 Training Accuracy: tensor(0.8444)\n",
      "Testing Accuracy: tensor(0.7000)\n",
      "Epoch: 260 | Batch: 0 | Loss 0.530828058719635\n",
      "Epoch: 260 | Batch: 1 | Loss 0.47558480501174927\n",
      "Epoch: 260 | Batch: 2 | Loss 0.4410178065299988\n",
      "Epoch 260 Training Accuracy: tensor(0.8556)\n",
      "Testing Accuracy: tensor(0.7000)\n",
      "Epoch: 261 | Batch: 0 | Loss 0.4941708743572235\n",
      "Epoch: 261 | Batch: 1 | Loss 0.4983532130718231\n",
      "Epoch: 261 | Batch: 2 | Loss 0.4829713702201843\n",
      "Epoch 261 Training Accuracy: tensor(0.8556)\n",
      "Testing Accuracy: tensor(0.6667)\n",
      "Epoch: 262 | Batch: 0 | Loss 0.49727633595466614\n",
      "Epoch: 262 | Batch: 1 | Loss 0.4577895998954773\n",
      "Epoch: 262 | Batch: 2 | Loss 0.5924959182739258\n",
      "Epoch 262 Training Accuracy: tensor(0.7889)\n",
      "Testing Accuracy: tensor(0.6667)\n",
      "Epoch: 263 | Batch: 0 | Loss 0.45713984966278076\n",
      "Epoch: 263 | Batch: 1 | Loss 0.5336663126945496\n",
      "Epoch: 263 | Batch: 2 | Loss 0.4856483042240143\n",
      "Epoch 263 Training Accuracy: tensor(0.8556)\n",
      "Testing Accuracy: tensor(0.6667)\n",
      "Epoch: 264 | Batch: 0 | Loss 0.5379778146743774\n",
      "Epoch: 264 | Batch: 1 | Loss 0.46617892384529114\n",
      "Epoch: 264 | Batch: 2 | Loss 0.4458011984825134\n",
      "Epoch 264 Training Accuracy: tensor(0.8444)\n",
      "Testing Accuracy: tensor(0.6667)\n",
      "Epoch: 265 | Batch: 0 | Loss 0.5357333421707153\n",
      "Epoch: 265 | Batch: 1 | Loss 0.4462328851222992\n",
      "Epoch: 265 | Batch: 2 | Loss 0.5099045038223267\n",
      "Epoch 265 Training Accuracy: tensor(0.8556)\n",
      "Testing Accuracy: tensor(0.7000)\n",
      "Epoch: 266 | Batch: 0 | Loss 0.4801570177078247\n",
      "Epoch: 266 | Batch: 1 | Loss 0.4613667130470276\n",
      "Epoch: 266 | Batch: 2 | Loss 0.6319835782051086\n",
      "Epoch 266 Training Accuracy: tensor(0.8222)\n",
      "Testing Accuracy: tensor(0.7000)\n",
      "Epoch: 267 | Batch: 0 | Loss 0.5104621052742004\n",
      "Epoch: 267 | Batch: 1 | Loss 0.48324817419052124\n",
      "Epoch: 267 | Batch: 2 | Loss 0.4964819550514221\n",
      "Epoch 267 Training Accuracy: tensor(0.8667)\n",
      "Testing Accuracy: tensor(0.7333)\n",
      "Epoch: 268 | Batch: 0 | Loss 0.5459362268447876\n",
      "Epoch: 268 | Batch: 1 | Loss 0.42359957098960876\n",
      "Epoch: 268 | Batch: 2 | Loss 0.5874037742614746\n",
      "Epoch 268 Training Accuracy: tensor(0.8444)\n",
      "Testing Accuracy: tensor(0.7000)\n",
      "Epoch: 269 | Batch: 0 | Loss 0.4741397500038147\n",
      "Epoch: 269 | Batch: 1 | Loss 0.5351638197898865\n",
      "Epoch: 269 | Batch: 2 | Loss 0.46133822202682495\n",
      "Epoch 269 Training Accuracy: tensor(0.8667)\n",
      "Testing Accuracy: tensor(0.7000)\n",
      "Epoch: 270 | Batch: 0 | Loss 0.4841859042644501\n",
      "Epoch: 270 | Batch: 1 | Loss 0.5359099507331848\n",
      "Epoch: 270 | Batch: 2 | Loss 0.408107191324234\n",
      "Epoch 270 Training Accuracy: tensor(0.9000)\n",
      "Testing Accuracy: tensor(0.7000)\n",
      "Epoch: 271 | Batch: 0 | Loss 0.5092465281486511\n",
      "Epoch: 271 | Batch: 1 | Loss 0.4652138352394104\n",
      "Epoch: 271 | Batch: 2 | Loss 0.5427370667457581\n",
      "Epoch 271 Training Accuracy: tensor(0.8000)\n",
      "Testing Accuracy: tensor(0.6667)\n",
      "Epoch: 272 | Batch: 0 | Loss 0.5088040828704834\n",
      "Epoch: 272 | Batch: 1 | Loss 0.4625729024410248\n",
      "Epoch: 272 | Batch: 2 | Loss 0.545413076877594\n",
      "Epoch 272 Training Accuracy: tensor(0.8333)\n",
      "Testing Accuracy: tensor(0.7000)\n",
      "Epoch: 273 | Batch: 0 | Loss 0.4874809980392456\n",
      "Epoch: 273 | Batch: 1 | Loss 0.5132520794868469\n",
      "Epoch: 273 | Batch: 2 | Loss 0.4603787362575531\n",
      "Epoch 273 Training Accuracy: tensor(0.8556)\n",
      "Testing Accuracy: tensor(0.7000)\n",
      "Epoch: 274 | Batch: 0 | Loss 0.5183144807815552\n",
      "Epoch: 274 | Batch: 1 | Loss 0.4757210910320282\n",
      "Epoch: 274 | Batch: 2 | Loss 0.47884616255760193\n",
      "Epoch 274 Training Accuracy: tensor(0.8333)\n",
      "Testing Accuracy: tensor(0.7000)\n",
      "Epoch: 275 | Batch: 0 | Loss 0.5203477144241333\n",
      "Epoch: 275 | Batch: 1 | Loss 0.4471329152584076\n",
      "Epoch: 275 | Batch: 2 | Loss 0.5594205856323242\n",
      "Epoch 275 Training Accuracy: tensor(0.8333)\n",
      "Testing Accuracy: tensor(0.6667)\n",
      "Epoch: 276 | Batch: 0 | Loss 0.5229896306991577\n",
      "Epoch: 276 | Batch: 1 | Loss 0.4603046774864197\n",
      "Epoch: 276 | Batch: 2 | Loss 0.5085636377334595\n",
      "Epoch 276 Training Accuracy: tensor(0.8333)\n",
      "Testing Accuracy: tensor(0.7000)\n",
      "Epoch: 277 | Batch: 0 | Loss 0.5126267671585083\n",
      "Epoch: 277 | Batch: 1 | Loss 0.47460854053497314\n",
      "Epoch: 277 | Batch: 2 | Loss 0.5000839233398438\n",
      "Epoch 277 Training Accuracy: tensor(0.8556)\n",
      "Testing Accuracy: tensor(0.7000)\n",
      "Epoch: 278 | Batch: 0 | Loss 0.496853232383728\n",
      "Epoch: 278 | Batch: 1 | Loss 0.5002086758613586\n",
      "Epoch: 278 | Batch: 2 | Loss 0.4630185067653656\n",
      "Epoch 278 Training Accuracy: tensor(0.8333)\n",
      "Testing Accuracy: tensor(0.7000)\n",
      "Epoch: 279 | Batch: 0 | Loss 0.45802175998687744\n",
      "Epoch: 279 | Batch: 1 | Loss 0.5294978618621826\n",
      "Epoch: 279 | Batch: 2 | Loss 0.504784107208252\n",
      "Epoch 279 Training Accuracy: tensor(0.8222)\n",
      "Testing Accuracy: tensor(0.7000)\n",
      "Epoch: 280 | Batch: 0 | Loss 0.4573156237602234\n",
      "Epoch: 280 | Batch: 1 | Loss 0.5283695459365845\n",
      "Epoch: 280 | Batch: 2 | Loss 0.5092595815658569\n",
      "Epoch 280 Training Accuracy: tensor(0.8111)\n",
      "Testing Accuracy: tensor(0.7000)\n",
      "Epoch: 281 | Batch: 0 | Loss 0.45471814274787903\n",
      "Epoch: 281 | Batch: 1 | Loss 0.5191633701324463\n",
      "Epoch: 281 | Batch: 2 | Loss 0.5428878664970398\n",
      "Epoch 281 Training Accuracy: tensor(0.8222)\n",
      "Testing Accuracy: tensor(0.6667)\n",
      "Epoch: 282 | Batch: 0 | Loss 0.48689696192741394\n",
      "Epoch: 282 | Batch: 1 | Loss 0.5142932534217834\n",
      "Epoch: 282 | Batch: 2 | Loss 0.4548419415950775\n",
      "Epoch 282 Training Accuracy: tensor(0.8667)\n",
      "Testing Accuracy: tensor(0.6667)\n",
      "Epoch: 283 | Batch: 0 | Loss 0.4761890769004822\n",
      "Epoch: 283 | Batch: 1 | Loss 0.5108771324157715\n",
      "Epoch: 283 | Batch: 2 | Loss 0.49521440267562866\n",
      "Epoch 283 Training Accuracy: tensor(0.8333)\n",
      "Testing Accuracy: tensor(0.6667)\n",
      "Epoch: 284 | Batch: 0 | Loss 0.5062209367752075\n",
      "Epoch: 284 | Batch: 1 | Loss 0.4664500951766968\n",
      "Epoch: 284 | Batch: 2 | Loss 0.5400909781455994\n",
      "Epoch 284 Training Accuracy: tensor(0.8444)\n",
      "Testing Accuracy: tensor(0.6667)\n",
      "Epoch: 285 | Batch: 0 | Loss 0.5164479613304138\n",
      "Epoch: 285 | Batch: 1 | Loss 0.46424782276153564\n",
      "Epoch: 285 | Batch: 2 | Loss 0.5137115716934204\n",
      "Epoch 285 Training Accuracy: tensor(0.8444)\n",
      "Testing Accuracy: tensor(0.6667)\n",
      "Epoch: 286 | Batch: 0 | Loss 0.5044406652450562\n",
      "Epoch: 286 | Batch: 1 | Loss 0.4941563606262207\n",
      "Epoch: 286 | Batch: 2 | Loss 0.4668436646461487\n",
      "Epoch 286 Training Accuracy: tensor(0.8556)\n",
      "Testing Accuracy: tensor(0.7000)\n",
      "Epoch: 287 | Batch: 0 | Loss 0.5412753820419312\n",
      "Epoch: 287 | Batch: 1 | Loss 0.47230595350265503\n",
      "Epoch: 287 | Batch: 2 | Loss 0.41819724440574646\n",
      "Epoch 287 Training Accuracy: tensor(0.8556)\n",
      "Testing Accuracy: tensor(0.6667)\n",
      "Epoch: 288 | Batch: 0 | Loss 0.4858535826206207\n",
      "Epoch: 288 | Batch: 1 | Loss 0.530098021030426\n",
      "Epoch: 288 | Batch: 2 | Loss 0.4079289436340332\n",
      "Epoch 288 Training Accuracy: tensor(0.8556)\n",
      "Testing Accuracy: tensor(0.6667)\n",
      "Epoch: 289 | Batch: 0 | Loss 0.49852409958839417\n",
      "Epoch: 289 | Batch: 1 | Loss 0.4541058838367462\n",
      "Epoch: 289 | Batch: 2 | Loss 0.5965078473091125\n",
      "Epoch 289 Training Accuracy: tensor(0.7889)\n",
      "Testing Accuracy: tensor(0.6667)\n",
      "Epoch: 290 | Batch: 0 | Loss 0.4956779479980469\n",
      "Epoch: 290 | Batch: 1 | Loss 0.5113469362258911\n",
      "Epoch: 290 | Batch: 2 | Loss 0.43452778458595276\n",
      "Epoch 290 Training Accuracy: tensor(0.8667)\n",
      "Testing Accuracy: tensor(0.7000)\n",
      "Epoch: 291 | Batch: 0 | Loss 0.5158971548080444\n",
      "Epoch: 291 | Batch: 1 | Loss 0.4350482225418091\n",
      "Epoch: 291 | Batch: 2 | Loss 0.6050854325294495\n",
      "Epoch 291 Training Accuracy: tensor(0.7889)\n",
      "Testing Accuracy: tensor(0.7000)\n",
      "Epoch: 292 | Batch: 0 | Loss 0.45544686913490295\n",
      "Epoch: 292 | Batch: 1 | Loss 0.505224883556366\n",
      "Epoch: 292 | Batch: 2 | Loss 0.5874775648117065\n",
      "Epoch 292 Training Accuracy: tensor(0.7778)\n",
      "Testing Accuracy: tensor(0.7000)\n",
      "Epoch: 293 | Batch: 0 | Loss 0.5336708426475525\n",
      "Epoch: 293 | Batch: 1 | Loss 0.47046980261802673\n",
      "Epoch: 293 | Batch: 2 | Loss 0.45499587059020996\n",
      "Epoch 293 Training Accuracy: tensor(0.8222)\n",
      "Testing Accuracy: tensor(0.7000)\n",
      "Epoch: 294 | Batch: 0 | Loss 0.4696272909641266\n",
      "Epoch: 294 | Batch: 1 | Loss 0.513378381729126\n",
      "Epoch: 294 | Batch: 2 | Loss 0.5081907510757446\n",
      "Epoch 294 Training Accuracy: tensor(0.8333)\n",
      "Testing Accuracy: tensor(0.6667)\n",
      "Epoch: 295 | Batch: 0 | Loss 0.45346298813819885\n",
      "Epoch: 295 | Batch: 1 | Loss 0.5225865244865417\n",
      "Epoch: 295 | Batch: 2 | Loss 0.5318370461463928\n",
      "Epoch 295 Training Accuracy: tensor(0.8222)\n",
      "Testing Accuracy: tensor(0.7000)\n",
      "Epoch: 296 | Batch: 0 | Loss 0.4865557551383972\n",
      "Epoch: 296 | Batch: 1 | Loss 0.5183585286140442\n",
      "Epoch: 296 | Batch: 2 | Loss 0.45059433579444885\n",
      "Epoch 296 Training Accuracy: tensor(0.8333)\n",
      "Testing Accuracy: tensor(0.7000)\n",
      "Epoch: 297 | Batch: 0 | Loss 0.4918094277381897\n",
      "Epoch: 297 | Batch: 1 | Loss 0.4747432470321655\n",
      "Epoch: 297 | Batch: 2 | Loss 0.5652551054954529\n",
      "Epoch 297 Training Accuracy: tensor(0.8111)\n",
      "Testing Accuracy: tensor(0.7000)\n",
      "Epoch: 298 | Batch: 0 | Loss 0.5162011384963989\n",
      "Epoch: 298 | Batch: 1 | Loss 0.4855068624019623\n",
      "Epoch: 298 | Batch: 2 | Loss 0.4644080698490143\n",
      "Epoch 298 Training Accuracy: tensor(0.8556)\n",
      "Testing Accuracy: tensor(0.7000)\n",
      "Epoch: 299 | Batch: 0 | Loss 0.4543877840042114\n",
      "Epoch: 299 | Batch: 1 | Loss 0.5499273538589478\n",
      "Epoch: 299 | Batch: 2 | Loss 0.44514670968055725\n",
      "Epoch 299 Training Accuracy: tensor(0.8778)\n",
      "Testing Accuracy: tensor(0.6667)\n"
     ]
    }
   ],
   "source": [
    "n_epochs=300\n",
    "optimizer = torch.optim.Adam(lr=0.008, params=model.parameters())\n",
    "criterion = nn.BCELoss()\n",
    "#criterion = torch.nn.CrossEntropyLoss()\n",
    "#pbar = tqdm(total=len(mc_trainloader), leave=True)\n",
    "if torch.cuda.is_available():\n",
    "    devname = \"cuda\"\n",
    "else:\n",
    "    devname = \"cpu\"\n",
    "device = torch.device(devname)\n",
    "model.train()\n",
    "model.to(device)\n",
    "#pbar = tqdm(total=len(mc_trainloader), leave=True)\n",
    "file_name=\"QRNN_model_12111_mc\"\n",
    "max_val=0\n",
    "loss_lst=[]\n",
    "for epoch in range(n_epochs):\n",
    "    acc=0\n",
    "    aver_lst=[]\n",
    "    for batch, (feature, label) in enumerate(mc_trainloader):\n",
    "        optimizer.zero_grad()\n",
    "        feature, label = feature.to(device), label.to(device)\n",
    "        preds = model(feature.float())#.squeeze(1)\n",
    "        loss = criterion(preds.flatten(), label.float())\n",
    "        preds = preds.ravel()\n",
    "        label = label.ravel()\n",
    "        acc += binary_accuracy(preds, label)\n",
    "\n",
    "        loss.backward()\n",
    "        optimizer.step()\n",
    "        print(f\"Epoch: {epoch} | Batch: {batch} | Loss {loss.cpu().detach()}\")\n",
    "        #pbar.update()\n",
    "        #pbar.desc = f\"Epoch: {epoch} | Batch: {batch} | Loss {loss.cpu().detach()}\"\n",
    "        #pbar.refresh()\n",
    "        aver_lst.append(loss.cpu().detach())\n",
    "    loss_lst.append(np.mean(aver_lst))\n",
    "    acc=acc/(batch+1)\n",
    "    print('Epoch',epoch,'Training Accuracy:', acc)\n",
    "    feature, label=next(iter(mc_testloader))\n",
    "    preds = model(feature.float().squeeze(1))#.squeeze(1)\n",
    "    loss = criterion(preds.flatten(), label.float())\n",
    "    preds = preds.ravel()\n",
    "    label = label.ravel()\n",
    "    acc1 = binary_accuracy(preds, label)\n",
    "    print('Testing Accuracy:', acc1)\n",
    "    if max_val< (acc1+acc):\n",
    "        max_val=acc1+acc\n",
    "        torch.save(model.state_dict(),file_name)\n",
    "#pbar.close()\n"
   ]
  },
  {
   "cell_type": "code",
   "execution_count": 13,
   "metadata": {
    "colab": {
     "base_uri": "https://localhost:8080/"
    },
    "id": "MOVnH8BQDIFh",
    "outputId": "d578cffd-0207-4e2c-9f7e-c4d9eceb4d29"
   },
   "outputs": [
    {
     "data": {
      "text/plain": [
       "qrnn(\n",
       "  (QRNN): <Quantum Torch Layer: func=circuit>\n",
       ")"
      ]
     },
     "execution_count": 13,
     "metadata": {},
     "output_type": "execute_result"
    }
   ],
   "source": [
    "file_name=\"QRNN_model_12111_mc\"\n",
    "model.load_state_dict(torch.load(file_name))\n",
    "model.eval()"
   ]
  },
  {
   "cell_type": "code",
   "execution_count": 14,
   "metadata": {
    "colab": {
     "base_uri": "https://localhost:8080/"
    },
    "id": "DsCVeF18zFgz",
    "outputId": "5055e18a-da65-4bcd-bb53-2b99b1d300ba"
   },
   "outputs": [
    {
     "name": "stderr",
     "output_type": "stream",
     "text": [
      "/tmp/ipykernel_4020/4241768363.py:19: UserWarning: Creating a tensor from a list of numpy.ndarrays is extremely slow. Please consider converting the list to a single numpy.ndarray with numpy.array() before converting to a tensor. (Triggered internally at ../torch/csrc/utils/tensor_new.cpp:245.)\n",
      "  preds = torch.tensor(preds).ravel()\n"
     ]
    },
    {
     "name": "stdout",
     "output_type": "stream",
     "text": [
      "Test Accuracy: 0.7333333 $\\pm$ 5.9604645e-08\n"
     ]
    }
   ],
   "source": [
    "acc=[]\n",
    "for i in range(100):\n",
    "    preds = []\n",
    "    labels = []\n",
    "    #pbar = tqdm(total=len(mc_testloader), leave=True)\n",
    "    device = torch.device(\"cuda\" if torch.cuda.is_available() else \"cpu\")\n",
    "    model.eval()\n",
    "    model.to(device)\n",
    "    for batch, (feature, label) in enumerate(mc_testloader):\n",
    "      feature, label = feature.to(device), label.to(device)\n",
    "      with torch.no_grad():\n",
    "        predictions = model(feature.float())\n",
    "        preds.append(predictions.cpu().numpy())\n",
    "        labels.append(label.cpu().numpy())\n",
    "      #pbar.update()\n",
    "      #pbar.desc = f\"Batch: {batch}\"\n",
    "      #pbar.refresh()\n",
    "    #pbar.close()\n",
    "    preds = torch.tensor(preds).ravel()\n",
    "    # preds = np.array([1 if pred>=0.5 else 0 for pred in preds])\n",
    "    labels = torch.tensor(labels).ravel()\n",
    "    #acc = (preds == labels).sum() / len(preds)\n",
    "    acc.append(binary_accuracy(preds, labels))\n",
    "print(\"Test Accuracy:\",np.mean(acc),r\"$\\pm$\",np.std(acc))"
   ]
  },
  {
   "cell_type": "markdown",
   "metadata": {
    "id": "AyJ9t5anmyi3"
   },
   "source": [
    "## RP task"
   ]
  },
  {
   "cell_type": "code",
   "execution_count": 15,
   "metadata": {
    "id": "e4VY6a3A6XVR"
   },
   "outputs": [],
   "source": [
    "shape=(4)\n",
    "\n",
    "rp_df_train,train_dict=data_frame_simple_txt2vec(rp_data,'rp_train_data',shape)\n",
    "rp_df_test,_=data_frame_simple_txt2vec(rp_data,'rp_test_data',shape,w_dict=train_dict)\n",
    "\n",
    "rp_trainloader = DataLoader(rp_df_train, shuffle=True, batch_size=30)\n",
    "rp_testloader = DataLoader(rp_df_test, shuffle=True, batch_size=31)"
   ]
  },
  {
   "cell_type": "code",
   "execution_count": 17,
   "metadata": {
    "colab": {
     "base_uri": "https://localhost:8080/"
    },
    "id": "B60Io41hmSFT",
    "outputId": "fd6a5dbc-61e6-4d3d-8013-7d8288262199"
   },
   "outputs": [],
   "source": [
    "model_2 = qrnn(4,1,1,2)"
   ]
  },
  {
   "cell_type": "code",
   "execution_count": 18,
   "metadata": {
    "colab": {
     "base_uri": "https://localhost:8080/"
    },
    "id": "KOK9EJ6um_QO",
    "outputId": "5a04607f-c9b9-4933-a237-c42bba8eef84"
   },
   "outputs": [
    {
     "name": "stdout",
     "output_type": "stream",
     "text": [
      "64\n"
     ]
    }
   ],
   "source": [
    "trainable_params = sum(p.numel() for p in model_2.parameters() if p.requires_grad)\n",
    "print(trainable_params)"
   ]
  },
  {
   "cell_type": "code",
   "execution_count": 21,
   "metadata": {
    "colab": {
     "base_uri": "https://localhost:8080/"
    },
    "id": "sCwmUSW6nDA7",
    "outputId": "445a34cc-6b4a-4595-f6ce-77d531739eaa",
    "scrolled": true,
    "tags": []
   },
   "outputs": [
    {
     "data": {
      "application/vnd.jupyter.widget-view+json": {
       "model_id": "d22b2004d0f1466394f7c7fab4a65c92",
       "version_major": 2,
       "version_minor": 0
      },
      "text/plain": [
       "  0%|          | 0/3 [00:00<?, ?it/s]"
      ]
     },
     "metadata": {},
     "output_type": "display_data"
    },
    {
     "data": {
      "application/vnd.jupyter.widget-view+json": {
       "model_id": "63e6c4960835460ebeef33699a92451a",
       "version_major": 2,
       "version_minor": 0
      },
      "text/plain": [
       "  0%|          | 0/3 [00:00<?, ?it/s]"
      ]
     },
     "metadata": {},
     "output_type": "display_data"
    },
    {
     "name": "stdout",
     "output_type": "stream",
     "text": [
      "Epoch 0 Training Accuracy: tensor(0.6222)\n",
      "Testing Accuracy: tensor(0.6452)\n",
      "Epoch 1 Training Accuracy: tensor(0.6476)\n",
      "Testing Accuracy: tensor(0.6452)\n",
      "Epoch 2 Training Accuracy: tensor(0.6730)\n",
      "Testing Accuracy: tensor(0.6774)\n",
      "Epoch 3 Training Accuracy: tensor(0.6603)\n",
      "Testing Accuracy: tensor(0.6774)\n",
      "Epoch 4 Training Accuracy: tensor(0.6127)\n",
      "Testing Accuracy: tensor(0.6774)\n",
      "Epoch 5 Training Accuracy: tensor(0.6381)\n",
      "Testing Accuracy: tensor(0.6774)\n",
      "Epoch 6 Training Accuracy: tensor(0.6000)\n",
      "Testing Accuracy: tensor(0.6774)\n",
      "Epoch 7 Training Accuracy: tensor(0.6381)\n",
      "Testing Accuracy: tensor(0.6774)\n",
      "Epoch 8 Training Accuracy: tensor(0.6349)\n",
      "Testing Accuracy: tensor(0.6774)\n",
      "Epoch 9 Training Accuracy: tensor(0.6714)\n",
      "Testing Accuracy: tensor(0.6774)\n",
      "Epoch 10 Training Accuracy: tensor(0.6587)\n",
      "Testing Accuracy: tensor(0.6452)\n",
      "Epoch 11 Training Accuracy: tensor(0.6460)\n",
      "Testing Accuracy: tensor(0.6452)\n",
      "Epoch 12 Training Accuracy: tensor(0.6794)\n",
      "Testing Accuracy: tensor(0.6452)\n",
      "Epoch 13 Training Accuracy: tensor(0.7508)\n",
      "Testing Accuracy: tensor(0.6452)\n",
      "Epoch 14 Training Accuracy: tensor(0.7619)\n",
      "Testing Accuracy: tensor(0.6452)\n",
      "Epoch 15 Training Accuracy: tensor(0.7619)\n",
      "Testing Accuracy: tensor(0.6452)\n",
      "Epoch 16 Training Accuracy: tensor(0.7492)\n",
      "Testing Accuracy: tensor(0.6452)\n",
      "Epoch 17 Training Accuracy: tensor(0.7873)\n",
      "Testing Accuracy: tensor(0.6452)\n",
      "Epoch 18 Training Accuracy: tensor(0.7492)\n",
      "Testing Accuracy: tensor(0.5806)\n",
      "Epoch 19 Training Accuracy: tensor(0.8000)\n",
      "Testing Accuracy: tensor(0.5806)\n",
      "Epoch 20 Training Accuracy: tensor(0.7619)\n",
      "Testing Accuracy: tensor(0.6129)\n",
      "Epoch 21 Training Accuracy: tensor(0.7397)\n",
      "Testing Accuracy: tensor(0.6129)\n",
      "Epoch 22 Training Accuracy: tensor(0.6413)\n",
      "Testing Accuracy: tensor(0.6129)\n",
      "Epoch 23 Training Accuracy: tensor(0.6825)\n",
      "Testing Accuracy: tensor(0.6129)\n",
      "Epoch 24 Training Accuracy: tensor(0.7048)\n",
      "Testing Accuracy: tensor(0.6129)\n",
      "Epoch 25 Training Accuracy: tensor(0.6905)\n",
      "Testing Accuracy: tensor(0.6129)\n",
      "Epoch 26 Training Accuracy: tensor(0.7397)\n",
      "Testing Accuracy: tensor(0.6129)\n",
      "Epoch 27 Training Accuracy: tensor(0.7635)\n",
      "Testing Accuracy: tensor(0.5806)\n",
      "Epoch 28 Training Accuracy: tensor(0.7254)\n",
      "Testing Accuracy: tensor(0.5806)\n",
      "Epoch 29 Training Accuracy: tensor(0.7238)\n",
      "Testing Accuracy: tensor(0.5806)\n",
      "Epoch 30 Training Accuracy: tensor(0.7492)\n",
      "Testing Accuracy: tensor(0.5806)\n",
      "Epoch 31 Training Accuracy: tensor(0.7619)\n",
      "Testing Accuracy: tensor(0.5806)\n",
      "Epoch 32 Training Accuracy: tensor(0.7238)\n",
      "Testing Accuracy: tensor(0.5806)\n",
      "Epoch 33 Training Accuracy: tensor(0.7492)\n",
      "Testing Accuracy: tensor(0.5806)\n",
      "Epoch 34 Training Accuracy: tensor(0.7746)\n",
      "Testing Accuracy: tensor(0.5806)\n",
      "Epoch 35 Training Accuracy: tensor(0.7746)\n",
      "Testing Accuracy: tensor(0.5806)\n",
      "Epoch 36 Training Accuracy: tensor(0.7381)\n",
      "Testing Accuracy: tensor(0.6129)\n",
      "Epoch 37 Training Accuracy: tensor(0.7619)\n",
      "Testing Accuracy: tensor(0.6129)\n",
      "Epoch 38 Training Accuracy: tensor(0.7873)\n",
      "Testing Accuracy: tensor(0.6129)\n",
      "Epoch 39 Training Accuracy: tensor(0.7619)\n",
      "Testing Accuracy: tensor(0.6129)\n",
      "Epoch 40 Training Accuracy: tensor(0.7873)\n",
      "Testing Accuracy: tensor(0.6129)\n",
      "Epoch 41 Training Accuracy: tensor(0.7635)\n",
      "Testing Accuracy: tensor(0.6129)\n",
      "Epoch 42 Training Accuracy: tensor(0.7286)\n",
      "Testing Accuracy: tensor(0.6129)\n",
      "Epoch 43 Training Accuracy: tensor(0.7159)\n",
      "Testing Accuracy: tensor(0.6129)\n",
      "Epoch 44 Training Accuracy: tensor(0.7254)\n",
      "Testing Accuracy: tensor(0.6129)\n",
      "Epoch 45 Training Accuracy: tensor(0.7381)\n",
      "Testing Accuracy: tensor(0.6129)\n",
      "Epoch 46 Training Accuracy: tensor(0.7746)\n",
      "Testing Accuracy: tensor(0.6129)\n",
      "Epoch 47 Training Accuracy: tensor(0.7619)\n",
      "Testing Accuracy: tensor(0.6129)\n",
      "Epoch 48 Training Accuracy: tensor(0.7857)\n",
      "Testing Accuracy: tensor(0.6129)\n",
      "Epoch 49 Training Accuracy: tensor(0.7857)\n",
      "Testing Accuracy: tensor(0.6129)\n",
      "Epoch 50 Training Accuracy: tensor(0.8111)\n",
      "Testing Accuracy: tensor(0.6129)\n",
      "Epoch 51 Training Accuracy: tensor(0.7603)\n",
      "Testing Accuracy: tensor(0.6129)\n",
      "Epoch 52 Training Accuracy: tensor(0.8111)\n",
      "Testing Accuracy: tensor(0.6129)\n",
      "Epoch 53 Training Accuracy: tensor(0.7730)\n",
      "Testing Accuracy: tensor(0.6129)\n",
      "Epoch 54 Training Accuracy: tensor(0.7730)\n",
      "Testing Accuracy: tensor(0.6129)\n",
      "Epoch 55 Training Accuracy: tensor(0.7492)\n",
      "Testing Accuracy: tensor(0.6129)\n",
      "Epoch 56 Training Accuracy: tensor(0.7492)\n",
      "Testing Accuracy: tensor(0.6129)\n",
      "Epoch 57 Training Accuracy: tensor(0.7746)\n",
      "Testing Accuracy: tensor(0.6129)\n",
      "Epoch 58 Training Accuracy: tensor(0.7619)\n",
      "Testing Accuracy: tensor(0.6129)\n",
      "Epoch 59 Training Accuracy: tensor(0.7619)\n",
      "Testing Accuracy: tensor(0.6129)\n",
      "Epoch 60 Training Accuracy: tensor(0.7746)\n",
      "Testing Accuracy: tensor(0.6129)\n",
      "Epoch 61 Training Accuracy: tensor(0.7365)\n",
      "Testing Accuracy: tensor(0.6129)\n",
      "Epoch 62 Training Accuracy: tensor(0.7365)\n",
      "Testing Accuracy: tensor(0.6129)\n",
      "Epoch 63 Training Accuracy: tensor(0.7492)\n",
      "Testing Accuracy: tensor(0.6129)\n",
      "Epoch 64 Training Accuracy: tensor(0.7254)\n",
      "Testing Accuracy: tensor(0.6129)\n",
      "Epoch 65 Training Accuracy: tensor(0.7508)\n",
      "Testing Accuracy: tensor(0.6129)\n",
      "Epoch 66 Training Accuracy: tensor(0.7873)\n",
      "Testing Accuracy: tensor(0.6129)\n",
      "Epoch 67 Training Accuracy: tensor(0.7873)\n",
      "Testing Accuracy: tensor(0.6129)\n",
      "Epoch 68 Training Accuracy: tensor(0.7746)\n",
      "Testing Accuracy: tensor(0.6129)\n",
      "Epoch 69 Training Accuracy: tensor(0.7381)\n",
      "Testing Accuracy: tensor(0.6129)\n",
      "Epoch 70 Training Accuracy: tensor(0.7508)\n",
      "Testing Accuracy: tensor(0.6129)\n",
      "Epoch 71 Training Accuracy: tensor(0.7492)\n",
      "Testing Accuracy: tensor(0.6129)\n",
      "Epoch 72 Training Accuracy: tensor(0.7365)\n",
      "Testing Accuracy: tensor(0.6129)\n",
      "Epoch 73 Training Accuracy: tensor(0.7619)\n",
      "Testing Accuracy: tensor(0.6129)\n",
      "Epoch 74 Training Accuracy: tensor(0.7508)\n",
      "Testing Accuracy: tensor(0.6129)\n",
      "Epoch 75 Training Accuracy: tensor(0.7381)\n",
      "Testing Accuracy: tensor(0.6129)\n",
      "Epoch 76 Training Accuracy: tensor(0.7365)\n",
      "Testing Accuracy: tensor(0.6129)\n",
      "Epoch 77 Training Accuracy: tensor(0.7619)\n",
      "Testing Accuracy: tensor(0.6129)\n",
      "Epoch 78 Training Accuracy: tensor(0.6857)\n",
      "Testing Accuracy: tensor(0.6452)\n",
      "Epoch 79 Training Accuracy: tensor(0.7381)\n",
      "Testing Accuracy: tensor(0.6129)\n",
      "Epoch 80 Training Accuracy: tensor(0.7619)\n",
      "Testing Accuracy: tensor(0.6129)\n",
      "Epoch 81 Training Accuracy: tensor(0.7619)\n",
      "Testing Accuracy: tensor(0.6129)\n",
      "Epoch 82 Training Accuracy: tensor(0.7873)\n",
      "Testing Accuracy: tensor(0.6129)\n",
      "Epoch 83 Training Accuracy: tensor(0.7746)\n",
      "Testing Accuracy: tensor(0.6452)\n",
      "Epoch 84 Training Accuracy: tensor(0.7746)\n",
      "Testing Accuracy: tensor(0.6129)\n",
      "Epoch 85 Training Accuracy: tensor(0.7619)\n",
      "Testing Accuracy: tensor(0.6129)\n",
      "Epoch 86 Training Accuracy: tensor(0.8000)\n",
      "Testing Accuracy: tensor(0.5484)\n",
      "Epoch 87 Training Accuracy: tensor(0.7619)\n",
      "Testing Accuracy: tensor(0.5484)\n",
      "Epoch 88 Training Accuracy: tensor(0.7619)\n",
      "Testing Accuracy: tensor(0.5806)\n",
      "Epoch 89 Training Accuracy: tensor(0.7873)\n",
      "Testing Accuracy: tensor(0.5806)\n",
      "Epoch 90 Training Accuracy: tensor(0.7730)\n",
      "Testing Accuracy: tensor(0.5806)\n",
      "Epoch 91 Training Accuracy: tensor(0.7746)\n",
      "Testing Accuracy: tensor(0.5806)\n",
      "Epoch 92 Training Accuracy: tensor(0.7746)\n",
      "Testing Accuracy: tensor(0.5806)\n",
      "Epoch 93 Training Accuracy: tensor(0.7365)\n",
      "Testing Accuracy: tensor(0.5806)\n",
      "Epoch 94 Training Accuracy: tensor(0.7492)\n",
      "Testing Accuracy: tensor(0.5806)\n",
      "Epoch 95 Training Accuracy: tensor(0.7746)\n",
      "Testing Accuracy: tensor(0.5806)\n",
      "Epoch 96 Training Accuracy: tensor(0.7857)\n",
      "Testing Accuracy: tensor(0.5806)\n",
      "Epoch 97 Training Accuracy: tensor(0.7730)\n",
      "Testing Accuracy: tensor(0.5806)\n",
      "Epoch 98 Training Accuracy: tensor(0.8111)\n",
      "Testing Accuracy: tensor(0.5484)\n",
      "Epoch 99 Training Accuracy: tensor(0.7619)\n",
      "Testing Accuracy: tensor(0.5484)\n",
      "Epoch 100 Training Accuracy: tensor(0.6984)\n",
      "Testing Accuracy: tensor(0.5484)\n",
      "Epoch 101 Training Accuracy: tensor(0.7619)\n",
      "Testing Accuracy: tensor(0.5484)\n",
      "Epoch 102 Training Accuracy: tensor(0.7619)\n",
      "Testing Accuracy: tensor(0.5484)\n",
      "Epoch 103 Training Accuracy: tensor(0.7730)\n",
      "Testing Accuracy: tensor(0.5484)\n",
      "Epoch 104 Training Accuracy: tensor(0.7857)\n",
      "Testing Accuracy: tensor(0.5484)\n",
      "Epoch 105 Training Accuracy: tensor(0.7476)\n",
      "Testing Accuracy: tensor(0.5484)\n",
      "Epoch 106 Training Accuracy: tensor(0.7238)\n",
      "Testing Accuracy: tensor(0.5484)\n",
      "Epoch 107 Training Accuracy: tensor(0.7746)\n",
      "Testing Accuracy: tensor(0.5484)\n",
      "Epoch 108 Training Accuracy: tensor(0.7492)\n",
      "Testing Accuracy: tensor(0.5484)\n",
      "Epoch 109 Training Accuracy: tensor(0.7857)\n",
      "Testing Accuracy: tensor(0.5484)\n",
      "Epoch 110 Training Accuracy: tensor(0.7603)\n",
      "Testing Accuracy: tensor(0.5484)\n",
      "Epoch 111 Training Accuracy: tensor(0.7857)\n",
      "Testing Accuracy: tensor(0.5484)\n",
      "Epoch 112 Training Accuracy: tensor(0.7476)\n",
      "Testing Accuracy: tensor(0.5484)\n",
      "Epoch 113 Training Accuracy: tensor(0.7730)\n",
      "Testing Accuracy: tensor(0.5484)\n",
      "Epoch 114 Training Accuracy: tensor(0.7476)\n",
      "Testing Accuracy: tensor(0.5484)\n",
      "Epoch 115 Training Accuracy: tensor(0.7603)\n",
      "Testing Accuracy: tensor(0.5484)\n",
      "Epoch 116 Training Accuracy: tensor(0.7730)\n",
      "Testing Accuracy: tensor(0.5484)\n",
      "Epoch 117 Training Accuracy: tensor(0.7492)\n",
      "Testing Accuracy: tensor(0.5484)\n",
      "Epoch 118 Training Accuracy: tensor(0.7746)\n",
      "Testing Accuracy: tensor(0.5161)\n",
      "Epoch 119 Training Accuracy: tensor(0.7746)\n",
      "Testing Accuracy: tensor(0.5161)\n",
      "Epoch 120 Training Accuracy: tensor(0.7492)\n",
      "Testing Accuracy: tensor(0.5484)\n",
      "Epoch 121 Training Accuracy: tensor(0.7730)\n",
      "Testing Accuracy: tensor(0.5484)\n",
      "Epoch 122 Training Accuracy: tensor(0.7238)\n",
      "Testing Accuracy: tensor(0.5161)\n",
      "Epoch 123 Training Accuracy: tensor(0.7746)\n",
      "Testing Accuracy: tensor(0.5161)\n",
      "Epoch 124 Training Accuracy: tensor(0.7492)\n",
      "Testing Accuracy: tensor(0.5161)\n",
      "Epoch 125 Training Accuracy: tensor(0.7746)\n",
      "Testing Accuracy: tensor(0.5161)\n",
      "Epoch 126 Training Accuracy: tensor(0.7619)\n",
      "Testing Accuracy: tensor(0.5484)\n",
      "Epoch 127 Training Accuracy: tensor(0.8111)\n",
      "Testing Accuracy: tensor(0.5484)\n",
      "Epoch 128 Training Accuracy: tensor(0.7730)\n",
      "Testing Accuracy: tensor(0.4839)\n",
      "Epoch 129 Training Accuracy: tensor(0.7349)\n",
      "Testing Accuracy: tensor(0.4839)\n",
      "Epoch 130 Training Accuracy: tensor(0.7111)\n",
      "Testing Accuracy: tensor(0.4839)\n",
      "Epoch 131 Training Accuracy: tensor(0.7857)\n",
      "Testing Accuracy: tensor(0.5484)\n",
      "Epoch 132 Training Accuracy: tensor(0.7857)\n",
      "Testing Accuracy: tensor(0.5161)\n",
      "Epoch 133 Training Accuracy: tensor(0.7746)\n",
      "Testing Accuracy: tensor(0.5484)\n",
      "Epoch 134 Training Accuracy: tensor(0.7254)\n",
      "Testing Accuracy: tensor(0.5161)\n",
      "Epoch 135 Training Accuracy: tensor(0.7635)\n",
      "Testing Accuracy: tensor(0.5161)\n",
      "Epoch 136 Training Accuracy: tensor(0.7635)\n",
      "Testing Accuracy: tensor(0.5161)\n",
      "Epoch 137 Training Accuracy: tensor(0.7984)\n",
      "Testing Accuracy: tensor(0.4839)\n",
      "Epoch 138 Training Accuracy: tensor(0.7603)\n",
      "Testing Accuracy: tensor(0.4839)\n",
      "Epoch 139 Training Accuracy: tensor(0.7603)\n",
      "Testing Accuracy: tensor(0.4839)\n",
      "Epoch 140 Training Accuracy: tensor(0.7730)\n",
      "Testing Accuracy: tensor(0.4839)\n",
      "Epoch 141 Training Accuracy: tensor(0.7603)\n",
      "Testing Accuracy: tensor(0.4839)\n",
      "Epoch 142 Training Accuracy: tensor(0.7365)\n",
      "Testing Accuracy: tensor(0.4839)\n",
      "Epoch 143 Training Accuracy: tensor(0.7857)\n",
      "Testing Accuracy: tensor(0.4839)\n",
      "Epoch 144 Training Accuracy: tensor(0.7603)\n",
      "Testing Accuracy: tensor(0.4839)\n",
      "Epoch 145 Training Accuracy: tensor(0.7349)\n",
      "Testing Accuracy: tensor(0.4839)\n",
      "Epoch 146 Training Accuracy: tensor(0.7476)\n",
      "Testing Accuracy: tensor(0.4839)\n",
      "Epoch 147 Training Accuracy: tensor(0.7603)\n",
      "Testing Accuracy: tensor(0.4839)\n",
      "Epoch 148 Training Accuracy: tensor(0.7476)\n",
      "Testing Accuracy: tensor(0.4516)\n",
      "Epoch 149 Training Accuracy: tensor(0.7746)\n",
      "Testing Accuracy: tensor(0.5161)\n",
      "Epoch 150 Training Accuracy: tensor(0.7381)\n",
      "Testing Accuracy: tensor(0.4516)\n",
      "Epoch 151 Training Accuracy: tensor(0.7254)\n",
      "Testing Accuracy: tensor(0.4516)\n",
      "Epoch 152 Training Accuracy: tensor(0.7508)\n",
      "Testing Accuracy: tensor(0.4516)\n",
      "Epoch 153 Training Accuracy: tensor(0.7619)\n",
      "Testing Accuracy: tensor(0.4839)\n",
      "Epoch 154 Training Accuracy: tensor(0.7476)\n",
      "Testing Accuracy: tensor(0.4839)\n",
      "Epoch 155 Training Accuracy: tensor(0.7603)\n",
      "Testing Accuracy: tensor(0.4839)\n",
      "Epoch 156 Training Accuracy: tensor(0.7603)\n",
      "Testing Accuracy: tensor(0.4839)\n",
      "Epoch 157 Training Accuracy: tensor(0.7222)\n",
      "Testing Accuracy: tensor(0.4839)\n",
      "Epoch 158 Training Accuracy: tensor(0.7730)\n",
      "Testing Accuracy: tensor(0.4839)\n",
      "Epoch 159 Training Accuracy: tensor(0.7492)\n",
      "Testing Accuracy: tensor(0.4839)\n",
      "Epoch 160 Training Accuracy: tensor(0.7619)\n",
      "Testing Accuracy: tensor(0.4839)\n",
      "Epoch 161 Training Accuracy: tensor(0.7365)\n",
      "Testing Accuracy: tensor(0.4516)\n",
      "Epoch 162 Training Accuracy: tensor(0.7730)\n",
      "Testing Accuracy: tensor(0.4516)\n",
      "Epoch 163 Training Accuracy: tensor(0.7857)\n",
      "Testing Accuracy: tensor(0.4839)\n",
      "Epoch 164 Training Accuracy: tensor(0.7857)\n",
      "Testing Accuracy: tensor(0.4839)\n",
      "Epoch 165 Training Accuracy: tensor(0.7857)\n",
      "Testing Accuracy: tensor(0.4839)\n",
      "Epoch 166 Training Accuracy: tensor(0.7984)\n",
      "Testing Accuracy: tensor(0.4839)\n",
      "Epoch 167 Training Accuracy: tensor(0.7603)\n",
      "Testing Accuracy: tensor(0.4839)\n",
      "Epoch 168 Training Accuracy: tensor(0.7476)\n",
      "Testing Accuracy: tensor(0.4516)\n",
      "Epoch 169 Training Accuracy: tensor(0.7730)\n",
      "Testing Accuracy: tensor(0.4839)\n",
      "Epoch 170 Training Accuracy: tensor(0.7603)\n",
      "Testing Accuracy: tensor(0.4839)\n",
      "Epoch 171 Training Accuracy: tensor(0.7603)\n",
      "Testing Accuracy: tensor(0.4839)\n",
      "Epoch 172 Training Accuracy: tensor(0.7603)\n",
      "Testing Accuracy: tensor(0.4516)\n",
      "Epoch 173 Training Accuracy: tensor(0.7730)\n",
      "Testing Accuracy: tensor(0.4516)\n",
      "Epoch 174 Training Accuracy: tensor(0.7603)\n",
      "Testing Accuracy: tensor(0.4516)\n",
      "Epoch 175 Training Accuracy: tensor(0.7730)\n",
      "Testing Accuracy: tensor(0.4839)\n",
      "Epoch 176 Training Accuracy: tensor(0.7730)\n",
      "Testing Accuracy: tensor(0.4839)\n",
      "Epoch 177 Training Accuracy: tensor(0.7111)\n",
      "Testing Accuracy: tensor(0.4516)\n",
      "Epoch 178 Training Accuracy: tensor(0.7381)\n",
      "Testing Accuracy: tensor(0.4516)\n",
      "Epoch 179 Training Accuracy: tensor(0.7254)\n",
      "Testing Accuracy: tensor(0.4516)\n",
      "Epoch 180 Training Accuracy: tensor(0.7984)\n",
      "Testing Accuracy: tensor(0.4839)\n",
      "Epoch 181 Training Accuracy: tensor(0.7984)\n",
      "Testing Accuracy: tensor(0.4839)\n",
      "Epoch 182 Training Accuracy: tensor(0.7984)\n",
      "Testing Accuracy: tensor(0.4516)\n",
      "Epoch 183 Training Accuracy: tensor(0.7857)\n",
      "Testing Accuracy: tensor(0.4516)\n",
      "Epoch 184 Training Accuracy: tensor(0.7476)\n",
      "Testing Accuracy: tensor(0.4516)\n",
      "Epoch 185 Training Accuracy: tensor(0.7238)\n",
      "Testing Accuracy: tensor(0.4516)\n",
      "Epoch 186 Training Accuracy: tensor(0.7365)\n",
      "Testing Accuracy: tensor(0.4516)\n",
      "Epoch 187 Training Accuracy: tensor(0.7476)\n",
      "Testing Accuracy: tensor(0.4516)\n",
      "Epoch 188 Training Accuracy: tensor(0.7476)\n",
      "Testing Accuracy: tensor(0.4516)\n",
      "Epoch 189 Training Accuracy: tensor(0.7476)\n",
      "Testing Accuracy: tensor(0.4839)\n",
      "Epoch 190 Training Accuracy: tensor(0.7254)\n",
      "Testing Accuracy: tensor(0.4516)\n",
      "Epoch 191 Training Accuracy: tensor(0.7381)\n",
      "Testing Accuracy: tensor(0.4516)\n",
      "Epoch 192 Training Accuracy: tensor(0.7381)\n",
      "Testing Accuracy: tensor(0.4516)\n",
      "Epoch 193 Training Accuracy: tensor(0.7381)\n",
      "Testing Accuracy: tensor(0.5161)\n",
      "Epoch 194 Training Accuracy: tensor(0.7508)\n",
      "Testing Accuracy: tensor(0.5161)\n",
      "Epoch 195 Training Accuracy: tensor(0.7000)\n",
      "Testing Accuracy: tensor(0.4516)\n",
      "Epoch 196 Training Accuracy: tensor(0.7381)\n",
      "Testing Accuracy: tensor(0.4516)\n",
      "Epoch 197 Training Accuracy: tensor(0.7619)\n",
      "Testing Accuracy: tensor(0.4839)\n",
      "Epoch 198 Training Accuracy: tensor(0.7730)\n",
      "Testing Accuracy: tensor(0.4839)\n",
      "Epoch 199 Training Accuracy: tensor(0.7857)\n",
      "Testing Accuracy: tensor(0.4516)\n",
      "Epoch 200 Training Accuracy: tensor(0.7857)\n",
      "Testing Accuracy: tensor(0.4516)\n",
      "Epoch 201 Training Accuracy: tensor(0.7349)\n",
      "Testing Accuracy: tensor(0.4516)\n",
      "Epoch 202 Training Accuracy: tensor(0.7603)\n",
      "Testing Accuracy: tensor(0.4516)\n",
      "Epoch 203 Training Accuracy: tensor(0.7730)\n",
      "Testing Accuracy: tensor(0.4516)\n",
      "Epoch 204 Training Accuracy: tensor(0.7857)\n",
      "Testing Accuracy: tensor(0.4516)\n",
      "Epoch 205 Training Accuracy: tensor(0.7984)\n",
      "Testing Accuracy: tensor(0.4516)\n",
      "Epoch 206 Training Accuracy: tensor(0.7984)\n",
      "Testing Accuracy: tensor(0.4516)\n",
      "Epoch 207 Training Accuracy: tensor(0.7730)\n",
      "Testing Accuracy: tensor(0.4516)\n",
      "Epoch 208 Training Accuracy: tensor(0.7476)\n",
      "Testing Accuracy: tensor(0.4516)\n",
      "Epoch 209 Training Accuracy: tensor(0.7857)\n",
      "Testing Accuracy: tensor(0.4516)\n",
      "Epoch 210 Training Accuracy: tensor(0.7730)\n",
      "Testing Accuracy: tensor(0.4516)\n",
      "Epoch 211 Training Accuracy: tensor(0.7222)\n",
      "Testing Accuracy: tensor(0.4516)\n",
      "Epoch 212 Training Accuracy: tensor(0.7365)\n",
      "Testing Accuracy: tensor(0.4516)\n",
      "Epoch 213 Training Accuracy: tensor(0.7746)\n",
      "Testing Accuracy: tensor(0.4516)\n",
      "Epoch 214 Training Accuracy: tensor(0.7730)\n",
      "Testing Accuracy: tensor(0.4516)\n",
      "Epoch 215 Training Accuracy: tensor(0.7730)\n",
      "Testing Accuracy: tensor(0.4839)\n",
      "Epoch 216 Training Accuracy: tensor(0.7381)\n",
      "Testing Accuracy: tensor(0.4516)\n",
      "Epoch 217 Training Accuracy: tensor(0.7381)\n",
      "Testing Accuracy: tensor(0.4516)\n",
      "Epoch 218 Training Accuracy: tensor(0.7762)\n",
      "Testing Accuracy: tensor(0.4516)\n",
      "Epoch 219 Training Accuracy: tensor(0.7508)\n",
      "Testing Accuracy: tensor(0.4516)\n",
      "Epoch 220 Training Accuracy: tensor(0.7508)\n",
      "Testing Accuracy: tensor(0.4839)\n",
      "Epoch 221 Training Accuracy: tensor(0.7492)\n",
      "Testing Accuracy: tensor(0.4839)\n",
      "Epoch 222 Training Accuracy: tensor(0.7603)\n",
      "Testing Accuracy: tensor(0.4516)\n",
      "Epoch 223 Training Accuracy: tensor(0.7603)\n",
      "Testing Accuracy: tensor(0.4516)\n",
      "Epoch 224 Training Accuracy: tensor(0.7730)\n",
      "Testing Accuracy: tensor(0.4516)\n",
      "Epoch 225 Training Accuracy: tensor(0.7603)\n",
      "Testing Accuracy: tensor(0.4516)\n",
      "Epoch 226 Training Accuracy: tensor(0.7857)\n",
      "Testing Accuracy: tensor(0.4516)\n",
      "Epoch 227 Training Accuracy: tensor(0.7730)\n",
      "Testing Accuracy: tensor(0.4516)\n",
      "Epoch 228 Training Accuracy: tensor(0.7857)\n",
      "Testing Accuracy: tensor(0.4839)\n",
      "Epoch 229 Training Accuracy: tensor(0.7746)\n",
      "Testing Accuracy: tensor(0.4839)\n",
      "Epoch 230 Training Accuracy: tensor(0.7746)\n",
      "Testing Accuracy: tensor(0.4516)\n",
      "Epoch 231 Training Accuracy: tensor(0.7857)\n",
      "Testing Accuracy: tensor(0.4516)\n",
      "Epoch 232 Training Accuracy: tensor(0.7365)\n",
      "Testing Accuracy: tensor(0.4516)\n",
      "Epoch 233 Training Accuracy: tensor(0.7873)\n",
      "Testing Accuracy: tensor(0.4516)\n",
      "Epoch 234 Training Accuracy: tensor(0.7492)\n",
      "Testing Accuracy: tensor(0.4516)\n",
      "Epoch 235 Training Accuracy: tensor(0.7111)\n",
      "Testing Accuracy: tensor(0.4516)\n",
      "Epoch 236 Training Accuracy: tensor(0.7492)\n",
      "Testing Accuracy: tensor(0.4516)\n",
      "Epoch 237 Training Accuracy: tensor(0.7746)\n",
      "Testing Accuracy: tensor(0.4516)\n",
      "Epoch 238 Training Accuracy: tensor(0.7603)\n",
      "Testing Accuracy: tensor(0.4516)\n",
      "Epoch 239 Training Accuracy: tensor(0.7730)\n",
      "Testing Accuracy: tensor(0.4516)\n",
      "Epoch 240 Training Accuracy: tensor(0.7857)\n",
      "Testing Accuracy: tensor(0.4516)\n",
      "Epoch 241 Training Accuracy: tensor(0.7984)\n",
      "Testing Accuracy: tensor(0.4839)\n",
      "Epoch 242 Training Accuracy: tensor(0.7762)\n",
      "Testing Accuracy: tensor(0.4516)\n",
      "Epoch 243 Training Accuracy: tensor(0.7349)\n",
      "Testing Accuracy: tensor(0.4516)\n",
      "Epoch 244 Training Accuracy: tensor(0.7730)\n",
      "Testing Accuracy: tensor(0.4516)\n",
      "Epoch 245 Training Accuracy: tensor(0.7476)\n",
      "Testing Accuracy: tensor(0.4516)\n",
      "Epoch 246 Training Accuracy: tensor(0.7603)\n",
      "Testing Accuracy: tensor(0.4516)\n",
      "Epoch 247 Training Accuracy: tensor(0.7857)\n",
      "Testing Accuracy: tensor(0.4516)\n",
      "Epoch 248 Training Accuracy: tensor(0.7603)\n",
      "Testing Accuracy: tensor(0.4516)\n",
      "Epoch 249 Training Accuracy: tensor(0.7603)\n",
      "Testing Accuracy: tensor(0.4516)\n",
      "Epoch 250 Training Accuracy: tensor(0.7730)\n",
      "Testing Accuracy: tensor(0.4516)\n",
      "Epoch 251 Training Accuracy: tensor(0.7984)\n",
      "Testing Accuracy: tensor(0.4516)\n",
      "Epoch 252 Training Accuracy: tensor(0.7857)\n",
      "Testing Accuracy: tensor(0.4516)\n",
      "Epoch 253 Training Accuracy: tensor(0.7603)\n",
      "Testing Accuracy: tensor(0.4516)\n",
      "Epoch 254 Training Accuracy: tensor(0.7984)\n",
      "Testing Accuracy: tensor(0.4516)\n",
      "Epoch 255 Training Accuracy: tensor(0.8111)\n",
      "Testing Accuracy: tensor(0.4516)\n",
      "Epoch 256 Training Accuracy: tensor(0.7365)\n",
      "Testing Accuracy: tensor(0.4516)\n",
      "Epoch 257 Training Accuracy: tensor(0.7746)\n",
      "Testing Accuracy: tensor(0.4516)\n",
      "Epoch 258 Training Accuracy: tensor(0.7857)\n",
      "Testing Accuracy: tensor(0.4516)\n",
      "Epoch 259 Training Accuracy: tensor(0.7476)\n",
      "Testing Accuracy: tensor(0.4516)\n",
      "Epoch 260 Training Accuracy: tensor(0.7730)\n",
      "Testing Accuracy: tensor(0.4516)\n",
      "Epoch 261 Training Accuracy: tensor(0.7730)\n",
      "Testing Accuracy: tensor(0.4516)\n",
      "Epoch 262 Training Accuracy: tensor(0.7349)\n",
      "Testing Accuracy: tensor(0.4516)\n",
      "Epoch 263 Training Accuracy: tensor(0.7857)\n",
      "Testing Accuracy: tensor(0.4516)\n",
      "Epoch 264 Training Accuracy: tensor(0.7857)\n",
      "Testing Accuracy: tensor(0.4516)\n",
      "Epoch 265 Training Accuracy: tensor(0.7857)\n",
      "Testing Accuracy: tensor(0.4516)\n",
      "Epoch 266 Training Accuracy: tensor(0.7730)\n",
      "Testing Accuracy: tensor(0.4516)\n",
      "Epoch 267 Training Accuracy: tensor(0.7603)\n",
      "Testing Accuracy: tensor(0.4516)\n",
      "Epoch 268 Training Accuracy: tensor(0.7984)\n",
      "Testing Accuracy: tensor(0.4516)\n",
      "Epoch 269 Training Accuracy: tensor(0.7476)\n",
      "Testing Accuracy: tensor(0.4516)\n",
      "Epoch 270 Training Accuracy: tensor(0.7984)\n",
      "Testing Accuracy: tensor(0.4516)\n",
      "Epoch 271 Training Accuracy: tensor(0.7984)\n",
      "Testing Accuracy: tensor(0.4516)\n",
      "Epoch 272 Training Accuracy: tensor(0.7984)\n",
      "Testing Accuracy: tensor(0.4516)\n",
      "Epoch 273 Training Accuracy: tensor(0.7730)\n",
      "Testing Accuracy: tensor(0.4516)\n",
      "Epoch 274 Training Accuracy: tensor(0.7730)\n",
      "Testing Accuracy: tensor(0.4516)\n",
      "Epoch 275 Training Accuracy: tensor(0.7857)\n",
      "Testing Accuracy: tensor(0.4516)\n",
      "Epoch 276 Training Accuracy: tensor(0.7730)\n",
      "Testing Accuracy: tensor(0.4516)\n",
      "Epoch 277 Training Accuracy: tensor(0.7603)\n",
      "Testing Accuracy: tensor(0.4516)\n",
      "Epoch 278 Training Accuracy: tensor(0.7111)\n",
      "Testing Accuracy: tensor(0.4516)\n",
      "Epoch 279 Training Accuracy: tensor(0.7984)\n",
      "Testing Accuracy: tensor(0.4516)\n",
      "Epoch 280 Training Accuracy: tensor(0.7603)\n",
      "Testing Accuracy: tensor(0.4516)\n",
      "Epoch 281 Training Accuracy: tensor(0.7349)\n",
      "Testing Accuracy: tensor(0.4516)\n",
      "Epoch 282 Training Accuracy: tensor(0.7603)\n",
      "Testing Accuracy: tensor(0.4516)\n",
      "Epoch 283 Training Accuracy: tensor(0.7603)\n",
      "Testing Accuracy: tensor(0.4516)\n",
      "Epoch 284 Training Accuracy: tensor(0.7381)\n",
      "Testing Accuracy: tensor(0.4516)\n",
      "Epoch 285 Training Accuracy: tensor(0.7762)\n",
      "Testing Accuracy: tensor(0.4516)\n",
      "Epoch 286 Training Accuracy: tensor(0.7619)\n",
      "Testing Accuracy: tensor(0.4516)\n",
      "Epoch 287 Training Accuracy: tensor(0.7476)\n",
      "Testing Accuracy: tensor(0.4516)\n",
      "Epoch 288 Training Accuracy: tensor(0.7603)\n",
      "Testing Accuracy: tensor(0.4516)\n",
      "Epoch 289 Training Accuracy: tensor(0.7730)\n",
      "Testing Accuracy: tensor(0.4839)\n",
      "Epoch 290 Training Accuracy: tensor(0.7746)\n",
      "Testing Accuracy: tensor(0.4839)\n",
      "Epoch 291 Training Accuracy: tensor(0.7492)\n",
      "Testing Accuracy: tensor(0.4839)\n",
      "Epoch 292 Training Accuracy: tensor(0.7238)\n",
      "Testing Accuracy: tensor(0.4839)\n",
      "Epoch 293 Training Accuracy: tensor(0.7746)\n",
      "Testing Accuracy: tensor(0.4516)\n",
      "Epoch 294 Training Accuracy: tensor(0.7603)\n",
      "Testing Accuracy: tensor(0.4516)\n",
      "Epoch 295 Training Accuracy: tensor(0.7730)\n",
      "Testing Accuracy: tensor(0.4516)\n",
      "Epoch 296 Training Accuracy: tensor(0.7857)\n",
      "Testing Accuracy: tensor(0.4516)\n",
      "Epoch 297 Training Accuracy: tensor(0.7730)\n",
      "Testing Accuracy: tensor(0.4516)\n",
      "Epoch 298 Training Accuracy: tensor(0.7730)\n",
      "Testing Accuracy: tensor(0.4516)\n",
      "Epoch 299 Training Accuracy: tensor(0.7603)\n",
      "Testing Accuracy: tensor(0.4516)\n"
     ]
    }
   ],
   "source": [
    "n_epochs=300\n",
    "optimizer = torch.optim.Adam(lr=0.005, params=model_2.parameters())\n",
    "criterion = nn.BCELoss()\n",
    "#criterion = torch.nn.CrossEntropyLoss()\n",
    "\n",
    "pbar = tqdm(total=len(rp_trainloader), leave=True)\n",
    "if torch.cuda.is_available():\n",
    "    devname = \"cuda\"\n",
    "else:\n",
    "    devname = \"cpu\"\n",
    "device = torch.device(devname)\n",
    "model_2.train()\n",
    "model_2.to(device)\n",
    "pbar = tqdm(total=len(rp_trainloader), leave=True)\n",
    "\n",
    "file_name=\"QRNN_model_12113_rp\"\n",
    "max_val=0\n",
    "for epoch in range(n_epochs):\n",
    "    acc=0\n",
    "    for batch, (feature, label) in enumerate(rp_trainloader):\n",
    "        optimizer.zero_grad()\n",
    "        feature, label = feature.to(device), label.to(device)\n",
    "        preds = model_2(feature).squeeze()\n",
    "        loss = criterion(preds, label.float())\n",
    "        preds = preds.ravel()\n",
    "        label = label.ravel()\n",
    "        acc += binary_accuracy(preds, label)\n",
    "\n",
    "        loss.backward()\n",
    "        optimizer.step()\n",
    "        pbar.update()\n",
    "        pbar.desc = f\"Epoch: {epoch} | Batch: {batch} | Loss {loss.cpu().detach()}\"\n",
    "        pbar.refresh()\n",
    "    acc=acc/(batch+1)\n",
    "    print('Epoch',epoch,'Training Accuracy:', acc)\n",
    "    feature, label=next(iter(rp_testloader))\n",
    "    preds = model_2(feature).squeeze()\n",
    "    loss = criterion(preds, label.float())\n",
    "    preds = preds.ravel()\n",
    "    label = label.ravel()\n",
    "    acc1 = binary_accuracy(preds, label)\n",
    "    print('Testing Accuracy:', acc1)\n",
    "    if max_val< (acc1+acc):\n",
    "        max_val=acc1+acc\n",
    "        torch.save(model_2.state_dict(),file_name)\n",
    "pbar.close()"
   ]
  },
  {
   "cell_type": "code",
   "execution_count": 22,
   "metadata": {
    "colab": {
     "base_uri": "https://localhost:8080/"
    },
    "id": "q1PGwotUnK9n",
    "outputId": "37ffd666-39d3-44ca-a207-2ec6091f569b"
   },
   "outputs": [
    {
     "data": {
      "text/plain": [
       "qrnn(\n",
       "  (QRNN): <Quantum Torch Layer: func=circuit>\n",
       ")"
      ]
     },
     "execution_count": 22,
     "metadata": {},
     "output_type": "execute_result"
    }
   ],
   "source": [
    "file_name=\"QRNN_model_12113_rp\"\n",
    "model_2.load_state_dict(torch.load(file_name))\n",
    "model_2.eval()"
   ]
  },
  {
   "cell_type": "code",
   "execution_count": 23,
   "metadata": {
    "colab": {
     "base_uri": "https://localhost:8080/"
    },
    "id": "wI3LtDh4SPUY",
    "outputId": "fdc1e4f6-6855-403c-91f6-66036b63c733"
   },
   "outputs": [
    {
     "name": "stdout",
     "output_type": "stream",
     "text": [
      "Test Accuracy: 0.6451612 $\\pm$ 5.9604645e-08\n"
     ]
    }
   ],
   "source": [
    "acc=[]\n",
    "for i in range(100):\n",
    "    preds = []\n",
    "    labels = []\n",
    "    #pbar = tqdm(total=len(mc_testloader), leave=True)\n",
    "    device = torch.device(\"cuda\" if torch.cuda.is_available() else \"cpu\")\n",
    "    model_2.eval()\n",
    "    model_2.to(device)\n",
    "    for batch, (feature, label) in enumerate(rp_testloader):\n",
    "      feature, label = feature.to(device), label.to(device)\n",
    "      with torch.no_grad():\n",
    "        predictions = model_2(feature.float())\n",
    "        preds.append(predictions.cpu().numpy())\n",
    "        labels.append(label.cpu().numpy())\n",
    "      #pbar.update()\n",
    "      #pbar.desc = f\"Batch: {batch}\"\n",
    "      #pbar.refresh()\n",
    "    #pbar.close()\n",
    "    preds = torch.tensor(preds).ravel()\n",
    "    # preds = np.array([1 if pred>=0.5 else 0 for pred in preds])\n",
    "    labels = torch.tensor(labels).ravel()\n",
    "    #acc = (preds == labels).sum() / len(preds)\n",
    "    acc.append(binary_accuracy(preds, labels))\n",
    "print(\"Test Accuracy:\",np.mean(acc),r\"$\\pm$\",np.std(acc))"
   ]
  },
  {
   "cell_type": "code",
   "execution_count": 25,
   "metadata": {
    "colab": {
     "base_uri": "https://localhost:8080/"
    },
    "id": "EubUCWCGSfLV",
    "outputId": "adeb0f39-ce9f-4e4f-fad7-8657eb582063"
   },
   "outputs": [
    {
     "name": "stdout",
     "output_type": "stream",
     "text": [
      "Train Accuracy: 0.7567569 with standard error: 1.1920929e-07\n"
     ]
    }
   ],
   "source": [
    "acc=[]\n",
    "for i in range(100):\n",
    "    preds = []\n",
    "    labels = []\n",
    "    #pbar = tqdm(total=len(rp_trainloader), leave=True)\n",
    "    device = torch.device(\"cuda\" if torch.cuda.is_available() else \"cpu\")\n",
    "    model_2.eval()\n",
    "    model_2.to(device)\n",
    "    for batch, (feature, label) in enumerate(rp_trainloader):\n",
    "        feature, label = feature.to(device), label.to(device)\n",
    "        with torch.no_grad():\n",
    "            predictions = model_2(feature)\n",
    "            preds=preds+list(predictions.cpu().numpy())\n",
    "            labels=labels+list(label.cpu().numpy())\n",
    "      #pbar.update()\n",
    "      #pbar.desc = f\"Batch: {batch}\"\n",
    "      #pbar.refresh()\n",
    "    #pbar.close()\n",
    "    preds = torch.tensor(preds).ravel()\n",
    "    # preds = np.array([1 if pred>=0.5 else 0 for pred in preds])\n",
    "    labels = torch.tensor(labels).ravel()\n",
    "    #acc = (preds == labels).sum() / len(preds)\n",
    "    acc.append(binary_accuracy(preds, labels))\n",
    "print(\"Train Accuracy:\",np.mean(acc),\"with standard error:\",np.std(acc))"
   ]
  },
  {
   "cell_type": "markdown",
   "metadata": {},
   "source": [
    "# Simple TF-IDF vectorization"
   ]
  },
  {
   "cell_type": "code",
   "execution_count": 87,
   "metadata": {
    "tags": []
   },
   "outputs": [],
   "source": [
    "from sklearn.feature_extraction.text import TfidfVectorizer\n",
    "from torch.utils.data import DataLoader, Dataset\n",
    "from tensorflow import compat\n",
    "from sklearn.decomposition import PCA"
   ]
  },
  {
   "cell_type": "code",
   "execution_count": 88,
   "metadata": {
    "tags": []
   },
   "outputs": [],
   "source": [
    "# Custom PyTorch Dataset for data loading preprocessed text\n",
    "# Input data must be a DataFrame in a particular format. For text one column must be text and other must be label\n",
    "\n",
    "class txt2vecset(Dataset):\n",
    "    def __init__(self, data_df, max_seq_length=50, vectorizer=None, pca=None):\n",
    "        self.df = data_df\n",
    "        self.max_seq_length = max_seq_length\n",
    "        self.pca = pca\n",
    "        if vectorizer is None:\n",
    "            self.vectorizer = TfidfVectorizer().fit(self.df['text'])\n",
    "        else:\n",
    "            self.vectorizer = vectorizer\n",
    "        self._df2vec()\n",
    "\n",
    "    def _df2vec(self):\n",
    "        self.X = self.vectorizer.transform(self.df[\"text\"]).toarray()\n",
    "        if self.pca is None:\n",
    "            self.pca = PCA(self.max_seq_length).fit(self.X)\n",
    "        self.X = self.pca.transform(self.X)\n",
    "\n",
    "    def __len__(self):\n",
    "        return self.df.shape[0]\n",
    "\n",
    "    def __getitem__(self, idx):\n",
    "        data = self.df.iloc[idx]\n",
    "        label = data['label']\n",
    "        feature = self.X[idx, :]\n",
    "        feature, label = torch.acos(torch.tensor(feature)), torch.tensor(label)\n",
    "        return feature.squeeze(), label.squeeze()\n",
    "    \n",
    "    def retattrs(self):\n",
    "        return self.vectorizer, self.pca"
   ]
  },
  {
   "cell_type": "markdown",
   "metadata": {
    "tags": []
   },
   "source": [
    "# Model trainer/tester and other helpers"
   ]
  },
  {
   "cell_type": "code",
   "execution_count": 89,
   "metadata": {
    "tags": []
   },
   "outputs": [],
   "source": [
    "def binary_accuracy(preds, y):\n",
    "    \"\"\"\n",
    "    Returns accuracy per batch, i.e. if you get 8/10 right, this returns 0.8, NOT 8\n",
    "    \"\"\"\n",
    "\n",
    "    #round predictions to the closest integer\n",
    "    rounded_preds = (torch.round(torch.sign(preds-0.5))+1)//2\n",
    "    correct = (rounded_preds == y).float() #convert into float for division\n",
    "    acc = correct.sum() / len(correct)\n",
    "    return acc\n",
    "\n",
    "def model_trainer(model, n_epochs, trainloader):\n",
    "    optimizer = torch.optim.Adam(lr=0.005, params=model.parameters())\n",
    "    criterion = nn.BCELoss()\n",
    "    #criterion = torch.nn.CrossEntropyLoss()\n",
    "    pbar = tqdm(total=len(trainloader), leave=True)\n",
    "    if torch.cuda.is_available():\n",
    "        devname = \"cuda\"\n",
    "    else:\n",
    "        devname = \"cpu\"\n",
    "    device = torch.device(devname)\n",
    "    model.train()\n",
    "    model.to(device)\n",
    "    max_val=0\n",
    "    losslst = []\n",
    "    for epoch in range(n_epochs):\n",
    "        acc=0\n",
    "        pbar = tqdm(total=len(trainloader), leave=True)\n",
    "        for batch, (feature, label) in enumerate(trainloader):\n",
    "            optimizer.zero_grad()\n",
    "            feature, label = feature.to(device), label.to(device)\n",
    "            preds = model(feature.float())\n",
    "            loss = criterion(preds.flatten(), label.float())\n",
    "            preds = preds.ravel()\n",
    "            label = label.ravel()\n",
    "            acc += binary_accuracy(preds, label)\n",
    "\n",
    "            loss.backward()\n",
    "            optimizer.step()\n",
    "            pbar.update()\n",
    "            pbar.desc = f\"Epoch: {epoch} | Batch: {batch} | Loss {loss.cpu().detach()}\"\n",
    "            pbar.refresh()\n",
    "            losslst.append(loss.cpu().detach())\n",
    "        acc=acc/(batch+1)\n",
    "        print('Epoch',epoch,'Training Accuracy:', acc)\n",
    "        pbar.close()\n",
    "    return model, losslst\n",
    "\n",
    "# def model_tester(model, testloader):\n",
    "#     acc=[]\n",
    "#     for i in range(100):\n",
    "#         preds = []\n",
    "#         labels = []\n",
    "#         pbar = tqdm(total=len(testloader), leave=True)\n",
    "#         device = torch.device(\"cuda\" if torch.cuda.is_available() else \"cpu\")\n",
    "#         model.eval()\n",
    "#         model.to(device)\n",
    "#         for batch, (feature, label) in enumerate(testloader):\n",
    "#             feature, label = feature.to(device), label.to(device)\n",
    "#             with torch.no_grad():\n",
    "#                 predictions = model(feature.float())\n",
    "#                 preds.append(predictions.cpu().numpy())\n",
    "#                 labels.append(label.cpu().numpy())\n",
    "#             pbar.update()\n",
    "#             pbar.desc = f\"Batch: {batch} | Run: {i}\"\n",
    "#             pbar.refresh()\n",
    "#         pbar.close()\n",
    "#         preds = torch.tensor(preds).ravel()\n",
    "#         # preds = np.array([1 if pred>=0.5 else 0 for pred in preds])\n",
    "#         labels = torch.tensor(labels).ravel()\n",
    "#         #acc = (preds == labels).sum() / len(preds)\n",
    "#         acc.append(binary_accuracy(preds, labels))\n",
    "#     print(\"Test Accuracy:\",np.mean(acc),r\"$\\pm$\",np.std(acc))\n",
    "#     return preds, acc, labels\n",
    "\n",
    "def model_tester(model, testloader):\n",
    "    preds = []\n",
    "    labels = []\n",
    "    pbar = tqdm(total=len(testloader), leave=True)\n",
    "    device = torch.device(\"cuda\" if torch.cuda.is_available() else \"cpu\")\n",
    "    model.eval()\n",
    "    model.to(device)\n",
    "    for batch, (feature, label) in enumerate(testloader):\n",
    "        feature, label = feature.to(device), label.to(device)\n",
    "        with torch.no_grad():\n",
    "            predictions = model(feature.float())\n",
    "            preds.append(predictions.cpu())\n",
    "            labels.append(label.cpu())\n",
    "        pbar.update()\n",
    "        pbar.desc = f\"Batch: {batch}\"\n",
    "        pbar.refresh()\n",
    "    pbar.close()\n",
    "    preds = torch.cat(preds)\n",
    "    labels = torch.cat(labels)\n",
    "    rounded_preds = ((torch.round(torch.sign(preds-0.5))+1)//2) #.numpy()\n",
    "    acc = 1 - (torch.abs(rounded_preds - labels).mean())\n",
    "    return rounded_preds, acc, labels"
   ]
  },
  {
   "cell_type": "markdown",
   "metadata": {
    "tags": []
   },
   "source": [
    "## MC RP with TF-IDF"
   ]
  },
  {
   "cell_type": "code",
   "execution_count": 90,
   "metadata": {
    "colab": {
     "base_uri": "https://localhost:8080/"
    },
    "id": "w-DUQNiQ9Eys",
    "outputId": "394d0549-3839-461b-9910-2859d9f18854",
    "tags": []
   },
   "outputs": [
    {
     "name": "stdout",
     "output_type": "stream",
     "text": [
      "fatal: destination path 'qnlp_lorenz_etal_2021_resources' already exists and is not an empty directory.\n",
      "mv: cannot stat 'qnlp_lorenz_etal_2021_resources/datasets': No such file or directory\n"
     ]
    }
   ],
   "source": [
    "!git clone https://github.com/CQCL/qnlp_lorenz_etal_2021_resources\n",
    "!mv qnlp_lorenz_etal_2021_resources/datasets mc_rp_dataset"
   ]
  },
  {
   "cell_type": "code",
   "execution_count": 91,
   "metadata": {
    "id": "UaCsVIVZ9j8m",
    "tags": []
   },
   "outputs": [],
   "source": [
    "mc_rp_sets_path = Path(\"mc_rp_dataset\")\n",
    "mc_rp_sets = list(mc_rp_sets_path.glob(\"*.txt\"))\n",
    "mc_datasets, rp_datasets = list(filter(lambda x: x.name.startswith(\"mc\"), mc_rp_sets)), list(filter(lambda x: x.name.startswith(\"rp\"), mc_rp_sets))"
   ]
  },
  {
   "cell_type": "code",
   "execution_count": 92,
   "metadata": {
    "id": "7XqBoPxt7LxE",
    "tags": []
   },
   "outputs": [],
   "source": [
    "def read_process_mcrp(datapaths: dict):\n",
    "  def rm(text):\n",
    "    return \" \".join(list(map(lambda x: x[:x.find('_')], text.split())))\n",
    "  retval = {}\n",
    "  for datapath in datapaths:\n",
    "    if \"rp\" in str(datapath):\n",
    "      sel = 2\n",
    "    else:\n",
    "      sel = 3\n",
    "    df = pd.DataFrame(list(map(lambda x: [int(x[0]), x[sel:]], datapath.read_text().split(\"\\n\"))), columns=['label', 'text'])\n",
    "    df['text'] = df['text'].apply(rm)\n",
    "    retval[datapath.name.split(\".\")[0]] = df\n",
    "  return retval\n",
    "\n",
    "def ttsplit(data: pd.DataFrame, test_size=0.2):\n",
    "    train_data, test_data = train_test_split(data, test_size=test_size, stratify=data['label'], random_state=42)\n",
    "    train_data, test_data = train_data.reset_index().drop(columns=['index']), test_data.reset_index().drop(columns=['index'])\n",
    "    # train_data = pd.DataFrame({'text': X_train, 'labels': y_train})\n",
    "    # test_data = pd.DataFrame({'text': X_test, 'labels': y_test})\n",
    "    return train_data, test_data\n",
    "\n",
    "mc_data, rp_data = read_process_mcrp(mc_datasets), read_process_mcrp(rp_datasets)\n",
    "\n",
    "# # Train test splitting\n",
    "mc_train = mc_data['mc_train_data']\n",
    "mc_test = mc_data['mc_test_data']\n",
    "\n",
    "rp_train = rp_data['rp_train_data']\n",
    "rp_test = rp_data['rp_test_data']\n",
    "\n",
    "# mc_train, mc_test = ttsplit(mc_data, 0.2)\n",
    "# rp_train, rp_test = ttsplit(rp_data, 0.2)\n",
    "\n",
    "MAX_SEQ_LEN = 4\n",
    "BATCH_SIZE = 50\n",
    "NUM_EPOCHS = 200\n",
    "\n",
    "# TF-IDF vectorization and dataset creation\n",
    "mc_trainset = txt2vecset(mc_train, MAX_SEQ_LEN)\n",
    "rp_trainset = txt2vecset(rp_train, MAX_SEQ_LEN)\n",
    "\n",
    "mc_testset = txt2vecset(mc_test, MAX_SEQ_LEN, *mc_trainset.retattrs())\n",
    "rp_testset = txt2vecset(rp_test, MAX_SEQ_LEN, *rp_trainset.retattrs())"
   ]
  },
  {
   "cell_type": "code",
   "execution_count": 93,
   "metadata": {
    "tags": []
   },
   "outputs": [],
   "source": [
    "# MC RP DataLoaders\n",
    "mc_trainloader = DataLoader(mc_trainset, shuffle=True, batch_size=BATCH_SIZE)\n",
    "mc_testloader = DataLoader(mc_testset, shuffle=True, batch_size=BATCH_SIZE)\n",
    "\n",
    "rp_trainloader = DataLoader(rp_trainset, shuffle=True, batch_size=BATCH_SIZE)\n",
    "rp_testloader = DataLoader(rp_testset, shuffle=True, batch_size=BATCH_SIZE)"
   ]
  },
  {
   "cell_type": "code",
   "execution_count": 94,
   "metadata": {
    "scrolled": true,
    "tags": []
   },
   "outputs": [
    {
     "data": {
      "application/vnd.jupyter.widget-view+json": {
       "model_id": "7c5083c3758f4e8493809b1120fb1b93",
       "version_major": 2,
       "version_minor": 0
      },
      "text/plain": [
       "  0%|          | 0/2 [00:00<?, ?it/s]"
      ]
     },
     "metadata": {},
     "output_type": "display_data"
    },
    {
     "data": {
      "application/vnd.jupyter.widget-view+json": {
       "model_id": "d96e94e660d642fb9d75f97c598e1aeb",
       "version_major": 2,
       "version_minor": 0
      },
      "text/plain": [
       "  0%|          | 0/2 [00:00<?, ?it/s]"
      ]
     },
     "metadata": {},
     "output_type": "display_data"
    },
    {
     "name": "stdout",
     "output_type": "stream",
     "text": [
      "Epoch 0 Training Accuracy: tensor(0.5050)\n"
     ]
    },
    {
     "data": {
      "application/vnd.jupyter.widget-view+json": {
       "model_id": "4c116110f4734e56af89d551647d5ff2",
       "version_major": 2,
       "version_minor": 0
      },
      "text/plain": [
       "  0%|          | 0/2 [00:00<?, ?it/s]"
      ]
     },
     "metadata": {},
     "output_type": "display_data"
    },
    {
     "name": "stdout",
     "output_type": "stream",
     "text": [
      "Epoch 1 Training Accuracy: tensor(0.5300)\n"
     ]
    },
    {
     "data": {
      "application/vnd.jupyter.widget-view+json": {
       "model_id": "0f13e1cfe77741fbac65825e3b4dd36e",
       "version_major": 2,
       "version_minor": 0
      },
      "text/plain": [
       "  0%|          | 0/2 [00:00<?, ?it/s]"
      ]
     },
     "metadata": {},
     "output_type": "display_data"
    },
    {
     "name": "stdout",
     "output_type": "stream",
     "text": [
      "Epoch 2 Training Accuracy: tensor(0.6650)\n"
     ]
    },
    {
     "data": {
      "application/vnd.jupyter.widget-view+json": {
       "model_id": "e5844ebb9da24f7bb4d50f182d2c18ed",
       "version_major": 2,
       "version_minor": 0
      },
      "text/plain": [
       "  0%|          | 0/2 [00:00<?, ?it/s]"
      ]
     },
     "metadata": {},
     "output_type": "display_data"
    },
    {
     "name": "stdout",
     "output_type": "stream",
     "text": [
      "Epoch 3 Training Accuracy: tensor(0.8400)\n"
     ]
    },
    {
     "data": {
      "application/vnd.jupyter.widget-view+json": {
       "model_id": "6d2f8acc24b54f909d6c8e855eeebdb3",
       "version_major": 2,
       "version_minor": 0
      },
      "text/plain": [
       "  0%|          | 0/2 [00:00<?, ?it/s]"
      ]
     },
     "metadata": {},
     "output_type": "display_data"
    },
    {
     "name": "stdout",
     "output_type": "stream",
     "text": [
      "Epoch 4 Training Accuracy: tensor(0.9100)\n"
     ]
    },
    {
     "data": {
      "application/vnd.jupyter.widget-view+json": {
       "model_id": "69d6ed99f12c49a5b935ada6082156d4",
       "version_major": 2,
       "version_minor": 0
      },
      "text/plain": [
       "  0%|          | 0/2 [00:00<?, ?it/s]"
      ]
     },
     "metadata": {},
     "output_type": "display_data"
    },
    {
     "name": "stdout",
     "output_type": "stream",
     "text": [
      "Epoch 5 Training Accuracy: tensor(0.9600)\n"
     ]
    },
    {
     "data": {
      "application/vnd.jupyter.widget-view+json": {
       "model_id": "8489df7e552b4c20a691ab64385ee03c",
       "version_major": 2,
       "version_minor": 0
      },
      "text/plain": [
       "  0%|          | 0/2 [00:00<?, ?it/s]"
      ]
     },
     "metadata": {},
     "output_type": "display_data"
    },
    {
     "name": "stdout",
     "output_type": "stream",
     "text": [
      "Epoch 6 Training Accuracy: tensor(0.9250)\n"
     ]
    },
    {
     "data": {
      "application/vnd.jupyter.widget-view+json": {
       "model_id": "a23b2f7c58ab46cf9f2e986e4ab8b07c",
       "version_major": 2,
       "version_minor": 0
      },
      "text/plain": [
       "  0%|          | 0/2 [00:00<?, ?it/s]"
      ]
     },
     "metadata": {},
     "output_type": "display_data"
    },
    {
     "name": "stdout",
     "output_type": "stream",
     "text": [
      "Epoch 7 Training Accuracy: tensor(0.9650)\n"
     ]
    },
    {
     "data": {
      "application/vnd.jupyter.widget-view+json": {
       "model_id": "de27753f30b745b5b2517c27f7127428",
       "version_major": 2,
       "version_minor": 0
      },
      "text/plain": [
       "  0%|          | 0/2 [00:00<?, ?it/s]"
      ]
     },
     "metadata": {},
     "output_type": "display_data"
    },
    {
     "name": "stdout",
     "output_type": "stream",
     "text": [
      "Epoch 8 Training Accuracy: tensor(0.9800)\n"
     ]
    },
    {
     "data": {
      "application/vnd.jupyter.widget-view+json": {
       "model_id": "a2a7c8e9a5cf4c8aac5c1f25b8b43da7",
       "version_major": 2,
       "version_minor": 0
      },
      "text/plain": [
       "  0%|          | 0/2 [00:00<?, ?it/s]"
      ]
     },
     "metadata": {},
     "output_type": "display_data"
    },
    {
     "name": "stdout",
     "output_type": "stream",
     "text": [
      "Epoch 9 Training Accuracy: tensor(0.9800)\n"
     ]
    },
    {
     "data": {
      "application/vnd.jupyter.widget-view+json": {
       "model_id": "4076fb83f05743f28a15aca1df6441ad",
       "version_major": 2,
       "version_minor": 0
      },
      "text/plain": [
       "  0%|          | 0/2 [00:00<?, ?it/s]"
      ]
     },
     "metadata": {},
     "output_type": "display_data"
    },
    {
     "name": "stdout",
     "output_type": "stream",
     "text": [
      "Epoch 10 Training Accuracy: tensor(0.9500)\n"
     ]
    },
    {
     "data": {
      "application/vnd.jupyter.widget-view+json": {
       "model_id": "614da7cef81349d284deb1052a664e0b",
       "version_major": 2,
       "version_minor": 0
      },
      "text/plain": [
       "  0%|          | 0/2 [00:00<?, ?it/s]"
      ]
     },
     "metadata": {},
     "output_type": "display_data"
    },
    {
     "name": "stdout",
     "output_type": "stream",
     "text": [
      "Epoch 11 Training Accuracy: tensor(0.9650)\n"
     ]
    },
    {
     "data": {
      "application/vnd.jupyter.widget-view+json": {
       "model_id": "53569203db174aa6b69472a86ad5bc7a",
       "version_major": 2,
       "version_minor": 0
      },
      "text/plain": [
       "  0%|          | 0/2 [00:00<?, ?it/s]"
      ]
     },
     "metadata": {},
     "output_type": "display_data"
    },
    {
     "name": "stdout",
     "output_type": "stream",
     "text": [
      "Epoch 12 Training Accuracy: tensor(0.9800)\n"
     ]
    },
    {
     "data": {
      "application/vnd.jupyter.widget-view+json": {
       "model_id": "c51c7b0e9306407b9fc1638ac3ccae46",
       "version_major": 2,
       "version_minor": 0
      },
      "text/plain": [
       "  0%|          | 0/2 [00:00<?, ?it/s]"
      ]
     },
     "metadata": {},
     "output_type": "display_data"
    },
    {
     "name": "stdout",
     "output_type": "stream",
     "text": [
      "Epoch 13 Training Accuracy: tensor(0.9700)\n"
     ]
    },
    {
     "data": {
      "application/vnd.jupyter.widget-view+json": {
       "model_id": "32711eef90c34b8e929052501aa4db99",
       "version_major": 2,
       "version_minor": 0
      },
      "text/plain": [
       "  0%|          | 0/2 [00:00<?, ?it/s]"
      ]
     },
     "metadata": {},
     "output_type": "display_data"
    },
    {
     "name": "stdout",
     "output_type": "stream",
     "text": [
      "Epoch 14 Training Accuracy: tensor(0.9700)\n"
     ]
    },
    {
     "data": {
      "application/vnd.jupyter.widget-view+json": {
       "model_id": "206257f048214ab3b0870919ad9cfd25",
       "version_major": 2,
       "version_minor": 0
      },
      "text/plain": [
       "  0%|          | 0/2 [00:00<?, ?it/s]"
      ]
     },
     "metadata": {},
     "output_type": "display_data"
    },
    {
     "name": "stdout",
     "output_type": "stream",
     "text": [
      "Epoch 15 Training Accuracy: tensor(0.9550)\n"
     ]
    },
    {
     "data": {
      "application/vnd.jupyter.widget-view+json": {
       "model_id": "71df9e6fe828443db675e1a2ad08e067",
       "version_major": 2,
       "version_minor": 0
      },
      "text/plain": [
       "  0%|          | 0/2 [00:00<?, ?it/s]"
      ]
     },
     "metadata": {},
     "output_type": "display_data"
    },
    {
     "name": "stdout",
     "output_type": "stream",
     "text": [
      "Epoch 16 Training Accuracy: tensor(0.9700)\n"
     ]
    },
    {
     "data": {
      "application/vnd.jupyter.widget-view+json": {
       "model_id": "2c1b13cbc9364015b56200ba713d8822",
       "version_major": 2,
       "version_minor": 0
      },
      "text/plain": [
       "  0%|          | 0/2 [00:00<?, ?it/s]"
      ]
     },
     "metadata": {},
     "output_type": "display_data"
    },
    {
     "name": "stdout",
     "output_type": "stream",
     "text": [
      "Epoch 17 Training Accuracy: tensor(0.9550)\n"
     ]
    },
    {
     "data": {
      "application/vnd.jupyter.widget-view+json": {
       "model_id": "a0a39186265a448fb2a8c7c69ac156bf",
       "version_major": 2,
       "version_minor": 0
      },
      "text/plain": [
       "  0%|          | 0/2 [00:00<?, ?it/s]"
      ]
     },
     "metadata": {},
     "output_type": "display_data"
    },
    {
     "name": "stdout",
     "output_type": "stream",
     "text": [
      "Epoch 18 Training Accuracy: tensor(0.9550)\n"
     ]
    },
    {
     "data": {
      "application/vnd.jupyter.widget-view+json": {
       "model_id": "9482c383c2e8487f9f560601f9077a23",
       "version_major": 2,
       "version_minor": 0
      },
      "text/plain": [
       "  0%|          | 0/2 [00:00<?, ?it/s]"
      ]
     },
     "metadata": {},
     "output_type": "display_data"
    },
    {
     "name": "stdout",
     "output_type": "stream",
     "text": [
      "Epoch 19 Training Accuracy: tensor(0.9800)\n"
     ]
    },
    {
     "data": {
      "application/vnd.jupyter.widget-view+json": {
       "model_id": "c04e6925a07c4fa0a4556f1a2d716e8b",
       "version_major": 2,
       "version_minor": 0
      },
      "text/plain": [
       "  0%|          | 0/2 [00:00<?, ?it/s]"
      ]
     },
     "metadata": {},
     "output_type": "display_data"
    },
    {
     "name": "stdout",
     "output_type": "stream",
     "text": [
      "Epoch 20 Training Accuracy: tensor(0.9900)\n"
     ]
    },
    {
     "data": {
      "application/vnd.jupyter.widget-view+json": {
       "model_id": "67a0803461824cae83f3805457efbf5d",
       "version_major": 2,
       "version_minor": 0
      },
      "text/plain": [
       "  0%|          | 0/2 [00:00<?, ?it/s]"
      ]
     },
     "metadata": {},
     "output_type": "display_data"
    },
    {
     "name": "stdout",
     "output_type": "stream",
     "text": [
      "Epoch 21 Training Accuracy: tensor(1.)\n"
     ]
    },
    {
     "data": {
      "application/vnd.jupyter.widget-view+json": {
       "model_id": "29a280bff30b4ef5a2a3c310a8912f99",
       "version_major": 2,
       "version_minor": 0
      },
      "text/plain": [
       "  0%|          | 0/2 [00:00<?, ?it/s]"
      ]
     },
     "metadata": {},
     "output_type": "display_data"
    },
    {
     "name": "stdout",
     "output_type": "stream",
     "text": [
      "Epoch 22 Training Accuracy: tensor(1.)\n"
     ]
    },
    {
     "data": {
      "application/vnd.jupyter.widget-view+json": {
       "model_id": "afbb48d208f04f279a327809edeede97",
       "version_major": 2,
       "version_minor": 0
      },
      "text/plain": [
       "  0%|          | 0/2 [00:00<?, ?it/s]"
      ]
     },
     "metadata": {},
     "output_type": "display_data"
    },
    {
     "name": "stdout",
     "output_type": "stream",
     "text": [
      "Epoch 23 Training Accuracy: tensor(1.)\n"
     ]
    },
    {
     "data": {
      "application/vnd.jupyter.widget-view+json": {
       "model_id": "95e6a02f3e7b45b0b45668897dabacae",
       "version_major": 2,
       "version_minor": 0
      },
      "text/plain": [
       "  0%|          | 0/2 [00:00<?, ?it/s]"
      ]
     },
     "metadata": {},
     "output_type": "display_data"
    },
    {
     "name": "stdout",
     "output_type": "stream",
     "text": [
      "Epoch 24 Training Accuracy: tensor(1.)\n"
     ]
    },
    {
     "data": {
      "application/vnd.jupyter.widget-view+json": {
       "model_id": "1cbd4d5393134da7a67e0d6861b584a6",
       "version_major": 2,
       "version_minor": 0
      },
      "text/plain": [
       "  0%|          | 0/2 [00:00<?, ?it/s]"
      ]
     },
     "metadata": {},
     "output_type": "display_data"
    },
    {
     "name": "stdout",
     "output_type": "stream",
     "text": [
      "Epoch 25 Training Accuracy: tensor(1.)\n"
     ]
    },
    {
     "data": {
      "application/vnd.jupyter.widget-view+json": {
       "model_id": "716d1b328ec0448b8a3896d40924caf2",
       "version_major": 2,
       "version_minor": 0
      },
      "text/plain": [
       "  0%|          | 0/2 [00:00<?, ?it/s]"
      ]
     },
     "metadata": {},
     "output_type": "display_data"
    },
    {
     "name": "stdout",
     "output_type": "stream",
     "text": [
      "Epoch 26 Training Accuracy: tensor(1.)\n"
     ]
    },
    {
     "data": {
      "application/vnd.jupyter.widget-view+json": {
       "model_id": "05ae5f7618624cbe8a91cbb406eb0109",
       "version_major": 2,
       "version_minor": 0
      },
      "text/plain": [
       "  0%|          | 0/2 [00:00<?, ?it/s]"
      ]
     },
     "metadata": {},
     "output_type": "display_data"
    },
    {
     "name": "stdout",
     "output_type": "stream",
     "text": [
      "Epoch 27 Training Accuracy: tensor(1.)\n"
     ]
    },
    {
     "data": {
      "application/vnd.jupyter.widget-view+json": {
       "model_id": "0d061cc8f184483f91afa36ce791f33d",
       "version_major": 2,
       "version_minor": 0
      },
      "text/plain": [
       "  0%|          | 0/2 [00:00<?, ?it/s]"
      ]
     },
     "metadata": {},
     "output_type": "display_data"
    },
    {
     "name": "stdout",
     "output_type": "stream",
     "text": [
      "Epoch 28 Training Accuracy: tensor(1.)\n"
     ]
    },
    {
     "data": {
      "application/vnd.jupyter.widget-view+json": {
       "model_id": "eaadc1be43f948fda88ecfd5cd0adace",
       "version_major": 2,
       "version_minor": 0
      },
      "text/plain": [
       "  0%|          | 0/2 [00:00<?, ?it/s]"
      ]
     },
     "metadata": {},
     "output_type": "display_data"
    },
    {
     "name": "stdout",
     "output_type": "stream",
     "text": [
      "Epoch 29 Training Accuracy: tensor(1.)\n"
     ]
    },
    {
     "data": {
      "application/vnd.jupyter.widget-view+json": {
       "model_id": "64c874f05bd94cac8ab086f28583d039",
       "version_major": 2,
       "version_minor": 0
      },
      "text/plain": [
       "  0%|          | 0/2 [00:00<?, ?it/s]"
      ]
     },
     "metadata": {},
     "output_type": "display_data"
    },
    {
     "name": "stdout",
     "output_type": "stream",
     "text": [
      "Epoch 30 Training Accuracy: tensor(1.)\n"
     ]
    },
    {
     "data": {
      "application/vnd.jupyter.widget-view+json": {
       "model_id": "51fb1adc15bd4842b1e922212e44023a",
       "version_major": 2,
       "version_minor": 0
      },
      "text/plain": [
       "  0%|          | 0/2 [00:00<?, ?it/s]"
      ]
     },
     "metadata": {},
     "output_type": "display_data"
    },
    {
     "name": "stdout",
     "output_type": "stream",
     "text": [
      "Epoch 31 Training Accuracy: tensor(1.)\n"
     ]
    },
    {
     "data": {
      "application/vnd.jupyter.widget-view+json": {
       "model_id": "6378bcda9e29452abfdf665482f05c4e",
       "version_major": 2,
       "version_minor": 0
      },
      "text/plain": [
       "  0%|          | 0/2 [00:00<?, ?it/s]"
      ]
     },
     "metadata": {},
     "output_type": "display_data"
    },
    {
     "name": "stdout",
     "output_type": "stream",
     "text": [
      "Epoch 32 Training Accuracy: tensor(1.)\n"
     ]
    },
    {
     "data": {
      "application/vnd.jupyter.widget-view+json": {
       "model_id": "6bc3dfb8954c4118857b45e45e2cbfaa",
       "version_major": 2,
       "version_minor": 0
      },
      "text/plain": [
       "  0%|          | 0/2 [00:00<?, ?it/s]"
      ]
     },
     "metadata": {},
     "output_type": "display_data"
    },
    {
     "name": "stdout",
     "output_type": "stream",
     "text": [
      "Epoch 33 Training Accuracy: tensor(1.)\n"
     ]
    },
    {
     "data": {
      "application/vnd.jupyter.widget-view+json": {
       "model_id": "6dd96ec8893a48c38cbf8fadef51053a",
       "version_major": 2,
       "version_minor": 0
      },
      "text/plain": [
       "  0%|          | 0/2 [00:00<?, ?it/s]"
      ]
     },
     "metadata": {},
     "output_type": "display_data"
    },
    {
     "name": "stdout",
     "output_type": "stream",
     "text": [
      "Epoch 34 Training Accuracy: tensor(1.)\n"
     ]
    },
    {
     "data": {
      "application/vnd.jupyter.widget-view+json": {
       "model_id": "3c77295611f5456083b4e045c37a455f",
       "version_major": 2,
       "version_minor": 0
      },
      "text/plain": [
       "  0%|          | 0/2 [00:00<?, ?it/s]"
      ]
     },
     "metadata": {},
     "output_type": "display_data"
    },
    {
     "name": "stdout",
     "output_type": "stream",
     "text": [
      "Epoch 35 Training Accuracy: tensor(1.)\n"
     ]
    },
    {
     "data": {
      "application/vnd.jupyter.widget-view+json": {
       "model_id": "afce77507d684964b050f16bfbaadfcd",
       "version_major": 2,
       "version_minor": 0
      },
      "text/plain": [
       "  0%|          | 0/2 [00:00<?, ?it/s]"
      ]
     },
     "metadata": {},
     "output_type": "display_data"
    },
    {
     "name": "stdout",
     "output_type": "stream",
     "text": [
      "Epoch 36 Training Accuracy: tensor(1.)\n"
     ]
    },
    {
     "data": {
      "application/vnd.jupyter.widget-view+json": {
       "model_id": "390a858588ae40ab99568cb75375522c",
       "version_major": 2,
       "version_minor": 0
      },
      "text/plain": [
       "  0%|          | 0/2 [00:00<?, ?it/s]"
      ]
     },
     "metadata": {},
     "output_type": "display_data"
    },
    {
     "name": "stdout",
     "output_type": "stream",
     "text": [
      "Epoch 37 Training Accuracy: tensor(1.)\n"
     ]
    },
    {
     "data": {
      "application/vnd.jupyter.widget-view+json": {
       "model_id": "b54ad23fdde34f9c8d062d9190f8211f",
       "version_major": 2,
       "version_minor": 0
      },
      "text/plain": [
       "  0%|          | 0/2 [00:00<?, ?it/s]"
      ]
     },
     "metadata": {},
     "output_type": "display_data"
    },
    {
     "name": "stdout",
     "output_type": "stream",
     "text": [
      "Epoch 38 Training Accuracy: tensor(1.)\n"
     ]
    },
    {
     "data": {
      "application/vnd.jupyter.widget-view+json": {
       "model_id": "f7b4d3a10ce248048421e464b1264098",
       "version_major": 2,
       "version_minor": 0
      },
      "text/plain": [
       "  0%|          | 0/2 [00:00<?, ?it/s]"
      ]
     },
     "metadata": {},
     "output_type": "display_data"
    },
    {
     "name": "stdout",
     "output_type": "stream",
     "text": [
      "Epoch 39 Training Accuracy: tensor(1.)\n"
     ]
    },
    {
     "data": {
      "application/vnd.jupyter.widget-view+json": {
       "model_id": "c487dc41c2814278bbb920a1ecaccd0e",
       "version_major": 2,
       "version_minor": 0
      },
      "text/plain": [
       "  0%|          | 0/2 [00:00<?, ?it/s]"
      ]
     },
     "metadata": {},
     "output_type": "display_data"
    },
    {
     "name": "stdout",
     "output_type": "stream",
     "text": [
      "Epoch 40 Training Accuracy: tensor(1.)\n"
     ]
    },
    {
     "data": {
      "application/vnd.jupyter.widget-view+json": {
       "model_id": "af3b819b07d247d0a893247d4927d915",
       "version_major": 2,
       "version_minor": 0
      },
      "text/plain": [
       "  0%|          | 0/2 [00:00<?, ?it/s]"
      ]
     },
     "metadata": {},
     "output_type": "display_data"
    },
    {
     "name": "stdout",
     "output_type": "stream",
     "text": [
      "Epoch 41 Training Accuracy: tensor(1.)\n"
     ]
    },
    {
     "data": {
      "application/vnd.jupyter.widget-view+json": {
       "model_id": "c48b445ead8e44d39d6b37a7fc0cc039",
       "version_major": 2,
       "version_minor": 0
      },
      "text/plain": [
       "  0%|          | 0/2 [00:00<?, ?it/s]"
      ]
     },
     "metadata": {},
     "output_type": "display_data"
    },
    {
     "name": "stdout",
     "output_type": "stream",
     "text": [
      "Epoch 42 Training Accuracy: tensor(1.)\n"
     ]
    },
    {
     "data": {
      "application/vnd.jupyter.widget-view+json": {
       "model_id": "df381d244b1d4cb687026c29bf9e1da8",
       "version_major": 2,
       "version_minor": 0
      },
      "text/plain": [
       "  0%|          | 0/2 [00:00<?, ?it/s]"
      ]
     },
     "metadata": {},
     "output_type": "display_data"
    },
    {
     "name": "stdout",
     "output_type": "stream",
     "text": [
      "Epoch 43 Training Accuracy: tensor(1.)\n"
     ]
    },
    {
     "data": {
      "application/vnd.jupyter.widget-view+json": {
       "model_id": "c4430c834c3e4c50a1359b7534383a5d",
       "version_major": 2,
       "version_minor": 0
      },
      "text/plain": [
       "  0%|          | 0/2 [00:00<?, ?it/s]"
      ]
     },
     "metadata": {},
     "output_type": "display_data"
    },
    {
     "name": "stdout",
     "output_type": "stream",
     "text": [
      "Epoch 44 Training Accuracy: tensor(1.)\n"
     ]
    },
    {
     "data": {
      "application/vnd.jupyter.widget-view+json": {
       "model_id": "9627c8e9996e422e94f29c632a6035fe",
       "version_major": 2,
       "version_minor": 0
      },
      "text/plain": [
       "  0%|          | 0/2 [00:00<?, ?it/s]"
      ]
     },
     "metadata": {},
     "output_type": "display_data"
    },
    {
     "name": "stdout",
     "output_type": "stream",
     "text": [
      "Epoch 45 Training Accuracy: tensor(1.)\n"
     ]
    },
    {
     "data": {
      "application/vnd.jupyter.widget-view+json": {
       "model_id": "c090deb7224743318157fd7f11b04fd8",
       "version_major": 2,
       "version_minor": 0
      },
      "text/plain": [
       "  0%|          | 0/2 [00:00<?, ?it/s]"
      ]
     },
     "metadata": {},
     "output_type": "display_data"
    },
    {
     "name": "stdout",
     "output_type": "stream",
     "text": [
      "Epoch 46 Training Accuracy: tensor(1.)\n"
     ]
    },
    {
     "data": {
      "application/vnd.jupyter.widget-view+json": {
       "model_id": "5543ef41acdd4110a09164d9fba0b73c",
       "version_major": 2,
       "version_minor": 0
      },
      "text/plain": [
       "  0%|          | 0/2 [00:00<?, ?it/s]"
      ]
     },
     "metadata": {},
     "output_type": "display_data"
    },
    {
     "name": "stdout",
     "output_type": "stream",
     "text": [
      "Epoch 47 Training Accuracy: tensor(1.)\n"
     ]
    },
    {
     "data": {
      "application/vnd.jupyter.widget-view+json": {
       "model_id": "a0428bbd0f6c4a92a4a708067b8c11b3",
       "version_major": 2,
       "version_minor": 0
      },
      "text/plain": [
       "  0%|          | 0/2 [00:00<?, ?it/s]"
      ]
     },
     "metadata": {},
     "output_type": "display_data"
    },
    {
     "name": "stdout",
     "output_type": "stream",
     "text": [
      "Epoch 48 Training Accuracy: tensor(1.)\n"
     ]
    },
    {
     "data": {
      "application/vnd.jupyter.widget-view+json": {
       "model_id": "675daece5f724619808fa9bd68d9aea7",
       "version_major": 2,
       "version_minor": 0
      },
      "text/plain": [
       "  0%|          | 0/2 [00:00<?, ?it/s]"
      ]
     },
     "metadata": {},
     "output_type": "display_data"
    },
    {
     "name": "stdout",
     "output_type": "stream",
     "text": [
      "Epoch 49 Training Accuracy: tensor(1.)\n"
     ]
    },
    {
     "data": {
      "application/vnd.jupyter.widget-view+json": {
       "model_id": "d2b00c1c50ac4161a7af1f22bd53f879",
       "version_major": 2,
       "version_minor": 0
      },
      "text/plain": [
       "  0%|          | 0/2 [00:00<?, ?it/s]"
      ]
     },
     "metadata": {},
     "output_type": "display_data"
    },
    {
     "name": "stdout",
     "output_type": "stream",
     "text": [
      "Epoch 50 Training Accuracy: tensor(0.9800)\n"
     ]
    },
    {
     "data": {
      "application/vnd.jupyter.widget-view+json": {
       "model_id": "20d2a3eed26246e89785ad8707834efa",
       "version_major": 2,
       "version_minor": 0
      },
      "text/plain": [
       "  0%|          | 0/2 [00:00<?, ?it/s]"
      ]
     },
     "metadata": {},
     "output_type": "display_data"
    },
    {
     "name": "stdout",
     "output_type": "stream",
     "text": [
      "Epoch 51 Training Accuracy: tensor(0.9800)\n"
     ]
    },
    {
     "data": {
      "application/vnd.jupyter.widget-view+json": {
       "model_id": "bc7121d7b96b47e1ba2de698537c31b4",
       "version_major": 2,
       "version_minor": 0
      },
      "text/plain": [
       "  0%|          | 0/2 [00:00<?, ?it/s]"
      ]
     },
     "metadata": {},
     "output_type": "display_data"
    },
    {
     "name": "stdout",
     "output_type": "stream",
     "text": [
      "Epoch 52 Training Accuracy: tensor(0.9650)\n"
     ]
    },
    {
     "data": {
      "application/vnd.jupyter.widget-view+json": {
       "model_id": "62ac8bcdc7eb45b9af9cbda40e3fd1c1",
       "version_major": 2,
       "version_minor": 0
      },
      "text/plain": [
       "  0%|          | 0/2 [00:00<?, ?it/s]"
      ]
     },
     "metadata": {},
     "output_type": "display_data"
    },
    {
     "name": "stdout",
     "output_type": "stream",
     "text": [
      "Epoch 53 Training Accuracy: tensor(0.9650)\n"
     ]
    },
    {
     "data": {
      "application/vnd.jupyter.widget-view+json": {
       "model_id": "dfac1d18996b4a628c13cfd3b7245d1f",
       "version_major": 2,
       "version_minor": 0
      },
      "text/plain": [
       "  0%|          | 0/2 [00:00<?, ?it/s]"
      ]
     },
     "metadata": {},
     "output_type": "display_data"
    },
    {
     "name": "stdout",
     "output_type": "stream",
     "text": [
      "Epoch 54 Training Accuracy: tensor(0.9550)\n"
     ]
    },
    {
     "data": {
      "application/vnd.jupyter.widget-view+json": {
       "model_id": "f499822a09144b9497732f7c6a65a1f7",
       "version_major": 2,
       "version_minor": 0
      },
      "text/plain": [
       "  0%|          | 0/2 [00:00<?, ?it/s]"
      ]
     },
     "metadata": {},
     "output_type": "display_data"
    },
    {
     "name": "stdout",
     "output_type": "stream",
     "text": [
      "Epoch 55 Training Accuracy: tensor(0.9800)\n"
     ]
    },
    {
     "data": {
      "application/vnd.jupyter.widget-view+json": {
       "model_id": "f8b1dcfec4984853a84342bf8f9dbacb",
       "version_major": 2,
       "version_minor": 0
      },
      "text/plain": [
       "  0%|          | 0/2 [00:00<?, ?it/s]"
      ]
     },
     "metadata": {},
     "output_type": "display_data"
    },
    {
     "name": "stdout",
     "output_type": "stream",
     "text": [
      "Epoch 56 Training Accuracy: tensor(0.9650)\n"
     ]
    },
    {
     "data": {
      "application/vnd.jupyter.widget-view+json": {
       "model_id": "796dc0aabd97450a806d86a550d0ceea",
       "version_major": 2,
       "version_minor": 0
      },
      "text/plain": [
       "  0%|          | 0/2 [00:00<?, ?it/s]"
      ]
     },
     "metadata": {},
     "output_type": "display_data"
    },
    {
     "name": "stdout",
     "output_type": "stream",
     "text": [
      "Epoch 57 Training Accuracy: tensor(0.9800)\n"
     ]
    },
    {
     "data": {
      "application/vnd.jupyter.widget-view+json": {
       "model_id": "d60aef9fa5e349e780d8f787cde1c127",
       "version_major": 2,
       "version_minor": 0
      },
      "text/plain": [
       "  0%|          | 0/2 [00:00<?, ?it/s]"
      ]
     },
     "metadata": {},
     "output_type": "display_data"
    },
    {
     "name": "stdout",
     "output_type": "stream",
     "text": [
      "Epoch 58 Training Accuracy: tensor(0.9650)\n"
     ]
    },
    {
     "data": {
      "application/vnd.jupyter.widget-view+json": {
       "model_id": "3899ce10bd984e99b0f39e7923901d9a",
       "version_major": 2,
       "version_minor": 0
      },
      "text/plain": [
       "  0%|          | 0/2 [00:00<?, ?it/s]"
      ]
     },
     "metadata": {},
     "output_type": "display_data"
    },
    {
     "name": "stdout",
     "output_type": "stream",
     "text": [
      "Epoch 59 Training Accuracy: tensor(0.9800)\n"
     ]
    },
    {
     "data": {
      "application/vnd.jupyter.widget-view+json": {
       "model_id": "7eb8ea2bd6c44134a2b121e1ca39a49a",
       "version_major": 2,
       "version_minor": 0
      },
      "text/plain": [
       "  0%|          | 0/2 [00:00<?, ?it/s]"
      ]
     },
     "metadata": {},
     "output_type": "display_data"
    },
    {
     "name": "stdout",
     "output_type": "stream",
     "text": [
      "Epoch 60 Training Accuracy: tensor(0.9650)\n"
     ]
    },
    {
     "data": {
      "application/vnd.jupyter.widget-view+json": {
       "model_id": "5bac0cd9fe2d4abd99849e1f084a05c5",
       "version_major": 2,
       "version_minor": 0
      },
      "text/plain": [
       "  0%|          | 0/2 [00:00<?, ?it/s]"
      ]
     },
     "metadata": {},
     "output_type": "display_data"
    },
    {
     "name": "stdout",
     "output_type": "stream",
     "text": [
      "Epoch 61 Training Accuracy: tensor(1.)\n"
     ]
    },
    {
     "data": {
      "application/vnd.jupyter.widget-view+json": {
       "model_id": "6a48250b67e64253b871f93ddd4c186d",
       "version_major": 2,
       "version_minor": 0
      },
      "text/plain": [
       "  0%|          | 0/2 [00:00<?, ?it/s]"
      ]
     },
     "metadata": {},
     "output_type": "display_data"
    },
    {
     "name": "stdout",
     "output_type": "stream",
     "text": [
      "Epoch 62 Training Accuracy: tensor(1.)\n"
     ]
    },
    {
     "data": {
      "application/vnd.jupyter.widget-view+json": {
       "model_id": "8cdfee6c96fd4ce3a5a81d2f4014aa41",
       "version_major": 2,
       "version_minor": 0
      },
      "text/plain": [
       "  0%|          | 0/2 [00:00<?, ?it/s]"
      ]
     },
     "metadata": {},
     "output_type": "display_data"
    },
    {
     "name": "stdout",
     "output_type": "stream",
     "text": [
      "Epoch 63 Training Accuracy: tensor(0.9750)\n"
     ]
    },
    {
     "data": {
      "application/vnd.jupyter.widget-view+json": {
       "model_id": "4bdcd659ceb3435592af9acf76c76003",
       "version_major": 2,
       "version_minor": 0
      },
      "text/plain": [
       "  0%|          | 0/2 [00:00<?, ?it/s]"
      ]
     },
     "metadata": {},
     "output_type": "display_data"
    },
    {
     "name": "stdout",
     "output_type": "stream",
     "text": [
      "Epoch 91 Training Accuracy: tensor(0.9650)\n"
     ]
    },
    {
     "data": {
      "application/vnd.jupyter.widget-view+json": {
       "model_id": "bc0028e3dd75430eac4dc33b9024f5bd",
       "version_major": 2,
       "version_minor": 0
      },
      "text/plain": [
       "  0%|          | 0/2 [00:00<?, ?it/s]"
      ]
     },
     "metadata": {},
     "output_type": "display_data"
    },
    {
     "name": "stdout",
     "output_type": "stream",
     "text": [
      "Epoch 92 Training Accuracy: tensor(0.9650)\n"
     ]
    },
    {
     "data": {
      "application/vnd.jupyter.widget-view+json": {
       "model_id": "00d90a4d1e144f0f82832e4f9cad5470",
       "version_major": 2,
       "version_minor": 0
      },
      "text/plain": [
       "  0%|          | 0/2 [00:00<?, ?it/s]"
      ]
     },
     "metadata": {},
     "output_type": "display_data"
    },
    {
     "name": "stdout",
     "output_type": "stream",
     "text": [
      "Epoch 93 Training Accuracy: tensor(0.9800)\n"
     ]
    },
    {
     "data": {
      "application/vnd.jupyter.widget-view+json": {
       "model_id": "25c6b17bc6984d2196d3bff77c033d16",
       "version_major": 2,
       "version_minor": 0
      },
      "text/plain": [
       "  0%|          | 0/2 [00:00<?, ?it/s]"
      ]
     },
     "metadata": {},
     "output_type": "display_data"
    },
    {
     "name": "stdout",
     "output_type": "stream",
     "text": [
      "Epoch 94 Training Accuracy: tensor(0.9650)\n"
     ]
    },
    {
     "data": {
      "application/vnd.jupyter.widget-view+json": {
       "model_id": "4100b6c6b7cc4fdc845c4d27a997bf47",
       "version_major": 2,
       "version_minor": 0
      },
      "text/plain": [
       "  0%|          | 0/2 [00:00<?, ?it/s]"
      ]
     },
     "metadata": {},
     "output_type": "display_data"
    },
    {
     "name": "stdout",
     "output_type": "stream",
     "text": [
      "Epoch 95 Training Accuracy: tensor(0.9900)\n"
     ]
    },
    {
     "data": {
      "application/vnd.jupyter.widget-view+json": {
       "model_id": "8e207be8d53e473699e880c8080356b4",
       "version_major": 2,
       "version_minor": 0
      },
      "text/plain": [
       "  0%|          | 0/2 [00:00<?, ?it/s]"
      ]
     },
     "metadata": {},
     "output_type": "display_data"
    },
    {
     "name": "stdout",
     "output_type": "stream",
     "text": [
      "Epoch 96 Training Accuracy: tensor(0.9900)\n"
     ]
    },
    {
     "data": {
      "application/vnd.jupyter.widget-view+json": {
       "model_id": "867e16eaca894f86b1fd9f2caa3eae0c",
       "version_major": 2,
       "version_minor": 0
      },
      "text/plain": [
       "  0%|          | 0/2 [00:00<?, ?it/s]"
      ]
     },
     "metadata": {},
     "output_type": "display_data"
    },
    {
     "name": "stdout",
     "output_type": "stream",
     "text": [
      "Epoch 97 Training Accuracy: tensor(0.9750)\n"
     ]
    },
    {
     "data": {
      "application/vnd.jupyter.widget-view+json": {
       "model_id": "f97923548fc642bda30ef44beeef650b",
       "version_major": 2,
       "version_minor": 0
      },
      "text/plain": [
       "  0%|          | 0/2 [00:00<?, ?it/s]"
      ]
     },
     "metadata": {},
     "output_type": "display_data"
    },
    {
     "name": "stdout",
     "output_type": "stream",
     "text": [
      "Epoch 98 Training Accuracy: tensor(0.9750)\n"
     ]
    },
    {
     "data": {
      "application/vnd.jupyter.widget-view+json": {
       "model_id": "f11a8736a5cb4b4cad4415aaf64eb8ce",
       "version_major": 2,
       "version_minor": 0
      },
      "text/plain": [
       "  0%|          | 0/2 [00:00<?, ?it/s]"
      ]
     },
     "metadata": {},
     "output_type": "display_data"
    },
    {
     "name": "stdout",
     "output_type": "stream",
     "text": [
      "Epoch 99 Training Accuracy: tensor(1.)\n"
     ]
    },
    {
     "data": {
      "application/vnd.jupyter.widget-view+json": {
       "model_id": "02b2868abef146ae9fefd402a69a1a34",
       "version_major": 2,
       "version_minor": 0
      },
      "text/plain": [
       "  0%|          | 0/2 [00:00<?, ?it/s]"
      ]
     },
     "metadata": {},
     "output_type": "display_data"
    },
    {
     "name": "stdout",
     "output_type": "stream",
     "text": [
      "Epoch 100 Training Accuracy: tensor(0.9750)\n"
     ]
    },
    {
     "data": {
      "application/vnd.jupyter.widget-view+json": {
       "model_id": "0eb294c2de0e43ff90b082779da44079",
       "version_major": 2,
       "version_minor": 0
      },
      "text/plain": [
       "  0%|          | 0/2 [00:00<?, ?it/s]"
      ]
     },
     "metadata": {},
     "output_type": "display_data"
    },
    {
     "name": "stdout",
     "output_type": "stream",
     "text": [
      "Epoch 101 Training Accuracy: tensor(0.9900)\n"
     ]
    },
    {
     "data": {
      "application/vnd.jupyter.widget-view+json": {
       "model_id": "ba0a9dd7ec8d43d4bcbf9d3634f04d89",
       "version_major": 2,
       "version_minor": 0
      },
      "text/plain": [
       "  0%|          | 0/2 [00:00<?, ?it/s]"
      ]
     },
     "metadata": {},
     "output_type": "display_data"
    },
    {
     "name": "stdout",
     "output_type": "stream",
     "text": [
      "Epoch 102 Training Accuracy: tensor(0.9800)\n"
     ]
    },
    {
     "data": {
      "application/vnd.jupyter.widget-view+json": {
       "model_id": "bde8f0585dd44073b4978400c4b74198",
       "version_major": 2,
       "version_minor": 0
      },
      "text/plain": [
       "  0%|          | 0/2 [00:00<?, ?it/s]"
      ]
     },
     "metadata": {},
     "output_type": "display_data"
    },
    {
     "name": "stdout",
     "output_type": "stream",
     "text": [
      "Epoch 103 Training Accuracy: tensor(0.9500)\n"
     ]
    },
    {
     "data": {
      "application/vnd.jupyter.widget-view+json": {
       "model_id": "d334bad0038240049df7f9fc67021799",
       "version_major": 2,
       "version_minor": 0
      },
      "text/plain": [
       "  0%|          | 0/2 [00:00<?, ?it/s]"
      ]
     },
     "metadata": {},
     "output_type": "display_data"
    },
    {
     "name": "stdout",
     "output_type": "stream",
     "text": [
      "Epoch 104 Training Accuracy: tensor(0.9800)\n"
     ]
    },
    {
     "data": {
      "application/vnd.jupyter.widget-view+json": {
       "model_id": "49c73dfabb734f86ba5385fedd84a10e",
       "version_major": 2,
       "version_minor": 0
      },
      "text/plain": [
       "  0%|          | 0/2 [00:00<?, ?it/s]"
      ]
     },
     "metadata": {},
     "output_type": "display_data"
    },
    {
     "name": "stdout",
     "output_type": "stream",
     "text": [
      "Epoch 105 Training Accuracy: tensor(0.9650)\n"
     ]
    },
    {
     "data": {
      "application/vnd.jupyter.widget-view+json": {
       "model_id": "d50e13ef63df4377928ac3d17751fee6",
       "version_major": 2,
       "version_minor": 0
      },
      "text/plain": [
       "  0%|          | 0/2 [00:00<?, ?it/s]"
      ]
     },
     "metadata": {},
     "output_type": "display_data"
    },
    {
     "name": "stdout",
     "output_type": "stream",
     "text": [
      "Epoch 106 Training Accuracy: tensor(0.9800)\n"
     ]
    },
    {
     "data": {
      "application/vnd.jupyter.widget-view+json": {
       "model_id": "120fc8c9cf084b25ba2ca598d599f9f0",
       "version_major": 2,
       "version_minor": 0
      },
      "text/plain": [
       "  0%|          | 0/2 [00:00<?, ?it/s]"
      ]
     },
     "metadata": {},
     "output_type": "display_data"
    },
    {
     "name": "stdout",
     "output_type": "stream",
     "text": [
      "Epoch 107 Training Accuracy: tensor(0.9900)\n"
     ]
    },
    {
     "data": {
      "application/vnd.jupyter.widget-view+json": {
       "model_id": "814dbaa4250a460d968523d4029ab78c",
       "version_major": 2,
       "version_minor": 0
      },
      "text/plain": [
       "  0%|          | 0/2 [00:00<?, ?it/s]"
      ]
     },
     "metadata": {},
     "output_type": "display_data"
    },
    {
     "name": "stdout",
     "output_type": "stream",
     "text": [
      "Epoch 108 Training Accuracy: tensor(0.9900)\n"
     ]
    },
    {
     "data": {
      "application/vnd.jupyter.widget-view+json": {
       "model_id": "24b23f94a49f413399d9542bde9907a6",
       "version_major": 2,
       "version_minor": 0
      },
      "text/plain": [
       "  0%|          | 0/2 [00:00<?, ?it/s]"
      ]
     },
     "metadata": {},
     "output_type": "display_data"
    },
    {
     "name": "stdout",
     "output_type": "stream",
     "text": [
      "Epoch 109 Training Accuracy: tensor(1.)\n"
     ]
    },
    {
     "data": {
      "application/vnd.jupyter.widget-view+json": {
       "model_id": "434928d56cff4b30a64b4fa261f05a5d",
       "version_major": 2,
       "version_minor": 0
      },
      "text/plain": [
       "  0%|          | 0/2 [00:00<?, ?it/s]"
      ]
     },
     "metadata": {},
     "output_type": "display_data"
    },
    {
     "name": "stdout",
     "output_type": "stream",
     "text": [
      "Epoch 110 Training Accuracy: tensor(0.9900)\n"
     ]
    },
    {
     "data": {
      "application/vnd.jupyter.widget-view+json": {
       "model_id": "11cfd3d8d0a34d69abf626a8f4c48e07",
       "version_major": 2,
       "version_minor": 0
      },
      "text/plain": [
       "  0%|          | 0/2 [00:00<?, ?it/s]"
      ]
     },
     "metadata": {},
     "output_type": "display_data"
    },
    {
     "name": "stdout",
     "output_type": "stream",
     "text": [
      "Epoch 111 Training Accuracy: tensor(0.9900)\n"
     ]
    },
    {
     "data": {
      "application/vnd.jupyter.widget-view+json": {
       "model_id": "7275b8b350c1474ea82ad2d10e03af75",
       "version_major": 2,
       "version_minor": 0
      },
      "text/plain": [
       "  0%|          | 0/2 [00:00<?, ?it/s]"
      ]
     },
     "metadata": {},
     "output_type": "display_data"
    },
    {
     "name": "stdout",
     "output_type": "stream",
     "text": [
      "Epoch 112 Training Accuracy: tensor(0.9900)\n"
     ]
    },
    {
     "data": {
      "application/vnd.jupyter.widget-view+json": {
       "model_id": "4f2135d8d5964181bbe30267eb573dc3",
       "version_major": 2,
       "version_minor": 0
      },
      "text/plain": [
       "  0%|          | 0/2 [00:00<?, ?it/s]"
      ]
     },
     "metadata": {},
     "output_type": "display_data"
    },
    {
     "name": "stdout",
     "output_type": "stream",
     "text": [
      "Epoch 113 Training Accuracy: tensor(0.9900)\n"
     ]
    },
    {
     "data": {
      "application/vnd.jupyter.widget-view+json": {
       "model_id": "af3adbfc2a3541f58d83e70777caef4c",
       "version_major": 2,
       "version_minor": 0
      },
      "text/plain": [
       "  0%|          | 0/2 [00:00<?, ?it/s]"
      ]
     },
     "metadata": {},
     "output_type": "display_data"
    },
    {
     "name": "stdout",
     "output_type": "stream",
     "text": [
      "Epoch 114 Training Accuracy: tensor(0.9900)\n"
     ]
    },
    {
     "data": {
      "application/vnd.jupyter.widget-view+json": {
       "model_id": "a66265eb380941188a224dc28705e38c",
       "version_major": 2,
       "version_minor": 0
      },
      "text/plain": [
       "  0%|          | 0/2 [00:00<?, ?it/s]"
      ]
     },
     "metadata": {},
     "output_type": "display_data"
    },
    {
     "name": "stdout",
     "output_type": "stream",
     "text": [
      "Epoch 115 Training Accuracy: tensor(0.9900)\n"
     ]
    },
    {
     "data": {
      "application/vnd.jupyter.widget-view+json": {
       "model_id": "7ecd72bde1f94d9f964ccc9749778519",
       "version_major": 2,
       "version_minor": 0
      },
      "text/plain": [
       "  0%|          | 0/2 [00:00<?, ?it/s]"
      ]
     },
     "metadata": {},
     "output_type": "display_data"
    },
    {
     "name": "stdout",
     "output_type": "stream",
     "text": [
      "Epoch 116 Training Accuracy: tensor(0.9750)\n"
     ]
    },
    {
     "data": {
      "application/vnd.jupyter.widget-view+json": {
       "model_id": "ba88cc570ec54578995ef6020d3fc13b",
       "version_major": 2,
       "version_minor": 0
      },
      "text/plain": [
       "  0%|          | 0/2 [00:00<?, ?it/s]"
      ]
     },
     "metadata": {},
     "output_type": "display_data"
    },
    {
     "name": "stdout",
     "output_type": "stream",
     "text": [
      "Epoch 117 Training Accuracy: tensor(0.9900)\n"
     ]
    },
    {
     "data": {
      "application/vnd.jupyter.widget-view+json": {
       "model_id": "41b38d955f5b40179f1efcb0b1d0e00e",
       "version_major": 2,
       "version_minor": 0
      },
      "text/plain": [
       "  0%|          | 0/2 [00:00<?, ?it/s]"
      ]
     },
     "metadata": {},
     "output_type": "display_data"
    },
    {
     "name": "stdout",
     "output_type": "stream",
     "text": [
      "Epoch 118 Training Accuracy: tensor(0.9900)\n"
     ]
    },
    {
     "data": {
      "application/vnd.jupyter.widget-view+json": {
       "model_id": "be327e6daf164e6a8691e740b1a1b0b7",
       "version_major": 2,
       "version_minor": 0
      },
      "text/plain": [
       "  0%|          | 0/2 [00:00<?, ?it/s]"
      ]
     },
     "metadata": {},
     "output_type": "display_data"
    },
    {
     "name": "stdout",
     "output_type": "stream",
     "text": [
      "Epoch 119 Training Accuracy: tensor(0.9750)\n"
     ]
    },
    {
     "data": {
      "application/vnd.jupyter.widget-view+json": {
       "model_id": "aa099a8c4754489387be7392e4465f23",
       "version_major": 2,
       "version_minor": 0
      },
      "text/plain": [
       "  0%|          | 0/2 [00:00<?, ?it/s]"
      ]
     },
     "metadata": {},
     "output_type": "display_data"
    },
    {
     "name": "stdout",
     "output_type": "stream",
     "text": [
      "Epoch 120 Training Accuracy: tensor(0.9900)\n"
     ]
    },
    {
     "data": {
      "application/vnd.jupyter.widget-view+json": {
       "model_id": "ebd1069067f443279e9eddbfa3c8e6f9",
       "version_major": 2,
       "version_minor": 0
      },
      "text/plain": [
       "  0%|          | 0/2 [00:00<?, ?it/s]"
      ]
     },
     "metadata": {},
     "output_type": "display_data"
    },
    {
     "name": "stdout",
     "output_type": "stream",
     "text": [
      "Epoch 121 Training Accuracy: tensor(0.9750)\n"
     ]
    },
    {
     "data": {
      "application/vnd.jupyter.widget-view+json": {
       "model_id": "cb320c50496242a68fa67d3d26aba383",
       "version_major": 2,
       "version_minor": 0
      },
      "text/plain": [
       "  0%|          | 0/2 [00:00<?, ?it/s]"
      ]
     },
     "metadata": {},
     "output_type": "display_data"
    },
    {
     "name": "stdout",
     "output_type": "stream",
     "text": [
      "Epoch 122 Training Accuracy: tensor(0.9900)\n"
     ]
    },
    {
     "data": {
      "application/vnd.jupyter.widget-view+json": {
       "model_id": "1d33ae14dbe44f02af72b11c4779b637",
       "version_major": 2,
       "version_minor": 0
      },
      "text/plain": [
       "  0%|          | 0/2 [00:00<?, ?it/s]"
      ]
     },
     "metadata": {},
     "output_type": "display_data"
    },
    {
     "name": "stdout",
     "output_type": "stream",
     "text": [
      "Epoch 123 Training Accuracy: tensor(0.9750)\n"
     ]
    },
    {
     "data": {
      "application/vnd.jupyter.widget-view+json": {
       "model_id": "5c7ebca7ef4b430ab0d841600495d21d",
       "version_major": 2,
       "version_minor": 0
      },
      "text/plain": [
       "  0%|          | 0/2 [00:00<?, ?it/s]"
      ]
     },
     "metadata": {},
     "output_type": "display_data"
    },
    {
     "name": "stdout",
     "output_type": "stream",
     "text": [
      "Epoch 124 Training Accuracy: tensor(0.9750)\n"
     ]
    },
    {
     "data": {
      "application/vnd.jupyter.widget-view+json": {
       "model_id": "77c6ea7d5fb34392bee01cb1d79eead2",
       "version_major": 2,
       "version_minor": 0
      },
      "text/plain": [
       "  0%|          | 0/2 [00:00<?, ?it/s]"
      ]
     },
     "metadata": {},
     "output_type": "display_data"
    },
    {
     "name": "stdout",
     "output_type": "stream",
     "text": [
      "Epoch 125 Training Accuracy: tensor(0.9750)\n"
     ]
    },
    {
     "data": {
      "application/vnd.jupyter.widget-view+json": {
       "model_id": "2b0b94353e7b472e9ae5c5052639ff58",
       "version_major": 2,
       "version_minor": 0
      },
      "text/plain": [
       "  0%|          | 0/2 [00:00<?, ?it/s]"
      ]
     },
     "metadata": {},
     "output_type": "display_data"
    },
    {
     "name": "stdout",
     "output_type": "stream",
     "text": [
      "Epoch 126 Training Accuracy: tensor(0.9650)\n"
     ]
    },
    {
     "data": {
      "application/vnd.jupyter.widget-view+json": {
       "model_id": "6488045c99404643b5e5a33b79f30317",
       "version_major": 2,
       "version_minor": 0
      },
      "text/plain": [
       "  0%|          | 0/2 [00:00<?, ?it/s]"
      ]
     },
     "metadata": {},
     "output_type": "display_data"
    },
    {
     "name": "stdout",
     "output_type": "stream",
     "text": [
      "Epoch 127 Training Accuracy: tensor(0.9650)\n"
     ]
    },
    {
     "data": {
      "application/vnd.jupyter.widget-view+json": {
       "model_id": "c4e02c1ca5024f5e82916d0e5ec0fd36",
       "version_major": 2,
       "version_minor": 0
      },
      "text/plain": [
       "  0%|          | 0/2 [00:00<?, ?it/s]"
      ]
     },
     "metadata": {},
     "output_type": "display_data"
    },
    {
     "name": "stdout",
     "output_type": "stream",
     "text": [
      "Epoch 128 Training Accuracy: tensor(0.9800)\n"
     ]
    },
    {
     "data": {
      "application/vnd.jupyter.widget-view+json": {
       "model_id": "e95414b8e3914761a6486d01225da4bf",
       "version_major": 2,
       "version_minor": 0
      },
      "text/plain": [
       "  0%|          | 0/2 [00:00<?, ?it/s]"
      ]
     },
     "metadata": {},
     "output_type": "display_data"
    },
    {
     "name": "stdout",
     "output_type": "stream",
     "text": [
      "Epoch 129 Training Accuracy: tensor(0.9650)\n"
     ]
    },
    {
     "data": {
      "application/vnd.jupyter.widget-view+json": {
       "model_id": "90fcb67e44514a2288eab001957bdf6f",
       "version_major": 2,
       "version_minor": 0
      },
      "text/plain": [
       "  0%|          | 0/2 [00:00<?, ?it/s]"
      ]
     },
     "metadata": {},
     "output_type": "display_data"
    },
    {
     "name": "stdout",
     "output_type": "stream",
     "text": [
      "Epoch 130 Training Accuracy: tensor(0.9800)\n"
     ]
    },
    {
     "data": {
      "application/vnd.jupyter.widget-view+json": {
       "model_id": "b1b84d6a5ff64677a067f009a36aa388",
       "version_major": 2,
       "version_minor": 0
      },
      "text/plain": [
       "  0%|          | 0/2 [00:00<?, ?it/s]"
      ]
     },
     "metadata": {},
     "output_type": "display_data"
    },
    {
     "name": "stdout",
     "output_type": "stream",
     "text": [
      "Epoch 131 Training Accuracy: tensor(0.9900)\n"
     ]
    },
    {
     "data": {
      "application/vnd.jupyter.widget-view+json": {
       "model_id": "6de78822457547bfabb10824edf6378f",
       "version_major": 2,
       "version_minor": 0
      },
      "text/plain": [
       "  0%|          | 0/2 [00:00<?, ?it/s]"
      ]
     },
     "metadata": {},
     "output_type": "display_data"
    },
    {
     "name": "stdout",
     "output_type": "stream",
     "text": [
      "Epoch 132 Training Accuracy: tensor(0.9900)\n"
     ]
    },
    {
     "data": {
      "application/vnd.jupyter.widget-view+json": {
       "model_id": "aee1f9ddd8a44860929eb26e86c255b8",
       "version_major": 2,
       "version_minor": 0
      },
      "text/plain": [
       "  0%|          | 0/2 [00:00<?, ?it/s]"
      ]
     },
     "metadata": {},
     "output_type": "display_data"
    },
    {
     "name": "stdout",
     "output_type": "stream",
     "text": [
      "Epoch 133 Training Accuracy: tensor(0.9750)\n"
     ]
    },
    {
     "data": {
      "application/vnd.jupyter.widget-view+json": {
       "model_id": "0bc94be545b74cecacfcc7a83a593598",
       "version_major": 2,
       "version_minor": 0
      },
      "text/plain": [
       "  0%|          | 0/2 [00:00<?, ?it/s]"
      ]
     },
     "metadata": {},
     "output_type": "display_data"
    },
    {
     "name": "stdout",
     "output_type": "stream",
     "text": [
      "Epoch 134 Training Accuracy: tensor(0.9900)\n"
     ]
    },
    {
     "data": {
      "application/vnd.jupyter.widget-view+json": {
       "model_id": "f9c32bb611224ad2854e1eb5acd6fd87",
       "version_major": 2,
       "version_minor": 0
      },
      "text/plain": [
       "  0%|          | 0/2 [00:00<?, ?it/s]"
      ]
     },
     "metadata": {},
     "output_type": "display_data"
    },
    {
     "name": "stdout",
     "output_type": "stream",
     "text": [
      "Epoch 135 Training Accuracy: tensor(0.9900)\n"
     ]
    },
    {
     "data": {
      "application/vnd.jupyter.widget-view+json": {
       "model_id": "fd8b70728c8749289f69c6dec38e1d29",
       "version_major": 2,
       "version_minor": 0
      },
      "text/plain": [
       "  0%|          | 0/2 [00:00<?, ?it/s]"
      ]
     },
     "metadata": {},
     "output_type": "display_data"
    },
    {
     "name": "stdout",
     "output_type": "stream",
     "text": [
      "Epoch 136 Training Accuracy: tensor(0.9750)\n"
     ]
    },
    {
     "data": {
      "application/vnd.jupyter.widget-view+json": {
       "model_id": "7f532e7fb978416686955f317b17fc50",
       "version_major": 2,
       "version_minor": 0
      },
      "text/plain": [
       "  0%|          | 0/2 [00:00<?, ?it/s]"
      ]
     },
     "metadata": {},
     "output_type": "display_data"
    },
    {
     "name": "stdout",
     "output_type": "stream",
     "text": [
      "Epoch 137 Training Accuracy: tensor(0.9900)\n"
     ]
    },
    {
     "data": {
      "application/vnd.jupyter.widget-view+json": {
       "model_id": "88819ef1b94247889747fcc473063894",
       "version_major": 2,
       "version_minor": 0
      },
      "text/plain": [
       "  0%|          | 0/2 [00:00<?, ?it/s]"
      ]
     },
     "metadata": {},
     "output_type": "display_data"
    },
    {
     "name": "stdout",
     "output_type": "stream",
     "text": [
      "Epoch 138 Training Accuracy: tensor(0.9900)\n"
     ]
    },
    {
     "data": {
      "application/vnd.jupyter.widget-view+json": {
       "model_id": "f3618d870e7a4c8f92eabc7e08e376ba",
       "version_major": 2,
       "version_minor": 0
      },
      "text/plain": [
       "  0%|          | 0/2 [00:00<?, ?it/s]"
      ]
     },
     "metadata": {},
     "output_type": "display_data"
    },
    {
     "name": "stdout",
     "output_type": "stream",
     "text": [
      "Epoch 139 Training Accuracy: tensor(0.9900)\n"
     ]
    },
    {
     "data": {
      "application/vnd.jupyter.widget-view+json": {
       "model_id": "bb7040e7f1de4f3c81e0094f26c23bb6",
       "version_major": 2,
       "version_minor": 0
      },
      "text/plain": [
       "  0%|          | 0/2 [00:00<?, ?it/s]"
      ]
     },
     "metadata": {},
     "output_type": "display_data"
    },
    {
     "name": "stdout",
     "output_type": "stream",
     "text": [
      "Epoch 140 Training Accuracy: tensor(0.9650)\n"
     ]
    },
    {
     "data": {
      "application/vnd.jupyter.widget-view+json": {
       "model_id": "d61745c0acd545dea99be086088e0ec8",
       "version_major": 2,
       "version_minor": 0
      },
      "text/plain": [
       "  0%|          | 0/2 [00:00<?, ?it/s]"
      ]
     },
     "metadata": {},
     "output_type": "display_data"
    },
    {
     "name": "stdout",
     "output_type": "stream",
     "text": [
      "Epoch 141 Training Accuracy: tensor(0.9550)\n"
     ]
    },
    {
     "data": {
      "application/vnd.jupyter.widget-view+json": {
       "model_id": "dad44aa5c288482f974fcf3141394fd8",
       "version_major": 2,
       "version_minor": 0
      },
      "text/plain": [
       "  0%|          | 0/2 [00:00<?, ?it/s]"
      ]
     },
     "metadata": {},
     "output_type": "display_data"
    },
    {
     "name": "stdout",
     "output_type": "stream",
     "text": [
      "Epoch 142 Training Accuracy: tensor(0.9800)\n"
     ]
    },
    {
     "data": {
      "application/vnd.jupyter.widget-view+json": {
       "model_id": "8d832094c61a49f3aaa4325cfbf62a7d",
       "version_major": 2,
       "version_minor": 0
      },
      "text/plain": [
       "  0%|          | 0/2 [00:00<?, ?it/s]"
      ]
     },
     "metadata": {},
     "output_type": "display_data"
    },
    {
     "name": "stdout",
     "output_type": "stream",
     "text": [
      "Epoch 143 Training Accuracy: tensor(0.9800)\n"
     ]
    },
    {
     "data": {
      "application/vnd.jupyter.widget-view+json": {
       "model_id": "39337eddbb6f4b06b4f34225b39fec9d",
       "version_major": 2,
       "version_minor": 0
      },
      "text/plain": [
       "  0%|          | 0/2 [00:00<?, ?it/s]"
      ]
     },
     "metadata": {},
     "output_type": "display_data"
    },
    {
     "name": "stdout",
     "output_type": "stream",
     "text": [
      "Epoch 144 Training Accuracy: tensor(0.9800)\n"
     ]
    },
    {
     "data": {
      "application/vnd.jupyter.widget-view+json": {
       "model_id": "af0f2efd818b41b7af7e9c2b5421fd8b",
       "version_major": 2,
       "version_minor": 0
      },
      "text/plain": [
       "  0%|          | 0/2 [00:00<?, ?it/s]"
      ]
     },
     "metadata": {},
     "output_type": "display_data"
    },
    {
     "name": "stdout",
     "output_type": "stream",
     "text": [
      "Epoch 145 Training Accuracy: tensor(0.9650)\n"
     ]
    },
    {
     "data": {
      "application/vnd.jupyter.widget-view+json": {
       "model_id": "4bd045898ec74a7c99d28590f6bbf61b",
       "version_major": 2,
       "version_minor": 0
      },
      "text/plain": [
       "  0%|          | 0/2 [00:00<?, ?it/s]"
      ]
     },
     "metadata": {},
     "output_type": "display_data"
    },
    {
     "name": "stdout",
     "output_type": "stream",
     "text": [
      "Epoch 146 Training Accuracy: tensor(0.9650)\n"
     ]
    },
    {
     "data": {
      "application/vnd.jupyter.widget-view+json": {
       "model_id": "37b5437d7a304ef3815f94ea1970b395",
       "version_major": 2,
       "version_minor": 0
      },
      "text/plain": [
       "  0%|          | 0/2 [00:00<?, ?it/s]"
      ]
     },
     "metadata": {},
     "output_type": "display_data"
    },
    {
     "name": "stdout",
     "output_type": "stream",
     "text": [
      "Epoch 147 Training Accuracy: tensor(0.9400)\n"
     ]
    },
    {
     "data": {
      "application/vnd.jupyter.widget-view+json": {
       "model_id": "ceec574ebca848ee9a6b5a5339c52271",
       "version_major": 2,
       "version_minor": 0
      },
      "text/plain": [
       "  0%|          | 0/2 [00:00<?, ?it/s]"
      ]
     },
     "metadata": {},
     "output_type": "display_data"
    },
    {
     "name": "stdout",
     "output_type": "stream",
     "text": [
      "Epoch 148 Training Accuracy: tensor(0.9500)\n"
     ]
    },
    {
     "data": {
      "application/vnd.jupyter.widget-view+json": {
       "model_id": "1d83aeebfd5f4eea8d90838b5656606e",
       "version_major": 2,
       "version_minor": 0
      },
      "text/plain": [
       "  0%|          | 0/2 [00:00<?, ?it/s]"
      ]
     },
     "metadata": {},
     "output_type": "display_data"
    },
    {
     "name": "stdout",
     "output_type": "stream",
     "text": [
      "Epoch 149 Training Accuracy: tensor(0.9650)\n"
     ]
    },
    {
     "data": {
      "application/vnd.jupyter.widget-view+json": {
       "model_id": "7e95b2706bac46b3aabf8a72e8cf7056",
       "version_major": 2,
       "version_minor": 0
      },
      "text/plain": [
       "  0%|          | 0/2 [00:00<?, ?it/s]"
      ]
     },
     "metadata": {},
     "output_type": "display_data"
    },
    {
     "name": "stdout",
     "output_type": "stream",
     "text": [
      "Epoch 150 Training Accuracy: tensor(0.9800)\n"
     ]
    },
    {
     "data": {
      "application/vnd.jupyter.widget-view+json": {
       "model_id": "02bb5355389f4b79b06144c76d480266",
       "version_major": 2,
       "version_minor": 0
      },
      "text/plain": [
       "  0%|          | 0/2 [00:00<?, ?it/s]"
      ]
     },
     "metadata": {},
     "output_type": "display_data"
    },
    {
     "name": "stdout",
     "output_type": "stream",
     "text": [
      "Epoch 151 Training Accuracy: tensor(0.9650)\n"
     ]
    },
    {
     "data": {
      "application/vnd.jupyter.widget-view+json": {
       "model_id": "6072b0c5d0d3447aaf356d71b991e6c0",
       "version_major": 2,
       "version_minor": 0
      },
      "text/plain": [
       "  0%|          | 0/2 [00:00<?, ?it/s]"
      ]
     },
     "metadata": {},
     "output_type": "display_data"
    },
    {
     "name": "stdout",
     "output_type": "stream",
     "text": [
      "Epoch 152 Training Accuracy: tensor(0.9650)\n"
     ]
    },
    {
     "data": {
      "application/vnd.jupyter.widget-view+json": {
       "model_id": "095427cc4b3041bd9079afd6e552b7a8",
       "version_major": 2,
       "version_minor": 0
      },
      "text/plain": [
       "  0%|          | 0/2 [00:00<?, ?it/s]"
      ]
     },
     "metadata": {},
     "output_type": "display_data"
    },
    {
     "name": "stdout",
     "output_type": "stream",
     "text": [
      "Epoch 153 Training Accuracy: tensor(0.9800)\n"
     ]
    },
    {
     "data": {
      "application/vnd.jupyter.widget-view+json": {
       "model_id": "2947295797df44c3b400e3c5eb8d2a97",
       "version_major": 2,
       "version_minor": 0
      },
      "text/plain": [
       "  0%|          | 0/2 [00:00<?, ?it/s]"
      ]
     },
     "metadata": {},
     "output_type": "display_data"
    },
    {
     "name": "stdout",
     "output_type": "stream",
     "text": [
      "Epoch 154 Training Accuracy: tensor(0.9550)\n"
     ]
    },
    {
     "data": {
      "application/vnd.jupyter.widget-view+json": {
       "model_id": "af2b729227fa49ed9e291de61a02f44b",
       "version_major": 2,
       "version_minor": 0
      },
      "text/plain": [
       "  0%|          | 0/2 [00:00<?, ?it/s]"
      ]
     },
     "metadata": {},
     "output_type": "display_data"
    },
    {
     "name": "stdout",
     "output_type": "stream",
     "text": [
      "Epoch 155 Training Accuracy: tensor(0.9700)\n"
     ]
    },
    {
     "data": {
      "application/vnd.jupyter.widget-view+json": {
       "model_id": "bd4375cfc26146a1aee1209145f54512",
       "version_major": 2,
       "version_minor": 0
      },
      "text/plain": [
       "  0%|          | 0/2 [00:00<?, ?it/s]"
      ]
     },
     "metadata": {},
     "output_type": "display_data"
    },
    {
     "name": "stdout",
     "output_type": "stream",
     "text": [
      "Epoch 156 Training Accuracy: tensor(0.9550)\n"
     ]
    },
    {
     "data": {
      "application/vnd.jupyter.widget-view+json": {
       "model_id": "8ddb8c1a8478476ab7f8ceeb9d6a8016",
       "version_major": 2,
       "version_minor": 0
      },
      "text/plain": [
       "  0%|          | 0/2 [00:00<?, ?it/s]"
      ]
     },
     "metadata": {},
     "output_type": "display_data"
    },
    {
     "name": "stdout",
     "output_type": "stream",
     "text": [
      "Epoch 157 Training Accuracy: tensor(0.9700)\n"
     ]
    },
    {
     "data": {
      "application/vnd.jupyter.widget-view+json": {
       "model_id": "8f66b41df3bc477685c63a898f5df22e",
       "version_major": 2,
       "version_minor": 0
      },
      "text/plain": [
       "  0%|          | 0/2 [00:00<?, ?it/s]"
      ]
     },
     "metadata": {},
     "output_type": "display_data"
    },
    {
     "name": "stdout",
     "output_type": "stream",
     "text": [
      "Epoch 158 Training Accuracy: tensor(0.9550)\n"
     ]
    },
    {
     "data": {
      "application/vnd.jupyter.widget-view+json": {
       "model_id": "f1ac106c6ded45b7976dd2f2ea4e90f0",
       "version_major": 2,
       "version_minor": 0
      },
      "text/plain": [
       "  0%|          | 0/2 [00:00<?, ?it/s]"
      ]
     },
     "metadata": {},
     "output_type": "display_data"
    },
    {
     "name": "stdout",
     "output_type": "stream",
     "text": [
      "Epoch 159 Training Accuracy: tensor(0.9650)\n"
     ]
    },
    {
     "data": {
      "application/vnd.jupyter.widget-view+json": {
       "model_id": "dbdc623d0b084f42930cad35324defb4",
       "version_major": 2,
       "version_minor": 0
      },
      "text/plain": [
       "  0%|          | 0/2 [00:00<?, ?it/s]"
      ]
     },
     "metadata": {},
     "output_type": "display_data"
    },
    {
     "name": "stdout",
     "output_type": "stream",
     "text": [
      "Epoch 160 Training Accuracy: tensor(0.9650)\n"
     ]
    },
    {
     "data": {
      "application/vnd.jupyter.widget-view+json": {
       "model_id": "b6fce60dc6fc4cee8e5b77bb4fbdfb2a",
       "version_major": 2,
       "version_minor": 0
      },
      "text/plain": [
       "  0%|          | 0/2 [00:00<?, ?it/s]"
      ]
     },
     "metadata": {},
     "output_type": "display_data"
    },
    {
     "name": "stdout",
     "output_type": "stream",
     "text": [
      "Epoch 161 Training Accuracy: tensor(0.9900)\n"
     ]
    },
    {
     "data": {
      "application/vnd.jupyter.widget-view+json": {
       "model_id": "14d905acf796478fa81ee5ee599076c9",
       "version_major": 2,
       "version_minor": 0
      },
      "text/plain": [
       "  0%|          | 0/2 [00:00<?, ?it/s]"
      ]
     },
     "metadata": {},
     "output_type": "display_data"
    },
    {
     "name": "stdout",
     "output_type": "stream",
     "text": [
      "Epoch 162 Training Accuracy: tensor(0.9900)\n"
     ]
    },
    {
     "data": {
      "application/vnd.jupyter.widget-view+json": {
       "model_id": "37ee16e766b244f9a3a0733593edea58",
       "version_major": 2,
       "version_minor": 0
      },
      "text/plain": [
       "  0%|          | 0/2 [00:00<?, ?it/s]"
      ]
     },
     "metadata": {},
     "output_type": "display_data"
    },
    {
     "name": "stdout",
     "output_type": "stream",
     "text": [
      "Epoch 163 Training Accuracy: tensor(0.9750)\n"
     ]
    },
    {
     "data": {
      "application/vnd.jupyter.widget-view+json": {
       "model_id": "5af31f30403e46e893305e2cba0453fa",
       "version_major": 2,
       "version_minor": 0
      },
      "text/plain": [
       "  0%|          | 0/2 [00:00<?, ?it/s]"
      ]
     },
     "metadata": {},
     "output_type": "display_data"
    },
    {
     "name": "stdout",
     "output_type": "stream",
     "text": [
      "Epoch 164 Training Accuracy: tensor(0.9900)\n"
     ]
    },
    {
     "data": {
      "application/vnd.jupyter.widget-view+json": {
       "model_id": "af6e8d1b050c4efaa4d734791d7e1320",
       "version_major": 2,
       "version_minor": 0
      },
      "text/plain": [
       "  0%|          | 0/2 [00:00<?, ?it/s]"
      ]
     },
     "metadata": {},
     "output_type": "display_data"
    },
    {
     "name": "stdout",
     "output_type": "stream",
     "text": [
      "Epoch 165 Training Accuracy: tensor(0.9900)\n"
     ]
    },
    {
     "data": {
      "application/vnd.jupyter.widget-view+json": {
       "model_id": "11a3064348194058b040b8e6d5927b8e",
       "version_major": 2,
       "version_minor": 0
      },
      "text/plain": [
       "  0%|          | 0/2 [00:00<?, ?it/s]"
      ]
     },
     "metadata": {},
     "output_type": "display_data"
    },
    {
     "name": "stdout",
     "output_type": "stream",
     "text": [
      "Epoch 166 Training Accuracy: tensor(0.9900)\n"
     ]
    },
    {
     "data": {
      "application/vnd.jupyter.widget-view+json": {
       "model_id": "3cc5d7f6d5734c8885e7a9ce139152fa",
       "version_major": 2,
       "version_minor": 0
      },
      "text/plain": [
       "  0%|          | 0/2 [00:00<?, ?it/s]"
      ]
     },
     "metadata": {},
     "output_type": "display_data"
    },
    {
     "name": "stdout",
     "output_type": "stream",
     "text": [
      "Epoch 167 Training Accuracy: tensor(0.9500)\n"
     ]
    },
    {
     "data": {
      "application/vnd.jupyter.widget-view+json": {
       "model_id": "682e8f29424a45e08d93f065674f9604",
       "version_major": 2,
       "version_minor": 0
      },
      "text/plain": [
       "  0%|          | 0/2 [00:00<?, ?it/s]"
      ]
     },
     "metadata": {},
     "output_type": "display_data"
    },
    {
     "name": "stdout",
     "output_type": "stream",
     "text": [
      "Epoch 168 Training Accuracy: tensor(0.9650)\n"
     ]
    },
    {
     "data": {
      "application/vnd.jupyter.widget-view+json": {
       "model_id": "aa2e1daaf43740aebbf6be0580f82647",
       "version_major": 2,
       "version_minor": 0
      },
      "text/plain": [
       "  0%|          | 0/2 [00:00<?, ?it/s]"
      ]
     },
     "metadata": {},
     "output_type": "display_data"
    },
    {
     "name": "stdout",
     "output_type": "stream",
     "text": [
      "Epoch 169 Training Accuracy: tensor(0.9800)\n"
     ]
    },
    {
     "data": {
      "application/vnd.jupyter.widget-view+json": {
       "model_id": "2bd2fae8b3094264876994b16c50a577",
       "version_major": 2,
       "version_minor": 0
      },
      "text/plain": [
       "  0%|          | 0/2 [00:00<?, ?it/s]"
      ]
     },
     "metadata": {},
     "output_type": "display_data"
    },
    {
     "name": "stdout",
     "output_type": "stream",
     "text": [
      "Epoch 170 Training Accuracy: tensor(0.9700)\n"
     ]
    },
    {
     "data": {
      "application/vnd.jupyter.widget-view+json": {
       "model_id": "b2b2ec5ad7b747248a8984d7807d3c60",
       "version_major": 2,
       "version_minor": 0
      },
      "text/plain": [
       "  0%|          | 0/2 [00:00<?, ?it/s]"
      ]
     },
     "metadata": {},
     "output_type": "display_data"
    },
    {
     "name": "stdout",
     "output_type": "stream",
     "text": [
      "Epoch 171 Training Accuracy: tensor(0.9700)\n"
     ]
    },
    {
     "data": {
      "application/vnd.jupyter.widget-view+json": {
       "model_id": "160f0b54604341a6b7cbfef0c81a9aea",
       "version_major": 2,
       "version_minor": 0
      },
      "text/plain": [
       "  0%|          | 0/2 [00:00<?, ?it/s]"
      ]
     },
     "metadata": {},
     "output_type": "display_data"
    },
    {
     "name": "stdout",
     "output_type": "stream",
     "text": [
      "Epoch 172 Training Accuracy: tensor(0.9400)\n"
     ]
    },
    {
     "data": {
      "application/vnd.jupyter.widget-view+json": {
       "model_id": "d68d1e4208c6464fbbd73d5b919cff2a",
       "version_major": 2,
       "version_minor": 0
      },
      "text/plain": [
       "  0%|          | 0/2 [00:00<?, ?it/s]"
      ]
     },
     "metadata": {},
     "output_type": "display_data"
    },
    {
     "name": "stdout",
     "output_type": "stream",
     "text": [
      "Epoch 173 Training Accuracy: tensor(0.9550)\n"
     ]
    },
    {
     "data": {
      "application/vnd.jupyter.widget-view+json": {
       "model_id": "329e585670d243999ffcc67cb9cde58a",
       "version_major": 2,
       "version_minor": 0
      },
      "text/plain": [
       "  0%|          | 0/2 [00:00<?, ?it/s]"
      ]
     },
     "metadata": {},
     "output_type": "display_data"
    },
    {
     "name": "stdout",
     "output_type": "stream",
     "text": [
      "Epoch 174 Training Accuracy: tensor(0.9550)\n"
     ]
    },
    {
     "data": {
      "application/vnd.jupyter.widget-view+json": {
       "model_id": "b047294534f349a1bc80294910e9a2d9",
       "version_major": 2,
       "version_minor": 0
      },
      "text/plain": [
       "  0%|          | 0/2 [00:00<?, ?it/s]"
      ]
     },
     "metadata": {},
     "output_type": "display_data"
    },
    {
     "name": "stdout",
     "output_type": "stream",
     "text": [
      "Epoch 175 Training Accuracy: tensor(0.9550)\n"
     ]
    },
    {
     "data": {
      "application/vnd.jupyter.widget-view+json": {
       "model_id": "2806c91f8a6d4db7a84bc78e075d88ab",
       "version_major": 2,
       "version_minor": 0
      },
      "text/plain": [
       "  0%|          | 0/2 [00:00<?, ?it/s]"
      ]
     },
     "metadata": {},
     "output_type": "display_data"
    },
    {
     "name": "stdout",
     "output_type": "stream",
     "text": [
      "Epoch 176 Training Accuracy: tensor(0.9400)\n"
     ]
    },
    {
     "data": {
      "application/vnd.jupyter.widget-view+json": {
       "model_id": "8ffa3029ff314bdebb34dae99c1ab518",
       "version_major": 2,
       "version_minor": 0
      },
      "text/plain": [
       "  0%|          | 0/2 [00:00<?, ?it/s]"
      ]
     },
     "metadata": {},
     "output_type": "display_data"
    },
    {
     "name": "stdout",
     "output_type": "stream",
     "text": [
      "Epoch 177 Training Accuracy: tensor(0.9800)\n"
     ]
    },
    {
     "data": {
      "application/vnd.jupyter.widget-view+json": {
       "model_id": "7a7d3d940c804445b56d0b7bbc40232b",
       "version_major": 2,
       "version_minor": 0
      },
      "text/plain": [
       "  0%|          | 0/2 [00:00<?, ?it/s]"
      ]
     },
     "metadata": {},
     "output_type": "display_data"
    },
    {
     "name": "stdout",
     "output_type": "stream",
     "text": [
      "Epoch 178 Training Accuracy: tensor(0.9650)\n"
     ]
    },
    {
     "data": {
      "application/vnd.jupyter.widget-view+json": {
       "model_id": "0442e1fd54db460dbe84d48e2dbe1f2e",
       "version_major": 2,
       "version_minor": 0
      },
      "text/plain": [
       "  0%|          | 0/2 [00:00<?, ?it/s]"
      ]
     },
     "metadata": {},
     "output_type": "display_data"
    },
    {
     "name": "stdout",
     "output_type": "stream",
     "text": [
      "Epoch 179 Training Accuracy: tensor(0.9800)\n"
     ]
    },
    {
     "data": {
      "application/vnd.jupyter.widget-view+json": {
       "model_id": "1e1d3f8b357f4ef0bbe22daa7c120e99",
       "version_major": 2,
       "version_minor": 0
      },
      "text/plain": [
       "  0%|          | 0/2 [00:00<?, ?it/s]"
      ]
     },
     "metadata": {},
     "output_type": "display_data"
    },
    {
     "name": "stdout",
     "output_type": "stream",
     "text": [
      "Epoch 180 Training Accuracy: tensor(0.9650)\n"
     ]
    },
    {
     "data": {
      "application/vnd.jupyter.widget-view+json": {
       "model_id": "89cba2b6c12a4fedb959ae6ef1175879",
       "version_major": 2,
       "version_minor": 0
      },
      "text/plain": [
       "  0%|          | 0/2 [00:00<?, ?it/s]"
      ]
     },
     "metadata": {},
     "output_type": "display_data"
    },
    {
     "name": "stdout",
     "output_type": "stream",
     "text": [
      "Epoch 181 Training Accuracy: tensor(0.9650)\n"
     ]
    },
    {
     "data": {
      "application/vnd.jupyter.widget-view+json": {
       "model_id": "6e60c474311c4cfea6de1af25a4f021f",
       "version_major": 2,
       "version_minor": 0
      },
      "text/plain": [
       "  0%|          | 0/2 [00:00<?, ?it/s]"
      ]
     },
     "metadata": {},
     "output_type": "display_data"
    },
    {
     "name": "stdout",
     "output_type": "stream",
     "text": [
      "Epoch 182 Training Accuracy: tensor(0.9550)\n"
     ]
    },
    {
     "data": {
      "application/vnd.jupyter.widget-view+json": {
       "model_id": "b222304893cf4fe38b6a46ddfc20e81e",
       "version_major": 2,
       "version_minor": 0
      },
      "text/plain": [
       "  0%|          | 0/2 [00:00<?, ?it/s]"
      ]
     },
     "metadata": {},
     "output_type": "display_data"
    },
    {
     "name": "stdout",
     "output_type": "stream",
     "text": [
      "Epoch 183 Training Accuracy: tensor(0.9700)\n"
     ]
    },
    {
     "data": {
      "application/vnd.jupyter.widget-view+json": {
       "model_id": "77ccdd315e324d2ab6a29a97c54e68ad",
       "version_major": 2,
       "version_minor": 0
      },
      "text/plain": [
       "  0%|          | 0/2 [00:00<?, ?it/s]"
      ]
     },
     "metadata": {},
     "output_type": "display_data"
    },
    {
     "name": "stdout",
     "output_type": "stream",
     "text": [
      "Epoch 184 Training Accuracy: tensor(0.9650)\n"
     ]
    },
    {
     "data": {
      "application/vnd.jupyter.widget-view+json": {
       "model_id": "e03409c0a3494467a669d9568f4ffde6",
       "version_major": 2,
       "version_minor": 0
      },
      "text/plain": [
       "  0%|          | 0/2 [00:00<?, ?it/s]"
      ]
     },
     "metadata": {},
     "output_type": "display_data"
    },
    {
     "name": "stdout",
     "output_type": "stream",
     "text": [
      "Epoch 185 Training Accuracy: tensor(0.9600)\n"
     ]
    },
    {
     "data": {
      "application/vnd.jupyter.widget-view+json": {
       "model_id": "e35ddf3d0273443ab8e077e3fbcb3393",
       "version_major": 2,
       "version_minor": 0
      },
      "text/plain": [
       "  0%|          | 0/2 [00:00<?, ?it/s]"
      ]
     },
     "metadata": {},
     "output_type": "display_data"
    },
    {
     "name": "stdout",
     "output_type": "stream",
     "text": [
      "Epoch 186 Training Accuracy: tensor(0.9100)\n"
     ]
    },
    {
     "data": {
      "application/vnd.jupyter.widget-view+json": {
       "model_id": "1f881231645f4747900e9c9b66647aa8",
       "version_major": 2,
       "version_minor": 0
      },
      "text/plain": [
       "  0%|          | 0/2 [00:00<?, ?it/s]"
      ]
     },
     "metadata": {},
     "output_type": "display_data"
    },
    {
     "name": "stdout",
     "output_type": "stream",
     "text": [
      "Epoch 187 Training Accuracy: tensor(0.9100)\n"
     ]
    },
    {
     "data": {
      "application/vnd.jupyter.widget-view+json": {
       "model_id": "b31375362a8b4a5cbee5b55fb6db16a1",
       "version_major": 2,
       "version_minor": 0
      },
      "text/plain": [
       "  0%|          | 0/2 [00:00<?, ?it/s]"
      ]
     },
     "metadata": {},
     "output_type": "display_data"
    },
    {
     "name": "stdout",
     "output_type": "stream",
     "text": [
      "Epoch 188 Training Accuracy: tensor(0.9250)\n"
     ]
    },
    {
     "data": {
      "application/vnd.jupyter.widget-view+json": {
       "model_id": "09fb5a6fac984e37a6c3ac70cd4bdf46",
       "version_major": 2,
       "version_minor": 0
      },
      "text/plain": [
       "  0%|          | 0/2 [00:00<?, ?it/s]"
      ]
     },
     "metadata": {},
     "output_type": "display_data"
    },
    {
     "name": "stdout",
     "output_type": "stream",
     "text": [
      "Epoch 189 Training Accuracy: tensor(0.9100)\n"
     ]
    },
    {
     "data": {
      "application/vnd.jupyter.widget-view+json": {
       "model_id": "0ef5de7f57fe4bafa48a8caccc6b8cdd",
       "version_major": 2,
       "version_minor": 0
      },
      "text/plain": [
       "  0%|          | 0/2 [00:00<?, ?it/s]"
      ]
     },
     "metadata": {},
     "output_type": "display_data"
    },
    {
     "name": "stdout",
     "output_type": "stream",
     "text": [
      "Epoch 190 Training Accuracy: tensor(0.9600)\n"
     ]
    },
    {
     "data": {
      "application/vnd.jupyter.widget-view+json": {
       "model_id": "49a7855442a7465fa5bb94bb8f7e8f68",
       "version_major": 2,
       "version_minor": 0
      },
      "text/plain": [
       "  0%|          | 0/2 [00:00<?, ?it/s]"
      ]
     },
     "metadata": {},
     "output_type": "display_data"
    },
    {
     "name": "stdout",
     "output_type": "stream",
     "text": [
      "Epoch 191 Training Accuracy: tensor(0.9600)\n"
     ]
    },
    {
     "data": {
      "application/vnd.jupyter.widget-view+json": {
       "model_id": "6783a35999ad440eba341271f9d39dd8",
       "version_major": 2,
       "version_minor": 0
      },
      "text/plain": [
       "  0%|          | 0/2 [00:00<?, ?it/s]"
      ]
     },
     "metadata": {},
     "output_type": "display_data"
    },
    {
     "name": "stdout",
     "output_type": "stream",
     "text": [
      "Epoch 192 Training Accuracy: tensor(0.9700)\n"
     ]
    },
    {
     "data": {
      "application/vnd.jupyter.widget-view+json": {
       "model_id": "968a25e4c25a4c2ebd63c9611f1cfa1e",
       "version_major": 2,
       "version_minor": 0
      },
      "text/plain": [
       "  0%|          | 0/2 [00:00<?, ?it/s]"
      ]
     },
     "metadata": {},
     "output_type": "display_data"
    },
    {
     "name": "stdout",
     "output_type": "stream",
     "text": [
      "Epoch 193 Training Accuracy: tensor(0.9700)\n"
     ]
    },
    {
     "data": {
      "application/vnd.jupyter.widget-view+json": {
       "model_id": "dd2bf78718e740b2a9ded70dac29e901",
       "version_major": 2,
       "version_minor": 0
      },
      "text/plain": [
       "  0%|          | 0/2 [00:00<?, ?it/s]"
      ]
     },
     "metadata": {},
     "output_type": "display_data"
    },
    {
     "name": "stdout",
     "output_type": "stream",
     "text": [
      "Epoch 194 Training Accuracy: tensor(0.9550)\n"
     ]
    },
    {
     "data": {
      "application/vnd.jupyter.widget-view+json": {
       "model_id": "e10f97a31b2f48d398c7f1db32065265",
       "version_major": 2,
       "version_minor": 0
      },
      "text/plain": [
       "  0%|          | 0/2 [00:00<?, ?it/s]"
      ]
     },
     "metadata": {},
     "output_type": "display_data"
    },
    {
     "name": "stdout",
     "output_type": "stream",
     "text": [
      "Epoch 195 Training Accuracy: tensor(0.9650)\n"
     ]
    },
    {
     "data": {
      "application/vnd.jupyter.widget-view+json": {
       "model_id": "c3558ced2d114876a8d2d777b719188e",
       "version_major": 2,
       "version_minor": 0
      },
      "text/plain": [
       "  0%|          | 0/2 [00:00<?, ?it/s]"
      ]
     },
     "metadata": {},
     "output_type": "display_data"
    },
    {
     "name": "stdout",
     "output_type": "stream",
     "text": [
      "Epoch 196 Training Accuracy: tensor(0.9650)\n"
     ]
    },
    {
     "data": {
      "application/vnd.jupyter.widget-view+json": {
       "model_id": "b83381a211c74b56ad41f181a08fba53",
       "version_major": 2,
       "version_minor": 0
      },
      "text/plain": [
       "  0%|          | 0/2 [00:00<?, ?it/s]"
      ]
     },
     "metadata": {},
     "output_type": "display_data"
    },
    {
     "name": "stdout",
     "output_type": "stream",
     "text": [
      "Epoch 197 Training Accuracy: tensor(0.9800)\n"
     ]
    },
    {
     "data": {
      "application/vnd.jupyter.widget-view+json": {
       "model_id": "031c56549cac47dcbee20a7842dc2aed",
       "version_major": 2,
       "version_minor": 0
      },
      "text/plain": [
       "  0%|          | 0/2 [00:00<?, ?it/s]"
      ]
     },
     "metadata": {},
     "output_type": "display_data"
    },
    {
     "name": "stdout",
     "output_type": "stream",
     "text": [
      "Epoch 198 Training Accuracy: tensor(0.9400)\n"
     ]
    },
    {
     "data": {
      "application/vnd.jupyter.widget-view+json": {
       "model_id": "e2bf1375804148c2890eb81b36d39680",
       "version_major": 2,
       "version_minor": 0
      },
      "text/plain": [
       "  0%|          | 0/2 [00:00<?, ?it/s]"
      ]
     },
     "metadata": {},
     "output_type": "display_data"
    },
    {
     "name": "stdout",
     "output_type": "stream",
     "text": [
      "Epoch 199 Training Accuracy: tensor(0.9700)\n"
     ]
    },
    {
     "data": {
      "application/vnd.jupyter.widget-view+json": {
       "model_id": "50a23abda37242adaefe986ffaa1849f",
       "version_major": 2,
       "version_minor": 0
      },
      "text/plain": [
       "  0%|          | 0/1 [00:00<?, ?it/s]"
      ]
     },
     "metadata": {},
     "output_type": "display_data"
    },
    {
     "data": {
      "application/vnd.jupyter.widget-view+json": {
       "model_id": "a150103e7d984e638b531fa87984ff4c",
       "version_major": 2,
       "version_minor": 0
      },
      "text/plain": [
       "  0%|          | 0/2 [00:00<?, ?it/s]"
      ]
     },
     "metadata": {},
     "output_type": "display_data"
    },
    {
     "name": "stdout",
     "output_type": "stream",
     "text": [
      "mc accuracy test: 0.03333333507180214\n",
      "mc accuracy train: 0.02857142873108387\n"
     ]
    },
    {
     "data": {
      "text/plain": [
       "['mc_train_labels.joblib']"
      ]
     },
     "execution_count": 94,
     "metadata": {},
     "output_type": "execute_result"
    }
   ],
   "source": [
    "# mc training\n",
    "qrnn_mc_model = qrnn(MAX_SEQ_LEN,1,2,1)\n",
    "mc_qrnn_trained, mc_train_loss = model_trainer(qrnn_mc_model, NUM_EPOCHS, mc_trainloader)\n",
    "torch.save(mc_qrnn_trained, \"mc_qrnn.pt\")\n",
    "dump(mc_train_loss, \"mc_train_loss.joblib\")\n",
    "\n",
    "# loss_plotter(mc_train_loss, NUM_EPOCHS, save=True, save_name=\"mc_data\")\n",
    "\n",
    "\n",
    "# mc testing\n",
    "mc_preds, mc_acc, mc_labels = model_tester(mc_qrnn_trained, mc_testloader)\n",
    "mc_train_preds, mc_train_acc, mc_train_labels = model_tester(mc_qrnn_trained, mc_trainloader)\n",
    "\n",
    "print(f\"mc accuracy test: {mc_acc}\")\n",
    "print(f\"mc accuracy train: {mc_train_acc}\")\n",
    "\n",
    "dump(mc_preds, \"mc_preds.joblib\")\n",
    "dump(mc_labels, \"mc_labels.joblib\")\n",
    "dump(mc_train_preds, \"mc_train_preds.joblib\")\n",
    "dump(mc_train_labels, \"mc_train_labels.joblib\")"
   ]
  },
  {
   "cell_type": "code",
   "execution_count": 95,
   "metadata": {
    "scrolled": true,
    "tags": []
   },
   "outputs": [
    {
     "data": {
      "application/vnd.jupyter.widget-view+json": {
       "model_id": "73f0d6b17b9545caa96d4b908962ea5c",
       "version_major": 2,
       "version_minor": 0
      },
      "text/plain": [
       "  0%|          | 0/2 [00:00<?, ?it/s]"
      ]
     },
     "metadata": {},
     "output_type": "display_data"
    },
    {
     "data": {
      "application/vnd.jupyter.widget-view+json": {
       "model_id": "29dc93caeb284c4d8d7367167127dd9f",
       "version_major": 2,
       "version_minor": 0
      },
      "text/plain": [
       "  0%|          | 0/2 [00:00<?, ?it/s]"
      ]
     },
     "metadata": {},
     "output_type": "display_data"
    },
    {
     "name": "stdout",
     "output_type": "stream",
     "text": [
      "Epoch 0 Training Accuracy: tensor(0.6425)\n"
     ]
    },
    {
     "data": {
      "application/vnd.jupyter.widget-view+json": {
       "model_id": "e8dd5583e76444e2bdf5bac3e4a31881",
       "version_major": 2,
       "version_minor": 0
      },
      "text/plain": [
       "  0%|          | 0/2 [00:00<?, ?it/s]"
      ]
     },
     "metadata": {},
     "output_type": "display_data"
    },
    {
     "name": "stdout",
     "output_type": "stream",
     "text": [
      "Epoch 1 Training Accuracy: tensor(0.6758)\n"
     ]
    },
    {
     "data": {
      "application/vnd.jupyter.widget-view+json": {
       "model_id": "cde6216608c54e6c95a4d45197cdacd6",
       "version_major": 2,
       "version_minor": 0
      },
      "text/plain": [
       "  0%|          | 0/2 [00:00<?, ?it/s]"
      ]
     },
     "metadata": {},
     "output_type": "display_data"
    },
    {
     "name": "stdout",
     "output_type": "stream",
     "text": [
      "Epoch 2 Training Accuracy: tensor(0.6342)\n"
     ]
    },
    {
     "data": {
      "application/vnd.jupyter.widget-view+json": {
       "model_id": "7918dd236ccf462aa84a9bcbf15b2949",
       "version_major": 2,
       "version_minor": 0
      },
      "text/plain": [
       "  0%|          | 0/2 [00:00<?, ?it/s]"
      ]
     },
     "metadata": {},
     "output_type": "display_data"
    },
    {
     "name": "stdout",
     "output_type": "stream",
     "text": [
      "Epoch 3 Training Accuracy: tensor(0.6117)\n"
     ]
    },
    {
     "data": {
      "application/vnd.jupyter.widget-view+json": {
       "model_id": "4051e577a3b245deb10d531437d8c186",
       "version_major": 2,
       "version_minor": 0
      },
      "text/plain": [
       "  0%|          | 0/2 [00:00<?, ?it/s]"
      ]
     },
     "metadata": {},
     "output_type": "display_data"
    },
    {
     "name": "stdout",
     "output_type": "stream",
     "text": [
      "Epoch 4 Training Accuracy: tensor(0.6225)\n"
     ]
    },
    {
     "data": {
      "application/vnd.jupyter.widget-view+json": {
       "model_id": "0264d7c7370847beacadff311ed606fb",
       "version_major": 2,
       "version_minor": 0
      },
      "text/plain": [
       "  0%|          | 0/2 [00:00<?, ?it/s]"
      ]
     },
     "metadata": {},
     "output_type": "display_data"
    },
    {
     "name": "stdout",
     "output_type": "stream",
     "text": [
      "Epoch 5 Training Accuracy: tensor(0.5792)\n"
     ]
    },
    {
     "data": {
      "application/vnd.jupyter.widget-view+json": {
       "model_id": "743d57ed02724fa9ac962c95e2230bb7",
       "version_major": 2,
       "version_minor": 0
      },
      "text/plain": [
       "  0%|          | 0/2 [00:00<?, ?it/s]"
      ]
     },
     "metadata": {},
     "output_type": "display_data"
    },
    {
     "name": "stdout",
     "output_type": "stream",
     "text": [
      "Epoch 6 Training Accuracy: tensor(0.6225)\n"
     ]
    },
    {
     "data": {
      "application/vnd.jupyter.widget-view+json": {
       "model_id": "721bc19ba92a4ad49a013c53dd573784",
       "version_major": 2,
       "version_minor": 0
      },
      "text/plain": [
       "  0%|          | 0/2 [00:00<?, ?it/s]"
      ]
     },
     "metadata": {},
     "output_type": "display_data"
    },
    {
     "name": "stdout",
     "output_type": "stream",
     "text": [
      "Epoch 7 Training Accuracy: tensor(0.6117)\n"
     ]
    },
    {
     "data": {
      "application/vnd.jupyter.widget-view+json": {
       "model_id": "41a9731a53094163b716f31b85d9b1d8",
       "version_major": 2,
       "version_minor": 0
      },
      "text/plain": [
       "  0%|          | 0/2 [00:00<?, ?it/s]"
      ]
     },
     "metadata": {},
     "output_type": "display_data"
    },
    {
     "name": "stdout",
     "output_type": "stream",
     "text": [
      "Epoch 8 Training Accuracy: tensor(0.6008)\n"
     ]
    },
    {
     "data": {
      "application/vnd.jupyter.widget-view+json": {
       "model_id": "623b87372d924559b5f516b509090915",
       "version_major": 2,
       "version_minor": 0
      },
      "text/plain": [
       "  0%|          | 0/2 [00:00<?, ?it/s]"
      ]
     },
     "metadata": {},
     "output_type": "display_data"
    },
    {
     "name": "stdout",
     "output_type": "stream",
     "text": [
      "Epoch 9 Training Accuracy: tensor(0.6225)\n"
     ]
    },
    {
     "data": {
      "application/vnd.jupyter.widget-view+json": {
       "model_id": "060fcc2015e4457b97082dbd60c44525",
       "version_major": 2,
       "version_minor": 0
      },
      "text/plain": [
       "  0%|          | 0/2 [00:00<?, ?it/s]"
      ]
     },
     "metadata": {},
     "output_type": "display_data"
    },
    {
     "name": "stdout",
     "output_type": "stream",
     "text": [
      "Epoch 10 Training Accuracy: tensor(0.6225)\n"
     ]
    },
    {
     "data": {
      "application/vnd.jupyter.widget-view+json": {
       "model_id": "d151f6f5fd2e4c85aefc5735f7ab3fc9",
       "version_major": 2,
       "version_minor": 0
      },
      "text/plain": [
       "  0%|          | 0/2 [00:00<?, ?it/s]"
      ]
     },
     "metadata": {},
     "output_type": "display_data"
    },
    {
     "name": "stdout",
     "output_type": "stream",
     "text": [
      "Epoch 11 Training Accuracy: tensor(0.6333)\n"
     ]
    },
    {
     "data": {
      "application/vnd.jupyter.widget-view+json": {
       "model_id": "e22a2412db074507a77d036c5d8955ef",
       "version_major": 2,
       "version_minor": 0
      },
      "text/plain": [
       "  0%|          | 0/2 [00:00<?, ?it/s]"
      ]
     },
     "metadata": {},
     "output_type": "display_data"
    },
    {
     "name": "stdout",
     "output_type": "stream",
     "text": [
      "Epoch 12 Training Accuracy: tensor(0.6117)\n"
     ]
    },
    {
     "data": {
      "application/vnd.jupyter.widget-view+json": {
       "model_id": "5338163fab5c4579aed98d855536b4bf",
       "version_major": 2,
       "version_minor": 0
      },
      "text/plain": [
       "  0%|          | 0/2 [00:00<?, ?it/s]"
      ]
     },
     "metadata": {},
     "output_type": "display_data"
    },
    {
     "name": "stdout",
     "output_type": "stream",
     "text": [
      "Epoch 13 Training Accuracy: tensor(0.6008)\n"
     ]
    },
    {
     "data": {
      "application/vnd.jupyter.widget-view+json": {
       "model_id": "d9eff428df7c40d6b0e57643cf2dca86",
       "version_major": 2,
       "version_minor": 0
      },
      "text/plain": [
       "  0%|          | 0/2 [00:00<?, ?it/s]"
      ]
     },
     "metadata": {},
     "output_type": "display_data"
    },
    {
     "name": "stdout",
     "output_type": "stream",
     "text": [
      "Epoch 14 Training Accuracy: tensor(0.6008)\n"
     ]
    },
    {
     "data": {
      "application/vnd.jupyter.widget-view+json": {
       "model_id": "c2d79951eeb54583b3046db00bf2a8e4",
       "version_major": 2,
       "version_minor": 0
      },
      "text/plain": [
       "  0%|          | 0/2 [00:00<?, ?it/s]"
      ]
     },
     "metadata": {},
     "output_type": "display_data"
    },
    {
     "name": "stdout",
     "output_type": "stream",
     "text": [
      "Epoch 15 Training Accuracy: tensor(0.6225)\n"
     ]
    },
    {
     "data": {
      "application/vnd.jupyter.widget-view+json": {
       "model_id": "5523803a00304d7286d70f0e36ba8514",
       "version_major": 2,
       "version_minor": 0
      },
      "text/plain": [
       "  0%|          | 0/2 [00:00<?, ?it/s]"
      ]
     },
     "metadata": {},
     "output_type": "display_data"
    },
    {
     "name": "stdout",
     "output_type": "stream",
     "text": [
      "Epoch 16 Training Accuracy: tensor(0.6333)\n"
     ]
    },
    {
     "data": {
      "application/vnd.jupyter.widget-view+json": {
       "model_id": "66abc8704c7c4afeadada5542f3342e3",
       "version_major": 2,
       "version_minor": 0
      },
      "text/plain": [
       "  0%|          | 0/2 [00:00<?, ?it/s]"
      ]
     },
     "metadata": {},
     "output_type": "display_data"
    },
    {
     "name": "stdout",
     "output_type": "stream",
     "text": [
      "Epoch 17 Training Accuracy: tensor(0.6550)\n"
     ]
    },
    {
     "data": {
      "application/vnd.jupyter.widget-view+json": {
       "model_id": "7303b2080bd7475cb0268c02e7a1407c",
       "version_major": 2,
       "version_minor": 0
      },
      "text/plain": [
       "  0%|          | 0/2 [00:00<?, ?it/s]"
      ]
     },
     "metadata": {},
     "output_type": "display_data"
    },
    {
     "name": "stdout",
     "output_type": "stream",
     "text": [
      "Epoch 18 Training Accuracy: tensor(0.5900)\n"
     ]
    },
    {
     "data": {
      "application/vnd.jupyter.widget-view+json": {
       "model_id": "b7afd6f49a554014a25e3e8e841cd090",
       "version_major": 2,
       "version_minor": 0
      },
      "text/plain": [
       "  0%|          | 0/2 [00:00<?, ?it/s]"
      ]
     },
     "metadata": {},
     "output_type": "display_data"
    },
    {
     "name": "stdout",
     "output_type": "stream",
     "text": [
      "Epoch 19 Training Accuracy: tensor(0.6008)\n"
     ]
    },
    {
     "data": {
      "application/vnd.jupyter.widget-view+json": {
       "model_id": "3cd7d5bdec854162887f2d566dec7497",
       "version_major": 2,
       "version_minor": 0
      },
      "text/plain": [
       "  0%|          | 0/2 [00:00<?, ?it/s]"
      ]
     },
     "metadata": {},
     "output_type": "display_data"
    },
    {
     "name": "stdout",
     "output_type": "stream",
     "text": [
      "Epoch 20 Training Accuracy: tensor(0.6225)\n"
     ]
    },
    {
     "data": {
      "application/vnd.jupyter.widget-view+json": {
       "model_id": "d90e287e3ec141c1adc536d14060f092",
       "version_major": 2,
       "version_minor": 0
      },
      "text/plain": [
       "  0%|          | 0/2 [00:00<?, ?it/s]"
      ]
     },
     "metadata": {},
     "output_type": "display_data"
    },
    {
     "name": "stdout",
     "output_type": "stream",
     "text": [
      "Epoch 21 Training Accuracy: tensor(0.6333)\n"
     ]
    },
    {
     "data": {
      "application/vnd.jupyter.widget-view+json": {
       "model_id": "30669b1435614cbc9bedbd6a281f49db",
       "version_major": 2,
       "version_minor": 0
      },
      "text/plain": [
       "  0%|          | 0/2 [00:00<?, ?it/s]"
      ]
     },
     "metadata": {},
     "output_type": "display_data"
    },
    {
     "name": "stdout",
     "output_type": "stream",
     "text": [
      "Epoch 22 Training Accuracy: tensor(0.6442)\n"
     ]
    },
    {
     "data": {
      "application/vnd.jupyter.widget-view+json": {
       "model_id": "3916b1a9ce4749f6bae05cfcf1d4f936",
       "version_major": 2,
       "version_minor": 0
      },
      "text/plain": [
       "  0%|          | 0/2 [00:00<?, ?it/s]"
      ]
     },
     "metadata": {},
     "output_type": "display_data"
    },
    {
     "name": "stdout",
     "output_type": "stream",
     "text": [
      "Epoch 23 Training Accuracy: tensor(0.6333)\n"
     ]
    },
    {
     "data": {
      "application/vnd.jupyter.widget-view+json": {
       "model_id": "3b7400b9f8844f99b09e4f0563254d41",
       "version_major": 2,
       "version_minor": 0
      },
      "text/plain": [
       "  0%|          | 0/2 [00:00<?, ?it/s]"
      ]
     },
     "metadata": {},
     "output_type": "display_data"
    },
    {
     "name": "stdout",
     "output_type": "stream",
     "text": [
      "Epoch 24 Training Accuracy: tensor(0.6108)\n"
     ]
    },
    {
     "data": {
      "application/vnd.jupyter.widget-view+json": {
       "model_id": "b0427281aba14fb79ff7b5b2e1310074",
       "version_major": 2,
       "version_minor": 0
      },
      "text/plain": [
       "  0%|          | 0/2 [00:00<?, ?it/s]"
      ]
     },
     "metadata": {},
     "output_type": "display_data"
    },
    {
     "name": "stdout",
     "output_type": "stream",
     "text": [
      "Epoch 25 Training Accuracy: tensor(0.6325)\n"
     ]
    },
    {
     "data": {
      "application/vnd.jupyter.widget-view+json": {
       "model_id": "64e9220e427044fc8fdd1771a1f5317d",
       "version_major": 2,
       "version_minor": 0
      },
      "text/plain": [
       "  0%|          | 0/2 [00:00<?, ?it/s]"
      ]
     },
     "metadata": {},
     "output_type": "display_data"
    },
    {
     "name": "stdout",
     "output_type": "stream",
     "text": [
      "Epoch 26 Training Accuracy: tensor(0.6442)\n"
     ]
    },
    {
     "data": {
      "application/vnd.jupyter.widget-view+json": {
       "model_id": "88a6006c7442444f943f09898cbb77d0",
       "version_major": 2,
       "version_minor": 0
      },
      "text/plain": [
       "  0%|          | 0/2 [00:00<?, ?it/s]"
      ]
     },
     "metadata": {},
     "output_type": "display_data"
    },
    {
     "name": "stdout",
     "output_type": "stream",
     "text": [
      "Epoch 27 Training Accuracy: tensor(0.6442)\n"
     ]
    },
    {
     "data": {
      "application/vnd.jupyter.widget-view+json": {
       "model_id": "a79aef07f6154794b274a7002bf04298",
       "version_major": 2,
       "version_minor": 0
      },
      "text/plain": [
       "  0%|          | 0/2 [00:00<?, ?it/s]"
      ]
     },
     "metadata": {},
     "output_type": "display_data"
    },
    {
     "name": "stdout",
     "output_type": "stream",
     "text": [
      "Epoch 28 Training Accuracy: tensor(0.6333)\n"
     ]
    },
    {
     "data": {
      "application/vnd.jupyter.widget-view+json": {
       "model_id": "0405e9a1aa084a73a4bdf98ad799c0f8",
       "version_major": 2,
       "version_minor": 0
      },
      "text/plain": [
       "  0%|          | 0/2 [00:00<?, ?it/s]"
      ]
     },
     "metadata": {},
     "output_type": "display_data"
    },
    {
     "name": "stdout",
     "output_type": "stream",
     "text": [
      "Epoch 29 Training Accuracy: tensor(0.5792)\n"
     ]
    },
    {
     "data": {
      "application/vnd.jupyter.widget-view+json": {
       "model_id": "1c68a3f738134cd0801aa7587d0fed57",
       "version_major": 2,
       "version_minor": 0
      },
      "text/plain": [
       "  0%|          | 0/2 [00:00<?, ?it/s]"
      ]
     },
     "metadata": {},
     "output_type": "display_data"
    },
    {
     "name": "stdout",
     "output_type": "stream",
     "text": [
      "Epoch 30 Training Accuracy: tensor(0.5900)\n"
     ]
    },
    {
     "data": {
      "application/vnd.jupyter.widget-view+json": {
       "model_id": "0409ce67899a4f9f9761961367702266",
       "version_major": 2,
       "version_minor": 0
      },
      "text/plain": [
       "  0%|          | 0/2 [00:00<?, ?it/s]"
      ]
     },
     "metadata": {},
     "output_type": "display_data"
    },
    {
     "name": "stdout",
     "output_type": "stream",
     "text": [
      "Epoch 31 Training Accuracy: tensor(0.6225)\n"
     ]
    },
    {
     "data": {
      "application/vnd.jupyter.widget-view+json": {
       "model_id": "f783abfe7f204e64a7c9a0a3cf0ba933",
       "version_major": 2,
       "version_minor": 0
      },
      "text/plain": [
       "  0%|          | 0/2 [00:00<?, ?it/s]"
      ]
     },
     "metadata": {},
     "output_type": "display_data"
    },
    {
     "name": "stdout",
     "output_type": "stream",
     "text": [
      "Epoch 32 Training Accuracy: tensor(0.6225)\n"
     ]
    },
    {
     "data": {
      "application/vnd.jupyter.widget-view+json": {
       "model_id": "14fbb4248eaf455887a123233265958b",
       "version_major": 2,
       "version_minor": 0
      },
      "text/plain": [
       "  0%|          | 0/2 [00:00<?, ?it/s]"
      ]
     },
     "metadata": {},
     "output_type": "display_data"
    },
    {
     "name": "stdout",
     "output_type": "stream",
     "text": [
      "Epoch 33 Training Accuracy: tensor(0.6442)\n"
     ]
    },
    {
     "data": {
      "application/vnd.jupyter.widget-view+json": {
       "model_id": "69cbdd8996c64720a2063ece9f350fff",
       "version_major": 2,
       "version_minor": 0
      },
      "text/plain": [
       "  0%|          | 0/2 [00:00<?, ?it/s]"
      ]
     },
     "metadata": {},
     "output_type": "display_data"
    },
    {
     "name": "stdout",
     "output_type": "stream",
     "text": [
      "Epoch 34 Training Accuracy: tensor(0.6333)\n"
     ]
    },
    {
     "data": {
      "application/vnd.jupyter.widget-view+json": {
       "model_id": "dce98ac84c43424db037647eb299856e",
       "version_major": 2,
       "version_minor": 0
      },
      "text/plain": [
       "  0%|          | 0/2 [00:00<?, ?it/s]"
      ]
     },
     "metadata": {},
     "output_type": "display_data"
    },
    {
     "name": "stdout",
     "output_type": "stream",
     "text": [
      "Epoch 35 Training Accuracy: tensor(0.6333)\n"
     ]
    },
    {
     "data": {
      "application/vnd.jupyter.widget-view+json": {
       "model_id": "c67a88a3798e43c7a0ffd0ce066894c6",
       "version_major": 2,
       "version_minor": 0
      },
      "text/plain": [
       "  0%|          | 0/2 [00:00<?, ?it/s]"
      ]
     },
     "metadata": {},
     "output_type": "display_data"
    },
    {
     "name": "stdout",
     "output_type": "stream",
     "text": [
      "Epoch 36 Training Accuracy: tensor(0.6442)\n"
     ]
    },
    {
     "data": {
      "application/vnd.jupyter.widget-view+json": {
       "model_id": "a88a8d3ce6d04244ac2b8249bbdb46b5",
       "version_major": 2,
       "version_minor": 0
      },
      "text/plain": [
       "  0%|          | 0/2 [00:00<?, ?it/s]"
      ]
     },
     "metadata": {},
     "output_type": "display_data"
    },
    {
     "name": "stdout",
     "output_type": "stream",
     "text": [
      "Epoch 37 Training Accuracy: tensor(0.6225)\n"
     ]
    },
    {
     "data": {
      "application/vnd.jupyter.widget-view+json": {
       "model_id": "529d3044ded04299b7282fea5d6fd0ee",
       "version_major": 2,
       "version_minor": 0
      },
      "text/plain": [
       "  0%|          | 0/2 [00:00<?, ?it/s]"
      ]
     },
     "metadata": {},
     "output_type": "display_data"
    },
    {
     "name": "stdout",
     "output_type": "stream",
     "text": [
      "Epoch 38 Training Accuracy: tensor(0.6333)\n"
     ]
    },
    {
     "data": {
      "application/vnd.jupyter.widget-view+json": {
       "model_id": "9631cca1c41d46148735cecdfe28a34c",
       "version_major": 2,
       "version_minor": 0
      },
      "text/plain": [
       "  0%|          | 0/2 [00:00<?, ?it/s]"
      ]
     },
     "metadata": {},
     "output_type": "display_data"
    },
    {
     "name": "stdout",
     "output_type": "stream",
     "text": [
      "Epoch 39 Training Accuracy: tensor(0.6225)\n"
     ]
    },
    {
     "data": {
      "application/vnd.jupyter.widget-view+json": {
       "model_id": "bcd1b8d86e4e4c0381810ae4543204bb",
       "version_major": 2,
       "version_minor": 0
      },
      "text/plain": [
       "  0%|          | 0/2 [00:00<?, ?it/s]"
      ]
     },
     "metadata": {},
     "output_type": "display_data"
    },
    {
     "name": "stdout",
     "output_type": "stream",
     "text": [
      "Epoch 40 Training Accuracy: tensor(0.6442)\n"
     ]
    },
    {
     "data": {
      "application/vnd.jupyter.widget-view+json": {
       "model_id": "ea38b7f244954c15b4eddd9b92b04cf1",
       "version_major": 2,
       "version_minor": 0
      },
      "text/plain": [
       "  0%|          | 0/2 [00:00<?, ?it/s]"
      ]
     },
     "metadata": {},
     "output_type": "display_data"
    },
    {
     "name": "stdout",
     "output_type": "stream",
     "text": [
      "Epoch 41 Training Accuracy: tensor(0.6550)\n"
     ]
    },
    {
     "data": {
      "application/vnd.jupyter.widget-view+json": {
       "model_id": "bf9cf58f8fb749ee9da3fbb9804d55ba",
       "version_major": 2,
       "version_minor": 0
      },
      "text/plain": [
       "  0%|          | 0/2 [00:00<?, ?it/s]"
      ]
     },
     "metadata": {},
     "output_type": "display_data"
    },
    {
     "name": "stdout",
     "output_type": "stream",
     "text": [
      "Epoch 42 Training Accuracy: tensor(0.6117)\n"
     ]
    },
    {
     "data": {
      "application/vnd.jupyter.widget-view+json": {
       "model_id": "b73f87e69ad54906b724396e327981dc",
       "version_major": 2,
       "version_minor": 0
      },
      "text/plain": [
       "  0%|          | 0/2 [00:00<?, ?it/s]"
      ]
     },
     "metadata": {},
     "output_type": "display_data"
    },
    {
     "name": "stdout",
     "output_type": "stream",
     "text": [
      "Epoch 43 Training Accuracy: tensor(0.6008)\n"
     ]
    },
    {
     "data": {
      "application/vnd.jupyter.widget-view+json": {
       "model_id": "45e8bee2cf7b4ef78af73e91dad0e99e",
       "version_major": 2,
       "version_minor": 0
      },
      "text/plain": [
       "  0%|          | 0/2 [00:00<?, ?it/s]"
      ]
     },
     "metadata": {},
     "output_type": "display_data"
    },
    {
     "name": "stdout",
     "output_type": "stream",
     "text": [
      "Epoch 44 Training Accuracy: tensor(0.6008)\n"
     ]
    },
    {
     "data": {
      "application/vnd.jupyter.widget-view+json": {
       "model_id": "6398024416074ed883df063f4114f4c7",
       "version_major": 2,
       "version_minor": 0
      },
      "text/plain": [
       "  0%|          | 0/2 [00:00<?, ?it/s]"
      ]
     },
     "metadata": {},
     "output_type": "display_data"
    },
    {
     "name": "stdout",
     "output_type": "stream",
     "text": [
      "Epoch 45 Training Accuracy: tensor(0.6008)\n"
     ]
    },
    {
     "data": {
      "application/vnd.jupyter.widget-view+json": {
       "model_id": "724ad98bcfb84773a350214fa82e5cf9",
       "version_major": 2,
       "version_minor": 0
      },
      "text/plain": [
       "  0%|          | 0/2 [00:00<?, ?it/s]"
      ]
     },
     "metadata": {},
     "output_type": "display_data"
    },
    {
     "name": "stdout",
     "output_type": "stream",
     "text": [
      "Epoch 46 Training Accuracy: tensor(0.6117)\n"
     ]
    },
    {
     "data": {
      "application/vnd.jupyter.widget-view+json": {
       "model_id": "dfc18543ce5a4779a43c7a4a229eb894",
       "version_major": 2,
       "version_minor": 0
      },
      "text/plain": [
       "  0%|          | 0/2 [00:00<?, ?it/s]"
      ]
     },
     "metadata": {},
     "output_type": "display_data"
    },
    {
     "name": "stdout",
     "output_type": "stream",
     "text": [
      "Epoch 47 Training Accuracy: tensor(0.6333)\n"
     ]
    },
    {
     "data": {
      "application/vnd.jupyter.widget-view+json": {
       "model_id": "1110bfb3d1314558b13aa37b12af2bbb",
       "version_major": 2,
       "version_minor": 0
      },
      "text/plain": [
       "  0%|          | 0/2 [00:00<?, ?it/s]"
      ]
     },
     "metadata": {},
     "output_type": "display_data"
    },
    {
     "name": "stdout",
     "output_type": "stream",
     "text": [
      "Epoch 48 Training Accuracy: tensor(0.6117)\n"
     ]
    },
    {
     "data": {
      "application/vnd.jupyter.widget-view+json": {
       "model_id": "5178cc961488404394b510ea6ba0fa01",
       "version_major": 2,
       "version_minor": 0
      },
      "text/plain": [
       "  0%|          | 0/2 [00:00<?, ?it/s]"
      ]
     },
     "metadata": {},
     "output_type": "display_data"
    },
    {
     "name": "stdout",
     "output_type": "stream",
     "text": [
      "Epoch 49 Training Accuracy: tensor(0.5900)\n"
     ]
    },
    {
     "data": {
      "application/vnd.jupyter.widget-view+json": {
       "model_id": "b2835be4e78d44b09acbc2235e841739",
       "version_major": 2,
       "version_minor": 0
      },
      "text/plain": [
       "  0%|          | 0/2 [00:00<?, ?it/s]"
      ]
     },
     "metadata": {},
     "output_type": "display_data"
    },
    {
     "name": "stdout",
     "output_type": "stream",
     "text": [
      "Epoch 50 Training Accuracy: tensor(0.6333)\n"
     ]
    },
    {
     "data": {
      "application/vnd.jupyter.widget-view+json": {
       "model_id": "65eb3fda3f114de588aa0be24420fd71",
       "version_major": 2,
       "version_minor": 0
      },
      "text/plain": [
       "  0%|          | 0/2 [00:00<?, ?it/s]"
      ]
     },
     "metadata": {},
     "output_type": "display_data"
    },
    {
     "name": "stdout",
     "output_type": "stream",
     "text": [
      "Epoch 51 Training Accuracy: tensor(0.6008)\n"
     ]
    },
    {
     "data": {
      "application/vnd.jupyter.widget-view+json": {
       "model_id": "cba057cc414e47268d4c84f8d55edec0",
       "version_major": 2,
       "version_minor": 0
      },
      "text/plain": [
       "  0%|          | 0/2 [00:00<?, ?it/s]"
      ]
     },
     "metadata": {},
     "output_type": "display_data"
    },
    {
     "name": "stdout",
     "output_type": "stream",
     "text": [
      "Epoch 52 Training Accuracy: tensor(0.6017)\n"
     ]
    },
    {
     "data": {
      "application/vnd.jupyter.widget-view+json": {
       "model_id": "36fe1d82a6af4f0bb598257ed50eba2b",
       "version_major": 2,
       "version_minor": 0
      },
      "text/plain": [
       "  0%|          | 0/2 [00:00<?, ?it/s]"
      ]
     },
     "metadata": {},
     "output_type": "display_data"
    },
    {
     "name": "stdout",
     "output_type": "stream",
     "text": [
      "Epoch 53 Training Accuracy: tensor(0.6117)\n"
     ]
    },
    {
     "data": {
      "application/vnd.jupyter.widget-view+json": {
       "model_id": "f4a7c031c0e24020960fa16a0da0a2cf",
       "version_major": 2,
       "version_minor": 0
      },
      "text/plain": [
       "  0%|          | 0/2 [00:00<?, ?it/s]"
      ]
     },
     "metadata": {},
     "output_type": "display_data"
    },
    {
     "name": "stdout",
     "output_type": "stream",
     "text": [
      "Epoch 54 Training Accuracy: tensor(0.6658)\n"
     ]
    },
    {
     "data": {
      "application/vnd.jupyter.widget-view+json": {
       "model_id": "0e93b9473a1a426ea926df773b3a35e2",
       "version_major": 2,
       "version_minor": 0
      },
      "text/plain": [
       "  0%|          | 0/2 [00:00<?, ?it/s]"
      ]
     },
     "metadata": {},
     "output_type": "display_data"
    },
    {
     "name": "stdout",
     "output_type": "stream",
     "text": [
      "Epoch 55 Training Accuracy: tensor(0.6442)\n"
     ]
    },
    {
     "data": {
      "application/vnd.jupyter.widget-view+json": {
       "model_id": "499a577e5a0b42178895efa1e8d05346",
       "version_major": 2,
       "version_minor": 0
      },
      "text/plain": [
       "  0%|          | 0/2 [00:00<?, ?it/s]"
      ]
     },
     "metadata": {},
     "output_type": "display_data"
    },
    {
     "name": "stdout",
     "output_type": "stream",
     "text": [
      "Epoch 56 Training Accuracy: tensor(0.6117)\n"
     ]
    },
    {
     "data": {
      "application/vnd.jupyter.widget-view+json": {
       "model_id": "8174f243abdc47c78a2a4e2f7027d47e",
       "version_major": 2,
       "version_minor": 0
      },
      "text/plain": [
       "  0%|          | 0/2 [00:00<?, ?it/s]"
      ]
     },
     "metadata": {},
     "output_type": "display_data"
    },
    {
     "name": "stdout",
     "output_type": "stream",
     "text": [
      "Epoch 57 Training Accuracy: tensor(0.6442)\n"
     ]
    },
    {
     "data": {
      "application/vnd.jupyter.widget-view+json": {
       "model_id": "96b5a82f338846e1b3ffbe95f85cc16e",
       "version_major": 2,
       "version_minor": 0
      },
      "text/plain": [
       "  0%|          | 0/2 [00:00<?, ?it/s]"
      ]
     },
     "metadata": {},
     "output_type": "display_data"
    },
    {
     "name": "stdout",
     "output_type": "stream",
     "text": [
      "Epoch 58 Training Accuracy: tensor(0.6117)\n"
     ]
    },
    {
     "data": {
      "application/vnd.jupyter.widget-view+json": {
       "model_id": "827a70408a6a49aaab752c12da9dc9db",
       "version_major": 2,
       "version_minor": 0
      },
      "text/plain": [
       "  0%|          | 0/2 [00:00<?, ?it/s]"
      ]
     },
     "metadata": {},
     "output_type": "display_data"
    },
    {
     "name": "stdout",
     "output_type": "stream",
     "text": [
      "Epoch 59 Training Accuracy: tensor(0.6442)\n"
     ]
    },
    {
     "data": {
      "application/vnd.jupyter.widget-view+json": {
       "model_id": "9fe381eaa25147a2937b56ae4f2a762d",
       "version_major": 2,
       "version_minor": 0
      },
      "text/plain": [
       "  0%|          | 0/2 [00:00<?, ?it/s]"
      ]
     },
     "metadata": {},
     "output_type": "display_data"
    },
    {
     "name": "stdout",
     "output_type": "stream",
     "text": [
      "Epoch 60 Training Accuracy: tensor(0.6008)\n"
     ]
    },
    {
     "data": {
      "application/vnd.jupyter.widget-view+json": {
       "model_id": "98cb8127228440efb69a5b3a9b1f5d50",
       "version_major": 2,
       "version_minor": 0
      },
      "text/plain": [
       "  0%|          | 0/2 [00:00<?, ?it/s]"
      ]
     },
     "metadata": {},
     "output_type": "display_data"
    },
    {
     "name": "stdout",
     "output_type": "stream",
     "text": [
      "Epoch 61 Training Accuracy: tensor(0.5800)\n"
     ]
    },
    {
     "data": {
      "application/vnd.jupyter.widget-view+json": {
       "model_id": "1092a6d86779495b88e15abef9ac90b4",
       "version_major": 2,
       "version_minor": 0
      },
      "text/plain": [
       "  0%|          | 0/2 [00:00<?, ?it/s]"
      ]
     },
     "metadata": {},
     "output_type": "display_data"
    },
    {
     "name": "stdout",
     "output_type": "stream",
     "text": [
      "Epoch 62 Training Accuracy: tensor(0.6117)\n"
     ]
    },
    {
     "data": {
      "application/vnd.jupyter.widget-view+json": {
       "model_id": "ca8607c977094e99b6cf7cb637104d33",
       "version_major": 2,
       "version_minor": 0
      },
      "text/plain": [
       "  0%|          | 0/2 [00:00<?, ?it/s]"
      ]
     },
     "metadata": {},
     "output_type": "display_data"
    },
    {
     "name": "stdout",
     "output_type": "stream",
     "text": [
      "Epoch 63 Training Accuracy: tensor(0.6442)\n"
     ]
    },
    {
     "data": {
      "application/vnd.jupyter.widget-view+json": {
       "model_id": "abe8611e25454048a0bf9c68f2f1ecd6",
       "version_major": 2,
       "version_minor": 0
      },
      "text/plain": [
       "  0%|          | 0/2 [00:00<?, ?it/s]"
      ]
     },
     "metadata": {},
     "output_type": "display_data"
    },
    {
     "name": "stdout",
     "output_type": "stream",
     "text": [
      "Epoch 64 Training Accuracy: tensor(0.6442)\n"
     ]
    },
    {
     "data": {
      "application/vnd.jupyter.widget-view+json": {
       "model_id": "8510097d704444b6b7806fbc20431029",
       "version_major": 2,
       "version_minor": 0
      },
      "text/plain": [
       "  0%|          | 0/2 [00:00<?, ?it/s]"
      ]
     },
     "metadata": {},
     "output_type": "display_data"
    },
    {
     "name": "stdout",
     "output_type": "stream",
     "text": [
      "Epoch 65 Training Accuracy: tensor(0.6117)\n"
     ]
    },
    {
     "data": {
      "application/vnd.jupyter.widget-view+json": {
       "model_id": "3230b6ec3762411cba5f0758fc762c12",
       "version_major": 2,
       "version_minor": 0
      },
      "text/plain": [
       "  0%|          | 0/2 [00:00<?, ?it/s]"
      ]
     },
     "metadata": {},
     "output_type": "display_data"
    },
    {
     "name": "stdout",
     "output_type": "stream",
     "text": [
      "Epoch 66 Training Accuracy: tensor(0.6442)\n"
     ]
    },
    {
     "data": {
      "application/vnd.jupyter.widget-view+json": {
       "model_id": "8f898c2bb138435ab676024cef0d3976",
       "version_major": 2,
       "version_minor": 0
      },
      "text/plain": [
       "  0%|          | 0/2 [00:00<?, ?it/s]"
      ]
     },
     "metadata": {},
     "output_type": "display_data"
    },
    {
     "name": "stdout",
     "output_type": "stream",
     "text": [
      "Epoch 67 Training Accuracy: tensor(0.6442)\n"
     ]
    },
    {
     "data": {
      "application/vnd.jupyter.widget-view+json": {
       "model_id": "658c6dd640d446b6807a182d2cbfb314",
       "version_major": 2,
       "version_minor": 0
      },
      "text/plain": [
       "  0%|          | 0/2 [00:00<?, ?it/s]"
      ]
     },
     "metadata": {},
     "output_type": "display_data"
    },
    {
     "name": "stdout",
     "output_type": "stream",
     "text": [
      "Epoch 68 Training Accuracy: tensor(0.6442)\n"
     ]
    },
    {
     "data": {
      "application/vnd.jupyter.widget-view+json": {
       "model_id": "7fa97754eafe465b861e8f935b19586c",
       "version_major": 2,
       "version_minor": 0
      },
      "text/plain": [
       "  0%|          | 0/2 [00:00<?, ?it/s]"
      ]
     },
     "metadata": {},
     "output_type": "display_data"
    },
    {
     "name": "stdout",
     "output_type": "stream",
     "text": [
      "Epoch 69 Training Accuracy: tensor(0.6333)\n"
     ]
    },
    {
     "data": {
      "application/vnd.jupyter.widget-view+json": {
       "model_id": "38243224a2d74c4a845f8bfc441b4dd1",
       "version_major": 2,
       "version_minor": 0
      },
      "text/plain": [
       "  0%|          | 0/2 [00:00<?, ?it/s]"
      ]
     },
     "metadata": {},
     "output_type": "display_data"
    },
    {
     "name": "stdout",
     "output_type": "stream",
     "text": [
      "Epoch 70 Training Accuracy: tensor(0.5900)\n"
     ]
    },
    {
     "data": {
      "application/vnd.jupyter.widget-view+json": {
       "model_id": "71f50fdaad094d208f3d3cab42801762",
       "version_major": 2,
       "version_minor": 0
      },
      "text/plain": [
       "  0%|          | 0/2 [00:00<?, ?it/s]"
      ]
     },
     "metadata": {},
     "output_type": "display_data"
    },
    {
     "name": "stdout",
     "output_type": "stream",
     "text": [
      "Epoch 71 Training Accuracy: tensor(0.6333)\n"
     ]
    },
    {
     "data": {
      "application/vnd.jupyter.widget-view+json": {
       "model_id": "f09fe5c45a9f475cacee2877db057cda",
       "version_major": 2,
       "version_minor": 0
      },
      "text/plain": [
       "  0%|          | 0/2 [00:00<?, ?it/s]"
      ]
     },
     "metadata": {},
     "output_type": "display_data"
    },
    {
     "name": "stdout",
     "output_type": "stream",
     "text": [
      "Epoch 72 Training Accuracy: tensor(0.5900)\n"
     ]
    },
    {
     "data": {
      "application/vnd.jupyter.widget-view+json": {
       "model_id": "be85e66411e14d788e1aba8d1d87caea",
       "version_major": 2,
       "version_minor": 0
      },
      "text/plain": [
       "  0%|          | 0/2 [00:00<?, ?it/s]"
      ]
     },
     "metadata": {},
     "output_type": "display_data"
    },
    {
     "name": "stdout",
     "output_type": "stream",
     "text": [
      "Epoch 73 Training Accuracy: tensor(0.6442)\n"
     ]
    },
    {
     "data": {
      "application/vnd.jupyter.widget-view+json": {
       "model_id": "64f5e9d5297e4d839bfcbcafa4de11ee",
       "version_major": 2,
       "version_minor": 0
      },
      "text/plain": [
       "  0%|          | 0/2 [00:00<?, ?it/s]"
      ]
     },
     "metadata": {},
     "output_type": "display_data"
    },
    {
     "name": "stdout",
     "output_type": "stream",
     "text": [
      "Epoch 74 Training Accuracy: tensor(0.6008)\n"
     ]
    },
    {
     "data": {
      "application/vnd.jupyter.widget-view+json": {
       "model_id": "f18131c1f13d4048b5d8330861cb0f57",
       "version_major": 2,
       "version_minor": 0
      },
      "text/plain": [
       "  0%|          | 0/2 [00:00<?, ?it/s]"
      ]
     },
     "metadata": {},
     "output_type": "display_data"
    },
    {
     "name": "stdout",
     "output_type": "stream",
     "text": [
      "Epoch 75 Training Accuracy: tensor(0.6225)\n"
     ]
    },
    {
     "data": {
      "application/vnd.jupyter.widget-view+json": {
       "model_id": "5dd322a1cdc64960b807e9302ab95efe",
       "version_major": 2,
       "version_minor": 0
      },
      "text/plain": [
       "  0%|          | 0/2 [00:00<?, ?it/s]"
      ]
     },
     "metadata": {},
     "output_type": "display_data"
    },
    {
     "name": "stdout",
     "output_type": "stream",
     "text": [
      "Epoch 76 Training Accuracy: tensor(0.6442)\n"
     ]
    },
    {
     "data": {
      "application/vnd.jupyter.widget-view+json": {
       "model_id": "ebf119fe4e034ca091c1cedb4a08dc52",
       "version_major": 2,
       "version_minor": 0
      },
      "text/plain": [
       "  0%|          | 0/2 [00:00<?, ?it/s]"
      ]
     },
     "metadata": {},
     "output_type": "display_data"
    },
    {
     "name": "stdout",
     "output_type": "stream",
     "text": [
      "Epoch 77 Training Accuracy: tensor(0.6442)\n"
     ]
    },
    {
     "data": {
      "application/vnd.jupyter.widget-view+json": {
       "model_id": "00bc6ce233f3423a9f608775e4209bb5",
       "version_major": 2,
       "version_minor": 0
      },
      "text/plain": [
       "  0%|          | 0/2 [00:00<?, ?it/s]"
      ]
     },
     "metadata": {},
     "output_type": "display_data"
    },
    {
     "name": "stdout",
     "output_type": "stream",
     "text": [
      "Epoch 78 Training Accuracy: tensor(0.5908)\n"
     ]
    },
    {
     "data": {
      "application/vnd.jupyter.widget-view+json": {
       "model_id": "c01682a5090f4064a817bce7ef6b7130",
       "version_major": 2,
       "version_minor": 0
      },
      "text/plain": [
       "  0%|          | 0/2 [00:00<?, ?it/s]"
      ]
     },
     "metadata": {},
     "output_type": "display_data"
    },
    {
     "name": "stdout",
     "output_type": "stream",
     "text": [
      "Epoch 79 Training Accuracy: tensor(0.6225)\n"
     ]
    },
    {
     "data": {
      "application/vnd.jupyter.widget-view+json": {
       "model_id": "31a4176bcdb74ac4ad097f89e4cafd59",
       "version_major": 2,
       "version_minor": 0
      },
      "text/plain": [
       "  0%|          | 0/2 [00:00<?, ?it/s]"
      ]
     },
     "metadata": {},
     "output_type": "display_data"
    },
    {
     "name": "stdout",
     "output_type": "stream",
     "text": [
      "Epoch 80 Training Accuracy: tensor(0.5908)\n"
     ]
    },
    {
     "data": {
      "application/vnd.jupyter.widget-view+json": {
       "model_id": "eb0143b0a4b64b6780786bdc7f2dd3e2",
       "version_major": 2,
       "version_minor": 0
      },
      "text/plain": [
       "  0%|          | 0/2 [00:00<?, ?it/s]"
      ]
     },
     "metadata": {},
     "output_type": "display_data"
    },
    {
     "name": "stdout",
     "output_type": "stream",
     "text": [
      "Epoch 81 Training Accuracy: tensor(0.6333)\n"
     ]
    },
    {
     "data": {
      "application/vnd.jupyter.widget-view+json": {
       "model_id": "0d2e13cefb544b93aa7a12e53305ea4b",
       "version_major": 2,
       "version_minor": 0
      },
      "text/plain": [
       "  0%|          | 0/2 [00:00<?, ?it/s]"
      ]
     },
     "metadata": {},
     "output_type": "display_data"
    },
    {
     "name": "stdout",
     "output_type": "stream",
     "text": [
      "Epoch 82 Training Accuracy: tensor(0.6333)\n"
     ]
    },
    {
     "data": {
      "application/vnd.jupyter.widget-view+json": {
       "model_id": "34cfc29290494586b29a8748e923c869",
       "version_major": 2,
       "version_minor": 0
      },
      "text/plain": [
       "  0%|          | 0/2 [00:00<?, ?it/s]"
      ]
     },
     "metadata": {},
     "output_type": "display_data"
    },
    {
     "name": "stdout",
     "output_type": "stream",
     "text": [
      "Epoch 83 Training Accuracy: tensor(0.6017)\n"
     ]
    },
    {
     "data": {
      "application/vnd.jupyter.widget-view+json": {
       "model_id": "80236cef7db747d890c6741460283886",
       "version_major": 2,
       "version_minor": 0
      },
      "text/plain": [
       "  0%|          | 0/2 [00:00<?, ?it/s]"
      ]
     },
     "metadata": {},
     "output_type": "display_data"
    },
    {
     "name": "stdout",
     "output_type": "stream",
     "text": [
      "Epoch 84 Training Accuracy: tensor(0.6017)\n"
     ]
    },
    {
     "data": {
      "application/vnd.jupyter.widget-view+json": {
       "model_id": "472a567a97294b358402b6f0a1102b0f",
       "version_major": 2,
       "version_minor": 0
      },
      "text/plain": [
       "  0%|          | 0/2 [00:00<?, ?it/s]"
      ]
     },
     "metadata": {},
     "output_type": "display_data"
    },
    {
     "name": "stdout",
     "output_type": "stream",
     "text": [
      "Epoch 85 Training Accuracy: tensor(0.6550)\n"
     ]
    },
    {
     "data": {
      "application/vnd.jupyter.widget-view+json": {
       "model_id": "b7419338825c409fa954977a1c566507",
       "version_major": 2,
       "version_minor": 0
      },
      "text/plain": [
       "  0%|          | 0/2 [00:00<?, ?it/s]"
      ]
     },
     "metadata": {},
     "output_type": "display_data"
    },
    {
     "name": "stdout",
     "output_type": "stream",
     "text": [
      "Epoch 86 Training Accuracy: tensor(0.6008)\n"
     ]
    },
    {
     "data": {
      "application/vnd.jupyter.widget-view+json": {
       "model_id": "8434d1e39cf442fc9daff4d732985e82",
       "version_major": 2,
       "version_minor": 0
      },
      "text/plain": [
       "  0%|          | 0/2 [00:00<?, ?it/s]"
      ]
     },
     "metadata": {},
     "output_type": "display_data"
    },
    {
     "name": "stdout",
     "output_type": "stream",
     "text": [
      "Epoch 87 Training Accuracy: tensor(0.6117)\n"
     ]
    },
    {
     "data": {
      "application/vnd.jupyter.widget-view+json": {
       "model_id": "ffc932cd10e94647b0dac651011a672f",
       "version_major": 2,
       "version_minor": 0
      },
      "text/plain": [
       "  0%|          | 0/2 [00:00<?, ?it/s]"
      ]
     },
     "metadata": {},
     "output_type": "display_data"
    },
    {
     "name": "stdout",
     "output_type": "stream",
     "text": [
      "Epoch 88 Training Accuracy: tensor(0.6225)\n"
     ]
    },
    {
     "data": {
      "application/vnd.jupyter.widget-view+json": {
       "model_id": "cdaa7bca5019472faa8e49c78d2adf5f",
       "version_major": 2,
       "version_minor": 0
      },
      "text/plain": [
       "  0%|          | 0/2 [00:00<?, ?it/s]"
      ]
     },
     "metadata": {},
     "output_type": "display_data"
    },
    {
     "name": "stdout",
     "output_type": "stream",
     "text": [
      "Epoch 89 Training Accuracy: tensor(0.5900)\n"
     ]
    },
    {
     "data": {
      "application/vnd.jupyter.widget-view+json": {
       "model_id": "2fa1f582b9034470a262b085b2f6e8aa",
       "version_major": 2,
       "version_minor": 0
      },
      "text/plain": [
       "  0%|          | 0/2 [00:00<?, ?it/s]"
      ]
     },
     "metadata": {},
     "output_type": "display_data"
    },
    {
     "name": "stdout",
     "output_type": "stream",
     "text": [
      "Epoch 90 Training Accuracy: tensor(0.6442)\n"
     ]
    },
    {
     "data": {
      "application/vnd.jupyter.widget-view+json": {
       "model_id": "429fdf388b274b16a49f4f90550c2fd1",
       "version_major": 2,
       "version_minor": 0
      },
      "text/plain": [
       "  0%|          | 0/2 [00:00<?, ?it/s]"
      ]
     },
     "metadata": {},
     "output_type": "display_data"
    },
    {
     "name": "stdout",
     "output_type": "stream",
     "text": [
      "Epoch 91 Training Accuracy: tensor(0.6550)\n"
     ]
    },
    {
     "data": {
      "application/vnd.jupyter.widget-view+json": {
       "model_id": "ed183b8b67074b46af0cd218eda0e43a",
       "version_major": 2,
       "version_minor": 0
      },
      "text/plain": [
       "  0%|          | 0/2 [00:00<?, ?it/s]"
      ]
     },
     "metadata": {},
     "output_type": "display_data"
    },
    {
     "name": "stdout",
     "output_type": "stream",
     "text": [
      "Epoch 92 Training Accuracy: tensor(0.6117)\n"
     ]
    },
    {
     "data": {
      "application/vnd.jupyter.widget-view+json": {
       "model_id": "5c7978956ed049e3872ce96c2c1a20b2",
       "version_major": 2,
       "version_minor": 0
      },
      "text/plain": [
       "  0%|          | 0/2 [00:00<?, ?it/s]"
      ]
     },
     "metadata": {},
     "output_type": "display_data"
    },
    {
     "name": "stdout",
     "output_type": "stream",
     "text": [
      "Epoch 93 Training Accuracy: tensor(0.6117)\n"
     ]
    },
    {
     "data": {
      "application/vnd.jupyter.widget-view+json": {
       "model_id": "4eea0e81d3724fb2ac6fdf3fb3ff77c1",
       "version_major": 2,
       "version_minor": 0
      },
      "text/plain": [
       "  0%|          | 0/2 [00:00<?, ?it/s]"
      ]
     },
     "metadata": {},
     "output_type": "display_data"
    },
    {
     "name": "stdout",
     "output_type": "stream",
     "text": [
      "Epoch 94 Training Accuracy: tensor(0.6875)\n"
     ]
    },
    {
     "data": {
      "application/vnd.jupyter.widget-view+json": {
       "model_id": "7e8c179f8e9c40f98a5db627332c4c1d",
       "version_major": 2,
       "version_minor": 0
      },
      "text/plain": [
       "  0%|          | 0/2 [00:00<?, ?it/s]"
      ]
     },
     "metadata": {},
     "output_type": "display_data"
    },
    {
     "name": "stdout",
     "output_type": "stream",
     "text": [
      "Epoch 95 Training Accuracy: tensor(0.6225)\n"
     ]
    },
    {
     "data": {
      "application/vnd.jupyter.widget-view+json": {
       "model_id": "c9c20aafc6d740ebbf76f3625c7211e5",
       "version_major": 2,
       "version_minor": 0
      },
      "text/plain": [
       "  0%|          | 0/2 [00:00<?, ?it/s]"
      ]
     },
     "metadata": {},
     "output_type": "display_data"
    },
    {
     "name": "stdout",
     "output_type": "stream",
     "text": [
      "Epoch 96 Training Accuracy: tensor(0.6117)\n"
     ]
    },
    {
     "data": {
      "application/vnd.jupyter.widget-view+json": {
       "model_id": "43c0d5a112f14398877e41a27bee4f05",
       "version_major": 2,
       "version_minor": 0
      },
      "text/plain": [
       "  0%|          | 0/2 [00:00<?, ?it/s]"
      ]
     },
     "metadata": {},
     "output_type": "display_data"
    },
    {
     "name": "stdout",
     "output_type": "stream",
     "text": [
      "Epoch 97 Training Accuracy: tensor(0.6225)\n"
     ]
    },
    {
     "data": {
      "application/vnd.jupyter.widget-view+json": {
       "model_id": "faea300a7dd54c8fa337a37e876d18f9",
       "version_major": 2,
       "version_minor": 0
      },
      "text/plain": [
       "  0%|          | 0/2 [00:00<?, ?it/s]"
      ]
     },
     "metadata": {},
     "output_type": "display_data"
    },
    {
     "name": "stdout",
     "output_type": "stream",
     "text": [
      "Epoch 98 Training Accuracy: tensor(0.5900)\n"
     ]
    },
    {
     "data": {
      "application/vnd.jupyter.widget-view+json": {
       "model_id": "5b8e7b9910514e30807e9e3538783c61",
       "version_major": 2,
       "version_minor": 0
      },
      "text/plain": [
       "  0%|          | 0/2 [00:00<?, ?it/s]"
      ]
     },
     "metadata": {},
     "output_type": "display_data"
    },
    {
     "name": "stdout",
     "output_type": "stream",
     "text": [
      "Epoch 99 Training Accuracy: tensor(0.6225)\n"
     ]
    },
    {
     "data": {
      "application/vnd.jupyter.widget-view+json": {
       "model_id": "78fc821672f14ef79840506601ed908b",
       "version_major": 2,
       "version_minor": 0
      },
      "text/plain": [
       "  0%|          | 0/2 [00:00<?, ?it/s]"
      ]
     },
     "metadata": {},
     "output_type": "display_data"
    },
    {
     "name": "stdout",
     "output_type": "stream",
     "text": [
      "Epoch 100 Training Accuracy: tensor(0.6333)\n"
     ]
    },
    {
     "data": {
      "application/vnd.jupyter.widget-view+json": {
       "model_id": "bf63d33e324d45f2a79456722f47651c",
       "version_major": 2,
       "version_minor": 0
      },
      "text/plain": [
       "  0%|          | 0/2 [00:00<?, ?it/s]"
      ]
     },
     "metadata": {},
     "output_type": "display_data"
    },
    {
     "name": "stdout",
     "output_type": "stream",
     "text": [
      "Epoch 101 Training Accuracy: tensor(0.6117)\n"
     ]
    },
    {
     "data": {
      "application/vnd.jupyter.widget-view+json": {
       "model_id": "c29b12a390a7477f950ef16b86272ace",
       "version_major": 2,
       "version_minor": 0
      },
      "text/plain": [
       "  0%|          | 0/2 [00:00<?, ?it/s]"
      ]
     },
     "metadata": {},
     "output_type": "display_data"
    },
    {
     "name": "stdout",
     "output_type": "stream",
     "text": [
      "Epoch 102 Training Accuracy: tensor(0.5900)\n"
     ]
    },
    {
     "data": {
      "application/vnd.jupyter.widget-view+json": {
       "model_id": "48ba3a5bc36f4bd89a63deddbec99e07",
       "version_major": 2,
       "version_minor": 0
      },
      "text/plain": [
       "  0%|          | 0/2 [00:00<?, ?it/s]"
      ]
     },
     "metadata": {},
     "output_type": "display_data"
    },
    {
     "name": "stdout",
     "output_type": "stream",
     "text": [
      "Epoch 103 Training Accuracy: tensor(0.6225)\n"
     ]
    },
    {
     "data": {
      "application/vnd.jupyter.widget-view+json": {
       "model_id": "1ad671f7e9dc409db7a62860f4b5e260",
       "version_major": 2,
       "version_minor": 0
      },
      "text/plain": [
       "  0%|          | 0/2 [00:00<?, ?it/s]"
      ]
     },
     "metadata": {},
     "output_type": "display_data"
    },
    {
     "name": "stdout",
     "output_type": "stream",
     "text": [
      "Epoch 104 Training Accuracy: tensor(0.6333)\n"
     ]
    },
    {
     "data": {
      "application/vnd.jupyter.widget-view+json": {
       "model_id": "e6709b11a8f0455a966beca0e00e5967",
       "version_major": 2,
       "version_minor": 0
      },
      "text/plain": [
       "  0%|          | 0/2 [00:00<?, ?it/s]"
      ]
     },
     "metadata": {},
     "output_type": "display_data"
    },
    {
     "name": "stdout",
     "output_type": "stream",
     "text": [
      "Epoch 105 Training Accuracy: tensor(0.6442)\n"
     ]
    },
    {
     "data": {
      "application/vnd.jupyter.widget-view+json": {
       "model_id": "10942f493ad24fc9a91188408a15d03a",
       "version_major": 2,
       "version_minor": 0
      },
      "text/plain": [
       "  0%|          | 0/2 [00:00<?, ?it/s]"
      ]
     },
     "metadata": {},
     "output_type": "display_data"
    },
    {
     "name": "stdout",
     "output_type": "stream",
     "text": [
      "Epoch 106 Training Accuracy: tensor(0.6117)\n"
     ]
    },
    {
     "data": {
      "application/vnd.jupyter.widget-view+json": {
       "model_id": "742cd8e84f9c4b8296e1771d2055e214",
       "version_major": 2,
       "version_minor": 0
      },
      "text/plain": [
       "  0%|          | 0/2 [00:00<?, ?it/s]"
      ]
     },
     "metadata": {},
     "output_type": "display_data"
    },
    {
     "name": "stdout",
     "output_type": "stream",
     "text": [
      "Epoch 107 Training Accuracy: tensor(0.6225)\n"
     ]
    },
    {
     "data": {
      "application/vnd.jupyter.widget-view+json": {
       "model_id": "f8bc2e8dfbd44dfdb12687afea916252",
       "version_major": 2,
       "version_minor": 0
      },
      "text/plain": [
       "  0%|          | 0/2 [00:00<?, ?it/s]"
      ]
     },
     "metadata": {},
     "output_type": "display_data"
    },
    {
     "name": "stdout",
     "output_type": "stream",
     "text": [
      "Epoch 108 Training Accuracy: tensor(0.5900)\n"
     ]
    },
    {
     "data": {
      "application/vnd.jupyter.widget-view+json": {
       "model_id": "b689ba80f8c64babbb0e1a90a5b1a856",
       "version_major": 2,
       "version_minor": 0
      },
      "text/plain": [
       "  0%|          | 0/2 [00:00<?, ?it/s]"
      ]
     },
     "metadata": {},
     "output_type": "display_data"
    },
    {
     "name": "stdout",
     "output_type": "stream",
     "text": [
      "Epoch 109 Training Accuracy: tensor(0.6117)\n"
     ]
    },
    {
     "data": {
      "application/vnd.jupyter.widget-view+json": {
       "model_id": "3ae6fc6a135949b88a304bd66bbf6562",
       "version_major": 2,
       "version_minor": 0
      },
      "text/plain": [
       "  0%|          | 0/2 [00:00<?, ?it/s]"
      ]
     },
     "metadata": {},
     "output_type": "display_data"
    },
    {
     "name": "stdout",
     "output_type": "stream",
     "text": [
      "Epoch 110 Training Accuracy: tensor(0.6008)\n"
     ]
    },
    {
     "data": {
      "application/vnd.jupyter.widget-view+json": {
       "model_id": "07569f04d9154a598dfc66fe8c0e8d9a",
       "version_major": 2,
       "version_minor": 0
      },
      "text/plain": [
       "  0%|          | 0/2 [00:00<?, ?it/s]"
      ]
     },
     "metadata": {},
     "output_type": "display_data"
    },
    {
     "name": "stdout",
     "output_type": "stream",
     "text": [
      "Epoch 111 Training Accuracy: tensor(0.6117)\n"
     ]
    },
    {
     "data": {
      "application/vnd.jupyter.widget-view+json": {
       "model_id": "98802119cfc047b4b2793729c1d74b84",
       "version_major": 2,
       "version_minor": 0
      },
      "text/plain": [
       "  0%|          | 0/2 [00:00<?, ?it/s]"
      ]
     },
     "metadata": {},
     "output_type": "display_data"
    },
    {
     "name": "stdout",
     "output_type": "stream",
     "text": [
      "Epoch 112 Training Accuracy: tensor(0.6125)\n"
     ]
    },
    {
     "data": {
      "application/vnd.jupyter.widget-view+json": {
       "model_id": "d51c3c7d9e8644e9898b7dce15615bb8",
       "version_major": 2,
       "version_minor": 0
      },
      "text/plain": [
       "  0%|          | 0/2 [00:00<?, ?it/s]"
      ]
     },
     "metadata": {},
     "output_type": "display_data"
    },
    {
     "name": "stdout",
     "output_type": "stream",
     "text": [
      "Epoch 113 Training Accuracy: tensor(0.6117)\n"
     ]
    },
    {
     "data": {
      "application/vnd.jupyter.widget-view+json": {
       "model_id": "277b6abe1123481d9030e7c21c38c1cf",
       "version_major": 2,
       "version_minor": 0
      },
      "text/plain": [
       "  0%|          | 0/2 [00:00<?, ?it/s]"
      ]
     },
     "metadata": {},
     "output_type": "display_data"
    },
    {
     "name": "stdout",
     "output_type": "stream",
     "text": [
      "Epoch 114 Training Accuracy: tensor(0.5900)\n"
     ]
    },
    {
     "data": {
      "application/vnd.jupyter.widget-view+json": {
       "model_id": "b4f6627ae1934fab956ee200cc93b5f8",
       "version_major": 2,
       "version_minor": 0
      },
      "text/plain": [
       "  0%|          | 0/2 [00:00<?, ?it/s]"
      ]
     },
     "metadata": {},
     "output_type": "display_data"
    },
    {
     "name": "stdout",
     "output_type": "stream",
     "text": [
      "Epoch 115 Training Accuracy: tensor(0.6225)\n"
     ]
    },
    {
     "data": {
      "application/vnd.jupyter.widget-view+json": {
       "model_id": "27f74e09a814492ea409b08b9e1325c7",
       "version_major": 2,
       "version_minor": 0
      },
      "text/plain": [
       "  0%|          | 0/2 [00:00<?, ?it/s]"
      ]
     },
     "metadata": {},
     "output_type": "display_data"
    },
    {
     "name": "stdout",
     "output_type": "stream",
     "text": [
      "Epoch 116 Training Accuracy: tensor(0.6333)\n"
     ]
    },
    {
     "data": {
      "application/vnd.jupyter.widget-view+json": {
       "model_id": "75962b04bf1e4e2a895d0a27b9b7c687",
       "version_major": 2,
       "version_minor": 0
      },
      "text/plain": [
       "  0%|          | 0/2 [00:00<?, ?it/s]"
      ]
     },
     "metadata": {},
     "output_type": "display_data"
    },
    {
     "name": "stdout",
     "output_type": "stream",
     "text": [
      "Epoch 117 Training Accuracy: tensor(0.6333)\n"
     ]
    },
    {
     "data": {
      "application/vnd.jupyter.widget-view+json": {
       "model_id": "317eeb00b5144979825be6f4dc85e8b6",
       "version_major": 2,
       "version_minor": 0
      },
      "text/plain": [
       "  0%|          | 0/2 [00:00<?, ?it/s]"
      ]
     },
     "metadata": {},
     "output_type": "display_data"
    },
    {
     "name": "stdout",
     "output_type": "stream",
     "text": [
      "Epoch 118 Training Accuracy: tensor(0.6225)\n"
     ]
    },
    {
     "data": {
      "application/vnd.jupyter.widget-view+json": {
       "model_id": "f82afedd24fb4c76b2655e35973df6ad",
       "version_major": 2,
       "version_minor": 0
      },
      "text/plain": [
       "  0%|          | 0/2 [00:00<?, ?it/s]"
      ]
     },
     "metadata": {},
     "output_type": "display_data"
    },
    {
     "name": "stdout",
     "output_type": "stream",
     "text": [
      "Epoch 119 Training Accuracy: tensor(0.6442)\n"
     ]
    },
    {
     "data": {
      "application/vnd.jupyter.widget-view+json": {
       "model_id": "0a05af366ae34f85aab9c270707f6937",
       "version_major": 2,
       "version_minor": 0
      },
      "text/plain": [
       "  0%|          | 0/2 [00:00<?, ?it/s]"
      ]
     },
     "metadata": {},
     "output_type": "display_data"
    },
    {
     "name": "stdout",
     "output_type": "stream",
     "text": [
      "Epoch 120 Training Accuracy: tensor(0.6550)\n"
     ]
    },
    {
     "data": {
      "application/vnd.jupyter.widget-view+json": {
       "model_id": "2de706850f2041709da10f050b5c3560",
       "version_major": 2,
       "version_minor": 0
      },
      "text/plain": [
       "  0%|          | 0/2 [00:00<?, ?it/s]"
      ]
     },
     "metadata": {},
     "output_type": "display_data"
    },
    {
     "name": "stdout",
     "output_type": "stream",
     "text": [
      "Epoch 121 Training Accuracy: tensor(0.6117)\n"
     ]
    },
    {
     "data": {
      "application/vnd.jupyter.widget-view+json": {
       "model_id": "3103c497966d4921906d6105fe6a948b",
       "version_major": 2,
       "version_minor": 0
      },
      "text/plain": [
       "  0%|          | 0/2 [00:00<?, ?it/s]"
      ]
     },
     "metadata": {},
     "output_type": "display_data"
    },
    {
     "name": "stdout",
     "output_type": "stream",
     "text": [
      "Epoch 122 Training Accuracy: tensor(0.6333)\n"
     ]
    },
    {
     "data": {
      "application/vnd.jupyter.widget-view+json": {
       "model_id": "04658f824e144f67b2ac4a9358049bc7",
       "version_major": 2,
       "version_minor": 0
      },
      "text/plain": [
       "  0%|          | 0/2 [00:00<?, ?it/s]"
      ]
     },
     "metadata": {},
     "output_type": "display_data"
    },
    {
     "name": "stdout",
     "output_type": "stream",
     "text": [
      "Epoch 123 Training Accuracy: tensor(0.6233)\n"
     ]
    },
    {
     "data": {
      "application/vnd.jupyter.widget-view+json": {
       "model_id": "1ad73c103549449393ac6703cb9b5015",
       "version_major": 2,
       "version_minor": 0
      },
      "text/plain": [
       "  0%|          | 0/2 [00:00<?, ?it/s]"
      ]
     },
     "metadata": {},
     "output_type": "display_data"
    },
    {
     "name": "stdout",
     "output_type": "stream",
     "text": [
      "Epoch 124 Training Accuracy: tensor(0.6225)\n"
     ]
    },
    {
     "data": {
      "application/vnd.jupyter.widget-view+json": {
       "model_id": "d5a81bd3d080425da2bbf570122e0c62",
       "version_major": 2,
       "version_minor": 0
      },
      "text/plain": [
       "  0%|          | 0/2 [00:00<?, ?it/s]"
      ]
     },
     "metadata": {},
     "output_type": "display_data"
    },
    {
     "name": "stdout",
     "output_type": "stream",
     "text": [
      "Epoch 125 Training Accuracy: tensor(0.6117)\n"
     ]
    },
    {
     "data": {
      "application/vnd.jupyter.widget-view+json": {
       "model_id": "3b4eb2efbf754bb9b85934ef83d4f2d2",
       "version_major": 2,
       "version_minor": 0
      },
      "text/plain": [
       "  0%|          | 0/2 [00:00<?, ?it/s]"
      ]
     },
     "metadata": {},
     "output_type": "display_data"
    },
    {
     "name": "stdout",
     "output_type": "stream",
     "text": [
      "Epoch 126 Training Accuracy: tensor(0.6225)\n"
     ]
    },
    {
     "data": {
      "application/vnd.jupyter.widget-view+json": {
       "model_id": "1d5dac44c1c14b44a67235b5e47054bb",
       "version_major": 2,
       "version_minor": 0
      },
      "text/plain": [
       "  0%|          | 0/2 [00:00<?, ?it/s]"
      ]
     },
     "metadata": {},
     "output_type": "display_data"
    },
    {
     "name": "stdout",
     "output_type": "stream",
     "text": [
      "Epoch 127 Training Accuracy: tensor(0.5900)\n"
     ]
    },
    {
     "data": {
      "application/vnd.jupyter.widget-view+json": {
       "model_id": "63df1b43c1e34579a4bf70a694d7d7bb",
       "version_major": 2,
       "version_minor": 0
      },
      "text/plain": [
       "  0%|          | 0/2 [00:00<?, ?it/s]"
      ]
     },
     "metadata": {},
     "output_type": "display_data"
    },
    {
     "name": "stdout",
     "output_type": "stream",
     "text": [
      "Epoch 128 Training Accuracy: tensor(0.6008)\n"
     ]
    },
    {
     "data": {
      "application/vnd.jupyter.widget-view+json": {
       "model_id": "b70ef73972014a8c8a228769864e2b66",
       "version_major": 2,
       "version_minor": 0
      },
      "text/plain": [
       "  0%|          | 0/2 [00:00<?, ?it/s]"
      ]
     },
     "metadata": {},
     "output_type": "display_data"
    },
    {
     "name": "stdout",
     "output_type": "stream",
     "text": [
      "Epoch 129 Training Accuracy: tensor(0.6550)\n"
     ]
    },
    {
     "data": {
      "application/vnd.jupyter.widget-view+json": {
       "model_id": "7f0c9f9a3934472d8bda435dfd5352a2",
       "version_major": 2,
       "version_minor": 0
      },
      "text/plain": [
       "  0%|          | 0/2 [00:00<?, ?it/s]"
      ]
     },
     "metadata": {},
     "output_type": "display_data"
    },
    {
     "name": "stdout",
     "output_type": "stream",
     "text": [
      "Epoch 130 Training Accuracy: tensor(0.6658)\n"
     ]
    },
    {
     "data": {
      "application/vnd.jupyter.widget-view+json": {
       "model_id": "8742501ba9cb402797eb302da3a6fac9",
       "version_major": 2,
       "version_minor": 0
      },
      "text/plain": [
       "  0%|          | 0/2 [00:00<?, ?it/s]"
      ]
     },
     "metadata": {},
     "output_type": "display_data"
    },
    {
     "name": "stdout",
     "output_type": "stream",
     "text": [
      "Epoch 131 Training Accuracy: tensor(0.6333)\n"
     ]
    },
    {
     "data": {
      "application/vnd.jupyter.widget-view+json": {
       "model_id": "a2b34389ca5a409dbf5bd22277e9c19a",
       "version_major": 2,
       "version_minor": 0
      },
      "text/plain": [
       "  0%|          | 0/2 [00:00<?, ?it/s]"
      ]
     },
     "metadata": {},
     "output_type": "display_data"
    },
    {
     "name": "stdout",
     "output_type": "stream",
     "text": [
      "Epoch 132 Training Accuracy: tensor(0.6225)\n"
     ]
    },
    {
     "data": {
      "application/vnd.jupyter.widget-view+json": {
       "model_id": "3e744b4089514372b234905bdec8acb9",
       "version_major": 2,
       "version_minor": 0
      },
      "text/plain": [
       "  0%|          | 0/2 [00:00<?, ?it/s]"
      ]
     },
     "metadata": {},
     "output_type": "display_data"
    },
    {
     "name": "stdout",
     "output_type": "stream",
     "text": [
      "Epoch 133 Training Accuracy: tensor(0.6008)\n"
     ]
    },
    {
     "data": {
      "application/vnd.jupyter.widget-view+json": {
       "model_id": "d922a78dbabb48abad9f381f848ba926",
       "version_major": 2,
       "version_minor": 0
      },
      "text/plain": [
       "  0%|          | 0/2 [00:00<?, ?it/s]"
      ]
     },
     "metadata": {},
     "output_type": "display_data"
    },
    {
     "name": "stdout",
     "output_type": "stream",
     "text": [
      "Epoch 134 Training Accuracy: tensor(0.6008)\n"
     ]
    },
    {
     "data": {
      "application/vnd.jupyter.widget-view+json": {
       "model_id": "68fbeb0841af475791c20db5db92a493",
       "version_major": 2,
       "version_minor": 0
      },
      "text/plain": [
       "  0%|          | 0/2 [00:00<?, ?it/s]"
      ]
     },
     "metadata": {},
     "output_type": "display_data"
    },
    {
     "name": "stdout",
     "output_type": "stream",
     "text": [
      "Epoch 135 Training Accuracy: tensor(0.6117)\n"
     ]
    },
    {
     "data": {
      "application/vnd.jupyter.widget-view+json": {
       "model_id": "9628507c1e4b4d1899106b5bac713f9f",
       "version_major": 2,
       "version_minor": 0
      },
      "text/plain": [
       "  0%|          | 0/2 [00:00<?, ?it/s]"
      ]
     },
     "metadata": {},
     "output_type": "display_data"
    },
    {
     "name": "stdout",
     "output_type": "stream",
     "text": [
      "Epoch 136 Training Accuracy: tensor(0.5900)\n"
     ]
    },
    {
     "data": {
      "application/vnd.jupyter.widget-view+json": {
       "model_id": "9a4d3302eb0d4709b5bccfc29c5e99f8",
       "version_major": 2,
       "version_minor": 0
      },
      "text/plain": [
       "  0%|          | 0/2 [00:00<?, ?it/s]"
      ]
     },
     "metadata": {},
     "output_type": "display_data"
    },
    {
     "name": "stdout",
     "output_type": "stream",
     "text": [
      "Epoch 137 Training Accuracy: tensor(0.6767)\n"
     ]
    },
    {
     "data": {
      "application/vnd.jupyter.widget-view+json": {
       "model_id": "24a0401bd62540ea84f91d35f70d80a6",
       "version_major": 2,
       "version_minor": 0
      },
      "text/plain": [
       "  0%|          | 0/2 [00:00<?, ?it/s]"
      ]
     },
     "metadata": {},
     "output_type": "display_data"
    },
    {
     "name": "stdout",
     "output_type": "stream",
     "text": [
      "Epoch 138 Training Accuracy: tensor(0.5900)\n"
     ]
    },
    {
     "data": {
      "application/vnd.jupyter.widget-view+json": {
       "model_id": "18f28c51f14546638c0597be0a6f3a10",
       "version_major": 2,
       "version_minor": 0
      },
      "text/plain": [
       "  0%|          | 0/2 [00:00<?, ?it/s]"
      ]
     },
     "metadata": {},
     "output_type": "display_data"
    },
    {
     "name": "stdout",
     "output_type": "stream",
     "text": [
      "Epoch 139 Training Accuracy: tensor(0.6333)\n"
     ]
    },
    {
     "data": {
      "application/vnd.jupyter.widget-view+json": {
       "model_id": "cf0f6adfafff4e8a9683c4edaa66c5db",
       "version_major": 2,
       "version_minor": 0
      },
      "text/plain": [
       "  0%|          | 0/2 [00:00<?, ?it/s]"
      ]
     },
     "metadata": {},
     "output_type": "display_data"
    },
    {
     "name": "stdout",
     "output_type": "stream",
     "text": [
      "Epoch 140 Training Accuracy: tensor(0.6225)\n"
     ]
    },
    {
     "data": {
      "application/vnd.jupyter.widget-view+json": {
       "model_id": "1b61349653644424a5aa854b4efdd8df",
       "version_major": 2,
       "version_minor": 0
      },
      "text/plain": [
       "  0%|          | 0/2 [00:00<?, ?it/s]"
      ]
     },
     "metadata": {},
     "output_type": "display_data"
    },
    {
     "name": "stdout",
     "output_type": "stream",
     "text": [
      "Epoch 141 Training Accuracy: tensor(0.6125)\n"
     ]
    },
    {
     "data": {
      "application/vnd.jupyter.widget-view+json": {
       "model_id": "d1a55b535b9b4701a5710bc153cfc1b2",
       "version_major": 2,
       "version_minor": 0
      },
      "text/plain": [
       "  0%|          | 0/2 [00:00<?, ?it/s]"
      ]
     },
     "metadata": {},
     "output_type": "display_data"
    },
    {
     "name": "stdout",
     "output_type": "stream",
     "text": [
      "Epoch 142 Training Accuracy: tensor(0.6125)\n"
     ]
    },
    {
     "data": {
      "application/vnd.jupyter.widget-view+json": {
       "model_id": "c14d56eedc71464e89a54639c2f5146c",
       "version_major": 2,
       "version_minor": 0
      },
      "text/plain": [
       "  0%|          | 0/2 [00:00<?, ?it/s]"
      ]
     },
     "metadata": {},
     "output_type": "display_data"
    },
    {
     "name": "stdout",
     "output_type": "stream",
     "text": [
      "Epoch 143 Training Accuracy: tensor(0.6450)\n"
     ]
    },
    {
     "data": {
      "application/vnd.jupyter.widget-view+json": {
       "model_id": "22fd2dc2febc47089c513af2a8aec5db",
       "version_major": 2,
       "version_minor": 0
      },
      "text/plain": [
       "  0%|          | 0/2 [00:00<?, ?it/s]"
      ]
     },
     "metadata": {},
     "output_type": "display_data"
    },
    {
     "name": "stdout",
     "output_type": "stream",
     "text": [
      "Epoch 144 Training Accuracy: tensor(0.6233)\n"
     ]
    },
    {
     "data": {
      "application/vnd.jupyter.widget-view+json": {
       "model_id": "914e18f6ed514ed38b7ba0564c10c7de",
       "version_major": 2,
       "version_minor": 0
      },
      "text/plain": [
       "  0%|          | 0/2 [00:00<?, ?it/s]"
      ]
     },
     "metadata": {},
     "output_type": "display_data"
    },
    {
     "name": "stdout",
     "output_type": "stream",
     "text": [
      "Epoch 145 Training Accuracy: tensor(0.6117)\n"
     ]
    },
    {
     "data": {
      "application/vnd.jupyter.widget-view+json": {
       "model_id": "f4b3184a28984ab8b039ae6b8fad0ca5",
       "version_major": 2,
       "version_minor": 0
      },
      "text/plain": [
       "  0%|          | 0/2 [00:00<?, ?it/s]"
      ]
     },
     "metadata": {},
     "output_type": "display_data"
    },
    {
     "name": "stdout",
     "output_type": "stream",
     "text": [
      "Epoch 146 Training Accuracy: tensor(0.6658)\n"
     ]
    },
    {
     "data": {
      "application/vnd.jupyter.widget-view+json": {
       "model_id": "7da26b115ab14621adb20163d5aadb27",
       "version_major": 2,
       "version_minor": 0
      },
      "text/plain": [
       "  0%|          | 0/2 [00:00<?, ?it/s]"
      ]
     },
     "metadata": {},
     "output_type": "display_data"
    },
    {
     "name": "stdout",
     "output_type": "stream",
     "text": [
      "Epoch 147 Training Accuracy: tensor(0.6117)\n"
     ]
    },
    {
     "data": {
      "application/vnd.jupyter.widget-view+json": {
       "model_id": "f57466404ee1436fa9864ddf7825c702",
       "version_major": 2,
       "version_minor": 0
      },
      "text/plain": [
       "  0%|          | 0/2 [00:00<?, ?it/s]"
      ]
     },
     "metadata": {},
     "output_type": "display_data"
    },
    {
     "name": "stdout",
     "output_type": "stream",
     "text": [
      "Epoch 148 Training Accuracy: tensor(0.6225)\n"
     ]
    },
    {
     "data": {
      "application/vnd.jupyter.widget-view+json": {
       "model_id": "c75a5e0b64a84a838890ec195a3c007d",
       "version_major": 2,
       "version_minor": 0
      },
      "text/plain": [
       "  0%|          | 0/2 [00:00<?, ?it/s]"
      ]
     },
     "metadata": {},
     "output_type": "display_data"
    },
    {
     "name": "stdout",
     "output_type": "stream",
     "text": [
      "Epoch 149 Training Accuracy: tensor(0.6225)\n"
     ]
    },
    {
     "data": {
      "application/vnd.jupyter.widget-view+json": {
       "model_id": "3259b9e96d5a466891429f5101643b38",
       "version_major": 2,
       "version_minor": 0
      },
      "text/plain": [
       "  0%|          | 0/2 [00:00<?, ?it/s]"
      ]
     },
     "metadata": {},
     "output_type": "display_data"
    },
    {
     "name": "stdout",
     "output_type": "stream",
     "text": [
      "Epoch 150 Training Accuracy: tensor(0.6225)\n"
     ]
    },
    {
     "data": {
      "application/vnd.jupyter.widget-view+json": {
       "model_id": "f95f20d91a3b4635819db23323e7d05c",
       "version_major": 2,
       "version_minor": 0
      },
      "text/plain": [
       "  0%|          | 0/2 [00:00<?, ?it/s]"
      ]
     },
     "metadata": {},
     "output_type": "display_data"
    },
    {
     "name": "stdout",
     "output_type": "stream",
     "text": [
      "Epoch 151 Training Accuracy: tensor(0.6008)\n"
     ]
    },
    {
     "data": {
      "application/vnd.jupyter.widget-view+json": {
       "model_id": "d9c09fa814604d5dbcfe1b6714309850",
       "version_major": 2,
       "version_minor": 0
      },
      "text/plain": [
       "  0%|          | 0/2 [00:00<?, ?it/s]"
      ]
     },
     "metadata": {},
     "output_type": "display_data"
    },
    {
     "name": "stdout",
     "output_type": "stream",
     "text": [
      "Epoch 152 Training Accuracy: tensor(0.5900)\n"
     ]
    },
    {
     "data": {
      "application/vnd.jupyter.widget-view+json": {
       "model_id": "812ec052d27748f3a7e704865e08ebea",
       "version_major": 2,
       "version_minor": 0
      },
      "text/plain": [
       "  0%|          | 0/2 [00:00<?, ?it/s]"
      ]
     },
     "metadata": {},
     "output_type": "display_data"
    },
    {
     "name": "stdout",
     "output_type": "stream",
     "text": [
      "Epoch 153 Training Accuracy: tensor(0.5900)\n"
     ]
    },
    {
     "data": {
      "application/vnd.jupyter.widget-view+json": {
       "model_id": "8d37c28244f14cc6baab02007e86d531",
       "version_major": 2,
       "version_minor": 0
      },
      "text/plain": [
       "  0%|          | 0/2 [00:00<?, ?it/s]"
      ]
     },
     "metadata": {},
     "output_type": "display_data"
    },
    {
     "name": "stdout",
     "output_type": "stream",
     "text": [
      "Epoch 154 Training Accuracy: tensor(0.6117)\n"
     ]
    },
    {
     "data": {
      "application/vnd.jupyter.widget-view+json": {
       "model_id": "b94211c472ff4ee18742a1de5c39b4ec",
       "version_major": 2,
       "version_minor": 0
      },
      "text/plain": [
       "  0%|          | 0/2 [00:00<?, ?it/s]"
      ]
     },
     "metadata": {},
     "output_type": "display_data"
    },
    {
     "name": "stdout",
     "output_type": "stream",
     "text": [
      "Epoch 155 Training Accuracy: tensor(0.6442)\n"
     ]
    },
    {
     "data": {
      "application/vnd.jupyter.widget-view+json": {
       "model_id": "397000444bdb4cab98ae2f906d304dac",
       "version_major": 2,
       "version_minor": 0
      },
      "text/plain": [
       "  0%|          | 0/2 [00:00<?, ?it/s]"
      ]
     },
     "metadata": {},
     "output_type": "display_data"
    },
    {
     "name": "stdout",
     "output_type": "stream",
     "text": [
      "Epoch 156 Training Accuracy: tensor(0.5900)\n"
     ]
    },
    {
     "data": {
      "application/vnd.jupyter.widget-view+json": {
       "model_id": "b29a5ea54c3c4b23980816576add8107",
       "version_major": 2,
       "version_minor": 0
      },
      "text/plain": [
       "  0%|          | 0/2 [00:00<?, ?it/s]"
      ]
     },
     "metadata": {},
     "output_type": "display_data"
    },
    {
     "name": "stdout",
     "output_type": "stream",
     "text": [
      "Epoch 157 Training Accuracy: tensor(0.6117)\n"
     ]
    },
    {
     "data": {
      "application/vnd.jupyter.widget-view+json": {
       "model_id": "3bb2fb924e37470f9aaa640049090098",
       "version_major": 2,
       "version_minor": 0
      },
      "text/plain": [
       "  0%|          | 0/2 [00:00<?, ?it/s]"
      ]
     },
     "metadata": {},
     "output_type": "display_data"
    },
    {
     "name": "stdout",
     "output_type": "stream",
     "text": [
      "Epoch 158 Training Accuracy: tensor(0.6333)\n"
     ]
    },
    {
     "data": {
      "application/vnd.jupyter.widget-view+json": {
       "model_id": "eef2bf272f97466fac87a9686809ceb8",
       "version_major": 2,
       "version_minor": 0
      },
      "text/plain": [
       "  0%|          | 0/2 [00:00<?, ?it/s]"
      ]
     },
     "metadata": {},
     "output_type": "display_data"
    },
    {
     "name": "stdout",
     "output_type": "stream",
     "text": [
      "Epoch 159 Training Accuracy: tensor(0.5900)\n"
     ]
    },
    {
     "data": {
      "application/vnd.jupyter.widget-view+json": {
       "model_id": "a0f2be45ce234254833909efe2dca51f",
       "version_major": 2,
       "version_minor": 0
      },
      "text/plain": [
       "  0%|          | 0/2 [00:00<?, ?it/s]"
      ]
     },
     "metadata": {},
     "output_type": "display_data"
    },
    {
     "name": "stdout",
     "output_type": "stream",
     "text": [
      "Epoch 160 Training Accuracy: tensor(0.6225)\n"
     ]
    },
    {
     "data": {
      "application/vnd.jupyter.widget-view+json": {
       "model_id": "095fb36e02554f72911ba00c55e86be2",
       "version_major": 2,
       "version_minor": 0
      },
      "text/plain": [
       "  0%|          | 0/2 [00:00<?, ?it/s]"
      ]
     },
     "metadata": {},
     "output_type": "display_data"
    },
    {
     "name": "stdout",
     "output_type": "stream",
     "text": [
      "Epoch 161 Training Accuracy: tensor(0.6333)\n"
     ]
    },
    {
     "data": {
      "application/vnd.jupyter.widget-view+json": {
       "model_id": "2250327632b5432e85ea87b29befc2ea",
       "version_major": 2,
       "version_minor": 0
      },
      "text/plain": [
       "  0%|          | 0/2 [00:00<?, ?it/s]"
      ]
     },
     "metadata": {},
     "output_type": "display_data"
    },
    {
     "name": "stdout",
     "output_type": "stream",
     "text": [
      "Epoch 162 Training Accuracy: tensor(0.6442)\n"
     ]
    },
    {
     "data": {
      "application/vnd.jupyter.widget-view+json": {
       "model_id": "ce3273fd42cb4feea15a87ecaa8c7955",
       "version_major": 2,
       "version_minor": 0
      },
      "text/plain": [
       "  0%|          | 0/2 [00:00<?, ?it/s]"
      ]
     },
     "metadata": {},
     "output_type": "display_data"
    },
    {
     "name": "stdout",
     "output_type": "stream",
     "text": [
      "Epoch 163 Training Accuracy: tensor(0.6225)\n"
     ]
    },
    {
     "data": {
      "application/vnd.jupyter.widget-view+json": {
       "model_id": "18b13931ff8a4bebaabf9236acc82c25",
       "version_major": 2,
       "version_minor": 0
      },
      "text/plain": [
       "  0%|          | 0/2 [00:00<?, ?it/s]"
      ]
     },
     "metadata": {},
     "output_type": "display_data"
    },
    {
     "name": "stdout",
     "output_type": "stream",
     "text": [
      "Epoch 164 Training Accuracy: tensor(0.6442)\n"
     ]
    },
    {
     "data": {
      "application/vnd.jupyter.widget-view+json": {
       "model_id": "2f8a296333804d15a3fbeef7da31abdb",
       "version_major": 2,
       "version_minor": 0
      },
      "text/plain": [
       "  0%|          | 0/2 [00:00<?, ?it/s]"
      ]
     },
     "metadata": {},
     "output_type": "display_data"
    },
    {
     "name": "stdout",
     "output_type": "stream",
     "text": [
      "Epoch 165 Training Accuracy: tensor(0.5900)\n"
     ]
    },
    {
     "data": {
      "application/vnd.jupyter.widget-view+json": {
       "model_id": "8c125136da184c9bb6f1deb8688bfe4f",
       "version_major": 2,
       "version_minor": 0
      },
      "text/plain": [
       "  0%|          | 0/2 [00:00<?, ?it/s]"
      ]
     },
     "metadata": {},
     "output_type": "display_data"
    },
    {
     "name": "stdout",
     "output_type": "stream",
     "text": [
      "Epoch 166 Training Accuracy: tensor(0.6333)\n"
     ]
    },
    {
     "data": {
      "application/vnd.jupyter.widget-view+json": {
       "model_id": "9cb2d476fb05467ab70e1c35b5b18540",
       "version_major": 2,
       "version_minor": 0
      },
      "text/plain": [
       "  0%|          | 0/2 [00:00<?, ?it/s]"
      ]
     },
     "metadata": {},
     "output_type": "display_data"
    },
    {
     "name": "stdout",
     "output_type": "stream",
     "text": [
      "Epoch 167 Training Accuracy: tensor(0.6117)\n"
     ]
    },
    {
     "data": {
      "application/vnd.jupyter.widget-view+json": {
       "model_id": "000a09166ce54d27b25a7fd6e673a750",
       "version_major": 2,
       "version_minor": 0
      },
      "text/plain": [
       "  0%|          | 0/2 [00:00<?, ?it/s]"
      ]
     },
     "metadata": {},
     "output_type": "display_data"
    },
    {
     "name": "stdout",
     "output_type": "stream",
     "text": [
      "Epoch 168 Training Accuracy: tensor(0.6333)\n"
     ]
    },
    {
     "data": {
      "application/vnd.jupyter.widget-view+json": {
       "model_id": "389de66d93504adea7468d18b1348e21",
       "version_major": 2,
       "version_minor": 0
      },
      "text/plain": [
       "  0%|          | 0/2 [00:00<?, ?it/s]"
      ]
     },
     "metadata": {},
     "output_type": "display_data"
    },
    {
     "name": "stdout",
     "output_type": "stream",
     "text": [
      "Epoch 169 Training Accuracy: tensor(0.5900)\n"
     ]
    },
    {
     "data": {
      "application/vnd.jupyter.widget-view+json": {
       "model_id": "4f32f0f7615c4ccfb3162684a970bf10",
       "version_major": 2,
       "version_minor": 0
      },
      "text/plain": [
       "  0%|          | 0/2 [00:00<?, ?it/s]"
      ]
     },
     "metadata": {},
     "output_type": "display_data"
    },
    {
     "name": "stdout",
     "output_type": "stream",
     "text": [
      "Epoch 170 Training Accuracy: tensor(0.6117)\n"
     ]
    },
    {
     "data": {
      "application/vnd.jupyter.widget-view+json": {
       "model_id": "8917dd05fbfb4a39b388d1596ff0f0d4",
       "version_major": 2,
       "version_minor": 0
      },
      "text/plain": [
       "  0%|          | 0/2 [00:00<?, ?it/s]"
      ]
     },
     "metadata": {},
     "output_type": "display_data"
    },
    {
     "name": "stdout",
     "output_type": "stream",
     "text": [
      "Epoch 171 Training Accuracy: tensor(0.6225)\n"
     ]
    },
    {
     "data": {
      "application/vnd.jupyter.widget-view+json": {
       "model_id": "1f06bae575094384aa9662187fa76cbc",
       "version_major": 2,
       "version_minor": 0
      },
      "text/plain": [
       "  0%|          | 0/2 [00:00<?, ?it/s]"
      ]
     },
     "metadata": {},
     "output_type": "display_data"
    },
    {
     "name": "stdout",
     "output_type": "stream",
     "text": [
      "Epoch 172 Training Accuracy: tensor(0.6333)\n"
     ]
    },
    {
     "data": {
      "application/vnd.jupyter.widget-view+json": {
       "model_id": "6a85877a4ca44d9a81908f56514147c2",
       "version_major": 2,
       "version_minor": 0
      },
      "text/plain": [
       "  0%|          | 0/2 [00:00<?, ?it/s]"
      ]
     },
     "metadata": {},
     "output_type": "display_data"
    },
    {
     "name": "stdout",
     "output_type": "stream",
     "text": [
      "Epoch 173 Training Accuracy: tensor(0.6008)\n"
     ]
    },
    {
     "data": {
      "application/vnd.jupyter.widget-view+json": {
       "model_id": "3ae2267a914b492c9b528e208a9d5012",
       "version_major": 2,
       "version_minor": 0
      },
      "text/plain": [
       "  0%|          | 0/2 [00:00<?, ?it/s]"
      ]
     },
     "metadata": {},
     "output_type": "display_data"
    },
    {
     "name": "stdout",
     "output_type": "stream",
     "text": [
      "Epoch 174 Training Accuracy: tensor(0.6333)\n"
     ]
    },
    {
     "data": {
      "application/vnd.jupyter.widget-view+json": {
       "model_id": "17a2e01dd356471f91e78cd9659c0b54",
       "version_major": 2,
       "version_minor": 0
      },
      "text/plain": [
       "  0%|          | 0/2 [00:00<?, ?it/s]"
      ]
     },
     "metadata": {},
     "output_type": "display_data"
    },
    {
     "name": "stdout",
     "output_type": "stream",
     "text": [
      "Epoch 175 Training Accuracy: tensor(0.6333)\n"
     ]
    },
    {
     "data": {
      "application/vnd.jupyter.widget-view+json": {
       "model_id": "f6a0e59b2e5440fbba2a9b47e5b4022c",
       "version_major": 2,
       "version_minor": 0
      },
      "text/plain": [
       "  0%|          | 0/2 [00:00<?, ?it/s]"
      ]
     },
     "metadata": {},
     "output_type": "display_data"
    },
    {
     "name": "stdout",
     "output_type": "stream",
     "text": [
      "Epoch 176 Training Accuracy: tensor(0.6008)\n"
     ]
    },
    {
     "data": {
      "application/vnd.jupyter.widget-view+json": {
       "model_id": "d40e7ffe08af461ea3c38b0be770f333",
       "version_major": 2,
       "version_minor": 0
      },
      "text/plain": [
       "  0%|          | 0/2 [00:00<?, ?it/s]"
      ]
     },
     "metadata": {},
     "output_type": "display_data"
    },
    {
     "name": "stdout",
     "output_type": "stream",
     "text": [
      "Epoch 177 Training Accuracy: tensor(0.6333)\n"
     ]
    },
    {
     "data": {
      "application/vnd.jupyter.widget-view+json": {
       "model_id": "a6e2467995da48468c9a1d3dd88dcf20",
       "version_major": 2,
       "version_minor": 0
      },
      "text/plain": [
       "  0%|          | 0/2 [00:00<?, ?it/s]"
      ]
     },
     "metadata": {},
     "output_type": "display_data"
    },
    {
     "name": "stdout",
     "output_type": "stream",
     "text": [
      "Epoch 178 Training Accuracy: tensor(0.6333)\n"
     ]
    },
    {
     "data": {
      "application/vnd.jupyter.widget-view+json": {
       "model_id": "2970d2fbf2ec4e8d94a8c9a6cc242660",
       "version_major": 2,
       "version_minor": 0
      },
      "text/plain": [
       "  0%|          | 0/2 [00:00<?, ?it/s]"
      ]
     },
     "metadata": {},
     "output_type": "display_data"
    },
    {
     "name": "stdout",
     "output_type": "stream",
     "text": [
      "Epoch 179 Training Accuracy: tensor(0.6225)\n"
     ]
    },
    {
     "data": {
      "application/vnd.jupyter.widget-view+json": {
       "model_id": "b5d31354af404325b1451e3ff06c9c2c",
       "version_major": 2,
       "version_minor": 0
      },
      "text/plain": [
       "  0%|          | 0/2 [00:00<?, ?it/s]"
      ]
     },
     "metadata": {},
     "output_type": "display_data"
    },
    {
     "name": "stdout",
     "output_type": "stream",
     "text": [
      "Epoch 180 Training Accuracy: tensor(0.6225)\n"
     ]
    },
    {
     "data": {
      "application/vnd.jupyter.widget-view+json": {
       "model_id": "71c907caaa2f40c7b586e9300eb0bb6d",
       "version_major": 2,
       "version_minor": 0
      },
      "text/plain": [
       "  0%|          | 0/2 [00:00<?, ?it/s]"
      ]
     },
     "metadata": {},
     "output_type": "display_data"
    },
    {
     "name": "stdout",
     "output_type": "stream",
     "text": [
      "Epoch 181 Training Accuracy: tensor(0.6442)\n"
     ]
    },
    {
     "data": {
      "application/vnd.jupyter.widget-view+json": {
       "model_id": "41bbaf77aadb4ae88832796a7c7ccb54",
       "version_major": 2,
       "version_minor": 0
      },
      "text/plain": [
       "  0%|          | 0/2 [00:00<?, ?it/s]"
      ]
     },
     "metadata": {},
     "output_type": "display_data"
    },
    {
     "name": "stdout",
     "output_type": "stream",
     "text": [
      "Epoch 182 Training Accuracy: tensor(0.6225)\n"
     ]
    },
    {
     "data": {
      "application/vnd.jupyter.widget-view+json": {
       "model_id": "5216618d0dc3407a9e20a807e44f65e9",
       "version_major": 2,
       "version_minor": 0
      },
      "text/plain": [
       "  0%|          | 0/2 [00:00<?, ?it/s]"
      ]
     },
     "metadata": {},
     "output_type": "display_data"
    },
    {
     "name": "stdout",
     "output_type": "stream",
     "text": [
      "Epoch 183 Training Accuracy: tensor(0.6225)\n"
     ]
    },
    {
     "data": {
      "application/vnd.jupyter.widget-view+json": {
       "model_id": "bb53099e52e94be0a97aea3911e975d1",
       "version_major": 2,
       "version_minor": 0
      },
      "text/plain": [
       "  0%|          | 0/2 [00:00<?, ?it/s]"
      ]
     },
     "metadata": {},
     "output_type": "display_data"
    },
    {
     "name": "stdout",
     "output_type": "stream",
     "text": [
      "Epoch 184 Training Accuracy: tensor(0.6017)\n"
     ]
    },
    {
     "data": {
      "application/vnd.jupyter.widget-view+json": {
       "model_id": "b087ccc3b0194705802d7f3c1e39d97e",
       "version_major": 2,
       "version_minor": 0
      },
      "text/plain": [
       "  0%|          | 0/2 [00:00<?, ?it/s]"
      ]
     },
     "metadata": {},
     "output_type": "display_data"
    },
    {
     "name": "stdout",
     "output_type": "stream",
     "text": [
      "Epoch 185 Training Accuracy: tensor(0.5800)\n"
     ]
    },
    {
     "data": {
      "application/vnd.jupyter.widget-view+json": {
       "model_id": "3550d2d6b38243288819717b80b6300e",
       "version_major": 2,
       "version_minor": 0
      },
      "text/plain": [
       "  0%|          | 0/2 [00:00<?, ?it/s]"
      ]
     },
     "metadata": {},
     "output_type": "display_data"
    },
    {
     "name": "stdout",
     "output_type": "stream",
     "text": [
      "Epoch 186 Training Accuracy: tensor(0.6008)\n"
     ]
    },
    {
     "data": {
      "application/vnd.jupyter.widget-view+json": {
       "model_id": "7b01eb7f23b54684ad1435ea3574360f",
       "version_major": 2,
       "version_minor": 0
      },
      "text/plain": [
       "  0%|          | 0/2 [00:00<?, ?it/s]"
      ]
     },
     "metadata": {},
     "output_type": "display_data"
    },
    {
     "name": "stdout",
     "output_type": "stream",
     "text": [
      "Epoch 187 Training Accuracy: tensor(0.6225)\n"
     ]
    },
    {
     "data": {
      "application/vnd.jupyter.widget-view+json": {
       "model_id": "858037596e1e42b29f4833f0fff9b2cb",
       "version_major": 2,
       "version_minor": 0
      },
      "text/plain": [
       "  0%|          | 0/2 [00:00<?, ?it/s]"
      ]
     },
     "metadata": {},
     "output_type": "display_data"
    },
    {
     "name": "stdout",
     "output_type": "stream",
     "text": [
      "Epoch 188 Training Accuracy: tensor(0.5792)\n"
     ]
    },
    {
     "data": {
      "application/vnd.jupyter.widget-view+json": {
       "model_id": "fd951b41104542619ce426f3e98ad6cf",
       "version_major": 2,
       "version_minor": 0
      },
      "text/plain": [
       "  0%|          | 0/2 [00:00<?, ?it/s]"
      ]
     },
     "metadata": {},
     "output_type": "display_data"
    },
    {
     "name": "stdout",
     "output_type": "stream",
     "text": [
      "Epoch 189 Training Accuracy: tensor(0.6325)\n"
     ]
    },
    {
     "data": {
      "application/vnd.jupyter.widget-view+json": {
       "model_id": "8b76e2858016482aa4e341ffd2af368c",
       "version_major": 2,
       "version_minor": 0
      },
      "text/plain": [
       "  0%|          | 0/2 [00:00<?, ?it/s]"
      ]
     },
     "metadata": {},
     "output_type": "display_data"
    },
    {
     "name": "stdout",
     "output_type": "stream",
     "text": [
      "Epoch 190 Training Accuracy: tensor(0.6117)\n"
     ]
    },
    {
     "data": {
      "application/vnd.jupyter.widget-view+json": {
       "model_id": "f585d621fe3443829a22846342e1478e",
       "version_major": 2,
       "version_minor": 0
      },
      "text/plain": [
       "  0%|          | 0/2 [00:00<?, ?it/s]"
      ]
     },
     "metadata": {},
     "output_type": "display_data"
    },
    {
     "name": "stdout",
     "output_type": "stream",
     "text": [
      "Epoch 191 Training Accuracy: tensor(0.6008)\n"
     ]
    },
    {
     "data": {
      "application/vnd.jupyter.widget-view+json": {
       "model_id": "6bf2920a40144a49bfd247435add7e99",
       "version_major": 2,
       "version_minor": 0
      },
      "text/plain": [
       "  0%|          | 0/2 [00:00<?, ?it/s]"
      ]
     },
     "metadata": {},
     "output_type": "display_data"
    },
    {
     "name": "stdout",
     "output_type": "stream",
     "text": [
      "Epoch 192 Training Accuracy: tensor(0.6658)\n"
     ]
    },
    {
     "data": {
      "application/vnd.jupyter.widget-view+json": {
       "model_id": "c2acef93f3ff4882bc716f758d21ec22",
       "version_major": 2,
       "version_minor": 0
      },
      "text/plain": [
       "  0%|          | 0/2 [00:00<?, ?it/s]"
      ]
     },
     "metadata": {},
     "output_type": "display_data"
    },
    {
     "name": "stdout",
     "output_type": "stream",
     "text": [
      "Epoch 193 Training Accuracy: tensor(0.6550)\n"
     ]
    },
    {
     "data": {
      "application/vnd.jupyter.widget-view+json": {
       "model_id": "0b417b1146f1453ba10221f3bafc49cf",
       "version_major": 2,
       "version_minor": 0
      },
      "text/plain": [
       "  0%|          | 0/2 [00:00<?, ?it/s]"
      ]
     },
     "metadata": {},
     "output_type": "display_data"
    },
    {
     "name": "stdout",
     "output_type": "stream",
     "text": [
      "Epoch 194 Training Accuracy: tensor(0.6225)\n"
     ]
    },
    {
     "data": {
      "application/vnd.jupyter.widget-view+json": {
       "model_id": "198caf9547f8400fa547b71b3951df1c",
       "version_major": 2,
       "version_minor": 0
      },
      "text/plain": [
       "  0%|          | 0/2 [00:00<?, ?it/s]"
      ]
     },
     "metadata": {},
     "output_type": "display_data"
    },
    {
     "name": "stdout",
     "output_type": "stream",
     "text": [
      "Epoch 195 Training Accuracy: tensor(0.6550)\n"
     ]
    },
    {
     "data": {
      "application/vnd.jupyter.widget-view+json": {
       "model_id": "dde5f57354d84c80b5364e9728ae8d42",
       "version_major": 2,
       "version_minor": 0
      },
      "text/plain": [
       "  0%|          | 0/2 [00:00<?, ?it/s]"
      ]
     },
     "metadata": {},
     "output_type": "display_data"
    },
    {
     "name": "stdout",
     "output_type": "stream",
     "text": [
      "Epoch 196 Training Accuracy: tensor(0.6225)\n"
     ]
    },
    {
     "data": {
      "application/vnd.jupyter.widget-view+json": {
       "model_id": "de1f09c257b041f390818710690e9e6f",
       "version_major": 2,
       "version_minor": 0
      },
      "text/plain": [
       "  0%|          | 0/2 [00:00<?, ?it/s]"
      ]
     },
     "metadata": {},
     "output_type": "display_data"
    },
    {
     "name": "stdout",
     "output_type": "stream",
     "text": [
      "Epoch 197 Training Accuracy: tensor(0.6550)\n"
     ]
    },
    {
     "data": {
      "application/vnd.jupyter.widget-view+json": {
       "model_id": "07675eaaf7704034870b8d8529fd223a",
       "version_major": 2,
       "version_minor": 0
      },
      "text/plain": [
       "  0%|          | 0/2 [00:00<?, ?it/s]"
      ]
     },
     "metadata": {},
     "output_type": "display_data"
    },
    {
     "name": "stdout",
     "output_type": "stream",
     "text": [
      "Epoch 198 Training Accuracy: tensor(0.6225)\n"
     ]
    },
    {
     "data": {
      "application/vnd.jupyter.widget-view+json": {
       "model_id": "6801018131b74857bbc20183349239ff",
       "version_major": 2,
       "version_minor": 0
      },
      "text/plain": [
       "  0%|          | 0/2 [00:00<?, ?it/s]"
      ]
     },
     "metadata": {},
     "output_type": "display_data"
    },
    {
     "name": "stdout",
     "output_type": "stream",
     "text": [
      "Epoch 199 Training Accuracy: tensor(0.6342)\n"
     ]
    },
    {
     "data": {
      "application/vnd.jupyter.widget-view+json": {
       "model_id": "4bf8ebe712a245e081866e2749bd0b7c",
       "version_major": 2,
       "version_minor": 0
      },
      "text/plain": [
       "  0%|          | 0/1 [00:00<?, ?it/s]"
      ]
     },
     "metadata": {},
     "output_type": "display_data"
    },
    {
     "data": {
      "application/vnd.jupyter.widget-view+json": {
       "model_id": "d408c61c0b894a6387653d06d1aed732",
       "version_major": 2,
       "version_minor": 0
      },
      "text/plain": [
       "  0%|          | 0/2 [00:00<?, ?it/s]"
      ]
     },
     "metadata": {},
     "output_type": "display_data"
    },
    {
     "name": "stdout",
     "output_type": "stream",
     "text": [
      "rp accuracy test: 0.3870967626571655\n",
      "rp accuracy train: 0.3918918967247009\n"
     ]
    },
    {
     "data": {
      "text/plain": [
       "['rp_train_labels.joblib']"
      ]
     },
     "execution_count": 95,
     "metadata": {},
     "output_type": "execute_result"
    }
   ],
   "source": [
    "# rp training\n",
    "qrnn_rp_model = qrnn(MAX_SEQ_LEN,1,2,1)\n",
    "rp_qrnn_trained, rp_train_loss = model_trainer(qrnn_rp_model, NUM_EPOCHS, rp_trainloader)\n",
    "torch.save(rp_qrnn_trained, \"rp_qrnn.pt\")\n",
    "dump(rp_train_loss, \"rp_train_loss.joblib\")\n",
    "\n",
    "# loss_plotter(rp_train_loss, NUM_EPOCHS, save=True, save_name=\"rp_data\")\n",
    "\n",
    "\n",
    "# rp testing\n",
    "rp_preds, rp_acc, rp_labels = model_tester(rp_qrnn_trained, rp_testloader)\n",
    "rp_train_preds, rp_train_acc, rp_train_labels = model_tester(rp_qrnn_trained, rp_trainloader)\n",
    "\n",
    "print(f\"rp accuracy test: {rp_acc}\")\n",
    "print(f\"rp accuracy train: {rp_train_acc}\")\n",
    "\n",
    "dump(rp_preds, \"rp_preds.joblib\")\n",
    "dump(rp_labels, \"rp_labels.joblib\")\n",
    "dump(rp_train_preds, \"rp_train_preds.joblib\")\n",
    "dump(rp_train_labels, \"rp_train_labels.joblib\")"
   ]
  },
  {
   "cell_type": "markdown",
   "metadata": {
    "tags": []
   },
   "source": [
    "# Sentiment Labelled Sentences datasets:\n",
    "- Amazon\n",
    "- Yelp\n",
    "- IMDb"
   ]
  },
  {
   "cell_type": "code",
   "execution_count": null,
   "metadata": {
    "tags": []
   },
   "outputs": [
    {
     "name": "stdout",
     "output_type": "stream",
     "text": [
      "--2023-08-13 12:31:23--  https://archive.ics.uci.edu/static/public/331/sentiment+labelled+sentences.zip\n",
      "Resolving archive.ics.uci.edu (archive.ics.uci.edu)... 128.195.10.252\n",
      "Connecting to archive.ics.uci.edu (archive.ics.uci.edu)|128.195.10.252|:443... connected.\n",
      "HTTP request sent, awaiting response... 200 OK\n",
      "Length: unspecified\n",
      "Saving to: ‘sentiment+labelled+sentences.zip.1’\n",
      "\n",
      "sentiment+labelled+     [ <=>                ]  82.21K  --.-KB/s    in 0.07s   \n",
      "\n",
      "2023-08-13 12:31:23 (1.19 MB/s) - ‘sentiment+labelled+sentences.zip.1’ saved [84188]\n",
      "\n",
      "Archive:  sentiment+labelled+sentences.zip\n",
      "  inflating: sentiment labelled sentences/.DS_Store  \n",
      "  inflating: __MACOSX/sentiment labelled sentences/._.DS_Store  \n",
      "  inflating: sentiment labelled sentences/amazon_cells_labelled.txt  \n",
      "  inflating: sentiment labelled sentences/imdb_labelled.txt  \n",
      "  inflating: __MACOSX/sentiment labelled sentences/._imdb_labelled.txt  \n",
      "  inflating: sentiment labelled sentences/readme.txt  \n",
      "  inflating: __MACOSX/sentiment labelled sentences/._readme.txt  \n",
      "  inflating: sentiment labelled sentences/yelp_labelled.txt  \n",
      "  inflating: __MACOSX/._sentiment labelled sentences  \n"
     ]
    }
   ],
   "source": [
    "!wget https://archive.ics.uci.edu/static/public/331/sentiment+labelled+sentences.zip\n",
    "!unzip -o sentiment+labelled+sentences.zip\n",
    "!rm \"sentiment labelled sentences/readme.txt\""
   ]
  },
  {
   "cell_type": "code",
   "execution_count": null,
   "metadata": {
    "tags": []
   },
   "outputs": [],
   "source": [
    "# Separating Amazon, IMDb, Yelp dataset paths\n",
    "datasets_path = Path(\"sentiment labelled sentences\")\n",
    "datasets = list(datasets_path.glob(\"*.txt\"))\n",
    "\n",
    "# Reading all data and creating data loaders from our data loading strategy\n",
    "def read_process(datapaths: list):\n",
    "  retval = {}\n",
    "  for datapath in datapaths:\n",
    "    df = pd.DataFrame(list(map(lambda x: x.split(\"\\t\"), datapath.read_text().split(\"\\n\"))), columns=['text', 'label']).dropna()\n",
    "    df['label'] = df['label'].apply(lambda  x: int(x))\n",
    "    retval[datapath.name.split(\".\")[0]] = df\n",
    "  return retval\n",
    "\n",
    "def ttsplit(data: pd.DataFrame, test_size=0.2):\n",
    "    train_data, test_data = train_test_split(data, test_size=test_size, stratify=data['label'], random_state=42)\n",
    "    train_data, test_data = train_data.reset_index().drop(columns=['index']), test_data.reset_index().drop(columns=['index'])\n",
    "    # train_data = pd.DataFrame({'text': X_train, 'labels': y_train})\n",
    "    # test_data = pd.DataFrame({'text': X_test, 'labels': y_test})\n",
    "    return train_data, test_data\n",
    "\n",
    "datadict = read_process(datasets)\n",
    "amazon_data = datadict['amazon_cells_labelled']\n",
    "imdb_data = datadict['imdb_labelled']\n",
    "yelp_data = datadict['yelp_labelled']\n",
    "\n",
    "# Train test splitting\n",
    "amazon_train, amazon_test = ttsplit(amazon_data, 0.2)\n",
    "imdb_train, imdb_test = ttsplit(imdb_data, 0.2)\n",
    "yelp_train, yelp_test = ttsplit(yelp_data, 0.2)\n",
    "\n",
    "\n",
    "MAX_SEQ_LEN = 4\n",
    "BATCH_SIZE = 25\n",
    "NUM_EPOCHS = 200\n",
    "\n",
    "\n",
    "# TF-IDF vectorization and dataset creation\n",
    "amazon_trainset = txt2vecset(amazon_train, MAX_SEQ_LEN)\n",
    "imdb_trainset = txt2vecset(imdb_train, MAX_SEQ_LEN)\n",
    "yelp_trainset = txt2vecset(yelp_train, MAX_SEQ_LEN)\n",
    "\n",
    "amazon_testset = txt2vecset(amazon_test, MAX_SEQ_LEN, *amazon_trainset.retattrs())\n",
    "imdb_testset = txt2vecset(imdb_test, MAX_SEQ_LEN, *imdb_trainset.retattrs())\n",
    "yelp_testset = txt2vecset(yelp_test, MAX_SEQ_LEN, *yelp_trainset.retattrs())"
   ]
  },
  {
   "cell_type": "code",
   "execution_count": null,
   "metadata": {
    "tags": []
   },
   "outputs": [],
   "source": [
    "# Amazon dataloaders\n",
    "amazon_trainloader = DataLoader(amazon_trainset, shuffle=True, batch_size=BATCH_SIZE)\n",
    "amazon_testloader = DataLoader(amazon_testset, shuffle=True, batch_size=BATCH_SIZE)"
   ]
  },
  {
   "cell_type": "code",
   "execution_count": null,
   "metadata": {
    "tags": []
   },
   "outputs": [],
   "source": [
    "# Yelp dataloader\n",
    "yelp_trainloader = DataLoader(yelp_trainset, shuffle=True, batch_size=BATCH_SIZE)\n",
    "yelp_testloader = DataLoader(yelp_testset, shuffle=True, batch_size=BATCH_SIZE)"
   ]
  },
  {
   "cell_type": "code",
   "execution_count": null,
   "metadata": {
    "tags": []
   },
   "outputs": [],
   "source": [
    "# imdb dataloaders\n",
    "imdb_trainloader = DataLoader(imdb_trainset, shuffle=True, batch_size=BATCH_SIZE)\n",
    "imdb_testloader = DataLoader(imdb_testset, shuffle=True, batch_size=BATCH_SIZE)"
   ]
  },
  {
   "cell_type": "code",
   "execution_count": null,
   "metadata": {
    "scrolled": true,
    "tags": []
   },
   "outputs": [
    {
     "name": "stdout",
     "output_type": "stream",
     "text": [
      "Epoch 3 Training Accuracy: tensor(0.6125)\n"
     ]
    },
    {
     "data": {
      "application/vnd.jupyter.widget-view+json": {
       "model_id": "51e54709ab3747399eed0dd486cdee0c",
       "version_major": 2,
       "version_minor": 0
      },
      "text/plain": [
       "  0%|          | 0/32 [00:00<?, ?it/s]"
      ]
     },
     "metadata": {},
     "output_type": "display_data"
    },
    {
     "name": "stdout",
     "output_type": "stream",
     "text": [
      "Epoch 4 Training Accuracy: tensor(0.5600)\n"
     ]
    },
    {
     "data": {
      "application/vnd.jupyter.widget-view+json": {
       "model_id": "99f10e17d7c64822b9de1c46c0b96f7a",
       "version_major": 2,
       "version_minor": 0
      },
      "text/plain": [
       "  0%|          | 0/32 [00:00<?, ?it/s]"
      ]
     },
     "metadata": {},
     "output_type": "display_data"
    },
    {
     "name": "stdout",
     "output_type": "stream",
     "text": [
      "Epoch 5 Training Accuracy: tensor(0.5625)\n"
     ]
    },
    {
     "data": {
      "application/vnd.jupyter.widget-view+json": {
       "model_id": "8ffd9106a46b4c8cab944b7fbbf4bf96",
       "version_major": 2,
       "version_minor": 0
      },
      "text/plain": [
       "  0%|          | 0/32 [00:00<?, ?it/s]"
      ]
     },
     "metadata": {},
     "output_type": "display_data"
    },
    {
     "name": "stdout",
     "output_type": "stream",
     "text": [
      "Epoch 6 Training Accuracy: tensor(0.5362)\n"
     ]
    },
    {
     "data": {
      "application/vnd.jupyter.widget-view+json": {
       "model_id": "d09d4453c3d14aebad247f54cd48d88b",
       "version_major": 2,
       "version_minor": 0
      },
      "text/plain": [
       "  0%|          | 0/32 [00:00<?, ?it/s]"
      ]
     },
     "metadata": {},
     "output_type": "display_data"
    },
    {
     "name": "stdout",
     "output_type": "stream",
     "text": [
      "Epoch 7 Training Accuracy: tensor(0.5938)\n"
     ]
    },
    {
     "data": {
      "application/vnd.jupyter.widget-view+json": {
       "model_id": "e22cc5e1238a401d906e0ddcc9838001",
       "version_major": 2,
       "version_minor": 0
      },
      "text/plain": [
       "  0%|          | 0/32 [00:00<?, ?it/s]"
      ]
     },
     "metadata": {},
     "output_type": "display_data"
    },
    {
     "name": "stdout",
     "output_type": "stream",
     "text": [
      "Epoch 10 Training Accuracy: tensor(0.6050)\n"
     ]
    },
    {
     "data": {
      "application/vnd.jupyter.widget-view+json": {
       "model_id": "69fd7836ffb7430e919f88a6c5f3f36a",
       "version_major": 2,
       "version_minor": 0
      },
      "text/plain": [
       "  0%|          | 0/32 [00:00<?, ?it/s]"
      ]
     },
     "metadata": {},
     "output_type": "display_data"
    },
    {
     "name": "stdout",
     "output_type": "stream",
     "text": [
      "Epoch 11 Training Accuracy: tensor(0.6075)\n"
     ]
    },
    {
     "data": {
      "application/vnd.jupyter.widget-view+json": {
       "model_id": "04705ec16eed413797d0f99f7893a9a7",
       "version_major": 2,
       "version_minor": 0
      },
      "text/plain": [
       "  0%|          | 0/32 [00:00<?, ?it/s]"
      ]
     },
     "metadata": {},
     "output_type": "display_data"
    },
    {
     "name": "stdout",
     "output_type": "stream",
     "text": [
      "Epoch 12 Training Accuracy: tensor(0.5625)\n"
     ]
    },
    {
     "data": {
      "application/vnd.jupyter.widget-view+json": {
       "model_id": "e9fe61a0076e4a8f8d01d1216588bfdf",
       "version_major": 2,
       "version_minor": 0
      },
      "text/plain": [
       "  0%|          | 0/32 [00:00<?, ?it/s]"
      ]
     },
     "metadata": {},
     "output_type": "display_data"
    },
    {
     "name": "stdout",
     "output_type": "stream",
     "text": [
      "Epoch 13 Training Accuracy: tensor(0.6075)\n"
     ]
    },
    {
     "data": {
      "application/vnd.jupyter.widget-view+json": {
       "model_id": "65db6930f22c4f31affa85fa26533141",
       "version_major": 2,
       "version_minor": 0
      },
      "text/plain": [
       "  0%|          | 0/32 [00:00<?, ?it/s]"
      ]
     },
     "metadata": {},
     "output_type": "display_data"
    },
    {
     "name": "stdout",
     "output_type": "stream",
     "text": [
      "Epoch 14 Training Accuracy: tensor(0.6163)\n"
     ]
    },
    {
     "data": {
      "application/vnd.jupyter.widget-view+json": {
       "model_id": "54c46bea37dd4ecf85bfee6b849d190a",
       "version_major": 2,
       "version_minor": 0
      },
      "text/plain": [
       "  0%|          | 0/32 [00:00<?, ?it/s]"
      ]
     },
     "metadata": {},
     "output_type": "display_data"
    },
    {
     "name": "stdout",
     "output_type": "stream",
     "text": [
      "Epoch 15 Training Accuracy: tensor(0.6250)\n"
     ]
    },
    {
     "data": {
      "application/vnd.jupyter.widget-view+json": {
       "model_id": "2d7382f90e3042e2b072be9f42145461",
       "version_major": 2,
       "version_minor": 0
      },
      "text/plain": [
       "  0%|          | 0/32 [00:00<?, ?it/s]"
      ]
     },
     "metadata": {},
     "output_type": "display_data"
    },
    {
     "name": "stdout",
     "output_type": "stream",
     "text": [
      "Epoch 16 Training Accuracy: tensor(0.5512)\n"
     ]
    },
    {
     "data": {
      "application/vnd.jupyter.widget-view+json": {
       "model_id": "83d719dd7dd34d0abb9cca320b9f9cad",
       "version_major": 2,
       "version_minor": 0
      },
      "text/plain": [
       "  0%|          | 0/32 [00:00<?, ?it/s]"
      ]
     },
     "metadata": {},
     "output_type": "display_data"
    },
    {
     "name": "stdout",
     "output_type": "stream",
     "text": [
      "Epoch 17 Training Accuracy: tensor(0.6112)\n"
     ]
    },
    {
     "data": {
      "application/vnd.jupyter.widget-view+json": {
       "model_id": "6a78a5a68bb14b30a7bca7ecaa42d7b8",
       "version_major": 2,
       "version_minor": 0
      },
      "text/plain": [
       "  0%|          | 0/32 [00:00<?, ?it/s]"
      ]
     },
     "metadata": {},
     "output_type": "display_data"
    },
    {
     "name": "stdout",
     "output_type": "stream",
     "text": [
      "Epoch 18 Training Accuracy: tensor(0.5625)\n"
     ]
    },
    {
     "data": {
      "application/vnd.jupyter.widget-view+json": {
       "model_id": "d4c546d752054d0b890279725109a78a",
       "version_major": 2,
       "version_minor": 0
      },
      "text/plain": [
       "  0%|          | 0/32 [00:00<?, ?it/s]"
      ]
     },
     "metadata": {},
     "output_type": "display_data"
    },
    {
     "name": "stdout",
     "output_type": "stream",
     "text": [
      "Epoch 19 Training Accuracy: tensor(0.6238)\n"
     ]
    },
    {
     "data": {
      "application/vnd.jupyter.widget-view+json": {
       "model_id": "a382fccfeb0840b4a4b88582da0aee42",
       "version_major": 2,
       "version_minor": 0
      },
      "text/plain": [
       "  0%|          | 0/32 [00:00<?, ?it/s]"
      ]
     },
     "metadata": {},
     "output_type": "display_data"
    },
    {
     "name": "stdout",
     "output_type": "stream",
     "text": [
      "Epoch 20 Training Accuracy: tensor(0.6213)\n"
     ]
    },
    {
     "data": {
      "application/vnd.jupyter.widget-view+json": {
       "model_id": "ada9368e00bb42a894c6d641b2b1de5f",
       "version_major": 2,
       "version_minor": 0
      },
      "text/plain": [
       "  0%|          | 0/32 [00:00<?, ?it/s]"
      ]
     },
     "metadata": {},
     "output_type": "display_data"
    },
    {
     "name": "stdout",
     "output_type": "stream",
     "text": [
      "Epoch 21 Training Accuracy: tensor(0.6050)\n"
     ]
    },
    {
     "data": {
      "application/vnd.jupyter.widget-view+json": {
       "model_id": "08138ea0a37845fdbe745aa3f55b1ba0",
       "version_major": 2,
       "version_minor": 0
      },
      "text/plain": [
       "  0%|          | 0/32 [00:00<?, ?it/s]"
      ]
     },
     "metadata": {},
     "output_type": "display_data"
    },
    {
     "name": "stdout",
     "output_type": "stream",
     "text": [
      "Epoch 22 Training Accuracy: tensor(0.5725)\n"
     ]
    },
    {
     "data": {
      "application/vnd.jupyter.widget-view+json": {
       "model_id": "8983b01a8f214f2883cd6bdc9f1f7ade",
       "version_major": 2,
       "version_minor": 0
      },
      "text/plain": [
       "  0%|          | 0/32 [00:00<?, ?it/s]"
      ]
     },
     "metadata": {},
     "output_type": "display_data"
    },
    {
     "name": "stdout",
     "output_type": "stream",
     "text": [
      "Epoch 23 Training Accuracy: tensor(0.6263)\n"
     ]
    },
    {
     "data": {
      "application/vnd.jupyter.widget-view+json": {
       "model_id": "a36f1cc9f1754a0ba6c865f4ae879652",
       "version_major": 2,
       "version_minor": 0
      },
      "text/plain": [
       "  0%|          | 0/32 [00:00<?, ?it/s]"
      ]
     },
     "metadata": {},
     "output_type": "display_data"
    },
    {
     "name": "stdout",
     "output_type": "stream",
     "text": [
      "Epoch 24 Training Accuracy: tensor(0.5988)\n"
     ]
    },
    {
     "data": {
      "application/vnd.jupyter.widget-view+json": {
       "model_id": "56a15469ab914b93a72c41a4220d78ec",
       "version_major": 2,
       "version_minor": 0
      },
      "text/plain": [
       "  0%|          | 0/32 [00:00<?, ?it/s]"
      ]
     },
     "metadata": {},
     "output_type": "display_data"
    },
    {
     "name": "stdout",
     "output_type": "stream",
     "text": [
      "Epoch 25 Training Accuracy: tensor(0.6175)\n"
     ]
    },
    {
     "data": {
      "application/vnd.jupyter.widget-view+json": {
       "model_id": "a0df796f61f546318a267256e9c1a2c7",
       "version_major": 2,
       "version_minor": 0
      },
      "text/plain": [
       "  0%|          | 0/32 [00:00<?, ?it/s]"
      ]
     },
     "metadata": {},
     "output_type": "display_data"
    },
    {
     "name": "stdout",
     "output_type": "stream",
     "text": [
      "Epoch 26 Training Accuracy: tensor(0.5900)\n"
     ]
    },
    {
     "data": {
      "application/vnd.jupyter.widget-view+json": {
       "model_id": "0d669f83f20041519a69057d4be845e8",
       "version_major": 2,
       "version_minor": 0
      },
      "text/plain": [
       "  0%|          | 0/32 [00:00<?, ?it/s]"
      ]
     },
     "metadata": {},
     "output_type": "display_data"
    },
    {
     "name": "stdout",
     "output_type": "stream",
     "text": [
      "Epoch 27 Training Accuracy: tensor(0.6063)\n"
     ]
    },
    {
     "data": {
      "application/vnd.jupyter.widget-view+json": {
       "model_id": "6ca737d0436541118216d9e3569a4ec1",
       "version_major": 2,
       "version_minor": 0
      },
      "text/plain": [
       "  0%|          | 0/32 [00:00<?, ?it/s]"
      ]
     },
     "metadata": {},
     "output_type": "display_data"
    },
    {
     "name": "stdout",
     "output_type": "stream",
     "text": [
      "Epoch 28 Training Accuracy: tensor(0.6138)\n"
     ]
    },
    {
     "data": {
      "application/vnd.jupyter.widget-view+json": {
       "model_id": "f97b16972be24830a1de5939ed021379",
       "version_major": 2,
       "version_minor": 0
      },
      "text/plain": [
       "  0%|          | 0/32 [00:00<?, ?it/s]"
      ]
     },
     "metadata": {},
     "output_type": "display_data"
    },
    {
     "name": "stdout",
     "output_type": "stream",
     "text": [
      "Epoch 29 Training Accuracy: tensor(0.6063)\n"
     ]
    },
    {
     "data": {
      "application/vnd.jupyter.widget-view+json": {
       "model_id": "28e8fe70252e4a7ab091b6844bee5d93",
       "version_major": 2,
       "version_minor": 0
      },
      "text/plain": [
       "  0%|          | 0/32 [00:00<?, ?it/s]"
      ]
     },
     "metadata": {},
     "output_type": "display_data"
    },
    {
     "name": "stdout",
     "output_type": "stream",
     "text": [
      "Epoch 30 Training Accuracy: tensor(0.6113)\n"
     ]
    },
    {
     "data": {
      "application/vnd.jupyter.widget-view+json": {
       "model_id": "8fe2e7791e0840129c16ee1b01baad8b",
       "version_major": 2,
       "version_minor": 0
      },
      "text/plain": [
       "  0%|          | 0/32 [00:00<?, ?it/s]"
      ]
     },
     "metadata": {},
     "output_type": "display_data"
    },
    {
     "name": "stdout",
     "output_type": "stream",
     "text": [
      "Epoch 31 Training Accuracy: tensor(0.6137)\n"
     ]
    },
    {
     "data": {
      "application/vnd.jupyter.widget-view+json": {
       "model_id": "b43b7f5f04914c7cbf84aee16c5ed8db",
       "version_major": 2,
       "version_minor": 0
      },
      "text/plain": [
       "  0%|          | 0/32 [00:00<?, ?it/s]"
      ]
     },
     "metadata": {},
     "output_type": "display_data"
    },
    {
     "name": "stdout",
     "output_type": "stream",
     "text": [
      "Epoch 32 Training Accuracy: tensor(0.6388)\n"
     ]
    },
    {
     "data": {
      "application/vnd.jupyter.widget-view+json": {
       "model_id": "e79e823049314515a0db032a3327ead9",
       "version_major": 2,
       "version_minor": 0
      },
      "text/plain": [
       "  0%|          | 0/32 [00:00<?, ?it/s]"
      ]
     },
     "metadata": {},
     "output_type": "display_data"
    },
    {
     "name": "stderr",
     "output_type": "stream",
     "text": [
      "IOPub message rate exceeded.\n",
      "The Jupyter server will temporarily stop sending output\n",
      "to the client in order to avoid crashing it.\n",
      "To change this limit, set the config variable\n",
      "`--ServerApp.iopub_msg_rate_limit`.\n",
      "\n",
      "Current values:\n",
      "ServerApp.iopub_msg_rate_limit=1000.0 (msgs/sec)\n",
      "ServerApp.rate_limit_window=3.0 (secs)\n",
      "\n"
     ]
    },
    {
     "name": "stdout",
     "output_type": "stream",
     "text": [
      "Epoch 91 Training Accuracy: tensor(0.5938)\n"
     ]
    },
    {
     "data": {
      "application/vnd.jupyter.widget-view+json": {
       "model_id": "69b4ca77bfbe482b965c50d5e07f5994",
       "version_major": 2,
       "version_minor": 0
      },
      "text/plain": [
       "  0%|          | 0/32 [00:00<?, ?it/s]"
      ]
     },
     "metadata": {},
     "output_type": "display_data"
    },
    {
     "name": "stdout",
     "output_type": "stream",
     "text": [
      "Epoch 92 Training Accuracy: tensor(0.6250)\n"
     ]
    },
    {
     "data": {
      "application/vnd.jupyter.widget-view+json": {
       "model_id": "9c571911b7e246ffac2796323802d151",
       "version_major": 2,
       "version_minor": 0
      },
      "text/plain": [
       "  0%|          | 0/32 [00:00<?, ?it/s]"
      ]
     },
     "metadata": {},
     "output_type": "display_data"
    },
    {
     "name": "stdout",
     "output_type": "stream",
     "text": [
      "Epoch 93 Training Accuracy: tensor(0.5900)\n"
     ]
    },
    {
     "data": {
      "application/vnd.jupyter.widget-view+json": {
       "model_id": "5e5621f216c24e74a64d9ac6dfe357cc",
       "version_major": 2,
       "version_minor": 0
      },
      "text/plain": [
       "  0%|          | 0/32 [00:00<?, ?it/s]"
      ]
     },
     "metadata": {},
     "output_type": "display_data"
    },
    {
     "name": "stdout",
     "output_type": "stream",
     "text": [
      "Epoch 94 Training Accuracy: tensor(0.6275)\n"
     ]
    },
    {
     "data": {
      "application/vnd.jupyter.widget-view+json": {
       "model_id": "50ce3054c64145a5bfa00ce3431af878",
       "version_major": 2,
       "version_minor": 0
      },
      "text/plain": [
       "  0%|          | 0/32 [00:00<?, ?it/s]"
      ]
     },
     "metadata": {},
     "output_type": "display_data"
    },
    {
     "name": "stdout",
     "output_type": "stream",
     "text": [
      "Epoch 95 Training Accuracy: tensor(0.6413)\n"
     ]
    },
    {
     "data": {
      "application/vnd.jupyter.widget-view+json": {
       "model_id": "3727ea9f064e43f7bfd5bd5ca2b6ce0a",
       "version_major": 2,
       "version_minor": 0
      },
      "text/plain": [
       "  0%|          | 0/32 [00:00<?, ?it/s]"
      ]
     },
     "metadata": {},
     "output_type": "display_data"
    },
    {
     "name": "stdout",
     "output_type": "stream",
     "text": [
      "Epoch 96 Training Accuracy: tensor(0.6487)\n"
     ]
    },
    {
     "data": {
      "application/vnd.jupyter.widget-view+json": {
       "model_id": "05c2f3c5d0dc43e393c67cbeef41d45a",
       "version_major": 2,
       "version_minor": 0
      },
      "text/plain": [
       "  0%|          | 0/32 [00:00<?, ?it/s]"
      ]
     },
     "metadata": {},
     "output_type": "display_data"
    },
    {
     "name": "stdout",
     "output_type": "stream",
     "text": [
      "Epoch 97 Training Accuracy: tensor(0.6450)\n"
     ]
    },
    {
     "data": {
      "application/vnd.jupyter.widget-view+json": {
       "model_id": "1726d0bdf04a4ac681332aa1a61fc04e",
       "version_major": 2,
       "version_minor": 0
      },
      "text/plain": [
       "  0%|          | 0/32 [00:00<?, ?it/s]"
      ]
     },
     "metadata": {},
     "output_type": "display_data"
    },
    {
     "name": "stdout",
     "output_type": "stream",
     "text": [
      "Epoch 98 Training Accuracy: tensor(0.6413)\n"
     ]
    },
    {
     "data": {
      "application/vnd.jupyter.widget-view+json": {
       "model_id": "2165ed15f60a4eb18300eaefaf55722b",
       "version_major": 2,
       "version_minor": 0
      },
      "text/plain": [
       "  0%|          | 0/32 [00:00<?, ?it/s]"
      ]
     },
     "metadata": {},
     "output_type": "display_data"
    },
    {
     "name": "stdout",
     "output_type": "stream",
     "text": [
      "Epoch 99 Training Accuracy: tensor(0.6288)\n"
     ]
    },
    {
     "data": {
      "application/vnd.jupyter.widget-view+json": {
       "model_id": "f5593377899b427baad38b008999c108",
       "version_major": 2,
       "version_minor": 0
      },
      "text/plain": [
       "  0%|          | 0/32 [00:00<?, ?it/s]"
      ]
     },
     "metadata": {},
     "output_type": "display_data"
    },
    {
     "name": "stdout",
     "output_type": "stream",
     "text": [
      "Epoch 100 Training Accuracy: tensor(0.6425)\n"
     ]
    },
    {
     "data": {
      "application/vnd.jupyter.widget-view+json": {
       "model_id": "a1344e91c54c4a3f8c5826752bb432a8",
       "version_major": 2,
       "version_minor": 0
      },
      "text/plain": [
       "  0%|          | 0/32 [00:00<?, ?it/s]"
      ]
     },
     "metadata": {},
     "output_type": "display_data"
    },
    {
     "name": "stdout",
     "output_type": "stream",
     "text": [
      "Epoch 101 Training Accuracy: tensor(0.6438)\n"
     ]
    },
    {
     "data": {
      "application/vnd.jupyter.widget-view+json": {
       "model_id": "6bdd64883a594efeb1fe6f901bdb0979",
       "version_major": 2,
       "version_minor": 0
      },
      "text/plain": [
       "  0%|          | 0/32 [00:00<?, ?it/s]"
      ]
     },
     "metadata": {},
     "output_type": "display_data"
    },
    {
     "name": "stdout",
     "output_type": "stream",
     "text": [
      "Epoch 102 Training Accuracy: tensor(0.6413)\n"
     ]
    },
    {
     "data": {
      "application/vnd.jupyter.widget-view+json": {
       "model_id": "71f44d8e1b264d84ade4b89f5c0d23af",
       "version_major": 2,
       "version_minor": 0
      },
      "text/plain": [
       "  0%|          | 0/32 [00:00<?, ?it/s]"
      ]
     },
     "metadata": {},
     "output_type": "display_data"
    },
    {
     "name": "stdout",
     "output_type": "stream",
     "text": [
      "Epoch 103 Training Accuracy: tensor(0.6350)\n"
     ]
    },
    {
     "data": {
      "application/vnd.jupyter.widget-view+json": {
       "model_id": "fdef42efce2947819e9136ea91ff87ca",
       "version_major": 2,
       "version_minor": 0
      },
      "text/plain": [
       "  0%|          | 0/32 [00:00<?, ?it/s]"
      ]
     },
     "metadata": {},
     "output_type": "display_data"
    },
    {
     "name": "stdout",
     "output_type": "stream",
     "text": [
      "Epoch 104 Training Accuracy: tensor(0.6337)\n"
     ]
    },
    {
     "data": {
      "application/vnd.jupyter.widget-view+json": {
       "model_id": "2db14569e01a462bbfb3ca3fdf0f28a4",
       "version_major": 2,
       "version_minor": 0
      },
      "text/plain": [
       "  0%|          | 0/32 [00:00<?, ?it/s]"
      ]
     },
     "metadata": {},
     "output_type": "display_data"
    },
    {
     "name": "stdout",
     "output_type": "stream",
     "text": [
      "Epoch 105 Training Accuracy: tensor(0.5900)\n"
     ]
    },
    {
     "data": {
      "application/vnd.jupyter.widget-view+json": {
       "model_id": "8367b7b67bb047b38d1a34868a134740",
       "version_major": 2,
       "version_minor": 0
      },
      "text/plain": [
       "  0%|          | 0/32 [00:00<?, ?it/s]"
      ]
     },
     "metadata": {},
     "output_type": "display_data"
    },
    {
     "name": "stdout",
     "output_type": "stream",
     "text": [
      "Epoch 106 Training Accuracy: tensor(0.6438)\n"
     ]
    },
    {
     "data": {
      "application/vnd.jupyter.widget-view+json": {
       "model_id": "d57be2523602464f9b1d2dcc40cffcdc",
       "version_major": 2,
       "version_minor": 0
      },
      "text/plain": [
       "  0%|          | 0/32 [00:00<?, ?it/s]"
      ]
     },
     "metadata": {},
     "output_type": "display_data"
    },
    {
     "name": "stdout",
     "output_type": "stream",
     "text": [
      "Epoch 107 Training Accuracy: tensor(0.6237)\n"
     ]
    },
    {
     "data": {
      "application/vnd.jupyter.widget-view+json": {
       "model_id": "9d18075f75ea4fb09243c151a01df10e",
       "version_major": 2,
       "version_minor": 0
      },
      "text/plain": [
       "  0%|          | 0/32 [00:00<?, ?it/s]"
      ]
     },
     "metadata": {},
     "output_type": "display_data"
    },
    {
     "name": "stdout",
     "output_type": "stream",
     "text": [
      "Epoch 108 Training Accuracy: tensor(0.6150)\n"
     ]
    },
    {
     "data": {
      "application/vnd.jupyter.widget-view+json": {
       "model_id": "2afcdc18721244f28bbd8380da126c50",
       "version_major": 2,
       "version_minor": 0
      },
      "text/plain": [
       "  0%|          | 0/32 [00:00<?, ?it/s]"
      ]
     },
     "metadata": {},
     "output_type": "display_data"
    },
    {
     "name": "stdout",
     "output_type": "stream",
     "text": [
      "Epoch 109 Training Accuracy: tensor(0.6450)\n"
     ]
    },
    {
     "data": {
      "application/vnd.jupyter.widget-view+json": {
       "model_id": "774979287966476aaee32f2abb040bd2",
       "version_major": 2,
       "version_minor": 0
      },
      "text/plain": [
       "  0%|          | 0/32 [00:00<?, ?it/s]"
      ]
     },
     "metadata": {},
     "output_type": "display_data"
    },
    {
     "name": "stdout",
     "output_type": "stream",
     "text": [
      "Epoch 110 Training Accuracy: tensor(0.6400)\n"
     ]
    },
    {
     "data": {
      "application/vnd.jupyter.widget-view+json": {
       "model_id": "ca94543833a144808a5d53ab95725104",
       "version_major": 2,
       "version_minor": 0
      },
      "text/plain": [
       "  0%|          | 0/32 [00:00<?, ?it/s]"
      ]
     },
     "metadata": {},
     "output_type": "display_data"
    },
    {
     "name": "stdout",
     "output_type": "stream",
     "text": [
      "Epoch 111 Training Accuracy: tensor(0.6463)\n"
     ]
    },
    {
     "data": {
      "application/vnd.jupyter.widget-view+json": {
       "model_id": "400a403b1f054447ba3535a5a3a2d75d",
       "version_major": 2,
       "version_minor": 0
      },
      "text/plain": [
       "  0%|          | 0/32 [00:00<?, ?it/s]"
      ]
     },
     "metadata": {},
     "output_type": "display_data"
    },
    {
     "name": "stdout",
     "output_type": "stream",
     "text": [
      "Epoch 112 Training Accuracy: tensor(0.6188)\n"
     ]
    },
    {
     "data": {
      "application/vnd.jupyter.widget-view+json": {
       "model_id": "0d74d2b831254cb7922face1e83eb107",
       "version_major": 2,
       "version_minor": 0
      },
      "text/plain": [
       "  0%|          | 0/32 [00:00<?, ?it/s]"
      ]
     },
     "metadata": {},
     "output_type": "display_data"
    },
    {
     "name": "stderr",
     "output_type": "stream",
     "text": [
      "IOPub message rate exceeded.\n",
      "The Jupyter server will temporarily stop sending output\n",
      "to the client in order to avoid crashing it.\n",
      "To change this limit, set the config variable\n",
      "`--ServerApp.iopub_msg_rate_limit`.\n",
      "\n",
      "Current values:\n",
      "ServerApp.iopub_msg_rate_limit=1000.0 (msgs/sec)\n",
      "ServerApp.rate_limit_window=3.0 (secs)\n",
      "\n"
     ]
    },
    {
     "name": "stdout",
     "output_type": "stream",
     "text": [
      "Epoch 164 Training Accuracy: tensor(0.6313)\n"
     ]
    },
    {
     "data": {
      "application/vnd.jupyter.widget-view+json": {
       "model_id": "83d58a98e997436da771a59d69305c36",
       "version_major": 2,
       "version_minor": 0
      },
      "text/plain": [
       "  0%|          | 0/32 [00:00<?, ?it/s]"
      ]
     },
     "metadata": {},
     "output_type": "display_data"
    },
    {
     "name": "stdout",
     "output_type": "stream",
     "text": [
      "Epoch 165 Training Accuracy: tensor(0.6388)\n"
     ]
    },
    {
     "data": {
      "application/vnd.jupyter.widget-view+json": {
       "model_id": "069a4e3c86c44d858a8af7bdaa2842e6",
       "version_major": 2,
       "version_minor": 0
      },
      "text/plain": [
       "  0%|          | 0/32 [00:00<?, ?it/s]"
      ]
     },
     "metadata": {},
     "output_type": "display_data"
    },
    {
     "name": "stdout",
     "output_type": "stream",
     "text": [
      "Epoch 166 Training Accuracy: tensor(0.6438)\n"
     ]
    },
    {
     "data": {
      "application/vnd.jupyter.widget-view+json": {
       "model_id": "767f009bf425467cb7764ca2fb64b8a3",
       "version_major": 2,
       "version_minor": 0
      },
      "text/plain": [
       "  0%|          | 0/32 [00:00<?, ?it/s]"
      ]
     },
     "metadata": {},
     "output_type": "display_data"
    },
    {
     "name": "stdout",
     "output_type": "stream",
     "text": [
      "Epoch 167 Training Accuracy: tensor(0.6413)\n"
     ]
    },
    {
     "data": {
      "application/vnd.jupyter.widget-view+json": {
       "model_id": "d4721d2ab51349c39d2d5b306c375522",
       "version_major": 2,
       "version_minor": 0
      },
      "text/plain": [
       "  0%|          | 0/32 [00:00<?, ?it/s]"
      ]
     },
     "metadata": {},
     "output_type": "display_data"
    },
    {
     "name": "stdout",
     "output_type": "stream",
     "text": [
      "Epoch 168 Training Accuracy: tensor(0.6488)\n"
     ]
    },
    {
     "data": {
      "application/vnd.jupyter.widget-view+json": {
       "model_id": "1ae69cc58ceb4924967786d30f568c48",
       "version_major": 2,
       "version_minor": 0
      },
      "text/plain": [
       "  0%|          | 0/32 [00:00<?, ?it/s]"
      ]
     },
     "metadata": {},
     "output_type": "display_data"
    },
    {
     "name": "stdout",
     "output_type": "stream",
     "text": [
      "Epoch 169 Training Accuracy: tensor(0.6300)\n"
     ]
    },
    {
     "data": {
      "application/vnd.jupyter.widget-view+json": {
       "model_id": "6721eba2a4ff4b3080171283348c6590",
       "version_major": 2,
       "version_minor": 0
      },
      "text/plain": [
       "  0%|          | 0/32 [00:00<?, ?it/s]"
      ]
     },
     "metadata": {},
     "output_type": "display_data"
    },
    {
     "name": "stdout",
     "output_type": "stream",
     "text": [
      "Epoch 170 Training Accuracy: tensor(0.6313)\n"
     ]
    },
    {
     "data": {
      "application/vnd.jupyter.widget-view+json": {
       "model_id": "dda1c2364e9d4179a9f165476ce8e858",
       "version_major": 2,
       "version_minor": 0
      },
      "text/plain": [
       "  0%|          | 0/32 [00:00<?, ?it/s]"
      ]
     },
     "metadata": {},
     "output_type": "display_data"
    },
    {
     "name": "stdout",
     "output_type": "stream",
     "text": [
      "Epoch 171 Training Accuracy: tensor(0.5925)\n"
     ]
    },
    {
     "data": {
      "application/vnd.jupyter.widget-view+json": {
       "model_id": "b4e232a99d154ace90eaafc2a9a7b5ba",
       "version_major": 2,
       "version_minor": 0
      },
      "text/plain": [
       "  0%|          | 0/32 [00:00<?, ?it/s]"
      ]
     },
     "metadata": {},
     "output_type": "display_data"
    },
    {
     "name": "stdout",
     "output_type": "stream",
     "text": [
      "Epoch 172 Training Accuracy: tensor(0.6413)\n"
     ]
    },
    {
     "data": {
      "application/vnd.jupyter.widget-view+json": {
       "model_id": "2528fbf546854fa799ecf1db1e0b573b",
       "version_major": 2,
       "version_minor": 0
      },
      "text/plain": [
       "  0%|          | 0/32 [00:00<?, ?it/s]"
      ]
     },
     "metadata": {},
     "output_type": "display_data"
    },
    {
     "name": "stdout",
     "output_type": "stream",
     "text": [
      "Epoch 173 Training Accuracy: tensor(0.6263)\n"
     ]
    },
    {
     "data": {
      "application/vnd.jupyter.widget-view+json": {
       "model_id": "107c10b1ae5642e18d192e861d7e0a41",
       "version_major": 2,
       "version_minor": 0
      },
      "text/plain": [
       "  0%|          | 0/32 [00:00<?, ?it/s]"
      ]
     },
     "metadata": {},
     "output_type": "display_data"
    },
    {
     "name": "stdout",
     "output_type": "stream",
     "text": [
      "Epoch 174 Training Accuracy: tensor(0.6388)\n"
     ]
    },
    {
     "data": {
      "application/vnd.jupyter.widget-view+json": {
       "model_id": "885f6418d27a47d8b70d5bc31600fccd",
       "version_major": 2,
       "version_minor": 0
      },
      "text/plain": [
       "  0%|          | 0/32 [00:00<?, ?it/s]"
      ]
     },
     "metadata": {},
     "output_type": "display_data"
    },
    {
     "name": "stdout",
     "output_type": "stream",
     "text": [
      "Epoch 175 Training Accuracy: tensor(0.6275)\n"
     ]
    },
    {
     "data": {
      "application/vnd.jupyter.widget-view+json": {
       "model_id": "691b93e1fc154899ae54d68f8a5c69cb",
       "version_major": 2,
       "version_minor": 0
      },
      "text/plain": [
       "  0%|          | 0/32 [00:00<?, ?it/s]"
      ]
     },
     "metadata": {},
     "output_type": "display_data"
    },
    {
     "name": "stdout",
     "output_type": "stream",
     "text": [
      "Epoch 176 Training Accuracy: tensor(0.6313)\n"
     ]
    },
    {
     "data": {
      "application/vnd.jupyter.widget-view+json": {
       "model_id": "685a12faceda4e58a49aa81e2abc20e7",
       "version_major": 2,
       "version_minor": 0
      },
      "text/plain": [
       "  0%|          | 0/32 [00:00<?, ?it/s]"
      ]
     },
     "metadata": {},
     "output_type": "display_data"
    },
    {
     "name": "stdout",
     "output_type": "stream",
     "text": [
      "Epoch 177 Training Accuracy: tensor(0.5913)\n"
     ]
    },
    {
     "data": {
      "application/vnd.jupyter.widget-view+json": {
       "model_id": "1c583f6a314f4a21ba8651922d0b5bf2",
       "version_major": 2,
       "version_minor": 0
      },
      "text/plain": [
       "  0%|          | 0/32 [00:00<?, ?it/s]"
      ]
     },
     "metadata": {},
     "output_type": "display_data"
    },
    {
     "name": "stdout",
     "output_type": "stream",
     "text": [
      "Epoch 178 Training Accuracy: tensor(0.5913)\n"
     ]
    },
    {
     "data": {
      "application/vnd.jupyter.widget-view+json": {
       "model_id": "861d83a560c0474e8ee19347bbef184c",
       "version_major": 2,
       "version_minor": 0
      },
      "text/plain": [
       "  0%|          | 0/32 [00:00<?, ?it/s]"
      ]
     },
     "metadata": {},
     "output_type": "display_data"
    },
    {
     "name": "stdout",
     "output_type": "stream",
     "text": [
      "Epoch 179 Training Accuracy: tensor(0.6350)\n"
     ]
    },
    {
     "data": {
      "application/vnd.jupyter.widget-view+json": {
       "model_id": "e8c4919ab65c4d2c9b22653985d298cd",
       "version_major": 2,
       "version_minor": 0
      },
      "text/plain": [
       "  0%|          | 0/32 [00:00<?, ?it/s]"
      ]
     },
     "metadata": {},
     "output_type": "display_data"
    },
    {
     "name": "stdout",
     "output_type": "stream",
     "text": [
      "Epoch 180 Training Accuracy: tensor(0.6188)\n"
     ]
    },
    {
     "data": {
      "application/vnd.jupyter.widget-view+json": {
       "model_id": "f100d2d8a76449dcb70fa5abf35dd6ed",
       "version_major": 2,
       "version_minor": 0
      },
      "text/plain": [
       "  0%|          | 0/32 [00:00<?, ?it/s]"
      ]
     },
     "metadata": {},
     "output_type": "display_data"
    },
    {
     "name": "stdout",
     "output_type": "stream",
     "text": [
      "Epoch 181 Training Accuracy: tensor(0.6325)\n"
     ]
    },
    {
     "data": {
      "application/vnd.jupyter.widget-view+json": {
       "model_id": "84771ca4f983457680f555c0b0a79b3c",
       "version_major": 2,
       "version_minor": 0
      },
      "text/plain": [
       "  0%|          | 0/32 [00:00<?, ?it/s]"
      ]
     },
     "metadata": {},
     "output_type": "display_data"
    },
    {
     "name": "stdout",
     "output_type": "stream",
     "text": [
      "Epoch 182 Training Accuracy: tensor(0.6225)\n"
     ]
    },
    {
     "data": {
      "application/vnd.jupyter.widget-view+json": {
       "model_id": "e5351eebdb4342aa91ca9ab776af420a",
       "version_major": 2,
       "version_minor": 0
      },
      "text/plain": [
       "  0%|          | 0/32 [00:00<?, ?it/s]"
      ]
     },
     "metadata": {},
     "output_type": "display_data"
    },
    {
     "name": "stdout",
     "output_type": "stream",
     "text": [
      "Epoch 183 Training Accuracy: tensor(0.6450)\n"
     ]
    },
    {
     "data": {
      "application/vnd.jupyter.widget-view+json": {
       "model_id": "bd2019f8ca1b47be88ce6be08bbeaee5",
       "version_major": 2,
       "version_minor": 0
      },
      "text/plain": [
       "  0%|          | 0/32 [00:00<?, ?it/s]"
      ]
     },
     "metadata": {},
     "output_type": "display_data"
    },
    {
     "name": "stdout",
     "output_type": "stream",
     "text": [
      "Epoch 184 Training Accuracy: tensor(0.6288)\n"
     ]
    },
    {
     "data": {
      "application/vnd.jupyter.widget-view+json": {
       "model_id": "e188530d2c744b90b628d69cdeda19ac",
       "version_major": 2,
       "version_minor": 0
      },
      "text/plain": [
       "  0%|          | 0/32 [00:00<?, ?it/s]"
      ]
     },
     "metadata": {},
     "output_type": "display_data"
    },
    {
     "name": "stdout",
     "output_type": "stream",
     "text": [
      "Epoch 185 Training Accuracy: tensor(0.6313)\n"
     ]
    },
    {
     "data": {
      "application/vnd.jupyter.widget-view+json": {
       "model_id": "c0eb9206abcb49338a9327e3a8990fa8",
       "version_major": 2,
       "version_minor": 0
      },
      "text/plain": [
       "  0%|          | 0/32 [00:00<?, ?it/s]"
      ]
     },
     "metadata": {},
     "output_type": "display_data"
    },
    {
     "name": "stderr",
     "output_type": "stream",
     "text": [
      "IOPub message rate exceeded.\n",
      "The Jupyter server will temporarily stop sending output\n",
      "to the client in order to avoid crashing it.\n",
      "To change this limit, set the config variable\n",
      "`--ServerApp.iopub_msg_rate_limit`.\n",
      "\n",
      "Current values:\n",
      "ServerApp.iopub_msg_rate_limit=1000.0 (msgs/sec)\n",
      "ServerApp.rate_limit_window=3.0 (secs)\n",
      "\n"
     ]
    }
   ],
   "source": [
    "# Amazon training\n",
    "qrnn_amazon_model = qrnn(MAX_SEQ_LEN,1,2,1)\n",
    "amazon_qrnn_trained, amazon_train_loss = model_trainer(qrnn_amazon_model, NUM_EPOCHS, amazon_trainloader)\n",
    "torch.save(amazon_qrnn_trained, \"amazon_qrnn.pt\")\n",
    "dump(amazon_train_loss, \"amazon_train_loss.joblib\")\n",
    "\n",
    "# loss_plotter(amazon_train_loss, NUM_EPOCHS, save=True, save_name=\"amazon_data\")\n",
    "\n",
    "\n",
    "# Amazon testing\n",
    "amazon_preds, amazon_acc, amazon_labels = model_tester(amazon_qrnn_trained, amazon_testloader)\n",
    "amazon_train_preds, amazon_train_acc, amazon_train_labels = model_tester(amazon_qrnn_trained, amazon_trainloader)\n",
    "\n",
    "print(f\"amazon accuracy test: {amazon_acc}\")\n",
    "print(f\"amazon accuracy train: {amazon_train_acc}\")\n",
    "\n",
    "dump(amazon_preds, \"amazon_preds.joblib\")\n",
    "dump(amazon_labels, \"amazon_labels.joblib\")\n",
    "dump(amazon_train_preds, \"amazon_train_preds.joblib\")\n",
    "dump(amazon_train_labels, \"amazon_train_labels.joblib\")"
   ]
  },
  {
   "cell_type": "code",
   "execution_count": null,
   "metadata": {
    "scrolled": true,
    "tags": []
   },
   "outputs": [
    {
     "data": {
      "application/vnd.jupyter.widget-view+json": {
       "model_id": "75fc40a3572b4cd2a28fd1e161680510",
       "version_major": 2,
       "version_minor": 0
      },
      "text/plain": [
       "  0%|          | 0/32 [00:00<?, ?it/s]"
      ]
     },
     "metadata": {},
     "output_type": "display_data"
    },
    {
     "data": {
      "application/vnd.jupyter.widget-view+json": {
       "model_id": "e8ee8e741eea42bbb2db107cf9db90ef",
       "version_major": 2,
       "version_minor": 0
      },
      "text/plain": [
       "  0%|          | 0/32 [00:00<?, ?it/s]"
      ]
     },
     "metadata": {},
     "output_type": "display_data"
    },
    {
     "name": "stdout",
     "output_type": "stream",
     "text": [
      "Epoch 0 Training Accuracy: tensor(0.4800)\n"
     ]
    },
    {
     "data": {
      "application/vnd.jupyter.widget-view+json": {
       "model_id": "0de73c9992b84419ab7d8cc083a96747",
       "version_major": 2,
       "version_minor": 0
      },
      "text/plain": [
       "  0%|          | 0/32 [00:00<?, ?it/s]"
      ]
     },
     "metadata": {},
     "output_type": "display_data"
    },
    {
     "name": "stdout",
     "output_type": "stream",
     "text": [
      "Epoch 1 Training Accuracy: tensor(0.5050)\n"
     ]
    },
    {
     "data": {
      "application/vnd.jupyter.widget-view+json": {
       "model_id": "bcc9eb6dc12f4cc9bc1eb276c82ca3bd",
       "version_major": 2,
       "version_minor": 0
      },
      "text/plain": [
       "  0%|          | 0/32 [00:00<?, ?it/s]"
      ]
     },
     "metadata": {},
     "output_type": "display_data"
    },
    {
     "name": "stdout",
     "output_type": "stream",
     "text": [
      "Epoch 2 Training Accuracy: tensor(0.5037)\n"
     ]
    },
    {
     "data": {
      "application/vnd.jupyter.widget-view+json": {
       "model_id": "ea195b55245f4ec7b5cba5809d348eff",
       "version_major": 2,
       "version_minor": 0
      },
      "text/plain": [
       "  0%|          | 0/32 [00:00<?, ?it/s]"
      ]
     },
     "metadata": {},
     "output_type": "display_data"
    },
    {
     "name": "stdout",
     "output_type": "stream",
     "text": [
      "Epoch 3 Training Accuracy: tensor(0.4963)\n"
     ]
    },
    {
     "data": {
      "application/vnd.jupyter.widget-view+json": {
       "model_id": "83bf6deb61c24643851e09f391a0ec1d",
       "version_major": 2,
       "version_minor": 0
      },
      "text/plain": [
       "  0%|          | 0/32 [00:00<?, ?it/s]"
      ]
     },
     "metadata": {},
     "output_type": "display_data"
    },
    {
     "name": "stdout",
     "output_type": "stream",
     "text": [
      "Epoch 4 Training Accuracy: tensor(0.4975)\n"
     ]
    },
    {
     "data": {
      "application/vnd.jupyter.widget-view+json": {
       "model_id": "8e6f865dca40487f8e838badc56d581d",
       "version_major": 2,
       "version_minor": 0
      },
      "text/plain": [
       "  0%|          | 0/32 [00:00<?, ?it/s]"
      ]
     },
     "metadata": {},
     "output_type": "display_data"
    },
    {
     "name": "stdout",
     "output_type": "stream",
     "text": [
      "Epoch 5 Training Accuracy: tensor(0.5225)\n"
     ]
    },
    {
     "data": {
      "application/vnd.jupyter.widget-view+json": {
       "model_id": "e278aa44e7a746a995e0478bee636d89",
       "version_major": 2,
       "version_minor": 0
      },
      "text/plain": [
       "  0%|          | 0/32 [00:00<?, ?it/s]"
      ]
     },
     "metadata": {},
     "output_type": "display_data"
    },
    {
     "name": "stdout",
     "output_type": "stream",
     "text": [
      "Epoch 6 Training Accuracy: tensor(0.4850)\n"
     ]
    },
    {
     "data": {
      "application/vnd.jupyter.widget-view+json": {
       "model_id": "424db8d9b5c74a769bb48c7848b02b3f",
       "version_major": 2,
       "version_minor": 0
      },
      "text/plain": [
       "  0%|          | 0/32 [00:00<?, ?it/s]"
      ]
     },
     "metadata": {},
     "output_type": "display_data"
    },
    {
     "name": "stdout",
     "output_type": "stream",
     "text": [
      "Epoch 7 Training Accuracy: tensor(0.5187)\n"
     ]
    },
    {
     "data": {
      "application/vnd.jupyter.widget-view+json": {
       "model_id": "2fa24ae9772d44caa3a26ef32faa828a",
       "version_major": 2,
       "version_minor": 0
      },
      "text/plain": [
       "  0%|          | 0/32 [00:00<?, ?it/s]"
      ]
     },
     "metadata": {},
     "output_type": "display_data"
    },
    {
     "name": "stdout",
     "output_type": "stream",
     "text": [
      "Epoch 8 Training Accuracy: tensor(0.5137)\n"
     ]
    },
    {
     "data": {
      "application/vnd.jupyter.widget-view+json": {
       "model_id": "fb0c68e4273348d8ab8c10024b33c8dc",
       "version_major": 2,
       "version_minor": 0
      },
      "text/plain": [
       "  0%|          | 0/32 [00:00<?, ?it/s]"
      ]
     },
     "metadata": {},
     "output_type": "display_data"
    },
    {
     "name": "stdout",
     "output_type": "stream",
     "text": [
      "Epoch 9 Training Accuracy: tensor(0.5075)\n"
     ]
    },
    {
     "data": {
      "application/vnd.jupyter.widget-view+json": {
       "model_id": "5099b0a434dc4e9a9cadd523a5c765bf",
       "version_major": 2,
       "version_minor": 0
      },
      "text/plain": [
       "  0%|          | 0/32 [00:00<?, ?it/s]"
      ]
     },
     "metadata": {},
     "output_type": "display_data"
    },
    {
     "name": "stdout",
     "output_type": "stream",
     "text": [
      "Epoch 10 Training Accuracy: tensor(0.5200)\n"
     ]
    },
    {
     "data": {
      "application/vnd.jupyter.widget-view+json": {
       "model_id": "21072a6def13412dbe3a0d0aed51025a",
       "version_major": 2,
       "version_minor": 0
      },
      "text/plain": [
       "  0%|          | 0/32 [00:00<?, ?it/s]"
      ]
     },
     "metadata": {},
     "output_type": "display_data"
    },
    {
     "name": "stdout",
     "output_type": "stream",
     "text": [
      "Epoch 11 Training Accuracy: tensor(0.5025)\n"
     ]
    },
    {
     "data": {
      "application/vnd.jupyter.widget-view+json": {
       "model_id": "40f6f437fc2243f0a612b113a66807df",
       "version_major": 2,
       "version_minor": 0
      },
      "text/plain": [
       "  0%|          | 0/32 [00:00<?, ?it/s]"
      ]
     },
     "metadata": {},
     "output_type": "display_data"
    },
    {
     "name": "stdout",
     "output_type": "stream",
     "text": [
      "Epoch 12 Training Accuracy: tensor(0.5150)\n"
     ]
    },
    {
     "data": {
      "application/vnd.jupyter.widget-view+json": {
       "model_id": "43625f713e6d49bea7cfb9948e6e264a",
       "version_major": 2,
       "version_minor": 0
      },
      "text/plain": [
       "  0%|          | 0/32 [00:00<?, ?it/s]"
      ]
     },
     "metadata": {},
     "output_type": "display_data"
    },
    {
     "name": "stdout",
     "output_type": "stream",
     "text": [
      "Epoch 13 Training Accuracy: tensor(0.5212)\n"
     ]
    },
    {
     "data": {
      "application/vnd.jupyter.widget-view+json": {
       "model_id": "27b62f4f72dc4d8eb038120fe00e338c",
       "version_major": 2,
       "version_minor": 0
      },
      "text/plain": [
       "  0%|          | 0/32 [00:00<?, ?it/s]"
      ]
     },
     "metadata": {},
     "output_type": "display_data"
    },
    {
     "name": "stdout",
     "output_type": "stream",
     "text": [
      "Epoch 14 Training Accuracy: tensor(0.5150)\n"
     ]
    },
    {
     "data": {
      "application/vnd.jupyter.widget-view+json": {
       "model_id": "584f51d6a19441aab556e7cd093a6670",
       "version_major": 2,
       "version_minor": 0
      },
      "text/plain": [
       "  0%|          | 0/32 [00:00<?, ?it/s]"
      ]
     },
     "metadata": {},
     "output_type": "display_data"
    },
    {
     "name": "stdout",
     "output_type": "stream",
     "text": [
      "Epoch 15 Training Accuracy: tensor(0.5113)\n"
     ]
    },
    {
     "data": {
      "application/vnd.jupyter.widget-view+json": {
       "model_id": "d9dc67bf86c84a30a948741139fe04f4",
       "version_major": 2,
       "version_minor": 0
      },
      "text/plain": [
       "  0%|          | 0/32 [00:00<?, ?it/s]"
      ]
     },
     "metadata": {},
     "output_type": "display_data"
    },
    {
     "name": "stdout",
     "output_type": "stream",
     "text": [
      "Epoch 16 Training Accuracy: tensor(0.5138)\n"
     ]
    },
    {
     "data": {
      "application/vnd.jupyter.widget-view+json": {
       "model_id": "57417253c35341319a92a780d4343393",
       "version_major": 2,
       "version_minor": 0
      },
      "text/plain": [
       "  0%|          | 0/32 [00:00<?, ?it/s]"
      ]
     },
     "metadata": {},
     "output_type": "display_data"
    },
    {
     "name": "stdout",
     "output_type": "stream",
     "text": [
      "Epoch 17 Training Accuracy: tensor(0.5312)\n"
     ]
    },
    {
     "data": {
      "application/vnd.jupyter.widget-view+json": {
       "model_id": "07103bfe9ce246eea9799f6fab5dbba7",
       "version_major": 2,
       "version_minor": 0
      },
      "text/plain": [
       "  0%|          | 0/32 [00:00<?, ?it/s]"
      ]
     },
     "metadata": {},
     "output_type": "display_data"
    },
    {
     "name": "stdout",
     "output_type": "stream",
     "text": [
      "Epoch 18 Training Accuracy: tensor(0.5100)\n"
     ]
    },
    {
     "data": {
      "application/vnd.jupyter.widget-view+json": {
       "model_id": "7123ea672cca416491ecb410d224b879",
       "version_major": 2,
       "version_minor": 0
      },
      "text/plain": [
       "  0%|          | 0/32 [00:00<?, ?it/s]"
      ]
     },
     "metadata": {},
     "output_type": "display_data"
    },
    {
     "name": "stdout",
     "output_type": "stream",
     "text": [
      "Epoch 19 Training Accuracy: tensor(0.5350)\n"
     ]
    },
    {
     "data": {
      "application/vnd.jupyter.widget-view+json": {
       "model_id": "b8cca2a737224e3faba1861d4036503b",
       "version_major": 2,
       "version_minor": 0
      },
      "text/plain": [
       "  0%|          | 0/32 [00:00<?, ?it/s]"
      ]
     },
     "metadata": {},
     "output_type": "display_data"
    },
    {
     "name": "stdout",
     "output_type": "stream",
     "text": [
      "Epoch 20 Training Accuracy: tensor(0.5075)\n"
     ]
    },
    {
     "data": {
      "application/vnd.jupyter.widget-view+json": {
       "model_id": "9dae0a08108347bb94092b40cd0add27",
       "version_major": 2,
       "version_minor": 0
      },
      "text/plain": [
       "  0%|          | 0/32 [00:00<?, ?it/s]"
      ]
     },
     "metadata": {},
     "output_type": "display_data"
    },
    {
     "name": "stdout",
     "output_type": "stream",
     "text": [
      "Epoch 21 Training Accuracy: tensor(0.5125)\n"
     ]
    },
    {
     "data": {
      "application/vnd.jupyter.widget-view+json": {
       "model_id": "01328b375e584be99355d5bf6559f8b8",
       "version_major": 2,
       "version_minor": 0
      },
      "text/plain": [
       "  0%|          | 0/32 [00:00<?, ?it/s]"
      ]
     },
     "metadata": {},
     "output_type": "display_data"
    },
    {
     "name": "stderr",
     "output_type": "stream",
     "text": [
      "IOPub message rate exceeded.\n",
      "The Jupyter server will temporarily stop sending output\n",
      "to the client in order to avoid crashing it.\n",
      "To change this limit, set the config variable\n",
      "`--ServerApp.iopub_msg_rate_limit`.\n",
      "\n",
      "Current values:\n",
      "ServerApp.iopub_msg_rate_limit=1000.0 (msgs/sec)\n",
      "ServerApp.rate_limit_window=3.0 (secs)\n",
      "\n"
     ]
    },
    {
     "name": "stdout",
     "output_type": "stream",
     "text": [
      "Epoch 73 Training Accuracy: tensor(0.5375)\n"
     ]
    },
    {
     "data": {
      "application/vnd.jupyter.widget-view+json": {
       "model_id": "3cb97c4fd130425ea67a06d588229f26",
       "version_major": 2,
       "version_minor": 0
      },
      "text/plain": [
       "  0%|          | 0/32 [00:00<?, ?it/s]"
      ]
     },
     "metadata": {},
     "output_type": "display_data"
    },
    {
     "name": "stdout",
     "output_type": "stream",
     "text": [
      "Epoch 74 Training Accuracy: tensor(0.5350)\n"
     ]
    },
    {
     "data": {
      "application/vnd.jupyter.widget-view+json": {
       "model_id": "d642d076b0864187a92f0db33e44e386",
       "version_major": 2,
       "version_minor": 0
      },
      "text/plain": [
       "  0%|          | 0/32 [00:00<?, ?it/s]"
      ]
     },
     "metadata": {},
     "output_type": "display_data"
    },
    {
     "name": "stdout",
     "output_type": "stream",
     "text": [
      "Epoch 75 Training Accuracy: tensor(0.5225)\n"
     ]
    },
    {
     "data": {
      "application/vnd.jupyter.widget-view+json": {
       "model_id": "a5e79e0375b54949aff1b69ee99faede",
       "version_major": 2,
       "version_minor": 0
      },
      "text/plain": [
       "  0%|          | 0/32 [00:00<?, ?it/s]"
      ]
     },
     "metadata": {},
     "output_type": "display_data"
    },
    {
     "name": "stdout",
     "output_type": "stream",
     "text": [
      "Epoch 76 Training Accuracy: tensor(0.5138)\n"
     ]
    },
    {
     "data": {
      "application/vnd.jupyter.widget-view+json": {
       "model_id": "e5426598e98b4d98aa7f5f6173122f62",
       "version_major": 2,
       "version_minor": 0
      },
      "text/plain": [
       "  0%|          | 0/32 [00:00<?, ?it/s]"
      ]
     },
     "metadata": {},
     "output_type": "display_data"
    },
    {
     "name": "stdout",
     "output_type": "stream",
     "text": [
      "Epoch 77 Training Accuracy: tensor(0.5425)\n"
     ]
    },
    {
     "data": {
      "application/vnd.jupyter.widget-view+json": {
       "model_id": "a8003abf588947809f6d44ccc4d782c2",
       "version_major": 2,
       "version_minor": 0
      },
      "text/plain": [
       "  0%|          | 0/32 [00:00<?, ?it/s]"
      ]
     },
     "metadata": {},
     "output_type": "display_data"
    },
    {
     "name": "stdout",
     "output_type": "stream",
     "text": [
      "Epoch 78 Training Accuracy: tensor(0.5175)\n"
     ]
    },
    {
     "data": {
      "application/vnd.jupyter.widget-view+json": {
       "model_id": "0a762a88b87d4d40942515925f18afd8",
       "version_major": 2,
       "version_minor": 0
      },
      "text/plain": [
       "  0%|          | 0/32 [00:00<?, ?it/s]"
      ]
     },
     "metadata": {},
     "output_type": "display_data"
    },
    {
     "name": "stdout",
     "output_type": "stream",
     "text": [
      "Epoch 79 Training Accuracy: tensor(0.5450)\n"
     ]
    },
    {
     "data": {
      "application/vnd.jupyter.widget-view+json": {
       "model_id": "bf40745de0b74c75b35995c610967073",
       "version_major": 2,
       "version_minor": 0
      },
      "text/plain": [
       "  0%|          | 0/32 [00:00<?, ?it/s]"
      ]
     },
     "metadata": {},
     "output_type": "display_data"
    },
    {
     "name": "stdout",
     "output_type": "stream",
     "text": [
      "Epoch 80 Training Accuracy: tensor(0.5500)\n"
     ]
    },
    {
     "data": {
      "application/vnd.jupyter.widget-view+json": {
       "model_id": "867c7ab2eb794080ac1e783c0a0a4b8a",
       "version_major": 2,
       "version_minor": 0
      },
      "text/plain": [
       "  0%|          | 0/32 [00:00<?, ?it/s]"
      ]
     },
     "metadata": {},
     "output_type": "display_data"
    },
    {
     "name": "stdout",
     "output_type": "stream",
     "text": [
      "Epoch 81 Training Accuracy: tensor(0.5487)\n"
     ]
    },
    {
     "data": {
      "application/vnd.jupyter.widget-view+json": {
       "model_id": "db6205795c9745f9b7fe0d0cb721b9db",
       "version_major": 2,
       "version_minor": 0
      },
      "text/plain": [
       "  0%|          | 0/32 [00:00<?, ?it/s]"
      ]
     },
     "metadata": {},
     "output_type": "display_data"
    },
    {
     "name": "stdout",
     "output_type": "stream",
     "text": [
      "Epoch 82 Training Accuracy: tensor(0.5488)\n"
     ]
    },
    {
     "data": {
      "application/vnd.jupyter.widget-view+json": {
       "model_id": "b44ea25d04e348d4a5fcea654b6912d9",
       "version_major": 2,
       "version_minor": 0
      },
      "text/plain": [
       "  0%|          | 0/32 [00:00<?, ?it/s]"
      ]
     },
     "metadata": {},
     "output_type": "display_data"
    },
    {
     "name": "stdout",
     "output_type": "stream",
     "text": [
      "Epoch 83 Training Accuracy: tensor(0.5350)\n"
     ]
    },
    {
     "data": {
      "application/vnd.jupyter.widget-view+json": {
       "model_id": "4b0077e060404086840c8001dfe82868",
       "version_major": 2,
       "version_minor": 0
      },
      "text/plain": [
       "  0%|          | 0/32 [00:00<?, ?it/s]"
      ]
     },
     "metadata": {},
     "output_type": "display_data"
    },
    {
     "name": "stdout",
     "output_type": "stream",
     "text": [
      "Epoch 84 Training Accuracy: tensor(0.5438)\n"
     ]
    },
    {
     "data": {
      "application/vnd.jupyter.widget-view+json": {
       "model_id": "99262eebc4914fee8f9689ec58eb679d",
       "version_major": 2,
       "version_minor": 0
      },
      "text/plain": [
       "  0%|          | 0/32 [00:00<?, ?it/s]"
      ]
     },
     "metadata": {},
     "output_type": "display_data"
    },
    {
     "name": "stdout",
     "output_type": "stream",
     "text": [
      "Epoch 85 Training Accuracy: tensor(0.5350)\n"
     ]
    },
    {
     "data": {
      "application/vnd.jupyter.widget-view+json": {
       "model_id": "505edf7bd0684357aa2cf87ae0f37d62",
       "version_major": 2,
       "version_minor": 0
      },
      "text/plain": [
       "  0%|          | 0/32 [00:00<?, ?it/s]"
      ]
     },
     "metadata": {},
     "output_type": "display_data"
    },
    {
     "name": "stdout",
     "output_type": "stream",
     "text": [
      "Epoch 86 Training Accuracy: tensor(0.5225)\n"
     ]
    },
    {
     "data": {
      "application/vnd.jupyter.widget-view+json": {
       "model_id": "38495c644fd44df79376e661b8d37770",
       "version_major": 2,
       "version_minor": 0
      },
      "text/plain": [
       "  0%|          | 0/32 [00:00<?, ?it/s]"
      ]
     },
     "metadata": {},
     "output_type": "display_data"
    },
    {
     "name": "stdout",
     "output_type": "stream",
     "text": [
      "Epoch 87 Training Accuracy: tensor(0.5425)\n"
     ]
    },
    {
     "data": {
      "application/vnd.jupyter.widget-view+json": {
       "model_id": "cbf6a5010329472a83244cf1c36ceb9d",
       "version_major": 2,
       "version_minor": 0
      },
      "text/plain": [
       "  0%|          | 0/32 [00:00<?, ?it/s]"
      ]
     },
     "metadata": {},
     "output_type": "display_data"
    },
    {
     "name": "stdout",
     "output_type": "stream",
     "text": [
      "Epoch 88 Training Accuracy: tensor(0.5337)\n"
     ]
    },
    {
     "data": {
      "application/vnd.jupyter.widget-view+json": {
       "model_id": "f0741fddc533425ab88111d03a6c9e9e",
       "version_major": 2,
       "version_minor": 0
      },
      "text/plain": [
       "  0%|          | 0/32 [00:00<?, ?it/s]"
      ]
     },
     "metadata": {},
     "output_type": "display_data"
    },
    {
     "name": "stdout",
     "output_type": "stream",
     "text": [
      "Epoch 89 Training Accuracy: tensor(0.5325)\n"
     ]
    },
    {
     "data": {
      "application/vnd.jupyter.widget-view+json": {
       "model_id": "3e85c4a17ad5472dbd15f087d422c2d4",
       "version_major": 2,
       "version_minor": 0
      },
      "text/plain": [
       "  0%|          | 0/32 [00:00<?, ?it/s]"
      ]
     },
     "metadata": {},
     "output_type": "display_data"
    },
    {
     "name": "stdout",
     "output_type": "stream",
     "text": [
      "Epoch 90 Training Accuracy: tensor(0.5213)\n"
     ]
    },
    {
     "data": {
      "application/vnd.jupyter.widget-view+json": {
       "model_id": "1ca306931d1d4fbb9a4483487093f4fe",
       "version_major": 2,
       "version_minor": 0
      },
      "text/plain": [
       "  0%|          | 0/32 [00:00<?, ?it/s]"
      ]
     },
     "metadata": {},
     "output_type": "display_data"
    },
    {
     "name": "stdout",
     "output_type": "stream",
     "text": [
      "Epoch 91 Training Accuracy: tensor(0.5575)\n"
     ]
    },
    {
     "data": {
      "application/vnd.jupyter.widget-view+json": {
       "model_id": "e99a6168863b4e029883c5d02eeac4bb",
       "version_major": 2,
       "version_minor": 0
      },
      "text/plain": [
       "  0%|          | 0/32 [00:00<?, ?it/s]"
      ]
     },
     "metadata": {},
     "output_type": "display_data"
    },
    {
     "name": "stdout",
     "output_type": "stream",
     "text": [
      "Epoch 92 Training Accuracy: tensor(0.5275)\n"
     ]
    },
    {
     "data": {
      "application/vnd.jupyter.widget-view+json": {
       "model_id": "83a5e90b0ddd4c4e94dcd785c4f77a1d",
       "version_major": 2,
       "version_minor": 0
      },
      "text/plain": [
       "  0%|          | 0/32 [00:00<?, ?it/s]"
      ]
     },
     "metadata": {},
     "output_type": "display_data"
    },
    {
     "name": "stdout",
     "output_type": "stream",
     "text": [
      "Epoch 93 Training Accuracy: tensor(0.5512)\n"
     ]
    },
    {
     "data": {
      "application/vnd.jupyter.widget-view+json": {
       "model_id": "829992adede84dfaa513c1fb087da2d9",
       "version_major": 2,
       "version_minor": 0
      },
      "text/plain": [
       "  0%|          | 0/32 [00:00<?, ?it/s]"
      ]
     },
     "metadata": {},
     "output_type": "display_data"
    },
    {
     "name": "stdout",
     "output_type": "stream",
     "text": [
      "Epoch 94 Training Accuracy: tensor(0.5437)\n"
     ]
    },
    {
     "data": {
      "application/vnd.jupyter.widget-view+json": {
       "model_id": "647b08da38424ff4ab03ac39c48b5e68",
       "version_major": 2,
       "version_minor": 0
      },
      "text/plain": [
       "  0%|          | 0/32 [00:00<?, ?it/s]"
      ]
     },
     "metadata": {},
     "output_type": "display_data"
    },
    {
     "name": "stdout",
     "output_type": "stream",
     "text": [
      "Epoch 95 Training Accuracy: tensor(0.5325)\n"
     ]
    },
    {
     "data": {
      "application/vnd.jupyter.widget-view+json": {
       "model_id": "64fcccdbd29f4de39c6167f86967f389",
       "version_major": 2,
       "version_minor": 0
      },
      "text/plain": [
       "  0%|          | 0/32 [00:00<?, ?it/s]"
      ]
     },
     "metadata": {},
     "output_type": "display_data"
    },
    {
     "name": "stderr",
     "output_type": "stream",
     "text": [
      "IOPub message rate exceeded.\n",
      "The Jupyter server will temporarily stop sending output\n",
      "to the client in order to avoid crashing it.\n",
      "To change this limit, set the config variable\n",
      "`--ServerApp.iopub_msg_rate_limit`.\n",
      "\n",
      "Current values:\n",
      "ServerApp.iopub_msg_rate_limit=1000.0 (msgs/sec)\n",
      "ServerApp.rate_limit_window=3.0 (secs)\n",
      "\n"
     ]
    },
    {
     "name": "stdout",
     "output_type": "stream",
     "text": [
      "Epoch 142 Training Accuracy: tensor(0.5500)\n"
     ]
    },
    {
     "data": {
      "application/vnd.jupyter.widget-view+json": {
       "model_id": "e7fc62db8e8441cc8d70d247a646d557",
       "version_major": 2,
       "version_minor": 0
      },
      "text/plain": [
       "  0%|          | 0/32 [00:00<?, ?it/s]"
      ]
     },
     "metadata": {},
     "output_type": "display_data"
    },
    {
     "name": "stdout",
     "output_type": "stream",
     "text": [
      "Epoch 143 Training Accuracy: tensor(0.5487)\n"
     ]
    },
    {
     "data": {
      "application/vnd.jupyter.widget-view+json": {
       "model_id": "c4a6ed960e76415c9dad45c9ee8d3cc0",
       "version_major": 2,
       "version_minor": 0
      },
      "text/plain": [
       "  0%|          | 0/32 [00:00<?, ?it/s]"
      ]
     },
     "metadata": {},
     "output_type": "display_data"
    },
    {
     "name": "stdout",
     "output_type": "stream",
     "text": [
      "Epoch 144 Training Accuracy: tensor(0.5350)\n"
     ]
    },
    {
     "data": {
      "application/vnd.jupyter.widget-view+json": {
       "model_id": "a89a6991d1bf4bd983ccbabccc0d3e3a",
       "version_major": 2,
       "version_minor": 0
      },
      "text/plain": [
       "  0%|          | 0/32 [00:00<?, ?it/s]"
      ]
     },
     "metadata": {},
     "output_type": "display_data"
    },
    {
     "name": "stdout",
     "output_type": "stream",
     "text": [
      "Epoch 145 Training Accuracy: tensor(0.5638)\n"
     ]
    },
    {
     "data": {
      "application/vnd.jupyter.widget-view+json": {
       "model_id": "7eec242897944627a5c38a463ee3885c",
       "version_major": 2,
       "version_minor": 0
      },
      "text/plain": [
       "  0%|          | 0/32 [00:00<?, ?it/s]"
      ]
     },
     "metadata": {},
     "output_type": "display_data"
    },
    {
     "name": "stdout",
     "output_type": "stream",
     "text": [
      "Epoch 146 Training Accuracy: tensor(0.5563)\n"
     ]
    },
    {
     "data": {
      "application/vnd.jupyter.widget-view+json": {
       "model_id": "5f8cae6f1ad4435fac45b58e35e44c60",
       "version_major": 2,
       "version_minor": 0
      },
      "text/plain": [
       "  0%|          | 0/32 [00:00<?, ?it/s]"
      ]
     },
     "metadata": {},
     "output_type": "display_data"
    },
    {
     "name": "stdout",
     "output_type": "stream",
     "text": [
      "Epoch 147 Training Accuracy: tensor(0.5350)\n"
     ]
    },
    {
     "data": {
      "application/vnd.jupyter.widget-view+json": {
       "model_id": "ae3c724ba4b34c9ea4aa22b2704cd79c",
       "version_major": 2,
       "version_minor": 0
      },
      "text/plain": [
       "  0%|          | 0/32 [00:00<?, ?it/s]"
      ]
     },
     "metadata": {},
     "output_type": "display_data"
    },
    {
     "name": "stdout",
     "output_type": "stream",
     "text": [
      "Epoch 148 Training Accuracy: tensor(0.5200)\n"
     ]
    },
    {
     "data": {
      "application/vnd.jupyter.widget-view+json": {
       "model_id": "66c3a800f3a543e98c825be434242b7a",
       "version_major": 2,
       "version_minor": 0
      },
      "text/plain": [
       "  0%|          | 0/32 [00:00<?, ?it/s]"
      ]
     },
     "metadata": {},
     "output_type": "display_data"
    },
    {
     "name": "stdout",
     "output_type": "stream",
     "text": [
      "Epoch 149 Training Accuracy: tensor(0.5550)\n"
     ]
    },
    {
     "data": {
      "application/vnd.jupyter.widget-view+json": {
       "model_id": "26cac18ee6ac4476b55aa889606e1a36",
       "version_major": 2,
       "version_minor": 0
      },
      "text/plain": [
       "  0%|          | 0/32 [00:00<?, ?it/s]"
      ]
     },
     "metadata": {},
     "output_type": "display_data"
    },
    {
     "name": "stdout",
     "output_type": "stream",
     "text": [
      "Epoch 150 Training Accuracy: tensor(0.5475)\n"
     ]
    },
    {
     "data": {
      "application/vnd.jupyter.widget-view+json": {
       "model_id": "beefa56c74944da2936d77a6ecfa57d6",
       "version_major": 2,
       "version_minor": 0
      },
      "text/plain": [
       "  0%|          | 0/32 [00:00<?, ?it/s]"
      ]
     },
     "metadata": {},
     "output_type": "display_data"
    },
    {
     "name": "stdout",
     "output_type": "stream",
     "text": [
      "Epoch 151 Training Accuracy: tensor(0.5037)\n"
     ]
    },
    {
     "data": {
      "application/vnd.jupyter.widget-view+json": {
       "model_id": "ccb0a54c6ba74f39a0c818b87f41831d",
       "version_major": 2,
       "version_minor": 0
      },
      "text/plain": [
       "  0%|          | 0/32 [00:00<?, ?it/s]"
      ]
     },
     "metadata": {},
     "output_type": "display_data"
    },
    {
     "name": "stdout",
     "output_type": "stream",
     "text": [
      "Epoch 152 Training Accuracy: tensor(0.5400)\n"
     ]
    },
    {
     "data": {
      "application/vnd.jupyter.widget-view+json": {
       "model_id": "3f51f8f69fc846df8a734866f9819a58",
       "version_major": 2,
       "version_minor": 0
      },
      "text/plain": [
       "  0%|          | 0/32 [00:00<?, ?it/s]"
      ]
     },
     "metadata": {},
     "output_type": "display_data"
    },
    {
     "name": "stdout",
     "output_type": "stream",
     "text": [
      "Epoch 153 Training Accuracy: tensor(0.5475)\n"
     ]
    },
    {
     "data": {
      "application/vnd.jupyter.widget-view+json": {
       "model_id": "d1235fbcb46c4cc9bf4a5c9915328709",
       "version_major": 2,
       "version_minor": 0
      },
      "text/plain": [
       "  0%|          | 0/32 [00:00<?, ?it/s]"
      ]
     },
     "metadata": {},
     "output_type": "display_data"
    },
    {
     "name": "stdout",
     "output_type": "stream",
     "text": [
      "Epoch 154 Training Accuracy: tensor(0.5613)\n"
     ]
    },
    {
     "data": {
      "application/vnd.jupyter.widget-view+json": {
       "model_id": "44ecb4ec7d16416f975d2350429685b3",
       "version_major": 2,
       "version_minor": 0
      },
      "text/plain": [
       "  0%|          | 0/32 [00:00<?, ?it/s]"
      ]
     },
     "metadata": {},
     "output_type": "display_data"
    },
    {
     "name": "stdout",
     "output_type": "stream",
     "text": [
      "Epoch 155 Training Accuracy: tensor(0.5638)\n"
     ]
    },
    {
     "data": {
      "application/vnd.jupyter.widget-view+json": {
       "model_id": "a7ecfcb0c3de4f13a3b829e44b50a2ff",
       "version_major": 2,
       "version_minor": 0
      },
      "text/plain": [
       "  0%|          | 0/32 [00:00<?, ?it/s]"
      ]
     },
     "metadata": {},
     "output_type": "display_data"
    },
    {
     "name": "stdout",
     "output_type": "stream",
     "text": [
      "Epoch 156 Training Accuracy: tensor(0.5550)\n"
     ]
    },
    {
     "data": {
      "application/vnd.jupyter.widget-view+json": {
       "model_id": "4cecda04e28642f9a1ec9be8b94e559d",
       "version_major": 2,
       "version_minor": 0
      },
      "text/plain": [
       "  0%|          | 0/32 [00:00<?, ?it/s]"
      ]
     },
     "metadata": {},
     "output_type": "display_data"
    },
    {
     "name": "stdout",
     "output_type": "stream",
     "text": [
      "Epoch 157 Training Accuracy: tensor(0.5475)\n"
     ]
    },
    {
     "data": {
      "application/vnd.jupyter.widget-view+json": {
       "model_id": "856690cad64042d8803b9505772a22a5",
       "version_major": 2,
       "version_minor": 0
      },
      "text/plain": [
       "  0%|          | 0/32 [00:00<?, ?it/s]"
      ]
     },
     "metadata": {},
     "output_type": "display_data"
    },
    {
     "name": "stdout",
     "output_type": "stream",
     "text": [
      "Epoch 158 Training Accuracy: tensor(0.5600)\n"
     ]
    },
    {
     "data": {
      "application/vnd.jupyter.widget-view+json": {
       "model_id": "705cb0f055804f619e674f0cab092aab",
       "version_major": 2,
       "version_minor": 0
      },
      "text/plain": [
       "  0%|          | 0/32 [00:00<?, ?it/s]"
      ]
     },
     "metadata": {},
     "output_type": "display_data"
    },
    {
     "name": "stdout",
     "output_type": "stream",
     "text": [
      "Epoch 159 Training Accuracy: tensor(0.5425)\n"
     ]
    },
    {
     "data": {
      "application/vnd.jupyter.widget-view+json": {
       "model_id": "a2e27edb86aa43e088ed5ad092cacc6b",
       "version_major": 2,
       "version_minor": 0
      },
      "text/plain": [
       "  0%|          | 0/32 [00:00<?, ?it/s]"
      ]
     },
     "metadata": {},
     "output_type": "display_data"
    },
    {
     "name": "stdout",
     "output_type": "stream",
     "text": [
      "Epoch 160 Training Accuracy: tensor(0.5600)\n"
     ]
    },
    {
     "data": {
      "application/vnd.jupyter.widget-view+json": {
       "model_id": "8b0cdf5f61814f39aa2570b274358e94",
       "version_major": 2,
       "version_minor": 0
      },
      "text/plain": [
       "  0%|          | 0/32 [00:00<?, ?it/s]"
      ]
     },
     "metadata": {},
     "output_type": "display_data"
    },
    {
     "name": "stdout",
     "output_type": "stream",
     "text": [
      "Epoch 161 Training Accuracy: tensor(0.5425)\n"
     ]
    },
    {
     "data": {
      "application/vnd.jupyter.widget-view+json": {
       "model_id": "ce4ab47efbc14583b5bc524b777477ca",
       "version_major": 2,
       "version_minor": 0
      },
      "text/plain": [
       "  0%|          | 0/32 [00:00<?, ?it/s]"
      ]
     },
     "metadata": {},
     "output_type": "display_data"
    },
    {
     "name": "stdout",
     "output_type": "stream",
     "text": [
      "Epoch 162 Training Accuracy: tensor(0.5625)\n"
     ]
    },
    {
     "data": {
      "application/vnd.jupyter.widget-view+json": {
       "model_id": "f578ce6c6ffa4c998c105988c83db63a",
       "version_major": 2,
       "version_minor": 0
      },
      "text/plain": [
       "  0%|          | 0/32 [00:00<?, ?it/s]"
      ]
     },
     "metadata": {},
     "output_type": "display_data"
    },
    {
     "name": "stderr",
     "output_type": "stream",
     "text": [
      "IOPub message rate exceeded.\n",
      "The Jupyter server will temporarily stop sending output\n",
      "to the client in order to avoid crashing it.\n",
      "To change this limit, set the config variable\n",
      "`--ServerApp.iopub_msg_rate_limit`.\n",
      "\n",
      "Current values:\n",
      "ServerApp.iopub_msg_rate_limit=1000.0 (msgs/sec)\n",
      "ServerApp.rate_limit_window=3.0 (secs)\n",
      "\n"
     ]
    }
   ],
   "source": [
    "# IMDb training\n",
    "qrnn_imdb_model = qrnn(MAX_SEQ_LEN,1,2,1)\n",
    "imdb_qrnn_trained, imdb_train_loss = model_trainer(qrnn_imdb_model, NUM_EPOCHS, imdb_trainloader)\n",
    "torch.save(imdb_qrnn_trained, \"imdb_qrnn_s.pt\")\n",
    "dump(imdb_train_loss, \"imdb_train_loss.joblib\")\n",
    "# loss_plotter(imdb_train_loss, NUM_EPOCHS, save=True, save_name=\"imdb_data\")\n",
    "\n",
    "\n",
    "# IMDb testing\n",
    "imdb_preds, imdb_acc, imdb_labels = model_tester(imdb_qrnn_trained, imdb_testloader)\n",
    "imdb_train_preds, imdb_train_acc, imdb_train_labels = model_tester(imdb_qrnn_trained, imdb_trainloader)\n",
    "\n",
    "print(f\"imdb accuracy test: {imdb_acc}\")\n",
    "print(f\"imdb accuracy train: {imdb_train_acc}\")\n",
    "\n",
    "dump(imdb_preds, \"imdb_preds.joblib\")\n",
    "dump(imdb_labels, \"imdb_labels.joblib\")\n",
    "dump(imdb_train_preds, \"imdb_train_preds.joblib\")\n",
    "dump(imdb_train_labels, \"imdb_train_labels.joblib\")"
   ]
  },
  {
   "cell_type": "code",
   "execution_count": null,
   "metadata": {
    "tags": []
   },
   "outputs": [
    {
     "data": {
      "application/vnd.jupyter.widget-view+json": {
       "model_id": "c36d55a8e24841e6825606b18465dfbb",
       "version_major": 2,
       "version_minor": 0
      },
      "text/plain": [
       "  0%|          | 0/32 [00:00<?, ?it/s]"
      ]
     },
     "metadata": {},
     "output_type": "display_data"
    },
    {
     "data": {
      "application/vnd.jupyter.widget-view+json": {
       "model_id": "22733d1910f049f8963242b3a6ca58ef",
       "version_major": 2,
       "version_minor": 0
      },
      "text/plain": [
       "  0%|          | 0/32 [00:00<?, ?it/s]"
      ]
     },
     "metadata": {},
     "output_type": "display_data"
    },
    {
     "name": "stdout",
     "output_type": "stream",
     "text": [
      "Epoch 0 Training Accuracy: tensor(0.5125)\n"
     ]
    },
    {
     "data": {
      "application/vnd.jupyter.widget-view+json": {
       "model_id": "153bf18b683543e5ae0022bcd0d804f3",
       "version_major": 2,
       "version_minor": 0
      },
      "text/plain": [
       "  0%|          | 0/32 [00:00<?, ?it/s]"
      ]
     },
     "metadata": {},
     "output_type": "display_data"
    },
    {
     "name": "stdout",
     "output_type": "stream",
     "text": [
      "Epoch 1 Training Accuracy: tensor(0.5050)\n"
     ]
    },
    {
     "data": {
      "application/vnd.jupyter.widget-view+json": {
       "model_id": "754c27eada4442d3af2b98acde9dc3c6",
       "version_major": 2,
       "version_minor": 0
      },
      "text/plain": [
       "  0%|          | 0/32 [00:00<?, ?it/s]"
      ]
     },
     "metadata": {},
     "output_type": "display_data"
    },
    {
     "name": "stdout",
     "output_type": "stream",
     "text": [
      "Epoch 2 Training Accuracy: tensor(0.5838)\n"
     ]
    },
    {
     "data": {
      "application/vnd.jupyter.widget-view+json": {
       "model_id": "53b704f4a31149c096f9c8df72a4a805",
       "version_major": 2,
       "version_minor": 0
      },
      "text/plain": [
       "  0%|          | 0/32 [00:00<?, ?it/s]"
      ]
     },
     "metadata": {},
     "output_type": "display_data"
    },
    {
     "name": "stdout",
     "output_type": "stream",
     "text": [
      "Epoch 3 Training Accuracy: tensor(0.5350)\n"
     ]
    },
    {
     "data": {
      "application/vnd.jupyter.widget-view+json": {
       "model_id": "f33174ba71914a7787f6ee1ecf389bae",
       "version_major": 2,
       "version_minor": 0
      },
      "text/plain": [
       "  0%|          | 0/32 [00:00<?, ?it/s]"
      ]
     },
     "metadata": {},
     "output_type": "display_data"
    },
    {
     "name": "stdout",
     "output_type": "stream",
     "text": [
      "Epoch 4 Training Accuracy: tensor(0.5812)\n"
     ]
    },
    {
     "data": {
      "application/vnd.jupyter.widget-view+json": {
       "model_id": "22fca799a32545008ea542fa76b44f53",
       "version_major": 2,
       "version_minor": 0
      },
      "text/plain": [
       "  0%|          | 0/32 [00:00<?, ?it/s]"
      ]
     },
     "metadata": {},
     "output_type": "display_data"
    },
    {
     "name": "stdout",
     "output_type": "stream",
     "text": [
      "Epoch 5 Training Accuracy: tensor(0.5425)\n"
     ]
    },
    {
     "data": {
      "application/vnd.jupyter.widget-view+json": {
       "model_id": "5e1b8735b5f04904aee194004ed4df58",
       "version_major": 2,
       "version_minor": 0
      },
      "text/plain": [
       "  0%|          | 0/32 [00:00<?, ?it/s]"
      ]
     },
     "metadata": {},
     "output_type": "display_data"
    },
    {
     "name": "stdout",
     "output_type": "stream",
     "text": [
      "Epoch 6 Training Accuracy: tensor(0.5375)\n"
     ]
    },
    {
     "data": {
      "application/vnd.jupyter.widget-view+json": {
       "model_id": "7d09c861458f435fb66a919f24e5ff61",
       "version_major": 2,
       "version_minor": 0
      },
      "text/plain": [
       "  0%|          | 0/32 [00:00<?, ?it/s]"
      ]
     },
     "metadata": {},
     "output_type": "display_data"
    },
    {
     "name": "stdout",
     "output_type": "stream",
     "text": [
      "Epoch 7 Training Accuracy: tensor(0.5262)\n"
     ]
    },
    {
     "data": {
      "application/vnd.jupyter.widget-view+json": {
       "model_id": "8852462e5d2945f8bab05665b1bb90f5",
       "version_major": 2,
       "version_minor": 0
      },
      "text/plain": [
       "  0%|          | 0/32 [00:00<?, ?it/s]"
      ]
     },
     "metadata": {},
     "output_type": "display_data"
    },
    {
     "name": "stdout",
     "output_type": "stream",
     "text": [
      "Epoch 8 Training Accuracy: tensor(0.5813)\n"
     ]
    },
    {
     "data": {
      "application/vnd.jupyter.widget-view+json": {
       "model_id": "bd99770a8abb4a4d90be99eafffa6c6b",
       "version_major": 2,
       "version_minor": 0
      },
      "text/plain": [
       "  0%|          | 0/32 [00:00<?, ?it/s]"
      ]
     },
     "metadata": {},
     "output_type": "display_data"
    },
    {
     "name": "stdout",
     "output_type": "stream",
     "text": [
      "Epoch 9 Training Accuracy: tensor(0.5813)\n"
     ]
    },
    {
     "data": {
      "application/vnd.jupyter.widget-view+json": {
       "model_id": "b04a034036c44b52abb5f24cf855bc1a",
       "version_major": 2,
       "version_minor": 0
      },
      "text/plain": [
       "  0%|          | 0/32 [00:00<?, ?it/s]"
      ]
     },
     "metadata": {},
     "output_type": "display_data"
    },
    {
     "name": "stdout",
     "output_type": "stream",
     "text": [
      "Epoch 10 Training Accuracy: tensor(0.6050)\n"
     ]
    },
    {
     "data": {
      "application/vnd.jupyter.widget-view+json": {
       "model_id": "ccb09894cb9749d5b74f4f4e698c5eca",
       "version_major": 2,
       "version_minor": 0
      },
      "text/plain": [
       "  0%|          | 0/32 [00:00<?, ?it/s]"
      ]
     },
     "metadata": {},
     "output_type": "display_data"
    },
    {
     "name": "stdout",
     "output_type": "stream",
     "text": [
      "Epoch 11 Training Accuracy: tensor(0.6050)\n"
     ]
    },
    {
     "data": {
      "application/vnd.jupyter.widget-view+json": {
       "model_id": "04d841f65dde403fa6d61f5158a36e55",
       "version_major": 2,
       "version_minor": 0
      },
      "text/plain": [
       "  0%|          | 0/32 [00:00<?, ?it/s]"
      ]
     },
     "metadata": {},
     "output_type": "display_data"
    },
    {
     "name": "stdout",
     "output_type": "stream",
     "text": [
      "Epoch 12 Training Accuracy: tensor(0.5875)\n"
     ]
    },
    {
     "data": {
      "application/vnd.jupyter.widget-view+json": {
       "model_id": "756f84f8a11c422783000a6c51e7d689",
       "version_major": 2,
       "version_minor": 0
      },
      "text/plain": [
       "  0%|          | 0/32 [00:00<?, ?it/s]"
      ]
     },
     "metadata": {},
     "output_type": "display_data"
    },
    {
     "name": "stdout",
     "output_type": "stream",
     "text": [
      "Epoch 13 Training Accuracy: tensor(0.6125)\n"
     ]
    },
    {
     "data": {
      "application/vnd.jupyter.widget-view+json": {
       "model_id": "81c170436d8a407da18aa0cae0ab89da",
       "version_major": 2,
       "version_minor": 0
      },
      "text/plain": [
       "  0%|          | 0/32 [00:00<?, ?it/s]"
      ]
     },
     "metadata": {},
     "output_type": "display_data"
    },
    {
     "name": "stdout",
     "output_type": "stream",
     "text": [
      "Epoch 14 Training Accuracy: tensor(0.5800)\n"
     ]
    },
    {
     "data": {
      "application/vnd.jupyter.widget-view+json": {
       "model_id": "fb6b88d4279c4fdf93f2d9fd42fa3643",
       "version_major": 2,
       "version_minor": 0
      },
      "text/plain": [
       "  0%|          | 0/32 [00:00<?, ?it/s]"
      ]
     },
     "metadata": {},
     "output_type": "display_data"
    },
    {
     "name": "stdout",
     "output_type": "stream",
     "text": [
      "Epoch 15 Training Accuracy: tensor(0.5825)\n"
     ]
    },
    {
     "data": {
      "application/vnd.jupyter.widget-view+json": {
       "model_id": "84a0b06a74414577a25498e28544f88d",
       "version_major": 2,
       "version_minor": 0
      },
      "text/plain": [
       "  0%|          | 0/32 [00:00<?, ?it/s]"
      ]
     },
     "metadata": {},
     "output_type": "display_data"
    },
    {
     "name": "stdout",
     "output_type": "stream",
     "text": [
      "Epoch 16 Training Accuracy: tensor(0.5500)\n"
     ]
    },
    {
     "data": {
      "application/vnd.jupyter.widget-view+json": {
       "model_id": "3509311fc435469ea49adba37454b297",
       "version_major": 2,
       "version_minor": 0
      },
      "text/plain": [
       "  0%|          | 0/32 [00:00<?, ?it/s]"
      ]
     },
     "metadata": {},
     "output_type": "display_data"
    },
    {
     "name": "stdout",
     "output_type": "stream",
     "text": [
      "Epoch 17 Training Accuracy: tensor(0.5913)\n"
     ]
    },
    {
     "data": {
      "application/vnd.jupyter.widget-view+json": {
       "model_id": "82d1b0af166d48f894dd91473e3a42b4",
       "version_major": 2,
       "version_minor": 0
      },
      "text/plain": [
       "  0%|          | 0/32 [00:00<?, ?it/s]"
      ]
     },
     "metadata": {},
     "output_type": "display_data"
    },
    {
     "name": "stdout",
     "output_type": "stream",
     "text": [
      "Epoch 18 Training Accuracy: tensor(0.5888)\n"
     ]
    },
    {
     "data": {
      "application/vnd.jupyter.widget-view+json": {
       "model_id": "a05935adaa964dce993307937f20c7d6",
       "version_major": 2,
       "version_minor": 0
      },
      "text/plain": [
       "  0%|          | 0/32 [00:00<?, ?it/s]"
      ]
     },
     "metadata": {},
     "output_type": "display_data"
    },
    {
     "name": "stdout",
     "output_type": "stream",
     "text": [
      "Epoch 19 Training Accuracy: tensor(0.5837)\n"
     ]
    },
    {
     "data": {
      "application/vnd.jupyter.widget-view+json": {
       "model_id": "f612a4bce70a41eeb7254d746267d581",
       "version_major": 2,
       "version_minor": 0
      },
      "text/plain": [
       "  0%|          | 0/32 [00:00<?, ?it/s]"
      ]
     },
     "metadata": {},
     "output_type": "display_data"
    },
    {
     "name": "stdout",
     "output_type": "stream",
     "text": [
      "Epoch 20 Training Accuracy: tensor(0.5813)\n"
     ]
    },
    {
     "data": {
      "application/vnd.jupyter.widget-view+json": {
       "model_id": "053765ad5e7344559979edc98fb1227c",
       "version_major": 2,
       "version_minor": 0
      },
      "text/plain": [
       "  0%|          | 0/32 [00:00<?, ?it/s]"
      ]
     },
     "metadata": {},
     "output_type": "display_data"
    },
    {
     "name": "stdout",
     "output_type": "stream",
     "text": [
      "Epoch 21 Training Accuracy: tensor(0.5813)\n"
     ]
    },
    {
     "data": {
      "application/vnd.jupyter.widget-view+json": {
       "model_id": "a11f77e1139a48718a9a53d46f1d41b7",
       "version_major": 2,
       "version_minor": 0
      },
      "text/plain": [
       "  0%|          | 0/32 [00:00<?, ?it/s]"
      ]
     },
     "metadata": {},
     "output_type": "display_data"
    },
    {
     "name": "stderr",
     "output_type": "stream",
     "text": [
      "IOPub message rate exceeded.\n",
      "The Jupyter server will temporarily stop sending output\n",
      "to the client in order to avoid crashing it.\n",
      "To change this limit, set the config variable\n",
      "`--ServerApp.iopub_msg_rate_limit`.\n",
      "\n",
      "Current values:\n",
      "ServerApp.iopub_msg_rate_limit=1000.0 (msgs/sec)\n",
      "ServerApp.rate_limit_window=3.0 (secs)\n",
      "\n"
     ]
    },
    {
     "name": "stdout",
     "output_type": "stream",
     "text": [
      "Epoch 67 Training Accuracy: tensor(0.5700)\n"
     ]
    },
    {
     "data": {
      "application/vnd.jupyter.widget-view+json": {
       "model_id": "33023b79dac142e7a74e750534cf5e64",
       "version_major": 2,
       "version_minor": 0
      },
      "text/plain": [
       "  0%|          | 0/32 [00:00<?, ?it/s]"
      ]
     },
     "metadata": {},
     "output_type": "display_data"
    },
    {
     "name": "stdout",
     "output_type": "stream",
     "text": [
      "Epoch 68 Training Accuracy: tensor(0.6050)\n"
     ]
    },
    {
     "data": {
      "application/vnd.jupyter.widget-view+json": {
       "model_id": "fe8152994722479fa97a36cd21603c21",
       "version_major": 2,
       "version_minor": 0
      },
      "text/plain": [
       "  0%|          | 0/32 [00:00<?, ?it/s]"
      ]
     },
     "metadata": {},
     "output_type": "display_data"
    },
    {
     "name": "stdout",
     "output_type": "stream",
     "text": [
      "Epoch 69 Training Accuracy: tensor(0.5988)\n"
     ]
    },
    {
     "data": {
      "application/vnd.jupyter.widget-view+json": {
       "model_id": "6ec66065d65443e1b4f5688a8bf490f8",
       "version_major": 2,
       "version_minor": 0
      },
      "text/plain": [
       "  0%|          | 0/32 [00:00<?, ?it/s]"
      ]
     },
     "metadata": {},
     "output_type": "display_data"
    },
    {
     "name": "stdout",
     "output_type": "stream",
     "text": [
      "Epoch 70 Training Accuracy: tensor(0.6100)\n"
     ]
    },
    {
     "data": {
      "application/vnd.jupyter.widget-view+json": {
       "model_id": "041a1319094740f3a5bbf486aee21849",
       "version_major": 2,
       "version_minor": 0
      },
      "text/plain": [
       "  0%|          | 0/32 [00:00<?, ?it/s]"
      ]
     },
     "metadata": {},
     "output_type": "display_data"
    },
    {
     "name": "stdout",
     "output_type": "stream",
     "text": [
      "Epoch 71 Training Accuracy: tensor(0.6063)\n"
     ]
    },
    {
     "data": {
      "application/vnd.jupyter.widget-view+json": {
       "model_id": "5454b0437ec24249876df29ff2041f30",
       "version_major": 2,
       "version_minor": 0
      },
      "text/plain": [
       "  0%|          | 0/32 [00:00<?, ?it/s]"
      ]
     },
     "metadata": {},
     "output_type": "display_data"
    },
    {
     "name": "stdout",
     "output_type": "stream",
     "text": [
      "Epoch 72 Training Accuracy: tensor(0.5863)\n"
     ]
    },
    {
     "data": {
      "application/vnd.jupyter.widget-view+json": {
       "model_id": "c0c4dbf059a148dba158faab41a2e7da",
       "version_major": 2,
       "version_minor": 0
      },
      "text/plain": [
       "  0%|          | 0/32 [00:00<?, ?it/s]"
      ]
     },
     "metadata": {},
     "output_type": "display_data"
    },
    {
     "name": "stdout",
     "output_type": "stream",
     "text": [
      "Epoch 73 Training Accuracy: tensor(0.6000)\n"
     ]
    },
    {
     "data": {
      "application/vnd.jupyter.widget-view+json": {
       "model_id": "d6095838bd8e4da1bfd1ba79b5fc6ca0",
       "version_major": 2,
       "version_minor": 0
      },
      "text/plain": [
       "  0%|          | 0/32 [00:00<?, ?it/s]"
      ]
     },
     "metadata": {},
     "output_type": "display_data"
    },
    {
     "name": "stdout",
     "output_type": "stream",
     "text": [
      "Epoch 74 Training Accuracy: tensor(0.5987)\n"
     ]
    },
    {
     "data": {
      "application/vnd.jupyter.widget-view+json": {
       "model_id": "43857644c35c4d789755dbdb40f3605c",
       "version_major": 2,
       "version_minor": 0
      },
      "text/plain": [
       "  0%|          | 0/32 [00:00<?, ?it/s]"
      ]
     },
     "metadata": {},
     "output_type": "display_data"
    },
    {
     "name": "stdout",
     "output_type": "stream",
     "text": [
      "Epoch 75 Training Accuracy: tensor(0.5975)\n"
     ]
    },
    {
     "data": {
      "application/vnd.jupyter.widget-view+json": {
       "model_id": "d352f063e6864f62bfacf47d18186455",
       "version_major": 2,
       "version_minor": 0
      },
      "text/plain": [
       "  0%|          | 0/32 [00:00<?, ?it/s]"
      ]
     },
     "metadata": {},
     "output_type": "display_data"
    },
    {
     "name": "stdout",
     "output_type": "stream",
     "text": [
      "Epoch 76 Training Accuracy: tensor(0.5825)\n"
     ]
    },
    {
     "data": {
      "application/vnd.jupyter.widget-view+json": {
       "model_id": "679c4af3087b4657859339657da01e8f",
       "version_major": 2,
       "version_minor": 0
      },
      "text/plain": [
       "  0%|          | 0/32 [00:00<?, ?it/s]"
      ]
     },
     "metadata": {},
     "output_type": "display_data"
    },
    {
     "name": "stdout",
     "output_type": "stream",
     "text": [
      "Epoch 77 Training Accuracy: tensor(0.5988)\n"
     ]
    },
    {
     "data": {
      "application/vnd.jupyter.widget-view+json": {
       "model_id": "05ee3b4c6e6f44209d72e8cbf838cabb",
       "version_major": 2,
       "version_minor": 0
      },
      "text/plain": [
       "  0%|          | 0/32 [00:00<?, ?it/s]"
      ]
     },
     "metadata": {},
     "output_type": "display_data"
    },
    {
     "name": "stdout",
     "output_type": "stream",
     "text": [
      "Epoch 78 Training Accuracy: tensor(0.6012)\n"
     ]
    },
    {
     "data": {
      "application/vnd.jupyter.widget-view+json": {
       "model_id": "2139ebe688ad40c7aa30fac25de0f1bf",
       "version_major": 2,
       "version_minor": 0
      },
      "text/plain": [
       "  0%|          | 0/32 [00:00<?, ?it/s]"
      ]
     },
     "metadata": {},
     "output_type": "display_data"
    },
    {
     "name": "stdout",
     "output_type": "stream",
     "text": [
      "Epoch 79 Training Accuracy: tensor(0.5888)\n"
     ]
    },
    {
     "data": {
      "application/vnd.jupyter.widget-view+json": {
       "model_id": "18fe2cbcc82b4a5cb611b0ce65a7443c",
       "version_major": 2,
       "version_minor": 0
      },
      "text/plain": [
       "  0%|          | 0/32 [00:00<?, ?it/s]"
      ]
     },
     "metadata": {},
     "output_type": "display_data"
    },
    {
     "name": "stdout",
     "output_type": "stream",
     "text": [
      "Epoch 80 Training Accuracy: tensor(0.6013)\n"
     ]
    },
    {
     "data": {
      "application/vnd.jupyter.widget-view+json": {
       "model_id": "5679bf8ce9304eba9cefb2f8f8127c95",
       "version_major": 2,
       "version_minor": 0
      },
      "text/plain": [
       "  0%|          | 0/32 [00:00<?, ?it/s]"
      ]
     },
     "metadata": {},
     "output_type": "display_data"
    },
    {
     "name": "stdout",
     "output_type": "stream",
     "text": [
      "Epoch 81 Training Accuracy: tensor(0.5875)\n"
     ]
    },
    {
     "data": {
      "application/vnd.jupyter.widget-view+json": {
       "model_id": "ef65098fe1aa4833b220bd2f78675036",
       "version_major": 2,
       "version_minor": 0
      },
      "text/plain": [
       "  0%|          | 0/32 [00:00<?, ?it/s]"
      ]
     },
     "metadata": {},
     "output_type": "display_data"
    },
    {
     "name": "stdout",
     "output_type": "stream",
     "text": [
      "Epoch 82 Training Accuracy: tensor(0.5925)\n"
     ]
    },
    {
     "data": {
      "application/vnd.jupyter.widget-view+json": {
       "model_id": "1c6998f1469f443f9696d6864584564f",
       "version_major": 2,
       "version_minor": 0
      },
      "text/plain": [
       "  0%|          | 0/32 [00:00<?, ?it/s]"
      ]
     },
     "metadata": {},
     "output_type": "display_data"
    },
    {
     "name": "stdout",
     "output_type": "stream",
     "text": [
      "Epoch 83 Training Accuracy: tensor(0.5962)\n"
     ]
    },
    {
     "data": {
      "application/vnd.jupyter.widget-view+json": {
       "model_id": "caeb3e2322904e54bd7c18dd2b641fb9",
       "version_major": 2,
       "version_minor": 0
      },
      "text/plain": [
       "  0%|          | 0/32 [00:00<?, ?it/s]"
      ]
     },
     "metadata": {},
     "output_type": "display_data"
    },
    {
     "name": "stdout",
     "output_type": "stream",
     "text": [
      "Epoch 84 Training Accuracy: tensor(0.5975)\n"
     ]
    },
    {
     "data": {
      "application/vnd.jupyter.widget-view+json": {
       "model_id": "385561eff3ff41eeac09133ef475409a",
       "version_major": 2,
       "version_minor": 0
      },
      "text/plain": [
       "  0%|          | 0/32 [00:00<?, ?it/s]"
      ]
     },
     "metadata": {},
     "output_type": "display_data"
    },
    {
     "name": "stdout",
     "output_type": "stream",
     "text": [
      "Epoch 85 Training Accuracy: tensor(0.5788)\n"
     ]
    },
    {
     "data": {
      "application/vnd.jupyter.widget-view+json": {
       "model_id": "5146fafc6a2b42ec8df2fe9b5de00715",
       "version_major": 2,
       "version_minor": 0
      },
      "text/plain": [
       "  0%|          | 0/32 [00:00<?, ?it/s]"
      ]
     },
     "metadata": {},
     "output_type": "display_data"
    },
    {
     "name": "stdout",
     "output_type": "stream",
     "text": [
      "Epoch 86 Training Accuracy: tensor(0.6013)\n"
     ]
    },
    {
     "data": {
      "application/vnd.jupyter.widget-view+json": {
       "model_id": "6074a499f28845d69bd73a4eb1d363df",
       "version_major": 2,
       "version_minor": 0
      },
      "text/plain": [
       "  0%|          | 0/32 [00:00<?, ?it/s]"
      ]
     },
     "metadata": {},
     "output_type": "display_data"
    },
    {
     "name": "stdout",
     "output_type": "stream",
     "text": [
      "Epoch 87 Training Accuracy: tensor(0.6025)\n"
     ]
    },
    {
     "data": {
      "application/vnd.jupyter.widget-view+json": {
       "model_id": "1d8b7d57e8a645cb998c5f2eede008c9",
       "version_major": 2,
       "version_minor": 0
      },
      "text/plain": [
       "  0%|          | 0/32 [00:00<?, ?it/s]"
      ]
     },
     "metadata": {},
     "output_type": "display_data"
    },
    {
     "name": "stdout",
     "output_type": "stream",
     "text": [
      "Epoch 88 Training Accuracy: tensor(0.5950)\n"
     ]
    },
    {
     "data": {
      "application/vnd.jupyter.widget-view+json": {
       "model_id": "5870b6fdeafb449ebba231b94726036e",
       "version_major": 2,
       "version_minor": 0
      },
      "text/plain": [
       "  0%|          | 0/32 [00:00<?, ?it/s]"
      ]
     },
     "metadata": {},
     "output_type": "display_data"
    },
    {
     "name": "stdout",
     "output_type": "stream",
     "text": [
      "Epoch 89 Training Accuracy: tensor(0.5913)\n"
     ]
    },
    {
     "data": {
      "application/vnd.jupyter.widget-view+json": {
       "model_id": "cbbcf8a2eba54063bff1ba2bd8cb115f",
       "version_major": 2,
       "version_minor": 0
      },
      "text/plain": [
       "  0%|          | 0/32 [00:00<?, ?it/s]"
      ]
     },
     "metadata": {},
     "output_type": "display_data"
    },
    {
     "name": "stdout",
     "output_type": "stream",
     "text": [
      "Epoch 90 Training Accuracy: tensor(0.6000)\n"
     ]
    },
    {
     "data": {
      "application/vnd.jupyter.widget-view+json": {
       "model_id": "0d4eb843816447bda965376ba8eba781",
       "version_major": 2,
       "version_minor": 0
      },
      "text/plain": [
       "  0%|          | 0/32 [00:00<?, ?it/s]"
      ]
     },
     "metadata": {},
     "output_type": "display_data"
    },
    {
     "name": "stdout",
     "output_type": "stream",
     "text": [
      "Epoch 91 Training Accuracy: tensor(0.6137)\n"
     ]
    },
    {
     "data": {
      "application/vnd.jupyter.widget-view+json": {
       "model_id": "c2cf7552c1e44a5eb4b0292c09f0afbe",
       "version_major": 2,
       "version_minor": 0
      },
      "text/plain": [
       "  0%|          | 0/32 [00:00<?, ?it/s]"
      ]
     },
     "metadata": {},
     "output_type": "display_data"
    },
    {
     "name": "stdout",
     "output_type": "stream",
     "text": [
      "Epoch 92 Training Accuracy: tensor(0.6000)\n"
     ]
    },
    {
     "data": {
      "application/vnd.jupyter.widget-view+json": {
       "model_id": "c1cd5e9070044daa98bd45eb04ccfb5a",
       "version_major": 2,
       "version_minor": 0
      },
      "text/plain": [
       "  0%|          | 0/32 [00:00<?, ?it/s]"
      ]
     },
     "metadata": {},
     "output_type": "display_data"
    },
    {
     "name": "stdout",
     "output_type": "stream",
     "text": [
      "Epoch 93 Training Accuracy: tensor(0.5888)\n"
     ]
    },
    {
     "data": {
      "application/vnd.jupyter.widget-view+json": {
       "model_id": "4520ca50aa364f86b872ea714f3fd32e",
       "version_major": 2,
       "version_minor": 0
      },
      "text/plain": [
       "  0%|          | 0/32 [00:00<?, ?it/s]"
      ]
     },
     "metadata": {},
     "output_type": "display_data"
    },
    {
     "name": "stdout",
     "output_type": "stream",
     "text": [
      "Epoch 94 Training Accuracy: tensor(0.6063)\n"
     ]
    },
    {
     "data": {
      "application/vnd.jupyter.widget-view+json": {
       "model_id": "33fae86ad4a54b14a4306ca2cbecf7e1",
       "version_major": 2,
       "version_minor": 0
      },
      "text/plain": [
       "  0%|          | 0/32 [00:00<?, ?it/s]"
      ]
     },
     "metadata": {},
     "output_type": "display_data"
    },
    {
     "name": "stdout",
     "output_type": "stream",
     "text": [
      "Epoch 95 Training Accuracy: tensor(0.6038)\n"
     ]
    },
    {
     "data": {
      "application/vnd.jupyter.widget-view+json": {
       "model_id": "540432de684c44339805098735e0b8f6",
       "version_major": 2,
       "version_minor": 0
      },
      "text/plain": [
       "  0%|          | 0/32 [00:00<?, ?it/s]"
      ]
     },
     "metadata": {},
     "output_type": "display_data"
    },
    {
     "name": "stdout",
     "output_type": "stream",
     "text": [
      "Epoch 96 Training Accuracy: tensor(0.6112)\n"
     ]
    },
    {
     "data": {
      "application/vnd.jupyter.widget-view+json": {
       "model_id": "0e7032d49f704967905a6c520f77ff1f",
       "version_major": 2,
       "version_minor": 0
      },
      "text/plain": [
       "  0%|          | 0/32 [00:00<?, ?it/s]"
      ]
     },
     "metadata": {},
     "output_type": "display_data"
    },
    {
     "name": "stdout",
     "output_type": "stream",
     "text": [
      "Epoch 97 Training Accuracy: tensor(0.6000)\n"
     ]
    },
    {
     "data": {
      "application/vnd.jupyter.widget-view+json": {
       "model_id": "dd357486d76c4f3880781edc08417ea0",
       "version_major": 2,
       "version_minor": 0
      },
      "text/plain": [
       "  0%|          | 0/32 [00:00<?, ?it/s]"
      ]
     },
     "metadata": {},
     "output_type": "display_data"
    },
    {
     "name": "stdout",
     "output_type": "stream",
     "text": [
      "Epoch 98 Training Accuracy: tensor(0.5938)\n"
     ]
    },
    {
     "data": {
      "application/vnd.jupyter.widget-view+json": {
       "model_id": "1ecd9f7842c94685ba8f9e187043f7b7",
       "version_major": 2,
       "version_minor": 0
      },
      "text/plain": [
       "  0%|          | 0/32 [00:00<?, ?it/s]"
      ]
     },
     "metadata": {},
     "output_type": "display_data"
    },
    {
     "name": "stdout",
     "output_type": "stream",
     "text": [
      "Epoch 99 Training Accuracy: tensor(0.5900)\n"
     ]
    },
    {
     "data": {
      "application/vnd.jupyter.widget-view+json": {
       "model_id": "c24a2a652f6442cd98b4def5b2d26e25",
       "version_major": 2,
       "version_minor": 0
      },
      "text/plain": [
       "  0%|          | 0/32 [00:00<?, ?it/s]"
      ]
     },
     "metadata": {},
     "output_type": "display_data"
    },
    {
     "name": "stdout",
     "output_type": "stream",
     "text": [
      "Epoch 100 Training Accuracy: tensor(0.5850)\n"
     ]
    },
    {
     "data": {
      "application/vnd.jupyter.widget-view+json": {
       "model_id": "0201a39c6c734343b8c4dd7402f13d55",
       "version_major": 2,
       "version_minor": 0
      },
      "text/plain": [
       "  0%|          | 0/32 [00:00<?, ?it/s]"
      ]
     },
     "metadata": {},
     "output_type": "display_data"
    },
    {
     "name": "stdout",
     "output_type": "stream",
     "text": [
      "Epoch 101 Training Accuracy: tensor(0.5850)\n"
     ]
    },
    {
     "data": {
      "application/vnd.jupyter.widget-view+json": {
       "model_id": "f577d90114134cc6ac5ead4ea77ac883",
       "version_major": 2,
       "version_minor": 0
      },
      "text/plain": [
       "  0%|          | 0/32 [00:00<?, ?it/s]"
      ]
     },
     "metadata": {},
     "output_type": "display_data"
    },
    {
     "name": "stdout",
     "output_type": "stream",
     "text": [
      "Epoch 102 Training Accuracy: tensor(0.6038)\n"
     ]
    },
    {
     "data": {
      "application/vnd.jupyter.widget-view+json": {
       "model_id": "017fab76afb54688bd70786e699e2503",
       "version_major": 2,
       "version_minor": 0
      },
      "text/plain": [
       "  0%|          | 0/32 [00:00<?, ?it/s]"
      ]
     },
     "metadata": {},
     "output_type": "display_data"
    },
    {
     "name": "stdout",
     "output_type": "stream",
     "text": [
      "Epoch 120 Training Accuracy: tensor(0.6038)\n"
     ]
    },
    {
     "data": {
      "application/vnd.jupyter.widget-view+json": {
       "model_id": "d5f5bcf6d0e0445582143bff12d711f6",
       "version_major": 2,
       "version_minor": 0
      },
      "text/plain": [
       "  0%|          | 0/32 [00:00<?, ?it/s]"
      ]
     },
     "metadata": {},
     "output_type": "display_data"
    },
    {
     "name": "stdout",
     "output_type": "stream",
     "text": [
      "Epoch 121 Training Accuracy: tensor(0.6100)\n"
     ]
    },
    {
     "data": {
      "application/vnd.jupyter.widget-view+json": {
       "model_id": "8eca48f3bec5479ba8b06063f9f9e171",
       "version_major": 2,
       "version_minor": 0
      },
      "text/plain": [
       "  0%|          | 0/32 [00:00<?, ?it/s]"
      ]
     },
     "metadata": {},
     "output_type": "display_data"
    },
    {
     "name": "stdout",
     "output_type": "stream",
     "text": [
      "Epoch 122 Training Accuracy: tensor(0.5912)\n"
     ]
    },
    {
     "data": {
      "application/vnd.jupyter.widget-view+json": {
       "model_id": "0c7dd3cdaada4e2c8d3eac427309a2ee",
       "version_major": 2,
       "version_minor": 0
      },
      "text/plain": [
       "  0%|          | 0/32 [00:00<?, ?it/s]"
      ]
     },
     "metadata": {},
     "output_type": "display_data"
    },
    {
     "name": "stdout",
     "output_type": "stream",
     "text": [
      "Epoch 123 Training Accuracy: tensor(0.5938)\n"
     ]
    },
    {
     "data": {
      "application/vnd.jupyter.widget-view+json": {
       "model_id": "5c04d696c3b9400db9c636d35113f196",
       "version_major": 2,
       "version_minor": 0
      },
      "text/plain": [
       "  0%|          | 0/32 [00:00<?, ?it/s]"
      ]
     },
     "metadata": {},
     "output_type": "display_data"
    },
    {
     "name": "stdout",
     "output_type": "stream",
     "text": [
      "Epoch 124 Training Accuracy: tensor(0.6050)\n"
     ]
    },
    {
     "data": {
      "application/vnd.jupyter.widget-view+json": {
       "model_id": "3c0b5f2b6fcc4e62b4b5cac9ca56b91f",
       "version_major": 2,
       "version_minor": 0
      },
      "text/plain": [
       "  0%|          | 0/32 [00:00<?, ?it/s]"
      ]
     },
     "metadata": {},
     "output_type": "display_data"
    },
    {
     "name": "stdout",
     "output_type": "stream",
     "text": [
      "Epoch 125 Training Accuracy: tensor(0.6013)\n"
     ]
    },
    {
     "data": {
      "application/vnd.jupyter.widget-view+json": {
       "model_id": "0f2dd9df314a45f59ec24535a92c91ad",
       "version_major": 2,
       "version_minor": 0
      },
      "text/plain": [
       "  0%|          | 0/32 [00:00<?, ?it/s]"
      ]
     },
     "metadata": {},
     "output_type": "display_data"
    },
    {
     "name": "stdout",
     "output_type": "stream",
     "text": [
      "Epoch 126 Training Accuracy: tensor(0.5925)\n"
     ]
    },
    {
     "data": {
      "application/vnd.jupyter.widget-view+json": {
       "model_id": "01f461f0ae404b40a72020650e665df0",
       "version_major": 2,
       "version_minor": 0
      },
      "text/plain": [
       "  0%|          | 0/32 [00:00<?, ?it/s]"
      ]
     },
     "metadata": {},
     "output_type": "display_data"
    },
    {
     "name": "stdout",
     "output_type": "stream",
     "text": [
      "Epoch 127 Training Accuracy: tensor(0.5975)\n"
     ]
    },
    {
     "data": {
      "application/vnd.jupyter.widget-view+json": {
       "model_id": "7f280c08f4ee49aab8f225fd40f0ad4e",
       "version_major": 2,
       "version_minor": 0
      },
      "text/plain": [
       "  0%|          | 0/32 [00:00<?, ?it/s]"
      ]
     },
     "metadata": {},
     "output_type": "display_data"
    },
    {
     "name": "stdout",
     "output_type": "stream",
     "text": [
      "Epoch 128 Training Accuracy: tensor(0.5925)\n"
     ]
    },
    {
     "data": {
      "application/vnd.jupyter.widget-view+json": {
       "model_id": "7ced8cddf3274e59a07fe08a48808088",
       "version_major": 2,
       "version_minor": 0
      },
      "text/plain": [
       "  0%|          | 0/32 [00:00<?, ?it/s]"
      ]
     },
     "metadata": {},
     "output_type": "display_data"
    },
    {
     "name": "stdout",
     "output_type": "stream",
     "text": [
      "Epoch 129 Training Accuracy: tensor(0.5938)\n"
     ]
    },
    {
     "data": {
      "application/vnd.jupyter.widget-view+json": {
       "model_id": "d37407277a33404b860374e09015cc54",
       "version_major": 2,
       "version_minor": 0
      },
      "text/plain": [
       "  0%|          | 0/32 [00:00<?, ?it/s]"
      ]
     },
     "metadata": {},
     "output_type": "display_data"
    },
    {
     "name": "stdout",
     "output_type": "stream",
     "text": [
      "Epoch 130 Training Accuracy: tensor(0.5988)\n"
     ]
    },
    {
     "data": {
      "application/vnd.jupyter.widget-view+json": {
       "model_id": "69640141a9584af6bbe5c54f24918223",
       "version_major": 2,
       "version_minor": 0
      },
      "text/plain": [
       "  0%|          | 0/32 [00:00<?, ?it/s]"
      ]
     },
     "metadata": {},
     "output_type": "display_data"
    },
    {
     "name": "stdout",
     "output_type": "stream",
     "text": [
      "Epoch 131 Training Accuracy: tensor(0.5838)\n"
     ]
    },
    {
     "data": {
      "application/vnd.jupyter.widget-view+json": {
       "model_id": "e3f074cc9c934f60bd225d09df3810d5",
       "version_major": 2,
       "version_minor": 0
      },
      "text/plain": [
       "  0%|          | 0/32 [00:00<?, ?it/s]"
      ]
     },
     "metadata": {},
     "output_type": "display_data"
    },
    {
     "name": "stdout",
     "output_type": "stream",
     "text": [
      "Epoch 132 Training Accuracy: tensor(0.6100)\n"
     ]
    },
    {
     "data": {
      "application/vnd.jupyter.widget-view+json": {
       "model_id": "d5922247ad2943ba97daa3da3c35a87c",
       "version_major": 2,
       "version_minor": 0
      },
      "text/plain": [
       "  0%|          | 0/32 [00:00<?, ?it/s]"
      ]
     },
     "metadata": {},
     "output_type": "display_data"
    }
   ],
   "source": [
    "# yelp training\n",
    "qrnn_yelp_model = qrnn(MAX_SEQ_LEN,1,2,1)\n",
    "yelp_qrnn_trained, yelp_train_loss = model_trainer(qrnn_yelp_model, NUM_EPOCHS, yelp_trainloader)\n",
    "torch.save(yelp_qrnn_trained, \"yelp_qrnn.pt\")\n",
    "dump(yelp_train_loss, \"yelp_train_loss.joblib\")\n",
    "# loss_plotter(yelp_train_loss, NUM_EPOCHS, save=True, save_name=\"yelp_data\")\n",
    "\n",
    "\n",
    "# Yelp testing\n",
    "yelp_preds, yelp_acc, yelp_labels = model_tester(yelp_qrnn_trained, yelp_testloader)\n",
    "yelp_train_preds, yelp_train_acc, yelp_train_labels = model_tester(yelp_qrnn_trained, yelp_trainloader)\n",
    "\n",
    "print(f\"yelp accuracy test: {yelp_acc}\")\n",
    "print(f\"yelp accuracy train: {yelp_train_acc}\")\n",
    "\n",
    "dump(yelp_preds, \"yelp_preds.joblib\")\n",
    "dump(yelp_labels, \"yelp_labels.joblib\")\n",
    "dump(yelp_train_preds, \"yelp_train_preds.joblib\")\n",
    "dump(yelp_train_labels, \"yelp_train_labels.joblib\")"
   ]
  },
  {
   "cell_type": "code",
   "execution_count": null,
   "metadata": {},
   "outputs": [],
   "source": []
  },
  {
   "cell_type": "code",
   "execution_count": null,
   "metadata": {},
   "outputs": [],
   "source": []
  }
 ],
 "metadata": {
  "colab": {
   "provenance": []
  },
  "kernelspec": {
   "display_name": "Python 3 (ipykernel)",
   "language": "python",
   "name": "python3"
  },
  "language_info": {
   "codemirror_mode": {
    "name": "ipython",
    "version": 3
   },
   "file_extension": ".py",
   "mimetype": "text/x-python",
   "name": "python",
   "nbconvert_exporter": "python",
   "pygments_lexer": "ipython3",
   "version": "3.10.8"
  },
  "widgets": {
   "application/vnd.jupyter.widget-state+json": {
    "state": {},
    "version_major": 2,
    "version_minor": 0
   }
  }
 },
 "nbformat": 4,
 "nbformat_minor": 4
}
