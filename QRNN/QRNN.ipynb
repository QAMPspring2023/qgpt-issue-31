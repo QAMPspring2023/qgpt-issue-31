{
  "cells": [
    {
      "cell_type": "code",
      "execution_count": null,
      "metadata": {
        "id": "vQIoYKJ56ux4",
        "colab": {
          "base_uri": "https://localhost:8080/"
        },
        "outputId": "602a233f-636b-447a-c8b9-11ca72be68d5"
      },
      "outputs": [
        {
          "output_type": "stream",
          "name": "stdout",
          "text": [
            "  Building wheel for fastdtw (setup.py) ... \u001b[?25l\u001b[?25hdone\n",
            "  Created wheel for fastdtw: filename=fastdtw-0.3.4-cp310-cp310-linux_x86_64.whl size=517928 sha256=70ae52416846be756e198ac804af0adbbbd2dc09769d5adccbe94f060a8e150f\n",
            "  Stored in directory: /root/.cache/pip/wheels/73/c8/f7/c25448dab74c3acf4848bc25d513c736bb93910277e1528ef4\n",
            "Successfully built fastdtw\n",
            "Installing collected packages: fastdtw, qiskit_machine_learning\n",
            "Successfully installed fastdtw-0.3.4 qiskit_machine_learning-0.6.1\n",
            "Collecting transformers\n",
            "  Downloading transformers-4.30.2-py3-none-any.whl (7.2 MB)\n",
            "\u001b[2K     \u001b[90m━━━━━━━━━━━━━━━━━━━━━━━━━━━━━━━━━━━━━━━━\u001b[0m \u001b[32m7.2/7.2 MB\u001b[0m \u001b[31m60.4 MB/s\u001b[0m eta \u001b[36m0:00:00\u001b[0m\n",
            "\u001b[?25hRequirement already satisfied: filelock in /usr/local/lib/python3.10/dist-packages (from transformers) (3.12.2)\n",
            "Collecting huggingface-hub<1.0,>=0.14.1 (from transformers)\n",
            "  Downloading huggingface_hub-0.15.1-py3-none-any.whl (236 kB)\n",
            "\u001b[2K     \u001b[90m━━━━━━━━━━━━━━━━━━━━━━━━━━━━━━━━━━━━━━\u001b[0m \u001b[32m236.8/236.8 kB\u001b[0m \u001b[31m29.3 MB/s\u001b[0m eta \u001b[36m0:00:00\u001b[0m\n",
            "\u001b[?25hRequirement already satisfied: numpy>=1.17 in /usr/local/lib/python3.10/dist-packages (from transformers) (1.22.4)\n",
            "Requirement already satisfied: packaging>=20.0 in /usr/local/lib/python3.10/dist-packages (from transformers) (23.1)\n",
            "Requirement already satisfied: pyyaml>=5.1 in /usr/local/lib/python3.10/dist-packages (from transformers) (6.0)\n",
            "Requirement already satisfied: regex!=2019.12.17 in /usr/local/lib/python3.10/dist-packages (from transformers) (2022.10.31)\n",
            "Requirement already satisfied: requests in /usr/local/lib/python3.10/dist-packages (from transformers) (2.27.1)\n",
            "Collecting tokenizers!=0.11.3,<0.14,>=0.11.1 (from transformers)\n",
            "  Downloading tokenizers-0.13.3-cp310-cp310-manylinux_2_17_x86_64.manylinux2014_x86_64.whl (7.8 MB)\n",
            "\u001b[2K     \u001b[90m━━━━━━━━━━━━━━━━━━━━━━━━━━━━━━━━━━━━━━━━\u001b[0m \u001b[32m7.8/7.8 MB\u001b[0m \u001b[31m107.0 MB/s\u001b[0m eta \u001b[36m0:00:00\u001b[0m\n",
            "\u001b[?25hCollecting safetensors>=0.3.1 (from transformers)\n",
            "  Downloading safetensors-0.3.1-cp310-cp310-manylinux_2_17_x86_64.manylinux2014_x86_64.whl (1.3 MB)\n",
            "\u001b[2K     \u001b[90m━━━━━━━━━━━━━━━━━━━━━━━━━━━━━━━━━━━━━━━━\u001b[0m \u001b[32m1.3/1.3 MB\u001b[0m \u001b[31m70.7 MB/s\u001b[0m eta \u001b[36m0:00:00\u001b[0m\n",
            "\u001b[?25hRequirement already satisfied: tqdm>=4.27 in /usr/local/lib/python3.10/dist-packages (from transformers) (4.65.0)\n",
            "Requirement already satisfied: fsspec in /usr/local/lib/python3.10/dist-packages (from huggingface-hub<1.0,>=0.14.1->transformers) (2023.6.0)\n",
            "Requirement already satisfied: typing-extensions>=3.7.4.3 in /usr/local/lib/python3.10/dist-packages (from huggingface-hub<1.0,>=0.14.1->transformers) (4.6.3)\n",
            "Requirement already satisfied: urllib3<1.27,>=1.21.1 in /usr/local/lib/python3.10/dist-packages (from requests->transformers) (1.26.16)\n",
            "Requirement already satisfied: certifi>=2017.4.17 in /usr/local/lib/python3.10/dist-packages (from requests->transformers) (2023.5.7)\n",
            "Requirement already satisfied: charset-normalizer~=2.0.0 in /usr/local/lib/python3.10/dist-packages (from requests->transformers) (2.0.12)\n",
            "Requirement already satisfied: idna<4,>=2.5 in /usr/local/lib/python3.10/dist-packages (from requests->transformers) (3.4)\n",
            "Installing collected packages: tokenizers, safetensors, huggingface-hub, transformers\n",
            "Successfully installed huggingface-hub-0.15.1 safetensors-0.3.1 tokenizers-0.13.3 transformers-4.30.2\n"
          ]
        }
      ],
      "source": [
        "!pip install qiskit\n",
        "!pip install pylatexenc\n",
        "!pip install qiskit.ignis\n",
        "!pip install qiskit_machine_learning\n",
        "!pip install transformers"
      ]
    },
    {
      "cell_type": "code",
      "execution_count": null,
      "metadata": {
        "id": "ywONg92Q6ngm"
      },
      "outputs": [],
      "source": [
        "from qiskit import *\n",
        "# Qiskit module\n",
        "from qiskit import QuantumCircuit\n",
        "import qiskit.circuit.library as circuit_library\n",
        "import qiskit.quantum_info as qi\n",
        "#from qiskit import execute\n",
        "from qiskit.utils import algorithm_globals\n",
        "from qiskit.circuit.library import EfficientSU2\n",
        "from qiskit_machine_learning.neural_networks import SamplerQNN, EstimatorQNN\n",
        "from qiskit_machine_learning.connectors import TorchConnector\n",
        "import torch\n",
        "from qiskit.circuit import ParameterVector, Parameter\n",
        "from qiskit.circuit.parametervector import ParameterVectorElement\n",
        "from torch import Tensor\n",
        "import torch.nn as nn\n",
        "import numpy as np\n",
        "from qiskit.quantum_info import SparsePauliOp\n",
        "from tqdm.notebook import tqdm\n",
        "\n",
        "from transformers import AutoTokenizer\n",
        "\n",
        "from torch.utils.data import DataLoader, Dataset\n",
        "from tensorflow import compat\n",
        "import tensorflow_datasets as tfds"
      ]
    },
    {
      "cell_type": "code",
      "execution_count": null,
      "metadata": {
        "id": "dM2vJ9TO5LMN"
      },
      "outputs": [],
      "source": [
        "# Fetching pre-trained tokenizer and imdb dataset\n",
        "tokenizer = AutoTokenizer.from_pretrained(\"facebook/data2vec-text-base\")\n",
        "vocab_size = len(tokenizer)\n",
        "\n",
        "# Loading IMDB Dataset from tensorflow datasets\n",
        "imdb_data = tfds.load(\"imdb_reviews\", shuffle_files=True)\n",
        "imdb_train_data = tfds.as_dataframe(imdb_data['train']) #.take(64))\n",
        "imdb_test_data = tfds.as_dataframe(imdb_data['test']) #.take(64))"
      ]
    },
    {
      "cell_type": "code",
      "execution_count": null,
      "metadata": {
        "id": "7XqBoPxt7LxE"
      },
      "outputs": [],
      "source": [
        "class D2Tset(Dataset):\n",
        "  def __init__(self, data_df, tokenizer=None, max_seq_length=None, padding=True, transform=None, target_transform=None):\n",
        "    self.df = data_df\n",
        "    self.tokenizer = tokenizer\n",
        "    self.max_seq_length = max_seq_length\n",
        "    self.transform = transform\n",
        "    self.target_transform = target_transform\n",
        "    self.pad = padding\n",
        "\n",
        "    if self.max_seq_length is not None:\n",
        "      self.truncation = True\n",
        "    else:\n",
        "      self.truncation = False\n",
        "\n",
        "  def __len__(self):\n",
        "    return self.df.shape[0]\n",
        "\n",
        "  def __getitem__(self, idx):\n",
        "    data = self.df.iloc[idx]\n",
        "    label = data['label']\n",
        "    feature = self._txt2vec(data['text'])\n",
        "    return feature.input_ids.squeeze(0), label\n",
        "\n",
        "  def _txt2vec(self, txt):\n",
        "    if isinstance(txt, bytes):\n",
        "        txt = compat.as_str_any(txt)\n",
        "    tokenized = self.tokenizer(txt, return_tensors='pt', truncation=self.truncation, padding=self.pad, max_length=self.max_seq_length)\n",
        "    return tokenized"
      ]
    },
    {
      "cell_type": "code",
      "execution_count": null,
      "metadata": {
        "id": "e_n7IZrRQXpK"
      },
      "outputs": [],
      "source": [
        "# Using dataloader for the imdb data\n",
        "imdb_trainset = D2Tset(data_df=imdb_train_data, tokenizer=tokenizer, max_seq_length=128, padding='max_length', transform=None, target_transform=None)\n",
        "imdb_trainloader = DataLoader(imdb_trainset, shuffle=True, batch_size=1)\n",
        "\n",
        "imdb_testset = D2Tset(data_df=imdb_test_data, tokenizer=tokenizer, max_seq_length=128, padding='max_length', transform=None, target_transform=None)\n",
        "imdb_testloader = DataLoader(imdb_testset, shuffle=False, batch_size=1)\n",
        "imdb_feature, imdb_label = next(iter(imdb_trainloader))\n",
        "print(imdb_feature.shape, imdb_label.shape)"
      ]
    },
    {
      "cell_type": "code",
      "execution_count": null,
      "metadata": {
        "id": "Bgv6jKSGI5ZU"
      },
      "outputs": [],
      "source": [
        "class qrnn(nn.Module):\n",
        "\n",
        "  def __init__(self, n_qrbs, n_qubs, vocab_size, staggered: bool=False):\n",
        "    super().__init__()\n",
        "    self.n_qrbs = n_qrbs\n",
        "    self.n_qubits = n_qubs\n",
        "    self.staggered = staggered\n",
        "    #self.embed_layer = nn.Embedding(vocab_size, n_qrbs, max_norm=1.0)\n",
        "    self.qc_init()\n",
        "    input_params = list(filter(lambda x: not isinstance(x, ParameterVectorElement), self.qc.parameters.data))\n",
        "    weight_params = list(filter(lambda x: isinstance(x, ParameterVectorElement), self.qc.parameters.data))\n",
        "    self.qnn = EstimatorQNN(circuit=self.qc, input_params=input_params, weight_params=weight_params, input_gradients=True)\n",
        "    self.qrnn = TorchConnector(self.qnn)\n",
        "    self.softmax = nn.Softmax(dim=0)\n",
        "\n",
        "  def qc_init(self):\n",
        "    self.regD = QuantumRegister(self.n_qubits, 'regD')\n",
        "    self.regH = QuantumRegister(self.n_qubits, 'regH')\n",
        "    self.regY = ClassicalRegister(self.n_qubits, 'regY')\n",
        "    self.qc = QuantumCircuit(self.regD, self.regH, self.regY)\n",
        "    self.theta_matrix = np.array([ParameterVector(f'θ{i}', length=3) for i in range(self.n_qubits*2)])\n",
        "    self.gamma_vec = ParameterVector('γ', length=self.n_qubits*2+1)\n",
        "    self.theta = Parameter('θ')\n",
        "    self.angencode()\n",
        "    self.apply_ansatz()\n",
        "\n",
        "  def angencode(self):\n",
        "    #theta = torch.atan(xt).tolist()[0]\n",
        "    for i in range(self.n_qubits):\n",
        "      self.qc.ry(self.theta, self.regD[i])\n",
        "\n",
        "  def apply_ansatz(self):\n",
        "    qubits = self.qc.qubits\n",
        "\n",
        "    for i in range(self.n_qubits*2):  # Initial circuit rotations with parameters\n",
        "      self.qc.rx(self.theta_matrix[i][0], qubits[i])\n",
        "      self.qc.rz(self.theta_matrix[i][1], qubits[i])\n",
        "      self.qc.rx(self.theta_matrix[i][2], qubits[i])\n",
        "\n",
        "    for i in range(1, self.n_qubits*2):\n",
        "      self.qc.rzz(self.gamma_vec[i], qubits[i-1], qubits[i])\n",
        "\n",
        "    self.qc.rzz(self.gamma_vec[-1], qubits[-1], qubits[0])\n",
        "\n",
        "  def measurement(self):\n",
        "    self.qc.measure(self.regD, self.regY)\n",
        "    # self.qc.reset(self.regD)\n",
        "\n",
        "  def regreset(self):\n",
        "    self.qc.reset(self.regD)\n",
        "\n",
        "  def forward(self, x):\n",
        "    y = []\n",
        "    for i in range(self.n_qrbs):\n",
        "      #self.angencode(x[i])\n",
        "      theta = torch.atan(x[i]).view(1)\n",
        "      out = self.softmax(self.qrnn(theta))\n",
        "      y.append(out)\n",
        "      # self.regreset()\n",
        "      # self.measurement()\n",
        "      # self.qc_init()\n",
        "      # y.append(self.regY[0])\n",
        "      # print(y)\n",
        "    return y[-1]"
      ]
    },
    {
      "cell_type": "code",
      "execution_count": null,
      "metadata": {
        "id": "b8aFCz6hvkho"
      },
      "outputs": [],
      "source": [
        "def model_trainer(model, n_epochs, trainloader):\n",
        "  '''\n",
        "  Model trainer to train QRNN\n",
        "  Parameters:\n",
        "    model (PyTorch Model): QRNN model for text or image classification with correct sizes specified\n",
        "    n_epochs (int): Number of epochs to train for.\n",
        "    trainloader (PyTorch Dataloader): Dataloader containing the dataset.\n",
        "  '''\n",
        "  train_loss = []\n",
        "  optimizer = torch.optim.Adam(lr=0.03, params=model.parameters())\n",
        "  criterion = nn.BCELoss()\n",
        "  pbar = tqdm(total=len(trainloader), leave=True)\n",
        "  device = torch.device(\"cuda\" if torch.cuda.is_available() else \"cpu\")\n",
        "  model.train()\n",
        "  model.to(device)\n",
        "  for epoch in range(n_epochs):\n",
        "    for batch, (feature, label) in enumerate(trainloader):\n",
        "      feature, label = feature.to(device), label.to(device)\n",
        "      optimizer.zero_grad()\n",
        "      predictions = model(feature.squeeze())\n",
        "      loss = criterion(predictions, label.float())\n",
        "      loss.backward()\n",
        "      optimizer.step()\n",
        "      pbar.update()\n",
        "      pbar.desc = f\"Epoch: {epoch} | Batch: {batch} | Loss {loss}\"\n",
        "      train_loss.append(loss.cpu().detach().numpy())\n",
        "      #print(acc)\n",
        "      #print(loss)\n",
        "    pbar.refresh()\n",
        "  pbar.close()\n",
        "  return model, train_loss\n",
        "\n",
        "\n",
        "def model_tester(model, testloader):\n",
        "  '''\n",
        "  Model test to train QRNN\n",
        "  Parameters:\n",
        "    model (PyTorch Model): QRNN model for text or image classification with correct sizes specified\n",
        "    testloader (PyTorch Dataloader): Dataloader containing the test dataset.\n",
        "  '''\n",
        "  preds = []\n",
        "  labels = []\n",
        "  pbar = tqdm(total=len(testloader), leave=True)\n",
        "  device = torch.device(\"cuda\" if torch.cuda.is_available() else \"cpu\")\n",
        "  model.eval()\n",
        "  model.to(device)\n",
        "  for batch, (feature, label) in enumerate(testloader):\n",
        "    feature, label = feature.to(device), label.to(device)\n",
        "    with torch.no_grad():\n",
        "      predictions = model(feature.squeeze())\n",
        "      preds.append(predictions.cpu().numpy())\n",
        "      labels.append(label.cpu().numpy())\n",
        "    pbar.update()\n",
        "    pbar.desc = f\"Batch: {batch}\"\n",
        "  pbar.refresh()\n",
        "  pbar.close()\n",
        "  preds = np.array([1 if pred>=0.5 else 0 for pred in preds])\n",
        "  labels = np.array(labels)\n",
        "  acc = (preds == labels).sum() / len(preds)\n",
        "  return preds, acc, labels"
      ]
    },
    {
      "cell_type": "code",
      "execution_count": null,
      "metadata": {
        "id": "yBMm8lKgiES-"
      },
      "outputs": [],
      "source": [
        "# Defining and training the model\n",
        "model = qrnn(n_qrbs=128, n_qubs=3, vocab_size=vocab_size, staggered=False)\n",
        "trained_model, train_loss = model_trainer(model, 50, imdb_trainloader)"
      ]
    },
    {
      "cell_type": "code",
      "execution_count": null,
      "metadata": {
        "id": "2vukwAYOBYDi"
      },
      "outputs": [],
      "source": [
        "# Calculating accuracy of model\n",
        "preds, accuracy, labels = model_tester(trained_model, imdb_testloader)\n",
        "print(f\"Accuracy: {accuracy}\")"
      ]
    },
    {
      "cell_type": "code",
      "execution_count": null,
      "metadata": {
        "id": "Q2eEguzsEhPd"
      },
      "outputs": [],
      "source": [
        "# Saving model\n",
        "torch.save(model.state_dict(), \"QRNN_STATE.pt\")"
      ]
    }
  ],
  "metadata": {
    "accelerator": "GPU",
    "colab": {
      "provenance": [],
      "gpuType": "T4"
    },
    "kernelspec": {
      "display_name": "Python 3",
      "name": "python3"
    },
    "language_info": {
      "name": "python"
    }
  },
  "nbformat": 4,
  "nbformat_minor": 0
}