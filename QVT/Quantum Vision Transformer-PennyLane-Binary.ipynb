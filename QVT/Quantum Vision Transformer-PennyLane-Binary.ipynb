{
 "cells": [
  {
   "cell_type": "code",
   "execution_count": 2,
   "id": "e04e26f5",
   "metadata": {},
   "outputs": [],
   "source": [
    "import pennylane as qml\n",
    "import torch\n",
    "import numpy as np\n",
    "import random\n",
    "import torch.nn as nn\n",
    "from tqdm import tqdm"
   ]
  },
  {
   "cell_type": "code",
   "execution_count": 3,
   "id": "09380598",
   "metadata": {},
   "outputs": [],
   "source": [
    "import functools\n",
    "import inspect\n",
    "import math\n",
    "from collections.abc import Iterable\n",
    "from typing import Callable, Dict, Union, Any\n",
    "\n",
    "from pennylane.qnode import QNode\n",
    "\n",
    "try:\n",
    "    import torch\n",
    "    from torch.nn import Module\n",
    "\n",
    "    TORCH_IMPORTED = True\n",
    "except ImportError:\n",
    "    # The following allows this module to be imported even if PyTorch is not installed. Users\n",
    "    # will instead see an ImportError when instantiating the TorchLayer.\n",
    "    from unittest.mock import Mock\n",
    "\n",
    "    Module = Mock\n",
    "    TORCH_IMPORTED = False\n",
    "\n",
    "\n",
    "class TorchLayer(Module):\n",
    "    def __init__(self,qnode,weights):\n",
    "        if not TORCH_IMPORTED:\n",
    "            raise ImportError(\n",
    "                \"TorchLayer requires PyTorch. PyTorch can be installed using:\\n\"\n",
    "                \"pip install torch\\nAlternatively, \"\n",
    "                \"visit https://pytorch.org/get-started/locally/ for detailed \"\n",
    "                \"instructions.\"\n",
    "            )\n",
    "        super().__init__()\n",
    "\n",
    "        #weight_shapes = {\n",
    "        #    weight: (tuple(size) if isinstance(size, Iterable) else () if size == 1 else (size,))\n",
    "        #    for weight, size in weight_shapes.items()\n",
    "        #}\n",
    "\n",
    "        # validate the QNode signature, and convert to a Torch QNode.\n",
    "        # TODO: update the docstring regarding changes to restrictions when tape mode is default.\n",
    "        #self._signature_validation(qnode, weight_shapes)\n",
    "        self.qnode = qnode\n",
    "        self.qnode.interface = \"torch\"\n",
    "\n",
    "        self.qnode_weights = weights\n",
    "\n",
    "    def forward(self, inputs):  # pylint: disable=arguments-differ\n",
    "        \"\"\"Evaluates a forward pass through the QNode based upon input data and the initialized\n",
    "        weights.\n",
    "\n",
    "        Args:\n",
    "            inputs (tensor): data to be processed\n",
    "\n",
    "        Returns:\n",
    "            tensor: output data\n",
    "        \"\"\"\n",
    "\n",
    "        if len(inputs.shape) > 1:\n",
    "            # If the input size is not 1-dimensional, unstack the input along its first dimension,\n",
    "            # recursively call the forward pass on each of the yielded tensors, and then stack the\n",
    "            # outputs back into the correct shape\n",
    "            reconstructor = [self.forward(x) for x in torch.unbind(inputs)]\n",
    "            return torch.stack(reconstructor)\n",
    "\n",
    "        # If the input is 1-dimensional, calculate the forward pass as usual\n",
    "        return self._evaluate_qnode(inputs)\n",
    "\n",
    "\n",
    "    def _evaluate_qnode(self, x):\n",
    "        \"\"\"Evaluates the QNode for a single input datapoint.\n",
    "\n",
    "        Args:\n",
    "            x (tensor): the datapoint\n",
    "\n",
    "        Returns:\n",
    "            tensor: output datapoint\n",
    "        \"\"\"\n",
    "        kwargs = {\n",
    "            **{self.input_arg: x},\n",
    "            **{arg: weight.to(x) for arg, weight in self.qnode_weights.items()},\n",
    "        }\n",
    "        res = self.qnode(**kwargs)\n",
    "\n",
    "        if isinstance(res, torch.Tensor):\n",
    "            return res.type(x.dtype)\n",
    "\n",
    "        return torch.hstack(res).type(x.dtype)\n",
    "\n",
    "    def __str__(self):\n",
    "        detail = \"<Quantum Torch Layer: func={}>\"\n",
    "        return detail.format(self.qnode.func.__name__)\n",
    "\n",
    "    __repr__ = __str__\n",
    "    _input_arg = \"inputs\"\n",
    "\n",
    "    @property\n",
    "    def input_arg(self):\n",
    "        \"\"\"Name of the argument to be used as the input to the Torch layer. Set to ``\"inputs\"``.\"\"\"\n",
    "        return self._input_arg"
   ]
  },
  {
   "cell_type": "code",
   "execution_count": 4,
   "id": "6860940b",
   "metadata": {},
   "outputs": [],
   "source": [
    "class QSAL_pennylane(torch.nn.Module):\n",
    "    def __init__(self,S,n,Denc,D):\n",
    "        super().__init__()\n",
    "        self.seq_num=S\n",
    "        self.init_params_Q=torch.nn.Parameter(torch.stack([(np.pi/4) * (2 * torch.randn(n*(D+2)) - 1) for _ in range(self.seq_num)]))\n",
    "        self.init_params_K=torch.nn.Parameter(torch.stack([(np.pi/4) * (2 * torch.randn(n*(D+2)) - 1) for _ in range(self.seq_num)]))\n",
    "        self.init_params_V=torch.nn.Parameter(torch.stack([(np.pi/4) * (2 * torch.randn(n*(D+2)) - 1) for _ in range(self.seq_num)]))\n",
    "        self.num_q=n\n",
    "        self.Denc=Denc\n",
    "        self.D=D\n",
    "        self.d=n*(Denc+2)\n",
    "        self.dev = qml.device(\"default.qubit\", wires=self.num_q)\n",
    "        \n",
    "        self.vqnod=qml.QNode(self.circuit_v, self.dev, interface=\"torch\")\n",
    "        self.qnod=qml.QNode(self.circuit_qk, self.dev, interface=\"torch\")\n",
    "        self.weight_v = [{\"weights\": self.init_params_V[i]} for i in range(self.seq_num)]\n",
    "        self.weight_q = [{\"weights\": self.init_params_Q[i]} for i in range(self.seq_num)]\n",
    "        self.weight_k = [{\"weights\": self.init_params_K[i]} for i in range(self.seq_num)]\n",
    "        #self.v_linear ={} #[qml.qnn.TorchLayer(self.vqnod[i], self.weight_shapes) for i in range(self.seq_num)]\n",
    "        #for i in range(self.seq_num):\n",
    "        self.v_linear = [TorchLayer(self.vqnod, self.weight_v[i]) for i in range(self.seq_num)]\n",
    "        self.q_linear = [TorchLayer(self.qnod, self.weight_q[i]) for i in range(self.seq_num)]\n",
    "        self.k_linear = [TorchLayer(self.qnod, self.weight_k[i]) for i in range(self.seq_num)]\n",
    "        #self.qqnod=[qml.QNode(self.circuit_qk, self.dev, interface=\"torch\") for i in range(self.seq_num)]\n",
    "\n",
    "    def random_op(self):\n",
    "        a=random.randint(0, 4)\n",
    "        if a==0:\n",
    "            op=qml.Identity(0)\n",
    "        elif a==1:\n",
    "            op=qml.PauliX(0)\n",
    "        elif a==2:\n",
    "            op=qml.PauliY(0)\n",
    "        else:\n",
    "            op=qml.PauliZ(0)\n",
    "\n",
    "        op_elimated=qml.Identity(0)\n",
    "        for i in range(1,self.num_q):\n",
    "            op_elimated=op_elimated@qml.Identity(i)\n",
    "        Select_wrong=True\n",
    "        while Select_wrong:\n",
    "            for i in range(1,self.num_q):\n",
    "                a=random.randint(0, 4)\n",
    "                if a==0:\n",
    "                    op=op@qml.Identity(i)\n",
    "                elif a==1:\n",
    "                    op=op@qml.PauliX(i)\n",
    "                elif a==2:\n",
    "                    op=op@qml.PauliY(i)\n",
    "                else:\n",
    "                    op=op@qml.PauliZ(i)\n",
    "            if op!=op_elimated:\n",
    "                Select_wrong=False\n",
    "        return op\n",
    "\n",
    "    def circuit_v(self,inputs,weights):\n",
    "            op=self.random_op()\n",
    "            # feature_map\n",
    "            indx=0\n",
    "            for j in range(self.num_q):\n",
    "                qml.RX(inputs[indx],j)\n",
    "                qml.RY(inputs[indx+1],j)\n",
    "                indx+=2\n",
    "            for i in range(self.Denc):\n",
    "                for j in range(self.num_q):\n",
    "                    qml.CNOT(wires=(j,(j+1)%self.num_q))\n",
    "\n",
    "                for j in range(self.num_q):\n",
    "                    qml.RY(inputs[indx],j)\n",
    "                    indx+=1\n",
    "            # Ansatz\n",
    "            indx=0\n",
    "            for j in range(self.num_q):\n",
    "                qml.RX(weights[indx],j)\n",
    "                qml.RY(weights[indx+1],j)\n",
    "                indx+=2\n",
    "            for i in range(self.D):\n",
    "                for j in range(self.num_q):\n",
    "                    qml.CNOT(wires=(j,(j+1)%self.num_q))\n",
    "                    \n",
    "                for j in range(self.num_q):\n",
    "                    #qc.rx(params[indx],j)\n",
    "                    qml.RY(weights[indx],j)\n",
    "                    indx+=1\n",
    "            return [qml.expval(op) for i in range(self.d)] \n",
    "\n",
    "    def circuit_qk(self,inputs,weights):\n",
    "        op=self.random_op()\n",
    "        # feature_map\n",
    "        indx=0\n",
    "        for j in range(self.num_q):\n",
    "            qml.RX(inputs[indx],j)\n",
    "            qml.RY(inputs[indx+1],j)\n",
    "            indx+=2\n",
    "        for i in range(self.Denc):\n",
    "            for j in range(self.num_q):\n",
    "                qml.CNOT(wires=(j,(j+1)%self.num_q))\n",
    "\n",
    "            for j in range(self.num_q):\n",
    "                qml.RY(inputs[indx],j)\n",
    "                indx+=1\n",
    "        # Ansatz\n",
    "        indx=0\n",
    "        for j in range(self.num_q):\n",
    "            qml.RX(weights[indx],j)\n",
    "            qml.RY(weights[indx+1],j)\n",
    "            indx+=2\n",
    "        for i in range(self.D):\n",
    "            for j in range(self.num_q):\n",
    "                qml.CNOT(wires=(j,(j+1)%self.num_q))\n",
    "                \n",
    "            for j in range(self.num_q):\n",
    "                #qc.rx(params[indx],j)\n",
    "                qml.RY(weights[indx],j)\n",
    "                indx+=1\n",
    "        return [qml.expval(qml.PauliZ(0))]\n",
    "\n",
    "    def forward(self,input):\n",
    "\n",
    "        Q_output=torch.stack([self.q_linear[i](input[:,i]) for i in range(self.seq_num)])\n",
    "        K_output=torch.stack([self.k_linear[i](input[:,i]) for i in range(self.seq_num)])\n",
    "        V_output=torch.stack([self.v_linear[i](input[:,i]) for i in range(self.seq_num)])\n",
    "        \n",
    "        batch_size=len(input)\n",
    "        Q_output=Q_output.transpose(0,2).repeat((self.seq_num,1,1))\n",
    "        K_output=K_output.transpose(0,2).repeat((self.seq_num,1,1)).transpose(0,2)\n",
    "        #print(V_output.size())\n",
    "        #Q_grid, K_grid=torch.meshgrid(Q_output, K_output, indexing='ij')\n",
    "        alpha=torch.exp(-(Q_output-K_output)**2)\n",
    "        alpha=alpha.transpose(0,1)\n",
    "        V_output=V_output.transpose(0,1)\n",
    "        output=[]\n",
    "\n",
    "        for i in range(self.seq_num):\n",
    "            \n",
    "            Sum_a=torch.sum(alpha[:,i,:],-1)\n",
    "            div_sum_a=(1/Sum_a).repeat(self.d,self.seq_num,1).transpose(0,2)\n",
    "            \n",
    "            Sum_w=torch.sum(alpha[:,:,i].repeat((self.d,1,1)).transpose(0,2).transpose(0,1)*V_output*div_sum_a,1)\n",
    "            output.append(Sum_w)\n",
    "        return input+torch.stack(output).transpose(0,1)\n",
    "\n",
    "class QSANN_pennylane(torch.nn.Module):\n",
    "    def __init__(self,S,n,Denc,D,num_layers):\n",
    "        \"\"\"\n",
    "        # input: input data\n",
    "        # weight: trainable parameter\n",
    "        # n: # of of qubits\n",
    "        # d: embedding dimension which is equal to n(Denc+2)\n",
    "        # Denc: the # number of layers for encoding \n",
    "        # D: the # of layers of variational layers\n",
    "        # type \"K\": key, \"Q\": Query, \"V\": value\n",
    "        \"\"\"\n",
    "        super().__init__()\n",
    "        self.qsal_lst=[QSAL_pennylane(S,n,Denc,D) for _ in range(num_layers)]\n",
    "        self.qnn=nn.Sequential(*self.qsal_lst)\n",
    "\n",
    "    def forward(self,input):\n",
    "\n",
    "        return self.qnn(input)\n",
    "\n",
    "class QSANN_text_classifier(torch.nn.Module):\n",
    "    def __init__(self,S,n,Denc,D,num_layers):\n",
    "        \"\"\"\n",
    "        # input: input data\n",
    "        # weight: trainable parameter\n",
    "        # n: # of of qubits\n",
    "        # d: embedding dimension which is equal to n(Denc+2)\n",
    "        # Denc: the # number of layers for encoding \n",
    "        # D: the # of layers of variational layers\n",
    "        # type \"K\": key, \"Q\": Query, \"V\": value\n",
    "        \"\"\"\n",
    "        super().__init__()\n",
    "        self.Qnn=QSANN_pennylane(S,n,Denc,D,num_layers)\n",
    "        self.final_layer=nn.Linear(n*(Denc+2)*S, 1)\n",
    "        self.final_layer=self.final_layer.float()\n",
    "\n",
    "    def forward(self,input):\n",
    "\n",
    "        x=self.Qnn(input)\n",
    "        x=torch.flatten(x,start_dim=1)\n",
    "        \n",
    "        return torch.sigmoid(self.final_layer(x))"
   ]
  },
  {
   "cell_type": "code",
   "execution_count": 5,
   "id": "726740e5",
   "metadata": {},
   "outputs": [],
   "source": [
    "model=QSANN_text_classifier(4, 4, 2, 1, 1)\n",
    "\n",
    "# (4, 16)\n",
    "\n",
    "# seq * (num_qubits) * (num_layers + 2)"
   ]
  },
  {
   "cell_type": "code",
   "execution_count": 6,
   "id": "68c4324d",
   "metadata": {},
   "outputs": [
    {
     "data": {
      "text/plain": [
       "QSANN_text_classifier(\n",
       "  (Qnn): QSANN_pennylane(\n",
       "    (qnn): Sequential(\n",
       "      (0): QSAL_pennylane()\n",
       "    )\n",
       "  )\n",
       "  (final_layer): Linear(in_features=64, out_features=1, bias=True)\n",
       ")"
      ]
     },
     "execution_count": 6,
     "metadata": {},
     "output_type": "execute_result"
    }
   ],
   "source": [
    "model"
   ]
  },
  {
   "cell_type": "markdown",
   "id": "698f70fe",
   "metadata": {},
   "source": [
    "# Binary Classification with Sklearn Image Dataset"
   ]
  },
  {
   "cell_type": "markdown",
   "id": "dbb06e58",
   "metadata": {},
   "source": [
    "# Sklearn Image Dataset (Patches prepared Row-wise)"
   ]
  },
  {
   "cell_type": "code",
   "execution_count": 109,
   "id": "2e6cee96",
   "metadata": {},
   "outputs": [],
   "source": [
    "from sklearn.datasets import load_digits\n",
    "from sklearn.model_selection import train_test_split\n",
    "digits = load_digits()\n",
    "X, y = digits.images, digits.target\n",
    "X_train, X_test, y_train, y_test = train_test_split(X, y)\n",
    "\n",
    "train_mask = np.isin(y_train, [1, 7])\n",
    "X_train, y_train = X_train[train_mask], y_train[train_mask]\n",
    "\n",
    "test_mask = np.isin(y_test, [1, 7])\n",
    "X_test, y_test = X_test[test_mask], y_test[test_mask]\n",
    "\n",
    "X_train = X_train.reshape(X_train.shape[0], 4, 16)\n",
    "X_test = X_test.reshape(X_test.shape[0], 4, 16)"
   ]
  },
  {
   "cell_type": "code",
   "execution_count": 110,
   "id": "562755f2",
   "metadata": {},
   "outputs": [
    {
     "data": {
      "text/plain": [
       "(273, 4, 16)"
      ]
     },
     "execution_count": 110,
     "metadata": {},
     "output_type": "execute_result"
    }
   ],
   "source": [
    "X_train.shape"
   ]
  },
  {
   "cell_type": "code",
   "execution_count": 111,
   "id": "e32929df",
   "metadata": {},
   "outputs": [],
   "source": [
    "model=QSANN_text_classifier(4, 4, 2, 1, 1)\n",
    "\n",
    "# seq * (num_qubits) * (num_layers + 2)"
   ]
  },
  {
   "cell_type": "code",
   "execution_count": 112,
   "id": "e82c66af",
   "metadata": {},
   "outputs": [
    {
     "data": {
      "text/plain": [
       "QSANN_text_classifier(\n",
       "  (Qnn): QSANN_pennylane(\n",
       "    (qnn): Sequential(\n",
       "      (0): QSAL_pennylane()\n",
       "    )\n",
       "  )\n",
       "  (final_layer): Linear(in_features=64, out_features=1, bias=True)\n",
       ")"
      ]
     },
     "execution_count": 112,
     "metadata": {},
     "output_type": "execute_result"
    }
   ],
   "source": [
    "model"
   ]
  },
  {
   "cell_type": "code",
   "execution_count": 113,
   "id": "1e13fa23",
   "metadata": {},
   "outputs": [],
   "source": [
    "optimizer = torch.optim.Adam(lr=0.01, params=model.parameters())"
   ]
  },
  {
   "cell_type": "code",
   "execution_count": 114,
   "id": "26c6d9d6",
   "metadata": {},
   "outputs": [
    {
     "name": "stdout",
     "output_type": "stream",
     "text": [
      "209\n"
     ]
    }
   ],
   "source": [
    "trainable_params = sum(p.numel() for p in model.parameters() if p.requires_grad)\n",
    "print(trainable_params)"
   ]
  },
  {
   "cell_type": "code",
   "execution_count": 115,
   "id": "71676d02",
   "metadata": {},
   "outputs": [],
   "source": [
    "criterion = torch.nn.CrossEntropyLoss()"
   ]
  },
  {
   "cell_type": "code",
   "execution_count": 116,
   "id": "9199b2d6",
   "metadata": {},
   "outputs": [],
   "source": [
    "def binary_accuracy(preds, y):\n",
    "    \"\"\"\n",
    "    Returns accuracy per batch, i.e. if you get 8/10 right, this returns 0.8, NOT 8\n",
    "    \"\"\"\n",
    "\n",
    "    #round predictions to the closest integer\n",
    "    rounded_preds = (torch.round(torch.sign(preds-0.5))+1)//2\n",
    "    correct = (rounded_preds == y).float() #convert into float for division \n",
    "    acc = correct.sum() / len(correct)\n",
    "    return acc"
   ]
  },
  {
   "cell_type": "code",
   "execution_count": 117,
   "id": "fa514b41",
   "metadata": {
    "scrolled": true
   },
   "outputs": [
    {
     "name": "stderr",
     "output_type": "stream",
     "text": [
      "\r\n",
      "  0%|          | 0/30 [00:00<?, ?it/s]"
     ]
    },
    {
     "name": "stdout",
     "output_type": "stream",
     "text": [
      "\n",
      "Accuracy: tensor(0.4945)\n",
      "\n",
      "tensor(778.4664, grad_fn=<DivBackward1>)\n"
     ]
    },
    {
     "name": "stderr",
     "output_type": "stream",
     "text": [
      "\r\n",
      "  3%|▎         | 1/30 [01:28<42:55, 88.80s/it]"
     ]
    },
    {
     "name": "stdout",
     "output_type": "stream",
     "text": [
      "\n",
      "Accuracy: tensor(0.5971)\n",
      "\n",
      "tensor(763.2916, grad_fn=<DivBackward1>)\n"
     ]
    },
    {
     "name": "stderr",
     "output_type": "stream",
     "text": [
      "\r\n",
      "  7%|▋         | 2/30 [03:02<42:53, 91.92s/it]"
     ]
    },
    {
     "name": "stdout",
     "output_type": "stream",
     "text": [
      "\n",
      "Accuracy: tensor(0.6447)\n",
      "\n",
      "tensor(756.7378, grad_fn=<DivBackward1>)\n"
     ]
    },
    {
     "name": "stderr",
     "output_type": "stream",
     "text": [
      "\r\n",
      " 10%|█         | 3/30 [04:34<41:18, 91.81s/it]"
     ]
    },
    {
     "name": "stdout",
     "output_type": "stream",
     "text": [
      "\n",
      "Accuracy: tensor(0.6923)\n",
      "\n",
      "tensor(751.3929, grad_fn=<DivBackward1>)\n"
     ]
    },
    {
     "name": "stderr",
     "output_type": "stream",
     "text": [
      "\r\n",
      " 13%|█▎        | 4/30 [06:05<39:41, 91.58s/it]"
     ]
    },
    {
     "name": "stdout",
     "output_type": "stream",
     "text": [
      "\n",
      "Accuracy: tensor(0.7436)\n",
      "\n",
      "tensor(745.1588, grad_fn=<DivBackward1>)\n"
     ]
    },
    {
     "name": "stderr",
     "output_type": "stream",
     "text": [
      "\r\n",
      " 17%|█▋        | 5/30 [07:38<38:18, 91.95s/it]"
     ]
    },
    {
     "name": "stdout",
     "output_type": "stream",
     "text": [
      "\n",
      "Accuracy: tensor(0.8242)\n",
      "\n",
      "tensor(738.8176, grad_fn=<DivBackward1>)\n"
     ]
    },
    {
     "name": "stderr",
     "output_type": "stream",
     "text": [
      "\r\n",
      " 20%|██        | 6/30 [09:10<36:46, 91.94s/it]"
     ]
    },
    {
     "name": "stdout",
     "output_type": "stream",
     "text": [
      "\n",
      "Accuracy: tensor(0.8571)\n",
      "\n",
      "tensor(735.7882, grad_fn=<DivBackward1>)\n"
     ]
    },
    {
     "name": "stderr",
     "output_type": "stream",
     "text": [
      "\r\n",
      " 23%|██▎       | 7/30 [10:41<35:12, 91.84s/it]"
     ]
    },
    {
     "name": "stdout",
     "output_type": "stream",
     "text": [
      "\n",
      "Accuracy: tensor(0.8718)\n",
      "\n",
      "tensor(734.6052, grad_fn=<DivBackward1>)\n"
     ]
    },
    {
     "name": "stderr",
     "output_type": "stream",
     "text": [
      "\r\n",
      " 27%|██▋       | 8/30 [12:14<33:42, 91.94s/it]"
     ]
    },
    {
     "name": "stdout",
     "output_type": "stream",
     "text": [
      "\n",
      "Accuracy: tensor(0.8718)\n",
      "\n",
      "tensor(732.9946, grad_fn=<DivBackward1>)\n"
     ]
    },
    {
     "name": "stderr",
     "output_type": "stream",
     "text": [
      "\r\n",
      " 30%|███       | 9/30 [13:47<32:19, 92.34s/it]"
     ]
    },
    {
     "name": "stdout",
     "output_type": "stream",
     "text": [
      "\n",
      "Accuracy: tensor(0.8938)\n",
      "\n",
      "tensor(730.7499, grad_fn=<DivBackward1>)\n"
     ]
    },
    {
     "name": "stderr",
     "output_type": "stream",
     "text": [
      "\r\n",
      " 33%|███▎      | 10/30 [15:19<30:48, 92.42s/it]"
     ]
    },
    {
     "name": "stdout",
     "output_type": "stream",
     "text": [
      "\n",
      "Accuracy: tensor(0.9121)\n",
      "\n",
      "tensor(728.5879, grad_fn=<DivBackward1>)\n"
     ]
    },
    {
     "name": "stderr",
     "output_type": "stream",
     "text": [
      "\r\n",
      " 37%|███▋      | 11/30 [16:52<29:14, 92.32s/it]"
     ]
    },
    {
     "name": "stdout",
     "output_type": "stream",
     "text": [
      "\n",
      "Accuracy: tensor(0.9231)\n",
      "\n",
      "tensor(726.6227, grad_fn=<DivBackward1>)\n"
     ]
    },
    {
     "name": "stderr",
     "output_type": "stream",
     "text": [
      "\r\n",
      " 40%|████      | 12/30 [18:25<27:45, 92.53s/it]"
     ]
    },
    {
     "name": "stdout",
     "output_type": "stream",
     "text": [
      "\n",
      "Accuracy: tensor(0.9267)\n",
      "\n",
      "tensor(725.1233, grad_fn=<DivBackward1>)\n"
     ]
    },
    {
     "name": "stderr",
     "output_type": "stream",
     "text": [
      "\r\n",
      " 43%|████▎     | 13/30 [19:57<26:10, 92.40s/it]"
     ]
    },
    {
     "name": "stdout",
     "output_type": "stream",
     "text": [
      "\n",
      "Accuracy: tensor(0.9414)\n",
      "\n",
      "tensor(723.7494, grad_fn=<DivBackward1>)\n"
     ]
    },
    {
     "name": "stderr",
     "output_type": "stream",
     "text": [
      "\r\n",
      " 47%|████▋     | 14/30 [21:29<24:38, 92.40s/it]"
     ]
    },
    {
     "name": "stdout",
     "output_type": "stream",
     "text": [
      "\n",
      "Accuracy: tensor(0.9560)\n",
      "\n",
      "tensor(722.3354, grad_fn=<DivBackward1>)\n"
     ]
    },
    {
     "name": "stderr",
     "output_type": "stream",
     "text": [
      "\r\n",
      " 50%|█████     | 15/30 [23:01<23:05, 92.34s/it]"
     ]
    },
    {
     "name": "stdout",
     "output_type": "stream",
     "text": [
      "\n",
      "Accuracy: tensor(0.9670)\n",
      "\n",
      "tensor(721.1648, grad_fn=<DivBackward1>)\n"
     ]
    },
    {
     "name": "stderr",
     "output_type": "stream",
     "text": [
      "\r\n",
      " 53%|█████▎    | 16/30 [24:35<21:39, 92.79s/it]"
     ]
    },
    {
     "name": "stdout",
     "output_type": "stream",
     "text": [
      "\n",
      "Accuracy: tensor(0.9780)\n",
      "\n",
      "tensor(719.8289, grad_fn=<DivBackward1>)\n"
     ]
    },
    {
     "name": "stderr",
     "output_type": "stream",
     "text": [
      "\r\n",
      " 57%|█████▋    | 17/30 [26:07<20:04, 92.66s/it]"
     ]
    },
    {
     "name": "stdout",
     "output_type": "stream",
     "text": [
      "\n",
      "Accuracy: tensor(0.9817)\n",
      "\n",
      "tensor(719.0279, grad_fn=<DivBackward1>)\n"
     ]
    },
    {
     "name": "stderr",
     "output_type": "stream",
     "text": [
      "\r\n",
      " 60%|██████    | 18/30 [27:41<18:36, 93.05s/it]"
     ]
    },
    {
     "name": "stdout",
     "output_type": "stream",
     "text": [
      "\n",
      "Accuracy: tensor(0.9963)\n",
      "\n",
      "tensor(718.3773, grad_fn=<DivBackward1>)\n"
     ]
    },
    {
     "name": "stderr",
     "output_type": "stream",
     "text": [
      "\r\n",
      " 63%|██████▎   | 19/30 [29:17<17:11, 93.78s/it]"
     ]
    },
    {
     "name": "stdout",
     "output_type": "stream",
     "text": [
      "\n",
      "Accuracy: tensor(0.9927)\n",
      "\n",
      "tensor(718.1243, grad_fn=<DivBackward1>)\n"
     ]
    },
    {
     "name": "stderr",
     "output_type": "stream",
     "text": [
      "\r\n",
      " 67%|██████▋   | 20/30 [30:51<15:39, 93.92s/it]"
     ]
    },
    {
     "name": "stdout",
     "output_type": "stream",
     "text": [
      "\n",
      "Accuracy: tensor(0.9927)\n",
      "\n",
      "tensor(717.8967, grad_fn=<DivBackward1>)\n"
     ]
    },
    {
     "name": "stderr",
     "output_type": "stream",
     "text": [
      "\r\n",
      " 70%|███████   | 21/30 [32:25<14:06, 94.03s/it]"
     ]
    },
    {
     "name": "stdout",
     "output_type": "stream",
     "text": [
      "\n",
      "Accuracy: tensor(0.9927)\n",
      "\n",
      "tensor(717.8036, grad_fn=<DivBackward1>)\n"
     ]
    },
    {
     "name": "stderr",
     "output_type": "stream",
     "text": [
      "\r\n",
      " 73%|███████▎  | 22/30 [34:01<12:35, 94.43s/it]"
     ]
    },
    {
     "name": "stdout",
     "output_type": "stream",
     "text": [
      "\n",
      "Accuracy: tensor(0.9927)\n",
      "\n",
      "tensor(717.6062, grad_fn=<DivBackward1>)\n"
     ]
    },
    {
     "name": "stderr",
     "output_type": "stream",
     "text": [
      "\r\n",
      " 77%|███████▋  | 23/30 [35:37<11:04, 94.96s/it]"
     ]
    },
    {
     "name": "stdout",
     "output_type": "stream",
     "text": [
      "\n",
      "Accuracy: tensor(0.9927)\n",
      "\n",
      "tensor(717.5109, grad_fn=<DivBackward1>)\n"
     ]
    },
    {
     "name": "stderr",
     "output_type": "stream",
     "text": [
      "\r\n",
      " 80%|████████  | 24/30 [37:12<09:30, 95.12s/it]"
     ]
    },
    {
     "name": "stdout",
     "output_type": "stream",
     "text": [
      "\n",
      "Accuracy: tensor(1.)\n",
      "\n",
      "tensor(717.4036, grad_fn=<DivBackward1>)\n"
     ]
    },
    {
     "name": "stderr",
     "output_type": "stream",
     "text": [
      "\r\n",
      " 83%|████████▎ | 25/30 [38:48<07:56, 95.27s/it]"
     ]
    },
    {
     "name": "stdout",
     "output_type": "stream",
     "text": [
      "\n",
      "Accuracy: tensor(1.)\n",
      "\n",
      "tensor(717.3091, grad_fn=<DivBackward1>)\n"
     ]
    },
    {
     "name": "stderr",
     "output_type": "stream",
     "text": [
      "\r\n",
      " 87%|████████▋ | 26/30 [40:22<06:19, 94.94s/it]"
     ]
    },
    {
     "name": "stdout",
     "output_type": "stream",
     "text": [
      "\n",
      "Accuracy: tensor(1.)\n",
      "\n",
      "tensor(717.2590, grad_fn=<DivBackward1>)\n"
     ]
    },
    {
     "name": "stderr",
     "output_type": "stream",
     "text": [
      "\r\n",
      " 90%|█████████ | 27/30 [41:57<04:44, 94.79s/it]"
     ]
    },
    {
     "name": "stdout",
     "output_type": "stream",
     "text": [
      "\n",
      "Accuracy: tensor(1.)\n",
      "\n",
      "tensor(717.2249, grad_fn=<DivBackward1>)\n"
     ]
    },
    {
     "name": "stderr",
     "output_type": "stream",
     "text": [
      "\r\n",
      " 93%|█████████▎| 28/30 [43:32<03:09, 94.88s/it]"
     ]
    },
    {
     "name": "stdout",
     "output_type": "stream",
     "text": [
      "\n",
      "Accuracy: tensor(1.)\n",
      "\n",
      "tensor(717.2009, grad_fn=<DivBackward1>)\n"
     ]
    },
    {
     "name": "stderr",
     "output_type": "stream",
     "text": [
      "\r\n",
      " 97%|█████████▋| 29/30 [45:03<01:33, 93.68s/it]"
     ]
    },
    {
     "name": "stdout",
     "output_type": "stream",
     "text": [
      "\n",
      "Accuracy: tensor(1.)\n",
      "\n",
      "tensor(717.1962, grad_fn=<DivBackward1>)\n"
     ]
    },
    {
     "name": "stderr",
     "output_type": "stream",
     "text": [
      "100%|██████████| 30/30 [46:40<00:00, 93.35s/it]\n"
     ]
    }
   ],
   "source": [
    "for iepoch in tqdm(range(30)):\n",
    "    optimizer.zero_grad()\n",
    "    X_tensor=torch.tensor(X_train)\n",
    "    predictions=model(X_tensor.float()).squeeze(1)\n",
    "    #predictions=torch.sign(predictions)\n",
    "    #print(predictions)\n",
    "    label=torch.tensor(y_train)\n",
    "    for i in range(len(label)):\n",
    "        if label[i]==1:\n",
    "            label[i] = 0\n",
    "        else:\n",
    "            label[i]=1\n",
    "    #print(label)\n",
    "    loss = criterion(predictions, label.float())\n",
    "    acc = binary_accuracy(predictions, label)\n",
    "    print('')\n",
    "    print('Accuracy:',acc)\n",
    "    print('')\n",
    "    print(loss)\n",
    "    loss.backward()\n",
    "    optimizer.step()"
   ]
  },
  {
   "cell_type": "code",
   "execution_count": 118,
   "id": "3f560389",
   "metadata": {},
   "outputs": [
    {
     "name": "stdout",
     "output_type": "stream",
     "text": [
      "\n",
      "Accuracy: tensor(0.9886)\n",
      "\n",
      "tensor(171.4812, grad_fn=<DivBackward1>)\n"
     ]
    }
   ],
   "source": [
    "X_tensor=torch.tensor(X_test)\n",
    "predictions=model(X_tensor.float()).squeeze(1)\n",
    "label=torch.tensor(y_test)\n",
    "for i in range(len(label)):\n",
    "        if label[i]==1:\n",
    "            label[i] = 0\n",
    "        else:\n",
    "            label[i]=1\n",
    "loss = criterion(predictions, label.float())\n",
    "acc = binary_accuracy(predictions, label.float())\n",
    "print('')\n",
    "print('Accuracy:',acc)\n",
    "print('')\n",
    "print(loss)"
   ]
  },
  {
   "cell_type": "markdown",
   "id": "e92f2c37",
   "metadata": {},
   "source": [
    "# Sklearn Image Dataset (Patches Prepared Column-wise)"
   ]
  },
  {
   "cell_type": "code",
   "execution_count": 83,
   "id": "b214dd1c",
   "metadata": {},
   "outputs": [],
   "source": [
    "from sklearn.datasets import load_digits\n",
    "from sklearn.model_selection import train_test_split\n",
    "digits = load_digits()\n",
    "X, y = digits.images[0:500], digits.target[0:500]\n",
    "X_train, X_test, y_train, y_test = train_test_split(X, y)\n",
    "\n",
    "train_mask = np.isin(y_train, [1, 7])\n",
    "X_train, y_train = X_train[train_mask], y_train[train_mask]\n",
    "\n",
    "test_mask = np.isin(y_test, [1, 7])\n",
    "X_test, y_test = X_test[test_mask], y_test[test_mask]\n",
    "\n",
    "#X_train = X_train.reshape(X_train.shape[0], 4, 16)\n",
    "#X_test = X_test.reshape(X_test.shape[0], 4, 16)\n",
    "X_train_c = X_train.transpose(0, 2, 1)\n",
    "X_test_c = X_test.transpose(0, 2, 1)\n",
    "\n",
    "X_train_c = X_train_c.reshape(X_train.shape[0], 4, 16)\n",
    "X_test_c = X_test_c.reshape(X_test.shape[0], 4, 16)"
   ]
  },
  {
   "cell_type": "code",
   "execution_count": 79,
   "id": "1fbb13d4",
   "metadata": {},
   "outputs": [],
   "source": [
    "model=QSANN_text_classifier(4,4,2,1,1)\n",
    "optimizer = torch.optim.Adam(lr=0.01, params=model.parameters())\n",
    "criterion = torch.nn.CrossEntropyLoss()"
   ]
  },
  {
   "cell_type": "code",
   "execution_count": 81,
   "id": "1e34fb71",
   "metadata": {},
   "outputs": [
    {
     "name": "stderr",
     "output_type": "stream",
     "text": [
      "\r\n",
      "  0%|          | 0/10 [00:00<?, ?it/s]"
     ]
    },
    {
     "name": "stdout",
     "output_type": "stream",
     "text": [
      "\n",
      "Accuracy: tensor(0.9481)\n",
      "\n",
      "tensor(146.3840, grad_fn=<DivBackward1>)\n"
     ]
    },
    {
     "name": "stderr",
     "output_type": "stream",
     "text": [
      "\r\n",
      " 10%|█         | 1/10 [00:24<03:43, 24.87s/it]"
     ]
    },
    {
     "name": "stdout",
     "output_type": "stream",
     "text": [
      "\n",
      "Accuracy: tensor(0.9481)\n",
      "\n",
      "tensor(145.6917, grad_fn=<DivBackward1>)\n"
     ]
    },
    {
     "name": "stderr",
     "output_type": "stream",
     "text": [
      "\r\n",
      " 20%|██        | 2/10 [00:50<03:21, 25.24s/it]"
     ]
    },
    {
     "name": "stdout",
     "output_type": "stream",
     "text": [
      "\n",
      "Accuracy: tensor(0.9740)\n",
      "\n",
      "tensor(143.9053, grad_fn=<DivBackward1>)\n"
     ]
    },
    {
     "name": "stderr",
     "output_type": "stream",
     "text": [
      "\r\n",
      " 30%|███       | 3/10 [01:15<02:56, 25.27s/it]"
     ]
    },
    {
     "name": "stdout",
     "output_type": "stream",
     "text": [
      "\n",
      "Accuracy: tensor(1.)\n",
      "\n",
      "tensor(142.9731, grad_fn=<DivBackward1>)\n"
     ]
    },
    {
     "name": "stderr",
     "output_type": "stream",
     "text": [
      "\r\n",
      " 40%|████      | 4/10 [01:41<02:32, 25.37s/it]"
     ]
    },
    {
     "name": "stdout",
     "output_type": "stream",
     "text": [
      "\n",
      "Accuracy: tensor(0.9740)\n",
      "\n",
      "tensor(142.8075, grad_fn=<DivBackward1>)\n"
     ]
    },
    {
     "name": "stderr",
     "output_type": "stream",
     "text": [
      "\r\n",
      " 50%|█████     | 5/10 [02:06<02:07, 25.52s/it]"
     ]
    },
    {
     "name": "stdout",
     "output_type": "stream",
     "text": [
      "\n",
      "Accuracy: tensor(0.9740)\n",
      "\n",
      "tensor(142.7293, grad_fn=<DivBackward1>)\n"
     ]
    },
    {
     "name": "stderr",
     "output_type": "stream",
     "text": [
      "\r\n",
      " 60%|██████    | 6/10 [02:33<01:42, 25.74s/it]"
     ]
    },
    {
     "name": "stdout",
     "output_type": "stream",
     "text": [
      "\n",
      "Accuracy: tensor(0.9870)\n",
      "\n",
      "tensor(142.6147, grad_fn=<DivBackward1>)\n"
     ]
    },
    {
     "name": "stderr",
     "output_type": "stream",
     "text": [
      "\r\n",
      " 70%|███████   | 7/10 [02:59<01:17, 25.88s/it]"
     ]
    },
    {
     "name": "stdout",
     "output_type": "stream",
     "text": [
      "\n",
      "Accuracy: tensor(0.9870)\n",
      "\n",
      "tensor(142.3875, grad_fn=<DivBackward1>)\n"
     ]
    },
    {
     "name": "stderr",
     "output_type": "stream",
     "text": [
      "\r\n",
      " 80%|████████  | 8/10 [03:28<00:53, 26.82s/it]"
     ]
    },
    {
     "name": "stdout",
     "output_type": "stream",
     "text": [
      "\n",
      "Accuracy: tensor(0.9870)\n",
      "\n",
      "tensor(142.2015, grad_fn=<DivBackward1>)\n"
     ]
    },
    {
     "name": "stderr",
     "output_type": "stream",
     "text": [
      "\r\n",
      " 90%|█████████ | 9/10 [03:53<00:26, 26.36s/it]"
     ]
    },
    {
     "name": "stdout",
     "output_type": "stream",
     "text": [
      "\n",
      "Accuracy: tensor(1.)\n",
      "\n",
      "tensor(142.0063, grad_fn=<DivBackward1>)\n"
     ]
    },
    {
     "name": "stderr",
     "output_type": "stream",
     "text": [
      "100%|██████████| 10/10 [04:19<00:00, 25.91s/it]\n"
     ]
    }
   ],
   "source": [
    "for iepoch in tqdm(range(10)):\n",
    "    optimizer.zero_grad()\n",
    "    X_tensor=torch.tensor(X_train_c)\n",
    "    predictions=model(X_tensor.float()).squeeze(1)\n",
    "    #predictions=torch.sign(predictions)\n",
    "    #print(predictions)\n",
    "    label=torch.tensor(y_train)\n",
    "    for i in range(len(label)):\n",
    "        if label[i]==1:\n",
    "            label[i] = 0\n",
    "        else:\n",
    "            label[i]=1\n",
    "    #print(label)\n",
    "    loss = criterion(predictions, label.float())\n",
    "    acc = binary_accuracy(predictions, label)\n",
    "    print('')\n",
    "    print('Accuracy:',acc)\n",
    "    print('')\n",
    "    print(loss)\n",
    "    loss.backward()\n",
    "    optimizer.step()"
   ]
  },
  {
   "cell_type": "code",
   "execution_count": 84,
   "id": "bbf51bbd",
   "metadata": {},
   "outputs": [
    {
     "name": "stdout",
     "output_type": "stream",
     "text": [
      "tensor([5.2172e-03, 9.9299e-01, 9.9714e-01, 2.4885e-02, 3.4008e-03, 1.7592e-03,\n",
      "        9.9949e-01, 3.8367e-03, 9.9953e-01, 9.9986e-01, 3.1252e-03, 8.2579e-02,\n",
      "        9.9762e-01, 9.9997e-01, 3.1298e-03, 7.1565e-03, 9.9605e-01, 9.9876e-01,\n",
      "        9.9963e-01, 1.4773e-03, 9.2540e-04], grad_fn=<SqueezeBackward1>)\n",
      "tensor([0, 1, 1, 0, 0, 0, 1, 0, 1, 1, 0, 0, 1, 1, 0, 0, 1, 1, 1, 0, 0])\n",
      "\n",
      "Accuracy: tensor(1.)\n",
      "\n",
      "tensor(26.4663, grad_fn=<DivBackward1>)\n"
     ]
    }
   ],
   "source": [
    "X_tensor=torch.tensor(X_test_c)\n",
    "predictions=model(X_tensor.float()).squeeze(1)\n",
    "print(predictions)\n",
    "label=torch.tensor(y_test)\n",
    "for i in range(len(label)):\n",
    "        if label[i]==1:\n",
    "            label[i] = 0\n",
    "        else:\n",
    "            label[i]=1\n",
    "print(label)\n",
    "loss = criterion(predictions, label.float())\n",
    "acc = binary_accuracy(predictions, label.float())\n",
    "print('')\n",
    "print('Accuracy:',acc)\n",
    "print('')\n",
    "print(loss)"
   ]
  }
 ],
 "metadata": {
  "kernelspec": {
   "display_name": "Python 3.9.16 ('MachineLearning')",
   "language": "python",
   "name": "python3"
  },
  "language_info": {
   "codemirror_mode": {
    "name": "ipython",
    "version": 3
   },
   "file_extension": ".py",
   "mimetype": "text/x-python",
   "name": "python",
   "nbconvert_exporter": "python",
   "pygments_lexer": "ipython3",
   "version": "3.9.16"
  },
  "vscode": {
   "interpreter": {
    "hash": "49c937739a3abfaba9a6138065d712d63763bff9d60ff858034e62d83b3910d5"
   }
  }
 },
 "nbformat": 4,
 "nbformat_minor": 5
}
