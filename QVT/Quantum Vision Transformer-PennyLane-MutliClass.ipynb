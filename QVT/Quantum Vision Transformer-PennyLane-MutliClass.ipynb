{
 "cells": [
  {
   "cell_type": "code",
   "execution_count": 1,
   "id": "e04e26f5",
   "metadata": {},
   "outputs": [],
   "source": [
    "import pennylane as qml\n",
    "import torch\n",
    "import numpy as np\n",
    "import random\n",
    "import torch.nn as nn\n",
    "from tqdm import tqdm"
   ]
  },
  {
   "cell_type": "code",
   "execution_count": 2,
   "id": "09380598",
   "metadata": {},
   "outputs": [],
   "source": [
    "import functools\n",
    "import inspect\n",
    "import math\n",
    "from collections.abc import Iterable\n",
    "from typing import Callable, Dict, Union, Any\n",
    "\n",
    "from pennylane.qnode import QNode\n",
    "\n",
    "try:\n",
    "    import torch\n",
    "    from torch.nn import Module\n",
    "\n",
    "    TORCH_IMPORTED = True\n",
    "except ImportError:\n",
    "    # The following allows this module to be imported even if PyTorch is not installed. Users\n",
    "    # will instead see an ImportError when instantiating the TorchLayer.\n",
    "    from unittest.mock import Mock\n",
    "\n",
    "    Module = Mock\n",
    "    TORCH_IMPORTED = False\n",
    "\n",
    "\n",
    "class TorchLayer(Module):\n",
    "    def __init__(self,qnode,weights):\n",
    "        if not TORCH_IMPORTED:\n",
    "            raise ImportError(\n",
    "                \"TorchLayer requires PyTorch. PyTorch can be installed using:\\n\"\n",
    "                \"pip install torch\\nAlternatively, \"\n",
    "                \"visit https://pytorch.org/get-started/locally/ for detailed \"\n",
    "                \"instructions.\"\n",
    "            )\n",
    "        super().__init__()\n",
    "\n",
    "        #weight_shapes = {\n",
    "        #    weight: (tuple(size) if isinstance(size, Iterable) else () if size == 1 else (size,))\n",
    "        #    for weight, size in weight_shapes.items()\n",
    "        #}\n",
    "\n",
    "        # validate the QNode signature, and convert to a Torch QNode.\n",
    "        # TODO: update the docstring regarding changes to restrictions when tape mode is default.\n",
    "        #self._signature_validation(qnode, weight_shapes)\n",
    "        self.qnode = qnode\n",
    "        self.qnode.interface = \"torch\"\n",
    "\n",
    "        self.qnode_weights = weights\n",
    "\n",
    "    def forward(self, inputs):  # pylint: disable=arguments-differ\n",
    "        \"\"\"Evaluates a forward pass through the QNode based upon input data and the initialized\n",
    "        weights.\n",
    "\n",
    "        Args:\n",
    "            inputs (tensor): data to be processed\n",
    "\n",
    "        Returns:\n",
    "            tensor: output data\n",
    "        \"\"\"\n",
    "\n",
    "        if len(inputs.shape) > 1:\n",
    "            # If the input size is not 1-dimensional, unstack the input along its first dimension,\n",
    "            # recursively call the forward pass on each of the yielded tensors, and then stack the\n",
    "            # outputs back into the correct shape\n",
    "            reconstructor = [self.forward(x) for x in torch.unbind(inputs)]\n",
    "            return torch.stack(reconstructor)\n",
    "\n",
    "        # If the input is 1-dimensional, calculate the forward pass as usual\n",
    "        return self._evaluate_qnode(inputs)\n",
    "\n",
    "\n",
    "    def _evaluate_qnode(self, x):\n",
    "        \"\"\"Evaluates the QNode for a single input datapoint.\n",
    "\n",
    "        Args:\n",
    "            x (tensor): the datapoint\n",
    "\n",
    "        Returns:\n",
    "            tensor: output datapoint\n",
    "        \"\"\"\n",
    "        kwargs = {\n",
    "            **{self.input_arg: x},\n",
    "            **{arg: weight.to(x) for arg, weight in self.qnode_weights.items()},\n",
    "        }\n",
    "        res = self.qnode(**kwargs)\n",
    "\n",
    "        if isinstance(res, torch.Tensor):\n",
    "            return res.type(x.dtype)\n",
    "\n",
    "        return torch.hstack(res).type(x.dtype)\n",
    "\n",
    "    def __str__(self):\n",
    "        detail = \"<Quantum Torch Layer: func={}>\"\n",
    "        return detail.format(self.qnode.func.__name__)\n",
    "\n",
    "    __repr__ = __str__\n",
    "    _input_arg = \"inputs\"\n",
    "\n",
    "    @property\n",
    "    def input_arg(self):\n",
    "        \"\"\"Name of the argument to be used as the input to the Torch layer. Set to ``\"inputs\"``.\"\"\"\n",
    "        return self._input_arg"
   ]
  },
  {
   "cell_type": "code",
   "execution_count": 188,
   "id": "6860940b",
   "metadata": {},
   "outputs": [],
   "source": [
    "class QSAL_pennylane(torch.nn.Module):\n",
    "    def __init__(self,S,n,Denc,D):\n",
    "        super().__init__()\n",
    "        self.seq_num=S\n",
    "        self.init_params_Q=torch.nn.Parameter(torch.stack([(np.pi/4) * (2 * torch.randn(n*(D+2)) - 1) for _ in range(self.seq_num)]))\n",
    "        self.init_params_K=torch.nn.Parameter(torch.stack([(np.pi/4) * (2 * torch.randn(n*(D+2)) - 1) for _ in range(self.seq_num)]))\n",
    "        self.init_params_V=torch.nn.Parameter(torch.stack([(np.pi/4) * (2 * torch.randn(n*(D+2)) - 1) for _ in range(self.seq_num)]))\n",
    "        self.num_q=n\n",
    "        self.Denc=Denc\n",
    "        self.D=D\n",
    "        self.d=n*(Denc+2)\n",
    "        self.dev = qml.device(\"default.qubit\", wires=self.num_q)\n",
    "        \n",
    "        self.vqnod=qml.QNode(self.circuit_v, self.dev, interface=\"torch\")\n",
    "        self.qnod=qml.QNode(self.circuit_qk, self.dev, interface=\"torch\")\n",
    "        self.weight_v = [{\"weights\": self.init_params_V[i]} for i in range(self.seq_num)]\n",
    "        self.weight_q = [{\"weights\": self.init_params_Q[i]} for i in range(self.seq_num)]\n",
    "        self.weight_k = [{\"weights\": self.init_params_K[i]} for i in range(self.seq_num)]\n",
    "        #self.v_linear ={} #[qml.qnn.TorchLayer(self.vqnod[i], self.weight_shapes) for i in range(self.seq_num)]\n",
    "        #for i in range(self.seq_num):\n",
    "        self.v_linear = [TorchLayer(self.vqnod, self.weight_v[i]) for i in range(self.seq_num)]\n",
    "        self.q_linear = [TorchLayer(self.qnod, self.weight_q[i]) for i in range(self.seq_num)]\n",
    "        self.k_linear = [TorchLayer(self.qnod, self.weight_k[i]) for i in range(self.seq_num)]\n",
    "        #self.qqnod=[qml.QNode(self.circuit_qk, self.dev, interface=\"torch\") for i in range(self.seq_num)]\n",
    "\n",
    "    def random_op(self):\n",
    "        a=random.randint(0, 4)\n",
    "        if a==0:\n",
    "            op=qml.Identity(0)\n",
    "        elif a==1:\n",
    "            op=qml.PauliX(0)\n",
    "        elif a==2:\n",
    "            op=qml.PauliY(0)\n",
    "        else:\n",
    "            op=qml.PauliZ(0)\n",
    "\n",
    "        op_elimated=qml.Identity(0)\n",
    "        for i in range(1,self.num_q):\n",
    "            op_elimated=op_elimated@qml.Identity(i)\n",
    "        Select_wrong=True\n",
    "        while Select_wrong:\n",
    "            for i in range(1,self.num_q):\n",
    "                a=random.randint(0, 4)\n",
    "                if a==0:\n",
    "                    op=op@qml.Identity(i)\n",
    "                elif a==1:\n",
    "                    op=op@qml.PauliX(i)\n",
    "                elif a==2:\n",
    "                    op=op@qml.PauliY(i)\n",
    "                else:\n",
    "                    op=op@qml.PauliZ(i)\n",
    "            if op!=op_elimated:\n",
    "                Select_wrong=False\n",
    "        return op\n",
    "\n",
    "    def circuit_v(self,inputs,weights):\n",
    "            op=self.random_op()\n",
    "            # feature_map\n",
    "            indx=0\n",
    "            for j in range(self.num_q):\n",
    "                qml.RX(inputs[indx],j)\n",
    "                qml.RY(inputs[indx+1],j)\n",
    "                indx+=2\n",
    "            for i in range(self.Denc):\n",
    "                for j in range(self.num_q):\n",
    "                    qml.CNOT(wires=(j,(j+1)%self.num_q))\n",
    "\n",
    "                for j in range(self.num_q):\n",
    "                    qml.RY(inputs[indx],j)\n",
    "                    indx+=1\n",
    "            # Ansatz\n",
    "            indx=0\n",
    "            for j in range(self.num_q):\n",
    "                qml.RX(weights[indx],j)\n",
    "                qml.RY(weights[indx+1],j)\n",
    "                indx+=2\n",
    "            for i in range(self.D):\n",
    "                for j in range(self.num_q):\n",
    "                    qml.CNOT(wires=(j,(j+1)%self.num_q))\n",
    "                    \n",
    "                for j in range(self.num_q):\n",
    "                    #qc.rx(params[indx],j)\n",
    "                    qml.RY(weights[indx],j)\n",
    "                    indx+=1\n",
    "            return [qml.expval(op) for i in range(self.d)] \n",
    "\n",
    "    def circuit_qk(self,inputs,weights):\n",
    "        op=self.random_op()\n",
    "        # feature_map\n",
    "        indx=0\n",
    "        for j in range(self.num_q):\n",
    "            qml.RX(inputs[indx],j)\n",
    "            qml.RY(inputs[indx+1],j)\n",
    "            indx+=2\n",
    "        for i in range(self.Denc):\n",
    "            for j in range(self.num_q):\n",
    "                qml.CNOT(wires=(j,(j+1)%self.num_q))\n",
    "\n",
    "            for j in range(self.num_q):\n",
    "                qml.RY(inputs[indx],j)\n",
    "                indx+=1\n",
    "        # Ansatz\n",
    "        indx=0\n",
    "        for j in range(self.num_q):\n",
    "            qml.RX(weights[indx],j)\n",
    "            qml.RY(weights[indx+1],j)\n",
    "            indx+=2\n",
    "        for i in range(self.D):\n",
    "            for j in range(self.num_q):\n",
    "                qml.CNOT(wires=(j,(j+1)%self.num_q))\n",
    "                \n",
    "            for j in range(self.num_q):\n",
    "                #qc.rx(params[indx],j)\n",
    "                qml.RY(weights[indx],j)\n",
    "                indx+=1\n",
    "        return [qml.expval(qml.PauliZ(0))]\n",
    "\n",
    "    def forward(self,input):\n",
    "\n",
    "        Q_output=torch.stack([self.q_linear[i](input[:,i]) for i in range(self.seq_num)])\n",
    "        K_output=torch.stack([self.k_linear[i](input[:,i]) for i in range(self.seq_num)])\n",
    "        V_output=torch.stack([self.v_linear[i](input[:,i]) for i in range(self.seq_num)])\n",
    "        \n",
    "        batch_size=len(input)\n",
    "        Q_output=Q_output.transpose(0,2).repeat((self.seq_num,1,1))\n",
    "        K_output=K_output.transpose(0,2).repeat((self.seq_num,1,1)).transpose(0,2)\n",
    "        #print(V_output.size())\n",
    "        #Q_grid, K_grid=torch.meshgrid(Q_output, K_output, indexing='ij')\n",
    "        alpha=torch.exp(-(Q_output-K_output)**2)\n",
    "        alpha=alpha.transpose(0,1)\n",
    "        V_output=V_output.transpose(0,1)\n",
    "        output=[]\n",
    "\n",
    "        for i in range(self.seq_num):\n",
    "            \n",
    "            Sum_a=torch.sum(alpha[:,i,:],-1)\n",
    "            div_sum_a=(1/Sum_a).repeat(self.d,self.seq_num,1).transpose(0,2)\n",
    "            \n",
    "            Sum_w=torch.sum(alpha[:,:,i].repeat((self.d,1,1)).transpose(0,2).transpose(0,1)*V_output*div_sum_a,1)\n",
    "            output.append(Sum_w)\n",
    "        return input+torch.stack(output).transpose(0,1)\n",
    "\n",
    "class QSANN_pennylane(torch.nn.Module):\n",
    "    def __init__(self,S,n,Denc,D,num_layers):\n",
    "        \"\"\"\n",
    "        # input: input data\n",
    "        # weight: trainable parameter\n",
    "        # n: # of of qubits\n",
    "        # d: embedding dimension which is equal to n(Denc+2)\n",
    "        # Denc: the # number of layers for encoding \n",
    "        # D: the # of layers of variational layers\n",
    "        # type \"K\": key, \"Q\": Query, \"V\": value\n",
    "        \"\"\"\n",
    "        super().__init__()\n",
    "        self.qsal_lst=[QSAL_pennylane(S,n,Denc,D) for _ in range(num_layers)]\n",
    "        self.qnn=nn.Sequential(*self.qsal_lst)\n",
    "\n",
    "    def forward(self,input):\n",
    "\n",
    "        return self.qnn(input)\n",
    "\n",
    "class QSANN_text_classifier(torch.nn.Module):\n",
    "    def __init__(self,S,n,Denc,D,num_layers):\n",
    "        \"\"\"\n",
    "        # input: input data\n",
    "        # weight: trainable parameter\n",
    "        # n: # of of qubits\n",
    "        # d: embedding dimension which is equal to n(Denc+2)\n",
    "        # Denc: the # number of layers for encoding \n",
    "        # D: the # of layers of variational layers\n",
    "        # type \"K\": key, \"Q\": Query, \"V\": value\n",
    "        \"\"\"\n",
    "        super().__init__()\n",
    "        self.Qnn=QSANN_pennylane(S,n,Denc,D,num_layers)\n",
    "        self.final_layer=nn.Linear(n*(Denc+2)*S, 10)\n",
    "        self.final_layer=self.final_layer.float()\n",
    "\n",
    "    def forward(self,input):\n",
    "\n",
    "        x=self.Qnn(input)\n",
    "        x=torch.flatten(x, start_dim=1)\n",
    "        \n",
    "        return self.final_layer(x)"
   ]
  },
  {
   "cell_type": "markdown",
   "id": "698f70fe",
   "metadata": {},
   "source": [
    "# Multiclass Classification with Sklearn Image Dataset"
   ]
  },
  {
   "cell_type": "markdown",
   "id": "dbb06e58",
   "metadata": {},
   "source": [
    "# Sklearn Image Dataset (Patches prepared Row-wise)"
   ]
  },
  {
   "cell_type": "code",
   "execution_count": 240,
   "id": "2e6cee96",
   "metadata": {},
   "outputs": [],
   "source": [
    "from sklearn.datasets import load_digits\n",
    "from sklearn.model_selection import train_test_split\n",
    "digits = load_digits()\n",
    "X, y = digits.images[0:200], digits.target[0:200]\n",
    "X_train, X_test, y_train, y_test = train_test_split(X, y)\n",
    "\n",
    "#train_mask = np.isin(y_train, [1, 7])\n",
    "#X_train, y_train = X_train[train_mask], y_train[train_mask]\n",
    "\n",
    "#test_mask = np.isin(y_test, [1, 7])\n",
    "#X_test, y_test = X_test[test_mask], y_test[test_mask]\n",
    "\n",
    "X_train = X_train.reshape(X_train.shape[0], 4, 16)\n",
    "X_test = X_test.reshape(X_test.shape[0], 4, 16)"
   ]
  },
  {
   "cell_type": "code",
   "execution_count": 241,
   "id": "58ef6679",
   "metadata": {},
   "outputs": [],
   "source": [
    "from keras.utils import to_categorical"
   ]
  },
  {
   "cell_type": "code",
   "execution_count": 242,
   "id": "c50aba41",
   "metadata": {},
   "outputs": [
    {
     "data": {
      "text/plain": [
       "array([5, 3, 7, 1, 2, 2, 3, 5, 5, 7, 6, 3, 2, 0, 8, 4, 8, 5, 3, 4, 0, 7,\n",
       "       0, 9, 6, 6, 3, 4, 1, 9, 0, 6, 5, 5, 8, 7, 8, 7, 7, 5, 1, 9, 8, 8,\n",
       "       8, 3, 2, 5, 0, 0, 0, 2, 6, 6, 3, 1, 1, 2, 6, 8, 3, 8, 8, 4, 8, 4,\n",
       "       3, 0, 9, 9, 3, 9, 9, 7, 0, 4, 3, 9, 9, 0, 6, 1, 5, 4, 0, 5, 3, 2,\n",
       "       8, 6, 8, 1, 9, 0, 6, 1, 3, 2, 4, 6, 6, 2, 3, 6, 6, 3, 8, 1, 9, 6,\n",
       "       6, 5, 2, 1, 6, 9, 7, 2, 1, 9, 5, 0, 2, 9, 0, 1, 1, 3, 4, 7, 0, 0,\n",
       "       0, 4, 9, 8, 4, 1, 2, 4, 3, 8, 5, 2, 0, 9, 8, 0, 6, 7])"
      ]
     },
     "execution_count": 242,
     "metadata": {},
     "output_type": "execute_result"
    }
   ],
   "source": [
    "y_train"
   ]
  },
  {
   "cell_type": "code",
   "execution_count": 243,
   "id": "db865750",
   "metadata": {},
   "outputs": [],
   "source": [
    "y_train = to_categorical(y_train)"
   ]
  },
  {
   "cell_type": "code",
   "execution_count": 245,
   "id": "65e4625c",
   "metadata": {},
   "outputs": [
    {
     "data": {
      "text/plain": [
       "array([[0., 0., 0., ..., 0., 0., 0.],\n",
       "       [0., 0., 0., ..., 0., 0., 0.],\n",
       "       [0., 0., 0., ..., 1., 0., 0.],\n",
       "       ...,\n",
       "       [1., 0., 0., ..., 0., 0., 0.],\n",
       "       [0., 0., 0., ..., 0., 0., 0.],\n",
       "       [0., 0., 0., ..., 1., 0., 0.]], dtype=float32)"
      ]
     },
     "execution_count": 245,
     "metadata": {},
     "output_type": "execute_result"
    }
   ],
   "source": [
    "y_train"
   ]
  },
  {
   "cell_type": "code",
   "execution_count": 234,
   "id": "330168e4",
   "metadata": {},
   "outputs": [],
   "source": [
    "y_test = to_categorical(y_test)"
   ]
  },
  {
   "cell_type": "code",
   "execution_count": 227,
   "id": "e32929df",
   "metadata": {},
   "outputs": [],
   "source": [
    "model=QSANN_text_classifier(4, 4, 2, 1, 1)\n",
    "\n",
    "# seq * (num_qubits) * (num_layers + 2)"
   ]
  },
  {
   "cell_type": "code",
   "execution_count": 228,
   "id": "e82c66af",
   "metadata": {},
   "outputs": [
    {
     "data": {
      "text/plain": [
       "QSANN_text_classifier(\n",
       "  (Qnn): QSANN_pennylane(\n",
       "    (qnn): Sequential(\n",
       "      (0): QSAL_pennylane()\n",
       "    )\n",
       "  )\n",
       "  (final_layer): Linear(in_features=64, out_features=10, bias=True)\n",
       ")"
      ]
     },
     "execution_count": 228,
     "metadata": {},
     "output_type": "execute_result"
    }
   ],
   "source": [
    "model"
   ]
  },
  {
   "cell_type": "code",
   "execution_count": 229,
   "id": "1e13fa23",
   "metadata": {},
   "outputs": [],
   "source": [
    "optimizer = torch.optim.Adam(lr=0.001, params=model.parameters())"
   ]
  },
  {
   "cell_type": "code",
   "execution_count": 230,
   "id": "26c6d9d6",
   "metadata": {},
   "outputs": [
    {
     "name": "stdout",
     "output_type": "stream",
     "text": [
      "794\n"
     ]
    }
   ],
   "source": [
    "trainable_params = sum(p.numel() for p in model.parameters() if p.requires_grad)\n",
    "print(trainable_params)"
   ]
  },
  {
   "cell_type": "code",
   "execution_count": 231,
   "id": "71676d02",
   "metadata": {},
   "outputs": [],
   "source": [
    "criterion = torch.nn.CrossEntropyLoss()"
   ]
  },
  {
   "cell_type": "code",
   "execution_count": 232,
   "id": "9199b2d6",
   "metadata": {},
   "outputs": [],
   "source": [
    "def multi_accuracy(preds, y):\n",
    "    \"\"\"\n",
    "    Returns accuracy per batch, i.e. if you get 8/10 right, this returns 0.8, NOT 8\n",
    "    \"\"\"\n",
    "    pred_soft = torch.log_softmax(preds, dim=1)\n",
    "    _, pred_index = torch.max(pred_soft, dim=1)\n",
    "    print(pred_index)\n",
    "    y = [int(w.argmax()) for w in y]\n",
    "    y = torch.tensor(y, dtype=float)\n",
    "    print(y)\n",
    "    correct_pred = (pred_index == y).float()\n",
    "    #round predictions to the closest integer\n",
    "    \n",
    "    acc = correct_pred.sum()/len(correct_pred)\n",
    "\n",
    "    return acc"
   ]
  },
  {
   "cell_type": "code",
   "execution_count": 233,
   "id": "fa514b41",
   "metadata": {
    "scrolled": true
   },
   "outputs": [
    {
     "name": "stderr",
     "output_type": "stream",
     "text": [
      "  0%|          | 0/100 [00:00<?, ?it/s]"
     ]
    },
    {
     "name": "stdout",
     "output_type": "stream",
     "text": [
      "tensor([8, 7, 3, 4, 3, 8, 3, 3, 3, 3, 3, 8, 3, 3, 8, 3, 7, 3, 8, 3, 8, 3, 8, 3,\n",
      "        8, 4, 3, 3, 8, 3, 7, 8, 7, 3, 7, 3, 7, 3, 3, 8, 3, 3, 3, 3, 8, 7, 8, 3,\n",
      "        3, 4, 8, 5, 5, 7, 3, 3, 5, 3, 8, 3, 8, 8, 3, 7, 3, 3, 3, 3, 8, 3, 8, 8,\n",
      "        5, 5, 8])\n",
      "tensor([0., 1., 0., 2., 3., 0., 3., 3., 0., 1., 1., 0., 3., 1., 7., 5., 4., 4.,\n",
      "        7., 0., 6., 9., 0., 5., 6., 2., 3., 8., 2., 2., 7., 4., 1., 8., 7., 3.,\n",
      "        5., 0., 7., 0., 9., 9., 5., 3., 6., 7., 8., 5., 1., 4., 6., 9., 9., 7.,\n",
      "        2., 1., 9., 0., 6., 0., 4., 6., 3., 1., 8., 5., 3., 2., 6., 2., 7., 8.,\n",
      "        9., 9., 6.], dtype=torch.float64)\n",
      "\n",
      "Accuracy: tensor(0.2133)\n",
      "\n",
      "tensor(7.0260, grad_fn=<DivBackward1>)\n"
     ]
    },
    {
     "name": "stderr",
     "output_type": "stream",
     "text": [
      "  1%|          | 1/100 [00:29<49:18, 29.89s/it]"
     ]
    },
    {
     "name": "stdout",
     "output_type": "stream",
     "text": [
      "tensor([8, 7, 3, 4, 3, 8, 3, 3, 3, 3, 3, 8, 3, 3, 8, 3, 7, 7, 8, 3, 8, 3, 8, 3,\n",
      "        8, 4, 3, 3, 4, 3, 7, 8, 7, 3, 7, 3, 7, 3, 7, 8, 3, 3, 3, 3, 8, 7, 8, 7,\n",
      "        7, 4, 8, 5, 5, 7, 3, 3, 5, 3, 8, 3, 8, 8, 3, 7, 3, 3, 3, 3, 8, 4, 8, 8,\n",
      "        5, 5, 8])\n",
      "tensor([0., 1., 0., 2., 3., 0., 3., 3., 0., 1., 1., 0., 3., 1., 7., 5., 4., 4.,\n",
      "        7., 0., 6., 9., 0., 5., 6., 2., 3., 8., 2., 2., 7., 4., 1., 8., 7., 3.,\n",
      "        5., 0., 7., 0., 9., 9., 5., 3., 6., 7., 8., 5., 1., 4., 6., 9., 9., 7.,\n",
      "        2., 1., 9., 0., 6., 0., 4., 6., 3., 1., 8., 5., 3., 2., 6., 2., 7., 8.,\n",
      "        9., 9., 6.], dtype=torch.float64)\n",
      "\n",
      "Accuracy: tensor(0.2267)\n",
      "\n",
      "tensor(6.6618, grad_fn=<DivBackward1>)\n"
     ]
    },
    {
     "name": "stderr",
     "output_type": "stream",
     "text": [
      "  2%|▏         | 2/100 [01:01<50:25, 30.88s/it]"
     ]
    },
    {
     "name": "stdout",
     "output_type": "stream",
     "text": [
      "tensor([8, 7, 3, 4, 3, 8, 3, 3, 3, 3, 3, 8, 3, 3, 8, 3, 7, 7, 8, 3, 8, 3, 8, 3,\n",
      "        8, 4, 3, 3, 4, 3, 7, 4, 7, 3, 7, 3, 7, 3, 7, 8, 3, 3, 3, 3, 8, 7, 8, 7,\n",
      "        7, 4, 8, 5, 5, 7, 0, 3, 5, 3, 8, 3, 8, 8, 3, 7, 3, 3, 3, 3, 8, 4, 8, 8,\n",
      "        5, 5, 8])\n",
      "tensor([0., 1., 0., 2., 3., 0., 3., 3., 0., 1., 1., 0., 3., 1., 7., 5., 4., 4.,\n",
      "        7., 0., 6., 9., 0., 5., 6., 2., 3., 8., 2., 2., 7., 4., 1., 8., 7., 3.,\n",
      "        5., 0., 7., 0., 9., 9., 5., 3., 6., 7., 8., 5., 1., 4., 6., 9., 9., 7.,\n",
      "        2., 1., 9., 0., 6., 0., 4., 6., 3., 1., 8., 5., 3., 2., 6., 2., 7., 8.,\n",
      "        9., 9., 6.], dtype=torch.float64)\n",
      "\n",
      "Accuracy: tensor(0.2400)\n",
      "\n",
      "tensor(6.3275, grad_fn=<DivBackward1>)\n"
     ]
    },
    {
     "name": "stderr",
     "output_type": "stream",
     "text": [
      "  3%|▎         | 3/100 [01:33<50:42, 31.36s/it]"
     ]
    },
    {
     "name": "stdout",
     "output_type": "stream",
     "text": [
      "tensor([4, 7, 3, 4, 3, 8, 3, 3, 3, 3, 3, 8, 3, 3, 8, 3, 7, 7, 8, 5, 8, 3, 8, 3,\n",
      "        8, 4, 3, 3, 4, 3, 7, 4, 7, 3, 7, 3, 5, 3, 9, 8, 3, 3, 3, 3, 8, 7, 8, 7,\n",
      "        7, 4, 8, 5, 5, 7, 0, 3, 5, 3, 8, 3, 8, 8, 3, 7, 3, 3, 3, 3, 8, 4, 8, 8,\n",
      "        5, 5, 8])\n",
      "tensor([0., 1., 0., 2., 3., 0., 3., 3., 0., 1., 1., 0., 3., 1., 7., 5., 4., 4.,\n",
      "        7., 0., 6., 9., 0., 5., 6., 2., 3., 8., 2., 2., 7., 4., 1., 8., 7., 3.,\n",
      "        5., 0., 7., 0., 9., 9., 5., 3., 6., 7., 8., 5., 1., 4., 6., 9., 9., 7.,\n",
      "        2., 1., 9., 0., 6., 0., 4., 6., 3., 1., 8., 5., 3., 2., 6., 2., 7., 8.,\n",
      "        9., 9., 6.], dtype=torch.float64)\n",
      "\n",
      "Accuracy: tensor(0.2400)\n",
      "\n",
      "tensor(5.9787, grad_fn=<DivBackward1>)\n"
     ]
    },
    {
     "name": "stderr",
     "output_type": "stream",
     "text": [
      "  4%|▍         | 4/100 [02:06<51:04, 31.92s/it]"
     ]
    },
    {
     "name": "stdout",
     "output_type": "stream",
     "text": [
      "tensor([4, 7, 3, 4, 3, 8, 3, 3, 3, 3, 3, 8, 3, 3, 8, 7, 7, 7, 8, 5, 8, 3, 8, 3,\n",
      "        8, 4, 3, 1, 4, 3, 7, 4, 7, 3, 7, 3, 7, 3, 9, 8, 3, 3, 3, 3, 8, 7, 7, 7,\n",
      "        7, 4, 8, 5, 5, 7, 0, 3, 5, 3, 8, 3, 8, 8, 3, 7, 3, 3, 3, 3, 8, 4, 8, 8,\n",
      "        5, 5, 8])\n",
      "tensor([0., 1., 0., 2., 3., 0., 3., 3., 0., 1., 1., 0., 3., 1., 7., 5., 4., 4.,\n",
      "        7., 0., 6., 9., 0., 5., 6., 2., 3., 8., 2., 2., 7., 4., 1., 8., 7., 3.,\n",
      "        5., 0., 7., 0., 9., 9., 5., 3., 6., 7., 8., 5., 1., 4., 6., 9., 9., 7.,\n",
      "        2., 1., 9., 0., 6., 0., 4., 6., 3., 1., 8., 5., 3., 2., 6., 2., 7., 8.,\n",
      "        9., 9., 6.], dtype=torch.float64)\n",
      "\n",
      "Accuracy: tensor(0.2133)\n",
      "\n",
      "tensor(5.6753, grad_fn=<DivBackward1>)\n"
     ]
    },
    {
     "name": "stderr",
     "output_type": "stream",
     "text": [
      "  5%|▌         | 5/100 [02:39<51:17, 32.40s/it]"
     ]
    },
    {
     "name": "stdout",
     "output_type": "stream",
     "text": [
      "tensor([4, 7, 3, 4, 3, 8, 3, 3, 3, 3, 3, 8, 3, 3, 8, 7, 7, 7, 4, 5, 8, 3, 8, 3,\n",
      "        1, 0, 3, 1, 4, 3, 7, 4, 7, 3, 7, 3, 5, 3, 9, 8, 3, 3, 3, 5, 8, 7, 1, 7,\n",
      "        7, 4, 8, 5, 5, 7, 0, 7, 5, 3, 8, 3, 8, 8, 3, 7, 3, 3, 3, 3, 8, 4, 8, 8,\n",
      "        5, 5, 8])\n",
      "tensor([0., 1., 0., 2., 3., 0., 3., 3., 0., 1., 1., 0., 3., 1., 7., 5., 4., 4.,\n",
      "        7., 0., 6., 9., 0., 5., 6., 2., 3., 8., 2., 2., 7., 4., 1., 8., 7., 3.,\n",
      "        5., 0., 7., 0., 9., 9., 5., 3., 6., 7., 8., 5., 1., 4., 6., 9., 9., 7.,\n",
      "        2., 1., 9., 0., 6., 0., 4., 6., 3., 1., 8., 5., 3., 2., 6., 2., 7., 8.,\n",
      "        9., 9., 6.], dtype=torch.float64)\n",
      "\n",
      "Accuracy: tensor(0.2133)\n",
      "\n",
      "tensor(5.3767, grad_fn=<DivBackward1>)\n"
     ]
    },
    {
     "name": "stderr",
     "output_type": "stream",
     "text": [
      "  6%|▌         | 6/100 [03:12<51:14, 32.71s/it]"
     ]
    },
    {
     "name": "stdout",
     "output_type": "stream",
     "text": [
      "tensor([4, 7, 3, 4, 3, 8, 3, 3, 3, 3, 0, 2, 3, 3, 8, 7, 7, 7, 1, 5, 8, 3, 8, 3,\n",
      "        1, 0, 3, 1, 0, 3, 7, 4, 7, 3, 7, 3, 5, 2, 9, 8, 4, 3, 3, 5, 8, 7, 1, 7,\n",
      "        7, 4, 8, 5, 5, 7, 0, 3, 5, 2, 8, 3, 8, 8, 3, 7, 1, 3, 3, 3, 8, 4, 8, 8,\n",
      "        5, 5, 8])\n",
      "tensor([0., 1., 0., 2., 3., 0., 3., 3., 0., 1., 1., 0., 3., 1., 7., 5., 4., 4.,\n",
      "        7., 0., 6., 9., 0., 5., 6., 2., 3., 8., 2., 2., 7., 4., 1., 8., 7., 3.,\n",
      "        5., 0., 7., 0., 9., 9., 5., 3., 6., 7., 8., 5., 1., 4., 6., 9., 9., 7.,\n",
      "        2., 1., 9., 0., 6., 0., 4., 6., 3., 1., 8., 5., 3., 2., 6., 2., 7., 8.,\n",
      "        9., 9., 6.], dtype=torch.float64)\n",
      "\n",
      "Accuracy: tensor(0.2133)\n",
      "\n",
      "tensor(5.1169, grad_fn=<DivBackward1>)\n"
     ]
    },
    {
     "name": "stderr",
     "output_type": "stream",
     "text": [
      "  7%|▋         | 7/100 [03:45<50:37, 32.66s/it]"
     ]
    },
    {
     "name": "stdout",
     "output_type": "stream",
     "text": [
      "tensor([4, 7, 3, 4, 3, 8, 3, 3, 3, 7, 0, 2, 3, 3, 8, 7, 7, 7, 1, 5, 8, 3, 8, 3,\n",
      "        1, 0, 3, 1, 0, 3, 9, 4, 7, 3, 7, 3, 5, 2, 9, 5, 4, 3, 3, 5, 8, 7, 1, 7,\n",
      "        1, 4, 8, 5, 5, 7, 0, 7, 5, 2, 8, 3, 8, 8, 3, 7, 1, 3, 3, 3, 8, 4, 8, 8,\n",
      "        5, 5, 8])\n",
      "tensor([0., 1., 0., 2., 3., 0., 3., 3., 0., 1., 1., 0., 3., 1., 7., 5., 4., 4.,\n",
      "        7., 0., 6., 9., 0., 5., 6., 2., 3., 8., 2., 2., 7., 4., 1., 8., 7., 3.,\n",
      "        5., 0., 7., 0., 9., 9., 5., 3., 6., 7., 8., 5., 1., 4., 6., 9., 9., 7.,\n",
      "        2., 1., 9., 0., 6., 0., 4., 6., 3., 1., 8., 5., 3., 2., 6., 2., 7., 8.,\n",
      "        9., 9., 6.], dtype=torch.float64)\n",
      "\n",
      "Accuracy: tensor(0.2133)\n",
      "\n",
      "tensor(4.8635, grad_fn=<DivBackward1>)\n"
     ]
    },
    {
     "name": "stderr",
     "output_type": "stream",
     "text": [
      "  8%|▊         | 8/100 [04:18<50:19, 32.82s/it]"
     ]
    },
    {
     "name": "stdout",
     "output_type": "stream",
     "text": [
      "tensor([4, 7, 3, 0, 3, 2, 3, 3, 3, 1, 0, 2, 3, 3, 8, 7, 4, 7, 1, 5, 8, 3, 8, 3,\n",
      "        1, 0, 3, 1, 0, 3, 9, 4, 7, 8, 7, 3, 5, 2, 9, 5, 4, 3, 3, 5, 8, 7, 1, 7,\n",
      "        1, 4, 8, 5, 5, 7, 0, 0, 5, 2, 8, 3, 8, 8, 3, 9, 1, 3, 3, 3, 8, 4, 8, 8,\n",
      "        5, 5, 8])\n",
      "tensor([0., 1., 0., 2., 3., 0., 3., 3., 0., 1., 1., 0., 3., 1., 7., 5., 4., 4.,\n",
      "        7., 0., 6., 9., 0., 5., 6., 2., 3., 8., 2., 2., 7., 4., 1., 8., 7., 3.,\n",
      "        5., 0., 7., 0., 9., 9., 5., 3., 6., 7., 8., 5., 1., 4., 6., 9., 9., 7.,\n",
      "        2., 1., 9., 0., 6., 0., 4., 6., 3., 1., 8., 5., 3., 2., 6., 2., 7., 8.,\n",
      "        9., 9., 6.], dtype=torch.float64)\n",
      "\n",
      "Accuracy: tensor(0.2533)\n",
      "\n",
      "tensor(4.6371, grad_fn=<DivBackward1>)\n"
     ]
    },
    {
     "name": "stderr",
     "output_type": "stream",
     "text": [
      "  9%|▉         | 9/100 [04:50<49:36, 32.71s/it]"
     ]
    },
    {
     "name": "stdout",
     "output_type": "stream",
     "text": [
      "tensor([4, 9, 3, 0, 3, 2, 3, 3, 5, 1, 1, 2, 3, 0, 8, 7, 7, 7, 1, 5, 8, 3, 8, 3,\n",
      "        1, 0, 3, 1, 0, 3, 9, 4, 7, 8, 7, 3, 5, 2, 9, 5, 7, 5, 3, 5, 8, 7, 1, 7,\n",
      "        1, 4, 8, 5, 5, 7, 0, 2, 5, 2, 8, 5, 8, 8, 3, 9, 1, 3, 3, 3, 8, 4, 8, 8,\n",
      "        5, 5, 8])\n",
      "tensor([0., 1., 0., 2., 3., 0., 3., 3., 0., 1., 1., 0., 3., 1., 7., 5., 4., 4.,\n",
      "        7., 0., 6., 9., 0., 5., 6., 2., 3., 8., 2., 2., 7., 4., 1., 8., 7., 3.,\n",
      "        5., 0., 7., 0., 9., 9., 5., 3., 6., 7., 8., 5., 1., 4., 6., 9., 9., 7.,\n",
      "        2., 1., 9., 0., 6., 0., 4., 6., 3., 1., 8., 5., 3., 2., 6., 2., 7., 8.,\n",
      "        9., 9., 6.], dtype=torch.float64)\n",
      "\n",
      "Accuracy: tensor(0.2533)\n",
      "\n",
      "tensor(4.4340, grad_fn=<DivBackward1>)\n"
     ]
    },
    {
     "name": "stderr",
     "output_type": "stream",
     "text": [
      " 10%|█         | 10/100 [05:24<49:26, 32.96s/it]"
     ]
    },
    {
     "name": "stdout",
     "output_type": "stream",
     "text": [
      "tensor([4, 9, 2, 0, 1, 2, 3, 3, 5, 1, 1, 2, 3, 0, 8, 7, 7, 7, 1, 5, 8, 3, 8, 3,\n",
      "        1, 0, 3, 1, 0, 3, 9, 4, 7, 8, 7, 3, 5, 2, 9, 5, 4, 5, 3, 5, 8, 7, 1, 7,\n",
      "        1, 4, 8, 5, 5, 7, 0, 2, 5, 2, 8, 5, 7, 8, 3, 9, 1, 3, 5, 3, 8, 1, 8, 8,\n",
      "        5, 5, 8])\n",
      "tensor([0., 1., 0., 2., 3., 0., 3., 3., 0., 1., 1., 0., 3., 1., 7., 5., 4., 4.,\n",
      "        7., 0., 6., 9., 0., 5., 6., 2., 3., 8., 2., 2., 7., 4., 1., 8., 7., 3.,\n",
      "        5., 0., 7., 0., 9., 9., 5., 3., 6., 7., 8., 5., 1., 4., 6., 9., 9., 7.,\n",
      "        2., 1., 9., 0., 6., 0., 4., 6., 3., 1., 8., 5., 3., 2., 6., 2., 7., 8.,\n",
      "        9., 9., 6.], dtype=torch.float64)\n",
      "\n",
      "Accuracy: tensor(0.2267)\n",
      "\n",
      "tensor(4.2571, grad_fn=<DivBackward1>)\n"
     ]
    },
    {
     "name": "stderr",
     "output_type": "stream",
     "text": [
      " 11%|█         | 11/100 [05:59<49:43, 33.52s/it]"
     ]
    },
    {
     "name": "stdout",
     "output_type": "stream",
     "text": [
      "tensor([4, 9, 2, 0, 1, 2, 3, 3, 5, 1, 1, 2, 3, 0, 8, 7, 7, 7, 1, 5, 8, 3, 8, 3,\n",
      "        1, 0, 3, 1, 0, 0, 9, 4, 9, 8, 7, 3, 5, 2, 9, 5, 7, 0, 3, 5, 8, 7, 1, 7,\n",
      "        1, 4, 8, 5, 5, 7, 0, 2, 5, 2, 8, 5, 7, 8, 3, 9, 1, 3, 5, 3, 8, 1, 8, 8,\n",
      "        5, 5, 8])\n",
      "tensor([0., 1., 0., 2., 3., 0., 3., 3., 0., 1., 1., 0., 3., 1., 7., 5., 4., 4.,\n",
      "        7., 0., 6., 9., 0., 5., 6., 2., 3., 8., 2., 2., 7., 4., 1., 8., 7., 3.,\n",
      "        5., 0., 7., 0., 9., 9., 5., 3., 6., 7., 8., 5., 1., 4., 6., 9., 9., 7.,\n",
      "        2., 1., 9., 0., 6., 0., 4., 6., 3., 1., 8., 5., 3., 2., 6., 2., 7., 8.,\n",
      "        9., 9., 6.], dtype=torch.float64)\n",
      "\n",
      "Accuracy: tensor(0.2267)\n",
      "\n",
      "tensor(4.0897, grad_fn=<DivBackward1>)\n"
     ]
    },
    {
     "name": "stderr",
     "output_type": "stream",
     "text": [
      " 12%|█▏        | 12/100 [06:32<49:14, 33.58s/it]"
     ]
    },
    {
     "name": "stdout",
     "output_type": "stream",
     "text": [
      "tensor([4, 9, 2, 0, 0, 2, 3, 3, 5, 1, 1, 2, 3, 0, 8, 7, 4, 7, 1, 5, 4, 3, 8, 3,\n",
      "        1, 0, 3, 1, 0, 0, 9, 4, 9, 7, 7, 3, 5, 2, 9, 5, 7, 0, 3, 5, 8, 7, 1, 7,\n",
      "        1, 4, 8, 5, 5, 7, 0, 2, 5, 2, 8, 5, 7, 8, 3, 9, 1, 3, 5, 3, 0, 1, 8, 8,\n",
      "        5, 5, 8])\n",
      "tensor([0., 1., 0., 2., 3., 0., 3., 3., 0., 1., 1., 0., 3., 1., 7., 5., 4., 4.,\n",
      "        7., 0., 6., 9., 0., 5., 6., 2., 3., 8., 2., 2., 7., 4., 1., 8., 7., 3.,\n",
      "        5., 0., 7., 0., 9., 9., 5., 3., 6., 7., 8., 5., 1., 4., 6., 9., 9., 7.,\n",
      "        2., 1., 9., 0., 6., 0., 4., 6., 3., 1., 8., 5., 3., 2., 6., 2., 7., 8.,\n",
      "        9., 9., 6.], dtype=torch.float64)\n",
      "\n",
      "Accuracy: tensor(0.2267)\n",
      "\n",
      "tensor(3.9421, grad_fn=<DivBackward1>)\n"
     ]
    },
    {
     "name": "stderr",
     "output_type": "stream",
     "text": [
      " 13%|█▎        | 13/100 [07:04<47:58, 33.09s/it]"
     ]
    },
    {
     "name": "stdout",
     "output_type": "stream",
     "text": [
      "tensor([4, 9, 2, 0, 0, 2, 3, 3, 5, 1, 1, 2, 3, 0, 7, 7, 7, 7, 1, 5, 4, 3, 2, 1,\n",
      "        1, 0, 3, 1, 0, 0, 9, 4, 9, 1, 7, 3, 5, 2, 9, 5, 7, 0, 3, 5, 8, 7, 1, 7,\n",
      "        1, 4, 8, 5, 5, 7, 0, 2, 5, 2, 0, 5, 7, 8, 3, 9, 1, 3, 5, 3, 0, 1, 8, 8,\n",
      "        5, 5, 8])\n",
      "tensor([0., 1., 0., 2., 3., 0., 3., 3., 0., 1., 1., 0., 3., 1., 7., 5., 4., 4.,\n",
      "        7., 0., 6., 9., 0., 5., 6., 2., 3., 8., 2., 2., 7., 4., 1., 8., 7., 3.,\n",
      "        5., 0., 7., 0., 9., 9., 5., 3., 6., 7., 8., 5., 1., 4., 6., 9., 9., 7.,\n",
      "        2., 1., 9., 0., 6., 0., 4., 6., 3., 1., 8., 5., 3., 2., 6., 2., 7., 8.,\n",
      "        9., 9., 6.], dtype=torch.float64)\n",
      "\n",
      "Accuracy: tensor(0.2267)\n",
      "\n",
      "tensor(3.8036, grad_fn=<DivBackward1>)\n"
     ]
    },
    {
     "name": "stderr",
     "output_type": "stream",
     "text": [
      " 14%|█▍        | 14/100 [07:39<47:54, 33.43s/it]"
     ]
    },
    {
     "name": "stdout",
     "output_type": "stream",
     "text": [
      "tensor([2, 9, 2, 0, 0, 2, 3, 3, 5, 1, 1, 2, 3, 0, 7, 7, 7, 7, 1, 5, 4, 9, 2, 1,\n",
      "        1, 0, 3, 1, 0, 0, 9, 4, 9, 7, 7, 3, 0, 2, 9, 0, 7, 0, 3, 5, 8, 7, 1, 7,\n",
      "        1, 4, 0, 5, 5, 7, 0, 2, 5, 2, 0, 0, 7, 8, 3, 9, 1, 3, 5, 3, 0, 1, 7, 8,\n",
      "        5, 5, 8])\n",
      "tensor([0., 1., 0., 2., 3., 0., 3., 3., 0., 1., 1., 0., 3., 1., 7., 5., 4., 4.,\n",
      "        7., 0., 6., 9., 0., 5., 6., 2., 3., 8., 2., 2., 7., 4., 1., 8., 7., 3.,\n",
      "        5., 0., 7., 0., 9., 9., 5., 3., 6., 7., 8., 5., 1., 4., 6., 9., 9., 7.,\n",
      "        2., 1., 9., 0., 6., 0., 4., 6., 3., 1., 8., 5., 3., 2., 6., 2., 7., 8.,\n",
      "        9., 9., 6.], dtype=torch.float64)\n",
      "\n",
      "Accuracy: tensor(0.2667)\n",
      "\n",
      "tensor(3.6702, grad_fn=<DivBackward1>)\n"
     ]
    },
    {
     "name": "stderr",
     "output_type": "stream",
     "text": [
      " 15%|█▌        | 15/100 [08:12<47:20, 33.42s/it]"
     ]
    },
    {
     "name": "stdout",
     "output_type": "stream",
     "text": [
      "tensor([2, 9, 2, 0, 0, 2, 3, 3, 5, 1, 1, 2, 3, 0, 7, 7, 4, 7, 7, 5, 4, 9, 2, 1,\n",
      "        1, 0, 3, 1, 0, 0, 9, 4, 9, 1, 7, 3, 0, 2, 9, 0, 7, 0, 3, 5, 8, 7, 1, 7,\n",
      "        1, 4, 0, 5, 5, 7, 0, 2, 5, 2, 0, 0, 7, 0, 3, 9, 1, 3, 5, 3, 0, 1, 6, 8,\n",
      "        5, 5, 8])\n",
      "tensor([0., 1., 0., 2., 3., 0., 3., 3., 0., 1., 1., 0., 3., 1., 7., 5., 4., 4.,\n",
      "        7., 0., 6., 9., 0., 5., 6., 2., 3., 8., 2., 2., 7., 4., 1., 8., 7., 3.,\n",
      "        5., 0., 7., 0., 9., 9., 5., 3., 6., 7., 8., 5., 1., 4., 6., 9., 9., 7.,\n",
      "        2., 1., 9., 0., 6., 0., 4., 6., 3., 1., 8., 5., 3., 2., 6., 2., 7., 8.,\n",
      "        9., 9., 6.], dtype=torch.float64)\n",
      "\n",
      "Accuracy: tensor(0.2800)\n",
      "\n",
      "tensor(3.5341, grad_fn=<DivBackward1>)\n"
     ]
    },
    {
     "name": "stderr",
     "output_type": "stream",
     "text": [
      " 16%|█▌        | 16/100 [08:44<46:19, 33.09s/it]"
     ]
    },
    {
     "name": "stdout",
     "output_type": "stream",
     "text": [
      "tensor([2, 9, 2, 0, 0, 2, 3, 3, 5, 1, 1, 2, 3, 0, 7, 7, 7, 7, 7, 5, 4, 9, 2, 1,\n",
      "        1, 0, 3, 1, 0, 0, 9, 4, 9, 7, 7, 3, 0, 2, 9, 0, 7, 0, 3, 5, 8, 7, 1, 7,\n",
      "        1, 4, 0, 5, 5, 7, 0, 2, 5, 2, 0, 0, 7, 0, 3, 9, 1, 3, 5, 0, 0, 1, 6, 8,\n",
      "        5, 5, 8])\n",
      "tensor([0., 1., 0., 2., 3., 0., 3., 3., 0., 1., 1., 0., 3., 1., 7., 5., 4., 4.,\n",
      "        7., 0., 6., 9., 0., 5., 6., 2., 3., 8., 2., 2., 7., 4., 1., 8., 7., 3.,\n",
      "        5., 0., 7., 0., 9., 9., 5., 3., 6., 7., 8., 5., 1., 4., 6., 9., 9., 7.,\n",
      "        2., 1., 9., 0., 6., 0., 4., 6., 3., 1., 8., 5., 3., 2., 6., 2., 7., 8.,\n",
      "        9., 9., 6.], dtype=torch.float64)\n",
      "\n",
      "Accuracy: tensor(0.2667)\n",
      "\n",
      "tensor(3.4152, grad_fn=<DivBackward1>)\n"
     ]
    },
    {
     "name": "stderr",
     "output_type": "stream",
     "text": [
      " 17%|█▋        | 17/100 [09:20<46:42, 33.76s/it]"
     ]
    },
    {
     "name": "stdout",
     "output_type": "stream",
     "text": [
      "tensor([2, 9, 2, 0, 0, 2, 3, 3, 5, 1, 1, 2, 3, 0, 7, 7, 4, 7, 7, 5, 4, 9, 2, 1,\n",
      "        1, 0, 3, 1, 0, 0, 9, 4, 9, 1, 7, 3, 0, 2, 7, 0, 9, 0, 3, 5, 8, 7, 1, 7,\n",
      "        1, 4, 0, 5, 5, 7, 0, 2, 5, 2, 0, 0, 7, 0, 3, 9, 1, 3, 1, 0, 0, 1, 6, 8,\n",
      "        1, 5, 8])\n",
      "tensor([0., 1., 0., 2., 3., 0., 3., 3., 0., 1., 1., 0., 3., 1., 7., 5., 4., 4.,\n",
      "        7., 0., 6., 9., 0., 5., 6., 2., 3., 8., 2., 2., 7., 4., 1., 8., 7., 3.,\n",
      "        5., 0., 7., 0., 9., 9., 5., 3., 6., 7., 8., 5., 1., 4., 6., 9., 9., 7.,\n",
      "        2., 1., 9., 0., 6., 0., 4., 6., 3., 1., 8., 5., 3., 2., 6., 2., 7., 8.,\n",
      "        9., 9., 6.], dtype=torch.float64)\n",
      "\n",
      "Accuracy: tensor(0.3067)\n",
      "\n",
      "tensor(3.2940, grad_fn=<DivBackward1>)\n"
     ]
    },
    {
     "name": "stderr",
     "output_type": "stream",
     "text": [
      " 18%|█▊        | 18/100 [09:54<46:29, 34.02s/it]"
     ]
    },
    {
     "name": "stdout",
     "output_type": "stream",
     "text": [
      "tensor([2, 9, 2, 0, 0, 2, 3, 3, 5, 1, 1, 2, 3, 0, 7, 7, 4, 7, 7, 0, 4, 9, 2, 1,\n",
      "        1, 0, 3, 1, 0, 0, 9, 4, 9, 1, 7, 3, 0, 2, 7, 0, 9, 0, 3, 5, 8, 7, 1, 7,\n",
      "        1, 4, 0, 5, 5, 7, 0, 2, 0, 2, 0, 0, 7, 0, 3, 9, 1, 3, 1, 0, 0, 1, 6, 8,\n",
      "        1, 9, 8])\n",
      "tensor([0., 1., 0., 2., 3., 0., 3., 3., 0., 1., 1., 0., 3., 1., 7., 5., 4., 4.,\n",
      "        7., 0., 6., 9., 0., 5., 6., 2., 3., 8., 2., 2., 7., 4., 1., 8., 7., 3.,\n",
      "        5., 0., 7., 0., 9., 9., 5., 3., 6., 7., 8., 5., 1., 4., 6., 9., 9., 7.,\n",
      "        2., 1., 9., 0., 6., 0., 4., 6., 3., 1., 8., 5., 3., 2., 6., 2., 7., 8.,\n",
      "        9., 9., 6.], dtype=torch.float64)\n",
      "\n",
      "Accuracy: tensor(0.3333)\n",
      "\n",
      "tensor(3.1803, grad_fn=<DivBackward1>)\n"
     ]
    },
    {
     "name": "stderr",
     "output_type": "stream",
     "text": [
      " 19%|█▉        | 19/100 [10:30<46:33, 34.49s/it]"
     ]
    },
    {
     "name": "stdout",
     "output_type": "stream",
     "text": [
      "tensor([2, 9, 2, 0, 0, 2, 3, 3, 5, 1, 1, 2, 3, 0, 6, 7, 4, 7, 7, 0, 4, 9, 2, 1,\n",
      "        0, 0, 3, 1, 0, 0, 9, 4, 9, 7, 7, 3, 9, 2, 7, 0, 9, 0, 3, 5, 8, 7, 1, 7,\n",
      "        1, 4, 0, 5, 5, 7, 0, 2, 0, 2, 0, 0, 7, 0, 3, 9, 1, 3, 1, 0, 0, 1, 6, 8,\n",
      "        1, 9, 8])\n",
      "tensor([0., 1., 0., 2., 3., 0., 3., 3., 0., 1., 1., 0., 3., 1., 7., 5., 4., 4.,\n",
      "        7., 0., 6., 9., 0., 5., 6., 2., 3., 8., 2., 2., 7., 4., 1., 8., 7., 3.,\n",
      "        5., 0., 7., 0., 9., 9., 5., 3., 6., 7., 8., 5., 1., 4., 6., 9., 9., 7.,\n",
      "        2., 1., 9., 0., 6., 0., 4., 6., 3., 1., 8., 5., 3., 2., 6., 2., 7., 8.,\n",
      "        9., 9., 6.], dtype=torch.float64)\n",
      "\n",
      "Accuracy: tensor(0.3200)\n",
      "\n",
      "tensor(3.0745, grad_fn=<DivBackward1>)\n"
     ]
    },
    {
     "name": "stderr",
     "output_type": "stream",
     "text": [
      " 20%|██        | 20/100 [11:05<46:07, 34.59s/it]"
     ]
    },
    {
     "name": "stdout",
     "output_type": "stream",
     "text": [
      "tensor([2, 9, 2, 0, 0, 2, 3, 3, 5, 1, 1, 2, 3, 0, 6, 7, 4, 7, 7, 0, 4, 9, 2, 0,\n",
      "        1, 0, 3, 1, 0, 0, 9, 4, 9, 7, 7, 3, 9, 2, 7, 0, 9, 0, 3, 5, 8, 7, 1, 7,\n",
      "        1, 4, 0, 5, 5, 7, 0, 2, 0, 2, 0, 0, 7, 0, 3, 9, 1, 3, 1, 0, 0, 1, 6, 8,\n",
      "        5, 9, 8])\n",
      "tensor([0., 1., 0., 2., 3., 0., 3., 3., 0., 1., 1., 0., 3., 1., 7., 5., 4., 4.,\n",
      "        7., 0., 6., 9., 0., 5., 6., 2., 3., 8., 2., 2., 7., 4., 1., 8., 7., 3.,\n",
      "        5., 0., 7., 0., 9., 9., 5., 3., 6., 7., 8., 5., 1., 4., 6., 9., 9., 7.,\n",
      "        2., 1., 9., 0., 6., 0., 4., 6., 3., 1., 8., 5., 3., 2., 6., 2., 7., 8.,\n",
      "        9., 9., 6.], dtype=torch.float64)\n",
      "\n",
      "Accuracy: tensor(0.3200)\n",
      "\n",
      "tensor(2.9585, grad_fn=<DivBackward1>)\n"
     ]
    },
    {
     "name": "stderr",
     "output_type": "stream",
     "text": [
      " 21%|██        | 21/100 [11:40<45:58, 34.92s/it]"
     ]
    },
    {
     "name": "stdout",
     "output_type": "stream",
     "text": [
      "tensor([2, 9, 2, 0, 0, 2, 3, 3, 6, 1, 1, 2, 3, 0, 6, 7, 4, 7, 7, 0, 4, 9, 2, 0,\n",
      "        1, 0, 3, 1, 0, 0, 9, 4, 9, 7, 7, 3, 9, 2, 7, 0, 9, 0, 3, 5, 8, 7, 1, 7,\n",
      "        1, 4, 0, 5, 5, 7, 0, 2, 9, 2, 0, 0, 7, 0, 3, 9, 1, 6, 5, 0, 0, 1, 6, 8,\n",
      "        5, 9, 8])\n",
      "tensor([0., 1., 0., 2., 3., 0., 3., 3., 0., 1., 1., 0., 3., 1., 7., 5., 4., 4.,\n",
      "        7., 0., 6., 9., 0., 5., 6., 2., 3., 8., 2., 2., 7., 4., 1., 8., 7., 3.,\n",
      "        5., 0., 7., 0., 9., 9., 5., 3., 6., 7., 8., 5., 1., 4., 6., 9., 9., 7.,\n",
      "        2., 1., 9., 0., 6., 0., 4., 6., 3., 1., 8., 5., 3., 2., 6., 2., 7., 8.,\n",
      "        9., 9., 6.], dtype=torch.float64)\n",
      "\n",
      "Accuracy: tensor(0.3333)\n",
      "\n",
      "tensor(2.8543, grad_fn=<DivBackward1>)\n"
     ]
    },
    {
     "name": "stderr",
     "output_type": "stream",
     "text": [
      " 22%|██▏       | 22/100 [12:14<44:49, 34.48s/it]"
     ]
    },
    {
     "name": "stdout",
     "output_type": "stream",
     "text": [
      "tensor([2, 9, 2, 0, 0, 2, 3, 3, 6, 1, 1, 2, 3, 1, 6, 7, 4, 7, 7, 0, 4, 9, 2, 0,\n",
      "        0, 0, 3, 1, 0, 0, 7, 4, 9, 7, 7, 3, 9, 2, 7, 0, 9, 0, 3, 5, 8, 7, 1, 6,\n",
      "        1, 4, 0, 5, 5, 7, 0, 2, 9, 2, 0, 0, 7, 0, 3, 9, 1, 6, 9, 0, 0, 1, 6, 8,\n",
      "        5, 9, 8])\n",
      "tensor([0., 1., 0., 2., 3., 0., 3., 3., 0., 1., 1., 0., 3., 1., 7., 5., 4., 4.,\n",
      "        7., 0., 6., 9., 0., 5., 6., 2., 3., 8., 2., 2., 7., 4., 1., 8., 7., 3.,\n",
      "        5., 0., 7., 0., 9., 9., 5., 3., 6., 7., 8., 5., 1., 4., 6., 9., 9., 7.,\n",
      "        2., 1., 9., 0., 6., 0., 4., 6., 3., 1., 8., 5., 3., 2., 6., 2., 7., 8.,\n",
      "        9., 9., 6.], dtype=torch.float64)\n",
      "\n",
      "Accuracy: tensor(0.3600)\n",
      "\n",
      "tensor(2.7451, grad_fn=<DivBackward1>)\n"
     ]
    },
    {
     "name": "stderr",
     "output_type": "stream",
     "text": [
      " 23%|██▎       | 23/100 [12:46<43:19, 33.76s/it]"
     ]
    },
    {
     "name": "stdout",
     "output_type": "stream",
     "text": [
      "tensor([4, 9, 2, 0, 0, 2, 3, 3, 6, 1, 1, 2, 3, 1, 6, 7, 4, 7, 7, 0, 4, 9, 2, 0,\n",
      "        1, 0, 3, 1, 0, 0, 7, 4, 9, 7, 7, 3, 9, 0, 7, 0, 9, 0, 6, 5, 8, 7, 1, 6,\n",
      "        1, 4, 0, 5, 5, 7, 0, 2, 9, 2, 0, 0, 7, 0, 3, 9, 1, 6, 9, 0, 0, 1, 6, 8,\n",
      "        5, 9, 8])\n",
      "tensor([0., 1., 0., 2., 3., 0., 3., 3., 0., 1., 1., 0., 3., 1., 7., 5., 4., 4.,\n",
      "        7., 0., 6., 9., 0., 5., 6., 2., 3., 8., 2., 2., 7., 4., 1., 8., 7., 3.,\n",
      "        5., 0., 7., 0., 9., 9., 5., 3., 6., 7., 8., 5., 1., 4., 6., 9., 9., 7.,\n",
      "        2., 1., 9., 0., 6., 0., 4., 6., 3., 1., 8., 5., 3., 2., 6., 2., 7., 8.,\n",
      "        9., 9., 6.], dtype=torch.float64)\n",
      "\n",
      "Accuracy: tensor(0.3733)\n",
      "\n",
      "tensor(2.6281, grad_fn=<DivBackward1>)\n"
     ]
    },
    {
     "name": "stderr",
     "output_type": "stream",
     "text": [
      " 24%|██▍       | 24/100 [13:18<42:14, 33.35s/it]"
     ]
    },
    {
     "name": "stdout",
     "output_type": "stream",
     "text": [
      "tensor([4, 9, 2, 0, 0, 2, 3, 3, 6, 1, 1, 2, 3, 1, 6, 7, 4, 7, 7, 0, 4, 9, 2, 0,\n",
      "        1, 0, 3, 1, 0, 0, 7, 4, 9, 7, 7, 3, 9, 0, 7, 0, 9, 0, 6, 5, 8, 7, 1, 6,\n",
      "        1, 4, 0, 5, 5, 7, 0, 2, 9, 2, 0, 0, 7, 0, 3, 9, 1, 6, 9, 0, 0, 1, 6, 8,\n",
      "        5, 9, 8])\n",
      "tensor([0., 1., 0., 2., 3., 0., 3., 3., 0., 1., 1., 0., 3., 1., 7., 5., 4., 4.,\n",
      "        7., 0., 6., 9., 0., 5., 6., 2., 3., 8., 2., 2., 7., 4., 1., 8., 7., 3.,\n",
      "        5., 0., 7., 0., 9., 9., 5., 3., 6., 7., 8., 5., 1., 4., 6., 9., 9., 7.,\n",
      "        2., 1., 9., 0., 6., 0., 4., 6., 3., 1., 8., 5., 3., 2., 6., 2., 7., 8.,\n",
      "        9., 9., 6.], dtype=torch.float64)\n",
      "\n",
      "Accuracy: tensor(0.3733)\n",
      "\n",
      "tensor(2.5332, grad_fn=<DivBackward1>)\n"
     ]
    },
    {
     "name": "stderr",
     "output_type": "stream",
     "text": [
      " 25%|██▌       | 25/100 [13:52<41:44, 33.40s/it]"
     ]
    },
    {
     "name": "stdout",
     "output_type": "stream",
     "text": [
      "tensor([4, 9, 2, 0, 6, 2, 3, 3, 6, 1, 1, 2, 3, 1, 6, 7, 4, 7, 7, 0, 4, 9, 2, 0,\n",
      "        0, 0, 3, 1, 0, 0, 7, 4, 9, 7, 7, 3, 9, 0, 7, 0, 9, 9, 6, 5, 8, 7, 1, 6,\n",
      "        1, 4, 0, 9, 5, 7, 0, 2, 9, 2, 0, 0, 4, 0, 3, 9, 1, 6, 9, 0, 0, 1, 6, 8,\n",
      "        5, 9, 8])\n",
      "tensor([0., 1., 0., 2., 3., 0., 3., 3., 0., 1., 1., 0., 3., 1., 7., 5., 4., 4.,\n",
      "        7., 0., 6., 9., 0., 5., 6., 2., 3., 8., 2., 2., 7., 4., 1., 8., 7., 3.,\n",
      "        5., 0., 7., 0., 9., 9., 5., 3., 6., 7., 8., 5., 1., 4., 6., 9., 9., 7.,\n",
      "        2., 1., 9., 0., 6., 0., 4., 6., 3., 1., 8., 5., 3., 2., 6., 2., 7., 8.,\n",
      "        9., 9., 6.], dtype=torch.float64)\n",
      "\n",
      "Accuracy: tensor(0.4133)\n",
      "\n",
      "tensor(2.4320, grad_fn=<DivBackward1>)\n"
     ]
    },
    {
     "name": "stderr",
     "output_type": "stream",
     "text": [
      " 26%|██▌       | 26/100 [14:25<41:10, 33.38s/it]"
     ]
    },
    {
     "name": "stdout",
     "output_type": "stream",
     "text": [
      "tensor([4, 9, 2, 0, 6, 2, 3, 3, 6, 1, 1, 2, 3, 1, 6, 6, 4, 7, 7, 0, 4, 9, 2, 0,\n",
      "        0, 0, 3, 1, 0, 0, 7, 4, 9, 7, 7, 3, 9, 0, 7, 0, 9, 9, 6, 5, 8, 7, 1, 6,\n",
      "        1, 4, 0, 9, 5, 7, 0, 2, 9, 2, 0, 0, 4, 0, 3, 9, 1, 6, 9, 0, 0, 1, 6, 8,\n",
      "        5, 9, 8])\n",
      "tensor([0., 1., 0., 2., 3., 0., 3., 3., 0., 1., 1., 0., 3., 1., 7., 5., 4., 4.,\n",
      "        7., 0., 6., 9., 0., 5., 6., 2., 3., 8., 2., 2., 7., 4., 1., 8., 7., 3.,\n",
      "        5., 0., 7., 0., 9., 9., 5., 3., 6., 7., 8., 5., 1., 4., 6., 9., 9., 7.,\n",
      "        2., 1., 9., 0., 6., 0., 4., 6., 3., 1., 8., 5., 3., 2., 6., 2., 7., 8.,\n",
      "        9., 9., 6.], dtype=torch.float64)\n",
      "\n",
      "Accuracy: tensor(0.4133)\n",
      "\n",
      "tensor(2.3295, grad_fn=<DivBackward1>)\n"
     ]
    },
    {
     "name": "stderr",
     "output_type": "stream",
     "text": [
      " 27%|██▋       | 27/100 [15:00<41:13, 33.89s/it]"
     ]
    },
    {
     "name": "stdout",
     "output_type": "stream",
     "text": [
      "tensor([4, 9, 2, 0, 6, 2, 3, 3, 6, 1, 1, 2, 3, 1, 6, 6, 4, 7, 7, 0, 4, 9, 2, 0,\n",
      "        0, 0, 3, 1, 0, 0, 7, 4, 9, 7, 7, 3, 9, 0, 7, 0, 9, 9, 6, 5, 8, 7, 6, 6,\n",
      "        1, 4, 0, 9, 5, 7, 0, 2, 9, 2, 0, 0, 4, 0, 3, 9, 1, 6, 9, 0, 0, 1, 6, 8,\n",
      "        5, 9, 8])\n",
      "tensor([0., 1., 0., 2., 3., 0., 3., 3., 0., 1., 1., 0., 3., 1., 7., 5., 4., 4.,\n",
      "        7., 0., 6., 9., 0., 5., 6., 2., 3., 8., 2., 2., 7., 4., 1., 8., 7., 3.,\n",
      "        5., 0., 7., 0., 9., 9., 5., 3., 6., 7., 8., 5., 1., 4., 6., 9., 9., 7.,\n",
      "        2., 1., 9., 0., 6., 0., 4., 6., 3., 1., 8., 5., 3., 2., 6., 2., 7., 8.,\n",
      "        9., 9., 6.], dtype=torch.float64)\n",
      "\n",
      "Accuracy: tensor(0.4133)\n",
      "\n",
      "tensor(2.2479, grad_fn=<DivBackward1>)\n"
     ]
    },
    {
     "name": "stderr",
     "output_type": "stream",
     "text": [
      " 28%|██▊       | 28/100 [15:35<40:57, 34.13s/it]"
     ]
    },
    {
     "name": "stdout",
     "output_type": "stream",
     "text": [
      "tensor([4, 9, 6, 0, 6, 2, 3, 3, 6, 1, 1, 2, 3, 1, 6, 6, 4, 4, 7, 0, 4, 9, 2, 0,\n",
      "        0, 0, 3, 1, 0, 0, 7, 4, 9, 8, 7, 3, 9, 0, 7, 0, 9, 9, 6, 5, 8, 7, 6, 6,\n",
      "        1, 4, 0, 9, 5, 7, 0, 2, 9, 2, 0, 0, 4, 0, 3, 9, 1, 6, 9, 0, 0, 1, 6, 8,\n",
      "        5, 9, 8])\n",
      "tensor([0., 1., 0., 2., 3., 0., 3., 3., 0., 1., 1., 0., 3., 1., 7., 5., 4., 4.,\n",
      "        7., 0., 6., 9., 0., 5., 6., 2., 3., 8., 2., 2., 7., 4., 1., 8., 7., 3.,\n",
      "        5., 0., 7., 0., 9., 9., 5., 3., 6., 7., 8., 5., 1., 4., 6., 9., 9., 7.,\n",
      "        2., 1., 9., 0., 6., 0., 4., 6., 3., 1., 8., 5., 3., 2., 6., 2., 7., 8.,\n",
      "        9., 9., 6.], dtype=torch.float64)\n",
      "\n",
      "Accuracy: tensor(0.4400)\n",
      "\n",
      "tensor(2.1528, grad_fn=<DivBackward1>)\n"
     ]
    },
    {
     "name": "stderr",
     "output_type": "stream",
     "text": [
      " 29%|██▉       | 29/100 [16:10<40:48, 34.48s/it]"
     ]
    },
    {
     "name": "stdout",
     "output_type": "stream",
     "text": [
      "tensor([4, 9, 6, 0, 6, 2, 3, 3, 6, 1, 1, 2, 3, 1, 6, 6, 4, 4, 7, 0, 4, 9, 8, 0,\n",
      "        1, 0, 3, 1, 0, 0, 7, 4, 9, 8, 7, 3, 9, 0, 7, 0, 9, 9, 6, 5, 8, 7, 6, 6,\n",
      "        1, 4, 0, 9, 5, 7, 0, 2, 9, 2, 0, 0, 4, 0, 3, 9, 1, 6, 9, 3, 0, 1, 6, 8,\n",
      "        5, 9, 8])\n",
      "tensor([0., 1., 0., 2., 3., 0., 3., 3., 0., 1., 1., 0., 3., 1., 7., 5., 4., 4.,\n",
      "        7., 0., 6., 9., 0., 5., 6., 2., 3., 8., 2., 2., 7., 4., 1., 8., 7., 3.,\n",
      "        5., 0., 7., 0., 9., 9., 5., 3., 6., 7., 8., 5., 1., 4., 6., 9., 9., 7.,\n",
      "        2., 1., 9., 0., 6., 0., 4., 6., 3., 1., 8., 5., 3., 2., 6., 2., 7., 8.,\n",
      "        9., 9., 6.], dtype=torch.float64)\n",
      "\n",
      "Accuracy: tensor(0.4400)\n",
      "\n",
      "tensor(2.0720, grad_fn=<DivBackward1>)\n"
     ]
    },
    {
     "name": "stderr",
     "output_type": "stream",
     "text": [
      " 30%|███       | 30/100 [16:45<40:21, 34.59s/it]"
     ]
    },
    {
     "name": "stdout",
     "output_type": "stream",
     "text": [
      "tensor([0, 9, 6, 0, 6, 2, 3, 3, 6, 1, 1, 2, 3, 1, 6, 6, 4, 4, 7, 0, 6, 9, 8, 0,\n",
      "        1, 0, 3, 1, 0, 0, 7, 4, 1, 8, 7, 3, 9, 0, 7, 0, 9, 9, 6, 5, 8, 7, 6, 6,\n",
      "        1, 4, 0, 9, 5, 7, 0, 2, 9, 2, 0, 0, 4, 0, 3, 9, 1, 6, 9, 3, 0, 1, 6, 8,\n",
      "        5, 9, 8])\n",
      "tensor([0., 1., 0., 2., 3., 0., 3., 3., 0., 1., 1., 0., 3., 1., 7., 5., 4., 4.,\n",
      "        7., 0., 6., 9., 0., 5., 6., 2., 3., 8., 2., 2., 7., 4., 1., 8., 7., 3.,\n",
      "        5., 0., 7., 0., 9., 9., 5., 3., 6., 7., 8., 5., 1., 4., 6., 9., 9., 7.,\n",
      "        2., 1., 9., 0., 6., 0., 4., 6., 3., 1., 8., 5., 3., 2., 6., 2., 7., 8.,\n",
      "        9., 9., 6.], dtype=torch.float64)\n",
      "\n",
      "Accuracy: tensor(0.4800)\n",
      "\n",
      "tensor(1.9825, grad_fn=<DivBackward1>)\n"
     ]
    },
    {
     "name": "stderr",
     "output_type": "stream",
     "text": [
      " 31%|███       | 31/100 [17:18<39:21, 34.23s/it]"
     ]
    },
    {
     "name": "stdout",
     "output_type": "stream",
     "text": [
      "tensor([0, 9, 6, 0, 6, 2, 3, 3, 6, 1, 1, 2, 3, 1, 6, 6, 4, 4, 7, 0, 6, 9, 8, 0,\n",
      "        1, 0, 3, 1, 0, 0, 7, 4, 1, 8, 7, 3, 9, 0, 7, 0, 9, 9, 6, 5, 8, 7, 6, 6,\n",
      "        1, 4, 6, 9, 5, 7, 0, 2, 9, 2, 0, 0, 4, 8, 3, 9, 1, 6, 9, 3, 0, 1, 6, 8,\n",
      "        5, 9, 8])\n",
      "tensor([0., 1., 0., 2., 3., 0., 3., 3., 0., 1., 1., 0., 3., 1., 7., 5., 4., 4.,\n",
      "        7., 0., 6., 9., 0., 5., 6., 2., 3., 8., 2., 2., 7., 4., 1., 8., 7., 3.,\n",
      "        5., 0., 7., 0., 9., 9., 5., 3., 6., 7., 8., 5., 1., 4., 6., 9., 9., 7.,\n",
      "        2., 1., 9., 0., 6., 0., 4., 6., 3., 1., 8., 5., 3., 2., 6., 2., 7., 8.,\n",
      "        9., 9., 6.], dtype=torch.float64)\n",
      "\n",
      "Accuracy: tensor(0.4933)\n",
      "\n",
      "tensor(1.9026, grad_fn=<DivBackward1>)\n"
     ]
    },
    {
     "name": "stderr",
     "output_type": "stream",
     "text": [
      " 32%|███▏      | 32/100 [17:52<38:39, 34.12s/it]"
     ]
    },
    {
     "name": "stdout",
     "output_type": "stream",
     "text": [
      "tensor([0, 9, 6, 0, 6, 2, 3, 3, 6, 1, 1, 2, 3, 1, 6, 6, 4, 4, 7, 0, 6, 9, 8, 0,\n",
      "        1, 0, 3, 1, 0, 0, 7, 4, 1, 8, 7, 3, 9, 0, 7, 0, 9, 9, 6, 5, 8, 7, 6, 6,\n",
      "        1, 4, 6, 9, 9, 7, 0, 2, 9, 2, 0, 0, 4, 8, 3, 1, 6, 5, 9, 3, 0, 1, 6, 8,\n",
      "        5, 9, 8])\n",
      "tensor([0., 1., 0., 2., 3., 0., 3., 3., 0., 1., 1., 0., 3., 1., 7., 5., 4., 4.,\n",
      "        7., 0., 6., 9., 0., 5., 6., 2., 3., 8., 2., 2., 7., 4., 1., 8., 7., 3.,\n",
      "        5., 0., 7., 0., 9., 9., 5., 3., 6., 7., 8., 5., 1., 4., 6., 9., 9., 7.,\n",
      "        2., 1., 9., 0., 6., 0., 4., 6., 3., 1., 8., 5., 3., 2., 6., 2., 7., 8.,\n",
      "        9., 9., 6.], dtype=torch.float64)\n",
      "\n",
      "Accuracy: tensor(0.5333)\n",
      "\n",
      "tensor(1.8218, grad_fn=<DivBackward1>)\n"
     ]
    },
    {
     "name": "stderr",
     "output_type": "stream",
     "text": [
      " 33%|███▎      | 33/100 [18:27<38:17, 34.28s/it]"
     ]
    },
    {
     "name": "stdout",
     "output_type": "stream",
     "text": [
      "tensor([0, 9, 6, 0, 6, 2, 3, 3, 6, 1, 1, 2, 3, 1, 6, 6, 4, 4, 7, 0, 6, 9, 8, 0,\n",
      "        1, 0, 3, 1, 0, 3, 7, 4, 1, 8, 7, 3, 9, 0, 7, 0, 9, 9, 3, 3, 8, 7, 6, 6,\n",
      "        1, 4, 6, 9, 9, 7, 0, 2, 9, 2, 6, 0, 4, 8, 3, 1, 1, 5, 9, 3, 0, 1, 6, 8,\n",
      "        5, 9, 8])\n",
      "tensor([0., 1., 0., 2., 3., 0., 3., 3., 0., 1., 1., 0., 3., 1., 7., 5., 4., 4.,\n",
      "        7., 0., 6., 9., 0., 5., 6., 2., 3., 8., 2., 2., 7., 4., 1., 8., 7., 3.,\n",
      "        5., 0., 7., 0., 9., 9., 5., 3., 6., 7., 8., 5., 1., 4., 6., 9., 9., 7.,\n",
      "        2., 1., 9., 0., 6., 0., 4., 6., 3., 1., 8., 5., 3., 2., 6., 2., 7., 8.,\n",
      "        9., 9., 6.], dtype=torch.float64)\n",
      "\n",
      "Accuracy: tensor(0.5600)\n",
      "\n",
      "tensor(1.7585, grad_fn=<DivBackward1>)\n"
     ]
    },
    {
     "name": "stderr",
     "output_type": "stream",
     "text": [
      " 34%|███▍      | 34/100 [19:02<38:02, 34.59s/it]"
     ]
    },
    {
     "name": "stdout",
     "output_type": "stream",
     "text": [
      "tensor([0, 1, 6, 0, 6, 2, 3, 3, 6, 1, 1, 2, 3, 1, 6, 6, 4, 5, 7, 0, 6, 9, 8, 6,\n",
      "        1, 0, 3, 2, 0, 3, 7, 4, 1, 8, 7, 3, 9, 0, 7, 0, 9, 9, 3, 5, 8, 7, 6, 6,\n",
      "        1, 4, 6, 9, 9, 7, 0, 2, 9, 2, 6, 0, 4, 8, 3, 1, 6, 5, 9, 3, 0, 1, 6, 8,\n",
      "        5, 9, 8])\n",
      "tensor([0., 1., 0., 2., 3., 0., 3., 3., 0., 1., 1., 0., 3., 1., 7., 5., 4., 4.,\n",
      "        7., 0., 6., 9., 0., 5., 6., 2., 3., 8., 2., 2., 7., 4., 1., 8., 7., 3.,\n",
      "        5., 0., 7., 0., 9., 9., 5., 3., 6., 7., 8., 5., 1., 4., 6., 9., 9., 7.,\n",
      "        2., 1., 9., 0., 6., 0., 4., 6., 3., 1., 8., 5., 3., 2., 6., 2., 7., 8.,\n",
      "        9., 9., 6.], dtype=torch.float64)\n",
      "\n",
      "Accuracy: tensor(0.5467)\n",
      "\n",
      "tensor(1.6860, grad_fn=<DivBackward1>)\n"
     ]
    },
    {
     "name": "stderr",
     "output_type": "stream",
     "text": [
      " 35%|███▌      | 35/100 [19:38<37:41, 34.80s/it]"
     ]
    },
    {
     "name": "stdout",
     "output_type": "stream",
     "text": [
      "tensor([0, 1, 6, 0, 6, 2, 3, 3, 6, 1, 1, 2, 3, 1, 6, 6, 4, 4, 7, 0, 6, 9, 8, 6,\n",
      "        1, 0, 3, 2, 0, 3, 7, 4, 1, 8, 7, 3, 9, 0, 7, 0, 9, 9, 5, 3, 8, 7, 6, 6,\n",
      "        1, 4, 6, 9, 9, 7, 0, 2, 9, 0, 6, 0, 4, 8, 3, 1, 6, 5, 3, 3, 0, 1, 6, 8,\n",
      "        5, 9, 8])\n",
      "tensor([0., 1., 0., 2., 3., 0., 3., 3., 0., 1., 1., 0., 3., 1., 7., 5., 4., 4.,\n",
      "        7., 0., 6., 9., 0., 5., 6., 2., 3., 8., 2., 2., 7., 4., 1., 8., 7., 3.,\n",
      "        5., 0., 7., 0., 9., 9., 5., 3., 6., 7., 8., 5., 1., 4., 6., 9., 9., 7.,\n",
      "        2., 1., 9., 0., 6., 0., 4., 6., 3., 1., 8., 5., 3., 2., 6., 2., 7., 8.,\n",
      "        9., 9., 6.], dtype=torch.float64)\n",
      "\n",
      "Accuracy: tensor(0.6133)\n",
      "\n",
      "tensor(1.6248, grad_fn=<DivBackward1>)\n"
     ]
    },
    {
     "name": "stderr",
     "output_type": "stream",
     "text": [
      " 36%|███▌      | 36/100 [20:10<36:15, 33.99s/it]"
     ]
    },
    {
     "name": "stdout",
     "output_type": "stream",
     "text": [
      "tensor([0, 1, 6, 0, 6, 2, 3, 3, 6, 1, 1, 2, 3, 1, 6, 6, 4, 5, 7, 0, 6, 9, 8, 6,\n",
      "        1, 0, 3, 2, 0, 3, 7, 4, 1, 8, 7, 3, 9, 0, 7, 0, 9, 9, 5, 3, 8, 7, 6, 5,\n",
      "        1, 4, 6, 9, 9, 7, 0, 2, 9, 0, 6, 0, 4, 8, 3, 1, 6, 5, 3, 3, 0, 1, 6, 8,\n",
      "        5, 9, 8])\n",
      "tensor([0., 1., 0., 2., 3., 0., 3., 3., 0., 1., 1., 0., 3., 1., 7., 5., 4., 4.,\n",
      "        7., 0., 6., 9., 0., 5., 6., 2., 3., 8., 2., 2., 7., 4., 1., 8., 7., 3.,\n",
      "        5., 0., 7., 0., 9., 9., 5., 3., 6., 7., 8., 5., 1., 4., 6., 9., 9., 7.,\n",
      "        2., 1., 9., 0., 6., 0., 4., 6., 3., 1., 8., 5., 3., 2., 6., 2., 7., 8.,\n",
      "        9., 9., 6.], dtype=torch.float64)\n",
      "\n",
      "Accuracy: tensor(0.6133)\n",
      "\n",
      "tensor(1.5610, grad_fn=<DivBackward1>)\n"
     ]
    },
    {
     "name": "stderr",
     "output_type": "stream",
     "text": [
      " 37%|███▋      | 37/100 [20:44<35:46, 34.07s/it]"
     ]
    },
    {
     "name": "stdout",
     "output_type": "stream",
     "text": [
      "tensor([0, 1, 6, 0, 6, 2, 3, 3, 6, 1, 1, 2, 3, 1, 7, 6, 4, 5, 7, 0, 6, 9, 8, 6,\n",
      "        1, 0, 3, 2, 0, 3, 7, 4, 1, 8, 7, 3, 9, 0, 7, 0, 9, 9, 5, 3, 8, 7, 6, 5,\n",
      "        1, 4, 6, 9, 9, 7, 0, 2, 9, 0, 6, 0, 4, 8, 3, 1, 6, 5, 3, 3, 6, 1, 7, 8,\n",
      "        5, 9, 8])\n",
      "tensor([0., 1., 0., 2., 3., 0., 3., 3., 0., 1., 1., 0., 3., 1., 7., 5., 4., 4.,\n",
      "        7., 0., 6., 9., 0., 5., 6., 2., 3., 8., 2., 2., 7., 4., 1., 8., 7., 3.,\n",
      "        5., 0., 7., 0., 9., 9., 5., 3., 6., 7., 8., 5., 1., 4., 6., 9., 9., 7.,\n",
      "        2., 1., 9., 0., 6., 0., 4., 6., 3., 1., 8., 5., 3., 2., 6., 2., 7., 8.,\n",
      "        9., 9., 6.], dtype=torch.float64)\n",
      "\n",
      "Accuracy: tensor(0.6533)\n",
      "\n",
      "tensor(1.5028, grad_fn=<DivBackward1>)\n"
     ]
    },
    {
     "name": "stderr",
     "output_type": "stream",
     "text": [
      " 38%|███▊      | 38/100 [21:19<35:30, 34.36s/it]"
     ]
    },
    {
     "name": "stdout",
     "output_type": "stream",
     "text": [
      "tensor([0, 1, 6, 0, 6, 2, 3, 3, 6, 1, 1, 2, 3, 1, 7, 8, 4, 4, 7, 0, 6, 9, 8, 8,\n",
      "        1, 0, 3, 2, 0, 3, 7, 4, 1, 8, 7, 3, 9, 0, 7, 0, 9, 9, 5, 3, 8, 7, 6, 5,\n",
      "        1, 4, 6, 9, 9, 7, 0, 2, 9, 0, 6, 0, 4, 8, 3, 1, 6, 5, 3, 3, 6, 1, 7, 8,\n",
      "        5, 9, 8])\n",
      "tensor([0., 1., 0., 2., 3., 0., 3., 3., 0., 1., 1., 0., 3., 1., 7., 5., 4., 4.,\n",
      "        7., 0., 6., 9., 0., 5., 6., 2., 3., 8., 2., 2., 7., 4., 1., 8., 7., 3.,\n",
      "        5., 0., 7., 0., 9., 9., 5., 3., 6., 7., 8., 5., 1., 4., 6., 9., 9., 7.,\n",
      "        2., 1., 9., 0., 6., 0., 4., 6., 3., 1., 8., 5., 3., 2., 6., 2., 7., 8.,\n",
      "        9., 9., 6.], dtype=torch.float64)\n",
      "\n",
      "Accuracy: tensor(0.6667)\n",
      "\n",
      "tensor(1.4447, grad_fn=<DivBackward1>)\n"
     ]
    },
    {
     "name": "stderr",
     "output_type": "stream",
     "text": [
      " 39%|███▉      | 39/100 [21:53<34:55, 34.36s/it]"
     ]
    },
    {
     "name": "stdout",
     "output_type": "stream",
     "text": [
      "tensor([0, 1, 6, 0, 6, 2, 3, 3, 6, 1, 1, 2, 3, 1, 7, 8, 4, 5, 7, 0, 6, 9, 8, 8,\n",
      "        1, 0, 3, 2, 0, 3, 7, 4, 1, 8, 7, 3, 9, 0, 7, 0, 9, 9, 5, 3, 8, 7, 6, 5,\n",
      "        1, 4, 6, 9, 9, 7, 0, 1, 9, 0, 6, 0, 4, 8, 3, 1, 6, 5, 3, 3, 6, 1, 7, 8,\n",
      "        5, 9, 8])\n",
      "tensor([0., 1., 0., 2., 3., 0., 3., 3., 0., 1., 1., 0., 3., 1., 7., 5., 4., 4.,\n",
      "        7., 0., 6., 9., 0., 5., 6., 2., 3., 8., 2., 2., 7., 4., 1., 8., 7., 3.,\n",
      "        5., 0., 7., 0., 9., 9., 5., 3., 6., 7., 8., 5., 1., 4., 6., 9., 9., 7.,\n",
      "        2., 1., 9., 0., 6., 0., 4., 6., 3., 1., 8., 5., 3., 2., 6., 2., 7., 8.,\n",
      "        9., 9., 6.], dtype=torch.float64)\n",
      "\n",
      "Accuracy: tensor(0.6667)\n",
      "\n",
      "tensor(1.3811, grad_fn=<DivBackward1>)\n"
     ]
    },
    {
     "name": "stderr",
     "output_type": "stream",
     "text": [
      " 40%|████      | 40/100 [22:27<34:17, 34.30s/it]"
     ]
    },
    {
     "name": "stdout",
     "output_type": "stream",
     "text": [
      "tensor([0, 1, 6, 0, 6, 2, 3, 3, 6, 1, 1, 2, 3, 1, 7, 8, 4, 4, 7, 0, 6, 9, 8, 8,\n",
      "        1, 0, 3, 2, 0, 3, 7, 4, 1, 8, 7, 3, 9, 0, 7, 0, 9, 9, 5, 3, 8, 7, 6, 5,\n",
      "        1, 4, 6, 9, 9, 7, 0, 2, 9, 0, 6, 0, 4, 8, 3, 1, 6, 5, 3, 3, 6, 1, 7, 8,\n",
      "        5, 9, 8])\n",
      "tensor([0., 1., 0., 2., 3., 0., 3., 3., 0., 1., 1., 0., 3., 1., 7., 5., 4., 4.,\n",
      "        7., 0., 6., 9., 0., 5., 6., 2., 3., 8., 2., 2., 7., 4., 1., 8., 7., 3.,\n",
      "        5., 0., 7., 0., 9., 9., 5., 3., 6., 7., 8., 5., 1., 4., 6., 9., 9., 7.,\n",
      "        2., 1., 9., 0., 6., 0., 4., 6., 3., 1., 8., 5., 3., 2., 6., 2., 7., 8.,\n",
      "        9., 9., 6.], dtype=torch.float64)\n",
      "\n",
      "Accuracy: tensor(0.6667)\n",
      "\n",
      "tensor(1.3273, grad_fn=<DivBackward1>)\n"
     ]
    },
    {
     "name": "stderr",
     "output_type": "stream",
     "text": [
      " 41%|████      | 41/100 [23:02<33:51, 34.44s/it]"
     ]
    },
    {
     "name": "stdout",
     "output_type": "stream",
     "text": [
      "tensor([0, 1, 6, 0, 6, 2, 3, 3, 6, 1, 1, 2, 3, 1, 7, 8, 4, 5, 7, 0, 6, 9, 8, 8,\n",
      "        1, 0, 3, 2, 0, 3, 7, 4, 1, 8, 7, 3, 9, 0, 7, 0, 9, 9, 5, 3, 8, 7, 6, 5,\n",
      "        1, 4, 6, 9, 9, 7, 0, 2, 9, 0, 6, 0, 4, 8, 3, 1, 2, 5, 3, 3, 6, 1, 7, 8,\n",
      "        5, 9, 6])\n",
      "tensor([0., 1., 0., 2., 3., 0., 3., 3., 0., 1., 1., 0., 3., 1., 7., 5., 4., 4.,\n",
      "        7., 0., 6., 9., 0., 5., 6., 2., 3., 8., 2., 2., 7., 4., 1., 8., 7., 3.,\n",
      "        5., 0., 7., 0., 9., 9., 5., 3., 6., 7., 8., 5., 1., 4., 6., 9., 9., 7.,\n",
      "        2., 1., 9., 0., 6., 0., 4., 6., 3., 1., 8., 5., 3., 2., 6., 2., 7., 8.,\n",
      "        9., 9., 6.], dtype=torch.float64)\n",
      "\n",
      "Accuracy: tensor(0.6667)\n",
      "\n",
      "tensor(1.2769, grad_fn=<DivBackward1>)\n"
     ]
    },
    {
     "name": "stderr",
     "output_type": "stream",
     "text": [
      " 42%|████▏     | 42/100 [23:36<33:03, 34.19s/it]"
     ]
    },
    {
     "name": "stdout",
     "output_type": "stream",
     "text": [
      "tensor([0, 1, 0, 0, 6, 2, 3, 3, 0, 1, 1, 2, 3, 1, 7, 8, 4, 4, 7, 0, 6, 9, 8, 8,\n",
      "        1, 0, 3, 2, 0, 3, 7, 4, 1, 8, 7, 3, 9, 0, 7, 0, 9, 9, 5, 3, 8, 7, 6, 5,\n",
      "        1, 4, 6, 9, 9, 7, 0, 1, 9, 0, 6, 0, 4, 8, 3, 1, 2, 5, 3, 3, 6, 1, 7, 8,\n",
      "        9, 9, 6])\n",
      "tensor([0., 1., 0., 2., 3., 0., 3., 3., 0., 1., 1., 0., 3., 1., 7., 5., 4., 4.,\n",
      "        7., 0., 6., 9., 0., 5., 6., 2., 3., 8., 2., 2., 7., 4., 1., 8., 7., 3.,\n",
      "        5., 0., 7., 0., 9., 9., 5., 3., 6., 7., 8., 5., 1., 4., 6., 9., 9., 7.,\n",
      "        2., 1., 9., 0., 6., 0., 4., 6., 3., 1., 8., 5., 3., 2., 6., 2., 7., 8.,\n",
      "        9., 9., 6.], dtype=torch.float64)\n",
      "\n",
      "Accuracy: tensor(0.7333)\n",
      "\n",
      "tensor(1.2263, grad_fn=<DivBackward1>)\n"
     ]
    },
    {
     "name": "stderr",
     "output_type": "stream",
     "text": [
      " 43%|████▎     | 43/100 [24:08<32:01, 33.71s/it]"
     ]
    },
    {
     "name": "stdout",
     "output_type": "stream",
     "text": [
      "tensor([0, 1, 0, 0, 6, 2, 3, 3, 0, 1, 1, 2, 3, 1, 7, 8, 4, 4, 7, 0, 6, 9, 8, 8,\n",
      "        1, 0, 3, 8, 0, 3, 7, 4, 1, 8, 7, 3, 9, 0, 7, 0, 9, 9, 5, 3, 8, 7, 6, 5,\n",
      "        1, 4, 6, 9, 9, 7, 0, 2, 9, 0, 6, 0, 4, 8, 3, 1, 2, 5, 3, 3, 6, 1, 7, 8,\n",
      "        9, 9, 6])\n",
      "tensor([0., 1., 0., 2., 3., 0., 3., 3., 0., 1., 1., 0., 3., 1., 7., 5., 4., 4.,\n",
      "        7., 0., 6., 9., 0., 5., 6., 2., 3., 8., 2., 2., 7., 4., 1., 8., 7., 3.,\n",
      "        5., 0., 7., 0., 9., 9., 5., 3., 6., 7., 8., 5., 1., 4., 6., 9., 9., 7.,\n",
      "        2., 1., 9., 0., 6., 0., 4., 6., 3., 1., 8., 5., 3., 2., 6., 2., 7., 8.,\n",
      "        9., 9., 6.], dtype=torch.float64)\n",
      "\n",
      "Accuracy: tensor(0.7333)\n",
      "\n",
      "tensor(1.1801, grad_fn=<DivBackward1>)\n"
     ]
    },
    {
     "name": "stderr",
     "output_type": "stream",
     "text": [
      " 44%|████▍     | 44/100 [24:41<31:04, 33.29s/it]"
     ]
    },
    {
     "name": "stdout",
     "output_type": "stream",
     "text": [
      "tensor([0, 1, 0, 0, 6, 2, 3, 3, 0, 1, 1, 2, 3, 1, 7, 8, 4, 4, 7, 0, 6, 9, 8, 8,\n",
      "        1, 0, 3, 8, 0, 3, 7, 4, 1, 8, 7, 3, 9, 0, 7, 0, 9, 9, 5, 3, 8, 7, 6, 5,\n",
      "        1, 4, 6, 9, 9, 7, 0, 2, 9, 0, 6, 0, 4, 8, 3, 1, 2, 5, 3, 3, 6, 1, 7, 8,\n",
      "        9, 9, 6])\n",
      "tensor([0., 1., 0., 2., 3., 0., 3., 3., 0., 1., 1., 0., 3., 1., 7., 5., 4., 4.,\n",
      "        7., 0., 6., 9., 0., 5., 6., 2., 3., 8., 2., 2., 7., 4., 1., 8., 7., 3.,\n",
      "        5., 0., 7., 0., 9., 9., 5., 3., 6., 7., 8., 5., 1., 4., 6., 9., 9., 7.,\n",
      "        2., 1., 9., 0., 6., 0., 4., 6., 3., 1., 8., 5., 3., 2., 6., 2., 7., 8.,\n",
      "        9., 9., 6.], dtype=torch.float64)\n",
      "\n",
      "Accuracy: tensor(0.7333)\n",
      "\n",
      "tensor(1.1303, grad_fn=<DivBackward1>)\n"
     ]
    },
    {
     "name": "stderr",
     "output_type": "stream",
     "text": [
      " 45%|████▌     | 45/100 [25:14<30:22, 33.14s/it]"
     ]
    },
    {
     "name": "stdout",
     "output_type": "stream",
     "text": [
      "tensor([0, 1, 0, 0, 6, 2, 3, 3, 0, 1, 1, 2, 3, 1, 7, 8, 4, 4, 7, 0, 6, 9, 8, 8,\n",
      "        1, 0, 3, 8, 0, 3, 7, 4, 1, 8, 7, 3, 9, 0, 7, 0, 9, 9, 5, 3, 8, 7, 6, 5,\n",
      "        1, 4, 6, 9, 9, 7, 0, 2, 9, 0, 6, 0, 4, 8, 3, 1, 2, 5, 3, 3, 6, 1, 7, 8,\n",
      "        9, 9, 6])\n",
      "tensor([0., 1., 0., 2., 3., 0., 3., 3., 0., 1., 1., 0., 3., 1., 7., 5., 4., 4.,\n",
      "        7., 0., 6., 9., 0., 5., 6., 2., 3., 8., 2., 2., 7., 4., 1., 8., 7., 3.,\n",
      "        5., 0., 7., 0., 9., 9., 5., 3., 6., 7., 8., 5., 1., 4., 6., 9., 9., 7.,\n",
      "        2., 1., 9., 0., 6., 0., 4., 6., 3., 1., 8., 5., 3., 2., 6., 2., 7., 8.,\n",
      "        9., 9., 6.], dtype=torch.float64)\n",
      "\n",
      "Accuracy: tensor(0.7333)\n",
      "\n",
      "tensor(1.0902, grad_fn=<DivBackward1>)\n"
     ]
    },
    {
     "name": "stderr",
     "output_type": "stream",
     "text": [
      " 46%|████▌     | 46/100 [25:48<30:14, 33.60s/it]"
     ]
    },
    {
     "name": "stdout",
     "output_type": "stream",
     "text": [
      "tensor([0, 1, 0, 0, 6, 2, 3, 3, 0, 1, 1, 2, 3, 1, 7, 8, 4, 4, 7, 0, 6, 9, 8, 8,\n",
      "        1, 0, 3, 2, 0, 3, 7, 4, 1, 8, 7, 3, 9, 0, 7, 0, 9, 9, 5, 3, 8, 7, 6, 5,\n",
      "        1, 4, 6, 9, 9, 7, 0, 2, 9, 0, 6, 0, 4, 8, 3, 1, 2, 5, 3, 3, 6, 1, 7, 8,\n",
      "        9, 9, 6])\n",
      "tensor([0., 1., 0., 2., 3., 0., 3., 3., 0., 1., 1., 0., 3., 1., 7., 5., 4., 4.,\n",
      "        7., 0., 6., 9., 0., 5., 6., 2., 3., 8., 2., 2., 7., 4., 1., 8., 7., 3.,\n",
      "        5., 0., 7., 0., 9., 9., 5., 3., 6., 7., 8., 5., 1., 4., 6., 9., 9., 7.,\n",
      "        2., 1., 9., 0., 6., 0., 4., 6., 3., 1., 8., 5., 3., 2., 6., 2., 7., 8.,\n",
      "        9., 9., 6.], dtype=torch.float64)\n",
      "\n",
      "Accuracy: tensor(0.7200)\n",
      "\n",
      "tensor(1.0529, grad_fn=<DivBackward1>)\n"
     ]
    },
    {
     "name": "stderr",
     "output_type": "stream",
     "text": [
      " 47%|████▋     | 47/100 [26:21<29:28, 33.36s/it]"
     ]
    },
    {
     "name": "stdout",
     "output_type": "stream",
     "text": [
      "tensor([0, 1, 0, 0, 6, 2, 3, 3, 0, 1, 1, 2, 3, 1, 7, 8, 4, 4, 7, 0, 6, 9, 8, 8,\n",
      "        1, 0, 3, 8, 0, 3, 7, 4, 1, 8, 7, 3, 9, 0, 7, 0, 9, 9, 5, 3, 6, 7, 6, 5,\n",
      "        1, 4, 6, 9, 9, 7, 0, 2, 9, 0, 6, 0, 4, 8, 3, 1, 2, 5, 3, 3, 6, 1, 7, 8,\n",
      "        9, 9, 6])\n",
      "tensor([0., 1., 0., 2., 3., 0., 3., 3., 0., 1., 1., 0., 3., 1., 7., 5., 4., 4.,\n",
      "        7., 0., 6., 9., 0., 5., 6., 2., 3., 8., 2., 2., 7., 4., 1., 8., 7., 3.,\n",
      "        5., 0., 7., 0., 9., 9., 5., 3., 6., 7., 8., 5., 1., 4., 6., 9., 9., 7.,\n",
      "        2., 1., 9., 0., 6., 0., 4., 6., 3., 1., 8., 5., 3., 2., 6., 2., 7., 8.,\n",
      "        9., 9., 6.], dtype=torch.float64)\n",
      "\n",
      "Accuracy: tensor(0.7467)\n",
      "\n",
      "tensor(1.0153, grad_fn=<DivBackward1>)\n"
     ]
    },
    {
     "name": "stderr",
     "output_type": "stream",
     "text": [
      " 48%|████▊     | 48/100 [26:56<29:24, 33.94s/it]"
     ]
    },
    {
     "name": "stdout",
     "output_type": "stream",
     "text": [
      "tensor([0, 1, 0, 0, 6, 2, 3, 3, 0, 1, 1, 2, 3, 1, 7, 8, 4, 4, 7, 0, 6, 9, 8, 8,\n",
      "        1, 0, 3, 8, 8, 3, 7, 4, 1, 8, 7, 3, 9, 0, 7, 0, 9, 9, 5, 3, 6, 7, 6, 5,\n",
      "        1, 4, 6, 9, 9, 7, 0, 1, 9, 0, 6, 0, 4, 8, 3, 1, 2, 5, 3, 3, 6, 1, 7, 8,\n",
      "        9, 9, 6])\n",
      "tensor([0., 1., 0., 2., 3., 0., 3., 3., 0., 1., 1., 0., 3., 1., 7., 5., 4., 4.,\n",
      "        7., 0., 6., 9., 0., 5., 6., 2., 3., 8., 2., 2., 7., 4., 1., 8., 7., 3.,\n",
      "        5., 0., 7., 0., 9., 9., 5., 3., 6., 7., 8., 5., 1., 4., 6., 9., 9., 7.,\n",
      "        2., 1., 9., 0., 6., 0., 4., 6., 3., 1., 8., 5., 3., 2., 6., 2., 7., 8.,\n",
      "        9., 9., 6.], dtype=torch.float64)\n",
      "\n",
      "Accuracy: tensor(0.7600)\n",
      "\n",
      "tensor(0.9754, grad_fn=<DivBackward1>)\n"
     ]
    },
    {
     "name": "stderr",
     "output_type": "stream",
     "text": [
      " 49%|████▉     | 49/100 [27:31<28:59, 34.10s/it]"
     ]
    },
    {
     "name": "stdout",
     "output_type": "stream",
     "text": [
      "tensor([0, 1, 0, 0, 6, 2, 3, 3, 0, 1, 1, 2, 3, 1, 7, 8, 4, 4, 7, 0, 6, 9, 8, 8,\n",
      "        1, 0, 3, 2, 8, 3, 7, 4, 1, 8, 7, 3, 9, 0, 7, 0, 9, 9, 5, 3, 6, 7, 6, 5,\n",
      "        1, 4, 6, 9, 9, 7, 0, 2, 9, 0, 6, 0, 4, 8, 3, 1, 2, 5, 3, 3, 6, 1, 7, 8,\n",
      "        9, 9, 6])\n",
      "tensor([0., 1., 0., 2., 3., 0., 3., 3., 0., 1., 1., 0., 3., 1., 7., 5., 4., 4.,\n",
      "        7., 0., 6., 9., 0., 5., 6., 2., 3., 8., 2., 2., 7., 4., 1., 8., 7., 3.,\n",
      "        5., 0., 7., 0., 9., 9., 5., 3., 6., 7., 8., 5., 1., 4., 6., 9., 9., 7.,\n",
      "        2., 1., 9., 0., 6., 0., 4., 6., 3., 1., 8., 5., 3., 2., 6., 2., 7., 8.,\n",
      "        9., 9., 6.], dtype=torch.float64)\n",
      "\n",
      "Accuracy: tensor(0.7333)\n",
      "\n",
      "tensor(0.9465, grad_fn=<DivBackward1>)\n"
     ]
    },
    {
     "name": "stderr",
     "output_type": "stream",
     "text": [
      " 50%|█████     | 50/100 [28:05<28:30, 34.20s/it]"
     ]
    },
    {
     "name": "stdout",
     "output_type": "stream",
     "text": [
      "tensor([0, 1, 0, 0, 3, 2, 3, 3, 0, 1, 1, 2, 3, 1, 7, 8, 4, 4, 7, 0, 6, 9, 0, 8,\n",
      "        1, 0, 3, 8, 8, 3, 7, 4, 1, 8, 7, 3, 9, 0, 7, 0, 9, 9, 5, 3, 6, 7, 6, 5,\n",
      "        1, 4, 6, 9, 9, 7, 0, 1, 9, 0, 6, 0, 4, 8, 3, 1, 2, 5, 3, 3, 6, 1, 7, 8,\n",
      "        9, 9, 6])\n",
      "tensor([0., 1., 0., 2., 3., 0., 3., 3., 0., 1., 1., 0., 3., 1., 7., 5., 4., 4.,\n",
      "        7., 0., 6., 9., 0., 5., 6., 2., 3., 8., 2., 2., 7., 4., 1., 8., 7., 3.,\n",
      "        5., 0., 7., 0., 9., 9., 5., 3., 6., 7., 8., 5., 1., 4., 6., 9., 9., 7.,\n",
      "        2., 1., 9., 0., 6., 0., 4., 6., 3., 1., 8., 5., 3., 2., 6., 2., 7., 8.,\n",
      "        9., 9., 6.], dtype=torch.float64)\n",
      "\n",
      "Accuracy: tensor(0.7867)\n",
      "\n",
      "tensor(0.9044, grad_fn=<DivBackward1>)\n"
     ]
    },
    {
     "name": "stderr",
     "output_type": "stream",
     "text": [
      " 51%|█████     | 51/100 [28:40<28:09, 34.48s/it]"
     ]
    },
    {
     "name": "stdout",
     "output_type": "stream",
     "text": [
      "tensor([0, 1, 0, 0, 6, 2, 3, 3, 0, 1, 1, 2, 3, 1, 7, 8, 4, 4, 7, 0, 6, 9, 0, 8,\n",
      "        1, 0, 3, 8, 8, 3, 7, 4, 1, 8, 7, 3, 9, 0, 7, 0, 9, 9, 5, 3, 6, 7, 6, 5,\n",
      "        1, 4, 6, 9, 9, 7, 0, 2, 9, 0, 6, 0, 4, 8, 3, 1, 2, 5, 3, 3, 6, 1, 7, 8,\n",
      "        9, 9, 6])\n",
      "tensor([0., 1., 0., 2., 3., 0., 3., 3., 0., 1., 1., 0., 3., 1., 7., 5., 4., 4.,\n",
      "        7., 0., 6., 9., 0., 5., 6., 2., 3., 8., 2., 2., 7., 4., 1., 8., 7., 3.,\n",
      "        5., 0., 7., 0., 9., 9., 5., 3., 6., 7., 8., 5., 1., 4., 6., 9., 9., 7.,\n",
      "        2., 1., 9., 0., 6., 0., 4., 6., 3., 1., 8., 5., 3., 2., 6., 2., 7., 8.,\n",
      "        9., 9., 6.], dtype=torch.float64)\n",
      "\n",
      "Accuracy: tensor(0.7600)\n",
      "\n",
      "tensor(0.8762, grad_fn=<DivBackward1>)\n"
     ]
    },
    {
     "name": "stderr",
     "output_type": "stream",
     "text": [
      " 52%|█████▏    | 52/100 [29:14<27:20, 34.18s/it]"
     ]
    },
    {
     "name": "stdout",
     "output_type": "stream",
     "text": [
      "tensor([0, 1, 0, 0, 3, 2, 3, 3, 0, 1, 1, 2, 3, 1, 7, 5, 4, 4, 7, 0, 6, 9, 0, 8,\n",
      "        1, 0, 3, 8, 8, 3, 7, 4, 1, 8, 7, 3, 9, 0, 7, 0, 9, 9, 5, 3, 6, 7, 6, 5,\n",
      "        1, 4, 6, 9, 9, 7, 0, 1, 9, 0, 6, 0, 4, 8, 3, 1, 2, 5, 3, 3, 6, 1, 7, 8,\n",
      "        9, 9, 6])\n",
      "tensor([0., 1., 0., 2., 3., 0., 3., 3., 0., 1., 1., 0., 3., 1., 7., 5., 4., 4.,\n",
      "        7., 0., 6., 9., 0., 5., 6., 2., 3., 8., 2., 2., 7., 4., 1., 8., 7., 3.,\n",
      "        5., 0., 7., 0., 9., 9., 5., 3., 6., 7., 8., 5., 1., 4., 6., 9., 9., 7.,\n",
      "        2., 1., 9., 0., 6., 0., 4., 6., 3., 1., 8., 5., 3., 2., 6., 2., 7., 8.,\n",
      "        9., 9., 6.], dtype=torch.float64)\n",
      "\n",
      "Accuracy: tensor(0.8000)\n",
      "\n",
      "tensor(0.8387, grad_fn=<DivBackward1>)\n"
     ]
    },
    {
     "name": "stderr",
     "output_type": "stream",
     "text": [
      " 53%|█████▎    | 53/100 [29:46<26:23, 33.69s/it]"
     ]
    },
    {
     "name": "stdout",
     "output_type": "stream",
     "text": [
      "tensor([0, 1, 0, 0, 3, 0, 3, 3, 0, 1, 1, 2, 3, 1, 7, 5, 4, 4, 7, 0, 6, 9, 0, 8,\n",
      "        1, 2, 3, 8, 8, 3, 7, 4, 1, 8, 7, 3, 9, 0, 7, 0, 9, 9, 5, 3, 6, 7, 6, 5,\n",
      "        1, 4, 6, 9, 9, 7, 0, 2, 9, 0, 6, 0, 4, 8, 3, 1, 2, 5, 3, 3, 6, 1, 7, 8,\n",
      "        9, 9, 6])\n",
      "tensor([0., 1., 0., 2., 3., 0., 3., 3., 0., 1., 1., 0., 3., 1., 7., 5., 4., 4.,\n",
      "        7., 0., 6., 9., 0., 5., 6., 2., 3., 8., 2., 2., 7., 4., 1., 8., 7., 3.,\n",
      "        5., 0., 7., 0., 9., 9., 5., 3., 6., 7., 8., 5., 1., 4., 6., 9., 9., 7.,\n",
      "        2., 1., 9., 0., 6., 0., 4., 6., 3., 1., 8., 5., 3., 2., 6., 2., 7., 8.,\n",
      "        9., 9., 6.], dtype=torch.float64)\n",
      "\n",
      "Accuracy: tensor(0.8133)\n",
      "\n",
      "tensor(0.8185, grad_fn=<DivBackward1>)\n"
     ]
    },
    {
     "name": "stderr",
     "output_type": "stream",
     "text": [
      " 54%|█████▍    | 54/100 [30:21<26:00, 33.92s/it]"
     ]
    },
    {
     "name": "stdout",
     "output_type": "stream",
     "text": [
      "tensor([0, 1, 0, 0, 3, 0, 3, 3, 0, 1, 1, 2, 3, 1, 7, 5, 4, 4, 7, 0, 6, 9, 0, 8,\n",
      "        1, 2, 3, 2, 8, 3, 7, 4, 1, 8, 7, 3, 9, 0, 7, 0, 9, 9, 5, 3, 6, 7, 6, 5,\n",
      "        1, 4, 6, 9, 9, 7, 0, 1, 9, 0, 6, 0, 4, 8, 3, 1, 2, 5, 3, 3, 6, 1, 7, 8,\n",
      "        9, 9, 6])\n",
      "tensor([0., 1., 0., 2., 3., 0., 3., 3., 0., 1., 1., 0., 3., 1., 7., 5., 4., 4.,\n",
      "        7., 0., 6., 9., 0., 5., 6., 2., 3., 8., 2., 2., 7., 4., 1., 8., 7., 3.,\n",
      "        5., 0., 7., 0., 9., 9., 5., 3., 6., 7., 8., 5., 1., 4., 6., 9., 9., 7.,\n",
      "        2., 1., 9., 0., 6., 0., 4., 6., 3., 1., 8., 5., 3., 2., 6., 2., 7., 8.,\n",
      "        9., 9., 6.], dtype=torch.float64)\n",
      "\n",
      "Accuracy: tensor(0.8133)\n",
      "\n",
      "tensor(0.7918, grad_fn=<DivBackward1>)\n"
     ]
    },
    {
     "name": "stderr",
     "output_type": "stream",
     "text": [
      " 55%|█████▌    | 55/100 [30:54<25:13, 33.64s/it]"
     ]
    },
    {
     "name": "stdout",
     "output_type": "stream",
     "text": [
      "tensor([0, 1, 0, 0, 3, 0, 3, 3, 0, 1, 1, 2, 3, 1, 7, 5, 4, 4, 7, 0, 6, 9, 0, 8,\n",
      "        1, 2, 3, 8, 8, 3, 7, 4, 1, 8, 7, 3, 9, 0, 7, 0, 9, 9, 5, 3, 6, 7, 6, 5,\n",
      "        1, 4, 6, 9, 9, 7, 0, 1, 9, 0, 6, 0, 4, 8, 3, 1, 2, 5, 3, 3, 6, 1, 7, 8,\n",
      "        9, 9, 6])\n",
      "tensor([0., 1., 0., 2., 3., 0., 3., 3., 0., 1., 1., 0., 3., 1., 7., 5., 4., 4.,\n",
      "        7., 0., 6., 9., 0., 5., 6., 2., 3., 8., 2., 2., 7., 4., 1., 8., 7., 3.,\n",
      "        5., 0., 7., 0., 9., 9., 5., 3., 6., 7., 8., 5., 1., 4., 6., 9., 9., 7.,\n",
      "        2., 1., 9., 0., 6., 0., 4., 6., 3., 1., 8., 5., 3., 2., 6., 2., 7., 8.,\n",
      "        9., 9., 6.], dtype=torch.float64)\n",
      "\n",
      "Accuracy: tensor(0.8267)\n",
      "\n",
      "tensor(0.7579, grad_fn=<DivBackward1>)\n"
     ]
    },
    {
     "name": "stderr",
     "output_type": "stream",
     "text": [
      " 56%|█████▌    | 56/100 [31:28<24:41, 33.67s/it]"
     ]
    },
    {
     "name": "stdout",
     "output_type": "stream",
     "text": [
      "tensor([0, 1, 0, 2, 3, 0, 3, 3, 0, 1, 1, 2, 3, 1, 7, 5, 4, 4, 7, 0, 6, 9, 0, 8,\n",
      "        1, 2, 3, 8, 8, 3, 7, 4, 1, 8, 7, 3, 9, 0, 7, 0, 9, 9, 5, 3, 6, 7, 6, 5,\n",
      "        1, 4, 6, 9, 9, 7, 0, 1, 9, 0, 6, 0, 4, 8, 3, 1, 2, 5, 3, 3, 6, 1, 7, 8,\n",
      "        9, 9, 6])\n",
      "tensor([0., 1., 0., 2., 3., 0., 3., 3., 0., 1., 1., 0., 3., 1., 7., 5., 4., 4.,\n",
      "        7., 0., 6., 9., 0., 5., 6., 2., 3., 8., 2., 2., 7., 4., 1., 8., 7., 3.,\n",
      "        5., 0., 7., 0., 9., 9., 5., 3., 6., 7., 8., 5., 1., 4., 6., 9., 9., 7.,\n",
      "        2., 1., 9., 0., 6., 0., 4., 6., 3., 1., 8., 5., 3., 2., 6., 2., 7., 8.,\n",
      "        9., 9., 6.], dtype=torch.float64)\n",
      "\n",
      "Accuracy: tensor(0.8400)\n",
      "\n",
      "tensor(0.7319, grad_fn=<DivBackward1>)\n"
     ]
    },
    {
     "name": "stderr",
     "output_type": "stream",
     "text": [
      " 57%|█████▋    | 57/100 [32:02<24:13, 33.79s/it]"
     ]
    },
    {
     "name": "stdout",
     "output_type": "stream",
     "text": [
      "tensor([0, 1, 0, 2, 3, 0, 3, 3, 0, 1, 1, 2, 3, 1, 7, 5, 4, 4, 7, 0, 6, 9, 0, 8,\n",
      "        6, 2, 3, 8, 8, 3, 7, 4, 1, 8, 7, 3, 9, 0, 7, 0, 9, 9, 5, 3, 6, 7, 6, 5,\n",
      "        1, 4, 6, 9, 9, 7, 0, 1, 9, 0, 6, 0, 4, 8, 3, 1, 2, 5, 3, 3, 6, 1, 7, 8,\n",
      "        9, 9, 6])\n",
      "tensor([0., 1., 0., 2., 3., 0., 3., 3., 0., 1., 1., 0., 3., 1., 7., 5., 4., 4.,\n",
      "        7., 0., 6., 9., 0., 5., 6., 2., 3., 8., 2., 2., 7., 4., 1., 8., 7., 3.,\n",
      "        5., 0., 7., 0., 9., 9., 5., 3., 6., 7., 8., 5., 1., 4., 6., 9., 9., 7.,\n",
      "        2., 1., 9., 0., 6., 0., 4., 6., 3., 1., 8., 5., 3., 2., 6., 2., 7., 8.,\n",
      "        9., 9., 6.], dtype=torch.float64)\n",
      "\n",
      "Accuracy: tensor(0.8533)\n",
      "\n",
      "tensor(0.7080, grad_fn=<DivBackward1>)\n"
     ]
    },
    {
     "name": "stderr",
     "output_type": "stream",
     "text": [
      " 58%|█████▊    | 58/100 [32:35<23:29, 33.56s/it]"
     ]
    },
    {
     "name": "stdout",
     "output_type": "stream",
     "text": [
      "tensor([0, 1, 0, 2, 3, 0, 3, 3, 0, 1, 1, 2, 3, 1, 7, 5, 4, 4, 7, 0, 6, 9, 0, 8,\n",
      "        6, 2, 3, 8, 8, 3, 7, 4, 1, 8, 7, 3, 9, 0, 7, 0, 9, 9, 5, 3, 6, 7, 6, 5,\n",
      "        1, 4, 6, 9, 9, 7, 0, 1, 9, 0, 6, 0, 4, 8, 3, 1, 2, 5, 3, 3, 6, 1, 7, 8,\n",
      "        9, 9, 6])\n",
      "tensor([0., 1., 0., 2., 3., 0., 3., 3., 0., 1., 1., 0., 3., 1., 7., 5., 4., 4.,\n",
      "        7., 0., 6., 9., 0., 5., 6., 2., 3., 8., 2., 2., 7., 4., 1., 8., 7., 3.,\n",
      "        5., 0., 7., 0., 9., 9., 5., 3., 6., 7., 8., 5., 1., 4., 6., 9., 9., 7.,\n",
      "        2., 1., 9., 0., 6., 0., 4., 6., 3., 1., 8., 5., 3., 2., 6., 2., 7., 8.,\n",
      "        9., 9., 6.], dtype=torch.float64)\n",
      "\n",
      "Accuracy: tensor(0.8533)\n",
      "\n",
      "tensor(0.6795, grad_fn=<DivBackward1>)\n"
     ]
    },
    {
     "name": "stderr",
     "output_type": "stream",
     "text": [
      " 59%|█████▉    | 59/100 [33:09<23:03, 33.74s/it]"
     ]
    },
    {
     "name": "stdout",
     "output_type": "stream",
     "text": [
      "tensor([0, 1, 0, 2, 3, 0, 3, 3, 0, 1, 1, 2, 3, 1, 7, 5, 4, 4, 7, 0, 6, 9, 0, 8,\n",
      "        6, 2, 3, 8, 8, 3, 7, 4, 1, 8, 7, 3, 9, 0, 7, 0, 9, 9, 5, 3, 6, 7, 6, 5,\n",
      "        1, 4, 6, 9, 9, 7, 0, 1, 9, 0, 6, 0, 4, 8, 3, 1, 2, 5, 3, 3, 6, 1, 7, 8,\n",
      "        9, 9, 6])\n",
      "tensor([0., 1., 0., 2., 3., 0., 3., 3., 0., 1., 1., 0., 3., 1., 7., 5., 4., 4.,\n",
      "        7., 0., 6., 9., 0., 5., 6., 2., 3., 8., 2., 2., 7., 4., 1., 8., 7., 3.,\n",
      "        5., 0., 7., 0., 9., 9., 5., 3., 6., 7., 8., 5., 1., 4., 6., 9., 9., 7.,\n",
      "        2., 1., 9., 0., 6., 0., 4., 6., 3., 1., 8., 5., 3., 2., 6., 2., 7., 8.,\n",
      "        9., 9., 6.], dtype=torch.float64)\n",
      "\n",
      "Accuracy: tensor(0.8533)\n",
      "\n",
      "tensor(0.6580, grad_fn=<DivBackward1>)\n"
     ]
    },
    {
     "name": "stderr",
     "output_type": "stream",
     "text": [
      " 60%|██████    | 60/100 [33:42<22:25, 33.63s/it]"
     ]
    },
    {
     "name": "stdout",
     "output_type": "stream",
     "text": [
      "tensor([0, 1, 0, 2, 3, 0, 3, 3, 0, 1, 1, 2, 3, 1, 7, 5, 4, 4, 7, 0, 6, 9, 0, 8,\n",
      "        6, 2, 3, 8, 8, 3, 7, 4, 1, 8, 7, 3, 9, 0, 7, 0, 9, 9, 5, 3, 6, 7, 6, 5,\n",
      "        1, 4, 6, 9, 9, 7, 0, 1, 9, 0, 6, 0, 4, 8, 3, 1, 2, 5, 3, 3, 6, 1, 7, 8,\n",
      "        9, 9, 6])\n",
      "tensor([0., 1., 0., 2., 3., 0., 3., 3., 0., 1., 1., 0., 3., 1., 7., 5., 4., 4.,\n",
      "        7., 0., 6., 9., 0., 5., 6., 2., 3., 8., 2., 2., 7., 4., 1., 8., 7., 3.,\n",
      "        5., 0., 7., 0., 9., 9., 5., 3., 6., 7., 8., 5., 1., 4., 6., 9., 9., 7.,\n",
      "        2., 1., 9., 0., 6., 0., 4., 6., 3., 1., 8., 5., 3., 2., 6., 2., 7., 8.,\n",
      "        9., 9., 6.], dtype=torch.float64)\n",
      "\n",
      "Accuracy: tensor(0.8533)\n",
      "\n",
      "tensor(0.6375, grad_fn=<DivBackward1>)\n"
     ]
    },
    {
     "name": "stderr",
     "output_type": "stream",
     "text": [
      " 61%|██████    | 61/100 [34:15<21:40, 33.34s/it]"
     ]
    },
    {
     "name": "stdout",
     "output_type": "stream",
     "text": [
      "tensor([0, 1, 0, 2, 3, 0, 3, 3, 0, 1, 1, 2, 3, 1, 7, 5, 4, 4, 7, 0, 6, 9, 0, 8,\n",
      "        6, 2, 3, 8, 8, 3, 7, 4, 1, 8, 7, 3, 9, 0, 7, 0, 9, 9, 5, 3, 6, 7, 6, 5,\n",
      "        1, 4, 6, 9, 9, 7, 0, 1, 9, 0, 6, 0, 4, 8, 3, 1, 2, 5, 3, 3, 6, 1, 7, 8,\n",
      "        9, 9, 6])\n",
      "tensor([0., 1., 0., 2., 3., 0., 3., 3., 0., 1., 1., 0., 3., 1., 7., 5., 4., 4.,\n",
      "        7., 0., 6., 9., 0., 5., 6., 2., 3., 8., 2., 2., 7., 4., 1., 8., 7., 3.,\n",
      "        5., 0., 7., 0., 9., 9., 5., 3., 6., 7., 8., 5., 1., 4., 6., 9., 9., 7.,\n",
      "        2., 1., 9., 0., 6., 0., 4., 6., 3., 1., 8., 5., 3., 2., 6., 2., 7., 8.,\n",
      "        9., 9., 6.], dtype=torch.float64)\n",
      "\n",
      "Accuracy: tensor(0.8533)\n",
      "\n",
      "tensor(0.6148, grad_fn=<DivBackward1>)\n"
     ]
    },
    {
     "name": "stderr",
     "output_type": "stream",
     "text": [
      " 62%|██████▏   | 62/100 [34:49<21:17, 33.61s/it]"
     ]
    },
    {
     "name": "stdout",
     "output_type": "stream",
     "text": [
      "tensor([0, 1, 0, 2, 3, 0, 3, 3, 0, 1, 1, 2, 3, 1, 7, 5, 4, 4, 7, 0, 6, 9, 0, 8,\n",
      "        6, 2, 3, 8, 8, 3, 7, 4, 1, 8, 7, 3, 9, 0, 7, 0, 9, 9, 5, 3, 6, 7, 6, 5,\n",
      "        1, 4, 6, 9, 9, 7, 0, 1, 9, 0, 6, 0, 4, 8, 3, 1, 2, 5, 3, 3, 6, 1, 7, 8,\n",
      "        9, 9, 6])\n",
      "tensor([0., 1., 0., 2., 3., 0., 3., 3., 0., 1., 1., 0., 3., 1., 7., 5., 4., 4.,\n",
      "        7., 0., 6., 9., 0., 5., 6., 2., 3., 8., 2., 2., 7., 4., 1., 8., 7., 3.,\n",
      "        5., 0., 7., 0., 9., 9., 5., 3., 6., 7., 8., 5., 1., 4., 6., 9., 9., 7.,\n",
      "        2., 1., 9., 0., 6., 0., 4., 6., 3., 1., 8., 5., 3., 2., 6., 2., 7., 8.,\n",
      "        9., 9., 6.], dtype=torch.float64)\n",
      "\n",
      "Accuracy: tensor(0.8533)\n",
      "\n",
      "tensor(0.5975, grad_fn=<DivBackward1>)\n"
     ]
    },
    {
     "name": "stderr",
     "output_type": "stream",
     "text": [
      " 63%|██████▎   | 63/100 [35:22<20:36, 33.43s/it]"
     ]
    },
    {
     "name": "stdout",
     "output_type": "stream",
     "text": [
      "tensor([0, 1, 0, 2, 3, 0, 3, 3, 0, 1, 1, 2, 3, 1, 7, 5, 4, 4, 7, 0, 6, 9, 0, 8,\n",
      "        6, 2, 3, 8, 8, 3, 7, 4, 1, 8, 7, 3, 9, 0, 7, 0, 9, 9, 5, 3, 6, 7, 6, 5,\n",
      "        1, 4, 6, 9, 9, 7, 0, 1, 9, 0, 6, 0, 4, 8, 3, 1, 2, 5, 3, 2, 6, 1, 7, 8,\n",
      "        9, 9, 6])\n",
      "tensor([0., 1., 0., 2., 3., 0., 3., 3., 0., 1., 1., 0., 3., 1., 7., 5., 4., 4.,\n",
      "        7., 0., 6., 9., 0., 5., 6., 2., 3., 8., 2., 2., 7., 4., 1., 8., 7., 3.,\n",
      "        5., 0., 7., 0., 9., 9., 5., 3., 6., 7., 8., 5., 1., 4., 6., 9., 9., 7.,\n",
      "        2., 1., 9., 0., 6., 0., 4., 6., 3., 1., 8., 5., 3., 2., 6., 2., 7., 8.,\n",
      "        9., 9., 6.], dtype=torch.float64)\n",
      "\n",
      "Accuracy: tensor(0.8667)\n",
      "\n",
      "tensor(0.5772, grad_fn=<DivBackward1>)\n"
     ]
    },
    {
     "name": "stderr",
     "output_type": "stream",
     "text": [
      " 64%|██████▍   | 64/100 [35:56<20:06, 33.51s/it]"
     ]
    },
    {
     "name": "stdout",
     "output_type": "stream",
     "text": [
      "tensor([0, 1, 0, 2, 3, 0, 3, 3, 0, 1, 1, 2, 3, 1, 7, 5, 4, 4, 7, 0, 6, 9, 0, 8,\n",
      "        6, 2, 3, 8, 2, 3, 7, 4, 1, 8, 7, 3, 9, 0, 7, 0, 9, 9, 5, 3, 6, 7, 6, 5,\n",
      "        1, 4, 6, 9, 9, 7, 0, 1, 9, 0, 6, 0, 4, 8, 3, 1, 2, 5, 3, 2, 6, 1, 7, 8,\n",
      "        9, 9, 6])\n",
      "tensor([0., 1., 0., 2., 3., 0., 3., 3., 0., 1., 1., 0., 3., 1., 7., 5., 4., 4.,\n",
      "        7., 0., 6., 9., 0., 5., 6., 2., 3., 8., 2., 2., 7., 4., 1., 8., 7., 3.,\n",
      "        5., 0., 7., 0., 9., 9., 5., 3., 6., 7., 8., 5., 1., 4., 6., 9., 9., 7.,\n",
      "        2., 1., 9., 0., 6., 0., 4., 6., 3., 1., 8., 5., 3., 2., 6., 2., 7., 8.,\n",
      "        9., 9., 6.], dtype=torch.float64)\n",
      "\n",
      "Accuracy: tensor(0.8800)\n",
      "\n",
      "tensor(0.5586, grad_fn=<DivBackward1>)\n"
     ]
    },
    {
     "name": "stderr",
     "output_type": "stream",
     "text": [
      " 65%|██████▌   | 65/100 [36:31<19:47, 33.94s/it]"
     ]
    },
    {
     "name": "stdout",
     "output_type": "stream",
     "text": [
      "tensor([0, 1, 0, 2, 3, 0, 3, 3, 0, 1, 1, 2, 3, 1, 7, 5, 4, 4, 7, 0, 6, 9, 0, 8,\n",
      "        6, 2, 3, 8, 2, 3, 7, 4, 1, 8, 7, 3, 9, 0, 7, 0, 9, 9, 5, 3, 6, 7, 6, 5,\n",
      "        1, 4, 6, 9, 9, 7, 0, 1, 9, 0, 6, 0, 4, 8, 3, 1, 2, 5, 3, 2, 6, 1, 7, 8,\n",
      "        9, 9, 6])\n",
      "tensor([0., 1., 0., 2., 3., 0., 3., 3., 0., 1., 1., 0., 3., 1., 7., 5., 4., 4.,\n",
      "        7., 0., 6., 9., 0., 5., 6., 2., 3., 8., 2., 2., 7., 4., 1., 8., 7., 3.,\n",
      "        5., 0., 7., 0., 9., 9., 5., 3., 6., 7., 8., 5., 1., 4., 6., 9., 9., 7.,\n",
      "        2., 1., 9., 0., 6., 0., 4., 6., 3., 1., 8., 5., 3., 2., 6., 2., 7., 8.,\n",
      "        9., 9., 6.], dtype=torch.float64)\n",
      "\n",
      "Accuracy: tensor(0.8800)\n",
      "\n",
      "tensor(0.5412, grad_fn=<DivBackward1>)\n"
     ]
    },
    {
     "name": "stderr",
     "output_type": "stream",
     "text": [
      " 66%|██████▌   | 66/100 [37:03<18:58, 33.49s/it]"
     ]
    },
    {
     "name": "stdout",
     "output_type": "stream",
     "text": [
      "tensor([0, 1, 0, 2, 3, 0, 3, 3, 0, 1, 1, 2, 3, 1, 7, 5, 4, 4, 7, 0, 6, 9, 0, 8,\n",
      "        6, 2, 3, 8, 2, 3, 7, 4, 1, 8, 7, 3, 9, 0, 7, 0, 9, 9, 5, 3, 6, 7, 6, 5,\n",
      "        1, 4, 6, 9, 9, 7, 0, 1, 9, 0, 6, 0, 4, 8, 3, 1, 2, 5, 3, 2, 6, 2, 7, 8,\n",
      "        9, 9, 6])\n",
      "tensor([0., 1., 0., 2., 3., 0., 3., 3., 0., 1., 1., 0., 3., 1., 7., 5., 4., 4.,\n",
      "        7., 0., 6., 9., 0., 5., 6., 2., 3., 8., 2., 2., 7., 4., 1., 8., 7., 3.,\n",
      "        5., 0., 7., 0., 9., 9., 5., 3., 6., 7., 8., 5., 1., 4., 6., 9., 9., 7.,\n",
      "        2., 1., 9., 0., 6., 0., 4., 6., 3., 1., 8., 5., 3., 2., 6., 2., 7., 8.,\n",
      "        9., 9., 6.], dtype=torch.float64)\n",
      "\n",
      "Accuracy: tensor(0.8933)\n",
      "\n",
      "tensor(0.5266, grad_fn=<DivBackward1>)\n"
     ]
    },
    {
     "name": "stderr",
     "output_type": "stream",
     "text": [
      " 67%|██████▋   | 67/100 [37:35<18:06, 32.93s/it]"
     ]
    },
    {
     "name": "stdout",
     "output_type": "stream",
     "text": [
      "tensor([0, 1, 0, 2, 3, 0, 3, 3, 0, 1, 1, 2, 3, 1, 7, 5, 4, 4, 7, 0, 6, 9, 0, 8,\n",
      "        6, 2, 3, 8, 2, 3, 7, 4, 1, 8, 7, 3, 9, 0, 7, 0, 9, 9, 5, 3, 6, 7, 6, 5,\n",
      "        1, 4, 6, 9, 9, 7, 0, 1, 9, 0, 6, 0, 4, 8, 3, 1, 2, 5, 3, 2, 6, 2, 7, 8,\n",
      "        9, 9, 6])\n",
      "tensor([0., 1., 0., 2., 3., 0., 3., 3., 0., 1., 1., 0., 3., 1., 7., 5., 4., 4.,\n",
      "        7., 0., 6., 9., 0., 5., 6., 2., 3., 8., 2., 2., 7., 4., 1., 8., 7., 3.,\n",
      "        5., 0., 7., 0., 9., 9., 5., 3., 6., 7., 8., 5., 1., 4., 6., 9., 9., 7.,\n",
      "        2., 1., 9., 0., 6., 0., 4., 6., 3., 1., 8., 5., 3., 2., 6., 2., 7., 8.,\n",
      "        9., 9., 6.], dtype=torch.float64)\n",
      "\n",
      "Accuracy: tensor(0.8933)\n",
      "\n",
      "tensor(0.5078, grad_fn=<DivBackward1>)\n"
     ]
    },
    {
     "name": "stderr",
     "output_type": "stream",
     "text": [
      " 68%|██████▊   | 68/100 [38:08<17:33, 32.93s/it]"
     ]
    },
    {
     "name": "stdout",
     "output_type": "stream",
     "text": [
      "tensor([0, 1, 0, 2, 3, 0, 3, 3, 0, 1, 1, 0, 3, 1, 7, 5, 4, 4, 7, 0, 6, 9, 0, 8,\n",
      "        6, 2, 3, 8, 2, 3, 7, 4, 1, 8, 7, 3, 9, 0, 7, 0, 9, 9, 5, 3, 6, 7, 6, 5,\n",
      "        1, 4, 6, 9, 9, 7, 0, 1, 9, 0, 6, 0, 4, 8, 3, 1, 2, 5, 3, 2, 6, 2, 7, 8,\n",
      "        9, 9, 6])\n",
      "tensor([0., 1., 0., 2., 3., 0., 3., 3., 0., 1., 1., 0., 3., 1., 7., 5., 4., 4.,\n",
      "        7., 0., 6., 9., 0., 5., 6., 2., 3., 8., 2., 2., 7., 4., 1., 8., 7., 3.,\n",
      "        5., 0., 7., 0., 9., 9., 5., 3., 6., 7., 8., 5., 1., 4., 6., 9., 9., 7.,\n",
      "        2., 1., 9., 0., 6., 0., 4., 6., 3., 1., 8., 5., 3., 2., 6., 2., 7., 8.,\n",
      "        9., 9., 6.], dtype=torch.float64)\n",
      "\n",
      "Accuracy: tensor(0.9067)\n",
      "\n",
      "tensor(0.4914, grad_fn=<DivBackward1>)\n"
     ]
    },
    {
     "name": "stderr",
     "output_type": "stream",
     "text": [
      " 69%|██████▉   | 69/100 [38:40<16:53, 32.71s/it]"
     ]
    },
    {
     "name": "stdout",
     "output_type": "stream",
     "text": [
      "tensor([0, 1, 0, 2, 3, 0, 3, 3, 0, 1, 1, 0, 3, 1, 7, 5, 4, 4, 7, 0, 6, 9, 0, 8,\n",
      "        6, 2, 3, 8, 2, 3, 7, 4, 1, 8, 7, 3, 9, 0, 7, 0, 9, 9, 5, 3, 6, 7, 6, 5,\n",
      "        1, 4, 6, 9, 9, 7, 0, 1, 9, 0, 6, 0, 4, 8, 3, 1, 2, 5, 3, 2, 6, 2, 7, 8,\n",
      "        9, 9, 6])\n",
      "tensor([0., 1., 0., 2., 3., 0., 3., 3., 0., 1., 1., 0., 3., 1., 7., 5., 4., 4.,\n",
      "        7., 0., 6., 9., 0., 5., 6., 2., 3., 8., 2., 2., 7., 4., 1., 8., 7., 3.,\n",
      "        5., 0., 7., 0., 9., 9., 5., 3., 6., 7., 8., 5., 1., 4., 6., 9., 9., 7.,\n",
      "        2., 1., 9., 0., 6., 0., 4., 6., 3., 1., 8., 5., 3., 2., 6., 2., 7., 8.,\n",
      "        9., 9., 6.], dtype=torch.float64)\n",
      "\n",
      "Accuracy: tensor(0.9067)\n",
      "\n",
      "tensor(0.4797, grad_fn=<DivBackward1>)\n"
     ]
    },
    {
     "name": "stderr",
     "output_type": "stream",
     "text": [
      " 70%|███████   | 70/100 [39:12<16:19, 32.64s/it]"
     ]
    },
    {
     "name": "stdout",
     "output_type": "stream",
     "text": [
      "tensor([0, 1, 0, 2, 3, 0, 3, 3, 0, 1, 1, 0, 3, 1, 7, 5, 4, 4, 7, 0, 6, 9, 0, 8,\n",
      "        6, 2, 3, 8, 2, 3, 7, 4, 1, 8, 7, 3, 9, 0, 7, 0, 9, 9, 5, 3, 6, 7, 6, 5,\n",
      "        1, 4, 6, 9, 9, 7, 0, 1, 9, 0, 6, 0, 4, 8, 3, 1, 2, 5, 3, 2, 6, 2, 7, 8,\n",
      "        9, 9, 6])\n",
      "tensor([0., 1., 0., 2., 3., 0., 3., 3., 0., 1., 1., 0., 3., 1., 7., 5., 4., 4.,\n",
      "        7., 0., 6., 9., 0., 5., 6., 2., 3., 8., 2., 2., 7., 4., 1., 8., 7., 3.,\n",
      "        5., 0., 7., 0., 9., 9., 5., 3., 6., 7., 8., 5., 1., 4., 6., 9., 9., 7.,\n",
      "        2., 1., 9., 0., 6., 0., 4., 6., 3., 1., 8., 5., 3., 2., 6., 2., 7., 8.,\n",
      "        9., 9., 6.], dtype=torch.float64)\n",
      "\n",
      "Accuracy: tensor(0.9067)\n",
      "\n",
      "tensor(0.4650, grad_fn=<DivBackward1>)\n"
     ]
    },
    {
     "name": "stderr",
     "output_type": "stream",
     "text": [
      " 71%|███████   | 71/100 [39:46<15:51, 32.81s/it]"
     ]
    },
    {
     "name": "stdout",
     "output_type": "stream",
     "text": [
      "tensor([0, 1, 0, 2, 3, 0, 3, 3, 0, 1, 1, 0, 3, 1, 7, 5, 4, 4, 7, 0, 6, 9, 0, 8,\n",
      "        6, 2, 3, 8, 2, 3, 7, 4, 1, 8, 7, 3, 9, 0, 7, 0, 9, 9, 5, 3, 6, 7, 6, 5,\n",
      "        1, 4, 6, 9, 9, 7, 0, 1, 9, 0, 6, 0, 4, 8, 3, 1, 2, 5, 3, 2, 6, 2, 7, 8,\n",
      "        9, 9, 6])\n",
      "tensor([0., 1., 0., 2., 3., 0., 3., 3., 0., 1., 1., 0., 3., 1., 7., 5., 4., 4.,\n",
      "        7., 0., 6., 9., 0., 5., 6., 2., 3., 8., 2., 2., 7., 4., 1., 8., 7., 3.,\n",
      "        5., 0., 7., 0., 9., 9., 5., 3., 6., 7., 8., 5., 1., 4., 6., 9., 9., 7.,\n",
      "        2., 1., 9., 0., 6., 0., 4., 6., 3., 1., 8., 5., 3., 2., 6., 2., 7., 8.,\n",
      "        9., 9., 6.], dtype=torch.float64)\n",
      "\n",
      "Accuracy: tensor(0.9067)\n",
      "\n",
      "tensor(0.4500, grad_fn=<DivBackward1>)\n"
     ]
    },
    {
     "name": "stderr",
     "output_type": "stream",
     "text": [
      " 72%|███████▏  | 72/100 [40:18<15:17, 32.76s/it]"
     ]
    },
    {
     "name": "stdout",
     "output_type": "stream",
     "text": [
      "tensor([0, 1, 0, 2, 3, 0, 3, 3, 0, 1, 1, 0, 3, 1, 7, 5, 4, 4, 7, 0, 6, 9, 0, 8,\n",
      "        6, 2, 3, 8, 2, 3, 7, 4, 1, 8, 7, 3, 9, 0, 7, 0, 9, 9, 5, 3, 6, 7, 6, 5,\n",
      "        1, 4, 6, 9, 9, 7, 0, 1, 9, 0, 6, 0, 4, 8, 3, 1, 2, 5, 3, 2, 6, 2, 7, 8,\n",
      "        9, 9, 6])\n",
      "tensor([0., 1., 0., 2., 3., 0., 3., 3., 0., 1., 1., 0., 3., 1., 7., 5., 4., 4.,\n",
      "        7., 0., 6., 9., 0., 5., 6., 2., 3., 8., 2., 2., 7., 4., 1., 8., 7., 3.,\n",
      "        5., 0., 7., 0., 9., 9., 5., 3., 6., 7., 8., 5., 1., 4., 6., 9., 9., 7.,\n",
      "        2., 1., 9., 0., 6., 0., 4., 6., 3., 1., 8., 5., 3., 2., 6., 2., 7., 8.,\n",
      "        9., 9., 6.], dtype=torch.float64)\n",
      "\n",
      "Accuracy: tensor(0.9067)\n",
      "\n",
      "tensor(0.4381, grad_fn=<DivBackward1>)\n"
     ]
    },
    {
     "name": "stderr",
     "output_type": "stream",
     "text": [
      " 73%|███████▎  | 73/100 [40:53<14:58, 33.27s/it]"
     ]
    },
    {
     "name": "stdout",
     "output_type": "stream",
     "text": [
      "tensor([0, 1, 0, 2, 3, 0, 3, 3, 0, 1, 1, 0, 3, 1, 7, 5, 4, 4, 7, 0, 6, 9, 0, 8,\n",
      "        6, 2, 3, 8, 2, 3, 7, 4, 1, 8, 7, 3, 9, 0, 7, 0, 9, 9, 5, 3, 6, 7, 6, 5,\n",
      "        1, 4, 6, 9, 9, 7, 0, 1, 9, 0, 6, 0, 4, 8, 3, 1, 2, 5, 3, 2, 6, 2, 7, 8,\n",
      "        9, 9, 6])\n",
      "tensor([0., 1., 0., 2., 3., 0., 3., 3., 0., 1., 1., 0., 3., 1., 7., 5., 4., 4.,\n",
      "        7., 0., 6., 9., 0., 5., 6., 2., 3., 8., 2., 2., 7., 4., 1., 8., 7., 3.,\n",
      "        5., 0., 7., 0., 9., 9., 5., 3., 6., 7., 8., 5., 1., 4., 6., 9., 9., 7.,\n",
      "        2., 1., 9., 0., 6., 0., 4., 6., 3., 1., 8., 5., 3., 2., 6., 2., 7., 8.,\n",
      "        9., 9., 6.], dtype=torch.float64)\n",
      "\n",
      "Accuracy: tensor(0.9067)\n",
      "\n",
      "tensor(0.4263, grad_fn=<DivBackward1>)\n"
     ]
    },
    {
     "name": "stderr",
     "output_type": "stream",
     "text": [
      " 74%|███████▍  | 74/100 [41:25<14:16, 32.93s/it]"
     ]
    },
    {
     "name": "stdout",
     "output_type": "stream",
     "text": [
      "tensor([0, 1, 0, 2, 3, 0, 3, 3, 0, 1, 1, 0, 3, 1, 7, 5, 4, 4, 7, 0, 6, 9, 0, 8,\n",
      "        6, 2, 3, 8, 2, 3, 7, 4, 1, 8, 7, 3, 9, 0, 7, 0, 9, 9, 5, 3, 6, 7, 6, 5,\n",
      "        1, 4, 6, 9, 9, 7, 0, 1, 9, 0, 6, 0, 4, 8, 3, 1, 2, 5, 3, 2, 6, 2, 7, 8,\n",
      "        9, 9, 6])\n",
      "tensor([0., 1., 0., 2., 3., 0., 3., 3., 0., 1., 1., 0., 3., 1., 7., 5., 4., 4.,\n",
      "        7., 0., 6., 9., 0., 5., 6., 2., 3., 8., 2., 2., 7., 4., 1., 8., 7., 3.,\n",
      "        5., 0., 7., 0., 9., 9., 5., 3., 6., 7., 8., 5., 1., 4., 6., 9., 9., 7.,\n",
      "        2., 1., 9., 0., 6., 0., 4., 6., 3., 1., 8., 5., 3., 2., 6., 2., 7., 8.,\n",
      "        9., 9., 6.], dtype=torch.float64)\n",
      "\n",
      "Accuracy: tensor(0.9067)\n",
      "\n",
      "tensor(0.4152, grad_fn=<DivBackward1>)\n"
     ]
    },
    {
     "name": "stderr",
     "output_type": "stream",
     "text": [
      " 75%|███████▌  | 75/100 [41:58<13:44, 33.00s/it]"
     ]
    },
    {
     "name": "stdout",
     "output_type": "stream",
     "text": [
      "tensor([0, 1, 0, 2, 3, 0, 3, 3, 0, 1, 1, 0, 3, 1, 7, 5, 4, 4, 7, 0, 6, 9, 0, 8,\n",
      "        6, 2, 3, 8, 2, 3, 7, 4, 1, 8, 7, 3, 9, 0, 7, 0, 9, 9, 5, 3, 6, 7, 6, 5,\n",
      "        1, 4, 6, 9, 9, 7, 0, 1, 9, 0, 6, 0, 4, 8, 3, 1, 2, 5, 3, 2, 6, 2, 7, 8,\n",
      "        9, 9, 6])\n",
      "tensor([0., 1., 0., 2., 3., 0., 3., 3., 0., 1., 1., 0., 3., 1., 7., 5., 4., 4.,\n",
      "        7., 0., 6., 9., 0., 5., 6., 2., 3., 8., 2., 2., 7., 4., 1., 8., 7., 3.,\n",
      "        5., 0., 7., 0., 9., 9., 5., 3., 6., 7., 8., 5., 1., 4., 6., 9., 9., 7.,\n",
      "        2., 1., 9., 0., 6., 0., 4., 6., 3., 1., 8., 5., 3., 2., 6., 2., 7., 8.,\n",
      "        9., 9., 6.], dtype=torch.float64)\n",
      "\n",
      "Accuracy: tensor(0.9067)\n",
      "\n",
      "tensor(0.4007, grad_fn=<DivBackward1>)\n"
     ]
    },
    {
     "name": "stderr",
     "output_type": "stream",
     "text": [
      " 76%|███████▌  | 76/100 [42:31<13:08, 32.86s/it]"
     ]
    },
    {
     "name": "stdout",
     "output_type": "stream",
     "text": [
      "tensor([0, 1, 0, 2, 3, 0, 3, 3, 0, 1, 1, 0, 3, 1, 7, 5, 4, 4, 7, 0, 6, 9, 0, 8,\n",
      "        6, 2, 3, 8, 2, 3, 7, 4, 1, 8, 7, 3, 9, 0, 7, 0, 9, 9, 5, 3, 6, 7, 6, 5,\n",
      "        1, 4, 6, 9, 9, 7, 0, 1, 9, 0, 6, 0, 4, 8, 3, 1, 2, 5, 3, 2, 6, 2, 7, 8,\n",
      "        9, 9, 6])\n",
      "tensor([0., 1., 0., 2., 3., 0., 3., 3., 0., 1., 1., 0., 3., 1., 7., 5., 4., 4.,\n",
      "        7., 0., 6., 9., 0., 5., 6., 2., 3., 8., 2., 2., 7., 4., 1., 8., 7., 3.,\n",
      "        5., 0., 7., 0., 9., 9., 5., 3., 6., 7., 8., 5., 1., 4., 6., 9., 9., 7.,\n",
      "        2., 1., 9., 0., 6., 0., 4., 6., 3., 1., 8., 5., 3., 2., 6., 2., 7., 8.,\n",
      "        9., 9., 6.], dtype=torch.float64)\n",
      "\n",
      "Accuracy: tensor(0.9067)\n",
      "\n",
      "tensor(0.3930, grad_fn=<DivBackward1>)\n"
     ]
    },
    {
     "name": "stderr",
     "output_type": "stream",
     "text": [
      " 77%|███████▋  | 77/100 [43:05<12:47, 33.36s/it]"
     ]
    },
    {
     "name": "stdout",
     "output_type": "stream",
     "text": [
      "tensor([0, 1, 0, 2, 3, 0, 3, 3, 0, 1, 1, 0, 3, 1, 7, 5, 4, 4, 7, 0, 6, 9, 0, 8,\n",
      "        6, 2, 3, 8, 2, 3, 7, 4, 1, 8, 7, 3, 9, 0, 7, 0, 9, 9, 5, 3, 6, 7, 8, 5,\n",
      "        1, 4, 6, 9, 9, 7, 0, 1, 9, 0, 6, 0, 4, 8, 3, 1, 2, 5, 3, 2, 6, 2, 7, 8,\n",
      "        9, 9, 6])\n",
      "tensor([0., 1., 0., 2., 3., 0., 3., 3., 0., 1., 1., 0., 3., 1., 7., 5., 4., 4.,\n",
      "        7., 0., 6., 9., 0., 5., 6., 2., 3., 8., 2., 2., 7., 4., 1., 8., 7., 3.,\n",
      "        5., 0., 7., 0., 9., 9., 5., 3., 6., 7., 8., 5., 1., 4., 6., 9., 9., 7.,\n",
      "        2., 1., 9., 0., 6., 0., 4., 6., 3., 1., 8., 5., 3., 2., 6., 2., 7., 8.,\n",
      "        9., 9., 6.], dtype=torch.float64)\n",
      "\n",
      "Accuracy: tensor(0.9200)\n",
      "\n",
      "tensor(0.3801, grad_fn=<DivBackward1>)\n"
     ]
    },
    {
     "name": "stderr",
     "output_type": "stream",
     "text": [
      " 78%|███████▊  | 78/100 [43:40<12:24, 33.83s/it]"
     ]
    },
    {
     "name": "stdout",
     "output_type": "stream",
     "text": [
      "tensor([0, 1, 0, 2, 3, 0, 3, 3, 0, 1, 1, 0, 3, 1, 7, 5, 4, 4, 7, 0, 6, 9, 0, 8,\n",
      "        6, 2, 3, 8, 2, 3, 7, 4, 1, 8, 7, 3, 9, 0, 7, 0, 9, 9, 5, 3, 6, 7, 6, 5,\n",
      "        1, 4, 6, 9, 9, 7, 0, 1, 9, 0, 6, 0, 4, 8, 3, 1, 2, 5, 3, 2, 6, 2, 7, 8,\n",
      "        9, 9, 6])\n",
      "tensor([0., 1., 0., 2., 3., 0., 3., 3., 0., 1., 1., 0., 3., 1., 7., 5., 4., 4.,\n",
      "        7., 0., 6., 9., 0., 5., 6., 2., 3., 8., 2., 2., 7., 4., 1., 8., 7., 3.,\n",
      "        5., 0., 7., 0., 9., 9., 5., 3., 6., 7., 8., 5., 1., 4., 6., 9., 9., 7.,\n",
      "        2., 1., 9., 0., 6., 0., 4., 6., 3., 1., 8., 5., 3., 2., 6., 2., 7., 8.,\n",
      "        9., 9., 6.], dtype=torch.float64)\n",
      "\n",
      "Accuracy: tensor(0.9067)\n",
      "\n",
      "tensor(0.3716, grad_fn=<DivBackward1>)\n"
     ]
    },
    {
     "name": "stderr",
     "output_type": "stream",
     "text": [
      " 79%|███████▉  | 79/100 [44:14<11:52, 33.95s/it]"
     ]
    },
    {
     "name": "stdout",
     "output_type": "stream",
     "text": [
      "tensor([0, 1, 0, 2, 3, 0, 3, 3, 0, 1, 1, 0, 3, 1, 7, 5, 4, 4, 7, 0, 6, 9, 0, 5,\n",
      "        6, 2, 3, 8, 2, 3, 7, 4, 1, 8, 7, 3, 9, 0, 7, 0, 9, 9, 5, 3, 6, 7, 6, 5,\n",
      "        1, 4, 6, 9, 9, 7, 0, 1, 9, 0, 6, 0, 4, 6, 3, 1, 2, 5, 3, 2, 6, 2, 7, 8,\n",
      "        9, 9, 6])\n",
      "tensor([0., 1., 0., 2., 3., 0., 3., 3., 0., 1., 1., 0., 3., 1., 7., 5., 4., 4.,\n",
      "        7., 0., 6., 9., 0., 5., 6., 2., 3., 8., 2., 2., 7., 4., 1., 8., 7., 3.,\n",
      "        5., 0., 7., 0., 9., 9., 5., 3., 6., 7., 8., 5., 1., 4., 6., 9., 9., 7.,\n",
      "        2., 1., 9., 0., 6., 0., 4., 6., 3., 1., 8., 5., 3., 2., 6., 2., 7., 8.,\n",
      "        9., 9., 6.], dtype=torch.float64)\n",
      "\n",
      "Accuracy: tensor(0.9333)\n",
      "\n",
      "tensor(0.3638, grad_fn=<DivBackward1>)\n"
     ]
    },
    {
     "name": "stderr",
     "output_type": "stream",
     "text": [
      " 80%|████████  | 80/100 [44:47<11:10, 33.51s/it]"
     ]
    },
    {
     "name": "stdout",
     "output_type": "stream",
     "text": [
      "tensor([0, 1, 0, 2, 3, 0, 3, 3, 0, 1, 1, 0, 3, 1, 7, 5, 4, 4, 7, 0, 6, 9, 0, 5,\n",
      "        6, 2, 3, 8, 2, 3, 7, 4, 1, 8, 7, 3, 9, 0, 7, 0, 9, 9, 5, 3, 6, 7, 8, 5,\n",
      "        1, 4, 6, 9, 9, 7, 0, 1, 9, 0, 6, 0, 4, 8, 3, 1, 2, 5, 3, 2, 6, 2, 7, 8,\n",
      "        9, 9, 6])\n",
      "tensor([0., 1., 0., 2., 3., 0., 3., 3., 0., 1., 1., 0., 3., 1., 7., 5., 4., 4.,\n",
      "        7., 0., 6., 9., 0., 5., 6., 2., 3., 8., 2., 2., 7., 4., 1., 8., 7., 3.,\n",
      "        5., 0., 7., 0., 9., 9., 5., 3., 6., 7., 8., 5., 1., 4., 6., 9., 9., 7.,\n",
      "        2., 1., 9., 0., 6., 0., 4., 6., 3., 1., 8., 5., 3., 2., 6., 2., 7., 8.,\n",
      "        9., 9., 6.], dtype=torch.float64)\n",
      "\n",
      "Accuracy: tensor(0.9333)\n",
      "\n",
      "tensor(0.3501, grad_fn=<DivBackward1>)\n"
     ]
    },
    {
     "name": "stderr",
     "output_type": "stream",
     "text": [
      " 81%|████████  | 81/100 [45:19<10:28, 33.10s/it]"
     ]
    },
    {
     "name": "stdout",
     "output_type": "stream",
     "text": [
      "tensor([0, 1, 0, 2, 3, 0, 3, 3, 0, 1, 1, 0, 3, 1, 7, 5, 4, 4, 7, 0, 6, 9, 0, 5,\n",
      "        6, 2, 3, 8, 2, 3, 7, 4, 1, 8, 7, 3, 9, 0, 7, 0, 9, 9, 5, 3, 6, 7, 6, 5,\n",
      "        1, 4, 6, 9, 9, 7, 0, 1, 9, 0, 6, 0, 4, 6, 3, 1, 2, 5, 3, 2, 6, 2, 7, 8,\n",
      "        9, 9, 6])\n",
      "tensor([0., 1., 0., 2., 3., 0., 3., 3., 0., 1., 1., 0., 3., 1., 7., 5., 4., 4.,\n",
      "        7., 0., 6., 9., 0., 5., 6., 2., 3., 8., 2., 2., 7., 4., 1., 8., 7., 3.,\n",
      "        5., 0., 7., 0., 9., 9., 5., 3., 6., 7., 8., 5., 1., 4., 6., 9., 9., 7.,\n",
      "        2., 1., 9., 0., 6., 0., 4., 6., 3., 1., 8., 5., 3., 2., 6., 2., 7., 8.,\n",
      "        9., 9., 6.], dtype=torch.float64)\n",
      "\n",
      "Accuracy: tensor(0.9333)\n",
      "\n",
      "tensor(0.3463, grad_fn=<DivBackward1>)\n"
     ]
    },
    {
     "name": "stderr",
     "output_type": "stream",
     "text": [
      " 82%|████████▏ | 82/100 [45:52<09:57, 33.21s/it]"
     ]
    },
    {
     "name": "stdout",
     "output_type": "stream",
     "text": [
      "tensor([0, 1, 0, 2, 3, 0, 3, 3, 0, 1, 1, 0, 3, 1, 7, 5, 4, 4, 7, 0, 6, 9, 0, 5,\n",
      "        6, 2, 3, 8, 2, 3, 7, 4, 1, 8, 7, 3, 9, 0, 7, 0, 9, 9, 5, 3, 6, 7, 6, 5,\n",
      "        1, 4, 6, 9, 9, 7, 0, 1, 9, 0, 6, 0, 4, 6, 3, 1, 2, 5, 3, 2, 6, 2, 7, 8,\n",
      "        9, 9, 6])\n",
      "tensor([0., 1., 0., 2., 3., 0., 3., 3., 0., 1., 1., 0., 3., 1., 7., 5., 4., 4.,\n",
      "        7., 0., 6., 9., 0., 5., 6., 2., 3., 8., 2., 2., 7., 4., 1., 8., 7., 3.,\n",
      "        5., 0., 7., 0., 9., 9., 5., 3., 6., 7., 8., 5., 1., 4., 6., 9., 9., 7.,\n",
      "        2., 1., 9., 0., 6., 0., 4., 6., 3., 1., 8., 5., 3., 2., 6., 2., 7., 8.,\n",
      "        9., 9., 6.], dtype=torch.float64)\n",
      "\n",
      "Accuracy: tensor(0.9333)\n",
      "\n",
      "tensor(0.3346, grad_fn=<DivBackward1>)\n"
     ]
    },
    {
     "name": "stderr",
     "output_type": "stream",
     "text": [
      " 83%|████████▎ | 83/100 [46:25<09:20, 33.00s/it]"
     ]
    },
    {
     "name": "stdout",
     "output_type": "stream",
     "text": [
      "tensor([0, 1, 0, 2, 3, 0, 3, 3, 0, 1, 1, 0, 3, 1, 7, 5, 4, 4, 7, 0, 6, 9, 0, 5,\n",
      "        6, 2, 3, 8, 2, 3, 7, 4, 1, 8, 7, 3, 9, 0, 7, 0, 9, 9, 5, 3, 6, 7, 8, 5,\n",
      "        1, 4, 6, 9, 9, 7, 0, 1, 9, 0, 6, 0, 4, 6, 3, 1, 2, 5, 3, 2, 6, 2, 7, 8,\n",
      "        9, 9, 6])\n",
      "tensor([0., 1., 0., 2., 3., 0., 3., 3., 0., 1., 1., 0., 3., 1., 7., 5., 4., 4.,\n",
      "        7., 0., 6., 9., 0., 5., 6., 2., 3., 8., 2., 2., 7., 4., 1., 8., 7., 3.,\n",
      "        5., 0., 7., 0., 9., 9., 5., 3., 6., 7., 8., 5., 1., 4., 6., 9., 9., 7.,\n",
      "        2., 1., 9., 0., 6., 0., 4., 6., 3., 1., 8., 5., 3., 2., 6., 2., 7., 8.,\n",
      "        9., 9., 6.], dtype=torch.float64)\n",
      "\n",
      "Accuracy: tensor(0.9467)\n",
      "\n",
      "tensor(0.3219, grad_fn=<DivBackward1>)\n"
     ]
    },
    {
     "name": "stderr",
     "output_type": "stream",
     "text": [
      " 84%|████████▍ | 84/100 [46:57<08:42, 32.63s/it]"
     ]
    },
    {
     "name": "stdout",
     "output_type": "stream",
     "text": [
      "tensor([0, 1, 0, 2, 3, 0, 3, 3, 0, 1, 1, 0, 3, 1, 7, 5, 4, 4, 7, 0, 6, 9, 0, 5,\n",
      "        6, 2, 3, 8, 2, 3, 7, 4, 1, 8, 7, 3, 9, 0, 7, 0, 9, 9, 5, 3, 6, 7, 8, 5,\n",
      "        1, 4, 6, 9, 9, 7, 0, 1, 9, 0, 6, 0, 4, 6, 3, 1, 2, 5, 3, 2, 6, 2, 7, 8,\n",
      "        9, 9, 6])\n",
      "tensor([0., 1., 0., 2., 3., 0., 3., 3., 0., 1., 1., 0., 3., 1., 7., 5., 4., 4.,\n",
      "        7., 0., 6., 9., 0., 5., 6., 2., 3., 8., 2., 2., 7., 4., 1., 8., 7., 3.,\n",
      "        5., 0., 7., 0., 9., 9., 5., 3., 6., 7., 8., 5., 1., 4., 6., 9., 9., 7.,\n",
      "        2., 1., 9., 0., 6., 0., 4., 6., 3., 1., 8., 5., 3., 2., 6., 2., 7., 8.,\n",
      "        9., 9., 6.], dtype=torch.float64)\n",
      "\n",
      "Accuracy: tensor(0.9467)\n",
      "\n",
      "tensor(0.3143, grad_fn=<DivBackward1>)\n"
     ]
    },
    {
     "name": "stderr",
     "output_type": "stream",
     "text": [
      " 85%|████████▌ | 85/100 [47:29<08:08, 32.58s/it]"
     ]
    },
    {
     "name": "stdout",
     "output_type": "stream",
     "text": [
      "tensor([0, 1, 0, 2, 3, 0, 3, 3, 0, 1, 1, 0, 3, 1, 7, 5, 4, 4, 7, 0, 6, 9, 0, 5,\n",
      "        6, 2, 3, 8, 2, 3, 7, 4, 1, 8, 7, 3, 9, 0, 7, 0, 9, 9, 5, 3, 6, 7, 8, 5,\n",
      "        1, 4, 6, 9, 9, 7, 0, 1, 9, 0, 6, 0, 4, 6, 3, 1, 2, 5, 3, 2, 6, 2, 7, 8,\n",
      "        9, 9, 6])\n",
      "tensor([0., 1., 0., 2., 3., 0., 3., 3., 0., 1., 1., 0., 3., 1., 7., 5., 4., 4.,\n",
      "        7., 0., 6., 9., 0., 5., 6., 2., 3., 8., 2., 2., 7., 4., 1., 8., 7., 3.,\n",
      "        5., 0., 7., 0., 9., 9., 5., 3., 6., 7., 8., 5., 1., 4., 6., 9., 9., 7.,\n",
      "        2., 1., 9., 0., 6., 0., 4., 6., 3., 1., 8., 5., 3., 2., 6., 2., 7., 8.,\n",
      "        9., 9., 6.], dtype=torch.float64)\n",
      "\n",
      "Accuracy: tensor(0.9467)\n",
      "\n",
      "tensor(0.3091, grad_fn=<DivBackward1>)\n"
     ]
    },
    {
     "name": "stderr",
     "output_type": "stream",
     "text": [
      " 86%|████████▌ | 86/100 [48:02<07:37, 32.67s/it]"
     ]
    },
    {
     "name": "stdout",
     "output_type": "stream",
     "text": [
      "tensor([0, 1, 0, 2, 3, 0, 3, 3, 0, 1, 1, 0, 3, 1, 7, 5, 4, 4, 7, 0, 6, 9, 0, 5,\n",
      "        6, 2, 3, 8, 2, 3, 7, 4, 1, 8, 7, 3, 9, 0, 7, 0, 9, 9, 5, 3, 6, 7, 8, 5,\n",
      "        1, 4, 6, 9, 9, 7, 0, 1, 9, 0, 6, 0, 4, 6, 3, 1, 2, 5, 3, 2, 6, 2, 7, 8,\n",
      "        9, 9, 6])\n",
      "tensor([0., 1., 0., 2., 3., 0., 3., 3., 0., 1., 1., 0., 3., 1., 7., 5., 4., 4.,\n",
      "        7., 0., 6., 9., 0., 5., 6., 2., 3., 8., 2., 2., 7., 4., 1., 8., 7., 3.,\n",
      "        5., 0., 7., 0., 9., 9., 5., 3., 6., 7., 8., 5., 1., 4., 6., 9., 9., 7.,\n",
      "        2., 1., 9., 0., 6., 0., 4., 6., 3., 1., 8., 5., 3., 2., 6., 2., 7., 8.,\n",
      "        9., 9., 6.], dtype=torch.float64)\n",
      "\n",
      "Accuracy: tensor(0.9467)\n",
      "\n",
      "tensor(0.2988, grad_fn=<DivBackward1>)\n"
     ]
    },
    {
     "name": "stderr",
     "output_type": "stream",
     "text": [
      " 87%|████████▋ | 87/100 [48:35<07:05, 32.70s/it]"
     ]
    },
    {
     "name": "stdout",
     "output_type": "stream",
     "text": [
      "tensor([0, 1, 0, 2, 3, 0, 3, 3, 0, 1, 1, 0, 3, 1, 7, 5, 4, 4, 7, 0, 6, 9, 0, 5,\n",
      "        6, 2, 3, 8, 2, 3, 7, 4, 1, 8, 7, 3, 9, 0, 7, 0, 9, 9, 5, 3, 6, 7, 8, 5,\n",
      "        1, 4, 6, 9, 9, 7, 0, 1, 9, 0, 6, 0, 4, 6, 3, 1, 8, 5, 3, 2, 6, 2, 7, 8,\n",
      "        9, 9, 6])\n",
      "tensor([0., 1., 0., 2., 3., 0., 3., 3., 0., 1., 1., 0., 3., 1., 7., 5., 4., 4.,\n",
      "        7., 0., 6., 9., 0., 5., 6., 2., 3., 8., 2., 2., 7., 4., 1., 8., 7., 3.,\n",
      "        5., 0., 7., 0., 9., 9., 5., 3., 6., 7., 8., 5., 1., 4., 6., 9., 9., 7.,\n",
      "        2., 1., 9., 0., 6., 0., 4., 6., 3., 1., 8., 5., 3., 2., 6., 2., 7., 8.,\n",
      "        9., 9., 6.], dtype=torch.float64)\n",
      "\n",
      "Accuracy: tensor(0.9600)\n",
      "\n",
      "tensor(0.2901, grad_fn=<DivBackward1>)\n"
     ]
    },
    {
     "name": "stderr",
     "output_type": "stream",
     "text": [
      " 88%|████████▊ | 88/100 [49:08<06:35, 32.93s/it]"
     ]
    },
    {
     "name": "stdout",
     "output_type": "stream",
     "text": [
      "tensor([0, 1, 0, 2, 3, 0, 3, 3, 0, 1, 1, 0, 3, 1, 7, 5, 4, 4, 7, 0, 6, 9, 0, 5,\n",
      "        6, 2, 3, 8, 2, 3, 7, 4, 1, 8, 7, 3, 9, 0, 7, 0, 9, 9, 5, 3, 6, 7, 8, 5,\n",
      "        1, 4, 6, 9, 9, 7, 0, 1, 9, 0, 6, 0, 4, 6, 3, 1, 8, 5, 3, 2, 6, 2, 7, 8,\n",
      "        9, 9, 6])\n",
      "tensor([0., 1., 0., 2., 3., 0., 3., 3., 0., 1., 1., 0., 3., 1., 7., 5., 4., 4.,\n",
      "        7., 0., 6., 9., 0., 5., 6., 2., 3., 8., 2., 2., 7., 4., 1., 8., 7., 3.,\n",
      "        5., 0., 7., 0., 9., 9., 5., 3., 6., 7., 8., 5., 1., 4., 6., 9., 9., 7.,\n",
      "        2., 1., 9., 0., 6., 0., 4., 6., 3., 1., 8., 5., 3., 2., 6., 2., 7., 8.,\n",
      "        9., 9., 6.], dtype=torch.float64)\n",
      "\n",
      "Accuracy: tensor(0.9600)\n",
      "\n",
      "tensor(0.2823, grad_fn=<DivBackward1>)\n"
     ]
    },
    {
     "name": "stderr",
     "output_type": "stream",
     "text": [
      " 89%|████████▉ | 89/100 [49:41<06:00, 32.81s/it]"
     ]
    },
    {
     "name": "stdout",
     "output_type": "stream",
     "text": [
      "tensor([0, 1, 0, 2, 3, 0, 3, 3, 0, 1, 1, 0, 3, 1, 7, 5, 4, 4, 7, 0, 6, 9, 0, 5,\n",
      "        6, 2, 3, 8, 2, 3, 7, 4, 1, 8, 7, 3, 9, 0, 7, 0, 9, 9, 5, 3, 6, 7, 8, 5,\n",
      "        1, 4, 6, 9, 9, 7, 0, 1, 9, 0, 6, 0, 4, 6, 3, 1, 8, 5, 3, 2, 6, 2, 7, 8,\n",
      "        9, 9, 6])\n",
      "tensor([0., 1., 0., 2., 3., 0., 3., 3., 0., 1., 1., 0., 3., 1., 7., 5., 4., 4.,\n",
      "        7., 0., 6., 9., 0., 5., 6., 2., 3., 8., 2., 2., 7., 4., 1., 8., 7., 3.,\n",
      "        5., 0., 7., 0., 9., 9., 5., 3., 6., 7., 8., 5., 1., 4., 6., 9., 9., 7.,\n",
      "        2., 1., 9., 0., 6., 0., 4., 6., 3., 1., 8., 5., 3., 2., 6., 2., 7., 8.,\n",
      "        9., 9., 6.], dtype=torch.float64)\n",
      "\n",
      "Accuracy: tensor(0.9600)\n",
      "\n",
      "tensor(0.2762, grad_fn=<DivBackward1>)\n"
     ]
    },
    {
     "name": "stderr",
     "output_type": "stream",
     "text": [
      " 90%|█████████ | 90/100 [50:13<05:27, 32.79s/it]"
     ]
    },
    {
     "name": "stdout",
     "output_type": "stream",
     "text": [
      "tensor([0, 1, 0, 2, 3, 0, 3, 3, 0, 1, 1, 0, 3, 1, 7, 5, 4, 4, 7, 0, 6, 9, 0, 5,\n",
      "        6, 2, 3, 8, 2, 3, 7, 4, 1, 8, 7, 3, 9, 0, 7, 0, 9, 9, 5, 3, 6, 7, 8, 5,\n",
      "        1, 4, 6, 9, 9, 7, 0, 1, 9, 0, 6, 0, 4, 6, 3, 1, 8, 5, 3, 2, 6, 2, 7, 8,\n",
      "        9, 9, 6])\n",
      "tensor([0., 1., 0., 2., 3., 0., 3., 3., 0., 1., 1., 0., 3., 1., 7., 5., 4., 4.,\n",
      "        7., 0., 6., 9., 0., 5., 6., 2., 3., 8., 2., 2., 7., 4., 1., 8., 7., 3.,\n",
      "        5., 0., 7., 0., 9., 9., 5., 3., 6., 7., 8., 5., 1., 4., 6., 9., 9., 7.,\n",
      "        2., 1., 9., 0., 6., 0., 4., 6., 3., 1., 8., 5., 3., 2., 6., 2., 7., 8.,\n",
      "        9., 9., 6.], dtype=torch.float64)\n",
      "\n",
      "Accuracy: tensor(0.9600)\n",
      "\n",
      "tensor(0.2698, grad_fn=<DivBackward1>)\n"
     ]
    },
    {
     "name": "stderr",
     "output_type": "stream",
     "text": [
      " 91%|█████████ | 91/100 [50:47<04:56, 32.99s/it]"
     ]
    },
    {
     "name": "stdout",
     "output_type": "stream",
     "text": [
      "tensor([0, 1, 0, 2, 3, 0, 3, 3, 0, 1, 1, 0, 3, 1, 7, 5, 4, 4, 7, 0, 6, 9, 0, 5,\n",
      "        6, 2, 3, 8, 2, 3, 7, 4, 1, 8, 7, 3, 9, 0, 7, 0, 9, 9, 5, 3, 6, 7, 8, 5,\n",
      "        1, 4, 6, 9, 9, 7, 0, 1, 9, 0, 6, 0, 4, 6, 3, 1, 8, 5, 3, 2, 6, 2, 7, 8,\n",
      "        9, 9, 6])\n",
      "tensor([0., 1., 0., 2., 3., 0., 3., 3., 0., 1., 1., 0., 3., 1., 7., 5., 4., 4.,\n",
      "        7., 0., 6., 9., 0., 5., 6., 2., 3., 8., 2., 2., 7., 4., 1., 8., 7., 3.,\n",
      "        5., 0., 7., 0., 9., 9., 5., 3., 6., 7., 8., 5., 1., 4., 6., 9., 9., 7.,\n",
      "        2., 1., 9., 0., 6., 0., 4., 6., 3., 1., 8., 5., 3., 2., 6., 2., 7., 8.,\n",
      "        9., 9., 6.], dtype=torch.float64)\n",
      "\n",
      "Accuracy: tensor(0.9600)\n",
      "\n",
      "tensor(0.2649, grad_fn=<DivBackward1>)\n"
     ]
    },
    {
     "name": "stderr",
     "output_type": "stream",
     "text": [
      " 92%|█████████▏| 92/100 [51:20<04:23, 32.94s/it]"
     ]
    },
    {
     "name": "stdout",
     "output_type": "stream",
     "text": [
      "tensor([0, 1, 0, 2, 3, 0, 3, 3, 0, 1, 1, 0, 3, 1, 7, 5, 4, 4, 7, 0, 6, 9, 0, 5,\n",
      "        6, 2, 3, 8, 2, 3, 7, 4, 1, 8, 7, 3, 9, 0, 7, 0, 9, 9, 5, 3, 6, 7, 8, 5,\n",
      "        1, 4, 6, 9, 9, 7, 0, 1, 9, 0, 6, 0, 4, 6, 3, 1, 8, 5, 3, 2, 6, 2, 7, 8,\n",
      "        9, 9, 6])\n",
      "tensor([0., 1., 0., 2., 3., 0., 3., 3., 0., 1., 1., 0., 3., 1., 7., 5., 4., 4.,\n",
      "        7., 0., 6., 9., 0., 5., 6., 2., 3., 8., 2., 2., 7., 4., 1., 8., 7., 3.,\n",
      "        5., 0., 7., 0., 9., 9., 5., 3., 6., 7., 8., 5., 1., 4., 6., 9., 9., 7.,\n",
      "        2., 1., 9., 0., 6., 0., 4., 6., 3., 1., 8., 5., 3., 2., 6., 2., 7., 8.,\n",
      "        9., 9., 6.], dtype=torch.float64)\n",
      "\n",
      "Accuracy: tensor(0.9600)\n",
      "\n",
      "tensor(0.2542, grad_fn=<DivBackward1>)\n"
     ]
    },
    {
     "name": "stderr",
     "output_type": "stream",
     "text": [
      " 93%|█████████▎| 93/100 [51:53<03:52, 33.15s/it]"
     ]
    },
    {
     "name": "stdout",
     "output_type": "stream",
     "text": [
      "tensor([0, 1, 0, 2, 3, 0, 3, 3, 0, 1, 1, 0, 3, 1, 7, 5, 4, 4, 7, 0, 6, 9, 0, 5,\n",
      "        6, 2, 3, 8, 2, 3, 7, 4, 1, 8, 7, 3, 9, 0, 7, 0, 9, 9, 5, 3, 6, 7, 8, 5,\n",
      "        1, 4, 6, 9, 9, 7, 0, 1, 9, 0, 6, 0, 4, 6, 3, 1, 8, 5, 3, 2, 6, 2, 7, 8,\n",
      "        9, 9, 6])\n",
      "tensor([0., 1., 0., 2., 3., 0., 3., 3., 0., 1., 1., 0., 3., 1., 7., 5., 4., 4.,\n",
      "        7., 0., 6., 9., 0., 5., 6., 2., 3., 8., 2., 2., 7., 4., 1., 8., 7., 3.,\n",
      "        5., 0., 7., 0., 9., 9., 5., 3., 6., 7., 8., 5., 1., 4., 6., 9., 9., 7.,\n",
      "        2., 1., 9., 0., 6., 0., 4., 6., 3., 1., 8., 5., 3., 2., 6., 2., 7., 8.,\n",
      "        9., 9., 6.], dtype=torch.float64)\n",
      "\n",
      "Accuracy: tensor(0.9600)\n",
      "\n",
      "tensor(0.2449, grad_fn=<DivBackward1>)\n"
     ]
    },
    {
     "name": "stderr",
     "output_type": "stream",
     "text": [
      " 94%|█████████▍| 94/100 [52:27<03:20, 33.37s/it]"
     ]
    },
    {
     "name": "stdout",
     "output_type": "stream",
     "text": [
      "tensor([0, 1, 0, 2, 3, 0, 3, 3, 0, 1, 1, 0, 3, 1, 7, 5, 4, 4, 7, 0, 6, 9, 0, 5,\n",
      "        6, 2, 3, 8, 2, 3, 7, 4, 1, 8, 7, 3, 9, 0, 7, 0, 9, 9, 5, 3, 6, 7, 8, 5,\n",
      "        1, 4, 6, 9, 9, 7, 0, 1, 9, 0, 6, 0, 4, 6, 3, 1, 8, 5, 3, 2, 6, 2, 7, 8,\n",
      "        9, 9, 6])\n",
      "tensor([0., 1., 0., 2., 3., 0., 3., 3., 0., 1., 1., 0., 3., 1., 7., 5., 4., 4.,\n",
      "        7., 0., 6., 9., 0., 5., 6., 2., 3., 8., 2., 2., 7., 4., 1., 8., 7., 3.,\n",
      "        5., 0., 7., 0., 9., 9., 5., 3., 6., 7., 8., 5., 1., 4., 6., 9., 9., 7.,\n",
      "        2., 1., 9., 0., 6., 0., 4., 6., 3., 1., 8., 5., 3., 2., 6., 2., 7., 8.,\n",
      "        9., 9., 6.], dtype=torch.float64)\n",
      "\n",
      "Accuracy: tensor(0.9600)\n",
      "\n",
      "tensor(0.2404, grad_fn=<DivBackward1>)\n"
     ]
    },
    {
     "name": "stderr",
     "output_type": "stream",
     "text": [
      " 95%|█████████▌| 95/100 [53:01<02:48, 33.61s/it]"
     ]
    },
    {
     "name": "stdout",
     "output_type": "stream",
     "text": [
      "tensor([0, 1, 0, 2, 3, 0, 3, 3, 0, 1, 1, 0, 3, 1, 7, 5, 4, 4, 7, 0, 6, 9, 0, 5,\n",
      "        6, 2, 3, 8, 2, 3, 7, 4, 1, 8, 7, 3, 9, 0, 7, 0, 9, 9, 5, 3, 6, 7, 8, 5,\n",
      "        1, 4, 6, 9, 9, 7, 0, 1, 9, 0, 6, 0, 4, 6, 3, 1, 8, 5, 3, 2, 6, 2, 7, 8,\n",
      "        9, 9, 6])\n",
      "tensor([0., 1., 0., 2., 3., 0., 3., 3., 0., 1., 1., 0., 3., 1., 7., 5., 4., 4.,\n",
      "        7., 0., 6., 9., 0., 5., 6., 2., 3., 8., 2., 2., 7., 4., 1., 8., 7., 3.,\n",
      "        5., 0., 7., 0., 9., 9., 5., 3., 6., 7., 8., 5., 1., 4., 6., 9., 9., 7.,\n",
      "        2., 1., 9., 0., 6., 0., 4., 6., 3., 1., 8., 5., 3., 2., 6., 2., 7., 8.,\n",
      "        9., 9., 6.], dtype=torch.float64)\n",
      "\n",
      "Accuracy: tensor(0.9600)\n",
      "\n",
      "tensor(0.2333, grad_fn=<DivBackward1>)\n"
     ]
    },
    {
     "name": "stderr",
     "output_type": "stream",
     "text": [
      " 96%|█████████▌| 96/100 [53:35<02:14, 33.65s/it]"
     ]
    },
    {
     "name": "stdout",
     "output_type": "stream",
     "text": [
      "tensor([0, 1, 0, 2, 3, 0, 3, 3, 0, 1, 1, 0, 3, 1, 7, 5, 4, 4, 7, 0, 6, 9, 0, 5,\n",
      "        6, 2, 3, 8, 2, 3, 7, 4, 1, 8, 7, 3, 9, 0, 7, 0, 9, 9, 5, 3, 6, 7, 8, 5,\n",
      "        1, 4, 6, 9, 9, 7, 0, 1, 9, 0, 6, 0, 4, 6, 3, 1, 8, 5, 3, 2, 6, 2, 7, 8,\n",
      "        9, 9, 6])\n",
      "tensor([0., 1., 0., 2., 3., 0., 3., 3., 0., 1., 1., 0., 3., 1., 7., 5., 4., 4.,\n",
      "        7., 0., 6., 9., 0., 5., 6., 2., 3., 8., 2., 2., 7., 4., 1., 8., 7., 3.,\n",
      "        5., 0., 7., 0., 9., 9., 5., 3., 6., 7., 8., 5., 1., 4., 6., 9., 9., 7.,\n",
      "        2., 1., 9., 0., 6., 0., 4., 6., 3., 1., 8., 5., 3., 2., 6., 2., 7., 8.,\n",
      "        9., 9., 6.], dtype=torch.float64)\n",
      "\n",
      "Accuracy: tensor(0.9600)\n",
      "\n",
      "tensor(0.2288, grad_fn=<DivBackward1>)\n"
     ]
    },
    {
     "name": "stderr",
     "output_type": "stream",
     "text": [
      " 97%|█████████▋| 97/100 [54:09<01:40, 33.60s/it]"
     ]
    },
    {
     "name": "stdout",
     "output_type": "stream",
     "text": [
      "tensor([0, 1, 0, 2, 3, 0, 3, 3, 0, 1, 1, 0, 3, 1, 7, 5, 4, 4, 7, 0, 6, 9, 0, 5,\n",
      "        6, 2, 3, 8, 2, 3, 7, 4, 1, 8, 7, 3, 9, 0, 7, 0, 9, 9, 5, 3, 6, 7, 8, 5,\n",
      "        1, 4, 6, 9, 9, 7, 0, 1, 9, 0, 6, 0, 4, 6, 3, 1, 8, 5, 3, 2, 6, 2, 7, 8,\n",
      "        9, 9, 6])\n",
      "tensor([0., 1., 0., 2., 3., 0., 3., 3., 0., 1., 1., 0., 3., 1., 7., 5., 4., 4.,\n",
      "        7., 0., 6., 9., 0., 5., 6., 2., 3., 8., 2., 2., 7., 4., 1., 8., 7., 3.,\n",
      "        5., 0., 7., 0., 9., 9., 5., 3., 6., 7., 8., 5., 1., 4., 6., 9., 9., 7.,\n",
      "        2., 1., 9., 0., 6., 0., 4., 6., 3., 1., 8., 5., 3., 2., 6., 2., 7., 8.,\n",
      "        9., 9., 6.], dtype=torch.float64)\n",
      "\n",
      "Accuracy: tensor(0.9600)\n",
      "\n",
      "tensor(0.2241, grad_fn=<DivBackward1>)\n"
     ]
    },
    {
     "name": "stderr",
     "output_type": "stream",
     "text": [
      " 98%|█████████▊| 98/100 [54:42<01:07, 33.55s/it]"
     ]
    },
    {
     "name": "stdout",
     "output_type": "stream",
     "text": [
      "tensor([0, 1, 0, 2, 3, 0, 3, 3, 0, 1, 1, 0, 3, 1, 7, 5, 4, 4, 7, 0, 6, 9, 0, 5,\n",
      "        6, 2, 3, 8, 2, 3, 7, 4, 1, 8, 7, 3, 9, 0, 7, 0, 9, 9, 5, 3, 6, 7, 8, 5,\n",
      "        1, 4, 6, 9, 9, 7, 0, 1, 9, 0, 6, 0, 4, 6, 3, 1, 8, 5, 3, 2, 6, 2, 7, 8,\n",
      "        9, 9, 6])\n",
      "tensor([0., 1., 0., 2., 3., 0., 3., 3., 0., 1., 1., 0., 3., 1., 7., 5., 4., 4.,\n",
      "        7., 0., 6., 9., 0., 5., 6., 2., 3., 8., 2., 2., 7., 4., 1., 8., 7., 3.,\n",
      "        5., 0., 7., 0., 9., 9., 5., 3., 6., 7., 8., 5., 1., 4., 6., 9., 9., 7.,\n",
      "        2., 1., 9., 0., 6., 0., 4., 6., 3., 1., 8., 5., 3., 2., 6., 2., 7., 8.,\n",
      "        9., 9., 6.], dtype=torch.float64)\n",
      "\n",
      "Accuracy: tensor(0.9600)\n",
      "\n",
      "tensor(0.2170, grad_fn=<DivBackward1>)\n"
     ]
    },
    {
     "name": "stderr",
     "output_type": "stream",
     "text": [
      " 99%|█████████▉| 99/100 [55:16<00:33, 33.54s/it]"
     ]
    },
    {
     "name": "stdout",
     "output_type": "stream",
     "text": [
      "tensor([0, 1, 0, 2, 3, 0, 3, 3, 0, 1, 1, 0, 3, 1, 7, 5, 4, 4, 7, 0, 6, 9, 0, 5,\n",
      "        6, 2, 3, 8, 2, 3, 7, 4, 1, 8, 7, 3, 9, 0, 7, 0, 9, 9, 5, 3, 6, 7, 8, 5,\n",
      "        1, 4, 6, 9, 9, 7, 0, 1, 9, 0, 6, 0, 4, 6, 3, 1, 8, 5, 3, 2, 6, 2, 7, 8,\n",
      "        9, 9, 6])\n",
      "tensor([0., 1., 0., 2., 3., 0., 3., 3., 0., 1., 1., 0., 3., 1., 7., 5., 4., 4.,\n",
      "        7., 0., 6., 9., 0., 5., 6., 2., 3., 8., 2., 2., 7., 4., 1., 8., 7., 3.,\n",
      "        5., 0., 7., 0., 9., 9., 5., 3., 6., 7., 8., 5., 1., 4., 6., 9., 9., 7.,\n",
      "        2., 1., 9., 0., 6., 0., 4., 6., 3., 1., 8., 5., 3., 2., 6., 2., 7., 8.,\n",
      "        9., 9., 6.], dtype=torch.float64)\n",
      "\n",
      "Accuracy: tensor(0.9600)\n",
      "\n",
      "tensor(0.2096, grad_fn=<DivBackward1>)\n"
     ]
    },
    {
     "name": "stderr",
     "output_type": "stream",
     "text": [
      "100%|██████████| 100/100 [55:49<00:00, 33.50s/it]\n"
     ]
    }
   ],
   "source": [
    "for iepoch in tqdm(range(100)):\n",
    "    optimizer.zero_grad()\n",
    "    X_tensor=torch.tensor(X_train)\n",
    "    predictions=model(X_tensor.float()).squeeze(1)\n",
    "    #predictions=torch.sign(predictions)\n",
    "    #print(predictions)\n",
    "    label=torch.tensor(y_train)\n",
    "    #for i in range(len(label)):\n",
    "    #    if label[i]==1:\n",
    "    #        label[i] = 0\n",
    "    #    else:\n",
    "    #        label[i]=1\n",
    "    #print(label)\n",
    "    loss = criterion(predictions, label.float())\n",
    "    acc = multi_accuracy(predictions, label)\n",
    "    print('')\n",
    "    print('Accuracy:',acc)\n",
    "    print('')\n",
    "    print(loss)\n",
    "    loss.backward()\n",
    "    optimizer.step()"
   ]
  },
  {
   "cell_type": "code",
   "execution_count": 236,
   "id": "3f560389",
   "metadata": {},
   "outputs": [
    {
     "name": "stdout",
     "output_type": "stream",
     "text": [
      "tensor([2, 6, 5, 5, 4, 5, 3, 1, 8, 7, 3, 9, 1, 6, 5, 2, 5, 7, 4, 8, 6, 3, 6, 1,\n",
      "        2])\n",
      "tensor([8., 1., 4., 5., 4., 2., 3., 1., 8., 7., 3., 9., 1., 6., 5., 2., 5., 7.,\n",
      "        4., 8., 6., 3., 6., 1., 2.], dtype=torch.float64)\n",
      "\n",
      "Accuracy: tensor(0.8400)\n",
      "\n",
      "tensor(0.6853, grad_fn=<DivBackward1>)\n"
     ]
    }
   ],
   "source": [
    "X_tensor=torch.tensor(X_test)\n",
    "predictions=model(X_tensor.float()).squeeze(1)\n",
    "label=torch.tensor(y_test)\n",
    "\n",
    "loss = criterion(predictions, label.float())\n",
    "acc = multi_accuracy(predictions, label.float())\n",
    "print('')\n",
    "print('Accuracy:',acc)\n",
    "print('')\n",
    "print(loss)"
   ]
  },
  {
   "cell_type": "markdown",
   "id": "e92f2c37",
   "metadata": {},
   "source": [
    "# Sklearn Image Dataset (Patches Prepared Column-wise)"
   ]
  },
  {
   "cell_type": "code",
   "execution_count": 83,
   "id": "b214dd1c",
   "metadata": {},
   "outputs": [],
   "source": [
    "from sklearn.datasets import load_digits\n",
    "from sklearn.model_selection import train_test_split\n",
    "digits = load_digits()\n",
    "X, y = digits.images[0:500], digits.target[0:500]\n",
    "X_train, X_test, y_train, y_test = train_test_split(X, y)\n",
    "\n",
    "train_mask = np.isin(y_train, [1, 7])\n",
    "X_train, y_train = X_train[train_mask], y_train[train_mask]\n",
    "\n",
    "test_mask = np.isin(y_test, [1, 7])\n",
    "X_test, y_test = X_test[test_mask], y_test[test_mask]\n",
    "\n",
    "#X_train = X_train.reshape(X_train.shape[0], 4, 16)\n",
    "#X_test = X_test.reshape(X_test.shape[0], 4, 16)\n",
    "X_train_c = X_train.transpose(0, 2, 1)\n",
    "X_test_c = X_test.transpose(0, 2, 1)\n",
    "\n",
    "X_train_c = X_train_c.reshape(X_train.shape[0], 4, 16)\n",
    "X_test_c = X_test_c.reshape(X_test.shape[0], 4, 16)"
   ]
  },
  {
   "cell_type": "code",
   "execution_count": 79,
   "id": "1fbb13d4",
   "metadata": {},
   "outputs": [],
   "source": [
    "model=QSANN_text_classifier(4,4,2,1,1)\n",
    "optimizer = torch.optim.Adam(lr=0.01, params=model.parameters())\n",
    "criterion = torch.nn.CrossEntropyLoss()"
   ]
  },
  {
   "cell_type": "code",
   "execution_count": 81,
   "id": "1e34fb71",
   "metadata": {},
   "outputs": [
    {
     "name": "stderr",
     "output_type": "stream",
     "text": [
      "\r\n",
      "  0%|          | 0/10 [00:00<?, ?it/s]"
     ]
    },
    {
     "name": "stdout",
     "output_type": "stream",
     "text": [
      "\n",
      "Accuracy: tensor(0.9481)\n",
      "\n",
      "tensor(146.3840, grad_fn=<DivBackward1>)\n"
     ]
    },
    {
     "name": "stderr",
     "output_type": "stream",
     "text": [
      "\r\n",
      " 10%|█         | 1/10 [00:24<03:43, 24.87s/it]"
     ]
    },
    {
     "name": "stdout",
     "output_type": "stream",
     "text": [
      "\n",
      "Accuracy: tensor(0.9481)\n",
      "\n",
      "tensor(145.6917, grad_fn=<DivBackward1>)\n"
     ]
    },
    {
     "name": "stderr",
     "output_type": "stream",
     "text": [
      "\r\n",
      " 20%|██        | 2/10 [00:50<03:21, 25.24s/it]"
     ]
    },
    {
     "name": "stdout",
     "output_type": "stream",
     "text": [
      "\n",
      "Accuracy: tensor(0.9740)\n",
      "\n",
      "tensor(143.9053, grad_fn=<DivBackward1>)\n"
     ]
    },
    {
     "name": "stderr",
     "output_type": "stream",
     "text": [
      "\r\n",
      " 30%|███       | 3/10 [01:15<02:56, 25.27s/it]"
     ]
    },
    {
     "name": "stdout",
     "output_type": "stream",
     "text": [
      "\n",
      "Accuracy: tensor(1.)\n",
      "\n",
      "tensor(142.9731, grad_fn=<DivBackward1>)\n"
     ]
    },
    {
     "name": "stderr",
     "output_type": "stream",
     "text": [
      "\r\n",
      " 40%|████      | 4/10 [01:41<02:32, 25.37s/it]"
     ]
    },
    {
     "name": "stdout",
     "output_type": "stream",
     "text": [
      "\n",
      "Accuracy: tensor(0.9740)\n",
      "\n",
      "tensor(142.8075, grad_fn=<DivBackward1>)\n"
     ]
    },
    {
     "name": "stderr",
     "output_type": "stream",
     "text": [
      "\r\n",
      " 50%|█████     | 5/10 [02:06<02:07, 25.52s/it]"
     ]
    },
    {
     "name": "stdout",
     "output_type": "stream",
     "text": [
      "\n",
      "Accuracy: tensor(0.9740)\n",
      "\n",
      "tensor(142.7293, grad_fn=<DivBackward1>)\n"
     ]
    },
    {
     "name": "stderr",
     "output_type": "stream",
     "text": [
      "\r\n",
      " 60%|██████    | 6/10 [02:33<01:42, 25.74s/it]"
     ]
    },
    {
     "name": "stdout",
     "output_type": "stream",
     "text": [
      "\n",
      "Accuracy: tensor(0.9870)\n",
      "\n",
      "tensor(142.6147, grad_fn=<DivBackward1>)\n"
     ]
    },
    {
     "name": "stderr",
     "output_type": "stream",
     "text": [
      "\r\n",
      " 70%|███████   | 7/10 [02:59<01:17, 25.88s/it]"
     ]
    },
    {
     "name": "stdout",
     "output_type": "stream",
     "text": [
      "\n",
      "Accuracy: tensor(0.9870)\n",
      "\n",
      "tensor(142.3875, grad_fn=<DivBackward1>)\n"
     ]
    },
    {
     "name": "stderr",
     "output_type": "stream",
     "text": [
      "\r\n",
      " 80%|████████  | 8/10 [03:28<00:53, 26.82s/it]"
     ]
    },
    {
     "name": "stdout",
     "output_type": "stream",
     "text": [
      "\n",
      "Accuracy: tensor(0.9870)\n",
      "\n",
      "tensor(142.2015, grad_fn=<DivBackward1>)\n"
     ]
    },
    {
     "name": "stderr",
     "output_type": "stream",
     "text": [
      "\r\n",
      " 90%|█████████ | 9/10 [03:53<00:26, 26.36s/it]"
     ]
    },
    {
     "name": "stdout",
     "output_type": "stream",
     "text": [
      "\n",
      "Accuracy: tensor(1.)\n",
      "\n",
      "tensor(142.0063, grad_fn=<DivBackward1>)\n"
     ]
    },
    {
     "name": "stderr",
     "output_type": "stream",
     "text": [
      "100%|██████████| 10/10 [04:19<00:00, 25.91s/it]\n"
     ]
    }
   ],
   "source": [
    "for iepoch in tqdm(range(10)):\n",
    "    optimizer.zero_grad()\n",
    "    X_tensor=torch.tensor(X_train_c)\n",
    "    predictions=model(X_tensor.float()).squeeze(1)\n",
    "    #predictions=torch.sign(predictions)\n",
    "    #print(predictions)\n",
    "    label=torch.tensor(y_train)\n",
    "    for i in range(len(label)):\n",
    "        if label[i]==1:\n",
    "            label[i] = 0\n",
    "        else:\n",
    "            label[i]=1\n",
    "    #print(label)\n",
    "    loss = criterion(predictions, label.float())\n",
    "    acc = binary_accuracy(predictions, label)\n",
    "    print('')\n",
    "    print('Accuracy:',acc)\n",
    "    print('')\n",
    "    print(loss)\n",
    "    loss.backward()\n",
    "    optimizer.step()"
   ]
  },
  {
   "cell_type": "code",
   "execution_count": 84,
   "id": "bbf51bbd",
   "metadata": {},
   "outputs": [
    {
     "name": "stdout",
     "output_type": "stream",
     "text": [
      "tensor([5.2172e-03, 9.9299e-01, 9.9714e-01, 2.4885e-02, 3.4008e-03, 1.7592e-03,\n",
      "        9.9949e-01, 3.8367e-03, 9.9953e-01, 9.9986e-01, 3.1252e-03, 8.2579e-02,\n",
      "        9.9762e-01, 9.9997e-01, 3.1298e-03, 7.1565e-03, 9.9605e-01, 9.9876e-01,\n",
      "        9.9963e-01, 1.4773e-03, 9.2540e-04], grad_fn=<SqueezeBackward1>)\n",
      "tensor([0, 1, 1, 0, 0, 0, 1, 0, 1, 1, 0, 0, 1, 1, 0, 0, 1, 1, 1, 0, 0])\n",
      "\n",
      "Accuracy: tensor(1.)\n",
      "\n",
      "tensor(26.4663, grad_fn=<DivBackward1>)\n"
     ]
    }
   ],
   "source": [
    "X_tensor=torch.tensor(X_test_c)\n",
    "predictions=model(X_tensor.float()).squeeze(1)\n",
    "print(predictions)\n",
    "label=torch.tensor(y_test)\n",
    "for i in range(len(label)):\n",
    "        if label[i]==1:\n",
    "            label[i] = 0\n",
    "        else:\n",
    "            label[i]=1\n",
    "print(label)\n",
    "loss = criterion(predictions, label.float())\n",
    "acc = binary_accuracy(predictions, label.float())\n",
    "print('')\n",
    "print('Accuracy:',acc)\n",
    "print('')\n",
    "print(loss)"
   ]
  }
 ],
 "metadata": {
  "kernelspec": {
   "display_name": "Python 3.9.16 ('MachineLearning')",
   "language": "python",
   "name": "python3"
  },
  "language_info": {
   "codemirror_mode": {
    "name": "ipython",
    "version": 3
   },
   "file_extension": ".py",
   "mimetype": "text/x-python",
   "name": "python",
   "nbconvert_exporter": "python",
   "pygments_lexer": "ipython3",
   "version": "3.9.16"
  },
  "vscode": {
   "interpreter": {
    "hash": "49c937739a3abfaba9a6138065d712d63763bff9d60ff858034e62d83b3910d5"
   }
  }
 },
 "nbformat": 4,
 "nbformat_minor": 5
}
