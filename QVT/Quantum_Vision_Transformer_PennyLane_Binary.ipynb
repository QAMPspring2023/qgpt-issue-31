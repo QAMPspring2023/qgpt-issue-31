{
  "cells": [
    {
      "cell_type": "code",
      "source": [
        "!pip install pennylane"
      ],
      "metadata": {
        "colab": {
          "base_uri": "https://localhost:8080/"
        },
        "id": "dMGgGcmoWni3",
        "outputId": "cbedd093-6679-479a-9f80-646a40891d50"
      },
      "id": "dMGgGcmoWni3",
      "execution_count": 1,
      "outputs": [
        {
          "output_type": "stream",
          "name": "stdout",
          "text": [
            "Collecting pennylane\n",
            "  Downloading PennyLane-0.34.0-py3-none-any.whl (1.6 MB)\n",
            "\u001b[2K     \u001b[90m━━━━━━━━━━━━━━━━━━━━━━━━━━━━━━━━━━━━━━━━\u001b[0m \u001b[32m1.6/1.6 MB\u001b[0m \u001b[31m7.5 MB/s\u001b[0m eta \u001b[36m0:00:00\u001b[0m\n",
            "\u001b[?25hRequirement already satisfied: numpy in /usr/local/lib/python3.10/dist-packages (from pennylane) (1.23.5)\n",
            "Requirement already satisfied: scipy in /usr/local/lib/python3.10/dist-packages (from pennylane) (1.11.4)\n",
            "Requirement already satisfied: networkx in /usr/local/lib/python3.10/dist-packages (from pennylane) (3.2.1)\n",
            "Collecting rustworkx (from pennylane)\n",
            "  Downloading rustworkx-0.14.0-cp310-cp310-manylinux_2_17_x86_64.manylinux2014_x86_64.whl (2.2 MB)\n",
            "\u001b[2K     \u001b[90m━━━━━━━━━━━━━━━━━━━━━━━━━━━━━━━━━━━━━━━━\u001b[0m \u001b[32m2.2/2.2 MB\u001b[0m \u001b[31m14.4 MB/s\u001b[0m eta \u001b[36m0:00:00\u001b[0m\n",
            "\u001b[?25hRequirement already satisfied: autograd in /usr/local/lib/python3.10/dist-packages (from pennylane) (1.6.2)\n",
            "Requirement already satisfied: toml in /usr/local/lib/python3.10/dist-packages (from pennylane) (0.10.2)\n",
            "Requirement already satisfied: appdirs in /usr/local/lib/python3.10/dist-packages (from pennylane) (1.4.4)\n",
            "Collecting semantic-version>=2.7 (from pennylane)\n",
            "  Downloading semantic_version-2.10.0-py2.py3-none-any.whl (15 kB)\n",
            "Collecting autoray>=0.6.1 (from pennylane)\n",
            "  Downloading autoray-0.6.8-py3-none-any.whl (49 kB)\n",
            "\u001b[2K     \u001b[90m━━━━━━━━━━━━━━━━━━━━━━━━━━━━━━━━━━━━━━━━\u001b[0m \u001b[32m49.9/49.9 kB\u001b[0m \u001b[31m6.0 MB/s\u001b[0m eta \u001b[36m0:00:00\u001b[0m\n",
            "\u001b[?25hRequirement already satisfied: cachetools in /usr/local/lib/python3.10/dist-packages (from pennylane) (5.3.2)\n",
            "Collecting pennylane-lightning>=0.34 (from pennylane)\n",
            "  Downloading PennyLane_Lightning-0.34.0-cp310-cp310-manylinux_2_17_x86_64.manylinux2014_x86_64.whl (18.1 MB)\n",
            "\u001b[2K     \u001b[90m━━━━━━━━━━━━━━━━━━━━━━━━━━━━━━━━━━━━━━━━\u001b[0m \u001b[32m18.1/18.1 MB\u001b[0m \u001b[31m27.4 MB/s\u001b[0m eta \u001b[36m0:00:00\u001b[0m\n",
            "\u001b[?25hRequirement already satisfied: requests in /usr/local/lib/python3.10/dist-packages (from pennylane) (2.31.0)\n",
            "Requirement already satisfied: typing-extensions in /usr/local/lib/python3.10/dist-packages (from pennylane) (4.9.0)\n",
            "Requirement already satisfied: future>=0.15.2 in /usr/local/lib/python3.10/dist-packages (from autograd->pennylane) (0.18.3)\n",
            "Requirement already satisfied: charset-normalizer<4,>=2 in /usr/local/lib/python3.10/dist-packages (from requests->pennylane) (3.3.2)\n",
            "Requirement already satisfied: idna<4,>=2.5 in /usr/local/lib/python3.10/dist-packages (from requests->pennylane) (3.6)\n",
            "Requirement already satisfied: urllib3<3,>=1.21.1 in /usr/local/lib/python3.10/dist-packages (from requests->pennylane) (2.0.7)\n",
            "Requirement already satisfied: certifi>=2017.4.17 in /usr/local/lib/python3.10/dist-packages (from requests->pennylane) (2024.2.2)\n",
            "Installing collected packages: semantic-version, rustworkx, autoray, pennylane-lightning, pennylane\n",
            "Successfully installed autoray-0.6.8 pennylane-0.34.0 pennylane-lightning-0.34.0 rustworkx-0.14.0 semantic-version-2.10.0\n"
          ]
        }
      ]
    },
    {
      "cell_type": "code",
      "execution_count": 2,
      "id": "e04e26f5",
      "metadata": {
        "id": "e04e26f5"
      },
      "outputs": [],
      "source": [
        "import pennylane as qml\n",
        "import torch\n",
        "import numpy as np\n",
        "import random\n",
        "import torch.nn as nn\n",
        "from tqdm import tqdm"
      ]
    },
    {
      "cell_type": "code",
      "execution_count": 3,
      "id": "09380598",
      "metadata": {
        "id": "09380598"
      },
      "outputs": [],
      "source": [
        "import functools\n",
        "import inspect\n",
        "import math\n",
        "from collections.abc import Iterable\n",
        "from typing import Callable, Dict, Union, Any\n",
        "\n",
        "from pennylane.qnode import QNode\n",
        "\n",
        "try:\n",
        "    import torch\n",
        "    from torch.nn import Module\n",
        "\n",
        "    TORCH_IMPORTED = True\n",
        "except ImportError:\n",
        "    # The following allows this module to be imported even if PyTorch is not installed. Users\n",
        "    # will instead see an ImportError when instantiating the TorchLayer.\n",
        "    from unittest.mock import Mock\n",
        "\n",
        "    Module = Mock\n",
        "    TORCH_IMPORTED = False\n",
        "\n",
        "\n",
        "class TorchLayer(Module):\n",
        "    def __init__(self,qnode,weights):\n",
        "        if not TORCH_IMPORTED:\n",
        "            raise ImportError(\n",
        "                \"TorchLayer requires PyTorch. PyTorch can be installed using:\\n\"\n",
        "                \"pip install torch\\nAlternatively, \"\n",
        "                \"visit https://pytorch.org/get-started/locally/ for detailed \"\n",
        "                \"instructions.\"\n",
        "            )\n",
        "        super().__init__()\n",
        "\n",
        "        #weight_shapes = {\n",
        "        #    weight: (tuple(size) if isinstance(size, Iterable) else () if size == 1 else (size,))\n",
        "        #    for weight, size in weight_shapes.items()\n",
        "        #}\n",
        "\n",
        "        # validate the QNode signature, and convert to a Torch QNode.\n",
        "        # TODO: update the docstring regarding changes to restrictions when tape mode is default.\n",
        "        #self._signature_validation(qnode, weight_shapes)\n",
        "        self.qnode = qnode\n",
        "        self.qnode.interface = \"torch\"\n",
        "\n",
        "        self.qnode_weights = weights\n",
        "\n",
        "    def forward(self, inputs):  # pylint: disable=arguments-differ\n",
        "        \"\"\"Evaluates a forward pass through the QNode based upon input data and the initialized\n",
        "        weights.\n",
        "\n",
        "        Args:\n",
        "            inputs (tensor): data to be processed\n",
        "\n",
        "        Returns:\n",
        "            tensor: output data\n",
        "        \"\"\"\n",
        "        has_batch_dim = len(inputs.shape) > 1\n",
        "\n",
        "        # in case the input has more than one batch dimension\n",
        "        if has_batch_dim:\n",
        "            batch_dims = inputs.shape[:-1]\n",
        "            inputs = torch.reshape(inputs, (inputs.shape[-1],-1))\n",
        "\n",
        "        # calculate the forward pass as usual\n",
        "        results = self._evaluate_qnode(inputs)\n",
        "\n",
        "        # reshape to the correct number of batch dims\n",
        "        if has_batch_dim:\n",
        "            results = torch.reshape(results, (*batch_dims, *results.shape[1:]))\n",
        "\n",
        "        return results\n",
        "\n",
        "\n",
        "    def _evaluate_qnode(self, x):\n",
        "        \"\"\"Evaluates the QNode for a single input datapoint.\n",
        "\n",
        "        Args:\n",
        "            x (tensor): the datapoint\n",
        "\n",
        "        Returns:\n",
        "            tensor: output datapoint\n",
        "        \"\"\"\n",
        "        kwargs = {\n",
        "            **{self.input_arg: x},\n",
        "            **{arg: weight.to(x) for arg, weight in self.qnode_weights.items()},\n",
        "        }\n",
        "        res = self.qnode(**kwargs)\n",
        "\n",
        "        #print(res)\n",
        "\n",
        "        if isinstance(res, torch.Tensor):\n",
        "            return res.type(x.dtype)\n",
        "\n",
        "        if len(x.shape) > 1:\n",
        "            res = [torch.reshape(r, (x.shape[-1], -1)) for r in res]\n",
        "\n",
        "        return torch.hstack(res).type(x.dtype)\n",
        "\n",
        "    def __str__(self):\n",
        "        detail = \"<Quantum Torch Layer: func={}>\"\n",
        "        return detail.format(self.qnode.func.__name__)\n",
        "\n",
        "    __repr__ = __str__\n",
        "    _input_arg = \"inputs\"\n",
        "\n",
        "    @property\n",
        "    def input_arg(self):\n",
        "        \"\"\"Name of the argument to be used as the input to the Torch layer. Set to ``\"inputs\"``.\"\"\"\n",
        "        return self._input_arg"
      ]
    },
    {
      "cell_type": "code",
      "execution_count": 4,
      "id": "6860940b",
      "metadata": {
        "id": "6860940b"
      },
      "outputs": [],
      "source": [
        "class QSAL_pennylane(torch.nn.Module):\n",
        "    def __init__(self,S,n,Denc,D):\n",
        "        super().__init__()\n",
        "        self.seq_num=S\n",
        "        self.init_params_Q=torch.nn.Parameter(torch.stack([(np.pi/4) * (2 * torch.randn(n*(D+2)) - 1) for _ in range(self.seq_num)]))\n",
        "        self.init_params_K=torch.nn.Parameter(torch.stack([(np.pi/4) * (2 * torch.randn(n*(D+2)) - 1) for _ in range(self.seq_num)]))\n",
        "        self.init_params_V=torch.nn.Parameter(torch.stack([(np.pi/4) * (2 * torch.randn(n*(D+2)) - 1) for _ in range(self.seq_num)]))\n",
        "        self.num_q=n\n",
        "        self.Denc=Denc\n",
        "        self.D=D\n",
        "        self.d=n*(Denc+2)\n",
        "        self.dev = qml.device(\"default.qubit\", wires=self.num_q)\n",
        "\n",
        "        self.vqnod=qml.QNode(self.circuit_v, self.dev, interface=\"torch\")\n",
        "        self.qnod=qml.QNode(self.circuit_qk, self.dev, interface=\"torch\")\n",
        "        self.weight_v = [{\"weights\": self.init_params_V[i]} for i in range(self.seq_num)]\n",
        "        self.weight_q = [{\"weights\": self.init_params_Q[i]} for i in range(self.seq_num)]\n",
        "        self.weight_k = [{\"weights\": self.init_params_K[i]} for i in range(self.seq_num)]\n",
        "        #self.v_linear ={} #[qml.qnn.TorchLayer(self.vqnod[i], self.weight_shapes) for i in range(self.seq_num)]\n",
        "        #for i in range(self.seq_num):\n",
        "        self.v_linear = [TorchLayer(self.vqnod, self.weight_v[i]) for i in range(self.seq_num)]\n",
        "        self.q_linear = [TorchLayer(self.qnod, self.weight_q[i]) for i in range(self.seq_num)]\n",
        "        self.k_linear = [TorchLayer(self.qnod, self.weight_k[i]) for i in range(self.seq_num)]\n",
        "        #self.qqnod=[qml.QNode(self.circuit_qk, self.dev, interface=\"torch\") for i in range(self.seq_num)]\n",
        "\n",
        "    def random_op(self):\n",
        "        a=random.randint(0, 4)\n",
        "        if a==0:\n",
        "            op=qml.Identity(0)\n",
        "        elif a==1:\n",
        "            op=qml.PauliX(0)\n",
        "        elif a==2:\n",
        "            op=qml.PauliY(0)\n",
        "        else:\n",
        "            op=qml.PauliZ(0)\n",
        "\n",
        "        op_elimated=qml.Identity(0)\n",
        "        for i in range(1,self.num_q):\n",
        "            op_elimated=op_elimated@qml.Identity(i)\n",
        "        Select_wrong=True\n",
        "        while Select_wrong:\n",
        "            for i in range(1,self.num_q):\n",
        "                a=random.randint(0, 4)\n",
        "                if a==0:\n",
        "                    op=op@qml.Identity(i)\n",
        "                elif a==1:\n",
        "                    op=op@qml.PauliX(i)\n",
        "                elif a==2:\n",
        "                    op=op@qml.PauliY(i)\n",
        "                else:\n",
        "                    op=op@qml.PauliZ(i)\n",
        "            if op!=op_elimated:\n",
        "                Select_wrong=False\n",
        "        return op\n",
        "\n",
        "    def circuit_v(self,inputs,weights):\n",
        "            op=self.random_op()\n",
        "            # feature_map\n",
        "            indx=0\n",
        "            for j in range(self.num_q):\n",
        "                qml.RX(inputs[indx],j)\n",
        "                qml.RY(inputs[indx+1],j)\n",
        "                indx+=2\n",
        "            for i in range(self.Denc):\n",
        "                for j in range(self.num_q):\n",
        "                    qml.CNOT(wires=(j,(j+1)%self.num_q))\n",
        "\n",
        "                for j in range(self.num_q):\n",
        "                    qml.RY(inputs[indx],j)\n",
        "                    indx+=1\n",
        "            # Ansatz\n",
        "            indx=0\n",
        "            for j in range(self.num_q):\n",
        "                qml.RX(weights[indx],j)\n",
        "                qml.RY(weights[indx+1],j)\n",
        "                indx+=2\n",
        "            for i in range(self.D):\n",
        "                for j in range(self.num_q):\n",
        "                    qml.CNOT(wires=(j,(j+1)%self.num_q))\n",
        "\n",
        "                for j in range(self.num_q):\n",
        "                    #qc.rx(params[indx],j)\n",
        "                    qml.RY(weights[indx],j)\n",
        "                    indx+=1\n",
        "            return [qml.expval(op) for i in range(self.d)]\n",
        "\n",
        "    def circuit_qk(self,inputs,weights):\n",
        "        op=self.random_op()\n",
        "        # feature_map\n",
        "        indx=0\n",
        "        for j in range(self.num_q):\n",
        "            qml.RX(inputs[indx],j)\n",
        "            qml.RY(inputs[indx+1],j)\n",
        "            indx+=2\n",
        "        for i in range(self.Denc):\n",
        "            for j in range(self.num_q):\n",
        "                qml.CNOT(wires=(j,(j+1)%self.num_q))\n",
        "\n",
        "            for j in range(self.num_q):\n",
        "                qml.RY(inputs[indx],j)\n",
        "                indx+=1\n",
        "        # Ansatz\n",
        "        indx=0\n",
        "        for j in range(self.num_q):\n",
        "            qml.RX(weights[indx],j)\n",
        "            qml.RY(weights[indx+1],j)\n",
        "            indx+=2\n",
        "        for i in range(self.D):\n",
        "            for j in range(self.num_q):\n",
        "                qml.CNOT(wires=(j,(j+1)%self.num_q))\n",
        "\n",
        "            for j in range(self.num_q):\n",
        "                #qc.rx(params[indx],j)\n",
        "                qml.RY(weights[indx],j)\n",
        "                indx+=1\n",
        "        return [qml.expval(qml.PauliZ(0))]\n",
        "\n",
        "    def forward(self,input):\n",
        "\n",
        "        Q_output=torch.stack([self.q_linear[i](input[:,i]) for i in range(self.seq_num)])\n",
        "        K_output=torch.stack([self.k_linear[i](input[:,i]) for i in range(self.seq_num)])\n",
        "        V_output=torch.stack([self.v_linear[i](input[:,i]) for i in range(self.seq_num)])\n",
        "\n",
        "        batch_size=len(input)\n",
        "        Q_output=Q_output.transpose(0,2).repeat((self.seq_num,1,1))\n",
        "        K_output=K_output.transpose(0,2).repeat((self.seq_num,1,1)).transpose(0,2)\n",
        "        #print(V_output.size())\n",
        "        #Q_grid, K_grid=torch.meshgrid(Q_output, K_output, indexing='ij')\n",
        "        alpha=torch.exp(-(Q_output-K_output)**2)\n",
        "        alpha=alpha.transpose(0,1)\n",
        "        V_output=V_output.transpose(0,1)\n",
        "        output=[]\n",
        "\n",
        "        for i in range(self.seq_num):\n",
        "\n",
        "            Sum_a=torch.sum(alpha[:,i,:],-1)\n",
        "            div_sum_a=(1/Sum_a).repeat(self.d,self.seq_num,1).transpose(0,2)\n",
        "\n",
        "            Sum_w=torch.sum(alpha[:,:,i].repeat((self.d,1,1)).transpose(0,2).transpose(0,1)*V_output*div_sum_a,1)\n",
        "            output.append(Sum_w)\n",
        "        return input+torch.stack(output).transpose(0,1)\n",
        "\n",
        "class QSANN_pennylane(torch.nn.Module):\n",
        "    def __init__(self,S,n,Denc,D,num_layers):\n",
        "        \"\"\"\n",
        "        # input: input data\n",
        "        # weight: trainable parameter\n",
        "        # n: # of of qubits\n",
        "        # d: embedding dimension which is equal to n(Denc+2)\n",
        "        # Denc: the # number of layers for encoding\n",
        "        # D: the # of layers of variational layers\n",
        "        # type \"K\": key, \"Q\": Query, \"V\": value\n",
        "        \"\"\"\n",
        "        super().__init__()\n",
        "        self.qsal_lst=[QSAL_pennylane(S,n,Denc,D) for _ in range(num_layers)]\n",
        "        self.qnn=nn.Sequential(*self.qsal_lst)\n",
        "\n",
        "    def forward(self,input):\n",
        "\n",
        "        return self.qnn(input)\n",
        "\n",
        "class QSANN_text_classifier(torch.nn.Module):\n",
        "    def __init__(self,S,n,Denc,D,num_layers):\n",
        "        \"\"\"\n",
        "        # input: input data\n",
        "        # weight: trainable parameter\n",
        "        # n: # of of qubits\n",
        "        # d: embedding dimension which is equal to n(Denc+2)\n",
        "        # Denc: the # number of layers for encoding\n",
        "        # D: the # of layers of variational layers\n",
        "        # type \"K\": key, \"Q\": Query, \"V\": value\n",
        "        \"\"\"\n",
        "        super().__init__()\n",
        "        self.Qnn=QSANN_pennylane(S,n,Denc,D,num_layers)\n",
        "        self.final_layer=nn.Linear(n*(Denc+2)*S, 1)\n",
        "        self.final_layer=self.final_layer.float()\n",
        "\n",
        "    def forward(self,input):\n",
        "\n",
        "        x=self.Qnn(input)\n",
        "        x=torch.flatten(x,start_dim=1)\n",
        "\n",
        "        return torch.sigmoid(self.final_layer(x))"
      ]
    },
    {
      "cell_type": "code",
      "execution_count": 5,
      "id": "726740e5",
      "metadata": {
        "id": "726740e5"
      },
      "outputs": [],
      "source": [
        "model=QSANN_text_classifier(4, 4, 2, 1, 1)\n",
        "\n",
        "# (4, 16)\n",
        "\n",
        "# seq * (num_qubits) * (num_layers + 2)"
      ]
    },
    {
      "cell_type": "code",
      "execution_count": 6,
      "id": "68c4324d",
      "metadata": {
        "colab": {
          "base_uri": "https://localhost:8080/"
        },
        "id": "68c4324d",
        "outputId": "8102f184-f625-4442-8c42-5cce8b09af93"
      },
      "outputs": [
        {
          "output_type": "execute_result",
          "data": {
            "text/plain": [
              "QSANN_text_classifier(\n",
              "  (Qnn): QSANN_pennylane(\n",
              "    (qnn): Sequential(\n",
              "      (0): QSAL_pennylane()\n",
              "    )\n",
              "  )\n",
              "  (final_layer): Linear(in_features=64, out_features=1, bias=True)\n",
              ")"
            ]
          },
          "metadata": {},
          "execution_count": 6
        }
      ],
      "source": [
        "model"
      ]
    },
    {
      "cell_type": "markdown",
      "id": "698f70fe",
      "metadata": {
        "id": "698f70fe"
      },
      "source": [
        "# Binary Classification with Sklearn Image Dataset"
      ]
    },
    {
      "cell_type": "markdown",
      "id": "dbb06e58",
      "metadata": {
        "id": "dbb06e58"
      },
      "source": [
        "# Sklearn Image Dataset (Patches prepared Row-wise)"
      ]
    },
    {
      "cell_type": "code",
      "execution_count": null,
      "id": "2e6cee96",
      "metadata": {
        "id": "2e6cee96"
      },
      "outputs": [],
      "source": [
        "from sklearn.datasets import load_digits\n",
        "from sklearn.model_selection import train_test_split\n",
        "digits = load_digits()\n",
        "X, y = digits.images, digits.target\n",
        "X_train, X_test, y_train, y_test = train_test_split(X, y)\n",
        "\n",
        "train_mask = np.isin(y_train, [1, 7])\n",
        "X_train, y_train = X_train[train_mask], y_train[train_mask]\n",
        "\n",
        "test_mask = np.isin(y_test, [1, 7])\n",
        "X_test, y_test = X_test[test_mask], y_test[test_mask]\n",
        "\n",
        "X_train = X_train.reshape(X_train.shape[0], 4, 16)\n",
        "X_test = X_test.reshape(X_test.shape[0], 4, 16)"
      ]
    },
    {
      "cell_type": "code",
      "source": [
        "torch.tensor(X_train).shape"
      ],
      "metadata": {
        "colab": {
          "base_uri": "https://localhost:8080/"
        },
        "id": "F_QD4sxGNehs",
        "outputId": "35cd261d-2135-4995-d494-4fa82102a7b9"
      },
      "id": "F_QD4sxGNehs",
      "execution_count": null,
      "outputs": [
        {
          "output_type": "execute_result",
          "data": {
            "text/plain": [
              "torch.Size([278, 4, 16])"
            ]
          },
          "metadata": {},
          "execution_count": 183
        }
      ]
    },
    {
      "cell_type": "code",
      "execution_count": null,
      "id": "562755f2",
      "metadata": {
        "colab": {
          "base_uri": "https://localhost:8080/"
        },
        "id": "562755f2",
        "outputId": "32ae3247-53e5-450a-a8cd-fdccee71f68c"
      },
      "outputs": [
        {
          "output_type": "execute_result",
          "data": {
            "text/plain": [
              "torch.Size([1112, 16])"
            ]
          },
          "metadata": {},
          "execution_count": 184
        }
      ],
      "source": [
        "torch.reshape(torch.tensor(X_train), (-1,16)).shape"
      ]
    },
    {
      "cell_type": "code",
      "execution_count": null,
      "id": "e32929df",
      "metadata": {
        "id": "e32929df"
      },
      "outputs": [],
      "source": [
        "model=QSANN_text_classifier(4, 4, 2, 1, 1)\n",
        "\n",
        "# seq * (num_qubits) * (num_layers + 2)"
      ]
    },
    {
      "cell_type": "code",
      "execution_count": null,
      "id": "1e13fa23",
      "metadata": {
        "id": "1e13fa23"
      },
      "outputs": [],
      "source": [
        "optimizer = torch.optim.Adam(lr=0.01, params=model.parameters())"
      ]
    },
    {
      "cell_type": "code",
      "execution_count": null,
      "id": "26c6d9d6",
      "metadata": {
        "colab": {
          "base_uri": "https://localhost:8080/"
        },
        "id": "26c6d9d6",
        "outputId": "e8200942-f3f6-4401-9fec-085d43aa63cc"
      },
      "outputs": [
        {
          "output_type": "stream",
          "name": "stdout",
          "text": [
            "209\n"
          ]
        }
      ],
      "source": [
        "trainable_params = sum(p.numel() for p in model.parameters() if p.requires_grad)\n",
        "print(trainable_params)"
      ]
    },
    {
      "cell_type": "code",
      "execution_count": null,
      "id": "71676d02",
      "metadata": {
        "id": "71676d02"
      },
      "outputs": [],
      "source": [
        "criterion = torch.nn.CrossEntropyLoss()"
      ]
    },
    {
      "cell_type": "code",
      "execution_count": null,
      "id": "9199b2d6",
      "metadata": {
        "id": "9199b2d6"
      },
      "outputs": [],
      "source": [
        "def binary_accuracy(preds, y):\n",
        "    \"\"\"\n",
        "    Returns accuracy per batch, i.e. if you get 8/10 right, this returns 0.8, NOT 8\n",
        "    \"\"\"\n",
        "\n",
        "    #round predictions to the closest integer\n",
        "    rounded_preds = (torch.round(torch.sign(preds-0.5))+1)//2\n",
        "    correct = (rounded_preds == y).float() #convert into float for division\n",
        "    acc = correct.sum() / len(correct)\n",
        "    return acc"
      ]
    },
    {
      "cell_type": "code",
      "execution_count": null,
      "id": "fa514b41",
      "metadata": {
        "scrolled": true,
        "colab": {
          "base_uri": "https://localhost:8080/"
        },
        "id": "fa514b41",
        "outputId": "491de526-a1da-47fe-f3a5-1ee108f05ea0"
      },
      "outputs": [
        {
          "output_type": "stream",
          "name": "stderr",
          "text": [
            "  3%|▎         | 1/30 [00:00<00:26,  1.11it/s]"
          ]
        },
        {
          "output_type": "stream",
          "name": "stdout",
          "text": [
            "\n",
            "Accuracy: tensor(0.5072)\n",
            "\n",
            "tensor(753.6058, grad_fn=<DivBackward1>)\n",
            "Complete 0 th\n"
          ]
        },
        {
          "output_type": "stream",
          "name": "stderr",
          "text": [
            "\r  7%|▋         | 2/30 [00:01<00:28,  1.01s/it]"
          ]
        },
        {
          "output_type": "stream",
          "name": "stdout",
          "text": [
            "\n",
            "Accuracy: tensor(0.6763)\n",
            "\n",
            "tensor(736.3002, grad_fn=<DivBackward1>)\n",
            "Complete 1 th\n"
          ]
        },
        {
          "output_type": "stream",
          "name": "stderr",
          "text": [
            "\r 10%|█         | 3/30 [00:02<00:26,  1.03it/s]"
          ]
        },
        {
          "output_type": "stream",
          "name": "stdout",
          "text": [
            "\n",
            "Accuracy: tensor(0.7482)\n",
            "\n",
            "tensor(725.1813, grad_fn=<DivBackward1>)\n",
            "Complete 2 th\n"
          ]
        },
        {
          "output_type": "stream",
          "name": "stderr",
          "text": [
            "\r 13%|█▎        | 4/30 [00:04<00:26,  1.04s/it]"
          ]
        },
        {
          "output_type": "stream",
          "name": "stdout",
          "text": [
            "\n",
            "Accuracy: tensor(0.8022)\n",
            "\n",
            "tensor(718.8182, grad_fn=<DivBackward1>)\n",
            "Complete 3 th\n",
            "\n",
            "Accuracy: tensor(0.8777)\n",
            "\n",
            "tensor(711.9247, grad_fn=<DivBackward1>)\n"
          ]
        },
        {
          "output_type": "stream",
          "name": "stderr",
          "text": [
            "\r 17%|█▋        | 5/30 [00:05<00:29,  1.19s/it]"
          ]
        },
        {
          "output_type": "stream",
          "name": "stdout",
          "text": [
            "Complete 4 th\n"
          ]
        },
        {
          "output_type": "stream",
          "name": "stderr",
          "text": [
            "\r 20%|██        | 6/30 [00:06<00:27,  1.15s/it]"
          ]
        },
        {
          "output_type": "stream",
          "name": "stdout",
          "text": [
            "\n",
            "Accuracy: tensor(0.9317)\n",
            "\n",
            "tensor(706.8356, grad_fn=<DivBackward1>)\n",
            "Complete 5 th\n"
          ]
        },
        {
          "output_type": "stream",
          "name": "stderr",
          "text": [
            "\r 23%|██▎       | 7/30 [00:07<00:24,  1.07s/it]"
          ]
        },
        {
          "output_type": "stream",
          "name": "stdout",
          "text": [
            "\n",
            "Accuracy: tensor(0.9568)\n",
            "\n",
            "tensor(704.4692, grad_fn=<DivBackward1>)\n",
            "Complete 6 th\n"
          ]
        },
        {
          "output_type": "stream",
          "name": "stderr",
          "text": [
            "\r 27%|██▋       | 8/30 [00:08<00:22,  1.02s/it]"
          ]
        },
        {
          "output_type": "stream",
          "name": "stdout",
          "text": [
            "\n",
            "Accuracy: tensor(0.9640)\n",
            "\n",
            "tensor(703.1624, grad_fn=<DivBackward1>)\n",
            "Complete 7 th\n"
          ]
        },
        {
          "output_type": "stream",
          "name": "stderr",
          "text": [
            "\r 30%|███       | 9/30 [00:09<00:21,  1.02s/it]"
          ]
        },
        {
          "output_type": "stream",
          "name": "stdout",
          "text": [
            "\n",
            "Accuracy: tensor(0.9712)\n",
            "\n",
            "tensor(701.5498, grad_fn=<DivBackward1>)\n",
            "Complete 8 th\n"
          ]
        },
        {
          "output_type": "stream",
          "name": "stderr",
          "text": [
            "\r 33%|███▎      | 10/30 [00:10<00:20,  1.01s/it]"
          ]
        },
        {
          "output_type": "stream",
          "name": "stdout",
          "text": [
            "\n",
            "Accuracy: tensor(0.9820)\n",
            "\n",
            "tensor(699.9285, grad_fn=<DivBackward1>)\n",
            "Complete 9 th\n"
          ]
        },
        {
          "output_type": "stream",
          "name": "stderr",
          "text": [
            "\r 37%|███▋      | 11/30 [00:11<00:19,  1.02s/it]"
          ]
        },
        {
          "output_type": "stream",
          "name": "stdout",
          "text": [
            "\n",
            "Accuracy: tensor(0.9856)\n",
            "\n",
            "tensor(698.8843, grad_fn=<DivBackward1>)\n",
            "Complete 10 th\n"
          ]
        },
        {
          "output_type": "stream",
          "name": "stderr",
          "text": [
            "\r 40%|████      | 12/30 [00:12<00:17,  1.03it/s]"
          ]
        },
        {
          "output_type": "stream",
          "name": "stdout",
          "text": [
            "\n",
            "Accuracy: tensor(0.9856)\n",
            "\n",
            "tensor(698.4377, grad_fn=<DivBackward1>)\n",
            "Complete 11 th\n"
          ]
        },
        {
          "output_type": "stream",
          "name": "stderr",
          "text": [
            "\r 43%|████▎     | 13/30 [00:13<00:15,  1.08it/s]"
          ]
        },
        {
          "output_type": "stream",
          "name": "stdout",
          "text": [
            "\n",
            "Accuracy: tensor(0.9784)\n",
            "\n",
            "tensor(698.2249, grad_fn=<DivBackward1>)\n",
            "Complete 12 th\n"
          ]
        },
        {
          "output_type": "stream",
          "name": "stderr",
          "text": [
            "\r 47%|████▋     | 14/30 [00:13<00:14,  1.11it/s]"
          ]
        },
        {
          "output_type": "stream",
          "name": "stdout",
          "text": [
            "\n",
            "Accuracy: tensor(0.9856)\n",
            "\n",
            "tensor(698.0056, grad_fn=<DivBackward1>)\n",
            "Complete 13 th\n"
          ]
        },
        {
          "output_type": "stream",
          "name": "stderr",
          "text": [
            "\r 50%|█████     | 15/30 [00:14<00:13,  1.11it/s]"
          ]
        },
        {
          "output_type": "stream",
          "name": "stdout",
          "text": [
            "\n",
            "Accuracy: tensor(0.9856)\n",
            "\n",
            "tensor(697.7190, grad_fn=<DivBackward1>)\n",
            "Complete 14 th\n"
          ]
        },
        {
          "output_type": "stream",
          "name": "stderr",
          "text": [
            "\r 53%|█████▎    | 16/30 [00:15<00:12,  1.11it/s]"
          ]
        },
        {
          "output_type": "stream",
          "name": "stdout",
          "text": [
            "\n",
            "Accuracy: tensor(0.9892)\n",
            "\n",
            "tensor(697.3511, grad_fn=<DivBackward1>)\n",
            "Complete 15 th\n",
            "\n",
            "Accuracy: tensor(0.9928)\n",
            "\n",
            "tensor(697.0018, grad_fn=<DivBackward1>)\n"
          ]
        },
        {
          "output_type": "stream",
          "name": "stderr",
          "text": [
            "\r 57%|█████▋    | 17/30 [00:17<00:14,  1.08s/it]"
          ]
        },
        {
          "output_type": "stream",
          "name": "stdout",
          "text": [
            "Complete 16 th\n"
          ]
        },
        {
          "output_type": "stream",
          "name": "stderr",
          "text": [
            "\r 60%|██████    | 18/30 [00:18<00:13,  1.10s/it]"
          ]
        },
        {
          "output_type": "stream",
          "name": "stdout",
          "text": [
            "\n",
            "Accuracy: tensor(0.9928)\n",
            "\n",
            "tensor(696.7349, grad_fn=<DivBackward1>)\n",
            "Complete 17 th\n"
          ]
        },
        {
          "output_type": "stream",
          "name": "stderr",
          "text": [
            "\r 63%|██████▎   | 19/30 [00:19<00:11,  1.06s/it]"
          ]
        },
        {
          "output_type": "stream",
          "name": "stdout",
          "text": [
            "\n",
            "Accuracy: tensor(0.9964)\n",
            "\n",
            "tensor(696.5632, grad_fn=<DivBackward1>)\n",
            "Complete 18 th\n"
          ]
        },
        {
          "output_type": "stream",
          "name": "stderr",
          "text": [
            "\r 67%|██████▋   | 20/30 [00:20<00:10,  1.01s/it]"
          ]
        },
        {
          "output_type": "stream",
          "name": "stdout",
          "text": [
            "\n",
            "Accuracy: tensor(0.9964)\n",
            "\n",
            "tensor(696.4695, grad_fn=<DivBackward1>)\n",
            "Complete 19 th\n"
          ]
        },
        {
          "output_type": "stream",
          "name": "stderr",
          "text": [
            "\r 70%|███████   | 21/30 [00:21<00:09,  1.01s/it]"
          ]
        },
        {
          "output_type": "stream",
          "name": "stdout",
          "text": [
            "\n",
            "Accuracy: tensor(0.9964)\n",
            "\n",
            "tensor(696.4149, grad_fn=<DivBackward1>)\n",
            "Complete 20 th\n"
          ]
        },
        {
          "output_type": "stream",
          "name": "stderr",
          "text": [
            "\r 73%|███████▎  | 22/30 [00:22<00:07,  1.03it/s]"
          ]
        },
        {
          "output_type": "stream",
          "name": "stdout",
          "text": [
            "\n",
            "Accuracy: tensor(0.9964)\n",
            "\n",
            "tensor(696.3611, grad_fn=<DivBackward1>)\n",
            "Complete 21 th\n"
          ]
        },
        {
          "output_type": "stream",
          "name": "stderr",
          "text": [
            "\r 77%|███████▋  | 23/30 [00:23<00:06,  1.05it/s]"
          ]
        },
        {
          "output_type": "stream",
          "name": "stdout",
          "text": [
            "\n",
            "Accuracy: tensor(0.9964)\n",
            "\n",
            "tensor(696.2859, grad_fn=<DivBackward1>)\n",
            "Complete 22 th\n"
          ]
        },
        {
          "output_type": "stream",
          "name": "stderr",
          "text": [
            "\r 80%|████████  | 24/30 [00:23<00:05,  1.07it/s]"
          ]
        },
        {
          "output_type": "stream",
          "name": "stdout",
          "text": [
            "\n",
            "Accuracy: tensor(0.9964)\n",
            "\n",
            "tensor(696.1827, grad_fn=<DivBackward1>)\n",
            "Complete 23 th\n"
          ]
        },
        {
          "output_type": "stream",
          "name": "stderr",
          "text": [
            "\r 83%|████████▎ | 25/30 [00:24<00:04,  1.07it/s]"
          ]
        },
        {
          "output_type": "stream",
          "name": "stdout",
          "text": [
            "\n",
            "Accuracy: tensor(1.)\n",
            "\n",
            "tensor(696.0657, grad_fn=<DivBackward1>)\n",
            "Complete 24 th\n"
          ]
        },
        {
          "output_type": "stream",
          "name": "stderr",
          "text": [
            "\r 87%|████████▋ | 26/30 [00:25<00:03,  1.07it/s]"
          ]
        },
        {
          "output_type": "stream",
          "name": "stdout",
          "text": [
            "\n",
            "Accuracy: tensor(1.)\n",
            "\n",
            "tensor(695.9616, grad_fn=<DivBackward1>)\n",
            "Complete 25 th\n"
          ]
        },
        {
          "output_type": "stream",
          "name": "stderr",
          "text": [
            "\r 90%|█████████ | 27/30 [00:26<00:02,  1.07it/s]"
          ]
        },
        {
          "output_type": "stream",
          "name": "stdout",
          "text": [
            "\n",
            "Accuracy: tensor(1.)\n",
            "\n",
            "tensor(695.8736, grad_fn=<DivBackward1>)\n",
            "Complete 26 th\n"
          ]
        },
        {
          "output_type": "stream",
          "name": "stderr",
          "text": [
            "\r 93%|█████████▎| 28/30 [00:27<00:01,  1.05it/s]"
          ]
        },
        {
          "output_type": "stream",
          "name": "stdout",
          "text": [
            "\n",
            "Accuracy: tensor(1.)\n",
            "\n",
            "tensor(695.8177, grad_fn=<DivBackward1>)\n",
            "Complete 27 th\n"
          ]
        },
        {
          "output_type": "stream",
          "name": "stderr",
          "text": [
            "\r 97%|█████████▋| 29/30 [00:28<00:01,  1.03s/it]"
          ]
        },
        {
          "output_type": "stream",
          "name": "stdout",
          "text": [
            "\n",
            "Accuracy: tensor(1.)\n",
            "\n",
            "tensor(695.7831, grad_fn=<DivBackward1>)\n",
            "Complete 28 th\n"
          ]
        },
        {
          "output_type": "stream",
          "name": "stderr",
          "text": [
            "100%|██████████| 30/30 [00:30<00:00,  1.01s/it]"
          ]
        },
        {
          "output_type": "stream",
          "name": "stdout",
          "text": [
            "\n",
            "Accuracy: tensor(1.)\n",
            "\n",
            "tensor(695.7559, grad_fn=<DivBackward1>)\n",
            "Complete 29 th\n"
          ]
        },
        {
          "output_type": "stream",
          "name": "stderr",
          "text": [
            "\n"
          ]
        }
      ],
      "source": [
        "for iepoch in tqdm(range(30)):\n",
        "    optimizer.zero_grad()\n",
        "    X_tensor=torch.tensor(X_train)\n",
        "    predictions=model(X_tensor.float()).squeeze(1)\n",
        "    #predictions=torch.sign(predictions)\n",
        "    #print(predictions)\n",
        "    label=torch.tensor(y_train)\n",
        "    for i in range(len(label)):\n",
        "        if label[i]==1:\n",
        "            label[i] = 0\n",
        "        else:\n",
        "            label[i]=1\n",
        "    #print(label)\n",
        "    loss = criterion(predictions, label.float())\n",
        "    acc = binary_accuracy(predictions, label)\n",
        "    print('')\n",
        "    print('Accuracy:',acc)\n",
        "    print('')\n",
        "    print(loss)\n",
        "    loss.backward()\n",
        "    optimizer.step()\n",
        "    print(\"Complete \"+str(iepoch)+\" th\")"
      ]
    },
    {
      "cell_type": "code",
      "execution_count": null,
      "id": "3f560389",
      "metadata": {
        "id": "3f560389",
        "outputId": "e9fd09c1-59e8-4099-d378-6340106aaab7"
      },
      "outputs": [
        {
          "name": "stdout",
          "output_type": "stream",
          "text": [
            "\n",
            "Accuracy: tensor(0.9886)\n",
            "\n",
            "tensor(171.4812, grad_fn=<DivBackward1>)\n"
          ]
        }
      ],
      "source": [
        "X_tensor=torch.tensor(X_test)\n",
        "predictions=model(X_tensor.float()).squeeze(1)\n",
        "label=torch.tensor(y_test)\n",
        "for i in range(len(label)):\n",
        "        if label[i]==1:\n",
        "            label[i] = 0\n",
        "        else:\n",
        "            label[i]=1\n",
        "loss = criterion(predictions, label.float())\n",
        "acc = binary_accuracy(predictions, label.float())\n",
        "print('')\n",
        "print('Accuracy:',acc)\n",
        "print('')\n",
        "print(loss)"
      ]
    },
    {
      "cell_type": "markdown",
      "id": "e92f2c37",
      "metadata": {
        "id": "e92f2c37"
      },
      "source": [
        "# Sklearn Image Dataset (Patches Prepared Column-wise)"
      ]
    },
    {
      "cell_type": "code",
      "execution_count": null,
      "id": "b214dd1c",
      "metadata": {
        "id": "b214dd1c"
      },
      "outputs": [],
      "source": [
        "from sklearn.datasets import load_digits\n",
        "from sklearn.model_selection import train_test_split\n",
        "digits = load_digits()\n",
        "X, y = digits.images[0:500], digits.target[0:500]\n",
        "X_train, X_test, y_train, y_test = train_test_split(X, y)\n",
        "\n",
        "train_mask = np.isin(y_train, [1, 7])\n",
        "X_train, y_train = X_train[train_mask], y_train[train_mask]\n",
        "\n",
        "test_mask = np.isin(y_test, [1, 7])\n",
        "X_test, y_test = X_test[test_mask], y_test[test_mask]\n",
        "\n",
        "#X_train = X_train.reshape(X_train.shape[0], 4, 16)\n",
        "#X_test = X_test.reshape(X_test.shape[0], 4, 16)\n",
        "X_train_c = X_train.transpose(0, 2, 1)\n",
        "X_test_c = X_test.transpose(0, 2, 1)\n",
        "\n",
        "X_train_c = X_train_c.reshape(X_train.shape[0], 4, 16)\n",
        "X_test_c = X_test_c.reshape(X_test.shape[0], 4, 16)"
      ]
    },
    {
      "cell_type": "code",
      "execution_count": null,
      "id": "1fbb13d4",
      "metadata": {
        "id": "1fbb13d4"
      },
      "outputs": [],
      "source": [
        "model=QSANN_text_classifier(4,4,2,1,1)\n",
        "optimizer = torch.optim.Adam(lr=0.01, params=model.parameters())\n",
        "criterion = torch.nn.CrossEntropyLoss()"
      ]
    },
    {
      "cell_type": "code",
      "execution_count": null,
      "id": "1e34fb71",
      "metadata": {
        "id": "1e34fb71",
        "outputId": "5778dddd-b057-4528-a2a1-1d2c4b0582a1"
      },
      "outputs": [
        {
          "name": "stderr",
          "output_type": "stream",
          "text": [
            "\r\n",
            "  0%|          | 0/10 [00:00<?, ?it/s]"
          ]
        },
        {
          "name": "stdout",
          "output_type": "stream",
          "text": [
            "\n",
            "Accuracy: tensor(0.9481)\n",
            "\n",
            "tensor(146.3840, grad_fn=<DivBackward1>)\n"
          ]
        },
        {
          "name": "stderr",
          "output_type": "stream",
          "text": [
            "\r\n",
            " 10%|█         | 1/10 [00:24<03:43, 24.87s/it]"
          ]
        },
        {
          "name": "stdout",
          "output_type": "stream",
          "text": [
            "\n",
            "Accuracy: tensor(0.9481)\n",
            "\n",
            "tensor(145.6917, grad_fn=<DivBackward1>)\n"
          ]
        },
        {
          "name": "stderr",
          "output_type": "stream",
          "text": [
            "\r\n",
            " 20%|██        | 2/10 [00:50<03:21, 25.24s/it]"
          ]
        },
        {
          "name": "stdout",
          "output_type": "stream",
          "text": [
            "\n",
            "Accuracy: tensor(0.9740)\n",
            "\n",
            "tensor(143.9053, grad_fn=<DivBackward1>)\n"
          ]
        },
        {
          "name": "stderr",
          "output_type": "stream",
          "text": [
            "\r\n",
            " 30%|███       | 3/10 [01:15<02:56, 25.27s/it]"
          ]
        },
        {
          "name": "stdout",
          "output_type": "stream",
          "text": [
            "\n",
            "Accuracy: tensor(1.)\n",
            "\n",
            "tensor(142.9731, grad_fn=<DivBackward1>)\n"
          ]
        },
        {
          "name": "stderr",
          "output_type": "stream",
          "text": [
            "\r\n",
            " 40%|████      | 4/10 [01:41<02:32, 25.37s/it]"
          ]
        },
        {
          "name": "stdout",
          "output_type": "stream",
          "text": [
            "\n",
            "Accuracy: tensor(0.9740)\n",
            "\n",
            "tensor(142.8075, grad_fn=<DivBackward1>)\n"
          ]
        },
        {
          "name": "stderr",
          "output_type": "stream",
          "text": [
            "\r\n",
            " 50%|█████     | 5/10 [02:06<02:07, 25.52s/it]"
          ]
        },
        {
          "name": "stdout",
          "output_type": "stream",
          "text": [
            "\n",
            "Accuracy: tensor(0.9740)\n",
            "\n",
            "tensor(142.7293, grad_fn=<DivBackward1>)\n"
          ]
        },
        {
          "name": "stderr",
          "output_type": "stream",
          "text": [
            "\r\n",
            " 60%|██████    | 6/10 [02:33<01:42, 25.74s/it]"
          ]
        },
        {
          "name": "stdout",
          "output_type": "stream",
          "text": [
            "\n",
            "Accuracy: tensor(0.9870)\n",
            "\n",
            "tensor(142.6147, grad_fn=<DivBackward1>)\n"
          ]
        },
        {
          "name": "stderr",
          "output_type": "stream",
          "text": [
            "\r\n",
            " 70%|███████   | 7/10 [02:59<01:17, 25.88s/it]"
          ]
        },
        {
          "name": "stdout",
          "output_type": "stream",
          "text": [
            "\n",
            "Accuracy: tensor(0.9870)\n",
            "\n",
            "tensor(142.3875, grad_fn=<DivBackward1>)\n"
          ]
        },
        {
          "name": "stderr",
          "output_type": "stream",
          "text": [
            "\r\n",
            " 80%|████████  | 8/10 [03:28<00:53, 26.82s/it]"
          ]
        },
        {
          "name": "stdout",
          "output_type": "stream",
          "text": [
            "\n",
            "Accuracy: tensor(0.9870)\n",
            "\n",
            "tensor(142.2015, grad_fn=<DivBackward1>)\n"
          ]
        },
        {
          "name": "stderr",
          "output_type": "stream",
          "text": [
            "\r\n",
            " 90%|█████████ | 9/10 [03:53<00:26, 26.36s/it]"
          ]
        },
        {
          "name": "stdout",
          "output_type": "stream",
          "text": [
            "\n",
            "Accuracy: tensor(1.)\n",
            "\n",
            "tensor(142.0063, grad_fn=<DivBackward1>)\n"
          ]
        },
        {
          "name": "stderr",
          "output_type": "stream",
          "text": [
            "100%|██████████| 10/10 [04:19<00:00, 25.91s/it]\n"
          ]
        }
      ],
      "source": [
        "for iepoch in tqdm(range(10)):\n",
        "    optimizer.zero_grad()\n",
        "    X_tensor=torch.tensor(X_train_c)\n",
        "    predictions=model(X_tensor.float()).squeeze(1)\n",
        "    #predictions=torch.sign(predictions)\n",
        "    #print(predictions)\n",
        "    label=torch.tensor(y_train)\n",
        "    for i in range(len(label)):\n",
        "        if label[i]==1:\n",
        "            label[i] = 0\n",
        "        else:\n",
        "            label[i]=1\n",
        "    #print(label)\n",
        "    loss = criterion(predictions, label.float())\n",
        "    acc = binary_accuracy(predictions, label)\n",
        "    print('')\n",
        "    print('Accuracy:',acc)\n",
        "    print('')\n",
        "    print(loss)\n",
        "    loss.backward()\n",
        "    optimizer.step()"
      ]
    },
    {
      "cell_type": "code",
      "execution_count": null,
      "id": "bbf51bbd",
      "metadata": {
        "id": "bbf51bbd",
        "outputId": "252dcb71-ab41-42f6-8ce0-aba9f4be7da1"
      },
      "outputs": [
        {
          "name": "stdout",
          "output_type": "stream",
          "text": [
            "tensor([5.2172e-03, 9.9299e-01, 9.9714e-01, 2.4885e-02, 3.4008e-03, 1.7592e-03,\n",
            "        9.9949e-01, 3.8367e-03, 9.9953e-01, 9.9986e-01, 3.1252e-03, 8.2579e-02,\n",
            "        9.9762e-01, 9.9997e-01, 3.1298e-03, 7.1565e-03, 9.9605e-01, 9.9876e-01,\n",
            "        9.9963e-01, 1.4773e-03, 9.2540e-04], grad_fn=<SqueezeBackward1>)\n",
            "tensor([0, 1, 1, 0, 0, 0, 1, 0, 1, 1, 0, 0, 1, 1, 0, 0, 1, 1, 1, 0, 0])\n",
            "\n",
            "Accuracy: tensor(1.)\n",
            "\n",
            "tensor(26.4663, grad_fn=<DivBackward1>)\n"
          ]
        }
      ],
      "source": [
        "X_tensor=torch.tensor(X_test_c)\n",
        "predictions=model(X_tensor.float()).squeeze(1)\n",
        "print(predictions)\n",
        "label=torch.tensor(y_test)\n",
        "for i in range(len(label)):\n",
        "        if label[i]==1:\n",
        "            label[i] = 0\n",
        "        else:\n",
        "            label[i]=1\n",
        "print(label)\n",
        "loss = criterion(predictions, label.float())\n",
        "acc = binary_accuracy(predictions, label.float())\n",
        "print('')\n",
        "print('Accuracy:',acc)\n",
        "print('')\n",
        "print(loss)"
      ]
    }
  ],
  "metadata": {
    "kernelspec": {
      "display_name": "Python 3.9.16 ('MachineLearning')",
      "language": "python",
      "name": "python3"
    },
    "language_info": {
      "codemirror_mode": {
        "name": "ipython",
        "version": 3
      },
      "file_extension": ".py",
      "mimetype": "text/x-python",
      "name": "python",
      "nbconvert_exporter": "python",
      "pygments_lexer": "ipython3",
      "version": "3.9.16"
    },
    "vscode": {
      "interpreter": {
        "hash": "49c937739a3abfaba9a6138065d712d63763bff9d60ff858034e62d83b3910d5"
      }
    },
    "colab": {
      "provenance": []
    }
  },
  "nbformat": 4,
  "nbformat_minor": 5
}