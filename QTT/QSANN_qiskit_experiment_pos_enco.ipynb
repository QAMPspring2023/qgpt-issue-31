{
  "cells": [
    {
      "cell_type": "code",
      "execution_count": 1,
      "metadata": {
        "colab": {
          "base_uri": "https://localhost:8080/"
        },
        "id": "JR7DHQg4yCjB",
        "outputId": "70538c96-4569-434a-d1fc-9f6fbee1d503"
      },
      "outputs": [
        {
          "output_type": "stream",
          "name": "stdout",
          "text": [
            "Collecting qiskit\n",
            "  Downloading qiskit-0.43.2.tar.gz (9.1 kB)\n",
            "  Installing build dependencies ... \u001b[?25l\u001b[?25hdone\n",
            "  Getting requirements to build wheel ... \u001b[?25l\u001b[?25hdone\n",
            "  Installing backend dependencies ... \u001b[?25l\u001b[?25hdone\n",
            "  Preparing metadata (pyproject.toml) ... \u001b[?25l\u001b[?25hdone\n",
            "Collecting qiskit-terra==0.24.1 (from qiskit)\n",
            "  Downloading qiskit_terra-0.24.1-cp310-cp310-manylinux_2_17_x86_64.manylinux2014_x86_64.whl (5.9 MB)\n",
            "\u001b[2K     \u001b[90m━━━━━━━━━━━━━━━━━━━━━━━━━━━━━━━━━━━━━━━━\u001b[0m \u001b[32m5.9/5.9 MB\u001b[0m \u001b[31m88.2 MB/s\u001b[0m eta \u001b[36m0:00:00\u001b[0m\n",
            "\u001b[?25hCollecting qiskit-aer==0.12.1 (from qiskit)\n",
            "  Downloading qiskit_aer-0.12.1-cp310-cp310-manylinux_2_17_x86_64.manylinux2014_x86_64.whl (12.8 MB)\n",
            "\u001b[2K     \u001b[90m━━━━━━━━━━━━━━━━━━━━━━━━━━━━━━━━━━━━━━━━\u001b[0m \u001b[32m12.8/12.8 MB\u001b[0m \u001b[31m87.6 MB/s\u001b[0m eta \u001b[36m0:00:00\u001b[0m\n",
            "\u001b[?25hCollecting qiskit-ibmq-provider==0.20.2 (from qiskit)\n",
            "  Downloading qiskit_ibmq_provider-0.20.2-py3-none-any.whl (241 kB)\n",
            "\u001b[2K     \u001b[90m━━━━━━━━━━━━━━━━━━━━━━━━━━━━━━━━━━━━━━\u001b[0m \u001b[32m241.5/241.5 kB\u001b[0m \u001b[31m27.0 MB/s\u001b[0m eta \u001b[36m0:00:00\u001b[0m\n",
            "\u001b[?25hRequirement already satisfied: numpy>=1.16.3 in /usr/local/lib/python3.10/dist-packages (from qiskit-aer==0.12.1->qiskit) (1.22.4)\n",
            "Requirement already satisfied: scipy>=1.0 in /usr/local/lib/python3.10/dist-packages (from qiskit-aer==0.12.1->qiskit) (1.10.1)\n",
            "Requirement already satisfied: requests>=2.19 in /usr/local/lib/python3.10/dist-packages (from qiskit-ibmq-provider==0.20.2->qiskit) (2.27.1)\n",
            "Collecting requests-ntlm<=1.1.0 (from qiskit-ibmq-provider==0.20.2->qiskit)\n",
            "  Downloading requests_ntlm-1.1.0-py2.py3-none-any.whl (5.7 kB)\n",
            "Requirement already satisfied: urllib3>=1.21.1 in /usr/local/lib/python3.10/dist-packages (from qiskit-ibmq-provider==0.20.2->qiskit) (1.26.16)\n",
            "Requirement already satisfied: python-dateutil>=2.8.0 in /usr/local/lib/python3.10/dist-packages (from qiskit-ibmq-provider==0.20.2->qiskit) (2.8.2)\n",
            "Requirement already satisfied: websocket-client>=1.5.1 in /usr/local/lib/python3.10/dist-packages (from qiskit-ibmq-provider==0.20.2->qiskit) (1.6.0)\n",
            "Collecting websockets>=10.0 (from qiskit-ibmq-provider==0.20.2->qiskit)\n",
            "  Downloading websockets-11.0.3-cp310-cp310-manylinux_2_5_x86_64.manylinux1_x86_64.manylinux_2_17_x86_64.manylinux2014_x86_64.whl (129 kB)\n",
            "\u001b[2K     \u001b[90m━━━━━━━━━━━━━━━━━━━━━━━━━━━━━━━━━━━━━━\u001b[0m \u001b[32m129.9/129.9 kB\u001b[0m \u001b[31m14.1 MB/s\u001b[0m eta \u001b[36m0:00:00\u001b[0m\n",
            "\u001b[?25hCollecting rustworkx>=0.12.0 (from qiskit-terra==0.24.1->qiskit)\n",
            "  Downloading rustworkx-0.13.0-cp310-cp310-manylinux_2_17_x86_64.manylinux2014_x86_64.whl (1.9 MB)\n",
            "\u001b[2K     \u001b[90m━━━━━━━━━━━━━━━━━━━━━━━━━━━━━━━━━━━━━━━━\u001b[0m \u001b[32m1.9/1.9 MB\u001b[0m \u001b[31m63.5 MB/s\u001b[0m eta \u001b[36m0:00:00\u001b[0m\n",
            "\u001b[?25hCollecting ply>=3.10 (from qiskit-terra==0.24.1->qiskit)\n",
            "  Downloading ply-3.11-py2.py3-none-any.whl (49 kB)\n",
            "\u001b[2K     \u001b[90m━━━━━━━━━━━━━━━━━━━━━━━━━━━━━━━━━━━━━━━━\u001b[0m \u001b[32m49.6/49.6 kB\u001b[0m \u001b[31m5.9 MB/s\u001b[0m eta \u001b[36m0:00:00\u001b[0m\n",
            "\u001b[?25hRequirement already satisfied: psutil>=5 in /usr/local/lib/python3.10/dist-packages (from qiskit-terra==0.24.1->qiskit) (5.9.5)\n",
            "Requirement already satisfied: sympy>=1.3 in /usr/local/lib/python3.10/dist-packages (from qiskit-terra==0.24.1->qiskit) (1.11.1)\n",
            "Collecting dill>=0.3 (from qiskit-terra==0.24.1->qiskit)\n",
            "  Downloading dill-0.3.6-py3-none-any.whl (110 kB)\n",
            "\u001b[2K     \u001b[90m━━━━━━━━━━━━━━━━━━━━━━━━━━━━━━━━━━━━━━\u001b[0m \u001b[32m110.5/110.5 kB\u001b[0m \u001b[31m13.0 MB/s\u001b[0m eta \u001b[36m0:00:00\u001b[0m\n",
            "\u001b[?25hCollecting stevedore>=3.0.0 (from qiskit-terra==0.24.1->qiskit)\n",
            "  Downloading stevedore-5.1.0-py3-none-any.whl (49 kB)\n",
            "\u001b[2K     \u001b[90m━━━━━━━━━━━━━━━━━━━━━━━━━━━━━━━━━━━━━━━━\u001b[0m \u001b[32m49.6/49.6 kB\u001b[0m \u001b[31m4.4 MB/s\u001b[0m eta \u001b[36m0:00:00\u001b[0m\n",
            "\u001b[?25hCollecting symengine<0.10,>=0.9 (from qiskit-terra==0.24.1->qiskit)\n",
            "  Downloading symengine-0.9.2-cp310-cp310-manylinux2010_x86_64.whl (37.5 MB)\n",
            "\u001b[2K     \u001b[90m━━━━━━━━━━━━━━━━━━━━━━━━━━━━━━━━━━━━━━━━\u001b[0m \u001b[32m37.5/37.5 MB\u001b[0m \u001b[31m14.6 MB/s\u001b[0m eta \u001b[36m0:00:00\u001b[0m\n",
            "\u001b[?25hRequirement already satisfied: six>=1.5 in /usr/local/lib/python3.10/dist-packages (from python-dateutil>=2.8.0->qiskit-ibmq-provider==0.20.2->qiskit) (1.16.0)\n",
            "Requirement already satisfied: certifi>=2017.4.17 in /usr/local/lib/python3.10/dist-packages (from requests>=2.19->qiskit-ibmq-provider==0.20.2->qiskit) (2023.5.7)\n",
            "Requirement already satisfied: charset-normalizer~=2.0.0 in /usr/local/lib/python3.10/dist-packages (from requests>=2.19->qiskit-ibmq-provider==0.20.2->qiskit) (2.0.12)\n",
            "Requirement already satisfied: idna<4,>=2.5 in /usr/local/lib/python3.10/dist-packages (from requests>=2.19->qiskit-ibmq-provider==0.20.2->qiskit) (3.4)\n",
            "Collecting ntlm-auth>=1.0.2 (from requests-ntlm<=1.1.0->qiskit-ibmq-provider==0.20.2->qiskit)\n",
            "  Downloading ntlm_auth-1.5.0-py2.py3-none-any.whl (29 kB)\n",
            "Collecting cryptography>=1.3 (from requests-ntlm<=1.1.0->qiskit-ibmq-provider==0.20.2->qiskit)\n",
            "  Downloading cryptography-41.0.1-cp37-abi3-manylinux_2_28_x86_64.whl (4.3 MB)\n",
            "\u001b[2K     \u001b[90m━━━━━━━━━━━━━━━━━━━━━━━━━━━━━━━━━━━━━━━━\u001b[0m \u001b[32m4.3/4.3 MB\u001b[0m \u001b[31m101.5 MB/s\u001b[0m eta \u001b[36m0:00:00\u001b[0m\n",
            "\u001b[?25hCollecting pbr!=2.1.0,>=2.0.0 (from stevedore>=3.0.0->qiskit-terra==0.24.1->qiskit)\n",
            "  Downloading pbr-5.11.1-py2.py3-none-any.whl (112 kB)\n",
            "\u001b[2K     \u001b[90m━━━━━━━━━━━━━━━━━━━━━━━━━━━━━━━━━━━━━━\u001b[0m \u001b[32m112.7/112.7 kB\u001b[0m \u001b[31m16.6 MB/s\u001b[0m eta \u001b[36m0:00:00\u001b[0m\n",
            "\u001b[?25hRequirement already satisfied: mpmath>=0.19 in /usr/local/lib/python3.10/dist-packages (from sympy>=1.3->qiskit-terra==0.24.1->qiskit) (1.3.0)\n",
            "Requirement already satisfied: cffi>=1.12 in /usr/local/lib/python3.10/dist-packages (from cryptography>=1.3->requests-ntlm<=1.1.0->qiskit-ibmq-provider==0.20.2->qiskit) (1.15.1)\n",
            "Requirement already satisfied: pycparser in /usr/local/lib/python3.10/dist-packages (from cffi>=1.12->cryptography>=1.3->requests-ntlm<=1.1.0->qiskit-ibmq-provider==0.20.2->qiskit) (2.21)\n",
            "Building wheels for collected packages: qiskit\n",
            "  Building wheel for qiskit (pyproject.toml) ... \u001b[?25l\u001b[?25hdone\n",
            "  Created wheel for qiskit: filename=qiskit-0.43.2-py3-none-any.whl size=7640 sha256=943e4d4e340cfdac629b1315bb3f7ff9980a777d7c7781bc0177c6db0f8b37ba\n",
            "  Stored in directory: /root/.cache/pip/wheels/d4/ad/4f/f54eb8743e54c5bab69837b842cf56a8a87ac7c57a2abf85ad\n",
            "Successfully built qiskit\n",
            "Installing collected packages: ply, websockets, symengine, rustworkx, pbr, ntlm-auth, dill, stevedore, cryptography, requests-ntlm, qiskit-terra, qiskit-ibmq-provider, qiskit-aer, qiskit\n",
            "Successfully installed cryptography-41.0.1 dill-0.3.6 ntlm-auth-1.5.0 pbr-5.11.1 ply-3.11 qiskit-0.43.2 qiskit-aer-0.12.1 qiskit-ibmq-provider-0.20.2 qiskit-terra-0.24.1 requests-ntlm-1.1.0 rustworkx-0.13.0 stevedore-5.1.0 symengine-0.9.2 websockets-11.0.3\n",
            "Collecting pylatexenc\n",
            "  Downloading pylatexenc-2.10.tar.gz (162 kB)\n",
            "\u001b[2K     \u001b[90m━━━━━━━━━━━━━━━━━━━━━━━━━━━━━━━━━━━━━━\u001b[0m \u001b[32m162.6/162.6 kB\u001b[0m \u001b[31m10.4 MB/s\u001b[0m eta \u001b[36m0:00:00\u001b[0m\n",
            "\u001b[?25h  Preparing metadata (setup.py) ... \u001b[?25l\u001b[?25hdone\n",
            "Building wheels for collected packages: pylatexenc\n",
            "  Building wheel for pylatexenc (setup.py) ... \u001b[?25l\u001b[?25hdone\n",
            "  Created wheel for pylatexenc: filename=pylatexenc-2.10-py3-none-any.whl size=136820 sha256=00dfcf16319e87ff6f97b8d8b833a7a08c9e30a241d69ef404e77046dec54288\n",
            "  Stored in directory: /root/.cache/pip/wheels/d3/31/8b/e09b0386afd80cfc556c00408c9aeea5c35c4d484a9c762fd5\n",
            "Successfully built pylatexenc\n",
            "Installing collected packages: pylatexenc\n",
            "Successfully installed pylatexenc-2.10\n",
            "Collecting qiskit.ignis\n",
            "  Downloading qiskit_ignis-0.7.1-py3-none-any.whl (198 kB)\n",
            "\u001b[2K     \u001b[90m━━━━━━━━━━━━━━━━━━━━━━━━━━━━━━━━━━━━━━\u001b[0m \u001b[32m198.7/198.7 kB\u001b[0m \u001b[31m17.0 MB/s\u001b[0m eta \u001b[36m0:00:00\u001b[0m\n",
            "\u001b[?25hRequirement already satisfied: numpy>=1.13 in /usr/local/lib/python3.10/dist-packages (from qiskit.ignis) (1.22.4)\n",
            "Requirement already satisfied: qiskit-terra>=0.15.1 in /usr/local/lib/python3.10/dist-packages (from qiskit.ignis) (0.24.1)\n",
            "Collecting retworkx>=0.8.0 (from qiskit.ignis)\n",
            "  Downloading retworkx-0.13.0-py3-none-any.whl (10 kB)\n",
            "Requirement already satisfied: scipy!=0.19.1,>=0.19 in /usr/local/lib/python3.10/dist-packages (from qiskit.ignis) (1.10.1)\n",
            "Requirement already satisfied: setuptools>=40.1.0 in /usr/local/lib/python3.10/dist-packages (from qiskit.ignis) (67.7.2)\n",
            "Requirement already satisfied: rustworkx>=0.12.0 in /usr/local/lib/python3.10/dist-packages (from qiskit-terra>=0.15.1->qiskit.ignis) (0.13.0)\n",
            "Requirement already satisfied: ply>=3.10 in /usr/local/lib/python3.10/dist-packages (from qiskit-terra>=0.15.1->qiskit.ignis) (3.11)\n",
            "Requirement already satisfied: psutil>=5 in /usr/local/lib/python3.10/dist-packages (from qiskit-terra>=0.15.1->qiskit.ignis) (5.9.5)\n",
            "Requirement already satisfied: sympy>=1.3 in /usr/local/lib/python3.10/dist-packages (from qiskit-terra>=0.15.1->qiskit.ignis) (1.11.1)\n",
            "Requirement already satisfied: dill>=0.3 in /usr/local/lib/python3.10/dist-packages (from qiskit-terra>=0.15.1->qiskit.ignis) (0.3.6)\n",
            "Requirement already satisfied: python-dateutil>=2.8.0 in /usr/local/lib/python3.10/dist-packages (from qiskit-terra>=0.15.1->qiskit.ignis) (2.8.2)\n",
            "Requirement already satisfied: stevedore>=3.0.0 in /usr/local/lib/python3.10/dist-packages (from qiskit-terra>=0.15.1->qiskit.ignis) (5.1.0)\n",
            "Requirement already satisfied: symengine<0.10,>=0.9 in /usr/local/lib/python3.10/dist-packages (from qiskit-terra>=0.15.1->qiskit.ignis) (0.9.2)\n",
            "Requirement already satisfied: six>=1.5 in /usr/local/lib/python3.10/dist-packages (from python-dateutil>=2.8.0->qiskit-terra>=0.15.1->qiskit.ignis) (1.16.0)\n",
            "Requirement already satisfied: pbr!=2.1.0,>=2.0.0 in /usr/local/lib/python3.10/dist-packages (from stevedore>=3.0.0->qiskit-terra>=0.15.1->qiskit.ignis) (5.11.1)\n",
            "Requirement already satisfied: mpmath>=0.19 in /usr/local/lib/python3.10/dist-packages (from sympy>=1.3->qiskit-terra>=0.15.1->qiskit.ignis) (1.3.0)\n",
            "Installing collected packages: retworkx, qiskit.ignis\n",
            "Successfully installed qiskit.ignis-0.7.1 retworkx-0.13.0\n",
            "Collecting qiskit_machine_learning\n",
            "  Downloading qiskit_machine_learning-0.6.1-py3-none-any.whl (148 kB)\n",
            "\u001b[2K     \u001b[90m━━━━━━━━━━━━━━━━━━━━━━━━━━━━━━━━━━━━━━\u001b[0m \u001b[32m148.7/148.7 kB\u001b[0m \u001b[31m12.9 MB/s\u001b[0m eta \u001b[36m0:00:00\u001b[0m\n",
            "\u001b[?25hRequirement already satisfied: qiskit-terra>=0.22.2 in /usr/local/lib/python3.10/dist-packages (from qiskit_machine_learning) (0.24.1)\n",
            "Requirement already satisfied: scipy>=1.4 in /usr/local/lib/python3.10/dist-packages (from qiskit_machine_learning) (1.10.1)\n",
            "Requirement already satisfied: numpy>=1.17 in /usr/local/lib/python3.10/dist-packages (from qiskit_machine_learning) (1.22.4)\n",
            "Requirement already satisfied: psutil>=5 in /usr/local/lib/python3.10/dist-packages (from qiskit_machine_learning) (5.9.5)\n",
            "Requirement already satisfied: scikit-learn>=0.20.0 in /usr/local/lib/python3.10/dist-packages (from qiskit_machine_learning) (1.2.2)\n",
            "Collecting fastdtw (from qiskit_machine_learning)\n",
            "  Downloading fastdtw-0.3.4.tar.gz (133 kB)\n",
            "\u001b[2K     \u001b[90m━━━━━━━━━━━━━━━━━━━━━━━━━━━━━━━━━━━━━━\u001b[0m \u001b[32m133.4/133.4 kB\u001b[0m \u001b[31m18.9 MB/s\u001b[0m eta \u001b[36m0:00:00\u001b[0m\n",
            "\u001b[?25h  Preparing metadata (setup.py) ... \u001b[?25l\u001b[?25hdone\n",
            "Requirement already satisfied: setuptools>=40.1.0 in /usr/local/lib/python3.10/dist-packages (from qiskit_machine_learning) (67.7.2)\n",
            "Requirement already satisfied: dill>=0.3.4 in /usr/local/lib/python3.10/dist-packages (from qiskit_machine_learning) (0.3.6)\n",
            "Requirement already satisfied: rustworkx>=0.12.0 in /usr/local/lib/python3.10/dist-packages (from qiskit-terra>=0.22.2->qiskit_machine_learning) (0.13.0)\n",
            "Requirement already satisfied: ply>=3.10 in /usr/local/lib/python3.10/dist-packages (from qiskit-terra>=0.22.2->qiskit_machine_learning) (3.11)\n",
            "Requirement already satisfied: sympy>=1.3 in /usr/local/lib/python3.10/dist-packages (from qiskit-terra>=0.22.2->qiskit_machine_learning) (1.11.1)\n",
            "Requirement already satisfied: python-dateutil>=2.8.0 in /usr/local/lib/python3.10/dist-packages (from qiskit-terra>=0.22.2->qiskit_machine_learning) (2.8.2)\n",
            "Requirement already satisfied: stevedore>=3.0.0 in /usr/local/lib/python3.10/dist-packages (from qiskit-terra>=0.22.2->qiskit_machine_learning) (5.1.0)\n",
            "Requirement already satisfied: symengine<0.10,>=0.9 in /usr/local/lib/python3.10/dist-packages (from qiskit-terra>=0.22.2->qiskit_machine_learning) (0.9.2)\n",
            "Requirement already satisfied: joblib>=1.1.1 in /usr/local/lib/python3.10/dist-packages (from scikit-learn>=0.20.0->qiskit_machine_learning) (1.2.0)\n",
            "Requirement already satisfied: threadpoolctl>=2.0.0 in /usr/local/lib/python3.10/dist-packages (from scikit-learn>=0.20.0->qiskit_machine_learning) (3.1.0)\n",
            "Requirement already satisfied: six>=1.5 in /usr/local/lib/python3.10/dist-packages (from python-dateutil>=2.8.0->qiskit-terra>=0.22.2->qiskit_machine_learning) (1.16.0)\n",
            "Requirement already satisfied: pbr!=2.1.0,>=2.0.0 in /usr/local/lib/python3.10/dist-packages (from stevedore>=3.0.0->qiskit-terra>=0.22.2->qiskit_machine_learning) (5.11.1)\n",
            "Requirement already satisfied: mpmath>=0.19 in /usr/local/lib/python3.10/dist-packages (from sympy>=1.3->qiskit-terra>=0.22.2->qiskit_machine_learning) (1.3.0)\n",
            "Building wheels for collected packages: fastdtw\n",
            "  Building wheel for fastdtw (setup.py) ... \u001b[?25l\u001b[?25hdone\n",
            "  Created wheel for fastdtw: filename=fastdtw-0.3.4-cp310-cp310-linux_x86_64.whl size=517929 sha256=796685a19d87a876decb05ac2c3c6aa53eb387fc6baea6a88e2e6dae28d78897\n",
            "  Stored in directory: /root/.cache/pip/wheels/73/c8/f7/c25448dab74c3acf4848bc25d513c736bb93910277e1528ef4\n",
            "Successfully built fastdtw\n",
            "Installing collected packages: fastdtw, qiskit_machine_learning\n",
            "Successfully installed fastdtw-0.3.4 qiskit_machine_learning-0.6.1\n"
          ]
        }
      ],
      "source": [
        "!pip install qiskit\n",
        "!pip install pylatexenc\n",
        "!pip install qiskit.ignis\n",
        "!pip install qiskit_machine_learning"
      ]
    },
    {
      "cell_type": "code",
      "execution_count": 16,
      "metadata": {
        "id": "ZVOr3qrBxLf_"
      },
      "outputs": [],
      "source": [
        "from qiskit import *\n",
        "# Qiskit module\n",
        "from qiskit import QuantumCircuit\n",
        "import qiskit.circuit.library as circuit_library\n",
        "import qiskit.quantum_info as qi\n",
        "#from qiskit import execute\n",
        "from qiskit.utils import algorithm_globals\n",
        "from qiskit.circuit.library import EfficientSU2\n",
        "from qiskit_machine_learning.neural_networks import SamplerQNN, EstimatorQNN\n",
        "from qiskit_machine_learning.connectors import TorchConnector\n",
        "from qiskit.primitives import BackendEstimator\n",
        "from qiskit import Aer\n",
        "\n",
        "import torch\n",
        "from qiskit.circuit import ParameterVector\n",
        "from torch import Tensor\n",
        "import torch.nn as nn\n",
        "import numpy as np\n",
        "from qiskit.quantum_info import SparsePauliOp\n",
        "from tqdm import tqdm\n",
        "\n",
        "from torch.utils.data import DataLoader, Dataset\n",
        "import torch.utils.data as data_utils\n",
        "\n",
        "from collections import Counter\n",
        "import math"
      ]
    },
    {
      "cell_type": "code",
      "source": [
        "from pathlib import Path\n",
        "import pandas as pd\n",
        "from joblib import load, dump"
      ],
      "metadata": {
        "id": "S40uLEqpWfo5"
      },
      "execution_count": 3,
      "outputs": []
    },
    {
      "cell_type": "markdown",
      "source": [
        "# Load Dataset"
      ],
      "metadata": {
        "id": "E8bOsYJqLLZk"
      }
    },
    {
      "cell_type": "code",
      "execution_count": 4,
      "metadata": {
        "id": "ZXrMD39H6pFL",
        "colab": {
          "base_uri": "https://localhost:8080/"
        },
        "outputId": "3eaacdfd-282c-4e23-bb57-0359f13c6055"
      },
      "outputs": [
        {
          "output_type": "stream",
          "name": "stdout",
          "text": [
            "Cloning into 'qnlp_lorenz_etal_2021_resources'...\n",
            "remote: Enumerating objects: 90, done.\u001b[K\n",
            "remote: Counting objects: 100% (90/90), done.\u001b[K\n",
            "remote: Compressing objects: 100% (65/65), done.\u001b[K\n",
            "remote: Total 90 (delta 40), reused 57 (delta 25), pack-reused 0\u001b[K\n",
            "Unpacking objects: 100% (90/90), 56.07 KiB | 883.00 KiB/s, done.\n"
          ]
        }
      ],
      "source": [
        "!git clone https://github.com/CQCL/qnlp_lorenz_etal_2021_resources\n",
        "!mv qnlp_lorenz_etal_2021_resources/datasets mc_rp_dataset"
      ]
    },
    {
      "cell_type": "code",
      "source": [
        "mc_rp_sets_path = Path(\"mc_rp_dataset\")\n",
        "mc_rp_sets = list(mc_rp_sets_path.glob(\"*.txt\"))\n",
        "mc_datasets, rp_datasets = list(filter(lambda x: x.name.startswith(\"mc\"), mc_rp_sets)), list(filter(lambda x: x.name.startswith(\"rp\"), mc_rp_sets))"
      ],
      "metadata": {
        "id": "vbKZ8EmkWZGA"
      },
      "execution_count": 5,
      "outputs": []
    },
    {
      "cell_type": "code",
      "source": [
        "# Reading MC and RP data and creating data loaders from our data loading strategy\n",
        "def read_process_mcrp(datapaths: dict):\n",
        "  def rm(text):\n",
        "    return \" \".join(list(map(lambda x: x[:x.find('_')], text.split())))\n",
        "  retval = {}\n",
        "  for datapath in datapaths:\n",
        "    if \"rp\" in str(datapath):\n",
        "      sel = 2\n",
        "    else:\n",
        "      sel = 3\n",
        "    df = pd.DataFrame(list(map(lambda x: [int(x[0]), x[sel:]], datapath.read_text().split(\"\\n\"))), columns=['label', 'text'])\n",
        "    df['text'] = df['text'].apply(rm)\n",
        "    retval[datapath.name.split(\".\")[0]] = df\n",
        "  return retval\n",
        "\n",
        "mc_data, rp_data = read_process_mcrp(mc_datasets), read_process_mcrp(rp_datasets)\n",
        "MRP_BATCH_SIZE = 30"
      ],
      "metadata": {
        "id": "pl1oSIKAYf81"
      },
      "execution_count": 11,
      "outputs": []
    },
    {
      "cell_type": "code",
      "source": [
        "def data_frame_simple_txt2vec(data,keystr,min_length=6,w_dict=None):\n",
        "    txt_lst=[]\n",
        "    max_len=0\n",
        "    for txt in data[keystr].text:\n",
        "        txtsplit=txt.split()\n",
        "        txt_lst=txt_lst+txtsplit\n",
        "        if max_len< len(txtsplit):\n",
        "            max_len=len(txtsplit)\n",
        "    w_set=set(txt_lst)\n",
        "\n",
        "    comm_lst=Counter(txt_lst).most_common()\n",
        "\n",
        "    if w_dict==None:\n",
        "        w_dict={}\n",
        "        ind=len(comm_lst)\n",
        "        for elem in comm_lst:\n",
        "            w_dict[elem[0]]=ind\n",
        "            ind-=1\n",
        "    #w_dict={}\n",
        "    #ind=1\n",
        "    #for elem in w_set:\n",
        "    #    w_dict[elem]=ind\n",
        "    #    ind+=1\n",
        "\n",
        "    if max_len%2 !=0:\n",
        "        max_len+=1\n",
        "    if max_len<min_length:\n",
        "        max_len=min_length\n",
        "\n",
        "    label_list=[]\n",
        "    Txt_list=[]\n",
        "    for i, txt in enumerate(data[keystr].text):\n",
        "        w_list=[]\n",
        "        for word in data[keystr].text[i].split():\n",
        "            if word in w_dict:\n",
        "                w_list.append(w_dict[word])\n",
        "            else:\n",
        "                w_list.append(len(w_dict.keys())+1)\n",
        "        if len(w_list) < max_len:\n",
        "            w_list=w_list+(max_len-len(w_list))*[0]\n",
        "        #print(torch.tensor(w_list))\n",
        "        label_list.append(torch.tensor(data[keystr].label[i]))\n",
        "        Txt_list.append(torch.tensor(w_list))\n",
        "    label_tensor=torch.tensor(label_list)\n",
        "    txt_tensor=torch.stack(Txt_list)\n",
        "\n",
        "    return data_utils.TensorDataset(txt_tensor,label_tensor),w_dict"
      ],
      "metadata": {
        "id": "uhemkUEeb2X2"
      },
      "execution_count": 12,
      "outputs": []
    },
    {
      "cell_type": "markdown",
      "metadata": {
        "id": "6HltJ0LUTguJ"
      },
      "source": [
        "# Model"
      ]
    },
    {
      "cell_type": "code",
      "source": [
        "class PositionalEncoder(nn.Module):\n",
        "    def __init__(self, embed_dim, max_seq_len=512):\n",
        "        super().__init__()\n",
        "        self.embed_dim = embed_dim\n",
        "\n",
        "        # create constant 'pe' matrix with values dependant on pos and i\n",
        "        pe = torch.zeros(max_seq_len, embed_dim)\n",
        "        for pos in range(max_seq_len):\n",
        "            for i in range(0, embed_dim, 2):\n",
        "                pe[pos, i] = math.sin(pos / (10000 ** ((2 * i)/embed_dim)))\n",
        "                pe[pos, i + 1] = math.cos(pos / (10000 ** ((2 * (i + 1))/embed_dim)))\n",
        "        pe = pe.unsqueeze(0)\n",
        "        self.register_buffer('pe', pe)\n",
        "\n",
        "    def forward(self, x):\n",
        "        # make embeddings relatively larger\n",
        "        x = x * math.sqrt(self.embed_dim)\n",
        "        #add constant to embedding\n",
        "        seq_len = x.size(1)\n",
        "        x = x + self.pe[:,:seq_len] #torch.autograd.Variable(self.pe[:,:seq_len], requires_grad=False)  # .cuda()\n",
        "        return x"
      ],
      "metadata": {
        "id": "4ipXa1XtZIbO"
      },
      "execution_count": 15,
      "outputs": []
    },
    {
      "cell_type": "code",
      "execution_count": 18,
      "metadata": {
        "id": "698TlmaywBez"
      },
      "outputs": [],
      "source": [
        "import random\n",
        "class QSAL_qiskit(torch.nn.Module):\n",
        "    def __init__(self,S,n,Denc,D):\n",
        "        \"\"\"\n",
        "        # input: input data\n",
        "        # weight: trainable parameter\n",
        "        # n: # of of qubits\n",
        "        # d: embedding dimension which is equal to n(Denc+2)\n",
        "        # Denc: the # number of layers for encoding\n",
        "        # D: the # of layers of variational layers\n",
        "        # type \"K\": key, \"Q\": Query, \"V\": value\n",
        "        \"\"\"\n",
        "        super().__init__()\n",
        "        self.seq_num=S\n",
        "        self.init_params_Q=torch.nn.Parameter(torch.stack([(np.pi/4) * (2 * torch.randn(n*(D+2)) - 1) for _ in range(self.seq_num)]))\n",
        "        self.init_params_K=torch.nn.Parameter(torch.stack([(np.pi/4) * (2 * torch.randn(n*(D+2)) - 1) for _ in range(self.seq_num)]))\n",
        "        self.init_params_V=torch.nn.Parameter(torch.stack([(np.pi/4) * (2 * torch.randn(n*(D+2)) - 1) for _ in range(self.seq_num)]))\n",
        "        self.params_input=[ParameterVector('IN'+str(i),n*(Denc+2)) for i in range(self.seq_num)]\n",
        "        self.params_Q=[ParameterVector('Q'+str(i),n*(D+2)) for i in range(self.seq_num)]\n",
        "        self.params_K=[ParameterVector('K'+str(i),n*(D+2)) for i in range(self.seq_num)]\n",
        "        self.params_V=[ParameterVector('V'+str(i),n*(D+2)) for i in range(self.seq_num)]\n",
        "        self.num_q=n\n",
        "        self.Denc=Denc\n",
        "        self.D=D\n",
        "        self.d=n*(Denc+2)\n",
        "        self.bit_string_Z=SparsePauliOp.from_list([('I'*(self.num_q-1)+'Z', 1)])\n",
        "        self.pauli_strings=[]\n",
        "        for i in range(self.d):\n",
        "            string=['I']*self.num_q\n",
        "            while string==['I']*self.num_q:\n",
        "                for j in range(self.num_q):\n",
        "                    a=random.randint(0, 4)\n",
        "                    if a==0:\n",
        "                        continue\n",
        "                    elif a==1:\n",
        "                        string[j]='X'\n",
        "                    elif a==2:\n",
        "                        string[j]='Y'\n",
        "                    elif a==3:\n",
        "                        string[j]='Z'\n",
        "            self.pauli_strings.append(SparsePauliOp.from_list([(\"\".join(string), 1)]))\n",
        "\n",
        "        Q_qnn=[EstimatorQNN(circuit=self.QSAL_cir(\"Q\",i),observables=[self.bit_string_Z], input_params=self.params_input[i], weight_params=self.params_Q[i]) for i in range(self.seq_num)]\n",
        "        K_qnn=[EstimatorQNN(circuit=self.QSAL_cir(\"K\",i),observables=[self.bit_string_Z], input_params=self.params_input[i], weight_params=self.params_K[i]) for i in range(self.seq_num)]\n",
        "        V_qnn=[EstimatorQNN(circuit=self.QSAL_cir(\"V\",i),observables=self.pauli_strings, input_params=self.params_input[i], weight_params=self.params_V[i]) for i in range(self.seq_num)]\n",
        "\n",
        "        self.Q_models=[TorchConnector(Q_qnn[i], initial_weights=self.init_params_Q[i]) for i in range(self.seq_num)]\n",
        "        self.K_models=[TorchConnector(K_qnn[i], initial_weights=self.init_params_K[i]) for i in range(self.seq_num)]\n",
        "        self.V_models=[TorchConnector(V_qnn[i], initial_weights=self.init_params_V[i]) for i in range(self.seq_num)]\n",
        "\n",
        "    def QSAL_cir(self,type,indx):\n",
        "\n",
        "        qc=QuantumCircuit(self.num_q)\n",
        "        if type==\"Q\":\n",
        "            self.Feature_map(qc,self.params_input[indx])\n",
        "            self.ansatz(qc,self.params_Q[indx])\n",
        "\n",
        "        elif type==\"K\":\n",
        "            self.Feature_map(qc,self.params_input[indx])\n",
        "            self.ansatz(qc,self.params_K[indx])\n",
        "\n",
        "        elif type==\"V\":\n",
        "            self.Feature_map(qc,self.params_input[indx])\n",
        "            self.ansatz(qc,self.params_V[indx])\n",
        "\n",
        "        return qc\n",
        "\n",
        "    def Feature_map(self,qc,params):\n",
        "        indx=0\n",
        "        for j in range(self.num_q):\n",
        "            qc.rx(params[indx],j)\n",
        "            qc.ry(params[indx+1],j)\n",
        "            indx+=2\n",
        "        for i in range(self.Denc):\n",
        "            for j in range(self.num_q):\n",
        "                qc.cx(j,(j+1)%self.num_q)\n",
        "\n",
        "            for j in range(self.num_q):\n",
        "                #qc.rx(params[indx],j)\n",
        "                qc.ry(params[indx],j)\n",
        "                indx+=1\n",
        "\n",
        "\n",
        "    def ansatz(self,qc,params):\n",
        "        indx=0\n",
        "        for j in range(self.num_q):\n",
        "            qc.rx(params[indx],j)\n",
        "            qc.ry(params[indx+1],j)\n",
        "            indx+=2\n",
        "        for i in range(self.D):\n",
        "            for j in range(self.num_q):\n",
        "                qc.cx(j,(j+1)%self.num_q)\n",
        "\n",
        "            for j in range(self.num_q):\n",
        "                #qc.rx(params[indx],j)\n",
        "                qc.ry(params[indx],j)\n",
        "                indx+=1\n",
        "\n",
        "    def forward(self,input):\n",
        "\n",
        "        Q_output=torch.stack([self.Q_models[i](input[:,i]) for i in range(self.seq_num)])\n",
        "        K_output=torch.stack([self.K_models[i](input[:,i]) for i in range(self.seq_num)])\n",
        "        V_output=torch.stack([self.V_models[i](input[:,i]) for i in range(self.seq_num)])\n",
        "        batch_size=len(input)\n",
        "        Q_output=Q_output.transpose(0,2).repeat((self.seq_num,1,1))\n",
        "        K_output=K_output.transpose(0,2).repeat((self.seq_num,1,1)).transpose(0,2)\n",
        "        #print(V_output.size())\n",
        "        #Q_grid, K_grid=torch.meshgrid(Q_output, K_output, indexing='ij')\n",
        "        alpha=torch.exp(-(Q_output-K_output)**2)\n",
        "        alpha=alpha.transpose(0,1)\n",
        "        V_output=V_output.transpose(0,1)\n",
        "        output=[]\n",
        "\n",
        "        for i in range(self.seq_num):\n",
        "\n",
        "            Sum_a=torch.sum(alpha[:,i,:],-1)\n",
        "            div_sum_a=(1/Sum_a).repeat(self.d,self.seq_num,1).transpose(0,2)\n",
        "\n",
        "            Sum_w=torch.sum(alpha[:,:,i].repeat((self.d,1,1)).transpose(0,2).transpose(0,1)*V_output*div_sum_a,1)\n",
        "            output.append(Sum_w)\n",
        "        return input+torch.stack(output).transpose(0,1)\n",
        "\n",
        "\n",
        "class QSANN_qiskit(torch.nn.Module):\n",
        "    def __init__(self,S,n,Denc,D,num_layers):\n",
        "        \"\"\"\n",
        "        # input: input data\n",
        "        # weight: trainable parameter\n",
        "        # n: # of of qubits\n",
        "        # d: embedding dimension which is equal to n(Denc+2)\n",
        "        # Denc: the # number of layers for encoding\n",
        "        # D: the # of layers of variational layers\n",
        "        # type \"K\": key, \"Q\": Query, \"V\": value\n",
        "        \"\"\"\n",
        "        super().__init__()\n",
        "        self.qsal_lst=[QSAL_qiskit(S,n,Denc,D) for _ in range(num_layers)]\n",
        "        self.qnn=nn.Sequential(*self.qsal_lst)\n",
        "\n",
        "    def forward(self,input):\n",
        "\n",
        "        return self.qnn(input)\n",
        "\n",
        "class QSANN_text_classifier(torch.nn.Module):\n",
        "    def __init__(self,embed_dim,S,n,Denc,D,num_layers,v_cab_size=20):\n",
        "        \"\"\"\n",
        "        # input: input data\n",
        "        # weight: trainable parameter\n",
        "        # n: # of of qubits\n",
        "        # d: embedding dimension which is equal to n(Denc+2)\n",
        "        # Denc: the # number of layers for encoding\n",
        "        # D: the # of layers of variational layers\n",
        "        # type \"K\": key, \"Q\": Query, \"V\": value\n",
        "        \"\"\"\n",
        "        super().__init__()\n",
        "        self.embed_dim=embed_dim\n",
        "        self.num_seq=S\n",
        "        self.num_q=n\n",
        "        self.Denc=Denc\n",
        "        self.q_embedding=self.num_q*(self.Denc+2)\n",
        "        self.token_embedding=nn.Embedding(v_cab_size,embed_dim)#,_freeze=True)\n",
        "        self.PE=PositionalEncoder(embed_dim)\n",
        "        self.Qnn=QSANN_qiskit(S,n,Denc,D,num_layers)\n",
        "        self.final_layer=nn.Linear(n*(Denc+2)*S, 1)\n",
        "        self.final_layer=self.final_layer.float()\n",
        "\n",
        "    def forward(self,input):\n",
        "        token=self.token_embedding(input)\n",
        "        x=self.PE(token)\n",
        "        x=x*np.pi/x.norm()\n",
        "        batch_size=x.size(0)\n",
        "        x=torch.reshape(x, (batch_size,self.num_seq, self.q_embedding))\n",
        "        x=self.Qnn(x)\n",
        "        x=torch.flatten(x,start_dim=1)\n",
        "\n",
        "        return torch.sigmoid(self.final_layer(x))"
      ]
    },
    {
      "cell_type": "markdown",
      "metadata": {
        "id": "ngz-jQAtryQn"
      },
      "source": [
        "# Train Real Data"
      ]
    },
    {
      "cell_type": "code",
      "execution_count": 9,
      "metadata": {
        "id": "ivig6keChfN9"
      },
      "outputs": [],
      "source": [
        "def binary_accuracy(preds, y):\n",
        "    \"\"\"\n",
        "    Returns accuracy per batch, i.e. if you get 8/10 right, this returns 0.8, NOT 8\n",
        "    \"\"\"\n",
        "\n",
        "    #round predictions to the closest integer\n",
        "    rounded_preds = (torch.round(torch.sign(preds-0.5))+1)//2\n",
        "    correct = (rounded_preds == y).float() #convert into float for division\n",
        "    acc = correct.sum() / len(correct)\n",
        "    return acc"
      ]
    },
    {
      "cell_type": "markdown",
      "source": [
        "## Prepare mc datasets"
      ],
      "metadata": {
        "id": "12OQMMf0aIE4"
      }
    },
    {
      "cell_type": "code",
      "source": [
        "mc_df_train,train_dict=data_frame_simple_txt2vec(mc_data,'mc_train_data')\n",
        "mc_df_test,_=data_frame_simple_txt2vec(mc_data,'mc_test_data',w_dict=train_dict)\n",
        "\n",
        "mc_trainloader = DataLoader(mc_df_train, shuffle=True, batch_size=MRP_BATCH_SIZE)\n",
        "mc_testloader = DataLoader(mc_df_test, shuffle=True, batch_size=30)"
      ],
      "metadata": {
        "id": "N16sbUFxYMjv"
      },
      "execution_count": 52,
      "outputs": []
    },
    {
      "cell_type": "code",
      "execution_count": 53,
      "metadata": {
        "id": "k3yLEdEfrx4k",
        "colab": {
          "base_uri": "https://localhost:8080/"
        },
        "outputId": "2207996e-c97e-45b7-8fcb-e535cf3c77e8"
      },
      "outputs": [
        {
          "output_type": "stream",
          "name": "stderr",
          "text": [
            "/usr/local/lib/python3.10/dist-packages/qiskit_machine_learning/connectors/torch_connector.py:312: UserWarning: To copy construct from a tensor, it is recommended to use sourceTensor.clone().detach() or sourceTensor.clone().detach().requires_grad_(True), rather than torch.tensor(sourceTensor).\n",
            "  self._weights.data = torch.tensor(initial_weights, dtype=torch.float)\n"
          ]
        }
      ],
      "source": [
        "model=QSANN_text_classifier(2,2,2,1,1,1)"
      ]
    },
    {
      "cell_type": "code",
      "execution_count": 54,
      "metadata": {
        "colab": {
          "base_uri": "https://localhost:8080/"
        },
        "id": "KnAE4Pf00TWK",
        "outputId": "37fe54e7-be58-4df7-8d3d-ccc5c58cfa53"
      },
      "outputs": [
        {
          "output_type": "stream",
          "name": "stdout",
          "text": [
            "89\n"
          ]
        }
      ],
      "source": [
        "trainable_params = sum(p.numel() for p in model.parameters() if p.requires_grad)\n",
        "print(trainable_params) # To count # of trainable parameters"
      ]
    },
    {
      "cell_type": "code",
      "execution_count": 40,
      "metadata": {
        "colab": {
          "base_uri": "https://localhost:8080/"
        },
        "id": "-ZzMfXH-xfoi",
        "outputId": "00a601ae-3231-4e00-f052-f6fec853a3b4"
      },
      "outputs": [
        {
          "output_type": "stream",
          "name": "stderr",
          "text": [
            "  0%|          | 0/3 [00:00<?, ?it/s]\n",
            "  0%|          | 0/3 [00:00<?, ?it/s]\n",
            "\n",
            " 33%|███▎      | 1/3 [00:12<00:25, 12.52s/it]\u001b[A\n",
            "Epoch: 0 | Batch: 0 | Loss 0.7063422799110413:  33%|███▎      | 1/3 [00:12<00:25, 12.52s/it]\u001b[A\n",
            "Epoch: 0 | Batch: 0 | Loss 0.7063422799110413:  67%|██████▋   | 2/3 [00:24<00:12, 12.34s/it]\u001b[A\n",
            "Epoch: 0 | Batch: 1 | Loss 0.6839965581893921:  67%|██████▋   | 2/3 [00:24<00:12, 12.34s/it]\u001b[A\n",
            "Epoch: 0 | Batch: 1 | Loss 0.6839965581893921: 100%|██████████| 3/3 [00:28<00:00,  8.31s/it]\u001b[A\n",
            "Epoch: 0 | Batch: 2 | Loss 0.7035319805145264: 100%|██████████| 3/3 [00:28<00:00,  8.31s/it]\u001b[A"
          ]
        },
        {
          "output_type": "stream",
          "name": "stdout",
          "text": [
            "Epoch 0 Training Accuracy: tensor(0.4889)\n",
            "Testing Accuracy: tensor(0.4000)\n"
          ]
        },
        {
          "output_type": "stream",
          "name": "stderr",
          "text": [
            "\n",
            "Epoch: 0 | Batch: 2 | Loss 0.7035319805145264: 4it [00:41, 10.27s/it]                       \u001b[A\n",
            "Epoch: 1 | Batch: 0 | Loss 0.6968613266944885: 4it [00:41, 10.27s/it]\u001b[A\n",
            "Epoch: 1 | Batch: 0 | Loss 0.6968613266944885: 5it [00:53, 10.99s/it]\u001b[A\n",
            "Epoch: 1 | Batch: 1 | Loss 0.6711750030517578: 5it [00:53, 10.99s/it]\u001b[A\n",
            "Epoch: 1 | Batch: 1 | Loss 0.6711750030517578: 6it [00:57,  8.45s/it]\u001b[A\n",
            "Epoch: 1 | Batch: 2 | Loss 0.7244521379470825: 6it [00:57,  8.45s/it]\u001b[A"
          ]
        },
        {
          "output_type": "stream",
          "name": "stdout",
          "text": [
            "Epoch 1 Training Accuracy: tensor(0.5111)\n",
            "Testing Accuracy: tensor(0.4333)\n"
          ]
        },
        {
          "output_type": "stream",
          "name": "stderr",
          "text": [
            "\n",
            "Epoch: 1 | Batch: 2 | Loss 0.7244521379470825: 7it [01:10, 10.04s/it]\u001b[A\n",
            "Epoch: 2 | Batch: 0 | Loss 0.6845039129257202: 7it [01:10, 10.04s/it]\u001b[A\n",
            "Epoch: 2 | Batch: 0 | Loss 0.6845039129257202: 8it [01:23, 10.84s/it]\u001b[A\n",
            "Epoch: 2 | Batch: 1 | Loss 0.6937592625617981: 8it [01:23, 10.84s/it]\u001b[A\n",
            "Epoch: 2 | Batch: 1 | Loss 0.6937592625617981: 9it [01:26,  8.54s/it]\u001b[A\n",
            "Epoch: 2 | Batch: 2 | Loss 0.6761029958724976: 9it [01:26,  8.54s/it]\u001b[A"
          ]
        },
        {
          "output_type": "stream",
          "name": "stdout",
          "text": [
            "Epoch 2 Training Accuracy: tensor(0.5667)\n",
            "Testing Accuracy: tensor(0.4667)\n"
          ]
        },
        {
          "output_type": "stream",
          "name": "stderr",
          "text": [
            "\n",
            "Epoch: 2 | Batch: 2 | Loss 0.6761029958724976: 10it [01:39,  9.92s/it]\u001b[A\n",
            "Epoch: 3 | Batch: 0 | Loss 0.6958461999893188: 10it [01:39,  9.92s/it]\u001b[A\n",
            "Epoch: 3 | Batch: 0 | Loss 0.6958461999893188: 11it [01:51, 10.64s/it]\u001b[A\n",
            "Epoch: 3 | Batch: 1 | Loss 0.6653739809989929: 11it [01:51, 10.64s/it]\u001b[A\n",
            "Epoch: 3 | Batch: 1 | Loss 0.6653739809989929: 12it [01:55,  8.51s/it]\u001b[A\n",
            "Epoch: 3 | Batch: 2 | Loss 0.7309494614601135: 12it [01:55,  8.51s/it]\u001b[A"
          ]
        },
        {
          "output_type": "stream",
          "name": "stdout",
          "text": [
            "Epoch 3 Training Accuracy: tensor(0.5000)\n",
            "Testing Accuracy: tensor(0.4667)\n"
          ]
        },
        {
          "output_type": "stream",
          "name": "stderr",
          "text": [
            "\n",
            "Epoch: 3 | Batch: 2 | Loss 0.7309494614601135: 13it [02:08,  9.99s/it]\u001b[A\n",
            "Epoch: 4 | Batch: 0 | Loss 0.6804465055465698: 13it [02:08,  9.99s/it]\u001b[A\n",
            "Epoch: 4 | Batch: 0 | Loss 0.6804465055465698: 14it [02:21, 10.64s/it]\u001b[A\n",
            "Epoch: 4 | Batch: 1 | Loss 0.6955230832099915: 14it [02:21, 10.64s/it]\u001b[A\n",
            "Epoch: 4 | Batch: 1 | Loss 0.6955230832099915: 15it [02:24,  8.55s/it]\u001b[A\n",
            "Epoch: 4 | Batch: 2 | Loss 0.6790133118629456: 15it [02:24,  8.55s/it]\u001b[A"
          ]
        },
        {
          "output_type": "stream",
          "name": "stdout",
          "text": [
            "Epoch 4 Training Accuracy: tensor(0.5444)\n",
            "Testing Accuracy: tensor(0.4333)\n"
          ]
        },
        {
          "output_type": "stream",
          "name": "stderr",
          "text": [
            "\n",
            "Epoch: 4 | Batch: 2 | Loss 0.6790133118629456: 16it [02:37,  9.90s/it]\u001b[A\n",
            "Epoch: 5 | Batch: 0 | Loss 0.6954696178436279: 16it [02:37,  9.90s/it]\u001b[A\n",
            "Epoch: 5 | Batch: 0 | Loss 0.6954696178436279: 17it [02:49, 10.50s/it]\u001b[A\n",
            "Epoch: 5 | Batch: 1 | Loss 0.6864672899246216: 17it [02:49, 10.50s/it]\u001b[A\n",
            "Epoch: 5 | Batch: 1 | Loss 0.6864672899246216: 18it [02:53,  8.54s/it]\u001b[A\n",
            "Epoch: 5 | Batch: 2 | Loss 0.7043078541755676: 18it [02:53,  8.54s/it]\u001b[A"
          ]
        },
        {
          "output_type": "stream",
          "name": "stdout",
          "text": [
            "Epoch 5 Training Accuracy: tensor(0.4444)\n",
            "Testing Accuracy: tensor(0.4333)\n"
          ]
        },
        {
          "output_type": "stream",
          "name": "stderr",
          "text": [
            "\n",
            "Epoch: 5 | Batch: 2 | Loss 0.7043078541755676: 19it [03:08, 10.54s/it]\u001b[A\n",
            "Epoch: 6 | Batch: 0 | Loss 0.7093955874443054: 19it [03:08, 10.54s/it]\u001b[A\n",
            "Epoch: 6 | Batch: 0 | Loss 0.7093955874443054: 20it [03:22, 11.45s/it]\u001b[A\n",
            "Epoch: 6 | Batch: 1 | Loss 0.6680496335029602: 20it [03:22, 11.45s/it]\u001b[A\n",
            "Epoch: 6 | Batch: 1 | Loss 0.6680496335029602: 21it [03:26,  9.32s/it]\u001b[A\n",
            "Epoch: 6 | Batch: 2 | Loss 0.6881620287895203: 21it [03:26,  9.32s/it]\u001b[A"
          ]
        },
        {
          "output_type": "stream",
          "name": "stdout",
          "text": [
            "Epoch 6 Training Accuracy: tensor(0.4889)\n",
            "Testing Accuracy: tensor(0.4667)\n"
          ]
        },
        {
          "output_type": "stream",
          "name": "stderr",
          "text": [
            "\n",
            "Epoch: 6 | Batch: 2 | Loss 0.6881620287895203: 22it [03:42, 11.35s/it]\u001b[A\n",
            "Epoch: 7 | Batch: 0 | Loss 0.681955873966217: 22it [03:42, 11.35s/it] \u001b[A\n",
            "Epoch: 7 | Batch: 0 | Loss 0.681955873966217: 23it [03:57, 12.41s/it]\u001b[A\n",
            "Epoch: 7 | Batch: 1 | Loss 0.6824344992637634: 23it [03:57, 12.41s/it]\u001b[A\n",
            "Epoch: 7 | Batch: 1 | Loss 0.6824344992637634: 24it [04:02, 10.18s/it]\u001b[A\n",
            "Epoch: 7 | Batch: 2 | Loss 0.6973335146903992: 24it [04:02, 10.18s/it]\u001b[A"
          ]
        },
        {
          "output_type": "stream",
          "name": "stdout",
          "text": [
            "Epoch 7 Training Accuracy: tensor(0.5556)\n",
            "Testing Accuracy: tensor(0.5000)\n"
          ]
        },
        {
          "output_type": "stream",
          "name": "stderr",
          "text": [
            "\n",
            "Epoch: 7 | Batch: 2 | Loss 0.6973335146903992: 25it [04:18, 11.84s/it]\u001b[A\n",
            "Epoch: 8 | Batch: 0 | Loss 0.6724563837051392: 25it [04:18, 11.84s/it]\u001b[A\n",
            "Epoch: 8 | Batch: 0 | Loss 0.6724563837051392: 26it [04:31, 12.06s/it]\u001b[A\n",
            "Epoch: 8 | Batch: 1 | Loss 0.6876174211502075: 26it [04:31, 12.06s/it]\u001b[A\n",
            "Epoch: 8 | Batch: 1 | Loss 0.6876174211502075: 27it [04:35,  9.86s/it]\u001b[A\n",
            "Epoch: 8 | Batch: 2 | Loss 0.7070940136909485: 27it [04:35,  9.86s/it]\u001b[A"
          ]
        },
        {
          "output_type": "stream",
          "name": "stdout",
          "text": [
            "Epoch 8 Training Accuracy: tensor(0.4889)\n",
            "Testing Accuracy: tensor(0.5000)\n"
          ]
        },
        {
          "output_type": "stream",
          "name": "stderr",
          "text": [
            "\n",
            "Epoch: 8 | Batch: 2 | Loss 0.7070940136909485: 28it [04:48, 10.72s/it]\u001b[A\n",
            "Epoch: 9 | Batch: 0 | Loss 0.6632083654403687: 28it [04:48, 10.72s/it]\u001b[A\n",
            "Epoch: 9 | Batch: 0 | Loss 0.6632083654403687: 29it [05:00, 11.08s/it]\u001b[A\n",
            "Epoch: 9 | Batch: 1 | Loss 0.691629946231842: 29it [05:00, 11.08s/it] \u001b[A\n",
            "Epoch: 9 | Batch: 1 | Loss 0.691629946231842: 30it [05:05,  9.23s/it]\u001b[A\n",
            "Epoch: 9 | Batch: 2 | Loss 0.7117091417312622: 30it [05:05,  9.23s/it]\u001b[A"
          ]
        },
        {
          "output_type": "stream",
          "name": "stdout",
          "text": [
            "Epoch 9 Training Accuracy: tensor(0.4556)\n",
            "Testing Accuracy: tensor(0.5000)\n"
          ]
        },
        {
          "output_type": "stream",
          "name": "stderr",
          "text": [
            "\n",
            "Epoch: 9 | Batch: 2 | Loss 0.7117091417312622: 31it [05:17, 10.18s/it]\u001b[A\n",
            "Epoch: 10 | Batch: 0 | Loss 0.6888993382453918: 31it [05:17, 10.18s/it]\u001b[A\n",
            "Epoch: 10 | Batch: 0 | Loss 0.6888993382453918: 32it [05:29, 10.75s/it]\u001b[A\n",
            "Epoch: 10 | Batch: 1 | Loss 0.6787744760513306: 32it [05:29, 10.75s/it]\u001b[A\n",
            "Epoch: 10 | Batch: 1 | Loss 0.6787744760513306: 33it [05:34,  8.88s/it]\u001b[A\n",
            "Epoch: 10 | Batch: 2 | Loss 0.6710773706436157: 33it [05:34,  8.88s/it]\u001b[A"
          ]
        },
        {
          "output_type": "stream",
          "name": "stdout",
          "text": [
            "Epoch 10 Training Accuracy: tensor(0.5667)\n",
            "Testing Accuracy: tensor(0.5000)\n"
          ]
        },
        {
          "output_type": "stream",
          "name": "stderr",
          "text": [
            "\n",
            "Epoch: 10 | Batch: 2 | Loss 0.6710773706436157: 34it [05:46,  9.92s/it]\u001b[A\n",
            "Epoch: 11 | Batch: 0 | Loss 0.6774121522903442: 34it [05:46,  9.92s/it]\u001b[A\n",
            "Epoch: 11 | Batch: 0 | Loss 0.6774121522903442: 35it [05:58, 10.63s/it]\u001b[A\n",
            "Epoch: 11 | Batch: 1 | Loss 0.6661531925201416: 35it [05:58, 10.63s/it]\u001b[A\n",
            "Epoch: 11 | Batch: 1 | Loss 0.6661531925201416: 36it [06:03,  8.85s/it]\u001b[A\n",
            "Epoch: 11 | Batch: 2 | Loss 0.7129014134407043: 36it [06:03,  8.85s/it]\u001b[A"
          ]
        },
        {
          "output_type": "stream",
          "name": "stdout",
          "text": [
            "Epoch 11 Training Accuracy: tensor(0.5111)\n",
            "Testing Accuracy: tensor(0.5000)\n"
          ]
        },
        {
          "output_type": "stream",
          "name": "stderr",
          "text": [
            "\n",
            "Epoch: 11 | Batch: 2 | Loss 0.7129014134407043: 37it [06:17, 10.19s/it]\u001b[A\n",
            "Epoch: 12 | Batch: 0 | Loss 0.667298436164856: 37it [06:17, 10.19s/it] \u001b[A\n",
            "Epoch: 12 | Batch: 0 | Loss 0.667298436164856: 38it [06:30, 11.18s/it]\u001b[A\n",
            "Epoch: 12 | Batch: 1 | Loss 0.68376225233078: 38it [06:30, 11.18s/it] \u001b[A\n",
            "Epoch: 12 | Batch: 1 | Loss 0.68376225233078: 39it [06:36,  9.62s/it]\u001b[A\n",
            "Epoch: 12 | Batch: 2 | Loss 0.7027246952056885: 39it [06:36,  9.62s/it]\u001b[A"
          ]
        },
        {
          "output_type": "stream",
          "name": "stdout",
          "text": [
            "Epoch 12 Training Accuracy: tensor(0.5556)\n",
            "Testing Accuracy: tensor(0.5000)\n"
          ]
        },
        {
          "output_type": "stream",
          "name": "stderr",
          "text": [
            "\n",
            "Epoch: 12 | Batch: 2 | Loss 0.7027246952056885: 40it [06:51, 11.37s/it]\u001b[A\n",
            "Epoch: 13 | Batch: 0 | Loss 0.6915419697761536: 40it [06:51, 11.37s/it]\u001b[A\n",
            "Epoch: 13 | Batch: 0 | Loss 0.6915419697761536: 41it [07:03, 11.57s/it]\u001b[A\n",
            "Epoch: 13 | Batch: 1 | Loss 0.690729558467865: 41it [07:03, 11.57s/it] \u001b[A\n",
            "Epoch: 13 | Batch: 1 | Loss 0.690729558467865: 42it [07:08,  9.39s/it]\u001b[A\n",
            "Epoch: 13 | Batch: 2 | Loss 0.6449718475341797: 42it [07:08,  9.39s/it]\u001b[A"
          ]
        },
        {
          "output_type": "stream",
          "name": "stdout",
          "text": [
            "Epoch 13 Training Accuracy: tensor(0.5556)\n",
            "Testing Accuracy: tensor(0.5000)\n"
          ]
        },
        {
          "output_type": "stream",
          "name": "stderr",
          "text": [
            "\n",
            "Epoch: 13 | Batch: 2 | Loss 0.6449718475341797: 43it [07:21, 10.60s/it]\u001b[A\n",
            "Epoch: 14 | Batch: 0 | Loss 0.6790922284126282: 43it [07:21, 10.60s/it]\u001b[A\n",
            "Epoch: 14 | Batch: 0 | Loss 0.6790922284126282: 44it [07:33, 10.91s/it]\u001b[A\n",
            "Epoch: 14 | Batch: 1 | Loss 0.6658921837806702: 44it [07:33, 10.91s/it]\u001b[A\n",
            "Epoch: 14 | Batch: 1 | Loss 0.6658921837806702: 45it [07:37,  8.89s/it]\u001b[A\n",
            "Epoch: 14 | Batch: 2 | Loss 0.6914104223251343: 45it [07:37,  8.89s/it]\u001b[A"
          ]
        },
        {
          "output_type": "stream",
          "name": "stdout",
          "text": [
            "Epoch 14 Training Accuracy: tensor(0.5667)\n",
            "Testing Accuracy: tensor(0.5000)\n"
          ]
        },
        {
          "output_type": "stream",
          "name": "stderr",
          "text": [
            "\n",
            "Epoch: 14 | Batch: 2 | Loss 0.6914104223251343: 46it [07:50, 10.23s/it]\u001b[A\n",
            "Epoch: 15 | Batch: 0 | Loss 0.6790658831596375: 46it [07:50, 10.23s/it]\u001b[A\n",
            "Epoch: 15 | Batch: 0 | Loss 0.6790658831596375: 47it [08:02, 10.70s/it]\u001b[A\n",
            "Epoch: 15 | Batch: 1 | Loss 0.6861163973808289: 47it [08:02, 10.70s/it]\u001b[A\n",
            "Epoch: 15 | Batch: 1 | Loss 0.6861163973808289: 48it [08:06,  8.77s/it]\u001b[A\n",
            "Epoch: 15 | Batch: 2 | Loss 0.6319498419761658: 48it [08:06,  8.77s/it]\u001b[A"
          ]
        },
        {
          "output_type": "stream",
          "name": "stdout",
          "text": [
            "Epoch 15 Training Accuracy: tensor(0.6667)\n",
            "Testing Accuracy: tensor(0.5000)\n"
          ]
        },
        {
          "output_type": "stream",
          "name": "stderr",
          "text": [
            "\n",
            "Epoch: 15 | Batch: 2 | Loss 0.6319498419761658: 49it [08:20, 10.24s/it]\u001b[A\n",
            "Epoch: 16 | Batch: 0 | Loss 0.71138596534729: 49it [08:20, 10.24s/it]  \u001b[A\n",
            "Epoch: 16 | Batch: 0 | Loss 0.71138596534729: 50it [08:32, 10.67s/it]\u001b[A\n",
            "Epoch: 16 | Batch: 1 | Loss 0.6527736783027649: 50it [08:32, 10.67s/it]\u001b[A\n",
            "Epoch: 16 | Batch: 1 | Loss 0.6527736783027649: 51it [08:36,  8.71s/it]\u001b[A\n",
            "Epoch: 16 | Batch: 2 | Loss 0.645675003528595: 51it [08:36,  8.71s/it] \u001b[A"
          ]
        },
        {
          "output_type": "stream",
          "name": "stdout",
          "text": [
            "Epoch 16 Training Accuracy: tensor(0.5556)\n",
            "Testing Accuracy: tensor(0.5000)\n"
          ]
        },
        {
          "output_type": "stream",
          "name": "stderr",
          "text": [
            "\n",
            "Epoch: 16 | Batch: 2 | Loss 0.645675003528595: 52it [08:50, 10.34s/it]\u001b[A\n",
            "Epoch: 17 | Batch: 0 | Loss 0.6848688125610352: 52it [08:50, 10.34s/it]\u001b[A\n",
            "Epoch: 17 | Batch: 0 | Loss 0.6848688125610352: 53it [09:04, 11.28s/it]\u001b[A\n",
            "Epoch: 17 | Batch: 1 | Loss 0.6729108691215515: 53it [09:04, 11.28s/it]\u001b[A\n",
            "Epoch: 17 | Batch: 1 | Loss 0.6729108691215515: 54it [09:07,  8.93s/it]\u001b[A\n",
            "Epoch: 17 | Batch: 2 | Loss 0.6662795543670654: 54it [09:07,  8.93s/it]\u001b[A"
          ]
        },
        {
          "output_type": "stream",
          "name": "stdout",
          "text": [
            "Epoch 17 Training Accuracy: tensor(0.5556)\n",
            "Testing Accuracy: tensor(0.5000)\n"
          ]
        },
        {
          "output_type": "stream",
          "name": "stderr",
          "text": [
            "\n",
            "Epoch: 17 | Batch: 2 | Loss 0.6662795543670654: 55it [09:20, 10.14s/it]\u001b[A\n",
            "Epoch: 18 | Batch: 0 | Loss 0.6876307725906372: 55it [09:20, 10.14s/it]\u001b[A\n",
            "Epoch: 18 | Batch: 0 | Loss 0.6876307725906372: 56it [09:32, 10.82s/it]\u001b[A\n",
            "Epoch: 18 | Batch: 1 | Loss 0.6549991369247437: 56it [09:32, 10.82s/it]\u001b[A\n",
            "Epoch: 18 | Batch: 1 | Loss 0.6549991369247437: 57it [09:36,  8.62s/it]\u001b[A\n",
            "Epoch: 18 | Batch: 2 | Loss 0.6759893894195557: 57it [09:36,  8.62s/it]\u001b[A"
          ]
        },
        {
          "output_type": "stream",
          "name": "stdout",
          "text": [
            "Epoch 18 Training Accuracy: tensor(0.5556)\n",
            "Testing Accuracy: tensor(0.5000)\n"
          ]
        },
        {
          "output_type": "stream",
          "name": "stderr",
          "text": [
            "\n",
            "Epoch: 18 | Batch: 2 | Loss 0.6759893894195557: 58it [09:49,  9.92s/it]\u001b[A\n",
            "Epoch: 19 | Batch: 0 | Loss 0.6452750563621521: 58it [09:49,  9.92s/it]\u001b[A\n",
            "Epoch: 19 | Batch: 0 | Loss 0.6452750563621521: 59it [10:01, 10.64s/it]\u001b[A\n",
            "Epoch: 19 | Batch: 1 | Loss 0.6953648328781128: 59it [10:01, 10.64s/it]\u001b[A\n",
            "Epoch: 19 | Batch: 1 | Loss 0.6953648328781128: 60it [10:05,  8.54s/it]\u001b[A\n",
            "Epoch: 19 | Batch: 2 | Loss 0.6961822509765625: 60it [10:05,  8.54s/it]\u001b[A"
          ]
        },
        {
          "output_type": "stream",
          "name": "stdout",
          "text": [
            "Epoch 19 Training Accuracy: tensor(0.5111)\n",
            "Testing Accuracy: tensor(0.5000)\n"
          ]
        },
        {
          "output_type": "stream",
          "name": "stderr",
          "text": [
            "\n",
            "Epoch: 19 | Batch: 2 | Loss 0.6961822509765625: 61it [10:18,  9.86s/it]\u001b[A\n",
            "Epoch: 20 | Batch: 0 | Loss 0.6558162569999695: 61it [10:18,  9.86s/it]\u001b[A\n",
            "Epoch: 20 | Batch: 0 | Loss 0.6558162569999695: 62it [10:29, 10.44s/it]\u001b[A\n",
            "Epoch: 20 | Batch: 1 | Loss 0.6777574419975281: 62it [10:29, 10.44s/it]\u001b[A\n",
            "Epoch: 20 | Batch: 1 | Loss 0.6777574419975281: 63it [10:33,  8.50s/it]\u001b[A\n",
            "Epoch: 20 | Batch: 2 | Loss 0.7056092023849487: 63it [10:33,  8.50s/it]\u001b[A"
          ]
        },
        {
          "output_type": "stream",
          "name": "stdout",
          "text": [
            "Epoch 20 Training Accuracy: tensor(0.5111)\n",
            "Testing Accuracy: tensor(0.5000)\n"
          ]
        },
        {
          "output_type": "stream",
          "name": "stderr",
          "text": [
            "\n",
            "Epoch: 20 | Batch: 2 | Loss 0.7056092023849487: 64it [10:47,  9.89s/it]\u001b[A\n",
            "Epoch: 21 | Batch: 0 | Loss 0.6343106031417847: 64it [10:47,  9.89s/it]\u001b[A\n",
            "Epoch: 21 | Batch: 0 | Loss 0.6343106031417847: 65it [11:01, 11.16s/it]\u001b[A\n",
            "Epoch: 21 | Batch: 1 | Loss 0.6961572766304016: 65it [11:01, 11.16s/it]\u001b[A\n",
            "Epoch: 21 | Batch: 1 | Loss 0.6961572766304016: 66it [11:04,  8.90s/it]\u001b[A\n",
            "Epoch: 21 | Batch: 2 | Loss 0.6712804436683655: 66it [11:04,  8.90s/it]\u001b[A"
          ]
        },
        {
          "output_type": "stream",
          "name": "stdout",
          "text": [
            "Epoch 21 Training Accuracy: tensor(0.6000)\n",
            "Testing Accuracy: tensor(0.5000)\n"
          ]
        },
        {
          "output_type": "stream",
          "name": "stderr",
          "text": [
            "\n",
            "Epoch: 21 | Batch: 2 | Loss 0.6712804436683655: 67it [11:20, 11.07s/it]\u001b[A\n",
            "Epoch: 22 | Batch: 0 | Loss 0.6464584469795227: 67it [11:20, 11.07s/it]\u001b[A\n",
            "Epoch: 22 | Batch: 0 | Loss 0.6464584469795227: 68it [11:36, 12.53s/it]\u001b[A\n",
            "Epoch: 22 | Batch: 1 | Loss 0.6971607804298401: 68it [11:36, 12.53s/it]\u001b[A\n",
            "Epoch: 22 | Batch: 1 | Loss 0.6971607804298401: 69it [11:41, 10.29s/it]\u001b[A\n",
            "Epoch: 22 | Batch: 2 | Loss 0.6408103704452515: 69it [11:41, 10.29s/it]\u001b[A"
          ]
        },
        {
          "output_type": "stream",
          "name": "stdout",
          "text": [
            "Epoch 22 Training Accuracy: tensor(0.5667)\n",
            "Testing Accuracy: tensor(0.5000)\n"
          ]
        },
        {
          "output_type": "stream",
          "name": "stderr",
          "text": [
            "\n",
            "Epoch: 22 | Batch: 2 | Loss 0.6408103704452515: 70it [12:00, 12.87s/it]\u001b[A\n",
            "Epoch: 23 | Batch: 0 | Loss 0.6520329713821411: 70it [12:00, 12.87s/it]\u001b[A\n",
            "Epoch: 23 | Batch: 0 | Loss 0.6520329713821411: 71it [12:16, 13.79s/it]\u001b[A\n",
            "Epoch: 23 | Batch: 1 | Loss 0.6817331910133362: 71it [12:16, 13.79s/it]\u001b[A\n",
            "Epoch: 23 | Batch: 1 | Loss 0.6817331910133362: 72it [12:22, 11.23s/it]\u001b[A\n",
            "Epoch: 23 | Batch: 2 | Loss 0.6794742941856384: 72it [12:22, 11.23s/it]\u001b[A"
          ]
        },
        {
          "output_type": "stream",
          "name": "stdout",
          "text": [
            "Epoch 23 Training Accuracy: tensor(0.5333)\n",
            "Testing Accuracy: tensor(0.5000)\n"
          ]
        },
        {
          "output_type": "stream",
          "name": "stderr",
          "text": [
            "\n",
            "Epoch: 23 | Batch: 2 | Loss 0.6794742941856384: 73it [12:39, 13.19s/it]\u001b[A\n",
            "Epoch: 24 | Batch: 0 | Loss 0.6450980305671692: 73it [12:39, 13.19s/it]\u001b[A\n",
            "Epoch: 24 | Batch: 0 | Loss 0.6450980305671692: 74it [12:55, 14.09s/it]\u001b[A\n",
            "Epoch: 24 | Batch: 1 | Loss 0.6911157965660095: 74it [12:56, 14.09s/it]\u001b[A\n",
            "Epoch: 24 | Batch: 1 | Loss 0.6911157965660095: 75it [12:59, 10.99s/it]\u001b[A\n",
            "Epoch: 24 | Batch: 2 | Loss 0.6503610014915466: 75it [12:59, 10.99s/it]\u001b[A"
          ]
        },
        {
          "output_type": "stream",
          "name": "stdout",
          "text": [
            "Epoch 24 Training Accuracy: tensor(0.5333)\n",
            "Testing Accuracy: tensor(0.5000)\n"
          ]
        },
        {
          "output_type": "stream",
          "name": "stderr",
          "text": [
            "\n",
            "Epoch: 24 | Batch: 2 | Loss 0.6503610014915466: 76it [13:13, 11.79s/it]\u001b[A\n",
            "Epoch: 25 | Batch: 0 | Loss 0.6546481847763062: 76it [13:13, 11.79s/it]\u001b[A\n",
            "Epoch: 25 | Batch: 0 | Loss 0.6546481847763062: 77it [13:26, 12.19s/it]\u001b[A\n",
            "Epoch: 25 | Batch: 1 | Loss 0.6683295965194702: 77it [13:26, 12.19s/it]\u001b[A\n",
            "Epoch: 25 | Batch: 1 | Loss 0.6683295965194702: 78it [13:30,  9.78s/it]\u001b[A\n",
            "Epoch: 25 | Batch: 2 | Loss 0.6771319508552551: 78it [13:30,  9.78s/it]\u001b[A"
          ]
        },
        {
          "output_type": "stream",
          "name": "stdout",
          "text": [
            "Epoch 25 Training Accuracy: tensor(0.5444)\n",
            "Testing Accuracy: tensor(0.5000)\n"
          ]
        },
        {
          "output_type": "stream",
          "name": "stderr",
          "text": [
            "\n",
            "Epoch: 25 | Batch: 2 | Loss 0.6771319508552551: 79it [13:43, 10.79s/it]\u001b[A\n",
            "Epoch: 26 | Batch: 0 | Loss 0.6683206558227539: 79it [13:43, 10.79s/it]\u001b[A\n",
            "Epoch: 26 | Batch: 0 | Loss 0.6683206558227539: 80it [13:57, 11.52s/it]\u001b[A\n",
            "Epoch: 26 | Batch: 1 | Loss 0.6547505259513855: 80it [13:57, 11.52s/it]\u001b[A\n",
            "Epoch: 26 | Batch: 1 | Loss 0.6547505259513855: 81it [14:01,  9.51s/it]\u001b[A\n",
            "Epoch: 26 | Batch: 2 | Loss 0.6498237252235413: 81it [14:01,  9.51s/it]\u001b[A"
          ]
        },
        {
          "output_type": "stream",
          "name": "stdout",
          "text": [
            "Epoch 26 Training Accuracy: tensor(0.5444)\n",
            "Testing Accuracy: tensor(0.5000)\n"
          ]
        },
        {
          "output_type": "stream",
          "name": "stderr",
          "text": [
            "\n",
            "Epoch: 26 | Batch: 2 | Loss 0.6498237252235413: 82it [14:16, 10.91s/it]\u001b[A\n",
            "Epoch: 27 | Batch: 0 | Loss 0.6463184952735901: 82it [14:16, 10.91s/it]\u001b[A\n",
            "Epoch: 27 | Batch: 0 | Loss 0.6463184952735901: 83it [14:30, 12.07s/it]\u001b[A\n",
            "Epoch: 27 | Batch: 1 | Loss 0.673592746257782: 83it [14:30, 12.07s/it] \u001b[A\n",
            "Epoch: 27 | Batch: 1 | Loss 0.673592746257782: 84it [14:36, 10.06s/it]\u001b[A\n",
            "Epoch: 27 | Batch: 2 | Loss 0.6493921279907227: 84it [14:36, 10.06s/it]\u001b[A"
          ]
        },
        {
          "output_type": "stream",
          "name": "stdout",
          "text": [
            "Epoch 27 Training Accuracy: tensor(0.5889)\n",
            "Testing Accuracy: tensor(0.5000)\n"
          ]
        },
        {
          "output_type": "stream",
          "name": "stderr",
          "text": [
            "\n",
            "Epoch: 27 | Batch: 2 | Loss 0.6493921279907227: 85it [14:50, 11.37s/it]\u001b[A\n",
            "Epoch: 28 | Batch: 0 | Loss 0.6443654298782349: 85it [14:50, 11.37s/it]\u001b[A\n",
            "Epoch: 28 | Batch: 0 | Loss 0.6443654298782349: 86it [15:04, 12.00s/it]\u001b[A\n",
            "Epoch: 28 | Batch: 1 | Loss 0.6715478301048279: 86it [15:04, 12.00s/it]\u001b[A\n",
            "Epoch: 28 | Batch: 1 | Loss 0.6715478301048279: 87it [15:07,  9.54s/it]\u001b[A\n",
            "Epoch: 28 | Batch: 2 | Loss 0.6810284852981567: 87it [15:07,  9.54s/it]\u001b[A"
          ]
        },
        {
          "output_type": "stream",
          "name": "stdout",
          "text": [
            "Epoch 28 Training Accuracy: tensor(0.5000)\n",
            "Testing Accuracy: tensor(0.5000)\n"
          ]
        },
        {
          "output_type": "stream",
          "name": "stderr",
          "text": [
            "\n",
            "Epoch: 28 | Batch: 2 | Loss 0.6810284852981567: 88it [15:22, 10.98s/it]\u001b[A\n",
            "Epoch: 29 | Batch: 0 | Loss 0.6836441159248352: 88it [15:22, 10.98s/it]\u001b[A\n",
            "Epoch: 29 | Batch: 0 | Loss 0.6836441159248352: 89it [15:35, 11.75s/it]\u001b[A\n",
            "Epoch: 29 | Batch: 1 | Loss 0.6495465636253357: 89it [15:35, 11.75s/it]\u001b[A\n",
            "Epoch: 29 | Batch: 1 | Loss 0.6495465636253357: 90it [15:39,  9.37s/it]\u001b[A\n",
            "Epoch: 29 | Batch: 2 | Loss 0.576934814453125: 90it [15:39,  9.37s/it] \u001b[A"
          ]
        },
        {
          "output_type": "stream",
          "name": "stdout",
          "text": [
            "Epoch 29 Training Accuracy: tensor(0.6556)\n",
            "Testing Accuracy: tensor(0.5000)\n"
          ]
        },
        {
          "output_type": "stream",
          "name": "stderr",
          "text": [
            "\n",
            "Epoch: 29 | Batch: 2 | Loss 0.576934814453125: 91it [15:54, 11.03s/it]\u001b[A\n",
            "Epoch: 30 | Batch: 0 | Loss 0.6488528847694397: 91it [15:54, 11.03s/it]\u001b[A\n",
            "Epoch: 30 | Batch: 0 | Loss 0.6488528847694397: 92it [16:10, 12.45s/it]\u001b[A\n",
            "Epoch: 30 | Batch: 1 | Loss 0.6434065699577332: 92it [16:10, 12.45s/it]\u001b[A\n",
            "Epoch: 30 | Batch: 1 | Loss 0.6434065699577332: 93it [16:14, 10.09s/it]\u001b[A\n",
            "Epoch: 30 | Batch: 2 | Loss 0.6652895212173462: 93it [16:14, 10.09s/it]\u001b[A"
          ]
        },
        {
          "output_type": "stream",
          "name": "stdout",
          "text": [
            "Epoch 30 Training Accuracy: tensor(0.6556)\n",
            "Testing Accuracy: tensor(0.5000)\n"
          ]
        },
        {
          "output_type": "stream",
          "name": "stderr",
          "text": [
            "\n",
            "Epoch: 30 | Batch: 2 | Loss 0.6652895212173462: 94it [16:31, 11.92s/it]\u001b[A\n",
            "Epoch: 31 | Batch: 0 | Loss 0.6479896306991577: 94it [16:31, 11.92s/it]\u001b[A\n",
            "Epoch: 31 | Batch: 0 | Loss 0.6479896306991577: 95it [16:44, 12.38s/it]\u001b[A\n",
            "Epoch: 31 | Batch: 1 | Loss 0.6716011166572571: 95it [16:44, 12.38s/it]\u001b[A\n",
            "Epoch: 31 | Batch: 1 | Loss 0.6716011166572571: 96it [16:50, 10.45s/it]\u001b[A\n",
            "Epoch: 31 | Batch: 2 | Loss 0.5939539074897766: 96it [16:50, 10.45s/it]\u001b[A"
          ]
        },
        {
          "output_type": "stream",
          "name": "stdout",
          "text": [
            "Epoch 31 Training Accuracy: tensor(0.6333)\n",
            "Testing Accuracy: tensor(0.5333)\n"
          ]
        },
        {
          "output_type": "stream",
          "name": "stderr",
          "text": [
            "\n",
            "Epoch: 31 | Batch: 2 | Loss 0.5939539074897766: 97it [17:04, 11.61s/it]\u001b[A\n",
            "Epoch: 32 | Batch: 0 | Loss 0.6719770431518555: 97it [17:04, 11.61s/it]\u001b[A\n",
            "Epoch: 32 | Batch: 0 | Loss 0.6719770431518555: 98it [17:17, 11.90s/it]\u001b[A\n",
            "Epoch: 32 | Batch: 1 | Loss 0.6219233870506287: 98it [17:17, 11.90s/it]\u001b[A\n",
            "Epoch: 32 | Batch: 1 | Loss 0.6219233870506287: 99it [17:22,  9.96s/it]\u001b[A\n",
            "Epoch: 32 | Batch: 2 | Loss 0.622686505317688: 99it [17:22,  9.96s/it] \u001b[A"
          ]
        },
        {
          "output_type": "stream",
          "name": "stdout",
          "text": [
            "Epoch 32 Training Accuracy: tensor(0.6222)\n",
            "Testing Accuracy: tensor(0.5333)\n"
          ]
        },
        {
          "output_type": "stream",
          "name": "stderr",
          "text": [
            "\n",
            "Epoch: 32 | Batch: 2 | Loss 0.622686505317688: 100it [17:39, 11.94s/it]\u001b[A\n",
            "Epoch: 33 | Batch: 0 | Loss 0.6544961929321289: 100it [17:39, 11.94s/it]\u001b[A\n",
            "Epoch: 33 | Batch: 0 | Loss 0.6544961929321289: 101it [17:53, 12.51s/it]\u001b[A\n",
            "Epoch: 33 | Batch: 1 | Loss 0.6418464183807373: 101it [17:53, 12.51s/it]\u001b[A\n",
            "Epoch: 33 | Batch: 1 | Loss 0.6418464183807373: 102it [17:56,  9.90s/it]\u001b[A\n",
            "Epoch: 33 | Batch: 2 | Loss 0.6049820184707642: 102it [17:57,  9.90s/it]\u001b[A"
          ]
        },
        {
          "output_type": "stream",
          "name": "stdout",
          "text": [
            "Epoch 33 Training Accuracy: tensor(0.6333)\n",
            "Testing Accuracy: tensor(0.6000)\n"
          ]
        },
        {
          "output_type": "stream",
          "name": "stderr",
          "text": [
            "\n",
            "Epoch: 33 | Batch: 2 | Loss 0.6049820184707642: 103it [18:12, 11.49s/it]\u001b[A\n",
            "Epoch: 34 | Batch: 0 | Loss 0.6672946214675903: 103it [18:12, 11.49s/it]\u001b[A\n",
            "Epoch: 34 | Batch: 0 | Loss 0.6672946214675903: 104it [18:25, 12.12s/it]\u001b[A\n",
            "Epoch: 34 | Batch: 1 | Loss 0.6418425440788269: 104it [18:25, 12.12s/it]\u001b[A\n",
            "Epoch: 34 | Batch: 1 | Loss 0.6418425440788269: 105it [18:29,  9.67s/it]\u001b[A\n",
            "Epoch: 34 | Batch: 2 | Loss 0.5564044713973999: 105it [18:29,  9.67s/it]\u001b[A"
          ]
        },
        {
          "output_type": "stream",
          "name": "stdout",
          "text": [
            "Epoch 34 Training Accuracy: tensor(0.6667)\n",
            "Testing Accuracy: tensor(0.6000)\n"
          ]
        },
        {
          "output_type": "stream",
          "name": "stderr",
          "text": [
            "\n",
            "Epoch: 34 | Batch: 2 | Loss 0.5564044713973999: 106it [18:43, 11.04s/it]\u001b[A\n",
            "Epoch: 35 | Batch: 0 | Loss 0.6207192540168762: 106it [18:43, 11.04s/it]\u001b[A\n",
            "Epoch: 35 | Batch: 0 | Loss 0.6207192540168762: 107it [18:56, 11.62s/it]\u001b[A\n",
            "Epoch: 35 | Batch: 1 | Loss 0.6497603058815002: 107it [18:56, 11.62s/it]\u001b[A\n",
            "Epoch: 35 | Batch: 1 | Loss 0.6497603058815002: 108it [19:01,  9.50s/it]\u001b[A\n",
            "Epoch: 35 | Batch: 2 | Loss 0.6330611109733582: 108it [19:01,  9.50s/it]\u001b[A"
          ]
        },
        {
          "output_type": "stream",
          "name": "stdout",
          "text": [
            "Epoch 35 Training Accuracy: tensor(0.6222)\n",
            "Testing Accuracy: tensor(0.6000)\n"
          ]
        },
        {
          "output_type": "stream",
          "name": "stderr",
          "text": [
            "\n",
            "Epoch: 35 | Batch: 2 | Loss 0.6330611109733582: 109it [19:14, 10.56s/it]\u001b[A\n",
            "Epoch: 36 | Batch: 0 | Loss 0.6162225604057312: 109it [19:14, 10.56s/it]\u001b[A\n",
            "Epoch: 36 | Batch: 0 | Loss 0.6162225604057312: 110it [19:27, 11.27s/it]\u001b[A\n",
            "Epoch: 36 | Batch: 1 | Loss 0.6345552206039429: 110it [19:27, 11.27s/it]\u001b[A\n",
            "Epoch: 36 | Batch: 1 | Loss 0.6345552206039429: 111it [19:32,  9.45s/it]\u001b[A\n",
            "Epoch: 36 | Batch: 2 | Loss 0.6723800897598267: 111it [19:32,  9.45s/it]\u001b[A"
          ]
        },
        {
          "output_type": "stream",
          "name": "stdout",
          "text": [
            "Epoch 36 Training Accuracy: tensor(0.5889)\n",
            "Testing Accuracy: tensor(0.6333)\n"
          ]
        },
        {
          "output_type": "stream",
          "name": "stderr",
          "text": [
            "\n",
            "Epoch: 36 | Batch: 2 | Loss 0.6723800897598267: 112it [19:48, 11.49s/it]\u001b[A\n",
            "Epoch: 37 | Batch: 0 | Loss 0.6170173287391663: 112it [19:48, 11.49s/it]\u001b[A\n",
            "Epoch: 37 | Batch: 0 | Loss 0.6170173287391663: 113it [20:00, 11.60s/it]\u001b[A\n",
            "Epoch: 37 | Batch: 1 | Loss 0.6332710385322571: 113it [20:00, 11.60s/it]\u001b[A\n",
            "Epoch: 37 | Batch: 1 | Loss 0.6332710385322571: 114it [20:05,  9.63s/it]\u001b[A\n",
            "Epoch: 37 | Batch: 2 | Loss 0.6325504183769226: 114it [20:05,  9.63s/it]\u001b[A"
          ]
        },
        {
          "output_type": "stream",
          "name": "stdout",
          "text": [
            "Epoch 37 Training Accuracy: tensor(0.6556)\n",
            "Testing Accuracy: tensor(0.6333)\n"
          ]
        },
        {
          "output_type": "stream",
          "name": "stderr",
          "text": [
            "\n",
            "Epoch: 37 | Batch: 2 | Loss 0.6325504183769226: 115it [20:19, 10.89s/it]\u001b[A\n",
            "Epoch: 38 | Batch: 0 | Loss 0.6283888220787048: 115it [20:19, 10.89s/it]\u001b[A\n",
            "Epoch: 38 | Batch: 0 | Loss 0.6283888220787048: 116it [20:31, 11.24s/it]\u001b[A\n",
            "Epoch: 38 | Batch: 1 | Loss 0.6276867389678955: 116it [20:31, 11.24s/it]\u001b[A\n",
            "Epoch: 38 | Batch: 1 | Loss 0.6276867389678955: 117it [20:36,  9.20s/it]\u001b[A\n",
            "Epoch: 38 | Batch: 2 | Loss 0.6033079028129578: 117it [20:36,  9.20s/it]\u001b[A"
          ]
        },
        {
          "output_type": "stream",
          "name": "stdout",
          "text": [
            "Epoch 38 Training Accuracy: tensor(0.6556)\n",
            "Testing Accuracy: tensor(0.6333)\n"
          ]
        },
        {
          "output_type": "stream",
          "name": "stderr",
          "text": [
            "\n",
            "Epoch: 38 | Batch: 2 | Loss 0.6033079028129578: 118it [20:50, 10.62s/it]\u001b[A\n",
            "Epoch: 39 | Batch: 0 | Loss 0.6094610095024109: 118it [20:50, 10.62s/it]\u001b[A\n",
            "Epoch: 39 | Batch: 0 | Loss 0.6094610095024109: 119it [21:02, 11.21s/it]\u001b[A\n",
            "Epoch: 39 | Batch: 1 | Loss 0.6140759587287903: 119it [21:02, 11.21s/it]\u001b[A\n",
            "Epoch: 39 | Batch: 1 | Loss 0.6140759587287903: 120it [21:06,  9.01s/it]\u001b[A\n",
            "Epoch: 39 | Batch: 2 | Loss 0.6506294012069702: 120it [21:06,  9.01s/it]\u001b[A"
          ]
        },
        {
          "output_type": "stream",
          "name": "stdout",
          "text": [
            "Epoch 39 Training Accuracy: tensor(0.6889)\n",
            "Testing Accuracy: tensor(0.6667)\n"
          ]
        },
        {
          "output_type": "stream",
          "name": "stderr",
          "text": [
            "\n",
            "Epoch: 39 | Batch: 2 | Loss 0.6506294012069702: 121it [21:20, 10.50s/it]\u001b[A\n",
            "Epoch: 40 | Batch: 0 | Loss 0.6130488514900208: 121it [21:20, 10.50s/it]\u001b[A\n",
            "Epoch: 40 | Batch: 0 | Loss 0.6130488514900208: 122it [21:33, 11.32s/it]\u001b[A\n",
            "Epoch: 40 | Batch: 1 | Loss 0.6391083002090454: 122it [21:33, 11.32s/it]\u001b[A\n",
            "Epoch: 40 | Batch: 1 | Loss 0.6391083002090454: 123it [21:38,  9.28s/it]\u001b[A\n",
            "Epoch: 40 | Batch: 2 | Loss 0.5341944694519043: 123it [21:38,  9.28s/it]\u001b[A"
          ]
        },
        {
          "output_type": "stream",
          "name": "stdout",
          "text": [
            "Epoch 40 Training Accuracy: tensor(0.7444)\n",
            "Testing Accuracy: tensor(0.6667)\n"
          ]
        },
        {
          "output_type": "stream",
          "name": "stderr",
          "text": [
            "\n",
            "Epoch: 40 | Batch: 2 | Loss 0.5341944694519043: 124it [21:56, 11.88s/it]\u001b[A\n",
            "Epoch: 41 | Batch: 0 | Loss 0.6011337637901306: 124it [21:56, 11.88s/it]\u001b[A\n",
            "Epoch: 41 | Batch: 0 | Loss 0.6011337637901306: 125it [22:12, 13.28s/it]\u001b[A\n",
            "Epoch: 41 | Batch: 1 | Loss 0.6228457689285278: 125it [22:12, 13.28s/it]\u001b[A\n",
            "Epoch: 41 | Batch: 1 | Loss 0.6228457689285278: 126it [22:19, 11.19s/it]\u001b[A\n",
            "Epoch: 41 | Batch: 2 | Loss 0.5790182948112488: 126it [22:19, 11.19s/it]\u001b[A"
          ]
        },
        {
          "output_type": "stream",
          "name": "stdout",
          "text": [
            "Epoch 41 Training Accuracy: tensor(0.7222)\n",
            "Testing Accuracy: tensor(0.6667)\n"
          ]
        },
        {
          "output_type": "stream",
          "name": "stderr",
          "text": [
            "\n",
            "Epoch: 41 | Batch: 2 | Loss 0.5790182948112488: 127it [22:36, 13.05s/it]\u001b[A\n",
            "Epoch: 42 | Batch: 0 | Loss 0.6080644726753235: 127it [22:36, 13.05s/it]\u001b[A\n",
            "Epoch: 42 | Batch: 0 | Loss 0.6080644726753235: 128it [22:52, 13.91s/it]\u001b[A\n",
            "Epoch: 42 | Batch: 1 | Loss 0.6043180823326111: 128it [22:52, 13.91s/it]\u001b[A\n",
            "Epoch: 42 | Batch: 1 | Loss 0.6043180823326111: 129it [22:56, 11.09s/it]\u001b[A\n",
            "Epoch: 42 | Batch: 2 | Loss 0.584906280040741: 129it [22:56, 11.09s/it] \u001b[A"
          ]
        },
        {
          "output_type": "stream",
          "name": "stdout",
          "text": [
            "Epoch 42 Training Accuracy: tensor(0.7667)\n",
            "Testing Accuracy: tensor(0.7000)\n"
          ]
        },
        {
          "output_type": "stream",
          "name": "stderr",
          "text": [
            "\n",
            "Epoch: 42 | Batch: 2 | Loss 0.584906280040741: 130it [23:14, 12.90s/it]\u001b[A\n",
            "Epoch: 43 | Batch: 0 | Loss 0.6011856198310852: 130it [23:14, 12.90s/it]\u001b[A\n",
            "Epoch: 43 | Batch: 0 | Loss 0.6011856198310852: 131it [23:29, 13.78s/it]\u001b[A\n",
            "Epoch: 43 | Batch: 1 | Loss 0.6149225234985352: 131it [23:29, 13.78s/it]\u001b[A\n",
            "Epoch: 43 | Batch: 1 | Loss 0.6149225234985352: 132it [23:36, 11.53s/it]\u001b[A\n",
            "Epoch: 43 | Batch: 2 | Loss 0.5081368684768677: 132it [23:36, 11.53s/it]\u001b[A"
          ]
        },
        {
          "output_type": "stream",
          "name": "stdout",
          "text": [
            "Epoch 43 Training Accuracy: tensor(0.8111)\n",
            "Testing Accuracy: tensor(0.7000)\n"
          ]
        },
        {
          "output_type": "stream",
          "name": "stderr",
          "text": [
            "\n",
            "Epoch: 43 | Batch: 2 | Loss 0.5081368684768677: 133it [23:53, 13.39s/it]\u001b[A\n",
            "Epoch: 44 | Batch: 0 | Loss 0.6097162961959839: 133it [23:53, 13.39s/it]\u001b[A\n",
            "Epoch: 44 | Batch: 0 | Loss 0.6097162961959839: 134it [24:09, 14.12s/it]\u001b[A\n",
            "Epoch: 44 | Batch: 1 | Loss 0.5938064455986023: 134it [24:09, 14.12s/it]\u001b[A\n",
            "Epoch: 44 | Batch: 1 | Loss 0.5938064455986023: 135it [24:14, 11.25s/it]\u001b[A\n",
            "Epoch: 44 | Batch: 2 | Loss 0.5056359171867371: 135it [24:14, 11.25s/it]\u001b[A"
          ]
        },
        {
          "output_type": "stream",
          "name": "stdout",
          "text": [
            "Epoch 44 Training Accuracy: tensor(0.8444)\n",
            "Testing Accuracy: tensor(0.7000)\n"
          ]
        },
        {
          "output_type": "stream",
          "name": "stderr",
          "text": [
            "\n",
            "Epoch: 44 | Batch: 2 | Loss 0.5056359171867371: 136it [24:31, 13.01s/it]\u001b[A\n",
            "Epoch: 45 | Batch: 0 | Loss 0.5929042100906372: 136it [24:31, 13.01s/it]\u001b[A\n",
            "Epoch: 45 | Batch: 0 | Loss 0.5929042100906372: 137it [24:49, 14.68s/it]\u001b[A\n",
            "Epoch: 45 | Batch: 1 | Loss 0.5923171639442444: 137it [24:49, 14.68s/it]\u001b[A\n",
            "Epoch: 45 | Batch: 1 | Loss 0.5923171639442444: 138it [24:55, 11.86s/it]\u001b[A\n",
            "Epoch: 45 | Batch: 2 | Loss 0.5291234254837036: 138it [24:55, 11.86s/it]\u001b[A"
          ]
        },
        {
          "output_type": "stream",
          "name": "stdout",
          "text": [
            "Epoch 45 Training Accuracy: tensor(0.8778)\n",
            "Testing Accuracy: tensor(0.7000)\n"
          ]
        },
        {
          "output_type": "stream",
          "name": "stderr",
          "text": [
            "\n",
            "Epoch: 45 | Batch: 2 | Loss 0.5291234254837036: 139it [25:13, 13.70s/it]\u001b[A\n",
            "Epoch: 46 | Batch: 0 | Loss 0.599709689617157: 139it [25:13, 13.70s/it] \u001b[A\n",
            "Epoch: 46 | Batch: 0 | Loss 0.599709689617157: 140it [25:28, 14.30s/it]\u001b[A\n",
            "Epoch: 46 | Batch: 1 | Loss 0.5551334023475647: 140it [25:28, 14.30s/it]\u001b[A\n",
            "Epoch: 46 | Batch: 1 | Loss 0.5551334023475647: 141it [25:34, 11.56s/it]\u001b[A\n",
            "Epoch: 46 | Batch: 2 | Loss 0.5774470567703247: 141it [25:34, 11.56s/it]\u001b[A"
          ]
        },
        {
          "output_type": "stream",
          "name": "stdout",
          "text": [
            "Epoch 46 Training Accuracy: tensor(0.8444)\n",
            "Testing Accuracy: tensor(0.7000)\n"
          ]
        },
        {
          "output_type": "stream",
          "name": "stderr",
          "text": [
            "\n",
            "Epoch: 46 | Batch: 2 | Loss 0.5774470567703247: 142it [25:51, 13.39s/it]\u001b[A\n",
            "Epoch: 47 | Batch: 0 | Loss 0.5739402770996094: 142it [25:51, 13.39s/it]\u001b[A\n",
            "Epoch: 47 | Batch: 0 | Loss 0.5739402770996094: 143it [26:07, 14.16s/it]\u001b[A\n",
            "Epoch: 47 | Batch: 1 | Loss 0.6025093197822571: 143it [26:07, 14.16s/it]\u001b[A\n",
            "Epoch: 47 | Batch: 1 | Loss 0.6025093197822571: 144it [26:13, 11.53s/it]\u001b[A\n",
            "Epoch: 47 | Batch: 2 | Loss 0.4566195011138916: 144it [26:13, 11.53s/it]\u001b[A"
          ]
        },
        {
          "output_type": "stream",
          "name": "stdout",
          "text": [
            "Epoch 47 Training Accuracy: tensor(0.9111)\n",
            "Testing Accuracy: tensor(0.7000)\n"
          ]
        },
        {
          "output_type": "stream",
          "name": "stderr",
          "text": [
            "\n",
            "Epoch: 47 | Batch: 2 | Loss 0.4566195011138916: 145it [26:30, 13.32s/it]\u001b[A\n",
            "Epoch: 48 | Batch: 0 | Loss 0.579128086566925: 145it [26:30, 13.32s/it] \u001b[A\n",
            "Epoch: 48 | Batch: 0 | Loss 0.579128086566925: 146it [26:47, 14.30s/it]\u001b[A\n",
            "Epoch: 48 | Batch: 1 | Loss 0.5666009187698364: 146it [26:47, 14.30s/it]\u001b[A\n",
            "Epoch: 48 | Batch: 1 | Loss 0.5666009187698364: 147it [26:52, 11.46s/it]\u001b[A\n",
            "Epoch: 48 | Batch: 2 | Loss 0.4952903687953949: 147it [26:52, 11.46s/it]\u001b[A"
          ]
        },
        {
          "output_type": "stream",
          "name": "stdout",
          "text": [
            "Epoch 48 Training Accuracy: tensor(0.9222)\n",
            "Testing Accuracy: tensor(0.7000)\n"
          ]
        },
        {
          "output_type": "stream",
          "name": "stderr",
          "text": [
            "\n",
            "Epoch: 48 | Batch: 2 | Loss 0.4952903687953949: 148it [27:09, 13.37s/it]\u001b[A\n",
            "Epoch: 49 | Batch: 0 | Loss 0.5634220242500305: 148it [27:09, 13.37s/it]\u001b[A\n",
            "Epoch: 49 | Batch: 0 | Loss 0.5634220242500305: 149it [27:26, 14.27s/it]\u001b[A\n",
            "Epoch: 49 | Batch: 1 | Loss 0.5370917916297913: 149it [27:26, 14.27s/it]\u001b[A\n",
            "Epoch: 49 | Batch: 1 | Loss 0.5370917916297913: 150it [27:31, 11.61s/it]\u001b[A\n",
            "Epoch: 49 | Batch: 2 | Loss 0.6085692644119263: 150it [27:31, 11.61s/it]\u001b[A"
          ]
        },
        {
          "output_type": "stream",
          "name": "stdout",
          "text": [
            "Epoch 49 Training Accuracy: tensor(0.8889)\n",
            "Testing Accuracy: tensor(0.7000)\n"
          ]
        },
        {
          "output_type": "stream",
          "name": "stderr",
          "text": [
            "\n",
            "Epoch: 49 | Batch: 2 | Loss 0.6085692644119263: 151it [27:43, 11.77s/it]\u001b[A\n",
            "Epoch: 50 | Batch: 0 | Loss 0.5556411743164062: 151it [27:43, 11.77s/it]\u001b[A\n",
            "Epoch: 50 | Batch: 0 | Loss 0.5556411743164062: 152it [27:56, 11.95s/it]\u001b[A\n",
            "Epoch: 50 | Batch: 1 | Loss 0.5629117488861084: 152it [27:56, 11.95s/it]\u001b[A\n",
            "Epoch: 50 | Batch: 1 | Loss 0.5629117488861084: 153it [28:00,  9.61s/it]\u001b[A\n",
            "Epoch: 50 | Batch: 2 | Loss 0.45221924781799316: 153it [28:00,  9.61s/it]\u001b[A"
          ]
        },
        {
          "output_type": "stream",
          "name": "stdout",
          "text": [
            "Epoch 50 Training Accuracy: tensor(0.9333)\n",
            "Testing Accuracy: tensor(0.7000)\n"
          ]
        },
        {
          "output_type": "stream",
          "name": "stderr",
          "text": [
            "\n",
            "Epoch: 50 | Batch: 2 | Loss 0.45221924781799316: 154it [28:12, 10.53s/it]\u001b[A\n",
            "Epoch: 51 | Batch: 0 | Loss 0.5483618378639221: 154it [28:12, 10.53s/it] \u001b[A\n",
            "Epoch: 51 | Batch: 0 | Loss 0.5483618378639221: 155it [28:25, 11.07s/it]\u001b[A\n",
            "Epoch: 51 | Batch: 1 | Loss 0.5546842217445374: 155it [28:25, 11.07s/it]\u001b[A\n",
            "Epoch: 51 | Batch: 1 | Loss 0.5546842217445374: 156it [28:29,  8.97s/it]\u001b[A\n",
            "Epoch: 51 | Batch: 2 | Loss 0.4486618638038635: 156it [28:29,  8.97s/it]\u001b[A"
          ]
        },
        {
          "output_type": "stream",
          "name": "stdout",
          "text": [
            "Epoch 51 Training Accuracy: tensor(0.9333)\n",
            "Testing Accuracy: tensor(0.7333)\n"
          ]
        },
        {
          "output_type": "stream",
          "name": "stderr",
          "text": [
            "\n",
            "Epoch: 51 | Batch: 2 | Loss 0.4486618638038635: 157it [28:42, 10.12s/it]\u001b[A\n",
            "Epoch: 52 | Batch: 0 | Loss 0.5351453423500061: 157it [28:42, 10.12s/it]\u001b[A\n",
            "Epoch: 52 | Batch: 0 | Loss 0.5351453423500061: 158it [28:54, 10.81s/it]\u001b[A\n",
            "Epoch: 52 | Batch: 1 | Loss 0.5312586426734924: 158it [28:54, 10.81s/it]\u001b[A\n",
            "Epoch: 52 | Batch: 1 | Loss 0.5312586426734924: 159it [28:58,  8.75s/it]\u001b[A\n",
            "Epoch: 52 | Batch: 2 | Loss 0.5287492275238037: 159it [28:58,  8.75s/it]\u001b[A"
          ]
        },
        {
          "output_type": "stream",
          "name": "stdout",
          "text": [
            "Epoch 52 Training Accuracy: tensor(0.9333)\n",
            "Testing Accuracy: tensor(0.7333)\n"
          ]
        },
        {
          "output_type": "stream",
          "name": "stderr",
          "text": [
            "\n",
            "Epoch: 52 | Batch: 2 | Loss 0.5287492275238037: 160it [29:11,  9.93s/it]\u001b[A\n",
            "Epoch: 53 | Batch: 0 | Loss 0.5512222647666931: 160it [29:11,  9.93s/it]\u001b[A\n",
            "Epoch: 53 | Batch: 0 | Loss 0.5512222647666931: 161it [29:23, 10.75s/it]\u001b[A\n",
            "Epoch: 53 | Batch: 1 | Loss 0.5091840028762817: 161it [29:23, 10.75s/it]\u001b[A\n",
            "Epoch: 53 | Batch: 1 | Loss 0.5091840028762817: 162it [29:27,  8.66s/it]\u001b[A\n",
            "Epoch: 53 | Batch: 2 | Loss 0.4721384048461914: 162it [29:27,  8.66s/it]\u001b[A"
          ]
        },
        {
          "output_type": "stream",
          "name": "stdout",
          "text": [
            "Epoch 53 Training Accuracy: tensor(0.9111)\n",
            "Testing Accuracy: tensor(0.8000)\n"
          ]
        },
        {
          "output_type": "stream",
          "name": "stderr",
          "text": [
            "\n",
            "Epoch: 53 | Batch: 2 | Loss 0.4721384048461914: 163it [29:40, 10.01s/it]\u001b[A\n",
            "Epoch: 54 | Batch: 0 | Loss 0.5436323285102844: 163it [29:40, 10.01s/it]\u001b[A\n",
            "Epoch: 54 | Batch: 0 | Loss 0.5436323285102844: 164it [29:54, 11.24s/it]\u001b[A\n",
            "Epoch: 54 | Batch: 1 | Loss 0.5040585398674011: 164it [29:54, 11.24s/it]\u001b[A\n",
            "Epoch: 54 | Batch: 1 | Loss 0.5040585398674011: 165it [29:58,  8.92s/it]\u001b[A\n",
            "Epoch: 54 | Batch: 2 | Loss 0.4367195963859558: 165it [29:58,  8.92s/it]\u001b[A"
          ]
        },
        {
          "output_type": "stream",
          "name": "stdout",
          "text": [
            "Epoch 54 Training Accuracy: tensor(0.9333)\n",
            "Testing Accuracy: tensor(0.8333)\n"
          ]
        },
        {
          "output_type": "stream",
          "name": "stderr",
          "text": [
            "\n",
            "Epoch: 54 | Batch: 2 | Loss 0.4367195963859558: 166it [30:11, 10.24s/it]\u001b[A\n",
            "Epoch: 55 | Batch: 0 | Loss 0.5039911866188049: 166it [30:11, 10.24s/it]\u001b[A\n",
            "Epoch: 55 | Batch: 0 | Loss 0.5039911866188049: 167it [30:23, 10.85s/it]\u001b[A\n",
            "Epoch: 55 | Batch: 1 | Loss 0.5183242559432983: 167it [30:23, 10.85s/it]\u001b[A\n",
            "Epoch: 55 | Batch: 1 | Loss 0.5183242559432983: 168it [30:27,  8.65s/it]\u001b[A\n",
            "Epoch: 55 | Batch: 2 | Loss 0.46110597252845764: 168it [30:27,  8.65s/it]\u001b[A"
          ]
        },
        {
          "output_type": "stream",
          "name": "stdout",
          "text": [
            "Epoch 55 Training Accuracy: tensor(0.9333)\n",
            "Testing Accuracy: tensor(0.8333)\n"
          ]
        },
        {
          "output_type": "stream",
          "name": "stderr",
          "text": [
            "\n",
            "Epoch: 55 | Batch: 2 | Loss 0.46110597252845764: 169it [30:40,  9.98s/it]\u001b[A\n",
            "Epoch: 56 | Batch: 0 | Loss 0.4874752461910248: 169it [30:40,  9.98s/it] \u001b[A\n",
            "Epoch: 56 | Batch: 0 | Loss 0.4874752461910248: 170it [30:52, 10.69s/it]\u001b[A\n",
            "Epoch: 56 | Batch: 1 | Loss 0.5320069789886475: 170it [30:52, 10.69s/it]\u001b[A\n",
            "Epoch: 56 | Batch: 1 | Loss 0.5320069789886475: 171it [30:56,  8.53s/it]\u001b[A\n",
            "Epoch: 56 | Batch: 2 | Loss 0.3909562826156616: 171it [30:56,  8.53s/it]\u001b[A"
          ]
        },
        {
          "output_type": "stream",
          "name": "stdout",
          "text": [
            "Epoch 56 Training Accuracy: tensor(0.9556)\n",
            "Testing Accuracy: tensor(0.8667)\n"
          ]
        },
        {
          "output_type": "stream",
          "name": "stderr",
          "text": [
            "\n",
            "Epoch: 56 | Batch: 2 | Loss 0.3909562826156616: 172it [31:09,  9.88s/it]\u001b[A\n",
            "Epoch: 57 | Batch: 0 | Loss 0.49771183729171753: 172it [31:09,  9.88s/it]\u001b[A\n",
            "Epoch: 57 | Batch: 0 | Loss 0.49771183729171753: 173it [31:22, 10.73s/it]\u001b[A\n",
            "Epoch: 57 | Batch: 1 | Loss 0.5073791742324829: 173it [31:22, 10.73s/it] \u001b[A\n",
            "Epoch: 57 | Batch: 1 | Loss 0.5073791742324829: 174it [31:25,  8.58s/it]\u001b[A\n",
            "Epoch: 57 | Batch: 2 | Loss 0.3599063754081726: 174it [31:25,  8.58s/it]\u001b[A"
          ]
        },
        {
          "output_type": "stream",
          "name": "stdout",
          "text": [
            "Epoch 57 Training Accuracy: tensor(0.9556)\n",
            "Testing Accuracy: tensor(0.8667)\n"
          ]
        },
        {
          "output_type": "stream",
          "name": "stderr",
          "text": [
            "\n",
            "Epoch: 57 | Batch: 2 | Loss 0.3599063754081726: 175it [31:38,  9.95s/it]\u001b[A\n",
            "Epoch: 58 | Batch: 0 | Loss 0.4898422062397003: 175it [31:38,  9.95s/it]\u001b[A\n",
            "Epoch: 58 | Batch: 0 | Loss 0.4898422062397003: 176it [31:51, 10.65s/it]\u001b[A\n",
            "Epoch: 58 | Batch: 1 | Loss 0.49512389302253723: 176it [31:51, 10.65s/it]\u001b[A\n",
            "Epoch: 58 | Batch: 1 | Loss 0.49512389302253723: 177it [31:54,  8.53s/it]\u001b[A\n",
            "Epoch: 58 | Batch: 2 | Loss 0.3517032265663147: 177it [31:54,  8.53s/it] \u001b[A"
          ]
        },
        {
          "output_type": "stream",
          "name": "stdout",
          "text": [
            "Epoch 58 Training Accuracy: tensor(0.9778)\n",
            "Testing Accuracy: tensor(0.8667)\n"
          ]
        },
        {
          "output_type": "stream",
          "name": "stderr",
          "text": [
            "\n",
            "Epoch: 58 | Batch: 2 | Loss 0.3517032265663147: 178it [32:07,  9.89s/it]\u001b[A\n",
            "Epoch: 59 | Batch: 0 | Loss 0.5213422775268555: 178it [32:07,  9.89s/it]\u001b[A\n",
            "Epoch: 59 | Batch: 0 | Loss 0.5213422775268555: 179it [32:20, 10.58s/it]\u001b[A\n",
            "Epoch: 59 | Batch: 1 | Loss 0.44109269976615906: 179it [32:20, 10.58s/it]\u001b[A\n",
            "Epoch: 59 | Batch: 1 | Loss 0.44109269976615906: 180it [32:23,  8.47s/it]\u001b[A\n",
            "Epoch: 59 | Batch: 2 | Loss 0.36166006326675415: 180it [32:23,  8.47s/it]\u001b[A"
          ]
        },
        {
          "output_type": "stream",
          "name": "stdout",
          "text": [
            "Epoch 59 Training Accuracy: tensor(0.9778)\n",
            "Testing Accuracy: tensor(0.9000)\n"
          ]
        },
        {
          "output_type": "stream",
          "name": "stderr",
          "text": [
            "\n",
            "Epoch: 59 | Batch: 2 | Loss 0.36166006326675415: 181it [32:36,  9.95s/it]\u001b[A\n",
            "Epoch: 60 | Batch: 0 | Loss 0.510352611541748: 181it [32:36,  9.95s/it]  \u001b[A\n",
            "Epoch: 60 | Batch: 0 | Loss 0.510352611541748: 182it [32:49, 10.65s/it]\u001b[A\n",
            "Epoch: 60 | Batch: 1 | Loss 0.43933433294296265: 182it [32:49, 10.65s/it]\u001b[A\n",
            "Epoch: 60 | Batch: 1 | Loss 0.43933433294296265: 183it [32:52,  8.52s/it]\u001b[A\n",
            "Epoch: 60 | Batch: 2 | Loss 0.30433663725852966: 183it [32:52,  8.52s/it]\u001b[A"
          ]
        },
        {
          "output_type": "stream",
          "name": "stdout",
          "text": [
            "Epoch 60 Training Accuracy: tensor(0.9778)\n",
            "Testing Accuracy: tensor(0.9000)\n"
          ]
        },
        {
          "output_type": "stream",
          "name": "stderr",
          "text": [
            "\n",
            "Epoch: 60 | Batch: 2 | Loss 0.30433663725852966: 184it [33:05,  9.87s/it]\u001b[A\n",
            "Epoch: 61 | Batch: 0 | Loss 0.4529111981391907: 184it [33:05,  9.87s/it] \u001b[A\n",
            "Epoch: 61 | Batch: 0 | Loss 0.4529111981391907: 185it [33:18, 10.60s/it]\u001b[A\n",
            "Epoch: 61 | Batch: 1 | Loss 0.4527348577976227: 185it [33:18, 10.60s/it]\u001b[A\n",
            "Epoch: 61 | Batch: 1 | Loss 0.4527348577976227: 186it [33:21,  8.47s/it]\u001b[A\n",
            "Epoch: 61 | Batch: 2 | Loss 0.4022828936576843: 186it [33:21,  8.47s/it]\u001b[A"
          ]
        },
        {
          "output_type": "stream",
          "name": "stdout",
          "text": [
            "Epoch 61 Training Accuracy: tensor(0.9556)\n",
            "Testing Accuracy: tensor(0.9000)\n"
          ]
        },
        {
          "output_type": "stream",
          "name": "stderr",
          "text": [
            "\n",
            "Epoch: 61 | Batch: 2 | Loss 0.4022828936576843: 187it [33:34,  9.94s/it]\u001b[A\n",
            "Epoch: 62 | Batch: 0 | Loss 0.4570249319076538: 187it [33:34,  9.94s/it]\u001b[A\n",
            "Epoch: 62 | Batch: 0 | Loss 0.4570249319076538: 188it [33:47, 10.65s/it]\u001b[A\n",
            "Epoch: 62 | Batch: 1 | Loss 0.4477876126766205: 188it [33:47, 10.65s/it]\u001b[A\n",
            "Epoch: 62 | Batch: 1 | Loss 0.4477876126766205: 189it [33:50,  8.51s/it]\u001b[A\n",
            "Epoch: 62 | Batch: 2 | Loss 0.31677502393722534: 189it [33:50,  8.51s/it]\u001b[A"
          ]
        },
        {
          "output_type": "stream",
          "name": "stdout",
          "text": [
            "Epoch 62 Training Accuracy: tensor(0.9778)\n",
            "Testing Accuracy: tensor(0.9000)\n"
          ]
        },
        {
          "output_type": "stream",
          "name": "stderr",
          "text": [
            "\n",
            "Epoch: 62 | Batch: 2 | Loss 0.31677502393722534: 190it [34:03,  9.88s/it]\u001b[A\n",
            "Epoch: 63 | Batch: 0 | Loss 0.42943140864372253: 190it [34:03,  9.88s/it]\u001b[A\n",
            "Epoch: 63 | Batch: 0 | Loss 0.42943140864372253: 191it [34:16, 10.63s/it]\u001b[A\n",
            "Epoch: 63 | Batch: 1 | Loss 0.45157864689826965: 191it [34:16, 10.63s/it]\u001b[A\n",
            "Epoch: 63 | Batch: 1 | Loss 0.45157864689826965: 192it [34:19,  8.51s/it]\u001b[A\n",
            "Epoch: 63 | Batch: 2 | Loss 0.3180839717388153: 192it [34:19,  8.51s/it] \u001b[A"
          ]
        },
        {
          "output_type": "stream",
          "name": "stdout",
          "text": [
            "Epoch 63 Training Accuracy: tensor(0.9556)\n",
            "Testing Accuracy: tensor(0.9000)\n"
          ]
        },
        {
          "output_type": "stream",
          "name": "stderr",
          "text": [
            "\n",
            "Epoch: 63 | Batch: 2 | Loss 0.3180839717388153: 193it [34:33, 10.14s/it]\u001b[A\n",
            "Epoch: 64 | Batch: 0 | Loss 0.456083744764328: 193it [34:33, 10.14s/it] \u001b[A\n",
            "Epoch: 64 | Batch: 0 | Loss 0.456083744764328: 194it [34:47, 11.11s/it]\u001b[A\n",
            "Epoch: 64 | Batch: 1 | Loss 0.41659724712371826: 194it [34:47, 11.11s/it]\u001b[A\n",
            "Epoch: 64 | Batch: 1 | Loss 0.41659724712371826: 195it [34:50,  8.83s/it]\u001b[A\n",
            "Epoch: 64 | Batch: 2 | Loss 0.2726995348930359: 195it [34:50,  8.83s/it] \u001b[A"
          ]
        },
        {
          "output_type": "stream",
          "name": "stdout",
          "text": [
            "Epoch 64 Training Accuracy: tensor(0.9889)\n",
            "Testing Accuracy: tensor(0.9000)\n"
          ]
        },
        {
          "output_type": "stream",
          "name": "stderr",
          "text": [
            "\n",
            "Epoch: 64 | Batch: 2 | Loss 0.2726995348930359: 196it [35:04, 10.20s/it]\u001b[A\n",
            "Epoch: 65 | Batch: 0 | Loss 0.4206959903240204: 196it [35:04, 10.20s/it]\u001b[A\n",
            "Epoch: 65 | Batch: 0 | Loss 0.4206959903240204: 197it [35:16, 10.82s/it]\u001b[A\n",
            "Epoch: 65 | Batch: 1 | Loss 0.431539922952652: 197it [35:16, 10.82s/it] \u001b[A\n",
            "Epoch: 65 | Batch: 1 | Loss 0.431539922952652: 198it [35:19,  8.64s/it]\u001b[A\n",
            "Epoch: 65 | Batch: 2 | Loss 0.2650464177131653: 198it [35:19,  8.64s/it]\u001b[A"
          ]
        },
        {
          "output_type": "stream",
          "name": "stdout",
          "text": [
            "Epoch 65 Training Accuracy: tensor(1.)\n",
            "Testing Accuracy: tensor(0.9333)\n"
          ]
        },
        {
          "output_type": "stream",
          "name": "stderr",
          "text": [
            "\n",
            "Epoch: 65 | Batch: 2 | Loss 0.2650464177131653: 199it [35:33, 10.01s/it]\u001b[A\n",
            "Epoch: 66 | Batch: 0 | Loss 0.41024115681648254: 199it [35:33, 10.01s/it]\u001b[A\n",
            "Epoch: 66 | Batch: 0 | Loss 0.41024115681648254: 200it [35:45, 10.71s/it]\u001b[A\n",
            "Epoch: 66 | Batch: 1 | Loss 0.42086201906204224: 200it [35:45, 10.71s/it]\u001b[A\n",
            "Epoch: 66 | Batch: 1 | Loss 0.42086201906204224: 201it [35:49,  8.57s/it]\u001b[A\n",
            "Epoch: 66 | Batch: 2 | Loss 0.2719520926475525: 201it [35:49,  8.57s/it] \u001b[A"
          ]
        },
        {
          "output_type": "stream",
          "name": "stdout",
          "text": [
            "Epoch 66 Training Accuracy: tensor(1.)\n",
            "Testing Accuracy: tensor(0.9333)\n"
          ]
        },
        {
          "output_type": "stream",
          "name": "stderr",
          "text": [
            "\n",
            "Epoch: 66 | Batch: 2 | Loss 0.2719520926475525: 202it [36:02, 10.02s/it]\u001b[A\n",
            "Epoch: 67 | Batch: 0 | Loss 0.4112915098667145: 202it [36:02, 10.02s/it]\u001b[A\n",
            "Epoch: 67 | Batch: 0 | Loss 0.4112915098667145: 203it [36:14, 10.68s/it]\u001b[A\n",
            "Epoch: 67 | Batch: 1 | Loss 0.3818768560886383: 203it [36:14, 10.68s/it]\u001b[A\n",
            "Epoch: 67 | Batch: 1 | Loss 0.3818768560886383: 204it [36:18,  8.54s/it]\u001b[A\n",
            "Epoch: 67 | Batch: 2 | Loss 0.32343217730522156: 204it [36:18,  8.54s/it]\u001b[A"
          ]
        },
        {
          "output_type": "stream",
          "name": "stdout",
          "text": [
            "Epoch 67 Training Accuracy: tensor(1.)\n",
            "Testing Accuracy: tensor(0.9333)\n"
          ]
        },
        {
          "output_type": "stream",
          "name": "stderr",
          "text": [
            "\n",
            "Epoch: 67 | Batch: 2 | Loss 0.32343217730522156: 205it [36:31,  9.90s/it]\u001b[A\n",
            "Epoch: 68 | Batch: 0 | Loss 0.34798985719680786: 205it [36:31,  9.90s/it]\u001b[A\n",
            "Epoch: 68 | Batch: 0 | Loss 0.34798985719680786: 206it [36:43, 10.62s/it]\u001b[A\n",
            "Epoch: 68 | Batch: 1 | Loss 0.4247160255908966: 206it [36:43, 10.62s/it] \u001b[A\n",
            "Epoch: 68 | Batch: 1 | Loss 0.4247160255908966: 207it [36:47,  8.50s/it]\u001b[A\n",
            "Epoch: 68 | Batch: 2 | Loss 0.30941301584243774: 207it [36:47,  8.50s/it]\u001b[A"
          ]
        },
        {
          "output_type": "stream",
          "name": "stdout",
          "text": [
            "Epoch 68 Training Accuracy: tensor(1.)\n",
            "Testing Accuracy: tensor(0.9333)\n"
          ]
        },
        {
          "output_type": "stream",
          "name": "stderr",
          "text": [
            "\n",
            "Epoch: 68 | Batch: 2 | Loss 0.30941301584243774: 208it [37:00,  9.91s/it]\u001b[A\n",
            "Epoch: 69 | Batch: 0 | Loss 0.3862096965312958: 208it [37:00,  9.91s/it] \u001b[A\n",
            "Epoch: 69 | Batch: 0 | Loss 0.3862096965312958: 209it [37:12, 10.71s/it]\u001b[A\n",
            "Epoch: 69 | Batch: 1 | Loss 0.3965027630329132: 209it [37:12, 10.71s/it]\u001b[A\n",
            "Epoch: 69 | Batch: 1 | Loss 0.3965027630329132: 210it [37:16,  8.56s/it]\u001b[A\n",
            "Epoch: 69 | Batch: 2 | Loss 0.2093256711959839: 210it [37:16,  8.56s/it]\u001b[A"
          ]
        },
        {
          "output_type": "stream",
          "name": "stdout",
          "text": [
            "Epoch 69 Training Accuracy: tensor(1.)\n",
            "Testing Accuracy: tensor(0.9333)\n"
          ]
        },
        {
          "output_type": "stream",
          "name": "stderr",
          "text": [
            "\n",
            "Epoch: 69 | Batch: 2 | Loss 0.2093256711959839: 211it [37:29,  9.94s/it]\u001b[A\n",
            "Epoch: 70 | Batch: 0 | Loss 0.3515414595603943: 211it [37:29,  9.94s/it]\u001b[A\n",
            "Epoch: 70 | Batch: 0 | Loss 0.3515414595603943: 212it [37:41, 10.62s/it]\u001b[A\n",
            "Epoch: 70 | Batch: 1 | Loss 0.38308998942375183: 212it [37:41, 10.62s/it]\u001b[A\n",
            "Epoch: 70 | Batch: 1 | Loss 0.38308998942375183: 213it [37:45,  8.49s/it]\u001b[A\n",
            "Epoch: 70 | Batch: 2 | Loss 0.30122044682502747: 213it [37:45,  8.49s/it]\u001b[A"
          ]
        },
        {
          "output_type": "stream",
          "name": "stdout",
          "text": [
            "Epoch 70 Training Accuracy: tensor(1.)\n",
            "Testing Accuracy: tensor(0.9333)\n"
          ]
        },
        {
          "output_type": "stream",
          "name": "stderr",
          "text": [
            "\n",
            "Epoch: 70 | Batch: 2 | Loss 0.30122044682502747: 214it [37:58,  9.96s/it]\u001b[A\n",
            "Epoch: 71 | Batch: 0 | Loss 0.37091514468193054: 214it [37:58,  9.96s/it]\u001b[A\n",
            "Epoch: 71 | Batch: 0 | Loss 0.37091514468193054: 215it [38:11, 10.68s/it]\u001b[A\n",
            "Epoch: 71 | Batch: 1 | Loss 0.3652168810367584: 215it [38:11, 10.68s/it] \u001b[A\n",
            "Epoch: 71 | Batch: 1 | Loss 0.3652168810367584: 216it [38:14,  8.54s/it]\u001b[A\n",
            "Epoch: 71 | Batch: 2 | Loss 0.22224745154380798: 216it [38:14,  8.54s/it]\u001b[A"
          ]
        },
        {
          "output_type": "stream",
          "name": "stdout",
          "text": [
            "Epoch 71 Training Accuracy: tensor(1.)\n",
            "Testing Accuracy: tensor(0.9333)\n"
          ]
        },
        {
          "output_type": "stream",
          "name": "stderr",
          "text": [
            "\n",
            "Epoch: 71 | Batch: 2 | Loss 0.22224745154380798: 217it [38:27,  9.93s/it]\u001b[A\n",
            "Epoch: 72 | Batch: 0 | Loss 0.3757392466068268: 217it [38:27,  9.93s/it] \u001b[A\n",
            "Epoch: 72 | Batch: 0 | Loss 0.3757392466068268: 218it [38:40, 10.64s/it]\u001b[A\n",
            "Epoch: 72 | Batch: 1 | Loss 0.33615607023239136: 218it [38:40, 10.64s/it]\u001b[A\n",
            "Epoch: 72 | Batch: 1 | Loss 0.33615607023239136: 219it [38:43,  8.52s/it]\u001b[A\n",
            "Epoch: 72 | Batch: 2 | Loss 0.24781973659992218: 219it [38:43,  8.52s/it]\u001b[A"
          ]
        },
        {
          "output_type": "stream",
          "name": "stdout",
          "text": [
            "Epoch 72 Training Accuracy: tensor(1.)\n",
            "Testing Accuracy: tensor(0.9333)\n"
          ]
        },
        {
          "output_type": "stream",
          "name": "stderr",
          "text": [
            "\n",
            "Epoch: 72 | Batch: 2 | Loss 0.24781973659992218: 220it [38:56,  9.89s/it]\u001b[A\n",
            "Epoch: 73 | Batch: 0 | Loss 0.3581365942955017: 220it [38:56,  9.89s/it] \u001b[A\n",
            "Epoch: 73 | Batch: 0 | Loss 0.3581365942955017: 221it [39:09, 10.66s/it]\u001b[A\n",
            "Epoch: 73 | Batch: 1 | Loss 0.3039221465587616: 221it [39:09, 10.66s/it]\u001b[A\n",
            "Epoch: 73 | Batch: 1 | Loss 0.3039221465587616: 222it [39:12,  8.53s/it]\u001b[A\n",
            "Epoch: 73 | Batch: 2 | Loss 0.36999180912971497: 222it [39:12,  8.53s/it]\u001b[A"
          ]
        },
        {
          "output_type": "stream",
          "name": "stdout",
          "text": [
            "Epoch 73 Training Accuracy: tensor(1.)\n",
            "Testing Accuracy: tensor(0.9667)\n"
          ]
        },
        {
          "output_type": "stream",
          "name": "stderr",
          "text": [
            "\n",
            "Epoch: 73 | Batch: 2 | Loss 0.36999180912971497: 223it [39:28, 10.57s/it]\u001b[A\n",
            "Epoch: 74 | Batch: 0 | Loss 0.363517701625824: 223it [39:28, 10.57s/it]  \u001b[A\n",
            "Epoch: 74 | Batch: 0 | Loss 0.363517701625824: 224it [39:40, 11.13s/it]\u001b[A\n",
            "Epoch: 74 | Batch: 1 | Loss 0.316439688205719: 224it [39:40, 11.13s/it]\u001b[A\n",
            "Epoch: 74 | Batch: 1 | Loss 0.316439688205719: 225it [39:44,  8.85s/it]\u001b[A\n",
            "Epoch: 74 | Batch: 2 | Loss 0.21170607209205627: 225it [39:44,  8.85s/it]\u001b[A"
          ]
        },
        {
          "output_type": "stream",
          "name": "stdout",
          "text": [
            "Epoch 74 Training Accuracy: tensor(1.)\n",
            "Testing Accuracy: tensor(0.9667)\n"
          ]
        },
        {
          "output_type": "stream",
          "name": "stderr",
          "text": [
            "\n",
            "Epoch: 74 | Batch: 2 | Loss 0.21170607209205627: 226it [39:57, 10.13s/it]\u001b[A\n",
            "Epoch: 75 | Batch: 0 | Loss 0.33550918102264404: 226it [39:57, 10.13s/it]\u001b[A\n",
            "Epoch: 75 | Batch: 0 | Loss 0.33550918102264404: 227it [40:09, 10.80s/it]\u001b[A\n",
            "Epoch: 75 | Batch: 1 | Loss 0.3267003297805786: 227it [40:09, 10.80s/it] \u001b[A\n",
            "Epoch: 75 | Batch: 1 | Loss 0.3267003297805786: 228it [40:13,  8.63s/it]\u001b[A\n",
            "Epoch: 75 | Batch: 2 | Loss 0.22059643268585205: 228it [40:13,  8.63s/it]\u001b[A"
          ]
        },
        {
          "output_type": "stream",
          "name": "stdout",
          "text": [
            "Epoch 75 Training Accuracy: tensor(1.)\n",
            "Testing Accuracy: tensor(0.9667)\n"
          ]
        },
        {
          "output_type": "stream",
          "name": "stderr",
          "text": [
            "\n",
            "Epoch: 75 | Batch: 2 | Loss 0.22059643268585205: 229it [40:26,  9.98s/it]\u001b[A\n",
            "Epoch: 76 | Batch: 0 | Loss 0.3290804624557495: 229it [40:26,  9.98s/it] \u001b[A\n",
            "Epoch: 76 | Batch: 0 | Loss 0.3290804624557495: 230it [40:38, 10.70s/it]\u001b[A\n",
            "Epoch: 76 | Batch: 1 | Loss 0.3182225823402405: 230it [40:38, 10.70s/it]\u001b[A\n",
            "Epoch: 76 | Batch: 1 | Loss 0.3182225823402405: 231it [40:42,  8.57s/it]\u001b[A\n",
            "Epoch: 76 | Batch: 2 | Loss 0.19969740509986877: 231it [40:42,  8.57s/it]\u001b[A"
          ]
        },
        {
          "output_type": "stream",
          "name": "stdout",
          "text": [
            "Epoch 76 Training Accuracy: tensor(1.)\n",
            "Testing Accuracy: tensor(0.9667)\n"
          ]
        },
        {
          "output_type": "stream",
          "name": "stderr",
          "text": [
            "\n",
            "Epoch: 76 | Batch: 2 | Loss 0.19969740509986877: 232it [40:55, 10.03s/it]\u001b[A\n",
            "Epoch: 77 | Batch: 0 | Loss 0.31043848395347595: 232it [40:55, 10.03s/it]\u001b[A\n",
            "Epoch: 77 | Batch: 0 | Loss 0.31043848395347595: 233it [41:07, 10.73s/it]\u001b[A\n",
            "Epoch: 77 | Batch: 1 | Loss 0.33863964676856995: 233it [41:07, 10.73s/it]\u001b[A\n",
            "Epoch: 77 | Batch: 1 | Loss 0.33863964676856995: 234it [41:11,  8.59s/it]\u001b[A\n",
            "Epoch: 77 | Batch: 2 | Loss 0.13373759388923645: 234it [41:11,  8.59s/it]\u001b[A"
          ]
        },
        {
          "output_type": "stream",
          "name": "stdout",
          "text": [
            "Epoch 77 Training Accuracy: tensor(1.)\n",
            "Testing Accuracy: tensor(0.9667)\n"
          ]
        },
        {
          "output_type": "stream",
          "name": "stderr",
          "text": [
            "\n",
            "Epoch: 77 | Batch: 2 | Loss 0.13373759388923645: 235it [41:24,  9.93s/it]\u001b[A\n",
            "Epoch: 78 | Batch: 0 | Loss 0.30702731013298035: 235it [41:24,  9.93s/it]\u001b[A\n",
            "Epoch: 78 | Batch: 0 | Loss 0.30702731013298035: 236it [41:36, 10.63s/it]\u001b[A\n",
            "Epoch: 78 | Batch: 1 | Loss 0.2906464636325836: 236it [41:36, 10.63s/it] \u001b[A\n",
            "Epoch: 78 | Batch: 1 | Loss 0.2906464636325836: 237it [41:40,  8.51s/it]\u001b[A\n",
            "Epoch: 78 | Batch: 2 | Loss 0.24898728728294373: 237it [41:40,  8.51s/it]\u001b[A"
          ]
        },
        {
          "output_type": "stream",
          "name": "stdout",
          "text": [
            "Epoch 78 Training Accuracy: tensor(1.)\n",
            "Testing Accuracy: tensor(0.9667)\n"
          ]
        },
        {
          "output_type": "stream",
          "name": "stderr",
          "text": [
            "\n",
            "Epoch: 78 | Batch: 2 | Loss 0.24898728728294373: 238it [41:53,  9.91s/it]\u001b[A\n",
            "Epoch: 79 | Batch: 0 | Loss 0.3127002716064453: 238it [41:53,  9.91s/it] \u001b[A\n",
            "Epoch: 79 | Batch: 0 | Loss 0.3127002716064453: 239it [42:06, 10.65s/it]\u001b[A\n",
            "Epoch: 79 | Batch: 1 | Loss 0.29514414072036743: 239it [42:06, 10.65s/it]\u001b[A\n",
            "Epoch: 79 | Batch: 1 | Loss 0.29514414072036743: 240it [42:09,  8.51s/it]\u001b[A\n",
            "Epoch: 79 | Batch: 2 | Loss 0.15040455758571625: 240it [42:09,  8.51s/it]\u001b[A"
          ]
        },
        {
          "output_type": "stream",
          "name": "stdout",
          "text": [
            "Epoch 79 Training Accuracy: tensor(1.)\n",
            "Testing Accuracy: tensor(0.9667)\n"
          ]
        },
        {
          "output_type": "stream",
          "name": "stderr",
          "text": [
            "\n",
            "Epoch: 79 | Batch: 2 | Loss 0.15040455758571625: 241it [42:23, 10.01s/it]\u001b[A\n",
            "Epoch: 80 | Batch: 0 | Loss 0.27903494238853455: 241it [42:23, 10.01s/it]\u001b[A\n",
            "Epoch: 80 | Batch: 0 | Loss 0.27903494238853455: 242it [42:35, 10.75s/it]\u001b[A\n",
            "Epoch: 80 | Batch: 1 | Loss 0.29750269651412964: 242it [42:35, 10.75s/it]\u001b[A\n",
            "Epoch: 80 | Batch: 1 | Loss 0.29750269651412964: 243it [42:39,  8.60s/it]\u001b[A\n",
            "Epoch: 80 | Batch: 2 | Loss 0.21480122208595276: 243it [42:39,  8.60s/it]\u001b[A"
          ]
        },
        {
          "output_type": "stream",
          "name": "stdout",
          "text": [
            "Epoch 80 Training Accuracy: tensor(1.)\n",
            "Testing Accuracy: tensor(0.9667)\n"
          ]
        },
        {
          "output_type": "stream",
          "name": "stderr",
          "text": [
            "\n",
            "Epoch: 80 | Batch: 2 | Loss 0.21480122208595276: 244it [42:52,  9.99s/it]\u001b[A\n",
            "Epoch: 81 | Batch: 0 | Loss 0.29622316360473633: 244it [42:52,  9.99s/it]\u001b[A\n",
            "Epoch: 81 | Batch: 0 | Loss 0.29622316360473633: 245it [43:04, 10.68s/it]\u001b[A\n",
            "Epoch: 81 | Batch: 1 | Loss 0.25920358300209045: 245it [43:04, 10.68s/it]\u001b[A\n",
            "Epoch: 81 | Batch: 1 | Loss 0.25920358300209045: 246it [43:08,  8.55s/it]\u001b[A\n",
            "Epoch: 81 | Batch: 2 | Loss 0.23702983558177948: 246it [43:08,  8.55s/it]\u001b[A"
          ]
        },
        {
          "output_type": "stream",
          "name": "stdout",
          "text": [
            "Epoch 81 Training Accuracy: tensor(1.)\n",
            "Testing Accuracy: tensor(0.9667)\n"
          ]
        },
        {
          "output_type": "stream",
          "name": "stderr",
          "text": [
            "\n",
            "Epoch: 81 | Batch: 2 | Loss 0.23702983558177948: 247it [43:21,  9.91s/it]\u001b[A\n",
            "Epoch: 82 | Batch: 0 | Loss 0.25821417570114136: 247it [43:21,  9.91s/it]\u001b[A\n",
            "Epoch: 82 | Batch: 0 | Loss 0.25821417570114136: 248it [43:33, 10.64s/it]\u001b[A\n",
            "Epoch: 82 | Batch: 1 | Loss 0.27439719438552856: 248it [43:33, 10.64s/it]\u001b[A\n",
            "Epoch: 82 | Batch: 1 | Loss 0.27439719438552856: 249it [43:37,  8.52s/it]\u001b[A\n",
            "Epoch: 82 | Batch: 2 | Loss 0.23149697482585907: 249it [43:37,  8.52s/it]\u001b[A"
          ]
        },
        {
          "output_type": "stream",
          "name": "stdout",
          "text": [
            "Epoch 82 Training Accuracy: tensor(1.)\n",
            "Testing Accuracy: tensor(0.9667)\n"
          ]
        },
        {
          "output_type": "stream",
          "name": "stderr",
          "text": [
            "\n",
            "Epoch: 82 | Batch: 2 | Loss 0.23149697482585907: 250it [43:50,  9.90s/it]\u001b[A\n",
            "Epoch: 83 | Batch: 0 | Loss 0.29273921251296997: 250it [43:50,  9.90s/it]\u001b[A\n",
            "Epoch: 83 | Batch: 0 | Loss 0.29273921251296997: 251it [44:04, 11.24s/it]\u001b[A\n",
            "Epoch: 83 | Batch: 1 | Loss 0.2570967972278595: 251it [44:04, 11.24s/it] \u001b[A\n",
            "Epoch: 83 | Batch: 1 | Loss 0.2570967972278595: 252it [44:08,  8.93s/it]\u001b[A\n",
            "Epoch: 83 | Batch: 2 | Loss 0.16060735285282135: 252it [44:08,  8.93s/it]\u001b[A"
          ]
        },
        {
          "output_type": "stream",
          "name": "stdout",
          "text": [
            "Epoch 83 Training Accuracy: tensor(1.)\n",
            "Testing Accuracy: tensor(0.9667)\n"
          ]
        },
        {
          "output_type": "stream",
          "name": "stderr",
          "text": [
            "\n",
            "Epoch: 83 | Batch: 2 | Loss 0.16060735285282135: 253it [44:21, 10.18s/it]\u001b[A\n",
            "Epoch: 84 | Batch: 0 | Loss 0.27846214175224304: 253it [44:21, 10.18s/it]\u001b[A\n",
            "Epoch: 84 | Batch: 0 | Loss 0.27846214175224304: 254it [44:33, 10.87s/it]\u001b[A\n",
            "Epoch: 84 | Batch: 1 | Loss 0.255343496799469: 254it [44:33, 10.87s/it]  \u001b[A\n",
            "Epoch: 84 | Batch: 1 | Loss 0.255343496799469: 255it [44:37,  8.69s/it]\u001b[A\n",
            "Epoch: 84 | Batch: 2 | Loss 0.15096653997898102: 255it [44:37,  8.69s/it]\u001b[A"
          ]
        },
        {
          "output_type": "stream",
          "name": "stdout",
          "text": [
            "Epoch 84 Training Accuracy: tensor(1.)\n",
            "Testing Accuracy: tensor(0.9667)\n"
          ]
        },
        {
          "output_type": "stream",
          "name": "stderr",
          "text": [
            "\n",
            "Epoch: 84 | Batch: 2 | Loss 0.15096653997898102: 256it [44:50, 10.00s/it]\u001b[A\n",
            "Epoch: 85 | Batch: 0 | Loss 0.24969364702701569: 256it [44:50, 10.00s/it]\u001b[A\n",
            "Epoch: 85 | Batch: 0 | Loss 0.24969364702701569: 257it [45:02, 10.71s/it]\u001b[A\n",
            "Epoch: 85 | Batch: 1 | Loss 0.2490510791540146: 257it [45:02, 10.71s/it] \u001b[A\n",
            "Epoch: 85 | Batch: 1 | Loss 0.2490510791540146: 258it [45:06,  8.55s/it]\u001b[A\n",
            "Epoch: 85 | Batch: 2 | Loss 0.23548173904418945: 258it [45:06,  8.55s/it]\u001b[A"
          ]
        },
        {
          "output_type": "stream",
          "name": "stdout",
          "text": [
            "Epoch 85 Training Accuracy: tensor(1.)\n",
            "Testing Accuracy: tensor(0.9667)\n"
          ]
        },
        {
          "output_type": "stream",
          "name": "stderr",
          "text": [
            "\n",
            "Epoch: 85 | Batch: 2 | Loss 0.23548173904418945: 259it [45:19,  9.94s/it]\u001b[A\n",
            "Epoch: 86 | Batch: 0 | Loss 0.25299152731895447: 259it [45:19,  9.94s/it]\u001b[A\n",
            "Epoch: 86 | Batch: 0 | Loss 0.25299152731895447: 260it [45:31, 10.69s/it]\u001b[A\n",
            "Epoch: 86 | Batch: 1 | Loss 0.254336953163147: 260it [45:31, 10.69s/it]  \u001b[A\n",
            "Epoch: 86 | Batch: 1 | Loss 0.254336953163147: 261it [45:35,  8.54s/it]\u001b[A\n",
            "Epoch: 86 | Batch: 2 | Loss 0.15369205176830292: 261it [45:35,  8.54s/it]\u001b[A"
          ]
        },
        {
          "output_type": "stream",
          "name": "stdout",
          "text": [
            "Epoch 86 Training Accuracy: tensor(1.)\n",
            "Testing Accuracy: tensor(0.9667)\n"
          ]
        },
        {
          "output_type": "stream",
          "name": "stderr",
          "text": [
            "\n",
            "Epoch: 86 | Batch: 2 | Loss 0.15369205176830292: 262it [45:48, 10.02s/it]\u001b[A\n",
            "Epoch: 87 | Batch: 0 | Loss 0.2468588650226593: 262it [45:48, 10.02s/it] \u001b[A\n",
            "Epoch: 87 | Batch: 0 | Loss 0.2468588650226593: 263it [46:01, 10.70s/it]\u001b[A\n",
            "Epoch: 87 | Batch: 1 | Loss 0.25775882601737976: 263it [46:01, 10.70s/it]\u001b[A\n",
            "Epoch: 87 | Batch: 1 | Loss 0.25775882601737976: 264it [46:04,  8.54s/it]\u001b[A\n",
            "Epoch: 87 | Batch: 2 | Loss 0.11895455420017242: 264it [46:04,  8.54s/it]\u001b[A"
          ]
        },
        {
          "output_type": "stream",
          "name": "stdout",
          "text": [
            "Epoch 87 Training Accuracy: tensor(1.)\n",
            "Testing Accuracy: tensor(0.9667)\n"
          ]
        },
        {
          "output_type": "stream",
          "name": "stderr",
          "text": [
            "\n",
            "Epoch: 87 | Batch: 2 | Loss 0.11895455420017242: 265it [46:18,  9.96s/it]\u001b[A\n",
            "Epoch: 88 | Batch: 0 | Loss 0.2649151682853699: 265it [46:18,  9.96s/it] \u001b[A\n",
            "Epoch: 88 | Batch: 0 | Loss 0.2649151682853699: 266it [46:30, 10.71s/it]\u001b[A\n",
            "Epoch: 88 | Batch: 1 | Loss 0.22138546407222748: 266it [46:30, 10.71s/it]\u001b[A\n",
            "Epoch: 88 | Batch: 1 | Loss 0.22138546407222748: 267it [46:34,  8.56s/it]\u001b[A\n",
            "Epoch: 88 | Batch: 2 | Loss 0.1436101645231247: 267it [46:34,  8.56s/it] \u001b[A"
          ]
        },
        {
          "output_type": "stream",
          "name": "stdout",
          "text": [
            "Epoch 88 Training Accuracy: tensor(1.)\n",
            "Testing Accuracy: tensor(0.9667)\n"
          ]
        },
        {
          "output_type": "stream",
          "name": "stderr",
          "text": [
            "\n",
            "Epoch: 88 | Batch: 2 | Loss 0.1436101645231247: 268it [46:47,  9.99s/it]\u001b[A\n",
            "Epoch: 89 | Batch: 0 | Loss 0.2463904321193695: 268it [46:47,  9.99s/it]\u001b[A\n",
            "Epoch: 89 | Batch: 0 | Loss 0.2463904321193695: 269it [46:59, 10.71s/it]\u001b[A\n",
            "Epoch: 89 | Batch: 1 | Loss 0.2128959745168686: 269it [46:59, 10.71s/it]\u001b[A\n",
            "Epoch: 89 | Batch: 1 | Loss 0.2128959745168686: 270it [47:03,  8.57s/it]\u001b[A\n",
            "Epoch: 89 | Batch: 2 | Loss 0.16837750375270844: 270it [47:03,  8.57s/it]\u001b[A"
          ]
        },
        {
          "output_type": "stream",
          "name": "stdout",
          "text": [
            "Epoch 89 Training Accuracy: tensor(1.)\n",
            "Testing Accuracy: tensor(0.9667)\n"
          ]
        },
        {
          "output_type": "stream",
          "name": "stderr",
          "text": [
            "\n",
            "Epoch: 89 | Batch: 2 | Loss 0.16837750375270844: 271it [47:16,  9.97s/it]\u001b[A\n",
            "Epoch: 90 | Batch: 0 | Loss 0.21951109170913696: 271it [47:16,  9.97s/it]\u001b[A\n",
            "Epoch: 90 | Batch: 0 | Loss 0.21951109170913696: 272it [47:28, 10.68s/it]\u001b[A\n",
            "Epoch: 90 | Batch: 1 | Loss 0.2517088055610657: 272it [47:28, 10.68s/it] \u001b[A\n",
            "Epoch: 90 | Batch: 1 | Loss 0.2517088055610657: 273it [47:32,  8.54s/it]\u001b[A\n",
            "Epoch: 90 | Batch: 2 | Loss 0.1143789291381836: 273it [47:32,  8.54s/it]\u001b[A"
          ]
        },
        {
          "output_type": "stream",
          "name": "stdout",
          "text": [
            "Epoch 90 Training Accuracy: tensor(1.)\n",
            "Testing Accuracy: tensor(0.9667)\n"
          ]
        },
        {
          "output_type": "stream",
          "name": "stderr",
          "text": [
            "\n",
            "Epoch: 90 | Batch: 2 | Loss 0.1143789291381836: 274it [47:45,  9.95s/it]\u001b[A\n",
            "Epoch: 91 | Batch: 0 | Loss 0.20943500101566315: 274it [47:45,  9.95s/it]\u001b[A\n",
            "Epoch: 91 | Batch: 0 | Loss 0.20943500101566315: 275it [47:58, 10.69s/it]\u001b[A\n",
            "Epoch: 91 | Batch: 1 | Loss 0.23416195809841156: 275it [47:58, 10.69s/it]\u001b[A\n",
            "Epoch: 91 | Batch: 1 | Loss 0.23416195809841156: 276it [48:01,  8.55s/it]\u001b[A\n",
            "Epoch: 91 | Batch: 2 | Loss 0.16735891997814178: 276it [48:01,  8.55s/it]\u001b[A"
          ]
        },
        {
          "output_type": "stream",
          "name": "stdout",
          "text": [
            "Epoch 91 Training Accuracy: tensor(1.)\n",
            "Testing Accuracy: tensor(0.9667)\n"
          ]
        },
        {
          "output_type": "stream",
          "name": "stderr",
          "text": [
            "\n",
            "Epoch: 91 | Batch: 2 | Loss 0.16735891997814178: 277it [48:16, 10.56s/it]\u001b[A\n",
            "Epoch: 92 | Batch: 0 | Loss 0.23420724272727966: 277it [48:16, 10.56s/it]\u001b[A\n",
            "Epoch: 92 | Batch: 0 | Loss 0.23420724272727966: 278it [48:29, 11.11s/it]\u001b[A\n",
            "Epoch: 92 | Batch: 1 | Loss 0.2039952129125595: 278it [48:29, 11.11s/it] \u001b[A\n",
            "Epoch: 92 | Batch: 1 | Loss 0.2039952129125595: 279it [48:32,  8.85s/it]\u001b[A\n",
            "Epoch: 92 | Batch: 2 | Loss 0.14325058460235596: 279it [48:32,  8.85s/it]\u001b[A"
          ]
        },
        {
          "output_type": "stream",
          "name": "stdout",
          "text": [
            "Epoch 92 Training Accuracy: tensor(1.)\n",
            "Testing Accuracy: tensor(0.9667)\n"
          ]
        },
        {
          "output_type": "stream",
          "name": "stderr",
          "text": [
            "\n",
            "Epoch: 92 | Batch: 2 | Loss 0.14325058460235596: 280it [48:46, 10.18s/it]\u001b[A\n",
            "Epoch: 93 | Batch: 0 | Loss 0.2088862806558609: 280it [48:46, 10.18s/it] \u001b[A\n",
            "Epoch: 93 | Batch: 0 | Loss 0.2088862806558609: 281it [48:58, 10.83s/it]\u001b[A\n",
            "Epoch: 93 | Batch: 1 | Loss 0.2317287027835846: 281it [48:58, 10.83s/it]\u001b[A\n",
            "Epoch: 93 | Batch: 1 | Loss 0.2317287027835846: 282it [49:02,  8.68s/it]\u001b[A\n",
            "Epoch: 93 | Batch: 2 | Loss 0.11536826193332672: 282it [49:02,  8.68s/it]\u001b[A"
          ]
        },
        {
          "output_type": "stream",
          "name": "stdout",
          "text": [
            "Epoch 93 Training Accuracy: tensor(1.)\n",
            "Testing Accuracy: tensor(1.)\n"
          ]
        },
        {
          "output_type": "stream",
          "name": "stderr",
          "text": [
            "\n",
            "Epoch: 93 | Batch: 2 | Loss 0.11536826193332672: 283it [49:15, 10.05s/it]\u001b[A\n",
            "Epoch: 94 | Batch: 0 | Loss 0.1960514336824417: 283it [49:15, 10.05s/it] \u001b[A\n",
            "Epoch: 94 | Batch: 0 | Loss 0.1960514336824417: 284it [49:27, 10.77s/it]\u001b[A\n",
            "Epoch: 94 | Batch: 1 | Loss 0.25105592608451843: 284it [49:27, 10.77s/it]\u001b[A\n",
            "Epoch: 94 | Batch: 1 | Loss 0.25105592608451843: 285it [49:31,  8.62s/it]\u001b[A\n",
            "Epoch: 94 | Batch: 2 | Loss 0.06910248845815659: 285it [49:31,  8.62s/it]\u001b[A"
          ]
        },
        {
          "output_type": "stream",
          "name": "stdout",
          "text": [
            "Epoch 94 Training Accuracy: tensor(1.)\n",
            "Testing Accuracy: tensor(1.)\n"
          ]
        },
        {
          "output_type": "stream",
          "name": "stderr",
          "text": [
            "\n",
            "Epoch: 94 | Batch: 2 | Loss 0.06910248845815659: 286it [49:44, 10.01s/it]\u001b[A\n",
            "Epoch: 95 | Batch: 0 | Loss 0.2052561193704605: 286it [49:44, 10.01s/it] \u001b[A\n",
            "Epoch: 95 | Batch: 0 | Loss 0.2052561193704605: 287it [49:56, 10.69s/it]\u001b[A\n",
            "Epoch: 95 | Batch: 1 | Loss 0.20653340220451355: 287it [49:56, 10.69s/it]\u001b[A\n",
            "Epoch: 95 | Batch: 1 | Loss 0.20653340220451355: 288it [50:00,  8.55s/it]\u001b[A\n",
            "Epoch: 95 | Batch: 2 | Loss 0.1439186930656433: 288it [50:00,  8.55s/it] \u001b[A"
          ]
        },
        {
          "output_type": "stream",
          "name": "stdout",
          "text": [
            "Epoch 95 Training Accuracy: tensor(1.)\n",
            "Testing Accuracy: tensor(1.)\n"
          ]
        },
        {
          "output_type": "stream",
          "name": "stderr",
          "text": [
            "\n",
            "Epoch: 95 | Batch: 2 | Loss 0.1439186930656433: 289it [50:13,  9.94s/it]\u001b[A\n",
            "Epoch: 96 | Batch: 0 | Loss 0.20773287117481232: 289it [50:13,  9.94s/it]\u001b[A\n",
            "Epoch: 96 | Batch: 0 | Loss 0.20773287117481232: 290it [50:26, 10.64s/it]\u001b[A\n",
            "Epoch: 96 | Batch: 1 | Loss 0.19394554197788239: 290it [50:26, 10.64s/it]\u001b[A\n",
            "Epoch: 96 | Batch: 1 | Loss 0.19394554197788239: 291it [50:29,  8.52s/it]\u001b[A\n",
            "Epoch: 96 | Batch: 2 | Loss 0.1359950453042984: 291it [50:29,  8.52s/it] \u001b[A"
          ]
        },
        {
          "output_type": "stream",
          "name": "stdout",
          "text": [
            "Epoch 96 Training Accuracy: tensor(1.)\n",
            "Testing Accuracy: tensor(1.)\n"
          ]
        },
        {
          "output_type": "stream",
          "name": "stderr",
          "text": [
            "\n",
            "Epoch: 96 | Batch: 2 | Loss 0.1359950453042984: 292it [50:42,  9.91s/it]\u001b[A\n",
            "Epoch: 97 | Batch: 0 | Loss 0.22747810184955597: 292it [50:42,  9.91s/it]\u001b[A\n",
            "Epoch: 97 | Batch: 0 | Loss 0.22747810184955597: 293it [50:55, 10.66s/it]\u001b[A\n",
            "Epoch: 97 | Batch: 1 | Loss 0.1747380942106247: 293it [50:55, 10.66s/it] \u001b[A\n",
            "Epoch: 97 | Batch: 1 | Loss 0.1747380942106247: 294it [50:58,  8.53s/it]\u001b[A\n",
            "Epoch: 97 | Batch: 2 | Loss 0.1128459945321083: 294it [50:58,  8.53s/it]\u001b[A"
          ]
        },
        {
          "output_type": "stream",
          "name": "stdout",
          "text": [
            "Epoch 97 Training Accuracy: tensor(1.)\n",
            "Testing Accuracy: tensor(1.)\n"
          ]
        },
        {
          "output_type": "stream",
          "name": "stderr",
          "text": [
            "\n",
            "Epoch: 97 | Batch: 2 | Loss 0.1128459945321083: 295it [51:12, 10.02s/it]\u001b[A\n",
            "Epoch: 98 | Batch: 0 | Loss 0.19401665031909943: 295it [51:12, 10.02s/it]\u001b[A\n",
            "Epoch: 98 | Batch: 0 | Loss 0.19401665031909943: 296it [51:24, 10.66s/it]\u001b[A\n",
            "Epoch: 98 | Batch: 1 | Loss 0.21439942717552185: 296it [51:24, 10.66s/it]\u001b[A\n",
            "Epoch: 98 | Batch: 1 | Loss 0.21439942717552185: 297it [51:27,  8.54s/it]\u001b[A\n",
            "Epoch: 98 | Batch: 2 | Loss 0.07860889285802841: 297it [51:27,  8.54s/it]\u001b[A"
          ]
        },
        {
          "output_type": "stream",
          "name": "stdout",
          "text": [
            "Epoch 98 Training Accuracy: tensor(1.)\n",
            "Testing Accuracy: tensor(1.)\n"
          ]
        },
        {
          "output_type": "stream",
          "name": "stderr",
          "text": [
            "\n",
            "Epoch: 98 | Batch: 2 | Loss 0.07860889285802841: 298it [51:41,  9.94s/it]\u001b[A\n",
            "Epoch: 99 | Batch: 0 | Loss 0.18847039341926575: 298it [51:41,  9.94s/it]\u001b[A\n",
            "Epoch: 99 | Batch: 0 | Loss 0.18847039341926575: 299it [51:53, 10.70s/it]\u001b[A\n",
            "Epoch: 99 | Batch: 1 | Loss 0.19677101075649261: 299it [51:53, 10.70s/it]\u001b[A\n",
            "Epoch: 99 | Batch: 1 | Loss 0.19677101075649261: 300it [51:57,  8.58s/it]\u001b[A\n",
            "Epoch: 99 | Batch: 2 | Loss 0.11286740005016327: 300it [51:57,  8.58s/it]\u001b[A"
          ]
        },
        {
          "output_type": "stream",
          "name": "stdout",
          "text": [
            "Epoch 99 Training Accuracy: tensor(1.)\n",
            "Testing Accuracy: tensor(1.)\n"
          ]
        },
        {
          "output_type": "stream",
          "name": "stderr",
          "text": [
            "\n",
            "Epoch: 99 | Batch: 2 | Loss 0.11286740005016327: 301it [52:10,  9.93s/it]\u001b[A\n",
            "Epoch: 100 | Batch: 0 | Loss 0.21196343004703522: 301it [52:10,  9.93s/it]\u001b[A\n",
            "Epoch: 100 | Batch: 0 | Loss 0.21196343004703522: 302it [52:22, 10.67s/it]\u001b[A\n",
            "Epoch: 100 | Batch: 1 | Loss 0.17880234122276306: 302it [52:22, 10.67s/it]\u001b[A\n",
            "Epoch: 100 | Batch: 1 | Loss 0.17880234122276306: 303it [52:27,  8.90s/it]\u001b[A\n",
            "Epoch: 100 | Batch: 2 | Loss 0.08031235635280609: 303it [52:27,  8.90s/it]\u001b[A"
          ]
        },
        {
          "output_type": "stream",
          "name": "stdout",
          "text": [
            "Epoch 100 Training Accuracy: tensor(1.)\n",
            "Testing Accuracy: tensor(1.)\n"
          ]
        },
        {
          "output_type": "stream",
          "name": "stderr",
          "text": [
            "\n",
            "Epoch: 100 | Batch: 2 | Loss 0.08031235635280609: 304it [52:41, 10.38s/it]\u001b[A\n",
            "Epoch: 101 | Batch: 0 | Loss 0.18045145273208618: 304it [52:41, 10.38s/it]\u001b[A\n",
            "Epoch: 101 | Batch: 0 | Loss 0.18045145273208618: 305it [52:53, 10.94s/it]\u001b[A\n",
            "Epoch: 101 | Batch: 1 | Loss 0.20053675770759583: 305it [52:53, 10.94s/it]\u001b[A\n",
            "Epoch: 101 | Batch: 1 | Loss 0.20053675770759583: 306it [52:57,  8.75s/it]\u001b[A\n",
            "Epoch: 101 | Batch: 2 | Loss 0.08453525602817535: 306it [52:57,  8.75s/it]\u001b[A"
          ]
        },
        {
          "output_type": "stream",
          "name": "stdout",
          "text": [
            "Epoch 101 Training Accuracy: tensor(1.)\n",
            "Testing Accuracy: tensor(1.)\n"
          ]
        },
        {
          "output_type": "stream",
          "name": "stderr",
          "text": [
            "\n",
            "Epoch: 101 | Batch: 2 | Loss 0.08453525602817535: 307it [53:10, 10.08s/it]\u001b[A\n",
            "Epoch: 102 | Batch: 0 | Loss 0.18335779011249542: 307it [53:10, 10.08s/it]\u001b[A\n",
            "Epoch: 102 | Batch: 0 | Loss 0.18335779011249542: 308it [53:23, 10.83s/it]\u001b[A\n",
            "Epoch: 102 | Batch: 1 | Loss 0.20506218075752258: 308it [53:23, 10.83s/it]\u001b[A\n",
            "Epoch: 102 | Batch: 1 | Loss 0.20506218075752258: 309it [53:26,  8.66s/it]\u001b[A\n",
            "Epoch: 102 | Batch: 2 | Loss 0.050548799335956573: 309it [53:26,  8.66s/it]\u001b[A"
          ]
        },
        {
          "output_type": "stream",
          "name": "stdout",
          "text": [
            "Epoch 102 Training Accuracy: tensor(1.)\n",
            "Testing Accuracy: tensor(1.)\n"
          ]
        },
        {
          "output_type": "stream",
          "name": "stderr",
          "text": [
            "\n",
            "Epoch: 102 | Batch: 2 | Loss 0.050548799335956573: 310it [53:39, 10.03s/it]\u001b[A\n",
            "Epoch: 103 | Batch: 0 | Loss 0.17104098200798035: 310it [53:39, 10.03s/it] \u001b[A\n",
            "Epoch: 103 | Batch: 0 | Loss 0.17104098200798035: 311it [53:52, 10.78s/it]\u001b[A\n",
            "Epoch: 103 | Batch: 1 | Loss 0.19762499630451202: 311it [53:52, 10.78s/it]\u001b[A\n",
            "Epoch: 103 | Batch: 1 | Loss 0.19762499630451202: 312it [53:55,  8.63s/it]\u001b[A\n",
            "Epoch: 103 | Batch: 2 | Loss 0.08429622650146484: 312it [53:55,  8.63s/it]\u001b[A"
          ]
        },
        {
          "output_type": "stream",
          "name": "stdout",
          "text": [
            "Epoch 103 Training Accuracy: tensor(1.)\n",
            "Testing Accuracy: tensor(1.)\n"
          ]
        },
        {
          "output_type": "stream",
          "name": "stderr",
          "text": [
            "\n",
            "Epoch: 103 | Batch: 2 | Loss 0.08429622650146484: 313it [54:09, 10.04s/it]\u001b[A\n",
            "Epoch: 104 | Batch: 0 | Loss 0.18373683094978333: 313it [54:09, 10.04s/it]\u001b[A\n",
            "Epoch: 104 | Batch: 0 | Loss 0.18373683094978333: 314it [54:21, 10.74s/it]\u001b[A\n",
            "Epoch: 104 | Batch: 1 | Loss 0.1681625097990036: 314it [54:21, 10.74s/it] \u001b[A\n",
            "Epoch: 104 | Batch: 1 | Loss 0.1681625097990036: 315it [54:25,  8.59s/it]\u001b[A\n",
            "Epoch: 104 | Batch: 2 | Loss 0.11437273025512695: 315it [54:25,  8.59s/it]\u001b[A"
          ]
        },
        {
          "output_type": "stream",
          "name": "stdout",
          "text": [
            "Epoch 104 Training Accuracy: tensor(1.)\n",
            "Testing Accuracy: tensor(1.)\n"
          ]
        },
        {
          "output_type": "stream",
          "name": "stderr",
          "text": [
            "\n",
            "Epoch: 104 | Batch: 2 | Loss 0.11437273025512695: 316it [54:38,  9.95s/it]\u001b[A\n",
            "Epoch: 105 | Batch: 0 | Loss 0.16537846624851227: 316it [54:38,  9.95s/it]\u001b[A\n",
            "Epoch: 105 | Batch: 0 | Loss 0.16537846624851227: 317it [54:50, 10.74s/it]\u001b[A\n",
            "Epoch: 105 | Batch: 1 | Loss 0.17412437498569489: 317it [54:50, 10.74s/it]\u001b[A\n",
            "Epoch: 105 | Batch: 1 | Loss 0.17412437498569489: 318it [54:54,  8.59s/it]\u001b[A\n",
            "Epoch: 105 | Batch: 2 | Loss 0.11932339519262314: 318it [54:54,  8.59s/it]\u001b[A"
          ]
        },
        {
          "output_type": "stream",
          "name": "stdout",
          "text": [
            "Epoch 105 Training Accuracy: tensor(1.)\n",
            "Testing Accuracy: tensor(1.)\n"
          ]
        },
        {
          "output_type": "stream",
          "name": "stderr",
          "text": [
            "\n",
            "Epoch: 105 | Batch: 2 | Loss 0.11932339519262314: 319it [55:07, 10.02s/it]\u001b[A\n",
            "Epoch: 106 | Batch: 0 | Loss 0.15259571373462677: 319it [55:07, 10.02s/it]\u001b[A\n",
            "Epoch: 106 | Batch: 0 | Loss 0.15259571373462677: 320it [55:20, 10.70s/it]\u001b[A\n",
            "Epoch: 106 | Batch: 1 | Loss 0.20068170130252838: 320it [55:20, 10.70s/it]\u001b[A\n",
            "Epoch: 106 | Batch: 1 | Loss 0.20068170130252838: 321it [55:23,  8.56s/it]\u001b[A\n",
            "Epoch: 106 | Batch: 2 | Loss 0.06419805437326431: 321it [55:23,  8.56s/it]\u001b[A"
          ]
        },
        {
          "output_type": "stream",
          "name": "stdout",
          "text": [
            "Epoch 106 Training Accuracy: tensor(1.)\n",
            "Testing Accuracy: tensor(1.)\n"
          ]
        },
        {
          "output_type": "stream",
          "name": "stderr",
          "text": [
            "\n",
            "Epoch: 106 | Batch: 2 | Loss 0.06419805437326431: 322it [55:36,  9.93s/it]\u001b[A\n",
            "Epoch: 107 | Batch: 0 | Loss 0.16580843925476074: 322it [55:36,  9.93s/it]\u001b[A\n",
            "Epoch: 107 | Batch: 0 | Loss 0.16580843925476074: 323it [55:49, 10.67s/it]\u001b[A\n",
            "Epoch: 107 | Batch: 1 | Loss 0.18504521250724792: 323it [55:49, 10.67s/it]\u001b[A\n",
            "Epoch: 107 | Batch: 1 | Loss 0.18504521250724792: 324it [55:52,  8.53s/it]\u001b[A\n",
            "Epoch: 107 | Batch: 2 | Loss 0.05614294856786728: 324it [55:52,  8.53s/it]\u001b[A"
          ]
        },
        {
          "output_type": "stream",
          "name": "stdout",
          "text": [
            "Epoch 107 Training Accuracy: tensor(1.)\n",
            "Testing Accuracy: tensor(1.)\n"
          ]
        },
        {
          "output_type": "stream",
          "name": "stderr",
          "text": [
            "\n",
            "Epoch: 107 | Batch: 2 | Loss 0.05614294856786728: 325it [56:05,  9.89s/it]\u001b[A\n",
            "Epoch: 108 | Batch: 0 | Loss 0.15622875094413757: 325it [56:05,  9.89s/it]\u001b[A\n",
            "Epoch: 108 | Batch: 0 | Loss 0.15622875094413757: 326it [56:18, 10.65s/it]\u001b[A\n",
            "Epoch: 108 | Batch: 1 | Loss 0.17053434252738953: 326it [56:18, 10.65s/it]\u001b[A\n",
            "Epoch: 108 | Batch: 1 | Loss 0.17053434252738953: 327it [56:21,  8.52s/it]\u001b[A\n",
            "Epoch: 108 | Batch: 2 | Loss 0.08531644195318222: 327it [56:21,  8.52s/it]\u001b[A"
          ]
        },
        {
          "output_type": "stream",
          "name": "stdout",
          "text": [
            "Epoch 108 Training Accuracy: tensor(1.)\n",
            "Testing Accuracy: tensor(1.)\n"
          ]
        },
        {
          "output_type": "stream",
          "name": "stderr",
          "text": [
            "\n",
            "Epoch: 108 | Batch: 2 | Loss 0.08531644195318222: 328it [56:35,  9.97s/it]\u001b[A\n",
            "Epoch: 109 | Batch: 0 | Loss 0.1866714507341385: 328it [56:35,  9.97s/it] \u001b[A\n",
            "Epoch: 109 | Batch: 0 | Loss 0.1866714507341385: 329it [56:49, 11.33s/it]\u001b[A\n",
            "Epoch: 109 | Batch: 1 | Loss 0.14778734743595123: 329it [56:49, 11.33s/it]\u001b[A\n",
            "Epoch: 109 | Batch: 1 | Loss 0.14778734743595123: 330it [56:53,  9.01s/it]\u001b[A\n",
            "Epoch: 109 | Batch: 2 | Loss 0.07368984818458557: 330it [56:53,  9.01s/it]\u001b[A"
          ]
        },
        {
          "output_type": "stream",
          "name": "stdout",
          "text": [
            "Epoch 109 Training Accuracy: tensor(1.)\n",
            "Testing Accuracy: tensor(1.)\n"
          ]
        },
        {
          "output_type": "stream",
          "name": "stderr",
          "text": [
            "\n",
            "Epoch: 109 | Batch: 2 | Loss 0.07368984818458557: 331it [57:06, 10.29s/it]\u001b[A\n",
            "Epoch: 110 | Batch: 0 | Loss 0.14792747795581818: 331it [57:06, 10.29s/it]\u001b[A\n",
            "Epoch: 110 | Batch: 0 | Loss 0.14792747795581818: 332it [57:19, 10.96s/it]\u001b[A\n",
            "Epoch: 110 | Batch: 1 | Loss 0.16666634380817413: 332it [57:19, 10.96s/it]\u001b[A\n",
            "Epoch: 110 | Batch: 1 | Loss 0.16666634380817413: 333it [57:22,  8.74s/it]\u001b[A\n",
            "Epoch: 110 | Batch: 2 | Loss 0.09160233289003372: 333it [57:22,  8.74s/it]\u001b[A"
          ]
        },
        {
          "output_type": "stream",
          "name": "stdout",
          "text": [
            "Epoch 110 Training Accuracy: tensor(1.)\n",
            "Testing Accuracy: tensor(1.)\n"
          ]
        },
        {
          "output_type": "stream",
          "name": "stderr",
          "text": [
            "\n",
            "Epoch: 110 | Batch: 2 | Loss 0.09160233289003372: 334it [57:35, 10.09s/it]\u001b[A\n",
            "Epoch: 111 | Batch: 0 | Loss 0.16781941056251526: 334it [57:35, 10.09s/it]\u001b[A\n",
            "Epoch: 111 | Batch: 0 | Loss 0.16781941056251526: 335it [57:48, 10.80s/it]\u001b[A\n",
            "Epoch: 111 | Batch: 1 | Loss 0.14925570785999298: 335it [57:48, 10.80s/it]\u001b[A\n",
            "Epoch: 111 | Batch: 1 | Loss 0.14925570785999298: 336it [57:51,  8.63s/it]\u001b[A\n",
            "Epoch: 111 | Batch: 2 | Loss 0.08334590494632721: 336it [57:51,  8.63s/it]\u001b[A"
          ]
        },
        {
          "output_type": "stream",
          "name": "stdout",
          "text": [
            "Epoch 111 Training Accuracy: tensor(1.)\n",
            "Testing Accuracy: tensor(1.)\n"
          ]
        },
        {
          "output_type": "stream",
          "name": "stderr",
          "text": [
            "\n",
            "Epoch: 111 | Batch: 2 | Loss 0.08334590494632721: 337it [58:05,  9.98s/it]\u001b[A\n",
            "Epoch: 112 | Batch: 0 | Loss 0.16270308196544647: 337it [58:05,  9.98s/it]\u001b[A\n",
            "Epoch: 112 | Batch: 0 | Loss 0.16270308196544647: 338it [58:17, 10.73s/it]\u001b[A\n",
            "Epoch: 112 | Batch: 1 | Loss 0.1557338982820511: 338it [58:17, 10.73s/it] \u001b[A\n",
            "Epoch: 112 | Batch: 1 | Loss 0.1557338982820511: 339it [58:21,  8.58s/it]\u001b[A\n",
            "Epoch: 112 | Batch: 2 | Loss 0.06563104689121246: 339it [58:21,  8.58s/it]\u001b[A"
          ]
        },
        {
          "output_type": "stream",
          "name": "stdout",
          "text": [
            "Epoch 112 Training Accuracy: tensor(1.)\n",
            "Testing Accuracy: tensor(1.)\n"
          ]
        },
        {
          "output_type": "stream",
          "name": "stderr",
          "text": [
            "\n",
            "Epoch: 112 | Batch: 2 | Loss 0.06563104689121246: 340it [58:34,  9.95s/it]\u001b[A\n",
            "Epoch: 113 | Batch: 0 | Loss 0.17046476900577545: 340it [58:34,  9.95s/it]\u001b[A\n",
            "Epoch: 113 | Batch: 0 | Loss 0.17046476900577545: 341it [58:46, 10.69s/it]\u001b[A\n",
            "Epoch: 113 | Batch: 1 | Loss 0.14154881238937378: 341it [58:46, 10.69s/it]\u001b[A\n",
            "Epoch: 113 | Batch: 1 | Loss 0.14154881238937378: 342it [58:50,  8.56s/it]\u001b[A\n",
            "Epoch: 113 | Batch: 2 | Loss 0.06835690885782242: 342it [58:50,  8.56s/it]\u001b[A"
          ]
        },
        {
          "output_type": "stream",
          "name": "stdout",
          "text": [
            "Epoch 113 Training Accuracy: tensor(1.)\n",
            "Testing Accuracy: tensor(1.)\n"
          ]
        },
        {
          "output_type": "stream",
          "name": "stderr",
          "text": [
            "\n",
            "Epoch: 113 | Batch: 2 | Loss 0.06835690885782242: 343it [59:03,  9.92s/it]\u001b[A\n",
            "Epoch: 114 | Batch: 0 | Loss 0.15256193280220032: 343it [59:03,  9.92s/it]\u001b[A\n",
            "Epoch: 114 | Batch: 0 | Loss 0.15256193280220032: 344it [59:15, 10.61s/it]\u001b[A\n",
            "Epoch: 114 | Batch: 1 | Loss 0.1643676459789276: 344it [59:15, 10.61s/it] \u001b[A\n",
            "Epoch: 114 | Batch: 1 | Loss 0.1643676459789276: 345it [59:19,  8.54s/it]\u001b[A\n",
            "Epoch: 114 | Batch: 2 | Loss 0.038039594888687134: 345it [59:19,  8.54s/it]\u001b[A"
          ]
        },
        {
          "output_type": "stream",
          "name": "stdout",
          "text": [
            "Epoch 114 Training Accuracy: tensor(1.)\n",
            "Testing Accuracy: tensor(1.)\n"
          ]
        },
        {
          "output_type": "stream",
          "name": "stderr",
          "text": [
            "\n",
            "Epoch: 114 | Batch: 2 | Loss 0.038039594888687134: 346it [59:32,  9.95s/it]\u001b[A\n",
            "Epoch: 115 | Batch: 0 | Loss 0.17548885941505432: 346it [59:32,  9.95s/it] \u001b[A\n",
            "Epoch: 115 | Batch: 0 | Loss 0.17548885941505432: 347it [59:44, 10.62s/it]\u001b[A\n",
            "Epoch: 115 | Batch: 1 | Loss 0.13715553283691406: 347it [59:44, 10.62s/it]\u001b[A\n",
            "Epoch: 115 | Batch: 1 | Loss 0.13715553283691406: 348it [59:48,  8.58s/it]\u001b[A\n",
            "Epoch: 115 | Batch: 2 | Loss 0.040174197405576706: 348it [59:48,  8.58s/it]\u001b[A"
          ]
        },
        {
          "output_type": "stream",
          "name": "stdout",
          "text": [
            "Epoch 115 Training Accuracy: tensor(1.)\n",
            "Testing Accuracy: tensor(1.)\n"
          ]
        },
        {
          "output_type": "stream",
          "name": "stderr",
          "text": [
            "\n",
            "Epoch: 115 | Batch: 2 | Loss 0.040174197405576706: 349it [1:00:01,  9.95s/it]\u001b[A\n",
            "Epoch: 116 | Batch: 0 | Loss 0.12588144838809967: 349it [1:00:01,  9.95s/it] \u001b[A\n",
            "Epoch: 116 | Batch: 0 | Loss 0.12588144838809967: 350it [1:00:13, 10.65s/it]\u001b[A\n",
            "Epoch: 116 | Batch: 1 | Loss 0.15944573283195496: 350it [1:00:13, 10.65s/it]\u001b[A\n",
            "Epoch: 116 | Batch: 1 | Loss 0.15944573283195496: 351it [1:00:17,  8.62s/it]\u001b[A\n",
            "Epoch: 116 | Batch: 2 | Loss 0.08603581041097641: 351it [1:00:17,  8.62s/it]\u001b[A"
          ]
        },
        {
          "output_type": "stream",
          "name": "stdout",
          "text": [
            "Epoch 116 Training Accuracy: tensor(1.)\n",
            "Testing Accuracy: tensor(1.)\n"
          ]
        },
        {
          "output_type": "stream",
          "name": "stderr",
          "text": [
            "\n",
            "Epoch: 116 | Batch: 2 | Loss 0.08603581041097641: 352it [1:00:31, 10.00s/it]\u001b[A\n",
            "Epoch: 117 | Batch: 0 | Loss 0.15446360409259796: 352it [1:00:31, 10.00s/it]\u001b[A\n",
            "Epoch: 117 | Batch: 0 | Loss 0.15446360409259796: 353it [1:00:43, 10.67s/it]\u001b[A\n",
            "Epoch: 117 | Batch: 1 | Loss 0.14632169902324677: 353it [1:00:43, 10.67s/it]\u001b[A\n",
            "Epoch: 117 | Batch: 1 | Loss 0.14632169902324677: 354it [1:00:47,  8.66s/it]\u001b[A\n",
            "Epoch: 117 | Batch: 2 | Loss 0.04066067934036255: 354it [1:00:47,  8.66s/it]\u001b[A"
          ]
        },
        {
          "output_type": "stream",
          "name": "stdout",
          "text": [
            "Epoch 117 Training Accuracy: tensor(1.)\n",
            "Testing Accuracy: tensor(1.)\n"
          ]
        },
        {
          "output_type": "stream",
          "name": "stderr",
          "text": [
            "\n",
            "Epoch: 117 | Batch: 2 | Loss 0.04066067934036255: 355it [1:01:02, 10.71s/it]\u001b[A\n",
            "Epoch: 118 | Batch: 0 | Loss 0.12893226742744446: 355it [1:01:02, 10.71s/it]\u001b[A\n",
            "Epoch: 118 | Batch: 0 | Loss 0.12893226742744446: 356it [1:01:14, 11.01s/it]\u001b[A\n",
            "Epoch: 118 | Batch: 1 | Loss 0.16385380923748016: 356it [1:01:14, 11.01s/it]\u001b[A\n",
            "Epoch: 118 | Batch: 1 | Loss 0.16385380923748016: 357it [1:01:18,  8.99s/it]\u001b[A\n",
            "Epoch: 118 | Batch: 2 | Loss 0.053675420582294464: 357it [1:01:18,  8.99s/it]\u001b[A"
          ]
        },
        {
          "output_type": "stream",
          "name": "stdout",
          "text": [
            "Epoch 118 Training Accuracy: tensor(1.)\n",
            "Testing Accuracy: tensor(1.)\n"
          ]
        },
        {
          "output_type": "stream",
          "name": "stderr",
          "text": [
            "\n",
            "Epoch: 118 | Batch: 2 | Loss 0.053675420582294464: 358it [1:01:31, 10.27s/it]\u001b[A\n",
            "Epoch: 119 | Batch: 0 | Loss 0.1329096406698227: 358it [1:01:31, 10.27s/it]  \u001b[A\n",
            "Epoch: 119 | Batch: 0 | Loss 0.1329096406698227: 359it [1:01:43, 10.68s/it]\u001b[A\n",
            "Epoch: 119 | Batch: 1 | Loss 0.1361110508441925: 359it [1:01:43, 10.68s/it]\u001b[A\n",
            "Epoch: 119 | Batch: 1 | Loss 0.1361110508441925: 360it [1:01:48,  8.82s/it]\u001b[A\n",
            "Epoch: 119 | Batch: 2 | Loss 0.09080331772565842: 360it [1:01:48,  8.82s/it]\u001b[A"
          ]
        },
        {
          "output_type": "stream",
          "name": "stdout",
          "text": [
            "Epoch 119 Training Accuracy: tensor(1.)\n",
            "Testing Accuracy: tensor(1.)\n"
          ]
        },
        {
          "output_type": "stream",
          "name": "stderr",
          "text": [
            "\n",
            "Epoch: 119 | Batch: 2 | Loss 0.09080331772565842: 361it [1:02:01, 10.12s/it]\u001b[A\n",
            "Epoch: 120 | Batch: 0 | Loss 0.13352356851100922: 361it [1:02:01, 10.12s/it]\u001b[A\n",
            "Epoch: 120 | Batch: 0 | Loss 0.13352356851100922: 362it [1:02:12, 10.50s/it]\u001b[A\n",
            "Epoch: 120 | Batch: 1 | Loss 0.13794711232185364: 362it [1:02:12, 10.50s/it]\u001b[A\n",
            "Epoch: 120 | Batch: 1 | Loss 0.13794711232185364: 363it [1:02:17,  8.75s/it]\u001b[A\n",
            "Epoch: 120 | Batch: 2 | Loss 0.07750636339187622: 363it [1:02:17,  8.75s/it]\u001b[A"
          ]
        },
        {
          "output_type": "stream",
          "name": "stdout",
          "text": [
            "Epoch 120 Training Accuracy: tensor(1.)\n",
            "Testing Accuracy: tensor(1.)\n"
          ]
        },
        {
          "output_type": "stream",
          "name": "stderr",
          "text": [
            "\n",
            "Epoch: 120 | Batch: 2 | Loss 0.07750636339187622: 364it [1:02:30, 10.12s/it]\u001b[A\n",
            "Epoch: 121 | Batch: 0 | Loss 0.16320616006851196: 364it [1:02:30, 10.12s/it]\u001b[A\n",
            "Epoch: 121 | Batch: 0 | Loss 0.16320616006851196: 365it [1:02:41, 10.49s/it]\u001b[A\n",
            "Epoch: 121 | Batch: 1 | Loss 0.12219630926847458: 365it [1:02:41, 10.49s/it]\u001b[A\n",
            "Epoch: 121 | Batch: 1 | Loss 0.12219630926847458: 366it [1:02:46,  8.74s/it]\u001b[A\n",
            "Epoch: 121 | Batch: 2 | Loss 0.03436792269349098: 366it [1:02:46,  8.74s/it]\u001b[A"
          ]
        },
        {
          "output_type": "stream",
          "name": "stdout",
          "text": [
            "Epoch 121 Training Accuracy: tensor(1.)\n",
            "Testing Accuracy: tensor(1.)\n"
          ]
        },
        {
          "output_type": "stream",
          "name": "stderr",
          "text": [
            "\n",
            "Epoch: 121 | Batch: 2 | Loss 0.03436792269349098: 367it [1:02:59, 10.09s/it]\u001b[A\n",
            "Epoch: 122 | Batch: 0 | Loss 0.14035065472126007: 367it [1:02:59, 10.09s/it]\u001b[A\n",
            "Epoch: 122 | Batch: 0 | Loss 0.14035065472126007: 368it [1:03:11, 10.47s/it]\u001b[A\n",
            "Epoch: 122 | Batch: 1 | Loss 0.14556513726711273: 368it [1:03:11, 10.47s/it]\u001b[A\n",
            "Epoch: 122 | Batch: 1 | Loss 0.14556513726711273: 369it [1:03:15,  8.77s/it]\u001b[A\n",
            "Epoch: 122 | Batch: 2 | Loss 0.0231891218572855: 369it [1:03:16,  8.77s/it] \u001b[A"
          ]
        },
        {
          "output_type": "stream",
          "name": "stdout",
          "text": [
            "Epoch 122 Training Accuracy: tensor(1.)\n",
            "Testing Accuracy: tensor(1.)\n"
          ]
        },
        {
          "output_type": "stream",
          "name": "stderr",
          "text": [
            "\n",
            "Epoch: 122 | Batch: 2 | Loss 0.0231891218572855: 370it [1:03:29, 10.08s/it]\u001b[A\n",
            "Epoch: 123 | Batch: 0 | Loss 0.12974531948566437: 370it [1:03:29, 10.08s/it]\u001b[A\n",
            "Epoch: 123 | Batch: 0 | Loss 0.12974531948566437: 371it [1:03:40, 10.47s/it]\u001b[A\n",
            "Epoch: 123 | Batch: 1 | Loss 0.1473730206489563: 371it [1:03:40, 10.47s/it] \u001b[A\n",
            "Epoch: 123 | Batch: 1 | Loss 0.1473730206489563: 372it [1:03:45,  8.75s/it]\u001b[A\n",
            "Epoch: 123 | Batch: 2 | Loss 0.036959514021873474: 372it [1:03:45,  8.75s/it]\u001b[A"
          ]
        },
        {
          "output_type": "stream",
          "name": "stdout",
          "text": [
            "Epoch 123 Training Accuracy: tensor(1.)\n",
            "Testing Accuracy: tensor(1.)\n"
          ]
        },
        {
          "output_type": "stream",
          "name": "stderr",
          "text": [
            "\n",
            "Epoch: 123 | Batch: 2 | Loss 0.036959514021873474: 373it [1:03:58, 10.10s/it]\u001b[A\n",
            "Epoch: 124 | Batch: 0 | Loss 0.11589299887418747: 373it [1:03:58, 10.10s/it] \u001b[A\n",
            "Epoch: 124 | Batch: 0 | Loss 0.11589299887418747: 374it [1:04:09, 10.47s/it]\u001b[A\n",
            "Epoch: 124 | Batch: 1 | Loss 0.1458992063999176: 374it [1:04:09, 10.47s/it] \u001b[A\n",
            "Epoch: 124 | Batch: 1 | Loss 0.1458992063999176: 375it [1:04:14,  8.74s/it]\u001b[A\n",
            "Epoch: 124 | Batch: 2 | Loss 0.060941118746995926: 375it [1:04:14,  8.74s/it]\u001b[A"
          ]
        },
        {
          "output_type": "stream",
          "name": "stdout",
          "text": [
            "Epoch 124 Training Accuracy: tensor(1.)\n",
            "Testing Accuracy: tensor(1.)\n"
          ]
        },
        {
          "output_type": "stream",
          "name": "stderr",
          "text": [
            "\n",
            "Epoch: 124 | Batch: 2 | Loss 0.060941118746995926: 376it [1:04:27, 10.10s/it]\u001b[A\n",
            "Epoch: 125 | Batch: 0 | Loss 0.12357861548662186: 376it [1:04:27, 10.10s/it] \u001b[A\n",
            "Epoch: 125 | Batch: 0 | Loss 0.12357861548662186: 377it [1:04:39, 10.47s/it]\u001b[A\n",
            "Epoch: 125 | Batch: 1 | Loss 0.14343993365764618: 377it [1:04:39, 10.47s/it]\u001b[A\n",
            "Epoch: 125 | Batch: 1 | Loss 0.14343993365764618: 378it [1:04:43,  8.76s/it]\u001b[A\n",
            "Epoch: 125 | Batch: 2 | Loss 0.041075386106967926: 378it [1:04:43,  8.76s/it]\u001b[A"
          ]
        },
        {
          "output_type": "stream",
          "name": "stdout",
          "text": [
            "Epoch 125 Training Accuracy: tensor(1.)\n",
            "Testing Accuracy: tensor(1.)\n"
          ]
        },
        {
          "output_type": "stream",
          "name": "stderr",
          "text": [
            "\n",
            "Epoch: 125 | Batch: 2 | Loss 0.041075386106967926: 379it [1:04:57, 10.28s/it]\u001b[A\n",
            "Epoch: 126 | Batch: 0 | Loss 0.12682652473449707: 379it [1:04:57, 10.28s/it] \u001b[A\n",
            "Epoch: 126 | Batch: 0 | Loss 0.12682652473449707: 380it [1:05:11, 11.24s/it]\u001b[A\n",
            "Epoch: 126 | Batch: 1 | Loss 0.12853124737739563: 380it [1:05:11, 11.24s/it]\u001b[A\n",
            "Epoch: 126 | Batch: 1 | Loss 0.12853124737739563: 381it [1:05:15,  9.04s/it]\u001b[A\n",
            "Epoch: 126 | Batch: 2 | Loss 0.055510569363832474: 381it [1:05:15,  9.04s/it]\u001b[A"
          ]
        },
        {
          "output_type": "stream",
          "name": "stdout",
          "text": [
            "Epoch 126 Training Accuracy: tensor(1.)\n",
            "Testing Accuracy: tensor(1.)\n"
          ]
        },
        {
          "output_type": "stream",
          "name": "stderr",
          "text": [
            "\n",
            "Epoch: 126 | Batch: 2 | Loss 0.055510569363832474: 382it [1:05:28, 10.29s/it]\u001b[A\n",
            "Epoch: 127 | Batch: 0 | Loss 0.13000090420246124: 382it [1:05:28, 10.29s/it] \u001b[A\n",
            "Epoch: 127 | Batch: 0 | Loss 0.13000090420246124: 383it [1:05:40, 10.83s/it]\u001b[A\n",
            "Epoch: 127 | Batch: 1 | Loss 0.11858297139406204: 383it [1:05:40, 10.83s/it]\u001b[A\n",
            "Epoch: 127 | Batch: 1 | Loss 0.11858297139406204: 384it [1:05:44,  8.76s/it]\u001b[A\n",
            "Epoch: 127 | Batch: 2 | Loss 0.0629662424325943: 384it [1:05:44,  8.76s/it] \u001b[A"
          ]
        },
        {
          "output_type": "stream",
          "name": "stdout",
          "text": [
            "Epoch 127 Training Accuracy: tensor(1.)\n",
            "Testing Accuracy: tensor(1.)\n"
          ]
        },
        {
          "output_type": "stream",
          "name": "stderr",
          "text": [
            "\n",
            "Epoch: 127 | Batch: 2 | Loss 0.0629662424325943: 385it [1:05:57, 10.11s/it]\u001b[A\n",
            "Epoch: 128 | Batch: 0 | Loss 0.14153900742530823: 385it [1:05:57, 10.11s/it]\u001b[A\n",
            "Epoch: 128 | Batch: 0 | Loss 0.14153900742530823: 386it [1:06:09, 10.64s/it]\u001b[A\n",
            "Epoch: 128 | Batch: 1 | Loss 0.12017320841550827: 386it [1:06:09, 10.64s/it]\u001b[A\n",
            "Epoch: 128 | Batch: 1 | Loss 0.12017320841550827: 387it [1:06:13,  8.66s/it]\u001b[A\n",
            "Epoch: 128 | Batch: 2 | Loss 0.024926304817199707: 387it [1:06:13,  8.66s/it]\u001b[A"
          ]
        },
        {
          "output_type": "stream",
          "name": "stdout",
          "text": [
            "Epoch 128 Training Accuracy: tensor(1.)\n",
            "Testing Accuracy: tensor(1.)\n"
          ]
        },
        {
          "output_type": "stream",
          "name": "stderr",
          "text": [
            "\n",
            "Epoch: 128 | Batch: 2 | Loss 0.024926304817199707: 388it [1:06:26,  9.98s/it]\u001b[A\n",
            "Epoch: 129 | Batch: 0 | Loss 0.13614080846309662: 388it [1:06:26,  9.98s/it] \u001b[A\n",
            "Epoch: 129 | Batch: 0 | Loss 0.13614080846309662: 389it [1:06:38, 10.55s/it]\u001b[A\n",
            "Epoch: 129 | Batch: 1 | Loss 0.10916437208652496: 389it [1:06:38, 10.55s/it]\u001b[A\n",
            "Epoch: 129 | Batch: 1 | Loss 0.10916437208652496: 390it [1:06:42,  8.67s/it]\u001b[A\n",
            "Epoch: 129 | Batch: 2 | Loss 0.05309538170695305: 390it [1:06:42,  8.67s/it]\u001b[A"
          ]
        },
        {
          "output_type": "stream",
          "name": "stdout",
          "text": [
            "Epoch 129 Training Accuracy: tensor(1.)\n",
            "Testing Accuracy: tensor(1.)\n"
          ]
        },
        {
          "output_type": "stream",
          "name": "stderr",
          "text": [
            "\n",
            "Epoch: 129 | Batch: 2 | Loss 0.05309538170695305: 391it [1:06:56, 10.05s/it]\u001b[A\n",
            "Epoch: 130 | Batch: 0 | Loss 0.09976387023925781: 391it [1:06:56, 10.05s/it]\u001b[A\n",
            "Epoch: 130 | Batch: 0 | Loss 0.09976387023925781: 392it [1:07:07, 10.43s/it]\u001b[A\n",
            "Epoch: 130 | Batch: 1 | Loss 0.13077093660831451: 392it [1:07:07, 10.43s/it]\u001b[A\n",
            "Epoch: 130 | Batch: 1 | Loss 0.13077093660831451: 393it [1:07:11,  8.62s/it]\u001b[A\n",
            "Epoch: 130 | Batch: 2 | Loss 0.07654247432947159: 393it [1:07:11,  8.62s/it]\u001b[A"
          ]
        },
        {
          "output_type": "stream",
          "name": "stdout",
          "text": [
            "Epoch 130 Training Accuracy: tensor(1.)\n",
            "Testing Accuracy: tensor(1.)\n"
          ]
        },
        {
          "output_type": "stream",
          "name": "stderr",
          "text": [
            "\n",
            "Epoch: 130 | Batch: 2 | Loss 0.07654247432947159: 394it [1:07:25, 10.02s/it]\u001b[A\n",
            "Epoch: 131 | Batch: 0 | Loss 0.1269998997449875: 394it [1:07:25, 10.02s/it] \u001b[A\n",
            "Epoch: 131 | Batch: 0 | Loss 0.1269998997449875: 395it [1:07:36, 10.49s/it]\u001b[A\n",
            "Epoch: 131 | Batch: 1 | Loss 0.11264404654502869: 395it [1:07:36, 10.49s/it]\u001b[A\n",
            "Epoch: 131 | Batch: 1 | Loss 0.11264404654502869: 396it [1:07:41,  8.72s/it]\u001b[A\n",
            "Epoch: 131 | Batch: 2 | Loss 0.04604347050189972: 396it [1:07:41,  8.72s/it]\u001b[A"
          ]
        },
        {
          "output_type": "stream",
          "name": "stdout",
          "text": [
            "Epoch 131 Training Accuracy: tensor(1.)\n",
            "Testing Accuracy: tensor(1.)\n"
          ]
        },
        {
          "output_type": "stream",
          "name": "stderr",
          "text": [
            "\n",
            "Epoch: 131 | Batch: 2 | Loss 0.04604347050189972: 397it [1:07:54, 10.05s/it]\u001b[A\n",
            "Epoch: 132 | Batch: 0 | Loss 0.11640595644712448: 397it [1:07:54, 10.05s/it]\u001b[A\n",
            "Epoch: 132 | Batch: 0 | Loss 0.11640595644712448: 398it [1:08:05, 10.46s/it]\u001b[A\n",
            "Epoch: 132 | Batch: 1 | Loss 0.09501621127128601: 398it [1:08:05, 10.46s/it]\u001b[A\n",
            "Epoch: 132 | Batch: 1 | Loss 0.09501621127128601: 399it [1:08:10,  8.71s/it]\u001b[A\n",
            "Epoch: 132 | Batch: 2 | Loss 0.09145776927471161: 399it [1:08:10,  8.71s/it]\u001b[A"
          ]
        },
        {
          "output_type": "stream",
          "name": "stdout",
          "text": [
            "Epoch 132 Training Accuracy: tensor(1.)\n",
            "Testing Accuracy: tensor(1.)\n"
          ]
        },
        {
          "output_type": "stream",
          "name": "stderr",
          "text": [
            "\n",
            "Epoch: 132 | Batch: 2 | Loss 0.09145776927471161: 400it [1:08:23, 10.07s/it]\u001b[A\n",
            "Epoch: 133 | Batch: 0 | Loss 0.12057264894247055: 400it [1:08:23, 10.07s/it]\u001b[A\n",
            "Epoch: 133 | Batch: 0 | Loss 0.12057264894247055: 401it [1:08:35, 10.55s/it]\u001b[A\n",
            "Epoch: 133 | Batch: 1 | Loss 0.1250496506690979: 401it [1:08:35, 10.55s/it] \u001b[A\n",
            "Epoch: 133 | Batch: 1 | Loss 0.1250496506690979: 402it [1:08:39,  8.75s/it]\u001b[A\n",
            "Epoch: 133 | Batch: 2 | Loss 0.02583620324730873: 402it [1:08:39,  8.75s/it]\u001b[A"
          ]
        },
        {
          "output_type": "stream",
          "name": "stdout",
          "text": [
            "Epoch 133 Training Accuracy: tensor(1.)\n",
            "Testing Accuracy: tensor(1.)\n"
          ]
        },
        {
          "output_type": "stream",
          "name": "stderr",
          "text": [
            "\n",
            "Epoch: 133 | Batch: 2 | Loss 0.02583620324730873: 403it [1:08:53, 10.20s/it]\u001b[A\n",
            "Epoch: 134 | Batch: 0 | Loss 0.12312006205320358: 403it [1:08:53, 10.20s/it]\u001b[A\n",
            "Epoch: 134 | Batch: 0 | Loss 0.12312006205320358: 404it [1:09:07, 11.31s/it]\u001b[A\n",
            "Epoch: 134 | Batch: 1 | Loss 0.10835620015859604: 404it [1:09:07, 11.31s/it]\u001b[A\n",
            "Epoch: 134 | Batch: 1 | Loss 0.10835620015859604: 405it [1:09:10,  9.00s/it]\u001b[A\n",
            "Epoch: 134 | Batch: 2 | Loss 0.04522039368748665: 405it [1:09:10,  9.00s/it]\u001b[A"
          ]
        },
        {
          "output_type": "stream",
          "name": "stdout",
          "text": [
            "Epoch 134 Training Accuracy: tensor(1.)\n",
            "Testing Accuracy: tensor(1.)\n"
          ]
        },
        {
          "output_type": "stream",
          "name": "stderr",
          "text": [
            "\n",
            "Epoch: 134 | Batch: 2 | Loss 0.04522039368748665: 406it [1:09:24, 10.29s/it]\u001b[A\n",
            "Epoch: 135 | Batch: 0 | Loss 0.11779796332120895: 406it [1:09:24, 10.29s/it]\u001b[A\n",
            "Epoch: 135 | Batch: 0 | Loss 0.11779796332120895: 407it [1:09:36, 10.99s/it]\u001b[A\n",
            "Epoch: 135 | Batch: 1 | Loss 0.08925390243530273: 407it [1:09:36, 10.99s/it]\u001b[A\n",
            "Epoch: 135 | Batch: 1 | Loss 0.08925390243530273: 408it [1:09:40,  8.77s/it]\u001b[A\n",
            "Epoch: 135 | Batch: 2 | Loss 0.07466433942317963: 408it [1:09:40,  8.77s/it]\u001b[A"
          ]
        },
        {
          "output_type": "stream",
          "name": "stdout",
          "text": [
            "Epoch 135 Training Accuracy: tensor(1.)\n",
            "Testing Accuracy: tensor(1.)\n"
          ]
        },
        {
          "output_type": "stream",
          "name": "stderr",
          "text": [
            "\n",
            "Epoch: 135 | Batch: 2 | Loss 0.07466433942317963: 409it [1:09:53, 10.16s/it]\u001b[A\n",
            "Epoch: 136 | Batch: 0 | Loss 0.10033176839351654: 409it [1:09:53, 10.16s/it]\u001b[A\n",
            "Epoch: 136 | Batch: 0 | Loss 0.10033176839351654: 410it [1:10:06, 10.89s/it]\u001b[A\n",
            "Epoch: 136 | Batch: 1 | Loss 0.1320587396621704: 410it [1:10:06, 10.89s/it] \u001b[A\n",
            "Epoch: 136 | Batch: 1 | Loss 0.1320587396621704: 411it [1:10:10,  8.74s/it]\u001b[A\n",
            "Epoch: 136 | Batch: 2 | Loss 0.032622016966342926: 411it [1:10:10,  8.74s/it]\u001b[A"
          ]
        },
        {
          "output_type": "stream",
          "name": "stdout",
          "text": [
            "Epoch 136 Training Accuracy: tensor(1.)\n",
            "Testing Accuracy: tensor(1.)\n"
          ]
        },
        {
          "output_type": "stream",
          "name": "stderr",
          "text": [
            "\n",
            "Epoch: 136 | Batch: 2 | Loss 0.032622016966342926: 412it [1:10:23, 10.11s/it]\u001b[A\n",
            "Epoch: 137 | Batch: 0 | Loss 0.11593803763389587: 412it [1:10:23, 10.11s/it] \u001b[A\n",
            "Epoch: 137 | Batch: 0 | Loss 0.11593803763389587: 413it [1:10:36, 10.84s/it]\u001b[A\n",
            "Epoch: 137 | Batch: 1 | Loss 0.11792857199907303: 413it [1:10:36, 10.84s/it]\u001b[A\n",
            "Epoch: 137 | Batch: 1 | Loss 0.11792857199907303: 414it [1:10:39,  8.69s/it]\u001b[A\n",
            "Epoch: 137 | Batch: 2 | Loss 0.025523390620946884: 414it [1:10:39,  8.69s/it]\u001b[A"
          ]
        },
        {
          "output_type": "stream",
          "name": "stdout",
          "text": [
            "Epoch 137 Training Accuracy: tensor(1.)\n",
            "Testing Accuracy: tensor(1.)\n"
          ]
        },
        {
          "output_type": "stream",
          "name": "stderr",
          "text": [
            "\n",
            "Epoch: 137 | Batch: 2 | Loss 0.025523390620946884: 415it [1:10:52, 10.07s/it]\u001b[A\n",
            "Epoch: 138 | Batch: 0 | Loss 0.11770257353782654: 415it [1:10:52, 10.07s/it] \u001b[A\n",
            "Epoch: 138 | Batch: 0 | Loss 0.11770257353782654: 416it [1:11:05, 10.79s/it]\u001b[A\n",
            "Epoch: 138 | Batch: 1 | Loss 0.11495445668697357: 416it [1:11:05, 10.79s/it]\u001b[A\n",
            "Epoch: 138 | Batch: 1 | Loss 0.11495445668697357: 417it [1:11:08,  8.61s/it]\u001b[A\n",
            "Epoch: 138 | Batch: 2 | Loss 0.017412716522812843: 417it [1:11:08,  8.61s/it]\u001b[A"
          ]
        },
        {
          "output_type": "stream",
          "name": "stdout",
          "text": [
            "Epoch 138 Training Accuracy: tensor(1.)\n",
            "Testing Accuracy: tensor(1.)\n"
          ]
        },
        {
          "output_type": "stream",
          "name": "stderr",
          "text": [
            "\n",
            "Epoch: 138 | Batch: 2 | Loss 0.017412716522812843: 418it [1:11:22,  9.96s/it]\u001b[A\n",
            "Epoch: 139 | Batch: 0 | Loss 0.11135590821504593: 418it [1:11:22,  9.96s/it] \u001b[A\n",
            "Epoch: 139 | Batch: 0 | Loss 0.11135590821504593: 419it [1:11:34, 10.74s/it]\u001b[A\n",
            "Epoch: 139 | Batch: 1 | Loss 0.10876814275979996: 419it [1:11:34, 10.74s/it]\u001b[A\n",
            "Epoch: 139 | Batch: 1 | Loss 0.10876814275979996: 420it [1:11:38,  8.60s/it]\u001b[A\n",
            "Epoch: 139 | Batch: 2 | Loss 0.035171154886484146: 420it [1:11:38,  8.60s/it]\u001b[A"
          ]
        },
        {
          "output_type": "stream",
          "name": "stdout",
          "text": [
            "Epoch 139 Training Accuracy: tensor(1.)\n",
            "Testing Accuracy: tensor(1.)\n"
          ]
        },
        {
          "output_type": "stream",
          "name": "stderr",
          "text": [
            "\n",
            "Epoch: 139 | Batch: 2 | Loss 0.035171154886484146: 421it [1:11:51,  9.97s/it]\u001b[A\n",
            "Epoch: 140 | Batch: 0 | Loss 0.12360236048698425: 421it [1:11:51,  9.97s/it] \u001b[A\n",
            "Epoch: 140 | Batch: 0 | Loss 0.12360236048698425: 422it [1:12:03, 10.70s/it]\u001b[A\n",
            "Epoch: 140 | Batch: 1 | Loss 0.10498790442943573: 422it [1:12:03, 10.70s/it]\u001b[A\n",
            "Epoch: 140 | Batch: 1 | Loss 0.10498790442943573: 423it [1:12:07,  8.56s/it]\u001b[A\n",
            "Epoch: 140 | Batch: 2 | Loss 0.014564271084964275: 423it [1:12:07,  8.56s/it]\u001b[A"
          ]
        },
        {
          "output_type": "stream",
          "name": "stdout",
          "text": [
            "Epoch 140 Training Accuracy: tensor(1.)\n",
            "Testing Accuracy: tensor(1.)\n"
          ]
        },
        {
          "output_type": "stream",
          "name": "stderr",
          "text": [
            "\n",
            "Epoch: 140 | Batch: 2 | Loss 0.014564271084964275: 424it [1:12:20,  9.95s/it]\u001b[A\n",
            "Epoch: 141 | Batch: 0 | Loss 0.10658644139766693: 424it [1:12:20,  9.95s/it] \u001b[A\n",
            "Epoch: 141 | Batch: 0 | Loss 0.10658644139766693: 425it [1:12:33, 10.72s/it]\u001b[A\n",
            "Epoch: 141 | Batch: 1 | Loss 0.10763663798570633: 425it [1:12:33, 10.72s/it]\u001b[A\n",
            "Epoch: 141 | Batch: 1 | Loss 0.10763663798570633: 426it [1:12:36,  8.59s/it]\u001b[A\n",
            "Epoch: 141 | Batch: 2 | Loss 0.03807321935892105: 426it [1:12:36,  8.59s/it]\u001b[A"
          ]
        },
        {
          "output_type": "stream",
          "name": "stdout",
          "text": [
            "Epoch 141 Training Accuracy: tensor(1.)\n",
            "Testing Accuracy: tensor(1.)\n"
          ]
        },
        {
          "output_type": "stream",
          "name": "stderr",
          "text": [
            "\n",
            "Epoch: 141 | Batch: 2 | Loss 0.03807321935892105: 427it [1:12:51, 10.31s/it]\u001b[A\n",
            "Epoch: 142 | Batch: 0 | Loss 0.1248762309551239: 427it [1:12:51, 10.31s/it] \u001b[A\n",
            "Epoch: 142 | Batch: 0 | Loss 0.1248762309551239: 428it [1:13:04, 11.22s/it]\u001b[A\n",
            "Epoch: 142 | Batch: 1 | Loss 0.0735449343919754: 428it [1:13:04, 11.22s/it]\u001b[A\n",
            "Epoch: 142 | Batch: 1 | Loss 0.0735449343919754: 429it [1:13:07,  8.93s/it]\u001b[A\n",
            "Epoch: 142 | Batch: 2 | Loss 0.061404068022966385: 429it [1:13:07,  8.93s/it]\u001b[A"
          ]
        },
        {
          "output_type": "stream",
          "name": "stdout",
          "text": [
            "Epoch 142 Training Accuracy: tensor(1.)\n",
            "Testing Accuracy: tensor(1.)\n"
          ]
        },
        {
          "output_type": "stream",
          "name": "stderr",
          "text": [
            "\n",
            "Epoch: 142 | Batch: 2 | Loss 0.061404068022966385: 430it [1:13:21, 10.24s/it]\u001b[A\n",
            "Epoch: 143 | Batch: 0 | Loss 0.10165812075138092: 430it [1:13:21, 10.24s/it] \u001b[A\n",
            "Epoch: 143 | Batch: 0 | Loss 0.10165812075138092: 431it [1:13:33, 10.83s/it]\u001b[A\n",
            "Epoch: 143 | Batch: 1 | Loss 0.11158258467912674: 431it [1:13:33, 10.83s/it]\u001b[A\n",
            "Epoch: 143 | Batch: 1 | Loss 0.11158258467912674: 432it [1:13:37,  8.67s/it]\u001b[A\n",
            "Epoch: 143 | Batch: 2 | Loss 0.030297329649329185: 432it [1:13:37,  8.67s/it]\u001b[A"
          ]
        },
        {
          "output_type": "stream",
          "name": "stdout",
          "text": [
            "Epoch 143 Training Accuracy: tensor(1.)\n",
            "Testing Accuracy: tensor(1.)\n"
          ]
        },
        {
          "output_type": "stream",
          "name": "stderr",
          "text": [
            "\n",
            "Epoch: 143 | Batch: 2 | Loss 0.030297329649329185: 433it [1:13:50, 10.05s/it]\u001b[A\n",
            "Epoch: 144 | Batch: 0 | Loss 0.1250312179327011: 433it [1:13:50, 10.05s/it]  \u001b[A\n",
            "Epoch: 144 | Batch: 0 | Loss 0.1250312179327011: 434it [1:14:02, 10.77s/it]\u001b[A\n",
            "Epoch: 144 | Batch: 1 | Loss 0.07795258611440659: 434it [1:14:02, 10.77s/it]\u001b[A\n",
            "Epoch: 144 | Batch: 1 | Loss 0.07795258611440659: 435it [1:14:06,  8.62s/it]\u001b[A\n",
            "Epoch: 144 | Batch: 2 | Loss 0.04158291220664978: 435it [1:14:06,  8.62s/it]\u001b[A"
          ]
        },
        {
          "output_type": "stream",
          "name": "stdout",
          "text": [
            "Epoch 144 Training Accuracy: tensor(1.)\n",
            "Testing Accuracy: tensor(1.)\n"
          ]
        },
        {
          "output_type": "stream",
          "name": "stderr",
          "text": [
            "\n",
            "Epoch: 144 | Batch: 2 | Loss 0.04158291220664978: 436it [1:14:19, 10.02s/it]\u001b[A\n",
            "Epoch: 145 | Batch: 0 | Loss 0.10304663330316544: 436it [1:14:19, 10.02s/it]\u001b[A\n",
            "Epoch: 145 | Batch: 0 | Loss 0.10304663330316544: 437it [1:14:32, 10.78s/it]\u001b[A\n",
            "Epoch: 145 | Batch: 1 | Loss 0.10017768293619156: 437it [1:14:32, 10.78s/it]\u001b[A\n",
            "Epoch: 145 | Batch: 1 | Loss 0.10017768293619156: 438it [1:14:35,  8.63s/it]\u001b[A\n",
            "Epoch: 145 | Batch: 2 | Loss 0.03475598245859146: 438it [1:14:35,  8.63s/it]\u001b[A"
          ]
        },
        {
          "output_type": "stream",
          "name": "stdout",
          "text": [
            "Epoch 145 Training Accuracy: tensor(1.)\n",
            "Testing Accuracy: tensor(1.)\n"
          ]
        },
        {
          "output_type": "stream",
          "name": "stderr",
          "text": [
            "\n",
            "Epoch: 145 | Batch: 2 | Loss 0.03475598245859146: 439it [1:14:49, 10.01s/it]\u001b[A\n",
            "Epoch: 146 | Batch: 0 | Loss 0.11047637462615967: 439it [1:14:49, 10.01s/it]\u001b[A\n",
            "Epoch: 146 | Batch: 0 | Loss 0.11047637462615967: 440it [1:15:01, 10.75s/it]\u001b[A\n",
            "Epoch: 146 | Batch: 1 | Loss 0.09724421799182892: 440it [1:15:01, 10.75s/it]\u001b[A\n",
            "Epoch: 146 | Batch: 1 | Loss 0.09724421799182892: 441it [1:15:05,  8.60s/it]\u001b[A\n",
            "Epoch: 146 | Batch: 2 | Loss 0.02255573496222496: 441it [1:15:05,  8.60s/it]\u001b[A"
          ]
        },
        {
          "output_type": "stream",
          "name": "stdout",
          "text": [
            "Epoch 146 Training Accuracy: tensor(1.)\n",
            "Testing Accuracy: tensor(1.)\n"
          ]
        },
        {
          "output_type": "stream",
          "name": "stderr",
          "text": [
            "\n",
            "Epoch: 146 | Batch: 2 | Loss 0.02255573496222496: 442it [1:15:18,  9.98s/it]\u001b[A\n",
            "Epoch: 147 | Batch: 0 | Loss 0.10845836997032166: 442it [1:15:18,  9.98s/it]\u001b[A\n",
            "Epoch: 147 | Batch: 0 | Loss 0.10845836997032166: 443it [1:15:30, 10.72s/it]\u001b[A\n",
            "Epoch: 147 | Batch: 1 | Loss 0.09420984238386154: 443it [1:15:30, 10.72s/it]\u001b[A\n",
            "Epoch: 147 | Batch: 1 | Loss 0.09420984238386154: 444it [1:15:34,  8.59s/it]\u001b[A\n",
            "Epoch: 147 | Batch: 2 | Loss 0.028008878231048584: 444it [1:15:34,  8.59s/it]\u001b[A"
          ]
        },
        {
          "output_type": "stream",
          "name": "stdout",
          "text": [
            "Epoch 147 Training Accuracy: tensor(1.)\n",
            "Testing Accuracy: tensor(1.)\n"
          ]
        },
        {
          "output_type": "stream",
          "name": "stderr",
          "text": [
            "\n",
            "Epoch: 147 | Batch: 2 | Loss 0.028008878231048584: 445it [1:15:47,  9.99s/it]\u001b[A\n",
            "Epoch: 148 | Batch: 0 | Loss 0.09217130392789841: 445it [1:15:47,  9.99s/it] \u001b[A\n",
            "Epoch: 148 | Batch: 0 | Loss 0.09217130392789841: 446it [1:16:00, 10.75s/it]\u001b[A\n",
            "Epoch: 148 | Batch: 1 | Loss 0.09698866307735443: 446it [1:16:00, 10.75s/it]\u001b[A\n",
            "Epoch: 148 | Batch: 1 | Loss 0.09698866307735443: 447it [1:16:03,  8.60s/it]\u001b[A\n",
            "Epoch: 148 | Batch: 2 | Loss 0.04331861436367035: 447it [1:16:03,  8.60s/it]\u001b[A"
          ]
        },
        {
          "output_type": "stream",
          "name": "stdout",
          "text": [
            "Epoch 148 Training Accuracy: tensor(1.)\n",
            "Testing Accuracy: tensor(1.)\n"
          ]
        },
        {
          "output_type": "stream",
          "name": "stderr",
          "text": [
            "\n",
            "Epoch: 148 | Batch: 2 | Loss 0.04331861436367035: 448it [1:16:16,  9.98s/it]\u001b[A\n",
            "Epoch: 149 | Batch: 0 | Loss 0.1004864051938057: 448it [1:16:17,  9.98s/it] \u001b[A\n",
            "Epoch: 149 | Batch: 0 | Loss 0.1004864051938057: 449it [1:16:29, 10.69s/it]\u001b[A\n",
            "Epoch: 149 | Batch: 1 | Loss 0.10900397598743439: 449it [1:16:29, 10.69s/it]\u001b[A\n",
            "Epoch: 149 | Batch: 1 | Loss 0.10900397598743439: 450it [1:16:32,  8.56s/it]\u001b[A\n",
            "Epoch: 149 | Batch: 2 | Loss 0.011084610596299171: 450it [1:16:32,  8.56s/it]\u001b[A"
          ]
        },
        {
          "output_type": "stream",
          "name": "stdout",
          "text": [
            "Epoch 149 Training Accuracy: tensor(1.)\n",
            "Testing Accuracy: tensor(1.)\n"
          ]
        },
        {
          "output_type": "stream",
          "name": "stderr",
          "text": [
            "\n",
            "Epoch: 149 | Batch: 2 | Loss 0.011084610596299171: 451it [1:16:47, 10.32s/it]\u001b[A\n",
            "Epoch: 150 | Batch: 0 | Loss 0.12320542335510254: 451it [1:16:47, 10.32s/it] \u001b[A\n",
            "Epoch: 150 | Batch: 0 | Loss 0.12320542335510254: 452it [1:17:00, 11.17s/it]\u001b[A\n",
            "Epoch: 150 | Batch: 1 | Loss 0.0748731717467308: 452it [1:17:00, 11.17s/it] \u001b[A\n",
            "Epoch: 150 | Batch: 1 | Loss 0.0748731717467308: 453it [1:17:04,  8.92s/it]\u001b[A\n",
            "Epoch: 150 | Batch: 2 | Loss 0.02636261284351349: 453it [1:17:04,  8.92s/it]\u001b[A"
          ]
        },
        {
          "output_type": "stream",
          "name": "stdout",
          "text": [
            "Epoch 150 Training Accuracy: tensor(1.)\n",
            "Testing Accuracy: tensor(1.)\n"
          ]
        },
        {
          "output_type": "stream",
          "name": "stderr",
          "text": [
            "\n",
            "Epoch: 150 | Batch: 2 | Loss 0.02636261284351349: 454it [1:17:17, 10.23s/it]\u001b[A\n",
            "Epoch: 151 | Batch: 0 | Loss 0.0883384719491005: 454it [1:17:17, 10.23s/it] \u001b[A\n",
            "Epoch: 151 | Batch: 0 | Loss 0.0883384719491005: 455it [1:17:29, 10.91s/it]\u001b[A\n",
            "Epoch: 151 | Batch: 1 | Loss 0.09297315031290054: 455it [1:17:29, 10.91s/it]\u001b[A\n",
            "Epoch: 151 | Batch: 1 | Loss 0.09297315031290054: 456it [1:17:33,  8.72s/it]\u001b[A\n",
            "Epoch: 151 | Batch: 2 | Loss 0.052523087710142136: 456it [1:17:33,  8.72s/it]\u001b[A"
          ]
        },
        {
          "output_type": "stream",
          "name": "stdout",
          "text": [
            "Epoch 151 Training Accuracy: tensor(1.)\n",
            "Testing Accuracy: tensor(1.)\n"
          ]
        },
        {
          "output_type": "stream",
          "name": "stderr",
          "text": [
            "\n",
            "Epoch: 151 | Batch: 2 | Loss 0.052523087710142136: 457it [1:17:47, 10.13s/it]\u001b[A\n",
            "Epoch: 152 | Batch: 0 | Loss 0.0905255600810051: 457it [1:17:47, 10.13s/it]  \u001b[A\n",
            "Epoch: 152 | Batch: 0 | Loss 0.0905255600810051: 458it [1:17:59, 10.83s/it]\u001b[A\n",
            "Epoch: 152 | Batch: 1 | Loss 0.0917324349284172: 458it [1:17:59, 10.83s/it]\u001b[A\n",
            "Epoch: 152 | Batch: 1 | Loss 0.0917324349284172: 459it [1:18:03,  8.67s/it]\u001b[A\n",
            "Epoch: 152 | Batch: 2 | Loss 0.04084905609488487: 459it [1:18:03,  8.67s/it]\u001b[A"
          ]
        },
        {
          "output_type": "stream",
          "name": "stdout",
          "text": [
            "Epoch 152 Training Accuracy: tensor(1.)\n",
            "Testing Accuracy: tensor(1.)\n"
          ]
        },
        {
          "output_type": "stream",
          "name": "stderr",
          "text": [
            "\n",
            "Epoch: 152 | Batch: 2 | Loss 0.04084905609488487: 460it [1:18:16,  9.94s/it]\u001b[A\n",
            "Epoch: 153 | Batch: 0 | Loss 0.10423821955919266: 460it [1:18:16,  9.94s/it]\u001b[A\n",
            "Epoch: 153 | Batch: 0 | Loss 0.10423821955919266: 461it [1:18:28, 10.73s/it]\u001b[A\n",
            "Epoch: 153 | Batch: 1 | Loss 0.09196766465902328: 461it [1:18:28, 10.73s/it]\u001b[A\n",
            "Epoch: 153 | Batch: 1 | Loss 0.09196766465902328: 462it [1:18:32,  8.59s/it]\u001b[A\n",
            "Epoch: 153 | Batch: 2 | Loss 0.01792134717106819: 462it [1:18:32,  8.59s/it]\u001b[A"
          ]
        },
        {
          "output_type": "stream",
          "name": "stdout",
          "text": [
            "Epoch 153 Training Accuracy: tensor(1.)\n",
            "Testing Accuracy: tensor(1.)\n"
          ]
        },
        {
          "output_type": "stream",
          "name": "stderr",
          "text": [
            "\n",
            "Epoch: 153 | Batch: 2 | Loss 0.01792134717106819: 463it [1:18:45, 10.03s/it]\u001b[A\n",
            "Epoch: 154 | Batch: 0 | Loss 0.10225275158882141: 463it [1:18:45, 10.03s/it]\u001b[A\n",
            "Epoch: 154 | Batch: 0 | Loss 0.10225275158882141: 464it [1:18:58, 10.77s/it]\u001b[A\n",
            "Epoch: 154 | Batch: 1 | Loss 0.08578971773386002: 464it [1:18:58, 10.77s/it]\u001b[A\n",
            "Epoch: 154 | Batch: 1 | Loss 0.08578971773386002: 465it [1:19:01,  8.61s/it]\u001b[A\n",
            "Epoch: 154 | Batch: 2 | Loss 0.03151353448629379: 465it [1:19:01,  8.61s/it]\u001b[A"
          ]
        },
        {
          "output_type": "stream",
          "name": "stdout",
          "text": [
            "Epoch 154 Training Accuracy: tensor(1.)\n",
            "Testing Accuracy: tensor(1.)\n"
          ]
        },
        {
          "output_type": "stream",
          "name": "stderr",
          "text": [
            "\n",
            "Epoch: 154 | Batch: 2 | Loss 0.03151353448629379: 466it [1:19:14, 10.01s/it]\u001b[A\n",
            "Epoch: 155 | Batch: 0 | Loss 0.1022193655371666: 466it [1:19:14, 10.01s/it] \u001b[A\n",
            "Epoch: 155 | Batch: 0 | Loss 0.1022193655371666: 467it [1:19:27, 10.67s/it]\u001b[A\n",
            "Epoch: 155 | Batch: 1 | Loss 0.09202194213867188: 467it [1:19:27, 10.67s/it]\u001b[A\n",
            "Epoch: 155 | Batch: 1 | Loss 0.09202194213867188: 468it [1:19:30,  8.53s/it]\u001b[A\n",
            "Epoch: 155 | Batch: 2 | Loss 0.010963736101984978: 468it [1:19:30,  8.53s/it]\u001b[A"
          ]
        },
        {
          "output_type": "stream",
          "name": "stdout",
          "text": [
            "Epoch 155 Training Accuracy: tensor(1.)\n",
            "Testing Accuracy: tensor(1.)\n"
          ]
        },
        {
          "output_type": "stream",
          "name": "stderr",
          "text": [
            "\n",
            "Epoch: 155 | Batch: 2 | Loss 0.010963736101984978: 469it [1:19:43,  9.94s/it]\u001b[A\n",
            "Epoch: 156 | Batch: 0 | Loss 0.0908748060464859: 469it [1:19:43,  9.94s/it]  \u001b[A\n",
            "Epoch: 156 | Batch: 0 | Loss 0.0908748060464859: 470it [1:19:56, 10.68s/it]\u001b[A\n",
            "Epoch: 156 | Batch: 1 | Loss 0.08928676694631577: 470it [1:19:56, 10.68s/it]\u001b[A\n",
            "Epoch: 156 | Batch: 1 | Loss 0.08928676694631577: 471it [1:19:59,  8.55s/it]\u001b[A\n",
            "Epoch: 156 | Batch: 2 | Loss 0.03260717913508415: 471it [1:19:59,  8.55s/it]\u001b[A"
          ]
        },
        {
          "output_type": "stream",
          "name": "stdout",
          "text": [
            "Epoch 156 Training Accuracy: tensor(1.)\n",
            "Testing Accuracy: tensor(1.)\n"
          ]
        },
        {
          "output_type": "stream",
          "name": "stderr",
          "text": [
            "\n",
            "Epoch: 156 | Batch: 2 | Loss 0.03260717913508415: 472it [1:20:13,  9.98s/it]\u001b[A\n",
            "Epoch: 157 | Batch: 0 | Loss 0.10050735622644424: 472it [1:20:13,  9.98s/it]\u001b[A\n",
            "Epoch: 157 | Batch: 0 | Loss 0.10050735622644424: 473it [1:20:25, 10.71s/it]\u001b[A\n",
            "Epoch: 157 | Batch: 1 | Loss 0.09084032475948334: 473it [1:20:25, 10.71s/it]\u001b[A\n",
            "Epoch: 157 | Batch: 1 | Loss 0.09084032475948334: 474it [1:20:29,  8.59s/it]\u001b[A\n",
            "Epoch: 157 | Batch: 2 | Loss 0.009935444220900536: 474it [1:20:29,  8.59s/it]\u001b[A"
          ]
        },
        {
          "output_type": "stream",
          "name": "stdout",
          "text": [
            "Epoch 157 Training Accuracy: tensor(1.)\n",
            "Testing Accuracy: tensor(1.)\n"
          ]
        },
        {
          "output_type": "stream",
          "name": "stderr",
          "text": [
            "\n",
            "Epoch: 157 | Batch: 2 | Loss 0.009935444220900536: 475it [1:20:44, 10.57s/it]\u001b[A\n",
            "Epoch: 158 | Batch: 0 | Loss 0.10120990872383118: 475it [1:20:44, 10.57s/it] \u001b[A\n",
            "Epoch: 158 | Batch: 0 | Loss 0.10120990872383118: 476it [1:20:56, 11.13s/it]\u001b[A\n",
            "Epoch: 158 | Batch: 1 | Loss 0.07021723687648773: 476it [1:20:56, 11.13s/it]\u001b[A\n",
            "Epoch: 158 | Batch: 1 | Loss 0.07021723687648773: 477it [1:21:00,  8.87s/it]\u001b[A\n",
            "Epoch: 158 | Batch: 2 | Loss 0.03966609761118889: 477it [1:21:00,  8.87s/it]\u001b[A"
          ]
        },
        {
          "output_type": "stream",
          "name": "stdout",
          "text": [
            "Epoch 158 Training Accuracy: tensor(1.)\n",
            "Testing Accuracy: tensor(1.)\n"
          ]
        },
        {
          "output_type": "stream",
          "name": "stderr",
          "text": [
            "\n",
            "Epoch: 158 | Batch: 2 | Loss 0.03966609761118889: 478it [1:21:13, 10.20s/it]\u001b[A\n",
            "Epoch: 159 | Batch: 0 | Loss 0.09955023229122162: 478it [1:21:13, 10.20s/it]\u001b[A\n",
            "Epoch: 159 | Batch: 0 | Loss 0.09955023229122162: 479it [1:21:26, 10.82s/it]\u001b[A\n",
            "Epoch: 159 | Batch: 1 | Loss 0.07998011261224747: 479it [1:21:26, 10.82s/it]\u001b[A\n",
            "Epoch: 159 | Batch: 1 | Loss 0.07998011261224747: 480it [1:21:29,  8.65s/it]\u001b[A\n",
            "Epoch: 159 | Batch: 2 | Loss 0.02148309536278248: 480it [1:21:29,  8.65s/it]\u001b[A"
          ]
        },
        {
          "output_type": "stream",
          "name": "stdout",
          "text": [
            "Epoch 159 Training Accuracy: tensor(1.)\n",
            "Testing Accuracy: tensor(1.)\n"
          ]
        },
        {
          "output_type": "stream",
          "name": "stderr",
          "text": [
            "\n",
            "Epoch: 159 | Batch: 2 | Loss 0.02148309536278248: 481it [1:21:42, 10.03s/it]\u001b[A\n",
            "Epoch: 160 | Batch: 0 | Loss 0.08048851788043976: 481it [1:21:42, 10.03s/it]\u001b[A\n",
            "Epoch: 160 | Batch: 0 | Loss 0.08048851788043976: 482it [1:21:55, 10.75s/it]\u001b[A\n",
            "Epoch: 160 | Batch: 1 | Loss 0.09241319447755814: 482it [1:21:55, 10.75s/it]\u001b[A\n",
            "Epoch: 160 | Batch: 1 | Loss 0.09241319447755814: 483it [1:21:58,  8.62s/it]\u001b[A\n",
            "Epoch: 160 | Batch: 2 | Loss 0.030376162379980087: 483it [1:21:58,  8.62s/it]\u001b[A"
          ]
        },
        {
          "output_type": "stream",
          "name": "stdout",
          "text": [
            "Epoch 160 Training Accuracy: tensor(1.)\n",
            "Testing Accuracy: tensor(1.)\n"
          ]
        },
        {
          "output_type": "stream",
          "name": "stderr",
          "text": [
            "\n",
            "Epoch: 160 | Batch: 2 | Loss 0.030376162379980087: 484it [1:22:12, 10.05s/it]\u001b[A\n",
            "Epoch: 161 | Batch: 0 | Loss 0.09790082275867462: 484it [1:22:12, 10.05s/it] \u001b[A\n",
            "Epoch: 161 | Batch: 0 | Loss 0.09790082275867462: 485it [1:22:24, 10.77s/it]\u001b[A\n",
            "Epoch: 161 | Batch: 1 | Loss 0.08265181630849838: 485it [1:22:24, 10.77s/it]\u001b[A\n",
            "Epoch: 161 | Batch: 1 | Loss 0.08265181630849838: 486it [1:22:28,  8.61s/it]\u001b[A\n",
            "Epoch: 161 | Batch: 2 | Loss 0.014281864278018475: 486it [1:22:28,  8.61s/it]\u001b[A"
          ]
        },
        {
          "output_type": "stream",
          "name": "stdout",
          "text": [
            "Epoch 161 Training Accuracy: tensor(1.)\n",
            "Testing Accuracy: tensor(1.)\n"
          ]
        },
        {
          "output_type": "stream",
          "name": "stderr",
          "text": [
            "\n",
            "Epoch: 161 | Batch: 2 | Loss 0.014281864278018475: 487it [1:22:41, 10.01s/it]\u001b[A\n",
            "Epoch: 162 | Batch: 0 | Loss 0.10442393273115158: 487it [1:22:41, 10.01s/it] \u001b[A\n",
            "Epoch: 162 | Batch: 0 | Loss 0.10442393273115158: 488it [1:22:54, 10.76s/it]\u001b[A\n",
            "Epoch: 162 | Batch: 1 | Loss 0.06239156052470207: 488it [1:22:54, 10.76s/it]\u001b[A\n",
            "Epoch: 162 | Batch: 1 | Loss 0.06239156052470207: 489it [1:22:57,  8.51s/it]\u001b[A\n",
            "Epoch: 162 | Batch: 2 | Loss 0.03282755985856056: 489it [1:22:57,  8.51s/it]\u001b[A"
          ]
        },
        {
          "output_type": "stream",
          "name": "stdout",
          "text": [
            "Epoch 162 Training Accuracy: tensor(1.)\n",
            "Testing Accuracy: tensor(1.)\n"
          ]
        },
        {
          "output_type": "stream",
          "name": "stderr",
          "text": [
            "\n",
            "Epoch: 162 | Batch: 2 | Loss 0.03282755985856056: 490it [1:23:10,  9.96s/it]\u001b[A\n",
            "Epoch: 163 | Batch: 0 | Loss 0.07418117672204971: 490it [1:23:10,  9.96s/it]\u001b[A\n",
            "Epoch: 163 | Batch: 0 | Loss 0.07418117672204971: 491it [1:23:23, 10.70s/it]\u001b[A\n",
            "Epoch: 163 | Batch: 1 | Loss 0.08871719986200333: 491it [1:23:23, 10.70s/it]\u001b[A\n",
            "Epoch: 163 | Batch: 1 | Loss 0.08871719986200333: 492it [1:23:26,  8.58s/it]\u001b[A\n",
            "Epoch: 163 | Batch: 2 | Loss 0.03602025285363197: 492it [1:23:26,  8.58s/it]\u001b[A"
          ]
        },
        {
          "output_type": "stream",
          "name": "stdout",
          "text": [
            "Epoch 163 Training Accuracy: tensor(1.)\n",
            "Testing Accuracy: tensor(1.)\n"
          ]
        },
        {
          "output_type": "stream",
          "name": "stderr",
          "text": [
            "\n",
            "Epoch: 163 | Batch: 2 | Loss 0.03602025285363197: 493it [1:23:40,  9.99s/it]\u001b[A\n",
            "Epoch: 164 | Batch: 0 | Loss 0.08578484505414963: 493it [1:23:40,  9.99s/it]\u001b[A\n",
            "Epoch: 164 | Batch: 0 | Loss 0.08578484505414963: 494it [1:23:52, 10.74s/it]\u001b[A\n",
            "Epoch: 164 | Batch: 1 | Loss 0.08336564898490906: 494it [1:23:52, 10.74s/it]\u001b[A\n",
            "Epoch: 164 | Batch: 1 | Loss 0.08336564898490906: 495it [1:23:56,  8.62s/it]\u001b[A\n",
            "Epoch: 164 | Batch: 2 | Loss 0.026638349518179893: 495it [1:23:56,  8.62s/it]\u001b[A"
          ]
        },
        {
          "output_type": "stream",
          "name": "stdout",
          "text": [
            "Epoch 164 Training Accuracy: tensor(1.)\n",
            "Testing Accuracy: tensor(1.)\n"
          ]
        },
        {
          "output_type": "stream",
          "name": "stderr",
          "text": [
            "\n",
            "Epoch: 164 | Batch: 2 | Loss 0.026638349518179893: 496it [1:24:09, 10.03s/it]\u001b[A\n",
            "Epoch: 165 | Batch: 0 | Loss 0.06820116192102432: 496it [1:24:09, 10.03s/it] \u001b[A\n",
            "Epoch: 165 | Batch: 0 | Loss 0.06820116192102432: 497it [1:24:22, 10.80s/it]\u001b[A\n",
            "Epoch: 165 | Batch: 1 | Loss 0.08741459250450134: 497it [1:24:22, 10.80s/it]\u001b[A\n",
            "Epoch: 165 | Batch: 1 | Loss 0.08741459250450134: 498it [1:24:25,  8.53s/it]\u001b[A\n",
            "Epoch: 165 | Batch: 2 | Loss 0.04101809859275818: 498it [1:24:25,  8.53s/it]\u001b[A"
          ]
        },
        {
          "output_type": "stream",
          "name": "stdout",
          "text": [
            "Epoch 165 Training Accuracy: tensor(1.)\n",
            "Testing Accuracy: tensor(1.)\n"
          ]
        },
        {
          "output_type": "stream",
          "name": "stderr",
          "text": [
            "\n",
            "Epoch: 165 | Batch: 2 | Loss 0.04101809859275818: 499it [1:24:40, 10.55s/it]\u001b[A\n",
            "Epoch: 166 | Batch: 0 | Loss 0.09169110655784607: 499it [1:24:40, 10.55s/it]\u001b[A\n",
            "Epoch: 166 | Batch: 0 | Loss 0.09169110655784607: 500it [1:24:54, 11.59s/it]\u001b[A\n",
            "Epoch: 166 | Batch: 1 | Loss 0.08125469833612442: 500it [1:24:54, 11.59s/it]\u001b[A\n",
            "Epoch: 166 | Batch: 1 | Loss 0.08125469833612442: 501it [1:24:59,  9.44s/it]\u001b[A\n",
            "Epoch: 166 | Batch: 2 | Loss 0.01355024240911007: 501it [1:24:59,  9.44s/it]\u001b[A"
          ]
        },
        {
          "output_type": "stream",
          "name": "stdout",
          "text": [
            "Epoch 166 Training Accuracy: tensor(1.)\n",
            "Testing Accuracy: tensor(1.)\n"
          ]
        },
        {
          "output_type": "stream",
          "name": "stderr",
          "text": [
            "\n",
            "Epoch: 166 | Batch: 2 | Loss 0.01355024240911007: 502it [1:25:11, 10.37s/it]\u001b[A\n",
            "Epoch: 167 | Batch: 0 | Loss 0.08316697925329208: 502it [1:25:11, 10.37s/it]\u001b[A\n",
            "Epoch: 167 | Batch: 0 | Loss 0.08316697925329208: 503it [1:25:24, 11.01s/it]\u001b[A\n",
            "Epoch: 167 | Batch: 1 | Loss 0.07063441723585129: 503it [1:25:24, 11.01s/it]\u001b[A\n",
            "Epoch: 167 | Batch: 1 | Loss 0.07063441723585129: 504it [1:25:28,  8.99s/it]\u001b[A\n",
            "Epoch: 167 | Batch: 2 | Loss 0.03777443617582321: 504it [1:25:28,  8.99s/it]\u001b[A"
          ]
        },
        {
          "output_type": "stream",
          "name": "stdout",
          "text": [
            "Epoch 167 Training Accuracy: tensor(1.)\n",
            "Testing Accuracy: tensor(1.)\n"
          ]
        },
        {
          "output_type": "stream",
          "name": "stderr",
          "text": [
            "\n",
            "Epoch: 167 | Batch: 2 | Loss 0.03777443617582321: 505it [1:25:40,  9.98s/it]\u001b[A\n",
            "Epoch: 168 | Batch: 0 | Loss 0.07231323421001434: 505it [1:25:40,  9.98s/it]\u001b[A\n",
            "Epoch: 168 | Batch: 0 | Loss 0.07231323421001434: 506it [1:25:53, 10.72s/it]\u001b[A\n",
            "Epoch: 168 | Batch: 1 | Loss 0.08741708844900131: 506it [1:25:53, 10.72s/it]\u001b[A\n",
            "Epoch: 168 | Batch: 1 | Loss 0.08741708844900131: 507it [1:25:57,  8.75s/it]\u001b[A\n",
            "Epoch: 168 | Batch: 2 | Loss 0.0267005804926157: 507it [1:25:57,  8.75s/it] \u001b[A"
          ]
        },
        {
          "output_type": "stream",
          "name": "stdout",
          "text": [
            "Epoch 168 Training Accuracy: tensor(1.)\n",
            "Testing Accuracy: tensor(1.)\n"
          ]
        },
        {
          "output_type": "stream",
          "name": "stderr",
          "text": [
            "\n",
            "Epoch: 168 | Batch: 2 | Loss 0.0267005804926157: 508it [1:26:10, 10.00s/it]\u001b[A\n",
            "Epoch: 169 | Batch: 0 | Loss 0.06786860525608063: 508it [1:26:10, 10.00s/it]\u001b[A\n",
            "Epoch: 169 | Batch: 0 | Loss 0.06786860525608063: 509it [1:26:22, 10.76s/it]\u001b[A\n",
            "Epoch: 169 | Batch: 1 | Loss 0.0900450274348259: 509it [1:26:22, 10.76s/it] \u001b[A\n",
            "Epoch: 169 | Batch: 1 | Loss 0.0900450274348259: 510it [1:26:28,  9.13s/it]\u001b[A\n",
            "Epoch: 169 | Batch: 2 | Loss 0.025753561407327652: 510it [1:26:28,  9.13s/it]\u001b[A"
          ]
        },
        {
          "output_type": "stream",
          "name": "stdout",
          "text": [
            "Epoch 169 Training Accuracy: tensor(1.)\n",
            "Testing Accuracy: tensor(1.)\n"
          ]
        },
        {
          "output_type": "stream",
          "name": "stderr",
          "text": [
            "\n",
            "Epoch: 169 | Batch: 2 | Loss 0.025753561407327652: 511it [1:26:40, 10.01s/it]\u001b[A\n",
            "Epoch: 170 | Batch: 0 | Loss 0.097524493932724: 511it [1:26:40, 10.01s/it]   \u001b[A\n",
            "Epoch: 170 | Batch: 0 | Loss 0.097524493932724: 512it [1:26:52, 10.74s/it]\u001b[A\n",
            "Epoch: 170 | Batch: 1 | Loss 0.06711819767951965: 512it [1:26:52, 10.74s/it]\u001b[A\n",
            "Epoch: 170 | Batch: 1 | Loss 0.06711819767951965: 513it [1:26:57,  8.89s/it]\u001b[A\n",
            "Epoch: 170 | Batch: 2 | Loss 0.012503409758210182: 513it [1:26:57,  8.89s/it]\u001b[A"
          ]
        },
        {
          "output_type": "stream",
          "name": "stdout",
          "text": [
            "Epoch 170 Training Accuracy: tensor(1.)\n",
            "Testing Accuracy: tensor(1.)\n"
          ]
        },
        {
          "output_type": "stream",
          "name": "stderr",
          "text": [
            "\n",
            "Epoch: 170 | Batch: 2 | Loss 0.012503409758210182: 514it [1:27:09,  9.99s/it]\u001b[A\n",
            "Epoch: 171 | Batch: 0 | Loss 0.07123997062444687: 514it [1:27:09,  9.99s/it] \u001b[A\n",
            "Epoch: 171 | Batch: 0 | Loss 0.07123997062444687: 515it [1:27:21, 10.65s/it]\u001b[A\n",
            "Epoch: 171 | Batch: 1 | Loss 0.0743870958685875: 515it [1:27:21, 10.65s/it] \u001b[A\n",
            "Epoch: 171 | Batch: 1 | Loss 0.0743870958685875: 516it [1:27:26,  8.80s/it]\u001b[A\n",
            "Epoch: 171 | Batch: 2 | Loss 0.037980157881975174: 516it [1:27:26,  8.80s/it]\u001b[A"
          ]
        },
        {
          "output_type": "stream",
          "name": "stdout",
          "text": [
            "Epoch 171 Training Accuracy: tensor(1.)\n",
            "Testing Accuracy: tensor(1.)\n"
          ]
        },
        {
          "output_type": "stream",
          "name": "stderr",
          "text": [
            "\n",
            "Epoch: 171 | Batch: 2 | Loss 0.037980157881975174: 517it [1:27:38,  9.93s/it]\u001b[A\n",
            "Epoch: 172 | Batch: 0 | Loss 0.08337276428937912: 517it [1:27:38,  9.93s/it] \u001b[A\n",
            "Epoch: 172 | Batch: 0 | Loss 0.08337276428937912: 518it [1:27:51, 10.69s/it]\u001b[A\n",
            "Epoch: 172 | Batch: 1 | Loss 0.06001245602965355: 518it [1:27:51, 10.69s/it]\u001b[A\n",
            "Epoch: 172 | Batch: 1 | Loss 0.06001245602965355: 519it [1:27:55,  8.84s/it]\u001b[A\n",
            "Epoch: 172 | Batch: 2 | Loss 0.04290227219462395: 519it [1:27:55,  8.84s/it]\u001b[A"
          ]
        },
        {
          "output_type": "stream",
          "name": "stdout",
          "text": [
            "Epoch 172 Training Accuracy: tensor(1.)\n",
            "Testing Accuracy: tensor(1.)\n"
          ]
        },
        {
          "output_type": "stream",
          "name": "stderr",
          "text": [
            "\n",
            "Epoch: 172 | Batch: 2 | Loss 0.04290227219462395: 520it [1:28:08,  9.96s/it]\u001b[A\n",
            "Epoch: 173 | Batch: 0 | Loss 0.0839238241314888: 520it [1:28:08,  9.96s/it] \u001b[A\n",
            "Epoch: 173 | Batch: 0 | Loss 0.0839238241314888: 521it [1:28:21, 10.74s/it]\u001b[A\n",
            "Epoch: 173 | Batch: 1 | Loss 0.08150418847799301: 521it [1:28:21, 10.74s/it]\u001b[A\n",
            "Epoch: 173 | Batch: 1 | Loss 0.08150418847799301: 522it [1:28:25,  8.88s/it]\u001b[A\n",
            "Epoch: 173 | Batch: 2 | Loss 0.009529384784400463: 522it [1:28:25,  8.88s/it]\u001b[A"
          ]
        },
        {
          "output_type": "stream",
          "name": "stdout",
          "text": [
            "Epoch 173 Training Accuracy: tensor(1.)\n",
            "Testing Accuracy: tensor(1.)\n"
          ]
        },
        {
          "output_type": "stream",
          "name": "stderr",
          "text": [
            "\n",
            "Epoch: 173 | Batch: 2 | Loss 0.009529384784400463: 523it [1:28:40, 10.74s/it]\u001b[A\n",
            "Epoch: 174 | Batch: 0 | Loss 0.06331206858158112: 523it [1:28:40, 10.74s/it] \u001b[A\n",
            "Epoch: 174 | Batch: 0 | Loss 0.06331206858158112: 524it [1:28:52, 10.99s/it]\u001b[A\n",
            "Epoch: 174 | Batch: 1 | Loss 0.08982028812170029: 524it [1:28:52, 10.99s/it]\u001b[A\n",
            "Epoch: 174 | Batch: 1 | Loss 0.08982028812170029: 525it [1:28:57,  9.32s/it]\u001b[A\n",
            "Epoch: 174 | Batch: 2 | Loss 0.02411908656358719: 525it [1:28:57,  9.32s/it]\u001b[A"
          ]
        },
        {
          "output_type": "stream",
          "name": "stdout",
          "text": [
            "Epoch 174 Training Accuracy: tensor(1.)\n",
            "Testing Accuracy: tensor(1.)\n"
          ]
        },
        {
          "output_type": "stream",
          "name": "stderr",
          "text": [
            "\n",
            "Epoch: 174 | Batch: 2 | Loss 0.02411908656358719: 526it [1:29:10, 10.31s/it]\u001b[A\n",
            "Epoch: 175 | Batch: 0 | Loss 0.07886527478694916: 526it [1:29:10, 10.31s/it]\u001b[A\n",
            "Epoch: 175 | Batch: 0 | Loss 0.07886527478694916: 527it [1:29:21, 10.54s/it]\u001b[A\n",
            "Epoch: 175 | Batch: 1 | Loss 0.08450281620025635: 527it [1:29:21, 10.54s/it]\u001b[A\n",
            "Epoch: 175 | Batch: 1 | Loss 0.08450281620025635: 528it [1:29:26,  9.01s/it]\u001b[A\n",
            "Epoch: 175 | Batch: 2 | Loss 0.006640625651925802: 528it [1:29:26,  9.01s/it]\u001b[A"
          ]
        },
        {
          "output_type": "stream",
          "name": "stdout",
          "text": [
            "Epoch 175 Training Accuracy: tensor(1.)\n",
            "Testing Accuracy: tensor(1.)\n"
          ]
        },
        {
          "output_type": "stream",
          "name": "stderr",
          "text": [
            "\n",
            "Epoch: 175 | Batch: 2 | Loss 0.006640625651925802: 529it [1:29:39, 10.01s/it]\u001b[A\n",
            "Epoch: 176 | Batch: 0 | Loss 0.06706538796424866: 529it [1:29:39, 10.01s/it] \u001b[A\n",
            "Epoch: 176 | Batch: 0 | Loss 0.06706538796424866: 530it [1:29:50, 10.46s/it]\u001b[A\n",
            "Epoch: 176 | Batch: 1 | Loss 0.08172964304685593: 530it [1:29:50, 10.46s/it]\u001b[A\n",
            "Epoch: 176 | Batch: 1 | Loss 0.08172964304685593: 531it [1:29:56,  8.93s/it]\u001b[A\n",
            "Epoch: 176 | Batch: 2 | Loss 0.024709008634090424: 531it [1:29:56,  8.93s/it]\u001b[A"
          ]
        },
        {
          "output_type": "stream",
          "name": "stdout",
          "text": [
            "Epoch 176 Training Accuracy: tensor(1.)\n",
            "Testing Accuracy: tensor(1.)\n"
          ]
        },
        {
          "output_type": "stream",
          "name": "stderr",
          "text": [
            "\n",
            "Epoch: 176 | Batch: 2 | Loss 0.024709008634090424: 532it [1:30:08,  9.96s/it]\u001b[A\n",
            "Epoch: 177 | Batch: 0 | Loss 0.08363834768533707: 532it [1:30:08,  9.96s/it] \u001b[A\n",
            "Epoch: 177 | Batch: 0 | Loss 0.08363834768533707: 533it [1:30:20, 10.49s/it]\u001b[A\n",
            "Epoch: 177 | Batch: 1 | Loss 0.05923961475491524: 533it [1:30:20, 10.49s/it]\u001b[A\n",
            "Epoch: 177 | Batch: 1 | Loss 0.05923961475491524: 534it [1:30:25,  8.96s/it]\u001b[A\n",
            "Epoch: 177 | Batch: 2 | Loss 0.028153857216238976: 534it [1:30:25,  8.96s/it]\u001b[A"
          ]
        },
        {
          "output_type": "stream",
          "name": "stdout",
          "text": [
            "Epoch 177 Training Accuracy: tensor(1.)\n",
            "Testing Accuracy: tensor(1.)\n"
          ]
        },
        {
          "output_type": "stream",
          "name": "stderr",
          "text": [
            "\n",
            "Epoch: 177 | Batch: 2 | Loss 0.028153857216238976: 535it [1:30:37,  9.84s/it]\u001b[A\n",
            "Epoch: 178 | Batch: 0 | Loss 0.06772251427173615: 535it [1:30:37,  9.84s/it] \u001b[A\n",
            "Epoch: 178 | Batch: 0 | Loss 0.06772251427173615: 536it [1:30:49, 10.38s/it]\u001b[A\n",
            "Epoch: 178 | Batch: 1 | Loss 0.08127053827047348: 536it [1:30:49, 10.38s/it]\u001b[A\n",
            "Epoch: 178 | Batch: 1 | Loss 0.08127053827047348: 537it [1:30:54,  8.82s/it]\u001b[A\n",
            "Epoch: 178 | Batch: 2 | Loss 0.019116448238492012: 537it [1:30:54,  8.82s/it]\u001b[A"
          ]
        },
        {
          "output_type": "stream",
          "name": "stdout",
          "text": [
            "Epoch 178 Training Accuracy: tensor(1.)\n",
            "Testing Accuracy: tensor(1.)\n"
          ]
        },
        {
          "output_type": "stream",
          "name": "stderr",
          "text": [
            "\n",
            "Epoch: 178 | Batch: 2 | Loss 0.019116448238492012: 538it [1:31:06,  9.83s/it]\u001b[A\n",
            "Epoch: 179 | Batch: 0 | Loss 0.07795537263154984: 538it [1:31:06,  9.83s/it] \u001b[A\n",
            "Epoch: 179 | Batch: 0 | Loss 0.07795537263154984: 539it [1:31:18, 10.34s/it]\u001b[A\n",
            "Epoch: 179 | Batch: 1 | Loss 0.07742279022932053: 539it [1:31:18, 10.34s/it]\u001b[A\n",
            "Epoch: 179 | Batch: 1 | Loss 0.07742279022932053: 540it [1:31:23,  8.78s/it]\u001b[A\n",
            "Epoch: 179 | Batch: 2 | Loss 0.011350708082318306: 540it [1:31:23,  8.78s/it]\u001b[A"
          ]
        },
        {
          "output_type": "stream",
          "name": "stdout",
          "text": [
            "Epoch 179 Training Accuracy: tensor(1.)\n"
          ]
        },
        {
          "output_type": "stream",
          "name": "stderr",
          "text": [
            "\rEpoch: 179 | Batch: 2 | Loss 0.011350708082318306: 540it [1:31:24, 10.16s/it]"
          ]
        },
        {
          "output_type": "stream",
          "name": "stdout",
          "text": [
            "Testing Accuracy: tensor(1.)\n"
          ]
        },
        {
          "output_type": "stream",
          "name": "stderr",
          "text": [
            "\n"
          ]
        }
      ],
      "source": [
        "n_epochs=180\n",
        "optimizer = torch.optim.Adam(lr=0.005, params=model.parameters())\n",
        "criterion = nn.BCELoss()\n",
        "#criterion = torch.nn.CrossEntropyLoss()\n",
        "pbar = tqdm(total=len(mc_trainloader), leave=True)\n",
        "if torch.cuda.is_available():\n",
        "    devname = \"cuda\"\n",
        "else:\n",
        "    devname = \"cpu\"\n",
        "device = torch.device(devname)\n",
        "model.train()\n",
        "model.to(device)\n",
        "\n",
        "max_val=0\n",
        "\n",
        "Test_acc=[]\n",
        "Train_acc=[]\n",
        "file_name=\"Feat_eco_model_222111_vocab_size20_mc\"\n",
        "pbar = tqdm(total=len(mc_trainloader), leave=True)\n",
        "for epoch in range(n_epochs):\n",
        "    acc=0\n",
        "    for batch, (feature, label) in enumerate(mc_trainloader):\n",
        "        optimizer.zero_grad()\n",
        "        feature, label = feature.to(device), label.to(device)\n",
        "        preds = model(feature).squeeze(1)\n",
        "        loss = criterion(preds, label.float())\n",
        "        preds = preds.ravel()\n",
        "        label = label.ravel()\n",
        "        acc += binary_accuracy(preds, label)#(preds == label).sum() / len(preds)\n",
        "        #print(acc)\n",
        "        #print(loss)\n",
        "\n",
        "        loss.backward()\n",
        "        optimizer.step()\n",
        "        pbar.update()\n",
        "        pbar.desc = f\"Epoch: {epoch} | Batch: {batch} | Loss {loss.cpu().detach()}\"\n",
        "        pbar.refresh()\n",
        "    acc=acc/(batch+1)\n",
        "    print('Epoch',epoch,'Training Accuracy:', acc)\n",
        "    feature, label=next(iter(mc_testloader))\n",
        "    preds = model(feature).squeeze(1)\n",
        "    loss = criterion(preds, label.float())\n",
        "    preds = preds.ravel()\n",
        "    label = label.ravel()\n",
        "    acc1 = binary_accuracy(preds, label)\n",
        "    print('Testing Accuracy:', acc1)\n",
        "    Test_acc.append(acc1)\n",
        "    Train_acc.append(acc)\n",
        "    if max_val< (acc1+acc):\n",
        "        max_val=acc1+acc\n",
        "        torch.save(model.state_dict(),file_name)\n",
        "pbar.close()"
      ]
    },
    {
      "cell_type": "code",
      "execution_count": 41,
      "metadata": {
        "id": "DsCVeF18zFgz",
        "colab": {
          "base_uri": "https://localhost:8080/"
        },
        "outputId": "b6f9fc81-84a1-49bd-af3e-1cee5e79bfb5"
      },
      "outputs": [
        {
          "output_type": "stream",
          "name": "stderr",
          "text": [
            "Batch: 0: 100%|██████████| 1/1 [00:01<00:00,  1.32s/it]"
          ]
        },
        {
          "output_type": "stream",
          "name": "stdout",
          "text": [
            "tensor(1.)\n"
          ]
        },
        {
          "output_type": "stream",
          "name": "stderr",
          "text": [
            "\n",
            "<ipython-input-41-5ea85aa1f8fc>:17: UserWarning: Creating a tensor from a list of numpy.ndarrays is extremely slow. Please consider converting the list to a single numpy.ndarray with numpy.array() before converting to a tensor. (Triggered internally at ../torch/csrc/utils/tensor_new.cpp:245.)\n",
            "  preds = torch.tensor(preds).ravel()\n"
          ]
        }
      ],
      "source": [
        "preds = []\n",
        "labels = []\n",
        "pbar = tqdm(total=len(mc_testloader), leave=True)\n",
        "device = torch.device(\"cuda\" if torch.cuda.is_available() else \"cpu\")\n",
        "model.eval()\n",
        "model.to(device)\n",
        "for batch, (feature, label) in enumerate(mc_testloader):\n",
        "  feature, label = feature.to(device), label.to(device)\n",
        "  with torch.no_grad():\n",
        "    predictions = model(feature)\n",
        "    preds.append(predictions.cpu().numpy())\n",
        "    labels.append(label.cpu().numpy())\n",
        "  pbar.update()\n",
        "  pbar.desc = f\"Batch: {batch}\"\n",
        "  pbar.refresh()\n",
        "pbar.close()\n",
        "preds = torch.tensor(preds).ravel()\n",
        "# preds = np.array([1 if pred>=0.5 else 0 for pred in preds])\n",
        "labels = torch.tensor(labels).ravel()\n",
        "#acc = (preds == labels).sum() / len(preds)\n",
        "acc =binary_accuracy(preds, labels)\n",
        "print(acc)"
      ]
    },
    {
      "cell_type": "markdown",
      "source": [
        "## RP task"
      ],
      "metadata": {
        "id": "-GUFIqx89p7D"
      }
    },
    {
      "cell_type": "code",
      "source": [
        "rp_df_train,train_dict=data_frame_simple_txt2vec(rp_data,'rp_train_data')\n",
        "rp_df_test,_=data_frame_simple_txt2vec(rp_data,'rp_test_data',w_dict=train_dict)\n",
        "\n",
        "rp_trainloader = DataLoader(rp_df_train, shuffle=True, batch_size=20)\n",
        "rp_testloader = DataLoader(rp_df_test, shuffle=True, batch_size=31)"
      ],
      "metadata": {
        "id": "V8kPOWu5GOJo"
      },
      "execution_count": 55,
      "outputs": []
    },
    {
      "cell_type": "code",
      "execution_count": 56,
      "metadata": {
        "id": "G62OVp2Cf0oh"
      },
      "outputs": [],
      "source": [
        "model_2=QSANN_text_classifier(2,2,2,1,2,1,v_cab_size=100)"
      ]
    },
    {
      "cell_type": "code",
      "source": [
        "trainable_params = sum(p.numel() for p in model_2.parameters() if p.requires_grad)\n",
        "print(trainable_params)"
      ],
      "metadata": {
        "id": "CTmCQSWIGWel",
        "colab": {
          "base_uri": "https://localhost:8080/"
        },
        "outputId": "fea86070-527e-4cf3-9c9a-fc04ae29501d"
      },
      "execution_count": 50,
      "outputs": [
        {
          "output_type": "stream",
          "name": "stdout",
          "text": [
            "261\n"
          ]
        }
      ]
    },
    {
      "cell_type": "code",
      "source": [
        "n_epochs=300\n",
        "optimizer = torch.optim.Adam(lr=0.005, params=model_2.parameters())\n",
        "criterion = nn.BCELoss()\n",
        "#criterion = torch.nn.CrossEntropyLoss()\n",
        "\n",
        "pbar = tqdm(total=len(rp_trainloader), leave=True)\n",
        "if torch.cuda.is_available():\n",
        "    devname = \"cuda\"\n",
        "else:\n",
        "    devname = \"cpu\"\n",
        "device = torch.device(devname)\n",
        "model_2.train()\n",
        "model_2.to(device)\n",
        "pbar = tqdm(total=len(rp_trainloader), leave=True)\n",
        "\n",
        "file_name=\"Feat_eco_model_222121_vocab_size100_rp\"\n",
        "max_val=0\n",
        "for epoch in range(n_epochs):\n",
        "    acc=0\n",
        "    for batch, (feature, label) in enumerate(rp_trainloader):\n",
        "        optimizer.zero_grad()\n",
        "        feature, label = feature.to(device), label.to(device)\n",
        "        preds = model_2(feature).squeeze(1)\n",
        "        loss = criterion(preds, label.float())\n",
        "        preds = preds.ravel()\n",
        "        label = label.ravel()\n",
        "        acc += binary_accuracy(preds, label)\n",
        "\n",
        "        loss.backward()\n",
        "        optimizer.step()\n",
        "        pbar.update()\n",
        "        pbar.desc = f\"Epoch: {epoch} | Batch: {batch} | Loss {loss.cpu().detach()}\"\n",
        "        pbar.refresh()\n",
        "    acc=acc/(batch+1)\n",
        "    print('Epoch',epoch,'Training Accuracy:', acc)\n",
        "    feature, label=next(iter(rp_testloader))\n",
        "    preds = model_2(feature).squeeze(1)\n",
        "    loss = criterion(preds, label.float())\n",
        "    preds = preds.ravel()\n",
        "    label = label.ravel()\n",
        "    acc1 = binary_accuracy(preds, label)\n",
        "    print('Testing Accuracy:', acc1)\n",
        "    if max_val< (acc1+acc):\n",
        "        max_val=acc1+acc\n",
        "        torch.save(model_2.state_dict(),file_name)\n",
        "pbar.close()"
      ],
      "metadata": {
        "id": "sI3XQ7qAMQXp",
        "colab": {
          "base_uri": "https://localhost:8080/"
        },
        "outputId": "2fb797cf-06ac-4069-a595-08e1ab419639"
      },
      "execution_count": 57,
      "outputs": [
        {
          "output_type": "stream",
          "name": "stderr",
          "text": [
            "\r  0%|          | 0/4 [00:00<?, ?it/s]\n",
            "\n",
            "  0%|          | 0/4 [00:00<?, ?it/s]\n",
            "Epoch: 188 | Batch: 2 | Loss 0.06955476105213165: 755it [2:38:03, 12.56s/it]\n",
            "\n",
            "\n",
            " 25%|██▌       | 1/4 [00:12<00:38, 12.69s/it]\u001b[A\u001b[A\n",
            "\n",
            "Epoch: 0 | Batch: 0 | Loss 0.6306712031364441:  25%|██▌       | 1/4 [00:12<00:38, 12.69s/it]\u001b[A\u001b[A\n",
            "\n",
            "Epoch: 0 | Batch: 0 | Loss 0.6306712031364441:  50%|█████     | 2/4 [00:25<00:25, 12.72s/it]\u001b[A\u001b[A\n",
            "\n",
            "Epoch: 0 | Batch: 1 | Loss 0.6791893839836121:  50%|█████     | 2/4 [00:25<00:25, 12.72s/it]\u001b[A\u001b[A\n",
            "\n",
            "Epoch: 0 | Batch: 1 | Loss 0.6791893839836121:  75%|███████▌  | 3/4 [00:37<00:12, 12.60s/it]\u001b[A\u001b[A\n",
            "\n",
            "Epoch: 0 | Batch: 2 | Loss 0.6786314249038696:  75%|███████▌  | 3/4 [00:37<00:12, 12.60s/it]\u001b[A\u001b[A\n",
            "\n",
            "Epoch: 0 | Batch: 2 | Loss 0.6786314249038696: 100%|██████████| 4/4 [00:47<00:00, 11.34s/it]\u001b[A\u001b[A\n",
            "\n",
            "Epoch: 0 | Batch: 3 | Loss 0.6368054747581482: 100%|██████████| 4/4 [00:47<00:00, 11.34s/it]\u001b[A\u001b[A"
          ]
        },
        {
          "output_type": "stream",
          "name": "stdout",
          "text": [
            "Epoch 0 Training Accuracy: tensor(0.6232)\n",
            "Testing Accuracy: tensor(0.6129)\n"
          ]
        },
        {
          "output_type": "stream",
          "name": "stderr",
          "text": [
            "\n",
            "\n",
            "Epoch: 0 | Batch: 3 | Loss 0.6368054747581482: 5it [01:01, 12.52s/it]                       \u001b[A\u001b[A\n",
            "\n",
            "Epoch: 1 | Batch: 0 | Loss 0.6148362755775452: 5it [01:01, 12.52s/it]\u001b[A\u001b[A\n",
            "\n",
            "Epoch: 1 | Batch: 0 | Loss 0.6148362755775452: 6it [01:15, 12.87s/it]\u001b[A\u001b[A\n",
            "\n",
            "Epoch: 1 | Batch: 1 | Loss 0.6576052308082581: 6it [01:15, 12.87s/it]\u001b[A\u001b[A\n",
            "\n",
            "Epoch: 1 | Batch: 1 | Loss 0.6576052308082581: 7it [01:28, 12.97s/it]\u001b[A\u001b[A\n",
            "\n",
            "Epoch: 1 | Batch: 2 | Loss 0.6245266199111938: 7it [01:28, 12.97s/it]\u001b[A\u001b[A\n",
            "\n",
            "Epoch: 1 | Batch: 2 | Loss 0.6245266199111938: 8it [01:36, 11.26s/it]\u001b[A\u001b[A\n",
            "\n",
            "Epoch: 1 | Batch: 3 | Loss 0.7673068046569824: 8it [01:36, 11.26s/it]\u001b[A\u001b[A"
          ]
        },
        {
          "output_type": "stream",
          "name": "stdout",
          "text": [
            "Epoch 1 Training Accuracy: tensor(0.6125)\n",
            "Testing Accuracy: tensor(0.6129)\n"
          ]
        },
        {
          "output_type": "stream",
          "name": "stderr",
          "text": [
            "\n",
            "\n",
            "Epoch: 1 | Batch: 3 | Loss 0.7673068046569824: 9it [01:50, 12.28s/it]\u001b[A\u001b[A\n",
            "\n",
            "Epoch: 2 | Batch: 0 | Loss 0.5730305910110474: 9it [01:50, 12.28s/it]\u001b[A\u001b[A\n",
            "\n",
            "Epoch: 2 | Batch: 0 | Loss 0.5730305910110474: 10it [02:03, 12.57s/it]\u001b[A\u001b[A\n",
            "\n",
            "Epoch: 2 | Batch: 1 | Loss 0.6400934457778931: 10it [02:03, 12.57s/it]\u001b[A\u001b[A\n",
            "\n",
            "Epoch: 2 | Batch: 1 | Loss 0.6400934457778931: 11it [02:17, 12.76s/it]\u001b[A\u001b[A\n",
            "\n",
            "Epoch: 2 | Batch: 2 | Loss 0.7136434316635132: 11it [02:17, 12.76s/it]\u001b[A\u001b[A\n",
            "\n",
            "Epoch: 2 | Batch: 2 | Loss 0.7136434316635132: 12it [02:26, 11.83s/it]\u001b[A\u001b[A\n",
            "\n",
            "Epoch: 2 | Batch: 3 | Loss 0.7074558138847351: 12it [02:26, 11.83s/it]\u001b[A\u001b[A"
          ]
        },
        {
          "output_type": "stream",
          "name": "stdout",
          "text": [
            "Epoch 2 Training Accuracy: tensor(0.6125)\n",
            "Testing Accuracy: tensor(0.6129)\n"
          ]
        },
        {
          "output_type": "stream",
          "name": "stderr",
          "text": [
            "\n",
            "\n",
            "Epoch: 2 | Batch: 3 | Loss 0.7074558138847351: 13it [02:41, 12.62s/it]\u001b[A\u001b[A\n",
            "\n",
            "Epoch: 3 | Batch: 0 | Loss 0.5911588072776794: 13it [02:41, 12.62s/it]\u001b[A\u001b[A\n",
            "\n",
            "Epoch: 3 | Batch: 0 | Loss 0.5911588072776794: 14it [02:53, 12.46s/it]\u001b[A\u001b[A\n",
            "\n",
            "Epoch: 3 | Batch: 1 | Loss 0.7260136008262634: 14it [02:53, 12.46s/it]\u001b[A\u001b[A\n",
            "\n",
            "Epoch: 3 | Batch: 1 | Loss 0.7260136008262634: 15it [03:08, 13.18s/it]\u001b[A\u001b[A\n",
            "\n",
            "Epoch: 3 | Batch: 2 | Loss 0.6450480222702026: 15it [03:08, 13.18s/it]\u001b[A\u001b[A\n",
            "\n",
            "Epoch: 3 | Batch: 2 | Loss 0.6450480222702026: 16it [03:16, 11.82s/it]\u001b[A\u001b[A\n",
            "\n",
            "Epoch: 3 | Batch: 3 | Loss 0.6459833979606628: 16it [03:16, 11.82s/it]\u001b[A\u001b[A"
          ]
        },
        {
          "output_type": "stream",
          "name": "stdout",
          "text": [
            "Epoch 3 Training Accuracy: tensor(0.6232)\n",
            "Testing Accuracy: tensor(0.6129)\n"
          ]
        },
        {
          "output_type": "stream",
          "name": "stderr",
          "text": [
            "\n",
            "\n",
            "Epoch: 3 | Batch: 3 | Loss 0.6459833979606628: 17it [03:31, 12.58s/it]\u001b[A\u001b[A\n",
            "\n",
            "Epoch: 4 | Batch: 0 | Loss 0.6863293647766113: 17it [03:31, 12.58s/it]\u001b[A\u001b[A\n",
            "\n",
            "Epoch: 4 | Batch: 0 | Loss 0.6863293647766113: 18it [03:44, 12.80s/it]\u001b[A\u001b[A\n",
            "\n",
            "Epoch: 4 | Batch: 1 | Loss 0.6207881569862366: 18it [03:44, 12.80s/it]\u001b[A\u001b[A\n",
            "\n",
            "Epoch: 4 | Batch: 1 | Loss 0.6207881569862366: 19it [03:58, 13.03s/it]\u001b[A\u001b[A\n",
            "\n",
            "Epoch: 4 | Batch: 2 | Loss 0.7001151442527771: 19it [03:58, 13.03s/it]\u001b[A\u001b[A\n",
            "\n",
            "Epoch: 4 | Batch: 2 | Loss 0.7001151442527771: 20it [04:06, 11.62s/it]\u001b[A\u001b[A\n",
            "\n",
            "Epoch: 4 | Batch: 3 | Loss 0.5715706944465637: 20it [04:06, 11.62s/it]\u001b[A\u001b[A"
          ]
        },
        {
          "output_type": "stream",
          "name": "stdout",
          "text": [
            "Epoch 4 Training Accuracy: tensor(0.6339)\n",
            "Testing Accuracy: tensor(0.6129)\n"
          ]
        },
        {
          "output_type": "stream",
          "name": "stderr",
          "text": [
            "\n",
            "\n",
            "Epoch: 4 | Batch: 3 | Loss 0.5715706944465637: 21it [04:20, 12.43s/it]\u001b[A\u001b[A\n",
            "\n",
            "Epoch: 5 | Batch: 0 | Loss 0.6913884282112122: 21it [04:20, 12.43s/it]\u001b[A\u001b[A\n",
            "\n",
            "Epoch: 5 | Batch: 0 | Loss 0.6913884282112122: 22it [04:33, 12.49s/it]\u001b[A\u001b[A\n",
            "\n",
            "Epoch: 5 | Batch: 1 | Loss 0.6073178052902222: 22it [04:33, 12.49s/it]\u001b[A\u001b[A\n",
            "\n",
            "Epoch: 5 | Batch: 1 | Loss 0.6073178052902222: 23it [04:46, 12.74s/it]\u001b[A\u001b[A\n",
            "\n",
            "Epoch: 5 | Batch: 2 | Loss 0.6303702592849731: 23it [04:46, 12.74s/it]\u001b[A\u001b[A\n",
            "\n",
            "Epoch: 5 | Batch: 2 | Loss 0.6303702592849731: 24it [04:56, 11.73s/it]\u001b[A\u001b[A\n",
            "\n",
            "Epoch: 5 | Batch: 3 | Loss 0.6794483065605164: 24it [04:56, 11.73s/it]\u001b[A\u001b[A"
          ]
        },
        {
          "output_type": "stream",
          "name": "stdout",
          "text": [
            "Epoch 5 Training Accuracy: tensor(0.6179)\n",
            "Testing Accuracy: tensor(0.6129)\n"
          ]
        },
        {
          "output_type": "stream",
          "name": "stderr",
          "text": [
            "\n",
            "\n",
            "Epoch: 5 | Batch: 3 | Loss 0.6794483065605164: 25it [05:10, 12.58s/it]\u001b[A\u001b[A\n",
            "\n",
            "Epoch: 6 | Batch: 0 | Loss 0.6066551208496094: 25it [05:10, 12.58s/it]\u001b[A\u001b[A\n",
            "\n",
            "Epoch: 6 | Batch: 0 | Loss 0.6066551208496094: 26it [05:23, 12.71s/it]\u001b[A\u001b[A\n",
            "\n",
            "Epoch: 6 | Batch: 1 | Loss 0.6955021619796753: 26it [05:23, 12.71s/it]\u001b[A\u001b[A\n",
            "\n",
            "Epoch: 6 | Batch: 1 | Loss 0.6955021619796753: 27it [05:36, 12.72s/it]\u001b[A\u001b[A\n",
            "\n",
            "Epoch: 6 | Batch: 2 | Loss 0.7556994557380676: 27it [05:36, 12.72s/it]\u001b[A\u001b[A\n",
            "\n",
            "Epoch: 6 | Batch: 2 | Loss 0.7556994557380676: 28it [05:44, 11.43s/it]\u001b[A\u001b[A\n",
            "\n",
            "Epoch: 6 | Batch: 3 | Loss 0.48644423484802246: 28it [05:44, 11.43s/it]\u001b[A\u001b[A"
          ]
        },
        {
          "output_type": "stream",
          "name": "stdout",
          "text": [
            "Epoch 6 Training Accuracy: tensor(0.6446)\n",
            "Testing Accuracy: tensor(0.6129)\n"
          ]
        },
        {
          "output_type": "stream",
          "name": "stderr",
          "text": [
            "\n",
            "\n",
            "Epoch: 6 | Batch: 3 | Loss 0.48644423484802246: 29it [05:59, 12.43s/it]\u001b[A\u001b[A\n",
            "\n",
            "Epoch: 7 | Batch: 0 | Loss 0.6479418873786926: 29it [05:59, 12.43s/it] \u001b[A\u001b[A\n",
            "\n",
            "Epoch: 7 | Batch: 0 | Loss 0.6479418873786926: 30it [06:13, 12.95s/it]\u001b[A\u001b[A\n",
            "\n",
            "Epoch: 7 | Batch: 1 | Loss 0.658570408821106: 30it [06:13, 12.95s/it] \u001b[A\u001b[A\n",
            "\n",
            "Epoch: 7 | Batch: 1 | Loss 0.658570408821106: 31it [06:28, 13.43s/it]\u001b[A\u001b[A\n",
            "\n",
            "Epoch: 7 | Batch: 2 | Loss 0.665238082408905: 31it [06:28, 13.43s/it]\u001b[A\u001b[A\n",
            "\n",
            "Epoch: 7 | Batch: 2 | Loss 0.665238082408905: 32it [06:37, 12.25s/it]\u001b[A\u001b[A\n",
            "\n",
            "Epoch: 7 | Batch: 3 | Loss 0.5995486378669739: 32it [06:37, 12.25s/it]\u001b[A\u001b[A"
          ]
        },
        {
          "output_type": "stream",
          "name": "stdout",
          "text": [
            "Epoch 7 Training Accuracy: tensor(0.6286)\n",
            "Testing Accuracy: tensor(0.6129)\n"
          ]
        },
        {
          "output_type": "stream",
          "name": "stderr",
          "text": [
            "\n",
            "\n",
            "Epoch: 7 | Batch: 3 | Loss 0.5995486378669739: 33it [06:52, 12.94s/it]\u001b[A\u001b[A\n",
            "\n",
            "Epoch: 8 | Batch: 0 | Loss 0.7275713682174683: 33it [06:52, 12.94s/it]\u001b[A\u001b[A\n",
            "\n",
            "Epoch: 8 | Batch: 0 | Loss 0.7275713682174683: 34it [07:04, 12.82s/it]\u001b[A\u001b[A\n",
            "\n",
            "Epoch: 8 | Batch: 1 | Loss 0.6183673739433289: 34it [07:04, 12.82s/it]\u001b[A\u001b[A\n",
            "\n",
            "Epoch: 8 | Batch: 1 | Loss 0.6183673739433289: 35it [07:17, 12.61s/it]\u001b[A\u001b[A\n",
            "\n",
            "Epoch: 8 | Batch: 2 | Loss 0.5895395278930664: 35it [07:17, 12.61s/it]\u001b[A\u001b[A\n",
            "\n",
            "Epoch: 8 | Batch: 2 | Loss 0.5895395278930664: 36it [07:26, 11.56s/it]\u001b[A\u001b[A\n",
            "\n",
            "Epoch: 8 | Batch: 3 | Loss 0.6516165733337402: 36it [07:26, 11.56s/it]\u001b[A\u001b[A"
          ]
        },
        {
          "output_type": "stream",
          "name": "stdout",
          "text": [
            "Epoch 8 Training Accuracy: tensor(0.6232)\n",
            "Testing Accuracy: tensor(0.6129)\n"
          ]
        },
        {
          "output_type": "stream",
          "name": "stderr",
          "text": [
            "\n",
            "\n",
            "Epoch: 8 | Batch: 3 | Loss 0.6516165733337402: 37it [07:40, 12.40s/it]\u001b[A\u001b[A\n",
            "\n",
            "Epoch: 9 | Batch: 0 | Loss 0.62403404712677: 37it [07:40, 12.40s/it]  \u001b[A\u001b[A\n",
            "\n",
            "Epoch: 9 | Batch: 0 | Loss 0.62403404712677: 38it [07:53, 12.63s/it]\u001b[A\u001b[A\n",
            "\n",
            "Epoch: 9 | Batch: 1 | Loss 0.6668754816055298: 38it [07:53, 12.63s/it]\u001b[A\u001b[A\n",
            "\n",
            "Epoch: 9 | Batch: 1 | Loss 0.6668754816055298: 39it [08:06, 12.84s/it]\u001b[A\u001b[A\n",
            "\n",
            "Epoch: 9 | Batch: 2 | Loss 0.6673678159713745: 39it [08:07, 12.84s/it]\u001b[A\u001b[A\n",
            "\n",
            "Epoch: 9 | Batch: 2 | Loss 0.6673678159713745: 40it [08:14, 11.36s/it]\u001b[A\u001b[A\n",
            "\n",
            "Epoch: 9 | Batch: 3 | Loss 0.605270266532898: 40it [08:14, 11.36s/it] \u001b[A\u001b[A"
          ]
        },
        {
          "output_type": "stream",
          "name": "stdout",
          "text": [
            "Epoch 9 Training Accuracy: tensor(0.6286)\n",
            "Testing Accuracy: tensor(0.6129)\n"
          ]
        },
        {
          "output_type": "stream",
          "name": "stderr",
          "text": [
            "\n",
            "\n",
            "Epoch: 9 | Batch: 3 | Loss 0.605270266532898: 41it [08:30, 12.51s/it]\u001b[A\u001b[A\n",
            "\n",
            "Epoch: 10 | Batch: 0 | Loss 0.6740732789039612: 41it [08:30, 12.51s/it]\u001b[A\u001b[A\n",
            "\n",
            "Epoch: 10 | Batch: 0 | Loss 0.6740732789039612: 42it [08:43, 12.63s/it]\u001b[A\u001b[A\n",
            "\n",
            "Epoch: 10 | Batch: 1 | Loss 0.568551778793335: 42it [08:43, 12.63s/it] \u001b[A\u001b[A\n",
            "\n",
            "Epoch: 10 | Batch: 1 | Loss 0.568551778793335: 43it [08:55, 12.71s/it]\u001b[A\u001b[A\n",
            "\n",
            "Epoch: 10 | Batch: 2 | Loss 0.6837007999420166: 43it [08:55, 12.71s/it]\u001b[A\u001b[A\n",
            "\n",
            "Epoch: 10 | Batch: 2 | Loss 0.6837007999420166: 44it [09:05, 11.70s/it]\u001b[A\u001b[A\n",
            "\n",
            "Epoch: 10 | Batch: 3 | Loss 0.6468793749809265: 44it [09:05, 11.70s/it]\u001b[A\u001b[A"
          ]
        },
        {
          "output_type": "stream",
          "name": "stdout",
          "text": [
            "Epoch 10 Training Accuracy: tensor(0.6232)\n",
            "Testing Accuracy: tensor(0.6129)\n"
          ]
        },
        {
          "output_type": "stream",
          "name": "stderr",
          "text": [
            "\n",
            "\n",
            "Epoch: 10 | Batch: 3 | Loss 0.6468793749809265: 45it [09:19, 12.54s/it]\u001b[A\u001b[A\n",
            "\n",
            "Epoch: 11 | Batch: 0 | Loss 0.6764891743659973: 45it [09:19, 12.54s/it]\u001b[A\u001b[A\n",
            "\n",
            "Epoch: 11 | Batch: 0 | Loss 0.6764891743659973: 46it [09:34, 13.29s/it]\u001b[A\u001b[A\n",
            "\n",
            "Epoch: 11 | Batch: 1 | Loss 0.6428204774856567: 46it [09:34, 13.29s/it]\u001b[A\u001b[A\n",
            "\n",
            "Epoch: 11 | Batch: 1 | Loss 0.6428204774856567: 47it [09:46, 12.85s/it]\u001b[A\u001b[A\n",
            "\n",
            "Epoch: 11 | Batch: 2 | Loss 0.651557981967926: 47it [09:46, 12.85s/it] \u001b[A\u001b[A\n",
            "\n",
            "Epoch: 11 | Batch: 2 | Loss 0.651557981967926: 48it [09:55, 11.71s/it]\u001b[A\u001b[A\n",
            "\n",
            "Epoch: 11 | Batch: 3 | Loss 0.5701701045036316: 48it [09:55, 11.71s/it]\u001b[A\u001b[A"
          ]
        },
        {
          "output_type": "stream",
          "name": "stdout",
          "text": [
            "Epoch 11 Training Accuracy: tensor(0.6339)\n",
            "Testing Accuracy: tensor(0.6129)\n"
          ]
        },
        {
          "output_type": "stream",
          "name": "stderr",
          "text": [
            "\n",
            "\n",
            "Epoch: 11 | Batch: 3 | Loss 0.5701701045036316: 49it [10:09, 12.37s/it]\u001b[A\u001b[A\n",
            "\n",
            "Epoch: 12 | Batch: 0 | Loss 0.5763553380966187: 49it [10:09, 12.37s/it]\u001b[A\u001b[A\n",
            "\n",
            "Epoch: 12 | Batch: 0 | Loss 0.5763553380966187: 50it [10:23, 12.73s/it]\u001b[A\u001b[A\n",
            "\n",
            "Epoch: 12 | Batch: 1 | Loss 0.6928218603134155: 50it [10:23, 12.73s/it]\u001b[A\u001b[A\n",
            "\n",
            "Epoch: 12 | Batch: 1 | Loss 0.6928218603134155: 51it [10:36, 12.89s/it]\u001b[A\u001b[A\n",
            "\n",
            "Epoch: 12 | Batch: 2 | Loss 0.6504996418952942: 51it [10:36, 12.89s/it]\u001b[A\u001b[A\n",
            "\n",
            "Epoch: 12 | Batch: 2 | Loss 0.6504996418952942: 52it [10:44, 11.34s/it]\u001b[A\u001b[A\n",
            "\n",
            "Epoch: 12 | Batch: 3 | Loss 0.6345075368881226: 52it [10:44, 11.34s/it]\u001b[A\u001b[A"
          ]
        },
        {
          "output_type": "stream",
          "name": "stdout",
          "text": [
            "Epoch 12 Training Accuracy: tensor(0.6232)\n",
            "Testing Accuracy: tensor(0.6129)\n"
          ]
        },
        {
          "output_type": "stream",
          "name": "stderr",
          "text": [
            "\n",
            "\n",
            "Epoch: 12 | Batch: 3 | Loss 0.6345075368881226: 53it [10:58, 12.14s/it]\u001b[A\u001b[A\n",
            "\n",
            "Epoch: 13 | Batch: 0 | Loss 0.5922896862030029: 53it [10:58, 12.14s/it]\u001b[A\u001b[A\n",
            "\n",
            "Epoch: 13 | Batch: 0 | Loss 0.5922896862030029: 54it [11:11, 12.59s/it]\u001b[A\u001b[A\n",
            "\n",
            "Epoch: 13 | Batch: 1 | Loss 0.7346358895301819: 54it [11:11, 12.59s/it]\u001b[A\u001b[A\n",
            "\n",
            "Epoch: 13 | Batch: 1 | Loss 0.7346358895301819: 55it [11:25, 12.80s/it]\u001b[A\u001b[A\n",
            "\n",
            "Epoch: 13 | Batch: 2 | Loss 0.6372677087783813: 55it [11:25, 12.80s/it]\u001b[A\u001b[A\n",
            "\n",
            "Epoch: 13 | Batch: 2 | Loss 0.6372677087783813: 56it [11:34, 11.79s/it]\u001b[A\u001b[A\n",
            "\n",
            "Epoch: 13 | Batch: 3 | Loss 0.5595393776893616: 56it [11:34, 11.79s/it]\u001b[A\u001b[A"
          ]
        },
        {
          "output_type": "stream",
          "name": "stdout",
          "text": [
            "Epoch 13 Training Accuracy: tensor(0.6339)\n",
            "Testing Accuracy: tensor(0.6129)\n"
          ]
        },
        {
          "output_type": "stream",
          "name": "stderr",
          "text": [
            "\n",
            "\n",
            "Epoch: 13 | Batch: 3 | Loss 0.5595393776893616: 57it [11:49, 12.72s/it]\u001b[A\u001b[A\n",
            "\n",
            "Epoch: 14 | Batch: 0 | Loss 0.5694069862365723: 57it [11:49, 12.72s/it]\u001b[A\u001b[A\n",
            "\n",
            "Epoch: 14 | Batch: 0 | Loss 0.5694069862365723: 58it [12:02, 12.78s/it]\u001b[A\u001b[A\n",
            "\n",
            "Epoch: 14 | Batch: 1 | Loss 0.6861637830734253: 58it [12:02, 12.78s/it]\u001b[A\u001b[A\n",
            "\n",
            "Epoch: 14 | Batch: 1 | Loss 0.6861637830734253: 59it [12:14, 12.62s/it]\u001b[A\u001b[A\n",
            "\n",
            "Epoch: 14 | Batch: 2 | Loss 0.6761735677719116: 59it [12:14, 12.62s/it]\u001b[A\u001b[A\n",
            "\n",
            "Epoch: 14 | Batch: 2 | Loss 0.6761735677719116: 60it [12:23, 11.39s/it]\u001b[A\u001b[A\n",
            "\n",
            "Epoch: 14 | Batch: 3 | Loss 0.5867791175842285: 60it [12:23, 11.39s/it]\u001b[A\u001b[A"
          ]
        },
        {
          "output_type": "stream",
          "name": "stdout",
          "text": [
            "Epoch 14 Training Accuracy: tensor(0.6232)\n",
            "Testing Accuracy: tensor(0.6129)\n"
          ]
        },
        {
          "output_type": "stream",
          "name": "stderr",
          "text": [
            "\n",
            "\n",
            "Epoch: 14 | Batch: 3 | Loss 0.5867791175842285: 61it [12:37, 12.33s/it]\u001b[A\u001b[A\n",
            "\n",
            "Epoch: 15 | Batch: 0 | Loss 0.5361524224281311: 61it [12:37, 12.33s/it]\u001b[A\u001b[A\n",
            "\n",
            "Epoch: 15 | Batch: 0 | Loss 0.5361524224281311: 62it [12:52, 13.14s/it]\u001b[A\u001b[A\n",
            "\n",
            "Epoch: 15 | Batch: 1 | Loss 0.6748246550559998: 62it [12:52, 13.14s/it]\u001b[A\u001b[A\n",
            "\n",
            "Epoch: 15 | Batch: 1 | Loss 0.6748246550559998: 63it [13:05, 13.15s/it]\u001b[A\u001b[A\n",
            "\n",
            "Epoch: 15 | Batch: 2 | Loss 0.6126433610916138: 63it [13:05, 13.15s/it]\u001b[A\u001b[A\n",
            "\n",
            "Epoch: 15 | Batch: 2 | Loss 0.6126433610916138: 64it [13:13, 11.66s/it]\u001b[A\u001b[A\n",
            "\n",
            "Epoch: 15 | Batch: 3 | Loss 0.7399669885635376: 64it [13:14, 11.66s/it]\u001b[A\u001b[A"
          ]
        },
        {
          "output_type": "stream",
          "name": "stdout",
          "text": [
            "Epoch 15 Training Accuracy: tensor(0.6071)\n",
            "Testing Accuracy: tensor(0.6129)\n"
          ]
        },
        {
          "output_type": "stream",
          "name": "stderr",
          "text": [
            "\n",
            "\n",
            "Epoch: 15 | Batch: 3 | Loss 0.7399669885635376: 65it [13:27, 12.29s/it]\u001b[A\u001b[A\n",
            "\n",
            "Epoch: 16 | Batch: 0 | Loss 0.5869395136833191: 65it [13:27, 12.29s/it]\u001b[A\u001b[A\n",
            "\n",
            "Epoch: 16 | Batch: 0 | Loss 0.5869395136833191: 66it [13:40, 12.58s/it]\u001b[A\u001b[A\n",
            "\n",
            "Epoch: 16 | Batch: 1 | Loss 0.605876088142395: 66it [13:41, 12.58s/it] \u001b[A\u001b[A\n",
            "\n",
            "Epoch: 16 | Batch: 1 | Loss 0.605876088142395: 67it [13:54, 12.71s/it]\u001b[A\u001b[A\n",
            "\n",
            "Epoch: 16 | Batch: 2 | Loss 0.634769856929779: 67it [13:54, 12.71s/it]\u001b[A\u001b[A\n",
            "\n",
            "Epoch: 16 | Batch: 2 | Loss 0.634769856929779: 68it [14:03, 11.72s/it]\u001b[A\u001b[A\n",
            "\n",
            "Epoch: 16 | Batch: 3 | Loss 0.719903290271759: 68it [14:03, 11.72s/it]\u001b[A\u001b[A"
          ]
        },
        {
          "output_type": "stream",
          "name": "stdout",
          "text": [
            "Epoch 16 Training Accuracy: tensor(0.6125)\n",
            "Testing Accuracy: tensor(0.6129)\n"
          ]
        },
        {
          "output_type": "stream",
          "name": "stderr",
          "text": [
            "\n",
            "\n",
            "Epoch: 16 | Batch: 3 | Loss 0.719903290271759: 69it [14:18, 12.61s/it]\u001b[A\u001b[A\n",
            "\n",
            "Epoch: 17 | Batch: 0 | Loss 0.5933889150619507: 69it [14:18, 12.61s/it]\u001b[A\u001b[A\n",
            "\n",
            "Epoch: 17 | Batch: 0 | Loss 0.5933889150619507: 70it [14:31, 12.81s/it]\u001b[A\u001b[A\n",
            "\n",
            "Epoch: 17 | Batch: 1 | Loss 0.5964639782905579: 70it [14:31, 12.81s/it]\u001b[A\u001b[A\n",
            "\n",
            "Epoch: 17 | Batch: 1 | Loss 0.5964639782905579: 71it [14:44, 12.79s/it]\u001b[A\u001b[A\n",
            "\n",
            "Epoch: 17 | Batch: 2 | Loss 0.604266345500946: 71it [14:44, 12.79s/it] \u001b[A\u001b[A\n",
            "\n",
            "Epoch: 17 | Batch: 2 | Loss 0.604266345500946: 72it [14:52, 11.42s/it]\u001b[A\u001b[A\n",
            "\n",
            "Epoch: 17 | Batch: 3 | Loss 0.7641907930374146: 72it [14:52, 11.42s/it]\u001b[A\u001b[A"
          ]
        },
        {
          "output_type": "stream",
          "name": "stdout",
          "text": [
            "Epoch 17 Training Accuracy: tensor(0.6071)\n",
            "Testing Accuracy: tensor(0.6129)\n"
          ]
        },
        {
          "output_type": "stream",
          "name": "stderr",
          "text": [
            "\n",
            "\n",
            "Epoch: 17 | Batch: 3 | Loss 0.7641907930374146: 73it [15:06, 12.24s/it]\u001b[A\u001b[A\n",
            "\n",
            "Epoch: 18 | Batch: 0 | Loss 0.6574795842170715: 73it [15:06, 12.24s/it]\u001b[A\u001b[A\n",
            "\n",
            "Epoch: 18 | Batch: 0 | Loss 0.6574795842170715: 74it [15:19, 12.52s/it]\u001b[A\u001b[A\n",
            "\n",
            "Epoch: 18 | Batch: 1 | Loss 0.5816389918327332: 74it [15:19, 12.52s/it]\u001b[A\u001b[A\n",
            "\n",
            "Epoch: 18 | Batch: 1 | Loss 0.5816389918327332: 75it [15:33, 12.86s/it]\u001b[A\u001b[A\n",
            "\n",
            "Epoch: 18 | Batch: 2 | Loss 0.661486029624939: 75it [15:33, 12.86s/it] \u001b[A\u001b[A\n",
            "\n",
            "Epoch: 18 | Batch: 2 | Loss 0.661486029624939: 76it [15:42, 11.68s/it]\u001b[A\u001b[A\n",
            "\n",
            "Epoch: 18 | Batch: 3 | Loss 0.5831708312034607: 76it [15:42, 11.68s/it]\u001b[A\u001b[A"
          ]
        },
        {
          "output_type": "stream",
          "name": "stdout",
          "text": [
            "Epoch 18 Training Accuracy: tensor(0.6232)\n",
            "Testing Accuracy: tensor(0.6129)\n"
          ]
        },
        {
          "output_type": "stream",
          "name": "stderr",
          "text": [
            "\n",
            "\n",
            "Epoch: 18 | Batch: 3 | Loss 0.5831708312034607: 77it [15:58, 13.00s/it]\u001b[A\u001b[A\n",
            "\n",
            "Epoch: 19 | Batch: 0 | Loss 0.6294114589691162: 77it [15:58, 13.00s/it]\u001b[A\u001b[A\n",
            "\n",
            "Epoch: 19 | Batch: 0 | Loss 0.6294114589691162: 78it [16:11, 13.02s/it]\u001b[A\u001b[A\n",
            "\n",
            "Epoch: 19 | Batch: 1 | Loss 0.533493161201477: 78it [16:11, 13.02s/it] \u001b[A\u001b[A\n",
            "\n",
            "Epoch: 19 | Batch: 1 | Loss 0.533493161201477: 79it [16:24, 13.02s/it]\u001b[A\u001b[A\n",
            "\n",
            "Epoch: 19 | Batch: 2 | Loss 0.711791455745697: 79it [16:24, 13.02s/it]\u001b[A\u001b[A\n",
            "\n",
            "Epoch: 19 | Batch: 2 | Loss 0.711791455745697: 80it [16:34, 12.08s/it]\u001b[A\u001b[A\n",
            "\n",
            "Epoch: 19 | Batch: 3 | Loss 0.6067036986351013: 80it [16:34, 12.08s/it]\u001b[A\u001b[A"
          ]
        },
        {
          "output_type": "stream",
          "name": "stdout",
          "text": [
            "Epoch 19 Training Accuracy: tensor(0.6179)\n",
            "Testing Accuracy: tensor(0.6129)\n"
          ]
        },
        {
          "output_type": "stream",
          "name": "stderr",
          "text": [
            "\n",
            "\n",
            "Epoch: 19 | Batch: 3 | Loss 0.6067036986351013: 81it [16:48, 12.71s/it]\u001b[A\u001b[A\n",
            "\n",
            "Epoch: 20 | Batch: 0 | Loss 0.7083889245986938: 81it [16:48, 12.71s/it]\u001b[A\u001b[A\n",
            "\n",
            "Epoch: 20 | Batch: 0 | Loss 0.7083889245986938: 82it [17:01, 12.86s/it]\u001b[A\u001b[A\n",
            "\n",
            "Epoch: 20 | Batch: 1 | Loss 0.5527046322822571: 82it [17:01, 12.86s/it]\u001b[A\u001b[A\n",
            "\n",
            "Epoch: 20 | Batch: 1 | Loss 0.5527046322822571: 83it [17:15, 13.00s/it]\u001b[A\u001b[A\n",
            "\n",
            "Epoch: 20 | Batch: 2 | Loss 0.5917502641677856: 83it [17:15, 13.00s/it]\u001b[A\u001b[A\n",
            "\n",
            "Epoch: 20 | Batch: 2 | Loss 0.5917502641677856: 84it [17:22, 11.44s/it]\u001b[A\u001b[A\n",
            "\n",
            "Epoch: 20 | Batch: 3 | Loss 0.630555272102356: 84it [17:22, 11.44s/it] \u001b[A\u001b[A"
          ]
        },
        {
          "output_type": "stream",
          "name": "stdout",
          "text": [
            "Epoch 20 Training Accuracy: tensor(0.6232)\n",
            "Testing Accuracy: tensor(0.6129)\n"
          ]
        },
        {
          "output_type": "stream",
          "name": "stderr",
          "text": [
            "\n",
            "\n",
            "Epoch: 20 | Batch: 3 | Loss 0.630555272102356: 85it [17:37, 12.44s/it]\u001b[A\u001b[A\n",
            "\n",
            "Epoch: 21 | Batch: 0 | Loss 0.568139374256134: 85it [17:37, 12.44s/it]\u001b[A\u001b[A\n",
            "\n",
            "Epoch: 21 | Batch: 0 | Loss 0.568139374256134: 86it [17:50, 12.60s/it]\u001b[A\u001b[A\n",
            "\n",
            "Epoch: 21 | Batch: 1 | Loss 0.5981836318969727: 86it [17:50, 12.60s/it]\u001b[A\u001b[A\n",
            "\n",
            "Epoch: 21 | Batch: 1 | Loss 0.5981836318969727: 87it [18:03, 12.77s/it]\u001b[A\u001b[A\n",
            "\n",
            "Epoch: 21 | Batch: 2 | Loss 0.6453498601913452: 87it [18:03, 12.77s/it]\u001b[A\u001b[A\n",
            "\n",
            "Epoch: 21 | Batch: 2 | Loss 0.6453498601913452: 88it [18:13, 11.83s/it]\u001b[A\u001b[A\n",
            "\n",
            "Epoch: 21 | Batch: 3 | Loss 0.6663269400596619: 88it [18:13, 11.83s/it]\u001b[A\u001b[A"
          ]
        },
        {
          "output_type": "stream",
          "name": "stdout",
          "text": [
            "Epoch 21 Training Accuracy: tensor(0.6304)\n",
            "Testing Accuracy: tensor(0.6129)\n"
          ]
        },
        {
          "output_type": "stream",
          "name": "stderr",
          "text": [
            "\n",
            "\n",
            "Epoch: 21 | Batch: 3 | Loss 0.6663269400596619: 89it [18:28, 12.73s/it]\u001b[A\u001b[A\n",
            "\n",
            "Epoch: 22 | Batch: 0 | Loss 0.5912211537361145: 89it [18:28, 12.73s/it]\u001b[A\u001b[A\n",
            "\n",
            "Epoch: 22 | Batch: 0 | Loss 0.5912211537361145: 90it [18:40, 12.66s/it]\u001b[A\u001b[A\n",
            "\n",
            "Epoch: 22 | Batch: 1 | Loss 0.5436745285987854: 90it [18:40, 12.66s/it]\u001b[A\u001b[A\n",
            "\n",
            "Epoch: 22 | Batch: 1 | Loss 0.5436745285987854: 91it [18:53, 12.67s/it]\u001b[A\u001b[A\n",
            "\n",
            "Epoch: 22 | Batch: 2 | Loss 0.6017526388168335: 91it [18:53, 12.67s/it]\u001b[A\u001b[A\n",
            "\n",
            "Epoch: 22 | Batch: 2 | Loss 0.6017526388168335: 92it [19:02, 11.65s/it]\u001b[A\u001b[A\n",
            "\n",
            "Epoch: 22 | Batch: 3 | Loss 0.7605757713317871: 92it [19:02, 11.65s/it]\u001b[A\u001b[A"
          ]
        },
        {
          "output_type": "stream",
          "name": "stdout",
          "text": [
            "Epoch 22 Training Accuracy: tensor(0.6321)\n",
            "Testing Accuracy: tensor(0.6129)\n"
          ]
        },
        {
          "output_type": "stream",
          "name": "stderr",
          "text": [
            "\n",
            "\n",
            "Epoch: 22 | Batch: 3 | Loss 0.7605757713317871: 93it [19:19, 13.18s/it]\u001b[A\u001b[A\n",
            "\n",
            "Epoch: 23 | Batch: 0 | Loss 0.5935567617416382: 93it [19:19, 13.18s/it]\u001b[A\u001b[A\n",
            "\n",
            "Epoch: 23 | Batch: 0 | Loss 0.5935567617416382: 94it [19:32, 13.28s/it]\u001b[A\u001b[A\n",
            "\n",
            "Epoch: 23 | Batch: 1 | Loss 0.5720974206924438: 94it [19:32, 13.28s/it]\u001b[A\u001b[A\n",
            "\n",
            "Epoch: 23 | Batch: 1 | Loss 0.5720974206924438: 95it [19:46, 13.27s/it]\u001b[A\u001b[A\n",
            "\n",
            "Epoch: 23 | Batch: 2 | Loss 0.7275181412696838: 95it [19:46, 13.27s/it]\u001b[A\u001b[A\n",
            "\n",
            "Epoch: 23 | Batch: 2 | Loss 0.7275181412696838: 96it [19:54, 11.93s/it]\u001b[A\u001b[A\n",
            "\n",
            "Epoch: 23 | Batch: 3 | Loss 0.5139942169189453: 96it [19:54, 11.93s/it]\u001b[A\u001b[A"
          ]
        },
        {
          "output_type": "stream",
          "name": "stdout",
          "text": [
            "Epoch 23 Training Accuracy: tensor(0.6643)\n",
            "Testing Accuracy: tensor(0.6129)\n"
          ]
        },
        {
          "output_type": "stream",
          "name": "stderr",
          "text": [
            "\n",
            "\n",
            "Epoch: 23 | Batch: 3 | Loss 0.5139942169189453: 97it [20:08, 12.42s/it]\u001b[A\u001b[A\n",
            "\n",
            "Epoch: 24 | Batch: 0 | Loss 0.5659801959991455: 97it [20:08, 12.42s/it]\u001b[A\u001b[A\n",
            "\n",
            "Epoch: 24 | Batch: 0 | Loss 0.5659801959991455: 98it [20:22, 12.81s/it]\u001b[A\u001b[A\n",
            "\n",
            "Epoch: 24 | Batch: 1 | Loss 0.6536186337471008: 98it [20:22, 12.81s/it]\u001b[A\u001b[A\n",
            "\n",
            "Epoch: 24 | Batch: 1 | Loss 0.6536186337471008: 99it [20:35, 12.92s/it]\u001b[A\u001b[A\n",
            "\n",
            "Epoch: 24 | Batch: 2 | Loss 0.6568844318389893: 99it [20:35, 12.92s/it]\u001b[A\u001b[A\n",
            "\n",
            "Epoch: 24 | Batch: 2 | Loss 0.6568844318389893: 100it [20:44, 11.90s/it]\u001b[A\u001b[A\n",
            "\n",
            "Epoch: 24 | Batch: 3 | Loss 0.5109001994132996: 100it [20:44, 11.90s/it]\u001b[A\u001b[A"
          ]
        },
        {
          "output_type": "stream",
          "name": "stdout",
          "text": [
            "Epoch 24 Training Accuracy: tensor(0.6464)\n",
            "Testing Accuracy: tensor(0.6129)\n"
          ]
        },
        {
          "output_type": "stream",
          "name": "stderr",
          "text": [
            "\n",
            "\n",
            "Epoch: 24 | Batch: 3 | Loss 0.5109001994132996: 101it [20:59, 12.67s/it]\u001b[A\u001b[A\n",
            "\n",
            "Epoch: 25 | Batch: 0 | Loss 0.6121273636817932: 101it [20:59, 12.67s/it]\u001b[A\u001b[A\n",
            "\n",
            "Epoch: 25 | Batch: 0 | Loss 0.6121273636817932: 102it [21:13, 12.97s/it]\u001b[A\u001b[A\n",
            "\n",
            "Epoch: 25 | Batch: 1 | Loss 0.6338592171669006: 102it [21:13, 12.97s/it]\u001b[A\u001b[A\n",
            "\n",
            "Epoch: 25 | Batch: 1 | Loss 0.6338592171669006: 103it [21:26, 12.99s/it]\u001b[A\u001b[A\n",
            "\n",
            "Epoch: 25 | Batch: 2 | Loss 0.6385533809661865: 103it [21:26, 12.99s/it]\u001b[A\u001b[A\n",
            "\n",
            "Epoch: 25 | Batch: 2 | Loss 0.6385533809661865: 104it [21:33, 11.41s/it]\u001b[A\u001b[A\n",
            "\n",
            "Epoch: 25 | Batch: 3 | Loss 0.4858587086200714: 104it [21:33, 11.41s/it]\u001b[A\u001b[A"
          ]
        },
        {
          "output_type": "stream",
          "name": "stdout",
          "text": [
            "Epoch 25 Training Accuracy: tensor(0.6643)\n",
            "Testing Accuracy: tensor(0.6129)\n"
          ]
        },
        {
          "output_type": "stream",
          "name": "stderr",
          "text": [
            "\n",
            "\n",
            "Epoch: 25 | Batch: 3 | Loss 0.4858587086200714: 105it [21:47, 12.19s/it]\u001b[A\u001b[A\n",
            "\n",
            "Epoch: 26 | Batch: 0 | Loss 0.6234264373779297: 105it [21:47, 12.19s/it]\u001b[A\u001b[A\n",
            "\n",
            "Epoch: 26 | Batch: 0 | Loss 0.6234264373779297: 106it [22:01, 12.66s/it]\u001b[A\u001b[A\n",
            "\n",
            "Epoch: 26 | Batch: 1 | Loss 0.5399912595748901: 106it [22:01, 12.66s/it]\u001b[A\u001b[A\n",
            "\n",
            "Epoch: 26 | Batch: 1 | Loss 0.5399912595748901: 107it [22:16, 13.35s/it]\u001b[A\u001b[A\n",
            "\n",
            "Epoch: 26 | Batch: 2 | Loss 0.6596641540527344: 107it [22:16, 13.35s/it]\u001b[A\u001b[A\n",
            "\n",
            "Epoch: 26 | Batch: 2 | Loss 0.6596641540527344: 108it [22:26, 12.38s/it]\u001b[A\u001b[A\n",
            "\n",
            "Epoch: 26 | Batch: 3 | Loss 0.5569084882736206: 108it [22:26, 12.38s/it]\u001b[A\u001b[A"
          ]
        },
        {
          "output_type": "stream",
          "name": "stdout",
          "text": [
            "Epoch 26 Training Accuracy: tensor(0.6536)\n",
            "Testing Accuracy: tensor(0.6129)\n"
          ]
        },
        {
          "output_type": "stream",
          "name": "stderr",
          "text": [
            "\n",
            "\n",
            "Epoch: 26 | Batch: 3 | Loss 0.5569084882736206: 109it [22:40, 12.81s/it]\u001b[A\u001b[A\n",
            "\n",
            "Epoch: 27 | Batch: 0 | Loss 0.6419363617897034: 109it [22:40, 12.81s/it]\u001b[A\u001b[A\n",
            "\n",
            "Epoch: 27 | Batch: 0 | Loss 0.6419363617897034: 110it [22:53, 12.87s/it]\u001b[A\u001b[A\n",
            "\n",
            "Epoch: 27 | Batch: 1 | Loss 0.6006314158439636: 110it [22:53, 12.87s/it]\u001b[A\u001b[A\n",
            "\n",
            "Epoch: 27 | Batch: 1 | Loss 0.6006314158439636: 111it [23:05, 12.68s/it]\u001b[A\u001b[A\n",
            "\n",
            "Epoch: 27 | Batch: 2 | Loss 0.5839113593101501: 111it [23:05, 12.68s/it]\u001b[A\u001b[A\n",
            "\n",
            "Epoch: 27 | Batch: 2 | Loss 0.5839113593101501: 112it [23:14, 11.49s/it]\u001b[A\u001b[A\n",
            "\n",
            "Epoch: 27 | Batch: 3 | Loss 0.5238105058670044: 112it [23:14, 11.49s/it]\u001b[A\u001b[A"
          ]
        },
        {
          "output_type": "stream",
          "name": "stdout",
          "text": [
            "Epoch 27 Training Accuracy: tensor(0.6589)\n",
            "Testing Accuracy: tensor(0.6129)\n"
          ]
        },
        {
          "output_type": "stream",
          "name": "stderr",
          "text": [
            "\n",
            "\n",
            "Epoch: 27 | Batch: 3 | Loss 0.5238105058670044: 113it [23:29, 12.49s/it]\u001b[A\u001b[A\n",
            "\n",
            "Epoch: 28 | Batch: 0 | Loss 0.6423576474189758: 113it [23:29, 12.49s/it]\u001b[A\u001b[A\n",
            "\n",
            "Epoch: 28 | Batch: 0 | Loss 0.6423576474189758: 114it [23:42, 12.70s/it]\u001b[A\u001b[A\n",
            "\n",
            "Epoch: 28 | Batch: 1 | Loss 0.5922958850860596: 114it [23:42, 12.70s/it]\u001b[A\u001b[A\n",
            "\n",
            "Epoch: 28 | Batch: 1 | Loss 0.5922958850860596: 115it [23:55, 12.85s/it]\u001b[A\u001b[A\n",
            "\n",
            "Epoch: 28 | Batch: 2 | Loss 0.5446600914001465: 115it [23:55, 12.85s/it]\u001b[A\u001b[A\n",
            "\n",
            "Epoch: 28 | Batch: 2 | Loss 0.5446600914001465: 116it [24:04, 11.61s/it]\u001b[A\u001b[A\n",
            "\n",
            "Epoch: 28 | Batch: 3 | Loss 0.5703453421592712: 116it [24:04, 11.61s/it]\u001b[A\u001b[A"
          ]
        },
        {
          "output_type": "stream",
          "name": "stdout",
          "text": [
            "Epoch 28 Training Accuracy: tensor(0.6482)\n",
            "Testing Accuracy: tensor(0.6129)\n"
          ]
        },
        {
          "output_type": "stream",
          "name": "stderr",
          "text": [
            "\n",
            "\n",
            "Epoch: 28 | Batch: 3 | Loss 0.5703453421592712: 117it [24:18, 12.27s/it]\u001b[A\u001b[A\n",
            "\n",
            "Epoch: 29 | Batch: 0 | Loss 0.5235148668289185: 117it [24:18, 12.27s/it]\u001b[A\u001b[A\n",
            "\n",
            "Epoch: 29 | Batch: 0 | Loss 0.5235148668289185: 118it [24:30, 12.34s/it]\u001b[A\u001b[A\n",
            "\n",
            "Epoch: 29 | Batch: 1 | Loss 0.5999543070793152: 118it [24:30, 12.34s/it]\u001b[A\u001b[A\n",
            "\n",
            "Epoch: 29 | Batch: 1 | Loss 0.5999543070793152: 119it [24:43, 12.54s/it]\u001b[A\u001b[A\n",
            "\n",
            "Epoch: 29 | Batch: 2 | Loss 0.5913909077644348: 119it [24:43, 12.54s/it]\u001b[A\u001b[A\n",
            "\n",
            "Epoch: 29 | Batch: 2 | Loss 0.5913909077644348: 120it [24:53, 11.79s/it]\u001b[A\u001b[A\n",
            "\n",
            "Epoch: 29 | Batch: 3 | Loss 0.6405460238456726: 120it [24:53, 11.79s/it]\u001b[A\u001b[A"
          ]
        },
        {
          "output_type": "stream",
          "name": "stdout",
          "text": [
            "Epoch 29 Training Accuracy: tensor(0.6429)\n",
            "Testing Accuracy: tensor(0.6129)\n"
          ]
        },
        {
          "output_type": "stream",
          "name": "stderr",
          "text": [
            "\n",
            "\n",
            "Epoch: 29 | Batch: 3 | Loss 0.6405460238456726: 121it [25:07, 12.46s/it]\u001b[A\u001b[A\n",
            "\n",
            "Epoch: 30 | Batch: 0 | Loss 0.6513537764549255: 121it [25:07, 12.46s/it]\u001b[A\u001b[A\n",
            "\n",
            "Epoch: 30 | Batch: 0 | Loss 0.6513537764549255: 122it [25:21, 12.94s/it]\u001b[A\u001b[A\n",
            "\n",
            "Epoch: 30 | Batch: 1 | Loss 0.6121037602424622: 122it [25:21, 12.94s/it]\u001b[A\u001b[A\n",
            "\n",
            "Epoch: 30 | Batch: 1 | Loss 0.6121037602424622: 123it [25:36, 13.31s/it]\u001b[A\u001b[A\n",
            "\n",
            "Epoch: 30 | Batch: 2 | Loss 0.5370244383811951: 123it [25:36, 13.31s/it]\u001b[A\u001b[A\n",
            "\n",
            "Epoch: 30 | Batch: 2 | Loss 0.5370244383811951: 124it [25:43, 11.64s/it]\u001b[A\u001b[A\n",
            "\n",
            "Epoch: 30 | Batch: 3 | Loss 0.4928595721721649: 124it [25:43, 11.64s/it]\u001b[A\u001b[A"
          ]
        },
        {
          "output_type": "stream",
          "name": "stdout",
          "text": [
            "Epoch 30 Training Accuracy: tensor(0.6589)\n",
            "Testing Accuracy: tensor(0.6129)\n"
          ]
        },
        {
          "output_type": "stream",
          "name": "stderr",
          "text": [
            "\n",
            "\n",
            "Epoch: 30 | Batch: 3 | Loss 0.4928595721721649: 125it [25:58, 12.63s/it]\u001b[A\u001b[A\n",
            "\n",
            "Epoch: 31 | Batch: 0 | Loss 0.5897995829582214: 125it [25:58, 12.63s/it]\u001b[A\u001b[A\n",
            "\n",
            "Epoch: 31 | Batch: 0 | Loss 0.5897995829582214: 126it [26:11, 12.78s/it]\u001b[A\u001b[A\n",
            "\n",
            "Epoch: 31 | Batch: 1 | Loss 0.4987173080444336: 126it [26:11, 12.78s/it]\u001b[A\u001b[A\n",
            "\n",
            "Epoch: 31 | Batch: 1 | Loss 0.4987173080444336: 127it [26:25, 12.92s/it]\u001b[A\u001b[A\n",
            "\n",
            "Epoch: 31 | Batch: 2 | Loss 0.6387003660202026: 127it [26:25, 12.92s/it]\u001b[A\u001b[A\n",
            "\n",
            "Epoch: 31 | Batch: 2 | Loss 0.6387003660202026: 128it [26:34, 11.90s/it]\u001b[A\u001b[A\n",
            "\n",
            "Epoch: 31 | Batch: 3 | Loss 0.565473735332489: 128it [26:34, 11.90s/it] \u001b[A\u001b[A"
          ]
        },
        {
          "output_type": "stream",
          "name": "stdout",
          "text": [
            "Epoch 31 Training Accuracy: tensor(0.6661)\n",
            "Testing Accuracy: tensor(0.6129)\n"
          ]
        },
        {
          "output_type": "stream",
          "name": "stderr",
          "text": [
            "\n",
            "\n",
            "Epoch: 31 | Batch: 3 | Loss 0.565473735332489: 129it [26:48, 12.55s/it]\u001b[A\u001b[A\n",
            "\n",
            "Epoch: 32 | Batch: 0 | Loss 0.6712346076965332: 129it [26:48, 12.55s/it]\u001b[A\u001b[A\n",
            "\n",
            "Epoch: 32 | Batch: 0 | Loss 0.6712346076965332: 130it [27:01, 12.61s/it]\u001b[A\u001b[A\n",
            "\n",
            "Epoch: 32 | Batch: 1 | Loss 0.5467692017555237: 130it [27:01, 12.61s/it]\u001b[A\u001b[A\n",
            "\n",
            "Epoch: 32 | Batch: 1 | Loss 0.5467692017555237: 131it [27:14, 12.75s/it]\u001b[A\u001b[A\n",
            "\n",
            "Epoch: 32 | Batch: 2 | Loss 0.4936399459838867: 131it [27:14, 12.75s/it]\u001b[A\u001b[A\n",
            "\n",
            "Epoch: 32 | Batch: 2 | Loss 0.4936399459838867: 132it [27:24, 11.91s/it]\u001b[A\u001b[A\n",
            "\n",
            "Epoch: 32 | Batch: 3 | Loss 0.5592243671417236: 132it [27:24, 11.91s/it]\u001b[A\u001b[A"
          ]
        },
        {
          "output_type": "stream",
          "name": "stdout",
          "text": [
            "Epoch 32 Training Accuracy: tensor(0.6607)\n",
            "Testing Accuracy: tensor(0.6129)\n"
          ]
        },
        {
          "output_type": "stream",
          "name": "stderr",
          "text": [
            "\n",
            "\n",
            "Epoch: 32 | Batch: 3 | Loss 0.5592243671417236: 133it [27:39, 12.79s/it]\u001b[A\u001b[A\n",
            "\n",
            "Epoch: 33 | Batch: 0 | Loss 0.5621005296707153: 133it [27:39, 12.79s/it]\u001b[A\u001b[A\n",
            "\n",
            "Epoch: 33 | Batch: 0 | Loss 0.5621005296707153: 134it [27:53, 13.10s/it]\u001b[A\u001b[A\n",
            "\n",
            "Epoch: 33 | Batch: 1 | Loss 0.6178137063980103: 134it [27:53, 13.10s/it]\u001b[A\u001b[A\n",
            "\n",
            "Epoch: 33 | Batch: 1 | Loss 0.6178137063980103: 135it [28:07, 13.37s/it]\u001b[A\u001b[A\n",
            "\n",
            "Epoch: 33 | Batch: 2 | Loss 0.5772747993469238: 135it [28:07, 13.37s/it]\u001b[A\u001b[A\n",
            "\n",
            "Epoch: 33 | Batch: 2 | Loss 0.5772747993469238: 136it [28:16, 12.25s/it]\u001b[A\u001b[A\n",
            "\n",
            "Epoch: 33 | Batch: 3 | Loss 0.45983463525772095: 136it [28:16, 12.25s/it]\u001b[A\u001b[A"
          ]
        },
        {
          "output_type": "stream",
          "name": "stdout",
          "text": [
            "Epoch 33 Training Accuracy: tensor(0.6893)\n",
            "Testing Accuracy: tensor(0.6129)\n"
          ]
        },
        {
          "output_type": "stream",
          "name": "stderr",
          "text": [
            "\n",
            "\n",
            "Epoch: 33 | Batch: 3 | Loss 0.45983463525772095: 137it [28:34, 13.75s/it]\u001b[A\u001b[A\n",
            "\n",
            "Epoch: 34 | Batch: 0 | Loss 0.6084386110305786: 137it [28:34, 13.75s/it] \u001b[A\u001b[A\n",
            "\n",
            "Epoch: 34 | Batch: 0 | Loss 0.6084386110305786: 138it [28:48, 13.87s/it]\u001b[A\u001b[A\n",
            "\n",
            "Epoch: 34 | Batch: 1 | Loss 0.5521022081375122: 138it [28:48, 13.87s/it]\u001b[A\u001b[A\n",
            "\n",
            "Epoch: 34 | Batch: 1 | Loss 0.5521022081375122: 139it [29:00, 13.34s/it]\u001b[A\u001b[A\n",
            "\n",
            "Epoch: 34 | Batch: 2 | Loss 0.5777727365493774: 139it [29:00, 13.34s/it]\u001b[A\u001b[A\n",
            "\n",
            "Epoch: 34 | Batch: 2 | Loss 0.5777727365493774: 140it [29:09, 12.10s/it]\u001b[A\u001b[A\n",
            "\n",
            "Epoch: 34 | Batch: 3 | Loss 0.46609511971473694: 140it [29:09, 12.10s/it]\u001b[A\u001b[A"
          ]
        },
        {
          "output_type": "stream",
          "name": "stdout",
          "text": [
            "Epoch 34 Training Accuracy: tensor(0.6839)\n",
            "Testing Accuracy: tensor(0.6129)\n"
          ]
        },
        {
          "output_type": "stream",
          "name": "stderr",
          "text": [
            "\n",
            "\n",
            "Epoch: 34 | Batch: 3 | Loss 0.46609511971473694: 141it [29:23, 12.75s/it]\u001b[A\u001b[A\n",
            "\n",
            "Epoch: 35 | Batch: 0 | Loss 0.5457239747047424: 141it [29:23, 12.75s/it] \u001b[A\u001b[A\n",
            "\n",
            "Epoch: 35 | Batch: 0 | Loss 0.5457239747047424: 142it [29:36, 12.87s/it]\u001b[A\u001b[A\n",
            "\n",
            "Epoch: 35 | Batch: 1 | Loss 0.6133435964584351: 142it [29:36, 12.87s/it]\u001b[A\u001b[A\n",
            "\n",
            "Epoch: 35 | Batch: 1 | Loss 0.6133435964584351: 143it [29:50, 12.95s/it]\u001b[A\u001b[A\n",
            "\n",
            "Epoch: 35 | Batch: 2 | Loss 0.5468205809593201: 143it [29:50, 12.95s/it]\u001b[A\u001b[A\n",
            "\n",
            "Epoch: 35 | Batch: 2 | Loss 0.5468205809593201: 144it [29:59, 11.79s/it]\u001b[A\u001b[A\n",
            "\n",
            "Epoch: 35 | Batch: 3 | Loss 0.48356136679649353: 144it [29:59, 11.79s/it]\u001b[A\u001b[A"
          ]
        },
        {
          "output_type": "stream",
          "name": "stdout",
          "text": [
            "Epoch 35 Training Accuracy: tensor(0.7018)\n",
            "Testing Accuracy: tensor(0.6129)\n"
          ]
        },
        {
          "output_type": "stream",
          "name": "stderr",
          "text": [
            "\n",
            "\n",
            "Epoch: 35 | Batch: 3 | Loss 0.48356136679649353: 145it [30:13, 12.46s/it]\u001b[A\u001b[A\n",
            "\n",
            "Epoch: 36 | Batch: 0 | Loss 0.5422151684761047: 145it [30:13, 12.46s/it] \u001b[A\u001b[A\n",
            "\n",
            "Epoch: 36 | Batch: 0 | Loss 0.5422151684761047: 146it [30:26, 12.63s/it]\u001b[A\u001b[A\n",
            "\n",
            "Epoch: 36 | Batch: 1 | Loss 0.642806351184845: 146it [30:26, 12.63s/it] \u001b[A\u001b[A\n",
            "\n",
            "Epoch: 36 | Batch: 1 | Loss 0.642806351184845: 147it [30:39, 12.74s/it]\u001b[A\u001b[A\n",
            "\n",
            "Epoch: 36 | Batch: 2 | Loss 0.488015353679657: 147it [30:39, 12.74s/it]\u001b[A\u001b[A\n",
            "\n",
            "Epoch: 36 | Batch: 2 | Loss 0.488015353679657: 148it [30:48, 11.77s/it]\u001b[A\u001b[A\n",
            "\n",
            "Epoch: 36 | Batch: 3 | Loss 0.5006079077720642: 148it [30:48, 11.77s/it]\u001b[A\u001b[A"
          ]
        },
        {
          "output_type": "stream",
          "name": "stdout",
          "text": [
            "Epoch 36 Training Accuracy: tensor(0.7268)\n",
            "Testing Accuracy: tensor(0.6129)\n"
          ]
        },
        {
          "output_type": "stream",
          "name": "stderr",
          "text": [
            "\n",
            "\n",
            "Epoch: 36 | Batch: 3 | Loss 0.5006079077720642: 149it [31:02, 12.50s/it]\u001b[A\u001b[A\n",
            "\n",
            "Epoch: 37 | Batch: 0 | Loss 0.5512265563011169: 149it [31:02, 12.50s/it]\u001b[A\u001b[A\n",
            "\n",
            "Epoch: 37 | Batch: 0 | Loss 0.5512265563011169: 150it [31:16, 12.95s/it]\u001b[A\u001b[A\n",
            "\n",
            "Epoch: 37 | Batch: 1 | Loss 0.5036478638648987: 150it [31:16, 12.95s/it]\u001b[A\u001b[A\n",
            "\n",
            "Epoch: 37 | Batch: 1 | Loss 0.5036478638648987: 151it [31:29, 12.90s/it]\u001b[A\u001b[A\n",
            "\n",
            "Epoch: 37 | Batch: 2 | Loss 0.6220136880874634: 151it [31:29, 12.90s/it]\u001b[A\u001b[A\n",
            "\n",
            "Epoch: 37 | Batch: 2 | Loss 0.6220136880874634: 152it [31:39, 12.02s/it]\u001b[A\u001b[A\n",
            "\n",
            "Epoch: 37 | Batch: 3 | Loss 0.4631170630455017: 152it [31:39, 12.02s/it]\u001b[A\u001b[A"
          ]
        },
        {
          "output_type": "stream",
          "name": "stdout",
          "text": [
            "Epoch 37 Training Accuracy: tensor(0.7393)\n",
            "Testing Accuracy: tensor(0.6129)\n"
          ]
        },
        {
          "output_type": "stream",
          "name": "stderr",
          "text": [
            "\n",
            "\n",
            "Epoch: 37 | Batch: 3 | Loss 0.4631170630455017: 153it [31:53, 12.72s/it]\u001b[A\u001b[A\n",
            "\n",
            "Epoch: 38 | Batch: 0 | Loss 0.5775117874145508: 153it [31:53, 12.72s/it]\u001b[A\u001b[A\n",
            "\n",
            "Epoch: 38 | Batch: 0 | Loss 0.5775117874145508: 154it [32:06, 12.80s/it]\u001b[A\u001b[A\n",
            "\n",
            "Epoch: 38 | Batch: 1 | Loss 0.4884940981864929: 154it [32:06, 12.80s/it]\u001b[A\u001b[A\n",
            "\n",
            "Epoch: 38 | Batch: 1 | Loss 0.4884940981864929: 155it [32:20, 12.93s/it]\u001b[A\u001b[A\n",
            "\n",
            "Epoch: 38 | Batch: 2 | Loss 0.5332459211349487: 155it [32:20, 12.93s/it]\u001b[A\u001b[A\n",
            "\n",
            "Epoch: 38 | Batch: 2 | Loss 0.5332459211349487: 156it [32:29, 11.98s/it]\u001b[A\u001b[A\n",
            "\n",
            "Epoch: 38 | Batch: 3 | Loss 0.5411192774772644: 156it [32:29, 11.98s/it]\u001b[A\u001b[A"
          ]
        },
        {
          "output_type": "stream",
          "name": "stdout",
          "text": [
            "Epoch 38 Training Accuracy: tensor(0.7536)\n",
            "Testing Accuracy: tensor(0.6129)\n"
          ]
        },
        {
          "output_type": "stream",
          "name": "stderr",
          "text": [
            "\n",
            "\n",
            "Epoch: 38 | Batch: 3 | Loss 0.5411192774772644: 157it [32:44, 12.75s/it]\u001b[A\u001b[A\n",
            "\n",
            "Epoch: 39 | Batch: 0 | Loss 0.4867379665374756: 157it [32:44, 12.75s/it]\u001b[A\u001b[A\n",
            "\n",
            "Epoch: 39 | Batch: 0 | Loss 0.4867379665374756: 158it [32:56, 12.59s/it]\u001b[A\u001b[A\n",
            "\n",
            "Epoch: 39 | Batch: 1 | Loss 0.604083776473999: 158it [32:56, 12.59s/it] \u001b[A\u001b[A\n",
            "\n",
            "Epoch: 39 | Batch: 1 | Loss 0.604083776473999: 159it [33:08, 12.49s/it]\u001b[A\u001b[A\n",
            "\n",
            "Epoch: 39 | Batch: 2 | Loss 0.5281196236610413: 159it [33:08, 12.49s/it]\u001b[A\u001b[A\n",
            "\n",
            "Epoch: 39 | Batch: 2 | Loss 0.5281196236610413: 160it [33:18, 11.66s/it]\u001b[A\u001b[A\n",
            "\n",
            "Epoch: 39 | Batch: 3 | Loss 0.4798337519168854: 160it [33:18, 11.66s/it]\u001b[A\u001b[A"
          ]
        },
        {
          "output_type": "stream",
          "name": "stdout",
          "text": [
            "Epoch 39 Training Accuracy: tensor(0.7643)\n",
            "Testing Accuracy: tensor(0.6129)\n"
          ]
        },
        {
          "output_type": "stream",
          "name": "stderr",
          "text": [
            "\n",
            "\n",
            "Epoch: 39 | Batch: 3 | Loss 0.4798337519168854: 161it [33:33, 12.47s/it]\u001b[A\u001b[A\n",
            "\n",
            "Epoch: 40 | Batch: 0 | Loss 0.6044726967811584: 161it [33:33, 12.47s/it]\u001b[A\u001b[A\n",
            "\n",
            "Epoch: 40 | Batch: 0 | Loss 0.6044726967811584: 162it [33:46, 12.82s/it]\u001b[A\u001b[A\n",
            "\n",
            "Epoch: 40 | Batch: 1 | Loss 0.4300757348537445: 162it [33:46, 12.82s/it]\u001b[A\u001b[A\n",
            "\n",
            "Epoch: 40 | Batch: 1 | Loss 0.4300757348537445: 163it [34:00, 13.10s/it]\u001b[A\u001b[A\n",
            "\n",
            "Epoch: 40 | Batch: 2 | Loss 0.5131873488426208: 163it [34:00, 13.10s/it]\u001b[A\u001b[A\n",
            "\n",
            "Epoch: 40 | Batch: 2 | Loss 0.5131873488426208: 164it [34:09, 11.87s/it]\u001b[A\u001b[A\n",
            "\n",
            "Epoch: 40 | Batch: 3 | Loss 0.5360361337661743: 164it [34:09, 11.87s/it]\u001b[A\u001b[A"
          ]
        },
        {
          "output_type": "stream",
          "name": "stdout",
          "text": [
            "Epoch 40 Training Accuracy: tensor(0.7536)\n",
            "Testing Accuracy: tensor(0.6129)\n"
          ]
        },
        {
          "output_type": "stream",
          "name": "stderr",
          "text": [
            "\n",
            "\n",
            "Epoch: 40 | Batch: 3 | Loss 0.5360361337661743: 165it [34:23, 12.51s/it]\u001b[A\u001b[A\n",
            "\n",
            "Epoch: 41 | Batch: 0 | Loss 0.5441557168960571: 165it [34:23, 12.51s/it]\u001b[A\u001b[A\n",
            "\n",
            "Epoch: 41 | Batch: 0 | Loss 0.5441557168960571: 166it [34:37, 12.96s/it]\u001b[A\u001b[A\n",
            "\n",
            "Epoch: 41 | Batch: 1 | Loss 0.517174482345581: 166it [34:37, 12.96s/it] \u001b[A\u001b[A\n",
            "\n",
            "Epoch: 41 | Batch: 1 | Loss 0.517174482345581: 167it [34:51, 13.36s/it]\u001b[A\u001b[A\n",
            "\n",
            "Epoch: 41 | Batch: 2 | Loss 0.502678632736206: 167it [34:51, 13.36s/it]\u001b[A\u001b[A\n",
            "\n",
            "Epoch: 41 | Batch: 2 | Loss 0.502678632736206: 168it [35:01, 12.18s/it]\u001b[A\u001b[A\n",
            "\n",
            "Epoch: 41 | Batch: 3 | Loss 0.4874785840511322: 168it [35:01, 12.18s/it]\u001b[A\u001b[A"
          ]
        },
        {
          "output_type": "stream",
          "name": "stdout",
          "text": [
            "Epoch 41 Training Accuracy: tensor(0.7714)\n",
            "Testing Accuracy: tensor(0.6129)\n"
          ]
        },
        {
          "output_type": "stream",
          "name": "stderr",
          "text": [
            "\n",
            "\n",
            "Epoch: 41 | Batch: 3 | Loss 0.4874785840511322: 169it [35:15, 12.81s/it]\u001b[A\u001b[A\n",
            "\n",
            "Epoch: 42 | Batch: 0 | Loss 0.5382116436958313: 169it [35:15, 12.81s/it]\u001b[A\u001b[A\n",
            "\n",
            "Epoch: 42 | Batch: 0 | Loss 0.5382116436958313: 170it [35:28, 12.91s/it]\u001b[A\u001b[A\n",
            "\n",
            "Epoch: 42 | Batch: 1 | Loss 0.5417476892471313: 170it [35:28, 12.91s/it]\u001b[A\u001b[A\n",
            "\n",
            "Epoch: 42 | Batch: 1 | Loss 0.5417476892471313: 171it [35:42, 13.11s/it]\u001b[A\u001b[A\n",
            "\n",
            "Epoch: 42 | Batch: 2 | Loss 0.4264364242553711: 171it [35:42, 13.11s/it]\u001b[A\u001b[A\n",
            "\n",
            "Epoch: 42 | Batch: 2 | Loss 0.4264364242553711: 172it [35:49, 11.48s/it]\u001b[A\u001b[A\n",
            "\n",
            "Epoch: 42 | Batch: 3 | Loss 0.5334199070930481: 172it [35:49, 11.48s/it]\u001b[A\u001b[A"
          ]
        },
        {
          "output_type": "stream",
          "name": "stdout",
          "text": [
            "Epoch 42 Training Accuracy: tensor(0.7661)\n",
            "Testing Accuracy: tensor(0.6129)\n"
          ]
        },
        {
          "output_type": "stream",
          "name": "stderr",
          "text": [
            "\n",
            "\n",
            "Epoch: 42 | Batch: 3 | Loss 0.5334199070930481: 173it [36:03, 12.22s/it]\u001b[A\u001b[A\n",
            "\n",
            "Epoch: 43 | Batch: 0 | Loss 0.5216957926750183: 173it [36:03, 12.22s/it]\u001b[A\u001b[A\n",
            "\n",
            "Epoch: 43 | Batch: 0 | Loss 0.5216957926750183: 174it [36:17, 12.60s/it]\u001b[A\u001b[A\n",
            "\n",
            "Epoch: 43 | Batch: 1 | Loss 0.4529542922973633: 174it [36:17, 12.60s/it]\u001b[A\u001b[A\n",
            "\n",
            "Epoch: 43 | Batch: 1 | Loss 0.4529542922973633: 175it [36:30, 12.78s/it]\u001b[A\u001b[A\n",
            "\n",
            "Epoch: 43 | Batch: 2 | Loss 0.5176222324371338: 175it [36:30, 12.78s/it]\u001b[A\u001b[A\n",
            "\n",
            "Epoch: 43 | Batch: 2 | Loss 0.5176222324371338: 176it [36:39, 11.68s/it]\u001b[A\u001b[A\n",
            "\n",
            "Epoch: 43 | Batch: 3 | Loss 0.522274911403656: 176it [36:39, 11.68s/it] \u001b[A\u001b[A"
          ]
        },
        {
          "output_type": "stream",
          "name": "stdout",
          "text": [
            "Epoch 43 Training Accuracy: tensor(0.7661)\n",
            "Testing Accuracy: tensor(0.6129)\n"
          ]
        },
        {
          "output_type": "stream",
          "name": "stderr",
          "text": [
            "\n",
            "\n",
            "Epoch: 43 | Batch: 3 | Loss 0.522274911403656: 177it [36:54, 12.59s/it]\u001b[A\u001b[A\n",
            "\n",
            "Epoch: 44 | Batch: 0 | Loss 0.5956256985664368: 177it [36:54, 12.59s/it]\u001b[A\u001b[A\n",
            "\n",
            "Epoch: 44 | Batch: 0 | Loss 0.5956256985664368: 178it [37:06, 12.38s/it]\u001b[A\u001b[A\n",
            "\n",
            "Epoch: 44 | Batch: 1 | Loss 0.47939953207969666: 178it [37:06, 12.38s/it]\u001b[A\u001b[A\n",
            "\n",
            "Epoch: 44 | Batch: 1 | Loss 0.47939953207969666: 179it [37:19, 12.71s/it]\u001b[A\u001b[A\n",
            "\n",
            "Epoch: 44 | Batch: 2 | Loss 0.5002413988113403: 179it [37:19, 12.71s/it] \u001b[A\u001b[A\n",
            "\n",
            "Epoch: 44 | Batch: 2 | Loss 0.5002413988113403: 180it [37:29, 11.80s/it]\u001b[A\u001b[A\n",
            "\n",
            "Epoch: 44 | Batch: 3 | Loss 0.35934552550315857: 180it [37:29, 11.80s/it]\u001b[A\u001b[A"
          ]
        },
        {
          "output_type": "stream",
          "name": "stdout",
          "text": [
            "Epoch 44 Training Accuracy: tensor(0.7821)\n",
            "Testing Accuracy: tensor(0.6129)\n"
          ]
        },
        {
          "output_type": "stream",
          "name": "stderr",
          "text": [
            "\n",
            "\n",
            "Epoch: 44 | Batch: 3 | Loss 0.35934552550315857: 181it [37:45, 13.19s/it]\u001b[A\u001b[A\n",
            "\n",
            "Epoch: 45 | Batch: 0 | Loss 0.5545727014541626: 181it [37:45, 13.19s/it] \u001b[A\u001b[A\n",
            "\n",
            "Epoch: 45 | Batch: 0 | Loss 0.5545727014541626: 182it [37:58, 13.18s/it]\u001b[A\u001b[A\n",
            "\n",
            "Epoch: 45 | Batch: 1 | Loss 0.4805717468261719: 182it [37:58, 13.18s/it]\u001b[A\u001b[A\n",
            "\n",
            "Epoch: 45 | Batch: 1 | Loss 0.4805717468261719: 183it [38:12, 13.19s/it]\u001b[A\u001b[A\n",
            "\n",
            "Epoch: 45 | Batch: 2 | Loss 0.4420856833457947: 183it [38:12, 13.19s/it]\u001b[A\u001b[A\n",
            "\n",
            "Epoch: 45 | Batch: 2 | Loss 0.4420856833457947: 184it [38:19, 11.53s/it]\u001b[A\u001b[A\n",
            "\n",
            "Epoch: 45 | Batch: 3 | Loss 0.4642941653728485: 184it [38:19, 11.53s/it]\u001b[A\u001b[A"
          ]
        },
        {
          "output_type": "stream",
          "name": "stdout",
          "text": [
            "Epoch 45 Training Accuracy: tensor(0.7964)\n",
            "Testing Accuracy: tensor(0.6129)\n"
          ]
        },
        {
          "output_type": "stream",
          "name": "stderr",
          "text": [
            "\n",
            "\n",
            "Epoch: 45 | Batch: 3 | Loss 0.4642941653728485: 185it [38:34, 12.47s/it]\u001b[A\u001b[A\n",
            "\n",
            "Epoch: 46 | Batch: 0 | Loss 0.4773373007774353: 185it [38:34, 12.47s/it]\u001b[A\u001b[A\n",
            "\n",
            "Epoch: 46 | Batch: 0 | Loss 0.4773373007774353: 186it [38:47, 12.71s/it]\u001b[A\u001b[A\n",
            "\n",
            "Epoch: 46 | Batch: 1 | Loss 0.5034939050674438: 186it [38:47, 12.71s/it]\u001b[A\u001b[A\n",
            "\n",
            "Epoch: 46 | Batch: 1 | Loss 0.5034939050674438: 187it [39:00, 12.83s/it]\u001b[A\u001b[A\n",
            "\n",
            "Epoch: 46 | Batch: 2 | Loss 0.5142151117324829: 187it [39:00, 12.83s/it]\u001b[A\u001b[A\n",
            "\n",
            "Epoch: 46 | Batch: 2 | Loss 0.5142151117324829: 188it [39:10, 11.91s/it]\u001b[A\u001b[A\n",
            "\n",
            "Epoch: 46 | Batch: 3 | Loss 0.4003761112689972: 188it [39:10, 11.91s/it]\u001b[A\u001b[A"
          ]
        },
        {
          "output_type": "stream",
          "name": "stdout",
          "text": [
            "Epoch 46 Training Accuracy: tensor(0.8018)\n",
            "Testing Accuracy: tensor(0.6129)\n"
          ]
        },
        {
          "output_type": "stream",
          "name": "stderr",
          "text": [
            "\n",
            "\n",
            "Epoch: 46 | Batch: 3 | Loss 0.4003761112689972: 189it [39:25, 12.70s/it]\u001b[A\u001b[A\n",
            "\n",
            "Epoch: 47 | Batch: 0 | Loss 0.48094645142555237: 189it [39:25, 12.70s/it]\u001b[A\u001b[A\n",
            "\n",
            "Epoch: 47 | Batch: 0 | Loss 0.48094645142555237: 190it [39:38, 12.79s/it]\u001b[A\u001b[A\n",
            "\n",
            "Epoch: 47 | Batch: 1 | Loss 0.49304088950157166: 190it [39:38, 12.79s/it]\u001b[A\u001b[A\n",
            "\n",
            "Epoch: 47 | Batch: 1 | Loss 0.49304088950157166: 191it [39:49, 12.49s/it]\u001b[A\u001b[A\n",
            "\n",
            "Epoch: 47 | Batch: 2 | Loss 0.44162502884864807: 191it [39:49, 12.49s/it]\u001b[A\u001b[A\n",
            "\n",
            "Epoch: 47 | Batch: 2 | Loss 0.44162502884864807: 192it [39:59, 11.70s/it]\u001b[A\u001b[A\n",
            "\n",
            "Epoch: 47 | Batch: 3 | Loss 0.4742140471935272: 192it [39:59, 11.70s/it] \u001b[A\u001b[A"
          ]
        },
        {
          "output_type": "stream",
          "name": "stdout",
          "text": [
            "Epoch 47 Training Accuracy: tensor(0.8018)\n",
            "Testing Accuracy: tensor(0.6129)\n"
          ]
        },
        {
          "output_type": "stream",
          "name": "stderr",
          "text": [
            "\n",
            "\n",
            "Epoch: 47 | Batch: 3 | Loss 0.4742140471935272: 193it [40:14, 12.53s/it]\u001b[A\u001b[A\n",
            "\n",
            "Epoch: 48 | Batch: 0 | Loss 0.4429907202720642: 193it [40:14, 12.53s/it]\u001b[A\u001b[A\n",
            "\n",
            "Epoch: 48 | Batch: 0 | Loss 0.4429907202720642: 194it [40:27, 12.76s/it]\u001b[A\u001b[A\n",
            "\n",
            "Epoch: 48 | Batch: 1 | Loss 0.44861507415771484: 194it [40:27, 12.76s/it]\u001b[A\u001b[A\n",
            "\n",
            "Epoch: 48 | Batch: 1 | Loss 0.44861507415771484: 195it [40:40, 12.88s/it]\u001b[A\u001b[A\n",
            "\n",
            "Epoch: 48 | Batch: 2 | Loss 0.5246598124504089: 195it [40:40, 12.88s/it] \u001b[A\u001b[A\n",
            "\n",
            "Epoch: 48 | Batch: 2 | Loss 0.5246598124504089: 196it [40:52, 12.39s/it]\u001b[A\u001b[A\n",
            "\n",
            "Epoch: 48 | Batch: 3 | Loss 0.4295509159564972: 196it [40:52, 12.39s/it]\u001b[A\u001b[A"
          ]
        },
        {
          "output_type": "stream",
          "name": "stdout",
          "text": [
            "Epoch 48 Training Accuracy: tensor(0.8018)\n",
            "Testing Accuracy: tensor(0.6452)\n"
          ]
        },
        {
          "output_type": "stream",
          "name": "stderr",
          "text": [
            "\n",
            "\n",
            "Epoch: 48 | Batch: 3 | Loss 0.4295509159564972: 197it [41:06, 12.95s/it]\u001b[A\u001b[A\n",
            "\n",
            "Epoch: 49 | Batch: 0 | Loss 0.4527915120124817: 197it [41:06, 12.95s/it]\u001b[A\u001b[A\n",
            "\n",
            "Epoch: 49 | Batch: 0 | Loss 0.4527915120124817: 198it [41:18, 12.82s/it]\u001b[A\u001b[A\n",
            "\n",
            "Epoch: 49 | Batch: 1 | Loss 0.4112531542778015: 198it [41:18, 12.82s/it]\u001b[A\u001b[A\n",
            "\n",
            "Epoch: 49 | Batch: 1 | Loss 0.4112531542778015: 199it [41:31, 12.86s/it]\u001b[A\u001b[A\n",
            "\n",
            "Epoch: 49 | Batch: 2 | Loss 0.46362394094467163: 199it [41:31, 12.86s/it]\u001b[A\u001b[A\n",
            "\n",
            "Epoch: 49 | Batch: 2 | Loss 0.46362394094467163: 200it [41:41, 11.89s/it]\u001b[A\u001b[A\n",
            "\n",
            "Epoch: 49 | Batch: 3 | Loss 0.5271361470222473: 200it [41:41, 11.89s/it] \u001b[A\u001b[A"
          ]
        },
        {
          "output_type": "stream",
          "name": "stdout",
          "text": [
            "Epoch 49 Training Accuracy: tensor(0.8161)\n",
            "Testing Accuracy: tensor(0.6452)\n"
          ]
        },
        {
          "output_type": "stream",
          "name": "stderr",
          "text": [
            "\n",
            "\n",
            "Epoch: 49 | Batch: 3 | Loss 0.5271361470222473: 201it [41:56, 12.83s/it]\u001b[A\u001b[A\n",
            "\n",
            "Epoch: 50 | Batch: 0 | Loss 0.4297676086425781: 201it [41:56, 12.83s/it]\u001b[A\u001b[A\n",
            "\n",
            "Epoch: 50 | Batch: 0 | Loss 0.4297676086425781: 202it [42:09, 12.91s/it]\u001b[A\u001b[A\n",
            "\n",
            "Epoch: 50 | Batch: 1 | Loss 0.5297766923904419: 202it [42:09, 12.91s/it]\u001b[A\u001b[A\n",
            "\n",
            "Epoch: 50 | Batch: 1 | Loss 0.5297766923904419: 203it [42:23, 13.19s/it]\u001b[A\u001b[A\n",
            "\n",
            "Epoch: 50 | Batch: 2 | Loss 0.41677147150039673: 203it [42:23, 13.19s/it]\u001b[A\u001b[A\n",
            "\n",
            "Epoch: 50 | Batch: 2 | Loss 0.41677147150039673: 204it [42:31, 11.66s/it]\u001b[A\u001b[A\n",
            "\n",
            "Epoch: 50 | Batch: 3 | Loss 0.4176291525363922: 204it [42:31, 11.66s/it] \u001b[A\u001b[A"
          ]
        },
        {
          "output_type": "stream",
          "name": "stdout",
          "text": [
            "Epoch 50 Training Accuracy: tensor(0.7964)\n",
            "Testing Accuracy: tensor(0.6452)\n"
          ]
        },
        {
          "output_type": "stream",
          "name": "stderr",
          "text": [
            "\n",
            "\n",
            "Epoch: 50 | Batch: 3 | Loss 0.4176291525363922: 205it [42:46, 12.65s/it]\u001b[A\u001b[A\n",
            "\n",
            "Epoch: 51 | Batch: 0 | Loss 0.41215381026268005: 205it [42:46, 12.65s/it]\u001b[A\u001b[A\n",
            "\n",
            "Epoch: 51 | Batch: 0 | Loss 0.41215381026268005: 206it [42:59, 12.85s/it]\u001b[A\u001b[A\n",
            "\n",
            "Epoch: 51 | Batch: 1 | Loss 0.41400185227394104: 206it [42:59, 12.85s/it]\u001b[A\u001b[A\n",
            "\n",
            "Epoch: 51 | Batch: 1 | Loss 0.41400185227394104: 207it [43:13, 13.16s/it]\u001b[A\u001b[A\n",
            "\n",
            "Epoch: 51 | Batch: 2 | Loss 0.4737319350242615: 207it [43:13, 13.16s/it] \u001b[A\u001b[A\n",
            "\n",
            "Epoch: 51 | Batch: 2 | Loss 0.4737319350242615: 208it [43:24, 12.41s/it]\u001b[A\u001b[A\n",
            "\n",
            "Epoch: 51 | Batch: 3 | Loss 0.4856078326702118: 208it [43:24, 12.41s/it]\u001b[A\u001b[A"
          ]
        },
        {
          "output_type": "stream",
          "name": "stdout",
          "text": [
            "Epoch 51 Training Accuracy: tensor(0.8036)\n",
            "Testing Accuracy: tensor(0.6452)\n"
          ]
        },
        {
          "output_type": "stream",
          "name": "stderr",
          "text": [
            "\n",
            "\n",
            "Epoch: 51 | Batch: 3 | Loss 0.4856078326702118: 209it [43:39, 13.12s/it]\u001b[A\u001b[A\n",
            "\n",
            "Epoch: 52 | Batch: 0 | Loss 0.4322528839111328: 209it [43:39, 13.12s/it]\u001b[A\u001b[A\n",
            "\n",
            "Epoch: 52 | Batch: 0 | Loss 0.4322528839111328: 210it [43:54, 13.96s/it]\u001b[A\u001b[A\n",
            "\n",
            "Epoch: 52 | Batch: 1 | Loss 0.45722874999046326: 210it [43:54, 13.96s/it]\u001b[A\u001b[A\n",
            "\n",
            "Epoch: 52 | Batch: 1 | Loss 0.45722874999046326: 211it [44:08, 13.76s/it]\u001b[A\u001b[A\n",
            "\n",
            "Epoch: 52 | Batch: 2 | Loss 0.4436485171318054: 211it [44:08, 13.76s/it] \u001b[A\u001b[A\n",
            "\n",
            "Epoch: 52 | Batch: 2 | Loss 0.4436485171318054: 212it [44:16, 12.20s/it]\u001b[A\u001b[A\n",
            "\n",
            "Epoch: 52 | Batch: 3 | Loss 0.38917356729507446: 212it [44:16, 12.20s/it]\u001b[A\u001b[A"
          ]
        },
        {
          "output_type": "stream",
          "name": "stdout",
          "text": [
            "Epoch 52 Training Accuracy: tensor(0.8321)\n",
            "Testing Accuracy: tensor(0.6452)\n"
          ]
        },
        {
          "output_type": "stream",
          "name": "stderr",
          "text": [
            "\n",
            "\n",
            "Epoch: 52 | Batch: 3 | Loss 0.38917356729507446: 213it [44:30, 12.68s/it]\u001b[A\u001b[A\n",
            "\n",
            "Epoch: 53 | Batch: 0 | Loss 0.4449177384376526: 213it [44:30, 12.68s/it] \u001b[A\u001b[A\n",
            "\n",
            "Epoch: 53 | Batch: 0 | Loss 0.4449177384376526: 214it [44:43, 12.89s/it]\u001b[A\u001b[A\n",
            "\n",
            "Epoch: 53 | Batch: 1 | Loss 0.4145936071872711: 214it [44:43, 12.89s/it]\u001b[A\u001b[A\n",
            "\n",
            "Epoch: 53 | Batch: 1 | Loss 0.4145936071872711: 215it [44:57, 12.94s/it]\u001b[A\u001b[A\n",
            "\n",
            "Epoch: 53 | Batch: 2 | Loss 0.5039910674095154: 215it [44:57, 12.94s/it]\u001b[A\u001b[A\n",
            "\n",
            "Epoch: 53 | Batch: 2 | Loss 0.5039910674095154: 216it [45:06, 11.88s/it]\u001b[A\u001b[A\n",
            "\n",
            "Epoch: 53 | Batch: 3 | Loss 0.31001192331314087: 216it [45:06, 11.88s/it]\u001b[A\u001b[A"
          ]
        },
        {
          "output_type": "stream",
          "name": "stdout",
          "text": [
            "Epoch 53 Training Accuracy: tensor(0.8500)\n",
            "Testing Accuracy: tensor(0.6452)\n"
          ]
        },
        {
          "output_type": "stream",
          "name": "stderr",
          "text": [
            "\n",
            "\n",
            "Epoch: 53 | Batch: 3 | Loss 0.31001192331314087: 217it [45:21, 12.89s/it]\u001b[A\u001b[A\n",
            "\n",
            "Epoch: 54 | Batch: 0 | Loss 0.4638804495334625: 217it [45:21, 12.89s/it] \u001b[A\u001b[A\n",
            "\n",
            "Epoch: 54 | Batch: 0 | Loss 0.4638804495334625: 218it [45:34, 13.02s/it]\u001b[A\u001b[A\n",
            "\n",
            "Epoch: 54 | Batch: 1 | Loss 0.37399035692214966: 218it [45:34, 13.02s/it]\u001b[A\u001b[A\n",
            "\n",
            "Epoch: 54 | Batch: 1 | Loss 0.37399035692214966: 219it [45:48, 13.16s/it]\u001b[A\u001b[A\n",
            "\n",
            "Epoch: 54 | Batch: 2 | Loss 0.42431098222732544: 219it [45:48, 13.16s/it]\u001b[A\u001b[A\n",
            "\n",
            "Epoch: 54 | Batch: 2 | Loss 0.42431098222732544: 220it [45:56, 11.54s/it]\u001b[A\u001b[A\n",
            "\n",
            "Epoch: 54 | Batch: 3 | Loss 0.420439213514328: 220it [45:56, 11.54s/it]  \u001b[A\u001b[A"
          ]
        },
        {
          "output_type": "stream",
          "name": "stdout",
          "text": [
            "Epoch 54 Training Accuracy: tensor(0.8643)\n",
            "Testing Accuracy: tensor(0.6452)\n"
          ]
        },
        {
          "output_type": "stream",
          "name": "stderr",
          "text": [
            "\n",
            "\n",
            "Epoch: 54 | Batch: 3 | Loss 0.420439213514328: 221it [46:10, 12.32s/it]\u001b[A\u001b[A\n",
            "\n",
            "Epoch: 55 | Batch: 0 | Loss 0.42027178406715393: 221it [46:10, 12.32s/it]\u001b[A\u001b[A\n",
            "\n",
            "Epoch: 55 | Batch: 0 | Loss 0.42027178406715393: 222it [46:23, 12.57s/it]\u001b[A\u001b[A\n",
            "\n",
            "Epoch: 55 | Batch: 1 | Loss 0.40937361121177673: 222it [46:23, 12.57s/it]\u001b[A\u001b[A\n",
            "\n",
            "Epoch: 55 | Batch: 1 | Loss 0.40937361121177673: 223it [46:36, 12.76s/it]\u001b[A\u001b[A\n",
            "\n",
            "Epoch: 55 | Batch: 2 | Loss 0.43773627281188965: 223it [46:36, 12.76s/it]\u001b[A\u001b[A\n",
            "\n",
            "Epoch: 55 | Batch: 2 | Loss 0.43773627281188965: 224it [46:45, 11.67s/it]\u001b[A\u001b[A\n",
            "\n",
            "Epoch: 55 | Batch: 3 | Loss 0.36065539717674255: 224it [46:45, 11.67s/it]\u001b[A\u001b[A"
          ]
        },
        {
          "output_type": "stream",
          "name": "stdout",
          "text": [
            "Epoch 55 Training Accuracy: tensor(0.8696)\n",
            "Testing Accuracy: tensor(0.6452)\n"
          ]
        },
        {
          "output_type": "stream",
          "name": "stderr",
          "text": [
            "\n",
            "\n",
            "Epoch: 55 | Batch: 3 | Loss 0.36065539717674255: 225it [47:02, 13.16s/it]\u001b[A\u001b[A\n",
            "\n",
            "Epoch: 56 | Batch: 0 | Loss 0.42025747895240784: 225it [47:02, 13.16s/it]\u001b[A\u001b[A\n",
            "\n",
            "Epoch: 56 | Batch: 0 | Loss 0.42025747895240784: 226it [47:14, 12.95s/it]\u001b[A\u001b[A\n",
            "\n",
            "Epoch: 56 | Batch: 1 | Loss 0.3845478296279907: 226it [47:14, 12.95s/it] \u001b[A\u001b[A\n",
            "\n",
            "Epoch: 56 | Batch: 1 | Loss 0.3845478296279907: 227it [47:27, 12.88s/it]\u001b[A\u001b[A\n",
            "\n",
            "Epoch: 56 | Batch: 2 | Loss 0.37194979190826416: 227it [47:27, 12.88s/it]\u001b[A\u001b[A\n",
            "\n",
            "Epoch: 56 | Batch: 2 | Loss 0.37194979190826416: 228it [47:37, 11.91s/it]\u001b[A\u001b[A\n",
            "\n",
            "Epoch: 56 | Batch: 3 | Loss 0.4678724706172943: 228it [47:37, 11.91s/it] \u001b[A\u001b[A"
          ]
        },
        {
          "output_type": "stream",
          "name": "stdout",
          "text": [
            "Epoch 56 Training Accuracy: tensor(0.8589)\n",
            "Testing Accuracy: tensor(0.6452)\n"
          ]
        },
        {
          "output_type": "stream",
          "name": "stderr",
          "text": [
            "\n",
            "\n",
            "Epoch: 56 | Batch: 3 | Loss 0.4678724706172943: 229it [47:51, 12.61s/it]\u001b[A\u001b[A\n",
            "\n",
            "Epoch: 57 | Batch: 0 | Loss 0.4236655831336975: 229it [47:51, 12.61s/it]\u001b[A\u001b[A\n",
            "\n",
            "Epoch: 57 | Batch: 0 | Loss 0.4236655831336975: 230it [48:05, 12.97s/it]\u001b[A\u001b[A\n",
            "\n",
            "Epoch: 57 | Batch: 1 | Loss 0.4495178759098053: 230it [48:05, 12.97s/it]\u001b[A\u001b[A\n",
            "\n",
            "Epoch: 57 | Batch: 1 | Loss 0.4495178759098053: 231it [48:18, 13.03s/it]\u001b[A\u001b[A\n",
            "\n",
            "Epoch: 57 | Batch: 2 | Loss 0.3474850058555603: 231it [48:18, 13.03s/it]\u001b[A\u001b[A\n",
            "\n",
            "Epoch: 57 | Batch: 2 | Loss 0.3474850058555603: 232it [48:26, 11.58s/it]\u001b[A\u001b[A\n",
            "\n",
            "Epoch: 57 | Batch: 3 | Loss 0.3552910387516022: 232it [48:26, 11.58s/it]\u001b[A\u001b[A"
          ]
        },
        {
          "output_type": "stream",
          "name": "stdout",
          "text": [
            "Epoch 57 Training Accuracy: tensor(0.8643)\n",
            "Testing Accuracy: tensor(0.6452)\n"
          ]
        },
        {
          "output_type": "stream",
          "name": "stderr",
          "text": [
            "\n",
            "\n",
            "Epoch: 57 | Batch: 3 | Loss 0.3552910387516022: 233it [48:40, 12.31s/it]\u001b[A\u001b[A\n",
            "\n",
            "Epoch: 58 | Batch: 0 | Loss 0.45450812578201294: 233it [48:40, 12.31s/it]\u001b[A\u001b[A\n",
            "\n",
            "Epoch: 58 | Batch: 0 | Loss 0.45450812578201294: 234it [48:54, 12.64s/it]\u001b[A\u001b[A\n",
            "\n",
            "Epoch: 58 | Batch: 1 | Loss 0.39581602811813354: 234it [48:54, 12.64s/it]\u001b[A\u001b[A\n",
            "\n",
            "Epoch: 58 | Batch: 1 | Loss 0.39581602811813354: 235it [49:07, 12.80s/it]\u001b[A\u001b[A\n",
            "\n",
            "Epoch: 58 | Batch: 2 | Loss 0.3791258931159973: 235it [49:07, 12.80s/it] \u001b[A\u001b[A\n",
            "\n",
            "Epoch: 58 | Batch: 2 | Loss 0.3791258931159973: 236it [49:17, 12.08s/it]\u001b[A\u001b[A\n",
            "\n",
            "Epoch: 58 | Batch: 3 | Loss 0.29907745122909546: 236it [49:17, 12.08s/it]\u001b[A\u001b[A"
          ]
        },
        {
          "output_type": "stream",
          "name": "stdout",
          "text": [
            "Epoch 58 Training Accuracy: tensor(0.8750)\n",
            "Testing Accuracy: tensor(0.6774)\n"
          ]
        },
        {
          "output_type": "stream",
          "name": "stderr",
          "text": [
            "\n",
            "\n",
            "Epoch: 58 | Batch: 3 | Loss 0.29907745122909546: 237it [49:32, 12.80s/it]\u001b[A\u001b[A\n",
            "\n",
            "Epoch: 59 | Batch: 0 | Loss 0.3616507053375244: 237it [49:32, 12.80s/it] \u001b[A\u001b[A\n",
            "\n",
            "Epoch: 59 | Batch: 0 | Loss 0.3616507053375244: 238it [49:45, 12.86s/it]\u001b[A\u001b[A\n",
            "\n",
            "Epoch: 59 | Batch: 1 | Loss 0.4053027033805847: 238it [49:45, 12.86s/it]\u001b[A\u001b[A\n",
            "\n",
            "Epoch: 59 | Batch: 1 | Loss 0.4053027033805847: 239it [50:00, 13.54s/it]\u001b[A\u001b[A\n",
            "\n",
            "Epoch: 59 | Batch: 2 | Loss 0.3433019518852234: 239it [50:00, 13.54s/it]\u001b[A\u001b[A\n",
            "\n",
            "Epoch: 59 | Batch: 2 | Loss 0.3433019518852234: 240it [50:08, 11.80s/it]\u001b[A\u001b[A\n",
            "\n",
            "Epoch: 59 | Batch: 3 | Loss 0.43178790807724: 240it [50:08, 11.80s/it]  \u001b[A\u001b[A"
          ]
        },
        {
          "output_type": "stream",
          "name": "stdout",
          "text": [
            "Epoch 59 Training Accuracy: tensor(0.8893)\n",
            "Testing Accuracy: tensor(0.6774)\n"
          ]
        },
        {
          "output_type": "stream",
          "name": "stderr",
          "text": [
            "\n",
            "\n",
            "Epoch: 59 | Batch: 3 | Loss 0.43178790807724: 241it [50:22, 12.45s/it]\u001b[A\u001b[A\n",
            "\n",
            "Epoch: 60 | Batch: 0 | Loss 0.3813181519508362: 241it [50:22, 12.45s/it]\u001b[A\u001b[A\n",
            "\n",
            "Epoch: 60 | Batch: 0 | Loss 0.3813181519508362: 242it [50:35, 12.61s/it]\u001b[A\u001b[A\n",
            "\n",
            "Epoch: 60 | Batch: 1 | Loss 0.36753153800964355: 242it [50:35, 12.61s/it]\u001b[A\u001b[A\n",
            "\n",
            "Epoch: 60 | Batch: 1 | Loss 0.36753153800964355: 243it [50:48, 12.77s/it]\u001b[A\u001b[A\n",
            "\n",
            "Epoch: 60 | Batch: 2 | Loss 0.3541702330112457: 243it [50:48, 12.77s/it] \u001b[A\u001b[A\n",
            "\n",
            "Epoch: 60 | Batch: 2 | Loss 0.3541702330112457: 244it [50:57, 11.86s/it]\u001b[A\u001b[A\n",
            "\n",
            "Epoch: 60 | Batch: 3 | Loss 0.4074237644672394: 244it [50:57, 11.86s/it]\u001b[A\u001b[A"
          ]
        },
        {
          "output_type": "stream",
          "name": "stdout",
          "text": [
            "Epoch 60 Training Accuracy: tensor(0.8839)\n",
            "Testing Accuracy: tensor(0.6774)\n"
          ]
        },
        {
          "output_type": "stream",
          "name": "stderr",
          "text": [
            "\n",
            "\n",
            "Epoch: 60 | Batch: 3 | Loss 0.4074237644672394: 245it [51:12, 12.60s/it]\u001b[A\u001b[A\n",
            "\n",
            "Epoch: 61 | Batch: 0 | Loss 0.3272865414619446: 245it [51:12, 12.60s/it]\u001b[A\u001b[A\n",
            "\n",
            "Epoch: 61 | Batch: 0 | Loss 0.3272865414619446: 246it [51:25, 12.89s/it]\u001b[A\u001b[A\n",
            "\n",
            "Epoch: 61 | Batch: 1 | Loss 0.4110081195831299: 246it [51:25, 12.89s/it]\u001b[A\u001b[A\n",
            "\n",
            "Epoch: 61 | Batch: 1 | Loss 0.4110081195831299: 247it [51:37, 12.59s/it]\u001b[A\u001b[A\n",
            "\n",
            "Epoch: 61 | Batch: 2 | Loss 0.34215137362480164: 247it [51:37, 12.59s/it]\u001b[A\u001b[A\n",
            "\n",
            "Epoch: 61 | Batch: 2 | Loss 0.34215137362480164: 248it [51:46, 11.59s/it]\u001b[A\u001b[A\n",
            "\n",
            "Epoch: 61 | Batch: 3 | Loss 0.40067821741104126: 248it [51:46, 11.59s/it]\u001b[A\u001b[A"
          ]
        },
        {
          "output_type": "stream",
          "name": "stdout",
          "text": [
            "Epoch 61 Training Accuracy: tensor(0.9196)\n",
            "Testing Accuracy: tensor(0.6774)\n"
          ]
        },
        {
          "output_type": "stream",
          "name": "stderr",
          "text": [
            "\n",
            "\n",
            "Epoch: 61 | Batch: 3 | Loss 0.40067821741104126: 249it [52:01, 12.37s/it]\u001b[A\u001b[A\n",
            "\n",
            "Epoch: 62 | Batch: 0 | Loss 0.36990073323249817: 249it [52:01, 12.37s/it]\u001b[A\u001b[A\n",
            "\n",
            "Epoch: 62 | Batch: 0 | Loss 0.36990073323249817: 250it [52:14, 12.62s/it]\u001b[A\u001b[A\n",
            "\n",
            "Epoch: 62 | Batch: 1 | Loss 0.3491516709327698: 250it [52:14, 12.62s/it] \u001b[A\u001b[A\n",
            "\n",
            "Epoch: 62 | Batch: 1 | Loss 0.3491516709327698: 251it [52:27, 12.73s/it]\u001b[A\u001b[A\n",
            "\n",
            "Epoch: 62 | Batch: 2 | Loss 0.33924058079719543: 251it [52:27, 12.73s/it]\u001b[A\u001b[A\n",
            "\n",
            "Epoch: 62 | Batch: 2 | Loss 0.33924058079719543: 252it [52:35, 11.28s/it]\u001b[A\u001b[A\n",
            "\n",
            "Epoch: 62 | Batch: 3 | Loss 0.4073837101459503: 252it [52:35, 11.28s/it] \u001b[A\u001b[A"
          ]
        },
        {
          "output_type": "stream",
          "name": "stdout",
          "text": [
            "Epoch 62 Training Accuracy: tensor(0.9036)\n",
            "Testing Accuracy: tensor(0.6774)\n"
          ]
        },
        {
          "output_type": "stream",
          "name": "stderr",
          "text": [
            "\n",
            "\n",
            "Epoch: 62 | Batch: 3 | Loss 0.4073837101459503: 253it [52:50, 12.46s/it]\u001b[A\u001b[A\n",
            "\n",
            "Epoch: 63 | Batch: 0 | Loss 0.36571088433265686: 253it [52:50, 12.46s/it]\u001b[A\u001b[A\n",
            "\n",
            "Epoch: 63 | Batch: 0 | Loss 0.36571088433265686: 254it [53:05, 13.12s/it]\u001b[A\u001b[A\n",
            "\n",
            "Epoch: 63 | Batch: 1 | Loss 0.3306378424167633: 254it [53:05, 13.12s/it] \u001b[A\u001b[A\n",
            "\n",
            "Epoch: 63 | Batch: 1 | Loss 0.3306378424167633: 255it [53:18, 13.13s/it]\u001b[A\u001b[A\n",
            "\n",
            "Epoch: 63 | Batch: 2 | Loss 0.3868686556816101: 255it [53:18, 13.13s/it]\u001b[A\u001b[A\n",
            "\n",
            "Epoch: 63 | Batch: 2 | Loss 0.3868686556816101: 256it [53:28, 12.37s/it]\u001b[A\u001b[A\n",
            "\n",
            "Epoch: 63 | Batch: 3 | Loss 0.3154067397117615: 256it [53:28, 12.37s/it]\u001b[A\u001b[A"
          ]
        },
        {
          "output_type": "stream",
          "name": "stdout",
          "text": [
            "Epoch 63 Training Accuracy: tensor(0.9375)\n",
            "Testing Accuracy: tensor(0.6774)\n"
          ]
        },
        {
          "output_type": "stream",
          "name": "stderr",
          "text": [
            "\n",
            "\n",
            "Epoch: 63 | Batch: 3 | Loss 0.3154067397117615: 257it [53:43, 13.14s/it]\u001b[A\u001b[A\n",
            "\n",
            "Epoch: 64 | Batch: 0 | Loss 0.33745551109313965: 257it [53:43, 13.14s/it]\u001b[A\u001b[A\n",
            "\n",
            "Epoch: 64 | Batch: 0 | Loss 0.33745551109313965: 258it [53:57, 13.40s/it]\u001b[A\u001b[A\n",
            "\n",
            "Epoch: 64 | Batch: 1 | Loss 0.3620908260345459: 258it [53:57, 13.40s/it] \u001b[A\u001b[A\n",
            "\n",
            "Epoch: 64 | Batch: 1 | Loss 0.3620908260345459: 259it [54:11, 13.43s/it]\u001b[A\u001b[A\n",
            "\n",
            "Epoch: 64 | Batch: 2 | Loss 0.3557773232460022: 259it [54:11, 13.43s/it]\u001b[A\u001b[A\n",
            "\n",
            "Epoch: 64 | Batch: 2 | Loss 0.3557773232460022: 260it [54:19, 11.75s/it]\u001b[A\u001b[A\n",
            "\n",
            "Epoch: 64 | Batch: 3 | Loss 0.31475120782852173: 260it [54:19, 11.75s/it]\u001b[A\u001b[A"
          ]
        },
        {
          "output_type": "stream",
          "name": "stdout",
          "text": [
            "Epoch 64 Training Accuracy: tensor(0.9196)\n",
            "Testing Accuracy: tensor(0.7097)\n"
          ]
        },
        {
          "output_type": "stream",
          "name": "stderr",
          "text": [
            "\n",
            "\n",
            "Epoch: 64 | Batch: 3 | Loss 0.31475120782852173: 261it [54:33, 12.67s/it]\u001b[A\u001b[A\n",
            "\n",
            "Epoch: 65 | Batch: 0 | Loss 0.37776824831962585: 261it [54:33, 12.67s/it]\u001b[A\u001b[A\n",
            "\n",
            "Epoch: 65 | Batch: 0 | Loss 0.37776824831962585: 262it [54:47, 12.83s/it]\u001b[A\u001b[A\n",
            "\n",
            "Epoch: 65 | Batch: 1 | Loss 0.32267558574676514: 262it [54:47, 12.83s/it]\u001b[A\u001b[A\n",
            "\n",
            "Epoch: 65 | Batch: 1 | Loss 0.32267558574676514: 263it [55:00, 12.93s/it]\u001b[A\u001b[A\n",
            "\n",
            "Epoch: 65 | Batch: 2 | Loss 0.3361695408821106: 263it [55:00, 12.93s/it] \u001b[A\u001b[A\n",
            "\n",
            "Epoch: 65 | Batch: 2 | Loss 0.3361695408821106: 264it [55:10, 11.98s/it]\u001b[A\u001b[A\n",
            "\n",
            "Epoch: 65 | Batch: 3 | Loss 0.30040407180786133: 264it [55:10, 11.98s/it]\u001b[A\u001b[A"
          ]
        },
        {
          "output_type": "stream",
          "name": "stdout",
          "text": [
            "Epoch 65 Training Accuracy: tensor(0.9321)\n",
            "Testing Accuracy: tensor(0.7097)\n"
          ]
        },
        {
          "output_type": "stream",
          "name": "stderr",
          "text": [
            "\n",
            "\n",
            "Epoch: 65 | Batch: 3 | Loss 0.30040407180786133: 265it [55:24, 12.67s/it]\u001b[A\u001b[A\n",
            "\n",
            "Epoch: 66 | Batch: 0 | Loss 0.29176563024520874: 265it [55:24, 12.67s/it]\u001b[A\u001b[A\n",
            "\n",
            "Epoch: 66 | Batch: 0 | Loss 0.29176563024520874: 266it [55:37, 12.71s/it]\u001b[A\u001b[A\n",
            "\n",
            "Epoch: 66 | Batch: 1 | Loss 0.3713522255420685: 266it [55:37, 12.71s/it] \u001b[A\u001b[A\n",
            "\n",
            "Epoch: 66 | Batch: 1 | Loss 0.3713522255420685: 267it [55:50, 12.93s/it]\u001b[A\u001b[A\n",
            "\n",
            "Epoch: 66 | Batch: 2 | Loss 0.35597336292266846: 267it [55:50, 12.93s/it]\u001b[A\u001b[A\n",
            "\n",
            "Epoch: 66 | Batch: 2 | Loss 0.35597336292266846: 268it [56:00, 12.07s/it]\u001b[A\u001b[A\n",
            "\n",
            "Epoch: 66 | Batch: 3 | Loss 0.29408568143844604: 268it [56:00, 12.07s/it]\u001b[A\u001b[A"
          ]
        },
        {
          "output_type": "stream",
          "name": "stdout",
          "text": [
            "Epoch 66 Training Accuracy: tensor(0.9625)\n",
            "Testing Accuracy: tensor(0.7097)\n"
          ]
        },
        {
          "output_type": "stream",
          "name": "stderr",
          "text": [
            "\n",
            "\n",
            "Epoch: 66 | Batch: 3 | Loss 0.29408568143844604: 269it [56:15, 12.88s/it]\u001b[A\u001b[A\n",
            "\n",
            "Epoch: 67 | Batch: 0 | Loss 0.31141865253448486: 269it [56:15, 12.88s/it]\u001b[A\u001b[A\n",
            "\n",
            "Epoch: 67 | Batch: 0 | Loss 0.31141865253448486: 270it [56:29, 13.10s/it]\u001b[A\u001b[A\n",
            "\n",
            "Epoch: 67 | Batch: 1 | Loss 0.35943686962127686: 270it [56:29, 13.10s/it]\u001b[A\u001b[A\n",
            "\n",
            "Epoch: 67 | Batch: 1 | Loss 0.35943686962127686: 271it [56:42, 13.30s/it]\u001b[A\u001b[A\n",
            "\n",
            "Epoch: 67 | Batch: 2 | Loss 0.3676876425743103: 271it [56:42, 13.30s/it] \u001b[A\u001b[A\n",
            "\n",
            "Epoch: 67 | Batch: 2 | Loss 0.3676876425743103: 272it [56:51, 11.84s/it]\u001b[A\u001b[A\n",
            "\n",
            "Epoch: 67 | Batch: 3 | Loss 0.23534910380840302: 272it [56:51, 11.84s/it]\u001b[A\u001b[A"
          ]
        },
        {
          "output_type": "stream",
          "name": "stdout",
          "text": [
            "Epoch 67 Training Accuracy: tensor(0.9625)\n",
            "Testing Accuracy: tensor(0.7097)\n"
          ]
        },
        {
          "output_type": "stream",
          "name": "stderr",
          "text": [
            "\n",
            "\n",
            "Epoch: 67 | Batch: 3 | Loss 0.23534910380840302: 273it [57:05, 12.55s/it]\u001b[A\u001b[A\n",
            "\n",
            "Epoch: 68 | Batch: 0 | Loss 0.3572057783603668: 273it [57:05, 12.55s/it] \u001b[A\u001b[A\n",
            "\n",
            "Epoch: 68 | Batch: 0 | Loss 0.3572057783603668: 274it [57:18, 12.75s/it]\u001b[A\u001b[A\n",
            "\n",
            "Epoch: 68 | Batch: 1 | Loss 0.2927468717098236: 274it [57:18, 12.75s/it]\u001b[A\u001b[A\n",
            "\n",
            "Epoch: 68 | Batch: 1 | Loss 0.2927468717098236: 275it [57:31, 12.87s/it]\u001b[A\u001b[A\n",
            "\n",
            "Epoch: 68 | Batch: 2 | Loss 0.3028702735900879: 275it [57:31, 12.87s/it]\u001b[A\u001b[A\n",
            "\n",
            "Epoch: 68 | Batch: 2 | Loss 0.3028702735900879: 276it [57:41, 11.96s/it]\u001b[A\u001b[A\n",
            "\n",
            "Epoch: 68 | Batch: 3 | Loss 0.31271523237228394: 276it [57:41, 11.96s/it]\u001b[A\u001b[A"
          ]
        },
        {
          "output_type": "stream",
          "name": "stdout",
          "text": [
            "Epoch 68 Training Accuracy: tensor(0.9750)\n",
            "Testing Accuracy: tensor(0.7097)\n"
          ]
        },
        {
          "output_type": "stream",
          "name": "stderr",
          "text": [
            "\n",
            "\n",
            "Epoch: 68 | Batch: 3 | Loss 0.31271523237228394: 277it [57:56, 12.86s/it]\u001b[A\u001b[A\n",
            "\n",
            "Epoch: 69 | Batch: 0 | Loss 0.300237238407135: 277it [57:56, 12.86s/it]  \u001b[A\u001b[A\n",
            "\n",
            "Epoch: 69 | Batch: 0 | Loss 0.300237238407135: 278it [58:10, 13.07s/it]\u001b[A\u001b[A\n",
            "\n",
            "Epoch: 69 | Batch: 1 | Loss 0.351333349943161: 278it [58:10, 13.07s/it]\u001b[A\u001b[A\n",
            "\n",
            "Epoch: 69 | Batch: 1 | Loss 0.351333349943161: 279it [58:23, 13.25s/it]\u001b[A\u001b[A\n",
            "\n",
            "Epoch: 69 | Batch: 2 | Loss 0.27460819482803345: 279it [58:23, 13.25s/it]\u001b[A\u001b[A\n",
            "\n",
            "Epoch: 69 | Batch: 2 | Loss 0.27460819482803345: 280it [58:31, 11.65s/it]\u001b[A\u001b[A\n",
            "\n",
            "Epoch: 69 | Batch: 3 | Loss 0.3152537941932678: 280it [58:31, 11.65s/it] \u001b[A\u001b[A"
          ]
        },
        {
          "output_type": "stream",
          "name": "stdout",
          "text": [
            "Epoch 69 Training Accuracy: tensor(0.9750)\n",
            "Testing Accuracy: tensor(0.7097)\n"
          ]
        },
        {
          "output_type": "stream",
          "name": "stderr",
          "text": [
            "\n",
            "\n",
            "Epoch: 69 | Batch: 3 | Loss 0.3152537941932678: 281it [58:46, 12.60s/it]\u001b[A\u001b[A\n",
            "\n",
            "Epoch: 70 | Batch: 0 | Loss 0.3399174213409424: 281it [58:46, 12.60s/it]\u001b[A\u001b[A\n",
            "\n",
            "Epoch: 70 | Batch: 0 | Loss 0.3399174213409424: 282it [59:02, 13.59s/it]\u001b[A\u001b[A\n",
            "\n",
            "Epoch: 70 | Batch: 1 | Loss 0.32526007294654846: 282it [59:02, 13.59s/it]\u001b[A\u001b[A\n",
            "\n",
            "Epoch: 70 | Batch: 1 | Loss 0.32526007294654846: 283it [59:16, 13.60s/it]\u001b[A\u001b[A\n",
            "\n",
            "Epoch: 70 | Batch: 2 | Loss 0.2843005359172821: 283it [59:16, 13.60s/it] \u001b[A\u001b[A\n",
            "\n",
            "Epoch: 70 | Batch: 2 | Loss 0.2843005359172821: 284it [59:25, 12.39s/it]\u001b[A\u001b[A\n",
            "\n",
            "Epoch: 70 | Batch: 3 | Loss 0.24196839332580566: 284it [59:25, 12.39s/it]\u001b[A\u001b[A"
          ]
        },
        {
          "output_type": "stream",
          "name": "stdout",
          "text": [
            "Epoch 70 Training Accuracy: tensor(0.9750)\n",
            "Testing Accuracy: tensor(0.7419)\n"
          ]
        },
        {
          "output_type": "stream",
          "name": "stderr",
          "text": [
            "\n",
            "\n",
            "Epoch: 70 | Batch: 3 | Loss 0.24196839332580566: 285it [59:40, 13.03s/it]\u001b[A\u001b[A\n",
            "\n",
            "Epoch: 71 | Batch: 0 | Loss 0.2935878336429596: 285it [59:40, 13.03s/it] \u001b[A\u001b[A\n",
            "\n",
            "Epoch: 71 | Batch: 0 | Loss 0.2935878336429596: 286it [59:53, 13.18s/it]\u001b[A\u001b[A\n",
            "\n",
            "Epoch: 71 | Batch: 1 | Loss 0.2893564999103546: 286it [59:53, 13.18s/it]\u001b[A\u001b[A\n",
            "\n",
            "Epoch: 71 | Batch: 1 | Loss 0.2893564999103546: 287it [1:00:06, 12.92s/it]\u001b[A\u001b[A\n",
            "\n",
            "Epoch: 71 | Batch: 2 | Loss 0.35066384077072144: 287it [1:00:06, 12.92s/it]\u001b[A\u001b[A\n",
            "\n",
            "Epoch: 71 | Batch: 2 | Loss 0.35066384077072144: 288it [1:00:15, 11.82s/it]\u001b[A\u001b[A\n",
            "\n",
            "Epoch: 71 | Batch: 3 | Loss 0.24274182319641113: 288it [1:00:15, 11.82s/it]\u001b[A\u001b[A"
          ]
        },
        {
          "output_type": "stream",
          "name": "stdout",
          "text": [
            "Epoch 71 Training Accuracy: tensor(0.9696)\n",
            "Testing Accuracy: tensor(0.7742)\n"
          ]
        },
        {
          "output_type": "stream",
          "name": "stderr",
          "text": [
            "\n",
            "\n",
            "Epoch: 71 | Batch: 3 | Loss 0.24274182319641113: 289it [1:00:29, 12.55s/it]\u001b[A\u001b[A\n",
            "\n",
            "Epoch: 72 | Batch: 0 | Loss 0.23177418112754822: 289it [1:00:29, 12.55s/it]\u001b[A\u001b[A\n",
            "\n",
            "Epoch: 72 | Batch: 0 | Loss 0.23177418112754822: 290it [1:00:42, 12.77s/it]\u001b[A\u001b[A\n",
            "\n",
            "Epoch: 72 | Batch: 1 | Loss 0.2994701564311981: 290it [1:00:42, 12.77s/it] \u001b[A\u001b[A\n",
            "\n",
            "Epoch: 72 | Batch: 1 | Loss 0.2994701564311981: 291it [1:00:56, 12.92s/it]\u001b[A\u001b[A\n",
            "\n",
            "Epoch: 72 | Batch: 2 | Loss 0.31258177757263184: 291it [1:00:56, 12.92s/it]\u001b[A\u001b[A\n",
            "\n",
            "Epoch: 72 | Batch: 2 | Loss 0.31258177757263184: 292it [1:01:04, 11.52s/it]\u001b[A\u001b[A\n",
            "\n",
            "Epoch: 72 | Batch: 3 | Loss 0.32884058356285095: 292it [1:01:04, 11.52s/it]\u001b[A\u001b[A"
          ]
        },
        {
          "output_type": "stream",
          "name": "stdout",
          "text": [
            "Epoch 72 Training Accuracy: tensor(0.9696)\n",
            "Testing Accuracy: tensor(0.7742)\n"
          ]
        },
        {
          "output_type": "stream",
          "name": "stderr",
          "text": [
            "\n",
            "\n",
            "Epoch: 72 | Batch: 3 | Loss 0.32884058356285095: 293it [1:01:18, 12.45s/it]\u001b[A\u001b[A\n",
            "\n",
            "Epoch: 73 | Batch: 0 | Loss 0.28097185492515564: 293it [1:01:18, 12.45s/it]\u001b[A\u001b[A\n",
            "\n",
            "Epoch: 73 | Batch: 0 | Loss 0.28097185492515564: 294it [1:01:32, 12.65s/it]\u001b[A\u001b[A\n",
            "\n",
            "Epoch: 73 | Batch: 1 | Loss 0.252979040145874: 294it [1:01:32, 12.65s/it]  \u001b[A\u001b[A\n",
            "\n",
            "Epoch: 73 | Batch: 1 | Loss 0.252979040145874: 295it [1:01:45, 12.80s/it]\u001b[A\u001b[A\n",
            "\n",
            "Epoch: 73 | Batch: 2 | Loss 0.34462544322013855: 295it [1:01:45, 12.80s/it]\u001b[A\u001b[A\n",
            "\n",
            "Epoch: 73 | Batch: 2 | Loss 0.34462544322013855: 296it [1:01:56, 12.44s/it]\u001b[A\u001b[A\n",
            "\n",
            "Epoch: 73 | Batch: 3 | Loss 0.24451155960559845: 296it [1:01:56, 12.44s/it]\u001b[A\u001b[A"
          ]
        },
        {
          "output_type": "stream",
          "name": "stdout",
          "text": [
            "Epoch 73 Training Accuracy: tensor(0.9750)\n",
            "Testing Accuracy: tensor(0.7742)\n"
          ]
        },
        {
          "output_type": "stream",
          "name": "stderr",
          "text": [
            "\n",
            "\n",
            "Epoch: 73 | Batch: 3 | Loss 0.24451155960559845: 297it [1:02:10, 12.87s/it]\u001b[A\u001b[A\n",
            "\n",
            "Epoch: 74 | Batch: 0 | Loss 0.2474595308303833: 297it [1:02:10, 12.87s/it] \u001b[A\u001b[A\n",
            "\n",
            "Epoch: 74 | Batch: 0 | Loss 0.2474595308303833: 298it [1:02:24, 13.05s/it]\u001b[A\u001b[A\n",
            "\n",
            "Epoch: 74 | Batch: 1 | Loss 0.3782423436641693: 298it [1:02:24, 13.05s/it]\u001b[A\u001b[A\n",
            "\n",
            "Epoch: 74 | Batch: 1 | Loss 0.3782423436641693: 299it [1:02:37, 13.06s/it]\u001b[A\u001b[A\n",
            "\n",
            "Epoch: 74 | Batch: 2 | Loss 0.25928062200546265: 299it [1:02:37, 13.06s/it]\u001b[A\u001b[A\n",
            "\n",
            "Epoch: 74 | Batch: 2 | Loss 0.25928062200546265: 300it [1:02:45, 11.48s/it]\u001b[A\u001b[A\n",
            "\n",
            "Epoch: 74 | Batch: 3 | Loss 0.2045653760433197: 300it [1:02:45, 11.48s/it] \u001b[A\u001b[A"
          ]
        },
        {
          "output_type": "stream",
          "name": "stdout",
          "text": [
            "Epoch 74 Training Accuracy: tensor(0.9750)\n",
            "Testing Accuracy: tensor(0.7742)\n"
          ]
        },
        {
          "output_type": "stream",
          "name": "stderr",
          "text": [
            "\n",
            "\n",
            "Epoch: 74 | Batch: 3 | Loss 0.2045653760433197: 301it [1:02:59, 12.46s/it]\u001b[A\u001b[A\n",
            "\n",
            "Epoch: 75 | Batch: 0 | Loss 0.24595031142234802: 301it [1:02:59, 12.46s/it]\u001b[A\u001b[A\n",
            "\n",
            "Epoch: 75 | Batch: 0 | Loss 0.24595031142234802: 302it [1:03:13, 12.93s/it]\u001b[A\u001b[A\n",
            "\n",
            "Epoch: 75 | Batch: 1 | Loss 0.3239804804325104: 302it [1:03:13, 12.93s/it] \u001b[A\u001b[A\n",
            "\n",
            "Epoch: 75 | Batch: 1 | Loss 0.3239804804325104: 303it [1:03:27, 13.05s/it]\u001b[A\u001b[A\n",
            "\n",
            "Epoch: 75 | Batch: 2 | Loss 0.2957022190093994: 303it [1:03:27, 13.05s/it]\u001b[A\u001b[A\n",
            "\n",
            "Epoch: 75 | Batch: 2 | Loss 0.2957022190093994: 304it [1:03:36, 12.03s/it]\u001b[A\u001b[A\n",
            "\n",
            "Epoch: 75 | Batch: 3 | Loss 0.1989576667547226: 304it [1:03:36, 12.03s/it]\u001b[A\u001b[A"
          ]
        },
        {
          "output_type": "stream",
          "name": "stdout",
          "text": [
            "Epoch 75 Training Accuracy: tensor(0.9750)\n",
            "Testing Accuracy: tensor(0.7742)\n"
          ]
        },
        {
          "output_type": "stream",
          "name": "stderr",
          "text": [
            "\n",
            "\n",
            "Epoch: 75 | Batch: 3 | Loss 0.1989576667547226: 305it [1:03:50, 12.67s/it]\u001b[A\u001b[A\n",
            "\n",
            "Epoch: 76 | Batch: 0 | Loss 0.2518429160118103: 305it [1:03:50, 12.67s/it]\u001b[A\u001b[A\n",
            "\n",
            "Epoch: 76 | Batch: 0 | Loss 0.2518429160118103: 306it [1:04:03, 12.55s/it]\u001b[A\u001b[A\n",
            "\n",
            "Epoch: 76 | Batch: 1 | Loss 0.3206931948661804: 306it [1:04:03, 12.55s/it]\u001b[A\u001b[A\n",
            "\n",
            "Epoch: 76 | Batch: 1 | Loss 0.3206931948661804: 307it [1:04:15, 12.51s/it]\u001b[A\u001b[A\n",
            "\n",
            "Epoch: 76 | Batch: 2 | Loss 0.2739246189594269: 307it [1:04:15, 12.51s/it]\u001b[A\u001b[A\n",
            "\n",
            "Epoch: 76 | Batch: 2 | Loss 0.2739246189594269: 308it [1:04:25, 11.66s/it]\u001b[A\u001b[A\n",
            "\n",
            "Epoch: 76 | Batch: 3 | Loss 0.1922483891248703: 308it [1:04:25, 11.66s/it]\u001b[A\u001b[A"
          ]
        },
        {
          "output_type": "stream",
          "name": "stdout",
          "text": [
            "Epoch 76 Training Accuracy: tensor(0.9750)\n",
            "Testing Accuracy: tensor(0.7742)\n"
          ]
        },
        {
          "output_type": "stream",
          "name": "stderr",
          "text": [
            "\n",
            "\n",
            "Epoch: 76 | Batch: 3 | Loss 0.1922483891248703: 309it [1:04:39, 12.52s/it]\u001b[A\u001b[A\n",
            "\n",
            "Epoch: 77 | Batch: 0 | Loss 0.27640828490257263: 309it [1:04:39, 12.52s/it]\u001b[A\u001b[A\n",
            "\n",
            "Epoch: 77 | Batch: 0 | Loss 0.27640828490257263: 310it [1:04:55, 13.50s/it]\u001b[A\u001b[A\n",
            "\n",
            "Epoch: 77 | Batch: 1 | Loss 0.272588849067688: 310it [1:04:55, 13.50s/it]  \u001b[A\u001b[A\n",
            "\n",
            "Epoch: 77 | Batch: 1 | Loss 0.272588849067688: 311it [1:05:09, 13.62s/it]\u001b[A\u001b[A\n",
            "\n",
            "Epoch: 77 | Batch: 2 | Loss 0.2679232656955719: 311it [1:05:09, 13.62s/it]\u001b[A\u001b[A\n",
            "\n",
            "Epoch: 77 | Batch: 2 | Loss 0.2679232656955719: 312it [1:05:18, 12.24s/it]\u001b[A\u001b[A\n",
            "\n",
            "Epoch: 77 | Batch: 3 | Loss 0.2101525515317917: 312it [1:05:18, 12.24s/it]\u001b[A\u001b[A"
          ]
        },
        {
          "output_type": "stream",
          "name": "stdout",
          "text": [
            "Epoch 77 Training Accuracy: tensor(0.9750)\n",
            "Testing Accuracy: tensor(0.7742)\n"
          ]
        },
        {
          "output_type": "stream",
          "name": "stderr",
          "text": [
            "\n",
            "\n",
            "Epoch: 77 | Batch: 3 | Loss 0.2101525515317917: 313it [1:05:32, 12.69s/it]\u001b[A\u001b[A\n",
            "\n",
            "Epoch: 78 | Batch: 0 | Loss 0.2902739942073822: 313it [1:05:32, 12.69s/it]\u001b[A\u001b[A\n",
            "\n",
            "Epoch: 78 | Batch: 0 | Loss 0.2902739942073822: 314it [1:05:44, 12.59s/it]\u001b[A\u001b[A\n",
            "\n",
            "Epoch: 78 | Batch: 1 | Loss 0.22940830886363983: 314it [1:05:44, 12.59s/it]\u001b[A\u001b[A\n",
            "\n",
            "Epoch: 78 | Batch: 1 | Loss 0.22940830886363983: 315it [1:05:57, 12.74s/it]\u001b[A\u001b[A\n",
            "\n",
            "Epoch: 78 | Batch: 2 | Loss 0.29688510298728943: 315it [1:05:57, 12.74s/it]\u001b[A\u001b[A\n",
            "\n",
            "Epoch: 78 | Batch: 2 | Loss 0.29688510298728943: 316it [1:06:07, 11.83s/it]\u001b[A\u001b[A\n",
            "\n",
            "Epoch: 78 | Batch: 3 | Loss 0.1729792356491089: 316it [1:06:07, 11.83s/it] \u001b[A\u001b[A"
          ]
        },
        {
          "output_type": "stream",
          "name": "stdout",
          "text": [
            "Epoch 78 Training Accuracy: tensor(0.9750)\n",
            "Testing Accuracy: tensor(0.7742)\n"
          ]
        },
        {
          "output_type": "stream",
          "name": "stderr",
          "text": [
            "\n",
            "\n",
            "Epoch: 78 | Batch: 3 | Loss 0.1729792356491089: 317it [1:06:21, 12.50s/it]\u001b[A\u001b[A\n",
            "\n",
            "Epoch: 79 | Batch: 0 | Loss 0.3358936309814453: 317it [1:06:21, 12.50s/it]\u001b[A\u001b[A\n",
            "\n",
            "Epoch: 79 | Batch: 0 | Loss 0.3358936309814453: 318it [1:06:34, 12.71s/it]\u001b[A\u001b[A\n",
            "\n",
            "Epoch: 79 | Batch: 1 | Loss 0.21817445755004883: 318it [1:06:34, 12.71s/it]\u001b[A\u001b[A\n",
            "\n",
            "Epoch: 79 | Batch: 1 | Loss 0.21817445755004883: 319it [1:06:47, 12.76s/it]\u001b[A\u001b[A\n",
            "\n",
            "Epoch: 79 | Batch: 2 | Loss 0.23906180262565613: 319it [1:06:47, 12.76s/it]\u001b[A\u001b[A\n",
            "\n",
            "Epoch: 79 | Batch: 2 | Loss 0.23906180262565613: 320it [1:06:56, 11.54s/it]\u001b[A\u001b[A\n",
            "\n",
            "Epoch: 79 | Batch: 3 | Loss 0.18984194099903107: 320it [1:06:56, 11.54s/it]\u001b[A\u001b[A"
          ]
        },
        {
          "output_type": "stream",
          "name": "stdout",
          "text": [
            "Epoch 79 Training Accuracy: tensor(0.9750)\n",
            "Testing Accuracy: tensor(0.7742)\n"
          ]
        },
        {
          "output_type": "stream",
          "name": "stderr",
          "text": [
            "\n",
            "\n",
            "Epoch: 79 | Batch: 3 | Loss 0.18984194099903107: 321it [1:07:10, 12.28s/it]\u001b[A\u001b[A\n",
            "\n",
            "Epoch: 80 | Batch: 0 | Loss 0.2996002733707428: 321it [1:07:10, 12.28s/it] \u001b[A\u001b[A\n",
            "\n",
            "Epoch: 80 | Batch: 0 | Loss 0.2996002733707428: 322it [1:07:23, 12.58s/it]\u001b[A\u001b[A\n",
            "\n",
            "Epoch: 80 | Batch: 1 | Loss 0.27330416440963745: 322it [1:07:23, 12.58s/it]\u001b[A\u001b[A\n",
            "\n",
            "Epoch: 80 | Batch: 1 | Loss 0.27330416440963745: 323it [1:07:36, 12.68s/it]\u001b[A\u001b[A\n",
            "\n",
            "Epoch: 80 | Batch: 2 | Loss 0.2040238380432129: 323it [1:07:36, 12.68s/it] \u001b[A\u001b[A\n",
            "\n",
            "Epoch: 80 | Batch: 2 | Loss 0.2040238380432129: 324it [1:07:47, 12.32s/it]\u001b[A\u001b[A\n",
            "\n",
            "Epoch: 80 | Batch: 3 | Loss 0.17715059220790863: 324it [1:07:47, 12.32s/it]\u001b[A\u001b[A"
          ]
        },
        {
          "output_type": "stream",
          "name": "stdout",
          "text": [
            "Epoch 80 Training Accuracy: tensor(0.9750)\n",
            "Testing Accuracy: tensor(0.8065)\n"
          ]
        },
        {
          "output_type": "stream",
          "name": "stderr",
          "text": [
            "\n",
            "\n",
            "Epoch: 80 | Batch: 3 | Loss 0.17715059220790863: 325it [1:08:02, 13.00s/it]\u001b[A\u001b[A\n",
            "\n",
            "Epoch: 81 | Batch: 0 | Loss 0.25588738918304443: 325it [1:08:02, 13.00s/it]\u001b[A\u001b[A\n",
            "\n",
            "Epoch: 81 | Batch: 0 | Loss 0.25588738918304443: 326it [1:08:14, 12.83s/it]\u001b[A\u001b[A\n",
            "\n",
            "Epoch: 81 | Batch: 1 | Loss 0.25076431035995483: 326it [1:08:15, 12.83s/it]\u001b[A\u001b[A\n",
            "\n",
            "Epoch: 81 | Batch: 1 | Loss 0.25076431035995483: 327it [1:08:27, 12.64s/it]\u001b[A\u001b[A\n",
            "\n",
            "Epoch: 81 | Batch: 2 | Loss 0.24666042625904083: 327it [1:08:27, 12.64s/it]\u001b[A\u001b[A\n",
            "\n",
            "Epoch: 81 | Batch: 2 | Loss 0.24666042625904083: 328it [1:08:36, 11.66s/it]\u001b[A\u001b[A\n",
            "\n",
            "Epoch: 81 | Batch: 3 | Loss 0.17702214419841766: 328it [1:08:36, 11.66s/it]\u001b[A\u001b[A"
          ]
        },
        {
          "output_type": "stream",
          "name": "stdout",
          "text": [
            "Epoch 81 Training Accuracy: tensor(0.9750)\n",
            "Testing Accuracy: tensor(0.8065)\n"
          ]
        },
        {
          "output_type": "stream",
          "name": "stderr",
          "text": [
            "\n",
            "\n",
            "Epoch: 81 | Batch: 3 | Loss 0.17702214419841766: 329it [1:08:50, 12.45s/it]\u001b[A\u001b[A\n",
            "\n",
            "Epoch: 82 | Batch: 0 | Loss 0.24473170936107635: 329it [1:08:50, 12.45s/it]\u001b[A\u001b[A\n",
            "\n",
            "Epoch: 82 | Batch: 0 | Loss 0.24473170936107635: 330it [1:09:04, 12.69s/it]\u001b[A\u001b[A\n",
            "\n",
            "Epoch: 82 | Batch: 1 | Loss 0.23327279090881348: 330it [1:09:04, 12.69s/it]\u001b[A\u001b[A\n",
            "\n",
            "Epoch: 82 | Batch: 1 | Loss 0.23327279090881348: 331it [1:09:17, 12.82s/it]\u001b[A\u001b[A\n",
            "\n",
            "Epoch: 82 | Batch: 2 | Loss 0.22783593833446503: 331it [1:09:17, 12.82s/it]\u001b[A\u001b[A\n",
            "\n",
            "Epoch: 82 | Batch: 2 | Loss 0.22783593833446503: 332it [1:09:24, 11.30s/it]\u001b[A\u001b[A\n",
            "\n",
            "Epoch: 82 | Batch: 3 | Loss 0.21370866894721985: 332it [1:09:24, 11.30s/it]\u001b[A\u001b[A"
          ]
        },
        {
          "output_type": "stream",
          "name": "stdout",
          "text": [
            "Epoch 82 Training Accuracy: tensor(0.9696)\n",
            "Testing Accuracy: tensor(0.8065)\n"
          ]
        },
        {
          "output_type": "stream",
          "name": "stderr",
          "text": [
            "\n",
            "\n",
            "Epoch: 82 | Batch: 3 | Loss 0.21370866894721985: 333it [1:09:39, 12.12s/it]\u001b[A\u001b[A\n",
            "\n",
            "Epoch: 83 | Batch: 0 | Loss 0.22812111675739288: 333it [1:09:39, 12.12s/it]\u001b[A\u001b[A\n",
            "\n",
            "Epoch: 83 | Batch: 0 | Loss 0.22812111675739288: 334it [1:09:52, 12.40s/it]\u001b[A\u001b[A\n",
            "\n",
            "Epoch: 83 | Batch: 1 | Loss 0.2392282783985138: 334it [1:09:52, 12.40s/it] \u001b[A\u001b[A\n",
            "\n",
            "Epoch: 83 | Batch: 1 | Loss 0.2392282783985138: 335it [1:10:04, 12.41s/it]\u001b[A\u001b[A\n",
            "\n",
            "Epoch: 83 | Batch: 2 | Loss 0.22243300080299377: 335it [1:10:04, 12.41s/it]\u001b[A\u001b[A\n",
            "\n",
            "Epoch: 83 | Batch: 2 | Loss 0.22243300080299377: 336it [1:10:14, 11.76s/it]\u001b[A\u001b[A\n",
            "\n",
            "Epoch: 83 | Batch: 3 | Loss 0.21227262914180756: 336it [1:10:14, 11.76s/it]\u001b[A\u001b[A"
          ]
        },
        {
          "output_type": "stream",
          "name": "stdout",
          "text": [
            "Epoch 83 Training Accuracy: tensor(0.9875)\n",
            "Testing Accuracy: tensor(0.8065)\n"
          ]
        },
        {
          "output_type": "stream",
          "name": "stderr",
          "text": [
            "\n",
            "\n",
            "Epoch: 83 | Batch: 3 | Loss 0.21227262914180756: 337it [1:10:28, 12.49s/it]\u001b[A\u001b[A\n",
            "\n",
            "Epoch: 84 | Batch: 0 | Loss 0.21303021907806396: 337it [1:10:28, 12.49s/it]\u001b[A\u001b[A\n",
            "\n",
            "Epoch: 84 | Batch: 0 | Loss 0.21303021907806396: 338it [1:10:43, 13.20s/it]\u001b[A\u001b[A\n",
            "\n",
            "Epoch: 84 | Batch: 1 | Loss 0.23626931011676788: 338it [1:10:43, 13.20s/it]\u001b[A\u001b[A\n",
            "\n",
            "Epoch: 84 | Batch: 1 | Loss 0.23626931011676788: 339it [1:10:55, 12.89s/it]\u001b[A\u001b[A\n",
            "\n",
            "Epoch: 84 | Batch: 2 | Loss 0.22618398070335388: 339it [1:10:55, 12.89s/it]\u001b[A\u001b[A\n",
            "\n",
            "Epoch: 84 | Batch: 2 | Loss 0.22618398070335388: 340it [1:11:04, 11.63s/it]\u001b[A\u001b[A\n",
            "\n",
            "Epoch: 84 | Batch: 3 | Loss 0.20094266533851624: 340it [1:11:04, 11.63s/it]\u001b[A\u001b[A"
          ]
        },
        {
          "output_type": "stream",
          "name": "stdout",
          "text": [
            "Epoch 84 Training Accuracy: tensor(0.9750)\n",
            "Testing Accuracy: tensor(0.8387)\n"
          ]
        },
        {
          "output_type": "stream",
          "name": "stderr",
          "text": [
            "\n",
            "\n",
            "Epoch: 84 | Batch: 3 | Loss 0.20094266533851624: 341it [1:11:19, 12.56s/it]\u001b[A\u001b[A\n",
            "\n",
            "Epoch: 85 | Batch: 0 | Loss 0.20421087741851807: 341it [1:11:19, 12.56s/it]\u001b[A\u001b[A\n",
            "\n",
            "Epoch: 85 | Batch: 0 | Loss 0.20421087741851807: 342it [1:11:32, 12.80s/it]\u001b[A\u001b[A\n",
            "\n",
            "Epoch: 85 | Batch: 1 | Loss 0.21157598495483398: 342it [1:11:32, 12.80s/it]\u001b[A\u001b[A\n",
            "\n",
            "Epoch: 85 | Batch: 1 | Loss 0.21157598495483398: 343it [1:11:46, 12.98s/it]\u001b[A\u001b[A\n",
            "\n",
            "Epoch: 85 | Batch: 2 | Loss 0.21286539733409882: 343it [1:11:46, 12.98s/it]\u001b[A\u001b[A\n",
            "\n",
            "Epoch: 85 | Batch: 2 | Loss 0.21286539733409882: 344it [1:11:55, 11.76s/it]\u001b[A\u001b[A\n",
            "\n",
            "Epoch: 85 | Batch: 3 | Loss 0.24575166404247284: 344it [1:11:55, 11.76s/it]\u001b[A\u001b[A"
          ]
        },
        {
          "output_type": "stream",
          "name": "stdout",
          "text": [
            "Epoch 85 Training Accuracy: tensor(0.9696)\n",
            "Testing Accuracy: tensor(0.8387)\n"
          ]
        },
        {
          "output_type": "stream",
          "name": "stderr",
          "text": [
            "\n",
            "\n",
            "Epoch: 85 | Batch: 3 | Loss 0.24575166404247284: 345it [1:12:09, 12.49s/it]\u001b[A\u001b[A\n",
            "\n",
            "Epoch: 86 | Batch: 0 | Loss 0.1727764904499054: 345it [1:12:09, 12.49s/it] \u001b[A\u001b[A\n",
            "\n",
            "Epoch: 86 | Batch: 0 | Loss 0.1727764904499054: 346it [1:12:21, 12.53s/it]\u001b[A\u001b[A\n",
            "\n",
            "Epoch: 86 | Batch: 1 | Loss 0.23312482237815857: 346it [1:12:21, 12.53s/it]\u001b[A\u001b[A\n",
            "\n",
            "Epoch: 86 | Batch: 1 | Loss 0.23312482237815857: 347it [1:12:35, 12.80s/it]\u001b[A\u001b[A\n",
            "\n",
            "Epoch: 86 | Batch: 2 | Loss 0.2434459626674652: 347it [1:12:35, 12.80s/it] \u001b[A\u001b[A\n",
            "\n",
            "Epoch: 86 | Batch: 2 | Loss 0.2434459626674652: 348it [1:12:44, 11.79s/it]\u001b[A\u001b[A\n",
            "\n",
            "Epoch: 86 | Batch: 3 | Loss 0.19091279804706573: 348it [1:12:44, 11.79s/it]\u001b[A\u001b[A"
          ]
        },
        {
          "output_type": "stream",
          "name": "stdout",
          "text": [
            "Epoch 86 Training Accuracy: tensor(0.9696)\n",
            "Testing Accuracy: tensor(0.8387)\n"
          ]
        },
        {
          "output_type": "stream",
          "name": "stderr",
          "text": [
            "\n",
            "\n",
            "Epoch: 86 | Batch: 3 | Loss 0.19091279804706573: 349it [1:12:58, 12.53s/it]\u001b[A\u001b[A\n",
            "\n",
            "Epoch: 87 | Batch: 0 | Loss 0.1729622632265091: 349it [1:12:59, 12.53s/it] \u001b[A\u001b[A\n",
            "\n",
            "Epoch: 87 | Batch: 0 | Loss 0.1729622632265091: 350it [1:13:12, 12.76s/it]\u001b[A\u001b[A\n",
            "\n",
            "Epoch: 87 | Batch: 1 | Loss 0.23789243400096893: 350it [1:13:12, 12.76s/it]\u001b[A\u001b[A\n",
            "\n",
            "Epoch: 87 | Batch: 1 | Loss 0.23789243400096893: 351it [1:13:27, 13.34s/it]\u001b[A\u001b[A\n",
            "\n",
            "Epoch: 87 | Batch: 2 | Loss 0.21508488059043884: 351it [1:13:27, 13.34s/it]\u001b[A\u001b[A\n",
            "\n",
            "Epoch: 87 | Batch: 2 | Loss 0.21508488059043884: 352it [1:13:35, 12.03s/it]\u001b[A\u001b[A\n",
            "\n",
            "Epoch: 87 | Batch: 3 | Loss 0.19854602217674255: 352it [1:13:35, 12.03s/it]\u001b[A\u001b[A"
          ]
        },
        {
          "output_type": "stream",
          "name": "stdout",
          "text": [
            "Epoch 87 Training Accuracy: tensor(0.9696)\n",
            "Testing Accuracy: tensor(0.8387)\n"
          ]
        },
        {
          "output_type": "stream",
          "name": "stderr",
          "text": [
            "\n",
            "\n",
            "Epoch: 87 | Batch: 3 | Loss 0.19854602217674255: 353it [1:13:50, 12.63s/it]\u001b[A\u001b[A\n",
            "\n",
            "Epoch: 88 | Batch: 0 | Loss 0.1620904505252838: 353it [1:13:50, 12.63s/it] \u001b[A\u001b[A\n",
            "\n",
            "Epoch: 88 | Batch: 0 | Loss 0.1620904505252838: 354it [1:14:03, 12.84s/it]\u001b[A\u001b[A\n",
            "\n",
            "Epoch: 88 | Batch: 1 | Loss 0.22705566883087158: 354it [1:14:03, 12.84s/it]\u001b[A\u001b[A\n",
            "\n",
            "Epoch: 88 | Batch: 1 | Loss 0.22705566883087158: 355it [1:14:16, 12.94s/it]\u001b[A\u001b[A\n",
            "\n",
            "Epoch: 88 | Batch: 2 | Loss 0.23306944966316223: 355it [1:14:16, 12.94s/it]\u001b[A\u001b[A\n",
            "\n",
            "Epoch: 88 | Batch: 2 | Loss 0.23306944966316223: 356it [1:14:26, 11.97s/it]\u001b[A\u001b[A\n",
            "\n",
            "Epoch: 88 | Batch: 3 | Loss 0.17856495082378387: 356it [1:14:26, 11.97s/it]\u001b[A\u001b[A"
          ]
        },
        {
          "output_type": "stream",
          "name": "stdout",
          "text": [
            "Epoch 88 Training Accuracy: tensor(0.9750)\n",
            "Testing Accuracy: tensor(0.8387)\n"
          ]
        },
        {
          "output_type": "stream",
          "name": "stderr",
          "text": [
            "\n",
            "\n",
            "Epoch: 88 | Batch: 3 | Loss 0.17856495082378387: 357it [1:14:40, 12.68s/it]\u001b[A\u001b[A\n",
            "\n",
            "Epoch: 89 | Batch: 0 | Loss 0.23208968341350555: 357it [1:14:40, 12.68s/it]\u001b[A\u001b[A\n",
            "\n",
            "Epoch: 89 | Batch: 0 | Loss 0.23208968341350555: 358it [1:14:52, 12.54s/it]\u001b[A\u001b[A\n",
            "\n",
            "Epoch: 89 | Batch: 1 | Loss 0.1715189516544342: 358it [1:14:52, 12.54s/it] \u001b[A\u001b[A\n",
            "\n",
            "Epoch: 89 | Batch: 1 | Loss 0.1715189516544342: 359it [1:15:05, 12.56s/it]\u001b[A\u001b[A\n",
            "\n",
            "Epoch: 89 | Batch: 2 | Loss 0.20491233468055725: 359it [1:15:05, 12.56s/it]\u001b[A\u001b[A\n",
            "\n",
            "Epoch: 89 | Batch: 2 | Loss 0.20491233468055725: 360it [1:15:15, 11.84s/it]\u001b[A\u001b[A\n",
            "\n",
            "Epoch: 89 | Batch: 3 | Loss 0.17255042493343353: 360it [1:15:15, 11.84s/it]\u001b[A\u001b[A"
          ]
        },
        {
          "output_type": "stream",
          "name": "stdout",
          "text": [
            "Epoch 89 Training Accuracy: tensor(1.)\n",
            "Testing Accuracy: tensor(0.8387)\n"
          ]
        },
        {
          "output_type": "stream",
          "name": "stderr",
          "text": [
            "\n",
            "\n",
            "Epoch: 89 | Batch: 3 | Loss 0.17255042493343353: 361it [1:15:30, 12.82s/it]\u001b[A\u001b[A\n",
            "\n",
            "Epoch: 90 | Batch: 0 | Loss 0.21318025887012482: 361it [1:15:30, 12.82s/it]\u001b[A\u001b[A\n",
            "\n",
            "Epoch: 90 | Batch: 0 | Loss 0.21318025887012482: 362it [1:15:44, 13.13s/it]\u001b[A\u001b[A\n",
            "\n",
            "Epoch: 90 | Batch: 1 | Loss 0.1722128689289093: 362it [1:15:44, 13.13s/it] \u001b[A\u001b[A\n",
            "\n",
            "Epoch: 90 | Batch: 1 | Loss 0.1722128689289093: 363it [1:15:57, 13.18s/it]\u001b[A\u001b[A\n",
            "\n",
            "Epoch: 90 | Batch: 2 | Loss 0.2265324890613556: 363it [1:15:57, 13.18s/it]\u001b[A\u001b[A\n",
            "\n",
            "Epoch: 90 | Batch: 2 | Loss 0.2265324890613556: 364it [1:16:06, 11.91s/it]\u001b[A\u001b[A\n",
            "\n",
            "Epoch: 90 | Batch: 3 | Loss 0.14393866062164307: 364it [1:16:06, 11.91s/it]\u001b[A\u001b[A"
          ]
        },
        {
          "output_type": "stream",
          "name": "stdout",
          "text": [
            "Epoch 90 Training Accuracy: tensor(1.)\n",
            "Testing Accuracy: tensor(0.8387)\n"
          ]
        },
        {
          "output_type": "stream",
          "name": "stderr",
          "text": [
            "\n",
            "\n",
            "Epoch: 90 | Batch: 3 | Loss 0.14393866062164307: 365it [1:16:23, 13.41s/it]\u001b[A\u001b[A\n",
            "\n",
            "Epoch: 91 | Batch: 0 | Loss 0.17601051926612854: 365it [1:16:23, 13.41s/it]\u001b[A\u001b[A\n",
            "\n",
            "Epoch: 91 | Batch: 0 | Loss 0.17601051926612854: 366it [1:16:36, 13.26s/it]\u001b[A\u001b[A\n",
            "\n",
            "Epoch: 91 | Batch: 1 | Loss 0.19510667026042938: 366it [1:16:36, 13.26s/it]\u001b[A\u001b[A\n",
            "\n",
            "Epoch: 91 | Batch: 1 | Loss 0.19510667026042938: 367it [1:16:48, 12.99s/it]\u001b[A\u001b[A\n",
            "\n",
            "Epoch: 91 | Batch: 2 | Loss 0.2211500108242035: 367it [1:16:48, 12.99s/it] \u001b[A\u001b[A\n",
            "\n",
            "Epoch: 91 | Batch: 2 | Loss 0.2211500108242035: 368it [1:16:58, 12.03s/it]\u001b[A\u001b[A\n",
            "\n",
            "Epoch: 91 | Batch: 3 | Loss 0.14812949299812317: 368it [1:16:58, 12.03s/it]\u001b[A\u001b[A"
          ]
        },
        {
          "output_type": "stream",
          "name": "stdout",
          "text": [
            "Epoch 91 Training Accuracy: tensor(1.)\n",
            "Testing Accuracy: tensor(0.8387)\n"
          ]
        },
        {
          "output_type": "stream",
          "name": "stderr",
          "text": [
            "\n",
            "\n",
            "Epoch: 91 | Batch: 3 | Loss 0.14812949299812317: 369it [1:17:13, 12.88s/it]\u001b[A\u001b[A\n",
            "\n",
            "Epoch: 92 | Batch: 0 | Loss 0.16709503531455994: 369it [1:17:13, 12.88s/it]\u001b[A\u001b[A\n",
            "\n",
            "Epoch: 92 | Batch: 0 | Loss 0.16709503531455994: 370it [1:17:27, 13.07s/it]\u001b[A\u001b[A\n",
            "\n",
            "Epoch: 92 | Batch: 1 | Loss 0.23092997074127197: 370it [1:17:27, 13.07s/it]\u001b[A\u001b[A\n",
            "\n",
            "Epoch: 92 | Batch: 1 | Loss 0.23092997074127197: 371it [1:17:40, 13.10s/it]\u001b[A\u001b[A\n",
            "\n",
            "Epoch: 92 | Batch: 2 | Loss 0.15497849881649017: 371it [1:17:40, 13.10s/it]\u001b[A\u001b[A\n",
            "\n",
            "Epoch: 92 | Batch: 2 | Loss 0.15497849881649017: 372it [1:17:48, 11.50s/it]\u001b[A\u001b[A\n",
            "\n",
            "Epoch: 92 | Batch: 3 | Loss 0.18154962360858917: 372it [1:17:48, 11.50s/it]\u001b[A\u001b[A"
          ]
        },
        {
          "output_type": "stream",
          "name": "stdout",
          "text": [
            "Epoch 92 Training Accuracy: tensor(1.)\n",
            "Testing Accuracy: tensor(0.8387)\n"
          ]
        },
        {
          "output_type": "stream",
          "name": "stderr",
          "text": [
            "\n",
            "\n",
            "Epoch: 92 | Batch: 3 | Loss 0.18154962360858917: 373it [1:18:02, 12.27s/it]\u001b[A\u001b[A\n",
            "\n",
            "Epoch: 93 | Batch: 0 | Loss 0.18019834160804749: 373it [1:18:02, 12.27s/it]\u001b[A\u001b[A\n",
            "\n",
            "Epoch: 93 | Batch: 0 | Loss 0.18019834160804749: 374it [1:18:15, 12.58s/it]\u001b[A\u001b[A\n",
            "\n",
            "Epoch: 93 | Batch: 1 | Loss 0.16824525594711304: 374it [1:18:15, 12.58s/it]\u001b[A\u001b[A\n",
            "\n",
            "Epoch: 93 | Batch: 1 | Loss 0.16824525594711304: 375it [1:18:28, 12.85s/it]\u001b[A\u001b[A\n",
            "\n",
            "Epoch: 93 | Batch: 2 | Loss 0.2025272399187088: 375it [1:18:28, 12.85s/it] \u001b[A\u001b[A\n",
            "\n",
            "Epoch: 93 | Batch: 2 | Loss 0.2025272399187088: 376it [1:18:38, 11.83s/it]\u001b[A\u001b[A\n",
            "\n",
            "Epoch: 93 | Batch: 3 | Loss 0.15655554831027985: 376it [1:18:38, 11.83s/it]\u001b[A\u001b[A"
          ]
        },
        {
          "output_type": "stream",
          "name": "stdout",
          "text": [
            "Epoch 93 Training Accuracy: tensor(1.)\n",
            "Testing Accuracy: tensor(0.8387)\n"
          ]
        },
        {
          "output_type": "stream",
          "name": "stderr",
          "text": [
            "\n",
            "\n",
            "Epoch: 93 | Batch: 3 | Loss 0.15655554831027985: 377it [1:18:52, 12.65s/it]\u001b[A\u001b[A\n",
            "\n",
            "Epoch: 94 | Batch: 0 | Loss 0.17817653715610504: 377it [1:18:52, 12.65s/it]\u001b[A\u001b[A\n",
            "\n",
            "Epoch: 94 | Batch: 0 | Loss 0.17817653715610504: 378it [1:19:05, 12.75s/it]\u001b[A\u001b[A\n",
            "\n",
            "Epoch: 94 | Batch: 1 | Loss 0.23559442162513733: 378it [1:19:05, 12.75s/it]\u001b[A\u001b[A\n",
            "\n",
            "Epoch: 94 | Batch: 1 | Loss 0.23559442162513733: 379it [1:19:20, 13.38s/it]\u001b[A\u001b[A\n",
            "\n",
            "Epoch: 94 | Batch: 2 | Loss 0.16406218707561493: 379it [1:19:20, 13.38s/it]\u001b[A\u001b[A\n",
            "\n",
            "Epoch: 94 | Batch: 2 | Loss 0.16406218707561493: 380it [1:19:28, 11.71s/it]\u001b[A\u001b[A\n",
            "\n",
            "Epoch: 94 | Batch: 3 | Loss 0.1087779551744461: 380it [1:19:28, 11.71s/it] \u001b[A\u001b[A"
          ]
        },
        {
          "output_type": "stream",
          "name": "stdout",
          "text": [
            "Epoch 94 Training Accuracy: tensor(1.)\n",
            "Testing Accuracy: tensor(0.8387)\n"
          ]
        },
        {
          "output_type": "stream",
          "name": "stderr",
          "text": [
            "\n",
            "\n",
            "Epoch: 94 | Batch: 3 | Loss 0.1087779551744461: 381it [1:19:42, 12.38s/it]\u001b[A\u001b[A\n",
            "\n",
            "Epoch: 95 | Batch: 0 | Loss 0.18734437227249146: 381it [1:19:42, 12.38s/it]\u001b[A\u001b[A\n",
            "\n",
            "Epoch: 95 | Batch: 0 | Loss 0.18734437227249146: 382it [1:19:55, 12.65s/it]\u001b[A\u001b[A\n",
            "\n",
            "Epoch: 95 | Batch: 1 | Loss 0.19674545526504517: 382it [1:19:55, 12.65s/it]\u001b[A\u001b[A\n",
            "\n",
            "Epoch: 95 | Batch: 1 | Loss 0.19674545526504517: 383it [1:20:09, 12.93s/it]\u001b[A\u001b[A\n",
            "\n",
            "Epoch: 95 | Batch: 2 | Loss 0.1675565242767334: 383it [1:20:09, 12.93s/it] \u001b[A\u001b[A\n",
            "\n",
            "Epoch: 95 | Batch: 2 | Loss 0.1675565242767334: 384it [1:20:18, 11.91s/it]\u001b[A\u001b[A\n",
            "\n",
            "Epoch: 95 | Batch: 3 | Loss 0.12471432238817215: 384it [1:20:18, 11.91s/it]\u001b[A\u001b[A"
          ]
        },
        {
          "output_type": "stream",
          "name": "stdout",
          "text": [
            "Epoch 95 Training Accuracy: tensor(1.)\n",
            "Testing Accuracy: tensor(0.8387)\n"
          ]
        },
        {
          "output_type": "stream",
          "name": "stderr",
          "text": [
            "\n",
            "\n",
            "Epoch: 95 | Batch: 3 | Loss 0.12471432238817215: 385it [1:20:33, 12.60s/it]\u001b[A\u001b[A\n",
            "\n",
            "Epoch: 96 | Batch: 0 | Loss 0.20314368605613708: 385it [1:20:33, 12.60s/it]\u001b[A\u001b[A\n",
            "\n",
            "Epoch: 96 | Batch: 0 | Loss 0.20314368605613708: 386it [1:20:45, 12.51s/it]\u001b[A\u001b[A\n",
            "\n",
            "Epoch: 96 | Batch: 1 | Loss 0.1728643923997879: 386it [1:20:45, 12.51s/it] \u001b[A\u001b[A\n",
            "\n",
            "Epoch: 96 | Batch: 1 | Loss 0.1728643923997879: 387it [1:20:59, 12.87s/it]\u001b[A\u001b[A\n",
            "\n",
            "Epoch: 96 | Batch: 2 | Loss 0.18751728534698486: 387it [1:20:59, 12.87s/it]\u001b[A\u001b[A\n",
            "\n",
            "Epoch: 96 | Batch: 2 | Loss 0.18751728534698486: 388it [1:21:08, 11.98s/it]\u001b[A\u001b[A\n",
            "\n",
            "Epoch: 96 | Batch: 3 | Loss 0.08862999826669693: 388it [1:21:08, 11.98s/it]\u001b[A\u001b[A"
          ]
        },
        {
          "output_type": "stream",
          "name": "stdout",
          "text": [
            "Epoch 96 Training Accuracy: tensor(1.)\n",
            "Testing Accuracy: tensor(0.8387)\n"
          ]
        },
        {
          "output_type": "stream",
          "name": "stderr",
          "text": [
            "\n",
            "\n",
            "Epoch: 96 | Batch: 3 | Loss 0.08862999826669693: 389it [1:21:23, 12.84s/it]\u001b[A\u001b[A\n",
            "\n",
            "Epoch: 97 | Batch: 0 | Loss 0.18849876523017883: 389it [1:21:23, 12.84s/it]\u001b[A\u001b[A\n",
            "\n",
            "Epoch: 97 | Batch: 0 | Loss 0.18849876523017883: 390it [1:21:38, 13.26s/it]\u001b[A\u001b[A\n",
            "\n",
            "Epoch: 97 | Batch: 1 | Loss 0.1690693497657776: 390it [1:21:38, 13.26s/it] \u001b[A\u001b[A\n",
            "\n",
            "Epoch: 97 | Batch: 1 | Loss 0.1690693497657776: 391it [1:21:51, 13.20s/it]\u001b[A\u001b[A\n",
            "\n",
            "Epoch: 97 | Batch: 2 | Loss 0.17205649614334106: 391it [1:21:51, 13.20s/it]\u001b[A\u001b[A\n",
            "\n",
            "Epoch: 97 | Batch: 2 | Loss 0.17205649614334106: 392it [1:22:01, 12.40s/it]\u001b[A\u001b[A\n",
            "\n",
            "Epoch: 97 | Batch: 3 | Loss 0.11374630033969879: 392it [1:22:01, 12.40s/it]\u001b[A\u001b[A"
          ]
        },
        {
          "output_type": "stream",
          "name": "stdout",
          "text": [
            "Epoch 97 Training Accuracy: tensor(1.)\n",
            "Testing Accuracy: tensor(0.8387)\n"
          ]
        },
        {
          "output_type": "stream",
          "name": "stderr",
          "text": [
            "\n",
            "\n",
            "Epoch: 97 | Batch: 3 | Loss 0.11374630033969879: 393it [1:22:16, 13.20s/it]\u001b[A\u001b[A\n",
            "\n",
            "Epoch: 98 | Batch: 0 | Loss 0.1684417426586151: 393it [1:22:16, 13.20s/it] \u001b[A\u001b[A\n",
            "\n",
            "Epoch: 98 | Batch: 0 | Loss 0.1684417426586151: 394it [1:22:30, 13.27s/it]\u001b[A\u001b[A\n",
            "\n",
            "Epoch: 98 | Batch: 1 | Loss 0.166464701294899: 394it [1:22:30, 13.27s/it] \u001b[A\u001b[A\n",
            "\n",
            "Epoch: 98 | Batch: 1 | Loss 0.166464701294899: 395it [1:22:43, 13.26s/it]\u001b[A\u001b[A\n",
            "\n",
            "Epoch: 98 | Batch: 2 | Loss 0.14350943267345428: 395it [1:22:43, 13.26s/it]\u001b[A\u001b[A\n",
            "\n",
            "Epoch: 98 | Batch: 2 | Loss 0.14350943267345428: 396it [1:22:52, 12.15s/it]\u001b[A\u001b[A\n",
            "\n",
            "Epoch: 98 | Batch: 3 | Loss 0.16475234925746918: 396it [1:22:52, 12.15s/it]\u001b[A\u001b[A"
          ]
        },
        {
          "output_type": "stream",
          "name": "stdout",
          "text": [
            "Epoch 98 Training Accuracy: tensor(1.)\n",
            "Testing Accuracy: tensor(0.8387)\n"
          ]
        },
        {
          "output_type": "stream",
          "name": "stderr",
          "text": [
            "\n",
            "\n",
            "Epoch: 98 | Batch: 3 | Loss 0.16475234925746918: 397it [1:23:07, 12.81s/it]\u001b[A\u001b[A\n",
            "\n",
            "Epoch: 99 | Batch: 0 | Loss 0.19019153714179993: 397it [1:23:07, 12.81s/it]\u001b[A\u001b[A\n",
            "\n",
            "Epoch: 99 | Batch: 0 | Loss 0.19019153714179993: 398it [1:23:20, 12.92s/it]\u001b[A\u001b[A\n",
            "\n",
            "Epoch: 99 | Batch: 1 | Loss 0.12926942110061646: 398it [1:23:20, 12.92s/it]\u001b[A\u001b[A\n",
            "\n",
            "Epoch: 99 | Batch: 1 | Loss 0.12926942110061646: 399it [1:23:33, 12.86s/it]\u001b[A\u001b[A\n",
            "\n",
            "Epoch: 99 | Batch: 2 | Loss 0.18345613777637482: 399it [1:23:33, 12.86s/it]\u001b[A\u001b[A\n",
            "\n",
            "Epoch: 99 | Batch: 2 | Loss 0.18345613777637482: 400it [1:23:42, 11.67s/it]\u001b[A\u001b[A\n",
            "\n",
            "Epoch: 99 | Batch: 3 | Loss 0.11049560457468033: 400it [1:23:42, 11.67s/it]\u001b[A\u001b[A"
          ]
        },
        {
          "output_type": "stream",
          "name": "stdout",
          "text": [
            "Epoch 99 Training Accuracy: tensor(1.)\n",
            "Testing Accuracy: tensor(0.8387)\n"
          ]
        },
        {
          "output_type": "stream",
          "name": "stderr",
          "text": [
            "\n",
            "\n",
            "Epoch: 99 | Batch: 3 | Loss 0.11049560457468033: 401it [1:23:56, 12.52s/it]\u001b[A\u001b[A\n",
            "\n",
            "Epoch: 100 | Batch: 0 | Loss 0.1560140699148178: 401it [1:23:56, 12.52s/it]\u001b[A\u001b[A\n",
            "\n",
            "Epoch: 100 | Batch: 0 | Loss 0.1560140699148178: 402it [1:24:09, 12.78s/it]\u001b[A\u001b[A\n",
            "\n",
            "Epoch: 100 | Batch: 1 | Loss 0.1772695779800415: 402it [1:24:09, 12.78s/it]\u001b[A\u001b[A\n",
            "\n",
            "Epoch: 100 | Batch: 1 | Loss 0.1772695779800415: 403it [1:24:23, 12.98s/it]\u001b[A\u001b[A\n",
            "\n",
            "Epoch: 100 | Batch: 2 | Loss 0.16635306179523468: 403it [1:24:23, 12.98s/it]\u001b[A\u001b[A\n",
            "\n",
            "Epoch: 100 | Batch: 2 | Loss 0.16635306179523468: 404it [1:24:32, 11.91s/it]\u001b[A\u001b[A\n",
            "\n",
            "Epoch: 100 | Batch: 3 | Loss 0.0981728807091713: 404it [1:24:32, 11.91s/it] \u001b[A\u001b[A"
          ]
        },
        {
          "output_type": "stream",
          "name": "stdout",
          "text": [
            "Epoch 100 Training Accuracy: tensor(1.)\n",
            "Testing Accuracy: tensor(0.8387)\n"
          ]
        },
        {
          "output_type": "stream",
          "name": "stderr",
          "text": [
            "\n",
            "\n",
            "Epoch: 100 | Batch: 3 | Loss 0.0981728807091713: 405it [1:24:46, 12.54s/it]\u001b[A\u001b[A\n",
            "\n",
            "Epoch: 101 | Batch: 0 | Loss 0.16351406276226044: 405it [1:24:46, 12.54s/it]\u001b[A\u001b[A\n",
            "\n",
            "Epoch: 101 | Batch: 0 | Loss 0.16351406276226044: 406it [1:25:02, 13.49s/it]\u001b[A\u001b[A\n",
            "\n",
            "Epoch: 101 | Batch: 1 | Loss 0.1808125078678131: 406it [1:25:02, 13.49s/it] \u001b[A\u001b[A\n",
            "\n",
            "Epoch: 101 | Batch: 1 | Loss 0.1808125078678131: 407it [1:25:14, 13.16s/it]\u001b[A\u001b[A\n",
            "\n",
            "Epoch: 101 | Batch: 2 | Loss 0.13055917620658875: 407it [1:25:14, 13.16s/it]\u001b[A\u001b[A\n",
            "\n",
            "Epoch: 101 | Batch: 2 | Loss 0.13055917620658875: 408it [1:25:24, 12.08s/it]\u001b[A\u001b[A\n",
            "\n",
            "Epoch: 101 | Batch: 3 | Loss 0.11209294945001602: 408it [1:25:24, 12.08s/it]\u001b[A\u001b[A"
          ]
        },
        {
          "output_type": "stream",
          "name": "stdout",
          "text": [
            "Epoch 101 Training Accuracy: tensor(1.)\n",
            "Testing Accuracy: tensor(0.8387)\n"
          ]
        },
        {
          "output_type": "stream",
          "name": "stderr",
          "text": [
            "\n",
            "\n",
            "Epoch: 101 | Batch: 3 | Loss 0.11209294945001602: 409it [1:25:38, 12.71s/it]\u001b[A\u001b[A\n",
            "\n",
            "Epoch: 102 | Batch: 0 | Loss 0.17831525206565857: 409it [1:25:38, 12.71s/it]\u001b[A\u001b[A\n",
            "\n",
            "Epoch: 102 | Batch: 0 | Loss 0.17831525206565857: 410it [1:25:52, 12.95s/it]\u001b[A\u001b[A\n",
            "\n",
            "Epoch: 102 | Batch: 1 | Loss 0.129489928483963: 410it [1:25:52, 12.95s/it]  \u001b[A\u001b[A\n",
            "\n",
            "Epoch: 102 | Batch: 1 | Loss 0.129489928483963: 411it [1:26:05, 13.11s/it]\u001b[A\u001b[A\n",
            "\n",
            "Epoch: 102 | Batch: 2 | Loss 0.16166558861732483: 411it [1:26:05, 13.11s/it]\u001b[A\u001b[A\n",
            "\n",
            "Epoch: 102 | Batch: 2 | Loss 0.16166558861732483: 412it [1:26:13, 11.58s/it]\u001b[A\u001b[A\n",
            "\n",
            "Epoch: 102 | Batch: 3 | Loss 0.10838555544614792: 412it [1:26:13, 11.58s/it]\u001b[A\u001b[A"
          ]
        },
        {
          "output_type": "stream",
          "name": "stdout",
          "text": [
            "Epoch 102 Training Accuracy: tensor(1.)\n",
            "Testing Accuracy: tensor(0.8387)\n"
          ]
        },
        {
          "output_type": "stream",
          "name": "stderr",
          "text": [
            "\n",
            "\n",
            "Epoch: 102 | Batch: 3 | Loss 0.10838555544614792: 413it [1:26:27, 12.33s/it]\u001b[A\u001b[A\n",
            "\n",
            "Epoch: 103 | Batch: 0 | Loss 0.14817088842391968: 413it [1:26:27, 12.33s/it]\u001b[A\u001b[A\n",
            "\n",
            "Epoch: 103 | Batch: 0 | Loss 0.14817088842391968: 414it [1:26:41, 12.64s/it]\u001b[A\u001b[A\n",
            "\n",
            "Epoch: 103 | Batch: 1 | Loss 0.12381061166524887: 414it [1:26:41, 12.64s/it]\u001b[A\u001b[A\n",
            "\n",
            "Epoch: 103 | Batch: 1 | Loss 0.12381061166524887: 415it [1:26:53, 12.65s/it]\u001b[A\u001b[A\n",
            "\n",
            "Epoch: 103 | Batch: 2 | Loss 0.17999334633350372: 415it [1:26:53, 12.65s/it]\u001b[A\u001b[A\n",
            "\n",
            "Epoch: 103 | Batch: 2 | Loss 0.17999334633350372: 416it [1:27:04, 12.05s/it]\u001b[A\u001b[A\n",
            "\n",
            "Epoch: 103 | Batch: 3 | Loss 0.1121201440691948: 416it [1:27:04, 12.05s/it] \u001b[A\u001b[A"
          ]
        },
        {
          "output_type": "stream",
          "name": "stdout",
          "text": [
            "Epoch 103 Training Accuracy: tensor(1.)\n",
            "Testing Accuracy: tensor(0.8387)\n"
          ]
        },
        {
          "output_type": "stream",
          "name": "stderr",
          "text": [
            "\n",
            "\n",
            "Epoch: 103 | Batch: 3 | Loss 0.1121201440691948: 417it [1:27:18, 12.74s/it]\u001b[A\u001b[A\n",
            "\n",
            "Epoch: 104 | Batch: 0 | Loss 0.1615947037935257: 417it [1:27:18, 12.74s/it]\u001b[A\u001b[A\n",
            "\n",
            "Epoch: 104 | Batch: 0 | Loss 0.1615947037935257: 418it [1:27:32, 12.97s/it]\u001b[A\u001b[A\n",
            "\n",
            "Epoch: 104 | Batch: 1 | Loss 0.13918305933475494: 418it [1:27:32, 12.97s/it]\u001b[A\u001b[A\n",
            "\n",
            "Epoch: 104 | Batch: 1 | Loss 0.13918305933475494: 419it [1:27:46, 13.41s/it]\u001b[A\u001b[A\n",
            "\n",
            "Epoch: 104 | Batch: 2 | Loss 0.12920892238616943: 419it [1:27:46, 13.41s/it]\u001b[A\u001b[A\n",
            "\n",
            "Epoch: 104 | Batch: 2 | Loss 0.12920892238616943: 420it [1:27:55, 11.96s/it]\u001b[A\u001b[A\n",
            "\n",
            "Epoch: 104 | Batch: 3 | Loss 0.12722855806350708: 420it [1:27:55, 11.96s/it]\u001b[A\u001b[A"
          ]
        },
        {
          "output_type": "stream",
          "name": "stdout",
          "text": [
            "Epoch 104 Training Accuracy: tensor(1.)\n",
            "Testing Accuracy: tensor(0.8387)\n"
          ]
        },
        {
          "output_type": "stream",
          "name": "stderr",
          "text": [
            "\n",
            "\n",
            "Epoch: 104 | Batch: 3 | Loss 0.12722855806350708: 421it [1:28:09, 12.59s/it]\u001b[A\u001b[A\n",
            "\n",
            "Epoch: 105 | Batch: 0 | Loss 0.2090076208114624: 421it [1:28:09, 12.59s/it] \u001b[A\u001b[A\n",
            "\n",
            "Epoch: 105 | Batch: 0 | Loss 0.2090076208114624: 422it [1:28:23, 12.91s/it]\u001b[A\u001b[A\n",
            "\n",
            "Epoch: 105 | Batch: 1 | Loss 0.14051084220409393: 422it [1:28:23, 12.91s/it]\u001b[A\u001b[A\n",
            "\n",
            "Epoch: 105 | Batch: 1 | Loss 0.14051084220409393: 423it [1:28:35, 12.78s/it]\u001b[A\u001b[A\n",
            "\n",
            "Epoch: 105 | Batch: 2 | Loss 0.11344306170940399: 423it [1:28:35, 12.78s/it]\u001b[A\u001b[A\n",
            "\n",
            "Epoch: 105 | Batch: 2 | Loss 0.11344306170940399: 424it [1:28:45, 12.06s/it]\u001b[A\u001b[A\n",
            "\n",
            "Epoch: 105 | Batch: 3 | Loss 0.07713375985622406: 424it [1:28:45, 12.06s/it]\u001b[A\u001b[A"
          ]
        },
        {
          "output_type": "stream",
          "name": "stdout",
          "text": [
            "Epoch 105 Training Accuracy: tensor(1.)\n",
            "Testing Accuracy: tensor(0.8387)\n"
          ]
        },
        {
          "output_type": "stream",
          "name": "stderr",
          "text": [
            "\n",
            "\n",
            "Epoch: 105 | Batch: 3 | Loss 0.07713375985622406: 425it [1:28:59, 12.55s/it]\u001b[A\u001b[A\n",
            "\n",
            "Epoch: 106 | Batch: 0 | Loss 0.14005327224731445: 425it [1:28:59, 12.55s/it]\u001b[A\u001b[A\n",
            "\n",
            "Epoch: 106 | Batch: 0 | Loss 0.14005327224731445: 426it [1:29:11, 12.43s/it]\u001b[A\u001b[A\n",
            "\n",
            "Epoch: 106 | Batch: 1 | Loss 0.18293021619319916: 426it [1:29:11, 12.43s/it]\u001b[A\u001b[A\n",
            "\n",
            "Epoch: 106 | Batch: 1 | Loss 0.18293021619319916: 427it [1:29:23, 12.38s/it]\u001b[A\u001b[A\n",
            "\n",
            "Epoch: 106 | Batch: 2 | Loss 0.1124734878540039: 427it [1:29:23, 12.38s/it] \u001b[A\u001b[A\n",
            "\n",
            "Epoch: 106 | Batch: 2 | Loss 0.1124734878540039: 428it [1:29:34, 11.85s/it]\u001b[A\u001b[A\n",
            "\n",
            "Epoch: 106 | Batch: 3 | Loss 0.09206245094537735: 428it [1:29:34, 11.85s/it]\u001b[A\u001b[A"
          ]
        },
        {
          "output_type": "stream",
          "name": "stdout",
          "text": [
            "Epoch 106 Training Accuracy: tensor(1.)\n",
            "Testing Accuracy: tensor(0.8387)\n"
          ]
        },
        {
          "output_type": "stream",
          "name": "stderr",
          "text": [
            "\n",
            "\n",
            "Epoch: 106 | Batch: 3 | Loss 0.09206245094537735: 429it [1:29:49, 12.64s/it]\u001b[A\u001b[A\n",
            "\n",
            "Epoch: 107 | Batch: 0 | Loss 0.11262078583240509: 429it [1:29:49, 12.64s/it]\u001b[A\u001b[A\n",
            "\n",
            "Epoch: 107 | Batch: 0 | Loss 0.11262078583240509: 430it [1:30:02, 12.90s/it]\u001b[A\u001b[A\n",
            "\n",
            "Epoch: 107 | Batch: 1 | Loss 0.154654398560524: 430it [1:30:02, 12.90s/it]  \u001b[A\u001b[A\n",
            "\n",
            "Epoch: 107 | Batch: 1 | Loss 0.154654398560524: 431it [1:30:15, 13.02s/it]\u001b[A\u001b[A\n",
            "\n",
            "Epoch: 107 | Batch: 2 | Loss 0.14065933227539062: 431it [1:30:15, 13.02s/it]\u001b[A\u001b[A\n",
            "\n",
            "Epoch: 107 | Batch: 2 | Loss 0.14065933227539062: 432it [1:30:23, 11.45s/it]\u001b[A\u001b[A\n",
            "\n",
            "Epoch: 107 | Batch: 3 | Loss 0.11183173954486847: 432it [1:30:23, 11.45s/it]\u001b[A\u001b[A"
          ]
        },
        {
          "output_type": "stream",
          "name": "stdout",
          "text": [
            "Epoch 107 Training Accuracy: tensor(1.)\n",
            "Testing Accuracy: tensor(0.8387)\n"
          ]
        },
        {
          "output_type": "stream",
          "name": "stderr",
          "text": [
            "\n",
            "\n",
            "Epoch: 107 | Batch: 3 | Loss 0.11183173954486847: 433it [1:30:39, 12.89s/it]\u001b[A\u001b[A\n",
            "\n",
            "Epoch: 108 | Batch: 0 | Loss 0.14531847834587097: 433it [1:30:39, 12.89s/it]\u001b[A\u001b[A\n",
            "\n",
            "Epoch: 108 | Batch: 0 | Loss 0.14531847834587097: 434it [1:30:52, 12.95s/it]\u001b[A\u001b[A\n",
            "\n",
            "Epoch: 108 | Batch: 1 | Loss 0.14292138814926147: 434it [1:30:53, 12.95s/it]\u001b[A\u001b[A\n",
            "\n",
            "Epoch: 108 | Batch: 1 | Loss 0.14292138814926147: 435it [1:31:05, 12.88s/it]\u001b[A\u001b[A\n",
            "\n",
            "Epoch: 108 | Batch: 2 | Loss 0.11297307908535004: 435it [1:31:05, 12.88s/it]\u001b[A\u001b[A\n",
            "\n",
            "Epoch: 108 | Batch: 2 | Loss 0.11297307908535004: 436it [1:31:15, 12.05s/it]\u001b[A\u001b[A\n",
            "\n",
            "Epoch: 108 | Batch: 3 | Loss 0.10403666645288467: 436it [1:31:15, 12.05s/it]\u001b[A\u001b[A"
          ]
        },
        {
          "output_type": "stream",
          "name": "stdout",
          "text": [
            "Epoch 108 Training Accuracy: tensor(1.)\n",
            "Testing Accuracy: tensor(0.8387)\n"
          ]
        },
        {
          "output_type": "stream",
          "name": "stderr",
          "text": [
            "\n",
            "\n",
            "Epoch: 108 | Batch: 3 | Loss 0.10403666645288467: 437it [1:31:30, 12.81s/it]\u001b[A\u001b[A\n",
            "\n",
            "Epoch: 109 | Batch: 0 | Loss 0.14851047098636627: 437it [1:31:30, 12.81s/it]\u001b[A\u001b[A\n",
            "\n",
            "Epoch: 109 | Batch: 0 | Loss 0.14851047098636627: 438it [1:31:43, 12.91s/it]\u001b[A\u001b[A\n",
            "\n",
            "Epoch: 109 | Batch: 1 | Loss 0.13466015458106995: 438it [1:31:43, 12.91s/it]\u001b[A\u001b[A\n",
            "\n",
            "Epoch: 109 | Batch: 1 | Loss 0.13466015458106995: 439it [1:31:54, 12.44s/it]\u001b[A\u001b[A\n",
            "\n",
            "Epoch: 109 | Batch: 2 | Loss 0.1218101978302002: 439it [1:31:54, 12.44s/it] \u001b[A\u001b[A\n",
            "\n",
            "Epoch: 109 | Batch: 2 | Loss 0.1218101978302002: 440it [1:32:04, 11.58s/it]\u001b[A\u001b[A\n",
            "\n",
            "Epoch: 109 | Batch: 3 | Loss 0.08992923051118851: 440it [1:32:04, 11.58s/it]\u001b[A\u001b[A"
          ]
        },
        {
          "output_type": "stream",
          "name": "stdout",
          "text": [
            "Epoch 109 Training Accuracy: tensor(1.)\n",
            "Testing Accuracy: tensor(0.8387)\n"
          ]
        },
        {
          "output_type": "stream",
          "name": "stderr",
          "text": [
            "\n",
            "\n",
            "Epoch: 109 | Batch: 3 | Loss 0.08992923051118851: 441it [1:32:18, 12.42s/it]\u001b[A\u001b[A\n",
            "\n",
            "Epoch: 110 | Batch: 0 | Loss 0.16463281214237213: 441it [1:32:18, 12.42s/it]\u001b[A\u001b[A\n",
            "\n",
            "Epoch: 110 | Batch: 0 | Loss 0.16463281214237213: 442it [1:32:31, 12.43s/it]\u001b[A\u001b[A\n",
            "\n",
            "Epoch: 110 | Batch: 1 | Loss 0.1331697553396225: 442it [1:32:31, 12.43s/it] \u001b[A\u001b[A\n",
            "\n",
            "Epoch: 110 | Batch: 1 | Loss 0.1331697553396225: 443it [1:32:44, 12.79s/it]\u001b[A\u001b[A\n",
            "\n",
            "Epoch: 110 | Batch: 2 | Loss 0.10168588161468506: 443it [1:32:44, 12.79s/it]\u001b[A\u001b[A\n",
            "\n",
            "Epoch: 110 | Batch: 2 | Loss 0.10168588161468506: 444it [1:32:54, 11.74s/it]\u001b[A\u001b[A\n",
            "\n",
            "Epoch: 110 | Batch: 3 | Loss 0.08076401799917221: 444it [1:32:54, 11.74s/it]\u001b[A\u001b[A"
          ]
        },
        {
          "output_type": "stream",
          "name": "stdout",
          "text": [
            "Epoch 110 Training Accuracy: tensor(1.)\n",
            "Testing Accuracy: tensor(0.8387)\n"
          ]
        },
        {
          "output_type": "stream",
          "name": "stderr",
          "text": [
            "\n",
            "\n",
            "Epoch: 110 | Batch: 3 | Loss 0.08076401799917221: 445it [1:33:09, 12.69s/it]\u001b[A\u001b[A\n",
            "\n",
            "Epoch: 111 | Batch: 0 | Loss 0.1666482388973236: 445it [1:33:09, 12.69s/it] \u001b[A\u001b[A\n",
            "\n",
            "Epoch: 111 | Batch: 0 | Loss 0.1666482388973236: 446it [1:33:24, 13.63s/it]\u001b[A\u001b[A\n",
            "\n",
            "Epoch: 111 | Batch: 1 | Loss 0.09329284727573395: 446it [1:33:24, 13.63s/it]\u001b[A\u001b[A\n",
            "\n",
            "Epoch: 111 | Batch: 1 | Loss 0.09329284727573395: 447it [1:33:38, 13.51s/it]\u001b[A\u001b[A\n",
            "\n",
            "Epoch: 111 | Batch: 2 | Loss 0.11295046657323837: 447it [1:33:38, 13.51s/it]\u001b[A\u001b[A\n",
            "\n",
            "Epoch: 111 | Batch: 2 | Loss 0.11295046657323837: 448it [1:33:47, 12.33s/it]\u001b[A\u001b[A\n",
            "\n",
            "Epoch: 111 | Batch: 3 | Loss 0.10554792732000351: 448it [1:33:47, 12.33s/it]\u001b[A\u001b[A"
          ]
        },
        {
          "output_type": "stream",
          "name": "stdout",
          "text": [
            "Epoch 111 Training Accuracy: tensor(1.)\n",
            "Testing Accuracy: tensor(0.8387)\n"
          ]
        },
        {
          "output_type": "stream",
          "name": "stderr",
          "text": [
            "\n",
            "\n",
            "Epoch: 111 | Batch: 3 | Loss 0.10554792732000351: 449it [1:34:02, 13.19s/it]\u001b[A\u001b[A\n",
            "\n",
            "Epoch: 112 | Batch: 0 | Loss 0.125418022274971: 449it [1:34:02, 13.19s/it]  \u001b[A\u001b[A\n",
            "\n",
            "Epoch: 112 | Batch: 0 | Loss 0.125418022274971: 450it [1:34:16, 13.41s/it]\u001b[A\u001b[A\n",
            "\n",
            "Epoch: 112 | Batch: 1 | Loss 0.11111811548471451: 450it [1:34:16, 13.41s/it]\u001b[A\u001b[A\n",
            "\n",
            "Epoch: 112 | Batch: 1 | Loss 0.11111811548471451: 451it [1:34:29, 13.22s/it]\u001b[A\u001b[A\n",
            "\n",
            "Epoch: 112 | Batch: 2 | Loss 0.14062926173210144: 451it [1:34:29, 13.22s/it]\u001b[A\u001b[A\n",
            "\n",
            "Epoch: 112 | Batch: 2 | Loss 0.14062926173210144: 452it [1:34:40, 12.52s/it]\u001b[A\u001b[A\n",
            "\n",
            "Epoch: 112 | Batch: 3 | Loss 0.08343187719583511: 452it [1:34:40, 12.52s/it]\u001b[A\u001b[A"
          ]
        },
        {
          "output_type": "stream",
          "name": "stdout",
          "text": [
            "Epoch 112 Training Accuracy: tensor(1.)\n",
            "Testing Accuracy: tensor(0.8387)\n"
          ]
        },
        {
          "output_type": "stream",
          "name": "stderr",
          "text": [
            "\n",
            "\n",
            "Epoch: 112 | Batch: 3 | Loss 0.08343187719583511: 453it [1:34:55, 13.14s/it]\u001b[A\u001b[A\n",
            "\n",
            "Epoch: 113 | Batch: 0 | Loss 0.13500238955020905: 453it [1:34:55, 13.14s/it]\u001b[A\u001b[A\n",
            "\n",
            "Epoch: 113 | Batch: 0 | Loss 0.13500238955020905: 454it [1:35:07, 12.89s/it]\u001b[A\u001b[A\n",
            "\n",
            "Epoch: 113 | Batch: 1 | Loss 0.11891978979110718: 454it [1:35:07, 12.89s/it]\u001b[A\u001b[A\n",
            "\n",
            "Epoch: 113 | Batch: 1 | Loss 0.11891978979110718: 455it [1:35:18, 12.49s/it]\u001b[A\u001b[A\n",
            "\n",
            "Epoch: 113 | Batch: 2 | Loss 0.1015770435333252: 455it [1:35:18, 12.49s/it] \u001b[A\u001b[A\n",
            "\n",
            "Epoch: 113 | Batch: 2 | Loss 0.1015770435333252: 456it [1:35:29, 11.81s/it]\u001b[A\u001b[A\n",
            "\n",
            "Epoch: 113 | Batch: 3 | Loss 0.10086507350206375: 456it [1:35:29, 11.81s/it]\u001b[A\u001b[A"
          ]
        },
        {
          "output_type": "stream",
          "name": "stdout",
          "text": [
            "Epoch 113 Training Accuracy: tensor(1.)\n",
            "Testing Accuracy: tensor(0.8387)\n"
          ]
        },
        {
          "output_type": "stream",
          "name": "stderr",
          "text": [
            "\n",
            "\n",
            "Epoch: 113 | Batch: 3 | Loss 0.10086507350206375: 457it [1:35:44, 12.86s/it]\u001b[A\u001b[A\n",
            "\n",
            "Epoch: 114 | Batch: 0 | Loss 0.12344153225421906: 457it [1:35:44, 12.86s/it]\u001b[A\u001b[A\n",
            "\n",
            "Epoch: 114 | Batch: 0 | Loss 0.12344153225421906: 458it [1:35:57, 12.85s/it]\u001b[A\u001b[A\n",
            "\n",
            "Epoch: 114 | Batch: 1 | Loss 0.10801596939563751: 458it [1:35:57, 12.85s/it]\u001b[A\u001b[A\n",
            "\n",
            "Epoch: 114 | Batch: 1 | Loss 0.10801596939563751: 459it [1:36:12, 13.68s/it]\u001b[A\u001b[A\n",
            "\n",
            "Epoch: 114 | Batch: 2 | Loss 0.11859706789255142: 459it [1:36:12, 13.68s/it]\u001b[A\u001b[A\n",
            "\n",
            "Epoch: 114 | Batch: 2 | Loss 0.11859706789255142: 460it [1:36:23, 12.70s/it]\u001b[A\u001b[A\n",
            "\n",
            "Epoch: 114 | Batch: 3 | Loss 0.09829079359769821: 460it [1:36:23, 12.70s/it]\u001b[A\u001b[A"
          ]
        },
        {
          "output_type": "stream",
          "name": "stdout",
          "text": [
            "Epoch 114 Training Accuracy: tensor(1.)\n",
            "Testing Accuracy: tensor(0.8387)\n"
          ]
        },
        {
          "output_type": "stream",
          "name": "stderr",
          "text": [
            "\n",
            "\n",
            "Epoch: 114 | Batch: 3 | Loss 0.09829079359769821: 461it [1:36:38, 13.30s/it]\u001b[A\u001b[A\n",
            "\n",
            "Epoch: 115 | Batch: 0 | Loss 0.10479090362787247: 461it [1:36:38, 13.30s/it]\u001b[A\u001b[A\n",
            "\n",
            "Epoch: 115 | Batch: 0 | Loss 0.10479090362787247: 462it [1:36:50, 13.12s/it]\u001b[A\u001b[A\n",
            "\n",
            "Epoch: 115 | Batch: 1 | Loss 0.11145608127117157: 462it [1:36:50, 13.12s/it]\u001b[A\u001b[A\n",
            "\n",
            "Epoch: 115 | Batch: 1 | Loss 0.11145608127117157: 463it [1:37:02, 12.63s/it]\u001b[A\u001b[A\n",
            "\n",
            "Epoch: 115 | Batch: 2 | Loss 0.12047912180423737: 463it [1:37:02, 12.63s/it]\u001b[A\u001b[A\n",
            "\n",
            "Epoch: 115 | Batch: 2 | Loss 0.12047912180423737: 464it [1:37:12, 11.97s/it]\u001b[A\u001b[A\n",
            "\n",
            "Epoch: 115 | Batch: 3 | Loss 0.10149814188480377: 464it [1:37:12, 11.97s/it]\u001b[A\u001b[A"
          ]
        },
        {
          "output_type": "stream",
          "name": "stdout",
          "text": [
            "Epoch 115 Training Accuracy: tensor(1.)\n",
            "Testing Accuracy: tensor(0.8387)\n"
          ]
        },
        {
          "output_type": "stream",
          "name": "stderr",
          "text": [
            "\n",
            "\n",
            "Epoch: 115 | Batch: 3 | Loss 0.10149814188480377: 465it [1:37:27, 12.69s/it]\u001b[A\u001b[A\n",
            "\n",
            "Epoch: 116 | Batch: 0 | Loss 0.11291857808828354: 465it [1:37:27, 12.69s/it]\u001b[A\u001b[A\n",
            "\n",
            "Epoch: 116 | Batch: 0 | Loss 0.11291857808828354: 466it [1:37:40, 12.80s/it]\u001b[A\u001b[A\n",
            "\n",
            "Epoch: 116 | Batch: 1 | Loss 0.11585982888936996: 466it [1:37:40, 12.80s/it]\u001b[A\u001b[A\n",
            "\n",
            "Epoch: 116 | Batch: 1 | Loss 0.11585982888936996: 467it [1:37:52, 12.73s/it]\u001b[A\u001b[A\n",
            "\n",
            "Epoch: 116 | Batch: 2 | Loss 0.11645080149173737: 467it [1:37:52, 12.73s/it]\u001b[A\u001b[A\n",
            "\n",
            "Epoch: 116 | Batch: 2 | Loss 0.11645080149173737: 468it [1:38:01, 11.45s/it]\u001b[A\u001b[A\n",
            "\n",
            "Epoch: 116 | Batch: 3 | Loss 0.08191398531198502: 468it [1:38:01, 11.45s/it]\u001b[A\u001b[A"
          ]
        },
        {
          "output_type": "stream",
          "name": "stdout",
          "text": [
            "Epoch 116 Training Accuracy: tensor(1.)\n",
            "Testing Accuracy: tensor(0.8710)\n"
          ]
        },
        {
          "output_type": "stream",
          "name": "stderr",
          "text": [
            "\n",
            "\n",
            "Epoch: 116 | Batch: 3 | Loss 0.08191398531198502: 469it [1:38:15, 12.34s/it]\u001b[A\u001b[A\n",
            "\n",
            "Epoch: 117 | Batch: 0 | Loss 0.1399461030960083: 469it [1:38:15, 12.34s/it] \u001b[A\u001b[A\n",
            "\n",
            "Epoch: 117 | Batch: 0 | Loss 0.1399461030960083: 470it [1:38:28, 12.65s/it]\u001b[A\u001b[A\n",
            "\n",
            "Epoch: 117 | Batch: 1 | Loss 0.09938476234674454: 470it [1:38:28, 12.65s/it]\u001b[A\u001b[A\n",
            "\n",
            "Epoch: 117 | Batch: 1 | Loss 0.09938476234674454: 471it [1:38:41, 12.67s/it]\u001b[A\u001b[A\n",
            "\n",
            "Epoch: 117 | Batch: 2 | Loss 0.1147754043340683: 471it [1:38:41, 12.67s/it] \u001b[A\u001b[A\n",
            "\n",
            "Epoch: 117 | Batch: 2 | Loss 0.1147754043340683: 472it [1:38:53, 12.56s/it]\u001b[A\u001b[A\n",
            "\n",
            "Epoch: 117 | Batch: 3 | Loss 0.06390003859996796: 472it [1:38:53, 12.56s/it]\u001b[A\u001b[A"
          ]
        },
        {
          "output_type": "stream",
          "name": "stdout",
          "text": [
            "Epoch 117 Training Accuracy: tensor(1.)\n",
            "Testing Accuracy: tensor(0.8710)\n"
          ]
        },
        {
          "output_type": "stream",
          "name": "stderr",
          "text": [
            "\n",
            "\n",
            "Epoch: 117 | Batch: 3 | Loss 0.06390003859996796: 473it [1:39:08, 13.07s/it]\u001b[A\u001b[A\n",
            "\n",
            "Epoch: 118 | Batch: 0 | Loss 0.0944461077451706: 473it [1:39:08, 13.07s/it] \u001b[A\u001b[A\n",
            "\n",
            "Epoch: 118 | Batch: 0 | Loss 0.0944461077451706: 474it [1:39:20, 12.90s/it]\u001b[A\u001b[A\n",
            "\n",
            "Epoch: 118 | Batch: 1 | Loss 0.10205294191837311: 474it [1:39:20, 12.90s/it]\u001b[A\u001b[A\n",
            "\n",
            "Epoch: 118 | Batch: 1 | Loss 0.10205294191837311: 475it [1:39:32, 12.48s/it]\u001b[A\u001b[A\n",
            "\n",
            "Epoch: 118 | Batch: 2 | Loss 0.13033300638198853: 475it [1:39:32, 12.48s/it]\u001b[A\u001b[A\n",
            "\n",
            "Epoch: 118 | Batch: 2 | Loss 0.13033300638198853: 476it [1:39:42, 11.76s/it]\u001b[A\u001b[A\n",
            "\n",
            "Epoch: 118 | Batch: 3 | Loss 0.0818278044462204: 476it [1:39:42, 11.76s/it] \u001b[A\u001b[A"
          ]
        },
        {
          "output_type": "stream",
          "name": "stdout",
          "text": [
            "Epoch 118 Training Accuracy: tensor(1.)\n",
            "Testing Accuracy: tensor(0.8710)\n"
          ]
        },
        {
          "output_type": "stream",
          "name": "stderr",
          "text": [
            "\n",
            "\n",
            "Epoch: 118 | Batch: 3 | Loss 0.0818278044462204: 477it [1:39:56, 12.54s/it]\u001b[A\u001b[A\n",
            "\n",
            "Epoch: 119 | Batch: 0 | Loss 0.09089630842208862: 477it [1:39:56, 12.54s/it]\u001b[A\u001b[A\n",
            "\n",
            "Epoch: 119 | Batch: 0 | Loss 0.09089630842208862: 478it [1:40:09, 12.57s/it]\u001b[A\u001b[A\n",
            "\n",
            "Epoch: 119 | Batch: 1 | Loss 0.12339730560779572: 478it [1:40:09, 12.57s/it]\u001b[A\u001b[A\n",
            "\n",
            "Epoch: 119 | Batch: 1 | Loss 0.12339730560779572: 479it [1:40:23, 12.92s/it]\u001b[A\u001b[A\n",
            "\n",
            "Epoch: 119 | Batch: 2 | Loss 0.12029079347848892: 479it [1:40:23, 12.92s/it]\u001b[A\u001b[A\n",
            "\n",
            "Epoch: 119 | Batch: 2 | Loss 0.12029079347848892: 480it [1:40:31, 11.68s/it]\u001b[A\u001b[A\n",
            "\n",
            "Epoch: 119 | Batch: 3 | Loss 0.06637845933437347: 480it [1:40:31, 11.68s/it]\u001b[A\u001b[A"
          ]
        },
        {
          "output_type": "stream",
          "name": "stdout",
          "text": [
            "Epoch 119 Training Accuracy: tensor(1.)\n",
            "Testing Accuracy: tensor(0.8710)\n"
          ]
        },
        {
          "output_type": "stream",
          "name": "stderr",
          "text": [
            "\n",
            "\n",
            "Epoch: 119 | Batch: 3 | Loss 0.06637845933437347: 481it [1:40:45, 12.40s/it]\u001b[A\u001b[A\n",
            "\n",
            "Epoch: 120 | Batch: 0 | Loss 0.10429197549819946: 481it [1:40:45, 12.40s/it]\u001b[A\u001b[A\n",
            "\n",
            "Epoch: 120 | Batch: 0 | Loss 0.10429197549819946: 482it [1:40:58, 12.45s/it]\u001b[A\u001b[A\n",
            "\n",
            "Epoch: 120 | Batch: 1 | Loss 0.11235243082046509: 482it [1:40:58, 12.45s/it]\u001b[A\u001b[A\n",
            "\n",
            "Epoch: 120 | Batch: 1 | Loss 0.11235243082046509: 483it [1:41:11, 12.73s/it]\u001b[A\u001b[A\n",
            "\n",
            "Epoch: 120 | Batch: 2 | Loss 0.09334732592105865: 483it [1:41:11, 12.73s/it]\u001b[A\u001b[A\n",
            "\n",
            "Epoch: 120 | Batch: 2 | Loss 0.09334732592105865: 484it [1:41:22, 12.05s/it]\u001b[A\u001b[A\n",
            "\n",
            "Epoch: 120 | Batch: 3 | Loss 0.08409035950899124: 484it [1:41:22, 12.05s/it]\u001b[A\u001b[A"
          ]
        },
        {
          "output_type": "stream",
          "name": "stdout",
          "text": [
            "Epoch 120 Training Accuracy: tensor(1.)\n",
            "Testing Accuracy: tensor(0.8710)\n"
          ]
        },
        {
          "output_type": "stream",
          "name": "stderr",
          "text": [
            "\n",
            "\n",
            "Epoch: 120 | Batch: 3 | Loss 0.08409035950899124: 485it [1:41:38, 13.39s/it]\u001b[A\u001b[A\n",
            "\n",
            "Epoch: 121 | Batch: 0 | Loss 0.10157547146081924: 485it [1:41:38, 13.39s/it]\u001b[A\u001b[A\n",
            "\n",
            "Epoch: 121 | Batch: 0 | Loss 0.10157547146081924: 486it [1:41:51, 13.25s/it]\u001b[A\u001b[A\n",
            "\n",
            "Epoch: 121 | Batch: 1 | Loss 0.10115756094455719: 486it [1:41:51, 13.25s/it]\u001b[A\u001b[A\n",
            "\n",
            "Epoch: 121 | Batch: 1 | Loss 0.10115756094455719: 487it [1:42:04, 13.07s/it]\u001b[A\u001b[A\n",
            "\n",
            "Epoch: 121 | Batch: 2 | Loss 0.1070389524102211: 487it [1:42:04, 13.07s/it] \u001b[A\u001b[A\n",
            "\n",
            "Epoch: 121 | Batch: 2 | Loss 0.1070389524102211: 488it [1:42:13, 11.84s/it]\u001b[A\u001b[A\n",
            "\n",
            "Epoch: 121 | Batch: 3 | Loss 0.07571955770254135: 488it [1:42:13, 11.84s/it]\u001b[A\u001b[A"
          ]
        },
        {
          "output_type": "stream",
          "name": "stdout",
          "text": [
            "Epoch 121 Training Accuracy: tensor(1.)\n",
            "Testing Accuracy: tensor(0.8710)\n"
          ]
        },
        {
          "output_type": "stream",
          "name": "stderr",
          "text": [
            "\n",
            "\n",
            "Epoch: 121 | Batch: 3 | Loss 0.07571955770254135: 489it [1:42:27, 12.62s/it]\u001b[A\u001b[A\n",
            "\n",
            "Epoch: 122 | Batch: 0 | Loss 0.09468302875757217: 489it [1:42:27, 12.62s/it]\u001b[A\u001b[A\n",
            "\n",
            "Epoch: 122 | Batch: 0 | Loss 0.09468302875757217: 490it [1:42:41, 12.81s/it]\u001b[A\u001b[A\n",
            "\n",
            "Epoch: 122 | Batch: 1 | Loss 0.08803454041481018: 490it [1:42:41, 12.81s/it]\u001b[A\u001b[A\n",
            "\n",
            "Epoch: 122 | Batch: 1 | Loss 0.08803454041481018: 491it [1:42:54, 13.05s/it]\u001b[A\u001b[A\n",
            "\n",
            "Epoch: 122 | Batch: 2 | Loss 0.10328491032123566: 491it [1:42:54, 13.05s/it]\u001b[A\u001b[A\n",
            "\n",
            "Epoch: 122 | Batch: 2 | Loss 0.10328491032123566: 492it [1:43:03, 11.79s/it]\u001b[A\u001b[A\n",
            "\n",
            "Epoch: 122 | Batch: 3 | Loss 0.09282364696264267: 492it [1:43:03, 11.79s/it]\u001b[A\u001b[A"
          ]
        },
        {
          "output_type": "stream",
          "name": "stdout",
          "text": [
            "Epoch 122 Training Accuracy: tensor(1.)\n",
            "Testing Accuracy: tensor(0.8710)\n"
          ]
        },
        {
          "output_type": "stream",
          "name": "stderr",
          "text": [
            "\n",
            "\n",
            "Epoch: 122 | Batch: 3 | Loss 0.09282364696264267: 493it [1:43:18, 12.61s/it]\u001b[A\u001b[A\n",
            "\n",
            "Epoch: 123 | Batch: 0 | Loss 0.1263205111026764: 493it [1:43:18, 12.61s/it] \u001b[A\u001b[A\n",
            "\n",
            "Epoch: 123 | Batch: 0 | Loss 0.1263205111026764: 494it [1:43:30, 12.60s/it]\u001b[A\u001b[A\n",
            "\n",
            "Epoch: 123 | Batch: 1 | Loss 0.08140778541564941: 494it [1:43:30, 12.60s/it]\u001b[A\u001b[A\n",
            "\n",
            "Epoch: 123 | Batch: 1 | Loss 0.08140778541564941: 495it [1:43:43, 12.75s/it]\u001b[A\u001b[A\n",
            "\n",
            "Epoch: 123 | Batch: 2 | Loss 0.09778034687042236: 495it [1:43:43, 12.75s/it]\u001b[A\u001b[A\n",
            "\n",
            "Epoch: 123 | Batch: 2 | Loss 0.09778034687042236: 496it [1:43:53, 11.77s/it]\u001b[A\u001b[A\n",
            "\n",
            "Epoch: 123 | Batch: 3 | Loss 0.06547418981790543: 496it [1:43:53, 11.77s/it]\u001b[A\u001b[A"
          ]
        },
        {
          "output_type": "stream",
          "name": "stdout",
          "text": [
            "Epoch 123 Training Accuracy: tensor(1.)\n",
            "Testing Accuracy: tensor(0.8710)\n"
          ]
        },
        {
          "output_type": "stream",
          "name": "stderr",
          "text": [
            "\n",
            "\n",
            "Epoch: 123 | Batch: 3 | Loss 0.06547418981790543: 497it [1:44:07, 12.52s/it]\u001b[A\u001b[A\n",
            "\n",
            "Epoch: 124 | Batch: 0 | Loss 0.11665932834148407: 497it [1:44:07, 12.52s/it]\u001b[A\u001b[A\n",
            "\n",
            "Epoch: 124 | Batch: 0 | Loss 0.11665932834148407: 498it [1:44:23, 13.43s/it]\u001b[A\u001b[A\n",
            "\n",
            "Epoch: 124 | Batch: 1 | Loss 0.08123902976512909: 498it [1:44:23, 13.43s/it]\u001b[A\u001b[A\n",
            "\n",
            "Epoch: 124 | Batch: 1 | Loss 0.08123902976512909: 499it [1:44:35, 13.20s/it]\u001b[A\u001b[A\n",
            "\n",
            "Epoch: 124 | Batch: 2 | Loss 0.08823932707309723: 499it [1:44:35, 13.20s/it]\u001b[A\u001b[A\n",
            "\n",
            "Epoch: 124 | Batch: 2 | Loss 0.08823932707309723: 500it [1:44:44, 11.90s/it]\u001b[A\u001b[A\n",
            "\n",
            "Epoch: 124 | Batch: 3 | Loss 0.07596298307180405: 500it [1:44:44, 11.90s/it]\u001b[A\u001b[A"
          ]
        },
        {
          "output_type": "stream",
          "name": "stdout",
          "text": [
            "Epoch 124 Training Accuracy: tensor(1.)\n",
            "Testing Accuracy: tensor(0.8710)\n"
          ]
        },
        {
          "output_type": "stream",
          "name": "stderr",
          "text": [
            "\n",
            "\n",
            "Epoch: 124 | Batch: 3 | Loss 0.07596298307180405: 501it [1:44:58, 12.58s/it]\u001b[A\u001b[A\n",
            "\n",
            "Epoch: 125 | Batch: 0 | Loss 0.11900343745946884: 501it [1:44:58, 12.58s/it]\u001b[A\u001b[A\n",
            "\n",
            "Epoch: 125 | Batch: 0 | Loss 0.11900343745946884: 502it [1:45:11, 12.62s/it]\u001b[A\u001b[A\n",
            "\n",
            "Epoch: 125 | Batch: 1 | Loss 0.09465934336185455: 502it [1:45:11, 12.62s/it]\u001b[A\u001b[A\n",
            "\n",
            "Epoch: 125 | Batch: 1 | Loss 0.09465934336185455: 503it [1:45:24, 12.79s/it]\u001b[A\u001b[A\n",
            "\n",
            "Epoch: 125 | Batch: 2 | Loss 0.08190052956342697: 503it [1:45:24, 12.79s/it]\u001b[A\u001b[A\n",
            "\n",
            "Epoch: 125 | Batch: 2 | Loss 0.08190052956342697: 504it [1:45:34, 11.85s/it]\u001b[A\u001b[A\n",
            "\n",
            "Epoch: 125 | Batch: 3 | Loss 0.05948831886053085: 504it [1:45:34, 11.85s/it]\u001b[A\u001b[A"
          ]
        },
        {
          "output_type": "stream",
          "name": "stdout",
          "text": [
            "Epoch 125 Training Accuracy: tensor(1.)\n",
            "Testing Accuracy: tensor(0.8710)\n"
          ]
        },
        {
          "output_type": "stream",
          "name": "stderr",
          "text": [
            "\n",
            "\n",
            "Epoch: 125 | Batch: 3 | Loss 0.05948831886053085: 505it [1:45:48, 12.61s/it]\u001b[A\u001b[A\n",
            "\n",
            "Epoch: 126 | Batch: 0 | Loss 0.12178198248147964: 505it [1:45:48, 12.61s/it]\u001b[A\u001b[A\n",
            "\n",
            "Epoch: 126 | Batch: 0 | Loss 0.12178198248147964: 506it [1:46:01, 12.62s/it]\u001b[A\u001b[A\n",
            "\n",
            "Epoch: 126 | Batch: 1 | Loss 0.08400704711675644: 506it [1:46:01, 12.62s/it]\u001b[A\u001b[A\n",
            "\n",
            "Epoch: 126 | Batch: 1 | Loss 0.08400704711675644: 507it [1:46:14, 12.64s/it]\u001b[A\u001b[A\n",
            "\n",
            "Epoch: 126 | Batch: 2 | Loss 0.08283678442239761: 507it [1:46:14, 12.64s/it]\u001b[A\u001b[A\n",
            "\n",
            "Epoch: 126 | Batch: 2 | Loss 0.08283678442239761: 508it [1:46:23, 11.75s/it]\u001b[A\u001b[A\n",
            "\n",
            "Epoch: 126 | Batch: 3 | Loss 0.059324961155653: 508it [1:46:23, 11.75s/it]  \u001b[A\u001b[A"
          ]
        },
        {
          "output_type": "stream",
          "name": "stdout",
          "text": [
            "Epoch 126 Training Accuracy: tensor(1.)\n",
            "Testing Accuracy: tensor(0.8710)\n"
          ]
        },
        {
          "output_type": "stream",
          "name": "stderr",
          "text": [
            "\n",
            "\n",
            "Epoch: 126 | Batch: 3 | Loss 0.059324961155653: 509it [1:46:38, 12.60s/it]\u001b[A\u001b[A\n",
            "\n",
            "Epoch: 127 | Batch: 0 | Loss 0.08950245380401611: 509it [1:46:38, 12.60s/it]\u001b[A\u001b[A\n",
            "\n",
            "Epoch: 127 | Batch: 0 | Loss 0.08950245380401611: 510it [1:46:51, 12.80s/it]\u001b[A\u001b[A\n",
            "\n",
            "Epoch: 127 | Batch: 1 | Loss 0.10239730030298233: 510it [1:46:51, 12.80s/it]\u001b[A\u001b[A\n",
            "\n",
            "Epoch: 127 | Batch: 1 | Loss 0.10239730030298233: 511it [1:47:07, 13.84s/it]\u001b[A\u001b[A\n",
            "\n",
            "Epoch: 127 | Batch: 2 | Loss 0.10265189409255981: 511it [1:47:07, 13.84s/it]\u001b[A\u001b[A\n",
            "\n",
            "Epoch: 127 | Batch: 2 | Loss 0.10265189409255981: 512it [1:47:16, 12.40s/it]\u001b[A\u001b[A\n",
            "\n",
            "Epoch: 127 | Batch: 3 | Loss 0.043506357818841934: 512it [1:47:16, 12.40s/it]\u001b[A\u001b[A"
          ]
        },
        {
          "output_type": "stream",
          "name": "stdout",
          "text": [
            "Epoch 127 Training Accuracy: tensor(1.)\n",
            "Testing Accuracy: tensor(0.8710)\n"
          ]
        },
        {
          "output_type": "stream",
          "name": "stderr",
          "text": [
            "\n",
            "\n",
            "Epoch: 127 | Batch: 3 | Loss 0.043506357818841934: 513it [1:47:31, 12.95s/it]\u001b[A\u001b[A\n",
            "\n",
            "Epoch: 128 | Batch: 0 | Loss 0.09381528198719025: 513it [1:47:31, 12.95s/it] \u001b[A\u001b[A\n",
            "\n",
            "Epoch: 128 | Batch: 0 | Loss 0.09381528198719025: 514it [1:47:44, 13.24s/it]\u001b[A\u001b[A\n",
            "\n",
            "Epoch: 128 | Batch: 1 | Loss 0.07974119484424591: 514it [1:47:45, 13.24s/it]\u001b[A\u001b[A\n",
            "\n",
            "Epoch: 128 | Batch: 1 | Loss 0.07974119484424591: 515it [1:47:57, 13.14s/it]\u001b[A\u001b[A\n",
            "\n",
            "Epoch: 128 | Batch: 2 | Loss 0.11082801967859268: 515it [1:47:57, 13.14s/it]\u001b[A\u001b[A\n",
            "\n",
            "Epoch: 128 | Batch: 2 | Loss 0.11082801967859268: 516it [1:48:08, 12.29s/it]\u001b[A\u001b[A\n",
            "\n",
            "Epoch: 128 | Batch: 3 | Loss 0.05068023130297661: 516it [1:48:08, 12.29s/it]\u001b[A\u001b[A"
          ]
        },
        {
          "output_type": "stream",
          "name": "stdout",
          "text": [
            "Epoch 128 Training Accuracy: tensor(1.)\n",
            "Testing Accuracy: tensor(0.8710)\n"
          ]
        },
        {
          "output_type": "stream",
          "name": "stderr",
          "text": [
            "\n",
            "\n",
            "Epoch: 128 | Batch: 3 | Loss 0.05068023130297661: 517it [1:48:22, 12.86s/it]\u001b[A\u001b[A\n",
            "\n",
            "Epoch: 129 | Batch: 0 | Loss 0.09174452722072601: 517it [1:48:22, 12.86s/it]\u001b[A\u001b[A\n",
            "\n",
            "Epoch: 129 | Batch: 0 | Loss 0.09174452722072601: 518it [1:48:35, 13.00s/it]\u001b[A\u001b[A\n",
            "\n",
            "Epoch: 129 | Batch: 1 | Loss 0.10033769905567169: 518it [1:48:35, 13.00s/it]\u001b[A\u001b[A\n",
            "\n",
            "Epoch: 129 | Batch: 1 | Loss 0.10033769905567169: 519it [1:48:48, 12.93s/it]\u001b[A\u001b[A\n",
            "\n",
            "Epoch: 129 | Batch: 2 | Loss 0.07936249673366547: 519it [1:48:48, 12.93s/it]\u001b[A\u001b[A\n",
            "\n",
            "Epoch: 129 | Batch: 2 | Loss 0.07936249673366547: 520it [1:48:57, 11.72s/it]\u001b[A\u001b[A\n",
            "\n",
            "Epoch: 129 | Batch: 3 | Loss 0.05713517591357231: 520it [1:48:57, 11.72s/it]\u001b[A\u001b[A"
          ]
        },
        {
          "output_type": "stream",
          "name": "stdout",
          "text": [
            "Epoch 129 Training Accuracy: tensor(1.)\n",
            "Testing Accuracy: tensor(0.8710)\n"
          ]
        },
        {
          "output_type": "stream",
          "name": "stderr",
          "text": [
            "\n",
            "\n",
            "Epoch: 129 | Batch: 3 | Loss 0.05713517591357231: 521it [1:49:11, 12.58s/it]\u001b[A\u001b[A\n",
            "\n",
            "Epoch: 130 | Batch: 0 | Loss 0.10757652670145035: 521it [1:49:11, 12.58s/it]\u001b[A\u001b[A\n",
            "\n",
            "Epoch: 130 | Batch: 0 | Loss 0.10757652670145035: 522it [1:49:25, 12.76s/it]\u001b[A\u001b[A\n",
            "\n",
            "Epoch: 130 | Batch: 1 | Loss 0.07524498552083969: 522it [1:49:25, 12.76s/it]\u001b[A\u001b[A\n",
            "\n",
            "Epoch: 130 | Batch: 1 | Loss 0.07524498552083969: 523it [1:49:38, 12.99s/it]\u001b[A\u001b[A\n",
            "\n",
            "Epoch: 130 | Batch: 2 | Loss 0.09953008592128754: 523it [1:49:38, 12.99s/it]\u001b[A\u001b[A\n",
            "\n",
            "Epoch: 130 | Batch: 2 | Loss 0.09953008592128754: 524it [1:49:50, 12.76s/it]\u001b[A\u001b[A\n",
            "\n",
            "Epoch: 130 | Batch: 3 | Loss 0.04105522856116295: 524it [1:49:50, 12.76s/it]\u001b[A\u001b[A"
          ]
        },
        {
          "output_type": "stream",
          "name": "stdout",
          "text": [
            "Epoch 130 Training Accuracy: tensor(1.)\n",
            "Testing Accuracy: tensor(0.8710)\n"
          ]
        },
        {
          "output_type": "stream",
          "name": "stderr",
          "text": [
            "\n",
            "\n",
            "Epoch: 130 | Batch: 3 | Loss 0.04105522856116295: 525it [1:50:05, 13.24s/it]\u001b[A\u001b[A\n",
            "\n",
            "Epoch: 131 | Batch: 0 | Loss 0.09712792187929153: 525it [1:50:05, 13.24s/it]\u001b[A\u001b[A\n",
            "\n",
            "Epoch: 131 | Batch: 0 | Loss 0.09712792187929153: 526it [1:50:17, 13.07s/it]\u001b[A\u001b[A\n",
            "\n",
            "Epoch: 131 | Batch: 1 | Loss 0.07175538688898087: 526it [1:50:17, 13.07s/it]\u001b[A\u001b[A\n",
            "\n",
            "Epoch: 131 | Batch: 1 | Loss 0.07175538688898087: 527it [1:50:31, 13.13s/it]\u001b[A\u001b[A\n",
            "\n",
            "Epoch: 131 | Batch: 2 | Loss 0.10851124674081802: 527it [1:50:31, 13.13s/it]\u001b[A\u001b[A\n",
            "\n",
            "Epoch: 131 | Batch: 2 | Loss 0.10851124674081802: 528it [1:50:39, 11.57s/it]\u001b[A\u001b[A\n",
            "\n",
            "Epoch: 131 | Batch: 3 | Loss 0.0397670678794384: 528it [1:50:39, 11.57s/it] \u001b[A\u001b[A"
          ]
        },
        {
          "output_type": "stream",
          "name": "stdout",
          "text": [
            "Epoch 131 Training Accuracy: tensor(1.)\n",
            "Testing Accuracy: tensor(0.8710)\n"
          ]
        },
        {
          "output_type": "stream",
          "name": "stderr",
          "text": [
            "\n",
            "\n",
            "Epoch: 131 | Batch: 3 | Loss 0.0397670678794384: 529it [1:50:53, 12.37s/it]\u001b[A\u001b[A\n",
            "\n",
            "Epoch: 132 | Batch: 0 | Loss 0.07648468762636185: 529it [1:50:53, 12.37s/it]\u001b[A\u001b[A\n",
            "\n",
            "Epoch: 132 | Batch: 0 | Loss 0.07648468762636185: 530it [1:51:06, 12.64s/it]\u001b[A\u001b[A\n",
            "\n",
            "Epoch: 132 | Batch: 1 | Loss 0.0776863843202591: 530it [1:51:06, 12.64s/it] \u001b[A\u001b[A\n",
            "\n",
            "Epoch: 132 | Batch: 1 | Loss 0.0776863843202591: 531it [1:51:19, 12.85s/it]\u001b[A\u001b[A\n",
            "\n",
            "Epoch: 132 | Batch: 2 | Loss 0.09403152763843536: 531it [1:51:19, 12.85s/it]\u001b[A\u001b[A\n",
            "\n",
            "Epoch: 132 | Batch: 2 | Loss 0.09403152763843536: 532it [1:51:28, 11.70s/it]\u001b[A\u001b[A\n",
            "\n",
            "Epoch: 132 | Batch: 3 | Loss 0.06278322637081146: 532it [1:51:28, 11.70s/it]\u001b[A\u001b[A"
          ]
        },
        {
          "output_type": "stream",
          "name": "stdout",
          "text": [
            "Epoch 132 Training Accuracy: tensor(1.)\n",
            "Testing Accuracy: tensor(0.8710)\n"
          ]
        },
        {
          "output_type": "stream",
          "name": "stderr",
          "text": [
            "\n",
            "\n",
            "Epoch: 132 | Batch: 3 | Loss 0.06278322637081146: 533it [1:51:43, 12.43s/it]\u001b[A\u001b[A\n",
            "\n",
            "Epoch: 133 | Batch: 0 | Loss 0.07353444397449493: 533it [1:51:43, 12.43s/it]\u001b[A\u001b[A\n",
            "\n",
            "Epoch: 133 | Batch: 0 | Loss 0.07353444397449493: 534it [1:51:56, 12.58s/it]\u001b[A\u001b[A\n",
            "\n",
            "Epoch: 133 | Batch: 1 | Loss 0.08856315910816193: 534it [1:51:56, 12.58s/it]\u001b[A\u001b[A\n",
            "\n",
            "Epoch: 133 | Batch: 1 | Loss 0.08856315910816193: 535it [1:52:08, 12.63s/it]\u001b[A\u001b[A\n",
            "\n",
            "Epoch: 133 | Batch: 2 | Loss 0.07405655086040497: 535it [1:52:08, 12.63s/it]\u001b[A\u001b[A\n",
            "\n",
            "Epoch: 133 | Batch: 2 | Loss 0.07405655086040497: 536it [1:52:20, 12.30s/it]\u001b[A\u001b[A\n",
            "\n",
            "Epoch: 133 | Batch: 3 | Loss 0.07006306946277618: 536it [1:52:20, 12.30s/it]\u001b[A\u001b[A"
          ]
        },
        {
          "output_type": "stream",
          "name": "stdout",
          "text": [
            "Epoch 133 Training Accuracy: tensor(1.)\n",
            "Testing Accuracy: tensor(0.8710)\n"
          ]
        },
        {
          "output_type": "stream",
          "name": "stderr",
          "text": [
            "\n",
            "\n",
            "Epoch: 133 | Batch: 3 | Loss 0.07006306946277618: 537it [1:52:35, 13.16s/it]\u001b[A\u001b[A\n",
            "\n",
            "Epoch: 134 | Batch: 0 | Loss 0.0983615592122078: 537it [1:52:35, 13.16s/it] \u001b[A\u001b[A\n",
            "\n",
            "Epoch: 134 | Batch: 0 | Loss 0.0983615592122078: 538it [1:52:48, 12.98s/it]\u001b[A\u001b[A\n",
            "\n",
            "Epoch: 134 | Batch: 1 | Loss 0.09225229173898697: 538it [1:52:48, 12.98s/it]\u001b[A\u001b[A\n",
            "\n",
            "Epoch: 134 | Batch: 1 | Loss 0.09225229173898697: 539it [1:53:01, 13.16s/it]\u001b[A\u001b[A\n",
            "\n",
            "Epoch: 134 | Batch: 2 | Loss 0.07030060142278671: 539it [1:53:01, 13.16s/it]\u001b[A\u001b[A\n",
            "\n",
            "Epoch: 134 | Batch: 2 | Loss 0.07030060142278671: 540it [1:53:10, 11.79s/it]\u001b[A\u001b[A\n",
            "\n",
            "Epoch: 134 | Batch: 3 | Loss 0.04037635773420334: 540it [1:53:10, 11.79s/it]\u001b[A\u001b[A"
          ]
        },
        {
          "output_type": "stream",
          "name": "stdout",
          "text": [
            "Epoch 134 Training Accuracy: tensor(1.)\n",
            "Testing Accuracy: tensor(0.8710)\n"
          ]
        },
        {
          "output_type": "stream",
          "name": "stderr",
          "text": [
            "\n",
            "\n",
            "Epoch: 134 | Batch: 3 | Loss 0.04037635773420334: 541it [1:53:24, 12.54s/it]\u001b[A\u001b[A\n",
            "\n",
            "Epoch: 135 | Batch: 0 | Loss 0.08601941913366318: 541it [1:53:24, 12.54s/it]\u001b[A\u001b[A\n",
            "\n",
            "Epoch: 135 | Batch: 0 | Loss 0.08601941913366318: 542it [1:53:37, 12.65s/it]\u001b[A\u001b[A\n",
            "\n",
            "Epoch: 135 | Batch: 1 | Loss 0.07910460978746414: 542it [1:53:37, 12.65s/it]\u001b[A\u001b[A\n",
            "\n",
            "Epoch: 135 | Batch: 1 | Loss 0.07910460978746414: 543it [1:53:50, 12.80s/it]\u001b[A\u001b[A\n",
            "\n",
            "Epoch: 135 | Batch: 2 | Loss 0.0806506872177124: 543it [1:53:50, 12.80s/it] \u001b[A\u001b[A\n",
            "\n",
            "Epoch: 135 | Batch: 2 | Loss 0.0806506872177124: 544it [1:54:00, 11.83s/it]\u001b[A\u001b[A\n",
            "\n",
            "Epoch: 135 | Batch: 3 | Loss 0.04743324592709541: 544it [1:54:00, 11.83s/it]\u001b[A\u001b[A"
          ]
        },
        {
          "output_type": "stream",
          "name": "stdout",
          "text": [
            "Epoch 135 Training Accuracy: tensor(1.)\n",
            "Testing Accuracy: tensor(0.8710)\n"
          ]
        },
        {
          "output_type": "stream",
          "name": "stderr",
          "text": [
            "\n",
            "\n",
            "Epoch: 135 | Batch: 3 | Loss 0.04743324592709541: 545it [1:54:14, 12.68s/it]\u001b[A\u001b[A\n",
            "\n",
            "Epoch: 136 | Batch: 0 | Loss 0.07255672663450241: 545it [1:54:14, 12.68s/it]\u001b[A\u001b[A\n",
            "\n",
            "Epoch: 136 | Batch: 0 | Loss 0.07255672663450241: 546it [1:54:28, 13.04s/it]\u001b[A\u001b[A\n",
            "\n",
            "Epoch: 136 | Batch: 1 | Loss 0.06946675479412079: 546it [1:54:28, 13.04s/it]\u001b[A\u001b[A\n",
            "\n",
            "Epoch: 136 | Batch: 1 | Loss 0.06946675479412079: 547it [1:54:41, 13.03s/it]\u001b[A\u001b[A\n",
            "\n",
            "Epoch: 136 | Batch: 2 | Loss 0.10676610469818115: 547it [1:54:41, 13.03s/it]\u001b[A\u001b[A\n",
            "\n",
            "Epoch: 136 | Batch: 2 | Loss 0.10676610469818115: 548it [1:54:50, 11.69s/it]\u001b[A\u001b[A\n",
            "\n",
            "Epoch: 136 | Batch: 3 | Loss 0.04094545170664787: 548it [1:54:50, 11.69s/it]\u001b[A\u001b[A"
          ]
        },
        {
          "output_type": "stream",
          "name": "stdout",
          "text": [
            "Epoch 136 Training Accuracy: tensor(1.)\n",
            "Testing Accuracy: tensor(0.8710)\n"
          ]
        },
        {
          "output_type": "stream",
          "name": "stderr",
          "text": [
            "\n",
            "\n",
            "Epoch: 136 | Batch: 3 | Loss 0.04094545170664787: 549it [1:55:07, 13.31s/it]\u001b[A\u001b[A\n",
            "\n",
            "Epoch: 137 | Batch: 0 | Loss 0.07565662264823914: 549it [1:55:07, 13.31s/it]\u001b[A\u001b[A\n",
            "\n",
            "Epoch: 137 | Batch: 0 | Loss 0.07565662264823914: 550it [1:55:20, 13.14s/it]\u001b[A\u001b[A\n",
            "\n",
            "Epoch: 137 | Batch: 1 | Loss 0.08210944384336472: 550it [1:55:20, 13.14s/it]\u001b[A\u001b[A\n",
            "\n",
            "Epoch: 137 | Batch: 1 | Loss 0.08210944384336472: 551it [1:55:33, 13.24s/it]\u001b[A\u001b[A\n",
            "\n",
            "Epoch: 137 | Batch: 2 | Loss 0.07959192991256714: 551it [1:55:33, 13.24s/it]\u001b[A\u001b[A\n",
            "\n",
            "Epoch: 137 | Batch: 2 | Loss 0.07959192991256714: 552it [1:55:43, 12.37s/it]\u001b[A\u001b[A\n",
            "\n",
            "Epoch: 137 | Batch: 3 | Loss 0.04920030012726784: 552it [1:55:43, 12.37s/it]\u001b[A\u001b[A"
          ]
        },
        {
          "output_type": "stream",
          "name": "stdout",
          "text": [
            "Epoch 137 Training Accuracy: tensor(1.)\n",
            "Testing Accuracy: tensor(0.8710)\n"
          ]
        },
        {
          "output_type": "stream",
          "name": "stderr",
          "text": [
            "\n",
            "\n",
            "Epoch: 137 | Batch: 3 | Loss 0.04920030012726784: 553it [1:55:58, 13.08s/it]\u001b[A\u001b[A\n",
            "\n",
            "Epoch: 138 | Batch: 0 | Loss 0.06934119760990143: 553it [1:55:58, 13.08s/it]\u001b[A\u001b[A\n",
            "\n",
            "Epoch: 138 | Batch: 0 | Loss 0.06934119760990143: 554it [1:56:11, 12.95s/it]\u001b[A\u001b[A\n",
            "\n",
            "Epoch: 138 | Batch: 1 | Loss 0.07311944663524628: 554it [1:56:11, 12.95s/it]\u001b[A\u001b[A\n",
            "\n",
            "Epoch: 138 | Batch: 1 | Loss 0.07311944663524628: 555it [1:56:24, 13.04s/it]\u001b[A\u001b[A\n",
            "\n",
            "Epoch: 138 | Batch: 2 | Loss 0.07948559522628784: 555it [1:56:24, 13.04s/it]\u001b[A\u001b[A\n",
            "\n",
            "Epoch: 138 | Batch: 2 | Loss 0.07948559522628784: 556it [1:56:32, 11.52s/it]\u001b[A\u001b[A\n",
            "\n",
            "Epoch: 138 | Batch: 3 | Loss 0.05554638430476189: 556it [1:56:32, 11.52s/it]\u001b[A\u001b[A"
          ]
        },
        {
          "output_type": "stream",
          "name": "stdout",
          "text": [
            "Epoch 138 Training Accuracy: tensor(1.)\n",
            "Testing Accuracy: tensor(0.8710)\n"
          ]
        },
        {
          "output_type": "stream",
          "name": "stderr",
          "text": [
            "\n",
            "\n",
            "Epoch: 138 | Batch: 3 | Loss 0.05554638430476189: 557it [1:56:46, 12.38s/it]\u001b[A\u001b[A\n",
            "\n",
            "Epoch: 139 | Batch: 0 | Loss 0.06518437713384628: 557it [1:56:46, 12.38s/it]\u001b[A\u001b[A\n",
            "\n",
            "Epoch: 139 | Batch: 0 | Loss 0.06518437713384628: 558it [1:57:00, 12.74s/it]\u001b[A\u001b[A\n",
            "\n",
            "Epoch: 139 | Batch: 1 | Loss 0.07175420969724655: 558it [1:57:00, 12.74s/it]\u001b[A\u001b[A\n",
            "\n",
            "Epoch: 139 | Batch: 1 | Loss 0.07175420969724655: 559it [1:57:14, 13.02s/it]\u001b[A\u001b[A\n",
            "\n",
            "Epoch: 139 | Batch: 2 | Loss 0.086470827460289: 559it [1:57:14, 13.02s/it]  \u001b[A\u001b[A\n",
            "\n",
            "Epoch: 139 | Batch: 2 | Loss 0.086470827460289: 560it [1:57:24, 12.11s/it]\u001b[A\u001b[A\n",
            "\n",
            "Epoch: 139 | Batch: 3 | Loss 0.050794266164302826: 560it [1:57:24, 12.11s/it]\u001b[A\u001b[A"
          ]
        },
        {
          "output_type": "stream",
          "name": "stdout",
          "text": [
            "Epoch 139 Training Accuracy: tensor(1.)\n",
            "Testing Accuracy: tensor(0.8710)\n"
          ]
        },
        {
          "output_type": "stream",
          "name": "stderr",
          "text": [
            "\n",
            "\n",
            "Epoch: 139 | Batch: 3 | Loss 0.050794266164302826: 561it [1:57:39, 12.96s/it]\u001b[A\u001b[A\n",
            "\n",
            "Epoch: 140 | Batch: 0 | Loss 0.07033931463956833: 561it [1:57:39, 12.96s/it] \u001b[A\u001b[A\n",
            "\n",
            "Epoch: 140 | Batch: 0 | Loss 0.07033931463956833: 562it [1:57:54, 13.65s/it]\u001b[A\u001b[A\n",
            "\n",
            "Epoch: 140 | Batch: 1 | Loss 0.07345174998044968: 562it [1:57:54, 13.65s/it]\u001b[A\u001b[A\n",
            "\n",
            "Epoch: 140 | Batch: 1 | Loss 0.07345174998044968: 563it [1:58:06, 13.08s/it]\u001b[A\u001b[A\n",
            "\n",
            "Epoch: 140 | Batch: 2 | Loss 0.0764516144990921: 563it [1:58:06, 13.08s/it] \u001b[A\u001b[A\n",
            "\n",
            "Epoch: 140 | Batch: 2 | Loss 0.0764516144990921: 564it [1:58:15, 12.08s/it]\u001b[A\u001b[A\n",
            "\n",
            "Epoch: 140 | Batch: 3 | Loss 0.04901665076613426: 564it [1:58:15, 12.08s/it]\u001b[A\u001b[A"
          ]
        },
        {
          "output_type": "stream",
          "name": "stdout",
          "text": [
            "Epoch 140 Training Accuracy: tensor(1.)\n",
            "Testing Accuracy: tensor(0.8710)\n"
          ]
        },
        {
          "output_type": "stream",
          "name": "stderr",
          "text": [
            "\n",
            "\n",
            "Epoch: 140 | Batch: 3 | Loss 0.04901665076613426: 565it [1:58:30, 12.84s/it]\u001b[A\u001b[A\n",
            "\n",
            "Epoch: 141 | Batch: 0 | Loss 0.07800502330064774: 565it [1:58:30, 12.84s/it]\u001b[A\u001b[A\n",
            "\n",
            "Epoch: 141 | Batch: 0 | Loss 0.07800502330064774: 566it [1:58:43, 12.81s/it]\u001b[A\u001b[A\n",
            "\n",
            "Epoch: 141 | Batch: 1 | Loss 0.08414880931377411: 566it [1:58:43, 12.81s/it]\u001b[A\u001b[A\n",
            "\n",
            "Epoch: 141 | Batch: 1 | Loss 0.08414880931377411: 567it [1:58:56, 12.96s/it]\u001b[A\u001b[A\n",
            "\n",
            "Epoch: 141 | Batch: 2 | Loss 0.054634690284729004: 567it [1:58:56, 12.96s/it]\u001b[A\u001b[A\n",
            "\n",
            "Epoch: 141 | Batch: 2 | Loss 0.054634690284729004: 568it [1:59:06, 12.11s/it]\u001b[A\u001b[A\n",
            "\n",
            "Epoch: 141 | Batch: 3 | Loss 0.0468408465385437: 568it [1:59:06, 12.11s/it]  \u001b[A\u001b[A"
          ]
        },
        {
          "output_type": "stream",
          "name": "stdout",
          "text": [
            "Epoch 141 Training Accuracy: tensor(1.)\n",
            "Testing Accuracy: tensor(0.8710)\n"
          ]
        },
        {
          "output_type": "stream",
          "name": "stderr",
          "text": [
            "\n",
            "\n",
            "Epoch: 141 | Batch: 3 | Loss 0.0468408465385437: 569it [1:59:20, 12.63s/it]\u001b[A\u001b[A\n",
            "\n",
            "Epoch: 142 | Batch: 0 | Loss 0.07802265137434006: 569it [1:59:20, 12.63s/it]\u001b[A\u001b[A\n",
            "\n",
            "Epoch: 142 | Batch: 0 | Loss 0.07802265137434006: 570it [1:59:33, 12.89s/it]\u001b[A\u001b[A\n",
            "\n",
            "Epoch: 142 | Batch: 1 | Loss 0.07010724395513535: 570it [1:59:33, 12.89s/it]\u001b[A\u001b[A\n",
            "\n",
            "Epoch: 142 | Batch: 1 | Loss 0.07010724395513535: 571it [1:59:46, 12.84s/it]\u001b[A\u001b[A\n",
            "\n",
            "Epoch: 142 | Batch: 2 | Loss 0.06417621672153473: 571it [1:59:46, 12.84s/it]\u001b[A\u001b[A\n",
            "\n",
            "Epoch: 142 | Batch: 2 | Loss 0.06417621672153473: 572it [1:59:56, 11.85s/it]\u001b[A\u001b[A\n",
            "\n",
            "Epoch: 142 | Batch: 3 | Loss 0.047250960022211075: 572it [1:59:56, 11.85s/it]\u001b[A\u001b[A"
          ]
        },
        {
          "output_type": "stream",
          "name": "stdout",
          "text": [
            "Epoch 142 Training Accuracy: tensor(1.)\n",
            "Testing Accuracy: tensor(0.8710)\n"
          ]
        },
        {
          "output_type": "stream",
          "name": "stderr",
          "text": [
            "\n",
            "\n",
            "Epoch: 142 | Batch: 3 | Loss 0.047250960022211075: 573it [2:00:10, 12.57s/it]\u001b[A\u001b[A\n",
            "\n",
            "Epoch: 143 | Batch: 0 | Loss 0.08311162143945694: 573it [2:00:10, 12.57s/it] \u001b[A\u001b[A\n",
            "\n",
            "Epoch: 143 | Batch: 0 | Loss 0.08311162143945694: 574it [2:00:25, 13.45s/it]\u001b[A\u001b[A\n",
            "\n",
            "Epoch: 143 | Batch: 1 | Loss 0.05672314018011093: 574it [2:00:25, 13.45s/it]\u001b[A\u001b[A\n",
            "\n",
            "Epoch: 143 | Batch: 1 | Loss 0.05672314018011093: 575it [2:00:39, 13.38s/it]\u001b[A\u001b[A\n",
            "\n",
            "Epoch: 143 | Batch: 2 | Loss 0.06883953511714935: 575it [2:00:39, 13.38s/it]\u001b[A\u001b[A\n",
            "\n",
            "Epoch: 143 | Batch: 2 | Loss 0.06883953511714935: 576it [2:00:47, 11.73s/it]\u001b[A\u001b[A\n",
            "\n",
            "Epoch: 143 | Batch: 3 | Loss 0.04808196797966957: 576it [2:00:47, 11.73s/it]\u001b[A\u001b[A"
          ]
        },
        {
          "output_type": "stream",
          "name": "stdout",
          "text": [
            "Epoch 143 Training Accuracy: tensor(1.)\n",
            "Testing Accuracy: tensor(0.8710)\n"
          ]
        },
        {
          "output_type": "stream",
          "name": "stderr",
          "text": [
            "\n",
            "\n",
            "Epoch: 143 | Batch: 3 | Loss 0.04808196797966957: 577it [2:01:01, 12.64s/it]\u001b[A\u001b[A\n",
            "\n",
            "Epoch: 144 | Batch: 0 | Loss 0.08213423192501068: 577it [2:01:01, 12.64s/it]\u001b[A\u001b[A\n",
            "\n",
            "Epoch: 144 | Batch: 0 | Loss 0.08213423192501068: 578it [2:01:14, 12.72s/it]\u001b[A\u001b[A\n",
            "\n",
            "Epoch: 144 | Batch: 1 | Loss 0.05928739160299301: 578it [2:01:14, 12.72s/it]\u001b[A\u001b[A\n",
            "\n",
            "Epoch: 144 | Batch: 1 | Loss 0.05928739160299301: 579it [2:01:28, 12.97s/it]\u001b[A\u001b[A\n",
            "\n",
            "Epoch: 144 | Batch: 2 | Loss 0.06254786998033524: 579it [2:01:28, 12.97s/it]\u001b[A\u001b[A\n",
            "\n",
            "Epoch: 144 | Batch: 2 | Loss 0.06254786998033524: 580it [2:01:38, 12.02s/it]\u001b[A\u001b[A\n",
            "\n",
            "Epoch: 144 | Batch: 3 | Loss 0.04743471369147301: 580it [2:01:38, 12.02s/it]\u001b[A\u001b[A"
          ]
        },
        {
          "output_type": "stream",
          "name": "stdout",
          "text": [
            "Epoch 144 Training Accuracy: tensor(1.)\n",
            "Testing Accuracy: tensor(0.8710)\n"
          ]
        },
        {
          "output_type": "stream",
          "name": "stderr",
          "text": [
            "\n",
            "\n",
            "Epoch: 144 | Batch: 3 | Loss 0.04743471369147301: 581it [2:01:52, 12.84s/it]\u001b[A\u001b[A\n",
            "\n",
            "Epoch: 145 | Batch: 0 | Loss 0.09127016365528107: 581it [2:01:52, 12.84s/it]\u001b[A\u001b[A\n",
            "\n",
            "Epoch: 145 | Batch: 0 | Loss 0.09127016365528107: 582it [2:02:06, 12.93s/it]\u001b[A\u001b[A\n",
            "\n",
            "Epoch: 145 | Batch: 1 | Loss 0.06203901767730713: 582it [2:02:06, 12.93s/it]\u001b[A\u001b[A\n",
            "\n",
            "Epoch: 145 | Batch: 1 | Loss 0.06203901767730713: 583it [2:02:18, 12.76s/it]\u001b[A\u001b[A\n",
            "\n",
            "Epoch: 145 | Batch: 2 | Loss 0.05987825244665146: 583it [2:02:18, 12.76s/it]\u001b[A\u001b[A\n",
            "\n",
            "Epoch: 145 | Batch: 2 | Loss 0.05987825244665146: 584it [2:02:28, 11.88s/it]\u001b[A\u001b[A\n",
            "\n",
            "Epoch: 145 | Batch: 3 | Loss 0.035681482404470444: 584it [2:02:28, 11.88s/it]\u001b[A\u001b[A"
          ]
        },
        {
          "output_type": "stream",
          "name": "stdout",
          "text": [
            "Epoch 145 Training Accuracy: tensor(1.)\n",
            "Testing Accuracy: tensor(0.8710)\n"
          ]
        },
        {
          "output_type": "stream",
          "name": "stderr",
          "text": [
            "\n",
            "\n",
            "Epoch: 145 | Batch: 3 | Loss 0.035681482404470444: 585it [2:02:42, 12.65s/it]\u001b[A\u001b[A\n",
            "\n",
            "Epoch: 146 | Batch: 0 | Loss 0.07146307080984116: 585it [2:02:42, 12.65s/it] \u001b[A\u001b[A\n",
            "\n",
            "Epoch: 146 | Batch: 0 | Loss 0.07146307080984116: 586it [2:02:58, 13.49s/it]\u001b[A\u001b[A\n",
            "\n",
            "Epoch: 146 | Batch: 1 | Loss 0.058560144156217575: 586it [2:02:58, 13.49s/it]\u001b[A\u001b[A\n",
            "\n",
            "Epoch: 146 | Batch: 1 | Loss 0.058560144156217575: 587it [2:03:10, 13.27s/it]\u001b[A\u001b[A\n",
            "\n",
            "Epoch: 146 | Batch: 2 | Loss 0.07922126352787018: 587it [2:03:10, 13.27s/it] \u001b[A\u001b[A\n",
            "\n",
            "Epoch: 146 | Batch: 2 | Loss 0.07922126352787018: 588it [2:03:21, 12.43s/it]\u001b[A\u001b[A\n",
            "\n",
            "Epoch: 146 | Batch: 3 | Loss 0.033800650388002396: 588it [2:03:21, 12.43s/it]\u001b[A\u001b[A"
          ]
        },
        {
          "output_type": "stream",
          "name": "stdout",
          "text": [
            "Epoch 146 Training Accuracy: tensor(1.)\n",
            "Testing Accuracy: tensor(0.8710)\n"
          ]
        },
        {
          "output_type": "stream",
          "name": "stderr",
          "text": [
            "\n",
            "\n",
            "Epoch: 146 | Batch: 3 | Loss 0.033800650388002396: 589it [2:03:34, 12.64s/it]\u001b[A\u001b[A\n",
            "\n",
            "Epoch: 147 | Batch: 0 | Loss 0.07009655237197876: 589it [2:03:34, 12.64s/it] \u001b[A\u001b[A\n",
            "\n",
            "Epoch: 147 | Batch: 0 | Loss 0.07009655237197876: 590it [2:03:47, 12.77s/it]\u001b[A\u001b[A\n",
            "\n",
            "Epoch: 147 | Batch: 1 | Loss 0.06466346979141235: 590it [2:03:47, 12.77s/it]\u001b[A\u001b[A\n",
            "\n",
            "Epoch: 147 | Batch: 1 | Loss 0.06466346979141235: 591it [2:04:00, 12.74s/it]\u001b[A\u001b[A\n",
            "\n",
            "Epoch: 147 | Batch: 2 | Loss 0.05981001257896423: 591it [2:04:00, 12.74s/it]\u001b[A\u001b[A\n",
            "\n",
            "Epoch: 147 | Batch: 2 | Loss 0.05981001257896423: 592it [2:04:09, 11.83s/it]\u001b[A\u001b[A\n",
            "\n",
            "Epoch: 147 | Batch: 3 | Loss 0.04484493285417557: 592it [2:04:09, 11.83s/it]\u001b[A\u001b[A"
          ]
        },
        {
          "output_type": "stream",
          "name": "stdout",
          "text": [
            "Epoch 147 Training Accuracy: tensor(1.)\n",
            "Testing Accuracy: tensor(0.8710)\n"
          ]
        },
        {
          "output_type": "stream",
          "name": "stderr",
          "text": [
            "\n",
            "\n",
            "Epoch: 147 | Batch: 3 | Loss 0.04484493285417557: 593it [2:04:24, 12.56s/it]\u001b[A\u001b[A\n",
            "\n",
            "Epoch: 148 | Batch: 0 | Loss 0.045753903687000275: 593it [2:04:24, 12.56s/it]\u001b[A\u001b[A\n",
            "\n",
            "Epoch: 148 | Batch: 0 | Loss 0.045753903687000275: 594it [2:04:37, 12.79s/it]\u001b[A\u001b[A\n",
            "\n",
            "Epoch: 148 | Batch: 1 | Loss 0.07032377272844315: 594it [2:04:37, 12.79s/it] \u001b[A\u001b[A\n",
            "\n",
            "Epoch: 148 | Batch: 1 | Loss 0.07032377272844315: 595it [2:04:51, 13.20s/it]\u001b[A\u001b[A\n",
            "\n",
            "Epoch: 148 | Batch: 2 | Loss 0.0734420046210289: 595it [2:04:51, 13.20s/it] \u001b[A\u001b[A\n",
            "\n",
            "Epoch: 148 | Batch: 2 | Loss 0.0734420046210289: 596it [2:05:00, 11.83s/it]\u001b[A\u001b[A\n",
            "\n",
            "Epoch: 148 | Batch: 3 | Loss 0.04739529266953468: 596it [2:05:00, 11.83s/it]\u001b[A\u001b[A"
          ]
        },
        {
          "output_type": "stream",
          "name": "stdout",
          "text": [
            "Epoch 148 Training Accuracy: tensor(1.)\n",
            "Testing Accuracy: tensor(0.8710)\n"
          ]
        },
        {
          "output_type": "stream",
          "name": "stderr",
          "text": [
            "\n",
            "\n",
            "Epoch: 148 | Batch: 3 | Loss 0.04739529266953468: 597it [2:05:14, 12.57s/it]\u001b[A\u001b[A\n",
            "\n",
            "Epoch: 149 | Batch: 0 | Loss 0.06693392992019653: 597it [2:05:14, 12.57s/it]\u001b[A\u001b[A\n",
            "\n",
            "Epoch: 149 | Batch: 0 | Loss 0.06693392992019653: 598it [2:05:28, 12.90s/it]\u001b[A\u001b[A\n",
            "\n",
            "Epoch: 149 | Batch: 1 | Loss 0.0697445496916771: 598it [2:05:28, 12.90s/it] \u001b[A\u001b[A\n",
            "\n",
            "Epoch: 149 | Batch: 1 | Loss 0.0697445496916771: 599it [2:05:42, 13.40s/it]\u001b[A\u001b[A\n",
            "\n",
            "Epoch: 149 | Batch: 2 | Loss 0.06256473064422607: 599it [2:05:42, 13.40s/it]\u001b[A\u001b[A\n",
            "\n",
            "Epoch: 149 | Batch: 2 | Loss 0.06256473064422607: 600it [2:05:52, 12.31s/it]\u001b[A\u001b[A\n",
            "\n",
            "Epoch: 149 | Batch: 3 | Loss 0.03419388085603714: 600it [2:05:52, 12.31s/it]\u001b[A\u001b[A"
          ]
        },
        {
          "output_type": "stream",
          "name": "stdout",
          "text": [
            "Epoch 149 Training Accuracy: tensor(1.)\n",
            "Testing Accuracy: tensor(0.8710)\n"
          ]
        },
        {
          "output_type": "stream",
          "name": "stderr",
          "text": [
            "\n",
            "\n",
            "Epoch: 149 | Batch: 3 | Loss 0.03419388085603714: 601it [2:06:07, 13.05s/it]\u001b[A\u001b[A\n",
            "\n",
            "Epoch: 150 | Batch: 0 | Loss 0.06529683619737625: 601it [2:06:07, 13.05s/it]\u001b[A\u001b[A\n",
            "\n",
            "Epoch: 150 | Batch: 0 | Loss 0.06529683619737625: 602it [2:06:20, 13.10s/it]\u001b[A\u001b[A\n",
            "\n",
            "Epoch: 150 | Batch: 1 | Loss 0.07588408142328262: 602it [2:06:20, 13.10s/it]\u001b[A\u001b[A\n",
            "\n",
            "Epoch: 150 | Batch: 1 | Loss 0.07588408142328262: 603it [2:06:33, 13.03s/it]\u001b[A\u001b[A\n",
            "\n",
            "Epoch: 150 | Batch: 2 | Loss 0.05364391952753067: 603it [2:06:33, 13.03s/it]\u001b[A\u001b[A\n",
            "\n",
            "Epoch: 150 | Batch: 2 | Loss 0.05364391952753067: 604it [2:06:41, 11.54s/it]\u001b[A\u001b[A\n",
            "\n",
            "Epoch: 150 | Batch: 3 | Loss 0.035142939537763596: 604it [2:06:41, 11.54s/it]\u001b[A\u001b[A"
          ]
        },
        {
          "output_type": "stream",
          "name": "stdout",
          "text": [
            "Epoch 150 Training Accuracy: tensor(1.)\n",
            "Testing Accuracy: tensor(0.8710)\n"
          ]
        },
        {
          "output_type": "stream",
          "name": "stderr",
          "text": [
            "\n",
            "\n",
            "Epoch: 150 | Batch: 3 | Loss 0.035142939537763596: 605it [2:06:55, 12.30s/it]\u001b[A\u001b[A\n",
            "\n",
            "Epoch: 151 | Batch: 0 | Loss 0.05607341602444649: 605it [2:06:55, 12.30s/it] \u001b[A\u001b[A\n",
            "\n",
            "Epoch: 151 | Batch: 0 | Loss 0.05607341602444649: 606it [2:07:08, 12.63s/it]\u001b[A\u001b[A\n",
            "\n",
            "Epoch: 151 | Batch: 1 | Loss 0.06021557003259659: 606it [2:07:09, 12.63s/it]\u001b[A\u001b[A\n",
            "\n",
            "Epoch: 151 | Batch: 1 | Loss 0.06021557003259659: 607it [2:07:21, 12.62s/it]\u001b[A\u001b[A\n",
            "\n",
            "Epoch: 151 | Batch: 2 | Loss 0.07118211686611176: 607it [2:07:21, 12.62s/it]\u001b[A\u001b[A\n",
            "\n",
            "Epoch: 151 | Batch: 2 | Loss 0.07118211686611176: 608it [2:07:30, 11.42s/it]\u001b[A\u001b[A\n",
            "\n",
            "Epoch: 151 | Batch: 3 | Loss 0.03753487393260002: 608it [2:07:30, 11.42s/it]\u001b[A\u001b[A"
          ]
        },
        {
          "output_type": "stream",
          "name": "stdout",
          "text": [
            "Epoch 151 Training Accuracy: tensor(1.)\n",
            "Testing Accuracy: tensor(0.8710)\n"
          ]
        },
        {
          "output_type": "stream",
          "name": "stderr",
          "text": [
            "\n",
            "\n",
            "Epoch: 151 | Batch: 3 | Loss 0.03753487393260002: 609it [2:07:44, 12.39s/it]\u001b[A\u001b[A\n",
            "\n",
            "Epoch: 152 | Batch: 0 | Loss 0.0673176571726799: 609it [2:07:44, 12.39s/it] \u001b[A\u001b[A\n",
            "\n",
            "Epoch: 152 | Batch: 0 | Loss 0.0673176571726799: 610it [2:07:58, 12.71s/it]\u001b[A\u001b[A\n",
            "\n",
            "Epoch: 152 | Batch: 1 | Loss 0.053893208503723145: 610it [2:07:58, 12.71s/it]\u001b[A\u001b[A\n",
            "\n",
            "Epoch: 152 | Batch: 1 | Loss 0.053893208503723145: 611it [2:08:14, 13.67s/it]\u001b[A\u001b[A\n",
            "\n",
            "Epoch: 152 | Batch: 2 | Loss 0.07314392179250717: 611it [2:08:14, 13.67s/it] \u001b[A\u001b[A\n",
            "\n",
            "Epoch: 152 | Batch: 2 | Loss 0.07314392179250717: 612it [2:08:23, 12.30s/it]\u001b[A\u001b[A\n",
            "\n",
            "Epoch: 152 | Batch: 3 | Loss 0.028348486870527267: 612it [2:08:23, 12.30s/it]\u001b[A\u001b[A"
          ]
        },
        {
          "output_type": "stream",
          "name": "stdout",
          "text": [
            "Epoch 152 Training Accuracy: tensor(1.)\n",
            "Testing Accuracy: tensor(0.8710)\n"
          ]
        },
        {
          "output_type": "stream",
          "name": "stderr",
          "text": [
            "\n",
            "\n",
            "Epoch: 152 | Batch: 3 | Loss 0.028348486870527267: 613it [2:08:37, 12.99s/it]\u001b[A\u001b[A\n",
            "\n",
            "Epoch: 153 | Batch: 0 | Loss 0.07571054250001907: 613it [2:08:37, 12.99s/it] \u001b[A\u001b[A\n",
            "\n",
            "Epoch: 153 | Batch: 0 | Loss 0.07571054250001907: 614it [2:08:51, 13.22s/it]\u001b[A\u001b[A\n",
            "\n",
            "Epoch: 153 | Batch: 1 | Loss 0.049377553164958954: 614it [2:08:51, 13.22s/it]\u001b[A\u001b[A\n",
            "\n",
            "Epoch: 153 | Batch: 1 | Loss 0.049377553164958954: 615it [2:09:04, 13.13s/it]\u001b[A\u001b[A\n",
            "\n",
            "Epoch: 153 | Batch: 2 | Loss 0.06010688096284866: 615it [2:09:04, 13.13s/it] \u001b[A\u001b[A\n",
            "\n",
            "Epoch: 153 | Batch: 2 | Loss 0.06010688096284866: 616it [2:09:14, 12.17s/it]\u001b[A\u001b[A\n",
            "\n",
            "Epoch: 153 | Batch: 3 | Loss 0.03257263824343681: 616it [2:09:14, 12.17s/it]\u001b[A\u001b[A"
          ]
        },
        {
          "output_type": "stream",
          "name": "stdout",
          "text": [
            "Epoch 153 Training Accuracy: tensor(1.)\n",
            "Testing Accuracy: tensor(0.8710)\n"
          ]
        },
        {
          "output_type": "stream",
          "name": "stderr",
          "text": [
            "\n",
            "\n",
            "Epoch: 153 | Batch: 3 | Loss 0.03257263824343681: 617it [2:09:28, 12.68s/it]\u001b[A\u001b[A\n",
            "\n",
            "Epoch: 154 | Batch: 0 | Loss 0.07228513807058334: 617it [2:09:28, 12.68s/it]\u001b[A\u001b[A\n",
            "\n",
            "Epoch: 154 | Batch: 0 | Loss 0.07228513807058334: 618it [2:09:40, 12.40s/it]\u001b[A\u001b[A\n",
            "\n",
            "Epoch: 154 | Batch: 1 | Loss 0.04445120319724083: 618it [2:09:40, 12.40s/it]\u001b[A\u001b[A\n",
            "\n",
            "Epoch: 154 | Batch: 1 | Loss 0.04445120319724083: 619it [2:09:53, 12.75s/it]\u001b[A\u001b[A\n",
            "\n",
            "Epoch: 154 | Batch: 2 | Loss 0.054390162229537964: 619it [2:09:53, 12.75s/it]\u001b[A\u001b[A\n",
            "\n",
            "Epoch: 154 | Batch: 2 | Loss 0.054390162229537964: 620it [2:10:03, 11.84s/it]\u001b[A\u001b[A\n",
            "\n",
            "Epoch: 154 | Batch: 3 | Loss 0.04337622597813606: 620it [2:10:03, 11.84s/it] \u001b[A\u001b[A"
          ]
        },
        {
          "output_type": "stream",
          "name": "stdout",
          "text": [
            "Epoch 154 Training Accuracy: tensor(1.)\n",
            "Testing Accuracy: tensor(0.8710)\n"
          ]
        },
        {
          "output_type": "stream",
          "name": "stderr",
          "text": [
            "\n",
            "\n",
            "Epoch: 154 | Batch: 3 | Loss 0.04337622597813606: 621it [2:10:17, 12.55s/it]\u001b[A\u001b[A\n",
            "\n",
            "Epoch: 155 | Batch: 0 | Loss 0.0563170425593853: 621it [2:10:17, 12.55s/it] \u001b[A\u001b[A\n",
            "\n",
            "Epoch: 155 | Batch: 0 | Loss 0.0563170425593853: 622it [2:10:31, 12.94s/it]\u001b[A\u001b[A\n",
            "\n",
            "Epoch: 155 | Batch: 1 | Loss 0.042581748217344284: 622it [2:10:31, 12.94s/it]\u001b[A\u001b[A\n",
            "\n",
            "Epoch: 155 | Batch: 1 | Loss 0.042581748217344284: 623it [2:10:45, 13.40s/it]\u001b[A\u001b[A\n",
            "\n",
            "Epoch: 155 | Batch: 2 | Loss 0.07700760662555695: 623it [2:10:45, 13.40s/it] \u001b[A\u001b[A\n",
            "\n",
            "Epoch: 155 | Batch: 2 | Loss 0.07700760662555695: 624it [2:10:54, 12.05s/it]\u001b[A\u001b[A\n",
            "\n",
            "Epoch: 155 | Batch: 3 | Loss 0.03827785700559616: 624it [2:10:54, 12.05s/it]\u001b[A\u001b[A"
          ]
        },
        {
          "output_type": "stream",
          "name": "stdout",
          "text": [
            "Epoch 155 Training Accuracy: tensor(1.)\n",
            "Testing Accuracy: tensor(0.8710)\n"
          ]
        },
        {
          "output_type": "stream",
          "name": "stderr",
          "text": [
            "\n",
            "\n",
            "Epoch: 155 | Batch: 3 | Loss 0.03827785700559616: 625it [2:11:08, 12.47s/it]\u001b[A\u001b[A\n",
            "\n",
            "Epoch: 156 | Batch: 0 | Loss 0.04936881735920906: 625it [2:11:08, 12.47s/it]\u001b[A\u001b[A\n",
            "\n",
            "Epoch: 156 | Batch: 0 | Loss 0.04936881735920906: 626it [2:11:21, 12.71s/it]\u001b[A\u001b[A\n",
            "\n",
            "Epoch: 156 | Batch: 1 | Loss 0.05527292564511299: 626it [2:11:21, 12.71s/it]\u001b[A\u001b[A\n",
            "\n",
            "Epoch: 156 | Batch: 1 | Loss 0.05527292564511299: 627it [2:11:34, 12.83s/it]\u001b[A\u001b[A\n",
            "\n",
            "Epoch: 156 | Batch: 2 | Loss 0.061842918395996094: 627it [2:11:34, 12.83s/it]\u001b[A\u001b[A\n",
            "\n",
            "Epoch: 156 | Batch: 2 | Loss 0.061842918395996094: 628it [2:11:43, 11.61s/it]\u001b[A\u001b[A\n",
            "\n",
            "Epoch: 156 | Batch: 3 | Loss 0.040864039212465286: 628it [2:11:43, 11.61s/it]\u001b[A\u001b[A"
          ]
        },
        {
          "output_type": "stream",
          "name": "stdout",
          "text": [
            "Epoch 156 Training Accuracy: tensor(1.)\n",
            "Testing Accuracy: tensor(0.8710)\n"
          ]
        },
        {
          "output_type": "stream",
          "name": "stderr",
          "text": [
            "\n",
            "\n",
            "Epoch: 156 | Batch: 3 | Loss 0.040864039212465286: 629it [2:11:57, 12.40s/it]\u001b[A\u001b[A\n",
            "\n",
            "Epoch: 157 | Batch: 0 | Loss 0.04749421030282974: 629it [2:11:57, 12.40s/it] \u001b[A\u001b[A\n",
            "\n",
            "Epoch: 157 | Batch: 0 | Loss 0.04749421030282974: 630it [2:12:10, 12.49s/it]\u001b[A\u001b[A\n",
            "\n",
            "Epoch: 157 | Batch: 1 | Loss 0.06545770913362503: 630it [2:12:10, 12.49s/it]\u001b[A\u001b[A\n",
            "\n",
            "Epoch: 157 | Batch: 1 | Loss 0.06545770913362503: 631it [2:12:23, 12.79s/it]\u001b[A\u001b[A\n",
            "\n",
            "Epoch: 157 | Batch: 2 | Loss 0.057324547320604324: 631it [2:12:23, 12.79s/it]\u001b[A\u001b[A\n",
            "\n",
            "Epoch: 157 | Batch: 2 | Loss 0.057324547320604324: 632it [2:12:33, 11.87s/it]\u001b[A\u001b[A\n",
            "\n",
            "Epoch: 157 | Batch: 3 | Loss 0.035121094435453415: 632it [2:12:33, 11.87s/it]\u001b[A\u001b[A"
          ]
        },
        {
          "output_type": "stream",
          "name": "stdout",
          "text": [
            "Epoch 157 Training Accuracy: tensor(1.)\n",
            "Testing Accuracy: tensor(0.8710)\n"
          ]
        },
        {
          "output_type": "stream",
          "name": "stderr",
          "text": [
            "\n",
            "\n",
            "Epoch: 157 | Batch: 3 | Loss 0.035121094435453415: 633it [2:12:47, 12.59s/it]\u001b[A\u001b[A\n",
            "\n",
            "Epoch: 158 | Batch: 0 | Loss 0.04789888486266136: 633it [2:12:47, 12.59s/it] \u001b[A\u001b[A\n",
            "\n",
            "Epoch: 158 | Batch: 0 | Loss 0.04789888486266136: 634it [2:13:01, 13.01s/it]\u001b[A\u001b[A\n",
            "\n",
            "Epoch: 158 | Batch: 1 | Loss 0.07191664725542068: 634it [2:13:01, 13.01s/it]\u001b[A\u001b[A\n",
            "\n",
            "Epoch: 158 | Batch: 1 | Loss 0.07191664725542068: 635it [2:13:15, 13.24s/it]\u001b[A\u001b[A\n",
            "\n",
            "Epoch: 158 | Batch: 2 | Loss 0.04562675952911377: 635it [2:13:15, 13.24s/it]\u001b[A\u001b[A\n",
            "\n",
            "Epoch: 158 | Batch: 2 | Loss 0.04562675952911377: 636it [2:13:26, 12.38s/it]\u001b[A\u001b[A\n",
            "\n",
            "Epoch: 158 | Batch: 3 | Loss 0.03828490525484085: 636it [2:13:26, 12.38s/it]\u001b[A\u001b[A"
          ]
        },
        {
          "output_type": "stream",
          "name": "stdout",
          "text": [
            "Epoch 158 Training Accuracy: tensor(1.)\n",
            "Testing Accuracy: tensor(0.8710)\n"
          ]
        },
        {
          "output_type": "stream",
          "name": "stderr",
          "text": [
            "\n",
            "\n",
            "Epoch: 158 | Batch: 3 | Loss 0.03828490525484085: 637it [2:13:40, 13.07s/it]\u001b[A\u001b[A\n",
            "\n",
            "Epoch: 159 | Batch: 0 | Loss 0.05375153571367264: 637it [2:13:40, 13.07s/it]\u001b[A\u001b[A\n",
            "\n",
            "Epoch: 159 | Batch: 0 | Loss 0.05375153571367264: 638it [2:13:53, 13.03s/it]\u001b[A\u001b[A\n",
            "\n",
            "Epoch: 159 | Batch: 1 | Loss 0.0477350652217865: 638it [2:13:53, 13.03s/it] \u001b[A\u001b[A\n",
            "\n",
            "Epoch: 159 | Batch: 1 | Loss 0.0477350652217865: 639it [2:14:07, 13.31s/it]\u001b[A\u001b[A\n",
            "\n",
            "Epoch: 159 | Batch: 2 | Loss 0.05742807313799858: 639it [2:14:07, 13.31s/it]\u001b[A\u001b[A\n",
            "\n",
            "Epoch: 159 | Batch: 2 | Loss 0.05742807313799858: 640it [2:14:17, 12.18s/it]\u001b[A\u001b[A\n",
            "\n",
            "Epoch: 159 | Batch: 3 | Loss 0.040812086313962936: 640it [2:14:17, 12.18s/it]\u001b[A\u001b[A"
          ]
        },
        {
          "output_type": "stream",
          "name": "stdout",
          "text": [
            "Epoch 159 Training Accuracy: tensor(1.)\n",
            "Testing Accuracy: tensor(0.8710)\n"
          ]
        },
        {
          "output_type": "stream",
          "name": "stderr",
          "text": [
            "\n",
            "\n",
            "Epoch: 159 | Batch: 3 | Loss 0.040812086313962936: 641it [2:14:31, 12.80s/it]\u001b[A\u001b[A\n",
            "\n",
            "Epoch: 160 | Batch: 0 | Loss 0.053329724818468094: 641it [2:14:31, 12.80s/it]\u001b[A\u001b[A\n",
            "\n",
            "Epoch: 160 | Batch: 0 | Loss 0.053329724818468094: 642it [2:14:44, 13.03s/it]\u001b[A\u001b[A\n",
            "\n",
            "Epoch: 160 | Batch: 1 | Loss 0.04391203075647354: 642it [2:14:44, 13.03s/it] \u001b[A\u001b[A\n",
            "\n",
            "Epoch: 160 | Batch: 1 | Loss 0.04391203075647354: 643it [2:14:57, 12.96s/it]\u001b[A\u001b[A\n",
            "\n",
            "Epoch: 160 | Batch: 2 | Loss 0.06329300999641418: 643it [2:14:57, 12.96s/it]\u001b[A\u001b[A\n",
            "\n",
            "Epoch: 160 | Batch: 2 | Loss 0.06329300999641418: 644it [2:15:06, 11.72s/it]\u001b[A\u001b[A\n",
            "\n",
            "Epoch: 160 | Batch: 3 | Loss 0.034853916615247726: 644it [2:15:06, 11.72s/it]\u001b[A\u001b[A"
          ]
        },
        {
          "output_type": "stream",
          "name": "stdout",
          "text": [
            "Epoch 160 Training Accuracy: tensor(1.)\n",
            "Testing Accuracy: tensor(0.8710)\n"
          ]
        },
        {
          "output_type": "stream",
          "name": "stderr",
          "text": [
            "\n",
            "\n",
            "Epoch: 160 | Batch: 3 | Loss 0.034853916615247726: 645it [2:15:20, 12.34s/it]\u001b[A\u001b[A\n",
            "\n",
            "Epoch: 161 | Batch: 0 | Loss 0.04756973311305046: 645it [2:15:20, 12.34s/it] \u001b[A\u001b[A\n",
            "\n",
            "Epoch: 161 | Batch: 0 | Loss 0.04756973311305046: 646it [2:15:33, 12.70s/it]\u001b[A\u001b[A\n",
            "\n",
            "Epoch: 161 | Batch: 1 | Loss 0.06547825038433075: 646it [2:15:33, 12.70s/it]\u001b[A\u001b[A\n",
            "\n",
            "Epoch: 161 | Batch: 1 | Loss 0.06547825038433075: 647it [2:15:47, 12.95s/it]\u001b[A\u001b[A\n",
            "\n",
            "Epoch: 161 | Batch: 2 | Loss 0.03970848768949509: 647it [2:15:47, 12.95s/it]\u001b[A\u001b[A\n",
            "\n",
            "Epoch: 161 | Batch: 2 | Loss 0.03970848768949509: 648it [2:15:57, 12.05s/it]\u001b[A\u001b[A\n",
            "\n",
            "Epoch: 161 | Batch: 3 | Loss 0.04228856787085533: 648it [2:15:57, 12.05s/it]\u001b[A\u001b[A"
          ]
        },
        {
          "output_type": "stream",
          "name": "stdout",
          "text": [
            "Epoch 161 Training Accuracy: tensor(1.)\n",
            "Testing Accuracy: tensor(0.8710)\n"
          ]
        },
        {
          "output_type": "stream",
          "name": "stderr",
          "text": [
            "\n",
            "\n",
            "Epoch: 161 | Batch: 3 | Loss 0.04228856787085533: 649it [2:16:13, 13.34s/it]\u001b[A\u001b[A\n",
            "\n",
            "Epoch: 162 | Batch: 0 | Loss 0.04153849929571152: 649it [2:16:13, 13.34s/it]\u001b[A\u001b[A\n",
            "\n",
            "Epoch: 162 | Batch: 0 | Loss 0.04153849929571152: 650it [2:16:27, 13.39s/it]\u001b[A\u001b[A\n",
            "\n",
            "Epoch: 162 | Batch: 1 | Loss 0.042458537966012955: 650it [2:16:27, 13.39s/it]\u001b[A\u001b[A\n",
            "\n",
            "Epoch: 162 | Batch: 1 | Loss 0.042458537966012955: 651it [2:16:39, 12.92s/it]\u001b[A\u001b[A\n",
            "\n",
            "Epoch: 162 | Batch: 2 | Loss 0.05122670531272888: 651it [2:16:39, 12.92s/it] \u001b[A\u001b[A\n",
            "\n",
            "Epoch: 162 | Batch: 2 | Loss 0.05122670531272888: 652it [2:16:47, 11.64s/it]\u001b[A\u001b[A\n",
            "\n",
            "Epoch: 162 | Batch: 3 | Loss 0.05866173282265663: 652it [2:16:47, 11.64s/it]\u001b[A\u001b[A"
          ]
        },
        {
          "output_type": "stream",
          "name": "stdout",
          "text": [
            "Epoch 162 Training Accuracy: tensor(1.)\n",
            "Testing Accuracy: tensor(0.8710)\n"
          ]
        },
        {
          "output_type": "stream",
          "name": "stderr",
          "text": [
            "\n",
            "\n",
            "Epoch: 162 | Batch: 3 | Loss 0.05866173282265663: 653it [2:17:02, 12.57s/it]\u001b[A\u001b[A\n",
            "\n",
            "Epoch: 163 | Batch: 0 | Loss 0.0437956377863884: 653it [2:17:02, 12.57s/it] \u001b[A\u001b[A\n",
            "\n",
            "Epoch: 163 | Batch: 0 | Loss 0.0437956377863884: 654it [2:17:15, 12.79s/it]\u001b[A\u001b[A\n",
            "\n",
            "Epoch: 163 | Batch: 1 | Loss 0.041378624737262726: 654it [2:17:15, 12.79s/it]\u001b[A\u001b[A\n",
            "\n",
            "Epoch: 163 | Batch: 1 | Loss 0.041378624737262726: 655it [2:17:29, 13.17s/it]\u001b[A\u001b[A\n",
            "\n",
            "Epoch: 163 | Batch: 2 | Loss 0.08115728199481964: 655it [2:17:29, 13.17s/it] \u001b[A\u001b[A\n",
            "\n",
            "Epoch: 163 | Batch: 2 | Loss 0.08115728199481964: 656it [2:17:39, 12.05s/it]\u001b[A\u001b[A\n",
            "\n",
            "Epoch: 163 | Batch: 3 | Loss 0.02581210806965828: 656it [2:17:39, 12.05s/it]\u001b[A\u001b[A"
          ]
        },
        {
          "output_type": "stream",
          "name": "stdout",
          "text": [
            "Epoch 163 Training Accuracy: tensor(1.)\n",
            "Testing Accuracy: tensor(0.9032)\n"
          ]
        },
        {
          "output_type": "stream",
          "name": "stderr",
          "text": [
            "\n",
            "\n",
            "Epoch: 163 | Batch: 3 | Loss 0.02581210806965828: 657it [2:17:53, 12.69s/it]\u001b[A\u001b[A\n",
            "\n",
            "Epoch: 164 | Batch: 0 | Loss 0.05457227677106857: 657it [2:17:53, 12.69s/it]\u001b[A\u001b[A\n",
            "\n",
            "Epoch: 164 | Batch: 0 | Loss 0.05457227677106857: 658it [2:18:05, 12.62s/it]\u001b[A\u001b[A\n",
            "\n",
            "Epoch: 164 | Batch: 1 | Loss 0.049963124096393585: 658it [2:18:05, 12.62s/it]\u001b[A\u001b[A\n",
            "\n",
            "Epoch: 164 | Batch: 1 | Loss 0.049963124096393585: 659it [2:18:18, 12.66s/it]\u001b[A\u001b[A\n",
            "\n",
            "Epoch: 164 | Batch: 2 | Loss 0.05435001850128174: 659it [2:18:18, 12.66s/it] \u001b[A\u001b[A\n",
            "\n",
            "Epoch: 164 | Batch: 2 | Loss 0.05435001850128174: 660it [2:18:29, 12.07s/it]\u001b[A\u001b[A\n",
            "\n",
            "Epoch: 164 | Batch: 3 | Loss 0.025997189804911613: 660it [2:18:29, 12.07s/it]\u001b[A\u001b[A"
          ]
        },
        {
          "output_type": "stream",
          "name": "stdout",
          "text": [
            "Epoch 164 Training Accuracy: tensor(1.)\n",
            "Testing Accuracy: tensor(0.9032)\n"
          ]
        },
        {
          "output_type": "stream",
          "name": "stderr",
          "text": [
            "\n",
            "\n",
            "Epoch: 164 | Batch: 3 | Loss 0.025997189804911613: 661it [2:18:45, 13.32s/it]\u001b[A\u001b[A\n",
            "\n",
            "Epoch: 165 | Batch: 0 | Loss 0.06028546765446663: 661it [2:18:45, 13.32s/it] \u001b[A\u001b[A\n",
            "\n",
            "Epoch: 165 | Batch: 0 | Loss 0.06028546765446663: 662it [2:18:58, 13.11s/it]\u001b[A\u001b[A\n",
            "\n",
            "Epoch: 165 | Batch: 1 | Loss 0.0418894924223423: 662it [2:18:58, 13.11s/it] \u001b[A\u001b[A\n",
            "\n",
            "Epoch: 165 | Batch: 1 | Loss 0.0418894924223423: 663it [2:19:11, 13.23s/it]\u001b[A\u001b[A\n",
            "\n",
            "Epoch: 165 | Batch: 2 | Loss 0.04394647106528282: 663it [2:19:11, 13.23s/it]\u001b[A\u001b[A\n",
            "\n",
            "Epoch: 165 | Batch: 2 | Loss 0.04394647106528282: 664it [2:19:20, 11.80s/it]\u001b[A\u001b[A\n",
            "\n",
            "Epoch: 165 | Batch: 3 | Loss 0.037318192422389984: 664it [2:19:20, 11.80s/it]\u001b[A\u001b[A"
          ]
        },
        {
          "output_type": "stream",
          "name": "stdout",
          "text": [
            "Epoch 165 Training Accuracy: tensor(1.)\n",
            "Testing Accuracy: tensor(0.9032)\n"
          ]
        },
        {
          "output_type": "stream",
          "name": "stderr",
          "text": [
            "\n",
            "\n",
            "Epoch: 165 | Batch: 3 | Loss 0.037318192422389984: 665it [2:19:34, 12.61s/it]\u001b[A\u001b[A\n",
            "\n",
            "Epoch: 166 | Batch: 0 | Loss 0.06233387440443039: 665it [2:19:34, 12.61s/it] \u001b[A\u001b[A\n",
            "\n",
            "Epoch: 166 | Batch: 0 | Loss 0.06233387440443039: 666it [2:19:47, 12.75s/it]\u001b[A\u001b[A\n",
            "\n",
            "Epoch: 166 | Batch: 1 | Loss 0.05243241786956787: 666it [2:19:47, 12.75s/it]\u001b[A\u001b[A\n",
            "\n",
            "Epoch: 166 | Batch: 1 | Loss 0.05243241786956787: 667it [2:20:01, 12.99s/it]\u001b[A\u001b[A\n",
            "\n",
            "Epoch: 166 | Batch: 2 | Loss 0.0447782501578331: 667it [2:20:01, 12.99s/it] \u001b[A\u001b[A\n",
            "\n",
            "Epoch: 166 | Batch: 2 | Loss 0.0447782501578331: 668it [2:20:11, 12.02s/it]\u001b[A\u001b[A\n",
            "\n",
            "Epoch: 166 | Batch: 3 | Loss 0.02315141074359417: 668it [2:20:11, 12.02s/it]\u001b[A\u001b[A"
          ]
        },
        {
          "output_type": "stream",
          "name": "stdout",
          "text": [
            "Epoch 166 Training Accuracy: tensor(1.)\n",
            "Testing Accuracy: tensor(0.9032)\n"
          ]
        },
        {
          "output_type": "stream",
          "name": "stderr",
          "text": [
            "\n",
            "\n",
            "Epoch: 166 | Batch: 3 | Loss 0.02315141074359417: 669it [2:20:25, 12.82s/it]\u001b[A\u001b[A\n",
            "\n",
            "Epoch: 167 | Batch: 0 | Loss 0.05300316959619522: 669it [2:20:25, 12.82s/it]\u001b[A\u001b[A\n",
            "\n",
            "Epoch: 167 | Batch: 0 | Loss 0.05300316959619522: 670it [2:20:38, 12.77s/it]\u001b[A\u001b[A\n",
            "\n",
            "Epoch: 167 | Batch: 1 | Loss 0.05406469106674194: 670it [2:20:38, 12.77s/it]\u001b[A\u001b[A\n",
            "\n",
            "Epoch: 167 | Batch: 1 | Loss 0.05406469106674194: 671it [2:20:51, 12.90s/it]\u001b[A\u001b[A\n",
            "\n",
            "Epoch: 167 | Batch: 2 | Loss 0.04598838835954666: 671it [2:20:51, 12.90s/it]\u001b[A\u001b[A\n",
            "\n",
            "Epoch: 167 | Batch: 2 | Loss 0.04598838835954666: 672it [2:20:59, 11.42s/it]\u001b[A\u001b[A\n",
            "\n",
            "Epoch: 167 | Batch: 3 | Loss 0.026403158903121948: 672it [2:20:59, 11.42s/it]\u001b[A\u001b[A"
          ]
        },
        {
          "output_type": "stream",
          "name": "stdout",
          "text": [
            "Epoch 167 Training Accuracy: tensor(1.)\n",
            "Testing Accuracy: tensor(0.9032)\n"
          ]
        },
        {
          "output_type": "stream",
          "name": "stderr",
          "text": [
            "\n",
            "\n",
            "Epoch: 167 | Batch: 3 | Loss 0.026403158903121948: 673it [2:21:13, 12.31s/it]\u001b[A\u001b[A\n",
            "\n",
            "Epoch: 168 | Batch: 0 | Loss 0.04385862499475479: 673it [2:21:13, 12.31s/it] \u001b[A\u001b[A\n",
            "\n",
            "Epoch: 168 | Batch: 0 | Loss 0.04385862499475479: 674it [2:21:29, 13.39s/it]\u001b[A\u001b[A\n",
            "\n",
            "Epoch: 168 | Batch: 1 | Loss 0.05245257541537285: 674it [2:21:29, 13.39s/it]\u001b[A\u001b[A\n",
            "\n",
            "Epoch: 168 | Batch: 1 | Loss 0.05245257541537285: 675it [2:21:43, 13.46s/it]\u001b[A\u001b[A\n",
            "\n",
            "Epoch: 168 | Batch: 2 | Loss 0.06207765266299248: 675it [2:21:43, 13.46s/it]\u001b[A\u001b[A\n",
            "\n",
            "Epoch: 168 | Batch: 2 | Loss 0.06207765266299248: 676it [2:21:53, 12.37s/it]\u001b[A\u001b[A\n",
            "\n",
            "Epoch: 168 | Batch: 3 | Loss 0.01966826803982258: 676it [2:21:53, 12.37s/it]\u001b[A\u001b[A"
          ]
        },
        {
          "output_type": "stream",
          "name": "stdout",
          "text": [
            "Epoch 168 Training Accuracy: tensor(1.)\n",
            "Testing Accuracy: tensor(0.9032)\n"
          ]
        },
        {
          "output_type": "stream",
          "name": "stderr",
          "text": [
            "\n",
            "\n",
            "Epoch: 168 | Batch: 3 | Loss 0.01966826803982258: 677it [2:22:07, 12.86s/it]\u001b[A\u001b[A\n",
            "\n",
            "Epoch: 169 | Batch: 0 | Loss 0.037511128932237625: 677it [2:22:07, 12.86s/it]\u001b[A\u001b[A\n",
            "\n",
            "Epoch: 169 | Batch: 0 | Loss 0.037511128932237625: 678it [2:22:20, 12.91s/it]\u001b[A\u001b[A\n",
            "\n",
            "Epoch: 169 | Batch: 1 | Loss 0.05165528133511543: 678it [2:22:20, 12.91s/it] \u001b[A\u001b[A\n",
            "\n",
            "Epoch: 169 | Batch: 1 | Loss 0.05165528133511543: 679it [2:22:33, 12.92s/it]\u001b[A\u001b[A\n",
            "\n",
            "Epoch: 169 | Batch: 2 | Loss 0.05454697087407112: 679it [2:22:33, 12.92s/it]\u001b[A\u001b[A\n",
            "\n",
            "Epoch: 169 | Batch: 2 | Loss 0.05454697087407112: 680it [2:22:42, 11.74s/it]\u001b[A\u001b[A\n",
            "\n",
            "Epoch: 169 | Batch: 3 | Loss 0.03134061023592949: 680it [2:22:42, 11.74s/it]\u001b[A\u001b[A"
          ]
        },
        {
          "output_type": "stream",
          "name": "stdout",
          "text": [
            "Epoch 169 Training Accuracy: tensor(1.)\n",
            "Testing Accuracy: tensor(0.9032)\n"
          ]
        },
        {
          "output_type": "stream",
          "name": "stderr",
          "text": [
            "\n",
            "\n",
            "Epoch: 169 | Batch: 3 | Loss 0.03134061023592949: 681it [2:22:56, 12.53s/it]\u001b[A\u001b[A\n",
            "\n",
            "Epoch: 170 | Batch: 0 | Loss 0.0567534863948822: 681it [2:22:56, 12.53s/it] \u001b[A\u001b[A\n",
            "\n",
            "Epoch: 170 | Batch: 0 | Loss 0.0567534863948822: 682it [2:23:10, 13.02s/it]\u001b[A\u001b[A\n",
            "\n",
            "Epoch: 170 | Batch: 1 | Loss 0.04030165076255798: 682it [2:23:10, 13.02s/it]\u001b[A\u001b[A\n",
            "\n",
            "Epoch: 170 | Batch: 1 | Loss 0.04030165076255798: 683it [2:23:23, 12.90s/it]\u001b[A\u001b[A\n",
            "\n",
            "Epoch: 170 | Batch: 2 | Loss 0.043834250420331955: 683it [2:23:23, 12.90s/it]\u001b[A\u001b[A\n",
            "\n",
            "Epoch: 170 | Batch: 2 | Loss 0.043834250420331955: 684it [2:23:33, 12.00s/it]\u001b[A\u001b[A\n",
            "\n",
            "Epoch: 170 | Batch: 3 | Loss 0.02986224927008152: 684it [2:23:33, 12.00s/it] \u001b[A\u001b[A"
          ]
        },
        {
          "output_type": "stream",
          "name": "stdout",
          "text": [
            "Epoch 170 Training Accuracy: tensor(1.)\n",
            "Testing Accuracy: tensor(0.9032)\n"
          ]
        },
        {
          "output_type": "stream",
          "name": "stderr",
          "text": [
            "\n",
            "\n",
            "Epoch: 170 | Batch: 3 | Loss 0.02986224927008152: 685it [2:23:46, 12.36s/it]\u001b[A\u001b[A\n",
            "\n",
            "Epoch: 171 | Batch: 0 | Loss 0.05385204032063484: 685it [2:23:46, 12.36s/it]\u001b[A\u001b[A\n",
            "\n",
            "Epoch: 171 | Batch: 0 | Loss 0.05385204032063484: 686it [2:23:59, 12.59s/it]\u001b[A\u001b[A\n",
            "\n",
            "Epoch: 171 | Batch: 1 | Loss 0.037577010691165924: 686it [2:23:59, 12.59s/it]\u001b[A\u001b[A\n",
            "\n",
            "Epoch: 171 | Batch: 1 | Loss 0.037577010691165924: 687it [2:24:14, 13.33s/it]\u001b[A\u001b[A\n",
            "\n",
            "Epoch: 171 | Batch: 2 | Loss 0.04742658883333206: 687it [2:24:14, 13.33s/it] \u001b[A\u001b[A\n",
            "\n",
            "Epoch: 171 | Batch: 2 | Loss 0.04742658883333206: 688it [2:24:24, 12.17s/it]\u001b[A\u001b[A\n",
            "\n",
            "Epoch: 171 | Batch: 3 | Loss 0.030234528705477715: 688it [2:24:24, 12.17s/it]\u001b[A\u001b[A"
          ]
        },
        {
          "output_type": "stream",
          "name": "stdout",
          "text": [
            "Epoch 171 Training Accuracy: tensor(1.)\n",
            "Testing Accuracy: tensor(0.9032)\n"
          ]
        },
        {
          "output_type": "stream",
          "name": "stderr",
          "text": [
            "\n",
            "\n",
            "Epoch: 171 | Batch: 3 | Loss 0.030234528705477715: 689it [2:24:38, 12.73s/it]\u001b[A\u001b[A\n",
            "\n",
            "Epoch: 172 | Batch: 0 | Loss 0.04480941966176033: 689it [2:24:38, 12.73s/it] \u001b[A\u001b[A\n",
            "\n",
            "Epoch: 172 | Batch: 0 | Loss 0.04480941966176033: 690it [2:24:50, 12.65s/it]\u001b[A\u001b[A\n",
            "\n",
            "Epoch: 172 | Batch: 1 | Loss 0.06222756952047348: 690it [2:24:50, 12.65s/it]\u001b[A\u001b[A\n",
            "\n",
            "Epoch: 172 | Batch: 1 | Loss 0.06222756952047348: 691it [2:25:03, 12.67s/it]\u001b[A\u001b[A\n",
            "\n",
            "Epoch: 172 | Batch: 2 | Loss 0.04242730140686035: 691it [2:25:03, 12.67s/it]\u001b[A\u001b[A\n",
            "\n",
            "Epoch: 172 | Batch: 2 | Loss 0.04242730140686035: 692it [2:25:12, 11.54s/it]\u001b[A\u001b[A\n",
            "\n",
            "Epoch: 172 | Batch: 3 | Loss 0.01981474459171295: 692it [2:25:12, 11.54s/it]\u001b[A\u001b[A"
          ]
        },
        {
          "output_type": "stream",
          "name": "stdout",
          "text": [
            "Epoch 172 Training Accuracy: tensor(1.)\n",
            "Testing Accuracy: tensor(0.9032)\n"
          ]
        },
        {
          "output_type": "stream",
          "name": "stderr",
          "text": [
            "\n",
            "\n",
            "Epoch: 172 | Batch: 3 | Loss 0.01981474459171295: 693it [2:25:26, 12.40s/it]\u001b[A\u001b[A\n",
            "\n",
            "Epoch: 173 | Batch: 0 | Loss 0.042268652468919754: 693it [2:25:26, 12.40s/it]\u001b[A\u001b[A\n",
            "\n",
            "Epoch: 173 | Batch: 0 | Loss 0.042268652468919754: 694it [2:25:40, 12.74s/it]\u001b[A\u001b[A\n",
            "\n",
            "Epoch: 173 | Batch: 1 | Loss 0.047976214438676834: 694it [2:25:40, 12.74s/it]\u001b[A\u001b[A\n",
            "\n",
            "Epoch: 173 | Batch: 1 | Loss 0.047976214438676834: 695it [2:25:52, 12.73s/it]\u001b[A\u001b[A\n",
            "\n",
            "Epoch: 173 | Batch: 2 | Loss 0.05660097673535347: 695it [2:25:52, 12.73s/it] \u001b[A\u001b[A\n",
            "\n",
            "Epoch: 173 | Batch: 2 | Loss 0.05660097673535347: 696it [2:26:03, 11.96s/it]\u001b[A\u001b[A\n",
            "\n",
            "Epoch: 173 | Batch: 3 | Loss 0.019699962809681892: 696it [2:26:03, 11.96s/it]\u001b[A\u001b[A"
          ]
        },
        {
          "output_type": "stream",
          "name": "stdout",
          "text": [
            "Epoch 173 Training Accuracy: tensor(1.)\n",
            "Testing Accuracy: tensor(0.9032)\n"
          ]
        },
        {
          "output_type": "stream",
          "name": "stderr",
          "text": [
            "\n",
            "\n",
            "Epoch: 173 | Batch: 3 | Loss 0.019699962809681892: 697it [2:26:16, 12.48s/it]\u001b[A\u001b[A\n",
            "\n",
            "Epoch: 174 | Batch: 0 | Loss 0.04033488407731056: 697it [2:26:16, 12.48s/it] \u001b[A\u001b[A\n",
            "\n",
            "Epoch: 174 | Batch: 0 | Loss 0.04033488407731056: 698it [2:26:30, 12.75s/it]\u001b[A\u001b[A\n",
            "\n",
            "Epoch: 174 | Batch: 1 | Loss 0.04954085126519203: 698it [2:26:30, 12.75s/it]\u001b[A\u001b[A\n",
            "\n",
            "Epoch: 174 | Batch: 1 | Loss 0.04954085126519203: 699it [2:26:45, 13.42s/it]\u001b[A\u001b[A\n",
            "\n",
            "Epoch: 174 | Batch: 2 | Loss 0.05101395770907402: 699it [2:26:45, 13.42s/it]\u001b[A\u001b[A\n",
            "\n",
            "Epoch: 174 | Batch: 2 | Loss 0.05101395770907402: 700it [2:26:54, 12.26s/it]\u001b[A\u001b[A\n",
            "\n",
            "Epoch: 174 | Batch: 3 | Loss 0.022283349186182022: 700it [2:26:54, 12.26s/it]\u001b[A\u001b[A"
          ]
        },
        {
          "output_type": "stream",
          "name": "stdout",
          "text": [
            "Epoch 174 Training Accuracy: tensor(1.)\n",
            "Testing Accuracy: tensor(0.9032)\n"
          ]
        },
        {
          "output_type": "stream",
          "name": "stderr",
          "text": [
            "\n",
            "\n",
            "Epoch: 174 | Batch: 3 | Loss 0.022283349186182022: 701it [2:27:09, 13.03s/it]\u001b[A\u001b[A\n",
            "\n",
            "Epoch: 175 | Batch: 0 | Loss 0.045100290328264236: 701it [2:27:09, 13.03s/it]\u001b[A\u001b[A\n",
            "\n",
            "Epoch: 175 | Batch: 0 | Loss 0.045100290328264236: 702it [2:27:22, 13.03s/it]\u001b[A\u001b[A\n",
            "\n",
            "Epoch: 175 | Batch: 1 | Loss 0.04674850031733513: 702it [2:27:22, 13.03s/it] \u001b[A\u001b[A\n",
            "\n",
            "Epoch: 175 | Batch: 1 | Loss 0.04674850031733513: 703it [2:27:35, 13.13s/it]\u001b[A\u001b[A\n",
            "\n",
            "Epoch: 175 | Batch: 2 | Loss 0.04515257850289345: 703it [2:27:35, 13.13s/it]\u001b[A\u001b[A\n",
            "\n",
            "Epoch: 175 | Batch: 2 | Loss 0.04515257850289345: 704it [2:27:44, 11.71s/it]\u001b[A\u001b[A\n",
            "\n",
            "Epoch: 175 | Batch: 3 | Loss 0.022579152137041092: 704it [2:27:44, 11.71s/it]\u001b[A\u001b[A"
          ]
        },
        {
          "output_type": "stream",
          "name": "stdout",
          "text": [
            "Epoch 175 Training Accuracy: tensor(1.)\n",
            "Testing Accuracy: tensor(0.9032)\n"
          ]
        },
        {
          "output_type": "stream",
          "name": "stderr",
          "text": [
            "\n",
            "\n",
            "Epoch: 175 | Batch: 3 | Loss 0.022579152137041092: 705it [2:27:58, 12.47s/it]\u001b[A\u001b[A\n",
            "\n",
            "Epoch: 176 | Batch: 0 | Loss 0.04722609743475914: 705it [2:27:58, 12.47s/it] \u001b[A\u001b[A\n",
            "\n",
            "Epoch: 176 | Batch: 0 | Loss 0.04722609743475914: 706it [2:28:11, 12.75s/it]\u001b[A\u001b[A\n",
            "\n",
            "Epoch: 176 | Batch: 1 | Loss 0.031729526817798615: 706it [2:28:12, 12.75s/it]\u001b[A\u001b[A\n",
            "\n",
            "Epoch: 176 | Batch: 1 | Loss 0.031729526817798615: 707it [2:28:25, 13.08s/it]\u001b[A\u001b[A\n",
            "\n",
            "Epoch: 176 | Batch: 2 | Loss 0.05118165537714958: 707it [2:28:25, 13.08s/it] \u001b[A\u001b[A\n",
            "\n",
            "Epoch: 176 | Batch: 2 | Loss 0.05118165537714958: 708it [2:28:35, 12.19s/it]\u001b[A\u001b[A\n",
            "\n",
            "Epoch: 176 | Batch: 3 | Loss 0.027351034805178642: 708it [2:28:35, 12.19s/it]\u001b[A\u001b[A"
          ]
        },
        {
          "output_type": "stream",
          "name": "stdout",
          "text": [
            "Epoch 176 Training Accuracy: tensor(1.)\n",
            "Testing Accuracy: tensor(0.9032)\n"
          ]
        },
        {
          "output_type": "stream",
          "name": "stderr",
          "text": [
            "\n",
            "\n",
            "Epoch: 176 | Batch: 3 | Loss 0.027351034805178642: 709it [2:28:49, 12.67s/it]\u001b[A\u001b[A\n",
            "\n",
            "Epoch: 177 | Batch: 0 | Loss 0.044966939836740494: 709it [2:28:49, 12.67s/it]\u001b[A\u001b[A\n",
            "\n",
            "Epoch: 177 | Batch: 0 | Loss 0.044966939836740494: 710it [2:29:03, 12.88s/it]\u001b[A\u001b[A\n",
            "\n",
            "Epoch: 177 | Batch: 1 | Loss 0.05603732913732529: 710it [2:29:03, 12.88s/it] \u001b[A\u001b[A\n",
            "\n",
            "Epoch: 177 | Batch: 1 | Loss 0.05603732913732529: 711it [2:29:16, 13.02s/it]\u001b[A\u001b[A\n",
            "\n",
            "Epoch: 177 | Batch: 2 | Loss 0.03644125908613205: 711it [2:29:16, 13.02s/it]\u001b[A\u001b[A\n",
            "\n",
            "Epoch: 177 | Batch: 2 | Loss 0.03644125908613205: 712it [2:29:26, 12.11s/it]\u001b[A\u001b[A\n",
            "\n",
            "Epoch: 177 | Batch: 3 | Loss 0.01970687322318554: 712it [2:29:26, 12.11s/it]\u001b[A\u001b[A"
          ]
        },
        {
          "output_type": "stream",
          "name": "stdout",
          "text": [
            "Epoch 177 Training Accuracy: tensor(1.)\n",
            "Testing Accuracy: tensor(0.9032)\n"
          ]
        },
        {
          "output_type": "stream",
          "name": "stderr",
          "text": [
            "\n",
            "\n",
            "Epoch: 177 | Batch: 3 | Loss 0.01970687322318554: 713it [2:29:40, 12.78s/it]\u001b[A\u001b[A\n",
            "\n",
            "Epoch: 178 | Batch: 0 | Loss 0.03741303086280823: 713it [2:29:40, 12.78s/it]\u001b[A\u001b[A\n",
            "\n",
            "Epoch: 178 | Batch: 0 | Loss 0.03741303086280823: 714it [2:29:53, 12.79s/it]\u001b[A\u001b[A\n",
            "\n",
            "Epoch: 178 | Batch: 1 | Loss 0.05162632465362549: 714it [2:29:53, 12.79s/it]\u001b[A\u001b[A\n",
            "\n",
            "Epoch: 178 | Batch: 1 | Loss 0.05162632465362549: 715it [2:30:07, 12.98s/it]\u001b[A\u001b[A\n",
            "\n",
            "Epoch: 178 | Batch: 2 | Loss 0.043157320469617844: 715it [2:30:07, 12.98s/it]\u001b[A\u001b[A\n",
            "\n",
            "Epoch: 178 | Batch: 2 | Loss 0.043157320469617844: 716it [2:30:16, 12.00s/it]\u001b[A\u001b[A\n",
            "\n",
            "Epoch: 178 | Batch: 3 | Loss 0.022662144154310226: 716it [2:30:16, 12.00s/it]\u001b[A\u001b[A"
          ]
        },
        {
          "output_type": "stream",
          "name": "stdout",
          "text": [
            "Epoch 178 Training Accuracy: tensor(1.)\n",
            "Testing Accuracy: tensor(0.9032)\n"
          ]
        },
        {
          "output_type": "stream",
          "name": "stderr",
          "text": [
            "\n",
            "\n",
            "Epoch: 178 | Batch: 3 | Loss 0.022662144154310226: 717it [2:30:31, 12.78s/it]\u001b[A\u001b[A\n",
            "\n",
            "Epoch: 179 | Batch: 0 | Loss 0.039200134575366974: 717it [2:30:31, 12.78s/it]\u001b[A\u001b[A\n",
            "\n",
            "Epoch: 179 | Batch: 0 | Loss 0.039200134575366974: 718it [2:30:44, 13.03s/it]\u001b[A\u001b[A\n",
            "\n",
            "Epoch: 179 | Batch: 1 | Loss 0.05823414772748947: 718it [2:30:44, 13.03s/it] \u001b[A\u001b[A\n",
            "\n",
            "Epoch: 179 | Batch: 1 | Loss 0.05823414772748947: 719it [2:30:57, 12.77s/it]\u001b[A\u001b[A\n",
            "\n",
            "Epoch: 179 | Batch: 2 | Loss 0.03459785133600235: 719it [2:30:57, 12.77s/it]\u001b[A\u001b[A\n",
            "\n",
            "Epoch: 179 | Batch: 2 | Loss 0.03459785133600235: 720it [2:31:05, 11.59s/it]\u001b[A\u001b[A\n",
            "\n",
            "Epoch: 179 | Batch: 3 | Loss 0.021830258890986443: 720it [2:31:05, 11.59s/it]\u001b[A\u001b[A"
          ]
        },
        {
          "output_type": "stream",
          "name": "stdout",
          "text": [
            "Epoch 179 Training Accuracy: tensor(1.)\n",
            "Testing Accuracy: tensor(0.9032)\n"
          ]
        },
        {
          "output_type": "stream",
          "name": "stderr",
          "text": [
            "\n",
            "\n",
            "Epoch: 179 | Batch: 3 | Loss 0.021830258890986443: 721it [2:31:20, 12.37s/it]\u001b[A\u001b[A\n",
            "\n",
            "Epoch: 180 | Batch: 0 | Loss 0.03547415882349014: 721it [2:31:20, 12.37s/it] \u001b[A\u001b[A\n",
            "\n",
            "Epoch: 180 | Batch: 0 | Loss 0.03547415882349014: 722it [2:31:32, 12.45s/it]\u001b[A\u001b[A\n",
            "\n",
            "Epoch: 180 | Batch: 1 | Loss 0.05493249371647835: 722it [2:31:32, 12.45s/it]\u001b[A\u001b[A\n",
            "\n",
            "Epoch: 180 | Batch: 1 | Loss 0.05493249371647835: 723it [2:31:46, 12.68s/it]\u001b[A\u001b[A\n",
            "\n",
            "Epoch: 180 | Batch: 2 | Loss 0.03756732493638992: 723it [2:31:46, 12.68s/it]\u001b[A\u001b[A\n",
            "\n",
            "Epoch: 180 | Batch: 2 | Loss 0.03756732493638992: 724it [2:31:54, 11.39s/it]\u001b[A\u001b[A\n",
            "\n",
            "Epoch: 180 | Batch: 3 | Loss 0.023299144580960274: 724it [2:31:54, 11.39s/it]\u001b[A\u001b[A"
          ]
        },
        {
          "output_type": "stream",
          "name": "stdout",
          "text": [
            "Epoch 180 Training Accuracy: tensor(1.)\n",
            "Testing Accuracy: tensor(0.9032)\n"
          ]
        },
        {
          "output_type": "stream",
          "name": "stderr",
          "text": [
            "\n",
            "\n",
            "Epoch: 180 | Batch: 3 | Loss 0.023299144580960274: 725it [2:32:11, 13.13s/it]\u001b[A\u001b[A\n",
            "\n",
            "Epoch: 181 | Batch: 0 | Loss 0.04724949598312378: 725it [2:32:11, 13.13s/it] \u001b[A\u001b[A\n",
            "\n",
            "Epoch: 181 | Batch: 0 | Loss 0.04724949598312378: 726it [2:32:23, 12.66s/it]\u001b[A\u001b[A\n",
            "\n",
            "Epoch: 181 | Batch: 1 | Loss 0.04446934163570404: 726it [2:32:23, 12.66s/it]\u001b[A\u001b[A\n",
            "\n",
            "Epoch: 181 | Batch: 1 | Loss 0.04446934163570404: 727it [2:32:36, 12.79s/it]\u001b[A\u001b[A\n",
            "\n",
            "Epoch: 181 | Batch: 2 | Loss 0.04188626632094383: 727it [2:32:36, 12.79s/it]\u001b[A\u001b[A\n",
            "\n",
            "Epoch: 181 | Batch: 2 | Loss 0.04188626632094383: 728it [2:32:45, 11.82s/it]\u001b[A\u001b[A\n",
            "\n",
            "Epoch: 181 | Batch: 3 | Loss 0.01696457900106907: 728it [2:32:45, 11.82s/it]\u001b[A\u001b[A"
          ]
        },
        {
          "output_type": "stream",
          "name": "stdout",
          "text": [
            "Epoch 181 Training Accuracy: tensor(1.)\n",
            "Testing Accuracy: tensor(0.9032)\n"
          ]
        },
        {
          "output_type": "stream",
          "name": "stderr",
          "text": [
            "\n",
            "\n",
            "Epoch: 181 | Batch: 3 | Loss 0.01696457900106907: 729it [2:33:00, 12.62s/it]\u001b[A\u001b[A\n",
            "\n",
            "Epoch: 182 | Batch: 0 | Loss 0.04860854148864746: 729it [2:33:00, 12.62s/it]\u001b[A\u001b[A\n",
            "\n",
            "Epoch: 182 | Batch: 0 | Loss 0.04860854148864746: 730it [2:33:14, 12.96s/it]\u001b[A\u001b[A\n",
            "\n",
            "Epoch: 182 | Batch: 1 | Loss 0.038847096264362335: 730it [2:33:14, 12.96s/it]\u001b[A\u001b[A\n",
            "\n",
            "Epoch: 182 | Batch: 1 | Loss 0.038847096264362335: 731it [2:33:28, 13.32s/it]\u001b[A\u001b[A\n",
            "\n",
            "Epoch: 182 | Batch: 2 | Loss 0.03647853434085846: 731it [2:33:28, 13.32s/it] \u001b[A\u001b[A\n",
            "\n",
            "Epoch: 182 | Batch: 2 | Loss 0.03647853434085846: 732it [2:33:36, 11.74s/it]\u001b[A\u001b[A\n",
            "\n",
            "Epoch: 182 | Batch: 3 | Loss 0.022740885615348816: 732it [2:33:36, 11.74s/it]\u001b[A\u001b[A"
          ]
        },
        {
          "output_type": "stream",
          "name": "stdout",
          "text": [
            "Epoch 182 Training Accuracy: tensor(1.)\n",
            "Testing Accuracy: tensor(0.9032)\n"
          ]
        },
        {
          "output_type": "stream",
          "name": "stderr",
          "text": [
            "\n",
            "\n",
            "Epoch: 182 | Batch: 3 | Loss 0.022740885615348816: 733it [2:33:50, 12.40s/it]\u001b[A\u001b[A\n",
            "\n",
            "Epoch: 183 | Batch: 0 | Loss 0.040201008319854736: 733it [2:33:50, 12.40s/it]\u001b[A\u001b[A\n",
            "\n",
            "Epoch: 183 | Batch: 0 | Loss 0.040201008319854736: 734it [2:34:03, 12.72s/it]\u001b[A\u001b[A\n",
            "\n",
            "Epoch: 183 | Batch: 1 | Loss 0.03250141069293022: 734it [2:34:03, 12.72s/it] \u001b[A\u001b[A\n",
            "\n",
            "Epoch: 183 | Batch: 1 | Loss 0.03250141069293022: 735it [2:34:17, 12.91s/it]\u001b[A\u001b[A\n",
            "\n",
            "Epoch: 183 | Batch: 2 | Loss 0.04364510625600815: 735it [2:34:17, 12.91s/it]\u001b[A\u001b[A\n",
            "\n",
            "Epoch: 183 | Batch: 2 | Loss 0.04364510625600815: 736it [2:34:26, 11.90s/it]\u001b[A\u001b[A\n",
            "\n",
            "Epoch: 183 | Batch: 3 | Loss 0.027648108080029488: 736it [2:34:26, 11.90s/it]\u001b[A\u001b[A"
          ]
        },
        {
          "output_type": "stream",
          "name": "stdout",
          "text": [
            "Epoch 183 Training Accuracy: tensor(1.)\n",
            "Testing Accuracy: tensor(0.9032)\n"
          ]
        },
        {
          "output_type": "stream",
          "name": "stderr",
          "text": [
            "\n",
            "\n",
            "Epoch: 183 | Batch: 3 | Loss 0.027648108080029488: 737it [2:34:40, 12.63s/it]\u001b[A\u001b[A\n",
            "\n",
            "Epoch: 184 | Batch: 0 | Loss 0.043613385409116745: 737it [2:34:40, 12.63s/it]\u001b[A\u001b[A\n",
            "\n",
            "Epoch: 184 | Batch: 0 | Loss 0.043613385409116745: 738it [2:34:55, 13.22s/it]\u001b[A\u001b[A\n",
            "\n",
            "Epoch: 184 | Batch: 1 | Loss 0.03507013991475105: 738it [2:34:55, 13.22s/it] \u001b[A\u001b[A\n",
            "\n",
            "Epoch: 184 | Batch: 1 | Loss 0.03507013991475105: 739it [2:35:08, 13.26s/it]\u001b[A\u001b[A\n",
            "\n",
            "Epoch: 184 | Batch: 2 | Loss 0.03904258832335472: 739it [2:35:08, 13.26s/it]\u001b[A\u001b[A\n",
            "\n",
            "Epoch: 184 | Batch: 2 | Loss 0.03904258832335472: 740it [2:35:16, 11.65s/it]\u001b[A\u001b[A\n",
            "\n",
            "Epoch: 184 | Batch: 3 | Loss 0.02511480450630188: 740it [2:35:16, 11.65s/it]\u001b[A\u001b[A"
          ]
        },
        {
          "output_type": "stream",
          "name": "stdout",
          "text": [
            "Epoch 184 Training Accuracy: tensor(1.)\n",
            "Testing Accuracy: tensor(0.9032)\n"
          ]
        },
        {
          "output_type": "stream",
          "name": "stderr",
          "text": [
            "\n",
            "\n",
            "Epoch: 184 | Batch: 3 | Loss 0.02511480450630188: 741it [2:35:31, 12.57s/it]\u001b[A\u001b[A\n",
            "\n",
            "Epoch: 185 | Batch: 0 | Loss 0.04112996906042099: 741it [2:35:31, 12.57s/it]\u001b[A\u001b[A\n",
            "\n",
            "Epoch: 185 | Batch: 0 | Loss 0.04112996906042099: 742it [2:35:45, 13.05s/it]\u001b[A\u001b[A\n",
            "\n",
            "Epoch: 185 | Batch: 1 | Loss 0.03672560304403305: 742it [2:35:45, 13.05s/it]\u001b[A\u001b[A\n",
            "\n",
            "Epoch: 185 | Batch: 1 | Loss 0.03672560304403305: 743it [2:35:58, 12.98s/it]\u001b[A\u001b[A\n",
            "\n",
            "Epoch: 185 | Batch: 2 | Loss 0.03107544407248497: 743it [2:35:58, 12.98s/it]\u001b[A\u001b[A\n",
            "\n",
            "Epoch: 185 | Batch: 2 | Loss 0.03107544407248497: 744it [2:36:08, 12.16s/it]\u001b[A\u001b[A\n",
            "\n",
            "Epoch: 185 | Batch: 3 | Loss 0.031247776001691818: 744it [2:36:08, 12.16s/it]\u001b[A\u001b[A"
          ]
        },
        {
          "output_type": "stream",
          "name": "stdout",
          "text": [
            "Epoch 185 Training Accuracy: tensor(1.)\n",
            "Testing Accuracy: tensor(0.9032)\n"
          ]
        },
        {
          "output_type": "stream",
          "name": "stderr",
          "text": [
            "\n",
            "\n",
            "Epoch: 185 | Batch: 3 | Loss 0.031247776001691818: 745it [2:36:22, 12.78s/it]\u001b[A\u001b[A\n",
            "\n",
            "Epoch: 186 | Batch: 0 | Loss 0.038437165319919586: 745it [2:36:22, 12.78s/it]\u001b[A\u001b[A\n",
            "\n",
            "Epoch: 186 | Batch: 0 | Loss 0.038437165319919586: 746it [2:36:34, 12.42s/it]\u001b[A\u001b[A\n",
            "\n",
            "Epoch: 186 | Batch: 1 | Loss 0.03885779529809952: 746it [2:36:34, 12.42s/it] \u001b[A\u001b[A\n",
            "\n",
            "Epoch: 186 | Batch: 1 | Loss 0.03885779529809952: 747it [2:36:47, 12.47s/it]\u001b[A\u001b[A\n",
            "\n",
            "Epoch: 186 | Batch: 2 | Loss 0.04747374728322029: 747it [2:36:47, 12.47s/it]\u001b[A\u001b[A\n",
            "\n",
            "Epoch: 186 | Batch: 2 | Loss 0.04747374728322029: 748it [2:36:57, 11.78s/it]\u001b[A\u001b[A\n",
            "\n",
            "Epoch: 186 | Batch: 3 | Loss 0.01606585644185543: 748it [2:36:57, 11.78s/it]\u001b[A\u001b[A"
          ]
        },
        {
          "output_type": "stream",
          "name": "stdout",
          "text": [
            "Epoch 186 Training Accuracy: tensor(1.)\n",
            "Testing Accuracy: tensor(0.9032)\n"
          ]
        },
        {
          "output_type": "stream",
          "name": "stderr",
          "text": [
            "\n",
            "\n",
            "Epoch: 186 | Batch: 3 | Loss 0.01606585644185543: 749it [2:37:12, 12.73s/it]\u001b[A\u001b[A\n",
            "\n",
            "Epoch: 187 | Batch: 0 | Loss 0.043428801000118256: 749it [2:37:12, 12.73s/it]\u001b[A\u001b[A\n",
            "\n",
            "Epoch: 187 | Batch: 0 | Loss 0.043428801000118256: 750it [2:37:26, 13.34s/it]\u001b[A\u001b[A\n",
            "\n",
            "Epoch: 187 | Batch: 1 | Loss 0.04262947291135788: 750it [2:37:26, 13.34s/it] \u001b[A\u001b[A\n",
            "\n",
            "Epoch: 187 | Batch: 1 | Loss 0.04262947291135788: 751it [2:37:40, 13.33s/it]\u001b[A\u001b[A\n",
            "\n",
            "Epoch: 187 | Batch: 2 | Loss 0.02727111242711544: 751it [2:37:40, 13.33s/it]\u001b[A\u001b[A\n",
            "\n",
            "Epoch: 187 | Batch: 2 | Loss 0.02727111242711544: 752it [2:37:49, 12.14s/it]\u001b[A\u001b[A\n",
            "\n",
            "Epoch: 187 | Batch: 3 | Loss 0.024455996230244637: 752it [2:37:49, 12.14s/it]\u001b[A\u001b[A"
          ]
        },
        {
          "output_type": "stream",
          "name": "stdout",
          "text": [
            "Epoch 187 Training Accuracy: tensor(1.)\n",
            "Testing Accuracy: tensor(0.9032)\n"
          ]
        },
        {
          "output_type": "stream",
          "name": "stderr",
          "text": [
            "\n",
            "\n",
            "Epoch: 187 | Batch: 3 | Loss 0.024455996230244637: 753it [2:38:03, 12.79s/it]\u001b[A\u001b[A\n",
            "\n",
            "Epoch: 188 | Batch: 0 | Loss 0.03135322779417038: 753it [2:38:03, 12.79s/it] \u001b[A\u001b[A\n",
            "\n",
            "Epoch: 188 | Batch: 0 | Loss 0.03135322779417038: 754it [2:38:15, 12.44s/it]\u001b[A\u001b[A\n",
            "\n",
            "Epoch: 188 | Batch: 1 | Loss 0.04777168110013008: 754it [2:38:15, 12.44s/it]\u001b[A\u001b[A\n",
            "\n",
            "Epoch: 188 | Batch: 1 | Loss 0.04777168110013008: 755it [2:38:28, 12.67s/it]\u001b[A\u001b[A\n",
            "\n",
            "Epoch: 188 | Batch: 2 | Loss 0.03590093180537224: 755it [2:38:28, 12.67s/it]\u001b[A\u001b[A\n",
            "\n",
            "Epoch: 188 | Batch: 2 | Loss 0.03590093180537224: 756it [2:38:38, 11.80s/it]\u001b[A\u001b[A\n",
            "\n",
            "Epoch: 188 | Batch: 3 | Loss 0.021905336529016495: 756it [2:38:38, 11.80s/it]\u001b[A\u001b[A"
          ]
        },
        {
          "output_type": "stream",
          "name": "stdout",
          "text": [
            "Epoch 188 Training Accuracy: tensor(1.)\n",
            "Testing Accuracy: tensor(0.9032)\n"
          ]
        },
        {
          "output_type": "stream",
          "name": "stderr",
          "text": [
            "\n",
            "\n",
            "Epoch: 188 | Batch: 3 | Loss 0.021905336529016495: 757it [2:38:52, 12.47s/it]\u001b[A\u001b[A\n",
            "\n",
            "Epoch: 189 | Batch: 0 | Loss 0.033348456025123596: 757it [2:38:52, 12.47s/it]\u001b[A\u001b[A\n",
            "\n",
            "Epoch: 189 | Batch: 0 | Loss 0.033348456025123596: 758it [2:39:05, 12.72s/it]\u001b[A\u001b[A\n",
            "\n",
            "Epoch: 189 | Batch: 1 | Loss 0.03529493510723114: 758it [2:39:05, 12.72s/it] \u001b[A\u001b[A\n",
            "\n",
            "Epoch: 189 | Batch: 1 | Loss 0.03529493510723114: 759it [2:39:18, 12.77s/it]\u001b[A\u001b[A\n",
            "\n",
            "Epoch: 189 | Batch: 2 | Loss 0.042362190783023834: 759it [2:39:18, 12.77s/it]\u001b[A\u001b[A\n",
            "\n",
            "Epoch: 189 | Batch: 2 | Loss 0.042362190783023834: 760it [2:39:27, 11.54s/it]\u001b[A\u001b[A\n",
            "\n",
            "Epoch: 189 | Batch: 3 | Loss 0.022690432146191597: 760it [2:39:27, 11.54s/it]\u001b[A\u001b[A"
          ]
        },
        {
          "output_type": "stream",
          "name": "stdout",
          "text": [
            "Epoch 189 Training Accuracy: tensor(1.)\n",
            "Testing Accuracy: tensor(0.9032)\n"
          ]
        },
        {
          "output_type": "stream",
          "name": "stderr",
          "text": [
            "\n",
            "\n",
            "Epoch: 189 | Batch: 3 | Loss 0.022690432146191597: 761it [2:39:41, 12.18s/it]\u001b[A\u001b[A\n",
            "\n",
            "Epoch: 190 | Batch: 0 | Loss 0.03242611140012741: 761it [2:39:41, 12.18s/it] \u001b[A\u001b[A\n",
            "\n",
            "Epoch: 190 | Batch: 0 | Loss 0.03242611140012741: 762it [2:39:54, 12.56s/it]\u001b[A\u001b[A\n",
            "\n",
            "Epoch: 190 | Batch: 1 | Loss 0.04131215065717697: 762it [2:39:54, 12.56s/it]\u001b[A\u001b[A\n",
            "\n",
            "Epoch: 190 | Batch: 1 | Loss 0.04131215065717697: 763it [2:40:10, 13.50s/it]\u001b[A\u001b[A\n",
            "\n",
            "Epoch: 190 | Batch: 2 | Loss 0.03709593415260315: 763it [2:40:10, 13.50s/it]\u001b[A\u001b[A\n",
            "\n",
            "Epoch: 190 | Batch: 2 | Loss 0.03709593415260315: 764it [2:40:19, 12.31s/it]\u001b[A\u001b[A\n",
            "\n",
            "Epoch: 190 | Batch: 3 | Loss 0.021966438740491867: 764it [2:40:19, 12.31s/it]\u001b[A\u001b[A"
          ]
        },
        {
          "output_type": "stream",
          "name": "stdout",
          "text": [
            "Epoch 190 Training Accuracy: tensor(1.)\n",
            "Testing Accuracy: tensor(0.9032)\n"
          ]
        },
        {
          "output_type": "stream",
          "name": "stderr",
          "text": [
            "\n",
            "\n",
            "Epoch: 190 | Batch: 3 | Loss 0.021966438740491867: 765it [2:40:34, 12.90s/it]\u001b[A\u001b[A\n",
            "\n",
            "Epoch: 191 | Batch: 0 | Loss 0.03906625136733055: 765it [2:40:34, 12.90s/it] \u001b[A\u001b[A\n",
            "\n",
            "Epoch: 191 | Batch: 0 | Loss 0.03906625136733055: 766it [2:40:46, 12.78s/it]\u001b[A\u001b[A\n",
            "\n",
            "Epoch: 191 | Batch: 1 | Loss 0.03650602698326111: 766it [2:40:46, 12.78s/it]\u001b[A\u001b[A\n",
            "\n",
            "Epoch: 191 | Batch: 1 | Loss 0.03650602698326111: 767it [2:40:59, 12.93s/it]\u001b[A\u001b[A\n",
            "\n",
            "Epoch: 191 | Batch: 2 | Loss 0.03550388291478157: 767it [2:40:59, 12.93s/it]\u001b[A\u001b[A\n",
            "\n",
            "Epoch: 191 | Batch: 2 | Loss 0.03550388291478157: 768it [2:41:08, 11.67s/it]\u001b[A\u001b[A\n",
            "\n",
            "Epoch: 191 | Batch: 3 | Loss 0.01985165849328041: 768it [2:41:08, 11.67s/it]\u001b[A\u001b[A"
          ]
        },
        {
          "output_type": "stream",
          "name": "stdout",
          "text": [
            "Epoch 191 Training Accuracy: tensor(1.)\n",
            "Testing Accuracy: tensor(0.9032)\n"
          ]
        },
        {
          "output_type": "stream",
          "name": "stderr",
          "text": [
            "\n",
            "\n",
            "Epoch: 191 | Batch: 3 | Loss 0.01985165849328041: 769it [2:41:23, 12.50s/it]\u001b[A\u001b[A\n",
            "\n",
            "Epoch: 192 | Batch: 0 | Loss 0.04710904508829117: 769it [2:41:23, 12.50s/it]\u001b[A\u001b[A\n",
            "\n",
            "Epoch: 192 | Batch: 0 | Loss 0.04710904508829117: 770it [2:41:36, 12.84s/it]\u001b[A\u001b[A\n",
            "\n",
            "Epoch: 192 | Batch: 1 | Loss 0.03193133324384689: 770it [2:41:36, 12.84s/it]\u001b[A\u001b[A\n",
            "\n",
            "Epoch: 192 | Batch: 1 | Loss 0.03193133324384689: 771it [2:41:49, 12.74s/it]\u001b[A\u001b[A\n",
            "\n",
            "Epoch: 192 | Batch: 2 | Loss 0.03600724786520004: 771it [2:41:49, 12.74s/it]\u001b[A\u001b[A\n",
            "\n",
            "Epoch: 192 | Batch: 2 | Loss 0.03600724786520004: 772it [2:41:58, 11.73s/it]\u001b[A\u001b[A\n",
            "\n",
            "Epoch: 192 | Batch: 3 | Loss 0.016346383839845657: 772it [2:41:58, 11.73s/it]\u001b[A\u001b[A"
          ]
        },
        {
          "output_type": "stream",
          "name": "stdout",
          "text": [
            "Epoch 192 Training Accuracy: tensor(1.)\n",
            "Testing Accuracy: tensor(0.9032)\n"
          ]
        },
        {
          "output_type": "stream",
          "name": "stderr",
          "text": [
            "\n",
            "\n",
            "Epoch: 192 | Batch: 3 | Loss 0.016346383839845657: 773it [2:42:12, 12.34s/it]\u001b[A\u001b[A\n",
            "\n",
            "Epoch: 193 | Batch: 0 | Loss 0.03949705511331558: 773it [2:42:12, 12.34s/it] \u001b[A\u001b[A\n",
            "\n",
            "Epoch: 193 | Batch: 0 | Loss 0.03949705511331558: 774it [2:42:24, 12.36s/it]\u001b[A\u001b[A\n",
            "\n",
            "Epoch: 193 | Batch: 1 | Loss 0.03298703581094742: 774it [2:42:24, 12.36s/it]\u001b[A\u001b[A\n",
            "\n",
            "Epoch: 193 | Batch: 1 | Loss 0.03298703581094742: 775it [2:42:38, 12.67s/it]\u001b[A\u001b[A\n",
            "\n",
            "Epoch: 193 | Batch: 2 | Loss 0.029756644740700722: 775it [2:42:38, 12.67s/it]\u001b[A\u001b[A\n",
            "\n",
            "Epoch: 193 | Batch: 2 | Loss 0.029756644740700722: 776it [2:42:49, 12.35s/it]\u001b[A\u001b[A\n",
            "\n",
            "Epoch: 193 | Batch: 3 | Loss 0.025794891640543938: 776it [2:42:49, 12.35s/it]\u001b[A\u001b[A"
          ]
        },
        {
          "output_type": "stream",
          "name": "stdout",
          "text": [
            "Epoch 193 Training Accuracy: tensor(1.)\n",
            "Testing Accuracy: tensor(0.9032)\n"
          ]
        },
        {
          "output_type": "stream",
          "name": "stderr",
          "text": [
            "\n",
            "\n",
            "Epoch: 193 | Batch: 3 | Loss 0.025794891640543938: 777it [2:43:04, 13.02s/it]\u001b[A\u001b[A\n",
            "\n",
            "Epoch: 194 | Batch: 0 | Loss 0.034490641206502914: 777it [2:43:04, 13.02s/it]\u001b[A\u001b[A\n",
            "\n",
            "Epoch: 194 | Batch: 0 | Loss 0.034490641206502914: 778it [2:43:16, 12.88s/it]\u001b[A\u001b[A\n",
            "\n",
            "Epoch: 194 | Batch: 1 | Loss 0.03492298722267151: 778it [2:43:16, 12.88s/it] \u001b[A\u001b[A\n",
            "\n",
            "Epoch: 194 | Batch: 1 | Loss 0.03492298722267151: 779it [2:43:30, 13.09s/it]\u001b[A\u001b[A\n",
            "\n",
            "Epoch: 194 | Batch: 2 | Loss 0.035605281591415405: 779it [2:43:30, 13.09s/it]\u001b[A\u001b[A\n",
            "\n",
            "Epoch: 194 | Batch: 2 | Loss 0.035605281591415405: 780it [2:43:38, 11.51s/it]\u001b[A\u001b[A\n",
            "\n",
            "Epoch: 194 | Batch: 3 | Loss 0.02201574668288231: 780it [2:43:38, 11.51s/it] \u001b[A\u001b[A"
          ]
        },
        {
          "output_type": "stream",
          "name": "stdout",
          "text": [
            "Epoch 194 Training Accuracy: tensor(1.)\n",
            "Testing Accuracy: tensor(0.9032)\n"
          ]
        },
        {
          "output_type": "stream",
          "name": "stderr",
          "text": [
            "\n",
            "\n",
            "Epoch: 194 | Batch: 3 | Loss 0.02201574668288231: 781it [2:43:52, 12.42s/it]\u001b[A\u001b[A\n",
            "\n",
            "Epoch: 195 | Batch: 0 | Loss 0.033084936439991: 781it [2:43:52, 12.42s/it]  \u001b[A\u001b[A\n",
            "\n",
            "Epoch: 195 | Batch: 0 | Loss 0.033084936439991: 782it [2:44:06, 12.68s/it]\u001b[A\u001b[A\n",
            "\n",
            "Epoch: 195 | Batch: 1 | Loss 0.03941168636083603: 782it [2:44:06, 12.68s/it]\u001b[A\u001b[A\n",
            "\n",
            "Epoch: 195 | Batch: 1 | Loss 0.03941168636083603: 783it [2:44:19, 12.77s/it]\u001b[A\u001b[A\n",
            "\n",
            "Epoch: 195 | Batch: 2 | Loss 0.030075645074248314: 783it [2:44:19, 12.77s/it]\u001b[A\u001b[A\n",
            "\n",
            "Epoch: 195 | Batch: 2 | Loss 0.030075645074248314: 784it [2:44:28, 11.85s/it]\u001b[A\u001b[A\n",
            "\n",
            "Epoch: 195 | Batch: 3 | Loss 0.0228040162473917: 784it [2:44:28, 11.85s/it]  \u001b[A\u001b[A"
          ]
        },
        {
          "output_type": "stream",
          "name": "stdout",
          "text": [
            "Epoch 195 Training Accuracy: tensor(1.)\n",
            "Testing Accuracy: tensor(0.9032)\n"
          ]
        },
        {
          "output_type": "stream",
          "name": "stderr",
          "text": [
            "\n",
            "\n",
            "Epoch: 195 | Batch: 3 | Loss 0.0228040162473917: 785it [2:44:43, 12.62s/it]\u001b[A\u001b[A\n",
            "\n",
            "Epoch: 196 | Batch: 0 | Loss 0.03834683820605278: 785it [2:44:43, 12.62s/it]\u001b[A\u001b[A\n",
            "\n",
            "Epoch: 196 | Batch: 0 | Loss 0.03834683820605278: 786it [2:44:57, 12.99s/it]\u001b[A\u001b[A\n",
            "\n",
            "Epoch: 196 | Batch: 1 | Loss 0.041801970452070236: 786it [2:44:57, 12.99s/it]\u001b[A\u001b[A\n",
            "\n",
            "Epoch: 196 | Batch: 1 | Loss 0.041801970452070236: 787it [2:45:09, 12.80s/it]\u001b[A\u001b[A\n",
            "\n",
            "Epoch: 196 | Batch: 2 | Loss 0.029057130217552185: 787it [2:45:09, 12.80s/it]\u001b[A\u001b[A\n",
            "\n",
            "Epoch: 196 | Batch: 2 | Loss 0.029057130217552185: 788it [2:45:18, 11.60s/it]\u001b[A\u001b[A\n",
            "\n",
            "Epoch: 196 | Batch: 3 | Loss 0.016019348055124283: 788it [2:45:18, 11.60s/it]\u001b[A\u001b[A"
          ]
        },
        {
          "output_type": "stream",
          "name": "stdout",
          "text": [
            "Epoch 196 Training Accuracy: tensor(1.)\n",
            "Testing Accuracy: tensor(0.9032)\n"
          ]
        },
        {
          "output_type": "stream",
          "name": "stderr",
          "text": [
            "\n",
            "\n",
            "Epoch: 196 | Batch: 3 | Loss 0.016019348055124283: 789it [2:45:34, 12.94s/it]\u001b[A\u001b[A\n",
            "\n",
            "Epoch: 197 | Batch: 0 | Loss 0.027687618508934975: 789it [2:45:34, 12.94s/it]\u001b[A\u001b[A\n",
            "\n",
            "Epoch: 197 | Batch: 0 | Loss 0.027687618508934975: 790it [2:45:47, 13.08s/it]\u001b[A\u001b[A\n",
            "\n",
            "Epoch: 197 | Batch: 1 | Loss 0.02498330920934677: 790it [2:45:47, 13.08s/it] \u001b[A\u001b[A\n",
            "\n",
            "Epoch: 197 | Batch: 1 | Loss 0.02498330920934677: 791it [2:46:01, 13.23s/it]\u001b[A\u001b[A\n",
            "\n",
            "Epoch: 197 | Batch: 2 | Loss 0.044338539242744446: 791it [2:46:01, 13.23s/it]\u001b[A\u001b[A\n",
            "\n",
            "Epoch: 197 | Batch: 2 | Loss 0.044338539242744446: 792it [2:46:09, 11.78s/it]\u001b[A\u001b[A\n",
            "\n",
            "Epoch: 197 | Batch: 3 | Loss 0.027017444372177124: 792it [2:46:09, 11.78s/it]\u001b[A\u001b[A"
          ]
        },
        {
          "output_type": "stream",
          "name": "stdout",
          "text": [
            "Epoch 197 Training Accuracy: tensor(1.)\n",
            "Testing Accuracy: tensor(0.9032)\n"
          ]
        },
        {
          "output_type": "stream",
          "name": "stderr",
          "text": [
            "\n",
            "\n",
            "Epoch: 197 | Batch: 3 | Loss 0.027017444372177124: 793it [2:46:24, 12.63s/it]\u001b[A\u001b[A\n",
            "\n",
            "Epoch: 198 | Batch: 0 | Loss 0.03038651868700981: 793it [2:46:24, 12.63s/it] \u001b[A\u001b[A\n",
            "\n",
            "Epoch: 198 | Batch: 0 | Loss 0.03038651868700981: 794it [2:46:37, 12.83s/it]\u001b[A\u001b[A\n",
            "\n",
            "Epoch: 198 | Batch: 1 | Loss 0.03210372477769852: 794it [2:46:37, 12.83s/it]\u001b[A\u001b[A\n",
            "\n",
            "Epoch: 198 | Batch: 1 | Loss 0.03210372477769852: 795it [2:46:50, 13.01s/it]\u001b[A\u001b[A\n",
            "\n",
            "Epoch: 198 | Batch: 2 | Loss 0.03660466521978378: 795it [2:46:50, 13.01s/it]\u001b[A\u001b[A\n",
            "\n",
            "Epoch: 198 | Batch: 2 | Loss 0.03660466521978378: 796it [2:47:00, 11.95s/it]\u001b[A\u001b[A\n",
            "\n",
            "Epoch: 198 | Batch: 3 | Loss 0.0221366249024868: 796it [2:47:00, 11.95s/it] \u001b[A\u001b[A"
          ]
        },
        {
          "output_type": "stream",
          "name": "stdout",
          "text": [
            "Epoch 198 Training Accuracy: tensor(1.)\n",
            "Testing Accuracy: tensor(0.9032)\n"
          ]
        },
        {
          "output_type": "stream",
          "name": "stderr",
          "text": [
            "\n",
            "\n",
            "Epoch: 198 | Batch: 3 | Loss 0.0221366249024868: 797it [2:47:14, 12.60s/it]\u001b[A\u001b[A\n",
            "\n",
            "Epoch: 199 | Batch: 0 | Loss 0.03092065081000328: 797it [2:47:14, 12.60s/it]\u001b[A\u001b[A\n",
            "\n",
            "Epoch: 199 | Batch: 0 | Loss 0.03092065081000328: 798it [2:47:26, 12.53s/it]\u001b[A\u001b[A\n",
            "\n",
            "Epoch: 199 | Batch: 1 | Loss 0.03225718066096306: 798it [2:47:26, 12.53s/it]\u001b[A\u001b[A\n",
            "\n",
            "Epoch: 199 | Batch: 1 | Loss 0.03225718066096306: 799it [2:47:39, 12.62s/it]\u001b[A\u001b[A\n",
            "\n",
            "Epoch: 199 | Batch: 2 | Loss 0.041321080178022385: 799it [2:47:39, 12.62s/it]\u001b[A\u001b[A\n",
            "\n",
            "Epoch: 199 | Batch: 2 | Loss 0.041321080178022385: 800it [2:47:48, 11.54s/it]\u001b[A\u001b[A\n",
            "\n",
            "Epoch: 199 | Batch: 3 | Loss 0.016736095771193504: 800it [2:47:48, 11.54s/it]\u001b[A\u001b[A"
          ]
        },
        {
          "output_type": "stream",
          "name": "stdout",
          "text": [
            "Epoch 199 Training Accuracy: tensor(1.)\n",
            "Testing Accuracy: tensor(0.9355)\n"
          ]
        },
        {
          "output_type": "stream",
          "name": "stderr",
          "text": [
            "\n",
            "\n",
            "Epoch: 199 | Batch: 3 | Loss 0.016736095771193504: 801it [2:48:04, 12.94s/it]\u001b[A\u001b[A\n",
            "\n",
            "Epoch: 200 | Batch: 0 | Loss 0.023394441232085228: 801it [2:48:04, 12.94s/it]\u001b[A\u001b[A\n",
            "\n",
            "Epoch: 200 | Batch: 0 | Loss 0.023394441232085228: 802it [2:48:18, 13.09s/it]\u001b[A\u001b[A\n",
            "\n",
            "Epoch: 200 | Batch: 1 | Loss 0.03602784499526024: 802it [2:48:18, 13.09s/it] \u001b[A\u001b[A\n",
            "\n",
            "Epoch: 200 | Batch: 1 | Loss 0.03602784499526024: 803it [2:48:30, 12.92s/it]\u001b[A\u001b[A\n",
            "\n",
            "Epoch: 200 | Batch: 2 | Loss 0.03917907923460007: 803it [2:48:30, 12.92s/it]\u001b[A\u001b[A\n",
            "\n",
            "Epoch: 200 | Batch: 2 | Loss 0.03917907923460007: 804it [2:48:39, 11.73s/it]\u001b[A\u001b[A\n",
            "\n",
            "Epoch: 200 | Batch: 3 | Loss 0.02042974717915058: 804it [2:48:39, 11.73s/it]\u001b[A\u001b[A"
          ]
        },
        {
          "output_type": "stream",
          "name": "stdout",
          "text": [
            "Epoch 200 Training Accuracy: tensor(1.)\n",
            "Testing Accuracy: tensor(0.9355)\n"
          ]
        },
        {
          "output_type": "stream",
          "name": "stderr",
          "text": [
            "\n",
            "\n",
            "Epoch: 200 | Batch: 3 | Loss 0.02042974717915058: 805it [2:48:54, 12.61s/it]\u001b[A\u001b[A\n",
            "\n",
            "Epoch: 201 | Batch: 0 | Loss 0.028064947575330734: 805it [2:48:54, 12.61s/it]\u001b[A\u001b[A\n",
            "\n",
            "Epoch: 201 | Batch: 0 | Loss 0.028064947575330734: 806it [2:49:07, 12.83s/it]\u001b[A\u001b[A\n",
            "\n",
            "Epoch: 201 | Batch: 1 | Loss 0.03683414310216904: 806it [2:49:07, 12.83s/it] \u001b[A\u001b[A\n",
            "\n",
            "Epoch: 201 | Batch: 1 | Loss 0.03683414310216904: 807it [2:49:20, 12.66s/it]\u001b[A\u001b[A\n",
            "\n",
            "Epoch: 201 | Batch: 2 | Loss 0.03187137469649315: 807it [2:49:20, 12.66s/it]\u001b[A\u001b[A\n",
            "\n",
            "Epoch: 201 | Batch: 2 | Loss 0.03187137469649315: 808it [2:49:30, 12.01s/it]\u001b[A\u001b[A\n",
            "\n",
            "Epoch: 201 | Batch: 3 | Loss 0.020438391715288162: 808it [2:49:30, 12.01s/it]\u001b[A\u001b[A"
          ]
        },
        {
          "output_type": "stream",
          "name": "stdout",
          "text": [
            "Epoch 201 Training Accuracy: tensor(1.)\n",
            "Testing Accuracy: tensor(0.9355)\n"
          ]
        },
        {
          "output_type": "stream",
          "name": "stderr",
          "text": [
            "\n",
            "\n",
            "Epoch: 201 | Batch: 3 | Loss 0.020438391715288162: 809it [2:49:44, 12.53s/it]\u001b[A\u001b[A\n",
            "\n",
            "Epoch: 202 | Batch: 0 | Loss 0.038148291409015656: 809it [2:49:44, 12.53s/it]\u001b[A\u001b[A\n",
            "\n",
            "Epoch: 202 | Batch: 0 | Loss 0.038148291409015656: 810it [2:49:58, 12.87s/it]\u001b[A\u001b[A\n",
            "\n",
            "Epoch: 202 | Batch: 1 | Loss 0.03046085312962532: 810it [2:49:58, 12.87s/it] \u001b[A\u001b[A\n",
            "\n",
            "Epoch: 202 | Batch: 1 | Loss 0.03046085312962532: 811it [2:50:11, 13.00s/it]\u001b[A\u001b[A\n",
            "\n",
            "Epoch: 202 | Batch: 2 | Loss 0.03170420974493027: 811it [2:50:11, 13.00s/it]\u001b[A\u001b[A\n",
            "\n",
            "Epoch: 202 | Batch: 2 | Loss 0.03170420974493027: 812it [2:50:19, 11.47s/it]\u001b[A\u001b[A\n",
            "\n",
            "Epoch: 202 | Batch: 3 | Loss 0.016128677874803543: 812it [2:50:19, 11.47s/it]\u001b[A\u001b[A"
          ]
        },
        {
          "output_type": "stream",
          "name": "stdout",
          "text": [
            "Epoch 202 Training Accuracy: tensor(1.)\n",
            "Testing Accuracy: tensor(0.9355)\n"
          ]
        },
        {
          "output_type": "stream",
          "name": "stderr",
          "text": [
            "\n",
            "\n",
            "Epoch: 202 | Batch: 3 | Loss 0.016128677874803543: 813it [2:50:33, 12.42s/it]\u001b[A\u001b[A\n",
            "\n",
            "Epoch: 203 | Batch: 0 | Loss 0.03189815208315849: 813it [2:50:33, 12.42s/it] \u001b[A\u001b[A\n",
            "\n",
            "Epoch: 203 | Batch: 0 | Loss 0.03189815208315849: 814it [2:50:48, 13.16s/it]\u001b[A\u001b[A\n",
            "\n",
            "Epoch: 203 | Batch: 1 | Loss 0.02885800041258335: 814it [2:50:48, 13.16s/it]\u001b[A\u001b[A\n",
            "\n",
            "Epoch: 203 | Batch: 1 | Loss 0.02885800041258335: 815it [2:51:02, 13.23s/it]\u001b[A\u001b[A\n",
            "\n",
            "Epoch: 203 | Batch: 2 | Loss 0.030653346329927444: 815it [2:51:02, 13.23s/it]\u001b[A\u001b[A\n",
            "\n",
            "Epoch: 203 | Batch: 2 | Loss 0.030653346329927444: 816it [2:51:11, 12.17s/it]\u001b[A\u001b[A\n",
            "\n",
            "Epoch: 203 | Batch: 3 | Loss 0.02271815948188305: 816it [2:51:11, 12.17s/it] \u001b[A\u001b[A"
          ]
        },
        {
          "output_type": "stream",
          "name": "stdout",
          "text": [
            "Epoch 203 Training Accuracy: tensor(1.)\n",
            "Testing Accuracy: tensor(0.9355)\n"
          ]
        },
        {
          "output_type": "stream",
          "name": "stderr",
          "text": [
            "\n",
            "\n",
            "Epoch: 203 | Batch: 3 | Loss 0.02271815948188305: 817it [2:51:26, 12.84s/it]\u001b[A\u001b[A\n",
            "\n",
            "Epoch: 204 | Batch: 0 | Loss 0.029404496774077415: 817it [2:51:26, 12.84s/it]\u001b[A\u001b[A\n",
            "\n",
            "Epoch: 204 | Batch: 0 | Loss 0.029404496774077415: 818it [2:51:38, 12.51s/it]\u001b[A\u001b[A\n",
            "\n",
            "Epoch: 204 | Batch: 1 | Loss 0.03703887015581131: 818it [2:51:38, 12.51s/it] \u001b[A\u001b[A\n",
            "\n",
            "Epoch: 204 | Batch: 1 | Loss 0.03703887015581131: 819it [2:51:50, 12.58s/it]\u001b[A\u001b[A\n",
            "\n",
            "Epoch: 204 | Batch: 2 | Loss 0.028963763266801834: 819it [2:51:50, 12.58s/it]\u001b[A\u001b[A\n",
            "\n",
            "Epoch: 204 | Batch: 2 | Loss 0.028963763266801834: 820it [2:52:00, 11.69s/it]\u001b[A\u001b[A\n",
            "\n",
            "Epoch: 204 | Batch: 3 | Loss 0.018340935930609703: 820it [2:52:00, 11.69s/it]\u001b[A\u001b[A"
          ]
        },
        {
          "output_type": "stream",
          "name": "stdout",
          "text": [
            "Epoch 204 Training Accuracy: tensor(1.)\n",
            "Testing Accuracy: tensor(0.9355)\n"
          ]
        },
        {
          "output_type": "stream",
          "name": "stderr",
          "text": [
            "\n",
            "\n",
            "Epoch: 204 | Batch: 3 | Loss 0.018340935930609703: 821it [2:52:15, 12.57s/it]\u001b[A\u001b[A\n",
            "\n",
            "Epoch: 205 | Batch: 0 | Loss 0.027931418269872665: 821it [2:52:15, 12.57s/it]\u001b[A\u001b[A\n",
            "\n",
            "Epoch: 205 | Batch: 0 | Loss 0.027931418269872665: 822it [2:52:28, 12.76s/it]\u001b[A\u001b[A\n",
            "\n",
            "Epoch: 205 | Batch: 1 | Loss 0.03082619234919548: 822it [2:52:28, 12.76s/it] \u001b[A\u001b[A\n",
            "\n",
            "Epoch: 205 | Batch: 1 | Loss 0.03082619234919548: 823it [2:52:41, 12.96s/it]\u001b[A\u001b[A\n",
            "\n",
            "Epoch: 205 | Batch: 2 | Loss 0.03414268046617508: 823it [2:52:41, 12.96s/it]\u001b[A\u001b[A\n",
            "\n",
            "Epoch: 205 | Batch: 2 | Loss 0.03414268046617508: 824it [2:52:49, 11.48s/it]\u001b[A\u001b[A\n",
            "\n",
            "Epoch: 205 | Batch: 3 | Loss 0.018779948353767395: 824it [2:52:49, 11.48s/it]\u001b[A\u001b[A"
          ]
        },
        {
          "output_type": "stream",
          "name": "stdout",
          "text": [
            "Epoch 205 Training Accuracy: tensor(1.)\n",
            "Testing Accuracy: tensor(0.9355)\n"
          ]
        },
        {
          "output_type": "stream",
          "name": "stderr",
          "text": [
            "\n",
            "\n",
            "Epoch: 205 | Batch: 3 | Loss 0.018779948353767395: 825it [2:53:03, 12.30s/it]\u001b[A\u001b[A\n",
            "\n",
            "Epoch: 206 | Batch: 0 | Loss 0.047005295753479004: 825it [2:53:03, 12.30s/it]\u001b[A\u001b[A\n",
            "\n",
            "Epoch: 206 | Batch: 0 | Loss 0.047005295753479004: 826it [2:53:19, 13.23s/it]\u001b[A\u001b[A\n",
            "\n",
            "Epoch: 206 | Batch: 1 | Loss 0.03389400243759155: 826it [2:53:19, 13.23s/it] \u001b[A\u001b[A\n",
            "\n",
            "Epoch: 206 | Batch: 1 | Loss 0.03389400243759155: 827it [2:53:32, 13.14s/it]\u001b[A\u001b[A\n",
            "\n",
            "Epoch: 206 | Batch: 2 | Loss 0.02049877494573593: 827it [2:53:32, 13.14s/it]\u001b[A\u001b[A\n",
            "\n",
            "Epoch: 206 | Batch: 2 | Loss 0.02049877494573593: 828it [2:53:42, 12.35s/it]\u001b[A\u001b[A\n",
            "\n",
            "Epoch: 206 | Batch: 3 | Loss 0.014010665938258171: 828it [2:53:42, 12.35s/it]\u001b[A\u001b[A"
          ]
        },
        {
          "output_type": "stream",
          "name": "stdout",
          "text": [
            "Epoch 206 Training Accuracy: tensor(1.)\n",
            "Testing Accuracy: tensor(0.9355)\n"
          ]
        },
        {
          "output_type": "stream",
          "name": "stderr",
          "text": [
            "\n",
            "\n",
            "Epoch: 206 | Batch: 3 | Loss 0.014010665938258171: 829it [2:53:56, 12.85s/it]\u001b[A\u001b[A\n",
            "\n",
            "Epoch: 207 | Batch: 0 | Loss 0.03463972359895706: 829it [2:53:56, 12.85s/it] \u001b[A\u001b[A\n",
            "\n",
            "Epoch: 207 | Batch: 0 | Loss 0.03463972359895706: 830it [2:54:10, 13.21s/it]\u001b[A\u001b[A\n",
            "\n",
            "Epoch: 207 | Batch: 1 | Loss 0.033267028629779816: 830it [2:54:10, 13.21s/it]\u001b[A\u001b[A\n",
            "\n",
            "Epoch: 207 | Batch: 1 | Loss 0.033267028629779816: 831it [2:54:24, 13.29s/it]\u001b[A\u001b[A\n",
            "\n",
            "Epoch: 207 | Batch: 2 | Loss 0.0258637722581625: 831it [2:54:24, 13.29s/it]  \u001b[A\u001b[A\n",
            "\n",
            "Epoch: 207 | Batch: 2 | Loss 0.0258637722581625: 832it [2:54:32, 11.66s/it]\u001b[A\u001b[A\n",
            "\n",
            "Epoch: 207 | Batch: 3 | Loss 0.015684962272644043: 832it [2:54:32, 11.66s/it]\u001b[A\u001b[A"
          ]
        },
        {
          "output_type": "stream",
          "name": "stdout",
          "text": [
            "Epoch 207 Training Accuracy: tensor(1.)\n",
            "Testing Accuracy: tensor(0.9355)\n"
          ]
        },
        {
          "output_type": "stream",
          "name": "stderr",
          "text": [
            "\n",
            "\n",
            "Epoch: 207 | Batch: 3 | Loss 0.015684962272644043: 833it [2:54:46, 12.38s/it]\u001b[A\u001b[A\n",
            "\n",
            "Epoch: 208 | Batch: 0 | Loss 0.02498537302017212: 833it [2:54:46, 12.38s/it] \u001b[A\u001b[A\n",
            "\n",
            "Epoch: 208 | Batch: 0 | Loss 0.02498537302017212: 834it [2:54:59, 12.75s/it]\u001b[A\u001b[A\n",
            "\n",
            "Epoch: 208 | Batch: 1 | Loss 0.02764923870563507: 834it [2:54:59, 12.75s/it]\u001b[A\u001b[A\n",
            "\n",
            "Epoch: 208 | Batch: 1 | Loss 0.02764923870563507: 835it [2:55:13, 13.07s/it]\u001b[A\u001b[A\n",
            "\n",
            "Epoch: 208 | Batch: 2 | Loss 0.027327444404363632: 835it [2:55:13, 13.07s/it]\u001b[A\u001b[A\n",
            "\n",
            "Epoch: 208 | Batch: 2 | Loss 0.027327444404363632: 836it [2:55:23, 12.07s/it]\u001b[A\u001b[A\n",
            "\n",
            "Epoch: 208 | Batch: 3 | Loss 0.028918111696839333: 836it [2:55:23, 12.07s/it]\u001b[A\u001b[A"
          ]
        },
        {
          "output_type": "stream",
          "name": "stdout",
          "text": [
            "Epoch 208 Training Accuracy: tensor(1.)\n",
            "Testing Accuracy: tensor(0.9355)\n"
          ]
        },
        {
          "output_type": "stream",
          "name": "stderr",
          "text": [
            "\n",
            "\n",
            "Epoch: 208 | Batch: 3 | Loss 0.028918111696839333: 837it [2:55:37, 12.55s/it]\u001b[A\u001b[A\n",
            "\n",
            "Epoch: 209 | Batch: 0 | Loss 0.02346889302134514: 837it [2:55:37, 12.55s/it] \u001b[A\u001b[A\n",
            "\n",
            "Epoch: 209 | Batch: 0 | Loss 0.02346889302134514: 838it [2:55:52, 13.40s/it]\u001b[A\u001b[A\n",
            "\n",
            "Epoch: 209 | Batch: 1 | Loss 0.03743521124124527: 838it [2:55:52, 13.40s/it]\u001b[A\u001b[A\n",
            "\n",
            "Epoch: 209 | Batch: 1 | Loss 0.03743521124124527: 839it [2:56:05, 13.24s/it]\u001b[A\u001b[A\n",
            "\n",
            "Epoch: 209 | Batch: 2 | Loss 0.02838910184800625: 839it [2:56:05, 13.24s/it]\u001b[A\u001b[A\n",
            "\n",
            "Epoch: 209 | Batch: 2 | Loss 0.02838910184800625: 840it [2:56:14, 12.14s/it]\u001b[A\u001b[A\n",
            "\n",
            "Epoch: 209 | Batch: 3 | Loss 0.018469732254743576: 840it [2:56:14, 12.14s/it]\u001b[A\u001b[A"
          ]
        },
        {
          "output_type": "stream",
          "name": "stdout",
          "text": [
            "Epoch 209 Training Accuracy: tensor(1.)\n",
            "Testing Accuracy: tensor(0.9355)\n"
          ]
        },
        {
          "output_type": "stream",
          "name": "stderr",
          "text": [
            "\n",
            "\n",
            "Epoch: 209 | Batch: 3 | Loss 0.018469732254743576: 841it [2:56:29, 12.91s/it]\u001b[A\u001b[A\n",
            "\n",
            "Epoch: 210 | Batch: 0 | Loss 0.02480957843363285: 841it [2:56:29, 12.91s/it] \u001b[A\u001b[A\n",
            "\n",
            "Epoch: 210 | Batch: 0 | Loss 0.02480957843363285: 842it [2:56:42, 12.79s/it]\u001b[A\u001b[A\n",
            "\n",
            "Epoch: 210 | Batch: 1 | Loss 0.03499762341380119: 842it [2:56:42, 12.79s/it]\u001b[A\u001b[A\n",
            "\n",
            "Epoch: 210 | Batch: 1 | Loss 0.03499762341380119: 843it [2:56:55, 13.02s/it]\u001b[A\u001b[A\n",
            "\n",
            "Epoch: 210 | Batch: 2 | Loss 0.03154752776026726: 843it [2:56:55, 13.02s/it]\u001b[A\u001b[A\n",
            "\n",
            "Epoch: 210 | Batch: 2 | Loss 0.03154752776026726: 844it [2:57:04, 11.74s/it]\u001b[A\u001b[A\n",
            "\n",
            "Epoch: 210 | Batch: 3 | Loss 0.016298944130539894: 844it [2:57:04, 11.74s/it]\u001b[A\u001b[A"
          ]
        },
        {
          "output_type": "stream",
          "name": "stdout",
          "text": [
            "Epoch 210 Training Accuracy: tensor(1.)\n",
            "Testing Accuracy: tensor(0.9355)\n"
          ]
        },
        {
          "output_type": "stream",
          "name": "stderr",
          "text": [
            "\n",
            "\n",
            "Epoch: 210 | Batch: 3 | Loss 0.016298944130539894: 845it [2:57:18, 12.54s/it]\u001b[A\u001b[A\n",
            "\n",
            "Epoch: 211 | Batch: 0 | Loss 0.02877371571958065: 845it [2:57:18, 12.54s/it] \u001b[A\u001b[A\n",
            "\n",
            "Epoch: 211 | Batch: 0 | Loss 0.02877371571958065: 846it [2:57:31, 12.55s/it]\u001b[A\u001b[A\n",
            "\n",
            "Epoch: 211 | Batch: 1 | Loss 0.03333035111427307: 846it [2:57:31, 12.55s/it]\u001b[A\u001b[A\n",
            "\n",
            "Epoch: 211 | Batch: 1 | Loss 0.03333035111427307: 847it [2:57:44, 12.85s/it]\u001b[A\u001b[A\n",
            "\n",
            "Epoch: 211 | Batch: 2 | Loss 0.028844445943832397: 847it [2:57:44, 12.85s/it]\u001b[A\u001b[A\n",
            "\n",
            "Epoch: 211 | Batch: 2 | Loss 0.028844445943832397: 848it [2:57:54, 11.85s/it]\u001b[A\u001b[A\n",
            "\n",
            "Epoch: 211 | Batch: 3 | Loss 0.014460654929280281: 848it [2:57:54, 11.85s/it]\u001b[A\u001b[A"
          ]
        },
        {
          "output_type": "stream",
          "name": "stdout",
          "text": [
            "Epoch 211 Training Accuracy: tensor(1.)\n",
            "Testing Accuracy: tensor(0.9355)\n"
          ]
        },
        {
          "output_type": "stream",
          "name": "stderr",
          "text": [
            "\n",
            "\n",
            "Epoch: 211 | Batch: 3 | Loss 0.014460654929280281: 849it [2:58:08, 12.52s/it]\u001b[A\u001b[A\n",
            "\n",
            "Epoch: 212 | Batch: 0 | Loss 0.03825444355607033: 849it [2:58:08, 12.52s/it] \u001b[A\u001b[A\n",
            "\n",
            "Epoch: 212 | Batch: 0 | Loss 0.03825444355607033: 850it [2:58:22, 12.99s/it]\u001b[A\u001b[A\n",
            "\n",
            "Epoch: 212 | Batch: 1 | Loss 0.03384023159742355: 850it [2:58:22, 12.99s/it]\u001b[A\u001b[A\n",
            "\n",
            "Epoch: 212 | Batch: 1 | Loss 0.03384023159742355: 851it [2:58:37, 13.52s/it]\u001b[A\u001b[A\n",
            "\n",
            "Epoch: 212 | Batch: 2 | Loss 0.02089765854179859: 851it [2:58:37, 13.52s/it]\u001b[A\u001b[A\n",
            "\n",
            "Epoch: 212 | Batch: 2 | Loss 0.02089765854179859: 852it [2:58:45, 11.82s/it]\u001b[A\u001b[A\n",
            "\n",
            "Epoch: 212 | Batch: 3 | Loss 0.014596765860915184: 852it [2:58:45, 11.82s/it]\u001b[A\u001b[A"
          ]
        },
        {
          "output_type": "stream",
          "name": "stdout",
          "text": [
            "Epoch 212 Training Accuracy: tensor(1.)\n",
            "Testing Accuracy: tensor(0.9355)\n"
          ]
        },
        {
          "output_type": "stream",
          "name": "stderr",
          "text": [
            "\n",
            "\n",
            "Epoch: 212 | Batch: 3 | Loss 0.014596765860915184: 853it [2:58:59, 12.56s/it]\u001b[A\u001b[A\n",
            "\n",
            "Epoch: 213 | Batch: 0 | Loss 0.031625647097826004: 853it [2:58:59, 12.56s/it]\u001b[A\u001b[A\n",
            "\n",
            "Epoch: 213 | Batch: 0 | Loss 0.031625647097826004: 854it [2:59:12, 12.63s/it]\u001b[A\u001b[A\n",
            "\n",
            "Epoch: 213 | Batch: 1 | Loss 0.0391630195081234: 854it [2:59:12, 12.63s/it]  \u001b[A\u001b[A\n",
            "\n",
            "Epoch: 213 | Batch: 1 | Loss 0.0391630195081234: 855it [2:59:25, 12.85s/it]\u001b[A\u001b[A\n",
            "\n",
            "Epoch: 213 | Batch: 2 | Loss 0.02147565968334675: 855it [2:59:25, 12.85s/it]\u001b[A\u001b[A\n",
            "\n",
            "Epoch: 213 | Batch: 2 | Loss 0.02147565968334675: 856it [2:59:34, 11.81s/it]\u001b[A\u001b[A\n",
            "\n",
            "Epoch: 213 | Batch: 3 | Loss 0.013877027668058872: 856it [2:59:34, 11.81s/it]\u001b[A\u001b[A"
          ]
        },
        {
          "output_type": "stream",
          "name": "stdout",
          "text": [
            "Epoch 213 Training Accuracy: tensor(1.)\n",
            "Testing Accuracy: tensor(0.9355)\n"
          ]
        },
        {
          "output_type": "stream",
          "name": "stderr",
          "text": [
            "\n",
            "\n",
            "Epoch: 213 | Batch: 3 | Loss 0.013877027668058872: 857it [2:59:49, 12.76s/it]\u001b[A\u001b[A\n",
            "\n",
            "Epoch: 214 | Batch: 0 | Loss 0.03479883447289467: 857it [2:59:49, 12.76s/it] \u001b[A\u001b[A\n",
            "\n",
            "Epoch: 214 | Batch: 0 | Loss 0.03479883447289467: 858it [3:00:01, 12.47s/it]\u001b[A\u001b[A\n",
            "\n",
            "Epoch: 214 | Batch: 1 | Loss 0.024591371417045593: 858it [3:00:01, 12.47s/it]\u001b[A\u001b[A\n",
            "\n",
            "Epoch: 214 | Batch: 1 | Loss 0.024591371417045593: 859it [3:00:14, 12.69s/it]\u001b[A\u001b[A\n",
            "\n",
            "Epoch: 214 | Batch: 2 | Loss 0.02716001868247986: 859it [3:00:14, 12.69s/it] \u001b[A\u001b[A\n",
            "\n",
            "Epoch: 214 | Batch: 2 | Loss 0.02716001868247986: 860it [3:00:24, 11.77s/it]\u001b[A\u001b[A\n",
            "\n",
            "Epoch: 214 | Batch: 3 | Loss 0.016207488253712654: 860it [3:00:24, 11.77s/it]\u001b[A\u001b[A"
          ]
        },
        {
          "output_type": "stream",
          "name": "stdout",
          "text": [
            "Epoch 214 Training Accuracy: tensor(1.)\n",
            "Testing Accuracy: tensor(0.9355)\n"
          ]
        },
        {
          "output_type": "stream",
          "name": "stderr",
          "text": [
            "\n",
            "\n",
            "Epoch: 214 | Batch: 3 | Loss 0.016207488253712654: 861it [3:00:39, 12.74s/it]\u001b[A\u001b[A\n",
            "\n",
            "Epoch: 215 | Batch: 0 | Loss 0.0364140085875988: 861it [3:00:39, 12.74s/it]  \u001b[A\u001b[A\n",
            "\n",
            "Epoch: 215 | Batch: 0 | Loss 0.0364140085875988: 862it [3:00:52, 12.78s/it]\u001b[A\u001b[A\n",
            "\n",
            "Epoch: 215 | Batch: 1 | Loss 0.03372230380773544: 862it [3:00:52, 12.78s/it]\u001b[A\u001b[A\n",
            "\n",
            "Epoch: 215 | Batch: 1 | Loss 0.03372230380773544: 863it [3:01:07, 13.47s/it]\u001b[A\u001b[A\n",
            "\n",
            "Epoch: 215 | Batch: 2 | Loss 0.0233570858836174: 863it [3:01:07, 13.47s/it] \u001b[A\u001b[A\n",
            "\n",
            "Epoch: 215 | Batch: 2 | Loss 0.0233570858836174: 864it [3:01:16, 12.22s/it]\u001b[A\u001b[A\n",
            "\n",
            "Epoch: 215 | Batch: 3 | Loss 0.010947383008897305: 864it [3:01:16, 12.22s/it]\u001b[A\u001b[A"
          ]
        },
        {
          "output_type": "stream",
          "name": "stdout",
          "text": [
            "Epoch 215 Training Accuracy: tensor(1.)\n",
            "Testing Accuracy: tensor(0.9355)\n"
          ]
        },
        {
          "output_type": "stream",
          "name": "stderr",
          "text": [
            "\n",
            "\n",
            "Epoch: 215 | Batch: 3 | Loss 0.010947383008897305: 865it [3:01:31, 12.85s/it]\u001b[A\u001b[A\n",
            "\n",
            "Epoch: 216 | Batch: 0 | Loss 0.031222421675920486: 865it [3:01:31, 12.85s/it]\u001b[A\u001b[A\n",
            "\n",
            "Epoch: 216 | Batch: 0 | Loss 0.031222421675920486: 866it [3:01:43, 12.55s/it]\u001b[A\u001b[A\n",
            "\n",
            "Epoch: 216 | Batch: 1 | Loss 0.029854144901037216: 866it [3:01:43, 12.55s/it]\u001b[A\u001b[A\n",
            "\n",
            "Epoch: 216 | Batch: 1 | Loss 0.029854144901037216: 867it [3:01:56, 12.82s/it]\u001b[A\u001b[A\n",
            "\n",
            "Epoch: 216 | Batch: 2 | Loss 0.029518866911530495: 867it [3:01:56, 12.82s/it]\u001b[A\u001b[A\n",
            "\n",
            "Epoch: 216 | Batch: 2 | Loss 0.029518866911530495: 868it [3:02:06, 11.86s/it]\u001b[A\u001b[A\n",
            "\n",
            "Epoch: 216 | Batch: 3 | Loss 0.011123858392238617: 868it [3:02:06, 11.86s/it]\u001b[A\u001b[A"
          ]
        },
        {
          "output_type": "stream",
          "name": "stdout",
          "text": [
            "Epoch 216 Training Accuracy: tensor(1.)\n",
            "Testing Accuracy: tensor(0.9355)\n"
          ]
        },
        {
          "output_type": "stream",
          "name": "stderr",
          "text": [
            "\n",
            "\n",
            "Epoch: 216 | Batch: 3 | Loss 0.011123858392238617: 869it [3:02:20, 12.65s/it]\u001b[A\u001b[A\n",
            "\n",
            "Epoch: 217 | Batch: 0 | Loss 0.02129124477505684: 869it [3:02:20, 12.65s/it] \u001b[A\u001b[A\n",
            "\n",
            "Epoch: 217 | Batch: 0 | Loss 0.02129124477505684: 870it [3:02:33, 12.70s/it]\u001b[A\u001b[A\n",
            "\n",
            "Epoch: 217 | Batch: 1 | Loss 0.03206281736493111: 870it [3:02:33, 12.70s/it]\u001b[A\u001b[A\n",
            "\n",
            "Epoch: 217 | Batch: 1 | Loss 0.03206281736493111: 871it [3:02:47, 12.97s/it]\u001b[A\u001b[A\n",
            "\n",
            "Epoch: 217 | Batch: 2 | Loss 0.03137202933430672: 871it [3:02:47, 12.97s/it]\u001b[A\u001b[A\n",
            "\n",
            "Epoch: 217 | Batch: 2 | Loss 0.03137202933430672: 872it [3:02:55, 11.49s/it]\u001b[A\u001b[A\n",
            "\n",
            "Epoch: 217 | Batch: 3 | Loss 0.015475559048354626: 872it [3:02:55, 11.49s/it]\u001b[A\u001b[A"
          ]
        },
        {
          "output_type": "stream",
          "name": "stdout",
          "text": [
            "Epoch 217 Training Accuracy: tensor(1.)\n",
            "Testing Accuracy: tensor(0.9355)\n"
          ]
        },
        {
          "output_type": "stream",
          "name": "stderr",
          "text": [
            "\n",
            "\n",
            "Epoch: 217 | Batch: 3 | Loss 0.015475559048354626: 873it [3:03:09, 12.29s/it]\u001b[A\u001b[A\n",
            "\n",
            "Epoch: 218 | Batch: 0 | Loss 0.032766155898571014: 873it [3:03:09, 12.29s/it]\u001b[A\u001b[A\n",
            "\n",
            "Epoch: 218 | Batch: 0 | Loss 0.032766155898571014: 874it [3:03:21, 12.37s/it]\u001b[A\u001b[A\n",
            "\n",
            "Epoch: 218 | Batch: 1 | Loss 0.022301025688648224: 874it [3:03:21, 12.37s/it]\u001b[A\u001b[A\n",
            "\n",
            "Epoch: 218 | Batch: 1 | Loss 0.022301025688648224: 875it [3:03:37, 13.29s/it]\u001b[A\u001b[A\n",
            "\n",
            "Epoch: 218 | Batch: 2 | Loss 0.026243384927511215: 875it [3:03:37, 13.29s/it]\u001b[A\u001b[A\n",
            "\n",
            "Epoch: 218 | Batch: 2 | Loss 0.026243384927511215: 876it [3:03:46, 12.00s/it]\u001b[A\u001b[A\n",
            "\n",
            "Epoch: 218 | Batch: 3 | Loss 0.017179356887936592: 876it [3:03:46, 12.00s/it]\u001b[A\u001b[A"
          ]
        },
        {
          "output_type": "stream",
          "name": "stdout",
          "text": [
            "Epoch 218 Training Accuracy: tensor(1.)\n",
            "Testing Accuracy: tensor(0.9355)\n"
          ]
        },
        {
          "output_type": "stream",
          "name": "stderr",
          "text": [
            "\n",
            "\n",
            "Epoch: 218 | Batch: 3 | Loss 0.017179356887936592: 877it [3:04:00, 12.74s/it]\u001b[A\u001b[A\n",
            "\n",
            "Epoch: 219 | Batch: 0 | Loss 0.024874700233340263: 877it [3:04:00, 12.74s/it]\u001b[A\u001b[A\n",
            "\n",
            "Epoch: 219 | Batch: 0 | Loss 0.024874700233340263: 878it [3:04:14, 12.98s/it]\u001b[A\u001b[A\n",
            "\n",
            "Epoch: 219 | Batch: 1 | Loss 0.027713272720575333: 878it [3:04:14, 12.98s/it]\u001b[A\u001b[A\n",
            "\n",
            "Epoch: 219 | Batch: 1 | Loss 0.027713272720575333: 879it [3:04:27, 12.94s/it]\u001b[A\u001b[A\n",
            "\n",
            "Epoch: 219 | Batch: 2 | Loss 0.024472448974847794: 879it [3:04:27, 12.94s/it]\u001b[A\u001b[A\n",
            "\n",
            "Epoch: 219 | Batch: 2 | Loss 0.024472448974847794: 880it [3:04:36, 11.99s/it]\u001b[A\u001b[A\n",
            "\n",
            "Epoch: 219 | Batch: 3 | Loss 0.01989363320171833: 880it [3:04:36, 11.99s/it] \u001b[A\u001b[A"
          ]
        },
        {
          "output_type": "stream",
          "name": "stdout",
          "text": [
            "Epoch 219 Training Accuracy: tensor(1.)\n",
            "Testing Accuracy: tensor(0.9355)\n"
          ]
        },
        {
          "output_type": "stream",
          "name": "stderr",
          "text": [
            "\n",
            "\n",
            "Epoch: 219 | Batch: 3 | Loss 0.01989363320171833: 881it [3:04:50, 12.64s/it]\u001b[A\u001b[A\n",
            "\n",
            "Epoch: 220 | Batch: 0 | Loss 0.026653070002794266: 881it [3:04:50, 12.64s/it]\u001b[A\u001b[A\n",
            "\n",
            "Epoch: 220 | Batch: 0 | Loss 0.026653070002794266: 882it [3:05:04, 12.87s/it]\u001b[A\u001b[A\n",
            "\n",
            "Epoch: 220 | Batch: 1 | Loss 0.02646213211119175: 882it [3:05:04, 12.87s/it] \u001b[A\u001b[A\n",
            "\n",
            "Epoch: 220 | Batch: 1 | Loss 0.02646213211119175: 883it [3:05:16, 12.78s/it]\u001b[A\u001b[A\n",
            "\n",
            "Epoch: 220 | Batch: 2 | Loss 0.0302437637001276: 883it [3:05:16, 12.78s/it] \u001b[A\u001b[A\n",
            "\n",
            "Epoch: 220 | Batch: 2 | Loss 0.0302437637001276: 884it [3:05:25, 11.61s/it]\u001b[A\u001b[A\n",
            "\n",
            "Epoch: 220 | Batch: 3 | Loss 0.013704577460885048: 884it [3:05:25, 11.61s/it]\u001b[A\u001b[A"
          ]
        },
        {
          "output_type": "stream",
          "name": "stdout",
          "text": [
            "Epoch 220 Training Accuracy: tensor(1.)\n",
            "Testing Accuracy: tensor(0.9355)\n"
          ]
        },
        {
          "output_type": "stream",
          "name": "stderr",
          "text": [
            "\n",
            "\n",
            "Epoch: 220 | Batch: 3 | Loss 0.013704577460885048: 885it [3:05:39, 12.31s/it]\u001b[A\u001b[A\n",
            "\n",
            "Epoch: 221 | Batch: 0 | Loss 0.023640209808945656: 885it [3:05:39, 12.31s/it]\u001b[A\u001b[A\n",
            "\n",
            "Epoch: 221 | Batch: 0 | Loss 0.023640209808945656: 886it [3:05:53, 12.75s/it]\u001b[A\u001b[A\n",
            "\n",
            "Epoch: 221 | Batch: 1 | Loss 0.02899494208395481: 886it [3:05:53, 12.75s/it] \u001b[A\u001b[A\n",
            "\n",
            "Epoch: 221 | Batch: 1 | Loss 0.02899494208395481: 887it [3:06:09, 13.75s/it]\u001b[A\u001b[A\n",
            "\n",
            "Epoch: 221 | Batch: 2 | Loss 0.029758650809526443: 887it [3:06:09, 13.75s/it]\u001b[A\u001b[A\n",
            "\n",
            "Epoch: 221 | Batch: 2 | Loss 0.029758650809526443: 888it [3:06:19, 12.63s/it]\u001b[A\u001b[A\n",
            "\n",
            "Epoch: 221 | Batch: 3 | Loss 0.014095314778387547: 888it [3:06:19, 12.63s/it]\u001b[A\u001b[A"
          ]
        },
        {
          "output_type": "stream",
          "name": "stdout",
          "text": [
            "Epoch 221 Training Accuracy: tensor(1.)\n",
            "Testing Accuracy: tensor(0.9355)\n"
          ]
        },
        {
          "output_type": "stream",
          "name": "stderr",
          "text": [
            "\n",
            "\n",
            "Epoch: 221 | Batch: 3 | Loss 0.014095314778387547: 889it [3:06:33, 13.13s/it]\u001b[A\u001b[A\n",
            "\n",
            "Epoch: 222 | Batch: 0 | Loss 0.03720101714134216: 889it [3:06:33, 13.13s/it] \u001b[A\u001b[A\n",
            "\n",
            "Epoch: 222 | Batch: 0 | Loss 0.03720101714134216: 890it [3:06:47, 13.37s/it]\u001b[A\u001b[A\n",
            "\n",
            "Epoch: 222 | Batch: 1 | Loss 0.021353526040911674: 890it [3:06:47, 13.37s/it]\u001b[A\u001b[A\n",
            "\n",
            "Epoch: 222 | Batch: 1 | Loss 0.021353526040911674: 891it [3:07:01, 13.45s/it]\u001b[A\u001b[A\n",
            "\n",
            "Epoch: 222 | Batch: 2 | Loss 0.02353038266301155: 891it [3:07:01, 13.45s/it] \u001b[A\u001b[A\n",
            "\n",
            "Epoch: 222 | Batch: 2 | Loss 0.02353038266301155: 892it [3:07:09, 11.77s/it]\u001b[A\u001b[A\n",
            "\n",
            "Epoch: 222 | Batch: 3 | Loss 0.014017441309988499: 892it [3:07:09, 11.77s/it]\u001b[A\u001b[A"
          ]
        },
        {
          "output_type": "stream",
          "name": "stdout",
          "text": [
            "Epoch 222 Training Accuracy: tensor(1.)\n",
            "Testing Accuracy: tensor(0.9355)\n"
          ]
        },
        {
          "output_type": "stream",
          "name": "stderr",
          "text": [
            "\n",
            "\n",
            "Epoch: 222 | Batch: 3 | Loss 0.014017441309988499: 893it [3:07:22, 12.31s/it]\u001b[A\u001b[A\n",
            "\n",
            "Epoch: 223 | Batch: 0 | Loss 0.02274293079972267: 893it [3:07:22, 12.31s/it] \u001b[A\u001b[A\n",
            "\n",
            "Epoch: 223 | Batch: 0 | Loss 0.02274293079972267: 894it [3:07:36, 12.64s/it]\u001b[A\u001b[A\n",
            "\n",
            "Epoch: 223 | Batch: 1 | Loss 0.0259484201669693: 894it [3:07:36, 12.64s/it] \u001b[A\u001b[A\n",
            "\n",
            "Epoch: 223 | Batch: 1 | Loss 0.0259484201669693: 895it [3:07:50, 13.08s/it]\u001b[A\u001b[A\n",
            "\n",
            "Epoch: 223 | Batch: 2 | Loss 0.030438896268606186: 895it [3:07:50, 13.08s/it]\u001b[A\u001b[A\n",
            "\n",
            "Epoch: 223 | Batch: 2 | Loss 0.030438896268606186: 896it [3:08:00, 12.09s/it]\u001b[A\u001b[A\n",
            "\n",
            "Epoch: 223 | Batch: 3 | Loss 0.013999930582940578: 896it [3:08:00, 12.09s/it]\u001b[A\u001b[A"
          ]
        },
        {
          "output_type": "stream",
          "name": "stdout",
          "text": [
            "Epoch 223 Training Accuracy: tensor(1.)\n",
            "Testing Accuracy: tensor(0.9355)\n"
          ]
        },
        {
          "output_type": "stream",
          "name": "stderr",
          "text": [
            "\n",
            "\n",
            "Epoch: 223 | Batch: 3 | Loss 0.013999930582940578: 897it [3:08:15, 12.91s/it]\u001b[A\u001b[A\n",
            "\n",
            "Epoch: 224 | Batch: 0 | Loss 0.023095395416021347: 897it [3:08:15, 12.91s/it]\u001b[A\u001b[A\n",
            "\n",
            "Epoch: 224 | Batch: 0 | Loss 0.023095395416021347: 898it [3:08:26, 12.47s/it]\u001b[A\u001b[A\n",
            "\n",
            "Epoch: 224 | Batch: 1 | Loss 0.02288205735385418: 898it [3:08:26, 12.47s/it] \u001b[A\u001b[A\n",
            "\n",
            "Epoch: 224 | Batch: 1 | Loss 0.02288205735385418: 899it [3:08:42, 13.52s/it]\u001b[A\u001b[A\n",
            "\n",
            "Epoch: 224 | Batch: 2 | Loss 0.02581050992012024: 899it [3:08:42, 13.52s/it]\u001b[A\u001b[A\n",
            "\n",
            "Epoch: 224 | Batch: 2 | Loss 0.02581050992012024: 900it [3:08:51, 12.05s/it]\u001b[A\u001b[A\n",
            "\n",
            "Epoch: 224 | Batch: 3 | Loss 0.020604949444532394: 900it [3:08:51, 12.05s/it]\u001b[A\u001b[A"
          ]
        },
        {
          "output_type": "stream",
          "name": "stdout",
          "text": [
            "Epoch 224 Training Accuracy: tensor(1.)\n",
            "Testing Accuracy: tensor(0.9355)\n"
          ]
        },
        {
          "output_type": "stream",
          "name": "stderr",
          "text": [
            "\n",
            "\n",
            "Epoch: 224 | Batch: 3 | Loss 0.020604949444532394: 901it [3:09:05, 12.91s/it]\u001b[A\u001b[A\n",
            "\n",
            "Epoch: 225 | Batch: 0 | Loss 0.02639094367623329: 901it [3:09:05, 12.91s/it] \u001b[A\u001b[A\n",
            "\n",
            "Epoch: 225 | Batch: 0 | Loss 0.02639094367623329: 902it [3:09:18, 12.82s/it]\u001b[A\u001b[A\n",
            "\n",
            "Epoch: 225 | Batch: 1 | Loss 0.028814401477575302: 902it [3:09:18, 12.82s/it]\u001b[A\u001b[A\n",
            "\n",
            "Epoch: 225 | Batch: 1 | Loss 0.028814401477575302: 903it [3:09:32, 13.14s/it]\u001b[A\u001b[A\n",
            "\n",
            "Epoch: 225 | Batch: 2 | Loss 0.025372061878442764: 903it [3:09:32, 13.14s/it]\u001b[A\u001b[A\n",
            "\n",
            "Epoch: 225 | Batch: 2 | Loss 0.025372061878442764: 904it [3:09:41, 12.05s/it]\u001b[A\u001b[A\n",
            "\n",
            "Epoch: 225 | Batch: 3 | Loss 0.01208643801510334: 904it [3:09:41, 12.05s/it] \u001b[A\u001b[A"
          ]
        },
        {
          "output_type": "stream",
          "name": "stdout",
          "text": [
            "Epoch 225 Training Accuracy: tensor(1.)\n",
            "Testing Accuracy: tensor(0.9355)\n"
          ]
        },
        {
          "output_type": "stream",
          "name": "stderr",
          "text": [
            "\n",
            "\n",
            "Epoch: 225 | Batch: 3 | Loss 0.01208643801510334: 905it [3:09:56, 12.87s/it]\u001b[A\u001b[A\n",
            "\n",
            "Epoch: 226 | Batch: 0 | Loss 0.022052263841032982: 905it [3:09:56, 12.87s/it]\u001b[A\u001b[A\n",
            "\n",
            "Epoch: 226 | Batch: 0 | Loss 0.022052263841032982: 906it [3:10:08, 12.51s/it]\u001b[A\u001b[A\n",
            "\n",
            "Epoch: 226 | Batch: 1 | Loss 0.022217268124222755: 906it [3:10:08, 12.51s/it]\u001b[A\u001b[A\n",
            "\n",
            "Epoch: 226 | Batch: 1 | Loss 0.022217268124222755: 907it [3:10:21, 12.74s/it]\u001b[A\u001b[A\n",
            "\n",
            "Epoch: 226 | Batch: 2 | Loss 0.03577220439910889: 907it [3:10:21, 12.74s/it] \u001b[A\u001b[A\n",
            "\n",
            "Epoch: 226 | Batch: 2 | Loss 0.03577220439910889: 908it [3:10:31, 11.78s/it]\u001b[A\u001b[A\n",
            "\n",
            "Epoch: 226 | Batch: 3 | Loss 0.01281223725527525: 908it [3:10:31, 11.78s/it]\u001b[A\u001b[A"
          ]
        },
        {
          "output_type": "stream",
          "name": "stdout",
          "text": [
            "Epoch 226 Training Accuracy: tensor(1.)\n",
            "Testing Accuracy: tensor(0.9355)\n"
          ]
        },
        {
          "output_type": "stream",
          "name": "stderr",
          "text": [
            "\n",
            "\n",
            "Epoch: 226 | Batch: 3 | Loss 0.01281223725527525: 909it [3:10:45, 12.59s/it]\u001b[A\u001b[A\n",
            "\n",
            "Epoch: 227 | Batch: 0 | Loss 0.02493189461529255: 909it [3:10:45, 12.59s/it]\u001b[A\u001b[A\n",
            "\n",
            "Epoch: 227 | Batch: 0 | Loss 0.02493189461529255: 910it [3:10:59, 12.99s/it]\u001b[A\u001b[A\n",
            "\n",
            "Epoch: 227 | Batch: 1 | Loss 0.03127194195985794: 910it [3:10:59, 12.99s/it]\u001b[A\u001b[A\n",
            "\n",
            "Epoch: 227 | Batch: 1 | Loss 0.03127194195985794: 911it [3:11:14, 13.60s/it]\u001b[A\u001b[A\n",
            "\n",
            "Epoch: 227 | Batch: 2 | Loss 0.026606526225805283: 911it [3:11:14, 13.60s/it]\u001b[A\u001b[A\n",
            "\n",
            "Epoch: 227 | Batch: 2 | Loss 0.026606526225805283: 912it [3:11:23, 12.02s/it]\u001b[A\u001b[A\n",
            "\n",
            "Epoch: 227 | Batch: 3 | Loss 0.009400628507137299: 912it [3:11:23, 12.02s/it]\u001b[A\u001b[A"
          ]
        },
        {
          "output_type": "stream",
          "name": "stdout",
          "text": [
            "Epoch 227 Training Accuracy: tensor(1.)\n",
            "Testing Accuracy: tensor(0.9355)\n"
          ]
        },
        {
          "output_type": "stream",
          "name": "stderr",
          "text": [
            "\n",
            "\n",
            "Epoch: 227 | Batch: 3 | Loss 0.009400628507137299: 913it [3:11:37, 12.69s/it]\u001b[A\u001b[A\n",
            "\n",
            "Epoch: 228 | Batch: 0 | Loss 0.022755246609449387: 913it [3:11:37, 12.69s/it]\u001b[A\u001b[A\n",
            "\n",
            "Epoch: 228 | Batch: 0 | Loss 0.022755246609449387: 914it [3:11:50, 12.73s/it]\u001b[A\u001b[A\n",
            "\n",
            "Epoch: 228 | Batch: 1 | Loss 0.022016342729330063: 914it [3:11:50, 12.73s/it]\u001b[A\u001b[A\n",
            "\n",
            "Epoch: 228 | Batch: 1 | Loss 0.022016342729330063: 915it [3:12:03, 13.01s/it]\u001b[A\u001b[A\n",
            "\n",
            "Epoch: 228 | Batch: 2 | Loss 0.03488129377365112: 915it [3:12:03, 13.01s/it] \u001b[A\u001b[A\n",
            "\n",
            "Epoch: 228 | Batch: 2 | Loss 0.03488129377365112: 916it [3:12:13, 11.96s/it]\u001b[A\u001b[A\n",
            "\n",
            "Epoch: 228 | Batch: 3 | Loss 0.011126739904284477: 916it [3:12:13, 11.96s/it]\u001b[A\u001b[A"
          ]
        },
        {
          "output_type": "stream",
          "name": "stdout",
          "text": [
            "Epoch 228 Training Accuracy: tensor(1.)\n",
            "Testing Accuracy: tensor(0.9355)\n"
          ]
        },
        {
          "output_type": "stream",
          "name": "stderr",
          "text": [
            "\n",
            "\n",
            "Epoch: 228 | Batch: 3 | Loss 0.011126739904284477: 917it [3:12:27, 12.74s/it]\u001b[A\u001b[A\n",
            "\n",
            "Epoch: 229 | Batch: 0 | Loss 0.024053610861301422: 917it [3:12:27, 12.74s/it]\u001b[A\u001b[A\n",
            "\n",
            "Epoch: 229 | Batch: 0 | Loss 0.024053610861301422: 918it [3:12:40, 12.72s/it]\u001b[A\u001b[A\n",
            "\n",
            "Epoch: 229 | Batch: 1 | Loss 0.030518120154738426: 918it [3:12:40, 12.72s/it]\u001b[A\u001b[A\n",
            "\n",
            "Epoch: 229 | Batch: 1 | Loss 0.030518120154738426: 919it [3:12:53, 12.83s/it]\u001b[A\u001b[A\n",
            "\n",
            "Epoch: 229 | Batch: 2 | Loss 0.02523658238351345: 919it [3:12:53, 12.83s/it] \u001b[A\u001b[A\n",
            "\n",
            "Epoch: 229 | Batch: 2 | Loss 0.02523658238351345: 920it [3:13:02, 11.70s/it]\u001b[A\u001b[A\n",
            "\n",
            "Epoch: 229 | Batch: 3 | Loss 0.010323754511773586: 920it [3:13:02, 11.70s/it]\u001b[A\u001b[A"
          ]
        },
        {
          "output_type": "stream",
          "name": "stdout",
          "text": [
            "Epoch 229 Training Accuracy: tensor(1.)\n",
            "Testing Accuracy: tensor(0.9355)\n"
          ]
        },
        {
          "output_type": "stream",
          "name": "stderr",
          "text": [
            "\n",
            "\n",
            "Epoch: 229 | Batch: 3 | Loss 0.010323754511773586: 921it [3:13:17, 12.67s/it]\u001b[A\u001b[A\n",
            "\n",
            "Epoch: 230 | Batch: 0 | Loss 0.0247846357524395: 921it [3:13:17, 12.67s/it]  \u001b[A\u001b[A\n",
            "\n",
            "Epoch: 230 | Batch: 0 | Loss 0.0247846357524395: 922it [3:13:30, 12.68s/it]\u001b[A\u001b[A\n",
            "\n",
            "Epoch: 230 | Batch: 1 | Loss 0.02366337738931179: 922it [3:13:30, 12.68s/it]\u001b[A\u001b[A\n",
            "\n",
            "Epoch: 230 | Batch: 1 | Loss 0.02366337738931179: 923it [3:13:45, 13.34s/it]\u001b[A\u001b[A\n",
            "\n",
            "Epoch: 230 | Batch: 2 | Loss 0.027166392654180527: 923it [3:13:45, 13.34s/it]\u001b[A\u001b[A\n",
            "\n",
            "Epoch: 230 | Batch: 2 | Loss 0.027166392654180527: 924it [3:13:55, 12.49s/it]\u001b[A\u001b[A\n",
            "\n",
            "Epoch: 230 | Batch: 3 | Loss 0.012591167353093624: 924it [3:13:55, 12.49s/it]\u001b[A\u001b[A"
          ]
        },
        {
          "output_type": "stream",
          "name": "stdout",
          "text": [
            "Epoch 230 Training Accuracy: tensor(1.)\n",
            "Testing Accuracy: tensor(0.9355)\n"
          ]
        },
        {
          "output_type": "stream",
          "name": "stderr",
          "text": [
            "\n",
            "\n",
            "Epoch: 230 | Batch: 3 | Loss 0.012591167353093624: 925it [3:14:09, 12.86s/it]\u001b[A\u001b[A\n",
            "\n",
            "Epoch: 231 | Batch: 0 | Loss 0.020058825612068176: 925it [3:14:09, 12.86s/it]\u001b[A\u001b[A\n",
            "\n",
            "Epoch: 231 | Batch: 0 | Loss 0.020058825612068176: 926it [3:14:22, 13.02s/it]\u001b[A\u001b[A\n",
            "\n",
            "Epoch: 231 | Batch: 1 | Loss 0.027538087218999863: 926it [3:14:22, 13.02s/it]\u001b[A\u001b[A\n",
            "\n",
            "Epoch: 231 | Batch: 1 | Loss 0.027538087218999863: 927it [3:14:35, 12.91s/it]\u001b[A\u001b[A\n",
            "\n",
            "Epoch: 231 | Batch: 2 | Loss 0.01912914775311947: 927it [3:14:35, 12.91s/it] \u001b[A\u001b[A\n",
            "\n",
            "Epoch: 231 | Batch: 2 | Loss 0.01912914775311947: 928it [3:14:44, 11.83s/it]\u001b[A\u001b[A\n",
            "\n",
            "Epoch: 231 | Batch: 3 | Loss 0.019549215212464333: 928it [3:14:44, 11.83s/it]\u001b[A\u001b[A"
          ]
        },
        {
          "output_type": "stream",
          "name": "stdout",
          "text": [
            "Epoch 231 Training Accuracy: tensor(1.)\n",
            "Testing Accuracy: tensor(0.9355)\n"
          ]
        },
        {
          "output_type": "stream",
          "name": "stderr",
          "text": [
            "\n",
            "\n",
            "Epoch: 231 | Batch: 3 | Loss 0.019549215212464333: 929it [3:14:58, 12.41s/it]\u001b[A\u001b[A\n",
            "\n",
            "Epoch: 232 | Batch: 0 | Loss 0.0229713823646307: 929it [3:14:58, 12.41s/it]  \u001b[A\u001b[A\n",
            "\n",
            "Epoch: 232 | Batch: 0 | Loss 0.0229713823646307: 930it [3:15:11, 12.72s/it]\u001b[A\u001b[A\n",
            "\n",
            "Epoch: 232 | Batch: 1 | Loss 0.024184588342905045: 930it [3:15:11, 12.72s/it]\u001b[A\u001b[A\n",
            "\n",
            "Epoch: 232 | Batch: 1 | Loss 0.024184588342905045: 931it [3:15:24, 12.77s/it]\u001b[A\u001b[A\n",
            "\n",
            "Epoch: 232 | Batch: 2 | Loss 0.028674250468611717: 931it [3:15:24, 12.77s/it]\u001b[A\u001b[A\n",
            "\n",
            "Epoch: 232 | Batch: 2 | Loss 0.028674250468611717: 932it [3:15:34, 11.83s/it]\u001b[A\u001b[A\n",
            "\n",
            "Epoch: 232 | Batch: 3 | Loss 0.011286252178251743: 932it [3:15:34, 11.83s/it]\u001b[A\u001b[A"
          ]
        },
        {
          "output_type": "stream",
          "name": "stdout",
          "text": [
            "Epoch 232 Training Accuracy: tensor(1.)\n",
            "Testing Accuracy: tensor(0.9355)\n"
          ]
        },
        {
          "output_type": "stream",
          "name": "stderr",
          "text": [
            "\n",
            "\n",
            "Epoch: 232 | Batch: 3 | Loss 0.011286252178251743: 933it [3:15:47, 12.29s/it]\u001b[A\u001b[A\n",
            "\n",
            "Epoch: 233 | Batch: 0 | Loss 0.024439696222543716: 933it [3:15:47, 12.29s/it]\u001b[A\u001b[A\n",
            "\n",
            "Epoch: 233 | Batch: 0 | Loss 0.024439696222543716: 934it [3:16:01, 12.65s/it]\u001b[A\u001b[A\n",
            "\n",
            "Epoch: 233 | Batch: 1 | Loss 0.027212342247366905: 934it [3:16:01, 12.65s/it]\u001b[A\u001b[A\n",
            "\n",
            "Epoch: 233 | Batch: 1 | Loss 0.027212342247366905: 935it [3:16:15, 13.05s/it]\u001b[A\u001b[A\n",
            "\n",
            "Epoch: 233 | Batch: 2 | Loss 0.023405827581882477: 935it [3:16:15, 13.05s/it]\u001b[A\u001b[A\n",
            "\n",
            "Epoch: 233 | Batch: 2 | Loss 0.023405827581882477: 936it [3:16:27, 12.78s/it]\u001b[A\u001b[A\n",
            "\n",
            "Epoch: 233 | Batch: 3 | Loss 0.010510658845305443: 936it [3:16:27, 12.78s/it]\u001b[A\u001b[A"
          ]
        },
        {
          "output_type": "stream",
          "name": "stdout",
          "text": [
            "Epoch 233 Training Accuracy: tensor(1.)\n",
            "Testing Accuracy: tensor(0.9355)\n"
          ]
        },
        {
          "output_type": "stream",
          "name": "stderr",
          "text": [
            "\n",
            "\n",
            "Epoch: 233 | Batch: 3 | Loss 0.010510658845305443: 937it [3:16:41, 13.10s/it]\u001b[A\u001b[A\n",
            "\n",
            "Epoch: 234 | Batch: 0 | Loss 0.022275034338235855: 937it [3:16:41, 13.10s/it]\u001b[A\u001b[A\n",
            "\n",
            "Epoch: 234 | Batch: 0 | Loss 0.022275034338235855: 938it [3:16:54, 13.27s/it]\u001b[A\u001b[A\n",
            "\n",
            "Epoch: 234 | Batch: 1 | Loss 0.025758132338523865: 938it [3:16:55, 13.27s/it]\u001b[A\u001b[A\n",
            "\n",
            "Epoch: 234 | Batch: 1 | Loss 0.025758132338523865: 939it [3:17:07, 13.09s/it]\u001b[A\u001b[A\n",
            "\n",
            "Epoch: 234 | Batch: 2 | Loss 0.020089298486709595: 939it [3:17:07, 13.09s/it]\u001b[A\u001b[A\n",
            "\n",
            "Epoch: 234 | Batch: 2 | Loss 0.020089298486709595: 940it [3:17:16, 11.75s/it]\u001b[A\u001b[A\n",
            "\n",
            "Epoch: 234 | Batch: 3 | Loss 0.01672295108437538: 940it [3:17:16, 11.75s/it] \u001b[A\u001b[A"
          ]
        },
        {
          "output_type": "stream",
          "name": "stdout",
          "text": [
            "Epoch 234 Training Accuracy: tensor(1.)\n",
            "Testing Accuracy: tensor(0.9355)\n"
          ]
        },
        {
          "output_type": "stream",
          "name": "stderr",
          "text": [
            "\n",
            "\n",
            "Epoch: 234 | Batch: 3 | Loss 0.01672295108437538: 941it [3:17:30, 12.36s/it]\u001b[A\u001b[A\n",
            "\n",
            "Epoch: 235 | Batch: 0 | Loss 0.024558326229453087: 941it [3:17:30, 12.36s/it]\u001b[A\u001b[A\n",
            "\n",
            "Epoch: 235 | Batch: 0 | Loss 0.024558326229453087: 942it [3:17:43, 12.67s/it]\u001b[A\u001b[A\n",
            "\n",
            "Epoch: 235 | Batch: 1 | Loss 0.02441970817744732: 942it [3:17:43, 12.67s/it] \u001b[A\u001b[A\n",
            "\n",
            "Epoch: 235 | Batch: 1 | Loss 0.02441970817744732: 943it [3:17:57, 12.97s/it]\u001b[A\u001b[A\n",
            "\n",
            "Epoch: 235 | Batch: 2 | Loss 0.020267833024263382: 943it [3:17:57, 12.97s/it]\u001b[A\u001b[A\n",
            "\n",
            "Epoch: 235 | Batch: 2 | Loss 0.020267833024263382: 944it [3:18:06, 11.82s/it]\u001b[A\u001b[A\n",
            "\n",
            "Epoch: 235 | Batch: 3 | Loss 0.014414959587156773: 944it [3:18:06, 11.82s/it]\u001b[A\u001b[A"
          ]
        },
        {
          "output_type": "stream",
          "name": "stdout",
          "text": [
            "Epoch 235 Training Accuracy: tensor(1.)\n",
            "Testing Accuracy: tensor(0.9355)\n"
          ]
        },
        {
          "output_type": "stream",
          "name": "stderr",
          "text": [
            "\n",
            "\n",
            "Epoch: 235 | Batch: 3 | Loss 0.014414959587156773: 945it [3:18:19, 12.23s/it]\u001b[A\u001b[A\n",
            "\n",
            "Epoch: 236 | Batch: 0 | Loss 0.023019932210445404: 945it [3:18:19, 12.23s/it]\u001b[A\u001b[A\n",
            "\n",
            "Epoch: 236 | Batch: 0 | Loss 0.023019932210445404: 946it [3:18:32, 12.40s/it]\u001b[A\u001b[A\n",
            "\n",
            "Epoch: 236 | Batch: 1 | Loss 0.0219991747289896: 946it [3:18:32, 12.40s/it]  \u001b[A\u001b[A\n",
            "\n",
            "Epoch: 236 | Batch: 1 | Loss 0.0219991747289896: 947it [3:18:46, 12.82s/it]\u001b[A\u001b[A\n",
            "\n",
            "Epoch: 236 | Batch: 2 | Loss 0.02145361714065075: 947it [3:18:46, 12.82s/it]\u001b[A\u001b[A\n",
            "\n",
            "Epoch: 236 | Batch: 2 | Loss 0.02145361714065075: 948it [3:18:58, 12.64s/it]\u001b[A\u001b[A\n",
            "\n",
            "Epoch: 236 | Batch: 3 | Loss 0.01598704233765602: 948it [3:18:58, 12.64s/it]\u001b[A\u001b[A"
          ]
        },
        {
          "output_type": "stream",
          "name": "stdout",
          "text": [
            "Epoch 236 Training Accuracy: tensor(1.)\n",
            "Testing Accuracy: tensor(0.9355)\n"
          ]
        },
        {
          "output_type": "stream",
          "name": "stderr",
          "text": [
            "\n",
            "\n",
            "Epoch: 236 | Batch: 3 | Loss 0.01598704233765602: 949it [3:19:12, 13.11s/it]\u001b[A\u001b[A\n",
            "\n",
            "Epoch: 237 | Batch: 0 | Loss 0.02316194213926792: 949it [3:19:12, 13.11s/it]\u001b[A\u001b[A\n",
            "\n",
            "Epoch: 237 | Batch: 0 | Loss 0.02316194213926792: 950it [3:19:26, 13.34s/it]\u001b[A\u001b[A\n",
            "\n",
            "Epoch: 237 | Batch: 1 | Loss 0.02778073586523533: 950it [3:19:26, 13.34s/it]\u001b[A\u001b[A\n",
            "\n",
            "Epoch: 237 | Batch: 1 | Loss 0.02778073586523533: 951it [3:19:40, 13.47s/it]\u001b[A\u001b[A\n",
            "\n",
            "Epoch: 237 | Batch: 2 | Loss 0.018739160150289536: 951it [3:19:40, 13.47s/it]\u001b[A\u001b[A\n",
            "\n",
            "Epoch: 237 | Batch: 2 | Loss 0.018739160150289536: 952it [3:19:50, 12.49s/it]\u001b[A\u001b[A\n",
            "\n",
            "Epoch: 237 | Batch: 3 | Loss 0.012746138498187065: 952it [3:19:50, 12.49s/it]\u001b[A\u001b[A"
          ]
        },
        {
          "output_type": "stream",
          "name": "stdout",
          "text": [
            "Epoch 237 Training Accuracy: tensor(1.)\n",
            "Testing Accuracy: tensor(0.9355)\n"
          ]
        },
        {
          "output_type": "stream",
          "name": "stderr",
          "text": [
            "\n",
            "\n",
            "Epoch: 237 | Batch: 3 | Loss 0.012746138498187065: 953it [3:20:03, 12.72s/it]\u001b[A\u001b[A\n",
            "\n",
            "Epoch: 238 | Batch: 0 | Loss 0.02512362226843834: 953it [3:20:03, 12.72s/it] \u001b[A\u001b[A\n",
            "\n",
            "Epoch: 238 | Batch: 0 | Loss 0.02512362226843834: 954it [3:20:16, 12.83s/it]\u001b[A\u001b[A\n",
            "\n",
            "Epoch: 238 | Batch: 1 | Loss 0.01934463530778885: 954it [3:20:16, 12.83s/it]\u001b[A\u001b[A\n",
            "\n",
            "Epoch: 238 | Batch: 1 | Loss 0.01934463530778885: 955it [3:20:29, 12.69s/it]\u001b[A\u001b[A\n",
            "\n",
            "Epoch: 238 | Batch: 2 | Loss 0.025230014696717262: 955it [3:20:29, 12.69s/it]\u001b[A\u001b[A\n",
            "\n",
            "Epoch: 238 | Batch: 2 | Loss 0.025230014696717262: 956it [3:20:39, 12.03s/it]\u001b[A\u001b[A\n",
            "\n",
            "Epoch: 238 | Batch: 3 | Loss 0.012534999288618565: 956it [3:20:39, 12.03s/it]\u001b[A\u001b[A"
          ]
        },
        {
          "output_type": "stream",
          "name": "stdout",
          "text": [
            "Epoch 238 Training Accuracy: tensor(1.)\n",
            "Testing Accuracy: tensor(0.9355)\n"
          ]
        },
        {
          "output_type": "stream",
          "name": "stderr",
          "text": [
            "\n",
            "\n",
            "Epoch: 238 | Batch: 3 | Loss 0.012534999288618565: 957it [3:20:53, 12.48s/it]\u001b[A\u001b[A\n",
            "\n",
            "Epoch: 239 | Batch: 0 | Loss 0.024957148358225822: 957it [3:20:53, 12.48s/it]\u001b[A\u001b[A\n",
            "\n",
            "Epoch: 239 | Batch: 0 | Loss 0.024957148358225822: 958it [3:21:06, 12.89s/it]\u001b[A\u001b[A\n",
            "\n",
            "Epoch: 239 | Batch: 1 | Loss 0.024045947939157486: 958it [3:21:06, 12.89s/it]\u001b[A\u001b[A\n",
            "\n",
            "Epoch: 239 | Batch: 1 | Loss 0.024045947939157486: 959it [3:21:20, 13.23s/it]\u001b[A\u001b[A\n",
            "\n",
            "Epoch: 239 | Batch: 2 | Loss 0.022480931133031845: 959it [3:21:20, 13.23s/it]\u001b[A\u001b[A\n",
            "\n",
            "Epoch: 239 | Batch: 2 | Loss 0.022480931133031845: 960it [3:21:29, 11.78s/it]\u001b[A\u001b[A\n",
            "\n",
            "Epoch: 239 | Batch: 3 | Loss 0.009907751344144344: 960it [3:21:29, 11.78s/it]\u001b[A\u001b[A"
          ]
        },
        {
          "output_type": "stream",
          "name": "stdout",
          "text": [
            "Epoch 239 Training Accuracy: tensor(1.)\n",
            "Testing Accuracy: tensor(0.9355)\n"
          ]
        },
        {
          "output_type": "stream",
          "name": "stderr",
          "text": [
            "\n",
            "\n",
            "Epoch: 239 | Batch: 3 | Loss 0.009907751344144344: 961it [3:21:44, 12.90s/it]\u001b[A\u001b[A\n",
            "\n",
            "Epoch: 240 | Batch: 0 | Loss 0.02421262487769127: 961it [3:21:44, 12.90s/it] \u001b[A\u001b[A\n",
            "\n",
            "Epoch: 240 | Batch: 0 | Loss 0.02421262487769127: 962it [3:21:58, 13.26s/it]\u001b[A\u001b[A\n",
            "\n",
            "Epoch: 240 | Batch: 1 | Loss 0.021401183679699898: 962it [3:21:58, 13.26s/it]\u001b[A\u001b[A\n",
            "\n",
            "Epoch: 240 | Batch: 1 | Loss 0.021401183679699898: 963it [3:22:12, 13.35s/it]\u001b[A\u001b[A\n",
            "\n",
            "Epoch: 240 | Batch: 2 | Loss 0.02008865773677826: 963it [3:22:12, 13.35s/it] \u001b[A\u001b[A\n",
            "\n",
            "Epoch: 240 | Batch: 2 | Loss 0.02008865773677826: 964it [3:22:22, 12.23s/it]\u001b[A\u001b[A\n",
            "\n",
            "Epoch: 240 | Batch: 3 | Loss 0.014277723617851734: 964it [3:22:22, 12.23s/it]\u001b[A\u001b[A"
          ]
        },
        {
          "output_type": "stream",
          "name": "stdout",
          "text": [
            "Epoch 240 Training Accuracy: tensor(1.)\n",
            "Testing Accuracy: tensor(0.9355)\n"
          ]
        },
        {
          "output_type": "stream",
          "name": "stderr",
          "text": [
            "\n",
            "\n",
            "Epoch: 240 | Batch: 3 | Loss 0.014277723617851734: 965it [3:22:36, 12.77s/it]\u001b[A\u001b[A\n",
            "\n",
            "Epoch: 241 | Batch: 0 | Loss 0.01752333715558052: 965it [3:22:36, 12.77s/it] \u001b[A\u001b[A\n",
            "\n",
            "Epoch: 241 | Batch: 0 | Loss 0.01752333715558052: 966it [3:22:49, 12.88s/it]\u001b[A\u001b[A\n",
            "\n",
            "Epoch: 241 | Batch: 1 | Loss 0.022771013900637627: 966it [3:22:49, 12.88s/it]\u001b[A\u001b[A\n",
            "\n",
            "Epoch: 241 | Batch: 1 | Loss 0.022771013900637627: 967it [3:23:01, 12.81s/it]\u001b[A\u001b[A\n",
            "\n",
            "Epoch: 241 | Batch: 2 | Loss 0.02357667125761509: 967it [3:23:01, 12.81s/it] \u001b[A\u001b[A\n",
            "\n",
            "Epoch: 241 | Batch: 2 | Loss 0.02357667125761509: 968it [3:23:11, 11.90s/it]\u001b[A\u001b[A\n",
            "\n",
            "Epoch: 241 | Batch: 3 | Loss 0.015283115208148956: 968it [3:23:11, 11.90s/it]\u001b[A\u001b[A"
          ]
        },
        {
          "output_type": "stream",
          "name": "stdout",
          "text": [
            "Epoch 241 Training Accuracy: tensor(1.)\n",
            "Testing Accuracy: tensor(0.9355)\n"
          ]
        },
        {
          "output_type": "stream",
          "name": "stderr",
          "text": [
            "\n",
            "\n",
            "Epoch: 241 | Batch: 3 | Loss 0.015283115208148956: 969it [3:23:25, 12.43s/it]\u001b[A\u001b[A\n",
            "\n",
            "Epoch: 242 | Batch: 0 | Loss 0.024266470223665237: 969it [3:23:25, 12.43s/it]\u001b[A\u001b[A\n",
            "\n",
            "Epoch: 242 | Batch: 0 | Loss 0.024266470223665237: 970it [3:23:39, 12.84s/it]\u001b[A\u001b[A\n",
            "\n",
            "Epoch: 242 | Batch: 1 | Loss 0.02567904070019722: 970it [3:23:39, 12.84s/it] \u001b[A\u001b[A\n",
            "\n",
            "Epoch: 242 | Batch: 1 | Loss 0.02567904070019722: 971it [3:23:53, 13.27s/it]\u001b[A\u001b[A\n",
            "\n",
            "Epoch: 242 | Batch: 2 | Loss 0.016405954957008362: 971it [3:23:53, 13.27s/it]\u001b[A\u001b[A\n",
            "\n",
            "Epoch: 242 | Batch: 2 | Loss 0.016405954957008362: 972it [3:24:02, 11.97s/it]\u001b[A\u001b[A\n",
            "\n",
            "Epoch: 242 | Batch: 3 | Loss 0.013251962140202522: 972it [3:24:02, 11.97s/it]\u001b[A\u001b[A"
          ]
        },
        {
          "output_type": "stream",
          "name": "stdout",
          "text": [
            "Epoch 242 Training Accuracy: tensor(1.)\n",
            "Testing Accuracy: tensor(0.9355)\n"
          ]
        },
        {
          "output_type": "stream",
          "name": "stderr",
          "text": [
            "\n",
            "\n",
            "Epoch: 242 | Batch: 3 | Loss 0.013251962140202522: 973it [3:24:18, 13.28s/it]\u001b[A\u001b[A\n",
            "\n",
            "Epoch: 243 | Batch: 0 | Loss 0.02477002516388893: 973it [3:24:18, 13.28s/it] \u001b[A\u001b[A\n",
            "\n",
            "Epoch: 243 | Batch: 0 | Loss 0.02477002516388893: 974it [3:24:31, 13.15s/it]\u001b[A\u001b[A\n",
            "\n",
            "Epoch: 243 | Batch: 1 | Loss 0.026061391457915306: 974it [3:24:31, 13.15s/it]\u001b[A\u001b[A\n",
            "\n",
            "Epoch: 243 | Batch: 1 | Loss 0.026061391457915306: 975it [3:24:44, 13.01s/it]\u001b[A\u001b[A\n",
            "\n",
            "Epoch: 243 | Batch: 2 | Loss 0.020589575171470642: 975it [3:24:44, 13.01s/it]\u001b[A\u001b[A\n",
            "\n",
            "Epoch: 243 | Batch: 2 | Loss 0.020589575171470642: 976it [3:24:53, 12.03s/it]\u001b[A\u001b[A\n",
            "\n",
            "Epoch: 243 | Batch: 3 | Loss 0.008512637577950954: 976it [3:24:54, 12.03s/it]\u001b[A\u001b[A"
          ]
        },
        {
          "output_type": "stream",
          "name": "stdout",
          "text": [
            "Epoch 243 Training Accuracy: tensor(1.)\n",
            "Testing Accuracy: tensor(0.9355)\n"
          ]
        },
        {
          "output_type": "stream",
          "name": "stderr",
          "text": [
            "\n",
            "\n",
            "Epoch: 243 | Batch: 3 | Loss 0.008512637577950954: 977it [3:25:07, 12.62s/it]\u001b[A\u001b[A\n",
            "\n",
            "Epoch: 244 | Batch: 0 | Loss 0.01744980178773403: 977it [3:25:07, 12.62s/it] \u001b[A\u001b[A\n",
            "\n",
            "Epoch: 244 | Batch: 0 | Loss 0.01744980178773403: 978it [3:25:21, 12.85s/it]\u001b[A\u001b[A\n",
            "\n",
            "Epoch: 244 | Batch: 1 | Loss 0.022098297253251076: 978it [3:25:21, 12.85s/it]\u001b[A\u001b[A\n",
            "\n",
            "Epoch: 244 | Batch: 1 | Loss 0.022098297253251076: 979it [3:25:34, 12.97s/it]\u001b[A\u001b[A\n",
            "\n",
            "Epoch: 244 | Batch: 2 | Loss 0.02750847116112709: 979it [3:25:34, 12.97s/it] \u001b[A\u001b[A\n",
            "\n",
            "Epoch: 244 | Batch: 2 | Loss 0.02750847116112709: 980it [3:25:43, 11.74s/it]\u001b[A\u001b[A\n",
            "\n",
            "Epoch: 244 | Batch: 3 | Loss 0.010779607109725475: 980it [3:25:43, 11.74s/it]\u001b[A\u001b[A"
          ]
        },
        {
          "output_type": "stream",
          "name": "stdout",
          "text": [
            "Epoch 244 Training Accuracy: tensor(1.)\n",
            "Testing Accuracy: tensor(0.9355)\n"
          ]
        },
        {
          "output_type": "stream",
          "name": "stderr",
          "text": [
            "\n",
            "\n",
            "Epoch: 244 | Batch: 3 | Loss 0.010779607109725475: 981it [3:25:57, 12.31s/it]\u001b[A\u001b[A\n",
            "\n",
            "Epoch: 245 | Batch: 0 | Loss 0.02054424211382866: 981it [3:25:57, 12.31s/it] \u001b[A\u001b[A\n",
            "\n",
            "Epoch: 245 | Batch: 0 | Loss 0.02054424211382866: 982it [3:26:10, 12.60s/it]\u001b[A\u001b[A\n",
            "\n",
            "Epoch: 245 | Batch: 1 | Loss 0.020014602690935135: 982it [3:26:10, 12.60s/it]\u001b[A\u001b[A\n",
            "\n",
            "Epoch: 245 | Batch: 1 | Loss 0.020014602690935135: 983it [3:26:23, 12.69s/it]\u001b[A\u001b[A\n",
            "\n",
            "Epoch: 245 | Batch: 2 | Loss 0.026731425896286964: 983it [3:26:23, 12.69s/it]\u001b[A\u001b[A\n",
            "\n",
            "Epoch: 245 | Batch: 2 | Loss 0.026731425896286964: 984it [3:26:34, 12.15s/it]\u001b[A\u001b[A\n",
            "\n",
            "Epoch: 245 | Batch: 3 | Loss 0.010144720785319805: 984it [3:26:34, 12.15s/it]\u001b[A\u001b[A"
          ]
        },
        {
          "output_type": "stream",
          "name": "stdout",
          "text": [
            "Epoch 245 Training Accuracy: tensor(1.)\n",
            "Testing Accuracy: tensor(0.9355)\n"
          ]
        },
        {
          "output_type": "stream",
          "name": "stderr",
          "text": [
            "\n",
            "\n",
            "Epoch: 245 | Batch: 3 | Loss 0.010144720785319805: 985it [3:26:49, 13.08s/it]\u001b[A\u001b[A\n",
            "\n",
            "Epoch: 246 | Batch: 0 | Loss 0.025469878688454628: 985it [3:26:49, 13.08s/it]\u001b[A\u001b[A\n",
            "\n",
            "Epoch: 246 | Batch: 0 | Loss 0.025469878688454628: 986it [3:27:02, 13.15s/it]\u001b[A\u001b[A\n",
            "\n",
            "Epoch: 246 | Batch: 1 | Loss 0.017984312027692795: 986it [3:27:02, 13.15s/it]\u001b[A\u001b[A\n",
            "\n",
            "Epoch: 246 | Batch: 1 | Loss 0.017984312027692795: 987it [3:27:14, 12.79s/it]\u001b[A\u001b[A\n",
            "\n",
            "Epoch: 246 | Batch: 2 | Loss 0.022784873843193054: 987it [3:27:14, 12.79s/it]\u001b[A\u001b[A\n",
            "\n",
            "Epoch: 246 | Batch: 2 | Loss 0.022784873843193054: 988it [3:27:24, 12.03s/it]\u001b[A\u001b[A\n",
            "\n",
            "Epoch: 246 | Batch: 3 | Loss 0.010121757164597511: 988it [3:27:24, 12.03s/it]\u001b[A\u001b[A"
          ]
        },
        {
          "output_type": "stream",
          "name": "stdout",
          "text": [
            "Epoch 246 Training Accuracy: tensor(1.)\n",
            "Testing Accuracy: tensor(0.9355)\n"
          ]
        },
        {
          "output_type": "stream",
          "name": "stderr",
          "text": [
            "\n",
            "\n",
            "Epoch: 246 | Batch: 3 | Loss 0.010121757164597511: 989it [3:27:38, 12.47s/it]\u001b[A\u001b[A\n",
            "\n",
            "Epoch: 247 | Batch: 0 | Loss 0.016482841223478317: 989it [3:27:38, 12.47s/it]\u001b[A\u001b[A\n",
            "\n",
            "Epoch: 247 | Batch: 0 | Loss 0.016482841223478317: 990it [3:27:51, 12.79s/it]\u001b[A\u001b[A\n",
            "\n",
            "Epoch: 247 | Batch: 1 | Loss 0.021756242960691452: 990it [3:27:52, 12.79s/it]\u001b[A\u001b[A\n",
            "\n",
            "Epoch: 247 | Batch: 1 | Loss 0.021756242960691452: 991it [3:28:04, 12.85s/it]\u001b[A\u001b[A\n",
            "\n",
            "Epoch: 247 | Batch: 2 | Loss 0.021350879222154617: 991it [3:28:04, 12.85s/it]\u001b[A\u001b[A\n",
            "\n",
            "Epoch: 247 | Batch: 2 | Loss 0.021350879222154617: 992it [3:28:13, 11.70s/it]\u001b[A\u001b[A\n",
            "\n",
            "Epoch: 247 | Batch: 3 | Loss 0.015499316155910492: 992it [3:28:13, 11.70s/it]\u001b[A\u001b[A"
          ]
        },
        {
          "output_type": "stream",
          "name": "stdout",
          "text": [
            "Epoch 247 Training Accuracy: tensor(1.)\n",
            "Testing Accuracy: tensor(0.9355)\n"
          ]
        },
        {
          "output_type": "stream",
          "name": "stderr",
          "text": [
            "\n",
            "\n",
            "Epoch: 247 | Batch: 3 | Loss 0.015499316155910492: 993it [3:28:27, 12.32s/it]\u001b[A\u001b[A\n",
            "\n",
            "Epoch: 248 | Batch: 0 | Loss 0.018660536035895348: 993it [3:28:27, 12.32s/it]\u001b[A\u001b[A\n",
            "\n",
            "Epoch: 248 | Batch: 0 | Loss 0.018660536035895348: 994it [3:28:41, 12.66s/it]\u001b[A\u001b[A\n",
            "\n",
            "Epoch: 248 | Batch: 1 | Loss 0.020471086725592613: 994it [3:28:41, 12.66s/it]\u001b[A\u001b[A\n",
            "\n",
            "Epoch: 248 | Batch: 1 | Loss 0.020471086725592613: 995it [3:28:54, 12.74s/it]\u001b[A\u001b[A\n",
            "\n",
            "Epoch: 248 | Batch: 2 | Loss 0.02322547137737274: 995it [3:28:54, 12.74s/it] \u001b[A\u001b[A\n",
            "\n",
            "Epoch: 248 | Batch: 2 | Loss 0.02322547137737274: 996it [3:29:04, 12.10s/it]\u001b[A\u001b[A\n",
            "\n",
            "Epoch: 248 | Batch: 3 | Loss 0.012084242887794971: 996it [3:29:04, 12.10s/it]\u001b[A\u001b[A"
          ]
        },
        {
          "output_type": "stream",
          "name": "stdout",
          "text": [
            "Epoch 248 Training Accuracy: tensor(1.)\n",
            "Testing Accuracy: tensor(0.9355)\n"
          ]
        },
        {
          "output_type": "stream",
          "name": "stderr",
          "text": [
            "\n",
            "\n",
            "Epoch: 248 | Batch: 3 | Loss 0.012084242887794971: 997it [3:29:18, 12.64s/it]\u001b[A\u001b[A\n",
            "\n",
            "Epoch: 249 | Batch: 0 | Loss 0.031085973605513573: 997it [3:29:18, 12.64s/it]\u001b[A\u001b[A\n",
            "\n",
            "Epoch: 249 | Batch: 0 | Loss 0.031085973605513573: 998it [3:29:34, 13.60s/it]\u001b[A\u001b[A\n",
            "\n",
            "Epoch: 249 | Batch: 1 | Loss 0.014317868277430534: 998it [3:29:34, 13.60s/it]\u001b[A\u001b[A\n",
            "\n",
            "Epoch: 249 | Batch: 1 | Loss 0.014317868277430534: 999it [3:29:47, 13.39s/it]\u001b[A\u001b[A\n",
            "\n",
            "Epoch: 249 | Batch: 2 | Loss 0.018038328737020493: 999it [3:29:47, 13.39s/it]\u001b[A\u001b[A\n",
            "\n",
            "Epoch: 249 | Batch: 2 | Loss 0.018038328737020493: 1000it [3:29:56, 12.02s/it]\u001b[A\u001b[A\n",
            "\n",
            "Epoch: 249 | Batch: 3 | Loss 0.012767585925757885: 1000it [3:29:56, 12.02s/it]\u001b[A\u001b[A"
          ]
        },
        {
          "output_type": "stream",
          "name": "stdout",
          "text": [
            "Epoch 249 Training Accuracy: tensor(1.)\n",
            "Testing Accuracy: tensor(0.9355)\n"
          ]
        },
        {
          "output_type": "stream",
          "name": "stderr",
          "text": [
            "\n",
            "\n",
            "Epoch: 249 | Batch: 3 | Loss 0.012767585925757885: 1001it [3:30:10, 12.58s/it]\u001b[A\u001b[A\n",
            "\n",
            "Epoch: 250 | Batch: 0 | Loss 0.019422557204961777: 1001it [3:30:10, 12.58s/it]\u001b[A\u001b[A\n",
            "\n",
            "Epoch: 250 | Batch: 0 | Loss 0.019422557204961777: 1002it [3:30:23, 12.91s/it]\u001b[A\u001b[A\n",
            "\n",
            "Epoch: 250 | Batch: 1 | Loss 0.02417428232729435: 1002it [3:30:23, 12.91s/it] \u001b[A\u001b[A\n",
            "\n",
            "Epoch: 250 | Batch: 1 | Loss 0.02417428232729435: 1003it [3:30:36, 12.82s/it]\u001b[A\u001b[A\n",
            "\n",
            "Epoch: 250 | Batch: 2 | Loss 0.01949857547879219: 1003it [3:30:36, 12.82s/it]\u001b[A\u001b[A\n",
            "\n",
            "Epoch: 250 | Batch: 2 | Loss 0.01949857547879219: 1004it [3:30:46, 12.14s/it]\u001b[A\u001b[A\n",
            "\n",
            "Epoch: 250 | Batch: 3 | Loss 0.010281813330948353: 1004it [3:30:46, 12.14s/it]\u001b[A\u001b[A"
          ]
        },
        {
          "output_type": "stream",
          "name": "stdout",
          "text": [
            "Epoch 250 Training Accuracy: tensor(1.)\n",
            "Testing Accuracy: tensor(0.9355)\n"
          ]
        },
        {
          "output_type": "stream",
          "name": "stderr",
          "text": [
            "\n",
            "\n",
            "Epoch: 250 | Batch: 3 | Loss 0.010281813330948353: 1005it [3:31:00, 12.63s/it]\u001b[A\u001b[A\n",
            "\n",
            "Epoch: 251 | Batch: 0 | Loss 0.019875112920999527: 1005it [3:31:00, 12.63s/it]\u001b[A\u001b[A\n",
            "\n",
            "Epoch: 251 | Batch: 0 | Loss 0.019875112920999527: 1006it [3:31:14, 12.82s/it]\u001b[A\u001b[A\n",
            "\n",
            "Epoch: 251 | Batch: 1 | Loss 0.022889578714966774: 1006it [3:31:14, 12.82s/it]\u001b[A\u001b[A\n",
            "\n",
            "Epoch: 251 | Batch: 1 | Loss 0.022889578714966774: 1007it [3:31:25, 12.49s/it]\u001b[A\u001b[A\n",
            "\n",
            "Epoch: 251 | Batch: 2 | Loss 0.017587289214134216: 1007it [3:31:25, 12.49s/it]\u001b[A\u001b[A\n",
            "\n",
            "Epoch: 251 | Batch: 2 | Loss 0.017587289214134216: 1008it [3:31:35, 11.55s/it]\u001b[A\u001b[A\n",
            "\n",
            "Epoch: 251 | Batch: 3 | Loss 0.012343009933829308: 1008it [3:31:35, 11.55s/it]\u001b[A\u001b[A"
          ]
        },
        {
          "output_type": "stream",
          "name": "stdout",
          "text": [
            "Epoch 251 Training Accuracy: tensor(1.)\n",
            "Testing Accuracy: tensor(0.9355)\n"
          ]
        },
        {
          "output_type": "stream",
          "name": "stderr",
          "text": [
            "\n",
            "\n",
            "Epoch: 251 | Batch: 3 | Loss 0.012343009933829308: 1009it [3:31:49, 12.40s/it]\u001b[A\u001b[A\n",
            "\n",
            "Epoch: 252 | Batch: 0 | Loss 0.02581958845257759: 1009it [3:31:49, 12.40s/it] \u001b[A\u001b[A\n",
            "\n",
            "Epoch: 252 | Batch: 0 | Loss 0.02581958845257759: 1010it [3:32:04, 13.30s/it]\u001b[A\u001b[A\n",
            "\n",
            "Epoch: 252 | Batch: 1 | Loss 0.019312620162963867: 1010it [3:32:04, 13.30s/it]\u001b[A\u001b[A\n",
            "\n",
            "Epoch: 252 | Batch: 1 | Loss 0.019312620162963867: 1011it [3:32:17, 13.09s/it]\u001b[A\u001b[A\n",
            "\n",
            "Epoch: 252 | Batch: 2 | Loss 0.01836482062935829: 1011it [3:32:17, 13.09s/it] \u001b[A\u001b[A\n",
            "\n",
            "Epoch: 252 | Batch: 2 | Loss 0.01836482062935829: 1012it [3:32:26, 11.91s/it]\u001b[A\u001b[A\n",
            "\n",
            "Epoch: 252 | Batch: 3 | Loss 0.01003186870366335: 1012it [3:32:26, 11.91s/it]\u001b[A\u001b[A"
          ]
        },
        {
          "output_type": "stream",
          "name": "stdout",
          "text": [
            "Epoch 252 Training Accuracy: tensor(1.)\n",
            "Testing Accuracy: tensor(0.9355)\n"
          ]
        },
        {
          "output_type": "stream",
          "name": "stderr",
          "text": [
            "\n",
            "\n",
            "Epoch: 252 | Batch: 3 | Loss 0.01003186870366335: 1013it [3:32:40, 12.58s/it]\u001b[A\u001b[A\n",
            "\n",
            "Epoch: 253 | Batch: 0 | Loss 0.018956463783979416: 1013it [3:32:40, 12.58s/it]\u001b[A\u001b[A\n",
            "\n",
            "Epoch: 253 | Batch: 0 | Loss 0.018956463783979416: 1014it [3:32:53, 12.71s/it]\u001b[A\u001b[A\n",
            "\n",
            "Epoch: 253 | Batch: 1 | Loss 0.021461278200149536: 1014it [3:32:53, 12.71s/it]\u001b[A\u001b[A\n",
            "\n",
            "Epoch: 253 | Batch: 1 | Loss 0.021461278200149536: 1015it [3:33:06, 12.76s/it]\u001b[A\u001b[A\n",
            "\n",
            "Epoch: 253 | Batch: 2 | Loss 0.025334274396300316: 1015it [3:33:06, 12.76s/it]\u001b[A\u001b[A\n",
            "\n",
            "Epoch: 253 | Batch: 2 | Loss 0.025334274396300316: 1016it [3:33:16, 11.89s/it]\u001b[A\u001b[A\n",
            "\n",
            "Epoch: 253 | Batch: 3 | Loss 0.007710934150964022: 1016it [3:33:16, 11.89s/it]\u001b[A\u001b[A"
          ]
        },
        {
          "output_type": "stream",
          "name": "stdout",
          "text": [
            "Epoch 253 Training Accuracy: tensor(1.)\n",
            "Testing Accuracy: tensor(0.9355)\n"
          ]
        },
        {
          "output_type": "stream",
          "name": "stderr",
          "text": [
            "\n",
            "\n",
            "Epoch: 253 | Batch: 3 | Loss 0.007710934150964022: 1017it [3:33:30, 12.62s/it]\u001b[A\u001b[A\n",
            "\n",
            "Epoch: 254 | Batch: 0 | Loss 0.018715690821409225: 1017it [3:33:30, 12.62s/it]\u001b[A\u001b[A\n",
            "\n",
            "Epoch: 254 | Batch: 0 | Loss 0.018715690821409225: 1018it [3:33:44, 12.96s/it]\u001b[A\u001b[A\n",
            "\n",
            "Epoch: 254 | Batch: 1 | Loss 0.023849736899137497: 1018it [3:33:44, 12.96s/it]\u001b[A\u001b[A\n",
            "\n",
            "Epoch: 254 | Batch: 1 | Loss 0.023849736899137497: 1019it [3:33:57, 12.92s/it]\u001b[A\u001b[A\n",
            "\n",
            "Epoch: 254 | Batch: 2 | Loss 0.01964244805276394: 1019it [3:33:57, 12.92s/it] \u001b[A\u001b[A\n",
            "\n",
            "Epoch: 254 | Batch: 2 | Loss 0.01964244805276394: 1020it [3:34:05, 11.43s/it]\u001b[A\u001b[A\n",
            "\n",
            "Epoch: 254 | Batch: 3 | Loss 0.009281350299715996: 1020it [3:34:05, 11.43s/it]\u001b[A\u001b[A"
          ]
        },
        {
          "output_type": "stream",
          "name": "stdout",
          "text": [
            "Epoch 254 Training Accuracy: tensor(1.)\n",
            "Testing Accuracy: tensor(0.9355)\n"
          ]
        },
        {
          "output_type": "stream",
          "name": "stderr",
          "text": [
            "\n",
            "\n",
            "Epoch: 254 | Batch: 3 | Loss 0.009281350299715996: 1021it [3:34:19, 12.32s/it]\u001b[A\u001b[A\n",
            "\n",
            "Epoch: 255 | Batch: 0 | Loss 0.018283093348145485: 1021it [3:34:19, 12.32s/it]\u001b[A\u001b[A\n",
            "\n",
            "Epoch: 255 | Batch: 0 | Loss 0.018283093348145485: 1022it [3:34:32, 12.48s/it]\u001b[A\u001b[A\n",
            "\n",
            "Epoch: 255 | Batch: 1 | Loss 0.025178903713822365: 1022it [3:34:32, 12.48s/it]\u001b[A\u001b[A\n",
            "\n",
            "Epoch: 255 | Batch: 1 | Loss 0.025178903713822365: 1023it [3:34:48, 13.46s/it]\u001b[A\u001b[A\n",
            "\n",
            "Epoch: 255 | Batch: 2 | Loss 0.020243775099515915: 1023it [3:34:48, 13.46s/it]\u001b[A\u001b[A\n",
            "\n",
            "Epoch: 255 | Batch: 2 | Loss 0.020243775099515915: 1024it [3:34:57, 12.16s/it]\u001b[A\u001b[A\n",
            "\n",
            "Epoch: 255 | Batch: 3 | Loss 0.008600334636867046: 1024it [3:34:57, 12.16s/it]\u001b[A\u001b[A"
          ]
        },
        {
          "output_type": "stream",
          "name": "stdout",
          "text": [
            "Epoch 255 Training Accuracy: tensor(1.)\n",
            "Testing Accuracy: tensor(0.9355)\n"
          ]
        },
        {
          "output_type": "stream",
          "name": "stderr",
          "text": [
            "\n",
            "\n",
            "Epoch: 255 | Batch: 3 | Loss 0.008600334636867046: 1025it [3:35:11, 12.82s/it]\u001b[A\u001b[A\n",
            "\n",
            "Epoch: 256 | Batch: 0 | Loss 0.019328510388731956: 1025it [3:35:11, 12.82s/it]\u001b[A\u001b[A\n",
            "\n",
            "Epoch: 256 | Batch: 0 | Loss 0.019328510388731956: 1026it [3:35:23, 12.56s/it]\u001b[A\u001b[A\n",
            "\n",
            "Epoch: 256 | Batch: 1 | Loss 0.017838183790445328: 1026it [3:35:23, 12.56s/it]\u001b[A\u001b[A\n",
            "\n",
            "Epoch: 256 | Batch: 1 | Loss 0.017838183790445328: 1027it [3:35:37, 12.81s/it]\u001b[A\u001b[A\n",
            "\n",
            "Epoch: 256 | Batch: 2 | Loss 0.024417374283075333: 1027it [3:35:37, 12.81s/it]\u001b[A\u001b[A\n",
            "\n",
            "Epoch: 256 | Batch: 2 | Loss 0.024417374283075333: 1028it [3:35:47, 11.94s/it]\u001b[A\u001b[A\n",
            "\n",
            "Epoch: 256 | Batch: 3 | Loss 0.009406271390616894: 1028it [3:35:47, 11.94s/it]\u001b[A\u001b[A"
          ]
        },
        {
          "output_type": "stream",
          "name": "stdout",
          "text": [
            "Epoch 256 Training Accuracy: tensor(1.)\n",
            "Testing Accuracy: tensor(0.9355)\n"
          ]
        },
        {
          "output_type": "stream",
          "name": "stderr",
          "text": [
            "\n",
            "\n",
            "Epoch: 256 | Batch: 3 | Loss 0.009406271390616894: 1029it [3:36:01, 12.79s/it]\u001b[A\u001b[A\n",
            "\n",
            "Epoch: 257 | Batch: 0 | Loss 0.018699318170547485: 1029it [3:36:01, 12.79s/it]\u001b[A\u001b[A\n",
            "\n",
            "Epoch: 257 | Batch: 0 | Loss 0.018699318170547485: 1030it [3:36:14, 12.80s/it]\u001b[A\u001b[A\n",
            "\n",
            "Epoch: 257 | Batch: 1 | Loss 0.02000662311911583: 1030it [3:36:14, 12.80s/it] \u001b[A\u001b[A\n",
            "\n",
            "Epoch: 257 | Batch: 1 | Loss 0.02000662311911583: 1031it [3:36:27, 12.94s/it]\u001b[A\u001b[A\n",
            "\n",
            "Epoch: 257 | Batch: 2 | Loss 0.020764347165822983: 1031it [3:36:27, 12.94s/it]\u001b[A\u001b[A\n",
            "\n",
            "Epoch: 257 | Batch: 2 | Loss 0.020764347165822983: 1032it [3:36:35, 11.44s/it]\u001b[A\u001b[A\n",
            "\n",
            "Epoch: 257 | Batch: 3 | Loss 0.010337866842746735: 1032it [3:36:35, 11.44s/it]\u001b[A\u001b[A"
          ]
        },
        {
          "output_type": "stream",
          "name": "stdout",
          "text": [
            "Epoch 257 Training Accuracy: tensor(1.)\n",
            "Testing Accuracy: tensor(0.9355)\n"
          ]
        },
        {
          "output_type": "stream",
          "name": "stderr",
          "text": [
            "\n",
            "\n",
            "Epoch: 257 | Batch: 3 | Loss 0.010337866842746735: 1033it [3:36:50, 12.40s/it]\u001b[A\u001b[A\n",
            "\n",
            "Epoch: 258 | Batch: 0 | Loss 0.021984588354825974: 1033it [3:36:50, 12.40s/it]\u001b[A\u001b[A\n",
            "\n",
            "Epoch: 258 | Batch: 0 | Loss 0.021984588354825974: 1034it [3:37:03, 12.52s/it]\u001b[A\u001b[A\n",
            "\n",
            "Epoch: 258 | Batch: 1 | Loss 0.020317230373620987: 1034it [3:37:03, 12.52s/it]\u001b[A\u001b[A\n",
            "\n",
            "Epoch: 258 | Batch: 1 | Loss 0.020317230373620987: 1035it [3:37:16, 12.83s/it]\u001b[A\u001b[A\n",
            "\n",
            "Epoch: 258 | Batch: 2 | Loss 0.01916315034031868: 1035it [3:37:16, 12.83s/it] \u001b[A\u001b[A\n",
            "\n",
            "Epoch: 258 | Batch: 2 | Loss 0.01916315034031868: 1036it [3:37:28, 12.49s/it]\u001b[A\u001b[A\n",
            "\n",
            "Epoch: 258 | Batch: 3 | Loss 0.008427494205534458: 1036it [3:37:28, 12.49s/it]\u001b[A\u001b[A"
          ]
        },
        {
          "output_type": "stream",
          "name": "stdout",
          "text": [
            "Epoch 258 Training Accuracy: tensor(1.)\n",
            "Testing Accuracy: tensor(0.9355)\n"
          ]
        },
        {
          "output_type": "stream",
          "name": "stderr",
          "text": [
            "\n",
            "\n",
            "Epoch: 258 | Batch: 3 | Loss 0.008427494205534458: 1037it [3:37:42, 12.89s/it]\u001b[A\u001b[A\n",
            "\n",
            "Epoch: 259 | Batch: 0 | Loss 0.022919263690710068: 1037it [3:37:42, 12.89s/it]\u001b[A\u001b[A\n",
            "\n",
            "Epoch: 259 | Batch: 0 | Loss 0.022919263690710068: 1038it [3:37:56, 13.20s/it]\u001b[A\u001b[A\n",
            "\n",
            "Epoch: 259 | Batch: 1 | Loss 0.013626945205032825: 1038it [3:37:56, 13.20s/it]\u001b[A\u001b[A\n",
            "\n",
            "Epoch: 259 | Batch: 1 | Loss 0.013626945205032825: 1039it [3:38:08, 12.78s/it]\u001b[A\u001b[A\n",
            "\n",
            "Epoch: 259 | Batch: 2 | Loss 0.022700244560837746: 1039it [3:38:08, 12.78s/it]\u001b[A\u001b[A\n",
            "\n",
            "Epoch: 259 | Batch: 2 | Loss 0.022700244560837746: 1040it [3:38:17, 11.82s/it]\u001b[A\u001b[A\n",
            "\n",
            "Epoch: 259 | Batch: 3 | Loss 0.010064962320029736: 1040it [3:38:17, 11.82s/it]\u001b[A\u001b[A"
          ]
        },
        {
          "output_type": "stream",
          "name": "stdout",
          "text": [
            "Epoch 259 Training Accuracy: tensor(1.)\n",
            "Testing Accuracy: tensor(0.9355)\n"
          ]
        },
        {
          "output_type": "stream",
          "name": "stderr",
          "text": [
            "\n",
            "\n",
            "Epoch: 259 | Batch: 3 | Loss 0.010064962320029736: 1041it [3:38:31, 12.42s/it]\u001b[A\u001b[A\n",
            "\n",
            "Epoch: 260 | Batch: 0 | Loss 0.022344546392560005: 1041it [3:38:31, 12.42s/it]\u001b[A\u001b[A\n",
            "\n",
            "Epoch: 260 | Batch: 0 | Loss 0.022344546392560005: 1042it [3:38:45, 12.76s/it]\u001b[A\u001b[A\n",
            "\n",
            "Epoch: 260 | Batch: 1 | Loss 0.019925331696867943: 1042it [3:38:45, 12.76s/it]\u001b[A\u001b[A\n",
            "\n",
            "Epoch: 260 | Batch: 1 | Loss 0.019925331696867943: 1043it [3:38:58, 12.98s/it]\u001b[A\u001b[A\n",
            "\n",
            "Epoch: 260 | Batch: 2 | Loss 0.016914796084165573: 1043it [3:38:58, 12.98s/it]\u001b[A\u001b[A\n",
            "\n",
            "Epoch: 260 | Batch: 2 | Loss 0.016914796084165573: 1044it [3:39:07, 11.71s/it]\u001b[A\u001b[A\n",
            "\n",
            "Epoch: 260 | Batch: 3 | Loss 0.009796894155442715: 1044it [3:39:07, 11.71s/it]\u001b[A\u001b[A"
          ]
        },
        {
          "output_type": "stream",
          "name": "stdout",
          "text": [
            "Epoch 260 Training Accuracy: tensor(1.)\n",
            "Testing Accuracy: tensor(0.9355)\n"
          ]
        },
        {
          "output_type": "stream",
          "name": "stderr",
          "text": [
            "\n",
            "\n",
            "Epoch: 260 | Batch: 3 | Loss 0.009796894155442715: 1045it [3:39:21, 12.42s/it]\u001b[A\u001b[A\n",
            "\n",
            "Epoch: 261 | Batch: 0 | Loss 0.03136036545038223: 1045it [3:39:21, 12.42s/it] \u001b[A\u001b[A\n",
            "\n",
            "Epoch: 261 | Batch: 0 | Loss 0.03136036545038223: 1046it [3:39:34, 12.58s/it]\u001b[A\u001b[A\n",
            "\n",
            "Epoch: 261 | Batch: 1 | Loss 0.013808824121952057: 1046it [3:39:34, 12.58s/it]\u001b[A\u001b[A\n",
            "\n",
            "Epoch: 261 | Batch: 1 | Loss 0.013808824121952057: 1047it [3:39:47, 12.70s/it]\u001b[A\u001b[A\n",
            "\n",
            "Epoch: 261 | Batch: 2 | Loss 0.016526484861969948: 1047it [3:39:47, 12.70s/it]\u001b[A\u001b[A\n",
            "\n",
            "Epoch: 261 | Batch: 2 | Loss 0.016526484861969948: 1048it [3:39:57, 11.86s/it]\u001b[A\u001b[A\n",
            "\n",
            "Epoch: 261 | Batch: 3 | Loss 0.00888916663825512: 1048it [3:39:57, 11.86s/it] \u001b[A\u001b[A"
          ]
        },
        {
          "output_type": "stream",
          "name": "stdout",
          "text": [
            "Epoch 261 Training Accuracy: tensor(1.)\n",
            "Testing Accuracy: tensor(0.9355)\n"
          ]
        },
        {
          "output_type": "stream",
          "name": "stderr",
          "text": [
            "\n",
            "\n",
            "Epoch: 261 | Batch: 3 | Loss 0.00888916663825512: 1049it [3:40:13, 13.07s/it]\u001b[A\u001b[A\n",
            "\n",
            "Epoch: 262 | Batch: 0 | Loss 0.016544660553336143: 1049it [3:40:13, 13.07s/it]\u001b[A\u001b[A\n",
            "\n",
            "Epoch: 262 | Batch: 0 | Loss 0.016544660553336143: 1050it [3:40:26, 13.25s/it]\u001b[A\u001b[A\n",
            "\n",
            "Epoch: 262 | Batch: 1 | Loss 0.02666618488729: 1050it [3:40:26, 13.25s/it]    \u001b[A\u001b[A\n",
            "\n",
            "Epoch: 262 | Batch: 1 | Loss 0.02666618488729: 1051it [3:40:39, 13.09s/it]\u001b[A\u001b[A\n",
            "\n",
            "Epoch: 262 | Batch: 2 | Loss 0.014962872490286827: 1051it [3:40:39, 13.09s/it]\u001b[A\u001b[A\n",
            "\n",
            "Epoch: 262 | Batch: 2 | Loss 0.014962872490286827: 1052it [3:40:47, 11.51s/it]\u001b[A\u001b[A\n",
            "\n",
            "Epoch: 262 | Batch: 3 | Loss 0.010035358369350433: 1052it [3:40:47, 11.51s/it]\u001b[A\u001b[A"
          ]
        },
        {
          "output_type": "stream",
          "name": "stdout",
          "text": [
            "Epoch 262 Training Accuracy: tensor(1.)\n",
            "Testing Accuracy: tensor(0.9355)\n"
          ]
        },
        {
          "output_type": "stream",
          "name": "stderr",
          "text": [
            "\n",
            "\n",
            "Epoch: 262 | Batch: 3 | Loss 0.010035358369350433: 1053it [3:41:02, 12.62s/it]\u001b[A\u001b[A\n",
            "\n",
            "Epoch: 263 | Batch: 0 | Loss 0.018577618524432182: 1053it [3:41:02, 12.62s/it]\u001b[A\u001b[A\n",
            "\n",
            "Epoch: 263 | Batch: 0 | Loss 0.018577618524432182: 1054it [3:41:15, 12.72s/it]\u001b[A\u001b[A\n",
            "\n",
            "Epoch: 263 | Batch: 1 | Loss 0.018023880198597908: 1054it [3:41:15, 12.72s/it]\u001b[A\u001b[A\n",
            "\n",
            "Epoch: 263 | Batch: 1 | Loss 0.018023880198597908: 1055it [3:41:29, 13.23s/it]\u001b[A\u001b[A\n",
            "\n",
            "Epoch: 263 | Batch: 2 | Loss 0.015869831666350365: 1055it [3:41:29, 13.23s/it]\u001b[A\u001b[A\n",
            "\n",
            "Epoch: 263 | Batch: 2 | Loss 0.015869831666350365: 1056it [3:41:39, 12.14s/it]\u001b[A\u001b[A\n",
            "\n",
            "Epoch: 263 | Batch: 3 | Loss 0.013552640564739704: 1056it [3:41:39, 12.14s/it]\u001b[A\u001b[A"
          ]
        },
        {
          "output_type": "stream",
          "name": "stdout",
          "text": [
            "Epoch 263 Training Accuracy: tensor(1.)\n",
            "Testing Accuracy: tensor(0.9355)\n"
          ]
        },
        {
          "output_type": "stream",
          "name": "stderr",
          "text": [
            "\n",
            "\n",
            "Epoch: 263 | Batch: 3 | Loss 0.013552640564739704: 1057it [3:41:54, 12.97s/it]\u001b[A\u001b[A\n",
            "\n",
            "Epoch: 264 | Batch: 0 | Loss 0.02311583235859871: 1057it [3:41:54, 12.97s/it] \u001b[A\u001b[A\n",
            "\n",
            "Epoch: 264 | Batch: 0 | Loss 0.02311583235859871: 1058it [3:42:07, 12.93s/it]\u001b[A\u001b[A\n",
            "\n",
            "Epoch: 264 | Batch: 1 | Loss 0.016741912811994553: 1058it [3:42:07, 12.93s/it]\u001b[A\u001b[A\n",
            "\n",
            "Epoch: 264 | Batch: 1 | Loss 0.016741912811994553: 1059it [3:42:20, 13.10s/it]\u001b[A\u001b[A\n",
            "\n",
            "Epoch: 264 | Batch: 2 | Loss 0.018584467470645905: 1059it [3:42:20, 13.10s/it]\u001b[A\u001b[A\n",
            "\n",
            "Epoch: 264 | Batch: 2 | Loss 0.018584467470645905: 1060it [3:42:28, 11.60s/it]\u001b[A\u001b[A\n",
            "\n",
            "Epoch: 264 | Batch: 3 | Loss 0.008602223359048367: 1060it [3:42:28, 11.60s/it]\u001b[A\u001b[A"
          ]
        },
        {
          "output_type": "stream",
          "name": "stdout",
          "text": [
            "Epoch 264 Training Accuracy: tensor(1.)\n",
            "Testing Accuracy: tensor(0.9355)\n"
          ]
        },
        {
          "output_type": "stream",
          "name": "stderr",
          "text": [
            "\n",
            "\n",
            "Epoch: 264 | Batch: 3 | Loss 0.008602223359048367: 1061it [3:42:44, 12.75s/it]\u001b[A\u001b[A\n",
            "\n",
            "Epoch: 265 | Batch: 0 | Loss 0.018970098346471786: 1061it [3:42:44, 12.75s/it]\u001b[A\u001b[A\n",
            "\n",
            "Epoch: 265 | Batch: 0 | Loss 0.018970098346471786: 1062it [3:42:57, 12.98s/it]\u001b[A\u001b[A\n",
            "\n",
            "Epoch: 265 | Batch: 1 | Loss 0.01989028975367546: 1062it [3:42:57, 12.98s/it] \u001b[A\u001b[A\n",
            "\n",
            "Epoch: 265 | Batch: 1 | Loss 0.01989028975367546: 1063it [3:43:10, 12.95s/it]\u001b[A\u001b[A\n",
            "\n",
            "Epoch: 265 | Batch: 2 | Loss 0.016421478241682053: 1063it [3:43:10, 12.95s/it]\u001b[A\u001b[A\n",
            "\n",
            "Epoch: 265 | Batch: 2 | Loss 0.016421478241682053: 1064it [3:43:21, 12.32s/it]\u001b[A\u001b[A\n",
            "\n",
            "Epoch: 265 | Batch: 3 | Loss 0.009782783687114716: 1064it [3:43:21, 12.32s/it]\u001b[A\u001b[A"
          ]
        },
        {
          "output_type": "stream",
          "name": "stdout",
          "text": [
            "Epoch 265 Training Accuracy: tensor(1.)\n",
            "Testing Accuracy: tensor(0.9355)\n"
          ]
        },
        {
          "output_type": "stream",
          "name": "stderr",
          "text": [
            "\n",
            "\n",
            "Epoch: 265 | Batch: 3 | Loss 0.009782783687114716: 1065it [3:43:35, 12.77s/it]\u001b[A\u001b[A\n",
            "\n",
            "Epoch: 266 | Batch: 0 | Loss 0.023391753435134888: 1065it [3:43:35, 12.77s/it]\u001b[A\u001b[A\n",
            "\n",
            "Epoch: 266 | Batch: 0 | Loss 0.023391753435134888: 1066it [3:43:49, 13.17s/it]\u001b[A\u001b[A\n",
            "\n",
            "Epoch: 266 | Batch: 1 | Loss 0.014120591804385185: 1066it [3:43:49, 13.17s/it]\u001b[A\u001b[A\n",
            "\n",
            "Epoch: 266 | Batch: 1 | Loss 0.014120591804385185: 1067it [3:44:00, 12.64s/it]\u001b[A\u001b[A\n",
            "\n",
            "Epoch: 266 | Batch: 2 | Loss 0.01694597490131855: 1067it [3:44:00, 12.64s/it] \u001b[A\u001b[A\n",
            "\n",
            "Epoch: 266 | Batch: 2 | Loss 0.01694597490131855: 1068it [3:44:10, 11.58s/it]\u001b[A\u001b[A\n",
            "\n",
            "Epoch: 266 | Batch: 3 | Loss 0.01113793347030878: 1068it [3:44:10, 11.58s/it]\u001b[A\u001b[A"
          ]
        },
        {
          "output_type": "stream",
          "name": "stdout",
          "text": [
            "Epoch 266 Training Accuracy: tensor(1.)\n",
            "Testing Accuracy: tensor(0.9355)\n"
          ]
        },
        {
          "output_type": "stream",
          "name": "stderr",
          "text": [
            "\n",
            "\n",
            "Epoch: 266 | Batch: 3 | Loss 0.01113793347030878: 1069it [3:44:24, 12.48s/it]\u001b[A\u001b[A\n",
            "\n",
            "Epoch: 267 | Batch: 0 | Loss 0.01910252310335636: 1069it [3:44:24, 12.48s/it]\u001b[A\u001b[A\n",
            "\n",
            "Epoch: 267 | Batch: 0 | Loss 0.01910252310335636: 1070it [3:44:37, 12.57s/it]\u001b[A\u001b[A\n",
            "\n",
            "Epoch: 267 | Batch: 1 | Loss 0.01783495768904686: 1070it [3:44:37, 12.57s/it]\u001b[A\u001b[A\n",
            "\n",
            "Epoch: 267 | Batch: 1 | Loss 0.01783495768904686: 1071it [3:44:50, 12.83s/it]\u001b[A\u001b[A\n",
            "\n",
            "Epoch: 267 | Batch: 2 | Loss 0.015294821932911873: 1071it [3:44:50, 12.83s/it]\u001b[A\u001b[A\n",
            "\n",
            "Epoch: 267 | Batch: 2 | Loss 0.015294821932911873: 1072it [3:44:59, 11.68s/it]\u001b[A\u001b[A\n",
            "\n",
            "Epoch: 267 | Batch: 3 | Loss 0.011573703028261662: 1072it [3:44:59, 11.68s/it]\u001b[A\u001b[A"
          ]
        },
        {
          "output_type": "stream",
          "name": "stdout",
          "text": [
            "Epoch 267 Training Accuracy: tensor(1.)\n",
            "Testing Accuracy: tensor(0.9355)\n"
          ]
        },
        {
          "output_type": "stream",
          "name": "stderr",
          "text": [
            "\n",
            "\n",
            "Epoch: 267 | Batch: 3 | Loss 0.011573703028261662: 1073it [3:45:14, 12.63s/it]\u001b[A\u001b[A\n",
            "\n",
            "Epoch: 268 | Batch: 0 | Loss 0.023854916915297508: 1073it [3:45:14, 12.63s/it]\u001b[A\u001b[A\n",
            "\n",
            "Epoch: 268 | Batch: 0 | Loss 0.023854916915297508: 1074it [3:45:29, 13.28s/it]\u001b[A\u001b[A\n",
            "\n",
            "Epoch: 268 | Batch: 1 | Loss 0.014319026842713356: 1074it [3:45:29, 13.28s/it]\u001b[A\u001b[A\n",
            "\n",
            "Epoch: 268 | Batch: 1 | Loss 0.014319026842713356: 1075it [3:45:42, 13.29s/it]\u001b[A\u001b[A\n",
            "\n",
            "Epoch: 268 | Batch: 2 | Loss 0.018479615449905396: 1075it [3:45:42, 13.29s/it]\u001b[A\u001b[A\n",
            "\n",
            "Epoch: 268 | Batch: 2 | Loss 0.018479615449905396: 1076it [3:45:52, 12.25s/it]\u001b[A\u001b[A\n",
            "\n",
            "Epoch: 268 | Batch: 3 | Loss 0.007851471193134785: 1076it [3:45:52, 12.25s/it]\u001b[A\u001b[A"
          ]
        },
        {
          "output_type": "stream",
          "name": "stdout",
          "text": [
            "Epoch 268 Training Accuracy: tensor(1.)\n",
            "Testing Accuracy: tensor(0.9355)\n"
          ]
        },
        {
          "output_type": "stream",
          "name": "stderr",
          "text": [
            "\n",
            "\n",
            "Epoch: 268 | Batch: 3 | Loss 0.007851471193134785: 1077it [3:46:06, 12.73s/it]\u001b[A\u001b[A\n",
            "\n",
            "Epoch: 269 | Batch: 0 | Loss 0.017721306532621384: 1077it [3:46:06, 12.73s/it]\u001b[A\u001b[A\n",
            "\n",
            "Epoch: 269 | Batch: 0 | Loss 0.017721306532621384: 1078it [3:46:20, 12.98s/it]\u001b[A\u001b[A\n",
            "\n",
            "Epoch: 269 | Batch: 1 | Loss 0.014030364342033863: 1078it [3:46:20, 12.98s/it]\u001b[A\u001b[A\n",
            "\n",
            "Epoch: 269 | Batch: 1 | Loss 0.014030364342033863: 1079it [3:46:32, 12.91s/it]\u001b[A\u001b[A\n",
            "\n",
            "Epoch: 269 | Batch: 2 | Loss 0.02527705952525139: 1079it [3:46:32, 12.91s/it] \u001b[A\u001b[A\n",
            "\n",
            "Epoch: 269 | Batch: 2 | Loss 0.02527705952525139: 1080it [3:46:41, 11.64s/it]\u001b[A\u001b[A\n",
            "\n",
            "Epoch: 269 | Batch: 3 | Loss 0.008383900858461857: 1080it [3:46:41, 11.64s/it]\u001b[A\u001b[A"
          ]
        },
        {
          "output_type": "stream",
          "name": "stdout",
          "text": [
            "Epoch 269 Training Accuracy: tensor(1.)\n",
            "Testing Accuracy: tensor(0.9355)\n"
          ]
        },
        {
          "output_type": "stream",
          "name": "stderr",
          "text": [
            "\n",
            "\n",
            "Epoch: 269 | Batch: 3 | Loss 0.008383900858461857: 1081it [3:46:55, 12.34s/it]\u001b[A\u001b[A\n",
            "\n",
            "Epoch: 270 | Batch: 0 | Loss 0.016338732093572617: 1081it [3:46:55, 12.34s/it]\u001b[A\u001b[A\n",
            "\n",
            "Epoch: 270 | Batch: 0 | Loss 0.016338732093572617: 1082it [3:47:08, 12.71s/it]\u001b[A\u001b[A\n",
            "\n",
            "Epoch: 270 | Batch: 1 | Loss 0.01572108082473278: 1082it [3:47:09, 12.71s/it] \u001b[A\u001b[A\n",
            "\n",
            "Epoch: 270 | Batch: 1 | Loss 0.01572108082473278: 1083it [3:47:21, 12.70s/it]\u001b[A\u001b[A\n",
            "\n",
            "Epoch: 270 | Batch: 2 | Loss 0.01942395232617855: 1083it [3:47:21, 12.70s/it]\u001b[A\u001b[A\n",
            "\n",
            "Epoch: 270 | Batch: 2 | Loss 0.01942395232617855: 1084it [3:47:31, 11.97s/it]\u001b[A\u001b[A\n",
            "\n",
            "Epoch: 270 | Batch: 3 | Loss 0.011079477146267891: 1084it [3:47:31, 11.97s/it]\u001b[A\u001b[A"
          ]
        },
        {
          "output_type": "stream",
          "name": "stdout",
          "text": [
            "Epoch 270 Training Accuracy: tensor(1.)\n",
            "Testing Accuracy: tensor(0.9355)\n"
          ]
        },
        {
          "output_type": "stream",
          "name": "stderr",
          "text": [
            "\n",
            "\n",
            "Epoch: 270 | Batch: 3 | Loss 0.011079477146267891: 1085it [3:47:47, 12.91s/it]\u001b[A\u001b[A\n",
            "\n",
            "Epoch: 271 | Batch: 0 | Loss 0.014752054587006569: 1085it [3:47:47, 12.91s/it]\u001b[A\u001b[A\n",
            "\n",
            "Epoch: 271 | Batch: 0 | Loss 0.014752054587006569: 1086it [3:48:00, 12.99s/it]\u001b[A\u001b[A\n",
            "\n",
            "Epoch: 271 | Batch: 1 | Loss 0.023718953132629395: 1086it [3:48:00, 12.99s/it]\u001b[A\u001b[A\n",
            "\n",
            "Epoch: 271 | Batch: 1 | Loss 0.023718953132629395: 1087it [3:48:13, 13.13s/it]\u001b[A\u001b[A\n",
            "\n",
            "Epoch: 271 | Batch: 2 | Loss 0.016766000539064407: 1087it [3:48:13, 13.13s/it]\u001b[A\u001b[A\n",
            "\n",
            "Epoch: 271 | Batch: 2 | Loss 0.016766000539064407: 1088it [3:48:23, 12.04s/it]\u001b[A\u001b[A\n",
            "\n",
            "Epoch: 271 | Batch: 3 | Loss 0.0083824023604393: 1088it [3:48:23, 12.04s/it]  \u001b[A\u001b[A"
          ]
        },
        {
          "output_type": "stream",
          "name": "stdout",
          "text": [
            "Epoch 271 Training Accuracy: tensor(1.)\n",
            "Testing Accuracy: tensor(0.9355)\n"
          ]
        },
        {
          "output_type": "stream",
          "name": "stderr",
          "text": [
            "\n",
            "\n",
            "Epoch: 271 | Batch: 3 | Loss 0.0083824023604393: 1089it [3:48:38, 13.00s/it]\u001b[A\u001b[A\n",
            "\n",
            "Epoch: 272 | Batch: 0 | Loss 0.021961623802781105: 1089it [3:48:38, 13.00s/it]\u001b[A\u001b[A\n",
            "\n",
            "Epoch: 272 | Batch: 0 | Loss 0.021961623802781105: 1090it [3:48:51, 12.89s/it]\u001b[A\u001b[A\n",
            "\n",
            "Epoch: 272 | Batch: 1 | Loss 0.012992729432880878: 1090it [3:48:51, 12.89s/it]\u001b[A\u001b[A\n",
            "\n",
            "Epoch: 272 | Batch: 1 | Loss 0.012992729432880878: 1091it [3:49:04, 13.10s/it]\u001b[A\u001b[A\n",
            "\n",
            "Epoch: 272 | Batch: 2 | Loss 0.018858738243579865: 1091it [3:49:04, 13.10s/it]\u001b[A\u001b[A\n",
            "\n",
            "Epoch: 272 | Batch: 2 | Loss 0.018858738243579865: 1092it [3:49:12, 11.56s/it]\u001b[A\u001b[A\n",
            "\n",
            "Epoch: 272 | Batch: 3 | Loss 0.009116128087043762: 1092it [3:49:12, 11.56s/it]\u001b[A\u001b[A"
          ]
        },
        {
          "output_type": "stream",
          "name": "stdout",
          "text": [
            "Epoch 272 Training Accuracy: tensor(1.)\n",
            "Testing Accuracy: tensor(0.9355)\n"
          ]
        },
        {
          "output_type": "stream",
          "name": "stderr",
          "text": [
            "\n",
            "\n",
            "Epoch: 272 | Batch: 3 | Loss 0.009116128087043762: 1093it [3:49:26, 12.15s/it]\u001b[A\u001b[A\n",
            "\n",
            "Epoch: 273 | Batch: 0 | Loss 0.017113838344812393: 1093it [3:49:26, 12.15s/it]\u001b[A\u001b[A\n",
            "\n",
            "Epoch: 273 | Batch: 0 | Loss 0.017113838344812393: 1094it [3:49:40, 12.75s/it]\u001b[A\u001b[A\n",
            "\n",
            "Epoch: 273 | Batch: 1 | Loss 0.02067473903298378: 1094it [3:49:40, 12.75s/it] \u001b[A\u001b[A\n",
            "\n",
            "Epoch: 273 | Batch: 1 | Loss 0.02067473903298378: 1095it [3:49:53, 12.76s/it]\u001b[A\u001b[A\n",
            "\n",
            "Epoch: 273 | Batch: 2 | Loss 0.015760619193315506: 1095it [3:49:53, 12.76s/it]\u001b[A\u001b[A\n",
            "\n",
            "Epoch: 273 | Batch: 2 | Loss 0.015760619193315506: 1096it [3:50:04, 12.33s/it]\u001b[A\u001b[A\n",
            "\n",
            "Epoch: 273 | Batch: 3 | Loss 0.008102252148091793: 1096it [3:50:04, 12.33s/it]\u001b[A\u001b[A"
          ]
        },
        {
          "output_type": "stream",
          "name": "stdout",
          "text": [
            "Epoch 273 Training Accuracy: tensor(1.)\n",
            "Testing Accuracy: tensor(0.9355)\n"
          ]
        },
        {
          "output_type": "stream",
          "name": "stderr",
          "text": [
            "\n",
            "\n",
            "Epoch: 273 | Batch: 3 | Loss 0.008102252148091793: 1097it [3:50:18, 12.79s/it]\u001b[A\u001b[A\n",
            "\n",
            "Epoch: 274 | Batch: 0 | Loss 0.014551008120179176: 1097it [3:50:18, 12.79s/it]\u001b[A\u001b[A\n",
            "\n",
            "Epoch: 274 | Batch: 0 | Loss 0.014551008120179176: 1098it [3:50:31, 12.99s/it]\u001b[A\u001b[A\n",
            "\n",
            "Epoch: 274 | Batch: 1 | Loss 0.01573645882308483: 1098it [3:50:31, 12.99s/it] \u001b[A\u001b[A\n",
            "\n",
            "Epoch: 274 | Batch: 1 | Loss 0.01573645882308483: 1099it [3:50:46, 13.49s/it]\u001b[A\u001b[A\n",
            "\n",
            "Epoch: 274 | Batch: 2 | Loss 0.018579792231321335: 1099it [3:50:46, 13.49s/it]\u001b[A\u001b[A\n",
            "\n",
            "Epoch: 274 | Batch: 2 | Loss 0.018579792231321335: 1100it [3:50:54, 11.83s/it]\u001b[A\u001b[A\n",
            "\n",
            "Epoch: 274 | Batch: 3 | Loss 0.01142929494380951: 1100it [3:50:54, 11.83s/it] \u001b[A\u001b[A"
          ]
        },
        {
          "output_type": "stream",
          "name": "stdout",
          "text": [
            "Epoch 274 Training Accuracy: tensor(1.)\n",
            "Testing Accuracy: tensor(0.9355)\n"
          ]
        },
        {
          "output_type": "stream",
          "name": "stderr",
          "text": [
            "\n",
            "\n",
            "Epoch: 274 | Batch: 3 | Loss 0.01142929494380951: 1101it [3:51:09, 12.82s/it]\u001b[A\u001b[A\n",
            "\n",
            "Epoch: 275 | Batch: 0 | Loss 0.02222854271531105: 1101it [3:51:09, 12.82s/it]\u001b[A\u001b[A\n",
            "\n",
            "Epoch: 275 | Batch: 0 | Loss 0.02222854271531105: 1102it [3:51:22, 13.00s/it]\u001b[A\u001b[A\n",
            "\n",
            "Epoch: 275 | Batch: 1 | Loss 0.013574628159403801: 1102it [3:51:22, 13.00s/it]\u001b[A\u001b[A\n",
            "\n",
            "Epoch: 275 | Batch: 1 | Loss 0.013574628159403801: 1103it [3:51:35, 12.92s/it]\u001b[A\u001b[A\n",
            "\n",
            "Epoch: 275 | Batch: 2 | Loss 0.019221952185034752: 1103it [3:51:35, 12.92s/it]\u001b[A\u001b[A\n",
            "\n",
            "Epoch: 275 | Batch: 2 | Loss 0.019221952185034752: 1104it [3:51:45, 12.04s/it]\u001b[A\u001b[A\n",
            "\n",
            "Epoch: 275 | Batch: 3 | Loss 0.007116739172488451: 1104it [3:51:45, 12.04s/it]\u001b[A\u001b[A"
          ]
        },
        {
          "output_type": "stream",
          "name": "stdout",
          "text": [
            "Epoch 275 Training Accuracy: tensor(1.)\n",
            "Testing Accuracy: tensor(0.9355)\n"
          ]
        },
        {
          "output_type": "stream",
          "name": "stderr",
          "text": [
            "\n",
            "\n",
            "Epoch: 275 | Batch: 3 | Loss 0.007116739172488451: 1105it [3:52:00, 12.80s/it]\u001b[A\u001b[A\n",
            "\n",
            "Epoch: 276 | Batch: 0 | Loss 0.018936343491077423: 1105it [3:52:00, 12.80s/it]\u001b[A\u001b[A\n",
            "\n",
            "Epoch: 276 | Batch: 0 | Loss 0.018936343491077423: 1106it [3:52:11, 12.51s/it]\u001b[A\u001b[A\n",
            "\n",
            "Epoch: 276 | Batch: 1 | Loss 0.016447270289063454: 1106it [3:52:11, 12.51s/it]\u001b[A\u001b[A\n",
            "\n",
            "Epoch: 276 | Batch: 1 | Loss 0.016447270289063454: 1107it [3:52:24, 12.66s/it]\u001b[A\u001b[A\n",
            "\n",
            "Epoch: 276 | Batch: 2 | Loss 0.018301289528608322: 1107it [3:52:24, 12.66s/it]\u001b[A\u001b[A\n",
            "\n",
            "Epoch: 276 | Batch: 2 | Loss 0.018301289528608322: 1108it [3:52:34, 11.76s/it]\u001b[A\u001b[A\n",
            "\n",
            "Epoch: 276 | Batch: 3 | Loss 0.0076897176913917065: 1108it [3:52:34, 11.76s/it]\u001b[A\u001b[A"
          ]
        },
        {
          "output_type": "stream",
          "name": "stdout",
          "text": [
            "Epoch 276 Training Accuracy: tensor(1.)\n",
            "Testing Accuracy: tensor(0.9355)\n"
          ]
        },
        {
          "output_type": "stream",
          "name": "stderr",
          "text": [
            "\n",
            "\n",
            "Epoch: 276 | Batch: 3 | Loss 0.0076897176913917065: 1109it [3:52:49, 12.64s/it]\u001b[A\u001b[A\n",
            "\n",
            "Epoch: 277 | Batch: 0 | Loss 0.012626975774765015: 1109it [3:52:49, 12.64s/it] \u001b[A\u001b[A\n",
            "\n",
            "Epoch: 277 | Batch: 0 | Loss 0.012626975774765015: 1110it [3:53:01, 12.62s/it]\u001b[A\u001b[A\n",
            "\n",
            "Epoch: 277 | Batch: 1 | Loss 0.018890757113695145: 1110it [3:53:01, 12.62s/it]\u001b[A\u001b[A\n",
            "\n",
            "Epoch: 277 | Batch: 1 | Loss 0.018890757113695145: 1111it [3:53:16, 13.12s/it]\u001b[A\u001b[A\n",
            "\n",
            "Epoch: 277 | Batch: 2 | Loss 0.02002408541738987: 1111it [3:53:16, 13.12s/it] \u001b[A\u001b[A\n",
            "\n",
            "Epoch: 277 | Batch: 2 | Loss 0.02002408541738987: 1112it [3:53:28, 12.79s/it]\u001b[A\u001b[A\n",
            "\n",
            "Epoch: 277 | Batch: 3 | Loss 0.008993031457066536: 1112it [3:53:28, 12.79s/it]\u001b[A\u001b[A"
          ]
        },
        {
          "output_type": "stream",
          "name": "stdout",
          "text": [
            "Epoch 277 Training Accuracy: tensor(1.)\n",
            "Testing Accuracy: tensor(0.9355)\n"
          ]
        },
        {
          "output_type": "stream",
          "name": "stderr",
          "text": [
            "\n",
            "\n",
            "Epoch: 277 | Batch: 3 | Loss 0.008993031457066536: 1113it [3:53:41, 13.05s/it]\u001b[A\u001b[A\n",
            "\n",
            "Epoch: 278 | Batch: 0 | Loss 0.017743762582540512: 1113it [3:53:41, 13.05s/it]\u001b[A\u001b[A\n",
            "\n",
            "Epoch: 278 | Batch: 0 | Loss 0.017743762582540512: 1114it [3:53:55, 13.15s/it]\u001b[A\u001b[A\n",
            "\n",
            "Epoch: 278 | Batch: 1 | Loss 0.016783444210886955: 1114it [3:53:55, 13.15s/it]\u001b[A\u001b[A\n",
            "\n",
            "Epoch: 278 | Batch: 1 | Loss 0.016783444210886955: 1115it [3:54:07, 12.79s/it]\u001b[A\u001b[A\n",
            "\n",
            "Epoch: 278 | Batch: 2 | Loss 0.014285877346992493: 1115it [3:54:07, 12.79s/it]\u001b[A\u001b[A\n",
            "\n",
            "Epoch: 278 | Batch: 2 | Loss 0.014285877346992493: 1116it [3:54:16, 11.79s/it]\u001b[A\u001b[A\n",
            "\n",
            "Epoch: 278 | Batch: 3 | Loss 0.010037356056272984: 1116it [3:54:16, 11.79s/it]\u001b[A\u001b[A"
          ]
        },
        {
          "output_type": "stream",
          "name": "stdout",
          "text": [
            "Epoch 278 Training Accuracy: tensor(1.)\n",
            "Testing Accuracy: tensor(0.9355)\n"
          ]
        },
        {
          "output_type": "stream",
          "name": "stderr",
          "text": [
            "\n",
            "\n",
            "Epoch: 278 | Batch: 3 | Loss 0.010037356056272984: 1117it [3:54:31, 12.77s/it]\u001b[A\u001b[A\n",
            "\n",
            "Epoch: 279 | Batch: 0 | Loss 0.012451332993805408: 1117it [3:54:31, 12.77s/it]\u001b[A\u001b[A\n",
            "\n",
            "Epoch: 279 | Batch: 0 | Loss 0.012451332993805408: 1118it [3:54:45, 13.14s/it]\u001b[A\u001b[A\n",
            "\n",
            "Epoch: 279 | Batch: 1 | Loss 0.02601322904229164: 1118it [3:54:45, 13.14s/it] \u001b[A\u001b[A\n",
            "\n",
            "Epoch: 279 | Batch: 1 | Loss 0.02601322904229164: 1119it [3:54:58, 13.07s/it]\u001b[A\u001b[A\n",
            "\n",
            "Epoch: 279 | Batch: 2 | Loss 0.014213052578270435: 1119it [3:54:58, 13.07s/it]\u001b[A\u001b[A\n",
            "\n",
            "Epoch: 279 | Batch: 2 | Loss 0.014213052578270435: 1120it [3:55:06, 11.50s/it]\u001b[A\u001b[A\n",
            "\n",
            "Epoch: 279 | Batch: 3 | Loss 0.00796536821871996: 1120it [3:55:06, 11.50s/it] \u001b[A\u001b[A"
          ]
        },
        {
          "output_type": "stream",
          "name": "stdout",
          "text": [
            "Epoch 279 Training Accuracy: tensor(1.)\n",
            "Testing Accuracy: tensor(0.9355)\n"
          ]
        },
        {
          "output_type": "stream",
          "name": "stderr",
          "text": [
            "\n",
            "\n",
            "Epoch: 279 | Batch: 3 | Loss 0.00796536821871996: 1121it [3:55:20, 12.34s/it]\u001b[A\u001b[A\n",
            "\n",
            "Epoch: 280 | Batch: 0 | Loss 0.017748700454831123: 1121it [3:55:20, 12.34s/it]\u001b[A\u001b[A\n",
            "\n",
            "Epoch: 280 | Batch: 0 | Loss 0.017748700454831123: 1122it [3:55:33, 12.49s/it]\u001b[A\u001b[A\n",
            "\n",
            "Epoch: 280 | Batch: 1 | Loss 0.020059827715158463: 1122it [3:55:33, 12.49s/it]\u001b[A\u001b[A\n",
            "\n",
            "Epoch: 280 | Batch: 1 | Loss 0.020059827715158463: 1123it [3:55:47, 13.00s/it]\u001b[A\u001b[A\n",
            "\n",
            "Epoch: 280 | Batch: 2 | Loss 0.01531268935650587: 1123it [3:55:47, 13.00s/it] \u001b[A\u001b[A\n",
            "\n",
            "Epoch: 280 | Batch: 2 | Loss 0.01531268935650587: 1124it [3:55:57, 12.01s/it]\u001b[A\u001b[A\n",
            "\n",
            "Epoch: 280 | Batch: 3 | Loss 0.006658874452114105: 1124it [3:55:57, 12.01s/it]\u001b[A\u001b[A"
          ]
        },
        {
          "output_type": "stream",
          "name": "stdout",
          "text": [
            "Epoch 280 Training Accuracy: tensor(1.)\n",
            "Testing Accuracy: tensor(0.9355)\n"
          ]
        },
        {
          "output_type": "stream",
          "name": "stderr",
          "text": [
            "\n",
            "\n",
            "Epoch: 280 | Batch: 3 | Loss 0.006658874452114105: 1125it [3:56:14, 13.47s/it]\u001b[A\u001b[A\n",
            "\n",
            "Epoch: 281 | Batch: 0 | Loss 0.020255208015441895: 1125it [3:56:14, 13.47s/it]\u001b[A\u001b[A\n",
            "\n",
            "Epoch: 281 | Batch: 0 | Loss 0.020255208015441895: 1126it [3:56:27, 13.28s/it]\u001b[A\u001b[A\n",
            "\n",
            "Epoch: 281 | Batch: 1 | Loss 0.01715569756925106: 1126it [3:56:27, 13.28s/it] \u001b[A\u001b[A\n",
            "\n",
            "Epoch: 281 | Batch: 1 | Loss 0.01715569756925106: 1127it [3:56:40, 13.15s/it]\u001b[A\u001b[A\n",
            "\n",
            "Epoch: 281 | Batch: 2 | Loss 0.01500614918768406: 1127it [3:56:40, 13.15s/it]\u001b[A\u001b[A\n",
            "\n",
            "Epoch: 281 | Batch: 2 | Loss 0.01500614918768406: 1128it [3:56:48, 11.82s/it]\u001b[A\u001b[A\n",
            "\n",
            "Epoch: 281 | Batch: 3 | Loss 0.0065976339392364025: 1128it [3:56:48, 11.82s/it]\u001b[A\u001b[A"
          ]
        },
        {
          "output_type": "stream",
          "name": "stdout",
          "text": [
            "Epoch 281 Training Accuracy: tensor(1.)\n",
            "Testing Accuracy: tensor(0.9355)\n"
          ]
        },
        {
          "output_type": "stream",
          "name": "stderr",
          "text": [
            "\n",
            "\n",
            "Epoch: 281 | Batch: 3 | Loss 0.0065976339392364025: 1129it [3:57:03, 12.60s/it]\u001b[A\u001b[A\n",
            "\n",
            "Epoch: 282 | Batch: 0 | Loss 0.018059249967336655: 1129it [3:57:03, 12.60s/it] \u001b[A\u001b[A\n",
            "\n",
            "Epoch: 282 | Batch: 0 | Loss 0.018059249967336655: 1130it [3:57:16, 12.81s/it]\u001b[A\u001b[A\n",
            "\n",
            "Epoch: 282 | Batch: 1 | Loss 0.01490657776594162: 1130it [3:57:16, 12.81s/it] \u001b[A\u001b[A\n",
            "\n",
            "Epoch: 282 | Batch: 1 | Loss 0.01490657776594162: 1131it [3:57:29, 12.73s/it]\u001b[A\u001b[A\n",
            "\n",
            "Epoch: 282 | Batch: 2 | Loss 0.017685990780591965: 1131it [3:57:29, 12.73s/it]\u001b[A\u001b[A\n",
            "\n",
            "Epoch: 282 | Batch: 2 | Loss 0.017685990780591965: 1132it [3:57:38, 11.87s/it]\u001b[A\u001b[A\n",
            "\n",
            "Epoch: 282 | Batch: 3 | Loss 0.007327687926590443: 1132it [3:57:38, 11.87s/it]\u001b[A\u001b[A"
          ]
        },
        {
          "output_type": "stream",
          "name": "stdout",
          "text": [
            "Epoch 282 Training Accuracy: tensor(1.)\n",
            "Testing Accuracy: tensor(0.9355)\n"
          ]
        },
        {
          "output_type": "stream",
          "name": "stderr",
          "text": [
            "\n",
            "\n",
            "Epoch: 282 | Batch: 3 | Loss 0.007327687926590443: 1133it [3:57:53, 12.73s/it]\u001b[A\u001b[A\n",
            "\n",
            "Epoch: 283 | Batch: 0 | Loss 0.012643912807106972: 1133it [3:57:53, 12.73s/it]\u001b[A\u001b[A\n",
            "\n",
            "Epoch: 283 | Batch: 0 | Loss 0.012643912807106972: 1134it [3:58:07, 12.95s/it]\u001b[A\u001b[A\n",
            "\n",
            "Epoch: 283 | Batch: 1 | Loss 0.014458457008004189: 1134it [3:58:07, 12.95s/it]\u001b[A\u001b[A\n",
            "\n",
            "Epoch: 283 | Batch: 1 | Loss 0.014458457008004189: 1135it [3:58:18, 12.56s/it]\u001b[A\u001b[A\n",
            "\n",
            "Epoch: 283 | Batch: 2 | Loss 0.01692483201622963: 1135it [3:58:18, 12.56s/it] \u001b[A\u001b[A\n",
            "\n",
            "Epoch: 283 | Batch: 2 | Loss 0.01692483201622963: 1136it [3:58:28, 11.58s/it]\u001b[A\u001b[A\n",
            "\n",
            "Epoch: 283 | Batch: 3 | Loss 0.01284401398152113: 1136it [3:58:28, 11.58s/it]\u001b[A\u001b[A"
          ]
        },
        {
          "output_type": "stream",
          "name": "stdout",
          "text": [
            "Epoch 283 Training Accuracy: tensor(1.)\n",
            "Testing Accuracy: tensor(0.9355)\n"
          ]
        },
        {
          "output_type": "stream",
          "name": "stderr",
          "text": [
            "\n",
            "\n",
            "Epoch: 283 | Batch: 3 | Loss 0.01284401398152113: 1137it [3:58:43, 12.89s/it]\u001b[A\u001b[A\n",
            "\n",
            "Epoch: 284 | Batch: 0 | Loss 0.013642276637256145: 1137it [3:58:44, 12.89s/it]\u001b[A\u001b[A\n",
            "\n",
            "Epoch: 284 | Batch: 0 | Loss 0.013642276637256145: 1138it [3:58:56, 12.89s/it]\u001b[A\u001b[A\n",
            "\n",
            "Epoch: 284 | Batch: 1 | Loss 0.018628349527716637: 1138it [3:58:56, 12.89s/it]\u001b[A\u001b[A\n",
            "\n",
            "Epoch: 284 | Batch: 1 | Loss 0.018628349527716637: 1139it [3:59:10, 13.04s/it]\u001b[A\u001b[A\n",
            "\n",
            "Epoch: 284 | Batch: 2 | Loss 0.0153639642521739: 1139it [3:59:10, 13.04s/it]  \u001b[A\u001b[A\n",
            "\n",
            "Epoch: 284 | Batch: 2 | Loss 0.0153639642521739: 1140it [3:59:19, 11.85s/it]\u001b[A\u001b[A\n",
            "\n",
            "Epoch: 284 | Batch: 3 | Loss 0.009173082187771797: 1140it [3:59:19, 11.85s/it]\u001b[A\u001b[A"
          ]
        },
        {
          "output_type": "stream",
          "name": "stdout",
          "text": [
            "Epoch 284 Training Accuracy: tensor(1.)\n",
            "Testing Accuracy: tensor(0.9355)\n"
          ]
        },
        {
          "output_type": "stream",
          "name": "stderr",
          "text": [
            "\n",
            "\n",
            "Epoch: 284 | Batch: 3 | Loss 0.009173082187771797: 1141it [3:59:32, 12.28s/it]\u001b[A\u001b[A\n",
            "\n",
            "Epoch: 285 | Batch: 0 | Loss 0.01631077378988266: 1141it [3:59:32, 12.28s/it] \u001b[A\u001b[A\n",
            "\n",
            "Epoch: 285 | Batch: 0 | Loss 0.01631077378988266: 1142it [3:59:45, 12.45s/it]\u001b[A\u001b[A\n",
            "\n",
            "Epoch: 285 | Batch: 1 | Loss 0.01476598996669054: 1142it [3:59:45, 12.45s/it]\u001b[A\u001b[A\n",
            "\n",
            "Epoch: 285 | Batch: 1 | Loss 0.01476598996669054: 1143it [3:59:58, 12.55s/it]\u001b[A\u001b[A\n",
            "\n",
            "Epoch: 285 | Batch: 2 | Loss 0.01791631616652012: 1143it [3:59:58, 12.55s/it]\u001b[A\u001b[A\n",
            "\n",
            "Epoch: 285 | Batch: 2 | Loss 0.01791631616652012: 1144it [4:00:09, 12.11s/it]\u001b[A\u001b[A\n",
            "\n",
            "Epoch: 285 | Batch: 3 | Loss 0.0074522970244288445: 1144it [4:00:09, 12.11s/it]\u001b[A\u001b[A"
          ]
        },
        {
          "output_type": "stream",
          "name": "stdout",
          "text": [
            "Epoch 285 Training Accuracy: tensor(1.)\n",
            "Testing Accuracy: tensor(0.9355)\n"
          ]
        },
        {
          "output_type": "stream",
          "name": "stderr",
          "text": [
            "\n",
            "\n",
            "Epoch: 285 | Batch: 3 | Loss 0.0074522970244288445: 1145it [4:00:22, 12.56s/it]\u001b[A\u001b[A\n",
            "\n",
            "Epoch: 286 | Batch: 0 | Loss 0.016625801101326942: 1145it [4:00:22, 12.56s/it] \u001b[A\u001b[A\n",
            "\n",
            "Epoch: 286 | Batch: 0 | Loss 0.016625801101326942: 1146it [4:00:37, 13.05s/it]\u001b[A\u001b[A\n",
            "\n",
            "Epoch: 286 | Batch: 1 | Loss 0.021199028939008713: 1146it [4:00:37, 13.05s/it]\u001b[A\u001b[A\n",
            "\n",
            "Epoch: 286 | Batch: 1 | Loss 0.021199028939008713: 1147it [4:00:49, 12.98s/it]\u001b[A\u001b[A\n",
            "\n",
            "Epoch: 286 | Batch: 2 | Loss 0.013500144705176353: 1147it [4:00:49, 12.98s/it]\u001b[A\u001b[A\n",
            "\n",
            "Epoch: 286 | Batch: 2 | Loss 0.013500144705176353: 1148it [4:00:57, 11.48s/it]\u001b[A\u001b[A\n",
            "\n",
            "Epoch: 286 | Batch: 3 | Loss 0.0063705905340611935: 1148it [4:00:57, 11.48s/it]\u001b[A\u001b[A"
          ]
        },
        {
          "output_type": "stream",
          "name": "stdout",
          "text": [
            "Epoch 286 Training Accuracy: tensor(1.)\n",
            "Testing Accuracy: tensor(0.9355)\n"
          ]
        },
        {
          "output_type": "stream",
          "name": "stderr",
          "text": [
            "\n",
            "\n",
            "Epoch: 286 | Batch: 3 | Loss 0.0063705905340611935: 1149it [4:01:12, 12.37s/it]\u001b[A\u001b[A\n",
            "\n",
            "Epoch: 287 | Batch: 0 | Loss 0.012026611715555191: 1149it [4:01:12, 12.37s/it] \u001b[A\u001b[A\n",
            "\n",
            "Epoch: 287 | Batch: 0 | Loss 0.012026611715555191: 1150it [4:01:26, 12.78s/it]\u001b[A\u001b[A\n",
            "\n",
            "Epoch: 287 | Batch: 1 | Loss 0.018933748826384544: 1150it [4:01:26, 12.78s/it]\u001b[A\u001b[A\n",
            "\n",
            "Epoch: 287 | Batch: 1 | Loss 0.018933748826384544: 1151it [4:01:40, 13.31s/it]\u001b[A\u001b[A\n",
            "\n",
            "Epoch: 287 | Batch: 2 | Loss 0.02061314508318901: 1151it [4:01:40, 13.31s/it] \u001b[A\u001b[A\n",
            "\n",
            "Epoch: 287 | Batch: 2 | Loss 0.02061314508318901: 1152it [4:01:50, 12.30s/it]\u001b[A\u001b[A\n",
            "\n",
            "Epoch: 287 | Batch: 3 | Loss 0.005936088971793652: 1152it [4:01:50, 12.30s/it]\u001b[A\u001b[A"
          ]
        },
        {
          "output_type": "stream",
          "name": "stdout",
          "text": [
            "Epoch 287 Training Accuracy: tensor(1.)\n",
            "Testing Accuracy: tensor(0.9355)\n"
          ]
        },
        {
          "output_type": "stream",
          "name": "stderr",
          "text": [
            "\n",
            "\n",
            "Epoch: 287 | Batch: 3 | Loss 0.005936088971793652: 1153it [4:02:04, 12.91s/it]\u001b[A\u001b[A\n",
            "\n",
            "Epoch: 288 | Batch: 0 | Loss 0.023307064548134804: 1153it [4:02:04, 12.91s/it]\u001b[A\u001b[A\n",
            "\n",
            "Epoch: 288 | Batch: 0 | Loss 0.023307064548134804: 1154it [4:02:19, 13.30s/it]\u001b[A\u001b[A\n",
            "\n",
            "Epoch: 288 | Batch: 1 | Loss 0.016006063669919968: 1154it [4:02:19, 13.30s/it]\u001b[A\u001b[A\n",
            "\n",
            "Epoch: 288 | Batch: 1 | Loss 0.016006063669919968: 1155it [4:02:32, 13.24s/it]\u001b[A\u001b[A\n",
            "\n",
            "Epoch: 288 | Batch: 2 | Loss 0.013412632048130035: 1155it [4:02:32, 13.24s/it]\u001b[A\u001b[A\n",
            "\n",
            "Epoch: 288 | Batch: 2 | Loss 0.013412632048130035: 1156it [4:02:41, 11.98s/it]\u001b[A\u001b[A\n",
            "\n",
            "Epoch: 288 | Batch: 3 | Loss 0.0050872270949184895: 1156it [4:02:41, 11.98s/it]\u001b[A\u001b[A"
          ]
        },
        {
          "output_type": "stream",
          "name": "stdout",
          "text": [
            "Epoch 288 Training Accuracy: tensor(1.)\n",
            "Testing Accuracy: tensor(0.9355)\n"
          ]
        },
        {
          "output_type": "stream",
          "name": "stderr",
          "text": [
            "\n",
            "\n",
            "Epoch: 288 | Batch: 3 | Loss 0.0050872270949184895: 1157it [4:02:55, 12.68s/it]\u001b[A\u001b[A\n",
            "\n",
            "Epoch: 289 | Batch: 0 | Loss 0.020868154242634773: 1157it [4:02:55, 12.68s/it] \u001b[A\u001b[A\n",
            "\n",
            "Epoch: 289 | Batch: 0 | Loss 0.020868154242634773: 1158it [4:03:09, 12.98s/it]\u001b[A\u001b[A\n",
            "\n",
            "Epoch: 289 | Batch: 1 | Loss 0.014940217137336731: 1158it [4:03:09, 12.98s/it]\u001b[A\u001b[A\n",
            "\n",
            "Epoch: 289 | Batch: 1 | Loss 0.014940217137336731: 1159it [4:03:22, 12.93s/it]\u001b[A\u001b[A\n",
            "\n",
            "Epoch: 289 | Batch: 2 | Loss 0.01381209958344698: 1159it [4:03:22, 12.93s/it] \u001b[A\u001b[A\n",
            "\n",
            "Epoch: 289 | Batch: 2 | Loss 0.01381209958344698: 1160it [4:03:31, 11.98s/it]\u001b[A\u001b[A\n",
            "\n",
            "Epoch: 289 | Batch: 3 | Loss 0.00659064669162035: 1160it [4:03:31, 11.98s/it]\u001b[A\u001b[A"
          ]
        },
        {
          "output_type": "stream",
          "name": "stdout",
          "text": [
            "Epoch 289 Training Accuracy: tensor(1.)\n",
            "Testing Accuracy: tensor(0.9355)\n"
          ]
        },
        {
          "output_type": "stream",
          "name": "stderr",
          "text": [
            "\n",
            "\n",
            "Epoch: 289 | Batch: 3 | Loss 0.00659064669162035: 1161it [4:03:46, 12.78s/it]\u001b[A\u001b[A\n",
            "\n",
            "Epoch: 290 | Batch: 0 | Loss 0.014467273838818073: 1161it [4:03:46, 12.78s/it]\u001b[A\u001b[A\n",
            "\n",
            "Epoch: 290 | Batch: 0 | Loss 0.014467273838818073: 1162it [4:03:59, 12.87s/it]\u001b[A\u001b[A\n",
            "\n",
            "Epoch: 290 | Batch: 1 | Loss 0.01482020877301693: 1162it [4:03:59, 12.87s/it] \u001b[A\u001b[A\n",
            "\n",
            "Epoch: 290 | Batch: 1 | Loss 0.01482020877301693: 1163it [4:04:15, 13.66s/it]\u001b[A\u001b[A\n",
            "\n",
            "Epoch: 290 | Batch: 2 | Loss 0.017628517001867294: 1163it [4:04:15, 13.66s/it]\u001b[A\u001b[A\n",
            "\n",
            "Epoch: 290 | Batch: 2 | Loss 0.017628517001867294: 1164it [4:04:24, 12.27s/it]\u001b[A\u001b[A\n",
            "\n",
            "Epoch: 290 | Batch: 3 | Loss 0.007690571714192629: 1164it [4:04:24, 12.27s/it]\u001b[A\u001b[A"
          ]
        },
        {
          "output_type": "stream",
          "name": "stdout",
          "text": [
            "Epoch 290 Training Accuracy: tensor(1.)\n",
            "Testing Accuracy: tensor(0.9355)\n"
          ]
        },
        {
          "output_type": "stream",
          "name": "stderr",
          "text": [
            "\n",
            "\n",
            "Epoch: 290 | Batch: 3 | Loss 0.007690571714192629: 1165it [4:04:37, 12.71s/it]\u001b[A\u001b[A\n",
            "\n",
            "Epoch: 291 | Batch: 0 | Loss 0.014757821336388588: 1165it [4:04:37, 12.71s/it]\u001b[A\u001b[A\n",
            "\n",
            "Epoch: 291 | Batch: 0 | Loss 0.014757821336388588: 1166it [4:04:51, 12.92s/it]\u001b[A\u001b[A\n",
            "\n",
            "Epoch: 291 | Batch: 1 | Loss 0.019469672814011574: 1166it [4:04:51, 12.92s/it]\u001b[A\u001b[A\n",
            "\n",
            "Epoch: 291 | Batch: 1 | Loss 0.019469672814011574: 1167it [4:05:04, 12.99s/it]\u001b[A\u001b[A\n",
            "\n",
            "Epoch: 291 | Batch: 2 | Loss 0.014702451415359974: 1167it [4:05:04, 12.99s/it]\u001b[A\u001b[A\n",
            "\n",
            "Epoch: 291 | Batch: 2 | Loss 0.014702451415359974: 1168it [4:05:13, 11.70s/it]\u001b[A\u001b[A\n",
            "\n",
            "Epoch: 291 | Batch: 3 | Loss 0.006087996065616608: 1168it [4:05:13, 11.70s/it]\u001b[A\u001b[A"
          ]
        },
        {
          "output_type": "stream",
          "name": "stdout",
          "text": [
            "Epoch 291 Training Accuracy: tensor(1.)\n",
            "Testing Accuracy: tensor(0.9355)\n"
          ]
        },
        {
          "output_type": "stream",
          "name": "stderr",
          "text": [
            "\n",
            "\n",
            "Epoch: 291 | Batch: 3 | Loss 0.006087996065616608: 1169it [4:05:27, 12.59s/it]\u001b[A\u001b[A\n",
            "\n",
            "Epoch: 292 | Batch: 0 | Loss 0.018475882709026337: 1169it [4:05:27, 12.59s/it]\u001b[A\u001b[A\n",
            "\n",
            "Epoch: 292 | Batch: 0 | Loss 0.018475882709026337: 1170it [4:05:40, 12.55s/it]\u001b[A\u001b[A\n",
            "\n",
            "Epoch: 292 | Batch: 1 | Loss 0.015041458420455456: 1170it [4:05:40, 12.55s/it]\u001b[A\u001b[A\n",
            "\n",
            "Epoch: 292 | Batch: 1 | Loss 0.015041458420455456: 1171it [4:05:54, 12.97s/it]\u001b[A\u001b[A\n",
            "\n",
            "Epoch: 292 | Batch: 2 | Loss 0.012363577261567116: 1171it [4:05:54, 12.97s/it]\u001b[A\u001b[A\n",
            "\n",
            "Epoch: 292 | Batch: 2 | Loss 0.012363577261567116: 1172it [4:06:03, 11.95s/it]\u001b[A\u001b[A\n",
            "\n",
            "Epoch: 292 | Batch: 3 | Loss 0.008321371860802174: 1172it [4:06:03, 11.95s/it]\u001b[A\u001b[A"
          ]
        },
        {
          "output_type": "stream",
          "name": "stdout",
          "text": [
            "Epoch 292 Training Accuracy: tensor(1.)\n",
            "Testing Accuracy: tensor(0.9355)\n"
          ]
        },
        {
          "output_type": "stream",
          "name": "stderr",
          "text": [
            "\n",
            "\n",
            "Epoch: 292 | Batch: 3 | Loss 0.008321371860802174: 1173it [4:06:18, 12.79s/it]\u001b[A\u001b[A\n",
            "\n",
            "Epoch: 293 | Batch: 0 | Loss 0.017172234132885933: 1173it [4:06:18, 12.79s/it]\u001b[A\u001b[A\n",
            "\n",
            "Epoch: 293 | Batch: 0 | Loss 0.017172234132885933: 1174it [4:06:31, 12.82s/it]\u001b[A\u001b[A\n",
            "\n",
            "Epoch: 293 | Batch: 1 | Loss 0.01624033972620964: 1174it [4:06:31, 12.82s/it] \u001b[A\u001b[A\n",
            "\n",
            "Epoch: 293 | Batch: 1 | Loss 0.01624033972620964: 1175it [4:06:44, 12.95s/it]\u001b[A\u001b[A\n",
            "\n",
            "Epoch: 293 | Batch: 2 | Loss 0.013353675603866577: 1175it [4:06:44, 12.95s/it]\u001b[A\u001b[A\n",
            "\n",
            "Epoch: 293 | Batch: 2 | Loss 0.013353675603866577: 1176it [4:06:52, 11.46s/it]\u001b[A\u001b[A\n",
            "\n",
            "Epoch: 293 | Batch: 3 | Loss 0.007154789753258228: 1176it [4:06:52, 11.46s/it]\u001b[A\u001b[A"
          ]
        },
        {
          "output_type": "stream",
          "name": "stdout",
          "text": [
            "Epoch 293 Training Accuracy: tensor(1.)\n",
            "Testing Accuracy: tensor(0.9355)\n"
          ]
        },
        {
          "output_type": "stream",
          "name": "stderr",
          "text": [
            "\n",
            "\n",
            "Epoch: 293 | Batch: 3 | Loss 0.007154789753258228: 1177it [4:07:08, 12.74s/it]\u001b[A\u001b[A\n",
            "\n",
            "Epoch: 294 | Batch: 0 | Loss 0.01269751787185669: 1177it [4:07:08, 12.74s/it] \u001b[A\u001b[A\n",
            "\n",
            "Epoch: 294 | Batch: 0 | Loss 0.01269751787185669: 1178it [4:07:21, 12.97s/it]\u001b[A\u001b[A\n",
            "\n",
            "Epoch: 294 | Batch: 1 | Loss 0.017003508284687996: 1178it [4:07:21, 12.97s/it]\u001b[A\u001b[A\n",
            "\n",
            "Epoch: 294 | Batch: 1 | Loss 0.017003508284687996: 1179it [4:07:34, 12.86s/it]\u001b[A\u001b[A\n",
            "\n",
            "Epoch: 294 | Batch: 2 | Loss 0.018355008214712143: 1179it [4:07:34, 12.86s/it]\u001b[A\u001b[A\n",
            "\n",
            "Epoch: 294 | Batch: 2 | Loss 0.018355008214712143: 1180it [4:07:43, 11.61s/it]\u001b[A\u001b[A\n",
            "\n",
            "Epoch: 294 | Batch: 3 | Loss 0.0064786747097969055: 1180it [4:07:43, 11.61s/it]\u001b[A\u001b[A"
          ]
        },
        {
          "output_type": "stream",
          "name": "stdout",
          "text": [
            "Epoch 294 Training Accuracy: tensor(1.)\n",
            "Testing Accuracy: tensor(0.9355)\n"
          ]
        },
        {
          "output_type": "stream",
          "name": "stderr",
          "text": [
            "\n",
            "\n",
            "Epoch: 294 | Batch: 3 | Loss 0.0064786747097969055: 1181it [4:07:57, 12.38s/it]\u001b[A\u001b[A\n",
            "\n",
            "Epoch: 295 | Batch: 0 | Loss 0.01782500557601452: 1181it [4:07:57, 12.38s/it]  \u001b[A\u001b[A\n",
            "\n",
            "Epoch: 295 | Batch: 0 | Loss 0.01782500557601452: 1182it [4:08:10, 12.57s/it]\u001b[A\u001b[A\n",
            "\n",
            "Epoch: 295 | Batch: 1 | Loss 0.014622675254940987: 1182it [4:08:10, 12.57s/it]\u001b[A\u001b[A\n",
            "\n",
            "Epoch: 295 | Batch: 1 | Loss 0.014622675254940987: 1183it [4:08:23, 12.73s/it]\u001b[A\u001b[A\n",
            "\n",
            "Epoch: 295 | Batch: 2 | Loss 0.015871908515691757: 1183it [4:08:23, 12.73s/it]\u001b[A\u001b[A\n",
            "\n",
            "Epoch: 295 | Batch: 2 | Loss 0.015871908515691757: 1184it [4:08:33, 11.84s/it]\u001b[A\u001b[A\n",
            "\n",
            "Epoch: 295 | Batch: 3 | Loss 0.00556421373039484: 1184it [4:08:33, 11.84s/it] \u001b[A\u001b[A"
          ]
        },
        {
          "output_type": "stream",
          "name": "stdout",
          "text": [
            "Epoch 295 Training Accuracy: tensor(1.)\n",
            "Testing Accuracy: tensor(0.9355)\n"
          ]
        },
        {
          "output_type": "stream",
          "name": "stderr",
          "text": [
            "\n",
            "\n",
            "Epoch: 295 | Batch: 3 | Loss 0.00556421373039484: 1185it [4:08:47, 12.69s/it]\u001b[A\u001b[A\n",
            "\n",
            "Epoch: 296 | Batch: 0 | Loss 0.013093402609229088: 1185it [4:08:47, 12.69s/it]\u001b[A\u001b[A\n",
            "\n",
            "Epoch: 296 | Batch: 0 | Loss 0.013093402609229088: 1186it [4:09:00, 12.72s/it]\u001b[A\u001b[A\n",
            "\n",
            "Epoch: 296 | Batch: 1 | Loss 0.011953840032219887: 1186it [4:09:00, 12.72s/it]\u001b[A\u001b[A\n",
            "\n",
            "Epoch: 296 | Batch: 1 | Loss 0.011953840032219887: 1187it [4:09:14, 12.99s/it]\u001b[A\u001b[A\n",
            "\n",
            "Epoch: 296 | Batch: 2 | Loss 0.015559770166873932: 1187it [4:09:14, 12.99s/it]\u001b[A\u001b[A\n",
            "\n",
            "Epoch: 296 | Batch: 2 | Loss 0.015559770166873932: 1188it [4:09:22, 11.48s/it]\u001b[A\u001b[A\n",
            "\n",
            "Epoch: 296 | Batch: 3 | Loss 0.011132813058793545: 1188it [4:09:22, 11.48s/it]\u001b[A\u001b[A"
          ]
        },
        {
          "output_type": "stream",
          "name": "stdout",
          "text": [
            "Epoch 296 Training Accuracy: tensor(1.)\n",
            "Testing Accuracy: tensor(0.9355)\n"
          ]
        },
        {
          "output_type": "stream",
          "name": "stderr",
          "text": [
            "\n",
            "\n",
            "Epoch: 296 | Batch: 3 | Loss 0.011132813058793545: 1189it [4:09:35, 12.09s/it]\u001b[A\u001b[A\n",
            "\n",
            "Epoch: 297 | Batch: 0 | Loss 0.014089720323681831: 1189it [4:09:35, 12.09s/it]\u001b[A\u001b[A\n",
            "\n",
            "Epoch: 297 | Batch: 0 | Loss 0.014089720323681831: 1190it [4:09:51, 13.21s/it]\u001b[A\u001b[A\n",
            "\n",
            "Epoch: 297 | Batch: 1 | Loss 0.01727798767387867: 1190it [4:09:51, 13.21s/it] \u001b[A\u001b[A\n",
            "\n",
            "Epoch: 297 | Batch: 1 | Loss 0.01727798767387867: 1191it [4:10:04, 13.14s/it]\u001b[A\u001b[A\n",
            "\n",
            "Epoch: 297 | Batch: 2 | Loss 0.014543021097779274: 1191it [4:10:04, 13.14s/it]\u001b[A\u001b[A\n",
            "\n",
            "Epoch: 297 | Batch: 2 | Loss 0.014543021097779274: 1192it [4:10:13, 11.88s/it]\u001b[A\u001b[A\n",
            "\n",
            "Epoch: 297 | Batch: 3 | Loss 0.0062803165055811405: 1192it [4:10:13, 11.88s/it]\u001b[A\u001b[A"
          ]
        },
        {
          "output_type": "stream",
          "name": "stdout",
          "text": [
            "Epoch 297 Training Accuracy: tensor(1.)\n",
            "Testing Accuracy: tensor(0.9355)\n"
          ]
        },
        {
          "output_type": "stream",
          "name": "stderr",
          "text": [
            "\n",
            "\n",
            "Epoch: 297 | Batch: 3 | Loss 0.0062803165055811405: 1193it [4:10:28, 12.85s/it]\u001b[A\u001b[A\n",
            "\n",
            "Epoch: 298 | Batch: 0 | Loss 0.011844382621347904: 1193it [4:10:28, 12.85s/it] \u001b[A\u001b[A\n",
            "\n",
            "Epoch: 298 | Batch: 0 | Loss 0.011844382621347904: 1194it [4:10:41, 12.93s/it]\u001b[A\u001b[A\n",
            "\n",
            "Epoch: 298 | Batch: 1 | Loss 0.01591404899954796: 1194it [4:10:41, 12.93s/it] \u001b[A\u001b[A\n",
            "\n",
            "Epoch: 298 | Batch: 1 | Loss 0.01591404899954796: 1195it [4:10:54, 12.84s/it]\u001b[A\u001b[A\n",
            "\n",
            "Epoch: 298 | Batch: 2 | Loss 0.015852270647883415: 1195it [4:10:54, 12.84s/it]\u001b[A\u001b[A\n",
            "\n",
            "Epoch: 298 | Batch: 2 | Loss 0.015852270647883415: 1196it [4:11:03, 11.86s/it]\u001b[A\u001b[A\n",
            "\n",
            "Epoch: 298 | Batch: 3 | Loss 0.0078068748116493225: 1196it [4:11:03, 11.86s/it]\u001b[A\u001b[A"
          ]
        },
        {
          "output_type": "stream",
          "name": "stdout",
          "text": [
            "Epoch 298 Training Accuracy: tensor(1.)\n",
            "Testing Accuracy: tensor(0.9355)\n"
          ]
        },
        {
          "output_type": "stream",
          "name": "stderr",
          "text": [
            "\n",
            "\n",
            "Epoch: 298 | Batch: 3 | Loss 0.0078068748116493225: 1197it [4:11:18, 12.67s/it]\u001b[A\u001b[A\n",
            "\n",
            "Epoch: 299 | Batch: 0 | Loss 0.01249992847442627: 1197it [4:11:18, 12.67s/it]  \u001b[A\u001b[A\n",
            "\n",
            "Epoch: 299 | Batch: 0 | Loss 0.01249992847442627: 1198it [4:11:31, 12.77s/it]\u001b[A\u001b[A\n",
            "\n",
            "Epoch: 299 | Batch: 1 | Loss 0.01756807044148445: 1198it [4:11:31, 12.77s/it]\u001b[A\u001b[A\n",
            "\n",
            "Epoch: 299 | Batch: 1 | Loss 0.01756807044148445: 1199it [4:11:45, 13.14s/it]\u001b[A\u001b[A\n",
            "\n",
            "Epoch: 299 | Batch: 2 | Loss 0.017040347680449486: 1199it [4:11:45, 13.14s/it]\u001b[A\u001b[A\n",
            "\n",
            "Epoch: 299 | Batch: 2 | Loss 0.017040347680449486: 1200it [4:11:53, 11.57s/it]\u001b[A\u001b[A\n",
            "\n",
            "Epoch: 299 | Batch: 3 | Loss 0.0054497565142810345: 1200it [4:11:53, 11.57s/it]\u001b[A\u001b[A"
          ]
        },
        {
          "output_type": "stream",
          "name": "stdout",
          "text": [
            "Epoch 299 Training Accuracy: tensor(1.)\n"
          ]
        },
        {
          "output_type": "stream",
          "name": "stderr",
          "text": [
            "\rEpoch: 299 | Batch: 3 | Loss 0.0054497565142810345: 1200it [4:11:54, 12.60s/it]"
          ]
        },
        {
          "output_type": "stream",
          "name": "stdout",
          "text": [
            "Testing Accuracy: tensor(0.9355)\n"
          ]
        },
        {
          "output_type": "stream",
          "name": "stderr",
          "text": [
            "\n"
          ]
        }
      ]
    },
    {
      "cell_type": "code",
      "source": [
        "preds = []\n",
        "labels = []\n",
        "pbar = tqdm(total=len(rp_testloader), leave=True)\n",
        "device = torch.device(\"cuda\" if torch.cuda.is_available() else \"cpu\")\n",
        "model_2.eval()\n",
        "model_2.to(device)\n",
        "for batch, (feature, label) in enumerate(rp_testloader):\n",
        "  feature, label = feature.to(device), label.to(device)\n",
        "  with torch.no_grad():\n",
        "    predictions = model_2(feature)\n",
        "    preds.append(predictions.cpu().numpy())\n",
        "    labels.append(label.cpu().numpy())\n",
        "  pbar.update()\n",
        "  pbar.desc = f\"Batch: {batch}\"\n",
        "  pbar.refresh()\n",
        "pbar.close()\n",
        "preds = torch.tensor(preds).ravel()\n",
        "# preds = np.array([1 if pred>=0.5 else 0 for pred in preds])\n",
        "labels = torch.tensor(labels).ravel()\n",
        "#acc = (preds == labels).sum() / len(preds)\n",
        "acc =binary_accuracy(preds, labels)\n",
        "print(acc)"
      ],
      "metadata": {
        "colab": {
          "base_uri": "https://localhost:8080/"
        },
        "id": "_KljXFtM9-61",
        "outputId": "02fce112-a1bf-4109-b4aa-6c25aa8d0622"
      },
      "execution_count": 58,
      "outputs": [
        {
          "output_type": "stream",
          "name": "stderr",
          "text": [
            "Batch: 0: 100%|██████████| 1/1 [00:01<00:00,  1.01s/it]"
          ]
        },
        {
          "output_type": "stream",
          "name": "stdout",
          "text": [
            "tensor(0.9355)\n"
          ]
        },
        {
          "output_type": "stream",
          "name": "stderr",
          "text": [
            "\n"
          ]
        }
      ]
    },
    {
      "cell_type": "code",
      "source": [],
      "metadata": {
        "id": "NEu5vBT0-D1m"
      },
      "execution_count": null,
      "outputs": []
    }
  ],
  "metadata": {
    "colab": {
      "provenance": []
    },
    "gpuClass": "standard",
    "kernelspec": {
      "display_name": "Python 3",
      "name": "python3"
    },
    "language_info": {
      "name": "python"
    }
  },
  "nbformat": 4,
  "nbformat_minor": 0
}